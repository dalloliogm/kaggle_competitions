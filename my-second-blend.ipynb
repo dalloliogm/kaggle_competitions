{
 "cells": [
  {
   "cell_type": "markdown",
   "id": "35e2d6f8",
   "metadata": {
    "papermill": {
     "duration": 0.002141,
     "end_time": "2025-06-05T15:19:08.267747",
     "exception": false,
     "start_time": "2025-06-05T15:19:08.265606",
     "status": "completed"
    },
    "tags": []
   },
   "source": [
    "Hello, I just recently started...\n",
    "\n",
    "If you like my short works, please give me a vote. .I would be very grateful.\n",
    "\n",
    "And if it is not too much trouble, look at [my three works](https://www.kaggle.com/competitions/connectx/code), each of which is [1 line of code](https://www.kaggle.com/code/nina2025/agent-3x3-one-line-of-code-vs-negamax). Thank you."
   ]
  },
  {
   "cell_type": "code",
   "execution_count": 1,
   "id": "2202a994",
   "metadata": {
    "execution": {
     "iopub.execute_input": "2025-06-05T15:19:08.272795Z",
     "iopub.status.busy": "2025-06-05T15:19:08.272376Z",
     "iopub.status.idle": "2025-06-05T15:19:11.485116Z",
     "shell.execute_reply": "2025-06-05T15:19:11.484224Z"
    },
    "papermill": {
     "duration": 3.217163,
     "end_time": "2025-06-05T15:19:11.486833",
     "exception": false,
     "start_time": "2025-06-05T15:19:08.269670",
     "status": "completed"
    },
    "tags": []
   },
   "outputs": [
    {
     "data": {
      "text/html": [
       "<div>\n",
       "<style scoped>\n",
       "    .dataframe tbody tr th:only-of-type {\n",
       "        vertical-align: middle;\n",
       "    }\n",
       "\n",
       "    .dataframe tbody tr th {\n",
       "        vertical-align: top;\n",
       "    }\n",
       "\n",
       "    .dataframe thead th {\n",
       "        text-align: right;\n",
       "    }\n",
       "</style>\n",
       "<table border=\"1\" class=\"dataframe\">\n",
       "  <thead>\n",
       "    <tr style=\"text-align: right;\">\n",
       "      <th></th>\n",
       "      <th>id</th>\n",
       "      <th>Fertilizer Name</th>\n",
       "    </tr>\n",
       "  </thead>\n",
       "  <tbody>\n",
       "    <tr>\n",
       "      <th>0</th>\n",
       "      <td>750000</td>\n",
       "      <td>10-26-26 20-20 DAP</td>\n",
       "    </tr>\n",
       "    <tr>\n",
       "      <th>1</th>\n",
       "      <td>750001</td>\n",
       "      <td>17-17-17 10-26-26 20-20</td>\n",
       "    </tr>\n",
       "    <tr>\n",
       "      <th>2</th>\n",
       "      <td>750002</td>\n",
       "      <td>20-20 28-28 Urea</td>\n",
       "    </tr>\n",
       "    <tr>\n",
       "      <th>3</th>\n",
       "      <td>750003</td>\n",
       "      <td>14-35-14 DAP 17-17-17</td>\n",
       "    </tr>\n",
       "    <tr>\n",
       "      <th>4</th>\n",
       "      <td>750004</td>\n",
       "      <td>20-20 Urea 10-26-26</td>\n",
       "    </tr>\n",
       "    <tr>\n",
       "      <th>...</th>\n",
       "      <td>...</td>\n",
       "      <td>...</td>\n",
       "    </tr>\n",
       "    <tr>\n",
       "      <th>249995</th>\n",
       "      <td>999995</td>\n",
       "      <td>Urea 28-28 14-35-14</td>\n",
       "    </tr>\n",
       "    <tr>\n",
       "      <th>249996</th>\n",
       "      <td>999996</td>\n",
       "      <td>17-17-17 28-28 10-26-26</td>\n",
       "    </tr>\n",
       "    <tr>\n",
       "      <th>249997</th>\n",
       "      <td>999997</td>\n",
       "      <td>DAP 10-26-26 Urea</td>\n",
       "    </tr>\n",
       "    <tr>\n",
       "      <th>249998</th>\n",
       "      <td>999998</td>\n",
       "      <td>10-26-26 28-28 17-17-17</td>\n",
       "    </tr>\n",
       "    <tr>\n",
       "      <th>249999</th>\n",
       "      <td>999999</td>\n",
       "      <td>14-35-14 20-20 10-26-26</td>\n",
       "    </tr>\n",
       "  </tbody>\n",
       "</table>\n",
       "<p>250000 rows × 2 columns</p>\n",
       "</div>"
      ],
      "text/plain": [
       "            id          Fertilizer Name\n",
       "0       750000       10-26-26 20-20 DAP\n",
       "1       750001  17-17-17 10-26-26 20-20\n",
       "2       750002         20-20 28-28 Urea\n",
       "3       750003    14-35-14 DAP 17-17-17\n",
       "4       750004      20-20 Urea 10-26-26\n",
       "...        ...                      ...\n",
       "249995  999995      Urea 28-28 14-35-14\n",
       "249996  999996  17-17-17 28-28 10-26-26\n",
       "249997  999997        DAP 10-26-26 Urea\n",
       "249998  999998  10-26-26 28-28 17-17-17\n",
       "249999  999999  14-35-14 20-20 10-26-26\n",
       "\n",
       "[250000 rows x 2 columns]"
      ]
     },
     "execution_count": 1,
     "metadata": {},
     "output_type": "execute_result"
    }
   ],
   "source": [
    "import pandas as pd\n",
    "\n",
    "A = pd.read_csv('/kaggle/input/xgb-triple-ensemble-map-3-opt-no-fe-v1/submission.csv')\n",
    "B = pd.read_csv('/kaggle/input/optimal-fertilizers-xgb/submission.csv')\n",
    "\n",
    "A,B = A.iloc[0:125_000],B.iloc[125_000:250_001]\n",
    "\n",
    "C = pd.concat([A,B],axis=0)\n",
    "\n",
    "D = pd.read_csv('/kaggle/input/s05e06-fertilizer-optimization-ensemble/sub_logistic-regression_0.366356.csv')\n",
    "\n",
    "D,C = D.iloc[0:125_000],C.iloc[125_000:250_001]\n",
    "\n",
    "df = pd.concat([D,C],axis=0)\n",
    "\n",
    "df.to_csv('submission.csv',index=False)\n",
    "\n",
    "df"
   ]
  }
 ],
 "metadata": {
  "kaggle": {
   "accelerator": "none",
   "dataSources": [
    {
     "databundleVersionId": 12184666,
     "sourceId": 91717,
     "sourceType": "competition"
    },
    {
     "sourceId": 243616942,
     "sourceType": "kernelVersion"
    },
    {
     "sourceId": 243625515,
     "sourceType": "kernelVersion"
    },
    {
     "sourceId": 243750478,
     "sourceType": "kernelVersion"
    }
   ],
   "dockerImageVersionId": 31040,
   "isGpuEnabled": false,
   "isInternetEnabled": true,
   "language": "python",
   "sourceType": "notebook"
  },
  "kernelspec": {
   "display_name": "Python 3",
   "language": "python",
   "name": "python3"
  },
  "language_info": {
   "codemirror_mode": {
    "name": "ipython",
    "version": 3
   },
   "file_extension": ".py",
   "mimetype": "text/x-python",
   "name": "python",
   "nbconvert_exporter": "python",
   "pygments_lexer": "ipython3",
   "version": "3.11.11"
  },
  "papermill": {
   "default_parameters": {},
   "duration": 9.138898,
   "end_time": "2025-06-05T15:19:12.007999",
   "environment_variables": {},
   "exception": null,
   "input_path": "__notebook__.ipynb",
   "output_path": "__notebook__.ipynb",
   "parameters": {},
   "start_time": "2025-06-05T15:19:02.869101",
   "version": "2.6.0"
  }
 },
 "nbformat": 4,
 "nbformat_minor": 5
}
