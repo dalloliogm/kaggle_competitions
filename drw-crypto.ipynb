{
 "cells": [
  {
   "cell_type": "markdown",
   "id": "3796ed40",
   "metadata": {
    "papermill": {
     "duration": 0.002822,
     "end_time": "2025-06-08T17:43:02.505888",
     "exception": false,
     "start_time": "2025-06-08T17:43:02.503066",
     "status": "completed"
    },
    "tags": []
   },
   "source": [
    "Top 5 public notebook - 07.06.2025 - their average - LB = 0.10727\n",
    "\n",
    "- 0.10490 - v21 - [DRW_LightGBM_Fold](https://www.kaggle.com/code/yangq369/drw-lightgbm-fold) - [Yallon](https://www.kaggle.com/yangq369)\n",
    "- 0.10001 - v03 - [DRW Remix V - MWDH](https://www.kaggle.com/code/migrantworkerdatahub/drw-remix-v-mwdh) - [Migrant Worker Data Hub](https://www.kaggle.com/migrantworkerdatahub)\n",
    "- 0.10274 - v02 - [DRW Remix V - MWDH - Feature Addition](https://www.kaggle.com/code/jasongou/drw-remix-v-mwdh-feature-addition) - [Jason Gou](https://www.kaggle.com/jasongou)\n",
    "- 0.10273 - v16 - [20250531_DRW](https://www.kaggle.com/code/elainedazzio/20250531-drw) - [L. Elaine Dazzio](https://www.kaggle.com/elainedazzio)\n",
    "- 0.10192 - v01 - [DRW Remix V](https://www.kaggle.com/code/taylorsamarel/drw-remix-v) - [Taylor S. Amarel](https://www.kaggle.com/taylorsamarel)"
   ]
  },
  {
   "cell_type": "code",
   "execution_count": 1,
   "id": "55cd358b",
   "metadata": {
    "execution": {
     "iopub.execute_input": "2025-06-08T17:43:02.511430Z",
     "iopub.status.busy": "2025-06-08T17:43:02.510511Z",
     "iopub.status.idle": "2025-06-08T17:43:06.393175Z",
     "shell.execute_reply": "2025-06-08T17:43:06.392293Z"
    },
    "papermill": {
     "duration": 3.886956,
     "end_time": "2025-06-08T17:43:06.394744",
     "exception": false,
     "start_time": "2025-06-08T17:43:02.507788",
     "status": "completed"
    },
    "tags": []
   },
   "outputs": [
    {
     "data": {
      "text/html": [
       "<div>\n",
       "<style scoped>\n",
       "    .dataframe tbody tr th:only-of-type {\n",
       "        vertical-align: middle;\n",
       "    }\n",
       "\n",
       "    .dataframe tbody tr th {\n",
       "        vertical-align: top;\n",
       "    }\n",
       "\n",
       "    .dataframe thead th {\n",
       "        text-align: right;\n",
       "    }\n",
       "</style>\n",
       "<table border=\"1\" class=\"dataframe\">\n",
       "  <thead>\n",
       "    <tr style=\"text-align: right;\">\n",
       "      <th></th>\n",
       "      <th>ID</th>\n",
       "      <th>prediction</th>\n",
       "    </tr>\n",
       "  </thead>\n",
       "  <tbody>\n",
       "    <tr>\n",
       "      <th>0</th>\n",
       "      <td>1</td>\n",
       "      <td>0.157204</td>\n",
       "    </tr>\n",
       "    <tr>\n",
       "      <th>1</th>\n",
       "      <td>2</td>\n",
       "      <td>0.154597</td>\n",
       "    </tr>\n",
       "    <tr>\n",
       "      <th>2</th>\n",
       "      <td>3</td>\n",
       "      <td>0.144728</td>\n",
       "    </tr>\n",
       "    <tr>\n",
       "      <th>3</th>\n",
       "      <td>4</td>\n",
       "      <td>-0.018233</td>\n",
       "    </tr>\n",
       "    <tr>\n",
       "      <th>4</th>\n",
       "      <td>5</td>\n",
       "      <td>0.166497</td>\n",
       "    </tr>\n",
       "    <tr>\n",
       "      <th>...</th>\n",
       "      <td>...</td>\n",
       "      <td>...</td>\n",
       "    </tr>\n",
       "    <tr>\n",
       "      <th>538145</th>\n",
       "      <td>538146</td>\n",
       "      <td>-0.014566</td>\n",
       "    </tr>\n",
       "    <tr>\n",
       "      <th>538146</th>\n",
       "      <td>538147</td>\n",
       "      <td>-0.281108</td>\n",
       "    </tr>\n",
       "    <tr>\n",
       "      <th>538147</th>\n",
       "      <td>538148</td>\n",
       "      <td>0.036072</td>\n",
       "    </tr>\n",
       "    <tr>\n",
       "      <th>538148</th>\n",
       "      <td>538149</td>\n",
       "      <td>0.068257</td>\n",
       "    </tr>\n",
       "    <tr>\n",
       "      <th>538149</th>\n",
       "      <td>538150</td>\n",
       "      <td>0.155944</td>\n",
       "    </tr>\n",
       "  </tbody>\n",
       "</table>\n",
       "<p>538150 rows × 2 columns</p>\n",
       "</div>"
      ],
      "text/plain": [
       "            ID  prediction\n",
       "0            1    0.157204\n",
       "1            2    0.154597\n",
       "2            3    0.144728\n",
       "3            4   -0.018233\n",
       "4            5    0.166497\n",
       "...        ...         ...\n",
       "538145  538146   -0.014566\n",
       "538146  538147   -0.281108\n",
       "538147  538148    0.036072\n",
       "538148  538149    0.068257\n",
       "538149  538150    0.155944\n",
       "\n",
       "[538150 rows x 2 columns]"
      ]
     },
     "execution_count": 1,
     "metadata": {},
     "output_type": "execute_result"
    }
   ],
   "source": [
    "import pandas as pd\n",
    "\n",
    "df = pd.read_csv('/kaggle/input/drw-quatro-2/submission.csv')\n",
    "df.to_csv(\"submission.csv\", index=False)\n",
    "df"
   ]
  }
 ],
 "metadata": {
  "kaggle": {
   "accelerator": "none",
   "dataSources": [
    {
     "databundleVersionId": 11418275,
     "sourceId": 96164,
     "sourceType": "competition"
    },
    {
     "datasetId": 7610337,
     "sourceId": 12089324,
     "sourceType": "datasetVersion"
    }
   ],
   "dockerImageVersionId": 31040,
   "isGpuEnabled": false,
   "isInternetEnabled": true,
   "language": "python",
   "sourceType": "notebook"
  },
  "kernelspec": {
   "display_name": "Python 3",
   "language": "python",
   "name": "python3"
  },
  "language_info": {
   "codemirror_mode": {
    "name": "ipython",
    "version": 3
   },
   "file_extension": ".py",
   "mimetype": "text/x-python",
   "name": "python",
   "nbconvert_exporter": "python",
   "pygments_lexer": "ipython3",
   "version": "3.11.11"
  },
  "papermill": {
   "default_parameters": {},
   "duration": 9.529392,
   "end_time": "2025-06-08T17:43:06.919207",
   "environment_variables": {},
   "exception": null,
   "input_path": "__notebook__.ipynb",
   "output_path": "__notebook__.ipynb",
   "parameters": {},
   "start_time": "2025-06-08T17:42:57.389815",
   "version": "2.6.0"
  }
 },
 "nbformat": 4,
 "nbformat_minor": 5
}
