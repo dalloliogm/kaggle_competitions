{
 "cells": [
  {
   "cell_type": "code",
   "execution_count": 1,
   "id": "ff3b8d9a",
   "metadata": {
    "execution": {
     "iopub.execute_input": "2025-06-14T21:58:50.437691Z",
     "iopub.status.busy": "2025-06-14T21:58:50.437367Z",
     "iopub.status.idle": "2025-06-14T21:58:51.475796Z",
     "shell.execute_reply": "2025-06-14T21:58:51.474725Z"
    },
    "papermill": {
     "duration": 1.044497,
     "end_time": "2025-06-14T21:58:51.477561",
     "exception": false,
     "start_time": "2025-06-14T21:58:50.433064",
     "status": "completed"
    },
    "tags": []
   },
   "outputs": [
    {
     "name": "stdout",
     "output_type": "stream",
     "text": [
      "Traceback (most recent call last):\r\n",
      "  File \"/usr/local/bin/kaggle\", line 4, in <module>\r\n",
      "    from kaggle.cli import main\r\n",
      "  File \"/usr/local/lib/python3.11/dist-packages/kaggle/__init__.py\", line 6, in <module>\r\n",
      "    api.authenticate()\r\n",
      "  File \"/usr/local/lib/python3.11/dist-packages/kaggle/api/kaggle_api_extended.py\", line 433, in authenticate\r\n",
      "    raise IOError('Could not find {}. Make sure it\\'s located in'\r\n",
      "OSError: Could not find kaggle.json. Make sure it's located in /root/.config/kaggle. Or use the environment method. See setup instructions at https://github.com/Kaggle/kaggle-api/\r\n"
     ]
    }
   ],
   "source": [
    "!kaggle competitions download -c playground-series-s5e6"
   ]
  },
  {
   "cell_type": "markdown",
   "id": "98bb6c74",
   "metadata": {
    "papermill": {
     "duration": 0.00234,
     "end_time": "2025-06-14T21:58:51.483073",
     "exception": false,
     "start_time": "2025-06-14T21:58:51.480733",
     "status": "completed"
    },
    "tags": []
   },
   "source": [
    "# **1. Setup & Data Loading**"
   ]
  },
  {
   "cell_type": "code",
   "execution_count": 2,
   "id": "5ce51519",
   "metadata": {
    "_cell_guid": "b1076dfc-b9ad-4769-8c92-a6c4dae69d19",
    "_uuid": "8f2839f25d086af736a60e9eeb907d3b93b6e0e5",
    "execution": {
     "iopub.execute_input": "2025-06-14T21:58:51.490357Z",
     "iopub.status.busy": "2025-06-14T21:58:51.489507Z",
     "iopub.status.idle": "2025-06-14T21:58:57.142087Z",
     "shell.execute_reply": "2025-06-14T21:58:57.140942Z"
    },
    "papermill": {
     "duration": 5.658386,
     "end_time": "2025-06-14T21:58:57.144059",
     "exception": false,
     "start_time": "2025-06-14T21:58:51.485673",
     "status": "completed"
    },
    "tags": []
   },
   "outputs": [
    {
     "name": "stdout",
     "output_type": "stream",
     "text": [
      "Loading data...\n",
      "Train shape: (750000, 10)\n",
      "Test shape: (250000, 9)\n"
     ]
    }
   ],
   "source": [
    "# Import libraries\n",
    "import numpy as np\n",
    "import pandas as pd\n",
    "from sklearn.ensemble import RandomForestClassifier, HistGradientBoostingClassifier\n",
    "from sklearn.linear_model import LogisticRegression\n",
    "from sklearn.model_selection import StratifiedKFold\n",
    "from sklearn.preprocessing import OneHotEncoder, StandardScaler, LabelEncoder\n",
    "from sklearn.compose import ColumnTransformer\n",
    "from sklearn.pipeline import Pipeline\n",
    "from sklearn.metrics import top_k_accuracy_score\n",
    "from sklearn.base import clone\n",
    "import os\n",
    "\n",
    "# Custom MAP@3 metric\n",
    "def mapk(y_true, y_pred, k=3):\n",
    "    ap = []\n",
    "    for true, pred in zip(y_true, y_pred):\n",
    "        score = 0.0\n",
    "        num_hits = 0.0\n",
    "        \n",
    "        for i, p in enumerate(pred[:k]):\n",
    "            if p == true:\n",
    "                num_hits += 1.0\n",
    "                score += num_hits / (i + 1.0)\n",
    "        \n",
    "        ap.append(score / min(len(pred), k))\n",
    "    return np.mean(ap)\n",
    "\n",
    "# Load data\n",
    "print(\"Loading data...\")\n",
    "train_df = pd.read_csv(\"/kaggle/input/playground-series-s5e6/train.csv\")\n",
    "test_df = pd.read_csv(\"/kaggle/input/playground-series-s5e6/test.csv\")\n",
    "\n",
    "print(\"Train shape:\", train_df.shape)\n",
    "print(\"Test shape:\", test_df.shape)"
   ]
  },
  {
   "cell_type": "markdown",
   "id": "a0e2b274",
   "metadata": {
    "papermill": {
     "duration": 0.002858,
     "end_time": "2025-06-14T21:58:57.151091",
     "exception": false,
     "start_time": "2025-06-14T21:58:57.148233",
     "status": "completed"
    },
    "tags": []
   },
   "source": [
    "# **2. Feature Engineering & Preprocessing**"
   ]
  },
  {
   "cell_type": "code",
   "execution_count": 3,
   "id": "78b8f84c",
   "metadata": {
    "execution": {
     "iopub.execute_input": "2025-06-14T21:58:57.157693Z",
     "iopub.status.busy": "2025-06-14T21:58:57.157153Z",
     "iopub.status.idle": "2025-06-14T21:58:57.331190Z",
     "shell.execute_reply": "2025-06-14T21:58:57.329957Z"
    },
    "papermill": {
     "duration": 0.179083,
     "end_time": "2025-06-14T21:58:57.332738",
     "exception": false,
     "start_time": "2025-06-14T21:58:57.153655",
     "status": "completed"
    },
    "tags": []
   },
   "outputs": [
    {
     "name": "stdout",
     "output_type": "stream",
     "text": [
      "\n",
      "Identified features:\n",
      "Categorical: ['Soil Type', 'Crop Type']\n",
      "Numeric: ['Temparature', 'Humidity', 'Moisture', 'Nitrogen', 'Potassium', 'Phosphorous']\n"
     ]
    }
   ],
   "source": [
    "# Identify features\n",
    "target_column = 'Fertilizer Name'\n",
    "categorical_features = ['Soil Type', 'Crop Type']\n",
    "numeric_features = [col for col in train_df.columns \n",
    "                   if col not in categorical_features + [target_column, 'id'] \n",
    "                   and pd.api.types.is_numeric_dtype(train_df[col])]\n",
    "\n",
    "print(\"\\nIdentified features:\")\n",
    "print(\"Categorical:\", categorical_features)\n",
    "print(\"Numeric:\", numeric_features)\n",
    "\n",
    "# Prepare data\n",
    "X_train = train_df[categorical_features + numeric_features]\n",
    "y_train = train_df[target_column]\n",
    "X_test = test_df[categorical_features + numeric_features]\n",
    "\n",
    "# Encode target\n",
    "le = LabelEncoder()\n",
    "y_encoded = le.fit_transform(y_train)\n",
    "\n",
    "# Preprocessing pipeline\n",
    "preprocessor = ColumnTransformer([\n",
    "    ('cat', OneHotEncoder(handle_unknown='ignore'), categorical_features),\n",
    "    ('num', StandardScaler(), numeric_features)\n",
    "])"
   ]
  },
  {
   "cell_type": "markdown",
   "id": "e735d555",
   "metadata": {
    "papermill": {
     "duration": 0.002546,
     "end_time": "2025-06-14T21:58:57.338200",
     "exception": false,
     "start_time": "2025-06-14T21:58:57.335654",
     "status": "completed"
    },
    "tags": []
   },
   "source": [
    "# **3. Model Training (Level 1: Base Models)**"
   ]
  },
  {
   "cell_type": "code",
   "execution_count": 4,
   "id": "26cc07a4",
   "metadata": {
    "execution": {
     "iopub.execute_input": "2025-06-14T21:58:57.345187Z",
     "iopub.status.busy": "2025-06-14T21:58:57.344835Z",
     "iopub.status.idle": "2025-06-14T22:04:06.421343Z",
     "shell.execute_reply": "2025-06-14T22:04:06.420324Z"
    },
    "papermill": {
     "duration": 309.082258,
     "end_time": "2025-06-14T22:04:06.423164",
     "exception": false,
     "start_time": "2025-06-14T21:58:57.340906",
     "status": "completed"
    },
    "tags": []
   },
   "outputs": [
    {
     "name": "stdout",
     "output_type": "stream",
     "text": [
      "\n",
      "Training Level 1 models...\n",
      "\n",
      "Fold 1\n",
      "Training Random Forest...\n",
      "Training HistGradientBoosting...\n",
      "\n",
      "Fold 2\n",
      "Training Random Forest...\n",
      "Training HistGradientBoosting...\n",
      "\n",
      "Fold 3\n",
      "Training Random Forest...\n",
      "Training HistGradientBoosting...\n"
     ]
    }
   ],
   "source": [
    "# Random Forest Pipeline\n",
    "rf_model = Pipeline(steps=[\n",
    "    ('preprocessor', preprocessor),\n",
    "    ('classifier', RandomForestClassifier(\n",
    "        n_estimators=150,\n",
    "        max_depth=10,\n",
    "        random_state=42,\n",
    "        n_jobs=-1))\n",
    "])\n",
    "\n",
    "# HistGradientBoosting Pipeline\n",
    "histgbt_model = Pipeline(steps=[\n",
    "    ('preprocessor', preprocessor),\n",
    "    ('classifier', HistGradientBoostingClassifier(\n",
    "        max_iter=150,\n",
    "        random_state=42))\n",
    "])\n",
    "\n",
    "# Cross-validation setup\n",
    "kf = StratifiedKFold(n_splits=3, shuffle=True, random_state=42)\n",
    "\n",
    "# Storage for predictions\n",
    "rf_models = []\n",
    "rf_val_preds = np.zeros((len(X_train), len(le.classes_)))\n",
    "histgbt_models = []\n",
    "histgbt_val_preds = np.zeros((len(X_train), len(le.classes_)))\n",
    "\n",
    "print(\"\\nTraining Level 1 models...\")\n",
    "for fold, (train_idx, val_idx) in enumerate(kf.split(X_train, y_encoded), 1):\n",
    "    print(f\"\\nFold {fold}\")\n",
    "    \n",
    "    X_train_fold, X_val_fold = X_train.iloc[train_idx], X_train.iloc[val_idx]\n",
    "    y_train_fold, y_val_fold = y_encoded[train_idx], y_encoded[val_idx]\n",
    "    \n",
    "    # Train Random Forest\n",
    "    print(\"Training Random Forest...\")\n",
    "    rf_model_fold = clone(rf_model)\n",
    "    rf_model_fold.fit(X_train_fold, y_train_fold)\n",
    "    rf_models.append(rf_model_fold)\n",
    "    rf_val_preds[val_idx] = rf_model_fold.predict_proba(X_val_fold)\n",
    "    \n",
    "    # Train HistGradientBoosting\n",
    "    print(\"Training HistGradientBoosting...\")\n",
    "    histgbt_model_fold = clone(histgbt_model)\n",
    "    histgbt_model_fold.fit(X_train_fold, y_train_fold)\n",
    "    histgbt_models.append(histgbt_model_fold)\n",
    "    histgbt_val_preds[val_idx] = histgbt_model_fold.predict_proba(X_val_fold)"
   ]
  },
  {
   "cell_type": "markdown",
   "id": "c3acf275",
   "metadata": {
    "papermill": {
     "duration": 0.002966,
     "end_time": "2025-06-14T22:04:06.429573",
     "exception": false,
     "start_time": "2025-06-14T22:04:06.426607",
     "status": "completed"
    },
    "tags": []
   },
   "source": [
    "# **4. Meta-Model Training (Level 2: Stacking)**"
   ]
  },
  {
   "cell_type": "code",
   "execution_count": 5,
   "id": "3f273c15",
   "metadata": {
    "execution": {
     "iopub.execute_input": "2025-06-14T22:04:06.437053Z",
     "iopub.status.busy": "2025-06-14T22:04:06.436743Z",
     "iopub.status.idle": "2025-06-14T22:04:48.862885Z",
     "shell.execute_reply": "2025-06-14T22:04:48.861910Z"
    },
    "papermill": {
     "duration": 42.434318,
     "end_time": "2025-06-14T22:04:48.867095",
     "exception": false,
     "start_time": "2025-06-14T22:04:06.432777",
     "status": "completed"
    },
    "tags": []
   },
   "outputs": [
    {
     "name": "stdout",
     "output_type": "stream",
     "text": [
      "\n",
      "Training Meta-Model (Logistic Regression)...\n",
      "Meta-Fold 1\n",
      "Meta-Fold 2\n",
      "Meta-Fold 3\n",
      "\n",
      "Validation Results:\n",
      "Top-3 Accuracy: 0.5068\n",
      "MAP@3: 0.1074\n"
     ]
    }
   ],
   "source": [
    "print(\"\\nTraining Meta-Model (Logistic Regression)...\")\n",
    "meta_val_preds = np.zeros((len(X_train), len(le.classes_)))\n",
    "meta_models = []\n",
    "\n",
    "for fold, (train_idx, val_idx) in enumerate(kf.split(X_train, y_encoded), 1):\n",
    "    print(f\"Meta-Fold {fold}\")\n",
    "    \n",
    "    X_meta_train = np.hstack((rf_val_preds[train_idx], histgbt_val_preds[train_idx]))\n",
    "    X_meta_val = np.hstack((rf_val_preds[val_idx], histgbt_val_preds[val_idx]))\n",
    "    y_meta_train = y_encoded[train_idx]\n",
    "    \n",
    "    meta_model = LogisticRegression(\n",
    "        max_iter=500,\n",
    "        C=0.1,\n",
    "        solver='lbfgs',\n",
    "        multi_class='multinomial',\n",
    "        random_state=42\n",
    "    )\n",
    "    meta_model.fit(X_meta_train, y_meta_train)\n",
    "    meta_models.append(meta_model)\n",
    "    meta_val_preds[val_idx] = meta_model.predict_proba(X_meta_val)\n",
    "\n",
    "# Evaluate\n",
    "top3_preds = np.argsort(meta_val_preds, axis=1)[:, -3:][:, ::-1]\n",
    "top3_acc = top_k_accuracy_score(y_encoded, meta_val_preds, k=3)\n",
    "map3_score = mapk(y_encoded.tolist(), top3_preds.tolist(), k=3)\n",
    "\n",
    "print(\"\\nValidation Results:\")\n",
    "print(f\"Top-3 Accuracy: {top3_acc:.4f}\")\n",
    "print(f\"MAP@3: {map3_score:.4f}\")"
   ]
  },
  {
   "cell_type": "markdown",
   "id": "d60cfee7",
   "metadata": {
    "papermill": {
     "duration": 0.003089,
     "end_time": "2025-06-14T22:04:48.874661",
     "exception": false,
     "start_time": "2025-06-14T22:04:48.871572",
     "status": "completed"
    },
    "tags": []
   },
   "source": [
    "# **5. Generating & Saving Predictions**"
   ]
  },
  {
   "cell_type": "code",
   "execution_count": 6,
   "id": "0ba85ba0",
   "metadata": {
    "execution": {
     "iopub.execute_input": "2025-06-14T22:04:48.882616Z",
     "iopub.status.busy": "2025-06-14T22:04:48.882298Z",
     "iopub.status.idle": "2025-06-14T22:05:21.887913Z",
     "shell.execute_reply": "2025-06-14T22:05:21.886976Z"
    },
    "papermill": {
     "duration": 33.014404,
     "end_time": "2025-06-14T22:05:21.892367",
     "exception": false,
     "start_time": "2025-06-14T22:04:48.877963",
     "status": "completed"
    },
    "tags": []
   },
   "outputs": [
    {
     "name": "stdout",
     "output_type": "stream",
     "text": [
      "\n",
      "Generating Test Predictions...\n",
      "\n",
      "Submission saved to /kaggle/working/submission.csv\n",
      "First 5 predictions:\n",
      "       id             Fertilizer Name\n",
      "0  750000          DAP 20-20 14-35-14\n",
      "1  750001     17-17-17 20-20 10-26-26\n",
      "2  750002     10-26-26 14-35-14 20-20\n",
      "3  750003  14-35-14 17-17-17 10-26-26\n",
      "4  750004     20-20 10-26-26 17-17-17\n"
     ]
    }
   ],
   "source": [
    "print(\"\\nGenerating Test Predictions...\")\n",
    "meta_test_pred_probs = np.zeros((len(X_test), len(le.classes_)))\n",
    "\n",
    "for i in range(len(rf_models)):\n",
    "    rf_probs = rf_models[i].predict_proba(X_test)\n",
    "    hist_probs = histgbt_models[i].predict_proba(X_test)\n",
    "    \n",
    "    stacked_test = np.hstack((rf_probs, hist_probs))\n",
    "    meta_probs = meta_models[i].predict_proba(stacked_test)\n",
    "    meta_test_pred_probs += meta_probs / len(meta_models)\n",
    "\n",
    "# Get top 3 predictions\n",
    "top3_preds = np.argsort(meta_test_pred_probs, axis=1)[:, -3:][:, ::-1]\n",
    "top3_labels = le.inverse_transform(top3_preds.ravel()).reshape(top3_preds.shape)\n",
    "fertilizer_preds = [' '.join(row) for row in top3_labels]\n",
    "\n",
    "# Save submission\n",
    "submission = pd.DataFrame({\n",
    "    'id': test_df['id'],\n",
    "    'Fertilizer Name': fertilizer_preds\n",
    "})\n",
    "\n",
    "submission.to_csv('/kaggle/working/submission.csv', index=False)\n",
    "print(\"\\nSubmission saved to /kaggle/working/submission.csv\")\n",
    "print(\"First 5 predictions:\")\n",
    "print(submission.head())"
   ]
  }
 ],
 "metadata": {
  "kaggle": {
   "accelerator": "none",
   "dataSources": [
    {
     "databundleVersionId": 12184666,
     "sourceId": 91717,
     "sourceType": "competition"
    }
   ],
   "dockerImageVersionId": 31040,
   "isGpuEnabled": false,
   "isInternetEnabled": true,
   "language": "python",
   "sourceType": "notebook"
  },
  "kernelspec": {
   "display_name": "Python 3",
   "language": "python",
   "name": "python3"
  },
  "language_info": {
   "codemirror_mode": {
    "name": "ipython",
    "version": 3
   },
   "file_extension": ".py",
   "mimetype": "text/x-python",
   "name": "python",
   "nbconvert_exporter": "python",
   "pygments_lexer": "ipython3",
   "version": "3.11.11"
  },
  "papermill": {
   "default_parameters": {},
   "duration": 397.281856,
   "end_time": "2025-06-14T22:05:22.718012",
   "environment_variables": {},
   "exception": null,
   "input_path": "__notebook__.ipynb",
   "output_path": "__notebook__.ipynb",
   "parameters": {},
   "start_time": "2025-06-14T21:58:45.436156",
   "version": "2.6.0"
  }
 },
 "nbformat": 4,
 "nbformat_minor": 5
}
