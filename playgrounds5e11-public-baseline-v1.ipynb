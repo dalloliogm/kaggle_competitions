{
 "cells": [
  {
   "cell_type": "code",
   "execution_count": null,
   "id": "f0814522",
   "metadata": {
    "papermill": {
     "duration": 0.003186,
     "end_time": "2025-11-01T18:06:54.029156",
     "exception": false,
     "start_time": "2025-11-01T18:06:54.025970",
     "status": "completed"
    },
    "tags": []
   },
   "outputs": [],
   "source": []
  },
  {
   "cell_type": "markdown",
   "id": "1ef0d43a",
   "metadata": {
    "papermill": {
     "duration": 0.002125,
     "end_time": "2025-11-01T18:06:54.033812",
     "exception": false,
     "start_time": "2025-11-01T18:06:54.031687",
     "status": "completed"
    },
    "tags": []
   },
   "source": [
    "# **FOREWORD**\n",
    "\n",
    "Thanks to the baseline work [here](https://www.kaggle.com/code/masayakawamata/s5e11-te-xgb-interaction-features). I add a couple of ML models to the original work and complete my baseline work\n",
    "\n",
    "This is my starter work for the November Playground 2025 challenge using the train and original as rows and interaction features with mean and count encoders"
   ]
  },
  {
   "cell_type": "code",
   "execution_count": 1,
   "id": "8a047167",
   "metadata": {
    "_cell_guid": "b1076dfc-b9ad-4769-8c92-a6c4dae69d19",
    "_uuid": "8f2839f25d086af736a60e9eeb907d3b93b6e0e5",
    "execution": {
     "iopub.execute_input": "2025-11-01T18:06:54.039232Z",
     "iopub.status.busy": "2025-11-01T18:06:54.039030Z",
     "iopub.status.idle": "2025-11-01T18:07:04.511899Z",
     "shell.execute_reply": "2025-11-01T18:07:04.511312Z"
    },
    "papermill": {
     "duration": 10.477036,
     "end_time": "2025-11-01T18:07:04.513134",
     "exception": false,
     "start_time": "2025-11-01T18:06:54.036098",
     "status": "completed"
    },
    "tags": []
   },
   "outputs": [],
   "source": [
    "import warnings, torch\n",
    "import pandas as pd, numpy as np\n",
    "warnings.simplefilter('ignore')\n",
    "from itertools import combinations\n",
    "from tqdm.notebook import tqdm\n",
    "\n",
    "from sklearn.model_selection import StratifiedKFold, KFold\n",
    "from xgboost import XGBClassifier as XGBC\n",
    "from lightgbm import LGBMClassifier as LGBMC, log_evaluation, early_stopping\n",
    "from catboost import CatBoostClassifier as CBC\n",
    "from sklearn.metrics import *\n",
    "\n",
    "from sklearn.base import BaseEstimator, TransformerMixin"
   ]
  },
  {
   "cell_type": "code",
   "execution_count": 2,
   "id": "34445f5e",
   "metadata": {
    "execution": {
     "iopub.execute_input": "2025-11-01T18:07:04.519218Z",
     "iopub.status.busy": "2025-11-01T18:07:04.518773Z",
     "iopub.status.idle": "2025-11-01T18:07:04.522166Z",
     "shell.execute_reply": "2025-11-01T18:07:04.521666Z"
    },
    "papermill": {
     "duration": 0.007364,
     "end_time": "2025-11-01T18:07:04.523179",
     "exception": false,
     "start_time": "2025-11-01T18:07:04.515815",
     "status": "completed"
    },
    "tags": []
   },
   "outputs": [],
   "source": [
    "test_req = False\n",
    "\n",
    "if test_req :\n",
    "    print(\"THIS IS A SYNTAX CHECK RUN\")\n",
    "    nest = 200\n",
    "else:\n",
    "    nest = 7000"
   ]
  },
  {
   "cell_type": "markdown",
   "id": "201a306b",
   "metadata": {
    "papermill": {
     "duration": 0.002125,
     "end_time": "2025-11-01T18:07:04.527713",
     "exception": false,
     "start_time": "2025-11-01T18:07:04.525588",
     "status": "completed"
    },
    "tags": []
   },
   "source": [
    "# **PREPROCESSING**"
   ]
  },
  {
   "cell_type": "code",
   "execution_count": 3,
   "id": "c9332dbb",
   "metadata": {
    "execution": {
     "iopub.execute_input": "2025-11-01T18:07:04.533112Z",
     "iopub.status.busy": "2025-11-01T18:07:04.532715Z",
     "iopub.status.idle": "2025-11-01T18:07:06.730323Z",
     "shell.execute_reply": "2025-11-01T18:07:06.729321Z"
    },
    "papermill": {
     "duration": 2.201774,
     "end_time": "2025-11-01T18:07:06.731790",
     "exception": false,
     "start_time": "2025-11-01T18:07:04.530016",
     "status": "completed"
    },
    "tags": []
   },
   "outputs": [
    {
     "name": "stdout",
     "output_type": "stream",
     "text": [
      "Train Shape: (593994, 13)\n",
      "Test Shape: (254569, 12)\n",
      "Orig Shape: (20000, 22)\n"
     ]
    }
   ],
   "source": [
    "\n",
    "train = pd.read_csv('/kaggle/input/playground-series-s5e11/train.csv')\n",
    "test = pd.read_csv('/kaggle/input/playground-series-s5e11/test.csv')\n",
    "orig = pd.read_csv('/kaggle/input/loan-prediction-dataset-2025/loan_dataset_20000.csv')\n",
    "\n",
    "print('Train Shape:', train.shape)\n",
    "print('Test Shape:', test.shape)\n",
    "print('Orig Shape:', orig.shape)\n",
    "\n",
    "TARGET = 'loan_paid_back'\n",
    "CATS   = ['gender', 'marital_status', 'education_level', 'employment_status', 'loan_purpose', 'grade_subgrade']\n",
    "BASE   = [col for col in train.columns if col not in ['id', TARGET]]"
   ]
  },
  {
   "cell_type": "markdown",
   "id": "2857d49b",
   "metadata": {
    "papermill": {
     "duration": 0.002376,
     "end_time": "2025-11-01T18:07:06.740749",
     "exception": false,
     "start_time": "2025-11-01T18:07:06.738373",
     "status": "completed"
    },
    "tags": []
   },
   "source": [
    "# **FEATURE ENGINEERING**"
   ]
  },
  {
   "cell_type": "code",
   "execution_count": 4,
   "id": "26e6c436",
   "metadata": {
    "_kg_hide-input": true,
    "execution": {
     "iopub.execute_input": "2025-11-01T18:07:06.746754Z",
     "iopub.status.busy": "2025-11-01T18:07:06.746096Z",
     "iopub.status.idle": "2025-11-01T18:08:17.709400Z",
     "shell.execute_reply": "2025-11-01T18:08:17.708687Z"
    },
    "papermill": {
     "duration": 70.968153,
     "end_time": "2025-11-01T18:08:17.711220",
     "exception": false,
     "start_time": "2025-11-01T18:07:06.743067",
     "status": "completed"
    },
    "tags": []
   },
   "outputs": [
    {
     "data": {
      "application/vnd.jupyter.widget-view+json": {
       "model_id": "399ebde8df294e748605832dbe665d24",
       "version_major": 2,
       "version_minor": 0
      },
      "text/plain": [
       "0it [00:00, ?it/s]"
      ]
     },
     "metadata": {},
     "output_type": "display_data"
    },
    {
     "name": "stdout",
     "output_type": "stream",
     "text": [
      "55 Features\n",
      "75 Features\n",
      "22 Orig Features Created!!\n",
      "108 Features.\n"
     ]
    }
   ],
   "source": [
    "\n",
    "INTER = []\n",
    "\n",
    "for col1, col2 in tqdm(combinations(BASE, 2)):\n",
    "    new_col_name = f'{col1}_{col2}'\n",
    "    INTER.append(new_col_name)\n",
    "    for df in [train, test, orig] :\n",
    "        df[new_col_name] = df[col1].astype(str) + '_' + df[col2].astype(str)\n",
    "        \n",
    "print(f'{len(INTER)} Features')\n",
    "\n",
    "for col1, col2, col3 in combinations(CATS, 3 ):\n",
    "    new_col_name = f'{col1}_{col2}_{col3}'\n",
    "    INTER.append(new_col_name)\n",
    "    for df in [train, test, orig]:\n",
    "        df[new_col_name] = df[col1].astype(str) + '_' + df[col2].astype(str) + df[col3].astype(str)\n",
    "        \n",
    "print(f'{len(INTER)} Features')\n",
    "\n",
    "ORIG = []\n",
    "\n",
    "for col in BASE:\n",
    "    # MEAN\n",
    "    mean_map = orig.groupby(col)[TARGET].mean()\n",
    "    new_mean_col_name = f\"orig_mean_{col}\"\n",
    "    mean_map.name = new_mean_col_name\n",
    "    \n",
    "    train = train.merge(mean_map, on=col, how='left')\n",
    "    test = test.merge(mean_map, on=col, how='left')\n",
    "    ORIG.append(new_mean_col_name)\n",
    "\n",
    "    # COUNT\n",
    "    new_count_col_name = f\"orig_count_{col}\"\n",
    "    count_map = orig.groupby(col).size().reset_index(name=new_count_col_name)\n",
    "    \n",
    "    train = train.merge(count_map, on=col, how='left')\n",
    "    test  = test.merge(count_map, on=col, how='left')\n",
    "    ORIG.append(new_count_col_name)\n",
    "\n",
    "print(len(ORIG), 'Orig Features Created!!')\n",
    "\n",
    "FEATURES = BASE + ORIG + INTER\n",
    "print(len(FEATURES), 'Features.')\n",
    "\n",
    "X = train[FEATURES]\n",
    "y = train[TARGET]"
   ]
  },
  {
   "cell_type": "markdown",
   "id": "19fca613",
   "metadata": {
    "papermill": {
     "duration": 0.002475,
     "end_time": "2025-11-01T18:08:17.716345",
     "exception": false,
     "start_time": "2025-11-01T18:08:17.713870",
     "status": "completed"
    },
    "tags": []
   },
   "source": [
    "# **MODEL TRAINING**"
   ]
  },
  {
   "cell_type": "code",
   "execution_count": 5,
   "id": "61a855f8",
   "metadata": {
    "_kg_hide-input": true,
    "execution": {
     "iopub.execute_input": "2025-11-01T18:08:17.722862Z",
     "iopub.status.busy": "2025-11-01T18:08:17.722058Z",
     "iopub.status.idle": "2025-11-01T18:08:17.808318Z",
     "shell.execute_reply": "2025-11-01T18:08:17.807631Z"
    },
    "papermill": {
     "duration": 0.090763,
     "end_time": "2025-11-01T18:08:17.809581",
     "exception": false,
     "start_time": "2025-11-01T18:08:17.718818",
     "status": "completed"
    },
    "tags": []
   },
   "outputs": [],
   "source": [
    "\n",
    "N_SPLITS = 5\n",
    "skf      = StratifiedKFold(n_splits=N_SPLITS, shuffle=True, random_state=42)\n",
    "\n",
    "\n",
    "Mdl_Master = \\\n",
    "{     \n",
    " f'XGB1C'  : [\n",
    "              XGBC(**{ \"objective\"            : \"binary:logistic\",\n",
    "                       \"eval_metric\"          : \"auc\",\n",
    "                       'device'               : \"cuda:0\" if torch.cuda.is_available() else \"cpu\",\n",
    "                       'learning_rate'        : 0.01,\n",
    "                       'n_estimators'         : nest,\n",
    "                       'max_depth'            : 8,\n",
    "                       'subsample'            : 0.90,\n",
    "                       'colsample_bytree'     : 0.75,\n",
    "                       'reg_lambda'           : 0.75,\n",
    "                       'reg_alpha'            : 0.001,\n",
    "                       'verbosity'            : 0,\n",
    "                       'random_state'         : 42,\n",
    "                       'enable_categorical'   : True,\n",
    "                       'early_stopping_rounds' : 100,\n",
    "                      } \n",
    "                   ),\n",
    "              {\"verbose\" : 0}\n",
    "             ],\n",
    "\n",
    " f'LGBM1C'  : [\n",
    "            LGBMC(**{  \"objective\"            : \"binary\",\n",
    "                       \"eval_metric\"          : \"auc\",\n",
    "                       'device'               : \"gpu\" if torch.cuda.is_available() else \"cpu\",\n",
    "                       'learning_rate'        : 0.01,\n",
    "                       'n_estimators'         : nest ,\n",
    "                       'max_depth'            : 7,\n",
    "                       'subsample'            : 0.90,\n",
    "                       'colsample_bytree'     : 0.60,\n",
    "                       'reg_lambda'           : 1.25,\n",
    "                       'reg_alpha'            : 0.001,\n",
    "                       'verbosity'            : -1,\n",
    "                       'random_state'         : 42,\n",
    "                      } \n",
    "                   ),\n",
    "              {\n",
    "                  \"callbacks\" : [\n",
    "                      log_evaluation(0), \n",
    "                      early_stopping(100, verbose = False)\n",
    "                  ]\n",
    "              }\n",
    "             ],\n",
    "\n",
    " f'LGBM2C'  : [\n",
    "            LGBMC(**{  \"objective\"            : \"binary\",\n",
    "                       \"data_sample_strategy\" : \"goss\",\n",
    "                       \"eval_metric\"          : \"auc\",\n",
    "                       'device'               : \"gpu\" if torch.cuda.is_available() else \"cpu\",\n",
    "                       'learning_rate'        : 0.01,\n",
    "                       'n_estimators'         : nest ,\n",
    "                       'max_depth'            : 6,\n",
    "                       'subsample'            : 0.825,\n",
    "                       'colsample_bytree'     : 0.55,\n",
    "                       'reg_lambda'           : 0.85,\n",
    "                       'reg_alpha'            : 0.001,\n",
    "                       'verbosity'            : -1,\n",
    "                       'random_state'         : 42,\n",
    "                      } \n",
    "                   ),\n",
    "              {\n",
    "                  \"callbacks\" : [\n",
    "                      log_evaluation(0), \n",
    "                      early_stopping(100, verbose = False)\n",
    "                  ]\n",
    "              }\n",
    "             ],\n",
    "}\n",
    "\n",
    "\n"
   ]
  },
  {
   "cell_type": "code",
   "execution_count": 6,
   "id": "9477a9e0",
   "metadata": {
    "_kg_hide-input": true,
    "execution": {
     "iopub.execute_input": "2025-11-01T18:08:17.816363Z",
     "iopub.status.busy": "2025-11-01T18:08:17.816087Z",
     "iopub.status.idle": "2025-11-01T18:08:17.827872Z",
     "shell.execute_reply": "2025-11-01T18:08:17.827382Z"
    },
    "papermill": {
     "duration": 0.016361,
     "end_time": "2025-11-01T18:08:17.828883",
     "exception": false,
     "start_time": "2025-11-01T18:08:17.812522",
     "status": "completed"
    },
    "tags": []
   },
   "outputs": [],
   "source": [
    "class TargetEncoder(BaseEstimator, TransformerMixin):\n",
    "    \"\"\"\n",
    "    Target Encoder that supports multiple aggregation functions,\n",
    "    internal cross-validation for leakage prevention, and smoothing.\n",
    "\n",
    "    Parameters\n",
    "    ----------\n",
    "    cols_to_encode : list of str\n",
    "        List of column names to be target encoded.\n",
    "\n",
    "    aggs : list of str, default=['mean']\n",
    "        List of aggregation functions to apply. Any function accepted by\n",
    "        pandas' `.agg()` method is supported, such as:\n",
    "        'mean', 'std', 'var', 'min', 'max', 'skew', 'nunique', \n",
    "        'count', 'sum', 'median'.\n",
    "        Smoothing is applied only to the 'mean' aggregation.\n",
    "\n",
    "    cv : int, default=5\n",
    "        Number of folds for cross-validation in fit_transform.\n",
    "\n",
    "    smooth : float or 'auto', default='auto'\n",
    "        The smoothing parameter `m`. A larger value puts more weight on the \n",
    "        global mean. If 'auto', an empirical Bayes estimate is used.\n",
    "        \n",
    "    drop_original : bool, default=False\n",
    "        If True, the original columns to be encoded are dropped.\n",
    "    \"\"\"\n",
    "    def __init__(self, cols_to_encode, aggs=['mean'], cv=5, smooth='auto', drop_original=False):\n",
    "        self.cols_to_encode = cols_to_encode\n",
    "        self.aggs = aggs\n",
    "        self.cv = cv\n",
    "        self.smooth = smooth\n",
    "        self.drop_original = drop_original\n",
    "        self.mappings_ = {}\n",
    "        self.global_stats_ = {}\n",
    "\n",
    "    def fit(self, X, y):\n",
    "        \"\"\"\n",
    "        Learn mappings from the entire dataset.\n",
    "        These mappings are used for the transform method on validation/test data.\n",
    "        \"\"\"\n",
    "        temp_df = X.copy()\n",
    "        temp_df['target'] = y\n",
    "\n",
    "        # Learn global statistics for each aggregation\n",
    "        for agg_func in self.aggs:\n",
    "            self.global_stats_[agg_func] = y.agg(agg_func)\n",
    "\n",
    "        # Learn category-specific mappings\n",
    "        for col in self.cols_to_encode:\n",
    "            self.mappings_[col] = {}\n",
    "            for agg_func in self.aggs:\n",
    "                mapping = temp_df.groupby(col)['target'].agg(agg_func)\n",
    "                self.mappings_[col][agg_func] = mapping\n",
    "        \n",
    "        return self\n",
    "\n",
    "    def transform(self, X):\n",
    "        \"\"\"\n",
    "        Apply learned mappings to the data.\n",
    "        Unseen categories are filled with global statistics.\n",
    "        \"\"\"\n",
    "        X_transformed = X.copy()\n",
    "        for col in self.cols_to_encode:\n",
    "            for agg_func in self.aggs:\n",
    "                new_col_name = f'TE_{col}_{agg_func}'\n",
    "                map_series = self.mappings_[col][agg_func]\n",
    "                X_transformed[new_col_name] = X[col].map(map_series)\n",
    "                X_transformed[new_col_name].fillna(self.global_stats_[agg_func], inplace=True)\n",
    "        \n",
    "        if self.drop_original:\n",
    "            X_transformed.drop(columns=self.cols_to_encode, inplace=True)\n",
    "            \n",
    "        return X_transformed\n",
    "\n",
    "    def fit_transform(self, X, y):\n",
    "        \"\"\"\n",
    "        Fit and transform the data using internal cross-validation to prevent leakage.\n",
    "        \"\"\"\n",
    "        # First, fit on the entire dataset to get global mappings for transform method\n",
    "        self.fit(X, y)\n",
    "\n",
    "        # Initialize an empty DataFrame to store encoded features\n",
    "        encoded_features = pd.DataFrame(index=X.index)\n",
    "        \n",
    "        kf = KFold(n_splits=self.cv, shuffle=True, random_state=42)\n",
    "\n",
    "        for train_idx, val_idx in kf.split(X, y):\n",
    "            X_train, y_train = X.iloc[train_idx], y.iloc[train_idx]\n",
    "            X_val = X.iloc[val_idx]\n",
    "            \n",
    "            temp_df_train = X_train.copy()\n",
    "            temp_df_train['target'] = y_train\n",
    "\n",
    "            for col in self.cols_to_encode:\n",
    "                # --- Calculate mappings only on the training part of the fold ---\n",
    "                for agg_func in self.aggs:\n",
    "                    new_col_name = f'TE_{col}_{agg_func}'\n",
    "                    \n",
    "                    # Calculate global stat for this fold\n",
    "                    fold_global_stat = y_train.agg(agg_func)\n",
    "                    \n",
    "                    # Calculate category stats for this fold\n",
    "                    mapping = temp_df_train.groupby(col)['target'].agg(agg_func)\n",
    "\n",
    "                    # --- Apply smoothing only for 'mean' aggregation ---\n",
    "                    if agg_func == 'mean':\n",
    "                        counts = temp_df_train.groupby(col)['target'].count()\n",
    "                        \n",
    "                        m = self.smooth\n",
    "                        if self.smooth == 'auto':\n",
    "                            # Empirical Bayes smoothing\n",
    "                            variance_between = mapping.var()\n",
    "                            avg_variance_within = temp_df_train.groupby(col)['target'].var().mean()\n",
    "                            if variance_between > 0:\n",
    "                                m = avg_variance_within / variance_between\n",
    "                            else:\n",
    "                                m = 0  # No smoothing if no variance between groups\n",
    "                        \n",
    "                        # Apply smoothing formula\n",
    "                        smoothed_mapping = (counts * mapping + m * fold_global_stat) / (counts + m)\n",
    "                        encoded_values = X_val[col].map(smoothed_mapping)\n",
    "                    else:\n",
    "                        encoded_values = X_val[col].map(mapping)\n",
    "                    \n",
    "                    # Store encoded values for the validation fold\n",
    "                    encoded_features.loc[X_val.index, new_col_name] = encoded_values.fillna(fold_global_stat)\n",
    "\n",
    "        # Merge with original DataFrame\n",
    "        X_transformed = X.copy()\n",
    "        for col in encoded_features.columns:\n",
    "            X_transformed[col] = encoded_features[col]\n",
    "            \n",
    "        if self.drop_original:\n",
    "            X_transformed.drop(columns=self.cols_to_encode, inplace=True)\n",
    "            \n",
    "        return X_transformed"
   ]
  },
  {
   "cell_type": "code",
   "execution_count": 7,
   "id": "4d9f9e7e",
   "metadata": {
    "execution": {
     "iopub.execute_input": "2025-11-01T18:08:17.835015Z",
     "iopub.status.busy": "2025-11-01T18:08:17.834576Z",
     "iopub.status.idle": "2025-11-01T18:37:53.303200Z",
     "shell.execute_reply": "2025-11-01T18:37:53.302505Z"
    },
    "papermill": {
     "duration": 1775.476959,
     "end_time": "2025-11-01T18:37:53.308504",
     "exception": false,
     "start_time": "2025-11-01T18:08:17.831545",
     "status": "completed"
    },
    "tags": []
   },
   "outputs": [
    {
     "name": "stdout",
     "output_type": "stream",
     "text": [
      "--- Fold 1/5 ---\n",
      "---> Model XGB1C fitted successfully\n"
     ]
    },
    {
     "name": "stderr",
     "output_type": "stream",
     "text": [
      "1 warning generated.\n",
      "1 warning generated.\n",
      "1 warning generated.\n",
      "1 warning generated.\n",
      "1 warning generated.\n",
      "1 warning generated.\n",
      "1 warning generated.\n",
      "1 warning generated.\n",
      "1 warning generated.\n",
      "1 warning generated.\n",
      "1 warning generated.\n",
      "1 warning generated.\n",
      "1 warning generated.\n",
      "1 warning generated.\n",
      "1 warning generated.\n",
      "1 warning generated.\n",
      "1 warning generated.\n",
      "1 warning generated.\n",
      "1 warning generated.\n",
      "1 warning generated.\n",
      "1 warning generated.\n",
      "1 warning generated.\n",
      "1 warning generated.\n",
      "1 warning generated.\n",
      "1 warning generated.\n",
      "1 warning generated.\n",
      "1 warning generated.\n",
      "1 warning generated.\n",
      "1 warning generated.\n",
      "1 warning generated.\n",
      "1 warning generated.\n",
      "1 warning generated.\n",
      "1 warning generated.\n"
     ]
    },
    {
     "name": "stdout",
     "output_type": "stream",
     "text": [
      "---> Model LGBM1C fitted successfully\n",
      "---> Model LGBM2C fitted successfully\n",
      "--- Fold 2/5 ---\n",
      "---> Model XGB1C fitted successfully\n",
      "---> Model LGBM1C fitted successfully\n",
      "---> Model LGBM2C fitted successfully\n",
      "--- Fold 3/5 ---\n",
      "---> Model XGB1C fitted successfully\n",
      "---> Model LGBM1C fitted successfully\n",
      "---> Model LGBM2C fitted successfully\n",
      "--- Fold 4/5 ---\n",
      "---> Model XGB1C fitted successfully\n",
      "---> Model LGBM1C fitted successfully\n",
      "---> Model LGBM2C fitted successfully\n",
      "--- Fold 5/5 ---\n",
      "---> Model XGB1C fitted successfully\n",
      "---> Model LGBM1C fitted successfully\n",
      "---> Model LGBM2C fitted successfully\n"
     ]
    }
   ],
   "source": [
    "\n",
    "OOF_Preds    = []\n",
    "Mdl_Preds    = []\n",
    "\n",
    "for fold, (train_idx, val_idx) in enumerate(skf.split(X, y), 1):\n",
    "    \n",
    "    print(f'--- Fold {fold}/{N_SPLITS} ---')\n",
    "    \n",
    "    X_train, X_val = X.iloc[train_idx], X.iloc[val_idx]\n",
    "    y_train, y_val = y.iloc[train_idx], y.iloc[val_idx]\n",
    "    X_test         = test[FEATURES].copy()\n",
    "\n",
    "    TE      = TargetEncoder(cols_to_encode=INTER, cv=5, smooth='auto', aggs=['mean'], drop_original=True)\n",
    "    X_train = TE.fit_transform(X_train, y_train)\n",
    "    X_val   = TE.transform(X_val)\n",
    "    X_test  = TE.transform(X_test)\n",
    "\n",
    "    X_train[CATS] = X_train[CATS].astype('category')\n",
    "    X_val[CATS]   = X_val[CATS].astype('category')\n",
    "    X_test[CATS]  = X_test[CATS].astype('category')\n",
    "\n",
    "    oof_preds , test_preds = [], []\n",
    "    \n",
    "    for method, (model, fit_params) in Mdl_Master.items():\n",
    "  \n",
    "        model.fit(X_train, y_train, eval_set=[(X_val, y_val)], **fit_params)\n",
    "        val_preds = pd.Series(model.predict_proba(X_val)[:, 1], name = method, index = val_idx)\n",
    "        oof_preds.append(val_preds)\n",
    "        test_preds.append(pd.Series( model.predict_proba(X_test)[:, 1], name = method))\n",
    "\n",
    "        print(f\"---> Model {method} fitted successfully\")\n",
    "\n",
    "    oof_preds  = pd.concat(oof_preds, axis=1)\n",
    "    test_preds = pd.concat(test_preds, axis=1) \n",
    "\n",
    "    OOF_Preds.append(oof_preds)\n",
    "    Mdl_Preds.append(test_preds)\n",
    "\n",
    "OOF_Preds = pd.concat(OOF_Preds, axis=0, ignore_index = False).sort_index(ascending = True)\n",
    "Mdl_Preds = pd.concat(Mdl_Preds, axis=0, ignore_index = False).groupby(level = 0).mean()"
   ]
  },
  {
   "cell_type": "markdown",
   "id": "2e9478af",
   "metadata": {
    "papermill": {
     "duration": 0.00355,
     "end_time": "2025-11-01T18:37:53.315968",
     "exception": false,
     "start_time": "2025-11-01T18:37:53.312418",
     "status": "completed"
    },
    "tags": []
   },
   "source": [
    "# **ENSEMBLE**\n",
    "\n",
    "Let's do a simple average for now and then submit. Ensembling is a key step for Playground competitions and this step needs to be improved"
   ]
  },
  {
   "cell_type": "code",
   "execution_count": 8,
   "id": "6a3e7214",
   "metadata": {
    "_kg_hide-input": true,
    "execution": {
     "iopub.execute_input": "2025-11-01T18:37:53.324098Z",
     "iopub.status.busy": "2025-11-01T18:37:53.323878Z",
     "iopub.status.idle": "2025-11-01T18:37:54.379627Z",
     "shell.execute_reply": "2025-11-01T18:37:54.378642Z"
    },
    "papermill": {
     "duration": 1.061273,
     "end_time": "2025-11-01T18:37:54.380829",
     "exception": false,
     "start_time": "2025-11-01T18:37:53.319556",
     "status": "completed"
    },
    "tags": []
   },
   "outputs": [
    {
     "name": "stdout",
     "output_type": "stream",
     "text": [
      "---> Score = 0.92580597\n",
      "\n",
      "\n",
      "id,loan_paid_back\r\n",
      "593994,0.939704894217774\r\n",
      "593995,0.9653727358269988\r\n",
      "593996,0.4610757428109869\r\n",
      "593997,0.9135061741269461\r\n",
      "593998,0.9605767669882477\r\n",
      "593999,0.9689544657250463\r\n",
      "594000,0.979286432938531\r\n",
      "594001,0.9709778696495937\r\n",
      "594002,0.9547152776166739\r\n"
     ]
    }
   ],
   "source": [
    "oof_preds = OOF_Preds.mean(axis = 1).values\n",
    "score     = roc_auc_score(y, oof_preds)\n",
    "print(f\"---> Score = {score:,.8f}\\n\")\n",
    "\n",
    "test_preds = Mdl_Preds.mean(axis = 1).values\n",
    "\n",
    "sub_fl = pd.read_csv(\n",
    "    f\"/kaggle/input/playground-series-s5e11/sample_submission.csv\",\n",
    "    index_col = \"id\",\n",
    ")\n",
    "sub_fl[\"loan_paid_back\"] = test_preds\n",
    "\n",
    "sub_fl.to_csv(f\"submission.csv\", index = True)\n",
    "\n",
    "print()\n",
    "!head submission.csv"
   ]
  }
 ],
 "metadata": {
  "kaggle": {
   "accelerator": "nvidiaTeslaT4",
   "dataSources": [
    {
     "databundleVersionId": 14262372,
     "sourceId": 91722,
     "sourceType": "competition"
    },
    {
     "datasetId": 8264672,
     "sourceId": 13059803,
     "sourceType": "datasetVersion"
    }
   ],
   "dockerImageVersionId": 31154,
   "isGpuEnabled": true,
   "isInternetEnabled": true,
   "language": "python",
   "sourceType": "notebook"
  },
  "kernelspec": {
   "display_name": "Python 3",
   "language": "python",
   "name": "python3"
  },
  "language_info": {
   "codemirror_mode": {
    "name": "ipython",
    "version": 3
   },
   "file_extension": ".py",
   "mimetype": "text/x-python",
   "name": "python",
   "nbconvert_exporter": "python",
   "pygments_lexer": "ipython3",
   "version": "3.11.13"
  },
  "papermill": {
   "default_parameters": {},
   "duration": 1866.889542,
   "end_time": "2025-11-01T18:37:57.504551",
   "environment_variables": {},
   "exception": null,
   "input_path": "__notebook__.ipynb",
   "output_path": "__notebook__.ipynb",
   "parameters": {},
   "start_time": "2025-11-01T18:06:50.615009",
   "version": "2.6.0"
  },
  "widgets": {
   "application/vnd.jupyter.widget-state+json": {
    "state": {
     "1750425d69354607807ce818115a374d": {
      "model_module": "@jupyter-widgets/base",
      "model_module_version": "2.0.0",
      "model_name": "LayoutModel",
      "state": {
       "_model_module": "@jupyter-widgets/base",
       "_model_module_version": "2.0.0",
       "_model_name": "LayoutModel",
       "_view_count": null,
       "_view_module": "@jupyter-widgets/base",
       "_view_module_version": "2.0.0",
       "_view_name": "LayoutView",
       "align_content": null,
       "align_items": null,
       "align_self": null,
       "border_bottom": null,
       "border_left": null,
       "border_right": null,
       "border_top": null,
       "bottom": null,
       "display": null,
       "flex": null,
       "flex_flow": null,
       "grid_area": null,
       "grid_auto_columns": null,
       "grid_auto_flow": null,
       "grid_auto_rows": null,
       "grid_column": null,
       "grid_gap": null,
       "grid_row": null,
       "grid_template_areas": null,
       "grid_template_columns": null,
       "grid_template_rows": null,
       "height": null,
       "justify_content": null,
       "justify_items": null,
       "left": null,
       "margin": null,
       "max_height": null,
       "max_width": null,
       "min_height": null,
       "min_width": null,
       "object_fit": null,
       "object_position": null,
       "order": null,
       "overflow": null,
       "padding": null,
       "right": null,
       "top": null,
       "visibility": null,
       "width": null
      }
     },
     "2393a17b624645fd8f9aad4cb4633544": {
      "model_module": "@jupyter-widgets/base",
      "model_module_version": "2.0.0",
      "model_name": "LayoutModel",
      "state": {
       "_model_module": "@jupyter-widgets/base",
       "_model_module_version": "2.0.0",
       "_model_name": "LayoutModel",
       "_view_count": null,
       "_view_module": "@jupyter-widgets/base",
       "_view_module_version": "2.0.0",
       "_view_name": "LayoutView",
       "align_content": null,
       "align_items": null,
       "align_self": null,
       "border_bottom": null,
       "border_left": null,
       "border_right": null,
       "border_top": null,
       "bottom": null,
       "display": null,
       "flex": null,
       "flex_flow": null,
       "grid_area": null,
       "grid_auto_columns": null,
       "grid_auto_flow": null,
       "grid_auto_rows": null,
       "grid_column": null,
       "grid_gap": null,
       "grid_row": null,
       "grid_template_areas": null,
       "grid_template_columns": null,
       "grid_template_rows": null,
       "height": null,
       "justify_content": null,
       "justify_items": null,
       "left": null,
       "margin": null,
       "max_height": null,
       "max_width": null,
       "min_height": null,
       "min_width": null,
       "object_fit": null,
       "object_position": null,
       "order": null,
       "overflow": null,
       "padding": null,
       "right": null,
       "top": null,
       "visibility": null,
       "width": "20px"
      }
     },
     "399ebde8df294e748605832dbe665d24": {
      "model_module": "@jupyter-widgets/controls",
      "model_module_version": "2.0.0",
      "model_name": "HBoxModel",
      "state": {
       "_dom_classes": [],
       "_model_module": "@jupyter-widgets/controls",
       "_model_module_version": "2.0.0",
       "_model_name": "HBoxModel",
       "_view_count": null,
       "_view_module": "@jupyter-widgets/controls",
       "_view_module_version": "2.0.0",
       "_view_name": "HBoxView",
       "box_style": "",
       "children": [
        "IPY_MODEL_875eba57e3e8441f860416ef2b494084",
        "IPY_MODEL_c9bd9829ab754427b667f5e517c6cb85",
        "IPY_MODEL_75c60ca9db4c4c32aaa561181671f840"
       ],
       "layout": "IPY_MODEL_c45ebe33a3c54b7b8623f3e9b1db9e41",
       "tabbable": null,
       "tooltip": null
      }
     },
     "5965c383f16e4b0e9c3210178bc94d9f": {
      "model_module": "@jupyter-widgets/controls",
      "model_module_version": "2.0.0",
      "model_name": "HTMLStyleModel",
      "state": {
       "_model_module": "@jupyter-widgets/controls",
       "_model_module_version": "2.0.0",
       "_model_name": "HTMLStyleModel",
       "_view_count": null,
       "_view_module": "@jupyter-widgets/base",
       "_view_module_version": "2.0.0",
       "_view_name": "StyleView",
       "background": null,
       "description_width": "",
       "font_size": null,
       "text_color": null
      }
     },
     "6918c5929bed4e9d9b8be5dd317af476": {
      "model_module": "@jupyter-widgets/controls",
      "model_module_version": "2.0.0",
      "model_name": "ProgressStyleModel",
      "state": {
       "_model_module": "@jupyter-widgets/controls",
       "_model_module_version": "2.0.0",
       "_model_name": "ProgressStyleModel",
       "_view_count": null,
       "_view_module": "@jupyter-widgets/base",
       "_view_module_version": "2.0.0",
       "_view_name": "StyleView",
       "bar_color": null,
       "description_width": ""
      }
     },
     "75c60ca9db4c4c32aaa561181671f840": {
      "model_module": "@jupyter-widgets/controls",
      "model_module_version": "2.0.0",
      "model_name": "HTMLModel",
      "state": {
       "_dom_classes": [],
       "_model_module": "@jupyter-widgets/controls",
       "_model_module_version": "2.0.0",
       "_model_name": "HTMLModel",
       "_view_count": null,
       "_view_module": "@jupyter-widgets/controls",
       "_view_module_version": "2.0.0",
       "_view_name": "HTMLView",
       "description": "",
       "description_allow_html": false,
       "layout": "IPY_MODEL_1750425d69354607807ce818115a374d",
       "placeholder": "​",
       "style": "IPY_MODEL_5965c383f16e4b0e9c3210178bc94d9f",
       "tabbable": null,
       "tooltip": null,
       "value": " 55/? [00:30&lt;00:00,  5.50it/s]"
      }
     },
     "875eba57e3e8441f860416ef2b494084": {
      "model_module": "@jupyter-widgets/controls",
      "model_module_version": "2.0.0",
      "model_name": "HTMLModel",
      "state": {
       "_dom_classes": [],
       "_model_module": "@jupyter-widgets/controls",
       "_model_module_version": "2.0.0",
       "_model_name": "HTMLModel",
       "_view_count": null,
       "_view_module": "@jupyter-widgets/controls",
       "_view_module_version": "2.0.0",
       "_view_name": "HTMLView",
       "description": "",
       "description_allow_html": false,
       "layout": "IPY_MODEL_ada88d4b27ff416f9af5f430d088c662",
       "placeholder": "​",
       "style": "IPY_MODEL_d90658d714bd470d82ad7ffc65e2f08b",
       "tabbable": null,
       "tooltip": null,
       "value": ""
      }
     },
     "ada88d4b27ff416f9af5f430d088c662": {
      "model_module": "@jupyter-widgets/base",
      "model_module_version": "2.0.0",
      "model_name": "LayoutModel",
      "state": {
       "_model_module": "@jupyter-widgets/base",
       "_model_module_version": "2.0.0",
       "_model_name": "LayoutModel",
       "_view_count": null,
       "_view_module": "@jupyter-widgets/base",
       "_view_module_version": "2.0.0",
       "_view_name": "LayoutView",
       "align_content": null,
       "align_items": null,
       "align_self": null,
       "border_bottom": null,
       "border_left": null,
       "border_right": null,
       "border_top": null,
       "bottom": null,
       "display": null,
       "flex": null,
       "flex_flow": null,
       "grid_area": null,
       "grid_auto_columns": null,
       "grid_auto_flow": null,
       "grid_auto_rows": null,
       "grid_column": null,
       "grid_gap": null,
       "grid_row": null,
       "grid_template_areas": null,
       "grid_template_columns": null,
       "grid_template_rows": null,
       "height": null,
       "justify_content": null,
       "justify_items": null,
       "left": null,
       "margin": null,
       "max_height": null,
       "max_width": null,
       "min_height": null,
       "min_width": null,
       "object_fit": null,
       "object_position": null,
       "order": null,
       "overflow": null,
       "padding": null,
       "right": null,
       "top": null,
       "visibility": null,
       "width": null
      }
     },
     "c45ebe33a3c54b7b8623f3e9b1db9e41": {
      "model_module": "@jupyter-widgets/base",
      "model_module_version": "2.0.0",
      "model_name": "LayoutModel",
      "state": {
       "_model_module": "@jupyter-widgets/base",
       "_model_module_version": "2.0.0",
       "_model_name": "LayoutModel",
       "_view_count": null,
       "_view_module": "@jupyter-widgets/base",
       "_view_module_version": "2.0.0",
       "_view_name": "LayoutView",
       "align_content": null,
       "align_items": null,
       "align_self": null,
       "border_bottom": null,
       "border_left": null,
       "border_right": null,
       "border_top": null,
       "bottom": null,
       "display": null,
       "flex": null,
       "flex_flow": null,
       "grid_area": null,
       "grid_auto_columns": null,
       "grid_auto_flow": null,
       "grid_auto_rows": null,
       "grid_column": null,
       "grid_gap": null,
       "grid_row": null,
       "grid_template_areas": null,
       "grid_template_columns": null,
       "grid_template_rows": null,
       "height": null,
       "justify_content": null,
       "justify_items": null,
       "left": null,
       "margin": null,
       "max_height": null,
       "max_width": null,
       "min_height": null,
       "min_width": null,
       "object_fit": null,
       "object_position": null,
       "order": null,
       "overflow": null,
       "padding": null,
       "right": null,
       "top": null,
       "visibility": null,
       "width": null
      }
     },
     "c9bd9829ab754427b667f5e517c6cb85": {
      "model_module": "@jupyter-widgets/controls",
      "model_module_version": "2.0.0",
      "model_name": "FloatProgressModel",
      "state": {
       "_dom_classes": [],
       "_model_module": "@jupyter-widgets/controls",
       "_model_module_version": "2.0.0",
       "_model_name": "FloatProgressModel",
       "_view_count": null,
       "_view_module": "@jupyter-widgets/controls",
       "_view_module_version": "2.0.0",
       "_view_name": "ProgressView",
       "bar_style": "success",
       "description": "",
       "description_allow_html": false,
       "layout": "IPY_MODEL_2393a17b624645fd8f9aad4cb4633544",
       "max": 1.0,
       "min": 0.0,
       "orientation": "horizontal",
       "style": "IPY_MODEL_6918c5929bed4e9d9b8be5dd317af476",
       "tabbable": null,
       "tooltip": null,
       "value": 1.0
      }
     },
     "d90658d714bd470d82ad7ffc65e2f08b": {
      "model_module": "@jupyter-widgets/controls",
      "model_module_version": "2.0.0",
      "model_name": "HTMLStyleModel",
      "state": {
       "_model_module": "@jupyter-widgets/controls",
       "_model_module_version": "2.0.0",
       "_model_name": "HTMLStyleModel",
       "_view_count": null,
       "_view_module": "@jupyter-widgets/base",
       "_view_module_version": "2.0.0",
       "_view_name": "StyleView",
       "background": null,
       "description_width": "",
       "font_size": null,
       "text_color": null
      }
     }
    },
    "version_major": 2,
    "version_minor": 0
   }
  }
 },
 "nbformat": 4,
 "nbformat_minor": 5
}
