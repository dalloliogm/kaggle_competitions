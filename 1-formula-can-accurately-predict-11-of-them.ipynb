{
 "cells": [
  {
   "cell_type": "markdown",
   "id": "0323183c",
   "metadata": {
    "_cell_guid": "b1076dfc-b9ad-4769-8c92-a6c4dae69d19",
    "_uuid": "8f2839f25d086af736a60e9eeb907d3b93b6e0e5",
    "execution": {
     "iopub.execute_input": "2025-03-24T13:59:52.246955Z",
     "iopub.status.busy": "2025-03-24T13:59:52.246304Z",
     "iopub.status.idle": "2025-03-24T14:00:00.213208Z",
     "shell.execute_reply": "2025-03-24T14:00:00.21203Z",
     "shell.execute_reply.started": "2025-03-24T13:59:52.246919Z"
    },
    "papermill": {
     "duration": 0.003884,
     "end_time": "2025-03-30T18:37:33.078561",
     "exception": false,
     "start_time": "2025-03-30T18:37:33.074677",
     "status": "completed"
    },
    "tags": []
   },
   "source": [
    "## Import library"
   ]
  },
  {
   "cell_type": "code",
   "execution_count": 1,
   "id": "fcfbbb1f",
   "metadata": {
    "execution": {
     "iopub.execute_input": "2025-03-30T18:37:33.086942Z",
     "iopub.status.busy": "2025-03-30T18:37:33.086457Z",
     "iopub.status.idle": "2025-03-30T18:37:41.873219Z",
     "shell.execute_reply": "2025-03-30T18:37:41.871397Z"
    },
    "papermill": {
     "duration": 8.793384,
     "end_time": "2025-03-30T18:37:41.875527",
     "exception": false,
     "start_time": "2025-03-30T18:37:33.082143",
     "status": "completed"
    },
    "tags": []
   },
   "outputs": [],
   "source": [
    "%%capture\n",
    "!pip install rdkit\n",
    "from rdkit.Chem import AllChem\n",
    "from rdkit.Chem import Descriptors, rdMolDescriptors\n",
    "from rdkit import Chem"
   ]
  },
  {
   "cell_type": "code",
   "execution_count": 2,
   "id": "b9ff7edb",
   "metadata": {
    "execution": {
     "iopub.execute_input": "2025-03-30T18:37:41.884078Z",
     "iopub.status.busy": "2025-03-30T18:37:41.883720Z",
     "iopub.status.idle": "2025-03-30T18:37:44.767502Z",
     "shell.execute_reply": "2025-03-30T18:37:44.766318Z"
    },
    "papermill": {
     "duration": 2.890229,
     "end_time": "2025-03-30T18:37:44.769419",
     "exception": false,
     "start_time": "2025-03-30T18:37:41.879190",
     "status": "completed"
    },
    "tags": []
   },
   "outputs": [],
   "source": [
    "import pandas as pd\n",
    "import numpy as np\n",
    "import random\n",
    "from sklearn.metrics import mean_squared_log_error\n",
    "import warnings\n",
    "warnings.filterwarnings('ignore')"
   ]
  },
  {
   "cell_type": "code",
   "execution_count": 3,
   "id": "d60f0e9f",
   "metadata": {
    "execution": {
     "iopub.execute_input": "2025-03-30T18:37:44.777952Z",
     "iopub.status.busy": "2025-03-30T18:37:44.777432Z",
     "iopub.status.idle": "2025-03-30T18:37:44.826286Z",
     "shell.execute_reply": "2025-03-30T18:37:44.824926Z"
    },
    "papermill": {
     "duration": 0.055509,
     "end_time": "2025-03-30T18:37:44.828548",
     "exception": false,
     "start_time": "2025-03-30T18:37:44.773039",
     "status": "completed"
    },
    "tags": []
   },
   "outputs": [],
   "source": [
    "train = pd.read_csv('/kaggle/input/molecular-machine-learning/train.csv')\n",
    "test= pd.read_csv('/kaggle/input/molecular-machine-learning/test.csv')\n",
    "sub = pd.read_csv('/kaggle/input/molecular-machine-learning/sample_submission.csv')"
   ]
  },
  {
   "cell_type": "code",
   "execution_count": 4,
   "id": "7e9e1540",
   "metadata": {
    "execution": {
     "iopub.execute_input": "2025-03-30T18:37:44.837411Z",
     "iopub.status.busy": "2025-03-30T18:37:44.836979Z",
     "iopub.status.idle": "2025-03-30T18:37:44.905130Z",
     "shell.execute_reply": "2025-03-30T18:37:44.903717Z"
    },
    "papermill": {
     "duration": 0.074791,
     "end_time": "2025-03-30T18:37:44.907237",
     "exception": false,
     "start_time": "2025-03-30T18:37:44.832446",
     "status": "completed"
    },
    "tags": []
   },
   "outputs": [
    {
     "data": {
      "text/html": [
       "<div>\n",
       "<style scoped>\n",
       "    .dataframe tbody tr th:only-of-type {\n",
       "        vertical-align: middle;\n",
       "    }\n",
       "\n",
       "    .dataframe tbody tr th {\n",
       "        vertical-align: top;\n",
       "    }\n",
       "\n",
       "    .dataframe thead th {\n",
       "        text-align: right;\n",
       "    }\n",
       "</style>\n",
       "<table border=\"1\" class=\"dataframe\">\n",
       "  <thead>\n",
       "    <tr style=\"text-align: right;\">\n",
       "      <th></th>\n",
       "      <th>Batch_ID</th>\n",
       "      <th>T80</th>\n",
       "      <th>Smiles</th>\n",
       "      <th>Mass</th>\n",
       "      <th>HAcceptors</th>\n",
       "      <th>HDonors</th>\n",
       "      <th>LogP</th>\n",
       "      <th>Asphericity</th>\n",
       "      <th>Rg</th>\n",
       "      <th>TPSA</th>\n",
       "      <th>...</th>\n",
       "      <th>SDOS4.5</th>\n",
       "      <th>SDOS4.6</th>\n",
       "      <th>SDOS4.7</th>\n",
       "      <th>SDOS4.8</th>\n",
       "      <th>SDOS4.9</th>\n",
       "      <th>SDOS5.0</th>\n",
       "      <th>SDOS5.1</th>\n",
       "      <th>SDOS5.2</th>\n",
       "      <th>SDOS5.3</th>\n",
       "      <th>SDOS5.4</th>\n",
       "    </tr>\n",
       "  </thead>\n",
       "  <tbody>\n",
       "    <tr>\n",
       "      <th>0</th>\n",
       "      <td>Train-01</td>\n",
       "      <td>103.86</td>\n",
       "      <td>CCCCCCCCCCCCc1ccsc1-c1ccc(-c2cccs2)cc1</td>\n",
       "      <td>410.692</td>\n",
       "      <td>2</td>\n",
       "      <td>0</td>\n",
       "      <td>9.6070</td>\n",
       "      <td>0.301361</td>\n",
       "      <td>5.187321</td>\n",
       "      <td>0.00</td>\n",
       "      <td>...</td>\n",
       "      <td>1.717761</td>\n",
       "      <td>1.970186</td>\n",
       "      <td>1.760071</td>\n",
       "      <td>1.224983</td>\n",
       "      <td>0.664733</td>\n",
       "      <td>0.282353</td>\n",
       "      <td>0.096763</td>\n",
       "      <td>0.034589</td>\n",
       "      <td>0.030793</td>\n",
       "      <td>0.057340</td>\n",
       "    </tr>\n",
       "    <tr>\n",
       "      <th>1</th>\n",
       "      <td>Train-02</td>\n",
       "      <td>101.13</td>\n",
       "      <td>CCCCCCCCCCCCc1ccsc1-c1cccs1</td>\n",
       "      <td>334.594</td>\n",
       "      <td>2</td>\n",
       "      <td>0</td>\n",
       "      <td>7.9400</td>\n",
       "      <td>0.367472</td>\n",
       "      <td>4.141425</td>\n",
       "      <td>0.00</td>\n",
       "      <td>...</td>\n",
       "      <td>0.012396</td>\n",
       "      <td>0.046031</td>\n",
       "      <td>0.133124</td>\n",
       "      <td>0.299840</td>\n",
       "      <td>0.525958</td>\n",
       "      <td>0.718549</td>\n",
       "      <td>0.764711</td>\n",
       "      <td>0.634854</td>\n",
       "      <td>0.414866</td>\n",
       "      <td>0.225909</td>\n",
       "    </tr>\n",
       "    <tr>\n",
       "      <th>2</th>\n",
       "      <td>Train-03</td>\n",
       "      <td>78.30</td>\n",
       "      <td>CN1CCN(S(=O)(=O)c2ccc(-c3ccc(-c4cccs4)cc3)cc2)CC1</td>\n",
       "      <td>398.553</td>\n",
       "      <td>4</td>\n",
       "      <td>0</td>\n",
       "      <td>4.0182</td>\n",
       "      <td>0.799589</td>\n",
       "      <td>5.368024</td>\n",
       "      <td>40.62</td>\n",
       "      <td>...</td>\n",
       "      <td>2.421162</td>\n",
       "      <td>2.703267</td>\n",
       "      <td>2.352276</td>\n",
       "      <td>1.595867</td>\n",
       "      <td>0.845839</td>\n",
       "      <td>0.354620</td>\n",
       "      <td>0.127878</td>\n",
       "      <td>0.060600</td>\n",
       "      <td>0.064782</td>\n",
       "      <td>0.098908</td>\n",
       "    </tr>\n",
       "  </tbody>\n",
       "</table>\n",
       "<p>3 rows × 146 columns</p>\n",
       "</div>"
      ],
      "text/plain": [
       "   Batch_ID     T80                                             Smiles  \\\n",
       "0  Train-01  103.86             CCCCCCCCCCCCc1ccsc1-c1ccc(-c2cccs2)cc1   \n",
       "1  Train-02  101.13                        CCCCCCCCCCCCc1ccsc1-c1cccs1   \n",
       "2  Train-03   78.30  CN1CCN(S(=O)(=O)c2ccc(-c3ccc(-c4cccs4)cc3)cc2)CC1   \n",
       "\n",
       "      Mass  HAcceptors  HDonors    LogP  Asphericity        Rg   TPSA  ...  \\\n",
       "0  410.692           2        0  9.6070     0.301361  5.187321   0.00  ...   \n",
       "1  334.594           2        0  7.9400     0.367472  4.141425   0.00  ...   \n",
       "2  398.553           4        0  4.0182     0.799589  5.368024  40.62  ...   \n",
       "\n",
       "    SDOS4.5   SDOS4.6   SDOS4.7   SDOS4.8   SDOS4.9   SDOS5.0   SDOS5.1  \\\n",
       "0  1.717761  1.970186  1.760071  1.224983  0.664733  0.282353  0.096763   \n",
       "1  0.012396  0.046031  0.133124  0.299840  0.525958  0.718549  0.764711   \n",
       "2  2.421162  2.703267  2.352276  1.595867  0.845839  0.354620  0.127878   \n",
       "\n",
       "    SDOS5.2   SDOS5.3   SDOS5.4  \n",
       "0  0.034589  0.030793  0.057340  \n",
       "1  0.634854  0.414866  0.225909  \n",
       "2  0.060600  0.064782  0.098908  \n",
       "\n",
       "[3 rows x 146 columns]"
      ]
     },
     "metadata": {},
     "output_type": "display_data"
    },
    {
     "data": {
      "text/html": [
       "<div>\n",
       "<style scoped>\n",
       "    .dataframe tbody tr th:only-of-type {\n",
       "        vertical-align: middle;\n",
       "    }\n",
       "\n",
       "    .dataframe tbody tr th {\n",
       "        vertical-align: top;\n",
       "    }\n",
       "\n",
       "    .dataframe thead th {\n",
       "        text-align: right;\n",
       "    }\n",
       "</style>\n",
       "<table border=\"1\" class=\"dataframe\">\n",
       "  <thead>\n",
       "    <tr style=\"text-align: right;\">\n",
       "      <th></th>\n",
       "      <th>Batch_ID</th>\n",
       "      <th>T80</th>\n",
       "      <th>Smiles</th>\n",
       "      <th>Mass</th>\n",
       "      <th>HAcceptors</th>\n",
       "      <th>HDonors</th>\n",
       "      <th>LogP</th>\n",
       "      <th>Asphericity</th>\n",
       "      <th>Rg</th>\n",
       "      <th>TPSA</th>\n",
       "      <th>...</th>\n",
       "      <th>SDOS4.5</th>\n",
       "      <th>SDOS4.6</th>\n",
       "      <th>SDOS4.7</th>\n",
       "      <th>SDOS4.8</th>\n",
       "      <th>SDOS4.9</th>\n",
       "      <th>SDOS5.0</th>\n",
       "      <th>SDOS5.1</th>\n",
       "      <th>SDOS5.2</th>\n",
       "      <th>SDOS5.3</th>\n",
       "      <th>SDOS5.4</th>\n",
       "    </tr>\n",
       "  </thead>\n",
       "  <tbody>\n",
       "    <tr>\n",
       "      <th>0</th>\n",
       "      <td>Test-01</td>\n",
       "      <td>NaN</td>\n",
       "      <td>COC(=O)c3ccc(c2ccc(c1ccco1)cc2)s3</td>\n",
       "      <td>284.336</td>\n",
       "      <td>4</td>\n",
       "      <td>0</td>\n",
       "      <td>4.4617</td>\n",
       "      <td>0.796737</td>\n",
       "      <td>4.323524</td>\n",
       "      <td>39.44</td>\n",
       "      <td>...</td>\n",
       "      <td>0.709932</td>\n",
       "      <td>0.266678</td>\n",
       "      <td>0.078569</td>\n",
       "      <td>0.020244</td>\n",
       "      <td>0.011813</td>\n",
       "      <td>0.025880</td>\n",
       "      <td>0.061288</td>\n",
       "      <td>0.118430</td>\n",
       "      <td>0.181805</td>\n",
       "      <td>0.220200</td>\n",
       "    </tr>\n",
       "    <tr>\n",
       "      <th>1</th>\n",
       "      <td>Test-02</td>\n",
       "      <td>NaN</td>\n",
       "      <td>CCCCCCc2c(CCCCCC)c(c1cccs1)sc2c3ccc(C(=O)OC)cc3</td>\n",
       "      <td>468.728</td>\n",
       "      <td>4</td>\n",
       "      <td>0</td>\n",
       "      <td>9.1758</td>\n",
       "      <td>0.268870</td>\n",
       "      <td>5.019005</td>\n",
       "      <td>26.30</td>\n",
       "      <td>...</td>\n",
       "      <td>1.913133</td>\n",
       "      <td>1.823127</td>\n",
       "      <td>1.356344</td>\n",
       "      <td>0.797689</td>\n",
       "      <td>0.399819</td>\n",
       "      <td>0.236639</td>\n",
       "      <td>0.250003</td>\n",
       "      <td>0.343148</td>\n",
       "      <td>0.426963</td>\n",
       "      <td>0.445557</td>\n",
       "    </tr>\n",
       "    <tr>\n",
       "      <th>2</th>\n",
       "      <td>Test-03</td>\n",
       "      <td>NaN</td>\n",
       "      <td>COC(=O)c3ccc(c2ccc(c1cccc(OC)c1)cc2)s3</td>\n",
       "      <td>324.401</td>\n",
       "      <td>4</td>\n",
       "      <td>0</td>\n",
       "      <td>4.8773</td>\n",
       "      <td>0.846029</td>\n",
       "      <td>4.976660</td>\n",
       "      <td>35.53</td>\n",
       "      <td>...</td>\n",
       "      <td>2.302484</td>\n",
       "      <td>1.460937</td>\n",
       "      <td>0.729424</td>\n",
       "      <td>0.299914</td>\n",
       "      <td>0.124335</td>\n",
       "      <td>0.079533</td>\n",
       "      <td>0.080611</td>\n",
       "      <td>0.097277</td>\n",
       "      <td>0.129095</td>\n",
       "      <td>0.178570</td>\n",
       "    </tr>\n",
       "  </tbody>\n",
       "</table>\n",
       "<p>3 rows × 146 columns</p>\n",
       "</div>"
      ],
      "text/plain": [
       "  Batch_ID  T80                                           Smiles     Mass  \\\n",
       "0  Test-01  NaN                COC(=O)c3ccc(c2ccc(c1ccco1)cc2)s3  284.336   \n",
       "1  Test-02  NaN  CCCCCCc2c(CCCCCC)c(c1cccs1)sc2c3ccc(C(=O)OC)cc3  468.728   \n",
       "2  Test-03  NaN           COC(=O)c3ccc(c2ccc(c1cccc(OC)c1)cc2)s3  324.401   \n",
       "\n",
       "   HAcceptors  HDonors    LogP  Asphericity        Rg   TPSA  ...   SDOS4.5  \\\n",
       "0           4        0  4.4617     0.796737  4.323524  39.44  ...  0.709932   \n",
       "1           4        0  9.1758     0.268870  5.019005  26.30  ...  1.913133   \n",
       "2           4        0  4.8773     0.846029  4.976660  35.53  ...  2.302484   \n",
       "\n",
       "    SDOS4.6   SDOS4.7   SDOS4.8   SDOS4.9   SDOS5.0   SDOS5.1   SDOS5.2  \\\n",
       "0  0.266678  0.078569  0.020244  0.011813  0.025880  0.061288  0.118430   \n",
       "1  1.823127  1.356344  0.797689  0.399819  0.236639  0.250003  0.343148   \n",
       "2  1.460937  0.729424  0.299914  0.124335  0.079533  0.080611  0.097277   \n",
       "\n",
       "    SDOS5.3   SDOS5.4  \n",
       "0  0.181805  0.220200  \n",
       "1  0.426963  0.445557  \n",
       "2  0.129095  0.178570  \n",
       "\n",
       "[3 rows x 146 columns]"
      ]
     },
     "metadata": {},
     "output_type": "display_data"
    }
   ],
   "source": [
    "display(train.head(3))\n",
    "display(test.head(3))"
   ]
  },
  {
   "cell_type": "markdown",
   "id": "def7ef92",
   "metadata": {
    "papermill": {
     "duration": 0.003729,
     "end_time": "2025-03-30T18:37:44.915462",
     "exception": false,
     "start_time": "2025-03-30T18:37:44.911733",
     "status": "completed"
    },
    "tags": []
   },
   "source": [
    "## RDKit Feature Generating"
   ]
  },
  {
   "cell_type": "code",
   "execution_count": 5,
   "id": "812330f3",
   "metadata": {
    "execution": {
     "iopub.execute_input": "2025-03-30T18:37:44.925103Z",
     "iopub.status.busy": "2025-03-30T18:37:44.924701Z",
     "iopub.status.idle": "2025-03-30T18:38:00.611826Z",
     "shell.execute_reply": "2025-03-30T18:38:00.610657Z"
    },
    "papermill": {
     "duration": 15.69436,
     "end_time": "2025-03-30T18:38:00.613865",
     "exception": false,
     "start_time": "2025-03-30T18:37:44.919505",
     "status": "completed"
    },
    "tags": []
   },
   "outputs": [
    {
     "name": "stderr",
     "output_type": "stream",
     "text": [
      "[18:37:49] UFFTYPER: Unrecognized atom type: Se2+2 (24)\n",
      "[18:37:53] UFFTYPER: Unrecognized atom type: Se2+2 (31)\n",
      "[18:37:57] UFFTYPER: Unrecognized atom type: Se2+2 (23)\n"
     ]
    }
   ],
   "source": [
    "def gen_rdkit(df):\n",
    "    smiles = df.Smiles\n",
    "    RDKitProp = np.zeros(((smiles.shape[0]),10),dtype = float)\n",
    "    for d_key, smile in enumerate(smiles):\n",
    "        #Turns the smiles string into a 3D structure with hydrogens\n",
    "        mol3d = Chem.AddHs(Chem.MolFromSmiles(smile))\n",
    "        #Actually creates the molecules\n",
    "        AllChem.EmbedMolecule(mol3d,randomSeed=random.randint(1,1000000))\n",
    "        #Optimizes it with the MMFF force-field\n",
    "        #Note: Force-fields in OpenBabel don't have selenium\n",
    "        AllChem.MMFFOptimizeMolecule(mol3d)\n",
    "        RDKitProp[d_key,0] = Descriptors.MolWt(mol3d)\n",
    "        RDKitProp[d_key,1] = rdMolDescriptors.CalcNumHBA(mol3d)\n",
    "        RDKitProp[d_key,2] = rdMolDescriptors.CalcNumHBD(mol3d)\n",
    "        RDKitProp[d_key,3] = Descriptors.MolLogP(mol3d)\n",
    "        RDKitProp[d_key,4] = rdMolDescriptors.CalcAsphericity(mol3d)\n",
    "        RDKitProp[d_key,5] = rdMolDescriptors.CalcRadiusOfGyration(mol3d)\n",
    "        RDKitProp[d_key,6] = Descriptors.TPSA(mol3d)\n",
    "        RDKitProp[d_key,7] = rdMolDescriptors.CalcNumRings(mol3d)\n",
    "        RDKitProp[d_key,8] = rdMolDescriptors.CalcNumRotatableBonds(mol3d)\n",
    "        RDKitProp[d_key,9] = rdMolDescriptors.CalcNumHeteroatoms(mol3d)\n",
    "    df = pd.concat([df,pd.DataFrame(RDKitProp, columns=[f\"RDKit_{i}\" for i in range(10)])],axis=1)\n",
    "    return df\n",
    "train = gen_rdkit(train)\n",
    "test = gen_rdkit(test)"
   ]
  },
  {
   "cell_type": "markdown",
   "id": "dea5f663",
   "metadata": {
    "papermill": {
     "duration": 0.003954,
     "end_time": "2025-03-30T18:38:00.622474",
     "exception": false,
     "start_time": "2025-03-30T18:38:00.618520",
     "status": "completed"
    },
    "tags": []
   },
   "source": [
    "## Fit model"
   ]
  },
  {
   "cell_type": "code",
   "execution_count": 6,
   "id": "eee82e58",
   "metadata": {
    "execution": {
     "iopub.execute_input": "2025-03-30T18:38:00.632202Z",
     "iopub.status.busy": "2025-03-30T18:38:00.631826Z",
     "iopub.status.idle": "2025-03-30T18:38:00.655643Z",
     "shell.execute_reply": "2025-03-30T18:38:00.654472Z"
    },
    "papermill": {
     "duration": 0.031186,
     "end_time": "2025-03-30T18:38:00.657767",
     "exception": false,
     "start_time": "2025-03-30T18:38:00.626581",
     "status": "completed"
    },
    "tags": []
   },
   "outputs": [
    {
     "data": {
      "text/html": [
       "<div>\n",
       "<style scoped>\n",
       "    .dataframe tbody tr th:only-of-type {\n",
       "        vertical-align: middle;\n",
       "    }\n",
       "\n",
       "    .dataframe tbody tr th {\n",
       "        vertical-align: top;\n",
       "    }\n",
       "\n",
       "    .dataframe thead th {\n",
       "        text-align: right;\n",
       "    }\n",
       "</style>\n",
       "<table border=\"1\" class=\"dataframe\">\n",
       "  <thead>\n",
       "    <tr style=\"text-align: right;\">\n",
       "      <th></th>\n",
       "      <th>Batch_ID</th>\n",
       "      <th>T80</th>\n",
       "      <th>Smiles</th>\n",
       "      <th>Mass</th>\n",
       "      <th>HAcceptors</th>\n",
       "      <th>HDonors</th>\n",
       "      <th>LogP</th>\n",
       "      <th>Asphericity</th>\n",
       "      <th>Rg</th>\n",
       "      <th>TPSA</th>\n",
       "      <th>...</th>\n",
       "      <th>RDKit_0</th>\n",
       "      <th>RDKit_1</th>\n",
       "      <th>RDKit_2</th>\n",
       "      <th>RDKit_3</th>\n",
       "      <th>RDKit_4</th>\n",
       "      <th>RDKit_5</th>\n",
       "      <th>RDKit_6</th>\n",
       "      <th>RDKit_7</th>\n",
       "      <th>RDKit_8</th>\n",
       "      <th>RDKit_9</th>\n",
       "    </tr>\n",
       "  </thead>\n",
       "  <tbody>\n",
       "    <tr>\n",
       "      <th>0</th>\n",
       "      <td>Train-01</td>\n",
       "      <td>103.86</td>\n",
       "      <td>CCCCCCCCCCCCc1ccsc1-c1ccc(-c2cccs2)cc1</td>\n",
       "      <td>410.692</td>\n",
       "      <td>2</td>\n",
       "      <td>0</td>\n",
       "      <td>9.6070</td>\n",
       "      <td>0.301361</td>\n",
       "      <td>5.187321</td>\n",
       "      <td>0.00</td>\n",
       "      <td>...</td>\n",
       "      <td>410.692</td>\n",
       "      <td>2.0</td>\n",
       "      <td>0.0</td>\n",
       "      <td>9.6070</td>\n",
       "      <td>0.755404</td>\n",
       "      <td>5.636704</td>\n",
       "      <td>0.00</td>\n",
       "      <td>3.0</td>\n",
       "      <td>14.0</td>\n",
       "      <td>2.0</td>\n",
       "    </tr>\n",
       "    <tr>\n",
       "      <th>1</th>\n",
       "      <td>Train-02</td>\n",
       "      <td>101.13</td>\n",
       "      <td>CCCCCCCCCCCCc1ccsc1-c1cccs1</td>\n",
       "      <td>334.594</td>\n",
       "      <td>2</td>\n",
       "      <td>0</td>\n",
       "      <td>7.9400</td>\n",
       "      <td>0.367472</td>\n",
       "      <td>4.141425</td>\n",
       "      <td>0.00</td>\n",
       "      <td>...</td>\n",
       "      <td>334.594</td>\n",
       "      <td>2.0</td>\n",
       "      <td>0.0</td>\n",
       "      <td>7.9400</td>\n",
       "      <td>0.481617</td>\n",
       "      <td>4.726929</td>\n",
       "      <td>0.00</td>\n",
       "      <td>2.0</td>\n",
       "      <td>13.0</td>\n",
       "      <td>2.0</td>\n",
       "    </tr>\n",
       "    <tr>\n",
       "      <th>2</th>\n",
       "      <td>Train-03</td>\n",
       "      <td>78.30</td>\n",
       "      <td>CN1CCN(S(=O)(=O)c2ccc(-c3ccc(-c4cccs4)cc3)cc2)CC1</td>\n",
       "      <td>398.553</td>\n",
       "      <td>4</td>\n",
       "      <td>0</td>\n",
       "      <td>4.0182</td>\n",
       "      <td>0.799589</td>\n",
       "      <td>5.368024</td>\n",
       "      <td>40.62</td>\n",
       "      <td>...</td>\n",
       "      <td>398.553</td>\n",
       "      <td>4.0</td>\n",
       "      <td>0.0</td>\n",
       "      <td>4.0182</td>\n",
       "      <td>0.799589</td>\n",
       "      <td>5.368024</td>\n",
       "      <td>40.62</td>\n",
       "      <td>4.0</td>\n",
       "      <td>5.0</td>\n",
       "      <td>6.0</td>\n",
       "    </tr>\n",
       "  </tbody>\n",
       "</table>\n",
       "<p>3 rows × 156 columns</p>\n",
       "</div>"
      ],
      "text/plain": [
       "   Batch_ID     T80                                             Smiles  \\\n",
       "0  Train-01  103.86             CCCCCCCCCCCCc1ccsc1-c1ccc(-c2cccs2)cc1   \n",
       "1  Train-02  101.13                        CCCCCCCCCCCCc1ccsc1-c1cccs1   \n",
       "2  Train-03   78.30  CN1CCN(S(=O)(=O)c2ccc(-c3ccc(-c4cccs4)cc3)cc2)CC1   \n",
       "\n",
       "      Mass  HAcceptors  HDonors    LogP  Asphericity        Rg   TPSA  ...  \\\n",
       "0  410.692           2        0  9.6070     0.301361  5.187321   0.00  ...   \n",
       "1  334.594           2        0  7.9400     0.367472  4.141425   0.00  ...   \n",
       "2  398.553           4        0  4.0182     0.799589  5.368024  40.62  ...   \n",
       "\n",
       "   RDKit_0  RDKit_1  RDKit_2  RDKit_3   RDKit_4   RDKit_5  RDKit_6  RDKit_7  \\\n",
       "0  410.692      2.0      0.0   9.6070  0.755404  5.636704     0.00      3.0   \n",
       "1  334.594      2.0      0.0   7.9400  0.481617  4.726929     0.00      2.0   \n",
       "2  398.553      4.0      0.0   4.0182  0.799589  5.368024    40.62      4.0   \n",
       "\n",
       "   RDKit_8  RDKit_9  \n",
       "0     14.0      2.0  \n",
       "1     13.0      2.0  \n",
       "2      5.0      6.0  \n",
       "\n",
       "[3 rows x 156 columns]"
      ]
     },
     "execution_count": 6,
     "metadata": {},
     "output_type": "execute_result"
    }
   ],
   "source": [
    "train.head(3)"
   ]
  },
  {
   "cell_type": "code",
   "execution_count": 7,
   "id": "689ac419",
   "metadata": {
    "execution": {
     "iopub.execute_input": "2025-03-30T18:38:00.668443Z",
     "iopub.status.busy": "2025-03-30T18:38:00.668023Z",
     "iopub.status.idle": "2025-03-30T18:38:00.674276Z",
     "shell.execute_reply": "2025-03-30T18:38:00.672865Z"
    },
    "papermill": {
     "duration": 0.014003,
     "end_time": "2025-03-30T18:38:00.676522",
     "exception": false,
     "start_time": "2025-03-30T18:38:00.662519",
     "status": "completed"
    },
    "tags": []
   },
   "outputs": [],
   "source": [
    "X = train.iloc[:,3:]\n",
    "y = train['T80']\n",
    "X_test = test.iloc[:,3:]"
   ]
  },
  {
   "cell_type": "code",
   "execution_count": 8,
   "id": "01575f9b",
   "metadata": {
    "execution": {
     "iopub.execute_input": "2025-03-30T18:38:00.687521Z",
     "iopub.status.busy": "2025-03-30T18:38:00.687109Z",
     "iopub.status.idle": "2025-03-30T18:38:00.699153Z",
     "shell.execute_reply": "2025-03-30T18:38:00.698156Z"
    },
    "papermill": {
     "duration": 0.019689,
     "end_time": "2025-03-30T18:38:00.700945",
     "exception": false,
     "start_time": "2025-03-30T18:38:00.681256",
     "status": "completed"
    },
    "tags": []
   },
   "outputs": [],
   "source": [
    "def reg(X):\n",
    "    t = X['T2'] * X['TDOS3.2'] * X['LUMOp1(eV)']\n",
    "    result = (\n",
    "        (X['T8'] - t) * (1.7020332667085079 * X['SDOS3.9'])\n",
    "        +\n",
    "        (\n",
    "            ((X['TDOS3.7'] - X['SDOS3.8'] - X['TDOS4.3'] - X['TDOS2.7'])\n",
    "             / ((X['T14'] / X['TDOS3.6']) + (0.8998248512734 - X['RDKit_8'])))\n",
    "            +\n",
    "            ((X['LUMO(eV)'] + t) * ((X['LUMO(eV)'] + t) - X['TDOS3.2']))\n",
    "        )\n",
    "    )\n",
    "    return result\n",
    "y_pred = reg(X)\n",
    "y_test = reg(X_test)"
   ]
  },
  {
   "cell_type": "code",
   "execution_count": 9,
   "id": "e75cadb5",
   "metadata": {
    "execution": {
     "iopub.execute_input": "2025-03-30T18:38:00.711704Z",
     "iopub.status.busy": "2025-03-30T18:38:00.711224Z",
     "iopub.status.idle": "2025-03-30T18:38:01.032589Z",
     "shell.execute_reply": "2025-03-30T18:38:01.031332Z"
    },
    "papermill": {
     "duration": 0.329048,
     "end_time": "2025-03-30T18:38:01.034679",
     "exception": false,
     "start_time": "2025-03-30T18:38:00.705631",
     "status": "completed"
    },
    "tags": []
   },
   "outputs": [
    {
     "name": "stdout",
     "output_type": "stream",
     "text": [
      "the number of better predicted value: 11\n"
     ]
    },
    {
     "data": {
      "image/png": "[encoded data removed]",
      "text/plain": [
       "<Figure size 640x480 with 1 Axes>"
      ]
     },
     "metadata": {},
     "output_type": "display_data"
    }
   ],
   "source": [
    "score=[]\n",
    "for i in range(len(y)):\n",
    "    score.append(mean_squared_log_error(y[i:i+1],y_pred[i:i+1])) \n",
    "import matplotlib.pyplot as plt\n",
    "plt.plot(score)\n",
    "print(\"the number of better predicted value:\",np.isclose(score, 0, atol=1e-2).sum())"
   ]
  },
  {
   "cell_type": "code",
   "execution_count": 10,
   "id": "698fd64c",
   "metadata": {
    "execution": {
     "iopub.execute_input": "2025-03-30T18:38:01.047446Z",
     "iopub.status.busy": "2025-03-30T18:38:01.046980Z",
     "iopub.status.idle": "2025-03-30T18:38:01.055820Z",
     "shell.execute_reply": "2025-03-30T18:38:01.054532Z"
    },
    "papermill": {
     "duration": 0.017596,
     "end_time": "2025-03-30T18:38:01.057754",
     "exception": false,
     "start_time": "2025-03-30T18:38:01.040158",
     "status": "completed"
    },
    "tags": []
   },
   "outputs": [
    {
     "data": {
      "text/plain": [
       "0.0006452394945189557"
      ]
     },
     "execution_count": 10,
     "metadata": {},
     "output_type": "execute_result"
    }
   ],
   "source": [
    "#check LB\n",
    "mean_squared_log_error(y[-2:],y_pred[-2:])"
   ]
  },
  {
   "cell_type": "markdown",
   "id": "7009fdeb",
   "metadata": {
    "papermill": {
     "duration": 0.006137,
     "end_time": "2025-03-30T18:38:01.069567",
     "exception": false,
     "start_time": "2025-03-30T18:38:01.063430",
     "status": "completed"
    },
    "tags": []
   },
   "source": [
    "## Submission"
   ]
  },
  {
   "cell_type": "code",
   "execution_count": 11,
   "id": "7f89476e",
   "metadata": {
    "execution": {
     "iopub.execute_input": "2025-03-30T18:38:01.083603Z",
     "iopub.status.busy": "2025-03-30T18:38:01.083200Z",
     "iopub.status.idle": "2025-03-30T18:38:01.102731Z",
     "shell.execute_reply": "2025-03-30T18:38:01.101415Z"
    },
    "papermill": {
     "duration": 0.028561,
     "end_time": "2025-03-30T18:38:01.104586",
     "exception": false,
     "start_time": "2025-03-30T18:38:01.076025",
     "status": "completed"
    },
    "tags": []
   },
   "outputs": [
    {
     "data": {
      "text/html": [
       "<div>\n",
       "<style scoped>\n",
       "    .dataframe tbody tr th:only-of-type {\n",
       "        vertical-align: middle;\n",
       "    }\n",
       "\n",
       "    .dataframe tbody tr th {\n",
       "        vertical-align: top;\n",
       "    }\n",
       "\n",
       "    .dataframe thead th {\n",
       "        text-align: right;\n",
       "    }\n",
       "</style>\n",
       "<table border=\"1\" class=\"dataframe\">\n",
       "  <thead>\n",
       "    <tr style=\"text-align: right;\">\n",
       "      <th></th>\n",
       "      <th>Batch_ID</th>\n",
       "      <th>T80</th>\n",
       "    </tr>\n",
       "  </thead>\n",
       "  <tbody>\n",
       "    <tr>\n",
       "      <th>0</th>\n",
       "      <td>Test-01</td>\n",
       "      <td>9.376646</td>\n",
       "    </tr>\n",
       "    <tr>\n",
       "      <th>1</th>\n",
       "      <td>Test-02</td>\n",
       "      <td>17.167608</td>\n",
       "    </tr>\n",
       "    <tr>\n",
       "      <th>2</th>\n",
       "      <td>Test-03</td>\n",
       "      <td>20.412531</td>\n",
       "    </tr>\n",
       "    <tr>\n",
       "      <th>3</th>\n",
       "      <td>Test-04</td>\n",
       "      <td>35.116611</td>\n",
       "    </tr>\n",
       "    <tr>\n",
       "      <th>4</th>\n",
       "      <td>Test-05</td>\n",
       "      <td>9.255750</td>\n",
       "    </tr>\n",
       "    <tr>\n",
       "      <th>5</th>\n",
       "      <td>Test-06</td>\n",
       "      <td>38.854258</td>\n",
       "    </tr>\n",
       "    <tr>\n",
       "      <th>6</th>\n",
       "      <td>Test-07</td>\n",
       "      <td>0.000000</td>\n",
       "    </tr>\n",
       "    <tr>\n",
       "      <th>7</th>\n",
       "      <td>Test-08</td>\n",
       "      <td>4.575606</td>\n",
       "    </tr>\n",
       "    <tr>\n",
       "      <th>8</th>\n",
       "      <td>Test-09</td>\n",
       "      <td>20.844693</td>\n",
       "    </tr>\n",
       "  </tbody>\n",
       "</table>\n",
       "</div>"
      ],
      "text/plain": [
       "  Batch_ID        T80\n",
       "0  Test-01   9.376646\n",
       "1  Test-02  17.167608\n",
       "2  Test-03  20.412531\n",
       "3  Test-04  35.116611\n",
       "4  Test-05   9.255750\n",
       "5  Test-06  38.854258\n",
       "6  Test-07   0.000000\n",
       "7  Test-08   4.575606\n",
       "8  Test-09  20.844693"
      ]
     },
     "execution_count": 11,
     "metadata": {},
     "output_type": "execute_result"
    }
   ],
   "source": [
    "sub = pd.DataFrame({'Batch_ID': test.Batch_ID,\n",
    "                       'T80': np.clip(y_test,0,None)})\n",
    "sub.to_csv('submission.csv', index=False)\n",
    "sub.head(10)"
   ]
  },
  {
   "cell_type": "code",
   "execution_count": null,
   "id": "5e702a58",
   "metadata": {
    "papermill": {
     "duration": 0.005752,
     "end_time": "2025-03-30T18:38:01.116198",
     "exception": false,
     "start_time": "2025-03-30T18:38:01.110446",
     "status": "completed"
    },
    "tags": []
   },
   "outputs": [],
   "source": []
  }
 ],
 "metadata": {
  "kaggle": {
   "accelerator": "none",
   "dataSources": [
    {
     "databundleVersionId": 11467685,
     "sourceId": 90087,
     "sourceType": "competition"
    }
   ],
   "dockerImageVersionId": 30918,
   "isGpuEnabled": false,
   "isInternetEnabled": true,
   "language": "python",
   "sourceType": "notebook"
  },
  "kernelspec": {
   "display_name": "Python 3",
   "language": "python",
   "name": "python3"
  },
  "language_info": {
   "codemirror_mode": {
    "name": "ipython",
    "version": 3
   },
   "file_extension": ".py",
   "mimetype": "text/x-python",
   "name": "python",
   "nbconvert_exporter": "python",
   "pygments_lexer": "ipython3",
   "version": "3.10.12"
  },
  "papermill": {
   "default_parameters": {},
   "duration": 31.883589,
   "end_time": "2025-03-30T18:38:01.943327",
   "environment_variables": {},
   "exception": null,
   "input_path": "__notebook__.ipynb",
   "output_path": "__notebook__.ipynb",
   "parameters": {},
   "start_time": "2025-03-30T18:37:30.059738",
   "version": "2.6.0"
  }
 },
 "nbformat": 4,
 "nbformat_minor": 5
}
