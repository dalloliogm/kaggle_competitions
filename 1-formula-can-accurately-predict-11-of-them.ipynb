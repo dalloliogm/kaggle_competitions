{
 "cells": [
  {
   "cell_type": "markdown",
   "id": "41b1c525",
   "metadata": {
    "_cell_guid": "b1076dfc-b9ad-4769-8c92-a6c4dae69d19",
    "_uuid": "8f2839f25d086af736a60e9eeb907d3b93b6e0e5",
    "execution": {
     "iopub.execute_input": "2025-03-24T13:59:52.246955Z",
     "iopub.status.busy": "2025-03-24T13:59:52.246304Z",
     "iopub.status.idle": "2025-03-24T14:00:00.213208Z",
     "shell.execute_reply": "2025-03-24T14:00:00.21203Z",
     "shell.execute_reply.started": "2025-03-24T13:59:52.246919Z"
    },
    "papermill": {
     "duration": 0.004176,
     "end_time": "2025-04-06T13:03:46.245082",
     "exception": false,
     "start_time": "2025-04-06T13:03:46.240906",
     "status": "completed"
    },
    "tags": []
   },
   "source": [
    "## Import library"
   ]
  },
  {
   "cell_type": "code",
   "execution_count": 1,
   "id": "8d773fbb",
   "metadata": {
    "execution": {
     "iopub.execute_input": "2025-04-06T13:03:46.253605Z",
     "iopub.status.busy": "2025-04-06T13:03:46.253237Z",
     "iopub.status.idle": "2025-04-06T13:03:54.296599Z",
     "shell.execute_reply": "2025-04-06T13:03:54.295485Z"
    },
    "papermill": {
     "duration": 8.049777,
     "end_time": "2025-04-06T13:03:54.298551",
     "exception": false,
     "start_time": "2025-04-06T13:03:46.248774",
     "status": "completed"
    },
    "tags": []
   },
   "outputs": [],
   "source": [
    "%%capture\n",
    "!pip install rdkit\n",
    "from rdkit.Chem import AllChem\n",
    "from rdkit.Chem import Descriptors, rdMolDescriptors\n",
    "from rdkit import Chem"
   ]
  },
  {
   "cell_type": "code",
   "execution_count": 2,
   "id": "d3480d46",
   "metadata": {
    "execution": {
     "iopub.execute_input": "2025-04-06T13:03:54.307657Z",
     "iopub.status.busy": "2025-04-06T13:03:54.307297Z",
     "iopub.status.idle": "2025-04-06T13:03:56.619301Z",
     "shell.execute_reply": "2025-04-06T13:03:56.618089Z"
    },
    "papermill": {
     "duration": 2.319298,
     "end_time": "2025-04-06T13:03:56.621861",
     "exception": false,
     "start_time": "2025-04-06T13:03:54.302563",
     "status": "completed"
    },
    "tags": []
   },
   "outputs": [],
   "source": [
    "import pandas as pd\n",
    "import numpy as np\n",
    "import random\n",
    "from sklearn.metrics import mean_squared_log_error\n",
    "import warnings\n",
    "warnings.filterwarnings('ignore')"
   ]
  },
  {
   "cell_type": "code",
   "execution_count": 3,
   "id": "de43aa43",
   "metadata": {
    "execution": {
     "iopub.execute_input": "2025-04-06T13:03:56.631025Z",
     "iopub.status.busy": "2025-04-06T13:03:56.630476Z",
     "iopub.status.idle": "2025-04-06T13:03:56.671490Z",
     "shell.execute_reply": "2025-04-06T13:03:56.670470Z"
    },
    "papermill": {
     "duration": 0.047748,
     "end_time": "2025-04-06T13:03:56.673570",
     "exception": false,
     "start_time": "2025-04-06T13:03:56.625822",
     "status": "completed"
    },
    "tags": []
   },
   "outputs": [],
   "source": [
    "train = pd.read_csv('/kaggle/input/molecular-machine-learning/train.csv')\n",
    "test= pd.read_csv('/kaggle/input/molecular-machine-learning/test.csv')\n",
    "sub = pd.read_csv('/kaggle/input/molecular-machine-learning/sample_submission.csv')"
   ]
  },
  {
   "cell_type": "code",
   "execution_count": 4,
   "id": "a5ad7f7f",
   "metadata": {
    "execution": {
     "iopub.execute_input": "2025-04-06T13:03:56.682706Z",
     "iopub.status.busy": "2025-04-06T13:03:56.682295Z",
     "iopub.status.idle": "2025-04-06T13:03:56.745383Z",
     "shell.execute_reply": "2025-04-06T13:03:56.744360Z"
    },
    "papermill": {
     "duration": 0.069492,
     "end_time": "2025-04-06T13:03:56.747033",
     "exception": false,
     "start_time": "2025-04-06T13:03:56.677541",
     "status": "completed"
    },
    "tags": []
   },
   "outputs": [
    {
     "data": {
      "text/html": [
       "<div>\n",
       "<style scoped>\n",
       "    .dataframe tbody tr th:only-of-type {\n",
       "        vertical-align: middle;\n",
       "    }\n",
       "\n",
       "    .dataframe tbody tr th {\n",
       "        vertical-align: top;\n",
       "    }\n",
       "\n",
       "    .dataframe thead th {\n",
       "        text-align: right;\n",
       "    }\n",
       "</style>\n",
       "<table border=\"1\" class=\"dataframe\">\n",
       "  <thead>\n",
       "    <tr style=\"text-align: right;\">\n",
       "      <th></th>\n",
       "      <th>Batch_ID</th>\n",
       "      <th>T80</th>\n",
       "      <th>Smiles</th>\n",
       "      <th>Mass</th>\n",
       "      <th>HAcceptors</th>\n",
       "      <th>HDonors</th>\n",
       "      <th>LogP</th>\n",
       "      <th>Asphericity</th>\n",
       "      <th>Rg</th>\n",
       "      <th>TPSA</th>\n",
       "      <th>...</th>\n",
       "      <th>SDOS4.5</th>\n",
       "      <th>SDOS4.6</th>\n",
       "      <th>SDOS4.7</th>\n",
       "      <th>SDOS4.8</th>\n",
       "      <th>SDOS4.9</th>\n",
       "      <th>SDOS5.0</th>\n",
       "      <th>SDOS5.1</th>\n",
       "      <th>SDOS5.2</th>\n",
       "      <th>SDOS5.3</th>\n",
       "      <th>SDOS5.4</th>\n",
       "    </tr>\n",
       "  </thead>\n",
       "  <tbody>\n",
       "    <tr>\n",
       "      <th>0</th>\n",
       "      <td>Train-01</td>\n",
       "      <td>103.86</td>\n",
       "      <td>CCCCCCCCCCCCc1ccsc1-c1ccc(-c2cccs2)cc1</td>\n",
       "      <td>410.692</td>\n",
       "      <td>2</td>\n",
       "      <td>0</td>\n",
       "      <td>9.6070</td>\n",
       "      <td>0.301361</td>\n",
       "      <td>5.187321</td>\n",
       "      <td>0.00</td>\n",
       "      <td>...</td>\n",
       "      <td>1.717761</td>\n",
       "      <td>1.970186</td>\n",
       "      <td>1.760071</td>\n",
       "      <td>1.224983</td>\n",
       "      <td>0.664733</td>\n",
       "      <td>0.282353</td>\n",
       "      <td>0.096763</td>\n",
       "      <td>0.034589</td>\n",
       "      <td>0.030793</td>\n",
       "      <td>0.057340</td>\n",
       "    </tr>\n",
       "    <tr>\n",
       "      <th>1</th>\n",
       "      <td>Train-02</td>\n",
       "      <td>101.13</td>\n",
       "      <td>CCCCCCCCCCCCc1ccsc1-c1cccs1</td>\n",
       "      <td>334.594</td>\n",
       "      <td>2</td>\n",
       "      <td>0</td>\n",
       "      <td>7.9400</td>\n",
       "      <td>0.367472</td>\n",
       "      <td>4.141425</td>\n",
       "      <td>0.00</td>\n",
       "      <td>...</td>\n",
       "      <td>0.012396</td>\n",
       "      <td>0.046031</td>\n",
       "      <td>0.133124</td>\n",
       "      <td>0.299840</td>\n",
       "      <td>0.525958</td>\n",
       "      <td>0.718549</td>\n",
       "      <td>0.764711</td>\n",
       "      <td>0.634854</td>\n",
       "      <td>0.414866</td>\n",
       "      <td>0.225909</td>\n",
       "    </tr>\n",
       "    <tr>\n",
       "      <th>2</th>\n",
       "      <td>Train-03</td>\n",
       "      <td>78.30</td>\n",
       "      <td>CN1CCN(S(=O)(=O)c2ccc(-c3ccc(-c4cccs4)cc3)cc2)CC1</td>\n",
       "      <td>398.553</td>\n",
       "      <td>4</td>\n",
       "      <td>0</td>\n",
       "      <td>4.0182</td>\n",
       "      <td>0.799589</td>\n",
       "      <td>5.368024</td>\n",
       "      <td>40.62</td>\n",
       "      <td>...</td>\n",
       "      <td>2.421162</td>\n",
       "      <td>2.703267</td>\n",
       "      <td>2.352276</td>\n",
       "      <td>1.595867</td>\n",
       "      <td>0.845839</td>\n",
       "      <td>0.354620</td>\n",
       "      <td>0.127878</td>\n",
       "      <td>0.060600</td>\n",
       "      <td>0.064782</td>\n",
       "      <td>0.098908</td>\n",
       "    </tr>\n",
       "  </tbody>\n",
       "</table>\n",
       "<p>3 rows × 146 columns</p>\n",
       "</div>"
      ],
      "text/plain": [
       "   Batch_ID     T80                                             Smiles  \\\n",
       "0  Train-01  103.86             CCCCCCCCCCCCc1ccsc1-c1ccc(-c2cccs2)cc1   \n",
       "1  Train-02  101.13                        CCCCCCCCCCCCc1ccsc1-c1cccs1   \n",
       "2  Train-03   78.30  CN1CCN(S(=O)(=O)c2ccc(-c3ccc(-c4cccs4)cc3)cc2)CC1   \n",
       "\n",
       "      Mass  HAcceptors  HDonors    LogP  Asphericity        Rg   TPSA  ...  \\\n",
       "0  410.692           2        0  9.6070     0.301361  5.187321   0.00  ...   \n",
       "1  334.594           2        0  7.9400     0.367472  4.141425   0.00  ...   \n",
       "2  398.553           4        0  4.0182     0.799589  5.368024  40.62  ...   \n",
       "\n",
       "    SDOS4.5   SDOS4.6   SDOS4.7   SDOS4.8   SDOS4.9   SDOS5.0   SDOS5.1  \\\n",
       "0  1.717761  1.970186  1.760071  1.224983  0.664733  0.282353  0.096763   \n",
       "1  0.012396  0.046031  0.133124  0.299840  0.525958  0.718549  0.764711   \n",
       "2  2.421162  2.703267  2.352276  1.595867  0.845839  0.354620  0.127878   \n",
       "\n",
       "    SDOS5.2   SDOS5.3   SDOS5.4  \n",
       "0  0.034589  0.030793  0.057340  \n",
       "1  0.634854  0.414866  0.225909  \n",
       "2  0.060600  0.064782  0.098908  \n",
       "\n",
       "[3 rows x 146 columns]"
      ]
     },
     "metadata": {},
     "output_type": "display_data"
    },
    {
     "data": {
      "text/html": [
       "<div>\n",
       "<style scoped>\n",
       "    .dataframe tbody tr th:only-of-type {\n",
       "        vertical-align: middle;\n",
       "    }\n",
       "\n",
       "    .dataframe tbody tr th {\n",
       "        vertical-align: top;\n",
       "    }\n",
       "\n",
       "    .dataframe thead th {\n",
       "        text-align: right;\n",
       "    }\n",
       "</style>\n",
       "<table border=\"1\" class=\"dataframe\">\n",
       "  <thead>\n",
       "    <tr style=\"text-align: right;\">\n",
       "      <th></th>\n",
       "      <th>Batch_ID</th>\n",
       "      <th>T80</th>\n",
       "      <th>Smiles</th>\n",
       "      <th>Mass</th>\n",
       "      <th>HAcceptors</th>\n",
       "      <th>HDonors</th>\n",
       "      <th>LogP</th>\n",
       "      <th>Asphericity</th>\n",
       "      <th>Rg</th>\n",
       "      <th>TPSA</th>\n",
       "      <th>...</th>\n",
       "      <th>SDOS4.5</th>\n",
       "      <th>SDOS4.6</th>\n",
       "      <th>SDOS4.7</th>\n",
       "      <th>SDOS4.8</th>\n",
       "      <th>SDOS4.9</th>\n",
       "      <th>SDOS5.0</th>\n",
       "      <th>SDOS5.1</th>\n",
       "      <th>SDOS5.2</th>\n",
       "      <th>SDOS5.3</th>\n",
       "      <th>SDOS5.4</th>\n",
       "    </tr>\n",
       "  </thead>\n",
       "  <tbody>\n",
       "    <tr>\n",
       "      <th>0</th>\n",
       "      <td>Test-01</td>\n",
       "      <td>NaN</td>\n",
       "      <td>COC(=O)c3ccc(c2ccc(c1ccco1)cc2)s3</td>\n",
       "      <td>284.336</td>\n",
       "      <td>4</td>\n",
       "      <td>0</td>\n",
       "      <td>4.4617</td>\n",
       "      <td>0.796737</td>\n",
       "      <td>4.323524</td>\n",
       "      <td>39.44</td>\n",
       "      <td>...</td>\n",
       "      <td>0.709932</td>\n",
       "      <td>0.266678</td>\n",
       "      <td>0.078569</td>\n",
       "      <td>0.020244</td>\n",
       "      <td>0.011813</td>\n",
       "      <td>0.025880</td>\n",
       "      <td>0.061288</td>\n",
       "      <td>0.118430</td>\n",
       "      <td>0.181805</td>\n",
       "      <td>0.220200</td>\n",
       "    </tr>\n",
       "    <tr>\n",
       "      <th>1</th>\n",
       "      <td>Test-02</td>\n",
       "      <td>NaN</td>\n",
       "      <td>CCCCCCc2c(CCCCCC)c(c1cccs1)sc2c3ccc(C(=O)OC)cc3</td>\n",
       "      <td>468.728</td>\n",
       "      <td>4</td>\n",
       "      <td>0</td>\n",
       "      <td>9.1758</td>\n",
       "      <td>0.268870</td>\n",
       "      <td>5.019005</td>\n",
       "      <td>26.30</td>\n",
       "      <td>...</td>\n",
       "      <td>1.913133</td>\n",
       "      <td>1.823127</td>\n",
       "      <td>1.356344</td>\n",
       "      <td>0.797689</td>\n",
       "      <td>0.399819</td>\n",
       "      <td>0.236639</td>\n",
       "      <td>0.250003</td>\n",
       "      <td>0.343148</td>\n",
       "      <td>0.426963</td>\n",
       "      <td>0.445557</td>\n",
       "    </tr>\n",
       "    <tr>\n",
       "      <th>2</th>\n",
       "      <td>Test-03</td>\n",
       "      <td>NaN</td>\n",
       "      <td>COC(=O)c3ccc(c2ccc(c1cccc(OC)c1)cc2)s3</td>\n",
       "      <td>324.401</td>\n",
       "      <td>4</td>\n",
       "      <td>0</td>\n",
       "      <td>4.8773</td>\n",
       "      <td>0.846029</td>\n",
       "      <td>4.976660</td>\n",
       "      <td>35.53</td>\n",
       "      <td>...</td>\n",
       "      <td>2.302484</td>\n",
       "      <td>1.460937</td>\n",
       "      <td>0.729424</td>\n",
       "      <td>0.299914</td>\n",
       "      <td>0.124335</td>\n",
       "      <td>0.079533</td>\n",
       "      <td>0.080611</td>\n",
       "      <td>0.097277</td>\n",
       "      <td>0.129095</td>\n",
       "      <td>0.178570</td>\n",
       "    </tr>\n",
       "  </tbody>\n",
       "</table>\n",
       "<p>3 rows × 146 columns</p>\n",
       "</div>"
      ],
      "text/plain": [
       "  Batch_ID  T80                                           Smiles     Mass  \\\n",
       "0  Test-01  NaN                COC(=O)c3ccc(c2ccc(c1ccco1)cc2)s3  284.336   \n",
       "1  Test-02  NaN  CCCCCCc2c(CCCCCC)c(c1cccs1)sc2c3ccc(C(=O)OC)cc3  468.728   \n",
       "2  Test-03  NaN           COC(=O)c3ccc(c2ccc(c1cccc(OC)c1)cc2)s3  324.401   \n",
       "\n",
       "   HAcceptors  HDonors    LogP  Asphericity        Rg   TPSA  ...   SDOS4.5  \\\n",
       "0           4        0  4.4617     0.796737  4.323524  39.44  ...  0.709932   \n",
       "1           4        0  9.1758     0.268870  5.019005  26.30  ...  1.913133   \n",
       "2           4        0  4.8773     0.846029  4.976660  35.53  ...  2.302484   \n",
       "\n",
       "    SDOS4.6   SDOS4.7   SDOS4.8   SDOS4.9   SDOS5.0   SDOS5.1   SDOS5.2  \\\n",
       "0  0.266678  0.078569  0.020244  0.011813  0.025880  0.061288  0.118430   \n",
       "1  1.823127  1.356344  0.797689  0.399819  0.236639  0.250003  0.343148   \n",
       "2  1.460937  0.729424  0.299914  0.124335  0.079533  0.080611  0.097277   \n",
       "\n",
       "    SDOS5.3   SDOS5.4  \n",
       "0  0.181805  0.220200  \n",
       "1  0.426963  0.445557  \n",
       "2  0.129095  0.178570  \n",
       "\n",
       "[3 rows x 146 columns]"
      ]
     },
     "metadata": {},
     "output_type": "display_data"
    }
   ],
   "source": [
    "display(train.head(3))\n",
    "display(test.head(3))"
   ]
  },
  {
   "cell_type": "markdown",
   "id": "6fc50c5d",
   "metadata": {
    "papermill": {
     "duration": 0.003946,
     "end_time": "2025-04-06T13:03:56.755273",
     "exception": false,
     "start_time": "2025-04-06T13:03:56.751327",
     "status": "completed"
    },
    "tags": []
   },
   "source": [
    "## RDKit Feature Generating"
   ]
  },
  {
   "cell_type": "code",
   "execution_count": 5,
   "id": "1257b6fd",
   "metadata": {
    "execution": {
     "iopub.execute_input": "2025-04-06T13:03:56.764838Z",
     "iopub.status.busy": "2025-04-06T13:03:56.764480Z",
     "iopub.status.idle": "2025-04-06T13:04:12.278068Z",
     "shell.execute_reply": "2025-04-06T13:04:12.277099Z"
    },
    "papermill": {
     "duration": 15.520547,
     "end_time": "2025-04-06T13:04:12.279942",
     "exception": false,
     "start_time": "2025-04-06T13:03:56.759395",
     "status": "completed"
    },
    "tags": []
   },
   "outputs": [
    {
     "name": "stderr",
     "output_type": "stream",
     "text": [
      "[13:04:01] UFFTYPER: Unrecognized atom type: Se2+2 (24)\n",
      "[13:04:05] UFFTYPER: Unrecognized atom type: Se2+2 (31)\n",
      "[13:04:08] UFFTYPER: Unrecognized atom type: Se2+2 (23)\n"
     ]
    }
   ],
   "source": [
    "def gen_rdkit(df):\n",
    "    smiles = df.Smiles\n",
    "    RDKitProp = np.zeros(((smiles.shape[0]),10),dtype = float)\n",
    "    for d_key, smile in enumerate(smiles):\n",
    "        #Turns the smiles string into a 3D structure with hydrogens\n",
    "        mol3d = Chem.AddHs(Chem.MolFromSmiles(smile))\n",
    "        #Actually creates the molecules\n",
    "        AllChem.EmbedMolecule(mol3d,randomSeed=random.randint(1,1000000))\n",
    "        #Optimizes it with the MMFF force-field\n",
    "        #Note: Force-fields in OpenBabel don't have selenium\n",
    "        AllChem.MMFFOptimizeMolecule(mol3d)\n",
    "        RDKitProp[d_key,0] = Descriptors.MolWt(mol3d)\n",
    "        RDKitProp[d_key,1] = rdMolDescriptors.CalcNumHBA(mol3d)\n",
    "        RDKitProp[d_key,2] = rdMolDescriptors.CalcNumHBD(mol3d)\n",
    "        RDKitProp[d_key,3] = Descriptors.MolLogP(mol3d)\n",
    "        RDKitProp[d_key,4] = rdMolDescriptors.CalcAsphericity(mol3d)\n",
    "        RDKitProp[d_key,5] = rdMolDescriptors.CalcRadiusOfGyration(mol3d)\n",
    "        RDKitProp[d_key,6] = Descriptors.TPSA(mol3d)\n",
    "        RDKitProp[d_key,7] = rdMolDescriptors.CalcNumRings(mol3d)\n",
    "        RDKitProp[d_key,8] = rdMolDescriptors.CalcNumRotatableBonds(mol3d)\n",
    "        RDKitProp[d_key,9] = rdMolDescriptors.CalcNumHeteroatoms(mol3d)\n",
    "    df = pd.concat([df,pd.DataFrame(RDKitProp, columns=[f\"RDKit_{i}\" for i in range(10)])],axis=1)\n",
    "    return df\n",
    "train = gen_rdkit(train)\n",
    "test = gen_rdkit(test)"
   ]
  },
  {
   "cell_type": "markdown",
   "id": "6cd14230",
   "metadata": {
    "papermill": {
     "duration": 0.003934,
     "end_time": "2025-04-06T13:04:12.288396",
     "exception": false,
     "start_time": "2025-04-06T13:04:12.284462",
     "status": "completed"
    },
    "tags": []
   },
   "source": [
    "## Fit model"
   ]
  },
  {
   "cell_type": "code",
   "execution_count": 6,
   "id": "d647512f",
   "metadata": {
    "execution": {
     "iopub.execute_input": "2025-04-06T13:04:12.298137Z",
     "iopub.status.busy": "2025-04-06T13:04:12.297758Z",
     "iopub.status.idle": "2025-04-06T13:04:12.319335Z",
     "shell.execute_reply": "2025-04-06T13:04:12.318358Z"
    },
    "papermill": {
     "duration": 0.028074,
     "end_time": "2025-04-06T13:04:12.320704",
     "exception": false,
     "start_time": "2025-04-06T13:04:12.292630",
     "status": "completed"
    },
    "tags": []
   },
   "outputs": [
    {
     "data": {
      "text/html": [
       "<div>\n",
       "<style scoped>\n",
       "    .dataframe tbody tr th:only-of-type {\n",
       "        vertical-align: middle;\n",
       "    }\n",
       "\n",
       "    .dataframe tbody tr th {\n",
       "        vertical-align: top;\n",
       "    }\n",
       "\n",
       "    .dataframe thead th {\n",
       "        text-align: right;\n",
       "    }\n",
       "</style>\n",
       "<table border=\"1\" class=\"dataframe\">\n",
       "  <thead>\n",
       "    <tr style=\"text-align: right;\">\n",
       "      <th></th>\n",
       "      <th>Batch_ID</th>\n",
       "      <th>T80</th>\n",
       "      <th>Smiles</th>\n",
       "      <th>Mass</th>\n",
       "      <th>HAcceptors</th>\n",
       "      <th>HDonors</th>\n",
       "      <th>LogP</th>\n",
       "      <th>Asphericity</th>\n",
       "      <th>Rg</th>\n",
       "      <th>TPSA</th>\n",
       "      <th>...</th>\n",
       "      <th>RDKit_0</th>\n",
       "      <th>RDKit_1</th>\n",
       "      <th>RDKit_2</th>\n",
       "      <th>RDKit_3</th>\n",
       "      <th>RDKit_4</th>\n",
       "      <th>RDKit_5</th>\n",
       "      <th>RDKit_6</th>\n",
       "      <th>RDKit_7</th>\n",
       "      <th>RDKit_8</th>\n",
       "      <th>RDKit_9</th>\n",
       "    </tr>\n",
       "  </thead>\n",
       "  <tbody>\n",
       "    <tr>\n",
       "      <th>0</th>\n",
       "      <td>Train-01</td>\n",
       "      <td>103.86</td>\n",
       "      <td>CCCCCCCCCCCCc1ccsc1-c1ccc(-c2cccs2)cc1</td>\n",
       "      <td>410.692</td>\n",
       "      <td>2</td>\n",
       "      <td>0</td>\n",
       "      <td>9.6070</td>\n",
       "      <td>0.301361</td>\n",
       "      <td>5.187321</td>\n",
       "      <td>0.00</td>\n",
       "      <td>...</td>\n",
       "      <td>410.692</td>\n",
       "      <td>2.0</td>\n",
       "      <td>0.0</td>\n",
       "      <td>9.6070</td>\n",
       "      <td>0.740650</td>\n",
       "      <td>5.905532</td>\n",
       "      <td>0.00</td>\n",
       "      <td>3.0</td>\n",
       "      <td>14.0</td>\n",
       "      <td>2.0</td>\n",
       "    </tr>\n",
       "    <tr>\n",
       "      <th>1</th>\n",
       "      <td>Train-02</td>\n",
       "      <td>101.13</td>\n",
       "      <td>CCCCCCCCCCCCc1ccsc1-c1cccs1</td>\n",
       "      <td>334.594</td>\n",
       "      <td>2</td>\n",
       "      <td>0</td>\n",
       "      <td>7.9400</td>\n",
       "      <td>0.367472</td>\n",
       "      <td>4.141425</td>\n",
       "      <td>0.00</td>\n",
       "      <td>...</td>\n",
       "      <td>334.594</td>\n",
       "      <td>2.0</td>\n",
       "      <td>0.0</td>\n",
       "      <td>7.9400</td>\n",
       "      <td>0.640743</td>\n",
       "      <td>4.926515</td>\n",
       "      <td>0.00</td>\n",
       "      <td>2.0</td>\n",
       "      <td>13.0</td>\n",
       "      <td>2.0</td>\n",
       "    </tr>\n",
       "    <tr>\n",
       "      <th>2</th>\n",
       "      <td>Train-03</td>\n",
       "      <td>78.30</td>\n",
       "      <td>CN1CCN(S(=O)(=O)c2ccc(-c3ccc(-c4cccs4)cc3)cc2)CC1</td>\n",
       "      <td>398.553</td>\n",
       "      <td>4</td>\n",
       "      <td>0</td>\n",
       "      <td>4.0182</td>\n",
       "      <td>0.799589</td>\n",
       "      <td>5.368024</td>\n",
       "      <td>40.62</td>\n",
       "      <td>...</td>\n",
       "      <td>398.553</td>\n",
       "      <td>4.0</td>\n",
       "      <td>0.0</td>\n",
       "      <td>4.0182</td>\n",
       "      <td>0.753306</td>\n",
       "      <td>5.315750</td>\n",
       "      <td>40.62</td>\n",
       "      <td>4.0</td>\n",
       "      <td>5.0</td>\n",
       "      <td>6.0</td>\n",
       "    </tr>\n",
       "  </tbody>\n",
       "</table>\n",
       "<p>3 rows × 156 columns</p>\n",
       "</div>"
      ],
      "text/plain": [
       "   Batch_ID     T80                                             Smiles  \\\n",
       "0  Train-01  103.86             CCCCCCCCCCCCc1ccsc1-c1ccc(-c2cccs2)cc1   \n",
       "1  Train-02  101.13                        CCCCCCCCCCCCc1ccsc1-c1cccs1   \n",
       "2  Train-03   78.30  CN1CCN(S(=O)(=O)c2ccc(-c3ccc(-c4cccs4)cc3)cc2)CC1   \n",
       "\n",
       "      Mass  HAcceptors  HDonors    LogP  Asphericity        Rg   TPSA  ...  \\\n",
       "0  410.692           2        0  9.6070     0.301361  5.187321   0.00  ...   \n",
       "1  334.594           2        0  7.9400     0.367472  4.141425   0.00  ...   \n",
       "2  398.553           4        0  4.0182     0.799589  5.368024  40.62  ...   \n",
       "\n",
       "   RDKit_0  RDKit_1  RDKit_2  RDKit_3   RDKit_4   RDKit_5  RDKit_6  RDKit_7  \\\n",
       "0  410.692      2.0      0.0   9.6070  0.740650  5.905532     0.00      3.0   \n",
       "1  334.594      2.0      0.0   7.9400  0.640743  4.926515     0.00      2.0   \n",
       "2  398.553      4.0      0.0   4.0182  0.753306  5.315750    40.62      4.0   \n",
       "\n",
       "   RDKit_8  RDKit_9  \n",
       "0     14.0      2.0  \n",
       "1     13.0      2.0  \n",
       "2      5.0      6.0  \n",
       "\n",
       "[3 rows x 156 columns]"
      ]
     },
     "execution_count": 6,
     "metadata": {},
     "output_type": "execute_result"
    }
   ],
   "source": [
    "train.head(3)"
   ]
  },
  {
   "cell_type": "code",
   "execution_count": 7,
   "id": "b622d595",
   "metadata": {
    "execution": {
     "iopub.execute_input": "2025-04-06T13:04:12.331411Z",
     "iopub.status.busy": "2025-04-06T13:04:12.331066Z",
     "iopub.status.idle": "2025-04-06T13:04:12.336377Z",
     "shell.execute_reply": "2025-04-06T13:04:12.335483Z"
    },
    "papermill": {
     "duration": 0.012404,
     "end_time": "2025-04-06T13:04:12.337995",
     "exception": false,
     "start_time": "2025-04-06T13:04:12.325591",
     "status": "completed"
    },
    "tags": []
   },
   "outputs": [],
   "source": [
    "X = train.iloc[:,3:]\n",
    "y = train['T80']\n",
    "X_test = test.iloc[:,3:]"
   ]
  },
  {
   "cell_type": "code",
   "execution_count": 8,
   "id": "7f2feca7",
   "metadata": {
    "execution": {
     "iopub.execute_input": "2025-04-06T13:04:12.348270Z",
     "iopub.status.busy": "2025-04-06T13:04:12.347866Z",
     "iopub.status.idle": "2025-04-06T13:04:12.357726Z",
     "shell.execute_reply": "2025-04-06T13:04:12.356852Z"
    },
    "papermill": {
     "duration": 0.016533,
     "end_time": "2025-04-06T13:04:12.359136",
     "exception": false,
     "start_time": "2025-04-06T13:04:12.342603",
     "status": "completed"
    },
    "tags": []
   },
   "outputs": [],
   "source": [
    "def reg(X):\n",
    "    t = X['T2'] * X['TDOS3.2'] * X['LUMOp1(eV)']\n",
    "    result = (\n",
    "        (X['T8'] - t) * (1.6020332667085079 * X['SDOS3.9'])\n",
    "        +\n",
    "        (\n",
    "            ((X['TDOS3.7'] - X['SDOS3.8'] - X['TDOS4.3'] - X['TDOS2.7'])\n",
    "             / ((X['T14'] / X['TDOS3.6']) + (0.4998248512734 - X['RDKit_8'])))\n",
    "            +\n",
    "            ((X['LUMO(eV)'] + t) * ((X['LUMO(eV)'] + t) - X['TDOS3.2']))\n",
    "        )\n",
    "    )\n",
    "    return result\n",
    "y_pred = reg(X)\n",
    "y_test = reg(X_test)"
   ]
  },
  {
   "cell_type": "code",
   "execution_count": 9,
   "id": "68d175fb",
   "metadata": {
    "execution": {
     "iopub.execute_input": "2025-04-06T13:04:12.369457Z",
     "iopub.status.busy": "2025-04-06T13:04:12.369117Z",
     "iopub.status.idle": "2025-04-06T13:04:12.653976Z",
     "shell.execute_reply": "2025-04-06T13:04:12.652916Z"
    },
    "papermill": {
     "duration": 0.291995,
     "end_time": "2025-04-06T13:04:12.655710",
     "exception": false,
     "start_time": "2025-04-06T13:04:12.363715",
     "status": "completed"
    },
    "tags": []
   },
   "outputs": [
    {
     "name": "stdout",
     "output_type": "stream",
     "text": [
      "the number of better predicted value: 7\n"
     ]
    },
    {
     "data": {
      "image/png": "[encoded data removed]",
      "text/plain": [
       "<Figure size 640x480 with 1 Axes>"
      ]
     },
     "metadata": {},
     "output_type": "display_data"
    }
   ],
   "source": [
    "score=[]\n",
    "for i in range(len(y)):\n",
    "    score.append(mean_squared_log_error(y[i:i+1],y_pred[i:i+1])) \n",
    "import matplotlib.pyplot as plt\n",
    "plt.plot(score)\n",
    "print(\"the number of better predicted value:\",np.isclose(score, 0, atol=1e-2).sum())"
   ]
  },
  {
   "cell_type": "code",
   "execution_count": 10,
   "id": "d97ca23b",
   "metadata": {
    "execution": {
     "iopub.execute_input": "2025-04-06T13:04:12.667814Z",
     "iopub.status.busy": "2025-04-06T13:04:12.667468Z",
     "iopub.status.idle": "2025-04-06T13:04:12.674460Z",
     "shell.execute_reply": "2025-04-06T13:04:12.673610Z"
    },
    "papermill": {
     "duration": 0.014636,
     "end_time": "2025-04-06T13:04:12.675902",
     "exception": false,
     "start_time": "2025-04-06T13:04:12.661266",
     "status": "completed"
    },
    "tags": []
   },
   "outputs": [
    {
     "data": {
      "text/plain": [
       "0.0002913120605289209"
      ]
     },
     "execution_count": 10,
     "metadata": {},
     "output_type": "execute_result"
    }
   ],
   "source": [
    "#check LB\n",
    "mean_squared_log_error(y[-2:],y_pred[-2:])"
   ]
  },
  {
   "cell_type": "markdown",
   "id": "b0614378",
   "metadata": {
    "papermill": {
     "duration": 0.004991,
     "end_time": "2025-04-06T13:04:12.686442",
     "exception": false,
     "start_time": "2025-04-06T13:04:12.681451",
     "status": "completed"
    },
    "tags": []
   },
   "source": [
    "## Submission"
   ]
  },
  {
   "cell_type": "code",
   "execution_count": 11,
   "id": "34154cba",
   "metadata": {
    "execution": {
     "iopub.execute_input": "2025-04-06T13:04:12.698365Z",
     "iopub.status.busy": "2025-04-06T13:04:12.698017Z",
     "iopub.status.idle": "2025-04-06T13:04:12.714810Z",
     "shell.execute_reply": "2025-04-06T13:04:12.713823Z"
    },
    "papermill": {
     "duration": 0.024687,
     "end_time": "2025-04-06T13:04:12.716409",
     "exception": false,
     "start_time": "2025-04-06T13:04:12.691722",
     "status": "completed"
    },
    "tags": []
   },
   "outputs": [
    {
     "data": {
      "text/html": [
       "<div>\n",
       "<style scoped>\n",
       "    .dataframe tbody tr th:only-of-type {\n",
       "        vertical-align: middle;\n",
       "    }\n",
       "\n",
       "    .dataframe tbody tr th {\n",
       "        vertical-align: top;\n",
       "    }\n",
       "\n",
       "    .dataframe thead th {\n",
       "        text-align: right;\n",
       "    }\n",
       "</style>\n",
       "<table border=\"1\" class=\"dataframe\">\n",
       "  <thead>\n",
       "    <tr style=\"text-align: right;\">\n",
       "      <th></th>\n",
       "      <th>Batch_ID</th>\n",
       "      <th>T80</th>\n",
       "    </tr>\n",
       "  </thead>\n",
       "  <tbody>\n",
       "    <tr>\n",
       "      <th>0</th>\n",
       "      <td>Test-01</td>\n",
       "      <td>5.261306</td>\n",
       "    </tr>\n",
       "    <tr>\n",
       "      <th>1</th>\n",
       "      <td>Test-02</td>\n",
       "      <td>17.164963</td>\n",
       "    </tr>\n",
       "    <tr>\n",
       "      <th>2</th>\n",
       "      <td>Test-03</td>\n",
       "      <td>16.793456</td>\n",
       "    </tr>\n",
       "    <tr>\n",
       "      <th>3</th>\n",
       "      <td>Test-04</td>\n",
       "      <td>35.185370</td>\n",
       "    </tr>\n",
       "    <tr>\n",
       "      <th>4</th>\n",
       "      <td>Test-05</td>\n",
       "      <td>9.049256</td>\n",
       "    </tr>\n",
       "    <tr>\n",
       "      <th>5</th>\n",
       "      <td>Test-06</td>\n",
       "      <td>38.852527</td>\n",
       "    </tr>\n",
       "    <tr>\n",
       "      <th>6</th>\n",
       "      <td>Test-07</td>\n",
       "      <td>0.000000</td>\n",
       "    </tr>\n",
       "    <tr>\n",
       "      <th>7</th>\n",
       "      <td>Test-08</td>\n",
       "      <td>4.510107</td>\n",
       "    </tr>\n",
       "    <tr>\n",
       "      <th>8</th>\n",
       "      <td>Test-09</td>\n",
       "      <td>20.834303</td>\n",
       "    </tr>\n",
       "  </tbody>\n",
       "</table>\n",
       "</div>"
      ],
      "text/plain": [
       "  Batch_ID        T80\n",
       "0  Test-01   5.261306\n",
       "1  Test-02  17.164963\n",
       "2  Test-03  16.793456\n",
       "3  Test-04  35.185370\n",
       "4  Test-05   9.049256\n",
       "5  Test-06  38.852527\n",
       "6  Test-07   0.000000\n",
       "7  Test-08   4.510107\n",
       "8  Test-09  20.834303"
      ]
     },
     "execution_count": 11,
     "metadata": {},
     "output_type": "execute_result"
    }
   ],
   "source": [
    "sub = pd.DataFrame({'Batch_ID': test.Batch_ID,\n",
    "                       'T80': np.clip(y_test,0,None)})\n",
    "sub.to_csv('submission.csv', index=False)\n",
    "sub.head(10)"
   ]
  },
  {
   "cell_type": "code",
   "execution_count": null,
   "id": "345cf8ad",
   "metadata": {
    "papermill": {
     "duration": 0.00515,
     "end_time": "2025-04-06T13:04:12.727219",
     "exception": false,
     "start_time": "2025-04-06T13:04:12.722069",
     "status": "completed"
    },
    "tags": []
   },
   "outputs": [],
   "source": []
  }
 ],
 "metadata": {
  "kaggle": {
   "accelerator": "none",
   "dataSources": [
    {
     "databundleVersionId": 11467685,
     "sourceId": 90087,
     "sourceType": "competition"
    }
   ],
   "dockerImageVersionId": 30918,
   "isGpuEnabled": false,
   "isInternetEnabled": true,
   "language": "python",
   "sourceType": "notebook"
  },
  "kernelspec": {
   "display_name": "Python 3",
   "language": "python",
   "name": "python3"
  },
  "language_info": {
   "codemirror_mode": {
    "name": "ipython",
    "version": 3
   },
   "file_extension": ".py",
   "mimetype": "text/x-python",
   "name": "python",
   "nbconvert_exporter": "python",
   "pygments_lexer": "ipython3",
   "version": "3.10.12"
  },
  "papermill": {
   "default_parameters": {},
   "duration": 29.976864,
   "end_time": "2025-04-06T13:04:13.452530",
   "environment_variables": {},
   "exception": null,
   "input_path": "__notebook__.ipynb",
   "output_path": "__notebook__.ipynb",
   "parameters": {},
   "start_time": "2025-04-06T13:03:43.475666",
   "version": "2.6.0"
  }
 },
 "nbformat": 4,
 "nbformat_minor": 5
}
