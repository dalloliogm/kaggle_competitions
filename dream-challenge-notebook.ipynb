{
 "cells": [
  {
   "cell_type": "code",
   "execution_count": 1,
   "id": "0f1d8bfd",
   "metadata": {
    "execution": {
     "iopub.execute_input": "2025-05-17T19:40:53.713862Z",
     "iopub.status.busy": "2025-05-17T19:40:53.713553Z",
     "iopub.status.idle": "2025-05-17T19:40:53.844738Z",
     "shell.execute_reply": "2025-05-17T19:40:53.843721Z"
    },
    "papermill": {
     "duration": 0.136658,
     "end_time": "2025-05-17T19:40:53.846624",
     "exception": false,
     "start_time": "2025-05-17T19:40:53.709966",
     "status": "completed"
    },
    "tags": []
   },
   "outputs": [
    {
     "name": "stdout",
     "output_type": "stream",
     "text": [
      "../input/wdr91-dream-challenge/WDR91.parquet\r\n"
     ]
    }
   ],
   "source": [
    "!ls ../input/wdr91-dream-challenge/WDR91.parquet"
   ]
  },
  {
   "cell_type": "code",
   "execution_count": 2,
   "id": "d43c9dae",
   "metadata": {
    "execution": {
     "iopub.execute_input": "2025-05-17T19:40:53.852775Z",
     "iopub.status.busy": "2025-05-17T19:40:53.852427Z",
     "iopub.status.idle": "2025-05-17T19:43:40.254385Z",
     "shell.execute_reply": "2025-05-17T19:43:40.252454Z"
    },
    "papermill": {
     "duration": 166.409228,
     "end_time": "2025-05-17T19:43:40.258561",
     "exception": false,
     "start_time": "2025-05-17T19:40:53.849333",
     "status": "completed"
    },
    "tags": []
   },
   "outputs": [],
   "source": [
    "%%capture\n",
    "!pip install -q autogluon"
   ]
  },
  {
   "cell_type": "code",
   "execution_count": 3,
   "id": "f5ea9f25",
   "metadata": {
    "execution": {
     "iopub.execute_input": "2025-05-17T19:43:40.268148Z",
     "iopub.status.busy": "2025-05-17T19:43:40.267736Z",
     "iopub.status.idle": "2025-05-17T19:43:40.279155Z",
     "shell.execute_reply": "2025-05-17T19:43:40.278081Z"
    },
    "papermill": {
     "duration": 0.017724,
     "end_time": "2025-05-17T19:43:40.281164",
     "exception": false,
     "start_time": "2025-05-17T19:43:40.263440",
     "status": "completed"
    },
    "tags": []
   },
   "outputs": [],
   "source": [
    "import autogluon"
   ]
  },
  {
   "cell_type": "code",
   "execution_count": 4,
   "id": "a4ce7152",
   "metadata": {
    "execution": {
     "iopub.execute_input": "2025-05-17T19:43:40.287713Z",
     "iopub.status.busy": "2025-05-17T19:43:40.286867Z",
     "iopub.status.idle": "2025-05-17T19:45:03.013006Z",
     "shell.execute_reply": "2025-05-17T19:45:03.011735Z"
    },
    "papermill": {
     "duration": 82.732989,
     "end_time": "2025-05-17T19:45:03.016398",
     "exception": false,
     "start_time": "2025-05-17T19:43:40.283409",
     "status": "completed"
    },
    "tags": []
   },
   "outputs": [],
   "source": [
    "import polars as pl\n",
    "import pandas as pd \n",
    "wdr = pl.read_parquet(\"../input/wdr91-dream-challenge/WDR91.parquet\")"
   ]
  },
  {
   "cell_type": "code",
   "execution_count": 5,
   "id": "43d50d8c",
   "metadata": {
    "execution": {
     "iopub.execute_input": "2025-05-17T19:45:03.030537Z",
     "iopub.status.busy": "2025-05-17T19:45:03.029167Z",
     "iopub.status.idle": "2025-05-17T19:45:03.062654Z",
     "shell.execute_reply": "2025-05-17T19:45:03.061731Z"
    },
    "papermill": {
     "duration": 0.045981,
     "end_time": "2025-05-17T19:45:03.071643",
     "exception": false,
     "start_time": "2025-05-17T19:45:03.025662",
     "status": "completed"
    },
    "tags": []
   },
   "outputs": [
    {
     "data": {
      "text/html": [
       "<div><style>\n",
       ".dataframe > thead > tr,\n",
       ".dataframe > tbody > tr {\n",
       "  text-align: right;\n",
       "  white-space: pre-wrap;\n",
       "}\n",
       "</style>\n",
       "<small>shape: (375_595, 22)</small><table border=\"1\" class=\"dataframe\"><thead><tr><th>SMILES</th><th>COMPOUND_ID</th><th>LIBRARY_ID</th><th>BB1_ID</th><th>BB2_ID</th><th>BB3_ID</th><th>TARGET_ID</th><th>TARGET_VALUE</th><th>NTC_VALUE</th><th>ENRICHMENT</th><th>LABEL</th><th>ECFP4</th><th>ECFP6</th><th>FCFP4</th><th>FCFP6</th><th>MACCS</th><th>RDK</th><th>AVALON</th><th>ATOMPAIR</th><th>TOPTOR</th><th>MW</th><th>ALOGP</th></tr><tr><td>str</td><td>str</td><td>str</td><td>str</td><td>str</td><td>str</td><td>str</td><td>f32</td><td>f32</td><td>str</td><td>i32</td><td>list[i32]</td><td>list[i32]</td><td>list[i32]</td><td>list[i32]</td><td>list[i32]</td><td>list[i32]</td><td>list[i32]</td><td>list[i32]</td><td>list[i32]</td><td>f32</td><td>f32</td></tr></thead><tbody><tr><td>null</td><td>&quot;22010204180211&quot;</td><td>&quot;L22-102-418-211&quot;</td><td>&quot;0102&quot;</td><td>&quot;0418&quot;</td><td>&quot;0211&quot;</td><td>&quot;WDR91&quot;</td><td>0.0</td><td>null</td><td>null</td><td>0</td><td>[0, 0, … 0]</td><td>[0, 0, … 0]</td><td>[12, 1, … 0]</td><td>[12, 1, … 0]</td><td>[0, 0, … 0]</td><td>[1, 1, … 1]</td><td>[0, 0, … 3]</td><td>[1, 0, … 0]</td><td>[0, 0, … 0]</td><td>493.0</td><td>3.4</td></tr><tr><td>null</td><td>&quot;30023100530730&quot;</td><td>&quot;L30-231-53-730&quot;</td><td>&quot;0231&quot;</td><td>&quot;0053&quot;</td><td>&quot;0730&quot;</td><td>&quot;WDR91&quot;</td><td>0.0</td><td>null</td><td>null</td><td>0</td><td>[0, 0, … 0]</td><td>[0, 0, … 0]</td><td>[12, 2, … 0]</td><td>[12, 2, … 0]</td><td>[0, 0, … 0]</td><td>[1, 1, … 1]</td><td>[0, 0, … 12]</td><td>[0, 0, … 0]</td><td>[0, 0, … 0]</td><td>494.0</td><td>3.4</td></tr><tr><td>null</td><td>&quot;30004703160748&quot;</td><td>&quot;L30-47-316-748&quot;</td><td>&quot;0047&quot;</td><td>&quot;0316&quot;</td><td>&quot;0748&quot;</td><td>&quot;WDR91&quot;</td><td>0.0</td><td>null</td><td>null</td><td>0</td><td>[0, 0, … 0]</td><td>[0, 0, … 0]</td><td>[10, 1, … 0]</td><td>[10, 1, … 0]</td><td>[0, 0, … 0]</td><td>[1, 1, … 1]</td><td>[1, 0, … 7]</td><td>[0, 0, … 0]</td><td>[0, 0, … 0]</td><td>494.0</td><td>3.4</td></tr><tr><td>null</td><td>&quot;30004200250347&quot;</td><td>&quot;L30-42-25-347&quot;</td><td>&quot;0042&quot;</td><td>&quot;0025&quot;</td><td>&quot;0347&quot;</td><td>&quot;WDR91&quot;</td><td>0.0</td><td>null</td><td>null</td><td>0</td><td>[0, 1, … 0]</td><td>[0, 1, … 0]</td><td>[12, 2, … 0]</td><td>[12, 2, … 0]</td><td>[0, 0, … 0]</td><td>[1, 0, … 1]</td><td>[0, 0, … 0]</td><td>[0, 1, … 0]</td><td>[0, 0, … 0]</td><td>494.0</td><td>3.4</td></tr><tr><td>null</td><td>&quot;22002800290407&quot;</td><td>&quot;L22-28-29-407&quot;</td><td>&quot;0028&quot;</td><td>&quot;0029&quot;</td><td>&quot;0407&quot;</td><td>&quot;WDR91&quot;</td><td>0.0</td><td>null</td><td>null</td><td>0</td><td>[0, 1, … 0]</td><td>[0, 1, … 0]</td><td>[8, 2, … 0]</td><td>[8, 2, … 0]</td><td>[0, 0, … 0]</td><td>[1, 1, … 1]</td><td>[1, 0, … 2]</td><td>[0, 1, … 0]</td><td>[0, 0, … 0]</td><td>495.0</td><td>3.4</td></tr><tr><td>&hellip;</td><td>&hellip;</td><td>&hellip;</td><td>&hellip;</td><td>&hellip;</td><td>&hellip;</td><td>&hellip;</td><td>&hellip;</td><td>&hellip;</td><td>&hellip;</td><td>&hellip;</td><td>&hellip;</td><td>&hellip;</td><td>&hellip;</td><td>&hellip;</td><td>&hellip;</td><td>&hellip;</td><td>&hellip;</td><td>&hellip;</td><td>&hellip;</td><td>&hellip;</td><td>&hellip;</td></tr><tr><td>null</td><td>&quot;4003905301049&quot;</td><td>&quot;L04-39-530-1049&quot;</td><td>&quot;0039&quot;</td><td>&quot;0530&quot;</td><td>&quot;1049&quot;</td><td>&quot;WDR91&quot;</td><td>0.0</td><td>null</td><td>null</td><td>0</td><td>[0, 0, … 0]</td><td>[0, 0, … 0]</td><td>[14, 1, … 0]</td><td>[14, 1, … 0]</td><td>[0, 0, … 0]</td><td>[1, 0, … 1]</td><td>[2, 0, … 2]</td><td>[0, 0, … 0]</td><td>[0, 0, … 0]</td><td>405.0</td><td>3.4</td></tr><tr><td>null</td><td>&quot;30015800530576&quot;</td><td>&quot;L30-158-53-576&quot;</td><td>&quot;0158&quot;</td><td>&quot;0053&quot;</td><td>&quot;0576&quot;</td><td>&quot;WDR91&quot;</td><td>0.0</td><td>null</td><td>null</td><td>0</td><td>[0, 0, … 0]</td><td>[0, 0, … 0]</td><td>[12, 2, … 0]</td><td>[12, 2, … 0]</td><td>[0, 0, … 0]</td><td>[1, 1, … 1]</td><td>[0, 0, … 9]</td><td>[0, 0, … 0]</td><td>[0, 0, … 0]</td><td>531.0</td><td>3.9</td></tr><tr><td>null</td><td>&quot;23006101390330&quot;</td><td>&quot;L23-61-139-330&quot;</td><td>&quot;0061&quot;</td><td>&quot;0139&quot;</td><td>&quot;0330&quot;</td><td>&quot;WDR91&quot;</td><td>0.0</td><td>null</td><td>null</td><td>0</td><td>[0, 1, … 0]</td><td>[0, 1, … 0]</td><td>[13, 2, … 0]</td><td>[13, 2, … 0]</td><td>[0, 0, … 0]</td><td>[1, 1, … 1]</td><td>[1, 0, … 4]</td><td>[0, 0, … 0]</td><td>[0, 0, … 0]</td><td>534.0</td><td>3.9</td></tr><tr><td>null</td><td>&quot;23001301271367&quot;</td><td>&quot;L23-13-127-1367&quot;</td><td>&quot;0013&quot;</td><td>&quot;0127&quot;</td><td>&quot;1367&quot;</td><td>&quot;WDR91&quot;</td><td>0.0</td><td>null</td><td>null</td><td>0</td><td>[0, 1, … 0]</td><td>[0, 1, … 0]</td><td>[15, 2, … 0]</td><td>[15, 2, … 0]</td><td>[0, 0, … 0]</td><td>[1, 0, … 1]</td><td>[0, 0, … 1]</td><td>[0, 0, … 0]</td><td>[0, 0, … 0]</td><td>534.0</td><td>3.9</td></tr><tr><td>null</td><td>&quot;35014901991442&quot;</td><td>&quot;L35-149-199-1442&quot;</td><td>&quot;0149&quot;</td><td>&quot;0199&quot;</td><td>&quot;1442&quot;</td><td>&quot;WDR91&quot;</td><td>0.0</td><td>null</td><td>null</td><td>0</td><td>[0, 1, … 0]</td><td>[0, 1, … 0]</td><td>[12, 1, … 0]</td><td>[12, 1, … 0]</td><td>[0, 0, … 0]</td><td>[1, 1, … 1]</td><td>[0, 0, … 5]</td><td>[0, 0, … 0]</td><td>[0, 0, … 0]</td><td>440.0</td><td>2.4</td></tr></tbody></table></div>"
      ],
      "text/plain": [
       "shape: (375_595, 22)\n",
       "┌────────┬────────────────┬───────────────┬────────┬───┬─────────────┬─────────────┬───────┬───────┐\n",
       "│ SMILES ┆ COMPOUND_ID    ┆ LIBRARY_ID    ┆ BB1_ID ┆ … ┆ ATOMPAIR    ┆ TOPTOR      ┆ MW    ┆ ALOGP │\n",
       "│ ---    ┆ ---            ┆ ---           ┆ ---    ┆   ┆ ---         ┆ ---         ┆ ---   ┆ ---   │\n",
       "│ str    ┆ str            ┆ str           ┆ str    ┆   ┆ list[i32]   ┆ list[i32]   ┆ f32   ┆ f32   │\n",
       "╞════════╪════════════════╪═══════════════╪════════╪═══╪═════════════╪═════════════╪═══════╪═══════╡\n",
       "│ null   ┆ 22010204180211 ┆ L22-102-418-2 ┆ 0102   ┆ … ┆ [1, 0, … 0] ┆ [0, 0, … 0] ┆ 493.0 ┆ 3.4   │\n",
       "│        ┆                ┆ 11            ┆        ┆   ┆             ┆             ┆       ┆       │\n",
       "│ null   ┆ 30023100530730 ┆ L30-231-53-73 ┆ 0231   ┆ … ┆ [0, 0, … 0] ┆ [0, 0, … 0] ┆ 494.0 ┆ 3.4   │\n",
       "│        ┆                ┆ 0             ┆        ┆   ┆             ┆             ┆       ┆       │\n",
       "│ null   ┆ 30004703160748 ┆ L30-47-316-74 ┆ 0047   ┆ … ┆ [0, 0, … 0] ┆ [0, 0, … 0] ┆ 494.0 ┆ 3.4   │\n",
       "│        ┆                ┆ 8             ┆        ┆   ┆             ┆             ┆       ┆       │\n",
       "│ null   ┆ 30004200250347 ┆ L30-42-25-347 ┆ 0042   ┆ … ┆ [0, 1, … 0] ┆ [0, 0, … 0] ┆ 494.0 ┆ 3.4   │\n",
       "│ null   ┆ 22002800290407 ┆ L22-28-29-407 ┆ 0028   ┆ … ┆ [0, 1, … 0] ┆ [0, 0, … 0] ┆ 495.0 ┆ 3.4   │\n",
       "│ …      ┆ …              ┆ …             ┆ …      ┆ … ┆ …           ┆ …           ┆ …     ┆ …     │\n",
       "│ null   ┆ 4003905301049  ┆ L04-39-530-10 ┆ 0039   ┆ … ┆ [0, 0, … 0] ┆ [0, 0, … 0] ┆ 405.0 ┆ 3.4   │\n",
       "│        ┆                ┆ 49            ┆        ┆   ┆             ┆             ┆       ┆       │\n",
       "│ null   ┆ 30015800530576 ┆ L30-158-53-57 ┆ 0158   ┆ … ┆ [0, 0, … 0] ┆ [0, 0, … 0] ┆ 531.0 ┆ 3.9   │\n",
       "│        ┆                ┆ 6             ┆        ┆   ┆             ┆             ┆       ┆       │\n",
       "│ null   ┆ 23006101390330 ┆ L23-61-139-33 ┆ 0061   ┆ … ┆ [0, 0, … 0] ┆ [0, 0, … 0] ┆ 534.0 ┆ 3.9   │\n",
       "│        ┆                ┆ 0             ┆        ┆   ┆             ┆             ┆       ┆       │\n",
       "│ null   ┆ 23001301271367 ┆ L23-13-127-13 ┆ 0013   ┆ … ┆ [0, 0, … 0] ┆ [0, 0, … 0] ┆ 534.0 ┆ 3.9   │\n",
       "│        ┆                ┆ 67            ┆        ┆   ┆             ┆             ┆       ┆       │\n",
       "│ null   ┆ 35014901991442 ┆ L35-149-199-1 ┆ 0149   ┆ … ┆ [0, 0, … 0] ┆ [0, 0, … 0] ┆ 440.0 ┆ 2.4   │\n",
       "│        ┆                ┆ 442           ┆        ┆   ┆             ┆             ┆       ┆       │\n",
       "└────────┴────────────────┴───────────────┴────────┴───┴─────────────┴─────────────┴───────┴───────┘"
      ]
     },
     "execution_count": 5,
     "metadata": {},
     "output_type": "execute_result"
    }
   ],
   "source": [
    "wdr"
   ]
  },
  {
   "cell_type": "code",
   "execution_count": 6,
   "id": "b9c00c90",
   "metadata": {
    "execution": {
     "iopub.execute_input": "2025-05-17T19:45:03.078617Z",
     "iopub.status.busy": "2025-05-17T19:45:03.078291Z",
     "iopub.status.idle": "2025-05-17T19:45:09.120436Z",
     "shell.execute_reply": "2025-05-17T19:45:09.119288Z"
    },
    "papermill": {
     "duration": 6.047929,
     "end_time": "2025-05-17T19:45:09.122334",
     "exception": false,
     "start_time": "2025-05-17T19:45:03.074405",
     "status": "completed"
    },
    "tags": []
   },
   "outputs": [],
   "source": [
    "import numpy as np\n",
    "\n",
    "# Each cell in 'ECFP4' column is a list → convert to numpy matrix\n",
    "X = np.vstack(wdr['ECFP4'].to_numpy())\n",
    "y = wdr['TARGET_VALUE'].to_numpy()"
   ]
  },
  {
   "cell_type": "code",
   "execution_count": 7,
   "id": "7cdeb7ed",
   "metadata": {
    "execution": {
     "iopub.execute_input": "2025-05-17T19:45:09.129337Z",
     "iopub.status.busy": "2025-05-17T19:45:09.128838Z",
     "iopub.status.idle": "2025-05-17T19:45:09.137605Z",
     "shell.execute_reply": "2025-05-17T19:45:09.136763Z"
    },
    "papermill": {
     "duration": 0.013664,
     "end_time": "2025-05-17T19:45:09.139073",
     "exception": false,
     "start_time": "2025-05-17T19:45:09.125409",
     "status": "completed"
    },
    "tags": []
   },
   "outputs": [
    {
     "data": {
      "text/plain": [
       "array([[0, 0, 0, ..., 0, 0, 0],\n",
       "       [0, 0, 0, ..., 0, 0, 0],\n",
       "       [0, 0, 0, ..., 0, 0, 0],\n",
       "       ...,\n",
       "       [0, 0, 0, ..., 0, 0, 0],\n",
       "       [0, 0, 0, ..., 0, 0, 0],\n",
       "       [0, 0, 0, ..., 0, 0, 0]], dtype=int32)"
      ]
     },
     "execution_count": 7,
     "metadata": {},
     "output_type": "execute_result"
    }
   ],
   "source": [
    "X[0:10]"
   ]
  }
 ],
 "metadata": {
  "kaggle": {
   "accelerator": "none",
   "dataSources": [
    {
     "datasetId": 7445820,
     "sourceId": 11849971,
     "sourceType": "datasetVersion"
    }
   ],
   "dockerImageVersionId": 31040,
   "isGpuEnabled": false,
   "isInternetEnabled": true,
   "language": "python",
   "sourceType": "notebook"
  },
  "kernelspec": {
   "display_name": "Python 3",
   "language": "python",
   "name": "python3"
  },
  "language_info": {
   "codemirror_mode": {
    "name": "ipython",
    "version": 3
   },
   "file_extension": ".py",
   "mimetype": "text/x-python",
   "name": "python",
   "nbconvert_exporter": "python",
   "pygments_lexer": "ipython3",
   "version": "3.11.11"
  },
  "papermill": {
   "default_parameters": {},
   "duration": 263.070561,
   "end_time": "2025-05-17T19:45:11.762899",
   "environment_variables": {},
   "exception": null,
   "input_path": "__notebook__.ipynb",
   "output_path": "__notebook__.ipynb",
   "parameters": {},
   "start_time": "2025-05-17T19:40:48.692338",
   "version": "2.6.0"
  }
 },
 "nbformat": 4,
 "nbformat_minor": 5
}
