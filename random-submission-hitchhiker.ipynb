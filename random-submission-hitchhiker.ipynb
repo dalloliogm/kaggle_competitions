{
 "cells": [
  {
   "cell_type": "markdown",
   "id": "ce491d43",
   "metadata": {
    "papermill": {
     "duration": 0.003813,
     "end_time": "2025-04-02T10:07:53.982391",
     "exception": false,
     "start_time": "2025-04-02T10:07:53.978578",
     "status": "completed"
    },
    "tags": []
   },
   "source": [
    "# AI Challenge - Prediction of Spatial Cellular Organization from Histology Images\n",
    "\n",
    "## Random submission notebook\n",
    "\n",
    "This notebook attempts to understand how the leaderboard is scored. It generates random submissions, then modifies a portion of the data points, to study how the Leaderbord score changes."
   ]
  },
  {
   "cell_type": "markdown",
   "id": "c52bff62",
   "metadata": {
    "papermill": {
     "duration": 0.002816,
     "end_time": "2025-04-02T10:07:53.988680",
     "exception": false,
     "start_time": "2025-04-02T10:07:53.985864",
     "status": "completed"
    },
    "tags": []
   },
   "source": [
    "# 1. Data Loading and Visualization\n",
    "\n",
    "Below, we load the HE images (both Train and Test) from the HDF5 file and overlay the spot coordinates on the images."
   ]
  },
  {
   "cell_type": "code",
   "execution_count": 7,
   "id": "4aa1397f",
   "metadata": {},
   "outputs": [
    {
     "name": "stderr",
     "output_type": "stream",
     "text": [
      "  WARNING: The script tqdm.exe is installed in 'c:\\Users\\dallo\\AppData\\Local\\Programs\\Python\\Python313\\Scripts' which is not on PATH.\n",
      "  Consider adding this directory to PATH or, if you prefer to suppress this warning, use --no-warn-script-location.\n",
      "  WARNING: The script slugify.exe is installed in 'c:\\Users\\dallo\\AppData\\Local\\Programs\\Python\\Python313\\Scripts' which is not on PATH.\n",
      "  Consider adding this directory to PATH or, if you prefer to suppress this warning, use --no-warn-script-location.\n",
      "  WARNING: The scripts f2py.exe and numpy-config.exe are installed in 'c:\\Users\\dallo\\AppData\\Local\\Programs\\Python\\Python313\\Scripts' which is not on PATH.\n",
      "  Consider adding this directory to PATH or, if you prefer to suppress this warning, use --no-warn-script-location.\n",
      "  WARNING: The scripts fonttools.exe, pyftmerge.exe, pyftsubset.exe and ttx.exe are installed in 'c:\\Users\\dallo\\AppData\\Local\\Programs\\Python\\Python313\\Scripts' which is not on PATH.\n",
      "  Consider adding this directory to PATH or, if you prefer to suppress this warning, use --no-warn-script-location.\n",
      "  WARNING: The script normalizer.exe is installed in 'c:\\Users\\dallo\\AppData\\Local\\Programs\\Python\\Python313\\Scripts' which is not on PATH.\n",
      "  Consider adding this directory to PATH or, if you prefer to suppress this warning, use --no-warn-script-location.\n",
      "  WARNING: The script kaggle.exe is installed in 'c:\\Users\\dallo\\AppData\\Local\\Programs\\Python\\Python313\\Scripts' which is not on PATH.\n",
      "  Consider adding this directory to PATH or, if you prefer to suppress this warning, use --no-warn-script-location.\n",
      "\n",
      "[notice] A new release of pip is available: 24.3.1 -> 25.0.1\n",
      "[notice] To update, run: python.exe -m pip install --upgrade pip\n"
     ]
    }
   ],
   "source": [
    "!python -m pip install -q h5py pandas matplotlib numpy kaggle"
   ]
  },
  {
   "cell_type": "code",
   "execution_count": 10,
   "id": "aeb27e73",
   "metadata": {
    "execution": {
     "iopub.execute_input": "2025-04-02T10:07:53.995959Z",
     "iopub.status.busy": "2025-04-02T10:07:53.995589Z",
     "iopub.status.idle": "2025-04-02T10:07:55.124442Z",
     "shell.execute_reply": "2025-04-02T10:07:55.123501Z"
    },
    "papermill": {
     "duration": 1.134817,
     "end_time": "2025-04-02T10:07:55.126529",
     "exception": false,
     "start_time": "2025-04-02T10:07:53.991712",
     "status": "completed"
    },
    "tags": []
   },
   "outputs": [],
   "source": [
    "import h5py\n",
    "import numpy as np\n",
    "import matplotlib.pyplot as plt\n",
    "import pandas as pd\n",
    "import kaggle"
   ]
  },
  {
   "cell_type": "code",
   "execution_count": 13,
   "id": "6b70b9d6",
   "metadata": {},
   "outputs": [
    {
     "name": "stdout",
     "output_type": "stream",
     "text": [
      "Next Page Token = CfDJ8NaUH7gUrDtFgwt-2-W4oQAmupZSooi1M6KCUklRdiUfHa-sld6YBgUoAJ0QMidqaXoz8fag1rL4EKZ2JQPh248\n",
      "    id  ref                                                        title                                      subtitle                                                                                                                                                                                                                                                       author            \n",
      "------  ---------------------------------------------------------  -----------------------------------------  -------------------------------------------------------------------------------------------------------------------------------------------------------------------------------------------------------------------------------------------------------------  ----------------  \n",
      "225262  deepseek-ai/deepseek-r1                                    DeepSeek R1                                We introduce our first-generation reasoning models, DeepSeek-R1-Zero and DeepSeek-R1. DeepSeek-R1-Zero, a model trained via large-scale reinforcement learning (RL) without SFT as a preliminary step, demonstrated remarkable performance on reasoning.       DeepSeek          \n",
      "184945  google/gemini-2.0-flash-api                                Gemini 2.0 Flash API                       A new family of multimodal models from Google DeepMind                                                                                                                                                                                                         Google            \n",
      "256388  cohereforai/aya-vision                                     Aya Vision                                 C4AI Aya Vision is an open weights research release of 8B and 32B parameter models with advanced capabilities optimized for a variety of vision-language use cases, including OCR, captioning, visual reasoning, summarization, question answering, and more.  CohereForAI       \n",
      "258700  qwen-lm/qwq-32b                                            QwQ-32B                                    QwQ is the reasoning model of the Qwen series which is capable of thinking and reasoning, can achieve significantly enhanced performance in downstream tasks, especially hard problems.                                                                        QwenLM            \n",
      "  3301  google/gemma                                               Gemma                                      Gemma is a family of lightweight, open models built from the research and technology that Google used to create the Gemini models.                                                                                                                             Google            \n",
      "266151  konstantinboyko/deepseek-r1-distill-qwen-14b-awq-corianas  DeepSeek-R1-Distill-Qwen-14B-AWQ-Corianas                                                                                                                                                                                                                                                                 Konstantin Boiko  \n",
      "222398  google/gemma-3                                             Gemma 3                                    Gemma is a family of lightweight, state-of-the-art open models from Google, built from the same research and technology used to create the Gemini models.                                                                                                      Google            \n",
      "224053  huikang/deepseek-r1                                        deepseek-r1                                                                                                                                                                                                                                                                                               Tong Hui Kang     \n",
      "269379  jiazhuang/sac-logos-ava1-l14-linearmse                     sac-logos-ava1-l14-linearmse                                                                                                                                                                                                                                                                              Zhuang Jia        \n",
      "176602  qwen-lm/qwq-32b-preview                                    QwQ-32B-Preview                            QwQ-32B-Preview is an experimental research model developed by the Qwen Team, focused on advancing AI reasoning capabilities.                                                                                                                                  QwenLM            \n",
      "269387  jiazhuang/clip-vit-large-patch14                           clip-vit-large-patch14                                                                                                                                                                                                                                                                                    Zhuang Jia        \n",
      "164716  google/paligemma-2                                         PaliGemma 2                                The PaliGemma family of models is inspired by PaLI-3 and based on open components such as the SigLIP vision model and Gemma 2 language models.                                                                                                                 Google            \n",
      "245758  konstantinboyko/qwen-14b-awq-casperhansen                  qwen-14b-awq-casperhansen                                                                                                                                                                                                                                                                                 Konstantin Boiko  \n",
      "  3533  keras/gemma                                                Gemma                                      Keras implementation of the Gemma model. This Keras 3 implementation will run on JAX, TensorFlow and PyTorch.                                                                                                                                                  Keras             \n",
      "279036  keras/gemma3                                               Gemma 3                                                                                                                                                                                                                                                                                                   Keras             \n",
      "224071  shelterw/deepseek-r1                                       DeepSeek-R1                                                                                                                                                                                                                                                                                               ShelterW          \n",
      "   971  stabilityai/stable-diffusion-v2                            Stable Diffusion v2                        This is a model that can be used to generate and modify images based on text prompts. It is a Latent Diffusion Model that uses a fixed, pretrained text encoder (OpenCLIP-ViT/H).                                                                              Stability.AI      \n",
      "164048  qwen-lm/qwen2.5                                            Qwen2.5                                    Qwen2.5 is the latest series of Qwen large language models. Qwen2.5 has a number of base language models and instruction-tuned language models ranging from 0.5 to 72 billion parameters.                                                                      QwenLM            \n",
      "269189  mistral-ai/mistral-small-3.1                               Mistral Small 3.1                          Mistral Small 3.1 (2503) is a powerful language model combining text and vision understanding. It has 24 billion parameters for top-tier performance.                                                                                                          Mistral AI        \n",
      " 76277  google/gemma-2                                             Gemma 2                                    Gemma is a family of lightweight, state-of-the-art open models from Google, built from the same research and technology used to create the Gemini models.                                                                                                      Google            \n"
     ]
    }
   ],
   "source": [
    "from kaggle.api.kaggle_api_extended import KaggleApi\n",
    "api = KaggleApi()\n",
    "api.authenticate()\n",
    "api.model_list_cli()"
   ]
  },
  {
   "cell_type": "code",
   "execution_count": null,
   "id": "bfa46981",
   "metadata": {},
   "outputs": [
    {
     "name": "stdout",
     "output_type": "stream",
     "text": [
      "Downloading elucidata_ai_challenge_data.h5 to ./data\n"
     ]
    },
    {
     "name": "stderr",
     "output_type": "stream",
     "text": [
      "100%|██████████| 318M/318M [00:00<00:00, 1.16GB/s]\n"
     ]
    },
    {
     "name": "stdout",
     "output_type": "stream",
     "text": [
      "\n"
     ]
    }
   ],
   "source": [
    "from kaggle.api.kaggle_api_extended import KaggleApi\n",
    "\n",
    "api = KaggleApi()\n",
    "api.authenticate()\n",
    "\n"
   ]
  },
  {
   "cell_type": "code",
   "execution_count": null,
   "id": "1f4ed3f8",
   "metadata": {},
   "outputs": [],
   "source": [
    "# Downloads the file from the competition \"el-hackathon-2025\"\n",
    "api.competition_download_file(\n",
    "    'el-hackathon-2025', \n",
    "    'elucidata_ai_challenge_data.h5', \n",
    "    path='./data'  # downloads the file into the local folder \"./data\"\n",
    ")\n"
   ]
  },
  {
   "cell_type": "code",
   "execution_count": 18,
   "id": "0f743e35",
   "metadata": {},
   "outputs": [
    {
     "name": "stdout",
     "output_type": "stream",
     "text": [
      " Volume in drive C is Windows\n",
      " Volume Serial Number is C2B7-260F\n",
      "\n",
      " Directory of c:\\Users\\dallo\\workspace\\kaggle_competitions\\data\n",
      "\n",
      "02/04/2025  11:56    <DIR>          .\n",
      "02/04/2025  11:56    <DIR>          ..\n",
      "12/03/2025  17:34       333,866,720 elucidata_ai_challenge_data.h5\n",
      "               1 File(s)    333,866,720 bytes\n",
      "               2 Dir(s)  588,329,377,792 bytes free\n"
     ]
    }
   ],
   "source": [
    "!dir data"
   ]
  },
  {
   "cell_type": "code",
   "execution_count": 11,
   "id": "1d360d4d",
   "metadata": {
    "execution": {
     "iopub.execute_input": "2025-04-02T10:07:55.134707Z",
     "iopub.status.busy": "2025-04-02T10:07:55.134135Z",
     "iopub.status.idle": "2025-04-02T10:07:55.138590Z",
     "shell.execute_reply": "2025-04-02T10:07:55.137473Z"
    },
    "papermill": {
     "duration": 0.010403,
     "end_time": "2025-04-02T10:07:55.140245",
     "exception": false,
     "start_time": "2025-04-02T10:07:55.129842",
     "status": "completed"
    },
    "tags": []
   },
   "outputs": [],
   "source": [
    "config = {\n",
    "    \"n_rows\": 500,\n",
    "    \"n_cols\": 25\n",
    "}"
   ]
  },
  {
   "cell_type": "code",
   "execution_count": 19,
   "id": "57c1aa3d",
   "metadata": {
    "execution": {
     "iopub.execute_input": "2025-04-02T10:07:55.147705Z",
     "iopub.status.busy": "2025-04-02T10:07:55.147345Z",
     "iopub.status.idle": "2025-04-02T10:07:55.239697Z",
     "shell.execute_reply": "2025-04-02T10:07:55.238416Z"
    },
    "papermill": {
     "duration": 0.098386,
     "end_time": "2025-04-02T10:07:55.241780",
     "exception": false,
     "start_time": "2025-04-02T10:07:55.143394",
     "status": "completed"
    },
    "tags": []
   },
   "outputs": [],
   "source": [
    "# Display spot table for Test slide (only the spot coordinates on 2D array)\n",
    "with h5py.File(\"./data/elucidata_ai_challenge_data.h5\", \"r\") as f:\n",
    "    test_spots = f[\"spots/Test\"]\n",
    "    spot_array = np.array(test_spots['S_7'])\n",
    "    test_spot_table = pd.DataFrame(spot_array)\n",
    "    \n",
    "# Show the test spots coordinates for slide 'S_7'\n",
    "test_spot_table\n",
    "\n",
    "# Load training data\n",
    "with h5py.File(\"./data/elucidata_ai_challenge_data.h5\", \"r\") as f:\n",
    "    train_spots = f[\"spots/Train\"]\n",
    "    train_spot_tables = {slide_name: pd.DataFrame(np.array(train_spots[slide_name])) for slide_name in train_spots.keys()}"
   ]
  },
  {
   "cell_type": "code",
   "execution_count": 20,
   "id": "062f9594",
   "metadata": {
    "execution": {
     "iopub.execute_input": "2025-04-02T10:07:55.249554Z",
     "iopub.status.busy": "2025-04-02T10:07:55.249158Z",
     "iopub.status.idle": "2025-04-02T10:07:55.268971Z",
     "shell.execute_reply": "2025-04-02T10:07:55.267878Z"
    },
    "papermill": {
     "duration": 0.025525,
     "end_time": "2025-04-02T10:07:55.270713",
     "exception": false,
     "start_time": "2025-04-02T10:07:55.245188",
     "status": "completed"
    },
    "tags": []
   },
   "outputs": [
    {
     "data": {
      "text/plain": [
       "Test_Set\n",
       "2    1586\n",
       "1     502\n",
       "Name: count, dtype: int64"
      ]
     },
     "execution_count": 20,
     "metadata": {},
     "output_type": "execute_result"
    }
   ],
   "source": [
    "test_spot_table.Test_Set.value_counts()\n"
   ]
  },
  {
   "cell_type": "code",
   "execution_count": 21,
   "id": "37b1f5b1",
   "metadata": {
    "execution": {
     "iopub.execute_input": "2025-04-02T10:07:55.278661Z",
     "iopub.status.busy": "2025-04-02T10:07:55.278311Z",
     "iopub.status.idle": "2025-04-02T10:07:55.305571Z",
     "shell.execute_reply": "2025-04-02T10:07:55.304304Z"
    },
    "papermill": {
     "duration": 0.033176,
     "end_time": "2025-04-02T10:07:55.307432",
     "exception": false,
     "start_time": "2025-04-02T10:07:55.274256",
     "status": "completed"
    },
    "tags": []
   },
   "outputs": [
    {
     "data": {
      "text/html": [
       "<div>\n",
       "<style scoped>\n",
       "    .dataframe tbody tr th:only-of-type {\n",
       "        vertical-align: middle;\n",
       "    }\n",
       "\n",
       "    .dataframe tbody tr th {\n",
       "        vertical-align: top;\n",
       "    }\n",
       "\n",
       "    .dataframe thead th {\n",
       "        text-align: right;\n",
       "    }\n",
       "</style>\n",
       "<table border=\"1\" class=\"dataframe\">\n",
       "  <thead>\n",
       "    <tr style=\"text-align: right;\">\n",
       "      <th></th>\n",
       "      <th>x</th>\n",
       "      <th>y</th>\n",
       "      <th>Test_Set</th>\n",
       "    </tr>\n",
       "  </thead>\n",
       "  <tbody>\n",
       "    <tr>\n",
       "      <th>0</th>\n",
       "      <td>1499</td>\n",
       "      <td>1260</td>\n",
       "      <td>2</td>\n",
       "    </tr>\n",
       "    <tr>\n",
       "      <th>1</th>\n",
       "      <td>1435</td>\n",
       "      <td>1503</td>\n",
       "      <td>2</td>\n",
       "    </tr>\n",
       "    <tr>\n",
       "      <th>2</th>\n",
       "      <td>558</td>\n",
       "      <td>1082</td>\n",
       "      <td>2</td>\n",
       "    </tr>\n",
       "    <tr>\n",
       "      <th>3</th>\n",
       "      <td>736</td>\n",
       "      <td>1304</td>\n",
       "      <td>1</td>\n",
       "    </tr>\n",
       "    <tr>\n",
       "      <th>4</th>\n",
       "      <td>1257</td>\n",
       "      <td>1592</td>\n",
       "      <td>1</td>\n",
       "    </tr>\n",
       "    <tr>\n",
       "      <th>...</th>\n",
       "      <td>...</td>\n",
       "      <td>...</td>\n",
       "      <td>...</td>\n",
       "    </tr>\n",
       "    <tr>\n",
       "      <th>2083</th>\n",
       "      <td>736</td>\n",
       "      <td>639</td>\n",
       "      <td>2</td>\n",
       "    </tr>\n",
       "    <tr>\n",
       "      <th>2084</th>\n",
       "      <td>1016</td>\n",
       "      <td>684</td>\n",
       "      <td>2</td>\n",
       "    </tr>\n",
       "    <tr>\n",
       "      <th>2085</th>\n",
       "      <td>1181</td>\n",
       "      <td>839</td>\n",
       "      <td>2</td>\n",
       "    </tr>\n",
       "    <tr>\n",
       "      <th>2086</th>\n",
       "      <td>735</td>\n",
       "      <td>1436</td>\n",
       "      <td>1</td>\n",
       "    </tr>\n",
       "    <tr>\n",
       "      <th>2087</th>\n",
       "      <td>545</td>\n",
       "      <td>1148</td>\n",
       "      <td>2</td>\n",
       "    </tr>\n",
       "  </tbody>\n",
       "</table>\n",
       "<p>2088 rows × 3 columns</p>\n",
       "</div>"
      ],
      "text/plain": [
       "         x     y  Test_Set\n",
       "0     1499  1260         2\n",
       "1     1435  1503         2\n",
       "2      558  1082         2\n",
       "3      736  1304         1\n",
       "4     1257  1592         1\n",
       "...    ...   ...       ...\n",
       "2083   736   639         2\n",
       "2084  1016   684         2\n",
       "2085  1181   839         2\n",
       "2086   735  1436         1\n",
       "2087   545  1148         2\n",
       "\n",
       "[2088 rows x 3 columns]"
      ]
     },
     "execution_count": 21,
     "metadata": {},
     "output_type": "execute_result"
    }
   ],
   "source": [
    "test_spot_table"
   ]
  },
  {
   "cell_type": "markdown",
   "id": "3fcb8887",
   "metadata": {
    "papermill": {
     "duration": 0.003216,
     "end_time": "2025-04-02T10:07:55.314181",
     "exception": false,
     "start_time": "2025-04-02T10:07:55.310965",
     "status": "completed"
    },
    "tags": []
   },
   "source": [
    "# 3. Creating a Random Submission\n",
    "\n",
    "In this section, we generate random predictions for the 35 cell types.  \n",
    "The predictions are random floats between 0 and 2 (without any normalization) for each spot in the Test slide.  \n",
    "The order of spots is preserved as in the test spots table."
   ]
  },
  {
   "cell_type": "code",
   "execution_count": 33,
   "id": "f29bbd08",
   "metadata": {
    "execution": {
     "iopub.execute_input": "2025-04-02T10:07:55.322445Z",
     "iopub.status.busy": "2025-04-02T10:07:55.322062Z",
     "iopub.status.idle": "2025-04-02T10:07:56.146374Z",
     "shell.execute_reply": "2025-04-02T10:07:56.145209Z"
    },
    "papermill": {
     "duration": 0.830442,
     "end_time": "2025-04-02T10:07:56.148034",
     "exception": false,
     "start_time": "2025-04-02T10:07:55.317592",
     "status": "completed"
    },
    "tags": []
   },
   "outputs": [],
   "source": [
    "import time\n",
    "import random\n",
    "import numpy as np\n",
    "import pandas as pd\n",
    "from kaggle.api.kaggle_api_extended import KaggleApi\n",
    "def generate_permuted_submission(train_spot_tables, test_spot_table, seed=None):\n",
    "    \"\"\"\n",
    "    Generate a submission DataFrame where each row is filled with a random permutation \n",
    "    of integers from 1 to 35 (or more generally, 1 to the total number of columns).\n",
    "    The submission DataFrame will include an 'ID' column corresponding to each test spot.\n",
    "    The output will have one row per entry in test_spot_table (2088 rows).\n",
    "\n",
    "    Parameters:\n",
    "        train_spot_tables (dict): For getting C1–C35 column names.\n",
    "        test_spot_table (pd.DataFrame): Test spot table with 2088 rows.\n",
    "        seed (int, optional): Random seed for reproducibility.\n",
    "\n",
    "    Returns:\n",
    "        pd.DataFrame: Submission DataFrame with random permutations for all rows.\n",
    "    \"\"\"\n",
    "    import numpy as np\n",
    "    import pandas as pd\n",
    "\n",
    "    if seed is not None:\n",
    "        np.random.seed(seed)\n",
    "\n",
    "    # Get column names from the training table (assumes they start at the third column)\n",
    "    all_columns = train_spot_tables['S_1'].columns[2:].tolist()\n",
    "    total_columns = len(all_columns)\n",
    "    \n",
    "    # Use the index from test_spot_table (should be 2088 rows)\n",
    "    indices = test_spot_table.index\n",
    "    num_rows = len(indices)\n",
    "    \n",
    "    # Create a matrix where each row is a random permutation of numbers from 1 to total_columns\n",
    "    matrix = np.array([np.random.permutation(np.arange(1, total_columns + 1)) for _ in range(num_rows)])\n",
    "    \n",
    "    # Build the submission DataFrame using all rows\n",
    "    submission = pd.DataFrame(matrix, index=indices, columns=all_columns, dtype=int)\n",
    "    \n",
    "    # Add the 'ID' column based on the index\n",
    "    submission.insert(0, 'ID', submission.index)\n",
    "    \n",
    "    # Optionally, reset the index if you prefer a clean numeric index\n",
    "    submission.reset_index(drop=True, inplace=True)\n",
    "    \n",
    "    return submission\n",
    "\n",
    "\n"
   ]
  },
  {
   "cell_type": "code",
   "execution_count": 34,
   "id": "c90ce885",
   "metadata": {},
   "outputs": [
    {
     "name": "stderr",
     "output_type": "stream",
     "text": [
      "100%|██████████| 207k/207k [00:00<00:00, 303kB/s] \n"
     ]
    },
    {
     "name": "stdout",
     "output_type": "stream",
     "text": [
      "Submitted submission_0.csv to el-hackathon-2025\n"
     ]
    },
    {
     "name": "stderr",
     "output_type": "stream",
     "text": [
      "100%|██████████| 207k/207k [00:00<00:00, 301kB/s] \n"
     ]
    },
    {
     "name": "stdout",
     "output_type": "stream",
     "text": [
      "Submitted submission_1.csv to el-hackathon-2025\n"
     ]
    }
   ],
   "source": [
    "\n",
    "\n",
    "# Set the competition slug (update as needed)\n",
    "competition_slug = \"el-hackathon-2025\"\n",
    "\n",
    "# Number of submissions you want to generate and submit\n",
    "num_submissions = 2\n",
    "\n",
    "for i in range(num_submissions):\n",
    "    # Generate a submission with an optionally randomized seed\n",
    "    submission_df = generate_permuted_submission(train_spot_tables, test_spot_table, seed=np.random.randint(10000))\n",
    "    \n",
    "    # Save the submission file locally\n",
    "    filename = f\"submission_{i}.csv\"\n",
    "    submission_df.to_csv(filename, index=False)\n",
    "    \n",
    "    submission_df.head()\n",
    "    # Prepare a submission message\n",
    "    submission_message = f\"Automated submission {i}\"\n",
    "    \n",
    "    # Submit the file to the competition\n",
    "    api.competition_submit(file_name=filename, message=submission_message, competition=competition_slug)\n",
    "    print(f\"Submitted {filename} to {competition_slug}\")\n",
    "    \n",
    "    # Wait for a random time between 3 and 5 seconds before the next submission\n",
    "    wait_time = random.uniform(3, 5)\n",
    "    time.sleep(wait_time)\n"
   ]
  },
  {
   "cell_type": "code",
   "execution_count": 25,
   "id": "e96d5d10",
   "metadata": {
    "execution": {
     "iopub.execute_input": "2025-04-02T10:07:56.157233Z",
     "iopub.status.busy": "2025-04-02T10:07:56.156862Z",
     "iopub.status.idle": "2025-04-02T10:07:56.284686Z",
     "shell.execute_reply": "2025-04-02T10:07:56.283261Z"
    },
    "papermill": {
     "duration": 0.134834,
     "end_time": "2025-04-02T10:07:56.286884",
     "exception": false,
     "start_time": "2025-04-02T10:07:56.152050",
     "status": "completed"
    },
    "tags": []
   },
   "outputs": [
    {
     "data": {
      "text/html": [
       "<div>\n",
       "<style scoped>\n",
       "    .dataframe tbody tr th:only-of-type {\n",
       "        vertical-align: middle;\n",
       "    }\n",
       "\n",
       "    .dataframe tbody tr th {\n",
       "        vertical-align: top;\n",
       "    }\n",
       "\n",
       "    .dataframe thead th {\n",
       "        text-align: right;\n",
       "    }\n",
       "</style>\n",
       "<table border=\"1\" class=\"dataframe\">\n",
       "  <thead>\n",
       "    <tr style=\"text-align: right;\">\n",
       "      <th></th>\n",
       "      <th>C1</th>\n",
       "      <th>C2</th>\n",
       "      <th>C3</th>\n",
       "      <th>C4</th>\n",
       "      <th>C5</th>\n",
       "      <th>C6</th>\n",
       "      <th>C7</th>\n",
       "      <th>C8</th>\n",
       "      <th>C9</th>\n",
       "      <th>C10</th>\n",
       "      <th>...</th>\n",
       "      <th>C26</th>\n",
       "      <th>C27</th>\n",
       "      <th>C28</th>\n",
       "      <th>C29</th>\n",
       "      <th>C30</th>\n",
       "      <th>C31</th>\n",
       "      <th>C32</th>\n",
       "      <th>C33</th>\n",
       "      <th>C34</th>\n",
       "      <th>C35</th>\n",
       "    </tr>\n",
       "  </thead>\n",
       "  <tbody>\n",
       "    <tr>\n",
       "      <th>3</th>\n",
       "      <td>25</td>\n",
       "      <td>3</td>\n",
       "      <td>20</td>\n",
       "      <td>26</td>\n",
       "      <td>35</td>\n",
       "      <td>13</td>\n",
       "      <td>28</td>\n",
       "      <td>18</td>\n",
       "      <td>4</td>\n",
       "      <td>10</td>\n",
       "      <td>...</td>\n",
       "      <td>19</td>\n",
       "      <td>31</td>\n",
       "      <td>9</td>\n",
       "      <td>32</td>\n",
       "      <td>29</td>\n",
       "      <td>24</td>\n",
       "      <td>8</td>\n",
       "      <td>34</td>\n",
       "      <td>16</td>\n",
       "      <td>33</td>\n",
       "    </tr>\n",
       "    <tr>\n",
       "      <th>4</th>\n",
       "      <td>15</td>\n",
       "      <td>31</td>\n",
       "      <td>19</td>\n",
       "      <td>34</td>\n",
       "      <td>6</td>\n",
       "      <td>18</td>\n",
       "      <td>20</td>\n",
       "      <td>9</td>\n",
       "      <td>5</td>\n",
       "      <td>25</td>\n",
       "      <td>...</td>\n",
       "      <td>33</td>\n",
       "      <td>11</td>\n",
       "      <td>22</td>\n",
       "      <td>14</td>\n",
       "      <td>23</td>\n",
       "      <td>7</td>\n",
       "      <td>24</td>\n",
       "      <td>32</td>\n",
       "      <td>29</td>\n",
       "      <td>3</td>\n",
       "    </tr>\n",
       "    <tr>\n",
       "      <th>8</th>\n",
       "      <td>5</td>\n",
       "      <td>21</td>\n",
       "      <td>30</td>\n",
       "      <td>22</td>\n",
       "      <td>29</td>\n",
       "      <td>1</td>\n",
       "      <td>13</td>\n",
       "      <td>19</td>\n",
       "      <td>9</td>\n",
       "      <td>33</td>\n",
       "      <td>...</td>\n",
       "      <td>35</td>\n",
       "      <td>24</td>\n",
       "      <td>23</td>\n",
       "      <td>6</td>\n",
       "      <td>2</td>\n",
       "      <td>7</td>\n",
       "      <td>16</td>\n",
       "      <td>17</td>\n",
       "      <td>3</td>\n",
       "      <td>11</td>\n",
       "    </tr>\n",
       "    <tr>\n",
       "      <th>9</th>\n",
       "      <td>11</td>\n",
       "      <td>20</td>\n",
       "      <td>15</td>\n",
       "      <td>19</td>\n",
       "      <td>10</td>\n",
       "      <td>1</td>\n",
       "      <td>14</td>\n",
       "      <td>33</td>\n",
       "      <td>17</td>\n",
       "      <td>26</td>\n",
       "      <td>...</td>\n",
       "      <td>35</td>\n",
       "      <td>30</td>\n",
       "      <td>22</td>\n",
       "      <td>23</td>\n",
       "      <td>18</td>\n",
       "      <td>31</td>\n",
       "      <td>21</td>\n",
       "      <td>34</td>\n",
       "      <td>6</td>\n",
       "      <td>4</td>\n",
       "    </tr>\n",
       "    <tr>\n",
       "      <th>12</th>\n",
       "      <td>7</td>\n",
       "      <td>15</td>\n",
       "      <td>11</td>\n",
       "      <td>10</td>\n",
       "      <td>25</td>\n",
       "      <td>35</td>\n",
       "      <td>31</td>\n",
       "      <td>5</td>\n",
       "      <td>33</td>\n",
       "      <td>17</td>\n",
       "      <td>...</td>\n",
       "      <td>3</td>\n",
       "      <td>26</td>\n",
       "      <td>2</td>\n",
       "      <td>8</td>\n",
       "      <td>30</td>\n",
       "      <td>21</td>\n",
       "      <td>22</td>\n",
       "      <td>4</td>\n",
       "      <td>14</td>\n",
       "      <td>13</td>\n",
       "    </tr>\n",
       "    <tr>\n",
       "      <th>...</th>\n",
       "      <td>...</td>\n",
       "      <td>...</td>\n",
       "      <td>...</td>\n",
       "      <td>...</td>\n",
       "      <td>...</td>\n",
       "      <td>...</td>\n",
       "      <td>...</td>\n",
       "      <td>...</td>\n",
       "      <td>...</td>\n",
       "      <td>...</td>\n",
       "      <td>...</td>\n",
       "      <td>...</td>\n",
       "      <td>...</td>\n",
       "      <td>...</td>\n",
       "      <td>...</td>\n",
       "      <td>...</td>\n",
       "      <td>...</td>\n",
       "      <td>...</td>\n",
       "      <td>...</td>\n",
       "      <td>...</td>\n",
       "      <td>...</td>\n",
       "    </tr>\n",
       "    <tr>\n",
       "      <th>2072</th>\n",
       "      <td>17</td>\n",
       "      <td>13</td>\n",
       "      <td>15</td>\n",
       "      <td>28</td>\n",
       "      <td>18</td>\n",
       "      <td>32</td>\n",
       "      <td>22</td>\n",
       "      <td>10</td>\n",
       "      <td>27</td>\n",
       "      <td>16</td>\n",
       "      <td>...</td>\n",
       "      <td>2</td>\n",
       "      <td>33</td>\n",
       "      <td>31</td>\n",
       "      <td>24</td>\n",
       "      <td>30</td>\n",
       "      <td>7</td>\n",
       "      <td>29</td>\n",
       "      <td>19</td>\n",
       "      <td>25</td>\n",
       "      <td>21</td>\n",
       "    </tr>\n",
       "    <tr>\n",
       "      <th>2078</th>\n",
       "      <td>16</td>\n",
       "      <td>35</td>\n",
       "      <td>23</td>\n",
       "      <td>21</td>\n",
       "      <td>6</td>\n",
       "      <td>12</td>\n",
       "      <td>14</td>\n",
       "      <td>2</td>\n",
       "      <td>8</td>\n",
       "      <td>15</td>\n",
       "      <td>...</td>\n",
       "      <td>11</td>\n",
       "      <td>3</td>\n",
       "      <td>25</td>\n",
       "      <td>27</td>\n",
       "      <td>20</td>\n",
       "      <td>30</td>\n",
       "      <td>13</td>\n",
       "      <td>17</td>\n",
       "      <td>19</td>\n",
       "      <td>29</td>\n",
       "    </tr>\n",
       "    <tr>\n",
       "      <th>2081</th>\n",
       "      <td>11</td>\n",
       "      <td>35</td>\n",
       "      <td>10</td>\n",
       "      <td>26</td>\n",
       "      <td>28</td>\n",
       "      <td>1</td>\n",
       "      <td>6</td>\n",
       "      <td>24</td>\n",
       "      <td>30</td>\n",
       "      <td>9</td>\n",
       "      <td>...</td>\n",
       "      <td>34</td>\n",
       "      <td>32</td>\n",
       "      <td>4</td>\n",
       "      <td>5</td>\n",
       "      <td>12</td>\n",
       "      <td>29</td>\n",
       "      <td>27</td>\n",
       "      <td>15</td>\n",
       "      <td>22</td>\n",
       "      <td>8</td>\n",
       "    </tr>\n",
       "    <tr>\n",
       "      <th>2082</th>\n",
       "      <td>1</td>\n",
       "      <td>25</td>\n",
       "      <td>10</td>\n",
       "      <td>6</td>\n",
       "      <td>2</td>\n",
       "      <td>24</td>\n",
       "      <td>30</td>\n",
       "      <td>15</td>\n",
       "      <td>9</td>\n",
       "      <td>21</td>\n",
       "      <td>...</td>\n",
       "      <td>18</td>\n",
       "      <td>19</td>\n",
       "      <td>26</td>\n",
       "      <td>17</td>\n",
       "      <td>8</td>\n",
       "      <td>14</td>\n",
       "      <td>28</td>\n",
       "      <td>27</td>\n",
       "      <td>33</td>\n",
       "      <td>20</td>\n",
       "    </tr>\n",
       "    <tr>\n",
       "      <th>2086</th>\n",
       "      <td>30</td>\n",
       "      <td>14</td>\n",
       "      <td>3</td>\n",
       "      <td>8</td>\n",
       "      <td>16</td>\n",
       "      <td>18</td>\n",
       "      <td>15</td>\n",
       "      <td>5</td>\n",
       "      <td>10</td>\n",
       "      <td>34</td>\n",
       "      <td>...</td>\n",
       "      <td>22</td>\n",
       "      <td>9</td>\n",
       "      <td>32</td>\n",
       "      <td>26</td>\n",
       "      <td>1</td>\n",
       "      <td>12</td>\n",
       "      <td>25</td>\n",
       "      <td>35</td>\n",
       "      <td>24</td>\n",
       "      <td>6</td>\n",
       "    </tr>\n",
       "  </tbody>\n",
       "</table>\n",
       "<p>502 rows × 35 columns</p>\n",
       "</div>"
      ],
      "text/plain": [
       "      C1  C2  C3  C4  C5  C6  C7  C8  C9  C10  ...  C26  C27  C28  C29  C30  \\\n",
       "3     25   3  20  26  35  13  28  18   4   10  ...   19   31    9   32   29   \n",
       "4     15  31  19  34   6  18  20   9   5   25  ...   33   11   22   14   23   \n",
       "8      5  21  30  22  29   1  13  19   9   33  ...   35   24   23    6    2   \n",
       "9     11  20  15  19  10   1  14  33  17   26  ...   35   30   22   23   18   \n",
       "12     7  15  11  10  25  35  31   5  33   17  ...    3   26    2    8   30   \n",
       "...   ..  ..  ..  ..  ..  ..  ..  ..  ..  ...  ...  ...  ...  ...  ...  ...   \n",
       "2072  17  13  15  28  18  32  22  10  27   16  ...    2   33   31   24   30   \n",
       "2078  16  35  23  21   6  12  14   2   8   15  ...   11    3   25   27   20   \n",
       "2081  11  35  10  26  28   1   6  24  30    9  ...   34   32    4    5   12   \n",
       "2082   1  25  10   6   2  24  30  15   9   21  ...   18   19   26   17    8   \n",
       "2086  30  14   3   8  16  18  15   5  10   34  ...   22    9   32   26    1   \n",
       "\n",
       "      C31  C32  C33  C34  C35  \n",
       "3      24    8   34   16   33  \n",
       "4       7   24   32   29    3  \n",
       "8       7   16   17    3   11  \n",
       "9      31   21   34    6    4  \n",
       "12     21   22    4   14   13  \n",
       "...   ...  ...  ...  ...  ...  \n",
       "2072    7   29   19   25   21  \n",
       "2078   30   13   17   19   29  \n",
       "2081   29   27   15   22    8  \n",
       "2082   14   28   27   33   20  \n",
       "2086   12   25   35   24    6  \n",
       "\n",
       "[502 rows x 35 columns]"
      ]
     },
     "execution_count": 25,
     "metadata": {},
     "output_type": "execute_result"
    }
   ],
   "source": [
    "submission_df"
   ]
  },
  {
   "cell_type": "markdown",
   "id": "2a30736b",
   "metadata": {
    "papermill": {
     "duration": 0.003573,
     "end_time": "2025-04-02T10:07:56.294639",
     "exception": false,
     "start_time": "2025-04-02T10:07:56.291066",
     "status": "completed"
    },
    "tags": []
   },
   "source": [
    "# 4. Submission File Generation\n",
    "\n",
    "Finally, we generate the submission file in the required format.  \n",
    "Each row corresponds to a test spot with its identifier (constructed here as the index) followed by 35 predictions."
   ]
  },
  {
   "cell_type": "code",
   "execution_count": null,
   "id": "ce43a0f2",
   "metadata": {
    "execution": {
     "iopub.execute_input": "2025-04-02T10:07:56.303805Z",
     "iopub.status.busy": "2025-04-02T10:07:56.303451Z",
     "iopub.status.idle": "2025-04-02T10:07:56.550720Z",
     "shell.execute_reply": "2025-04-02T10:07:56.549472Z"
    },
    "papermill": {
     "duration": 0.254286,
     "end_time": "2025-04-02T10:07:56.552804",
     "exception": false,
     "start_time": "2025-04-02T10:07:56.298518",
     "status": "completed"
    },
    "tags": []
   },
   "outputs": [
    {
     "name": "stdout",
     "output_type": "stream",
     "text": [
      "touch: cannot touch '/root/.config/kaggle/kaggle.json': No such file or directory\r\n",
      "chmod: cannot access '/root/.config/kaggle/kaggle.json': No such file or directory\r\n"
     ]
    }
   ],
   "source": [
    "!touch ~/.config/kaggle/kaggle.json\n",
    "!chmod 600 ~/.config/kaggle/kaggle.json"
   ]
  }
 ],
 "metadata": {
  "kaggle": {
   "accelerator": "none",
   "dataSources": [
    {
     "databundleVersionId": 11390004,
     "sourceId": 94147,
     "sourceType": "competition"
    }
   ],
   "dockerImageVersionId": 30918,
   "isGpuEnabled": false,
   "isInternetEnabled": true,
   "language": "python",
   "sourceType": "notebook"
  },
  "kernelspec": {
   "display_name": "Python 3",
   "language": "python",
   "name": "python3"
  },
  "language_info": {
   "codemirror_mode": {
    "name": "ipython",
    "version": 3
   },
   "file_extension": ".py",
   "mimetype": "text/x-python",
   "name": "python",
   "nbconvert_exporter": "python",
   "pygments_lexer": "ipython3",
   "version": "3.13.2"
  },
  "papermill": {
   "default_parameters": {},
   "duration": 6.002959,
   "end_time": "2025-04-02T10:07:57.176715",
   "environment_variables": {},
   "exception": null,
   "input_path": "__notebook__.ipynb",
   "output_path": "__notebook__.ipynb",
   "parameters": {},
   "start_time": "2025-04-02T10:07:51.173756",
   "version": "2.6.0"
  }
 },
 "nbformat": 4,
 "nbformat_minor": 5
}
