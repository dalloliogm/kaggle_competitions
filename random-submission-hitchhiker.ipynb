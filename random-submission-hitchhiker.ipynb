{
 "cells": [
  {
   "cell_type": "markdown",
   "id": "1c1a3ab2",
   "metadata": {
    "papermill": {
     "duration": 0.003087,
     "end_time": "2025-03-25T22:58:12.286153",
     "exception": false,
     "start_time": "2025-03-25T22:58:12.283066",
     "status": "completed"
    },
    "tags": []
   },
   "source": [
    "# AI Challenge - Prediction of Spatial Cellular Organization from Histology Images\n",
    "\n",
    "## Random submission notebook\n",
    "\n",
    "This notebook attempts to understand how the leaderboard is scored. It generates random submissions, then modifies a portion of the data points, to study how the Leaderbord score changes."
   ]
  },
  {
   "cell_type": "markdown",
   "id": "1bd11951",
   "metadata": {
    "papermill": {
     "duration": 0.002177,
     "end_time": "2025-03-25T22:58:12.291205",
     "exception": false,
     "start_time": "2025-03-25T22:58:12.289028",
     "status": "completed"
    },
    "tags": []
   },
   "source": [
    "# 1. Data Loading and Visualization\n",
    "\n",
    "Below, we load the HE images (both Train and Test) from the HDF5 file and overlay the spot coordinates on the images."
   ]
  },
  {
   "cell_type": "code",
   "execution_count": 1,
   "id": "8d111684",
   "metadata": {
    "execution": {
     "iopub.execute_input": "2025-03-25T22:58:12.297318Z",
     "iopub.status.busy": "2025-03-25T22:58:12.296908Z",
     "iopub.status.idle": "2025-03-25T22:58:13.393025Z",
     "shell.execute_reply": "2025-03-25T22:58:13.392159Z"
    },
    "papermill": {
     "duration": 1.101248,
     "end_time": "2025-03-25T22:58:13.394762",
     "exception": false,
     "start_time": "2025-03-25T22:58:12.293514",
     "status": "completed"
    },
    "tags": []
   },
   "outputs": [],
   "source": [
    "import h5py\n",
    "import numpy as np\n",
    "import matplotlib.pyplot as plt\n",
    "import pandas as pd"
   ]
  },
  {
   "cell_type": "code",
   "execution_count": 2,
   "id": "a9795e38",
   "metadata": {
    "execution": {
     "iopub.execute_input": "2025-03-25T22:58:13.401201Z",
     "iopub.status.busy": "2025-03-25T22:58:13.400634Z",
     "iopub.status.idle": "2025-03-25T22:58:13.478927Z",
     "shell.execute_reply": "2025-03-25T22:58:13.477901Z"
    },
    "papermill": {
     "duration": 0.083503,
     "end_time": "2025-03-25T22:58:13.480856",
     "exception": false,
     "start_time": "2025-03-25T22:58:13.397353",
     "status": "completed"
    },
    "tags": []
   },
   "outputs": [],
   "source": [
    "# Display spot table for Test slide (only the spot coordinates on 2D array)\n",
    "with h5py.File(\"/kaggle/input/el-hackathon-2025/elucidata_ai_challenge_data.h5\", \"r\") as f:\n",
    "    test_spots = f[\"spots/Test\"]\n",
    "    spot_array = np.array(test_spots['S_7'])\n",
    "    test_spot_table = pd.DataFrame(spot_array)\n",
    "    \n",
    "# Show the test spots coordinates for slide 'S_7'\n",
    "test_spot_table\n",
    "\n",
    "# Load training data\n",
    "with h5py.File(\"/kaggle/input/el-hackathon-2025/elucidata_ai_challenge_data.h5\", \"r\") as f:\n",
    "    train_spots = f[\"spots/Train\"]\n",
    "    train_spot_tables = {slide_name: pd.DataFrame(np.array(train_spots[slide_name])) for slide_name in train_spots.keys()}"
   ]
  },
  {
   "cell_type": "markdown",
   "id": "2e37b1c8",
   "metadata": {
    "papermill": {
     "duration": 0.002231,
     "end_time": "2025-03-25T22:58:13.485779",
     "exception": false,
     "start_time": "2025-03-25T22:58:13.483548",
     "status": "completed"
    },
    "tags": []
   },
   "source": [
    "# 3. Creating a Random Submission\n",
    "\n",
    "In this section, we generate random predictions for the 35 cell types.  \n",
    "The predictions are random floats between 0 and 2 (without any normalization) for each spot in the Test slide.  \n",
    "The order of spots is preserved as in the test spots table."
   ]
  },
  {
   "cell_type": "code",
   "execution_count": 3,
   "id": "1fd1c0e8",
   "metadata": {
    "execution": {
     "iopub.execute_input": "2025-03-25T22:58:13.491832Z",
     "iopub.status.busy": "2025-03-25T22:58:13.491479Z",
     "iopub.status.idle": "2025-03-25T22:58:13.541618Z",
     "shell.execute_reply": "2025-03-25T22:58:13.540552Z"
    },
    "papermill": {
     "duration": 0.054955,
     "end_time": "2025-03-25T22:58:13.543160",
     "exception": false,
     "start_time": "2025-03-25T22:58:13.488205",
     "status": "completed"
    },
    "tags": []
   },
   "outputs": [
    {
     "data": {
      "text/html": [
       "<div>\n",
       "<style scoped>\n",
       "    .dataframe tbody tr th:only-of-type {\n",
       "        vertical-align: middle;\n",
       "    }\n",
       "\n",
       "    .dataframe tbody tr th {\n",
       "        vertical-align: top;\n",
       "    }\n",
       "\n",
       "    .dataframe thead th {\n",
       "        text-align: right;\n",
       "    }\n",
       "</style>\n",
       "<table border=\"1\" class=\"dataframe\">\n",
       "  <thead>\n",
       "    <tr style=\"text-align: right;\">\n",
       "      <th></th>\n",
       "      <th>C1</th>\n",
       "      <th>C2</th>\n",
       "      <th>C3</th>\n",
       "      <th>C4</th>\n",
       "      <th>C5</th>\n",
       "      <th>C6</th>\n",
       "      <th>C7</th>\n",
       "      <th>C8</th>\n",
       "      <th>C9</th>\n",
       "      <th>C10</th>\n",
       "      <th>...</th>\n",
       "      <th>C26</th>\n",
       "      <th>C27</th>\n",
       "      <th>C28</th>\n",
       "      <th>C29</th>\n",
       "      <th>C30</th>\n",
       "      <th>C31</th>\n",
       "      <th>C32</th>\n",
       "      <th>C33</th>\n",
       "      <th>C34</th>\n",
       "      <th>C35</th>\n",
       "    </tr>\n",
       "  </thead>\n",
       "  <tbody>\n",
       "    <tr>\n",
       "      <th>0</th>\n",
       "      <td>0.749080</td>\n",
       "      <td>1.901429</td>\n",
       "      <td>1.463988</td>\n",
       "      <td>1.197317</td>\n",
       "      <td>0.312037</td>\n",
       "      <td>0.311989</td>\n",
       "      <td>0.116167</td>\n",
       "      <td>1.732352</td>\n",
       "      <td>1.202230</td>\n",
       "      <td>1.416145</td>\n",
       "      <td>...</td>\n",
       "      <td>1.570352</td>\n",
       "      <td>0.399348</td>\n",
       "      <td>1.028469</td>\n",
       "      <td>1.184829</td>\n",
       "      <td>0.092901</td>\n",
       "      <td>1.215090</td>\n",
       "      <td>0.341048</td>\n",
       "      <td>0.130103</td>\n",
       "      <td>1.897771</td>\n",
       "      <td>1.931264</td>\n",
       "    </tr>\n",
       "    <tr>\n",
       "      <th>1</th>\n",
       "      <td>1.616795</td>\n",
       "      <td>0.609228</td>\n",
       "      <td>0.195344</td>\n",
       "      <td>1.368466</td>\n",
       "      <td>0.880305</td>\n",
       "      <td>0.244076</td>\n",
       "      <td>0.990354</td>\n",
       "      <td>0.068777</td>\n",
       "      <td>1.818641</td>\n",
       "      <td>0.517560</td>\n",
       "      <td>...</td>\n",
       "      <td>0.777355</td>\n",
       "      <td>0.542698</td>\n",
       "      <td>1.657475</td>\n",
       "      <td>0.713507</td>\n",
       "      <td>0.561869</td>\n",
       "      <td>1.085392</td>\n",
       "      <td>0.281848</td>\n",
       "      <td>1.604394</td>\n",
       "      <td>0.149101</td>\n",
       "      <td>1.973774</td>\n",
       "    </tr>\n",
       "    <tr>\n",
       "      <th>2</th>\n",
       "      <td>1.544490</td>\n",
       "      <td>0.397431</td>\n",
       "      <td>0.011044</td>\n",
       "      <td>1.630923</td>\n",
       "      <td>1.413715</td>\n",
       "      <td>1.458014</td>\n",
       "      <td>1.542541</td>\n",
       "      <td>0.148089</td>\n",
       "      <td>0.716931</td>\n",
       "      <td>0.231738</td>\n",
       "      <td>...</td>\n",
       "      <td>0.987591</td>\n",
       "      <td>1.045466</td>\n",
       "      <td>0.855082</td>\n",
       "      <td>0.050838</td>\n",
       "      <td>0.215783</td>\n",
       "      <td>0.062858</td>\n",
       "      <td>1.272821</td>\n",
       "      <td>0.628712</td>\n",
       "      <td>1.017141</td>\n",
       "      <td>1.815133</td>\n",
       "    </tr>\n",
       "    <tr>\n",
       "      <th>3</th>\n",
       "      <td>0.498584</td>\n",
       "      <td>0.820766</td>\n",
       "      <td>1.511102</td>\n",
       "      <td>0.457596</td>\n",
       "      <td>0.153960</td>\n",
       "      <td>0.579503</td>\n",
       "      <td>0.322443</td>\n",
       "      <td>1.859395</td>\n",
       "      <td>1.616241</td>\n",
       "      <td>1.266808</td>\n",
       "      <td>...</td>\n",
       "      <td>0.834822</td>\n",
       "      <td>0.444216</td>\n",
       "      <td>0.239731</td>\n",
       "      <td>0.675230</td>\n",
       "      <td>1.885819</td>\n",
       "      <td>0.646406</td>\n",
       "      <td>1.037581</td>\n",
       "      <td>1.406038</td>\n",
       "      <td>0.727259</td>\n",
       "      <td>1.943564</td>\n",
       "    </tr>\n",
       "    <tr>\n",
       "      <th>4</th>\n",
       "      <td>1.924895</td>\n",
       "      <td>0.503565</td>\n",
       "      <td>0.994497</td>\n",
       "      <td>0.601757</td>\n",
       "      <td>0.569681</td>\n",
       "      <td>0.073774</td>\n",
       "      <td>1.219129</td>\n",
       "      <td>1.005358</td>\n",
       "      <td>0.102958</td>\n",
       "      <td>0.557293</td>\n",
       "      <td>...</td>\n",
       "      <td>1.670605</td>\n",
       "      <td>0.641560</td>\n",
       "      <td>0.373037</td>\n",
       "      <td>0.081550</td>\n",
       "      <td>1.181786</td>\n",
       "      <td>1.355129</td>\n",
       "      <td>0.033176</td>\n",
       "      <td>1.024186</td>\n",
       "      <td>0.452992</td>\n",
       "      <td>1.290346</td>\n",
       "    </tr>\n",
       "  </tbody>\n",
       "</table>\n",
       "<p>5 rows × 35 columns</p>\n",
       "</div>"
      ],
      "text/plain": [
       "         C1        C2        C3        C4        C5        C6        C7  \\\n",
       "0  0.749080  1.901429  1.463988  1.197317  0.312037  0.311989  0.116167   \n",
       "1  1.616795  0.609228  0.195344  1.368466  0.880305  0.244076  0.990354   \n",
       "2  1.544490  0.397431  0.011044  1.630923  1.413715  1.458014  1.542541   \n",
       "3  0.498584  0.820766  1.511102  0.457596  0.153960  0.579503  0.322443   \n",
       "4  1.924895  0.503565  0.994497  0.601757  0.569681  0.073774  1.219129   \n",
       "\n",
       "         C8        C9       C10  ...       C26       C27       C28       C29  \\\n",
       "0  1.732352  1.202230  1.416145  ...  1.570352  0.399348  1.028469  1.184829   \n",
       "1  0.068777  1.818641  0.517560  ...  0.777355  0.542698  1.657475  0.713507   \n",
       "2  0.148089  0.716931  0.231738  ...  0.987591  1.045466  0.855082  0.050838   \n",
       "3  1.859395  1.616241  1.266808  ...  0.834822  0.444216  0.239731  0.675230   \n",
       "4  1.005358  0.102958  0.557293  ...  1.670605  0.641560  0.373037  0.081550   \n",
       "\n",
       "        C30       C31       C32       C33       C34       C35  \n",
       "0  0.092901  1.215090  0.341048  0.130103  1.897771  1.931264  \n",
       "1  0.561869  1.085392  0.281848  1.604394  0.149101  1.973774  \n",
       "2  0.215783  0.062858  1.272821  0.628712  1.017141  1.815133  \n",
       "3  1.885819  0.646406  1.037581  1.406038  0.727259  1.943564  \n",
       "4  1.181786  1.355129  0.033176  1.024186  0.452992  1.290346  \n",
       "\n",
       "[5 rows x 35 columns]"
      ]
     },
     "execution_count": 3,
     "metadata": {},
     "output_type": "execute_result"
    }
   ],
   "source": [
    "import numpy as np\n",
    "import pandas as pd\n",
    "\n",
    "def generate_random_submission_partial_v2(train_spot_tables, test_spot_table, seed=None, \n",
    "                                            n_rows=None, n_columns=None, random_range=(0, 2)):\n",
    "    \"\"\"\n",
    "    Generate a random submission DataFrame for cell type abundances as follows:\n",
    "      1. Generate random values for the full table.\n",
    "      2. Replace (zero out) entries outside the top-left submatrix defined by n_rows and n_columns.\n",
    "      \n",
    "    Parameters:\n",
    "        train_spot_tables (dict): Dictionary of pandas DataFrames containing training spot data.\n",
    "                                   It is assumed that train_spot_tables['S_1'] has cell type columns \n",
    "                                   starting at index 2 (e.g., 'C1', 'C2', ..., 'C35').\n",
    "        test_spot_table (pd.DataFrame): DataFrame containing test spot data; its index is used for the submission.\n",
    "        seed (int, optional): Random seed for reproducibility.\n",
    "        n_rows (int, optional): Number of rows (spots) to retain random predictions.\n",
    "                                All other rows will be set to 0. If None, use all rows.\n",
    "        n_columns (int, optional): Number of cell type columns to retain random predictions.\n",
    "                                   All other columns will be set to 0. If None, use all cell type columns.\n",
    "        random_range (tuple, optional): (min, max) range for generating random values. Defaults to (0, 2).\n",
    "    \n",
    "    Returns:\n",
    "        pd.DataFrame: A DataFrame with the same index as test_spot_table and columns corresponding to\n",
    "                      the cell type fields. Only the top-left submatrix (n_rows x n_columns) contains random numbers;\n",
    "                      the rest are 0.\n",
    "    \"\"\"\n",
    "    # Set the random seed if provided\n",
    "    if seed is not None:\n",
    "        np.random.seed(seed)\n",
    "    \n",
    "    # Get all cell type column names (assumes the first two columns are not cell types)\n",
    "    all_columns = train_spot_tables['S_1'].columns[2:].values\n",
    "    total_columns = len(all_columns)\n",
    "    \n",
    "    # Number of test spots (rows)\n",
    "    indices = test_spot_table.index.values\n",
    "    total_rows = len(indices)\n",
    "    \n",
    "    # Generate a full table with random values in the given range\n",
    "    submission = pd.DataFrame(\n",
    "        (random_range[1] - random_range[0]) * np.random.rand(total_rows, total_columns) + random_range[0],\n",
    "        columns=all_columns,\n",
    "        index=indices,\n",
    "        dtype=float\n",
    "    )\n",
    "    \n",
    "    # Determine n_rows and n_columns (if not provided, use the full dimensions)\n",
    "    if n_rows is None:\n",
    "        n_rows = total_rows\n",
    "    else:\n",
    "        n_rows = min(n_rows, total_rows)\n",
    "    if n_columns is None:\n",
    "        n_columns = total_columns\n",
    "    else:\n",
    "        n_columns = min(n_columns, total_columns)\n",
    "    \n",
    "    # Zero out rows beyond n_rows and columns beyond n_columns\n",
    "    submission.iloc[n_rows:, :] = 0   # Set all rows after the first n_rows to 0\n",
    "    submission.iloc[:, n_columns:] = 0  # Set all columns after the first n_columns to 0\n",
    "    \n",
    "    return submission\n",
    "\n",
    "# Example usage:\n",
    "# Assuming you have loaded train_spot_tables (a dict with key 'S_1') and test_spot_table (a DataFrame):\n",
    "submission_df = generate_random_submission_partial_v2(train_spot_tables, test_spot_table, \n",
    "                                                       seed=42, n_rows=300, n_columns=35, random_range=(0,2))\n",
    "submission_df.head()\n"
   ]
  },
  {
   "cell_type": "markdown",
   "id": "0c84eaff",
   "metadata": {
    "papermill": {
     "duration": 0.002428,
     "end_time": "2025-03-25T22:58:13.548444",
     "exception": false,
     "start_time": "2025-03-25T22:58:13.546016",
     "status": "completed"
    },
    "tags": []
   },
   "source": [
    "# 4. Submission File Generation\n",
    "\n",
    "Finally, we generate the submission file in the required format.  \n",
    "Each row corresponds to a test spot with its identifier (constructed here as the index) followed by 35 predictions."
   ]
  },
  {
   "cell_type": "code",
   "execution_count": 4,
   "id": "3300f3e2",
   "metadata": {
    "execution": {
     "iopub.execute_input": "2025-03-25T22:58:13.554982Z",
     "iopub.status.busy": "2025-03-25T22:58:13.554635Z",
     "iopub.status.idle": "2025-03-25T22:58:13.625599Z",
     "shell.execute_reply": "2025-03-25T22:58:13.624320Z"
    },
    "papermill": {
     "duration": 0.0764,
     "end_time": "2025-03-25T22:58:13.627455",
     "exception": false,
     "start_time": "2025-03-25T22:58:13.551055",
     "status": "completed"
    },
    "tags": []
   },
   "outputs": [
    {
     "name": "stdout",
     "output_type": "stream",
     "text": [
      "Submission file 'submission.csv' created!\n"
     ]
    }
   ],
   "source": [
    "# Prepare submission DataFrame: spot_id column and then predictions for each cell type\n",
    "\n",
    "submission_df.insert(0, 'ID', submission_df.index)\n",
    "\n",
    "# Save the submission file as submission.csv\n",
    "submission_df.to_csv(\"./submission.csv\", index=False)\n",
    "print(\"Submission file 'submission.csv' created!\")"
   ]
  }
 ],
 "metadata": {
  "kaggle": {
   "accelerator": "none",
   "dataSources": [
    {
     "databundleVersionId": 11390004,
     "sourceId": 94147,
     "sourceType": "competition"
    }
   ],
   "dockerImageVersionId": 30918,
   "isGpuEnabled": false,
   "isInternetEnabled": true,
   "language": "python",
   "sourceType": "notebook"
  },
  "kernelspec": {
   "display_name": "Python 3",
   "language": "python",
   "name": "python3"
  },
  "language_info": {
   "codemirror_mode": {
    "name": "ipython",
    "version": 3
   },
   "file_extension": ".py",
   "mimetype": "text/x-python",
   "name": "python",
   "nbconvert_exporter": "python",
   "pygments_lexer": "ipython3",
   "version": "3.10.12"
  },
  "papermill": {
   "default_parameters": {},
   "duration": 4.721702,
   "end_time": "2025-03-25T22:58:14.250208",
   "environment_variables": {},
   "exception": null,
   "input_path": "__notebook__.ipynb",
   "output_path": "__notebook__.ipynb",
   "parameters": {},
   "start_time": "2025-03-25T22:58:09.528506",
   "version": "2.6.0"
  }
 },
 "nbformat": 4,
 "nbformat_minor": 5
}
