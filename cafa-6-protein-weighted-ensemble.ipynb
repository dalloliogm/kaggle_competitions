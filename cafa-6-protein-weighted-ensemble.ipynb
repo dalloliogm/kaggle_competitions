{
 "cells": [
  {
   "cell_type": "code",
   "execution_count": 1,
   "id": "7a842add",
   "metadata": {
    "_cell_guid": "b1076dfc-b9ad-4769-8c92-a6c4dae69d19",
    "_uuid": "8f2839f25d086af736a60e9eeb907d3b93b6e0e5",
    "execution": {
     "iopub.execute_input": "2025-10-29T11:03:35.766704Z",
     "iopub.status.busy": "2025-10-29T11:03:35.766288Z",
     "iopub.status.idle": "2025-10-29T11:13:53.396498Z",
     "shell.execute_reply": "2025-10-29T11:13:53.395229Z"
    },
    "papermill": {
     "duration": 617.641445,
     "end_time": "2025-10-29T11:13:53.404136",
     "exception": false,
     "start_time": "2025-10-29T11:03:35.762691",
     "status": "completed"
    },
    "tags": []
   },
   "outputs": [
    {
     "name": "stdout",
     "output_type": "stream",
     "text": [
      "Loaded 2431175 predictions from file 1\n",
      "Loaded 31157430 predictions from file 2\n",
      "\n",
      "Saved 31157430 predictions to submission.tsv\n"
     ]
    }
   ],
   "source": [
    "import pandas as pd\n",
    "\n",
    "\n",
    "def ensemble_submissions(file_paths, weights, output_path='submission.tsv'):\n",
    "    dfs = []\n",
    "    for i, path in enumerate(file_paths):\n",
    "        df = pd.read_csv(path, sep='\\t', header=None, names=['protein', 'go_term', 'score'])\n",
    "        df['key'] = df['protein'] + '_' + df['go_term']\n",
    "        df = df.rename(columns={'score': f'score_{i}'})\n",
    "        dfs.append(df)\n",
    "        print(f\"Loaded {len(df)} predictions from file {i+1}\")\n",
    "    \n",
    "    result = dfs[0][['protein', 'go_term', 'key', 'score_0']].copy()\n",
    "    for i in range(1, len(dfs)):\n",
    "        result = result.merge(dfs[i][['key', f'score_{i}']], on='key', how='outer')\n",
    "    \n",
    "    for i in range(len(dfs)):\n",
    "        result[f'score_{i}'] = result[f'score_{i}'].fillna(0)\n",
    "    \n",
    "    result['score'] = sum(weights[i] * result[f'score_{i}'] for i in range(len(dfs)))\n",
    "    result['protein'] = result['protein'].fillna(result['key'].str.split('_').str[0])\n",
    "    result['go_term'] = result['go_term'].fillna(result['key'].str.split('_').str[-1])\n",
    "    \n",
    "    result = result.sort_values('score', ascending=False)\n",
    "    result[['protein', 'go_term', 'score']].to_csv(\n",
    "        output_path,\n",
    "        sep='\\t',\n",
    "        index=False,\n",
    "        header=False\n",
    "    )\n",
    "    \n",
    "    print(f\"\\nSaved {len(result)} predictions to {output_path}\")\n",
    "    return result\n",
    "\n",
    "\n",
    "if __name__ == \"__main__\":\n",
    "    file_paths = [\n",
    "        '/kaggle/input/gaf-submission/submission.tsv',\n",
    "        '/kaggle/input/cafa-6-predictions/submission.tsv'\n",
    "    ]\n",
    "    weights = [0.5, 0.5]\n",
    "    \n",
    "    ensemble_submissions(file_paths, weights)"
   ]
  }
 ],
 "metadata": {
  "kaggle": {
   "accelerator": "none",
   "dataSources": [
    {
     "databundleVersionId": 14084779,
     "sourceId": 116062,
     "sourceType": "competition"
    },
    {
     "sourceId": 269339911,
     "sourceType": "kernelVersion"
    },
    {
     "sourceId": 270571028,
     "sourceType": "kernelVersion"
    },
    {
     "sourceId": 270886114,
     "sourceType": "kernelVersion"
    }
   ],
   "dockerImageVersionId": 31153,
   "isGpuEnabled": false,
   "isInternetEnabled": true,
   "language": "python",
   "sourceType": "notebook"
  },
  "kernelspec": {
   "display_name": "Python 3",
   "language": "python",
   "name": "python3"
  },
  "language_info": {
   "codemirror_mode": {
    "name": "ipython",
    "version": 3
   },
   "file_extension": ".py",
   "mimetype": "text/x-python",
   "name": "python",
   "nbconvert_exporter": "python",
   "pygments_lexer": "ipython3",
   "version": "3.11.13"
  },
  "papermill": {
   "default_parameters": {},
   "duration": 626.221018,
   "end_time": "2025-10-29T11:13:56.331542",
   "environment_variables": {},
   "exception": null,
   "input_path": "__notebook__.ipynb",
   "output_path": "__notebook__.ipynb",
   "parameters": {},
   "start_time": "2025-10-29T11:03:30.110524",
   "version": "2.6.0"
  }
 },
 "nbformat": 4,
 "nbformat_minor": 5
}
