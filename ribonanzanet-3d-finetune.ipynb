{
 "cells": [
  {
   "cell_type": "code",
   "execution_count": 1,
   "id": "b36a03aa",
   "metadata": {
    "_cell_guid": "b1076dfc-b9ad-4769-8c92-a6c4dae69d19",
    "_uuid": "8f2839f25d086af736a60e9eeb907d3b93b6e0e5",
    "execution": {
     "iopub.execute_input": "2025-03-09T16:45:22.850096Z",
     "iopub.status.busy": "2025-03-09T16:45:22.849859Z",
     "iopub.status.idle": "2025-03-09T16:45:26.753515Z",
     "shell.execute_reply": "2025-03-09T16:45:26.752827Z"
    },
    "papermill": {
     "duration": 3.910935,
     "end_time": "2025-03-09T16:45:26.755036",
     "exception": false,
     "start_time": "2025-03-09T16:45:22.844101",
     "status": "completed"
    },
    "tags": []
   },
   "outputs": [],
   "source": [
    "import pandas as pd\n",
    "import torch\n",
    "import matplotlib.pyplot as plt\n",
    "import numpy as np\n",
    "import torch\n",
    "import random\n",
    "import pickle\n",
    "from tqdm import tqdm"
   ]
  },
  {
   "cell_type": "code",
   "execution_count": 2,
   "id": "64912578",
   "metadata": {
    "execution": {
     "iopub.execute_input": "2025-03-09T16:45:26.765157Z",
     "iopub.status.busy": "2025-03-09T16:45:26.764830Z",
     "iopub.status.idle": "2025-03-09T16:45:26.771184Z",
     "shell.execute_reply": "2025-03-09T16:45:26.770621Z"
    },
    "papermill": {
     "duration": 0.012403,
     "end_time": "2025-03-09T16:45:26.772297",
     "exception": false,
     "start_time": "2025-03-09T16:45:26.759894",
     "status": "completed"
    },
    "tags": []
   },
   "outputs": [],
   "source": [
    "#set seed for everything\n",
    "torch.manual_seed(0)\n",
    "np.random.seed(0)\n",
    "random.seed(0)"
   ]
  },
  {
   "cell_type": "markdown",
   "id": "ae679d5f",
   "metadata": {
    "papermill": {
     "duration": 0.003954,
     "end_time": "2025-03-09T16:45:26.780374",
     "exception": false,
     "start_time": "2025-03-09T16:45:26.776420",
     "status": "completed"
    },
    "tags": []
   },
   "source": [
    "# Config"
   ]
  },
  {
   "cell_type": "code",
   "execution_count": 3,
   "id": "af1ba356",
   "metadata": {
    "execution": {
     "iopub.execute_input": "2025-03-09T16:45:26.789349Z",
     "iopub.status.busy": "2025-03-09T16:45:26.789109Z",
     "iopub.status.idle": "2025-03-09T16:45:26.792983Z",
     "shell.execute_reply": "2025-03-09T16:45:26.792229Z"
    },
    "papermill": {
     "duration": 0.009622,
     "end_time": "2025-03-09T16:45:26.794164",
     "exception": false,
     "start_time": "2025-03-09T16:45:26.784542",
     "status": "completed"
    },
    "tags": []
   },
   "outputs": [],
   "source": [
    "config = {\n",
    "    \"seed\": 0,\n",
    "    \"cutoff_date\": \"2020-01-01\",\n",
    "    \"test_cutoff_date\": \"2022-05-01\",\n",
    "    \"max_len\": 384,\n",
    "    \"batch_size\": 1,\n",
    "    \"learning_rate\": 1e-4,\n",
    "    \"weight_decay\": 0.0,\n",
    "    \"mixed_precision\": \"bf16\",\n",
    "    \"model_config_path\": \"../working/configs/pairwise.yaml\",  # Adjust path as needed\n",
    "    \"epochs\": 10,\n",
    "    \"cos_epoch\": 5,\n",
    "    \"loss_power_scale\": 1.0,\n",
    "    \"max_cycles\": 1,\n",
    "    \"grad_clip\": 0.1,\n",
    "    \"gradient_accumulation_steps\": 1,\n",
    "    \"d_clamp\": 30,\n",
    "    \"max_len_filter\": 9999999,\n",
    "    \"min_len_filter\": 10, \n",
    "    \"structural_violation_epoch\": 50,\n",
    "    \"balance_weight\": False,\n",
    "}"
   ]
  },
  {
   "cell_type": "markdown",
   "id": "e4eb8255",
   "metadata": {
    "execution": {
     "iopub.execute_input": "2025-02-27T00:35:07.63984Z",
     "iopub.status.busy": "2025-02-27T00:35:07.639563Z",
     "iopub.status.idle": "2025-02-27T00:35:07.643454Z",
     "shell.execute_reply": "2025-02-27T00:35:07.64259Z",
     "shell.execute_reply.started": "2025-02-27T00:35:07.639817Z"
    },
    "papermill": {
     "duration": 0.003953,
     "end_time": "2025-03-09T16:45:26.802283",
     "exception": false,
     "start_time": "2025-03-09T16:45:26.798330",
     "status": "completed"
    },
    "tags": []
   },
   "source": [
    "# Get data and do some data processing¶\n"
   ]
  },
  {
   "cell_type": "code",
   "execution_count": 4,
   "id": "ca1aacbf",
   "metadata": {
    "execution": {
     "iopub.execute_input": "2025-03-09T16:45:26.811084Z",
     "iopub.status.busy": "2025-03-09T16:45:26.810879Z",
     "iopub.status.idle": "2025-03-09T16:45:27.119237Z",
     "shell.execute_reply": "2025-03-09T16:45:27.118540Z"
    },
    "papermill": {
     "duration": 0.31439,
     "end_time": "2025-03-09T16:45:27.120756",
     "exception": false,
     "start_time": "2025-03-09T16:45:26.806366",
     "status": "completed"
    },
    "tags": []
   },
   "outputs": [],
   "source": [
    "# Load data\n",
    "\n",
    "train_sequences=pd.read_csv(\"/kaggle/input/stanford-rna-3d-folding/train_sequences.csv\")\n",
    "train_labels=pd.read_csv(\"/kaggle/input/stanford-rna-3d-folding/train_labels.csv\")"
   ]
  },
  {
   "cell_type": "code",
   "execution_count": 5,
   "id": "2ca9231b",
   "metadata": {
    "execution": {
     "iopub.execute_input": "2025-03-09T16:45:27.130482Z",
     "iopub.status.busy": "2025-03-09T16:45:27.130248Z",
     "iopub.status.idle": "2025-03-09T16:45:27.217093Z",
     "shell.execute_reply": "2025-03-09T16:45:27.216399Z"
    },
    "papermill": {
     "duration": 0.092803,
     "end_time": "2025-03-09T16:45:27.218288",
     "exception": false,
     "start_time": "2025-03-09T16:45:27.125485",
     "status": "completed"
    },
    "tags": []
   },
   "outputs": [
    {
     "data": {
      "text/plain": [
       "0         1SCL_A\n",
       "1         1SCL_A\n",
       "2         1SCL_A\n",
       "3         1SCL_A\n",
       "4         1SCL_A\n",
       "           ...  \n",
       "137090    8Z1F_T\n",
       "137091    8Z1F_T\n",
       "137092    8Z1F_T\n",
       "137093    8Z1F_T\n",
       "137094    8Z1F_T\n",
       "Name: pdb_id, Length: 137095, dtype: object"
      ]
     },
     "execution_count": 5,
     "metadata": {},
     "output_type": "execute_result"
    }
   ],
   "source": [
    "train_labels[\"pdb_id\"] = train_labels[\"ID\"].apply(lambda x: x.split(\"_\")[0]+'_'+x.split(\"_\")[1])\n",
    "train_labels[\"pdb_id\"] "
   ]
  },
  {
   "cell_type": "code",
   "execution_count": 6,
   "id": "3e90db05",
   "metadata": {
    "execution": {
     "iopub.execute_input": "2025-03-09T16:45:27.227883Z",
     "iopub.status.busy": "2025-03-09T16:45:27.227654Z",
     "iopub.status.idle": "2025-03-09T16:45:27.232240Z",
     "shell.execute_reply": "2025-03-09T16:45:27.231425Z"
    },
    "papermill": {
     "duration": 0.010738,
     "end_time": "2025-03-09T16:45:27.233543",
     "exception": false,
     "start_time": "2025-03-09T16:45:27.222805",
     "status": "completed"
    },
    "tags": []
   },
   "outputs": [
    {
     "data": {
      "text/plain": [
       "nan"
      ]
     },
     "execution_count": 6,
     "metadata": {},
     "output_type": "execute_result"
    }
   ],
   "source": [
    "float('Nan')"
   ]
  },
  {
   "cell_type": "code",
   "execution_count": 7,
   "id": "b7600453",
   "metadata": {
    "execution": {
     "iopub.execute_input": "2025-03-09T16:45:27.243353Z",
     "iopub.status.busy": "2025-03-09T16:45:27.243121Z",
     "iopub.status.idle": "2025-03-09T16:45:35.598984Z",
     "shell.execute_reply": "2025-03-09T16:45:35.598025Z"
    },
    "papermill": {
     "duration": 8.362209,
     "end_time": "2025-03-09T16:45:35.600320",
     "exception": false,
     "start_time": "2025-03-09T16:45:27.238111",
     "status": "completed"
    },
    "tags": []
   },
   "outputs": [
    {
     "name": "stderr",
     "output_type": "stream",
     "text": [
      "  1%|          | 10/844 [00:00<00:08, 97.86it/s]<ipython-input-7-699ff156c5d5>:7: RuntimeWarning: invalid value encountered in less\n",
      "  xyz[xyz<-1e17]=float('Nan');\n",
      "  4%|▍         | 32/844 [00:00<00:07, 103.33it/s]<ipython-input-7-699ff156c5d5>:7: RuntimeWarning: invalid value encountered in less\n",
      "  xyz[xyz<-1e17]=float('Nan');\n",
      "<ipython-input-7-699ff156c5d5>:7: RuntimeWarning: invalid value encountered in less\n",
      "  xyz[xyz<-1e17]=float('Nan');\n",
      "  9%|▉         | 74/844 [00:00<00:08, 92.06it/s]<ipython-input-7-699ff156c5d5>:7: RuntimeWarning: invalid value encountered in less\n",
      "  xyz[xyz<-1e17]=float('Nan');\n",
      "<ipython-input-7-699ff156c5d5>:7: RuntimeWarning: invalid value encountered in less\n",
      "  xyz[xyz<-1e17]=float('Nan');\n",
      " 10%|▉         | 84/844 [00:00<00:08, 91.75it/s]<ipython-input-7-699ff156c5d5>:7: RuntimeWarning: invalid value encountered in less\n",
      "  xyz[xyz<-1e17]=float('Nan');\n",
      " 11%|█▏        | 95/844 [00:00<00:07, 95.22it/s]<ipython-input-7-699ff156c5d5>:7: RuntimeWarning: invalid value encountered in less\n",
      "  xyz[xyz<-1e17]=float('Nan');\n",
      " 13%|█▎        | 106/844 [00:01<00:07, 98.38it/s]<ipython-input-7-699ff156c5d5>:7: RuntimeWarning: invalid value encountered in less\n",
      "  xyz[xyz<-1e17]=float('Nan');\n",
      " 14%|█▍        | 117/844 [00:01<00:07, 99.60it/s]<ipython-input-7-699ff156c5d5>:7: RuntimeWarning: invalid value encountered in less\n",
      "  xyz[xyz<-1e17]=float('Nan');\n",
      "<ipython-input-7-699ff156c5d5>:7: RuntimeWarning: invalid value encountered in less\n",
      "  xyz[xyz<-1e17]=float('Nan');\n",
      " 15%|█▌        | 128/844 [00:01<00:07, 100.93it/s]<ipython-input-7-699ff156c5d5>:7: RuntimeWarning: invalid value encountered in less\n",
      "  xyz[xyz<-1e17]=float('Nan');\n",
      "<ipython-input-7-699ff156c5d5>:7: RuntimeWarning: invalid value encountered in less\n",
      "  xyz[xyz<-1e17]=float('Nan');\n",
      "<ipython-input-7-699ff156c5d5>:7: RuntimeWarning: invalid value encountered in less\n",
      "  xyz[xyz<-1e17]=float('Nan');\n",
      " 16%|█▋        | 139/844 [00:01<00:06, 101.15it/s]<ipython-input-7-699ff156c5d5>:7: RuntimeWarning: invalid value encountered in less\n",
      "  xyz[xyz<-1e17]=float('Nan');\n",
      "<ipython-input-7-699ff156c5d5>:7: RuntimeWarning: invalid value encountered in less\n",
      "  xyz[xyz<-1e17]=float('Nan');\n",
      "<ipython-input-7-699ff156c5d5>:7: RuntimeWarning: invalid value encountered in less\n",
      "  xyz[xyz<-1e17]=float('Nan');\n",
      "<ipython-input-7-699ff156c5d5>:7: RuntimeWarning: invalid value encountered in less\n",
      "  xyz[xyz<-1e17]=float('Nan');\n",
      " 19%|█▉        | 161/844 [00:01<00:06, 101.88it/s]<ipython-input-7-699ff156c5d5>:7: RuntimeWarning: invalid value encountered in less\n",
      "  xyz[xyz<-1e17]=float('Nan');\n",
      " 20%|██        | 172/844 [00:01<00:06, 102.43it/s]<ipython-input-7-699ff156c5d5>:7: RuntimeWarning: invalid value encountered in less\n",
      "  xyz[xyz<-1e17]=float('Nan');\n",
      "<ipython-input-7-699ff156c5d5>:7: RuntimeWarning: invalid value encountered in less\n",
      "  xyz[xyz<-1e17]=float('Nan');\n",
      "<ipython-input-7-699ff156c5d5>:7: RuntimeWarning: invalid value encountered in less\n",
      "  xyz[xyz<-1e17]=float('Nan');\n",
      "<ipython-input-7-699ff156c5d5>:7: RuntimeWarning: invalid value encountered in less\n",
      "  xyz[xyz<-1e17]=float('Nan');\n",
      "<ipython-input-7-699ff156c5d5>:7: RuntimeWarning: invalid value encountered in less\n",
      "  xyz[xyz<-1e17]=float('Nan');\n",
      "<ipython-input-7-699ff156c5d5>:7: RuntimeWarning: invalid value encountered in less\n",
      "  xyz[xyz<-1e17]=float('Nan');\n",
      "<ipython-input-7-699ff156c5d5>:7: RuntimeWarning: invalid value encountered in less\n",
      "  xyz[xyz<-1e17]=float('Nan');\n",
      "<ipython-input-7-699ff156c5d5>:7: RuntimeWarning: invalid value encountered in less\n",
      "  xyz[xyz<-1e17]=float('Nan');\n",
      "<ipython-input-7-699ff156c5d5>:7: RuntimeWarning: invalid value encountered in less\n",
      "  xyz[xyz<-1e17]=float('Nan');\n",
      " 22%|██▏       | 183/844 [00:01<00:06, 101.53it/s]<ipython-input-7-699ff156c5d5>:7: RuntimeWarning: invalid value encountered in less\n",
      "  xyz[xyz<-1e17]=float('Nan');\n",
      "<ipython-input-7-699ff156c5d5>:7: RuntimeWarning: invalid value encountered in less\n",
      "  xyz[xyz<-1e17]=float('Nan');\n",
      "<ipython-input-7-699ff156c5d5>:7: RuntimeWarning: invalid value encountered in less\n",
      "  xyz[xyz<-1e17]=float('Nan');\n",
      " 23%|██▎       | 194/844 [00:01<00:06, 101.73it/s]<ipython-input-7-699ff156c5d5>:7: RuntimeWarning: invalid value encountered in less\n",
      "  xyz[xyz<-1e17]=float('Nan');\n",
      "<ipython-input-7-699ff156c5d5>:7: RuntimeWarning: invalid value encountered in less\n",
      "  xyz[xyz<-1e17]=float('Nan');\n",
      "<ipython-input-7-699ff156c5d5>:7: RuntimeWarning: invalid value encountered in less\n",
      "  xyz[xyz<-1e17]=float('Nan');\n",
      " 24%|██▍       | 205/844 [00:02<00:06, 102.22it/s]<ipython-input-7-699ff156c5d5>:7: RuntimeWarning: invalid value encountered in less\n",
      "  xyz[xyz<-1e17]=float('Nan');\n",
      "<ipython-input-7-699ff156c5d5>:7: RuntimeWarning: invalid value encountered in less\n",
      "  xyz[xyz<-1e17]=float('Nan');\n",
      "<ipython-input-7-699ff156c5d5>:7: RuntimeWarning: invalid value encountered in less\n",
      "  xyz[xyz<-1e17]=float('Nan');\n",
      "<ipython-input-7-699ff156c5d5>:7: RuntimeWarning: invalid value encountered in less\n",
      "  xyz[xyz<-1e17]=float('Nan');\n",
      " 26%|██▌       | 216/844 [00:02<00:06, 101.66it/s]<ipython-input-7-699ff156c5d5>:7: RuntimeWarning: invalid value encountered in less\n",
      "  xyz[xyz<-1e17]=float('Nan');\n",
      "<ipython-input-7-699ff156c5d5>:7: RuntimeWarning: invalid value encountered in less\n",
      "  xyz[xyz<-1e17]=float('Nan');\n",
      "<ipython-input-7-699ff156c5d5>:7: RuntimeWarning: invalid value encountered in less\n",
      "  xyz[xyz<-1e17]=float('Nan');\n",
      "<ipython-input-7-699ff156c5d5>:7: RuntimeWarning: invalid value encountered in less\n",
      "  xyz[xyz<-1e17]=float('Nan');\n",
      "<ipython-input-7-699ff156c5d5>:7: RuntimeWarning: invalid value encountered in less\n",
      "  xyz[xyz<-1e17]=float('Nan');\n",
      " 27%|██▋       | 227/844 [00:02<00:06, 101.57it/s]<ipython-input-7-699ff156c5d5>:7: RuntimeWarning: invalid value encountered in less\n",
      "  xyz[xyz<-1e17]=float('Nan');\n",
      "<ipython-input-7-699ff156c5d5>:7: RuntimeWarning: invalid value encountered in less\n",
      "  xyz[xyz<-1e17]=float('Nan');\n",
      " 28%|██▊       | 238/844 [00:02<00:05, 102.28it/s]<ipython-input-7-699ff156c5d5>:7: RuntimeWarning: invalid value encountered in less\n",
      "  xyz[xyz<-1e17]=float('Nan');\n",
      "<ipython-input-7-699ff156c5d5>:7: RuntimeWarning: invalid value encountered in less\n",
      "  xyz[xyz<-1e17]=float('Nan');\n",
      "<ipython-input-7-699ff156c5d5>:7: RuntimeWarning: invalid value encountered in less\n",
      "  xyz[xyz<-1e17]=float('Nan');\n",
      " 30%|██▉       | 249/844 [00:02<00:05, 102.40it/s]<ipython-input-7-699ff156c5d5>:7: RuntimeWarning: invalid value encountered in less\n",
      "  xyz[xyz<-1e17]=float('Nan');\n",
      "<ipython-input-7-699ff156c5d5>:7: RuntimeWarning: invalid value encountered in less\n",
      "  xyz[xyz<-1e17]=float('Nan');\n",
      "<ipython-input-7-699ff156c5d5>:7: RuntimeWarning: invalid value encountered in less\n",
      "  xyz[xyz<-1e17]=float('Nan');\n",
      "<ipython-input-7-699ff156c5d5>:7: RuntimeWarning: invalid value encountered in less\n",
      "  xyz[xyz<-1e17]=float('Nan');\n",
      "<ipython-input-7-699ff156c5d5>:7: RuntimeWarning: invalid value encountered in less\n",
      "  xyz[xyz<-1e17]=float('Nan');\n",
      " 31%|███       | 260/844 [00:02<00:05, 102.64it/s]<ipython-input-7-699ff156c5d5>:7: RuntimeWarning: invalid value encountered in less\n",
      "  xyz[xyz<-1e17]=float('Nan');\n",
      " 32%|███▏      | 271/844 [00:02<00:05, 102.24it/s]<ipython-input-7-699ff156c5d5>:7: RuntimeWarning: invalid value encountered in less\n",
      "  xyz[xyz<-1e17]=float('Nan');\n",
      "<ipython-input-7-699ff156c5d5>:7: RuntimeWarning: invalid value encountered in less\n",
      "  xyz[xyz<-1e17]=float('Nan');\n",
      "<ipython-input-7-699ff156c5d5>:7: RuntimeWarning: invalid value encountered in less\n",
      "  xyz[xyz<-1e17]=float('Nan');\n",
      "<ipython-input-7-699ff156c5d5>:7: RuntimeWarning: invalid value encountered in less\n",
      "  xyz[xyz<-1e17]=float('Nan');\n",
      "<ipython-input-7-699ff156c5d5>:7: RuntimeWarning: invalid value encountered in less\n",
      "  xyz[xyz<-1e17]=float('Nan');\n",
      " 33%|███▎      | 282/844 [00:02<00:05, 101.43it/s]<ipython-input-7-699ff156c5d5>:7: RuntimeWarning: invalid value encountered in less\n",
      "  xyz[xyz<-1e17]=float('Nan');\n",
      "<ipython-input-7-699ff156c5d5>:7: RuntimeWarning: invalid value encountered in less\n",
      "  xyz[xyz<-1e17]=float('Nan');\n",
      " 35%|███▍      | 293/844 [00:02<00:05, 101.28it/s]<ipython-input-7-699ff156c5d5>:7: RuntimeWarning: invalid value encountered in less\n",
      "  xyz[xyz<-1e17]=float('Nan');\n",
      "<ipython-input-7-699ff156c5d5>:7: RuntimeWarning: invalid value encountered in less\n",
      "  xyz[xyz<-1e17]=float('Nan');\n",
      "<ipython-input-7-699ff156c5d5>:7: RuntimeWarning: invalid value encountered in less\n",
      "  xyz[xyz<-1e17]=float('Nan');\n",
      "<ipython-input-7-699ff156c5d5>:7: RuntimeWarning: invalid value encountered in less\n",
      "  xyz[xyz<-1e17]=float('Nan');\n",
      " 36%|███▌      | 304/844 [00:03<00:05, 100.15it/s]<ipython-input-7-699ff156c5d5>:7: RuntimeWarning: invalid value encountered in less\n",
      "  xyz[xyz<-1e17]=float('Nan');\n",
      "<ipython-input-7-699ff156c5d5>:7: RuntimeWarning: invalid value encountered in less\n",
      "  xyz[xyz<-1e17]=float('Nan');\n",
      "<ipython-input-7-699ff156c5d5>:7: RuntimeWarning: invalid value encountered in less\n",
      "  xyz[xyz<-1e17]=float('Nan');\n",
      "<ipython-input-7-699ff156c5d5>:7: RuntimeWarning: invalid value encountered in less\n",
      "  xyz[xyz<-1e17]=float('Nan');\n",
      "<ipython-input-7-699ff156c5d5>:7: RuntimeWarning: invalid value encountered in less\n",
      "  xyz[xyz<-1e17]=float('Nan');\n",
      " 40%|███▉      | 337/844 [00:03<00:04, 102.24it/s]<ipython-input-7-699ff156c5d5>:7: RuntimeWarning: invalid value encountered in less\n",
      "  xyz[xyz<-1e17]=float('Nan');\n",
      "<ipython-input-7-699ff156c5d5>:7: RuntimeWarning: invalid value encountered in less\n",
      "  xyz[xyz<-1e17]=float('Nan');\n",
      "<ipython-input-7-699ff156c5d5>:7: RuntimeWarning: invalid value encountered in less\n",
      "  xyz[xyz<-1e17]=float('Nan');\n",
      " 41%|████      | 348/844 [00:03<00:04, 101.41it/s]<ipython-input-7-699ff156c5d5>:7: RuntimeWarning: invalid value encountered in less\n",
      "  xyz[xyz<-1e17]=float('Nan');\n",
      "<ipython-input-7-699ff156c5d5>:7: RuntimeWarning: invalid value encountered in less\n",
      "  xyz[xyz<-1e17]=float('Nan');\n",
      "<ipython-input-7-699ff156c5d5>:7: RuntimeWarning: invalid value encountered in less\n",
      "  xyz[xyz<-1e17]=float('Nan');\n",
      " 44%|████▍     | 370/844 [00:03<00:04, 103.31it/s]<ipython-input-7-699ff156c5d5>:7: RuntimeWarning: invalid value encountered in less\n",
      "  xyz[xyz<-1e17]=float('Nan');\n",
      "<ipython-input-7-699ff156c5d5>:7: RuntimeWarning: invalid value encountered in less\n",
      "  xyz[xyz<-1e17]=float('Nan');\n",
      " 45%|████▌     | 381/844 [00:03<00:04, 102.69it/s]<ipython-input-7-699ff156c5d5>:7: RuntimeWarning: invalid value encountered in less\n",
      "  xyz[xyz<-1e17]=float('Nan');\n",
      " 46%|████▋     | 392/844 [00:03<00:04, 102.74it/s]<ipython-input-7-699ff156c5d5>:7: RuntimeWarning: invalid value encountered in less\n",
      "  xyz[xyz<-1e17]=float('Nan');\n",
      "<ipython-input-7-699ff156c5d5>:7: RuntimeWarning: invalid value encountered in less\n",
      "  xyz[xyz<-1e17]=float('Nan');\n",
      "<ipython-input-7-699ff156c5d5>:7: RuntimeWarning: invalid value encountered in less\n",
      "  xyz[xyz<-1e17]=float('Nan');\n",
      " 49%|████▉     | 414/844 [00:04<00:04, 104.29it/s]<ipython-input-7-699ff156c5d5>:7: RuntimeWarning: invalid value encountered in less\n",
      "  xyz[xyz<-1e17]=float('Nan');\n",
      " 50%|█████     | 425/844 [00:04<00:04, 104.31it/s]<ipython-input-7-699ff156c5d5>:7: RuntimeWarning: invalid value encountered in less\n",
      "  xyz[xyz<-1e17]=float('Nan');\n",
      "<ipython-input-7-699ff156c5d5>:7: RuntimeWarning: invalid value encountered in less\n",
      "  xyz[xyz<-1e17]=float('Nan');\n",
      " 52%|█████▏    | 436/844 [00:04<00:03, 104.31it/s]<ipython-input-7-699ff156c5d5>:7: RuntimeWarning: invalid value encountered in less\n",
      "  xyz[xyz<-1e17]=float('Nan');\n",
      "<ipython-input-7-699ff156c5d5>:7: RuntimeWarning: invalid value encountered in less\n",
      "  xyz[xyz<-1e17]=float('Nan');\n",
      "<ipython-input-7-699ff156c5d5>:7: RuntimeWarning: invalid value encountered in less\n",
      "  xyz[xyz<-1e17]=float('Nan');\n",
      "<ipython-input-7-699ff156c5d5>:7: RuntimeWarning: invalid value encountered in less\n",
      "  xyz[xyz<-1e17]=float('Nan');\n",
      "<ipython-input-7-699ff156c5d5>:7: RuntimeWarning: invalid value encountered in less\n",
      "  xyz[xyz<-1e17]=float('Nan');\n",
      " 53%|█████▎    | 447/844 [00:04<00:03, 103.65it/s]<ipython-input-7-699ff156c5d5>:7: RuntimeWarning: invalid value encountered in less\n",
      "  xyz[xyz<-1e17]=float('Nan');\n",
      "<ipython-input-7-699ff156c5d5>:7: RuntimeWarning: invalid value encountered in less\n",
      "  xyz[xyz<-1e17]=float('Nan');\n",
      "<ipython-input-7-699ff156c5d5>:7: RuntimeWarning: invalid value encountered in less\n",
      "  xyz[xyz<-1e17]=float('Nan');\n",
      "<ipython-input-7-699ff156c5d5>:7: RuntimeWarning: invalid value encountered in less\n",
      "  xyz[xyz<-1e17]=float('Nan');\n",
      "<ipython-input-7-699ff156c5d5>:7: RuntimeWarning: invalid value encountered in less\n",
      "  xyz[xyz<-1e17]=float('Nan');\n",
      "<ipython-input-7-699ff156c5d5>:7: RuntimeWarning: invalid value encountered in less\n",
      "  xyz[xyz<-1e17]=float('Nan');\n",
      " 54%|█████▍    | 458/844 [00:04<00:03, 103.28it/s]<ipython-input-7-699ff156c5d5>:7: RuntimeWarning: invalid value encountered in less\n",
      "  xyz[xyz<-1e17]=float('Nan');\n",
      "<ipython-input-7-699ff156c5d5>:7: RuntimeWarning: invalid value encountered in less\n",
      "  xyz[xyz<-1e17]=float('Nan');\n",
      "<ipython-input-7-699ff156c5d5>:7: RuntimeWarning: invalid value encountered in less\n",
      "  xyz[xyz<-1e17]=float('Nan');\n",
      "<ipython-input-7-699ff156c5d5>:7: RuntimeWarning: invalid value encountered in less\n",
      "  xyz[xyz<-1e17]=float('Nan');\n",
      "<ipython-input-7-699ff156c5d5>:7: RuntimeWarning: invalid value encountered in less\n",
      "  xyz[xyz<-1e17]=float('Nan');\n",
      "<ipython-input-7-699ff156c5d5>:7: RuntimeWarning: invalid value encountered in less\n",
      "  xyz[xyz<-1e17]=float('Nan');\n",
      " 56%|█████▌    | 469/844 [00:04<00:03, 103.14it/s]<ipython-input-7-699ff156c5d5>:7: RuntimeWarning: invalid value encountered in less\n",
      "  xyz[xyz<-1e17]=float('Nan');\n",
      "<ipython-input-7-699ff156c5d5>:7: RuntimeWarning: invalid value encountered in less\n",
      "  xyz[xyz<-1e17]=float('Nan');\n",
      " 57%|█████▋    | 480/844 [00:04<00:03, 102.66it/s]<ipython-input-7-699ff156c5d5>:7: RuntimeWarning: invalid value encountered in less\n",
      "  xyz[xyz<-1e17]=float('Nan');\n",
      "<ipython-input-7-699ff156c5d5>:7: RuntimeWarning: invalid value encountered in less\n",
      "  xyz[xyz<-1e17]=float('Nan');\n",
      "<ipython-input-7-699ff156c5d5>:7: RuntimeWarning: invalid value encountered in less\n",
      "  xyz[xyz<-1e17]=float('Nan');\n",
      "<ipython-input-7-699ff156c5d5>:7: RuntimeWarning: invalid value encountered in less\n",
      "  xyz[xyz<-1e17]=float('Nan');\n",
      " 58%|█████▊    | 491/844 [00:04<00:03, 102.51it/s]<ipython-input-7-699ff156c5d5>:7: RuntimeWarning: invalid value encountered in less\n",
      "  xyz[xyz<-1e17]=float('Nan');\n",
      "<ipython-input-7-699ff156c5d5>:7: RuntimeWarning: invalid value encountered in less\n",
      "  xyz[xyz<-1e17]=float('Nan');\n",
      "<ipython-input-7-699ff156c5d5>:7: RuntimeWarning: invalid value encountered in less\n",
      "  xyz[xyz<-1e17]=float('Nan');\n",
      "<ipython-input-7-699ff156c5d5>:7: RuntimeWarning: invalid value encountered in less\n",
      "  xyz[xyz<-1e17]=float('Nan');\n",
      " 59%|█████▉    | 502/844 [00:04<00:03, 102.48it/s]<ipython-input-7-699ff156c5d5>:7: RuntimeWarning: invalid value encountered in less\n",
      "  xyz[xyz<-1e17]=float('Nan');\n",
      "<ipython-input-7-699ff156c5d5>:7: RuntimeWarning: invalid value encountered in less\n",
      "  xyz[xyz<-1e17]=float('Nan');\n",
      " 61%|██████    | 513/844 [00:05<00:03, 102.39it/s]<ipython-input-7-699ff156c5d5>:7: RuntimeWarning: invalid value encountered in less\n",
      "  xyz[xyz<-1e17]=float('Nan');\n",
      " 62%|██████▏   | 524/844 [00:05<00:03, 102.57it/s]<ipython-input-7-699ff156c5d5>:7: RuntimeWarning: invalid value encountered in less\n",
      "  xyz[xyz<-1e17]=float('Nan');\n",
      " 63%|██████▎   | 535/844 [00:05<00:02, 103.62it/s]<ipython-input-7-699ff156c5d5>:7: RuntimeWarning: invalid value encountered in less\n",
      "  xyz[xyz<-1e17]=float('Nan');\n",
      "<ipython-input-7-699ff156c5d5>:7: RuntimeWarning: invalid value encountered in less\n",
      "  xyz[xyz<-1e17]=float('Nan');\n",
      " 65%|██████▍   | 546/844 [00:05<00:02, 103.77it/s]<ipython-input-7-699ff156c5d5>:7: RuntimeWarning: invalid value encountered in less\n",
      "  xyz[xyz<-1e17]=float('Nan');\n",
      "<ipython-input-7-699ff156c5d5>:7: RuntimeWarning: invalid value encountered in less\n",
      "  xyz[xyz<-1e17]=float('Nan');\n",
      "<ipython-input-7-699ff156c5d5>:7: RuntimeWarning: invalid value encountered in less\n",
      "  xyz[xyz<-1e17]=float('Nan');\n",
      " 66%|██████▌   | 557/844 [00:05<00:02, 103.76it/s]<ipython-input-7-699ff156c5d5>:7: RuntimeWarning: invalid value encountered in less\n",
      "  xyz[xyz<-1e17]=float('Nan');\n",
      "<ipython-input-7-699ff156c5d5>:7: RuntimeWarning: invalid value encountered in less\n",
      "  xyz[xyz<-1e17]=float('Nan');\n",
      "<ipython-input-7-699ff156c5d5>:7: RuntimeWarning: invalid value encountered in less\n",
      "  xyz[xyz<-1e17]=float('Nan');\n",
      " 67%|██████▋   | 568/844 [00:05<00:02, 103.52it/s]<ipython-input-7-699ff156c5d5>:7: RuntimeWarning: invalid value encountered in less\n",
      "  xyz[xyz<-1e17]=float('Nan');\n",
      "<ipython-input-7-699ff156c5d5>:7: RuntimeWarning: invalid value encountered in less\n",
      "  xyz[xyz<-1e17]=float('Nan');\n",
      "<ipython-input-7-699ff156c5d5>:7: RuntimeWarning: invalid value encountered in less\n",
      "  xyz[xyz<-1e17]=float('Nan');\n",
      "<ipython-input-7-699ff156c5d5>:7: RuntimeWarning: invalid value encountered in less\n",
      "  xyz[xyz<-1e17]=float('Nan');\n",
      "<ipython-input-7-699ff156c5d5>:7: RuntimeWarning: invalid value encountered in less\n",
      "  xyz[xyz<-1e17]=float('Nan');\n",
      "<ipython-input-7-699ff156c5d5>:7: RuntimeWarning: invalid value encountered in less\n",
      "  xyz[xyz<-1e17]=float('Nan');\n",
      "<ipython-input-7-699ff156c5d5>:7: RuntimeWarning: invalid value encountered in less\n",
      "  xyz[xyz<-1e17]=float('Nan');\n",
      " 69%|██████▊   | 579/844 [00:05<00:02, 103.12it/s]<ipython-input-7-699ff156c5d5>:7: RuntimeWarning: invalid value encountered in less\n",
      "  xyz[xyz<-1e17]=float('Nan');\n",
      "<ipython-input-7-699ff156c5d5>:7: RuntimeWarning: invalid value encountered in less\n",
      "  xyz[xyz<-1e17]=float('Nan');\n",
      "<ipython-input-7-699ff156c5d5>:7: RuntimeWarning: invalid value encountered in less\n",
      "  xyz[xyz<-1e17]=float('Nan');\n",
      "<ipython-input-7-699ff156c5d5>:7: RuntimeWarning: invalid value encountered in less\n",
      "  xyz[xyz<-1e17]=float('Nan');\n",
      "<ipython-input-7-699ff156c5d5>:7: RuntimeWarning: invalid value encountered in less\n",
      "  xyz[xyz<-1e17]=float('Nan');\n",
      " 70%|██████▉   | 590/844 [00:05<00:02, 100.88it/s]<ipython-input-7-699ff156c5d5>:7: RuntimeWarning: invalid value encountered in less\n",
      "  xyz[xyz<-1e17]=float('Nan');\n",
      "<ipython-input-7-699ff156c5d5>:7: RuntimeWarning: invalid value encountered in less\n",
      "  xyz[xyz<-1e17]=float('Nan');\n",
      "<ipython-input-7-699ff156c5d5>:7: RuntimeWarning: invalid value encountered in less\n",
      "  xyz[xyz<-1e17]=float('Nan');\n",
      "<ipython-input-7-699ff156c5d5>:7: RuntimeWarning: invalid value encountered in less\n",
      "  xyz[xyz<-1e17]=float('Nan');\n",
      "<ipython-input-7-699ff156c5d5>:7: RuntimeWarning: invalid value encountered in less\n",
      "  xyz[xyz<-1e17]=float('Nan');\n",
      "<ipython-input-7-699ff156c5d5>:7: RuntimeWarning: invalid value encountered in less\n",
      "  xyz[xyz<-1e17]=float('Nan');\n",
      "<ipython-input-7-699ff156c5d5>:7: RuntimeWarning: invalid value encountered in less\n",
      "  xyz[xyz<-1e17]=float('Nan');\n",
      " 71%|███████   | 601/844 [00:05<00:02, 100.41it/s]<ipython-input-7-699ff156c5d5>:7: RuntimeWarning: invalid value encountered in less\n",
      "  xyz[xyz<-1e17]=float('Nan');\n",
      "<ipython-input-7-699ff156c5d5>:7: RuntimeWarning: invalid value encountered in less\n",
      "  xyz[xyz<-1e17]=float('Nan');\n",
      "<ipython-input-7-699ff156c5d5>:7: RuntimeWarning: invalid value encountered in less\n",
      "  xyz[xyz<-1e17]=float('Nan');\n",
      "<ipython-input-7-699ff156c5d5>:7: RuntimeWarning: invalid value encountered in less\n",
      "  xyz[xyz<-1e17]=float('Nan');\n",
      " 73%|███████▎  | 612/844 [00:06<00:02, 100.64it/s]<ipython-input-7-699ff156c5d5>:7: RuntimeWarning: invalid value encountered in less\n",
      "  xyz[xyz<-1e17]=float('Nan');\n",
      "<ipython-input-7-699ff156c5d5>:7: RuntimeWarning: invalid value encountered in less\n",
      "  xyz[xyz<-1e17]=float('Nan');\n",
      " 74%|███████▍  | 623/844 [00:06<00:02, 99.94it/s] <ipython-input-7-699ff156c5d5>:7: RuntimeWarning: invalid value encountered in less\n",
      "  xyz[xyz<-1e17]=float('Nan');\n",
      "<ipython-input-7-699ff156c5d5>:7: RuntimeWarning: invalid value encountered in less\n",
      "  xyz[xyz<-1e17]=float('Nan');\n",
      " 75%|███████▌  | 634/844 [00:06<00:02, 100.87it/s]<ipython-input-7-699ff156c5d5>:7: RuntimeWarning: invalid value encountered in less\n",
      "  xyz[xyz<-1e17]=float('Nan');\n",
      "<ipython-input-7-699ff156c5d5>:7: RuntimeWarning: invalid value encountered in less\n",
      "  xyz[xyz<-1e17]=float('Nan');\n",
      "<ipython-input-7-699ff156c5d5>:7: RuntimeWarning: invalid value encountered in less\n",
      "  xyz[xyz<-1e17]=float('Nan');\n",
      "<ipython-input-7-699ff156c5d5>:7: RuntimeWarning: invalid value encountered in less\n",
      "  xyz[xyz<-1e17]=float('Nan');\n",
      " 76%|███████▋  | 645/844 [00:06<00:01, 100.96it/s]<ipython-input-7-699ff156c5d5>:7: RuntimeWarning: invalid value encountered in less\n",
      "  xyz[xyz<-1e17]=float('Nan');\n",
      "<ipython-input-7-699ff156c5d5>:7: RuntimeWarning: invalid value encountered in less\n",
      "  xyz[xyz<-1e17]=float('Nan');\n",
      " 78%|███████▊  | 656/844 [00:06<00:01, 101.86it/s]<ipython-input-7-699ff156c5d5>:7: RuntimeWarning: invalid value encountered in less\n",
      "  xyz[xyz<-1e17]=float('Nan');\n",
      "<ipython-input-7-699ff156c5d5>:7: RuntimeWarning: invalid value encountered in less\n",
      "  xyz[xyz<-1e17]=float('Nan');\n",
      "<ipython-input-7-699ff156c5d5>:7: RuntimeWarning: invalid value encountered in less\n",
      "  xyz[xyz<-1e17]=float('Nan');\n",
      "<ipython-input-7-699ff156c5d5>:7: RuntimeWarning: invalid value encountered in less\n",
      "  xyz[xyz<-1e17]=float('Nan');\n",
      "<ipython-input-7-699ff156c5d5>:7: RuntimeWarning: invalid value encountered in less\n",
      "  xyz[xyz<-1e17]=float('Nan');\n",
      "<ipython-input-7-699ff156c5d5>:7: RuntimeWarning: invalid value encountered in less\n",
      "  xyz[xyz<-1e17]=float('Nan');\n",
      "<ipython-input-7-699ff156c5d5>:7: RuntimeWarning: invalid value encountered in less\n",
      "  xyz[xyz<-1e17]=float('Nan');\n",
      " 79%|███████▉  | 667/844 [00:06<00:01, 102.01it/s]<ipython-input-7-699ff156c5d5>:7: RuntimeWarning: invalid value encountered in less\n",
      "  xyz[xyz<-1e17]=float('Nan');\n",
      "<ipython-input-7-699ff156c5d5>:7: RuntimeWarning: invalid value encountered in less\n",
      "  xyz[xyz<-1e17]=float('Nan');\n",
      "<ipython-input-7-699ff156c5d5>:7: RuntimeWarning: invalid value encountered in less\n",
      "  xyz[xyz<-1e17]=float('Nan');\n",
      "<ipython-input-7-699ff156c5d5>:7: RuntimeWarning: invalid value encountered in less\n",
      "  xyz[xyz<-1e17]=float('Nan');\n",
      "<ipython-input-7-699ff156c5d5>:7: RuntimeWarning: invalid value encountered in less\n",
      "  xyz[xyz<-1e17]=float('Nan');\n",
      "<ipython-input-7-699ff156c5d5>:7: RuntimeWarning: invalid value encountered in less\n",
      "  xyz[xyz<-1e17]=float('Nan');\n",
      "<ipython-input-7-699ff156c5d5>:7: RuntimeWarning: invalid value encountered in less\n",
      "  xyz[xyz<-1e17]=float('Nan');\n",
      " 80%|████████  | 678/844 [00:06<00:01, 101.60it/s]<ipython-input-7-699ff156c5d5>:7: RuntimeWarning: invalid value encountered in less\n",
      "  xyz[xyz<-1e17]=float('Nan');\n",
      "<ipython-input-7-699ff156c5d5>:7: RuntimeWarning: invalid value encountered in less\n",
      "  xyz[xyz<-1e17]=float('Nan');\n",
      "<ipython-input-7-699ff156c5d5>:7: RuntimeWarning: invalid value encountered in less\n",
      "  xyz[xyz<-1e17]=float('Nan');\n",
      " 82%|████████▏ | 689/844 [00:06<00:01, 101.53it/s]<ipython-input-7-699ff156c5d5>:7: RuntimeWarning: invalid value encountered in less\n",
      "  xyz[xyz<-1e17]=float('Nan');\n",
      "<ipython-input-7-699ff156c5d5>:7: RuntimeWarning: invalid value encountered in less\n",
      "  xyz[xyz<-1e17]=float('Nan');\n",
      "<ipython-input-7-699ff156c5d5>:7: RuntimeWarning: invalid value encountered in less\n",
      "  xyz[xyz<-1e17]=float('Nan');\n",
      "<ipython-input-7-699ff156c5d5>:7: RuntimeWarning: invalid value encountered in less\n",
      "  xyz[xyz<-1e17]=float('Nan');\n",
      " 83%|████████▎ | 700/844 [00:06<00:01, 101.54it/s]<ipython-input-7-699ff156c5d5>:7: RuntimeWarning: invalid value encountered in less\n",
      "  xyz[xyz<-1e17]=float('Nan');\n",
      "<ipython-input-7-699ff156c5d5>:7: RuntimeWarning: invalid value encountered in less\n",
      "  xyz[xyz<-1e17]=float('Nan');\n",
      "<ipython-input-7-699ff156c5d5>:7: RuntimeWarning: invalid value encountered in less\n",
      "  xyz[xyz<-1e17]=float('Nan');\n",
      " 84%|████████▍ | 711/844 [00:07<00:01, 101.63it/s]<ipython-input-7-699ff156c5d5>:7: RuntimeWarning: invalid value encountered in less\n",
      "  xyz[xyz<-1e17]=float('Nan');\n",
      "<ipython-input-7-699ff156c5d5>:7: RuntimeWarning: invalid value encountered in less\n",
      "  xyz[xyz<-1e17]=float('Nan');\n",
      "<ipython-input-7-699ff156c5d5>:7: RuntimeWarning: invalid value encountered in less\n",
      "  xyz[xyz<-1e17]=float('Nan');\n",
      " 86%|████████▌ | 722/844 [00:07<00:01, 101.87it/s]<ipython-input-7-699ff156c5d5>:7: RuntimeWarning: invalid value encountered in less\n",
      "  xyz[xyz<-1e17]=float('Nan');\n",
      "<ipython-input-7-699ff156c5d5>:7: RuntimeWarning: invalid value encountered in less\n",
      "  xyz[xyz<-1e17]=float('Nan');\n",
      "<ipython-input-7-699ff156c5d5>:7: RuntimeWarning: invalid value encountered in less\n",
      "  xyz[xyz<-1e17]=float('Nan');\n",
      " 87%|████████▋ | 733/844 [00:07<00:01, 101.81it/s]<ipython-input-7-699ff156c5d5>:7: RuntimeWarning: invalid value encountered in less\n",
      "  xyz[xyz<-1e17]=float('Nan');\n",
      "<ipython-input-7-699ff156c5d5>:7: RuntimeWarning: invalid value encountered in less\n",
      "  xyz[xyz<-1e17]=float('Nan');\n",
      "<ipython-input-7-699ff156c5d5>:7: RuntimeWarning: invalid value encountered in less\n",
      "  xyz[xyz<-1e17]=float('Nan');\n",
      "<ipython-input-7-699ff156c5d5>:7: RuntimeWarning: invalid value encountered in less\n",
      "  xyz[xyz<-1e17]=float('Nan');\n",
      " 88%|████████▊ | 744/844 [00:07<00:00, 101.23it/s]<ipython-input-7-699ff156c5d5>:7: RuntimeWarning: invalid value encountered in less\n",
      "  xyz[xyz<-1e17]=float('Nan');\n",
      "<ipython-input-7-699ff156c5d5>:7: RuntimeWarning: invalid value encountered in less\n",
      "  xyz[xyz<-1e17]=float('Nan');\n",
      "<ipython-input-7-699ff156c5d5>:7: RuntimeWarning: invalid value encountered in less\n",
      "  xyz[xyz<-1e17]=float('Nan');\n",
      " 89%|████████▉ | 755/844 [00:07<00:00, 101.96it/s]<ipython-input-7-699ff156c5d5>:7: RuntimeWarning: invalid value encountered in less\n",
      "  xyz[xyz<-1e17]=float('Nan');\n",
      "<ipython-input-7-699ff156c5d5>:7: RuntimeWarning: invalid value encountered in less\n",
      "  xyz[xyz<-1e17]=float('Nan');\n",
      " 91%|█████████ | 766/844 [00:07<00:00, 102.64it/s]<ipython-input-7-699ff156c5d5>:7: RuntimeWarning: invalid value encountered in less\n",
      "  xyz[xyz<-1e17]=float('Nan');\n",
      "<ipython-input-7-699ff156c5d5>:7: RuntimeWarning: invalid value encountered in less\n",
      "  xyz[xyz<-1e17]=float('Nan');\n",
      "<ipython-input-7-699ff156c5d5>:7: RuntimeWarning: invalid value encountered in less\n",
      "  xyz[xyz<-1e17]=float('Nan');\n",
      " 92%|█████████▏| 777/844 [00:07<00:00, 103.17it/s]<ipython-input-7-699ff156c5d5>:7: RuntimeWarning: invalid value encountered in less\n",
      "  xyz[xyz<-1e17]=float('Nan');\n",
      "<ipython-input-7-699ff156c5d5>:7: RuntimeWarning: invalid value encountered in less\n",
      "  xyz[xyz<-1e17]=float('Nan');\n",
      "<ipython-input-7-699ff156c5d5>:7: RuntimeWarning: invalid value encountered in less\n",
      "  xyz[xyz<-1e17]=float('Nan');\n",
      "<ipython-input-7-699ff156c5d5>:7: RuntimeWarning: invalid value encountered in less\n",
      "  xyz[xyz<-1e17]=float('Nan');\n",
      "<ipython-input-7-699ff156c5d5>:7: RuntimeWarning: invalid value encountered in less\n",
      "  xyz[xyz<-1e17]=float('Nan');\n",
      " 93%|█████████▎| 788/844 [00:07<00:00, 101.78it/s]<ipython-input-7-699ff156c5d5>:7: RuntimeWarning: invalid value encountered in less\n",
      "  xyz[xyz<-1e17]=float('Nan');\n",
      "<ipython-input-7-699ff156c5d5>:7: RuntimeWarning: invalid value encountered in less\n",
      "  xyz[xyz<-1e17]=float('Nan');\n",
      "<ipython-input-7-699ff156c5d5>:7: RuntimeWarning: invalid value encountered in less\n",
      "  xyz[xyz<-1e17]=float('Nan');\n",
      "<ipython-input-7-699ff156c5d5>:7: RuntimeWarning: invalid value encountered in less\n",
      "  xyz[xyz<-1e17]=float('Nan');\n",
      "<ipython-input-7-699ff156c5d5>:7: RuntimeWarning: invalid value encountered in less\n",
      "  xyz[xyz<-1e17]=float('Nan');\n",
      "<ipython-input-7-699ff156c5d5>:7: RuntimeWarning: invalid value encountered in less\n",
      "  xyz[xyz<-1e17]=float('Nan');\n",
      " 95%|█████████▍| 799/844 [00:07<00:00, 100.96it/s]<ipython-input-7-699ff156c5d5>:7: RuntimeWarning: invalid value encountered in less\n",
      "  xyz[xyz<-1e17]=float('Nan');\n",
      "<ipython-input-7-699ff156c5d5>:7: RuntimeWarning: invalid value encountered in less\n",
      "  xyz[xyz<-1e17]=float('Nan');\n",
      "<ipython-input-7-699ff156c5d5>:7: RuntimeWarning: invalid value encountered in less\n",
      "  xyz[xyz<-1e17]=float('Nan');\n",
      "<ipython-input-7-699ff156c5d5>:7: RuntimeWarning: invalid value encountered in less\n",
      "  xyz[xyz<-1e17]=float('Nan');\n",
      "<ipython-input-7-699ff156c5d5>:7: RuntimeWarning: invalid value encountered in less\n",
      "  xyz[xyz<-1e17]=float('Nan');\n",
      "<ipython-input-7-699ff156c5d5>:7: RuntimeWarning: invalid value encountered in less\n",
      "  xyz[xyz<-1e17]=float('Nan');\n",
      "<ipython-input-7-699ff156c5d5>:7: RuntimeWarning: invalid value encountered in less\n",
      "  xyz[xyz<-1e17]=float('Nan');\n",
      "<ipython-input-7-699ff156c5d5>:7: RuntimeWarning: invalid value encountered in less\n",
      "  xyz[xyz<-1e17]=float('Nan');\n",
      " 96%|█████████▌| 810/844 [00:07<00:00, 100.76it/s]<ipython-input-7-699ff156c5d5>:7: RuntimeWarning: invalid value encountered in less\n",
      "  xyz[xyz<-1e17]=float('Nan');\n",
      "<ipython-input-7-699ff156c5d5>:7: RuntimeWarning: invalid value encountered in less\n",
      "  xyz[xyz<-1e17]=float('Nan');\n",
      "<ipython-input-7-699ff156c5d5>:7: RuntimeWarning: invalid value encountered in less\n",
      "  xyz[xyz<-1e17]=float('Nan');\n",
      "<ipython-input-7-699ff156c5d5>:7: RuntimeWarning: invalid value encountered in less\n",
      "  xyz[xyz<-1e17]=float('Nan');\n",
      "<ipython-input-7-699ff156c5d5>:7: RuntimeWarning: invalid value encountered in less\n",
      "  xyz[xyz<-1e17]=float('Nan');\n",
      "<ipython-input-7-699ff156c5d5>:7: RuntimeWarning: invalid value encountered in less\n",
      "  xyz[xyz<-1e17]=float('Nan');\n",
      " 97%|█████████▋| 821/844 [00:08<00:00, 100.66it/s]<ipython-input-7-699ff156c5d5>:7: RuntimeWarning: invalid value encountered in less\n",
      "  xyz[xyz<-1e17]=float('Nan');\n",
      "<ipython-input-7-699ff156c5d5>:7: RuntimeWarning: invalid value encountered in less\n",
      "  xyz[xyz<-1e17]=float('Nan');\n",
      "<ipython-input-7-699ff156c5d5>:7: RuntimeWarning: invalid value encountered in less\n",
      "  xyz[xyz<-1e17]=float('Nan');\n",
      "<ipython-input-7-699ff156c5d5>:7: RuntimeWarning: invalid value encountered in less\n",
      "  xyz[xyz<-1e17]=float('Nan');\n",
      "<ipython-input-7-699ff156c5d5>:7: RuntimeWarning: invalid value encountered in less\n",
      "  xyz[xyz<-1e17]=float('Nan');\n",
      "<ipython-input-7-699ff156c5d5>:7: RuntimeWarning: invalid value encountered in less\n",
      "  xyz[xyz<-1e17]=float('Nan');\n",
      "<ipython-input-7-699ff156c5d5>:7: RuntimeWarning: invalid value encountered in less\n",
      "  xyz[xyz<-1e17]=float('Nan');\n",
      "<ipython-input-7-699ff156c5d5>:7: RuntimeWarning: invalid value encountered in less\n",
      "  xyz[xyz<-1e17]=float('Nan');\n",
      " 99%|█████████▊| 832/844 [00:08<00:00, 99.76it/s] <ipython-input-7-699ff156c5d5>:7: RuntimeWarning: invalid value encountered in less\n",
      "  xyz[xyz<-1e17]=float('Nan');\n",
      "<ipython-input-7-699ff156c5d5>:7: RuntimeWarning: invalid value encountered in less\n",
      "  xyz[xyz<-1e17]=float('Nan');\n",
      "<ipython-input-7-699ff156c5d5>:7: RuntimeWarning: invalid value encountered in less\n",
      "  xyz[xyz<-1e17]=float('Nan');\n",
      "<ipython-input-7-699ff156c5d5>:7: RuntimeWarning: invalid value encountered in less\n",
      "  xyz[xyz<-1e17]=float('Nan');\n",
      "<ipython-input-7-699ff156c5d5>:7: RuntimeWarning: invalid value encountered in less\n",
      "  xyz[xyz<-1e17]=float('Nan');\n",
      "100%|█████████▉| 842/844 [00:08<00:00, 99.65it/s]<ipython-input-7-699ff156c5d5>:7: RuntimeWarning: invalid value encountered in less\n",
      "  xyz[xyz<-1e17]=float('Nan');\n",
      "<ipython-input-7-699ff156c5d5>:7: RuntimeWarning: invalid value encountered in less\n",
      "  xyz[xyz<-1e17]=float('Nan');\n",
      "100%|██████████| 844/844 [00:08<00:00, 101.35it/s]\n",
      "/usr/local/lib/python3.10/dist-packages/pandas/io/formats/format.py:1458: RuntimeWarning: invalid value encountered in greater\n",
      "  has_large_values = (abs_vals > 1e6).any()\n",
      "/usr/local/lib/python3.10/dist-packages/pandas/io/formats/format.py:1459: RuntimeWarning: invalid value encountered in less\n",
      "  has_small_values = ((abs_vals < 10 ** (-self.digits)) & (abs_vals > 0)).any()\n",
      "/usr/local/lib/python3.10/dist-packages/pandas/io/formats/format.py:1459: RuntimeWarning: invalid value encountered in greater\n",
      "  has_small_values = ((abs_vals < 10 ** (-self.digits)) & (abs_vals > 0)).any()\n"
     ]
    },
    {
     "data": {
      "text/html": [
       "<div>\n",
       "<style scoped>\n",
       "    .dataframe tbody tr th:only-of-type {\n",
       "        vertical-align: middle;\n",
       "    }\n",
       "\n",
       "    .dataframe tbody tr th {\n",
       "        vertical-align: top;\n",
       "    }\n",
       "\n",
       "    .dataframe thead th {\n",
       "        text-align: right;\n",
       "    }\n",
       "</style>\n",
       "<table border=\"1\" class=\"dataframe\">\n",
       "  <thead>\n",
       "    <tr style=\"text-align: right;\">\n",
       "      <th></th>\n",
       "      <th>ID</th>\n",
       "      <th>resname</th>\n",
       "      <th>resid</th>\n",
       "      <th>x_1</th>\n",
       "      <th>y_1</th>\n",
       "      <th>z_1</th>\n",
       "      <th>pdb_id</th>\n",
       "    </tr>\n",
       "  </thead>\n",
       "  <tbody>\n",
       "    <tr>\n",
       "      <th>137009</th>\n",
       "      <td>8Z1F_T_1</td>\n",
       "      <td>G</td>\n",
       "      <td>1</td>\n",
       "      <td>103.195999</td>\n",
       "      <td>112.250999</td>\n",
       "      <td>104.455002</td>\n",
       "      <td>8Z1F_T</td>\n",
       "    </tr>\n",
       "    <tr>\n",
       "      <th>137010</th>\n",
       "      <td>8Z1F_T_2</td>\n",
       "      <td>G</td>\n",
       "      <td>2</td>\n",
       "      <td>107.467003</td>\n",
       "      <td>108.984001</td>\n",
       "      <td>106.205002</td>\n",
       "      <td>8Z1F_T</td>\n",
       "    </tr>\n",
       "    <tr>\n",
       "      <th>137011</th>\n",
       "      <td>8Z1F_T_3</td>\n",
       "      <td>U</td>\n",
       "      <td>3</td>\n",
       "      <td>111.919998</td>\n",
       "      <td>107.942001</td>\n",
       "      <td>109.775002</td>\n",
       "      <td>8Z1F_T</td>\n",
       "    </tr>\n",
       "    <tr>\n",
       "      <th>137012</th>\n",
       "      <td>8Z1F_T_4</td>\n",
       "      <td>A</td>\n",
       "      <td>4</td>\n",
       "      <td>114.685997</td>\n",
       "      <td>108.813004</td>\n",
       "      <td>114.404999</td>\n",
       "      <td>8Z1F_T</td>\n",
       "    </tr>\n",
       "    <tr>\n",
       "      <th>137013</th>\n",
       "      <td>8Z1F_T_5</td>\n",
       "      <td>A</td>\n",
       "      <td>5</td>\n",
       "      <td>114.921997</td>\n",
       "      <td>110.031998</td>\n",
       "      <td>120.849998</td>\n",
       "      <td>8Z1F_T</td>\n",
       "    </tr>\n",
       "    <tr>\n",
       "      <th>...</th>\n",
       "      <td>...</td>\n",
       "      <td>...</td>\n",
       "      <td>...</td>\n",
       "      <td>...</td>\n",
       "      <td>...</td>\n",
       "      <td>...</td>\n",
       "      <td>...</td>\n",
       "    </tr>\n",
       "    <tr>\n",
       "      <th>137090</th>\n",
       "      <td>8Z1F_T_82</td>\n",
       "      <td>U</td>\n",
       "      <td>82</td>\n",
       "      <td>NaN</td>\n",
       "      <td>NaN</td>\n",
       "      <td>NaN</td>\n",
       "      <td>8Z1F_T</td>\n",
       "    </tr>\n",
       "    <tr>\n",
       "      <th>137091</th>\n",
       "      <td>8Z1F_T_83</td>\n",
       "      <td>C</td>\n",
       "      <td>83</td>\n",
       "      <td>NaN</td>\n",
       "      <td>NaN</td>\n",
       "      <td>NaN</td>\n",
       "      <td>8Z1F_T</td>\n",
       "    </tr>\n",
       "    <tr>\n",
       "      <th>137092</th>\n",
       "      <td>8Z1F_T_84</td>\n",
       "      <td>A</td>\n",
       "      <td>84</td>\n",
       "      <td>NaN</td>\n",
       "      <td>NaN</td>\n",
       "      <td>NaN</td>\n",
       "      <td>8Z1F_T</td>\n",
       "    </tr>\n",
       "    <tr>\n",
       "      <th>137093</th>\n",
       "      <td>8Z1F_T_85</td>\n",
       "      <td>U</td>\n",
       "      <td>85</td>\n",
       "      <td>NaN</td>\n",
       "      <td>NaN</td>\n",
       "      <td>NaN</td>\n",
       "      <td>8Z1F_T</td>\n",
       "    </tr>\n",
       "    <tr>\n",
       "      <th>137094</th>\n",
       "      <td>8Z1F_T_86</td>\n",
       "      <td>A</td>\n",
       "      <td>86</td>\n",
       "      <td>NaN</td>\n",
       "      <td>NaN</td>\n",
       "      <td>NaN</td>\n",
       "      <td>8Z1F_T</td>\n",
       "    </tr>\n",
       "  </tbody>\n",
       "</table>\n",
       "<p>86 rows × 7 columns</p>\n",
       "</div>"
      ],
      "text/plain": [
       "               ID resname  resid         x_1         y_1         z_1  pdb_id\n",
       "137009   8Z1F_T_1       G      1  103.195999  112.250999  104.455002  8Z1F_T\n",
       "137010   8Z1F_T_2       G      2  107.467003  108.984001  106.205002  8Z1F_T\n",
       "137011   8Z1F_T_3       U      3  111.919998  107.942001  109.775002  8Z1F_T\n",
       "137012   8Z1F_T_4       A      4  114.685997  108.813004  114.404999  8Z1F_T\n",
       "137013   8Z1F_T_5       A      5  114.921997  110.031998  120.849998  8Z1F_T\n",
       "...           ...     ...    ...         ...         ...         ...     ...\n",
       "137090  8Z1F_T_82       U     82         NaN         NaN         NaN  8Z1F_T\n",
       "137091  8Z1F_T_83       C     83         NaN         NaN         NaN  8Z1F_T\n",
       "137092  8Z1F_T_84       A     84         NaN         NaN         NaN  8Z1F_T\n",
       "137093  8Z1F_T_85       U     85         NaN         NaN         NaN  8Z1F_T\n",
       "137094  8Z1F_T_86       A     86         NaN         NaN         NaN  8Z1F_T\n",
       "\n",
       "[86 rows x 7 columns]"
      ]
     },
     "execution_count": 7,
     "metadata": {},
     "output_type": "execute_result"
    }
   ],
   "source": [
    "all_xyz=[]\n",
    "\n",
    "for pdb_id in tqdm(train_sequences['target_id']):\n",
    "    df = train_labels[train_labels[\"pdb_id\"]==pdb_id]\n",
    "    #break\n",
    "    xyz=df[['x_1','y_1','z_1']].to_numpy().astype('float32')\n",
    "    xyz[xyz<-1e17]=float('Nan');\n",
    "    all_xyz.append(xyz)\n",
    "\n",
    "\n",
    "df"
   ]
  },
  {
   "cell_type": "code",
   "execution_count": 8,
   "id": "3d4dcd48",
   "metadata": {
    "execution": {
     "iopub.execute_input": "2025-03-09T16:45:35.627539Z",
     "iopub.status.busy": "2025-03-09T16:45:35.627289Z",
     "iopub.status.idle": "2025-03-09T16:45:35.644219Z",
     "shell.execute_reply": "2025-03-09T16:45:35.643244Z"
    },
    "papermill": {
     "duration": 0.031635,
     "end_time": "2025-03-09T16:45:35.645521",
     "exception": false,
     "start_time": "2025-03-09T16:45:35.613886",
     "status": "completed"
    },
    "tags": []
   },
   "outputs": [
    {
     "name": "stdout",
     "output_type": "stream",
     "text": [
      "Longest sequence in train: 4298\n"
     ]
    }
   ],
   "source": [
    "# filter the data\n",
    "# Filter and process data\n",
    "filter_nan = []\n",
    "max_len = 0\n",
    "for xyz in all_xyz:\n",
    "    if len(xyz) > max_len:\n",
    "        max_len = len(xyz)\n",
    "\n",
    "    #fill -1e18 masked sequences to nans\n",
    "    \n",
    "    #sugar_xyz = np.stack([nt_xyz['sugar_ring'] for nt_xyz in xyz], axis=0)\n",
    "    filter_nan.append((np.isnan(xyz).mean() <= 0.5) & \\\n",
    "                      (len(xyz)<config['max_len_filter']) & \\\n",
    "                      (len(xyz)>config['min_len_filter']))\n",
    "\n",
    "print(f\"Longest sequence in train: {max_len}\")\n",
    "\n",
    "filter_nan = np.array(filter_nan)\n",
    "non_nan_indices = np.arange(len(filter_nan))[filter_nan]\n",
    "\n",
    "train_sequences = train_sequences.loc[non_nan_indices].reset_index(drop=True)\n",
    "all_xyz=[all_xyz[i] for i in non_nan_indices]"
   ]
  },
  {
   "cell_type": "code",
   "execution_count": 9,
   "id": "45d0672f",
   "metadata": {
    "execution": {
     "iopub.execute_input": "2025-03-09T16:45:35.671865Z",
     "iopub.status.busy": "2025-03-09T16:45:35.671660Z",
     "iopub.status.idle": "2025-03-09T16:45:35.675220Z",
     "shell.execute_reply": "2025-03-09T16:45:35.674602Z"
    },
    "papermill": {
     "duration": 0.017961,
     "end_time": "2025-03-09T16:45:35.676344",
     "exception": false,
     "start_time": "2025-03-09T16:45:35.658383",
     "status": "completed"
    },
    "tags": []
   },
   "outputs": [],
   "source": [
    "#pack data into a dictionary\n",
    "\n",
    "data={\n",
    "      \"sequence\":train_sequences['sequence'].to_list(),\n",
    "      \"temporal_cutoff\": train_sequences['temporal_cutoff'].to_list(),\n",
    "      \"description\": train_sequences['description'].to_list(),\n",
    "      \"all_sequences\": train_sequences['all_sequences'].to_list(),\n",
    "      \"xyz\": all_xyz\n",
    "}"
   ]
  },
  {
   "cell_type": "markdown",
   "id": "1e89d139",
   "metadata": {
    "papermill": {
     "duration": 0.012387,
     "end_time": "2025-03-09T16:45:35.701691",
     "exception": false,
     "start_time": "2025-03-09T16:45:35.689304",
     "status": "completed"
    },
    "tags": []
   },
   "source": [
    "# Split train data into train/val/test¶\n",
    "We will simply do a temporal split, because that's how testing is done in structural biology in general (in actual blind tests)"
   ]
  },
  {
   "cell_type": "code",
   "execution_count": 10,
   "id": "84dc619a",
   "metadata": {
    "execution": {
     "iopub.execute_input": "2025-03-09T16:45:35.728265Z",
     "iopub.status.busy": "2025-03-09T16:45:35.728007Z",
     "iopub.status.idle": "2025-03-09T16:45:35.734552Z",
     "shell.execute_reply": "2025-03-09T16:45:35.733728Z"
    },
    "papermill": {
     "duration": 0.02148,
     "end_time": "2025-03-09T16:45:35.735829",
     "exception": false,
     "start_time": "2025-03-09T16:45:35.714349",
     "status": "completed"
    },
    "tags": []
   },
   "outputs": [],
   "source": [
    "# Split data into train and test\n",
    "all_index = np.arange(len(data['sequence']))\n",
    "cutoff_date = pd.Timestamp(config['cutoff_date'])\n",
    "test_cutoff_date = pd.Timestamp(config['test_cutoff_date'])\n",
    "train_index = [i for i, d in enumerate(data['temporal_cutoff']) if pd.Timestamp(d) <= cutoff_date]\n",
    "test_index = [i for i, d in enumerate(data['temporal_cutoff']) if pd.Timestamp(d) > cutoff_date and pd.Timestamp(d) <= test_cutoff_date]"
   ]
  },
  {
   "cell_type": "code",
   "execution_count": 11,
   "id": "32ab370f",
   "metadata": {
    "execution": {
     "iopub.execute_input": "2025-03-09T16:45:35.762007Z",
     "iopub.status.busy": "2025-03-09T16:45:35.761754Z",
     "iopub.status.idle": "2025-03-09T16:45:35.765929Z",
     "shell.execute_reply": "2025-03-09T16:45:35.765120Z"
    },
    "papermill": {
     "duration": 0.018691,
     "end_time": "2025-03-09T16:45:35.767175",
     "exception": false,
     "start_time": "2025-03-09T16:45:35.748484",
     "status": "completed"
    },
    "tags": []
   },
   "outputs": [
    {
     "name": "stdout",
     "output_type": "stream",
     "text": [
      "Train size: 542\n",
      "Test size: 80\n"
     ]
    }
   ],
   "source": [
    "print(f\"Train size: {len(train_index)}\")\n",
    "print(f\"Test size: {len(test_index)}\")"
   ]
  },
  {
   "cell_type": "markdown",
   "id": "529b5b48",
   "metadata": {
    "papermill": {
     "duration": 0.012358,
     "end_time": "2025-03-09T16:45:35.792137",
     "exception": false,
     "start_time": "2025-03-09T16:45:35.779779",
     "status": "completed"
    },
    "tags": []
   },
   "source": [
    "# Get pytorch dataset¶"
   ]
  },
  {
   "cell_type": "code",
   "execution_count": 12,
   "id": "d7ef0511",
   "metadata": {
    "execution": {
     "iopub.execute_input": "2025-03-09T16:45:35.818043Z",
     "iopub.status.busy": "2025-03-09T16:45:35.817805Z",
     "iopub.status.idle": "2025-03-09T16:45:35.823994Z",
     "shell.execute_reply": "2025-03-09T16:45:35.823189Z"
    },
    "papermill": {
     "duration": 0.020525,
     "end_time": "2025-03-09T16:45:35.825237",
     "exception": false,
     "start_time": "2025-03-09T16:45:35.804712",
     "status": "completed"
    },
    "tags": []
   },
   "outputs": [],
   "source": [
    "from torch.utils.data import Dataset, DataLoader\n",
    "from ast import literal_eval\n",
    "\n",
    "def get_ct(bp,s):\n",
    "    ct_matrix=np.zeros((len(s),len(s)))\n",
    "    for b in bp:\n",
    "        ct_matrix[b[0]-1,b[1]-1]=1\n",
    "    return ct_matrix\n",
    "\n",
    "class RNA3D_Dataset(Dataset):\n",
    "    def __init__(self,indices,data):\n",
    "        self.indices=indices\n",
    "        self.data=data\n",
    "        self.tokens={nt:i for i,nt in enumerate('ACGU')}\n",
    "\n",
    "    def __len__(self):\n",
    "        return len(self.indices)\n",
    "    \n",
    "    def __getitem__(self, idx):\n",
    "\n",
    "        idx=self.indices[idx]\n",
    "        sequence=[self.tokens[nt] for nt in (self.data['sequence'][idx])]\n",
    "        sequence=np.array(sequence)\n",
    "        sequence=torch.tensor(sequence)\n",
    "\n",
    "        #get C1' xyz\n",
    "        xyz=self.data['xyz'][idx]\n",
    "        xyz=torch.tensor(np.array(xyz))\n",
    "\n",
    "\n",
    "        if len(sequence)>config['max_len']:\n",
    "            crop_start=np.random.randint(len(sequence)-config['max_len'])\n",
    "            crop_end=crop_start+config['max_len']\n",
    "\n",
    "            sequence=sequence[crop_start:crop_end]\n",
    "            xyz=xyz[crop_start:crop_end]\n",
    "        \n",
    "\n",
    "        return {'sequence':sequence,\n",
    "                'xyz':xyz}"
   ]
  },
  {
   "cell_type": "code",
   "execution_count": 13,
   "id": "34b5c096",
   "metadata": {
    "execution": {
     "iopub.execute_input": "2025-03-09T16:45:35.851172Z",
     "iopub.status.busy": "2025-03-09T16:45:35.850975Z",
     "iopub.status.idle": "2025-03-09T16:45:35.853907Z",
     "shell.execute_reply": "2025-03-09T16:45:35.853318Z"
    },
    "papermill": {
     "duration": 0.017255,
     "end_time": "2025-03-09T16:45:35.855025",
     "exception": false,
     "start_time": "2025-03-09T16:45:35.837770",
     "status": "completed"
    },
    "tags": []
   },
   "outputs": [],
   "source": [
    "train_dataset=RNA3D_Dataset(train_index,data)\n",
    "val_dataset=RNA3D_Dataset(test_index,data)"
   ]
  },
  {
   "cell_type": "code",
   "execution_count": 14,
   "id": "a1be7fee",
   "metadata": {
    "execution": {
     "iopub.execute_input": "2025-03-09T16:45:35.881056Z",
     "iopub.status.busy": "2025-03-09T16:45:35.880844Z",
     "iopub.status.idle": "2025-03-09T16:45:36.390422Z",
     "shell.execute_reply": "2025-03-09T16:45:36.389552Z"
    },
    "papermill": {
     "duration": 0.524137,
     "end_time": "2025-03-09T16:45:36.391868",
     "exception": false,
     "start_time": "2025-03-09T16:45:35.867731",
     "status": "completed"
    },
    "tags": []
   },
   "outputs": [
    {
     "data": {
      "text/html": [
       "<html>\n",
       "<head><meta charset=\"utf-8\" /></head>\n",
       "<body>\n",
       "    <div>            <script src=\"https://cdnjs.cloudflare.com/ajax/libs/mathjax/2.7.5/MathJax.js?config=TeX-AMS-MML_SVG\"></script><script type=\"text/javascript\">if (window.MathJax && window.MathJax.Hub && window.MathJax.Hub.Config) {window.MathJax.Hub.Config({SVG: {font: \"STIX-Web\"}});}</script>                <script type=\"text/javascript\">window.PlotlyConfig = {MathJaxConfig: 'local'};</script>\n",
       "        <script charset=\"utf-8\" src=\"https://cdn.plot.ly/plotly-2.35.2.min.js\"></script>                <div id=\"9de08379-97e8-4f69-bfe3-94b6f13d67d5\" class=\"plotly-graph-div\" style=\"height:525px; width:100%;\"></div>            <script type=\"text/javascript\">                                    window.PLOTLYENV=window.PLOTLYENV || {};                                    if (document.getElementById(\"9de08379-97e8-4f69-bfe3-94b6f13d67d5\")) {                    Plotly.newPlot(                        \"9de08379-97e8-4f69-bfe3-94b6f13d67d5\",                        [{\"marker\":{\"color\":[154.615,148.024,142.896,140.169,137.563,136.952,135.138,128.608,126.919,132.816,133.262,131.336,127.95,122.032,121.28,122.164,116.933,112.248,109.671,116.625,115.869,119.624,118.334,121.155,124.6,128.597,130.363,129.459,125.456,121.122,117.29,115.467,117.498,120.964,124.006,130.263,132.125,129.148,124.713,120.249,115.907,114.247,115.601,118.962,123.159,125.588,127.173,126.294,134.921,134.193,132.344,129.745,126.339,122.021,117.137,110.487,113.69,119.656,123.623,122.945,124.206,128.354,132.269,136.573,140.823,142.604,143.255,144.001,144.778,148.377,null,null,null,null,null,null],\"colorscale\":[[0.0,\"#440154\"],[0.1111111111111111,\"#482878\"],[0.2222222222222222,\"#3e4989\"],[0.3333333333333333,\"#31688e\"],[0.4444444444444444,\"#26828e\"],[0.5555555555555556,\"#1f9e89\"],[0.6666666666666666,\"#35b779\"],[0.7777777777777778,\"#6ece58\"],[0.8888888888888888,\"#b5de2b\"],[1.0,\"#fde725\"]],\"opacity\":0.8,\"size\":5},\"mode\":\"markers\",\"x\":[116.203,119.349,117.892,112.561,107.852,103.232,99.938,95.874,88.079,83.445,85.004,87.823,91.247,93.846,98.663,105.846,109.021,106.294,99.613,96.924,95.127,94.918,90.937,86.906,83.313,80.192,78.487,76.708,74.138,70.967,67.654,64.494,61.034,56.659,49.759,52.993,57.96,61.179,63.944,65.609,68.085,71.17,74.333,77.485,80.918,85.341,91.766,97.938,99.753,102.439,107.546,112.04,115.364,116.505,115.225,113.182,109.252,107.751,101.196,105.227,113.048,116.007,115.355,113.223,108.247,102.606,100.182,101.821,106.467,111.927,null,null,null,null,null,null],\"y\":[58.432,54.06,51.643,50.315,50.504,53.765,58.959,58.926,61.994,61.759,56.05,51.351,51.8,51.56,53.542,50.66,58.157,59.985,56.534,60.412,68.236,60.766,55.475,52.311,51.159,52.704,57.163,62.474,65.335,65.921,64.514,60.257,57.013,57.185,59.419,55.799,54.798,52.584,49.746,50.957,54.071,57.961,61.442,64.807,66.662,65.467,63.222,62.459,65.489,69.952,72.418,71.857,68.573,65.524,64.678,67.134,64.817,63.348,60.56,57.02,59.152,61.709,65.162,67.833,68.888,66.279,58.94,52.75,49.583,44.027,null,null,null,null,null,null],\"z\":[154.615,148.024,142.896,140.169,137.563,136.952,135.138,128.608,126.919,132.816,133.262,131.336,127.95,122.032,121.28,122.164,116.933,112.248,109.671,116.625,115.869,119.624,118.334,121.155,124.6,128.597,130.363,129.459,125.456,121.122,117.29,115.467,117.498,120.964,124.006,130.263,132.125,129.148,124.713,120.249,115.907,114.247,115.601,118.962,123.159,125.588,127.173,126.294,134.921,134.193,132.344,129.745,126.339,122.021,117.137,110.487,113.69,119.656,123.623,122.945,124.206,128.354,132.269,136.573,140.823,142.604,143.255,144.001,144.778,148.377,null,null,null,null,null,null],\"type\":\"scatter3d\"}],                        {\"template\":{\"data\":{\"histogram2dcontour\":[{\"type\":\"histogram2dcontour\",\"colorbar\":{\"outlinewidth\":0,\"ticks\":\"\"},\"colorscale\":[[0.0,\"#0d0887\"],[0.1111111111111111,\"#46039f\"],[0.2222222222222222,\"#7201a8\"],[0.3333333333333333,\"#9c179e\"],[0.4444444444444444,\"#bd3786\"],[0.5555555555555556,\"#d8576b\"],[0.6666666666666666,\"#ed7953\"],[0.7777777777777778,\"#fb9f3a\"],[0.8888888888888888,\"#fdca26\"],[1.0,\"#f0f921\"]]}],\"choropleth\":[{\"type\":\"choropleth\",\"colorbar\":{\"outlinewidth\":0,\"ticks\":\"\"}}],\"histogram2d\":[{\"type\":\"histogram2d\",\"colorbar\":{\"outlinewidth\":0,\"ticks\":\"\"},\"colorscale\":[[0.0,\"#0d0887\"],[0.1111111111111111,\"#46039f\"],[0.2222222222222222,\"#7201a8\"],[0.3333333333333333,\"#9c179e\"],[0.4444444444444444,\"#bd3786\"],[0.5555555555555556,\"#d8576b\"],[0.6666666666666666,\"#ed7953\"],[0.7777777777777778,\"#fb9f3a\"],[0.8888888888888888,\"#fdca26\"],[1.0,\"#f0f921\"]]}],\"heatmap\":[{\"type\":\"heatmap\",\"colorbar\":{\"outlinewidth\":0,\"ticks\":\"\"},\"colorscale\":[[0.0,\"#0d0887\"],[0.1111111111111111,\"#46039f\"],[0.2222222222222222,\"#7201a8\"],[0.3333333333333333,\"#9c179e\"],[0.4444444444444444,\"#bd3786\"],[0.5555555555555556,\"#d8576b\"],[0.6666666666666666,\"#ed7953\"],[0.7777777777777778,\"#fb9f3a\"],[0.8888888888888888,\"#fdca26\"],[1.0,\"#f0f921\"]]}],\"heatmapgl\":[{\"type\":\"heatmapgl\",\"colorbar\":{\"outlinewidth\":0,\"ticks\":\"\"},\"colorscale\":[[0.0,\"#0d0887\"],[0.1111111111111111,\"#46039f\"],[0.2222222222222222,\"#7201a8\"],[0.3333333333333333,\"#9c179e\"],[0.4444444444444444,\"#bd3786\"],[0.5555555555555556,\"#d8576b\"],[0.6666666666666666,\"#ed7953\"],[0.7777777777777778,\"#fb9f3a\"],[0.8888888888888888,\"#fdca26\"],[1.0,\"#f0f921\"]]}],\"contourcarpet\":[{\"type\":\"contourcarpet\",\"colorbar\":{\"outlinewidth\":0,\"ticks\":\"\"}}],\"contour\":[{\"type\":\"contour\",\"colorbar\":{\"outlinewidth\":0,\"ticks\":\"\"},\"colorscale\":[[0.0,\"#0d0887\"],[0.1111111111111111,\"#46039f\"],[0.2222222222222222,\"#7201a8\"],[0.3333333333333333,\"#9c179e\"],[0.4444444444444444,\"#bd3786\"],[0.5555555555555556,\"#d8576b\"],[0.6666666666666666,\"#ed7953\"],[0.7777777777777778,\"#fb9f3a\"],[0.8888888888888888,\"#fdca26\"],[1.0,\"#f0f921\"]]}],\"surface\":[{\"type\":\"surface\",\"colorbar\":{\"outlinewidth\":0,\"ticks\":\"\"},\"colorscale\":[[0.0,\"#0d0887\"],[0.1111111111111111,\"#46039f\"],[0.2222222222222222,\"#7201a8\"],[0.3333333333333333,\"#9c179e\"],[0.4444444444444444,\"#bd3786\"],[0.5555555555555556,\"#d8576b\"],[0.6666666666666666,\"#ed7953\"],[0.7777777777777778,\"#fb9f3a\"],[0.8888888888888888,\"#fdca26\"],[1.0,\"#f0f921\"]]}],\"mesh3d\":[{\"type\":\"mesh3d\",\"colorbar\":{\"outlinewidth\":0,\"ticks\":\"\"}}],\"scatter\":[{\"fillpattern\":{\"fillmode\":\"overlay\",\"size\":10,\"solidity\":0.2},\"type\":\"scatter\"}],\"parcoords\":[{\"type\":\"parcoords\",\"line\":{\"colorbar\":{\"outlinewidth\":0,\"ticks\":\"\"}}}],\"scatterpolargl\":[{\"type\":\"scatterpolargl\",\"marker\":{\"colorbar\":{\"outlinewidth\":0,\"ticks\":\"\"}}}],\"bar\":[{\"error_x\":{\"color\":\"#2a3f5f\"},\"error_y\":{\"color\":\"#2a3f5f\"},\"marker\":{\"line\":{\"color\":\"#E5ECF6\",\"width\":0.5},\"pattern\":{\"fillmode\":\"overlay\",\"size\":10,\"solidity\":0.2}},\"type\":\"bar\"}],\"scattergeo\":[{\"type\":\"scattergeo\",\"marker\":{\"colorbar\":{\"outlinewidth\":0,\"ticks\":\"\"}}}],\"scatterpolar\":[{\"type\":\"scatterpolar\",\"marker\":{\"colorbar\":{\"outlinewidth\":0,\"ticks\":\"\"}}}],\"histogram\":[{\"marker\":{\"pattern\":{\"fillmode\":\"overlay\",\"size\":10,\"solidity\":0.2}},\"type\":\"histogram\"}],\"scattergl\":[{\"type\":\"scattergl\",\"marker\":{\"colorbar\":{\"outlinewidth\":0,\"ticks\":\"\"}}}],\"scatter3d\":[{\"type\":\"scatter3d\",\"line\":{\"colorbar\":{\"outlinewidth\":0,\"ticks\":\"\"}},\"marker\":{\"colorbar\":{\"outlinewidth\":0,\"ticks\":\"\"}}}],\"scattermapbox\":[{\"type\":\"scattermapbox\",\"marker\":{\"colorbar\":{\"outlinewidth\":0,\"ticks\":\"\"}}}],\"scatterternary\":[{\"type\":\"scatterternary\",\"marker\":{\"colorbar\":{\"outlinewidth\":0,\"ticks\":\"\"}}}],\"scattercarpet\":[{\"type\":\"scattercarpet\",\"marker\":{\"colorbar\":{\"outlinewidth\":0,\"ticks\":\"\"}}}],\"carpet\":[{\"aaxis\":{\"endlinecolor\":\"#2a3f5f\",\"gridcolor\":\"white\",\"linecolor\":\"white\",\"minorgridcolor\":\"white\",\"startlinecolor\":\"#2a3f5f\"},\"baxis\":{\"endlinecolor\":\"#2a3f5f\",\"gridcolor\":\"white\",\"linecolor\":\"white\",\"minorgridcolor\":\"white\",\"startlinecolor\":\"#2a3f5f\"},\"type\":\"carpet\"}],\"table\":[{\"cells\":{\"fill\":{\"color\":\"#EBF0F8\"},\"line\":{\"color\":\"white\"}},\"header\":{\"fill\":{\"color\":\"#C8D4E3\"},\"line\":{\"color\":\"white\"}},\"type\":\"table\"}],\"barpolar\":[{\"marker\":{\"line\":{\"color\":\"#E5ECF6\",\"width\":0.5},\"pattern\":{\"fillmode\":\"overlay\",\"size\":10,\"solidity\":0.2}},\"type\":\"barpolar\"}],\"pie\":[{\"automargin\":true,\"type\":\"pie\"}]},\"layout\":{\"autotypenumbers\":\"strict\",\"colorway\":[\"#636efa\",\"#EF553B\",\"#00cc96\",\"#ab63fa\",\"#FFA15A\",\"#19d3f3\",\"#FF6692\",\"#B6E880\",\"#FF97FF\",\"#FECB52\"],\"font\":{\"color\":\"#2a3f5f\"},\"hovermode\":\"closest\",\"hoverlabel\":{\"align\":\"left\"},\"paper_bgcolor\":\"white\",\"plot_bgcolor\":\"#E5ECF6\",\"polar\":{\"bgcolor\":\"#E5ECF6\",\"angularaxis\":{\"gridcolor\":\"white\",\"linecolor\":\"white\",\"ticks\":\"\"},\"radialaxis\":{\"gridcolor\":\"white\",\"linecolor\":\"white\",\"ticks\":\"\"}},\"ternary\":{\"bgcolor\":\"#E5ECF6\",\"aaxis\":{\"gridcolor\":\"white\",\"linecolor\":\"white\",\"ticks\":\"\"},\"baxis\":{\"gridcolor\":\"white\",\"linecolor\":\"white\",\"ticks\":\"\"},\"caxis\":{\"gridcolor\":\"white\",\"linecolor\":\"white\",\"ticks\":\"\"}},\"coloraxis\":{\"colorbar\":{\"outlinewidth\":0,\"ticks\":\"\"}},\"colorscale\":{\"sequential\":[[0.0,\"#0d0887\"],[0.1111111111111111,\"#46039f\"],[0.2222222222222222,\"#7201a8\"],[0.3333333333333333,\"#9c179e\"],[0.4444444444444444,\"#bd3786\"],[0.5555555555555556,\"#d8576b\"],[0.6666666666666666,\"#ed7953\"],[0.7777777777777778,\"#fb9f3a\"],[0.8888888888888888,\"#fdca26\"],[1.0,\"#f0f921\"]],\"sequentialminus\":[[0.0,\"#0d0887\"],[0.1111111111111111,\"#46039f\"],[0.2222222222222222,\"#7201a8\"],[0.3333333333333333,\"#9c179e\"],[0.4444444444444444,\"#bd3786\"],[0.5555555555555556,\"#d8576b\"],[0.6666666666666666,\"#ed7953\"],[0.7777777777777778,\"#fb9f3a\"],[0.8888888888888888,\"#fdca26\"],[1.0,\"#f0f921\"]],\"diverging\":[[0,\"#8e0152\"],[0.1,\"#c51b7d\"],[0.2,\"#de77ae\"],[0.3,\"#f1b6da\"],[0.4,\"#fde0ef\"],[0.5,\"#f7f7f7\"],[0.6,\"#e6f5d0\"],[0.7,\"#b8e186\"],[0.8,\"#7fbc41\"],[0.9,\"#4d9221\"],[1,\"#276419\"]]},\"xaxis\":{\"gridcolor\":\"white\",\"linecolor\":\"white\",\"ticks\":\"\",\"title\":{\"standoff\":15},\"zerolinecolor\":\"white\",\"automargin\":true,\"zerolinewidth\":2},\"yaxis\":{\"gridcolor\":\"white\",\"linecolor\":\"white\",\"ticks\":\"\",\"title\":{\"standoff\":15},\"zerolinecolor\":\"white\",\"automargin\":true,\"zerolinewidth\":2},\"scene\":{\"xaxis\":{\"backgroundcolor\":\"#E5ECF6\",\"gridcolor\":\"white\",\"linecolor\":\"white\",\"showbackground\":true,\"ticks\":\"\",\"zerolinecolor\":\"white\",\"gridwidth\":2},\"yaxis\":{\"backgroundcolor\":\"#E5ECF6\",\"gridcolor\":\"white\",\"linecolor\":\"white\",\"showbackground\":true,\"ticks\":\"\",\"zerolinecolor\":\"white\",\"gridwidth\":2},\"zaxis\":{\"backgroundcolor\":\"#E5ECF6\",\"gridcolor\":\"white\",\"linecolor\":\"white\",\"showbackground\":true,\"ticks\":\"\",\"zerolinecolor\":\"white\",\"gridwidth\":2}},\"shapedefaults\":{\"line\":{\"color\":\"#2a3f5f\"}},\"annotationdefaults\":{\"arrowcolor\":\"#2a3f5f\",\"arrowhead\":0,\"arrowwidth\":1},\"geo\":{\"bgcolor\":\"white\",\"landcolor\":\"#E5ECF6\",\"subunitcolor\":\"white\",\"showland\":true,\"showlakes\":true,\"lakecolor\":\"white\"},\"title\":{\"x\":0.05},\"mapbox\":{\"style\":\"light\"}}},\"scene\":{\"xaxis\":{\"title\":{\"text\":\"X\"}},\"yaxis\":{\"title\":{\"text\":\"Y\"}},\"zaxis\":{\"title\":{\"text\":\"Z\"}}},\"title\":{\"text\":\"3D Scatter Plot\"}},                        {\"responsive\": true}                    ).then(function(){\n",
       "                            \n",
       "var gd = document.getElementById('9de08379-97e8-4f69-bfe3-94b6f13d67d5');\n",
       "var x = new MutationObserver(function (mutations, observer) {{\n",
       "        var display = window.getComputedStyle(gd).display;\n",
       "        if (!display || display === 'none') {{\n",
       "            console.log([gd, 'removed!']);\n",
       "            Plotly.purge(gd);\n",
       "            observer.disconnect();\n",
       "        }}\n",
       "}});\n",
       "\n",
       "// Listen for the removal of the full notebook cells\n",
       "var notebookContainer = gd.closest('#notebook-container');\n",
       "if (notebookContainer) {{\n",
       "    x.observe(notebookContainer, {childList: true});\n",
       "}}\n",
       "\n",
       "// Listen for the clearing of the current output cell\n",
       "var outputEl = gd.closest('.output');\n",
       "if (outputEl) {{\n",
       "    x.observe(outputEl, {childList: true});\n",
       "}}\n",
       "\n",
       "                        })                };                            </script>        </div>\n",
       "</body>\n",
       "</html>"
      ]
     },
     "metadata": {},
     "output_type": "display_data"
    }
   ],
   "source": [
    "import plotly.graph_objects as go\n",
    "import numpy as np\n",
    "\n",
    "\n",
    "\n",
    "# Example: Generate an Nx3 matrix\n",
    "xyz = train_dataset[200]['xyz']  # Replace this with your actual Nx3 data\n",
    "N = len(xyz)\n",
    "\n",
    "\n",
    "for _ in range(2): #plot twice because it doesnt show up on first try for some reason\n",
    "    # Extract columns\n",
    "    x, y, z = xyz[:, 0], xyz[:, 1], xyz[:, 2]\n",
    "    \n",
    "    # Create the 3D scatter plot\n",
    "    fig = go.Figure(data=[go.Scatter3d(\n",
    "        x=x, y=y, z=z,\n",
    "        mode='markers',\n",
    "        marker=dict(\n",
    "            size=5,\n",
    "            color=z,  # Coloring based on z-value\n",
    "            colorscale='Viridis',  # Choose a colorscale\n",
    "            opacity=0.8\n",
    "        )\n",
    "    )])\n",
    "    \n",
    "    # Customize layout\n",
    "    fig.update_layout(\n",
    "        scene=dict(\n",
    "            xaxis_title=\"X\",\n",
    "            yaxis_title=\"Y\",\n",
    "            zaxis_title=\"Z\"\n",
    "        ),\n",
    "        title=\"3D Scatter Plot\"\n",
    "    )\n",
    "\n",
    "fig.show()\n",
    "    "
   ]
  },
  {
   "cell_type": "code",
   "execution_count": 15,
   "id": "f47f1cdf",
   "metadata": {
    "execution": {
     "iopub.execute_input": "2025-03-09T16:45:36.419057Z",
     "iopub.status.busy": "2025-03-09T16:45:36.418811Z",
     "iopub.status.idle": "2025-03-09T16:45:36.422495Z",
     "shell.execute_reply": "2025-03-09T16:45:36.421696Z"
    },
    "papermill": {
     "duration": 0.018459,
     "end_time": "2025-03-09T16:45:36.423842",
     "exception": false,
     "start_time": "2025-03-09T16:45:36.405383",
     "status": "completed"
    },
    "tags": []
   },
   "outputs": [],
   "source": [
    "train_loader=DataLoader(train_dataset,batch_size=1,shuffle=True)\n",
    "val_loader=DataLoader(val_dataset,batch_size=1,shuffle=False)"
   ]
  },
  {
   "cell_type": "markdown",
   "id": "744fca8c",
   "metadata": {
    "papermill": {
     "duration": 0.012813,
     "end_time": "2025-03-09T16:45:36.449717",
     "exception": false,
     "start_time": "2025-03-09T16:45:36.436904",
     "status": "completed"
    },
    "tags": []
   },
   "source": [
    "# Get RibonanzaNet¶\n",
    "We will add a linear layer to predict xyz of C1' atoms"
   ]
  },
  {
   "cell_type": "code",
   "execution_count": 16,
   "id": "06243b36",
   "metadata": {
    "execution": {
     "iopub.execute_input": "2025-03-09T16:45:36.477008Z",
     "iopub.status.busy": "2025-03-09T16:45:36.476789Z",
     "iopub.status.idle": "2025-03-09T16:45:40.547584Z",
     "shell.execute_reply": "2025-03-09T16:45:40.546443Z"
    },
    "papermill": {
     "duration": 4.086824,
     "end_time": "2025-03-09T16:45:40.549828",
     "exception": false,
     "start_time": "2025-03-09T16:45:36.463004",
     "status": "completed"
    },
    "tags": []
   },
   "outputs": [
    {
     "name": "stdout",
     "output_type": "stream",
     "text": [
      "Requirement already satisfied: einops in /usr/local/lib/python3.10/dist-packages (0.8.0)\r\n"
     ]
    }
   ],
   "source": [
    "! pip install einops\n"
   ]
  },
  {
   "cell_type": "code",
   "execution_count": 17,
   "id": "38cafe88",
   "metadata": {
    "execution": {
     "iopub.execute_input": "2025-03-09T16:45:40.579090Z",
     "iopub.status.busy": "2025-03-09T16:45:40.578744Z",
     "iopub.status.idle": "2025-03-09T16:45:44.246358Z",
     "shell.execute_reply": "2025-03-09T16:45:44.245537Z"
    },
    "papermill": {
     "duration": 3.683636,
     "end_time": "2025-03-09T16:45:44.247955",
     "exception": false,
     "start_time": "2025-03-09T16:45:40.564319",
     "status": "completed"
    },
    "tags": []
   },
   "outputs": [],
   "source": [
    "import sys\n",
    "\n",
    "sys.path.append(\"/kaggle/input/ribonanzanet2d-final\")\n",
    "\n",
    "\n",
    "from Network import *\n",
    "import yaml\n",
    "\n",
    "\n",
    "\n",
    "class Config:\n",
    "    def __init__(self, **entries):\n",
    "        self.__dict__.update(entries)\n",
    "        self.entries=entries\n",
    "\n",
    "    def print(self):\n",
    "        print(self.entries)\n",
    "\n",
    "def load_config_from_yaml(file_path):\n",
    "    with open(file_path, 'r') as file:\n",
    "        config = yaml.safe_load(file)\n",
    "    return Config(**config)\n",
    "\n",
    "\n",
    "\n",
    "class finetuned_RibonanzaNet(RibonanzaNet):\n",
    "    def __init__(self, config, pretrained=False):\n",
    "        config.dropout=0.1\n",
    "        super(finetuned_RibonanzaNet, self).__init__(config)\n",
    "        if pretrained:\n",
    "            self.load_state_dict(torch.load(\"/kaggle/input/ribonanzanet-weights/RibonanzaNet.pt\",map_location='cpu'))\n",
    "        # self.ct_predictor=nn.Sequential(nn.Linear(64,256),\n",
    "        #                                 nn.ReLU(),\n",
    "        #                                 nn.Linear(256,64),\n",
    "        #                                 nn.ReLU(),\n",
    "        #                                 nn.Linear(64,1)) \n",
    "        self.dropout=nn.Dropout(0.0)\n",
    "        self.xyz_predictor=nn.Linear(256,3)\n",
    "\n",
    "\n",
    "    \n",
    "    def forward(self,src):\n",
    "        \n",
    "        #with torch.no_grad():\n",
    "        sequence_features, pairwise_features=self.get_embeddings(src, torch.ones_like(src).long().to(src.device))\n",
    "\n",
    "\n",
    "        xyz=self.xyz_predictor(sequence_features)\n",
    "\n",
    "        return xyz"
   ]
  },
  {
   "cell_type": "code",
   "execution_count": 18,
   "id": "4058e4d2",
   "metadata": {
    "execution": {
     "iopub.execute_input": "2025-03-09T16:45:44.276179Z",
     "iopub.status.busy": "2025-03-09T16:45:44.275776Z",
     "iopub.status.idle": "2025-03-09T16:45:45.284065Z",
     "shell.execute_reply": "2025-03-09T16:45:45.283347Z"
    },
    "papermill": {
     "duration": 1.02389,
     "end_time": "2025-03-09T16:45:45.285690",
     "exception": false,
     "start_time": "2025-03-09T16:45:44.261800",
     "status": "completed"
    },
    "tags": []
   },
   "outputs": [
    {
     "name": "stdout",
     "output_type": "stream",
     "text": [
      "constructing 9 ConvTransformerEncoderLayers\n"
     ]
    },
    {
     "name": "stderr",
     "output_type": "stream",
     "text": [
      "<ipython-input-17-09439028435f>:31: FutureWarning:\n",
      "\n",
      "You are using `torch.load` with `weights_only=False` (the current default value), which uses the default pickle module implicitly. It is possible to construct malicious pickle data which will execute arbitrary code during unpickling (See https://github.com/pytorch/pytorch/blob/main/SECURITY.md#untrusted-models for more details). In a future release, the default value for `weights_only` will be flipped to `True`. This limits the functions that could be executed during unpickling. Arbitrary objects will no longer be allowed to be loaded via this mode unless they are explicitly allowlisted by the user via `torch.serialization.add_safe_globals`. We recommend you start setting `weights_only=True` for any use case where you don't have full control of the loaded file. Please open an issue on GitHub for any issues related to this experimental feature.\n",
      "\n"
     ]
    }
   ],
   "source": [
    "model=finetuned_RibonanzaNet(load_config_from_yaml(\"/kaggle/input/ribonanzanet2d-final/configs/pairwise.yaml\"),pretrained=True).cuda()\n"
   ]
  },
  {
   "cell_type": "markdown",
   "id": "7b473b78",
   "metadata": {
    "papermill": {
     "duration": 0.013049,
     "end_time": "2025-03-09T16:45:45.312796",
     "exception": false,
     "start_time": "2025-03-09T16:45:45.299747",
     "status": "completed"
    },
    "tags": []
   },
   "source": [
    "# Training loop¶\n",
    "we will use dRMSD loss on the predicted xyz. the loss function is invariant to translations, rotations, and reflections. because dRMSD is invariant to reflections, it cannot distinguish chiral structures, so there may be better loss functions"
   ]
  },
  {
   "cell_type": "code",
   "execution_count": 19,
   "id": "d28f3016",
   "metadata": {
    "execution": {
     "iopub.execute_input": "2025-03-09T16:45:45.340434Z",
     "iopub.status.busy": "2025-03-09T16:45:45.340133Z",
     "iopub.status.idle": "2025-03-09T16:45:45.350795Z",
     "shell.execute_reply": "2025-03-09T16:45:45.350183Z"
    },
    "papermill": {
     "duration": 0.025802,
     "end_time": "2025-03-09T16:45:45.352051",
     "exception": false,
     "start_time": "2025-03-09T16:45:45.326249",
     "status": "completed"
    },
    "tags": []
   },
   "outputs": [],
   "source": [
    "def calculate_distance_matrix(X,Y,epsilon=1e-4):\n",
    "    return (torch.square(X[:,None]-Y[None,:])+epsilon).sum(-1).sqrt()\n",
    "\n",
    "\n",
    "def dRMSD(pred_x,\n",
    "          pred_y,\n",
    "          gt_x,\n",
    "          gt_y,\n",
    "          epsilon=1e-4,Z=10,d_clamp=None):\n",
    "    pred_dm=calculate_distance_matrix(pred_x,pred_y)\n",
    "    gt_dm=calculate_distance_matrix(gt_x,gt_y)\n",
    "\n",
    "\n",
    "\n",
    "    mask=~torch.isnan(gt_dm)\n",
    "    mask[torch.eye(mask.shape[0]).bool()]=False\n",
    "\n",
    "    if d_clamp is not None:\n",
    "        rmsd=(torch.square(pred_dm[mask]-gt_dm[mask])+epsilon).clip(0,d_clamp**2)\n",
    "    else:\n",
    "        rmsd=torch.square(pred_dm[mask]-gt_dm[mask])+epsilon\n",
    "\n",
    "    return rmsd.sqrt().mean()/Z\n",
    "\n",
    "def local_dRMSD(pred_x,\n",
    "          pred_y,\n",
    "          gt_x,\n",
    "          gt_y,\n",
    "          epsilon=1e-4,Z=10,d_clamp=30):\n",
    "    pred_dm=calculate_distance_matrix(pred_x,pred_y)\n",
    "    gt_dm=calculate_distance_matrix(gt_x,gt_y)\n",
    "\n",
    "\n",
    "\n",
    "    mask=(~torch.isnan(gt_dm))*(gt_dm<d_clamp)\n",
    "    mask[torch.eye(mask.shape[0]).bool()]=False\n",
    "\n",
    "\n",
    "\n",
    "    rmsd=torch.square(pred_dm[mask]-gt_dm[mask])+epsilon\n",
    "    # rmsd=(torch.square(pred_dm[mask]-gt_dm[mask])+epsilon).sqrt()/Z\n",
    "    #rmsd=torch.abs(pred_dm[mask]-gt_dm[mask])/Z\n",
    "    return rmsd.sqrt().mean()/Z\n",
    "\n",
    "def dRMAE(pred_x,\n",
    "          pred_y,\n",
    "          gt_x,\n",
    "          gt_y,\n",
    "          epsilon=1e-4,Z=10,d_clamp=None):\n",
    "    pred_dm=calculate_distance_matrix(pred_x,pred_y)\n",
    "    gt_dm=calculate_distance_matrix(gt_x,gt_y)\n",
    "\n",
    "\n",
    "\n",
    "    mask=~torch.isnan(gt_dm)\n",
    "    mask[torch.eye(mask.shape[0]).bool()]=False\n",
    "\n",
    "    rmsd=torch.abs(pred_dm[mask]-gt_dm[mask])\n",
    "\n",
    "    return rmsd.mean()/Z\n",
    "\n",
    "import torch\n",
    "\n",
    "def align_svd_mae(input, target, Z=10):\n",
    "    \"\"\"\n",
    "    Aligns the input (Nx3) to target (Nx3) using SVD-based Procrustes alignment\n",
    "    and computes RMSD loss.\n",
    "    \n",
    "    Args:\n",
    "        input (torch.Tensor): Nx3 tensor representing the input points.\n",
    "        target (torch.Tensor): Nx3 tensor representing the target points.\n",
    "    \n",
    "    Returns:\n",
    "        aligned_input (torch.Tensor): Nx3 aligned input.\n",
    "        rmsd_loss (torch.Tensor): RMSD loss.\n",
    "    \"\"\"\n",
    "    assert input.shape == target.shape, \"Input and target must have the same shape\"\n",
    "\n",
    "    #mask \n",
    "    mask=~torch.isnan(target.sum(-1))\n",
    "\n",
    "    input=input[mask]\n",
    "    target=target[mask]\n",
    "    \n",
    "    # Compute centroids\n",
    "    centroid_input = input.mean(dim=0, keepdim=True)\n",
    "    centroid_target = target.mean(dim=0, keepdim=True)\n",
    "\n",
    "    # Center the points\n",
    "    input_centered = input - centroid_input.detach()\n",
    "    target_centered = target - centroid_target\n",
    "\n",
    "    # Compute covariance matrix\n",
    "    cov_matrix = input_centered.T @ target_centered\n",
    "\n",
    "    # SVD to find optimal rotation\n",
    "    U, S, Vt = torch.svd(cov_matrix)\n",
    "\n",
    "    # Compute rotation matrix\n",
    "    R = Vt @ U.T\n",
    "\n",
    "    # Ensure a proper rotation (det(R) = 1, no reflection)\n",
    "    if torch.det(R) < 0:\n",
    "        Vt[-1, :] *= -1\n",
    "        R = Vt @ U.T\n",
    "\n",
    "    # Rotate input\n",
    "    aligned_input = (input_centered @ R.T.detach()) + centroid_target.detach()\n",
    "\n",
    "    # # Compute RMSD loss\n",
    "    # rmsd_loss = torch.sqrt(((aligned_input - target) ** 2).mean())\n",
    "\n",
    "    # rmsd_loss = torch.sqrt(((aligned_input - target) ** 2).mean())\n",
    "    \n",
    "    # return aligned_input, rmsd_loss\n",
    "    return torch.abs(aligned_input-target).mean()/Z"
   ]
  },
  {
   "cell_type": "code",
   "execution_count": 20,
   "id": "626998c2",
   "metadata": {
    "execution": {
     "iopub.execute_input": "2025-03-09T16:45:45.379163Z",
     "iopub.status.busy": "2025-03-09T16:45:45.378925Z",
     "iopub.status.idle": "2025-03-09T18:23:21.220540Z",
     "shell.execute_reply": "2025-03-09T18:23:21.219694Z"
    },
    "papermill": {
     "duration": 5855.856468,
     "end_time": "2025-03-09T18:23:21.221819",
     "exception": false,
     "start_time": "2025-03-09T16:45:45.365351",
     "status": "completed"
    },
    "tags": []
   },
   "outputs": [
    {
     "name": "stderr",
     "output_type": "stream",
     "text": [
      "  0%|          | 0/542 [00:00<?, ?it/s]/usr/local/lib/python3.10/dist-packages/torch/_dynamo/eval_frame.py:632: UserWarning:\n",
      "\n",
      "torch.utils.checkpoint: the use_reentrant parameter should be passed explicitly. In version 2.5 we will raise an exception if use_reentrant is not passed. use_reentrant=False is recommended, but if you need to preserve the current default behavior, you can pass use_reentrant=True. Refer to docs for more details on the differences between the two variants.\n",
      "\n",
      "Epoch 1 Loss: 3.2199990492025425 OOMs: 0: 100%|██████████| 542/542 [01:53<00:00,  4.80it/s]\n",
      "  0%|          | 0/80 [00:00<?, ?it/s]/usr/local/lib/python3.10/dist-packages/torch/utils/checkpoint.py:87: UserWarning:\n",
      "\n",
      "None of the inputs have requires_grad=True. Gradients will be None\n",
      "\n",
      "100%|██████████| 80/80 [00:06<00:00, 12.64it/s]\n"
     ]
    },
    {
     "name": "stdout",
     "output_type": "stream",
     "text": [
      "val loss: 3.150636697560549\n"
     ]
    },
    {
     "name": "stderr",
     "output_type": "stream",
     "text": [
      "Epoch 2 Loss: 2.5668994640292278 OOMs: 0: 100%|██████████| 542/542 [01:48<00:00,  4.99it/s]\n",
      "100%|██████████| 80/80 [00:06<00:00, 12.70it/s]\n"
     ]
    },
    {
     "name": "stdout",
     "output_type": "stream",
     "text": [
      "val loss: 2.5698969673365353\n"
     ]
    },
    {
     "name": "stderr",
     "output_type": "stream",
     "text": [
      "Epoch 3 Loss: 2.0072686172939314 OOMs: 0: 100%|██████████| 542/542 [01:48<00:00,  4.98it/s]\n",
      "100%|██████████| 80/80 [00:06<00:00, 12.71it/s]\n"
     ]
    },
    {
     "name": "stdout",
     "output_type": "stream",
     "text": [
      "val loss: 2.0730048954486846\n"
     ]
    },
    {
     "name": "stderr",
     "output_type": "stream",
     "text": [
      "Epoch 4 Loss: 1.7682882794814796 OOMs: 0: 100%|██████████| 542/542 [01:49<00:00,  4.97it/s]\n",
      "100%|██████████| 80/80 [00:06<00:00, 12.76it/s]\n"
     ]
    },
    {
     "name": "stdout",
     "output_type": "stream",
     "text": [
      "val loss: 1.9012155197560787\n"
     ]
    },
    {
     "name": "stderr",
     "output_type": "stream",
     "text": [
      "Epoch 5 Loss: 1.5840497852691424 OOMs: 0: 100%|██████████| 542/542 [01:49<00:00,  4.94it/s]\n",
      "100%|██████████| 80/80 [00:06<00:00, 12.70it/s]\n"
     ]
    },
    {
     "name": "stdout",
     "output_type": "stream",
     "text": [
      "val loss: 1.7273695463314653\n"
     ]
    },
    {
     "name": "stderr",
     "output_type": "stream",
     "text": [
      "Epoch 6 Loss: 1.4373803024912233 OOMs: 0: 100%|██████████| 542/542 [01:49<00:00,  4.94it/s]\n",
      "100%|██████████| 80/80 [00:06<00:00, 12.56it/s]\n"
     ]
    },
    {
     "name": "stdout",
     "output_type": "stream",
     "text": [
      "val loss: 1.5960239328444004\n"
     ]
    },
    {
     "name": "stderr",
     "output_type": "stream",
     "text": [
      "Epoch 7 Loss: 1.3413980307944147 OOMs: 0: 100%|██████████| 542/542 [01:51<00:00,  4.88it/s]\n",
      "100%|██████████| 80/80 [00:06<00:00, 12.63it/s]\n"
     ]
    },
    {
     "name": "stdout",
     "output_type": "stream",
     "text": [
      "val loss: 1.5905947024002671\n"
     ]
    },
    {
     "name": "stderr",
     "output_type": "stream",
     "text": [
      "Epoch 8 Loss: 1.2375505682067238 OOMs: 0: 100%|██████████| 542/542 [01:51<00:00,  4.85it/s]\n",
      "100%|██████████| 80/80 [00:06<00:00, 12.68it/s]\n"
     ]
    },
    {
     "name": "stdout",
     "output_type": "stream",
     "text": [
      "val loss: 1.526562505401671\n"
     ]
    },
    {
     "name": "stderr",
     "output_type": "stream",
     "text": [
      "Epoch 9 Loss: 1.132738844165063 OOMs: 0: 100%|██████████| 542/542 [01:51<00:00,  4.87it/s]\n",
      "100%|██████████| 80/80 [00:06<00:00, 12.74it/s]\n"
     ]
    },
    {
     "name": "stdout",
     "output_type": "stream",
     "text": [
      "val loss: 1.4162183694541455\n"
     ]
    },
    {
     "name": "stderr",
     "output_type": "stream",
     "text": [
      "Epoch 10 Loss: 1.0806735837041672 OOMs: 0: 100%|██████████| 542/542 [01:50<00:00,  4.91it/s]\n",
      "100%|██████████| 80/80 [00:06<00:00, 12.68it/s]\n"
     ]
    },
    {
     "name": "stdout",
     "output_type": "stream",
     "text": [
      "val loss: 1.411273181065917\n"
     ]
    },
    {
     "name": "stderr",
     "output_type": "stream",
     "text": [
      "Epoch 11 Loss: 1.0130509767970035 OOMs: 0: 100%|██████████| 542/542 [01:49<00:00,  4.95it/s]\n",
      "100%|██████████| 80/80 [00:06<00:00, 12.72it/s]\n"
     ]
    },
    {
     "name": "stdout",
     "output_type": "stream",
     "text": [
      "val loss: 1.358323416672647\n"
     ]
    },
    {
     "name": "stderr",
     "output_type": "stream",
     "text": [
      "Epoch 12 Loss: 0.989150149081026 OOMs: 0: 100%|██████████| 542/542 [01:48<00:00,  4.97it/s]\n",
      "100%|██████████| 80/80 [00:06<00:00, 12.73it/s]\n"
     ]
    },
    {
     "name": "stdout",
     "output_type": "stream",
     "text": [
      "val loss: 1.386739151366055\n"
     ]
    },
    {
     "name": "stderr",
     "output_type": "stream",
     "text": [
      "Epoch 13 Loss: 0.9635479222859403 OOMs: 0: 100%|██████████| 542/542 [01:49<00:00,  4.95it/s]\n",
      "100%|██████████| 80/80 [00:06<00:00, 12.57it/s]\n"
     ]
    },
    {
     "name": "stdout",
     "output_type": "stream",
     "text": [
      "val loss: 1.4007564082741737\n"
     ]
    },
    {
     "name": "stderr",
     "output_type": "stream",
     "text": [
      "Epoch 14 Loss: 0.934150873460013 OOMs: 0: 100%|██████████| 542/542 [01:52<00:00,  4.82it/s]\n",
      "100%|██████████| 80/80 [00:06<00:00, 12.56it/s]\n"
     ]
    },
    {
     "name": "stdout",
     "output_type": "stream",
     "text": [
      "val loss: 1.3200245710089802\n"
     ]
    },
    {
     "name": "stderr",
     "output_type": "stream",
     "text": [
      "Epoch 15 Loss: 0.9049008390230446 OOMs: 0: 100%|██████████| 542/542 [01:52<00:00,  4.83it/s]\n",
      "100%|██████████| 80/80 [00:06<00:00, 12.58it/s]\n"
     ]
    },
    {
     "name": "stdout",
     "output_type": "stream",
     "text": [
      "val loss: 1.3103256629779936\n"
     ]
    },
    {
     "name": "stderr",
     "output_type": "stream",
     "text": [
      "Epoch 16 Loss: 0.8676023795595909 OOMs: 0: 100%|██████████| 542/542 [01:53<00:00,  4.80it/s]\n",
      "100%|██████████| 80/80 [00:06<00:00, 12.56it/s]\n"
     ]
    },
    {
     "name": "stdout",
     "output_type": "stream",
     "text": [
      "val loss: 1.36582504324615\n"
     ]
    },
    {
     "name": "stderr",
     "output_type": "stream",
     "text": [
      "Epoch 17 Loss: 0.8412119717890486 OOMs: 0: 100%|██████████| 542/542 [01:53<00:00,  4.79it/s]\n",
      "100%|██████████| 80/80 [00:06<00:00, 12.50it/s]\n"
     ]
    },
    {
     "name": "stdout",
     "output_type": "stream",
     "text": [
      "val loss: 1.2612878596410155\n"
     ]
    },
    {
     "name": "stderr",
     "output_type": "stream",
     "text": [
      "Epoch 18 Loss: 0.8331168623318091 OOMs: 0: 100%|██████████| 542/542 [01:52<00:00,  4.84it/s]\n",
      "100%|██████████| 80/80 [00:06<00:00, 12.65it/s]\n"
     ]
    },
    {
     "name": "stdout",
     "output_type": "stream",
     "text": [
      "val loss: 1.2719830891117454\n"
     ]
    },
    {
     "name": "stderr",
     "output_type": "stream",
     "text": [
      "Epoch 19 Loss: 0.832197459256517 OOMs: 0: 100%|██████████| 542/542 [01:50<00:00,  4.91it/s]\n",
      "100%|██████████| 80/80 [00:06<00:00, 12.63it/s]\n"
     ]
    },
    {
     "name": "stdout",
     "output_type": "stream",
     "text": [
      "val loss: 1.2272241713479162\n"
     ]
    },
    {
     "name": "stderr",
     "output_type": "stream",
     "text": [
      "Epoch 20 Loss: 0.8011726759841521 OOMs: 0: 100%|██████████| 542/542 [01:50<00:00,  4.91it/s]\n",
      "100%|██████████| 80/80 [00:06<00:00, 12.61it/s]\n"
     ]
    },
    {
     "name": "stdout",
     "output_type": "stream",
     "text": [
      "val loss: 1.1903072035871447\n"
     ]
    },
    {
     "name": "stderr",
     "output_type": "stream",
     "text": [
      "Epoch 21 Loss: 0.7872996571649045 OOMs: 0: 100%|██████████| 542/542 [01:49<00:00,  4.94it/s]\n",
      "100%|██████████| 80/80 [00:06<00:00, 12.72it/s]\n"
     ]
    },
    {
     "name": "stdout",
     "output_type": "stream",
     "text": [
      "val loss: 1.2523045639507473\n"
     ]
    },
    {
     "name": "stderr",
     "output_type": "stream",
     "text": [
      "Epoch 22 Loss: 0.7692655583919195 OOMs: 0: 100%|██████████| 542/542 [01:49<00:00,  4.95it/s]\n",
      "100%|██████████| 80/80 [00:06<00:00, 12.69it/s]\n"
     ]
    },
    {
     "name": "stdout",
     "output_type": "stream",
     "text": [
      "val loss: 1.1895527552813292\n"
     ]
    },
    {
     "name": "stderr",
     "output_type": "stream",
     "text": [
      "Epoch 23 Loss: 0.7515676390255949 OOMs: 0: 100%|██████████| 542/542 [01:50<00:00,  4.89it/s]\n",
      "100%|██████████| 80/80 [00:06<00:00, 12.59it/s]\n"
     ]
    },
    {
     "name": "stdout",
     "output_type": "stream",
     "text": [
      "val loss: 1.2062565283849835\n"
     ]
    },
    {
     "name": "stderr",
     "output_type": "stream",
     "text": [
      "Epoch 24 Loss: 0.7195423061777305 OOMs: 0: 100%|██████████| 542/542 [01:50<00:00,  4.89it/s]\n",
      "100%|██████████| 80/80 [00:06<00:00, 12.50it/s]\n"
     ]
    },
    {
     "name": "stdout",
     "output_type": "stream",
     "text": [
      "val loss: 1.209321746043861\n"
     ]
    },
    {
     "name": "stderr",
     "output_type": "stream",
     "text": [
      "Epoch 25 Loss: 0.7355265551387604 OOMs: 0: 100%|██████████| 542/542 [01:49<00:00,  4.95it/s]\n",
      "100%|██████████| 80/80 [00:06<00:00, 12.65it/s]\n"
     ]
    },
    {
     "name": "stdout",
     "output_type": "stream",
     "text": [
      "val loss: 1.196804241091013\n"
     ]
    },
    {
     "name": "stderr",
     "output_type": "stream",
     "text": [
      "Epoch 26 Loss: 0.711640034544512 OOMs: 0: 100%|██████████| 542/542 [01:50<00:00,  4.93it/s]\n",
      "100%|██████████| 80/80 [00:06<00:00, 12.66it/s]\n"
     ]
    },
    {
     "name": "stdout",
     "output_type": "stream",
     "text": [
      "val loss: 1.1817723407410086\n"
     ]
    },
    {
     "name": "stderr",
     "output_type": "stream",
     "text": [
      "Epoch 27 Loss: 0.6983844024228874 OOMs: 0: 100%|██████████| 542/542 [01:50<00:00,  4.92it/s]\n",
      "100%|██████████| 80/80 [00:06<00:00, 12.79it/s]\n"
     ]
    },
    {
     "name": "stdout",
     "output_type": "stream",
     "text": [
      "val loss: 1.1909394411370158\n"
     ]
    },
    {
     "name": "stderr",
     "output_type": "stream",
     "text": [
      "Epoch 28 Loss: 0.6949924044036118 OOMs: 0: 100%|██████████| 542/542 [01:49<00:00,  4.96it/s]\n",
      "100%|██████████| 80/80 [00:06<00:00, 12.61it/s]\n"
     ]
    },
    {
     "name": "stdout",
     "output_type": "stream",
     "text": [
      "val loss: 1.1709523915313185\n"
     ]
    },
    {
     "name": "stderr",
     "output_type": "stream",
     "text": [
      "Epoch 29 Loss: 0.6807934867967319 OOMs: 0: 100%|██████████| 542/542 [01:50<00:00,  4.90it/s]\n",
      "100%|██████████| 80/80 [00:06<00:00, 12.60it/s]\n"
     ]
    },
    {
     "name": "stdout",
     "output_type": "stream",
     "text": [
      "val loss: 1.1749008664861322\n"
     ]
    },
    {
     "name": "stderr",
     "output_type": "stream",
     "text": [
      "Epoch 30 Loss: 0.672400250164895 OOMs: 0: 100%|██████████| 542/542 [01:50<00:00,  4.91it/s]\n",
      "100%|██████████| 80/80 [00:06<00:00, 12.62it/s]\n"
     ]
    },
    {
     "name": "stdout",
     "output_type": "stream",
     "text": [
      "val loss: 1.1667254129424691\n"
     ]
    },
    {
     "name": "stderr",
     "output_type": "stream",
     "text": [
      "Epoch 31 Loss: 0.6531378618300621 OOMs: 0: 100%|██████████| 542/542 [01:50<00:00,  4.90it/s]\n",
      "100%|██████████| 80/80 [00:06<00:00, 12.56it/s]\n"
     ]
    },
    {
     "name": "stdout",
     "output_type": "stream",
     "text": [
      "val loss: 1.1292256562039256\n"
     ]
    },
    {
     "name": "stderr",
     "output_type": "stream",
     "text": [
      "Epoch 32 Loss: 0.6421718541464022 OOMs: 0: 100%|██████████| 542/542 [01:51<00:00,  4.88it/s]\n",
      "100%|██████████| 80/80 [00:06<00:00, 12.67it/s]\n"
     ]
    },
    {
     "name": "stdout",
     "output_type": "stream",
     "text": [
      "val loss: 1.2099026416428387\n"
     ]
    },
    {
     "name": "stderr",
     "output_type": "stream",
     "text": [
      "Epoch 33 Loss: 0.6324000246410441 OOMs: 0: 100%|██████████| 542/542 [01:50<00:00,  4.90it/s]\n",
      "100%|██████████| 80/80 [00:06<00:00, 12.63it/s]\n"
     ]
    },
    {
     "name": "stdout",
     "output_type": "stream",
     "text": [
      "val loss: 1.1636741166003048\n"
     ]
    },
    {
     "name": "stderr",
     "output_type": "stream",
     "text": [
      "Epoch 34 Loss: 0.6369210529618817 OOMs: 0: 100%|██████████| 542/542 [01:50<00:00,  4.88it/s]\n",
      "100%|██████████| 80/80 [00:06<00:00, 12.62it/s]\n"
     ]
    },
    {
     "name": "stdout",
     "output_type": "stream",
     "text": [
      "val loss: 1.2289577820338309\n"
     ]
    },
    {
     "name": "stderr",
     "output_type": "stream",
     "text": [
      "Epoch 35 Loss: 0.6191186050564821 OOMs: 0: 100%|██████████| 542/542 [01:50<00:00,  4.89it/s]\n",
      "100%|██████████| 80/80 [00:06<00:00, 12.66it/s]\n"
     ]
    },
    {
     "name": "stdout",
     "output_type": "stream",
     "text": [
      "val loss: 1.1443675881251694\n"
     ]
    },
    {
     "name": "stderr",
     "output_type": "stream",
     "text": [
      "Epoch 36 Loss: 0.6168897275115292 OOMs: 0: 100%|██████████| 542/542 [01:51<00:00,  4.88it/s]\n",
      "100%|██████████| 80/80 [00:06<00:00, 12.67it/s]\n"
     ]
    },
    {
     "name": "stdout",
     "output_type": "stream",
     "text": [
      "val loss: 1.1731052215211093\n"
     ]
    },
    {
     "name": "stderr",
     "output_type": "stream",
     "text": [
      "Epoch 37 Loss: 0.6279423405653436 OOMs: 0: 100%|██████████| 542/542 [01:51<00:00,  4.88it/s]\n",
      "100%|██████████| 80/80 [00:06<00:00, 12.61it/s]\n"
     ]
    },
    {
     "name": "stdout",
     "output_type": "stream",
     "text": [
      "val loss: 1.1323314106091857\n"
     ]
    },
    {
     "name": "stderr",
     "output_type": "stream",
     "text": [
      "Epoch 38 Loss: 0.59934857963306 OOMs: 0: 100%|██████████| 542/542 [01:51<00:00,  4.88it/s]\n",
      "100%|██████████| 80/80 [00:06<00:00, 12.64it/s]\n"
     ]
    },
    {
     "name": "stdout",
     "output_type": "stream",
     "text": [
      "val loss: 1.1745440794155002\n"
     ]
    },
    {
     "name": "stderr",
     "output_type": "stream",
     "text": [
      "Epoch 39 Loss: 0.5804181288639118 OOMs: 0: 100%|██████████| 542/542 [01:51<00:00,  4.88it/s]\n",
      "100%|██████████| 80/80 [00:06<00:00, 12.55it/s]\n"
     ]
    },
    {
     "name": "stdout",
     "output_type": "stream",
     "text": [
      "val loss: 1.1445279031060636\n"
     ]
    },
    {
     "name": "stderr",
     "output_type": "stream",
     "text": [
      "Epoch 40 Loss: 0.5749931129939662 OOMs: 0: 100%|██████████| 542/542 [01:51<00:00,  4.87it/s]\n",
      "100%|██████████| 80/80 [00:06<00:00, 12.65it/s]\n"
     ]
    },
    {
     "name": "stdout",
     "output_type": "stream",
     "text": [
      "val loss: 1.1050112588331102\n"
     ]
    },
    {
     "name": "stderr",
     "output_type": "stream",
     "text": [
      "Epoch 41 Loss: 0.5586001111737476 OOMs: 0: 100%|██████████| 542/542 [01:51<00:00,  4.85it/s]\n",
      "100%|██████████| 80/80 [00:06<00:00, 12.57it/s]\n"
     ]
    },
    {
     "name": "stdout",
     "output_type": "stream",
     "text": [
      "val loss: 1.1341989050619303\n"
     ]
    },
    {
     "name": "stderr",
     "output_type": "stream",
     "text": [
      "Epoch 42 Loss: 0.5419458150176325 OOMs: 0: 100%|██████████| 542/542 [01:51<00:00,  4.86it/s]\n",
      "100%|██████████| 80/80 [00:06<00:00, 12.48it/s]\n"
     ]
    },
    {
     "name": "stdout",
     "output_type": "stream",
     "text": [
      "val loss: 1.1200986428186297\n"
     ]
    },
    {
     "name": "stderr",
     "output_type": "stream",
     "text": [
      "Epoch 43 Loss: 0.5424057700124834 OOMs: 0: 100%|██████████| 542/542 [01:51<00:00,  4.86it/s]\n",
      "100%|██████████| 80/80 [00:06<00:00, 12.66it/s]\n"
     ]
    },
    {
     "name": "stdout",
     "output_type": "stream",
     "text": [
      "val loss: 1.1600506937131285\n"
     ]
    },
    {
     "name": "stderr",
     "output_type": "stream",
     "text": [
      "Epoch 44 Loss: 0.5264444732110659 OOMs: 0: 100%|██████████| 542/542 [01:50<00:00,  4.89it/s]\n",
      "100%|██████████| 80/80 [00:06<00:00, 12.67it/s]\n"
     ]
    },
    {
     "name": "stdout",
     "output_type": "stream",
     "text": [
      "val loss: 1.1446858283132315\n"
     ]
    },
    {
     "name": "stderr",
     "output_type": "stream",
     "text": [
      "Epoch 45 Loss: 0.5210942760577281 OOMs: 0: 100%|██████████| 542/542 [01:50<00:00,  4.89it/s]\n",
      "100%|██████████| 80/80 [00:06<00:00, 12.66it/s]\n"
     ]
    },
    {
     "name": "stdout",
     "output_type": "stream",
     "text": [
      "val loss: 1.100903124921024\n"
     ]
    },
    {
     "name": "stderr",
     "output_type": "stream",
     "text": [
      "Epoch 46 Loss: 0.5189894529478797 OOMs: 0: 100%|██████████| 542/542 [01:50<00:00,  4.92it/s]\n",
      "100%|██████████| 80/80 [00:06<00:00, 12.63it/s]\n"
     ]
    },
    {
     "name": "stdout",
     "output_type": "stream",
     "text": [
      "val loss: 1.0961286412551998\n"
     ]
    },
    {
     "name": "stderr",
     "output_type": "stream",
     "text": [
      "Epoch 47 Loss: 0.5146828567561078 OOMs: 0: 100%|██████████| 542/542 [01:50<00:00,  4.90it/s]\n",
      "100%|██████████| 80/80 [00:06<00:00, 12.59it/s]\n"
     ]
    },
    {
     "name": "stdout",
     "output_type": "stream",
     "text": [
      "val loss: 1.1295567157678306\n"
     ]
    },
    {
     "name": "stderr",
     "output_type": "stream",
     "text": [
      "Epoch 48 Loss: 0.48946112457566593 OOMs: 0: 100%|██████████| 542/542 [01:51<00:00,  4.88it/s]\n",
      "100%|██████████| 80/80 [00:06<00:00, 12.71it/s]\n"
     ]
    },
    {
     "name": "stdout",
     "output_type": "stream",
     "text": [
      "val loss: 1.1141766550950707\n"
     ]
    },
    {
     "name": "stderr",
     "output_type": "stream",
     "text": [
      "Epoch 49 Loss: 0.49631714188524717 OOMs: 0: 100%|██████████| 542/542 [01:50<00:00,  4.92it/s]\n",
      "100%|██████████| 80/80 [00:06<00:00, 12.61it/s]\n"
     ]
    },
    {
     "name": "stdout",
     "output_type": "stream",
     "text": [
      "val loss: 1.1036432842724024\n"
     ]
    },
    {
     "name": "stderr",
     "output_type": "stream",
     "text": [
      "Epoch 50 Loss: 0.48943002711692857 OOMs: 0: 100%|██████████| 542/542 [01:50<00:00,  4.89it/s]\n",
      "100%|██████████| 80/80 [00:06<00:00, 12.73it/s]\n"
     ]
    },
    {
     "name": "stdout",
     "output_type": "stream",
     "text": [
      "val loss: 1.1280615611933171\n"
     ]
    }
   ],
   "source": [
    "from tqdm import tqdm\n",
    "from torch.amp import GradScaler\n",
    "\n",
    "epochs=50\n",
    "cos_epoch=35\n",
    "\n",
    "\n",
    "best_loss=np.inf\n",
    "optimizer = torch.optim.Adam(model.parameters(), weight_decay=0.0, lr=0.0001) #no weight decay following AF\n",
    "\n",
    "batch_size=1\n",
    "\n",
    "#for cycle in range(2):\n",
    "\n",
    "criterion=torch.nn.BCEWithLogitsLoss(reduction='none')\n",
    "\n",
    "scaler = GradScaler()\n",
    "\n",
    "schedule=torch.optim.lr_scheduler.CosineAnnealingLR(optimizer, T_max=(epochs-cos_epoch)*len(train_loader)//batch_size)\n",
    "\n",
    "best_val_loss=99999999999\n",
    "for epoch in range(epochs):\n",
    "    model.train()\n",
    "    tbar=tqdm(train_loader)\n",
    "    total_loss=0\n",
    "    oom=0\n",
    "    for idx, batch in enumerate(tbar):\n",
    "        #try:\n",
    "        sequence=batch['sequence'].cuda()\n",
    "        gt_xyz=batch['xyz'].cuda().squeeze()\n",
    "\n",
    "        #with torch.autocast(device_type='cuda', dtype=torch.float16):\n",
    "        pred_xyz=model(sequence).squeeze()\n",
    "        \n",
    "        loss=dRMAE(pred_xyz,pred_xyz,gt_xyz,gt_xyz) + align_svd_mae(pred_xyz, gt_xyz)\n",
    "             #local_dRMSD(pred_xyz,pred_xyz,gt_xyz,gt_xyz)\n",
    "\n",
    "        if loss!=loss:\n",
    "            stop\n",
    "\n",
    "        \n",
    "        (loss/batch_size).backward()\n",
    "\n",
    "        if (idx+1)%batch_size==0 or idx+1 == len(tbar):\n",
    "\n",
    "            torch.nn.utils.clip_grad_norm_(model.parameters(), 1)\n",
    "            optimizer.step()\n",
    "            optimizer.zero_grad()\n",
    "            # scaler.scale(loss/batch_size).backward()\n",
    "            # scaler.unscale_(optimizer)\n",
    "            # torch.nn.utils.clip_grad_norm_(model.parameters(), 1)\n",
    "            # scaler.step(optimizer)\n",
    "            # scaler.update()\n",
    "\n",
    "            \n",
    "            if (epoch+1)>cos_epoch:\n",
    "                schedule.step()\n",
    "        #schedule.step()\n",
    "        total_loss+=loss.item()\n",
    "        \n",
    "        tbar.set_description(f\"Epoch {epoch + 1} Loss: {total_loss/(idx+1)} OOMs: {oom}\")\n",
    "\n",
    "\n",
    "\n",
    "        # except Exception:\n",
    "        #     #print(Exception)\n",
    "        #     oom+=1\n",
    "    tbar=tqdm(val_loader)\n",
    "    model.eval()\n",
    "    val_preds=[]\n",
    "    val_loss=0\n",
    "    for idx, batch in enumerate(tbar):\n",
    "        sequence=batch['sequence'].cuda()\n",
    "        gt_xyz=batch['xyz'].cuda().squeeze()\n",
    "\n",
    "        with torch.no_grad():\n",
    "            pred_xyz=model(sequence).squeeze()\n",
    "            loss=dRMAE(pred_xyz,pred_xyz,gt_xyz,gt_xyz)\n",
    "            \n",
    "        val_loss+=loss.item()\n",
    "        val_preds.append([gt_xyz.cpu().numpy(),pred_xyz.cpu().numpy()])\n",
    "    val_loss=val_loss/len(tbar)\n",
    "    print(f\"val loss: {val_loss}\")\n",
    "    \n",
    "    \n",
    "    \n",
    "    if val_loss<best_val_loss:\n",
    "        best_val_loss=val_loss\n",
    "        best_preds=val_preds\n",
    "        torch.save(model.state_dict(),'RibonanzaNet-3D.pt')\n",
    "\n",
    "    # 1.053595052265986 train loss after epoch 0\n",
    "torch.save(model.state_dict(),'RibonanzaNet-3D-final.pt')"
   ]
  }
 ],
 "metadata": {
  "kaggle": {
   "accelerator": "gpu",
   "dataSources": [
    {
     "databundleVersionId": 11228175,
     "sourceId": 87793,
     "sourceType": "competition"
    },
    {
     "datasetId": 4299272,
     "sourceId": 7639698,
     "sourceType": "datasetVersion"
    },
    {
     "datasetId": 4459124,
     "sourceId": 8318191,
     "sourceType": "datasetVersion"
    }
   ],
   "dockerImageVersionId": 30919,
   "isGpuEnabled": true,
   "isInternetEnabled": true,
   "language": "python",
   "sourceType": "notebook"
  },
  "kernelspec": {
   "display_name": "Python 3",
   "language": "python",
   "name": "python3"
  },
  "language_info": {
   "codemirror_mode": {
    "name": "ipython",
    "version": 3
   },
   "file_extension": ".py",
   "mimetype": "text/x-python",
   "name": "python",
   "nbconvert_exporter": "python",
   "pygments_lexer": "ipython3",
   "version": "3.10.12"
  },
  "papermill": {
   "default_parameters": {},
   "duration": 5886.100165,
   "end_time": "2025-03-09T18:23:26.258151",
   "environment_variables": {},
   "exception": null,
   "input_path": "__notebook__.ipynb",
   "output_path": "__notebook__.ipynb",
   "parameters": {},
   "start_time": "2025-03-09T16:45:20.157986",
   "version": "2.6.0"
  }
 },
 "nbformat": 4,
 "nbformat_minor": 5
}
