{
 "cells": [
  {
   "cell_type": "code",
   "execution_count": 1,
   "id": "31249507",
   "metadata": {
    "ExecuteTime": {
     "end_time": "2025-07-26T09:28:54.906468Z",
     "start_time": "2025-07-26T09:28:53.641327Z"
    },
    "execution": {
     "iopub.execute_input": "2025-08-08T06:26:37.760866Z",
     "iopub.status.busy": "2025-08-08T06:26:37.760541Z",
     "iopub.status.idle": "2025-08-08T06:26:39.828131Z",
     "shell.execute_reply": "2025-08-08T06:26:39.827006Z"
    },
    "executionInfo": {
     "elapsed": 27720,
     "status": "ok",
     "timestamp": 1753174816937,
     "user": {
      "displayName": "Oleg Gromov",
      "userId": "07635263745469876950"
     },
     "user_tz": -180
    },
    "id": "DKcYr6bO_OZZ",
    "papermill": {
     "duration": 2.073341,
     "end_time": "2025-08-08T06:26:39.830017",
     "exception": false,
     "start_time": "2025-08-08T06:26:37.756676",
     "status": "completed"
    },
    "tags": []
   },
   "outputs": [],
   "source": [
    "import numpy as np\n",
    "import pandas as pd\n",
    "\n",
    "from pathlib import Path"
   ]
  },
  {
   "cell_type": "code",
   "execution_count": 2,
   "id": "bc04a962",
   "metadata": {
    "ExecuteTime": {
     "end_time": "2025-07-26T09:28:57.633757Z",
     "start_time": "2025-07-26T09:28:57.584747Z"
    },
    "execution": {
     "iopub.execute_input": "2025-08-08T06:26:39.836452Z",
     "iopub.status.busy": "2025-08-08T06:26:39.835997Z",
     "iopub.status.idle": "2025-08-08T06:26:39.894102Z",
     "shell.execute_reply": "2025-08-08T06:26:39.892971Z"
    },
    "executionInfo": {
     "elapsed": 32990,
     "status": "ok",
     "timestamp": 1753174850012,
     "user": {
      "displayName": "Oleg Gromov",
      "userId": "07635263745469876950"
     },
     "user_tz": -180
    },
    "id": "Dz5_U-5TG617",
    "papermill": {
     "duration": 0.063378,
     "end_time": "2025-08-08T06:26:39.896197",
     "exception": false,
     "start_time": "2025-08-08T06:26:39.832819",
     "status": "completed"
    },
    "tags": []
   },
   "outputs": [],
   "source": [
    "################################################################################\n",
    "# Load data\n",
    "################################################################################\n",
    "data_path = '/kaggle/input/neurips-open-polymer-prediction-2025/'\n",
    "train_df = pd.read_csv(Path(data_path, 'train.csv'))\n",
    "test_df = pd.read_csv(Path(data_path, 'test.csv'), dtype=str)"
   ]
  },
  {
   "cell_type": "code",
   "execution_count": 3,
   "id": "9b1819da",
   "metadata": {
    "ExecuteTime": {
     "end_time": "2025-07-26T09:57:52.428704Z",
     "start_time": "2025-07-26T09:57:52.405346Z"
    },
    "execution": {
     "iopub.execute_input": "2025-08-08T06:26:39.902204Z",
     "iopub.status.busy": "2025-08-08T06:26:39.901853Z",
     "iopub.status.idle": "2025-08-08T06:26:39.934360Z",
     "shell.execute_reply": "2025-08-08T06:26:39.933357Z"
    },
    "executionInfo": {
     "elapsed": 84741,
     "status": "ok",
     "timestamp": 1753174934761,
     "user": {
      "displayName": "Oleg Gromov",
      "userId": "07635263745469876950"
     },
     "user_tz": -180
    },
    "id": "jaU8vgj-HOWD",
    "outputId": "561460b0-a479-4e54-df10-8a62764e4e12",
    "papermill": {
     "duration": 0.037556,
     "end_time": "2025-08-08T06:26:39.936005",
     "exception": false,
     "start_time": "2025-08-08T06:26:39.898449",
     "status": "completed"
    },
    "tags": []
   },
   "outputs": [],
   "source": [
    "################################################################################\n",
    "# Process data\n",
    "################################################################################\n",
    "tasks = ['Tg', 'FFV', 'Tc', 'Density', 'Rg']\n",
    "train_data = {task: train_df[~train_df[task].isna()][task].describe().to_dict() for task in tasks}"
   ]
  },
  {
   "cell_type": "code",
   "execution_count": 4,
   "id": "1d10fb1c",
   "metadata": {
    "execution": {
     "iopub.execute_input": "2025-08-08T06:26:39.941727Z",
     "iopub.status.busy": "2025-08-08T06:26:39.941361Z",
     "iopub.status.idle": "2025-08-08T06:26:39.958601Z",
     "shell.execute_reply": "2025-08-08T06:26:39.957653Z"
    },
    "papermill": {
     "duration": 0.02232,
     "end_time": "2025-08-08T06:26:39.960592",
     "exception": false,
     "start_time": "2025-08-08T06:26:39.938272",
     "status": "completed"
    },
    "tags": []
   },
   "outputs": [],
   "source": [
    "################################################################################\n",
    "# Make random predictions\n",
    "################################################################################\n",
    "for task in tasks:\n",
    "    test_df[task] = np.random.randn(len(test_df)) * train_data[task]['std'] + train_data[task]['mean']\n",
    "test_df[['id'] + tasks].to_csv('submission.csv', index=False)"
   ]
  },
  {
   "cell_type": "code",
   "execution_count": null,
   "id": "6fc779b2",
   "metadata": {
    "papermill": {
     "duration": 0.001838,
     "end_time": "2025-08-08T06:26:39.964614",
     "exception": false,
     "start_time": "2025-08-08T06:26:39.962776",
     "status": "completed"
    },
    "tags": []
   },
   "outputs": [],
   "source": []
  }
 ],
 "metadata": {
  "accelerator": "GPU",
  "colab": {
   "authorship_tag": "ABX9TyP1uewdqQ4Q6thHOHu6usrs",
   "gpuType": "T4",
   "provenance": [
    {
     "file_id": "1RSzjS4Vhv8DmpNBp1qmYNjC3YAZ2pqJW",
     "timestamp": 1753176605011
    }
   ]
  },
  "kaggle": {
   "accelerator": "none",
   "dataSources": [
    {
     "databundleVersionId": 12966160,
     "sourceId": 74608,
     "sourceType": "competition"
    }
   ],
   "dockerImageVersionId": 31089,
   "isGpuEnabled": false,
   "isInternetEnabled": false,
   "language": "python",
   "sourceType": "notebook"
  },
  "kernelspec": {
   "display_name": "Python 3",
   "language": "python",
   "name": "python3"
  },
  "language_info": {
   "codemirror_mode": {
    "name": "ipython",
    "version": 3
   },
   "file_extension": ".py",
   "mimetype": "text/x-python",
   "name": "python",
   "nbconvert_exporter": "python",
   "pygments_lexer": "ipython3",
   "version": "3.11.13"
  },
  "papermill": {
   "default_parameters": {},
   "duration": 7.878953,
   "end_time": "2025-08-08T06:26:40.487195",
   "environment_variables": {},
   "exception": null,
   "input_path": "__notebook__.ipynb",
   "output_path": "__notebook__.ipynb",
   "parameters": {},
   "start_time": "2025-08-08T06:26:32.608242",
   "version": "2.6.0"
  }
 },
 "nbformat": 4,
 "nbformat_minor": 5
}
