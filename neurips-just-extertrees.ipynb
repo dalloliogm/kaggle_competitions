{
 "cells": [
  {
   "cell_type": "markdown",
   "id": "0969d603",
   "metadata": {
    "papermill": {
     "duration": 0.005328,
     "end_time": "2025-09-06T07:15:04.521642",
     "exception": false,
     "start_time": "2025-09-06T07:15:04.516314",
     "status": "completed"
    },
    "tags": []
   },
   "source": [
    "# Import Dependencies "
   ]
  },
  {
   "cell_type": "code",
   "execution_count": 1,
   "id": "f04bffbe",
   "metadata": {
    "execution": {
     "iopub.execute_input": "2025-09-06T07:15:04.533103Z",
     "iopub.status.busy": "2025-09-06T07:15:04.532708Z",
     "iopub.status.idle": "2025-09-06T07:15:12.949045Z",
     "shell.execute_reply": "2025-09-06T07:15:12.947812Z"
    },
    "papermill": {
     "duration": 8.424942,
     "end_time": "2025-09-06T07:15:12.951464",
     "exception": false,
     "start_time": "2025-09-06T07:15:04.526522",
     "status": "completed"
    },
    "tags": []
   },
   "outputs": [
    {
     "name": "stdout",
     "output_type": "stream",
     "text": [
      "Processing /kaggle/input/rdkit-2025-3-3-cp311/rdkit-2025.3.3-cp311-cp311-manylinux_2_28_x86_64.whl\r\n",
      "Requirement already satisfied: numpy in /usr/local/lib/python3.11/dist-packages (from rdkit==2025.3.3) (1.26.4)\r\n",
      "Requirement already satisfied: Pillow in /usr/local/lib/python3.11/dist-packages (from rdkit==2025.3.3) (11.2.1)\r\n",
      "Requirement already satisfied: mkl_fft in /usr/local/lib/python3.11/dist-packages (from numpy->rdkit==2025.3.3) (1.3.8)\r\n",
      "Requirement already satisfied: mkl_random in /usr/local/lib/python3.11/dist-packages (from numpy->rdkit==2025.3.3) (1.2.4)\r\n",
      "Requirement already satisfied: mkl_umath in /usr/local/lib/python3.11/dist-packages (from numpy->rdkit==2025.3.3) (0.1.1)\r\n",
      "Requirement already satisfied: mkl in /usr/local/lib/python3.11/dist-packages (from numpy->rdkit==2025.3.3) (2025.2.0)\r\n",
      "Requirement already satisfied: tbb4py in /usr/local/lib/python3.11/dist-packages (from numpy->rdkit==2025.3.3) (2022.2.0)\r\n",
      "Requirement already satisfied: mkl-service in /usr/local/lib/python3.11/dist-packages (from numpy->rdkit==2025.3.3) (2.4.1)\r\n",
      "Requirement already satisfied: intel-openmp<2026,>=2024 in /usr/local/lib/python3.11/dist-packages (from mkl->numpy->rdkit==2025.3.3) (2024.2.0)\r\n",
      "Requirement already satisfied: tbb==2022.* in /usr/local/lib/python3.11/dist-packages (from mkl->numpy->rdkit==2025.3.3) (2022.2.0)\r\n",
      "Requirement already satisfied: tcmlib==1.* in /usr/local/lib/python3.11/dist-packages (from tbb==2022.*->mkl->numpy->rdkit==2025.3.3) (1.4.0)\r\n",
      "Requirement already satisfied: intel-cmplr-lib-rt in /usr/local/lib/python3.11/dist-packages (from mkl_umath->numpy->rdkit==2025.3.3) (2024.2.0)\r\n",
      "Requirement already satisfied: intel-cmplr-lib-ur==2024.2.0 in /usr/local/lib/python3.11/dist-packages (from intel-openmp<2026,>=2024->mkl->numpy->rdkit==2025.3.3) (2024.2.0)\r\n",
      "Installing collected packages: rdkit\r\n",
      "Successfully installed rdkit-2025.3.3\r\n"
     ]
    }
   ],
   "source": [
    "!pip install /kaggle/input/rdkit-2025-3-3-cp311/rdkit-2025.3.3-cp311-cp311-manylinux_2_28_x86_64.whl"
   ]
  },
  {
   "cell_type": "code",
   "execution_count": 2,
   "id": "c3f0a385",
   "metadata": {
    "execution": {
     "iopub.execute_input": "2025-09-06T07:15:12.963072Z",
     "iopub.status.busy": "2025-09-06T07:15:12.962667Z",
     "iopub.status.idle": "2025-09-06T07:15:19.255562Z",
     "shell.execute_reply": "2025-09-06T07:15:19.254382Z"
    },
    "papermill": {
     "duration": 6.301167,
     "end_time": "2025-09-06T07:15:19.257639",
     "exception": false,
     "start_time": "2025-09-06T07:15:12.956472",
     "status": "completed"
    },
    "tags": []
   },
   "outputs": [],
   "source": [
    " # Importing Required Libraries\\nLet's begin by importing the essential Python libraries needed for data processing, visualization, and modeling.\n",
    "\n",
    "import pandas as pd\n",
    "import numpy as np\n",
    "from sklearn.ensemble import ExtraTreesRegressor\n",
    "from sklearn.model_selection import train_test_split,KFold\n",
    "from sklearn.metrics import mean_absolute_error\n",
    "\n",
    "\n",
    "import networkx as nx\n",
    "from rdkit.Chem import AllChem\n",
    "from rdkit.Chem import Descriptors\n",
    "from rdkit.Chem import rdmolops\n",
    "from rdkit import Chem\n",
    "\n",
    "import warnings\n",
    "warnings.filterwarnings(\"ignore\")\n",
    "pd.set_option('display.max_columns', None)"
   ]
  },
  {
   "cell_type": "code",
   "execution_count": 3,
   "id": "ad1f3904",
   "metadata": {
    "execution": {
     "iopub.execute_input": "2025-09-06T07:15:19.270406Z",
     "iopub.status.busy": "2025-09-06T07:15:19.269648Z",
     "iopub.status.idle": "2025-09-06T07:15:19.277345Z",
     "shell.execute_reply": "2025-09-06T07:15:19.276375Z"
    },
    "papermill": {
     "duration": 0.016481,
     "end_time": "2025-09-06T07:15:19.279114",
     "exception": false,
     "start_time": "2025-09-06T07:15:19.262633",
     "status": "completed"
    },
    "tags": []
   },
   "outputs": [],
   "source": [
    "useless_cols = [   \n",
    "    \n",
    "    'MaxPartialCharge', \n",
    "    # Nan data\n",
    "    'BCUT2D_MWHI',\n",
    "    'BCUT2D_MWLOW',\n",
    "    'BCUT2D_CHGHI',\n",
    "    'BCUT2D_CHGLO',\n",
    "    'BCUT2D_LOGPHI',\n",
    "    'BCUT2D_LOGPLOW',\n",
    "    'BCUT2D_MRHI',\n",
    "    'BCUT2D_MRLOW',\n",
    "\n",
    "    # Constant data\n",
    "    'NumRadicalElectrons',\n",
    "    'SMR_VSA8',\n",
    "    'SlogP_VSA9',\n",
    "    'fr_barbitur',\n",
    "    'fr_benzodiazepine',\n",
    "    'fr_dihydropyridine',\n",
    "    'fr_epoxide',\n",
    "    'fr_isothiocyan',\n",
    "    'fr_lactam',\n",
    "    'fr_nitroso',\n",
    "    'fr_prisulfonamd',\n",
    "    'fr_thiocyan',\n",
    "\n",
    "    # High correlated data >0.95\n",
    "    'MaxEStateIndex',\n",
    "    'HeavyAtomMolWt',\n",
    "    'ExactMolWt',\n",
    "    'NumValenceElectrons',\n",
    "    'Chi0',\n",
    "    'Chi0n',\n",
    "    'Chi0v',\n",
    "    'Chi1',\n",
    "    'Chi1n',\n",
    "    'Chi1v',\n",
    "    'Chi2n',\n",
    "    'Kappa1',\n",
    "    'LabuteASA',\n",
    "    'HeavyAtomCount',\n",
    "    'MolMR',\n",
    "    'Chi3n',\n",
    "    'BertzCT',\n",
    "    'Chi2v',\n",
    "    'Chi4n',\n",
    "    'HallKierAlpha',\n",
    "    'Chi3v',\n",
    "    'Chi4v',\n",
    "    'MinAbsPartialCharge',\n",
    "    'MinPartialCharge',\n",
    "    'MaxAbsPartialCharge',\n",
    "    'FpDensityMorgan2',\n",
    "    'FpDensityMorgan3',\n",
    "    'Phi',\n",
    "    'Kappa3',\n",
    "    'fr_nitrile',\n",
    "    'SlogP_VSA6',\n",
    "    'NumAromaticCarbocycles',\n",
    "    'NumAromaticRings',\n",
    "    'fr_benzene',\n",
    "    'VSA_EState6',\n",
    "    'NOCount',\n",
    "    'fr_C_O',\n",
    "    'fr_C_O_noCOO',\n",
    "    'NumHDonors',\n",
    "    'fr_amide',\n",
    "    'fr_Nhpyrrole',\n",
    "    'fr_phenol',\n",
    "    'fr_phenol_noOrthoHbond',\n",
    "    'fr_COO2',\n",
    "    'fr_halogen',\n",
    "    'fr_diazo',\n",
    "    'fr_nitro_arom',\n",
    "    'fr_phos_ester'\n",
    "]\n"
   ]
  },
  {
   "cell_type": "markdown",
   "id": "533edb92",
   "metadata": {
    "papermill": {
     "duration": 0.005139,
     "end_time": "2025-09-06T07:15:19.290321",
     "exception": false,
     "start_time": "2025-09-06T07:15:19.285182",
     "status": "completed"
    },
    "tags": []
   },
   "source": [
    "# Read Files"
   ]
  },
  {
   "cell_type": "code",
   "execution_count": 4,
   "id": "95212910",
   "metadata": {
    "execution": {
     "iopub.execute_input": "2025-09-06T07:15:19.302611Z",
     "iopub.status.busy": "2025-09-06T07:15:19.302136Z",
     "iopub.status.idle": "2025-09-06T07:15:19.875048Z",
     "shell.execute_reply": "2025-09-06T07:15:19.874138Z"
    },
    "papermill": {
     "duration": 0.581269,
     "end_time": "2025-09-06T07:15:19.876901",
     "exception": false,
     "start_time": "2025-09-06T07:15:19.295632",
     "status": "completed"
    },
    "tags": []
   },
   "outputs": [],
   "source": [
    "tg=pd.read_csv('/kaggle/input/neurips-dataset/tg.csv')\n",
    "rg=pd.read_csv('/kaggle/input/neurips-dataset/rg.csv')\n",
    "tc=pd.read_csv('/kaggle/input/neurips-dataset/tc.csv')\n",
    "ffv=pd.read_csv('/kaggle/input/neurips-dataset/ffv.csv')\n",
    "density=pd.read_csv('/kaggle/input/neurips-dataset/density.csv')\n",
    "test=pd.read_csv('/kaggle/input/neurips-open-polymer-prediction-2025/test.csv')\n",
    "ID=test['id'].copy()"
   ]
  },
  {
   "cell_type": "markdown",
   "id": "75dd0422",
   "metadata": {
    "papermill": {
     "duration": 0.004382,
     "end_time": "2025-09-06T07:15:19.886027",
     "exception": false,
     "start_time": "2025-09-06T07:15:19.881645",
     "status": "completed"
    },
    "tags": []
   },
   "source": [
    "# Preprocessing "
   ]
  },
  {
   "cell_type": "code",
   "execution_count": 5,
   "id": "fad018e3",
   "metadata": {
    "execution": {
     "iopub.execute_input": "2025-09-06T07:15:19.897963Z",
     "iopub.status.busy": "2025-09-06T07:15:19.897619Z",
     "iopub.status.idle": "2025-09-06T07:15:19.908388Z",
     "shell.execute_reply": "2025-09-06T07:15:19.907269Z"
    },
    "papermill": {
     "duration": 0.018628,
     "end_time": "2025-09-06T07:15:19.910213",
     "exception": false,
     "start_time": "2025-09-06T07:15:19.891585",
     "status": "completed"
    },
    "tags": []
   },
   "outputs": [],
   "source": [
    "def make_smile_canonical(smile): # To avoid duplicates, for example: canonical '*C=C(*)C' == '*C(=C*)C'\n",
    "    try:\n",
    "        mol = Chem.MolFromSmiles(smile)\n",
    "        canon_smile = Chem.MolToSmiles(mol, canonical=True)\n",
    "        return canon_smile\n",
    "    except:\n",
    "        return np.nan\n",
    "test['SMILES'] = test['SMILES'].apply(lambda s: make_smile_canonical(s))"
   ]
  },
  {
   "cell_type": "code",
   "execution_count": 6,
   "id": "a3e29820",
   "metadata": {
    "execution": {
     "iopub.execute_input": "2025-09-06T07:15:19.921528Z",
     "iopub.status.busy": "2025-09-06T07:15:19.921171Z",
     "iopub.status.idle": "2025-09-06T07:15:19.928242Z",
     "shell.execute_reply": "2025-09-06T07:15:19.927220Z"
    },
    "papermill": {
     "duration": 0.015053,
     "end_time": "2025-09-06T07:15:19.929919",
     "exception": false,
     "start_time": "2025-09-06T07:15:19.914866",
     "status": "completed"
    },
    "tags": []
   },
   "outputs": [],
   "source": [
    "def preprocessing(df):\n",
    "    desc_names = [desc[0] for desc in Descriptors.descList if desc[0] not in useless_cols]\n",
    "    descriptors = [compute_all_descriptors(smi) for smi in df['SMILES'].to_list()]\n",
    "\n",
    "    graph_feats = {'graph_diameter': [], 'avg_shortest_path': [], 'num_cycles': []}\n",
    "    for smile in df['SMILES']:\n",
    "         compute_graph_features(smile, graph_feats)\n",
    "        \n",
    "    result = pd.concat(\n",
    "        [\n",
    "            pd.DataFrame(descriptors, columns=desc_names),\n",
    "            pd.DataFrame(graph_feats)\n",
    "        ],\n",
    "        axis=1\n",
    "    )\n",
    "\n",
    "    result = result.replace([-np.inf, np.inf], np.nan)\n",
    "    return result"
   ]
  },
  {
   "cell_type": "markdown",
   "id": "22ad5535",
   "metadata": {
    "papermill": {
     "duration": 0.004609,
     "end_time": "2025-09-06T07:15:19.939539",
     "exception": false,
     "start_time": "2025-09-06T07:15:19.934930",
     "status": "completed"
    },
    "tags": []
   },
   "source": [
    "# Feature Extraction "
   ]
  },
  {
   "cell_type": "code",
   "execution_count": 7,
   "id": "13f7e087",
   "metadata": {
    "execution": {
     "iopub.execute_input": "2025-09-06T07:15:19.950128Z",
     "iopub.status.busy": "2025-09-06T07:15:19.949777Z",
     "iopub.status.idle": "2025-09-06T07:15:20.055637Z",
     "shell.execute_reply": "2025-09-06T07:15:20.054605Z"
    },
    "papermill": {
     "duration": 0.113611,
     "end_time": "2025-09-06T07:15:20.057693",
     "exception": false,
     "start_time": "2025-09-06T07:15:19.944082",
     "status": "completed"
    },
    "tags": []
   },
   "outputs": [],
   "source": [
    "def compute_all_descriptors(smiles):\n",
    "    mol = Chem.MolFromSmiles(smiles)\n",
    "    if mol is None:\n",
    "        return [None] * len(desc_names)\n",
    "    return [desc[1](mol) for desc in Descriptors.descList if desc[0] not in useless_cols]\n",
    "\n",
    "def compute_graph_features(smiles, graph_feats):\n",
    "    mol = Chem.MolFromSmiles(smiles)\n",
    "    adj = rdmolops.GetAdjacencyMatrix(mol)\n",
    "    G = nx.from_numpy_array(adj)\n",
    "\n",
    "    graph_feats['graph_diameter'].append(nx.diameter(G) if nx.is_connected(G) else 0)\n",
    "    graph_feats['avg_shortest_path'].append(nx.average_shortest_path_length(G) if nx.is_connected(G) else 0)\n",
    "    graph_feats['num_cycles'].append(len(list(nx.cycle_basis(G))))\n",
    "\n",
    "test = pd.concat([test, preprocessing(test)], axis=1)\n",
    "test['Ipc']=np.log10(test['Ipc'])\n",
    "\n",
    "test=test.drop(['id','SMILES'],axis=1)"
   ]
  },
  {
   "cell_type": "markdown",
   "id": "58f7d6ce",
   "metadata": {
    "papermill": {
     "duration": 0.005421,
     "end_time": "2025-09-06T07:15:20.067909",
     "exception": false,
     "start_time": "2025-09-06T07:15:20.062488",
     "status": "completed"
    },
    "tags": []
   },
   "source": [
    "# Model "
   ]
  },
  {
   "cell_type": "code",
   "execution_count": 8,
   "id": "75eda858",
   "metadata": {
    "execution": {
     "iopub.execute_input": "2025-09-06T07:15:20.079563Z",
     "iopub.status.busy": "2025-09-06T07:15:20.079254Z",
     "iopub.status.idle": "2025-09-06T07:15:20.086128Z",
     "shell.execute_reply": "2025-09-06T07:15:20.085172Z"
    },
    "papermill": {
     "duration": 0.015153,
     "end_time": "2025-09-06T07:15:20.088479",
     "exception": false,
     "start_time": "2025-09-06T07:15:20.073326",
     "status": "completed"
    },
    "tags": []
   },
   "outputs": [],
   "source": [
    "def model(train_d,test_d,model,target,submission=False):\n",
    "    # We divide the data into training and validation sets for model evaluation\n",
    "    X=train_d.drop(target,axis=1)\n",
    "    y=train_d[target].copy()\n",
    "    X_train,X_test,y_train,y_test=train_test_split(X,y,test_size=0.2,random_state=10)\n",
    "\n",
    "    Model=model(random_state=21)\n",
    "    if submission==False:\n",
    "       Model.fit(X_train,y_train)\n",
    "       y_pred=Model.predict(X_test)\n",
    "       return mean_absolute_error(y_pred,y_test)         # We assess our model performance using MAE metric\n",
    "    if submission==True:\n",
    "       Model.fit(X,y)\n",
    "       submission=Model.predict(test_d)\n",
    "       return submission"
   ]
  },
  {
   "cell_type": "markdown",
   "id": "6ac3aa52",
   "metadata": {
    "papermill": {
     "duration": 0.005052,
     "end_time": "2025-09-06T07:15:20.099571",
     "exception": false,
     "start_time": "2025-09-06T07:15:20.094519",
     "status": "completed"
    },
    "tags": []
   },
   "source": [
    "# Model Evaluation"
   ]
  },
  {
   "cell_type": "code",
   "execution_count": 9,
   "id": "e7609d4c",
   "metadata": {
    "execution": {
     "iopub.execute_input": "2025-09-06T07:15:20.113531Z",
     "iopub.status.busy": "2025-09-06T07:15:20.113173Z",
     "iopub.status.idle": "2025-09-06T07:15:21.912840Z",
     "shell.execute_reply": "2025-09-06T07:15:21.911848Z"
    },
    "papermill": {
     "duration": 1.808041,
     "end_time": "2025-09-06T07:15:21.914333",
     "exception": false,
     "start_time": "2025-09-06T07:15:20.106292",
     "status": "completed"
    },
    "tags": []
   },
   "outputs": [
    {
     "data": {
      "text/plain": [
       "35.43694238054733"
      ]
     },
     "execution_count": 9,
     "metadata": {},
     "output_type": "execute_result"
    }
   ],
   "source": [
    "model(tg,test,ExtraTreesRegressor,'Tg',submission=False)"
   ]
  },
  {
   "cell_type": "code",
   "execution_count": null,
   "id": "7644a7a4",
   "metadata": {
    "papermill": {
     "duration": 0.004512,
     "end_time": "2025-09-06T07:15:21.923618",
     "exception": false,
     "start_time": "2025-09-06T07:15:21.919106",
     "status": "completed"
    },
    "tags": []
   },
   "outputs": [],
   "source": []
  },
  {
   "cell_type": "code",
   "execution_count": null,
   "id": "c61d5249",
   "metadata": {
    "papermill": {
     "duration": 0.004419,
     "end_time": "2025-09-06T07:15:21.932662",
     "exception": false,
     "start_time": "2025-09-06T07:15:21.928243",
     "status": "completed"
    },
    "tags": []
   },
   "outputs": [],
   "source": []
  },
  {
   "cell_type": "code",
   "execution_count": 10,
   "id": "5bc944bc",
   "metadata": {
    "execution": {
     "iopub.execute_input": "2025-09-06T07:15:21.943865Z",
     "iopub.status.busy": "2025-09-06T07:15:21.942953Z",
     "iopub.status.idle": "2025-09-06T07:15:35.671637Z",
     "shell.execute_reply": "2025-09-06T07:15:35.670540Z"
    },
    "papermill": {
     "duration": 13.73601,
     "end_time": "2025-09-06T07:15:35.673379",
     "exception": false,
     "start_time": "2025-09-06T07:15:21.937369",
     "status": "completed"
    },
    "tags": []
   },
   "outputs": [
    {
     "data": {
      "text/plain": [
       "0.006250396116244452"
      ]
     },
     "execution_count": 10,
     "metadata": {},
     "output_type": "execute_result"
    }
   ],
   "source": [
    "model(ffv,test,ExtraTreesRegressor,'FFV',submission=False)"
   ]
  },
  {
   "cell_type": "code",
   "execution_count": 11,
   "id": "c66aa8b1",
   "metadata": {
    "execution": {
     "iopub.execute_input": "2025-09-06T07:15:35.685041Z",
     "iopub.status.busy": "2025-09-06T07:15:35.684692Z",
     "iopub.status.idle": "2025-09-06T07:15:36.901310Z",
     "shell.execute_reply": "2025-09-06T07:15:36.900304Z"
    },
    "papermill": {
     "duration": 1.224606,
     "end_time": "2025-09-06T07:15:36.903088",
     "exception": false,
     "start_time": "2025-09-06T07:15:35.678482",
     "status": "completed"
    },
    "tags": []
   },
   "outputs": [
    {
     "data": {
      "text/plain": [
       "0.0365050994800219"
      ]
     },
     "execution_count": 11,
     "metadata": {},
     "output_type": "execute_result"
    }
   ],
   "source": [
    "model(tc,test,ExtraTreesRegressor,'Tc',submission=False)"
   ]
  },
  {
   "cell_type": "code",
   "execution_count": 12,
   "id": "dd8e1d10",
   "metadata": {
    "execution": {
     "iopub.execute_input": "2025-09-06T07:15:36.914507Z",
     "iopub.status.busy": "2025-09-06T07:15:36.914218Z",
     "iopub.status.idle": "2025-09-06T07:15:38.513640Z",
     "shell.execute_reply": "2025-09-06T07:15:38.512458Z"
    },
    "papermill": {
     "duration": 1.607083,
     "end_time": "2025-09-06T07:15:38.515452",
     "exception": false,
     "start_time": "2025-09-06T07:15:36.908369",
     "status": "completed"
    },
    "tags": []
   },
   "outputs": [
    {
     "data": {
      "text/plain": [
       "0.03927752591168"
      ]
     },
     "execution_count": 12,
     "metadata": {},
     "output_type": "execute_result"
    }
   ],
   "source": [
    "model(density,test,ExtraTreesRegressor,'Density',submission=False)"
   ]
  },
  {
   "cell_type": "code",
   "execution_count": 13,
   "id": "415f8b67",
   "metadata": {
    "execution": {
     "iopub.execute_input": "2025-09-06T07:15:38.526903Z",
     "iopub.status.busy": "2025-09-06T07:15:38.526591Z",
     "iopub.status.idle": "2025-09-06T07:15:39.381902Z",
     "shell.execute_reply": "2025-09-06T07:15:39.380728Z"
    },
    "papermill": {
     "duration": 0.862891,
     "end_time": "2025-09-06T07:15:39.383590",
     "exception": false,
     "start_time": "2025-09-06T07:15:38.520699",
     "status": "completed"
    },
    "tags": []
   },
   "outputs": [
    {
     "data": {
      "text/plain": [
       "1.7956305394524399"
      ]
     },
     "execution_count": 13,
     "metadata": {},
     "output_type": "execute_result"
    }
   ],
   "source": [
    "model(rg,test,ExtraTreesRegressor,'Rg',submission=False)"
   ]
  },
  {
   "cell_type": "markdown",
   "id": "c81d3b66",
   "metadata": {
    "papermill": {
     "duration": 0.004969,
     "end_time": "2025-09-06T07:15:39.394024",
     "exception": false,
     "start_time": "2025-09-06T07:15:39.389055",
     "status": "completed"
    },
    "tags": []
   },
   "source": [
    "# Final Model For Submission"
   ]
  },
  {
   "cell_type": "code",
   "execution_count": 14,
   "id": "fa592942",
   "metadata": {
    "execution": {
     "iopub.execute_input": "2025-09-06T07:15:39.407255Z",
     "iopub.status.busy": "2025-09-06T07:15:39.406810Z",
     "iopub.status.idle": "2025-09-06T07:16:03.113917Z",
     "shell.execute_reply": "2025-09-06T07:16:03.113062Z"
    },
    "papermill": {
     "duration": 23.716379,
     "end_time": "2025-09-06T07:16:03.115636",
     "exception": false,
     "start_time": "2025-09-06T07:15:39.399257",
     "status": "completed"
    },
    "tags": []
   },
   "outputs": [],
   "source": [
    " # Finally, we use the model to predict on the test set and prepare the submission file.\n",
    "\n",
    "sub={'id':ID,'Tg':model(tg,test,ExtraTreesRegressor,'Tg',submission=True),\n",
    "     'FFV':model(ffv,test,ExtraTreesRegressor,'FFV',submission=True),\n",
    "     'Tc':model(tc,test,ExtraTreesRegressor,'Tc',submission=True),\n",
    "     'Density':model(density,test,ExtraTreesRegressor,'Density',submission=True),\n",
    "     'Rg':model(rg,test,ExtraTreesRegressor,'Rg',submission=True)}"
   ]
  },
  {
   "cell_type": "code",
   "execution_count": 15,
   "id": "bcb5794e",
   "metadata": {
    "execution": {
     "iopub.execute_input": "2025-09-06T07:16:03.127834Z",
     "iopub.status.busy": "2025-09-06T07:16:03.127514Z",
     "iopub.status.idle": "2025-09-06T07:16:03.132721Z",
     "shell.execute_reply": "2025-09-06T07:16:03.131580Z"
    },
    "papermill": {
     "duration": 0.013826,
     "end_time": "2025-09-06T07:16:03.134624",
     "exception": false,
     "start_time": "2025-09-06T07:16:03.120798",
     "status": "completed"
    },
    "tags": []
   },
   "outputs": [],
   "source": [
    "submission=pd.DataFrame(sub)"
   ]
  },
  {
   "cell_type": "code",
   "execution_count": 16,
   "id": "880df707",
   "metadata": {
    "execution": {
     "iopub.execute_input": "2025-09-06T07:16:03.146120Z",
     "iopub.status.busy": "2025-09-06T07:16:03.145783Z",
     "iopub.status.idle": "2025-09-06T07:16:03.169150Z",
     "shell.execute_reply": "2025-09-06T07:16:03.167727Z"
    },
    "papermill": {
     "duration": 0.031052,
     "end_time": "2025-09-06T07:16:03.170781",
     "exception": false,
     "start_time": "2025-09-06T07:16:03.139729",
     "status": "completed"
    },
    "tags": []
   },
   "outputs": [
    {
     "data": {
      "text/html": [
       "<div>\n",
       "<style scoped>\n",
       "    .dataframe tbody tr th:only-of-type {\n",
       "        vertical-align: middle;\n",
       "    }\n",
       "\n",
       "    .dataframe tbody tr th {\n",
       "        vertical-align: top;\n",
       "    }\n",
       "\n",
       "    .dataframe thead th {\n",
       "        text-align: right;\n",
       "    }\n",
       "</style>\n",
       "<table border=\"1\" class=\"dataframe\">\n",
       "  <thead>\n",
       "    <tr style=\"text-align: right;\">\n",
       "      <th></th>\n",
       "      <th>id</th>\n",
       "      <th>Tg</th>\n",
       "      <th>FFV</th>\n",
       "      <th>Tc</th>\n",
       "      <th>Density</th>\n",
       "      <th>Rg</th>\n",
       "    </tr>\n",
       "  </thead>\n",
       "  <tbody>\n",
       "    <tr>\n",
       "      <th>0</th>\n",
       "      <td>1109053969</td>\n",
       "      <td>154.932301</td>\n",
       "      <td>0.372830</td>\n",
       "      <td>0.177900</td>\n",
       "      <td>1.158307</td>\n",
       "      <td>20.898423</td>\n",
       "    </tr>\n",
       "    <tr>\n",
       "      <th>1</th>\n",
       "      <td>1422188626</td>\n",
       "      <td>159.937932</td>\n",
       "      <td>0.374475</td>\n",
       "      <td>0.236425</td>\n",
       "      <td>1.112113</td>\n",
       "      <td>19.241269</td>\n",
       "    </tr>\n",
       "    <tr>\n",
       "      <th>2</th>\n",
       "      <td>2032016830</td>\n",
       "      <td>92.900359</td>\n",
       "      <td>0.350464</td>\n",
       "      <td>0.276060</td>\n",
       "      <td>1.098086</td>\n",
       "      <td>20.783312</td>\n",
       "    </tr>\n",
       "  </tbody>\n",
       "</table>\n",
       "</div>"
      ],
      "text/plain": [
       "           id          Tg       FFV        Tc   Density         Rg\n",
       "0  1109053969  154.932301  0.372830  0.177900  1.158307  20.898423\n",
       "1  1422188626  159.937932  0.374475  0.236425  1.112113  19.241269\n",
       "2  2032016830   92.900359  0.350464  0.276060  1.098086  20.783312"
      ]
     },
     "execution_count": 16,
     "metadata": {},
     "output_type": "execute_result"
    }
   ],
   "source": [
    "submission"
   ]
  },
  {
   "cell_type": "code",
   "execution_count": 17,
   "id": "a0a0554b",
   "metadata": {
    "execution": {
     "iopub.execute_input": "2025-09-06T07:16:03.182928Z",
     "iopub.status.busy": "2025-09-06T07:16:03.182583Z",
     "iopub.status.idle": "2025-09-06T07:16:03.193505Z",
     "shell.execute_reply": "2025-09-06T07:16:03.192440Z"
    },
    "papermill": {
     "duration": 0.019073,
     "end_time": "2025-09-06T07:16:03.195362",
     "exception": false,
     "start_time": "2025-09-06T07:16:03.176289",
     "status": "completed"
    },
    "tags": []
   },
   "outputs": [],
   "source": [
    "submission.to_csv('submission.csv',index=False)"
   ]
  }
 ],
 "metadata": {
  "kaggle": {
   "accelerator": "none",
   "dataSources": [
    {
     "databundleVersionId": 12966160,
     "sourceId": 74608,
     "sourceType": "competition"
    },
    {
     "datasetId": 7678100,
     "sourceId": 12189904,
     "sourceType": "datasetVersion"
    },
    {
     "datasetId": 7824094,
     "sourceId": 12406655,
     "sourceType": "datasetVersion"
    }
   ],
   "dockerImageVersionId": 31089,
   "isGpuEnabled": false,
   "isInternetEnabled": false,
   "language": "python",
   "sourceType": "notebook"
  },
  "kernelspec": {
   "display_name": "Python 3",
   "language": "python",
   "name": "python3"
  },
  "language_info": {
   "codemirror_mode": {
    "name": "ipython",
    "version": 3
   },
   "file_extension": ".py",
   "mimetype": "text/x-python",
   "name": "python",
   "nbconvert_exporter": "python",
   "pygments_lexer": "ipython3",
   "version": "3.11.13"
  },
  "papermill": {
   "default_parameters": {},
   "duration": 66.498471,
   "end_time": "2025-09-06T07:16:04.124666",
   "environment_variables": {},
   "exception": null,
   "input_path": "__notebook__.ipynb",
   "output_path": "__notebook__.ipynb",
   "parameters": {},
   "start_time": "2025-09-06T07:14:57.626195",
   "version": "2.6.0"
  }
 },
 "nbformat": 4,
 "nbformat_minor": 5
}
