{
 "cells": [
  {
   "cell_type": "markdown",
   "id": "ba111e8b",
   "metadata": {
    "papermill": {
     "duration": 0.00618,
     "end_time": "2025-09-07T10:19:38.976788",
     "exception": false,
     "start_time": "2025-09-07T10:19:38.970608",
     "status": "completed"
    },
    "tags": []
   },
   "source": [
    "# Import Dependencies "
   ]
  },
  {
   "cell_type": "code",
   "execution_count": 1,
   "id": "70a4e053",
   "metadata": {
    "execution": {
     "iopub.execute_input": "2025-09-07T10:19:38.987581Z",
     "iopub.status.busy": "2025-09-07T10:19:38.987254Z",
     "iopub.status.idle": "2025-09-07T10:19:46.035560Z",
     "shell.execute_reply": "2025-09-07T10:19:46.034522Z"
    },
    "papermill": {
     "duration": 7.055665,
     "end_time": "2025-09-07T10:19:46.037261",
     "exception": false,
     "start_time": "2025-09-07T10:19:38.981596",
     "status": "completed"
    },
    "tags": []
   },
   "outputs": [
    {
     "name": "stdout",
     "output_type": "stream",
     "text": [
      "Processing /kaggle/input/rdkit-2025-3-3-cp311/rdkit-2025.3.3-cp311-cp311-manylinux_2_28_x86_64.whl\r\n",
      "Requirement already satisfied: numpy in /usr/local/lib/python3.11/dist-packages (from rdkit==2025.3.3) (1.26.4)\r\n",
      "Requirement already satisfied: Pillow in /usr/local/lib/python3.11/dist-packages (from rdkit==2025.3.3) (11.2.1)\r\n",
      "Requirement already satisfied: mkl_fft in /usr/local/lib/python3.11/dist-packages (from numpy->rdkit==2025.3.3) (1.3.8)\r\n",
      "Requirement already satisfied: mkl_random in /usr/local/lib/python3.11/dist-packages (from numpy->rdkit==2025.3.3) (1.2.4)\r\n",
      "Requirement already satisfied: mkl_umath in /usr/local/lib/python3.11/dist-packages (from numpy->rdkit==2025.3.3) (0.1.1)\r\n",
      "Requirement already satisfied: mkl in /usr/local/lib/python3.11/dist-packages (from numpy->rdkit==2025.3.3) (2025.2.0)\r\n",
      "Requirement already satisfied: tbb4py in /usr/local/lib/python3.11/dist-packages (from numpy->rdkit==2025.3.3) (2022.2.0)\r\n",
      "Requirement already satisfied: mkl-service in /usr/local/lib/python3.11/dist-packages (from numpy->rdkit==2025.3.3) (2.4.1)\r\n",
      "Requirement already satisfied: intel-openmp<2026,>=2024 in /usr/local/lib/python3.11/dist-packages (from mkl->numpy->rdkit==2025.3.3) (2024.2.0)\r\n",
      "Requirement already satisfied: tbb==2022.* in /usr/local/lib/python3.11/dist-packages (from mkl->numpy->rdkit==2025.3.3) (2022.2.0)\r\n",
      "Requirement already satisfied: tcmlib==1.* in /usr/local/lib/python3.11/dist-packages (from tbb==2022.*->mkl->numpy->rdkit==2025.3.3) (1.4.0)\r\n",
      "Requirement already satisfied: intel-cmplr-lib-rt in /usr/local/lib/python3.11/dist-packages (from mkl_umath->numpy->rdkit==2025.3.3) (2024.2.0)\r\n",
      "Requirement already satisfied: intel-cmplr-lib-ur==2024.2.0 in /usr/local/lib/python3.11/dist-packages (from intel-openmp<2026,>=2024->mkl->numpy->rdkit==2025.3.3) (2024.2.0)\r\n",
      "Installing collected packages: rdkit\r\n",
      "Successfully installed rdkit-2025.3.3\r\n"
     ]
    }
   ],
   "source": [
    "!pip install /kaggle/input/rdkit-2025-3-3-cp311/rdkit-2025.3.3-cp311-cp311-manylinux_2_28_x86_64.whl"
   ]
  },
  {
   "cell_type": "code",
   "execution_count": 2,
   "id": "de3c13e9",
   "metadata": {
    "execution": {
     "iopub.execute_input": "2025-09-07T10:19:46.048989Z",
     "iopub.status.busy": "2025-09-07T10:19:46.048646Z",
     "iopub.status.idle": "2025-09-07T10:19:51.555257Z",
     "shell.execute_reply": "2025-09-07T10:19:51.554260Z"
    },
    "papermill": {
     "duration": 5.514592,
     "end_time": "2025-09-07T10:19:51.557012",
     "exception": false,
     "start_time": "2025-09-07T10:19:46.042420",
     "status": "completed"
    },
    "tags": []
   },
   "outputs": [],
   "source": [
    " # Importing Required Libraries\\nLet's begin by importing the essential Python libraries needed for data processing, visualization, and modeling.\n",
    "\n",
    "import pandas as pd\n",
    "import numpy as np\n",
    "from sklearn.ensemble import ExtraTreesRegressor, GradientBoostingRegressor\n",
    "from sklearn.model_selection import train_test_split,KFold\n",
    "from sklearn.metrics import mean_absolute_error\n",
    "\n",
    "\n",
    "import networkx as nx\n",
    "from rdkit.Chem import AllChem\n",
    "from rdkit.Chem import Descriptors\n",
    "from rdkit.Chem import rdmolops\n",
    "from rdkit import Chem\n",
    "\n",
    "import warnings\n",
    "warnings.filterwarnings(\"ignore\")\n",
    "pd.set_option('display.max_columns', None)"
   ]
  },
  {
   "cell_type": "code",
   "execution_count": 3,
   "id": "7e662d83",
   "metadata": {
    "execution": {
     "iopub.execute_input": "2025-09-07T10:19:51.569093Z",
     "iopub.status.busy": "2025-09-07T10:19:51.568465Z",
     "iopub.status.idle": "2025-09-07T10:19:51.575262Z",
     "shell.execute_reply": "2025-09-07T10:19:51.574371Z"
    },
    "papermill": {
     "duration": 0.014471,
     "end_time": "2025-09-07T10:19:51.576686",
     "exception": false,
     "start_time": "2025-09-07T10:19:51.562215",
     "status": "completed"
    },
    "tags": []
   },
   "outputs": [],
   "source": [
    "useless_cols = [   \n",
    "    \n",
    "    'MaxPartialCharge', \n",
    "    # Nan data\n",
    "    'BCUT2D_MWHI',\n",
    "    'BCUT2D_MWLOW',\n",
    "    'BCUT2D_CHGHI',\n",
    "    'BCUT2D_CHGLO',\n",
    "    'BCUT2D_LOGPHI',\n",
    "    'BCUT2D_LOGPLOW',\n",
    "    'BCUT2D_MRHI',\n",
    "    'BCUT2D_MRLOW',\n",
    "\n",
    "    # Constant data\n",
    "    'NumRadicalElectrons',\n",
    "    'SMR_VSA8',\n",
    "    'SlogP_VSA9',\n",
    "    'fr_barbitur',\n",
    "    'fr_benzodiazepine',\n",
    "    'fr_dihydropyridine',\n",
    "    'fr_epoxide',\n",
    "    'fr_isothiocyan',\n",
    "    'fr_lactam',\n",
    "    'fr_nitroso',\n",
    "    'fr_prisulfonamd',\n",
    "    'fr_thiocyan',\n",
    "\n",
    "    # High correlated data >0.95\n",
    "    'MaxEStateIndex',\n",
    "    'HeavyAtomMolWt',\n",
    "    'ExactMolWt',\n",
    "    'NumValenceElectrons',\n",
    "    'Chi0',\n",
    "    'Chi0n',\n",
    "    'Chi0v',\n",
    "    'Chi1',\n",
    "    'Chi1n',\n",
    "    'Chi1v',\n",
    "    'Chi2n',\n",
    "    'Kappa1',\n",
    "    'LabuteASA',\n",
    "    'HeavyAtomCount',\n",
    "    'MolMR',\n",
    "    'Chi3n',\n",
    "    'BertzCT',\n",
    "    'Chi2v',\n",
    "    'Chi4n',\n",
    "    'HallKierAlpha',\n",
    "    'Chi3v',\n",
    "    'Chi4v',\n",
    "    'MinAbsPartialCharge',\n",
    "    'MinPartialCharge',\n",
    "    'MaxAbsPartialCharge',\n",
    "    'FpDensityMorgan2',\n",
    "    'FpDensityMorgan3',\n",
    "    'Phi',\n",
    "    'Kappa3',\n",
    "    'fr_nitrile',\n",
    "    'SlogP_VSA6',\n",
    "    'NumAromaticCarbocycles',\n",
    "    'NumAromaticRings',\n",
    "    'fr_benzene',\n",
    "    'VSA_EState6',\n",
    "    'NOCount',\n",
    "    'fr_C_O',\n",
    "    'fr_C_O_noCOO',\n",
    "    'NumHDonors',\n",
    "    'fr_amide',\n",
    "    'fr_Nhpyrrole',\n",
    "    'fr_phenol',\n",
    "    'fr_phenol_noOrthoHbond',\n",
    "    'fr_COO2',\n",
    "    'fr_halogen',\n",
    "    'fr_diazo',\n",
    "    'fr_nitro_arom',\n",
    "    'fr_phos_ester'\n",
    "]\n"
   ]
  },
  {
   "cell_type": "markdown",
   "id": "d20f4013",
   "metadata": {
    "papermill": {
     "duration": 0.004839,
     "end_time": "2025-09-07T10:19:51.586441",
     "exception": false,
     "start_time": "2025-09-07T10:19:51.581602",
     "status": "completed"
    },
    "tags": []
   },
   "source": [
    "# Read Files"
   ]
  },
  {
   "cell_type": "code",
   "execution_count": 4,
   "id": "ace87972",
   "metadata": {
    "execution": {
     "iopub.execute_input": "2025-09-07T10:19:51.597259Z",
     "iopub.status.busy": "2025-09-07T10:19:51.596913Z",
     "iopub.status.idle": "2025-09-07T10:19:51.998983Z",
     "shell.execute_reply": "2025-09-07T10:19:51.998040Z"
    },
    "papermill": {
     "duration": 0.40947,
     "end_time": "2025-09-07T10:19:52.000750",
     "exception": false,
     "start_time": "2025-09-07T10:19:51.591280",
     "status": "completed"
    },
    "tags": []
   },
   "outputs": [],
   "source": [
    "tg=pd.read_csv('/kaggle/input/neurips-dataset/tg.csv')\n",
    "rg=pd.read_csv('/kaggle/input/neurips-dataset/rg.csv')\n",
    "tc=pd.read_csv('/kaggle/input/neurips-dataset/tc.csv')\n",
    "ffv=pd.read_csv('/kaggle/input/neurips-dataset/ffv.csv')\n",
    "density=pd.read_csv('/kaggle/input/neurips-dataset/density.csv')\n",
    "test=pd.read_csv('/kaggle/input/neurips-open-polymer-prediction-2025/test.csv')\n",
    "ID=test['id'].copy()"
   ]
  },
  {
   "cell_type": "markdown",
   "id": "3240fd80",
   "metadata": {
    "papermill": {
     "duration": 0.005203,
     "end_time": "2025-09-07T10:19:52.010769",
     "exception": false,
     "start_time": "2025-09-07T10:19:52.005566",
     "status": "completed"
    },
    "tags": []
   },
   "source": [
    "# Preprocessing "
   ]
  },
  {
   "cell_type": "code",
   "execution_count": 5,
   "id": "060938a5",
   "metadata": {
    "execution": {
     "iopub.execute_input": "2025-09-07T10:19:52.021582Z",
     "iopub.status.busy": "2025-09-07T10:19:52.021220Z",
     "iopub.status.idle": "2025-09-07T10:19:52.030197Z",
     "shell.execute_reply": "2025-09-07T10:19:52.029320Z"
    },
    "papermill": {
     "duration": 0.016141,
     "end_time": "2025-09-07T10:19:52.031614",
     "exception": false,
     "start_time": "2025-09-07T10:19:52.015473",
     "status": "completed"
    },
    "tags": []
   },
   "outputs": [],
   "source": [
    "def make_smile_canonical(smile): # To avoid duplicates, for example: canonical '*C=C(*)C' == '*C(=C*)C'\n",
    "    try:\n",
    "        mol = Chem.MolFromSmiles(smile)\n",
    "        canon_smile = Chem.MolToSmiles(mol, canonical=True)\n",
    "        return canon_smile\n",
    "    except:\n",
    "        return np.nan\n",
    "test['SMILES'] = test['SMILES'].apply(lambda s: make_smile_canonical(s))"
   ]
  },
  {
   "cell_type": "code",
   "execution_count": 6,
   "id": "48f0b416",
   "metadata": {
    "execution": {
     "iopub.execute_input": "2025-09-07T10:19:52.042841Z",
     "iopub.status.busy": "2025-09-07T10:19:52.041946Z",
     "iopub.status.idle": "2025-09-07T10:19:52.048495Z",
     "shell.execute_reply": "2025-09-07T10:19:52.047538Z"
    },
    "papermill": {
     "duration": 0.013493,
     "end_time": "2025-09-07T10:19:52.049955",
     "exception": false,
     "start_time": "2025-09-07T10:19:52.036462",
     "status": "completed"
    },
    "tags": []
   },
   "outputs": [],
   "source": [
    "def preprocessing(df):\n",
    "    desc_names = [desc[0] for desc in Descriptors.descList if desc[0] not in useless_cols]\n",
    "    descriptors = [compute_all_descriptors(smi) for smi in df['SMILES'].to_list()]\n",
    "\n",
    "    graph_feats = {'graph_diameter': [], 'avg_shortest_path': [], 'num_cycles': []}\n",
    "    for smile in df['SMILES']:\n",
    "         compute_graph_features(smile, graph_feats)\n",
    "        \n",
    "    result = pd.concat(\n",
    "        [\n",
    "            pd.DataFrame(descriptors, columns=desc_names),\n",
    "            pd.DataFrame(graph_feats)\n",
    "        ],\n",
    "        axis=1\n",
    "    )\n",
    "\n",
    "    result = result.replace([-np.inf, np.inf], np.nan)\n",
    "    return result"
   ]
  },
  {
   "cell_type": "markdown",
   "id": "6dadedce",
   "metadata": {
    "papermill": {
     "duration": 0.004917,
     "end_time": "2025-09-07T10:19:52.060182",
     "exception": false,
     "start_time": "2025-09-07T10:19:52.055265",
     "status": "completed"
    },
    "tags": []
   },
   "source": [
    "# Feature Extraction "
   ]
  },
  {
   "cell_type": "code",
   "execution_count": 7,
   "id": "34f8ea91",
   "metadata": {
    "execution": {
     "iopub.execute_input": "2025-09-07T10:19:52.071565Z",
     "iopub.status.busy": "2025-09-07T10:19:52.070722Z",
     "iopub.status.idle": "2025-09-07T10:19:52.176708Z",
     "shell.execute_reply": "2025-09-07T10:19:52.175935Z"
    },
    "papermill": {
     "duration": 0.11386,
     "end_time": "2025-09-07T10:19:52.178606",
     "exception": false,
     "start_time": "2025-09-07T10:19:52.064746",
     "status": "completed"
    },
    "tags": []
   },
   "outputs": [],
   "source": [
    "def compute_all_descriptors(smiles):\n",
    "    mol = Chem.MolFromSmiles(smiles)\n",
    "    if mol is None:\n",
    "        return [None] * len(desc_names)\n",
    "    return [desc[1](mol) for desc in Descriptors.descList if desc[0] not in useless_cols]\n",
    "\n",
    "def compute_graph_features(smiles, graph_feats):\n",
    "    mol = Chem.MolFromSmiles(smiles)\n",
    "    adj = rdmolops.GetAdjacencyMatrix(mol)\n",
    "    G = nx.from_numpy_array(adj)\n",
    "\n",
    "    graph_feats['graph_diameter'].append(nx.diameter(G) if nx.is_connected(G) else 0)\n",
    "    graph_feats['avg_shortest_path'].append(nx.average_shortest_path_length(G) if nx.is_connected(G) else 0)\n",
    "    graph_feats['num_cycles'].append(len(list(nx.cycle_basis(G))))\n",
    "\n",
    "test = pd.concat([test, preprocessing(test)], axis=1)\n",
    "test['Ipc']=np.log10(test['Ipc'])\n",
    "\n",
    "test=test.drop(['id','SMILES'],axis=1)"
   ]
  },
  {
   "cell_type": "markdown",
   "id": "1503e9db",
   "metadata": {
    "papermill": {
     "duration": 0.004257,
     "end_time": "2025-09-07T10:19:52.187853",
     "exception": false,
     "start_time": "2025-09-07T10:19:52.183596",
     "status": "completed"
    },
    "tags": []
   },
   "source": [
    "## Data Exploration after feature engineeting"
   ]
  },
  {
   "cell_type": "code",
   "execution_count": null,
   "id": "fa5a1876",
   "metadata": {
    "papermill": {
     "duration": 0.004569,
     "end_time": "2025-09-07T10:19:52.196905",
     "exception": false,
     "start_time": "2025-09-07T10:19:52.192336",
     "status": "completed"
    },
    "tags": []
   },
   "outputs": [],
   "source": []
  },
  {
   "cell_type": "markdown",
   "id": "34bacfda",
   "metadata": {
    "papermill": {
     "duration": 0.004208,
     "end_time": "2025-09-07T10:19:52.205723",
     "exception": false,
     "start_time": "2025-09-07T10:19:52.201515",
     "status": "completed"
    },
    "tags": []
   },
   "source": [
    "# Model "
   ]
  },
  {
   "cell_type": "code",
   "execution_count": 8,
   "id": "91da101f",
   "metadata": {
    "execution": {
     "iopub.execute_input": "2025-09-07T10:19:52.216073Z",
     "iopub.status.busy": "2025-09-07T10:19:52.215753Z",
     "iopub.status.idle": "2025-09-07T10:19:52.221814Z",
     "shell.execute_reply": "2025-09-07T10:19:52.220993Z"
    },
    "papermill": {
     "duration": 0.013027,
     "end_time": "2025-09-07T10:19:52.223272",
     "exception": false,
     "start_time": "2025-09-07T10:19:52.210245",
     "status": "completed"
    },
    "tags": []
   },
   "outputs": [],
   "source": [
    "def model(train_d,test_d,model,target,submission=False):\n",
    "    # We divide the data into training and validation sets for model evaluation\n",
    "    X=train_d.drop(target,axis=1)\n",
    "    y=train_d[target].copy()\n",
    "    X_train,X_test,y_train,y_test=train_test_split(X,y,test_size=0.2,random_state=10)\n",
    "\n",
    "    Model=model(random_state=21)\n",
    "    if submission==False:\n",
    "       Model.fit(X_train,y_train)\n",
    "       y_pred=Model.predict(X_test)\n",
    "       return mean_absolute_error(y_pred,y_test)         # We assess our model performance using MAE metric\n",
    "    if submission==True:\n",
    "       Model.fit(X,y)\n",
    "       submission=Model.predict(test_d)\n",
    "       return submission"
   ]
  },
  {
   "cell_type": "markdown",
   "id": "49bc4d8c",
   "metadata": {
    "papermill": {
     "duration": 0.004752,
     "end_time": "2025-09-07T10:19:52.233216",
     "exception": false,
     "start_time": "2025-09-07T10:19:52.228464",
     "status": "completed"
    },
    "tags": []
   },
   "source": [
    "# Model Evaluation"
   ]
  },
  {
   "cell_type": "code",
   "execution_count": 9,
   "id": "237fc819",
   "metadata": {
    "execution": {
     "iopub.execute_input": "2025-09-07T10:19:52.244669Z",
     "iopub.status.busy": "2025-09-07T10:19:52.243864Z",
     "iopub.status.idle": "2025-09-07T10:19:53.936827Z",
     "shell.execute_reply": "2025-09-07T10:19:53.936008Z"
    },
    "papermill": {
     "duration": 1.700529,
     "end_time": "2025-09-07T10:19:53.938567",
     "exception": false,
     "start_time": "2025-09-07T10:19:52.238038",
     "status": "completed"
    },
    "tags": []
   },
   "outputs": [
    {
     "data": {
      "text/plain": [
       "35.43694238054733"
      ]
     },
     "execution_count": 9,
     "metadata": {},
     "output_type": "execute_result"
    }
   ],
   "source": [
    "model(tg,test,ExtraTreesRegressor,'Tg',submission=False)"
   ]
  },
  {
   "cell_type": "code",
   "execution_count": null,
   "id": "96b7a539",
   "metadata": {
    "papermill": {
     "duration": 0.004612,
     "end_time": "2025-09-07T10:19:53.948275",
     "exception": false,
     "start_time": "2025-09-07T10:19:53.943663",
     "status": "completed"
    },
    "tags": []
   },
   "outputs": [],
   "source": []
  },
  {
   "cell_type": "code",
   "execution_count": null,
   "id": "9b613b75",
   "metadata": {
    "papermill": {
     "duration": 0.005033,
     "end_time": "2025-09-07T10:19:53.958075",
     "exception": false,
     "start_time": "2025-09-07T10:19:53.953042",
     "status": "completed"
    },
    "tags": []
   },
   "outputs": [],
   "source": []
  },
  {
   "cell_type": "code",
   "execution_count": 10,
   "id": "1d243d23",
   "metadata": {
    "execution": {
     "iopub.execute_input": "2025-09-07T10:19:53.969023Z",
     "iopub.status.busy": "2025-09-07T10:19:53.968724Z",
     "iopub.status.idle": "2025-09-07T10:20:02.712990Z",
     "shell.execute_reply": "2025-09-07T10:20:02.712179Z"
    },
    "papermill": {
     "duration": 8.75155,
     "end_time": "2025-09-07T10:20:02.714570",
     "exception": false,
     "start_time": "2025-09-07T10:19:53.963020",
     "status": "completed"
    },
    "tags": []
   },
   "outputs": [
    {
     "data": {
      "text/plain": [
       "0.009574482401592336"
      ]
     },
     "execution_count": 10,
     "metadata": {},
     "output_type": "execute_result"
    }
   ],
   "source": [
    "model(ffv,test,GradientBoostingRegressor,'FFV',submission=False)"
   ]
  },
  {
   "cell_type": "code",
   "execution_count": 11,
   "id": "a2dda35d",
   "metadata": {
    "execution": {
     "iopub.execute_input": "2025-09-07T10:20:02.726055Z",
     "iopub.status.busy": "2025-09-07T10:20:02.725729Z",
     "iopub.status.idle": "2025-09-07T10:20:03.554845Z",
     "shell.execute_reply": "2025-09-07T10:20:03.553727Z"
    },
    "papermill": {
     "duration": 0.836756,
     "end_time": "2025-09-07T10:20:03.556480",
     "exception": false,
     "start_time": "2025-09-07T10:20:02.719724",
     "status": "completed"
    },
    "tags": []
   },
   "outputs": [
    {
     "data": {
      "text/plain": [
       "0.03639136921986577"
      ]
     },
     "execution_count": 11,
     "metadata": {},
     "output_type": "execute_result"
    }
   ],
   "source": [
    "model(tc,test,GradientBoostingRegressor,'Tc',submission=False)"
   ]
  },
  {
   "cell_type": "code",
   "execution_count": 12,
   "id": "928e583b",
   "metadata": {
    "execution": {
     "iopub.execute_input": "2025-09-07T10:20:03.567963Z",
     "iopub.status.busy": "2025-09-07T10:20:03.567641Z",
     "iopub.status.idle": "2025-09-07T10:20:04.775193Z",
     "shell.execute_reply": "2025-09-07T10:20:04.774218Z"
    },
    "papermill": {
     "duration": 1.21525,
     "end_time": "2025-09-07T10:20:04.776935",
     "exception": false,
     "start_time": "2025-09-07T10:20:03.561685",
     "status": "completed"
    },
    "tags": []
   },
   "outputs": [
    {
     "data": {
      "text/plain": [
       "0.04753457504939514"
      ]
     },
     "execution_count": 12,
     "metadata": {},
     "output_type": "execute_result"
    }
   ],
   "source": [
    "model(density,test,GradientBoostingRegressor,'Density',submission=False)"
   ]
  },
  {
   "cell_type": "code",
   "execution_count": 13,
   "id": "62c98921",
   "metadata": {
    "execution": {
     "iopub.execute_input": "2025-09-07T10:20:04.788588Z",
     "iopub.status.busy": "2025-09-07T10:20:04.788291Z",
     "iopub.status.idle": "2025-09-07T10:20:05.385500Z",
     "shell.execute_reply": "2025-09-07T10:20:05.384564Z"
    },
    "papermill": {
     "duration": 0.604733,
     "end_time": "2025-09-07T10:20:05.387047",
     "exception": false,
     "start_time": "2025-09-07T10:20:04.782314",
     "status": "completed"
    },
    "tags": []
   },
   "outputs": [
    {
     "data": {
      "text/plain": [
       "1.921047177751796"
      ]
     },
     "execution_count": 13,
     "metadata": {},
     "output_type": "execute_result"
    }
   ],
   "source": [
    "model(rg,test,GradientBoostingRegressor,'Rg',submission=False)"
   ]
  },
  {
   "cell_type": "markdown",
   "id": "9a0f4b2f",
   "metadata": {
    "papermill": {
     "duration": 0.004899,
     "end_time": "2025-09-07T10:20:05.397373",
     "exception": false,
     "start_time": "2025-09-07T10:20:05.392474",
     "status": "completed"
    },
    "tags": []
   },
   "source": [
    "# Final Model For Submission"
   ]
  },
  {
   "cell_type": "code",
   "execution_count": 14,
   "id": "0e950ba5",
   "metadata": {
    "execution": {
     "iopub.execute_input": "2025-09-07T10:20:05.408921Z",
     "iopub.status.busy": "2025-09-07T10:20:05.408639Z",
     "iopub.status.idle": "2025-09-07T10:20:28.058387Z",
     "shell.execute_reply": "2025-09-07T10:20:28.057491Z"
    },
    "papermill": {
     "duration": 22.657492,
     "end_time": "2025-09-07T10:20:28.060067",
     "exception": false,
     "start_time": "2025-09-07T10:20:05.402575",
     "status": "completed"
    },
    "tags": []
   },
   "outputs": [],
   "source": [
    " # Finally, we use the model to predict on the test set and prepare the submission file.\n",
    "\n",
    "sub={'id':ID,'Tg':model(tg,test,ExtraTreesRegressor,'Tg',submission=True),\n",
    "     'FFV':model(ffv,test,ExtraTreesRegressor,'FFV',submission=True),\n",
    "     'Tc':model(tc,test,ExtraTreesRegressor,'Tc',submission=True),\n",
    "     'Density':model(density,test,ExtraTreesRegressor,'Density',submission=True),\n",
    "     'Rg':model(rg,test,ExtraTreesRegressor,'Rg',submission=True)}"
   ]
  },
  {
   "cell_type": "code",
   "execution_count": 15,
   "id": "274f6e6c",
   "metadata": {
    "execution": {
     "iopub.execute_input": "2025-09-07T10:20:28.072620Z",
     "iopub.status.busy": "2025-09-07T10:20:28.072320Z",
     "iopub.status.idle": "2025-09-07T10:20:28.077122Z",
     "shell.execute_reply": "2025-09-07T10:20:28.076318Z"
    },
    "papermill": {
     "duration": 0.012714,
     "end_time": "2025-09-07T10:20:28.078634",
     "exception": false,
     "start_time": "2025-09-07T10:20:28.065920",
     "status": "completed"
    },
    "tags": []
   },
   "outputs": [],
   "source": [
    "submission=pd.DataFrame(sub)"
   ]
  },
  {
   "cell_type": "code",
   "execution_count": 16,
   "id": "621b509d",
   "metadata": {
    "execution": {
     "iopub.execute_input": "2025-09-07T10:20:28.090691Z",
     "iopub.status.busy": "2025-09-07T10:20:28.090423Z",
     "iopub.status.idle": "2025-09-07T10:20:28.111526Z",
     "shell.execute_reply": "2025-09-07T10:20:28.110497Z"
    },
    "papermill": {
     "duration": 0.028515,
     "end_time": "2025-09-07T10:20:28.112970",
     "exception": false,
     "start_time": "2025-09-07T10:20:28.084455",
     "status": "completed"
    },
    "tags": []
   },
   "outputs": [
    {
     "data": {
      "text/html": [
       "<div>\n",
       "<style scoped>\n",
       "    .dataframe tbody tr th:only-of-type {\n",
       "        vertical-align: middle;\n",
       "    }\n",
       "\n",
       "    .dataframe tbody tr th {\n",
       "        vertical-align: top;\n",
       "    }\n",
       "\n",
       "    .dataframe thead th {\n",
       "        text-align: right;\n",
       "    }\n",
       "</style>\n",
       "<table border=\"1\" class=\"dataframe\">\n",
       "  <thead>\n",
       "    <tr style=\"text-align: right;\">\n",
       "      <th></th>\n",
       "      <th>id</th>\n",
       "      <th>Tg</th>\n",
       "      <th>FFV</th>\n",
       "      <th>Tc</th>\n",
       "      <th>Density</th>\n",
       "      <th>Rg</th>\n",
       "    </tr>\n",
       "  </thead>\n",
       "  <tbody>\n",
       "    <tr>\n",
       "      <th>0</th>\n",
       "      <td>1109053969</td>\n",
       "      <td>154.932301</td>\n",
       "      <td>0.372830</td>\n",
       "      <td>0.177900</td>\n",
       "      <td>1.158307</td>\n",
       "      <td>20.898423</td>\n",
       "    </tr>\n",
       "    <tr>\n",
       "      <th>1</th>\n",
       "      <td>1422188626</td>\n",
       "      <td>159.937932</td>\n",
       "      <td>0.374475</td>\n",
       "      <td>0.236425</td>\n",
       "      <td>1.112113</td>\n",
       "      <td>19.241269</td>\n",
       "    </tr>\n",
       "    <tr>\n",
       "      <th>2</th>\n",
       "      <td>2032016830</td>\n",
       "      <td>92.900359</td>\n",
       "      <td>0.350464</td>\n",
       "      <td>0.276060</td>\n",
       "      <td>1.098086</td>\n",
       "      <td>20.783312</td>\n",
       "    </tr>\n",
       "  </tbody>\n",
       "</table>\n",
       "</div>"
      ],
      "text/plain": [
       "           id          Tg       FFV        Tc   Density         Rg\n",
       "0  1109053969  154.932301  0.372830  0.177900  1.158307  20.898423\n",
       "1  1422188626  159.937932  0.374475  0.236425  1.112113  19.241269\n",
       "2  2032016830   92.900359  0.350464  0.276060  1.098086  20.783312"
      ]
     },
     "execution_count": 16,
     "metadata": {},
     "output_type": "execute_result"
    }
   ],
   "source": [
    "submission"
   ]
  },
  {
   "cell_type": "code",
   "execution_count": 17,
   "id": "d907a1cf",
   "metadata": {
    "execution": {
     "iopub.execute_input": "2025-09-07T10:20:28.125074Z",
     "iopub.status.busy": "2025-09-07T10:20:28.124796Z",
     "iopub.status.idle": "2025-09-07T10:20:28.135155Z",
     "shell.execute_reply": "2025-09-07T10:20:28.134381Z"
    },
    "papermill": {
     "duration": 0.018047,
     "end_time": "2025-09-07T10:20:28.136709",
     "exception": false,
     "start_time": "2025-09-07T10:20:28.118662",
     "status": "completed"
    },
    "tags": []
   },
   "outputs": [],
   "source": [
    "submission.to_csv('submission.csv',index=False)"
   ]
  }
 ],
 "metadata": {
  "kaggle": {
   "accelerator": "none",
   "dataSources": [
    {
     "databundleVersionId": 12966160,
     "sourceId": 74608,
     "sourceType": "competition"
    },
    {
     "datasetId": 7678100,
     "sourceId": 12189904,
     "sourceType": "datasetVersion"
    },
    {
     "datasetId": 7824094,
     "sourceId": 12406655,
     "sourceType": "datasetVersion"
    }
   ],
   "dockerImageVersionId": 31089,
   "isGpuEnabled": false,
   "isInternetEnabled": false,
   "language": "python",
   "sourceType": "notebook"
  },
  "kernelspec": {
   "display_name": "Python 3",
   "language": "python",
   "name": "python3"
  },
  "language_info": {
   "codemirror_mode": {
    "name": "ipython",
    "version": 3
   },
   "file_extension": ".py",
   "mimetype": "text/x-python",
   "name": "python",
   "nbconvert_exporter": "python",
   "pygments_lexer": "ipython3",
   "version": "3.11.13"
  },
  "papermill": {
   "default_parameters": {},
   "duration": 55.58974,
   "end_time": "2025-09-07T10:20:28.963775",
   "environment_variables": {},
   "exception": null,
   "input_path": "__notebook__.ipynb",
   "output_path": "__notebook__.ipynb",
   "parameters": {},
   "start_time": "2025-09-07T10:19:33.374035",
   "version": "2.6.0"
  }
 },
 "nbformat": 4,
 "nbformat_minor": 5
}
