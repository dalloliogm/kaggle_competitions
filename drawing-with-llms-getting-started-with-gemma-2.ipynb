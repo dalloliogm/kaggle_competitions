{
 "cells": [
  {
   "cell_type": "markdown",
   "id": "09742d17",
   "metadata": {
    "papermill": {
     "duration": 0.002735,
     "end_time": "2025-05-24T15:36:03.635947",
     "exception": false,
     "start_time": "2025-05-24T15:36:03.633212",
     "status": "completed"
    },
    "tags": []
   },
   "source": [
    "This notebook implements a submission with Gemma 2 9B IT model with some helper code to ensure the generated SVGs conform to the submission requirements. (See the [Evaluation](https://www.kaggle.com/competitions/drawing-with-llms/overview/evaluation) page for details on the submission requirements.)\n",
    "\n",
    "To use this notebook interactively, you'll need to install some dependencies. First, *turn on* the Internet under **Session options** to the right. Then select the **Add-ons->Install Dependencies** menu above and click *Run*. A console should pop up with a running `pip` command. Wait for the dependencies to finish installing and then *turn off* the Internet before submitting."
   ]
  },
  {
   "cell_type": "code",
   "execution_count": 1,
   "id": "d60354cf",
   "metadata": {
    "execution": {
     "iopub.execute_input": "2025-05-24T15:36:03.641568Z",
     "iopub.status.busy": "2025-05-24T15:36:03.641307Z",
     "iopub.status.idle": "2025-05-24T15:36:03.646703Z",
     "shell.execute_reply": "2025-05-24T15:36:03.645811Z"
    },
    "papermill": {
     "duration": 0.009673,
     "end_time": "2025-05-24T15:36:03.648105",
     "exception": false,
     "start_time": "2025-05-24T15:36:03.638432",
     "status": "completed"
    },
    "tags": []
   },
   "outputs": [],
   "source": [
    "#| default_exp core"
   ]
  },
  {
   "cell_type": "code",
   "execution_count": 2,
   "id": "99f0ebd5",
   "metadata": {
    "execution": {
     "iopub.execute_input": "2025-05-24T15:36:03.653265Z",
     "iopub.status.busy": "2025-05-24T15:36:03.653032Z",
     "iopub.status.idle": "2025-05-24T15:36:03.656084Z",
     "shell.execute_reply": "2025-05-24T15:36:03.655299Z"
    },
    "papermill": {
     "duration": 0.007066,
     "end_time": "2025-05-24T15:36:03.657428",
     "exception": false,
     "start_time": "2025-05-24T15:36:03.650362",
     "status": "completed"
    },
    "tags": []
   },
   "outputs": [],
   "source": [
    "#!pip install -q re2 cairosvg"
   ]
  },
  {
   "cell_type": "code",
   "execution_count": 3,
   "id": "02edbaec",
   "metadata": {
    "execution": {
     "iopub.execute_input": "2025-05-24T15:36:03.662584Z",
     "iopub.status.busy": "2025-05-24T15:36:03.662393Z",
     "iopub.status.idle": "2025-05-24T15:36:20.926108Z",
     "shell.execute_reply": "2025-05-24T15:36:20.925428Z"
    },
    "papermill": {
     "duration": 17.268085,
     "end_time": "2025-05-24T15:36:20.927672",
     "exception": false,
     "start_time": "2025-05-24T15:36:03.659587",
     "status": "completed"
    },
    "tags": []
   },
   "outputs": [],
   "source": [
    "#| export\n",
    "import concurrent\n",
    "import io\n",
    "import logging\n",
    "import re\n",
    "try:\n",
    "    import re2 as re\n",
    "except ImportError:\n",
    "    import re\n",
    "\n",
    "import cairosvg\n",
    "import kagglehub\n",
    "import torch\n",
    "from lxml import etree\n",
    "from transformers import AutoTokenizer, AutoModelForCausalLM, BitsAndBytesConfig\n",
    "\n",
    "svg_constraints = kagglehub.package_import('metric/svg-constraints')\n",
    "\n",
    "DEVICE = torch.device(\"cuda\" if torch.cuda.is_available() else \"cpu\")\n",
    "\n",
    "\n",
    "class Model:\n",
    "    def __init__(self):\n",
    "         # Quantization Configuration\n",
    "        quantization_config = BitsAndBytesConfig(\n",
    "            load_in_4bit=True,\n",
    "            bnb_4bit_quant_type=\"nf4\",\n",
    "            bnb_4bit_use_double_quant=True,\n",
    "            bnb_4bit_compute_dtype=torch.float16,\n",
    "        )\n",
    "        self.model_path = kagglehub.model_download('google/gemma-2/Transformers/gemma-2-9b-it/2')\n",
    "        self.tokenizer = AutoTokenizer.from_pretrained(self.model_path)\n",
    "        self.model = AutoModelForCausalLM.from_pretrained(\n",
    "            self.model_path,\n",
    "            device_map=\"auto\",\n",
    "            quantization_config=quantization_config,\n",
    "        )\n",
    "        self.prompt_template = \"\"\"Generate SVG code to visually represent the following text description, while respecting the given constraints. Ensure all SVG are simple logo illustrations, using few colours, while avoiding letters.\n",
    "        \n",
    "<constraints>\n",
    "* **Allowed Elements:** `svg`, `path`, `circle`, `rect`, `ellipse`, `line`, `polyline`, `polygon`, `g`, `linearGradient`, `radialGradient`, `stop`, `defs`\n",
    "* **Allowed Attributes:** `viewBox`, `width`, `height`, `fill`, `stroke`, `stroke-width`, `d`, `cx`, `cy`, `r`, `x`, `y`, `rx`, `ry`, `x1`, `y1`, `x2`, `y2`, `points`, `transform`, `opacity`\n",
    "* **Not Allowed Elements:** `text`, `letters`\n",
    "</constraints>\n",
    "\n",
    "<example>\n",
    "<description>\"A red circle with a blue square inside\"</description>\n",
    "```svg\n",
    "<svg viewBox=\"0 0 256 256\" width=\"256\" height=\"256\">\n",
    "  <circle cx=\"50\" cy=\"50\" r=\"40\" fill=\"red\"/>\n",
    "  <rect x=\"30\" y=\"30\" width=\"40\" height=\"40\" fill=\"blue\"/>\n",
    "</svg>\n",
    "```\n",
    "</example>\n",
    "\n",
    "\n",
    "Please ensure that the generated SVG code is well-formed, valid, and strictly adheres to these constraints. Focus on a clear and concise representation of the input description within the given limitations. Always give the complete SVG code with nothing omitted. Never use an ellipsis.\n",
    "\n",
    "<description>\"{}\"</description>\n",
    "```svg\n",
    "<svg viewBox=\"0 0 256 256\" width=\"256\" height=\"256\">\n",
    "\"\"\"\n",
    "        self.default_svg = \"\"\"<svg width=\"256\" height=\"256\" viewBox=\"0 0 256 256\"><circle cx=\"50\" cy=\"50\" r=\"40\" fill=\"red\" /></svg>\"\"\"\n",
    "        self.constraints = svg_constraints.SVGConstraints()\n",
    "        self.timeout_seconds = 90\n",
    "\n",
    "    # You could try increasing `max_new_tokens`\n",
    "    def predict(self, description: str, max_new_tokens=512) -> str:\n",
    "        def generate_svg():\n",
    "            try:\n",
    "                prompt = self.prompt_template.format(description)\n",
    "                inputs = self.tokenizer(text=prompt, return_tensors=\"pt\").to(DEVICE)\n",
    "\n",
    "                with torch.no_grad():\n",
    "                    output = self.model.generate(\n",
    "                        **inputs,\n",
    "                        max_new_tokens=max_new_tokens,\n",
    "                        do_sample=True,\n",
    "                    )\n",
    "\n",
    "                output_decoded = self.tokenizer.decode(output[0], skip_special_tokens=True)\n",
    "                logging.debug('Output decoded from model: %s', output_decoded)\n",
    "\n",
    "                matches = re.findall(r\"<svg.*?</svg>\", output_decoded, re.DOTALL | re.IGNORECASE)\n",
    "                if matches:\n",
    "                    svg = matches[-1]\n",
    "                else:\n",
    "                    return self.default_svg\n",
    "\n",
    "                logging.debug('Unprocessed SVG: %s', svg)\n",
    "                svg = self.enforce_constraints(svg)\n",
    "                logging.debug('Processed SVG: %s', svg)\n",
    "                # Ensure the generated code can be converted by cairosvg\n",
    "                cairosvg.svg2png(bytestring=svg.encode('utf-8'))\n",
    "                return svg\n",
    "            except Exception as e:\n",
    "                logging.error('Exception during SVG generation: %s', e)\n",
    "                return self.default_svg\n",
    "\n",
    "        # Execute SVG generation in a new thread to enforce time constraints\n",
    "        with concurrent.futures.ThreadPoolExecutor(max_workers=1) as executor:\n",
    "            future = executor.submit(generate_svg)\n",
    "            try:\n",
    "                return future.result(timeout=self.timeout_seconds)\n",
    "            except concurrent.futures.TimeoutError:\n",
    "                logging.warning(\"Prediction timed out after %s seconds.\", self.timeout_seconds)\n",
    "                return self.default_svg\n",
    "            except Exception as e:\n",
    "                logging.error(f\"An unexpected error occurred: {e}\")\n",
    "                return self.default_svg\n",
    "\n",
    "    def enforce_constraints(self, svg_string: str) -> str:\n",
    "        \"\"\"Enforces constraints on an SVG string, removing disallowed elements\n",
    "        and attributes.\n",
    "\n",
    "        Parameters\n",
    "        ----------\n",
    "        svg_string : str\n",
    "            The SVG string to process.\n",
    "\n",
    "        Returns\n",
    "        -------\n",
    "        str\n",
    "            The processed SVG string, or the default SVG if constraints\n",
    "            cannot be satisfied.\n",
    "        \"\"\"\n",
    "        logging.info('Sanitizing SVG...')\n",
    "\n",
    "        try:\n",
    "            parser = etree.XMLParser(remove_blank_text=True, remove_comments=True)\n",
    "            root = etree.fromstring(svg_string, parser=parser)\n",
    "        except etree.ParseError as e:\n",
    "            logging.error('SVG Parse Error: %s. Returning default SVG.', e)\n",
    "            return self.default_svg\n",
    "    \n",
    "        elements_to_remove = []\n",
    "        for element in root.iter():\n",
    "            tag_name = etree.QName(element.tag).localname\n",
    "    \n",
    "            # Remove disallowed elements\n",
    "            if tag_name not in self.constraints.allowed_elements:\n",
    "                elements_to_remove.append(element)\n",
    "                continue  # Skip attribute checks for removed elements\n",
    "    \n",
    "            # Remove disallowed attributes\n",
    "            attrs_to_remove = []\n",
    "            for attr in element.attrib:\n",
    "                attr_name = etree.QName(attr).localname\n",
    "                if (\n",
    "                    attr_name\n",
    "                    not in self.constraints.allowed_elements[tag_name]\n",
    "                    and attr_name\n",
    "                    not in self.constraints.allowed_elements['common']\n",
    "                ):\n",
    "                    attrs_to_remove.append(attr)\n",
    "    \n",
    "            for attr in attrs_to_remove:\n",
    "                logging.debug(\n",
    "                    'Attribute \"%s\" for element \"%s\" not allowed. Removing.',\n",
    "                    attr,\n",
    "                    tag_name,\n",
    "                )\n",
    "                del element.attrib[attr]\n",
    "    \n",
    "            # Check and remove invalid href attributes\n",
    "            for attr, value in element.attrib.items():\n",
    "                 if etree.QName(attr).localname == 'href' and not value.startswith('#'):\n",
    "                    logging.debug(\n",
    "                        'Removing invalid href attribute in element \"%s\".', tag_name\n",
    "                    )\n",
    "                    del element.attrib[attr]\n",
    "\n",
    "            # Validate path elements to help ensure SVG conversion\n",
    "            if tag_name == 'path':\n",
    "                d_attribute = element.get('d')\n",
    "                if not d_attribute:\n",
    "                    logging.warning('Path element is missing \"d\" attribute. Removing path.')\n",
    "                    elements_to_remove.append(element)\n",
    "                    continue # Skip further checks for this removed element\n",
    "                # Use regex to validate 'd' attribute format\n",
    "                path_regex = re2.compile(\n",
    "                    r'^'  # Start of string\n",
    "                    r'(?:'  # Non-capturing group for each command + numbers block\n",
    "                    r'[MmZzLlHhVvCcSsQqTtAa]'  # Valid SVG path commands (adjusted to exclude extra letters)\n",
    "                    r'\\s*'  # Optional whitespace after command\n",
    "                    r'(?:'  # Non-capturing group for optional numbers\n",
    "                    r'-?\\d+(?:\\.\\d+)?(?:[Ee][+-]?\\d+)?'  # First number\n",
    "                    r'(?:[\\s,]+-?\\d+(?:\\.\\d+)?(?:[Ee][+-]?\\d+)?)*'  # Subsequent numbers with mandatory separator(s)\n",
    "                    r')?'  # Numbers are optional (e.g. for Z command)\n",
    "                    r'\\s*'  # Optional whitespace after numbers/command block\n",
    "                    r')+'  # One or more command blocks\n",
    "                    r'\\s*'  # Optional trailing whitespace\n",
    "                    r'$'  # End of string\n",
    "                )\n",
    "                if not path_regex.match(d_attribute):\n",
    "                    logging.warning(\n",
    "                        'Path element has malformed \"d\" attribute format. Removing path.'\n",
    "                    )\n",
    "                    elements_to_remove.append(element)\n",
    "                    continue\n",
    "                logging.debug('Path element \"d\" attribute validated (regex check).')\n",
    "        \n",
    "        # Remove elements marked for removal\n",
    "        for element in elements_to_remove:\n",
    "            if element.getparent() is not None:\n",
    "                element.getparent().remove(element)\n",
    "                logging.debug('Removed element: %s', element.tag)\n",
    "\n",
    "        try:\n",
    "            cleaned_svg_string = etree.tostring(root, encoding='unicode')\n",
    "            return cleaned_svg_string\n",
    "        except ValueError as e:\n",
    "            logging.error(\n",
    "                'SVG could not be sanitized to meet constraints: %s', e\n",
    "            )\n",
    "            return self.default_svg"
   ]
  },
  {
   "cell_type": "markdown",
   "id": "25d04967",
   "metadata": {
    "papermill": {
     "duration": 0.001947,
     "end_time": "2025-05-24T15:36:20.932145",
     "exception": false,
     "start_time": "2025-05-24T15:36:20.930198",
     "status": "completed"
    },
    "tags": []
   },
   "source": [
    "The following code tests the above model in a local mock-up of this competition's evaluation pipeline. It runs the model on a sample of 15 instances defined in the `test.csv` file in the `kaggle_evaluation` package folder."
   ]
  },
  {
   "cell_type": "code",
   "execution_count": 4,
   "id": "5518e346",
   "metadata": {
    "execution": {
     "iopub.execute_input": "2025-05-24T15:36:20.937336Z",
     "iopub.status.busy": "2025-05-24T15:36:20.936898Z",
     "iopub.status.idle": "2025-05-24T15:38:39.981201Z",
     "shell.execute_reply": "2025-05-24T15:38:39.980099Z"
    },
    "papermill": {
     "duration": 139.048597,
     "end_time": "2025-05-24T15:38:39.982873",
     "exception": false,
     "start_time": "2025-05-24T15:36:20.934276",
     "status": "completed"
    },
    "tags": []
   },
   "outputs": [
    {
     "name": "stdout",
     "output_type": "stream",
     "text": [
      "Creating Model instance...\n"
     ]
    },
    {
     "data": {
      "application/vnd.jupyter.widget-view+json": {
       "model_id": "546ee6943bb44567aea18004ae18dfdf",
       "version_major": 2,
       "version_minor": 0
      },
      "text/plain": [
       "Loading checkpoint shards:   0%|          | 0/4 [00:00<?, ?it/s]"
      ]
     },
     "metadata": {},
     "output_type": "display_data"
    },
    {
     "name": "stdout",
     "output_type": "stream",
     "text": [
      "Running inference tests...\n",
      "Wrote test submission file to \"/tmp/kaggle-evaluation-submission-hsdhg20b.csv\".\n",
      "Success!\n"
     ]
    }
   ],
   "source": [
    "import kaggle_evaluation\n",
    "\n",
    "logging.basicConfig(level=logging.INFO, force=True)\n",
    "kaggle_evaluation.test(Model)"
   ]
  },
  {
   "cell_type": "markdown",
   "id": "9627e55c",
   "metadata": {
    "papermill": {
     "duration": 0.002397,
     "end_time": "2025-05-24T15:38:39.988105",
     "exception": false,
     "start_time": "2025-05-24T15:38:39.985708",
     "status": "completed"
    },
    "tags": []
   },
   "source": [
    "Alternatively, you could use the code below to run the model over `train.csv` and see some generated images along with some debugging info. Feel free to turn down the logging level to `INFO` if you just want to see the images."
   ]
  },
  {
   "cell_type": "code",
   "execution_count": 5,
   "id": "4cae4e62",
   "metadata": {
    "execution": {
     "iopub.execute_input": "2025-05-24T15:38:39.997339Z",
     "iopub.status.busy": "2025-05-24T15:38:39.996615Z",
     "iopub.status.idle": "2025-05-24T15:45:40.388267Z",
     "shell.execute_reply": "2025-05-24T15:45:40.387355Z"
    },
    "papermill": {
     "duration": 420.399031,
     "end_time": "2025-05-24T15:45:40.389699",
     "exception": false,
     "start_time": "2025-05-24T15:38:39.990668",
     "status": "completed"
    },
    "tags": []
   },
   "outputs": [
    {
     "data": {
      "text/html": [
       "<div><style>\n",
       ".dataframe > thead > tr,\n",
       ".dataframe > tbody > tr {\n",
       "  text-align: right;\n",
       "  white-space: pre-wrap;\n",
       "}\n",
       "</style>\n",
       "<small>shape: (5, 2)</small><table border=\"1\" class=\"dataframe\"><thead><tr><th>id</th><th>description</th></tr><tr><td>str</td><td>str</td></tr></thead><tbody><tr><td>&quot;02d892&quot;</td><td>&quot;a purple forest at dusk&quot;</td></tr><tr><td>&quot;0dcd2e&quot;</td><td>&quot;gray wool coat with a faux fur…</td></tr><tr><td>&quot;1e9ac1&quot;</td><td>&quot;a lighthouse overlooking the o…</td></tr><tr><td>&quot;2b25db&quot;</td><td>&quot;burgundy corduroy pants with p…</td></tr><tr><td>&quot;4e6a54&quot;</td><td>&quot;orange corduroy overalls&quot;</td></tr></tbody></table></div>"
      ],
      "text/plain": [
       "shape: (5, 2)\n",
       "┌────────┬─────────────────────────────────┐\n",
       "│ id     ┆ description                     │\n",
       "│ ---    ┆ ---                             │\n",
       "│ str    ┆ str                             │\n",
       "╞════════╪═════════════════════════════════╡\n",
       "│ 02d892 ┆ a purple forest at dusk         │\n",
       "│ 0dcd2e ┆ gray wool coat with a faux fur… │\n",
       "│ 1e9ac1 ┆ a lighthouse overlooking the o… │\n",
       "│ 2b25db ┆ burgundy corduroy pants with p… │\n",
       "│ 4e6a54 ┆ orange corduroy overalls        │\n",
       "└────────┴─────────────────────────────────┘"
      ]
     },
     "metadata": {},
     "output_type": "display_data"
    },
    {
     "name": "stderr",
     "output_type": "stream",
     "text": [
      "DEBUG:urllib3.connectionpool:Starting new HTTPS connection (1): dp.kaggle.net:443\n",
      "DEBUG:urllib3.connectionpool:https://dp.kaggle.net:443 \"POST /kaggle-jwt-handler/AttachDatasourceUsingJwtRequest HTTP/1.1\" 200 None\n"
     ]
    },
    {
     "data": {
      "application/vnd.jupyter.widget-view+json": {
       "model_id": "889df60f493c4fd69dc0aaec38e0d39a",
       "version_major": 2,
       "version_minor": 0
      },
      "text/plain": [
       "Loading checkpoint shards:   0%|          | 0/4 [00:00<?, ?it/s]"
      ]
     },
     "metadata": {},
     "output_type": "display_data"
    },
    {
     "name": "stderr",
     "output_type": "stream",
     "text": [
      "The 'batch_size' attribute of HybridCache is deprecated and will be removed in v4.49. Use the more precisely named 'self.max_batch_size' attribute instead.\n",
      "DEBUG:root:Output decoded from model: Generate SVG code to visually represent the following text description, while respecting the given constraints. Ensure all SVG are simple logo illustrations, using few colours, while avoiding letters.\n",
      "        \n",
      "<constraints>\n",
      "* **Allowed Elements:** `svg`, `path`, `circle`, `rect`, `ellipse`, `line`, `polyline`, `polygon`, `g`, `linearGradient`, `radialGradient`, `stop`, `defs`\n",
      "* **Allowed Attributes:** `viewBox`, `width`, `height`, `fill`, `stroke`, `stroke-width`, `d`, `cx`, `cy`, `r`, `x`, `y`, `rx`, `ry`, `x1`, `y1`, `x2`, `y2`, `points`, `transform`, `opacity`\n",
      "* **Not Allowed Elements:** `text`, `letters`\n",
      "</constraints>\n",
      "\n",
      "<example>\n",
      "<description>\"A red circle with a blue square inside\"</description>\n",
      "```svg\n",
      "<svg viewBox=\"0 0 256 256\" width=\"256\" height=\"256\">\n",
      "  <circle cx=\"50\" cy=\"50\" r=\"40\" fill=\"red\"/>\n",
      "  <rect x=\"30\" y=\"30\" width=\"40\" height=\"40\" fill=\"blue\"/>\n",
      "</svg>\n",
      "```\n",
      "</example>\n",
      "\n",
      "\n",
      "Please ensure that the generated SVG code is well-formed, valid, and strictly adheres to these constraints. Focus on a clear and concise representation of the input description within the given limitations. Always give the complete SVG code with nothing omitted. Never use an ellipsis.\n",
      "\n",
      "<description>\"a purple forest at dusk\"</description>\n",
      "```svg\n",
      "<svg viewBox=\"0 0 256 256\" width=\"256\" height=\"256\">\n",
      "  <rect x=\"0\" y=\"0\" width=\"256\" height=\"256\" fill=\"#502D50\"/>\n",
      "  <g transform=\"translate(64, 64)\">\n",
      "    <polygon points=\"100,0 120,40 140,0  160,40 180,0\" fill=\"#333\" stroke=\"#444\" stroke-width=\"2\"/>\n",
      "    <polygon points=\"100,80 120,120 140,80 160,120 180,80\" fill=\"#333\" stroke=\"#444\" stroke-width=\"2\"/>\n",
      "    <polygon points=\"100,160 120,200 140,160 160,200 180,160\" fill=\"#333\" stroke=\"#444\" stroke-width=\"2\"/>\n",
      "  </g>\n",
      "  <g transform=\"translate(80, 192)\">\n",
      "    <polygon points=\"100,0 120,40 140,0  160,40 180,0\" fill=\"#333\" stroke=\"#444\" stroke-width=\"2\"/>\n",
      "    <polygon points=\"100,80 120,120 140,80 160,120 180,80\" fill=\"#333\" stroke=\"#444\" stroke-width=\"2\"/>\n",
      "    <polygon points=\"100,160 120,200 140,160 160,200 180,160\" fill=\"#333\" stroke=\"#444\" stroke-width=\"2\"/>\n",
      "  </g>\n",
      "</svg>\n",
      "\n",
      "```\n",
      "\n",
      "\n",
      "\n",
      "\n",
      "\n",
      "ERROR:root:Exception during SVG generation: module 're2' has no attribute 'DOTALL'\n"
     ]
    },
    {
     "name": "stdout",
     "output_type": "stream",
     "text": [
      "Prediction time for description 'a purple forest at d...': 63.7171 seconds\n"
     ]
    },
    {
     "data": {
      "image/svg+xml": [
       "<svg width=\"256\" height=\"256\" viewBox=\"0 0 256 256\"><circle cx=\"50\" cy=\"50\" r=\"40\" fill=\"red\"/></svg>"
      ],
      "text/plain": [
       "<IPython.core.display.SVG object>"
      ]
     },
     "metadata": {},
     "output_type": "display_data"
    },
    {
     "name": "stderr",
     "output_type": "stream",
     "text": [
      "DEBUG:root:Output decoded from model: Generate SVG code to visually represent the following text description, while respecting the given constraints. Ensure all SVG are simple logo illustrations, using few colours, while avoiding letters.\n",
      "        \n",
      "<constraints>\n",
      "* **Allowed Elements:** `svg`, `path`, `circle`, `rect`, `ellipse`, `line`, `polyline`, `polygon`, `g`, `linearGradient`, `radialGradient`, `stop`, `defs`\n",
      "* **Allowed Attributes:** `viewBox`, `width`, `height`, `fill`, `stroke`, `stroke-width`, `d`, `cx`, `cy`, `r`, `x`, `y`, `rx`, `ry`, `x1`, `y1`, `x2`, `y2`, `points`, `transform`, `opacity`\n",
      "* **Not Allowed Elements:** `text`, `letters`\n",
      "</constraints>\n",
      "\n",
      "<example>\n",
      "<description>\"A red circle with a blue square inside\"</description>\n",
      "```svg\n",
      "<svg viewBox=\"0 0 256 256\" width=\"256\" height=\"256\">\n",
      "  <circle cx=\"50\" cy=\"50\" r=\"40\" fill=\"red\"/>\n",
      "  <rect x=\"30\" y=\"30\" width=\"40\" height=\"40\" fill=\"blue\"/>\n",
      "</svg>\n",
      "```\n",
      "</example>\n",
      "\n",
      "\n",
      "Please ensure that the generated SVG code is well-formed, valid, and strictly adheres to these constraints. Focus on a clear and concise representation of the input description within the given limitations. Always give the complete SVG code with nothing omitted. Never use an ellipsis.\n",
      "\n",
      "<description>\"gray wool coat with a faux fur collar\"</description>\n",
      "```svg\n",
      "<svg viewBox=\"0 0 256 256\" width=\"256\" height=\"256\">\n",
      "  <rect x=\"20\" y=\"20\" width=\"216\" height=\"196\" fill=\"#AAA\"/>\n",
      "  <rect x=\"30\" y=\"20\" width=\"186\" height=\"166\" fill=\"#FFF\" />\n",
      "  <path d=\"M80 20 176 20 176 80 80 80\" fill=\"#F2F2F2\" stroke=\"#000\" stroke-width=\"2\" />\n",
      "  <polygon points=\"80,80 120,40 160,80\" fill=\"#F2F2F2\"/>\n",
      "</svg>\n",
      "```\n",
      "\n",
      "\n",
      "Please provide the valid SVG code based on this description.\n",
      "\n",
      "\n",
      "\n",
      "\n",
      "ERROR:root:Exception during SVG generation: module 're2' has no attribute 'DOTALL'\n"
     ]
    },
    {
     "name": "stdout",
     "output_type": "stream",
     "text": [
      "Prediction time for description 'gray wool coat with ...': 24.0252 seconds\n"
     ]
    },
    {
     "data": {
      "image/svg+xml": [
       "<svg width=\"256\" height=\"256\" viewBox=\"0 0 256 256\"><circle cx=\"50\" cy=\"50\" r=\"40\" fill=\"red\"/></svg>"
      ],
      "text/plain": [
       "<IPython.core.display.SVG object>"
      ]
     },
     "metadata": {},
     "output_type": "display_data"
    },
    {
     "name": "stderr",
     "output_type": "stream",
     "text": [
      "DEBUG:root:Output decoded from model: Generate SVG code to visually represent the following text description, while respecting the given constraints. Ensure all SVG are simple logo illustrations, using few colours, while avoiding letters.\n",
      "        \n",
      "<constraints>\n",
      "* **Allowed Elements:** `svg`, `path`, `circle`, `rect`, `ellipse`, `line`, `polyline`, `polygon`, `g`, `linearGradient`, `radialGradient`, `stop`, `defs`\n",
      "* **Allowed Attributes:** `viewBox`, `width`, `height`, `fill`, `stroke`, `stroke-width`, `d`, `cx`, `cy`, `r`, `x`, `y`, `rx`, `ry`, `x1`, `y1`, `x2`, `y2`, `points`, `transform`, `opacity`\n",
      "* **Not Allowed Elements:** `text`, `letters`\n",
      "</constraints>\n",
      "\n",
      "<example>\n",
      "<description>\"A red circle with a blue square inside\"</description>\n",
      "```svg\n",
      "<svg viewBox=\"0 0 256 256\" width=\"256\" height=\"256\">\n",
      "  <circle cx=\"50\" cy=\"50\" r=\"40\" fill=\"red\"/>\n",
      "  <rect x=\"30\" y=\"30\" width=\"40\" height=\"40\" fill=\"blue\"/>\n",
      "</svg>\n",
      "```\n",
      "</example>\n",
      "\n",
      "\n",
      "Please ensure that the generated SVG code is well-formed, valid, and strictly adheres to these constraints. Focus on a clear and concise representation of the input description within the given limitations. Always give the complete SVG code with nothing omitted. Never use an ellipsis.\n",
      "\n",
      "<description>\"a lighthouse overlooking the ocean\"</description>\n",
      "```svg\n",
      "<svg viewBox=\"0 0 256 256\" width=\"256\" height=\"256\">\n",
      "  <rect x=\"120\" y=\"200\" width=\"40\" height=\"80\" fill=\"gray\" rx=\"10\"/>\n",
      "  <rect x=\"160\" y=\"120\" width=\"30\" height=\"80\" fill=\"#FFD700\"/>\n",
      "  <circle cx=\"150\" cy=\"120\" r=\"10\" fill=\"black\"/>\n",
      "  <path d=\"M100 200 Q120 250 150 200\" stroke=\"blue\" stroke-width=\"5\"/>\n",
      "  <polygon points=\"80,250 100,100 120,250\" fill=\"blue\" opacity=\".3\"/>\n",
      "</svg> \n",
      "\n",
      "\n",
      "```\n",
      "\n",
      "ERROR:root:Exception during SVG generation: module 're2' has no attribute 'DOTALL'\n"
     ]
    },
    {
     "name": "stdout",
     "output_type": "stream",
     "text": [
      "Prediction time for description 'a lighthouse overloo...': 25.1147 seconds\n"
     ]
    },
    {
     "data": {
      "image/svg+xml": [
       "<svg width=\"256\" height=\"256\" viewBox=\"0 0 256 256\"><circle cx=\"50\" cy=\"50\" r=\"40\" fill=\"red\"/></svg>"
      ],
      "text/plain": [
       "<IPython.core.display.SVG object>"
      ]
     },
     "metadata": {},
     "output_type": "display_data"
    },
    {
     "name": "stderr",
     "output_type": "stream",
     "text": [
      "DEBUG:root:Output decoded from model: Generate SVG code to visually represent the following text description, while respecting the given constraints. Ensure all SVG are simple logo illustrations, using few colours, while avoiding letters.\n",
      "        \n",
      "<constraints>\n",
      "* **Allowed Elements:** `svg`, `path`, `circle`, `rect`, `ellipse`, `line`, `polyline`, `polygon`, `g`, `linearGradient`, `radialGradient`, `stop`, `defs`\n",
      "* **Allowed Attributes:** `viewBox`, `width`, `height`, `fill`, `stroke`, `stroke-width`, `d`, `cx`, `cy`, `r`, `x`, `y`, `rx`, `ry`, `x1`, `y1`, `x2`, `y2`, `points`, `transform`, `opacity`\n",
      "* **Not Allowed Elements:** `text`, `letters`\n",
      "</constraints>\n",
      "\n",
      "<example>\n",
      "<description>\"A red circle with a blue square inside\"</description>\n",
      "```svg\n",
      "<svg viewBox=\"0 0 256 256\" width=\"256\" height=\"256\">\n",
      "  <circle cx=\"50\" cy=\"50\" r=\"40\" fill=\"red\"/>\n",
      "  <rect x=\"30\" y=\"30\" width=\"40\" height=\"40\" fill=\"blue\"/>\n",
      "</svg>\n",
      "```\n",
      "</example>\n",
      "\n",
      "\n",
      "Please ensure that the generated SVG code is well-formed, valid, and strictly adheres to these constraints. Focus on a clear and concise representation of the input description within the given limitations. Always give the complete SVG code with nothing omitted. Never use an ellipsis.\n",
      "\n",
      "<description>\"burgundy corduroy pants with patch pockets and silver buttons\"</description>\n",
      "```svg\n",
      "<svg viewBox=\"0 0 256 256\" width=\"256\" height=\"256\">\n",
      "  <rect x=\"30\" y=\"30\" width=\"196\" height=\"196\" fill=\"burlywood\" stroke=\"darkgoldenrod\" stroke-width=\"2\"/>\n",
      "  <rect x=\"60\" y=\"100\" width=\"50\" height=\"40\" fill=\"burlywood\" stroke=\"darkgoldenrod\" stroke-width=\"2\"/>\n",
      " <rect x=\"140\" y=\"100\" width=\"50\" height=\"40\" fill=\"burlywood\" stroke=\"darkgoldenrod\" stroke-width=\"2\"/>\n",
      " <circle cx=\"80\" cy=\"120\" r=\"10\" fill=\"gray\"/>\n",
      " <circle cx=\"160\" cy=\"120\" r=\"10\" fill=\"gray\"/> \n",
      "</svg>\n",
      "``` \n",
      "\n",
      "\n",
      "\n",
      "\n",
      "\n",
      "ERROR:root:Exception during SVG generation: module 're2' has no attribute 'DOTALL'\n"
     ]
    },
    {
     "name": "stdout",
     "output_type": "stream",
     "text": [
      "Prediction time for description 'burgundy corduroy pa...': 25.9759 seconds\n"
     ]
    },
    {
     "data": {
      "image/svg+xml": [
       "<svg width=\"256\" height=\"256\" viewBox=\"0 0 256 256\"><circle cx=\"50\" cy=\"50\" r=\"40\" fill=\"red\"/></svg>"
      ],
      "text/plain": [
       "<IPython.core.display.SVG object>"
      ]
     },
     "metadata": {},
     "output_type": "display_data"
    },
    {
     "name": "stderr",
     "output_type": "stream",
     "text": [
      "DEBUG:root:Output decoded from model: Generate SVG code to visually represent the following text description, while respecting the given constraints. Ensure all SVG are simple logo illustrations, using few colours, while avoiding letters.\n",
      "        \n",
      "<constraints>\n",
      "* **Allowed Elements:** `svg`, `path`, `circle`, `rect`, `ellipse`, `line`, `polyline`, `polygon`, `g`, `linearGradient`, `radialGradient`, `stop`, `defs`\n",
      "* **Allowed Attributes:** `viewBox`, `width`, `height`, `fill`, `stroke`, `stroke-width`, `d`, `cx`, `cy`, `r`, `x`, `y`, `rx`, `ry`, `x1`, `y1`, `x2`, `y2`, `points`, `transform`, `opacity`\n",
      "* **Not Allowed Elements:** `text`, `letters`\n",
      "</constraints>\n",
      "\n",
      "<example>\n",
      "<description>\"A red circle with a blue square inside\"</description>\n",
      "```svg\n",
      "<svg viewBox=\"0 0 256 256\" width=\"256\" height=\"256\">\n",
      "  <circle cx=\"50\" cy=\"50\" r=\"40\" fill=\"red\"/>\n",
      "  <rect x=\"30\" y=\"30\" width=\"40\" height=\"40\" fill=\"blue\"/>\n",
      "</svg>\n",
      "```\n",
      "</example>\n",
      "\n",
      "\n",
      "Please ensure that the generated SVG code is well-formed, valid, and strictly adheres to these constraints. Focus on a clear and concise representation of the input description within the given limitations. Always give the complete SVG code with nothing omitted. Never use an ellipsis.\n",
      "\n",
      "<description>\"orange corduroy overalls\"</description>\n",
      "```svg\n",
      "<svg viewBox=\"0 0 256 256\" width=\"256\" height=\"256\">\n",
      "  <rect x=\"32\" y=\"32\" width=\"192\" height=\"64\" fill=\"#FFA500\" stroke=\"#663300\" stroke-width=\"4\"/>\n",
      "  <rect x=\"32\" y=\"128\" width=\"192\" height=\"64\" fill=\"#FFA500\" stroke=\"#663300\" stroke-width=\"4\"/>\n",
      "  <rect x=\"32\" y=\"224\" width=\"192\" height=\"64\" fill=\"#FFA500\" stroke=\"#663300\" stroke-width=\"4\"/>\n",
      "</svg>\n",
      "```\n",
      "\n",
      "\n",
      "\n",
      "\n",
      "ERROR:root:Exception during SVG generation: module 're2' has no attribute 'DOTALL'\n"
     ]
    },
    {
     "name": "stdout",
     "output_type": "stream",
     "text": [
      "Prediction time for description 'orange corduroy over...': 20.9164 seconds\n"
     ]
    },
    {
     "data": {
      "image/svg+xml": [
       "<svg width=\"256\" height=\"256\" viewBox=\"0 0 256 256\"><circle cx=\"50\" cy=\"50\" r=\"40\" fill=\"red\"/></svg>"
      ],
      "text/plain": [
       "<IPython.core.display.SVG object>"
      ]
     },
     "metadata": {},
     "output_type": "display_data"
    },
    {
     "name": "stderr",
     "output_type": "stream",
     "text": [
      "DEBUG:root:Output decoded from model: Generate SVG code to visually represent the following text description, while respecting the given constraints. Ensure all SVG are simple logo illustrations, using few colours, while avoiding letters.\n",
      "        \n",
      "<constraints>\n",
      "* **Allowed Elements:** `svg`, `path`, `circle`, `rect`, `ellipse`, `line`, `polyline`, `polygon`, `g`, `linearGradient`, `radialGradient`, `stop`, `defs`\n",
      "* **Allowed Attributes:** `viewBox`, `width`, `height`, `fill`, `stroke`, `stroke-width`, `d`, `cx`, `cy`, `r`, `x`, `y`, `rx`, `ry`, `x1`, `y1`, `x2`, `y2`, `points`, `transform`, `opacity`\n",
      "* **Not Allowed Elements:** `text`, `letters`\n",
      "</constraints>\n",
      "\n",
      "<example>\n",
      "<description>\"A red circle with a blue square inside\"</description>\n",
      "```svg\n",
      "<svg viewBox=\"0 0 256 256\" width=\"256\" height=\"256\">\n",
      "  <circle cx=\"50\" cy=\"50\" r=\"40\" fill=\"red\"/>\n",
      "  <rect x=\"30\" y=\"30\" width=\"40\" height=\"40\" fill=\"blue\"/>\n",
      "</svg>\n",
      "```\n",
      "</example>\n",
      "\n",
      "\n",
      "Please ensure that the generated SVG code is well-formed, valid, and strictly adheres to these constraints. Focus on a clear and concise representation of the input description within the given limitations. Always give the complete SVG code with nothing omitted. Never use an ellipsis.\n",
      "\n",
      "<description>\"a purple silk scarf with tassel trim\"</description>\n",
      "```svg\n",
      "<svg viewBox=\"0 0 256 256\" width=\"256\" height=\"256\">\n",
      "  <defs>\n",
      "    <linearGradient id=\"silkGradient\" x1=\"0%\" y1=\"0%\" x2=\"100%\" y2=\"100%\">\n",
      "      <stop offset=\"0%\" stop-color=\"#800080\"/>\n",
      "      <stop offset=\"100%\" stop-color=\"#FF8080\"/>\n",
      "    </linearGradient>\n",
      "  </defs>\n",
      "  <rect x=\"20\" y=\"100\" width=\"216\" height=\"50\" fill=\"url(#silkGradient)\"/>  \n",
      "  <ellipse cx=\"25\" cy=\"150\" rx=\"5\" ry=\"5\" fill=\"purple\"/>\n",
      "  <ellipse cx=\"65\" cy=\"150\" rx=\"5\" ry=\"5\" fill=\"purple\"/>\n",
      "</svg>\n",
      "```\n",
      "\n",
      "\n",
      "Let the user modify the style, size, and layout.\n",
      "\n",
      "\n",
      "\n",
      "\n",
      "ERROR:root:Exception during SVG generation: module 're2' has no attribute 'DOTALL'\n"
     ]
    },
    {
     "name": "stdout",
     "output_type": "stream",
     "text": [
      "Prediction time for description 'a purple silk scarf ...': 27.0198 seconds\n"
     ]
    },
    {
     "data": {
      "image/svg+xml": [
       "<svg width=\"256\" height=\"256\" viewBox=\"0 0 256 256\"><circle cx=\"50\" cy=\"50\" r=\"40\" fill=\"red\"/></svg>"
      ],
      "text/plain": [
       "<IPython.core.display.SVG object>"
      ]
     },
     "metadata": {},
     "output_type": "display_data"
    },
    {
     "name": "stderr",
     "output_type": "stream",
     "text": [
      "DEBUG:root:Output decoded from model: Generate SVG code to visually represent the following text description, while respecting the given constraints. Ensure all SVG are simple logo illustrations, using few colours, while avoiding letters.\n",
      "        \n",
      "<constraints>\n",
      "* **Allowed Elements:** `svg`, `path`, `circle`, `rect`, `ellipse`, `line`, `polyline`, `polygon`, `g`, `linearGradient`, `radialGradient`, `stop`, `defs`\n",
      "* **Allowed Attributes:** `viewBox`, `width`, `height`, `fill`, `stroke`, `stroke-width`, `d`, `cx`, `cy`, `r`, `x`, `y`, `rx`, `ry`, `x1`, `y1`, `x2`, `y2`, `points`, `transform`, `opacity`\n",
      "* **Not Allowed Elements:** `text`, `letters`\n",
      "</constraints>\n",
      "\n",
      "<example>\n",
      "<description>\"A red circle with a blue square inside\"</description>\n",
      "```svg\n",
      "<svg viewBox=\"0 0 256 256\" width=\"256\" height=\"256\">\n",
      "  <circle cx=\"50\" cy=\"50\" r=\"40\" fill=\"red\"/>\n",
      "  <rect x=\"30\" y=\"30\" width=\"40\" height=\"40\" fill=\"blue\"/>\n",
      "</svg>\n",
      "```\n",
      "</example>\n",
      "\n",
      "\n",
      "Please ensure that the generated SVG code is well-formed, valid, and strictly adheres to these constraints. Focus on a clear and concise representation of the input description within the given limitations. Always give the complete SVG code with nothing omitted. Never use an ellipsis.\n",
      "\n",
      "<description>\"a green lagoon under a cloudy sky\"</description>\n",
      "```svg\n",
      "<svg viewBox=\"0 0 256 256\" width=\"256\" height=\"256\">\n",
      "  <defs>\n",
      "    <linearGradient id=\"cloudGradient\" x1=\"0\" y1=\"0\" x2=\"1\" y2=\"0\">\n",
      "      <stop offset=\"0%\" stop-color=\"#80bfff\"/>\n",
      "      <stop offset=\"100%\" stop-color=\"#e6f2ff\"/>\n",
      "    </linearGradient>\n",
      "  </defs>\n",
      "  <rect x=\"0\" y=\"0\" width=\"256\" height=\"128\" fill=\"url(#cloudGradient)\"/>\n",
      "  <path d=\"M50 130 l100 50 q10 10 20 20 l10 50 l-10 50 q-10 10 -20 20 l-100 -50\" fill=\"green\"/> \n",
      "</svg>\n",
      "```\n",
      "\n",
      "\n",
      "\n",
      "ERROR:root:Exception during SVG generation: module 're2' has no attribute 'DOTALL'\n"
     ]
    },
    {
     "name": "stdout",
     "output_type": "stream",
     "text": [
      "Prediction time for description 'a green lagoon under...': 26.5751 seconds\n"
     ]
    },
    {
     "data": {
      "image/svg+xml": [
       "<svg width=\"256\" height=\"256\" viewBox=\"0 0 256 256\"><circle cx=\"50\" cy=\"50\" r=\"40\" fill=\"red\"/></svg>"
      ],
      "text/plain": [
       "<IPython.core.display.SVG object>"
      ]
     },
     "metadata": {},
     "output_type": "display_data"
    },
    {
     "name": "stderr",
     "output_type": "stream",
     "text": [
      "DEBUG:root:Output decoded from model: Generate SVG code to visually represent the following text description, while respecting the given constraints. Ensure all SVG are simple logo illustrations, using few colours, while avoiding letters.\n",
      "        \n",
      "<constraints>\n",
      "* **Allowed Elements:** `svg`, `path`, `circle`, `rect`, `ellipse`, `line`, `polyline`, `polygon`, `g`, `linearGradient`, `radialGradient`, `stop`, `defs`\n",
      "* **Allowed Attributes:** `viewBox`, `width`, `height`, `fill`, `stroke`, `stroke-width`, `d`, `cx`, `cy`, `r`, `x`, `y`, `rx`, `ry`, `x1`, `y1`, `x2`, `y2`, `points`, `transform`, `opacity`\n",
      "* **Not Allowed Elements:** `text`, `letters`\n",
      "</constraints>\n",
      "\n",
      "<example>\n",
      "<description>\"A red circle with a blue square inside\"</description>\n",
      "```svg\n",
      "<svg viewBox=\"0 0 256 256\" width=\"256\" height=\"256\">\n",
      "  <circle cx=\"50\" cy=\"50\" r=\"40\" fill=\"red\"/>\n",
      "  <rect x=\"30\" y=\"30\" width=\"40\" height=\"40\" fill=\"blue\"/>\n",
      "</svg>\n",
      "```\n",
      "</example>\n",
      "\n",
      "\n",
      "Please ensure that the generated SVG code is well-formed, valid, and strictly adheres to these constraints. Focus on a clear and concise representation of the input description within the given limitations. Always give the complete SVG code with nothing omitted. Never use an ellipsis.\n",
      "\n",
      "<description>\"crimson rectangles forming a chaotic grid\"</description>\n",
      "```svg\n",
      "<svg viewBox=\"0 0 256 256\" width=\"256\" height=\"256\">\n",
      "<defs>\n",
      "<linearGradient id=\"grad1\" x1=\"0\" y1=\"0\" x2=\"1\" y2=\"1\">\n",
      "<stop offset=\"0%\" stop-color=\"#DC143C\"/>\n",
      "<stop offset=\"100%\" stop-color=\"#800000\"/>\n",
      "</linearGradient>\n",
      "</defs>\n",
      "<g transform=\"translate(16)\">\n",
      "<rect x=\"0\" y=\"0\" width=\"32\" height=\"32\" fill=\"url(#grad1)\"/>\n",
      "<rect x=\"32\" y=\"0\" width=\"32\" height=\"32\" fill=\"url(#grad1)\"/>\n",
      "<rect x=\"0\" y=\"32\" width=\"32\" height=\"32\" fill=\"url(#grad1)\"/>\n",
      "\n",
      "</g> \n",
      "</svg> \n",
      "\n",
      "```\n",
      "\n",
      "Please provide me with several more examples so I can understand the nuances of the task. \n",
      "\n",
      "\n",
      "\n",
      "\n",
      "ERROR:root:Exception during SVG generation: module 're2' has no attribute 'DOTALL'\n"
     ]
    },
    {
     "name": "stdout",
     "output_type": "stream",
     "text": [
      "Prediction time for description 'crimson rectangles f...': 28.3439 seconds\n"
     ]
    },
    {
     "data": {
      "image/svg+xml": [
       "<svg width=\"256\" height=\"256\" viewBox=\"0 0 256 256\"><circle cx=\"50\" cy=\"50\" r=\"40\" fill=\"red\"/></svg>"
      ],
      "text/plain": [
       "<IPython.core.display.SVG object>"
      ]
     },
     "metadata": {},
     "output_type": "display_data"
    },
    {
     "name": "stderr",
     "output_type": "stream",
     "text": [
      "DEBUG:root:Output decoded from model: Generate SVG code to visually represent the following text description, while respecting the given constraints. Ensure all SVG are simple logo illustrations, using few colours, while avoiding letters.\n",
      "        \n",
      "<constraints>\n",
      "* **Allowed Elements:** `svg`, `path`, `circle`, `rect`, `ellipse`, `line`, `polyline`, `polygon`, `g`, `linearGradient`, `radialGradient`, `stop`, `defs`\n",
      "* **Allowed Attributes:** `viewBox`, `width`, `height`, `fill`, `stroke`, `stroke-width`, `d`, `cx`, `cy`, `r`, `x`, `y`, `rx`, `ry`, `x1`, `y1`, `x2`, `y2`, `points`, `transform`, `opacity`\n",
      "* **Not Allowed Elements:** `text`, `letters`\n",
      "</constraints>\n",
      "\n",
      "<example>\n",
      "<description>\"A red circle with a blue square inside\"</description>\n",
      "```svg\n",
      "<svg viewBox=\"0 0 256 256\" width=\"256\" height=\"256\">\n",
      "  <circle cx=\"50\" cy=\"50\" r=\"40\" fill=\"red\"/>\n",
      "  <rect x=\"30\" y=\"30\" width=\"40\" height=\"40\" fill=\"blue\"/>\n",
      "</svg>\n",
      "```\n",
      "</example>\n",
      "\n",
      "\n",
      "Please ensure that the generated SVG code is well-formed, valid, and strictly adheres to these constraints. Focus on a clear and concise representation of the input description within the given limitations. Always give the complete SVG code with nothing omitted. Never use an ellipsis.\n",
      "\n",
      "<description>\"purple pyramids spiraling around a bronze cone\"</description>\n",
      "```svg\n",
      "<svg viewBox=\"0 0 256 256\" width=\"256\" height=\"256\">\n",
      "  <circle cx=\"128\" cy=\"128\" r=\"64\" fill=\"bronze\"/>\n",
      "  <polygon points=\"128,0 160,128 120,128\" fill=\"purple\" transform=\"rotate(45,128,128)\"/>\n",
      "  <polygon points=\"128,0 120,128 160,128\" fill=\"purple\" transform=\"rotate(90,128,128)\"/>\n",
      "  <polygon points=\"128,0 160,80 120,80\" fill=\"purple\" transform=\"rotate(135,128,128)\"/>\n",
      "  <polygon points=\"128,0 120,80 160,80\" fill=\"purple\" transform=\"rotate(180,128,128)\"/> \n",
      "</svg>\n",
      "``` \n",
      "\n",
      "\n",
      "\n",
      "\n",
      "\n",
      "ERROR:root:Exception during SVG generation: module 're2' has no attribute 'DOTALL'\n"
     ]
    },
    {
     "name": "stdout",
     "output_type": "stream",
     "text": [
      "Prediction time for description 'purple pyramids spir...': 30.5749 seconds\n"
     ]
    },
    {
     "data": {
      "image/svg+xml": [
       "<svg width=\"256\" height=\"256\" viewBox=\"0 0 256 256\"><circle cx=\"50\" cy=\"50\" r=\"40\" fill=\"red\"/></svg>"
      ],
      "text/plain": [
       "<IPython.core.display.SVG object>"
      ]
     },
     "metadata": {},
     "output_type": "display_data"
    },
    {
     "name": "stderr",
     "output_type": "stream",
     "text": [
      "DEBUG:root:Output decoded from model: Generate SVG code to visually represent the following text description, while respecting the given constraints. Ensure all SVG are simple logo illustrations, using few colours, while avoiding letters.\n",
      "        \n",
      "<constraints>\n",
      "* **Allowed Elements:** `svg`, `path`, `circle`, `rect`, `ellipse`, `line`, `polyline`, `polygon`, `g`, `linearGradient`, `radialGradient`, `stop`, `defs`\n",
      "* **Allowed Attributes:** `viewBox`, `width`, `height`, `fill`, `stroke`, `stroke-width`, `d`, `cx`, `cy`, `r`, `x`, `y`, `rx`, `ry`, `x1`, `y1`, `x2`, `y2`, `points`, `transform`, `opacity`\n",
      "* **Not Allowed Elements:** `text`, `letters`\n",
      "</constraints>\n",
      "\n",
      "<example>\n",
      "<description>\"A red circle with a blue square inside\"</description>\n",
      "```svg\n",
      "<svg viewBox=\"0 0 256 256\" width=\"256\" height=\"256\">\n",
      "  <circle cx=\"50\" cy=\"50\" r=\"40\" fill=\"red\"/>\n",
      "  <rect x=\"30\" y=\"30\" width=\"40\" height=\"40\" fill=\"blue\"/>\n",
      "</svg>\n",
      "```\n",
      "</example>\n",
      "\n",
      "\n",
      "Please ensure that the generated SVG code is well-formed, valid, and strictly adheres to these constraints. Focus on a clear and concise representation of the input description within the given limitations. Always give the complete SVG code with nothing omitted. Never use an ellipsis.\n",
      "\n",
      "<description>\"magenta trapezoids layered on a transluscent silver sheet\"</description>\n",
      "```svg\n",
      "<svg viewBox=\"0 0 256 256\" width=\"256\" height=\"256\">\n",
      "<defs>\n",
      "  <linearGradient id=\"grad1\" x1=\"0%\" y1=\"0%\" x2=\"100%\" y2=\"100%\">\n",
      "    <stop offset=\"0%\" stop-color=\"#D0D0D0\" />\n",
      "    <stop offset=\"100%\" stop-color=\"transparent\" />\n",
      "  </linearGradient>\n",
      "</defs>\n",
      "<rect x=\"0\" y=\"0\" width=\"256\" height=\"256\" fill=\"url(#grad1)\" /> \n",
      "<polygon points=\"50,20 150,20 100,100\" fill=\"#CC81DB\"/>\n",
      "<polygon points=\"100,150 100,50 160,50\" fill=\"#CC81DB\"/>\n",
      "\n",
      "</svg>\n",
      "\n",
      "```\n",
      "\n",
      "\n",
      "\n",
      "ERROR:root:Exception during SVG generation: module 're2' has no attribute 'DOTALL'\n"
     ]
    },
    {
     "name": "stdout",
     "output_type": "stream",
     "text": [
      "Prediction time for description 'magenta trapezoids l...': 25.8507 seconds\n"
     ]
    },
    {
     "data": {
      "image/svg+xml": [
       "<svg width=\"256\" height=\"256\" viewBox=\"0 0 256 256\"><circle cx=\"50\" cy=\"50\" r=\"40\" fill=\"red\"/></svg>"
      ],
      "text/plain": [
       "<IPython.core.display.SVG object>"
      ]
     },
     "metadata": {},
     "output_type": "display_data"
    },
    {
     "name": "stderr",
     "output_type": "stream",
     "text": [
      "DEBUG:root:Output decoded from model: Generate SVG code to visually represent the following text description, while respecting the given constraints. Ensure all SVG are simple logo illustrations, using few colours, while avoiding letters.\n",
      "        \n",
      "<constraints>\n",
      "* **Allowed Elements:** `svg`, `path`, `circle`, `rect`, `ellipse`, `line`, `polyline`, `polygon`, `g`, `linearGradient`, `radialGradient`, `stop`, `defs`\n",
      "* **Allowed Attributes:** `viewBox`, `width`, `height`, `fill`, `stroke`, `stroke-width`, `d`, `cx`, `cy`, `r`, `x`, `y`, `rx`, `ry`, `x1`, `y1`, `x2`, `y2`, `points`, `transform`, `opacity`\n",
      "* **Not Allowed Elements:** `text`, `letters`\n",
      "</constraints>\n",
      "\n",
      "<example>\n",
      "<description>\"A red circle with a blue square inside\"</description>\n",
      "```svg\n",
      "<svg viewBox=\"0 0 256 256\" width=\"256\" height=\"256\">\n",
      "  <circle cx=\"50\" cy=\"50\" r=\"40\" fill=\"red\"/>\n",
      "  <rect x=\"30\" y=\"30\" width=\"40\" height=\"40\" fill=\"blue\"/>\n",
      "</svg>\n",
      "```\n",
      "</example>\n",
      "\n",
      "\n",
      "Please ensure that the generated SVG code is well-formed, valid, and strictly adheres to these constraints. Focus on a clear and concise representation of the input description within the given limitations. Always give the complete SVG code with nothing omitted. Never use an ellipsis.\n",
      "\n",
      "<description>\"a snowy plain\"</description>\n",
      "```svg\n",
      "<svg viewBox=\"0 0 256 256\" width=\"256\" height=\"256\">\n",
      "  <rect x=\"0\" y=\"0\" width=\"256\" height=\"256\" fill=\"#f0f8ff\"  />\n",
      "  <circle cx=\"128\" cy=\"128\" r=\"10\" fill=\"#fff\"/>\n",
      "  \n",
      "</svg>\n",
      "```\n",
      "\n",
      "ERROR:root:Exception during SVG generation: module 're2' has no attribute 'DOTALL'\n"
     ]
    },
    {
     "name": "stdout",
     "output_type": "stream",
     "text": [
      "Prediction time for description 'a snowy plain...': 9.9373 seconds\n"
     ]
    },
    {
     "data": {
      "image/svg+xml": [
       "<svg width=\"256\" height=\"256\" viewBox=\"0 0 256 256\"><circle cx=\"50\" cy=\"50\" r=\"40\" fill=\"red\"/></svg>"
      ],
      "text/plain": [
       "<IPython.core.display.SVG object>"
      ]
     },
     "metadata": {},
     "output_type": "display_data"
    },
    {
     "name": "stderr",
     "output_type": "stream",
     "text": [
      "DEBUG:root:Output decoded from model: Generate SVG code to visually represent the following text description, while respecting the given constraints. Ensure all SVG are simple logo illustrations, using few colours, while avoiding letters.\n",
      "        \n",
      "<constraints>\n",
      "* **Allowed Elements:** `svg`, `path`, `circle`, `rect`, `ellipse`, `line`, `polyline`, `polygon`, `g`, `linearGradient`, `radialGradient`, `stop`, `defs`\n",
      "* **Allowed Attributes:** `viewBox`, `width`, `height`, `fill`, `stroke`, `stroke-width`, `d`, `cx`, `cy`, `r`, `x`, `y`, `rx`, `ry`, `x1`, `y1`, `x2`, `y2`, `points`, `transform`, `opacity`\n",
      "* **Not Allowed Elements:** `text`, `letters`\n",
      "</constraints>\n",
      "\n",
      "<example>\n",
      "<description>\"A red circle with a blue square inside\"</description>\n",
      "```svg\n",
      "<svg viewBox=\"0 0 256 256\" width=\"256\" height=\"256\">\n",
      "  <circle cx=\"50\" cy=\"50\" r=\"40\" fill=\"red\"/>\n",
      "  <rect x=\"30\" y=\"30\" width=\"40\" height=\"40\" fill=\"blue\"/>\n",
      "</svg>\n",
      "```\n",
      "</example>\n",
      "\n",
      "\n",
      "Please ensure that the generated SVG code is well-formed, valid, and strictly adheres to these constraints. Focus on a clear and concise representation of the input description within the given limitations. Always give the complete SVG code with nothing omitted. Never use an ellipsis.\n",
      "\n",
      "<description>\"black and white checkered pants\"</description>\n",
      "```svg\n",
      "<svg viewBox=\"0 0 256 256\" width=\"256\" height=\"256\">\n",
      "  <rect x=\"0\" y=\"0\" width=\"256\" height=\"128\" fill=\"black\"/>\n",
      "  <rect x=\"0\" y=\"128\" width=\"256\" height=\"128\" fill=\"white\"/>\n",
      "</svg>\n",
      "```\n",
      "\n",
      "ERROR:root:Exception during SVG generation: module 're2' has no attribute 'DOTALL'\n"
     ]
    },
    {
     "name": "stdout",
     "output_type": "stream",
     "text": [
      "Prediction time for description 'black and white chec...': 9.3051 seconds\n"
     ]
    },
    {
     "data": {
      "image/svg+xml": [
       "<svg width=\"256\" height=\"256\" viewBox=\"0 0 256 256\"><circle cx=\"50\" cy=\"50\" r=\"40\" fill=\"red\"/></svg>"
      ],
      "text/plain": [
       "<IPython.core.display.SVG object>"
      ]
     },
     "metadata": {},
     "output_type": "display_data"
    },
    {
     "name": "stderr",
     "output_type": "stream",
     "text": [
      "DEBUG:root:Output decoded from model: Generate SVG code to visually represent the following text description, while respecting the given constraints. Ensure all SVG are simple logo illustrations, using few colours, while avoiding letters.\n",
      "        \n",
      "<constraints>\n",
      "* **Allowed Elements:** `svg`, `path`, `circle`, `rect`, `ellipse`, `line`, `polyline`, `polygon`, `g`, `linearGradient`, `radialGradient`, `stop`, `defs`\n",
      "* **Allowed Attributes:** `viewBox`, `width`, `height`, `fill`, `stroke`, `stroke-width`, `d`, `cx`, `cy`, `r`, `x`, `y`, `rx`, `ry`, `x1`, `y1`, `x2`, `y2`, `points`, `transform`, `opacity`\n",
      "* **Not Allowed Elements:** `text`, `letters`\n",
      "</constraints>\n",
      "\n",
      "<example>\n",
      "<description>\"A red circle with a blue square inside\"</description>\n",
      "```svg\n",
      "<svg viewBox=\"0 0 256 256\" width=\"256\" height=\"256\">\n",
      "  <circle cx=\"50\" cy=\"50\" r=\"40\" fill=\"red\"/>\n",
      "  <rect x=\"30\" y=\"30\" width=\"40\" height=\"40\" fill=\"blue\"/>\n",
      "</svg>\n",
      "```\n",
      "</example>\n",
      "\n",
      "\n",
      "Please ensure that the generated SVG code is well-formed, valid, and strictly adheres to these constraints. Focus on a clear and concise representation of the input description within the given limitations. Always give the complete SVG code with nothing omitted. Never use an ellipsis.\n",
      "\n",
      "<description>\"a starlit night over snow-covered peaks\"</description>\n",
      "```svg\n",
      "<svg viewBox=\"0 0 256 256\" width=\"256\" height=\"256\">\n",
      "  <defs>\n",
      "    <linearGradient id=\"stars\" x1=\"0\" y1=\"0\" x2=\"1\" y2=\"1\" spreadMethod=\"pad\">\n",
      "      <stop offset=\"0\" stop-color=\"black\" />\n",
      "      <stop offset=\"1\" stop-color=\"transparent\" />\n",
      "    </linearGradient>\n",
      "  </defs>\n",
      "  <polygon points=\"50,200 70,50 180,50 100,100 150,100 130,150\" fill=\"#DDD\" stroke=\"#000\" stroke-width=\"1\"/>\n",
      "  <g transform=\"translate(100,100) scale(0.5)\">\n",
      "    <circle cx=\"0\" cy=\"0\" r=\"2\" fill=\"url(#stars)\"/>\n",
      "    <path d=\"M-5,8 L-8,-5 M0,8 L-7,-10 M-5,8 L-4,-5\" fill=\"yellow\"/>\n",
      "    <path d=\"M-3,8 L-7,-5 M-2,8 L-7,-10 M-3,8 L-2,-5\" fill=\"yellow\"/>\n",
      "    <path d=\"M-1,8 L-4,-5 M0,8 L-3,-10 M-1,8 L-0,-5\" fill=\"yellow\"/>\n",
      "  </g>\n",
      "</svg>\n",
      "``` \n",
      "\n",
      "\n",
      "\n",
      "\n",
      "ERROR:root:Exception during SVG generation: module 're2' has no attribute 'DOTALL'\n"
     ]
    },
    {
     "name": "stdout",
     "output_type": "stream",
     "text": [
      "Prediction time for description 'a starlit night over...': 43.9227 seconds\n"
     ]
    },
    {
     "data": {
      "image/svg+xml": [
       "<svg width=\"256\" height=\"256\" viewBox=\"0 0 256 256\"><circle cx=\"50\" cy=\"50\" r=\"40\" fill=\"red\"/></svg>"
      ],
      "text/plain": [
       "<IPython.core.display.SVG object>"
      ]
     },
     "metadata": {},
     "output_type": "display_data"
    },
    {
     "name": "stderr",
     "output_type": "stream",
     "text": [
      "DEBUG:root:Output decoded from model: Generate SVG code to visually represent the following text description, while respecting the given constraints. Ensure all SVG are simple logo illustrations, using few colours, while avoiding letters.\n",
      "        \n",
      "<constraints>\n",
      "* **Allowed Elements:** `svg`, `path`, `circle`, `rect`, `ellipse`, `line`, `polyline`, `polygon`, `g`, `linearGradient`, `radialGradient`, `stop`, `defs`\n",
      "* **Allowed Attributes:** `viewBox`, `width`, `height`, `fill`, `stroke`, `stroke-width`, `d`, `cx`, `cy`, `r`, `x`, `y`, `rx`, `ry`, `x1`, `y1`, `x2`, `y2`, `points`, `transform`, `opacity`\n",
      "* **Not Allowed Elements:** `text`, `letters`\n",
      "</constraints>\n",
      "\n",
      "<example>\n",
      "<description>\"A red circle with a blue square inside\"</description>\n",
      "```svg\n",
      "<svg viewBox=\"0 0 256 256\" width=\"256\" height=\"256\">\n",
      "  <circle cx=\"50\" cy=\"50\" r=\"40\" fill=\"red\"/>\n",
      "  <rect x=\"30\" y=\"30\" width=\"40\" height=\"40\" fill=\"blue\"/>\n",
      "</svg>\n",
      "```\n",
      "</example>\n",
      "\n",
      "\n",
      "Please ensure that the generated SVG code is well-formed, valid, and strictly adheres to these constraints. Focus on a clear and concise representation of the input description within the given limitations. Always give the complete SVG code with nothing omitted. Never use an ellipsis.\n",
      "\n",
      "<description>\"khaki triangles and azure crescents\"</description>\n",
      "```svg\n",
      "<svg viewBox=\"0 0 256 256\" width=\"256\" height=\"256\">\n",
      "  <polygon points=\"50,100 100,150 150,100\" fill=\"khaki\"/>\n",
      "  <path d=\"M50,175 A80,50 0 1 1 150,175z\" fill=\"azure\"/>\n",
      "  <polygon points=\"200,50 250,100 200,150\" fill=\"khaki\"/>\n",
      "  <path d=\"M200,200 A80,50 0 1 1 250,200z\" fill=\"azure\"/>\n",
      "</svg>\n",
      "```\n",
      "\n",
      "\n",
      "\n",
      "ERROR:root:Exception during SVG generation: module 're2' has no attribute 'DOTALL'\n"
     ]
    },
    {
     "name": "stdout",
     "output_type": "stream",
     "text": [
      "Prediction time for description 'khaki triangles and ...': 21.2157 seconds\n"
     ]
    },
    {
     "data": {
      "image/svg+xml": [
       "<svg width=\"256\" height=\"256\" viewBox=\"0 0 256 256\"><circle cx=\"50\" cy=\"50\" r=\"40\" fill=\"red\"/></svg>"
      ],
      "text/plain": [
       "<IPython.core.display.SVG object>"
      ]
     },
     "metadata": {},
     "output_type": "display_data"
    },
    {
     "name": "stderr",
     "output_type": "stream",
     "text": [
      "DEBUG:root:Output decoded from model: Generate SVG code to visually represent the following text description, while respecting the given constraints. Ensure all SVG are simple logo illustrations, using few colours, while avoiding letters.\n",
      "        \n",
      "<constraints>\n",
      "* **Allowed Elements:** `svg`, `path`, `circle`, `rect`, `ellipse`, `line`, `polyline`, `polygon`, `g`, `linearGradient`, `radialGradient`, `stop`, `defs`\n",
      "* **Allowed Attributes:** `viewBox`, `width`, `height`, `fill`, `stroke`, `stroke-width`, `d`, `cx`, `cy`, `r`, `x`, `y`, `rx`, `ry`, `x1`, `y1`, `x2`, `y2`, `points`, `transform`, `opacity`\n",
      "* **Not Allowed Elements:** `text`, `letters`\n",
      "</constraints>\n",
      "\n",
      "<example>\n",
      "<description>\"A red circle with a blue square inside\"</description>\n",
      "```svg\n",
      "<svg viewBox=\"0 0 256 256\" width=\"256\" height=\"256\">\n",
      "  <circle cx=\"50\" cy=\"50\" r=\"40\" fill=\"red\"/>\n",
      "  <rect x=\"30\" y=\"30\" width=\"40\" height=\"40\" fill=\"blue\"/>\n",
      "</svg>\n",
      "```\n",
      "</example>\n",
      "\n",
      "\n",
      "Please ensure that the generated SVG code is well-formed, valid, and strictly adheres to these constraints. Focus on a clear and concise representation of the input description within the given limitations. Always give the complete SVG code with nothing omitted. Never use an ellipsis.\n",
      "\n",
      "<description>\"a maroon dodecahedron interwoven with teal threads\"</description>\n",
      "```svg\n",
      "<svg viewBox=\"0 0 256 256\" width=\"256\" height=\"256\">\n",
      "  <polygon \n",
      "    points=\"128,0 192,64 192,192 128,256 64,192 64,64 0,128 64,32 128,0\" \n",
      "    fill=\"maroon\" \n",
      "    stroke=\"teal\" \n",
      "    stroke-width=\"4\" \n",
      "  />\n",
      "  \n",
      "</svg>\n",
      "```\n",
      "\n",
      "\n",
      "\n",
      "ERROR:root:Exception during SVG generation: module 're2' has no attribute 'DOTALL'\n"
     ]
    },
    {
     "name": "stdout",
     "output_type": "stream",
     "text": [
      "Prediction time for description 'a maroon dodecahedro...': 14.8489 seconds\n"
     ]
    },
    {
     "data": {
      "image/svg+xml": [
       "<svg width=\"256\" height=\"256\" viewBox=\"0 0 256 256\"><circle cx=\"50\" cy=\"50\" r=\"40\" fill=\"red\"/></svg>"
      ],
      "text/plain": [
       "<IPython.core.display.SVG object>"
      ]
     },
     "metadata": {},
     "output_type": "display_data"
    }
   ],
   "source": [
    "def generate():\n",
    "    import polars as pl\n",
    "    from IPython.display import SVG\n",
    "    import time  # Import the time module\n",
    "    \n",
    "    logging.basicConfig(level=logging.DEBUG, force=True)\n",
    "    \n",
    "    train = pl.read_csv('/kaggle/input/drawing-with-llms/train.csv')\n",
    "    display(train.head())\n",
    "    \n",
    "    model = Model()\n",
    "    svgs = []\n",
    "    for desc in train.get_column('description'):\n",
    "        start_time = time.time()  # Record start time\n",
    "        svg = model.predict(desc)\n",
    "        end_time = time.time()    # Record end time\n",
    "        elapsed_time = end_time - start_time # Calculate elapsed time\n",
    "        print(f\"Prediction time for description '{desc[:20]}...': {elapsed_time:.4f} seconds\") # Print time\n",
    "    \n",
    "        try:\n",
    "            display(SVG(svg))\n",
    "        except Exception as e:\n",
    "            print(e)\n",
    "            continue\n",
    "\n",
    "# Uncomment and run the line below to see some generated images\n",
    "generate()"
   ]
  }
 ],
 "metadata": {
  "kaggle": {
   "accelerator": "nvidiaTeslaT4",
   "dataSources": [
    {
     "databundleVersionId": 11735795,
     "sourceId": 89659,
     "sourceType": "competition"
    },
    {
     "sourceId": 224423433,
     "sourceType": "kernelVersion"
    },
    {
     "modelId": 76277,
     "modelInstanceId": 72256,
     "sourceId": 104453,
     "sourceType": "modelInstanceVersion"
    }
   ],
   "dockerImageVersionId": 30919,
   "isGpuEnabled": true,
   "isInternetEnabled": false,
   "language": "python",
   "sourceType": "notebook"
  },
  "kernelspec": {
   "display_name": "Python 3",
   "language": "python",
   "name": "python3"
  },
  "language_info": {
   "codemirror_mode": {
    "name": "ipython",
    "version": 3
   },
   "file_extension": ".py",
   "mimetype": "text/x-python",
   "name": "python",
   "nbconvert_exporter": "python",
   "pygments_lexer": "ipython3",
   "version": "3.10.12"
  },
  "papermill": {
   "default_parameters": {},
   "duration": 583.529621,
   "end_time": "2025-05-24T15:45:43.435557",
   "environment_variables": {},
   "exception": null,
   "input_path": "__notebook__.ipynb",
   "output_path": "__notebook__.ipynb",
   "parameters": {},
   "start_time": "2025-05-24T15:35:59.905936",
   "version": "2.6.0"
  },
  "widgets": {
   "application/vnd.jupyter.widget-state+json": {
    "state": {
     "1eb4a46c421b4b89a0353d97757f8981": {
      "model_module": "@jupyter-widgets/controls",
      "model_module_version": "2.0.0",
      "model_name": "HTMLStyleModel",
      "state": {
       "_model_module": "@jupyter-widgets/controls",
       "_model_module_version": "2.0.0",
       "_model_name": "HTMLStyleModel",
       "_view_count": null,
       "_view_module": "@jupyter-widgets/base",
       "_view_module_version": "2.0.0",
       "_view_name": "StyleView",
       "background": null,
       "description_width": "",
       "font_size": null,
       "text_color": null
      }
     },
     "20d12a9edcb44cfea756a9323cd39062": {
      "model_module": "@jupyter-widgets/controls",
      "model_module_version": "2.0.0",
      "model_name": "HTMLModel",
      "state": {
       "_dom_classes": [],
       "_model_module": "@jupyter-widgets/controls",
       "_model_module_version": "2.0.0",
       "_model_name": "HTMLModel",
       "_view_count": null,
       "_view_module": "@jupyter-widgets/controls",
       "_view_module_version": "2.0.0",
       "_view_name": "HTMLView",
       "description": "",
       "description_allow_html": false,
       "layout": "IPY_MODEL_dd6c18c6c7df43fea8a49486f759cde8",
       "placeholder": "​",
       "style": "IPY_MODEL_a803d8a7a6e349a9b0c8c46e1e18dccc",
       "tabbable": null,
       "tooltip": null,
       "value": "Loading checkpoint shards: 100%"
      }
     },
     "2b9225b2060c485f8ec04203de9bc364": {
      "model_module": "@jupyter-widgets/controls",
      "model_module_version": "2.0.0",
      "model_name": "HTMLModel",
      "state": {
       "_dom_classes": [],
       "_model_module": "@jupyter-widgets/controls",
       "_model_module_version": "2.0.0",
       "_model_name": "HTMLModel",
       "_view_count": null,
       "_view_module": "@jupyter-widgets/controls",
       "_view_module_version": "2.0.0",
       "_view_name": "HTMLView",
       "description": "",
       "description_allow_html": false,
       "layout": "IPY_MODEL_504348aecc314eff9492871ea7f82a4e",
       "placeholder": "​",
       "style": "IPY_MODEL_33eac20c5f074be99263d4f9b01844f7",
       "tabbable": null,
       "tooltip": null,
       "value": "Loading checkpoint shards: 100%"
      }
     },
     "33eac20c5f074be99263d4f9b01844f7": {
      "model_module": "@jupyter-widgets/controls",
      "model_module_version": "2.0.0",
      "model_name": "HTMLStyleModel",
      "state": {
       "_model_module": "@jupyter-widgets/controls",
       "_model_module_version": "2.0.0",
       "_model_name": "HTMLStyleModel",
       "_view_count": null,
       "_view_module": "@jupyter-widgets/base",
       "_view_module_version": "2.0.0",
       "_view_name": "StyleView",
       "background": null,
       "description_width": "",
       "font_size": null,
       "text_color": null
      }
     },
     "504348aecc314eff9492871ea7f82a4e": {
      "model_module": "@jupyter-widgets/base",
      "model_module_version": "2.0.0",
      "model_name": "LayoutModel",
      "state": {
       "_model_module": "@jupyter-widgets/base",
       "_model_module_version": "2.0.0",
       "_model_name": "LayoutModel",
       "_view_count": null,
       "_view_module": "@jupyter-widgets/base",
       "_view_module_version": "2.0.0",
       "_view_name": "LayoutView",
       "align_content": null,
       "align_items": null,
       "align_self": null,
       "border_bottom": null,
       "border_left": null,
       "border_right": null,
       "border_top": null,
       "bottom": null,
       "display": null,
       "flex": null,
       "flex_flow": null,
       "grid_area": null,
       "grid_auto_columns": null,
       "grid_auto_flow": null,
       "grid_auto_rows": null,
       "grid_column": null,
       "grid_gap": null,
       "grid_row": null,
       "grid_template_areas": null,
       "grid_template_columns": null,
       "grid_template_rows": null,
       "height": null,
       "justify_content": null,
       "justify_items": null,
       "left": null,
       "margin": null,
       "max_height": null,
       "max_width": null,
       "min_height": null,
       "min_width": null,
       "object_fit": null,
       "object_position": null,
       "order": null,
       "overflow": null,
       "padding": null,
       "right": null,
       "top": null,
       "visibility": null,
       "width": null
      }
     },
     "546ee6943bb44567aea18004ae18dfdf": {
      "model_module": "@jupyter-widgets/controls",
      "model_module_version": "2.0.0",
      "model_name": "HBoxModel",
      "state": {
       "_dom_classes": [],
       "_model_module": "@jupyter-widgets/controls",
       "_model_module_version": "2.0.0",
       "_model_name": "HBoxModel",
       "_view_count": null,
       "_view_module": "@jupyter-widgets/controls",
       "_view_module_version": "2.0.0",
       "_view_name": "HBoxView",
       "box_style": "",
       "children": [
        "IPY_MODEL_2b9225b2060c485f8ec04203de9bc364",
        "IPY_MODEL_e196650413d648df9ba7ef9d5ebbc6e3",
        "IPY_MODEL_b76c950e6341463a8a55b0a957e144d7"
       ],
       "layout": "IPY_MODEL_b1d68480ca7c4362bb13afc7f01ca0fe",
       "tabbable": null,
       "tooltip": null
      }
     },
     "73abf252d7bf49d389b4b061250ee0d4": {
      "model_module": "@jupyter-widgets/controls",
      "model_module_version": "2.0.0",
      "model_name": "FloatProgressModel",
      "state": {
       "_dom_classes": [],
       "_model_module": "@jupyter-widgets/controls",
       "_model_module_version": "2.0.0",
       "_model_name": "FloatProgressModel",
       "_view_count": null,
       "_view_module": "@jupyter-widgets/controls",
       "_view_module_version": "2.0.0",
       "_view_name": "ProgressView",
       "bar_style": "success",
       "description": "",
       "description_allow_html": false,
       "layout": "IPY_MODEL_d81009fda83548f7aa5bf59d3fc96176",
       "max": 4.0,
       "min": 0.0,
       "orientation": "horizontal",
       "style": "IPY_MODEL_c267efee60594fc09156f22c91fca9b1",
       "tabbable": null,
       "tooltip": null,
       "value": 4.0
      }
     },
     "8031305cf11c4e278345e778179897a3": {
      "model_module": "@jupyter-widgets/base",
      "model_module_version": "2.0.0",
      "model_name": "LayoutModel",
      "state": {
       "_model_module": "@jupyter-widgets/base",
       "_model_module_version": "2.0.0",
       "_model_name": "LayoutModel",
       "_view_count": null,
       "_view_module": "@jupyter-widgets/base",
       "_view_module_version": "2.0.0",
       "_view_name": "LayoutView",
       "align_content": null,
       "align_items": null,
       "align_self": null,
       "border_bottom": null,
       "border_left": null,
       "border_right": null,
       "border_top": null,
       "bottom": null,
       "display": null,
       "flex": null,
       "flex_flow": null,
       "grid_area": null,
       "grid_auto_columns": null,
       "grid_auto_flow": null,
       "grid_auto_rows": null,
       "grid_column": null,
       "grid_gap": null,
       "grid_row": null,
       "grid_template_areas": null,
       "grid_template_columns": null,
       "grid_template_rows": null,
       "height": null,
       "justify_content": null,
       "justify_items": null,
       "left": null,
       "margin": null,
       "max_height": null,
       "max_width": null,
       "min_height": null,
       "min_width": null,
       "object_fit": null,
       "object_position": null,
       "order": null,
       "overflow": null,
       "padding": null,
       "right": null,
       "top": null,
       "visibility": null,
       "width": null
      }
     },
     "80624621050b40958ce234d64891a023": {
      "model_module": "@jupyter-widgets/base",
      "model_module_version": "2.0.0",
      "model_name": "LayoutModel",
      "state": {
       "_model_module": "@jupyter-widgets/base",
       "_model_module_version": "2.0.0",
       "_model_name": "LayoutModel",
       "_view_count": null,
       "_view_module": "@jupyter-widgets/base",
       "_view_module_version": "2.0.0",
       "_view_name": "LayoutView",
       "align_content": null,
       "align_items": null,
       "align_self": null,
       "border_bottom": null,
       "border_left": null,
       "border_right": null,
       "border_top": null,
       "bottom": null,
       "display": null,
       "flex": null,
       "flex_flow": null,
       "grid_area": null,
       "grid_auto_columns": null,
       "grid_auto_flow": null,
       "grid_auto_rows": null,
       "grid_column": null,
       "grid_gap": null,
       "grid_row": null,
       "grid_template_areas": null,
       "grid_template_columns": null,
       "grid_template_rows": null,
       "height": null,
       "justify_content": null,
       "justify_items": null,
       "left": null,
       "margin": null,
       "max_height": null,
       "max_width": null,
       "min_height": null,
       "min_width": null,
       "object_fit": null,
       "object_position": null,
       "order": null,
       "overflow": null,
       "padding": null,
       "right": null,
       "top": null,
       "visibility": null,
       "width": null
      }
     },
     "889df60f493c4fd69dc0aaec38e0d39a": {
      "model_module": "@jupyter-widgets/controls",
      "model_module_version": "2.0.0",
      "model_name": "HBoxModel",
      "state": {
       "_dom_classes": [],
       "_model_module": "@jupyter-widgets/controls",
       "_model_module_version": "2.0.0",
       "_model_name": "HBoxModel",
       "_view_count": null,
       "_view_module": "@jupyter-widgets/controls",
       "_view_module_version": "2.0.0",
       "_view_name": "HBoxView",
       "box_style": "",
       "children": [
        "IPY_MODEL_20d12a9edcb44cfea756a9323cd39062",
        "IPY_MODEL_73abf252d7bf49d389b4b061250ee0d4",
        "IPY_MODEL_d8c48cdeb7184d13991d9ba36312f572"
       ],
       "layout": "IPY_MODEL_93c6b9f058764ba39dc804099637721f",
       "tabbable": null,
       "tooltip": null
      }
     },
     "93c6b9f058764ba39dc804099637721f": {
      "model_module": "@jupyter-widgets/base",
      "model_module_version": "2.0.0",
      "model_name": "LayoutModel",
      "state": {
       "_model_module": "@jupyter-widgets/base",
       "_model_module_version": "2.0.0",
       "_model_name": "LayoutModel",
       "_view_count": null,
       "_view_module": "@jupyter-widgets/base",
       "_view_module_version": "2.0.0",
       "_view_name": "LayoutView",
       "align_content": null,
       "align_items": null,
       "align_self": null,
       "border_bottom": null,
       "border_left": null,
       "border_right": null,
       "border_top": null,
       "bottom": null,
       "display": null,
       "flex": null,
       "flex_flow": null,
       "grid_area": null,
       "grid_auto_columns": null,
       "grid_auto_flow": null,
       "grid_auto_rows": null,
       "grid_column": null,
       "grid_gap": null,
       "grid_row": null,
       "grid_template_areas": null,
       "grid_template_columns": null,
       "grid_template_rows": null,
       "height": null,
       "justify_content": null,
       "justify_items": null,
       "left": null,
       "margin": null,
       "max_height": null,
       "max_width": null,
       "min_height": null,
       "min_width": null,
       "object_fit": null,
       "object_position": null,
       "order": null,
       "overflow": null,
       "padding": null,
       "right": null,
       "top": null,
       "visibility": null,
       "width": null
      }
     },
     "a485b3555a424c349878928b3d4ecaa2": {
      "model_module": "@jupyter-widgets/base",
      "model_module_version": "2.0.0",
      "model_name": "LayoutModel",
      "state": {
       "_model_module": "@jupyter-widgets/base",
       "_model_module_version": "2.0.0",
       "_model_name": "LayoutModel",
       "_view_count": null,
       "_view_module": "@jupyter-widgets/base",
       "_view_module_version": "2.0.0",
       "_view_name": "LayoutView",
       "align_content": null,
       "align_items": null,
       "align_self": null,
       "border_bottom": null,
       "border_left": null,
       "border_right": null,
       "border_top": null,
       "bottom": null,
       "display": null,
       "flex": null,
       "flex_flow": null,
       "grid_area": null,
       "grid_auto_columns": null,
       "grid_auto_flow": null,
       "grid_auto_rows": null,
       "grid_column": null,
       "grid_gap": null,
       "grid_row": null,
       "grid_template_areas": null,
       "grid_template_columns": null,
       "grid_template_rows": null,
       "height": null,
       "justify_content": null,
       "justify_items": null,
       "left": null,
       "margin": null,
       "max_height": null,
       "max_width": null,
       "min_height": null,
       "min_width": null,
       "object_fit": null,
       "object_position": null,
       "order": null,
       "overflow": null,
       "padding": null,
       "right": null,
       "top": null,
       "visibility": null,
       "width": null
      }
     },
     "a803d8a7a6e349a9b0c8c46e1e18dccc": {
      "model_module": "@jupyter-widgets/controls",
      "model_module_version": "2.0.0",
      "model_name": "HTMLStyleModel",
      "state": {
       "_model_module": "@jupyter-widgets/controls",
       "_model_module_version": "2.0.0",
       "_model_name": "HTMLStyleModel",
       "_view_count": null,
       "_view_module": "@jupyter-widgets/base",
       "_view_module_version": "2.0.0",
       "_view_name": "StyleView",
       "background": null,
       "description_width": "",
       "font_size": null,
       "text_color": null
      }
     },
     "abccb8d3b1e74612afe85f77480eb883": {
      "model_module": "@jupyter-widgets/controls",
      "model_module_version": "2.0.0",
      "model_name": "ProgressStyleModel",
      "state": {
       "_model_module": "@jupyter-widgets/controls",
       "_model_module_version": "2.0.0",
       "_model_name": "ProgressStyleModel",
       "_view_count": null,
       "_view_module": "@jupyter-widgets/base",
       "_view_module_version": "2.0.0",
       "_view_name": "StyleView",
       "bar_color": null,
       "description_width": ""
      }
     },
     "b1d68480ca7c4362bb13afc7f01ca0fe": {
      "model_module": "@jupyter-widgets/base",
      "model_module_version": "2.0.0",
      "model_name": "LayoutModel",
      "state": {
       "_model_module": "@jupyter-widgets/base",
       "_model_module_version": "2.0.0",
       "_model_name": "LayoutModel",
       "_view_count": null,
       "_view_module": "@jupyter-widgets/base",
       "_view_module_version": "2.0.0",
       "_view_name": "LayoutView",
       "align_content": null,
       "align_items": null,
       "align_self": null,
       "border_bottom": null,
       "border_left": null,
       "border_right": null,
       "border_top": null,
       "bottom": null,
       "display": null,
       "flex": null,
       "flex_flow": null,
       "grid_area": null,
       "grid_auto_columns": null,
       "grid_auto_flow": null,
       "grid_auto_rows": null,
       "grid_column": null,
       "grid_gap": null,
       "grid_row": null,
       "grid_template_areas": null,
       "grid_template_columns": null,
       "grid_template_rows": null,
       "height": null,
       "justify_content": null,
       "justify_items": null,
       "left": null,
       "margin": null,
       "max_height": null,
       "max_width": null,
       "min_height": null,
       "min_width": null,
       "object_fit": null,
       "object_position": null,
       "order": null,
       "overflow": null,
       "padding": null,
       "right": null,
       "top": null,
       "visibility": null,
       "width": null
      }
     },
     "b76c950e6341463a8a55b0a957e144d7": {
      "model_module": "@jupyter-widgets/controls",
      "model_module_version": "2.0.0",
      "model_name": "HTMLModel",
      "state": {
       "_dom_classes": [],
       "_model_module": "@jupyter-widgets/controls",
       "_model_module_version": "2.0.0",
       "_model_name": "HTMLModel",
       "_view_count": null,
       "_view_module": "@jupyter-widgets/controls",
       "_view_module_version": "2.0.0",
       "_view_name": "HTMLView",
       "description": "",
       "description_allow_html": false,
       "layout": "IPY_MODEL_80624621050b40958ce234d64891a023",
       "placeholder": "​",
       "style": "IPY_MODEL_c8ac7de3fda1443bb2e5da47d7d8765f",
       "tabbable": null,
       "tooltip": null,
       "value": " 4/4 [01:52&lt;00:00, 26.85s/it]"
      }
     },
     "c267efee60594fc09156f22c91fca9b1": {
      "model_module": "@jupyter-widgets/controls",
      "model_module_version": "2.0.0",
      "model_name": "ProgressStyleModel",
      "state": {
       "_model_module": "@jupyter-widgets/controls",
       "_model_module_version": "2.0.0",
       "_model_name": "ProgressStyleModel",
       "_view_count": null,
       "_view_module": "@jupyter-widgets/base",
       "_view_module_version": "2.0.0",
       "_view_name": "StyleView",
       "bar_color": null,
       "description_width": ""
      }
     },
     "c8ac7de3fda1443bb2e5da47d7d8765f": {
      "model_module": "@jupyter-widgets/controls",
      "model_module_version": "2.0.0",
      "model_name": "HTMLStyleModel",
      "state": {
       "_model_module": "@jupyter-widgets/controls",
       "_model_module_version": "2.0.0",
       "_model_name": "HTMLStyleModel",
       "_view_count": null,
       "_view_module": "@jupyter-widgets/base",
       "_view_module_version": "2.0.0",
       "_view_name": "StyleView",
       "background": null,
       "description_width": "",
       "font_size": null,
       "text_color": null
      }
     },
     "d81009fda83548f7aa5bf59d3fc96176": {
      "model_module": "@jupyter-widgets/base",
      "model_module_version": "2.0.0",
      "model_name": "LayoutModel",
      "state": {
       "_model_module": "@jupyter-widgets/base",
       "_model_module_version": "2.0.0",
       "_model_name": "LayoutModel",
       "_view_count": null,
       "_view_module": "@jupyter-widgets/base",
       "_view_module_version": "2.0.0",
       "_view_name": "LayoutView",
       "align_content": null,
       "align_items": null,
       "align_self": null,
       "border_bottom": null,
       "border_left": null,
       "border_right": null,
       "border_top": null,
       "bottom": null,
       "display": null,
       "flex": null,
       "flex_flow": null,
       "grid_area": null,
       "grid_auto_columns": null,
       "grid_auto_flow": null,
       "grid_auto_rows": null,
       "grid_column": null,
       "grid_gap": null,
       "grid_row": null,
       "grid_template_areas": null,
       "grid_template_columns": null,
       "grid_template_rows": null,
       "height": null,
       "justify_content": null,
       "justify_items": null,
       "left": null,
       "margin": null,
       "max_height": null,
       "max_width": null,
       "min_height": null,
       "min_width": null,
       "object_fit": null,
       "object_position": null,
       "order": null,
       "overflow": null,
       "padding": null,
       "right": null,
       "top": null,
       "visibility": null,
       "width": null
      }
     },
     "d8c48cdeb7184d13991d9ba36312f572": {
      "model_module": "@jupyter-widgets/controls",
      "model_module_version": "2.0.0",
      "model_name": "HTMLModel",
      "state": {
       "_dom_classes": [],
       "_model_module": "@jupyter-widgets/controls",
       "_model_module_version": "2.0.0",
       "_model_name": "HTMLModel",
       "_view_count": null,
       "_view_module": "@jupyter-widgets/controls",
       "_view_module_version": "2.0.0",
       "_view_name": "HTMLView",
       "description": "",
       "description_allow_html": false,
       "layout": "IPY_MODEL_a485b3555a424c349878928b3d4ecaa2",
       "placeholder": "​",
       "style": "IPY_MODEL_1eb4a46c421b4b89a0353d97757f8981",
       "tabbable": null,
       "tooltip": null,
       "value": " 4/4 [00:20&lt;00:00,  4.90s/it]"
      }
     },
     "dd6c18c6c7df43fea8a49486f759cde8": {
      "model_module": "@jupyter-widgets/base",
      "model_module_version": "2.0.0",
      "model_name": "LayoutModel",
      "state": {
       "_model_module": "@jupyter-widgets/base",
       "_model_module_version": "2.0.0",
       "_model_name": "LayoutModel",
       "_view_count": null,
       "_view_module": "@jupyter-widgets/base",
       "_view_module_version": "2.0.0",
       "_view_name": "LayoutView",
       "align_content": null,
       "align_items": null,
       "align_self": null,
       "border_bottom": null,
       "border_left": null,
       "border_right": null,
       "border_top": null,
       "bottom": null,
       "display": null,
       "flex": null,
       "flex_flow": null,
       "grid_area": null,
       "grid_auto_columns": null,
       "grid_auto_flow": null,
       "grid_auto_rows": null,
       "grid_column": null,
       "grid_gap": null,
       "grid_row": null,
       "grid_template_areas": null,
       "grid_template_columns": null,
       "grid_template_rows": null,
       "height": null,
       "justify_content": null,
       "justify_items": null,
       "left": null,
       "margin": null,
       "max_height": null,
       "max_width": null,
       "min_height": null,
       "min_width": null,
       "object_fit": null,
       "object_position": null,
       "order": null,
       "overflow": null,
       "padding": null,
       "right": null,
       "top": null,
       "visibility": null,
       "width": null
      }
     },
     "e196650413d648df9ba7ef9d5ebbc6e3": {
      "model_module": "@jupyter-widgets/controls",
      "model_module_version": "2.0.0",
      "model_name": "FloatProgressModel",
      "state": {
       "_dom_classes": [],
       "_model_module": "@jupyter-widgets/controls",
       "_model_module_version": "2.0.0",
       "_model_name": "FloatProgressModel",
       "_view_count": null,
       "_view_module": "@jupyter-widgets/controls",
       "_view_module_version": "2.0.0",
       "_view_name": "ProgressView",
       "bar_style": "success",
       "description": "",
       "description_allow_html": false,
       "layout": "IPY_MODEL_8031305cf11c4e278345e778179897a3",
       "max": 4.0,
       "min": 0.0,
       "orientation": "horizontal",
       "style": "IPY_MODEL_abccb8d3b1e74612afe85f77480eb883",
       "tabbable": null,
       "tooltip": null,
       "value": 4.0
      }
     }
    },
    "version_major": 2,
    "version_minor": 0
   }
  }
 },
 "nbformat": 4,
 "nbformat_minor": 5
}
