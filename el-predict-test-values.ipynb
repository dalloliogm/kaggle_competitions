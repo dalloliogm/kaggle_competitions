{
 "cells": [
  {
   "cell_type": "code",
   "execution_count": null,
   "metadata": {},
   "outputs": [],
   "source": [
    "from kaggle.api.kaggle_api_extended import KaggleApi\n",
    "import pandas as pd\n",
    "\n",
    "# Initialize and authenticate the API\n",
    "api = KaggleApi()\n",
    "api.authenticate()\n",
    "\n",
    "# Replace with your competition slug\n",
    "competition_slug = 'elucidata-competition'\n",
    "\n",
    "# Retrieve your submissions for the competition\n",
    "submissions = api.competition_submissions(competition_slug)\n",
    "\n",
    "# Extract relevant details from each submission\n",
    "submissions_data = []\n",
    "for sub in submissions:\n",
    "    submissions_data.append({\n",
    "        \"Submission ID\": sub.ref,\n",
    "        \"Status\": sub.status,\n",
    "        \"Public Score\": sub.publicScore,\n",
    "        \"Private Score\": sub.privateScore,\n",
    "        \"File Name\": sub.fileName,\n",
    "        \"Created\": sub.created\n",
    "    })\n",
    "\n",
    "# Convert the submissions data into a pandas DataFrame for easier analysis\n",
    "df_submissions = pd.DataFrame(submissions_data)\n",
    "print(df_submissions)"
   ]
  }
 ],
 "metadata": {
  "language_info": {
   "name": "python"
  }
 },
 "nbformat": 4,
 "nbformat_minor": 2
}
