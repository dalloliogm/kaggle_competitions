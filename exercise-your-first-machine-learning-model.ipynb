{
 "cells": [
  {
   "cell_type": "markdown",
   "id": "3344eb90",
   "metadata": {
    "papermill": {
     "duration": 0.004753,
     "end_time": "2025-10-17T12:30:41.556504",
     "exception": false,
     "start_time": "2025-10-17T12:30:41.551751",
     "status": "completed"
    },
    "tags": []
   },
   "source": [
    "**This notebook is an exercise in the [Introduction to Machine Learning](https://www.kaggle.com/learn/intro-to-machine-learning) course.  You can reference the tutorial at [this link](https://www.kaggle.com/dansbecker/your-first-machine-learning-model).**\n",
    "\n",
    "---\n"
   ]
  },
  {
   "cell_type": "markdown",
   "id": "457e1bfc",
   "metadata": {
    "papermill": {
     "duration": 0.003341,
     "end_time": "2025-10-17T12:30:41.563654",
     "exception": false,
     "start_time": "2025-10-17T12:30:41.560313",
     "status": "completed"
    },
    "tags": []
   },
   "source": [
    "## Recap\n",
    "So far, you have loaded your data and reviewed it with the following code. Run this cell to set up your coding environment where the previous step left off."
   ]
  },
  {
   "cell_type": "code",
   "execution_count": 1,
   "id": "c16a9e5a",
   "metadata": {
    "execution": {
     "iopub.execute_input": "2025-10-17T12:30:41.571984Z",
     "iopub.status.busy": "2025-10-17T12:30:41.571603Z",
     "iopub.status.idle": "2025-10-17T12:30:45.234321Z",
     "shell.execute_reply": "2025-10-17T12:30:45.233385Z"
    },
    "papermill": {
     "duration": 3.668505,
     "end_time": "2025-10-17T12:30:45.235695",
     "exception": false,
     "start_time": "2025-10-17T12:30:41.567190",
     "status": "completed"
    },
    "tags": []
   },
   "outputs": [
    {
     "name": "stdout",
     "output_type": "stream",
     "text": [
      "Setup Complete\n"
     ]
    }
   ],
   "source": [
    "# Code you have previously used to load data\n",
    "import pandas as pd\n",
    "\n",
    "# Path of the file to read\n",
    "iowa_file_path = '../input/home-data-for-ml-course/train.csv'\n",
    "\n",
    "home_data = pd.read_csv(iowa_file_path)\n",
    "\n",
    "# Set up code checking\n",
    "from learntools.core import binder\n",
    "binder.bind(globals())\n",
    "from learntools.machine_learning.ex3 import *\n",
    "\n",
    "print(\"Setup Complete\")"
   ]
  },
  {
   "cell_type": "markdown",
   "id": "db51c244",
   "metadata": {
    "papermill": {
     "duration": 0.003359,
     "end_time": "2025-10-17T12:30:45.242741",
     "exception": false,
     "start_time": "2025-10-17T12:30:45.239382",
     "status": "completed"
    },
    "tags": []
   },
   "source": [
    "# Exercises\n",
    "\n",
    "## Step 1: Specify Prediction Target\n",
    "Select the target variable, which corresponds to the sales price. Save this to a new variable called `y`. You'll need to print a list of the columns to find the name of the column you need.\n"
   ]
  },
  {
   "cell_type": "code",
   "execution_count": 2,
   "id": "18a5dd75",
   "metadata": {
    "execution": {
     "iopub.execute_input": "2025-10-17T12:30:45.250841Z",
     "iopub.status.busy": "2025-10-17T12:30:45.250408Z",
     "iopub.status.idle": "2025-10-17T12:30:45.257217Z",
     "shell.execute_reply": "2025-10-17T12:30:45.256241Z"
    },
    "papermill": {
     "duration": 0.012567,
     "end_time": "2025-10-17T12:30:45.258668",
     "exception": false,
     "start_time": "2025-10-17T12:30:45.246101",
     "status": "completed"
    },
    "tags": []
   },
   "outputs": [
    {
     "name": "stdout",
     "output_type": "stream",
     "text": [
      "Index(['Id', 'MSSubClass', 'MSZoning', 'LotFrontage', 'LotArea', 'Street',\n",
      "       'Alley', 'LotShape', 'LandContour', 'Utilities', 'LotConfig',\n",
      "       'LandSlope', 'Neighborhood', 'Condition1', 'Condition2', 'BldgType',\n",
      "       'HouseStyle', 'OverallQual', 'OverallCond', 'YearBuilt', 'YearRemodAdd',\n",
      "       'RoofStyle', 'RoofMatl', 'Exterior1st', 'Exterior2nd', 'MasVnrType',\n",
      "       'MasVnrArea', 'ExterQual', 'ExterCond', 'Foundation', 'BsmtQual',\n",
      "       'BsmtCond', 'BsmtExposure', 'BsmtFinType1', 'BsmtFinSF1',\n",
      "       'BsmtFinType2', 'BsmtFinSF2', 'BsmtUnfSF', 'TotalBsmtSF', 'Heating',\n",
      "       'HeatingQC', 'CentralAir', 'Electrical', '1stFlrSF', '2ndFlrSF',\n",
      "       'LowQualFinSF', 'GrLivArea', 'BsmtFullBath', 'BsmtHalfBath', 'FullBath',\n",
      "       'HalfBath', 'BedroomAbvGr', 'KitchenAbvGr', 'KitchenQual',\n",
      "       'TotRmsAbvGrd', 'Functional', 'Fireplaces', 'FireplaceQu', 'GarageType',\n",
      "       'GarageYrBlt', 'GarageFinish', 'GarageCars', 'GarageArea', 'GarageQual',\n",
      "       'GarageCond', 'PavedDrive', 'WoodDeckSF', 'OpenPorchSF',\n",
      "       'EnclosedPorch', '3SsnPorch', 'ScreenPorch', 'PoolArea', 'PoolQC',\n",
      "       'Fence', 'MiscFeature', 'MiscVal', 'MoSold', 'YrSold', 'SaleType',\n",
      "       'SaleCondition', 'SalePrice'],\n",
      "      dtype='object')\n"
     ]
    }
   ],
   "source": [
    "# print the list of columns in the dataset to find the name of the prediction target\n",
    "print(home_data.columns)"
   ]
  },
  {
   "cell_type": "code",
   "execution_count": 3,
   "id": "604c7fa9",
   "metadata": {
    "execution": {
     "iopub.execute_input": "2025-10-17T12:30:45.267394Z",
     "iopub.status.busy": "2025-10-17T12:30:45.267072Z",
     "iopub.status.idle": "2025-10-17T12:30:45.279182Z",
     "shell.execute_reply": "2025-10-17T12:30:45.278456Z"
    },
    "papermill": {
     "duration": 0.017935,
     "end_time": "2025-10-17T12:30:45.280492",
     "exception": false,
     "start_time": "2025-10-17T12:30:45.262557",
     "status": "completed"
    },
    "tags": []
   },
   "outputs": [
    {
     "data": {
      "application/javascript": [
       "parent.postMessage({\"jupyterEvent\": \"custom.exercise_interaction\", \"data\": {\"outcomeType\": 1, \"valueTowardsCompletion\": 0.25, \"interactionType\": 1, \"questionType\": 2, \"questionId\": \"1_SetTarget\", \"learnToolsVersion\": \"0.3.5\", \"failureMessage\": \"\", \"exceptionClass\": \"\", \"trace\": \"\"}}, \"*\")"
      ],
      "text/plain": [
       "<IPython.core.display.Javascript object>"
      ]
     },
     "metadata": {},
     "output_type": "display_data"
    },
    {
     "data": {
      "text/markdown": [
       "<span style=\"color:#33cc33\">Correct</span>"
      ],
      "text/plain": [
       "Correct"
      ]
     },
     "metadata": {},
     "output_type": "display_data"
    }
   ],
   "source": [
    "y = home_data['SalePrice']\n",
    "\n",
    "# Check your answer\n",
    "step_1.check()"
   ]
  },
  {
   "cell_type": "code",
   "execution_count": 4,
   "id": "7cffbbf2",
   "metadata": {
    "collapsed": true,
    "execution": {
     "iopub.execute_input": "2025-10-17T12:30:45.289683Z",
     "iopub.status.busy": "2025-10-17T12:30:45.289067Z",
     "iopub.status.idle": "2025-10-17T12:30:45.292784Z",
     "shell.execute_reply": "2025-10-17T12:30:45.291911Z"
    },
    "jupyter": {
     "outputs_hidden": true
    },
    "papermill": {
     "duration": 0.009708,
     "end_time": "2025-10-17T12:30:45.294192",
     "exception": false,
     "start_time": "2025-10-17T12:30:45.284484",
     "status": "completed"
    },
    "tags": []
   },
   "outputs": [],
   "source": [
    "# The lines below will show you a hint or the solution.\n",
    "# step_1.hint() \n",
    "# step_1.solution()"
   ]
  },
  {
   "cell_type": "markdown",
   "id": "ef4f42a5",
   "metadata": {
    "papermill": {
     "duration": 0.00351,
     "end_time": "2025-10-17T12:30:45.301497",
     "exception": false,
     "start_time": "2025-10-17T12:30:45.297987",
     "status": "completed"
    },
    "tags": []
   },
   "source": [
    "## Step 2: Create X\n",
    "Now you will create a DataFrame called `X` holding the predictive features.\n",
    "\n",
    "Since you want only some columns from the original data, you'll first create a list with the names of the columns you want in `X`.\n",
    "\n",
    "You'll use just the following columns in the list (you can copy and paste the whole list to save some typing, though you'll still need to add quotes):\n",
    "  * LotArea\n",
    "  * YearBuilt\n",
    "  * 1stFlrSF\n",
    "  * 2ndFlrSF\n",
    "  * FullBath\n",
    "  * BedroomAbvGr\n",
    "  * TotRmsAbvGrd\n",
    "\n",
    "After you've created that list of features, use it to create the DataFrame that you'll use to fit the model."
   ]
  },
  {
   "cell_type": "code",
   "execution_count": 5,
   "id": "b3ce61d1",
   "metadata": {
    "execution": {
     "iopub.execute_input": "2025-10-17T12:30:45.310586Z",
     "iopub.status.busy": "2025-10-17T12:30:45.309719Z",
     "iopub.status.idle": "2025-10-17T12:30:45.319928Z",
     "shell.execute_reply": "2025-10-17T12:30:45.319005Z"
    },
    "papermill": {
     "duration": 0.015981,
     "end_time": "2025-10-17T12:30:45.321189",
     "exception": false,
     "start_time": "2025-10-17T12:30:45.305208",
     "status": "completed"
    },
    "tags": []
   },
   "outputs": [
    {
     "data": {
      "application/javascript": [
       "parent.postMessage({\"jupyterEvent\": \"custom.exercise_interaction\", \"data\": {\"outcomeType\": 1, \"valueTowardsCompletion\": 0.25, \"interactionType\": 1, \"questionType\": 2, \"questionId\": \"2_SelectPredictionData\", \"learnToolsVersion\": \"0.3.5\", \"failureMessage\": \"\", \"exceptionClass\": \"\", \"trace\": \"\"}}, \"*\")"
      ],
      "text/plain": [
       "<IPython.core.display.Javascript object>"
      ]
     },
     "metadata": {},
     "output_type": "display_data"
    },
    {
     "data": {
      "text/markdown": [
       "<span style=\"color:#33cc33\">Correct</span>"
      ],
      "text/plain": [
       "Correct"
      ]
     },
     "metadata": {},
     "output_type": "display_data"
    }
   ],
   "source": [
    "# Create the list of features below\n",
    "feature_names = ['LotArea', 'YearBuilt', '1stFlrSF', '2ndFlrSF', 'FullBath', 'BedroomAbvGr', 'TotRmsAbvGrd']\n",
    "\n",
    "# Select data corresponding to features in feature_names\n",
    "X = home_data[feature_names]\n",
    "\n",
    "# Check your answer\n",
    "step_2.check()"
   ]
  },
  {
   "cell_type": "code",
   "execution_count": 6,
   "id": "c5cf3f15",
   "metadata": {
    "collapsed": true,
    "execution": {
     "iopub.execute_input": "2025-10-17T12:30:45.330363Z",
     "iopub.status.busy": "2025-10-17T12:30:45.330059Z",
     "iopub.status.idle": "2025-10-17T12:30:45.333952Z",
     "shell.execute_reply": "2025-10-17T12:30:45.333119Z"
    },
    "jupyter": {
     "outputs_hidden": true
    },
    "papermill": {
     "duration": 0.009891,
     "end_time": "2025-10-17T12:30:45.335213",
     "exception": false,
     "start_time": "2025-10-17T12:30:45.325322",
     "status": "completed"
    },
    "tags": []
   },
   "outputs": [],
   "source": [
    "# step_2.hint()\n",
    "# step_2.solution()"
   ]
  },
  {
   "cell_type": "markdown",
   "id": "2043070c",
   "metadata": {
    "papermill": {
     "duration": 0.00379,
     "end_time": "2025-10-17T12:30:45.342992",
     "exception": false,
     "start_time": "2025-10-17T12:30:45.339202",
     "status": "completed"
    },
    "tags": []
   },
   "source": [
    "## Review Data\n",
    "Before building a model, take a quick look at **X** to verify it looks sensible"
   ]
  },
  {
   "cell_type": "code",
   "execution_count": 7,
   "id": "f0311867",
   "metadata": {
    "execution": {
     "iopub.execute_input": "2025-10-17T12:30:45.352078Z",
     "iopub.status.busy": "2025-10-17T12:30:45.351764Z",
     "iopub.status.idle": "2025-10-17T12:30:45.379700Z",
     "shell.execute_reply": "2025-10-17T12:30:45.378750Z"
    },
    "papermill": {
     "duration": 0.034169,
     "end_time": "2025-10-17T12:30:45.381060",
     "exception": false,
     "start_time": "2025-10-17T12:30:45.346891",
     "status": "completed"
    },
    "tags": []
   },
   "outputs": [
    {
     "name": "stdout",
     "output_type": "stream",
     "text": [
      "             LotArea    YearBuilt     1stFlrSF     2ndFlrSF     FullBath  \\\n",
      "count    1460.000000  1460.000000  1460.000000  1460.000000  1460.000000   \n",
      "mean    10516.828082  1971.267808  1162.626712   346.992466     1.565068   \n",
      "std      9981.264932    30.202904   386.587738   436.528436     0.550916   \n",
      "min      1300.000000  1872.000000   334.000000     0.000000     0.000000   \n",
      "25%      7553.500000  1954.000000   882.000000     0.000000     1.000000   \n",
      "50%      9478.500000  1973.000000  1087.000000     0.000000     2.000000   \n",
      "75%     11601.500000  2000.000000  1391.250000   728.000000     2.000000   \n",
      "max    215245.000000  2010.000000  4692.000000  2065.000000     3.000000   \n",
      "\n",
      "       BedroomAbvGr  TotRmsAbvGrd  \n",
      "count   1460.000000   1460.000000  \n",
      "mean       2.866438      6.517808  \n",
      "std        0.815778      1.625393  \n",
      "min        0.000000      2.000000  \n",
      "25%        2.000000      5.000000  \n",
      "50%        3.000000      6.000000  \n",
      "75%        3.000000      7.000000  \n",
      "max        8.000000     14.000000  \n",
      "   LotArea  YearBuilt  1stFlrSF  2ndFlrSF  FullBath  BedroomAbvGr  \\\n",
      "0     8450       2003       856       854         2             3   \n",
      "1     9600       1976      1262         0         2             3   \n",
      "2    11250       2001       920       866         2             3   \n",
      "3     9550       1915       961       756         1             3   \n",
      "4    14260       2000      1145      1053         2             4   \n",
      "\n",
      "   TotRmsAbvGrd  \n",
      "0             8  \n",
      "1             6  \n",
      "2             6  \n",
      "3             7  \n",
      "4             9  \n"
     ]
    }
   ],
   "source": [
    "# Review data\n",
    "# print description or statistics from X\n",
    "print(X.describe())\n",
    "\n",
    "# print the top few lines\n",
    "print(X.head())"
   ]
  },
  {
   "cell_type": "markdown",
   "id": "a7494a2a",
   "metadata": {
    "papermill": {
     "duration": 0.003956,
     "end_time": "2025-10-17T12:30:45.389297",
     "exception": false,
     "start_time": "2025-10-17T12:30:45.385341",
     "status": "completed"
    },
    "tags": []
   },
   "source": [
    "## Step 3: Specify and Fit Model\n",
    "Create a `DecisionTreeRegressor` and save it iowa_model. Ensure you've done the relevant import from sklearn to run this command.\n",
    "\n",
    "Then fit the model you just created using the data in `X` and `y` that you saved above."
   ]
  },
  {
   "cell_type": "code",
   "execution_count": 8,
   "id": "f14a845c",
   "metadata": {
    "execution": {
     "iopub.execute_input": "2025-10-17T12:30:45.398653Z",
     "iopub.status.busy": "2025-10-17T12:30:45.398071Z",
     "iopub.status.idle": "2025-10-17T12:30:45.414264Z",
     "shell.execute_reply": "2025-10-17T12:30:45.413378Z"
    },
    "papermill": {
     "duration": 0.022386,
     "end_time": "2025-10-17T12:30:45.415682",
     "exception": false,
     "start_time": "2025-10-17T12:30:45.393296",
     "status": "completed"
    },
    "tags": []
   },
   "outputs": [
    {
     "data": {
      "application/javascript": [
       "parent.postMessage({\"jupyterEvent\": \"custom.exercise_interaction\", \"data\": {\"outcomeType\": 1, \"valueTowardsCompletion\": 0.25, \"interactionType\": 1, \"questionType\": 2, \"questionId\": \"3_CreateModel\", \"learnToolsVersion\": \"0.3.5\", \"failureMessage\": \"\", \"exceptionClass\": \"\", \"trace\": \"\"}}, \"*\")"
      ],
      "text/plain": [
       "<IPython.core.display.Javascript object>"
      ]
     },
     "metadata": {},
     "output_type": "display_data"
    },
    {
     "data": {
      "text/markdown": [
       "<span style=\"color:#33cc33\">Correct</span>"
      ],
      "text/plain": [
       "Correct"
      ]
     },
     "metadata": {},
     "output_type": "display_data"
    }
   ],
   "source": [
    "from sklearn.tree import DecisionTreeRegressor\n",
    "#specify the model. \n",
    "#For model reproducibility, set a numeric value for random_state when specifying the model\n",
    "iowa_model = DecisionTreeRegressor(random_state=42)\n",
    "\n",
    "# Fit the model\n",
    "iowa_model.fit(X, y)\n",
    "\n",
    "# Check your answer\n",
    "step_3.check()"
   ]
  },
  {
   "cell_type": "code",
   "execution_count": 9,
   "id": "e507ecd0",
   "metadata": {
    "collapsed": true,
    "execution": {
     "iopub.execute_input": "2025-10-17T12:30:45.427522Z",
     "iopub.status.busy": "2025-10-17T12:30:45.426667Z",
     "iopub.status.idle": "2025-10-17T12:30:45.430552Z",
     "shell.execute_reply": "2025-10-17T12:30:45.429835Z"
    },
    "jupyter": {
     "outputs_hidden": true
    },
    "papermill": {
     "duration": 0.011487,
     "end_time": "2025-10-17T12:30:45.431984",
     "exception": false,
     "start_time": "2025-10-17T12:30:45.420497",
     "status": "completed"
    },
    "tags": []
   },
   "outputs": [],
   "source": [
    "# step_3.hint()\n",
    "# step_3.solution()"
   ]
  },
  {
   "cell_type": "markdown",
   "id": "4e3fe310",
   "metadata": {
    "papermill": {
     "duration": 0.004123,
     "end_time": "2025-10-17T12:30:45.440523",
     "exception": false,
     "start_time": "2025-10-17T12:30:45.436400",
     "status": "completed"
    },
    "tags": []
   },
   "source": [
    "## Step 4: Make Predictions\n",
    "Make predictions with the model's `predict` command using `X` as the data. Save the results to a variable called `predictions`."
   ]
  },
  {
   "cell_type": "code",
   "execution_count": 10,
   "id": "020eeb9e",
   "metadata": {
    "execution": {
     "iopub.execute_input": "2025-10-17T12:30:45.450191Z",
     "iopub.status.busy": "2025-10-17T12:30:45.449923Z",
     "iopub.status.idle": "2025-10-17T12:30:45.461056Z",
     "shell.execute_reply": "2025-10-17T12:30:45.460265Z"
    },
    "papermill": {
     "duration": 0.017864,
     "end_time": "2025-10-17T12:30:45.462569",
     "exception": false,
     "start_time": "2025-10-17T12:30:45.444705",
     "status": "completed"
    },
    "tags": []
   },
   "outputs": [
    {
     "name": "stdout",
     "output_type": "stream",
     "text": [
      "[208500. 181500. 223500. ... 266500. 142125. 147500.]\n"
     ]
    },
    {
     "data": {
      "application/javascript": [
       "parent.postMessage({\"jupyterEvent\": \"custom.exercise_interaction\", \"data\": {\"outcomeType\": 1, \"valueTowardsCompletion\": 0.25, \"interactionType\": 1, \"questionType\": 2, \"questionId\": \"4_MakePredictions\", \"learnToolsVersion\": \"0.3.5\", \"failureMessage\": \"\", \"exceptionClass\": \"\", \"trace\": \"\"}}, \"*\")"
      ],
      "text/plain": [
       "<IPython.core.display.Javascript object>"
      ]
     },
     "metadata": {},
     "output_type": "display_data"
    },
    {
     "data": {
      "text/markdown": [
       "<span style=\"color:#33cc33\">Correct</span>"
      ],
      "text/plain": [
       "Correct"
      ]
     },
     "metadata": {},
     "output_type": "display_data"
    }
   ],
   "source": [
    "predictions = iowa_model.predict(X)\n",
    "print(predictions)\n",
    "\n",
    "# Check your answer\n",
    "step_4.check()"
   ]
  },
  {
   "cell_type": "code",
   "execution_count": 11,
   "id": "cb21fef5",
   "metadata": {
    "collapsed": true,
    "execution": {
     "iopub.execute_input": "2025-10-17T12:30:45.473258Z",
     "iopub.status.busy": "2025-10-17T12:30:45.472959Z",
     "iopub.status.idle": "2025-10-17T12:30:45.476601Z",
     "shell.execute_reply": "2025-10-17T12:30:45.475906Z"
    },
    "jupyter": {
     "outputs_hidden": true
    },
    "papermill": {
     "duration": 0.010567,
     "end_time": "2025-10-17T12:30:45.477935",
     "exception": false,
     "start_time": "2025-10-17T12:30:45.467368",
     "status": "completed"
    },
    "tags": []
   },
   "outputs": [],
   "source": [
    "# step_4.hint()\n",
    "# step_4.solution()"
   ]
  },
  {
   "cell_type": "markdown",
   "id": "46041438",
   "metadata": {
    "papermill": {
     "duration": 0.004377,
     "end_time": "2025-10-17T12:30:45.486996",
     "exception": false,
     "start_time": "2025-10-17T12:30:45.482619",
     "status": "completed"
    },
    "tags": []
   },
   "source": [
    "## Think About Your Results\n",
    "\n",
    "Use the `head` method to compare the top few predictions to the actual home values (in `y`) for those same homes. Anything surprising?\n"
   ]
  },
  {
   "cell_type": "code",
   "execution_count": 12,
   "id": "235fdb99",
   "metadata": {
    "execution": {
     "iopub.execute_input": "2025-10-17T12:30:45.496707Z",
     "iopub.status.busy": "2025-10-17T12:30:45.496404Z",
     "iopub.status.idle": "2025-10-17T12:30:46.497723Z",
     "shell.execute_reply": "2025-10-17T12:30:46.496806Z"
    },
    "papermill": {
     "duration": 1.008148,
     "end_time": "2025-10-17T12:30:46.499439",
     "exception": false,
     "start_time": "2025-10-17T12:30:45.491291",
     "status": "completed"
    },
    "tags": []
   },
   "outputs": [
    {
     "data": {
      "text/plain": [
       "<Axes: xlabel='SalePrice'>"
      ]
     },
     "execution_count": 12,
     "metadata": {},
     "output_type": "execute_result"
    },
    {
     "data": {
      "image/png": "[encoded data removed]",
      "text/plain": [
       "<Figure size 640x480 with 1 Axes>"
      ]
     },
     "metadata": {},
     "output_type": "display_data"
    }
   ],
   "source": [
    "# You can write code in this cell\n",
    "import seaborn as sns\n",
    "sns.regplot(x=y, y=predictions)"
   ]
  },
  {
   "cell_type": "markdown",
   "id": "e8e44731",
   "metadata": {
    "papermill": {
     "duration": 0.005324,
     "end_time": "2025-10-17T12:30:46.510136",
     "exception": false,
     "start_time": "2025-10-17T12:30:46.504812",
     "status": "completed"
    },
    "tags": []
   },
   "source": [
    "It's natural to ask how accurate the model's predictions will be and how you can improve that. That will be you're next step.\n",
    "\n",
    "# Keep Going\n",
    "\n",
    "You are ready for **[Model Validation](https://www.kaggle.com/dansbecker/model-validation).**\n"
   ]
  },
  {
   "cell_type": "markdown",
   "id": "9a2dc3e7",
   "metadata": {
    "papermill": {
     "duration": 0.004805,
     "end_time": "2025-10-17T12:30:46.519993",
     "exception": false,
     "start_time": "2025-10-17T12:30:46.515188",
     "status": "completed"
    },
    "tags": []
   },
   "source": [
    "---\n",
    "\n",
    "\n",
    "\n",
    "\n",
    "*Have questions or comments? Visit the [course discussion forum](https://www.kaggle.com/learn/intro-to-machine-learning/discussion) to chat with other learners.*"
   ]
  }
 ],
 "metadata": {
  "kaggle": {
   "accelerator": "none",
   "dataSources": [
    {
     "databundleVersionId": 111096,
     "sourceId": 10211,
     "sourceType": "competition"
    },
    {
     "datasetId": 11167,
     "sourceId": 15520,
     "sourceType": "datasetVersion"
    },
    {
     "datasetId": 2709,
     "sourceId": 38454,
     "sourceType": "datasetVersion"
    }
   ],
   "isGpuEnabled": false,
   "isInternetEnabled": false,
   "language": "python",
   "sourceType": "notebook"
  },
  "kernelspec": {
   "display_name": "Python 3",
   "language": "python",
   "name": "python3"
  },
  "language_info": {
   "codemirror_mode": {
    "name": "ipython",
    "version": 3
   },
   "file_extension": ".py",
   "mimetype": "text/x-python",
   "name": "python",
   "nbconvert_exporter": "python",
   "pygments_lexer": "ipython3",
   "version": "3.11.13"
  },
  "papermill": {
   "default_parameters": {},
   "duration": 10.109519,
   "end_time": "2025-10-17T12:30:47.144695",
   "environment_variables": {},
   "exception": null,
   "input_path": "__notebook__.ipynb",
   "output_path": "__notebook__.ipynb",
   "parameters": {},
   "start_time": "2025-10-17T12:30:37.035176",
   "version": "2.6.0"
  }
 },
 "nbformat": 4,
 "nbformat_minor": 5
}
