{
 "cells": [
  {
   "cell_type": "code",
   "execution_count": 1,
   "id": "26fb8923",
   "metadata": {
    "execution": {
     "iopub.execute_input": "2025-10-14T15:54:42.389788Z",
     "iopub.status.busy": "2025-10-14T15:54:42.389382Z",
     "iopub.status.idle": "2025-10-14T15:54:42.395004Z",
     "shell.execute_reply": "2025-10-14T15:54:42.393987Z"
    },
    "papermill": {
     "duration": 0.010772,
     "end_time": "2025-10-14T15:54:42.396870",
     "exception": false,
     "start_time": "2025-10-14T15:54:42.386098",
     "status": "completed"
    },
    "tags": []
   },
   "outputs": [],
   "source": [
    "# Code inspired by and adapted from @anthonytherrien and @mikhailnaumov.\n",
    "# Special thanks for their valuable open-source contributions and insights!"
   ]
  },
  {
   "cell_type": "code",
   "execution_count": 2,
   "id": "54804957",
   "metadata": {
    "_cell_guid": "b1076dfc-b9ad-4769-8c92-a6c4dae69d19",
    "_uuid": "8f2839f25d086af736a60e9eeb907d3b93b6e0e5",
    "execution": {
     "iopub.execute_input": "2025-10-14T15:54:42.402078Z",
     "iopub.status.busy": "2025-10-14T15:54:42.401735Z",
     "iopub.status.idle": "2025-10-14T15:54:45.355976Z",
     "shell.execute_reply": "2025-10-14T15:54:45.354703Z"
    },
    "papermill": {
     "duration": 2.958856,
     "end_time": "2025-10-14T15:54:45.357975",
     "exception": false,
     "start_time": "2025-10-14T15:54:42.399119",
     "status": "completed"
    },
    "tags": []
   },
   "outputs": [
    {
     "name": "stdout",
     "output_type": "stream",
     "text": [
      "Auto Ensemble Weights: current=0.50000, previous=0.50000\n"
     ]
    }
   ],
   "source": [
    "import pandas as pd\n",
    "\n",
    "# 1. Load the new submission (current code result) and the previous best submission (private leaderboard data)\n",
    "current_df = pd.read_csv('/kaggle/input/ps-s5e10-lightgbm-cb-ensemble/submission.csv')\n",
    "previous_df = pd.read_csv('/kaggle/input/road-risk-single-ydf/submission.csv')\n",
    "\n",
    "# 2. Merge predictions by id (accurate row-wise alignment)\n",
    "merge_df = current_df.merge(previous_df, on='id', how='inner', suffixes=('_current', '_previous'))\n",
    "\n",
    "# 3. Auto-weight calculation based on public leaderboard scores (LB)\n",
    "current_lb = 0.05541    # Example - current code leaderboard score (lower is better)\n",
    "previous_lb = 0.05541   # Example - previous submission leaderboard score\n",
    "W_current = 1/current_lb / (1/current_lb + 1/previous_lb)\n",
    "W_previous = 1/previous_lb / (1/current_lb + 1/previous_lb)\n",
    "print(f\"Auto Ensemble Weights: current={W_current:.5f}, previous={W_previous:.5f}\")\n",
    "\n",
    "# 4. Weighted blending of the two prediction values\n",
    "merge_df['accident_risk'] = (\n",
    "    W_current * merge_df['accident_risk_current'] +\n",
    "    W_previous * merge_df['accident_risk_previous']\n",
    ")\n",
    "\n",
    "# 5. Clipping to [0, 1] range (for safety)\n",
    "merge_df['accident_risk'] = merge_df['accident_risk'].clip(0, 1)\n",
    "\n",
    "# 6. Save with submission format (id, accident_risk)\n",
    "merge_df[['id', 'accident_risk']].to_csv('submission.csv', index=False)\n"
   ]
  }
 ],
 "metadata": {
  "kaggle": {
   "accelerator": "none",
   "dataSources": [
    {
     "databundleVersionId": 13760552,
     "sourceId": 91721,
     "sourceType": "competition"
    },
    {
     "sourceId": 267820462,
     "sourceType": "kernelVersion"
    },
    {
     "sourceId": 267988564,
     "sourceType": "kernelVersion"
    }
   ],
   "dockerImageVersionId": 31153,
   "isGpuEnabled": false,
   "isInternetEnabled": true,
   "language": "python",
   "sourceType": "notebook"
  },
  "kernelspec": {
   "display_name": "Python 3",
   "language": "python",
   "name": "python3"
  },
  "language_info": {
   "codemirror_mode": {
    "name": "ipython",
    "version": 3
   },
   "file_extension": ".py",
   "mimetype": "text/x-python",
   "name": "python",
   "nbconvert_exporter": "python",
   "pygments_lexer": "ipython3",
   "version": "3.11.13"
  },
  "papermill": {
   "default_parameters": {},
   "duration": 8.965719,
   "end_time": "2025-10-14T15:54:45.882377",
   "environment_variables": {},
   "exception": null,
   "input_path": "__notebook__.ipynb",
   "output_path": "__notebook__.ipynb",
   "parameters": {},
   "start_time": "2025-10-14T15:54:36.916658",
   "version": "2.6.0"
  }
 },
 "nbformat": 4,
 "nbformat_minor": 5
}
