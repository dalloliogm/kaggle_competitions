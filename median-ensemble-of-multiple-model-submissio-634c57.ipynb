{
 "cells": [
  {
   "cell_type": "code",
   "execution_count": 1,
   "id": "c9576d21",
   "metadata": {
    "execution": {
     "iopub.execute_input": "2025-05-23T12:48:12.036935Z",
     "iopub.status.busy": "2025-05-23T12:48:12.036514Z",
     "iopub.status.idle": "2025-05-23T12:48:21.702414Z",
     "shell.execute_reply": "2025-05-23T12:48:21.701147Z"
    },
    "papermill": {
     "duration": 9.672618,
     "end_time": "2025-05-23T12:48:21.704677",
     "exception": false,
     "start_time": "2025-05-23T12:48:12.032059",
     "status": "completed"
    },
    "tags": []
   },
   "outputs": [],
   "source": [
    "import pandas as pd\n",
    "import numpy as np\n",
    "\n",
    "df1 = pd.read_csv(\"/kaggle/input/caloriecast-adaptive-ensemble-engine-for-s5e5/submission.csv\")\n",
    "df1.to_csv( 'adaptive-ensemble-engine_submission.csv', index=False)  #0.05670\n",
    "\n",
    "df2 = pd.read_csv(\"/kaggle/input/ensemble-of-solutions/submission.csv\")\n",
    "df2.to_csv( 'Ensemble_submission.csv', index=False)   # 0.05668\n",
    "\n",
    "df3 = pd.read_csv(\"/kaggle/input/ps-s5e5-log-blended-cat-xgboost-with-50-fold-cv/ensemble_submission.csv\")\n",
    "df3.to_csv( 'log-blended-cat-xgboost-with-50-fold-cv_submission.csv', index=False)  # 0.05670\n",
    "\n",
    "df4 = pd.read_csv(\"/kaggle/input/ps-s5e5-cross-masked-ensemble/submission.csv\")\n",
    "df4.to_csv( 'cross-masked-ensemble_submission.csv', index=False)  # 0.05680\n",
    "\n",
    "df5 = pd.read_csv(\"/kaggle/input/ps-s5e5-calorie-prediction-ensemble/submission.csv\")\n",
    "df5.to_csv( 'trippleEnsemble_submission.csv', index=False)     # 0.05667 \n",
    "\n",
    "df6 = pd.read_csv(\"/kaggle/input/ps-s5e5-catboost-xgboost-feature-engineering/submission.csv\")\n",
    "df6.to_csv( 'catboost-xgboost-feature-engineering_submission.csv', index=False)   # 0.05679\n",
    "\n",
    "df7 = pd.read_csv(\"/kaggle/input/pce-v1/submission.csv\")\n",
    "df7.to_csv( 'XG_Catboost_FE_submission.csv', index=False)   # 0.05668\n",
    "\n",
    "df8 = pd.read_csv(\"/kaggle/input/calorie-best-fe/submission.csv\")\n",
    "df8.to_csv( 'calorie-best-fe_submission.csv', index=False)   # 0.05667\n",
    "\n",
    "\n",
    "#df9 = pd.read_csv(\"/kaggle/input/calories-expenditure/submission.csv\")  # 0.05692\n",
    "#df10 = pd.read_csv(\"/kaggle/input/best-fe-3-diverse-models/submission_.csv\") #0.05669\n",
    "\n",
    "\n",
    "df11 = pd.read_csv(\"/kaggle/input/calorie-expenditure-female-vs-male/submission.csv\")\n",
    "df11.to_csv( 'male_female_submission.csv', index=False)   # 0.05667\n",
    "\n",
    "\n",
    "df12 = pd.read_csv(\"/kaggle/input/kmeans-clustering-based-fe-improves-cv-lb-scores/submission.csv\")\n",
    "df12.to_csv( 'kmean_submission.csv', index=False)   # 0.05695 V2\n",
    "\n",
    "\n",
    "df13 = pd.read_csv(\"/kaggle/input/s5e5-xgb-cat-lgbm-meta-models/submission.csv\")\n",
    "df13.to_csv( 'metamodel_submission.csv', index=False)   # 0.05695 V2\n",
    "\n",
    "\n",
    "\n",
    "ground_truth = pd.read_csv(\"/kaggle/input/playground-series-s5e5/sample_submission.csv\")  \n",
    "\n",
    "\n",
    "\n",
    "\n",
    "\n"
   ]
  },
  {
   "cell_type": "code",
   "execution_count": 2,
   "id": "6722ff9a",
   "metadata": {
    "execution": {
     "iopub.execute_input": "2025-05-23T12:48:21.712383Z",
     "iopub.status.busy": "2025-05-23T12:48:21.712072Z",
     "iopub.status.idle": "2025-05-23T12:48:27.917977Z",
     "shell.execute_reply": "2025-05-23T12:48:27.916904Z"
    },
    "papermill": {
     "duration": 6.211801,
     "end_time": "2025-05-23T12:48:27.919670",
     "exception": false,
     "start_time": "2025-05-23T12:48:21.707869",
     "status": "completed"
    },
    "tags": []
   },
   "outputs": [
    {
     "name": "stdout",
     "output_type": "stream",
     "text": [
      "Ensembles saved as CSVs.\n"
     ]
    }
   ],
   "source": [
    "import pandas as pd\n",
    "import numpy as np\n",
    "from sklearn.linear_model import Ridge\n",
    "from sklearn.preprocessing import StandardScaler\n",
    "\n",
    "def generate_ensemble_submissions(model_dfs, base_submission, output_prefix=\"submission\"):\n",
    "\n",
    "    all_preds = np.stack([df['Calories'].values for df in model_dfs], axis=1)\n",
    "    \n",
    "    # Mean\n",
    "    mean_preds = np.mean(all_preds, axis=1)\n",
    "    base_submission['Calories'] = mean_preds\n",
    "    base_submission.to_csv(f'{output_prefix}_mean.csv', index=False)\n",
    "    \n",
    "    # Median\n",
    "    median_preds = np.median(all_preds, axis=1)\n",
    "    base_submission['Calories'] = median_preds\n",
    "    base_submission.to_csv(f'{output_prefix}_median.csv', index=False)\n",
    "\n",
    "    # Trimmed mean (exclude top and bottom 2 predictions)\n",
    "    trimmed_preds = np.mean(np.sort(all_preds, axis=1)[:, 2:-2], axis=1)\n",
    "    base_submission['Calories'] = trimmed_preds\n",
    "    base_submission.to_csv(f'{output_prefix}_trimmed_mean.csv', index=False)\n",
    "\n",
    "    # Geometric mean\n",
    "    geo_mean_preds = np.exp(np.mean(np.log(all_preds + 1e-8), axis=1))  # small epsilon to avoid log(0)\n",
    "    base_submission['Calories'] = geo_mean_preds\n",
    "    base_submission.to_csv(f'{output_prefix}_geo_mean.csv', index=False)\n",
    "\n",
    "    # Rank averaging\n",
    "    ranks = np.argsort(np.argsort(all_preds, axis=0), axis=0)\n",
    "    avg_ranks = np.mean(ranks, axis=1)\n",
    "    norm_ranks = avg_ranks / avg_ranks.max() * all_preds.mean()\n",
    "    base_submission['Calories'] = norm_ranks\n",
    "    base_submission.to_csv(f'{output_prefix}_rank_avg.csv', index=False)\n",
    "\n",
    "    # Ridge regression meta-model (stacking)\n",
    "    X = all_preds\n",
    "    y = np.mean(all_preds, axis=1)  # fake target, just to blend\n",
    "    scaler = StandardScaler()\n",
    "    X_scaled = scaler.fit_transform(X)\n",
    "    ridge = Ridge(alpha=1.0)\n",
    "    ridge.fit(X_scaled, y)\n",
    "    ridge_preds = ridge.predict(X_scaled)\n",
    "    base_submission['Calories'] = ridge_preds\n",
    "    base_submission.to_csv(f'{output_prefix}_ridge_stack.csv', index=False)\n",
    "\n",
    "    print(\"Ensembles saved as CSVs.\")\n",
    "\n",
    "# Usage\n",
    "dfs = [df1, df2, df3, df4, df5, df6, df7, df8, df11, df12, df13]\n",
    "ground_truth = pd.read_csv(\"/kaggle/input/playground-series-s5e5/sample_submission.csv\")\n",
    "generate_ensemble_submissions(dfs, ground_truth.copy())\n"
   ]
  }
 ],
 "metadata": {
  "kaggle": {
   "accelerator": "none",
   "dataSources": [
    {
     "databundleVersionId": 11893428,
     "sourceId": 91716,
     "sourceType": "competition"
    },
    {
     "sourceId": 237441036,
     "sourceType": "kernelVersion"
    },
    {
     "sourceId": 237646732,
     "sourceType": "kernelVersion"
    },
    {
     "sourceId": 238549928,
     "sourceType": "kernelVersion"
    },
    {
     "sourceId": 238727128,
     "sourceType": "kernelVersion"
    },
    {
     "sourceId": 239077017,
     "sourceType": "kernelVersion"
    },
    {
     "sourceId": 239425047,
     "sourceType": "kernelVersion"
    },
    {
     "sourceId": 239507972,
     "sourceType": "kernelVersion"
    },
    {
     "sourceId": 239743758,
     "sourceType": "kernelVersion"
    },
    {
     "sourceId": 240065115,
     "sourceType": "kernelVersion"
    },
    {
     "sourceId": 240245118,
     "sourceType": "kernelVersion"
    },
    {
     "sourceId": 240256717,
     "sourceType": "kernelVersion"
    },
    {
     "sourceId": 240548840,
     "sourceType": "kernelVersion"
    },
    {
     "sourceId": 240556328,
     "sourceType": "kernelVersion"
    },
    {
     "sourceId": 240785317,
     "sourceType": "kernelVersion"
    },
    {
     "sourceId": 241117394,
     "sourceType": "kernelVersion"
    }
   ],
   "dockerImageVersionId": 31012,
   "isGpuEnabled": false,
   "isInternetEnabled": true,
   "language": "python",
   "sourceType": "notebook"
  },
  "kernelspec": {
   "display_name": "Python 3",
   "language": "python",
   "name": "python3"
  },
  "language_info": {
   "codemirror_mode": {
    "name": "ipython",
    "version": 3
   },
   "file_extension": ".py",
   "mimetype": "text/x-python",
   "name": "python",
   "nbconvert_exporter": "python",
   "pygments_lexer": "ipython3",
   "version": "3.11.11"
  },
  "papermill": {
   "default_parameters": {},
   "duration": 22.325672,
   "end_time": "2025-05-23T12:48:28.641964",
   "environment_variables": {},
   "exception": null,
   "input_path": "__notebook__.ipynb",
   "output_path": "__notebook__.ipynb",
   "parameters": {},
   "start_time": "2025-05-23T12:48:06.316292",
   "version": "2.6.0"
  }
 },
 "nbformat": 4,
 "nbformat_minor": 5
}
