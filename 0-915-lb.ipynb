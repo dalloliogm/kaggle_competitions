{
 "cells": [
  {
   "cell_type": "markdown",
   "id": "354be30a",
   "metadata": {
    "papermill": {
     "duration": 0.00479,
     "end_time": "2025-10-07T16:10:04.324252",
     "exception": false,
     "start_time": "2025-10-07T16:10:04.319462",
     "status": "completed"
    },
    "tags": []
   },
   "source": [
    "\n",
    "### References\n",
    "\n",
    "*   [https://www.kaggle.com/code/abdmental01/jigsaw-mpnet-base-v2-inference-cv-0-876](https://www.kaggle.com/code/abdmental01/jigsaw-mpnet-base-v2-inference-cv-0-876)\n",
    "*   [https://www.kaggle.com/code/aerdem4/jigsaw-acrc-qwen7b-finetune-logits-processor-zoo](https://www.kaggle.com/code/aerdem4/jigsaw-acrc-qwen7b-finetune-logits-processor-zoo)\n",
    "*   [https://www.guruguru.science/competitions/24/discussions/21027ff1-2074-4e21-a249-b2d4170bd516/](https://www.guruguru.science/competitions/24/discussions/21027ff1-2074-4e21-a249-b2d4170bd516/)\n",
    "*   https://www.kaggle.com/code/mks2192/jigsaw-llama3-1-8b-instruct-training-one-epoch\n",
    "*   [https://www.kaggle.com/code/fuumin621/qwen2-5-lora-finetune-baseline-inference](https://www.kaggle.com/code/fuumin621/qwen2-5-lora-finetune-baseline-inference)\n",
    "*   https://www.kaggle.com/code/neibyr/30-min-just-use-semantic-search-qwen3-emb-0-6b"
   ]
  },
  {
   "cell_type": "markdown",
   "id": "886d20bf",
   "metadata": {
    "papermill": {
     "duration": 0.003744,
     "end_time": "2025-10-07T16:10:04.332226",
     "exception": false,
     "start_time": "2025-10-07T16:10:04.328482",
     "status": "completed"
    },
    "tags": []
   },
   "source": [
    "### I want to say thanks to @neibyr for your interesting idea: [Retrieve by Qwen3Embedding](http://https://www.kaggle.com/code/neibyr/30-min-just-use-semantic-search-qwen3-emb-0-6b) "
   ]
  },
  {
   "cell_type": "markdown",
   "id": "4fa98513",
   "metadata": {
    "papermill": {
     "duration": 0.003642,
     "end_time": "2025-10-07T16:10:04.339955",
     "exception": false,
     "start_time": "2025-10-07T16:10:04.336313",
     "status": "completed"
    },
    "tags": []
   },
   "source": [
    "This version changes the lr for training Qwen 3 0.5b. "
   ]
  },
  {
   "cell_type": "code",
   "execution_count": 1,
   "id": "25927408",
   "metadata": {
    "execution": {
     "iopub.execute_input": "2025-10-07T16:10:04.348943Z",
     "iopub.status.busy": "2025-10-07T16:10:04.348410Z",
     "iopub.status.idle": "2025-10-07T16:20:04.587394Z",
     "shell.execute_reply": "2025-10-07T16:20:04.586397Z"
    },
    "papermill": {
     "duration": 600.24541,
     "end_time": "2025-10-07T16:20:04.589178",
     "exception": false,
     "start_time": "2025-10-07T16:10:04.343768",
     "status": "completed"
    },
    "tags": []
   },
   "outputs": [
    {
     "name": "stdout",
     "output_type": "stream",
     "text": [
      "\u001b[33mWARNING: Retrying (Retry(total=4, connect=None, read=None, redirect=None, status=None)) after connection broken by 'NewConnectionError('<pip._vendor.urllib3.connection.HTTPSConnection object at 0x7fd904c1e6d0>: Failed to establish a new connection: [Errno -3] Temporary failure in name resolution')': /simple/triton/\u001b[0m\u001b[33m\r\n",
      "\u001b[0m\u001b[33mWARNING: Retrying (Retry(total=3, connect=None, read=None, redirect=None, status=None)) after connection broken by 'NewConnectionError('<pip._vendor.urllib3.connection.HTTPSConnection object at 0x7fd904c1f3d0>: Failed to establish a new connection: [Errno -3] Temporary failure in name resolution')': /simple/triton/\u001b[0m\u001b[33m\r\n",
      "\u001b[0m\u001b[33mWARNING: Retrying (Retry(total=2, connect=None, read=None, redirect=None, status=None)) after connection broken by 'NewConnectionError('<pip._vendor.urllib3.connection.HTTPSConnection object at 0x7fd904c1ffd0>: Failed to establish a new connection: [Errno -3] Temporary failure in name resolution')': /simple/triton/\u001b[0m\u001b[33m\r\n",
      "\u001b[0m\u001b[33mWARNING: Retrying (Retry(total=1, connect=None, read=None, redirect=None, status=None)) after connection broken by 'NewConnectionError('<pip._vendor.urllib3.connection.HTTPSConnection object at 0x7fd904c28c50>: Failed to establish a new connection: [Errno -3] Temporary failure in name resolution')': /simple/triton/\u001b[0m\u001b[33m\r\n",
      "\u001b[0m\u001b[33mWARNING: Retrying (Retry(total=0, connect=None, read=None, redirect=None, status=None)) after connection broken by 'NewConnectionError('<pip._vendor.urllib3.connection.HTTPSConnection object at 0x7fd904c29750>: Failed to establish a new connection: [Errno -3] Temporary failure in name resolution')': /simple/triton/\u001b[0m\u001b[33m\r\n",
      "\u001b[0m\u001b[33mWARNING: Retrying (Retry(total=4, connect=None, read=None, redirect=None, status=None)) after connection broken by 'NewConnectionError('<pip._vendor.urllib3.connection.HTTPSConnection object at 0x7fd904c0ed50>: Failed to establish a new connection: [Errno -3] Temporary failure in name resolution')': /simple/torch/\u001b[0m\u001b[33m\r\n",
      "\u001b[0m\u001b[33mWARNING: Retrying (Retry(total=3, connect=None, read=None, redirect=None, status=None)) after connection broken by 'NewConnectionError('<pip._vendor.urllib3.connection.HTTPSConnection object at 0x7fd904c07fd0>: Failed to establish a new connection: [Errno -3] Temporary failure in name resolution')': /simple/torch/\u001b[0m\u001b[33m\r\n",
      "\u001b[0m\u001b[33mWARNING: Retrying (Retry(total=2, connect=None, read=None, redirect=None, status=None)) after connection broken by 'NewConnectionError('<pip._vendor.urllib3.connection.HTTPSConnection object at 0x7fd904c04a10>: Failed to establish a new connection: [Errno -3] Temporary failure in name resolution')': /simple/torch/\u001b[0m\u001b[33m\r\n",
      "\u001b[0m\u001b[33mWARNING: Retrying (Retry(total=1, connect=None, read=None, redirect=None, status=None)) after connection broken by 'NewConnectionError('<pip._vendor.urllib3.connection.HTTPSConnection object at 0x7fd904bf4b90>: Failed to establish a new connection: [Errno -3] Temporary failure in name resolution')': /simple/torch/\u001b[0m\u001b[33m\r\n",
      "\u001b[0m\u001b[33mWARNING: Retrying (Retry(total=0, connect=None, read=None, redirect=None, status=None)) after connection broken by 'NewConnectionError('<pip._vendor.urllib3.connection.HTTPSConnection object at 0x7fd904be9390>: Failed to establish a new connection: [Errno -3] Temporary failure in name resolution')': /simple/torch/\u001b[0m\u001b[33m\r\n",
      "\u001b[0m\u001b[33mWARNING: Retrying (Retry(total=4, connect=None, read=None, redirect=None, status=None)) after connection broken by 'NewConnectionError('<pip._vendor.urllib3.connection.HTTPSConnection object at 0x7fd904c04790>: Failed to establish a new connection: [Errno -3] Temporary failure in name resolution')': /simple/deepspeed/\u001b[0m\u001b[33m\r\n",
      "\u001b[0m\u001b[33mWARNING: Retrying (Retry(total=3, connect=None, read=None, redirect=None, status=None)) after connection broken by 'NewConnectionError('<pip._vendor.urllib3.connection.HTTPSConnection object at 0x7fd904c0d8d0>: Failed to establish a new connection: [Errno -3] Temporary failure in name resolution')': /simple/deepspeed/\u001b[0m\u001b[33m\r\n",
      "\u001b[0m\u001b[33mWARNING: Retrying (Retry(total=2, connect=None, read=None, redirect=None, status=None)) after connection broken by 'NewConnectionError('<pip._vendor.urllib3.connection.HTTPSConnection object at 0x7fd90553ff50>: Failed to establish a new connection: [Errno -3] Temporary failure in name resolution')': /simple/deepspeed/\u001b[0m\u001b[33m\r\n",
      "\u001b[0m\u001b[33mWARNING: Retrying (Retry(total=1, connect=None, read=None, redirect=None, status=None)) after connection broken by 'NewConnectionError('<pip._vendor.urllib3.connection.HTTPSConnection object at 0x7fd904c1c910>: Failed to establish a new connection: [Errno -3] Temporary failure in name resolution')': /simple/deepspeed/\u001b[0m\u001b[33m\r\n",
      "\u001b[0m\u001b[33mWARNING: Retrying (Retry(total=0, connect=None, read=None, redirect=None, status=None)) after connection broken by 'NewConnectionError('<pip._vendor.urllib3.connection.HTTPSConnection object at 0x7fd904c6fbd0>: Failed to establish a new connection: [Errno -3] Temporary failure in name resolution')': /simple/deepspeed/\u001b[0m\u001b[33m\r\n",
      "\u001b[0m\u001b[31mERROR: Could not find a version that satisfies the requirement triton==3.3.1; platform_system == \"Linux\" and platform_machine == \"x86_64\" (from torch) (from versions: none)\u001b[0m\u001b[31m\r\n",
      "\u001b[0m\u001b[31mERROR: No matching distribution found for triton==3.3.1; platform_system == \"Linux\" and platform_machine == \"x86_64\"\u001b[0m\u001b[31m\r\n",
      "\u001b[0m"
     ]
    }
   ],
   "source": [
    "!pip3 install -q deepspeed"
   ]
  },
  {
   "cell_type": "markdown",
   "id": "c028549f",
   "metadata": {
    "papermill": {
     "duration": 0.004668,
     "end_time": "2025-10-07T16:20:04.599478",
     "exception": false,
     "start_time": "2025-10-07T16:20:04.594810",
     "status": "completed"
    },
    "tags": []
   },
   "source": [
    "# 1. Test time train Qwen 2.5 0.5b"
   ]
  },
  {
   "cell_type": "code",
   "execution_count": 2,
   "id": "da9a1b4b",
   "metadata": {
    "execution": {
     "iopub.execute_input": "2025-10-07T16:20:04.610523Z",
     "iopub.status.busy": "2025-10-07T16:20:04.610231Z",
     "iopub.status.idle": "2025-10-07T16:20:04.616347Z",
     "shell.execute_reply": "2025-10-07T16:20:04.615559Z"
    },
    "papermill": {
     "duration": 0.013182,
     "end_time": "2025-10-07T16:20:04.617616",
     "exception": false,
     "start_time": "2025-10-07T16:20:04.604434",
     "status": "completed"
    },
    "tags": []
   },
   "outputs": [
    {
     "name": "stdout",
     "output_type": "stream",
     "text": [
      "Writing constants.py\n"
     ]
    }
   ],
   "source": [
    "%%writefile constants.py\n",
    "BASE_MODEL_PATH = \"/kaggle/input/qwen2.5/transformers/0.5b-instruct-gptq-int4/1\"\n",
    "LORA_PATH = \"output/\"\n",
    "DATA_PATH = \"/kaggle/input/jigsaw-agile-community-rules/\"\n",
    "\n",
    "POSITIVE_ANSWER = \"Yes\"\n",
    "NEGATIVE_ANSWER = \"No\"\n",
    "COMPLETE_PHRASE = \"Answer:\"\n",
    "BASE_PROMPT = '''You are given a comment from reddit and a rule. Your task is to classify whether the comment violates the rule. Only respond Yes/No.'''"
   ]
  },
  {
   "cell_type": "code",
   "execution_count": 3,
   "id": "0056dedd",
   "metadata": {
    "execution": {
     "iopub.execute_input": "2025-10-07T16:20:04.628714Z",
     "iopub.status.busy": "2025-10-07T16:20:04.628497Z",
     "iopub.status.idle": "2025-10-07T16:20:04.634922Z",
     "shell.execute_reply": "2025-10-07T16:20:04.634296Z"
    },
    "papermill": {
     "duration": 0.013508,
     "end_time": "2025-10-07T16:20:04.636028",
     "exception": false,
     "start_time": "2025-10-07T16:20:04.622520",
     "status": "completed"
    },
    "tags": []
   },
   "outputs": [
    {
     "name": "stdout",
     "output_type": "stream",
     "text": [
      "Writing utils.py\n"
     ]
    }
   ],
   "source": [
    "%%writefile utils.py\n",
    "import pandas as pd\n",
    "from datasets import Dataset\n",
    "from constants import POSITIVE_ANSWER, NEGATIVE_ANSWER, COMPLETE_PHRASE, BASE_PROMPT\n",
    "import random, numpy as np\n",
    "random.seed(42)\n",
    "np.random.seed(42)\n",
    "\n",
    "\n",
    "def build_prompt(row):\n",
    "    return f\"\"\"\n",
    "{BASE_PROMPT}\n",
    "\n",
    "Subreddit: r/{row[\"subreddit\"]}\n",
    "Rule: {row[\"rule\"]}\n",
    "Examples:\n",
    "1) {row[\"positive_example\"]}\n",
    "{COMPLETE_PHRASE} Yes\n",
    "\n",
    "2) {row[\"negative_example\"]}\n",
    "{COMPLETE_PHRASE} No\n",
    "\n",
    "---\n",
    "Comment: {row[\"body\"]}\n",
    "{COMPLETE_PHRASE}\"\"\"\n",
    "\n",
    "\n",
    "def get_dataframe_to_train(data_path):\n",
    "    train_dataset = pd.read_csv(f\"{data_path}/train.csv\")\n",
    "    test_dataset = pd.read_csv(f\"{data_path}/test.csv\").sample(frac=0.5, random_state=42).reset_index(drop=True)\n",
    "\n",
    "    flatten = []\n",
    "\n",
    "    # ---------- 处理训练集 ----------\n",
    "    train_df = train_dataset[[\"body\", \"rule\", \"subreddit\", \"rule_violation\",\n",
    "                              \"positive_example_1\",\"positive_example_2\",\n",
    "                              \"negative_example_1\",\"negative_example_2\"]].copy()\n",
    "\n",
    "    # 随机选 positive_example 和 negative_example\n",
    "    train_df[\"positive_example\"] = np.where(\n",
    "        np.random.rand(len(train_df)) < 0.5,\n",
    "        train_df[\"positive_example_1\"],\n",
    "        train_df[\"positive_example_2\"]\n",
    "    )\n",
    "    train_df[\"negative_example\"] = np.where(\n",
    "        np.random.rand(len(train_df)) < 0.5,\n",
    "        train_df[\"negative_example_1\"],\n",
    "        train_df[\"negative_example_2\"]\n",
    "    )\n",
    "\n",
    "    # 删除原来的候选列\n",
    "    train_df.drop(columns=[\"positive_example_1\",\"positive_example_2\",\n",
    "                           \"negative_example_1\",\"negative_example_2\"], inplace=True)\n",
    "\n",
    "    flatten.append(train_df)\n",
    "\n",
    "    # ---------- 处理测试集 ----------\n",
    "    for violation_type in [\"positive\", \"negative\"]:\n",
    "        for i in range(1, 3):\n",
    "            sub_dataset = test_dataset[[\"rule\",\"subreddit\",\n",
    "                                        \"positive_example_1\",\"positive_example_2\",\n",
    "                                        \"negative_example_1\",\"negative_example_2\"]].copy()\n",
    "\n",
    "            if violation_type == \"positive\":\n",
    "                # body 用当前 positive_example\n",
    "                body_col = f\"positive_example_{i}\"\n",
    "                other_positive_col = f\"positive_example_{3-i}\"  # 另一个 positive\n",
    "                sub_dataset[\"body\"] = sub_dataset[body_col]\n",
    "                sub_dataset[\"positive_example\"] = sub_dataset[other_positive_col]\n",
    "                # negative_example 随机选\n",
    "                sub_dataset[\"negative_example\"] = np.where(\n",
    "                    np.random.rand(len(sub_dataset)) < 0.5,\n",
    "                    sub_dataset[\"negative_example_1\"],\n",
    "                    sub_dataset[\"negative_example_2\"]\n",
    "                )\n",
    "                sub_dataset[\"rule_violation\"] = 1\n",
    "\n",
    "            else:  # violation_type == \"negative\"\n",
    "                body_col = f\"negative_example_{i}\"\n",
    "                other_negative_col = f\"negative_example_{3-i}\"\n",
    "                sub_dataset[\"body\"] = sub_dataset[body_col]\n",
    "                sub_dataset[\"negative_example\"] = sub_dataset[other_negative_col]\n",
    "                sub_dataset[\"positive_example\"] = np.where(\n",
    "                    np.random.rand(len(sub_dataset)) < 0.5,\n",
    "                    sub_dataset[\"positive_example_1\"],\n",
    "                    sub_dataset[\"positive_example_2\"]\n",
    "                )\n",
    "                sub_dataset[\"rule_violation\"] = 0\n",
    "\n",
    "            # 删除原来的候选列\n",
    "            sub_dataset.drop(columns=[\"positive_example_1\",\"positive_example_2\",\n",
    "                                      \"negative_example_1\",\"negative_example_2\"], inplace=True)\n",
    "\n",
    "            flatten.append(sub_dataset)\n",
    "\n",
    "    # 合并所有 DataFrame\n",
    "    dataframe = pd.concat(flatten, axis=0)\n",
    "    dataframe = dataframe.drop_duplicates(ignore_index=True)\n",
    "\n",
    "    return dataframe\n",
    "\n",
    "\n",
    "\n",
    "def build_dataset(dataframe):\n",
    "    dataframe[\"prompt\"] = dataframe.apply(build_prompt, axis=1)\n",
    "\n",
    "    columns = [\"prompt\"]\n",
    "    if \"rule_violation\" in dataframe:\n",
    "        dataframe[\"completion\"] = dataframe[\"rule_violation\"].map(\n",
    "            {\n",
    "                1: POSITIVE_ANSWER,\n",
    "                0: NEGATIVE_ANSWER,\n",
    "            }\n",
    "        )\n",
    "        columns.append(\"completion\")\n",
    "\n",
    "    dataframe = dataframe[columns]\n",
    "    dataset = Dataset.from_pandas(dataframe)\n",
    "    dataset.to_pandas().to_csv(\"/kaggle/working/dataset.csv\", index=False)\n",
    "    return dataset"
   ]
  },
  {
   "cell_type": "code",
   "execution_count": 4,
   "id": "8bde7aab",
   "metadata": {
    "execution": {
     "iopub.execute_input": "2025-10-07T16:20:04.647059Z",
     "iopub.status.busy": "2025-10-07T16:20:04.646616Z",
     "iopub.status.idle": "2025-10-07T16:20:04.651884Z",
     "shell.execute_reply": "2025-10-07T16:20:04.650973Z"
    },
    "papermill": {
     "duration": 0.012143,
     "end_time": "2025-10-07T16:20:04.653203",
     "exception": false,
     "start_time": "2025-10-07T16:20:04.641060",
     "status": "completed"
    },
    "tags": []
   },
   "outputs": [
    {
     "name": "stdout",
     "output_type": "stream",
     "text": [
      "Writing train.py\n"
     ]
    }
   ],
   "source": [
    "%%writefile train.py\n",
    "import pandas as pd\n",
    "\n",
    "from trl import SFTTrainer, SFTConfig\n",
    "from peft import LoraConfig\n",
    "from tqdm.auto import tqdm\n",
    "from transformers.utils import is_torch_bf16_gpu_available\n",
    "from utils import build_dataset, get_dataframe_to_train\n",
    "from constants import DATA_PATH, BASE_MODEL_PATH, LORA_PATH\n",
    "\n",
    "\n",
    "def main():\n",
    "    dataframe = get_dataframe_to_train(DATA_PATH)\n",
    "    train_dataset = build_dataset(dataframe)\n",
    "    \n",
    "    lora_config = LoraConfig(\n",
    "        r=16,\n",
    "        lora_alpha=32,\n",
    "        lora_dropout=0.1,\n",
    "        bias=\"none\",\n",
    "        target_modules=[\"q_proj\", \"k_proj\", \"v_proj\", \"o_proj\", \"gate_proj\", \"up_proj\", \"down_proj\"],\n",
    "        task_type=\"CAUSAL_LM\",\n",
    "    )\n",
    "    \n",
    "    training_args = SFTConfig(\n",
    "        num_train_epochs=1,\n",
    "        \n",
    "        per_device_train_batch_size=4,\n",
    "        gradient_accumulation_steps=4,\n",
    "        \n",
    "        optim=\"paged_adamw_8bit\",\n",
    "        learning_rate=2e-4, #keep high, lora usually likes high. \n",
    "        weight_decay=0.01,\n",
    "        max_grad_norm=1.0,\n",
    "        \n",
    "        lr_scheduler_type=\"cosine\",\n",
    "        warmup_ratio=0.03,\n",
    "        \n",
    "        bf16=is_torch_bf16_gpu_available(),\n",
    "        fp16=not is_torch_bf16_gpu_available(),\n",
    "        dataloader_pin_memory=True,\n",
    "        \n",
    "        gradient_checkpointing=True,\n",
    "        gradient_checkpointing_kwargs={\"use_reentrant\": False},\n",
    "    \n",
    "        save_strategy=\"no\",\n",
    "        report_to=\"none\",\n",
    "    \n",
    "        completion_only_loss=True,\n",
    "        packing=False,\n",
    "        remove_unused_columns=False,\n",
    "    )\n",
    "    \n",
    "    trainer = SFTTrainer(\n",
    "        BASE_MODEL_PATH,\n",
    "        args=training_args,\n",
    "        train_dataset=train_dataset,\n",
    "        peft_config=lora_config,\n",
    "    )\n",
    "    \n",
    "    trainer.train()\n",
    "    trainer.save_model(LORA_PATH)\n",
    "\n",
    "\n",
    "if __name__ == \"__main__\":\n",
    "    main()"
   ]
  },
  {
   "cell_type": "code",
   "execution_count": 5,
   "id": "92d04c41",
   "metadata": {
    "execution": {
     "iopub.execute_input": "2025-10-07T16:20:04.664840Z",
     "iopub.status.busy": "2025-10-07T16:20:04.664241Z",
     "iopub.status.idle": "2025-10-07T16:20:04.670335Z",
     "shell.execute_reply": "2025-10-07T16:20:04.669663Z"
    },
    "papermill": {
     "duration": 0.013216,
     "end_time": "2025-10-07T16:20:04.671553",
     "exception": false,
     "start_time": "2025-10-07T16:20:04.658337",
     "status": "completed"
    },
    "tags": []
   },
   "outputs": [
    {
     "name": "stdout",
     "output_type": "stream",
     "text": [
      "Writing inference.py\n"
     ]
    }
   ],
   "source": [
    "%%writefile inference.py\n",
    "import os\n",
    "os.environ[\"VLLM_USE_V1\"] = \"0\"\n",
    "\n",
    "import vllm\n",
    "import torch\n",
    "import pandas as pd\n",
    "from logits_processor_zoo.vllm import MultipleChoiceLogitsProcessor\n",
    "from vllm.lora.request import LoRARequest\n",
    "from utils import build_dataset\n",
    "from constants import BASE_MODEL_PATH, LORA_PATH, DATA_PATH, POSITIVE_ANSWER, NEGATIVE_ANSWER\n",
    "import random\n",
    "import multiprocessing as mp\n",
    "\n",
    "\n",
    "def run_inference_on_device(df_slice):\n",
    "    \"\"\"在当前进程可见的 GPU 上跑 vLLM 推理\"\"\"\n",
    "    llm = vllm.LLM(\n",
    "        BASE_MODEL_PATH,\n",
    "        quantization=\"gptq\",\n",
    "        tensor_parallel_size=1,\n",
    "        gpu_memory_utilization=0.98,\n",
    "        trust_remote_code=True,\n",
    "        dtype=\"half\",\n",
    "        enforce_eager=True,\n",
    "        max_model_len=2136,\n",
    "        disable_log_stats=True,\n",
    "        enable_prefix_caching=True,\n",
    "        enable_lora=True,\n",
    "        max_lora_rank=64,\n",
    "    )\n",
    "\n",
    "    tokenizer = llm.get_tokenizer()\n",
    "    mclp = MultipleChoiceLogitsProcessor(tokenizer, choices=[POSITIVE_ANSWER, NEGATIVE_ANSWER])\n",
    "\n",
    "    test_dataset = build_dataset(df_slice)\n",
    "    texts = test_dataset[\"prompt\"]\n",
    "\n",
    "    outputs = llm.generate(\n",
    "        texts,\n",
    "        vllm.SamplingParams(\n",
    "            skip_special_tokens=True,\n",
    "            max_tokens=1,\n",
    "            logits_processors=[mclp],\n",
    "            logprobs=2,\n",
    "        ),\n",
    "        use_tqdm=True,\n",
    "        lora_request=LoRARequest(\"default\", 1, LORA_PATH)\n",
    "    )\n",
    "\n",
    "    log_probs = [\n",
    "        {lp.decoded_token: lp.logprob for lp in out.outputs[0].logprobs[0].values()}\n",
    "        for out in outputs\n",
    "    ]\n",
    "    predictions = pd.DataFrame(log_probs)[[POSITIVE_ANSWER, NEGATIVE_ANSWER]]\n",
    "    predictions[\"row_id\"] = df_slice[\"row_id\"].values\n",
    "    return predictions\n",
    "\n",
    "\n",
    "def worker(device_id, df_slice, return_dict):\n",
    "    # 限制该进程只看到一张 GPU\n",
    "    os.environ[\"CUDA_VISIBLE_DEVICES\"] = str(device_id)\n",
    "    print(f\"[Worker {device_id}] Running on GPU {device_id}, data size={len(df_slice)}\")\n",
    "\n",
    "    preds = run_inference_on_device(df_slice)\n",
    "    return_dict[device_id] = preds\n",
    "\n",
    "\n",
    "def main():\n",
    "    test_dataframe = pd.read_csv(f\"{DATA_PATH}/test.csv\")\n",
    "\n",
    "    # 随机选择例子\n",
    "    test_dataframe[\"positive_example\"] = test_dataframe.apply(\n",
    "        lambda row: random.choice([row[\"positive_example_1\"], row[\"positive_example_2\"]]),\n",
    "        axis=1\n",
    "    )\n",
    "    test_dataframe[\"negative_example\"] = test_dataframe.apply(\n",
    "        lambda row: random.choice([row[\"negative_example_1\"], row[\"negative_example_2\"]]),\n",
    "        axis=1\n",
    "    )\n",
    "    test_dataframe = test_dataframe.drop(\n",
    "        columns=[\"positive_example_1\", \"positive_example_2\", \"negative_example_1\", \"negative_example_2\"],\n",
    "        errors=\"ignore\"\n",
    "    )\n",
    "\n",
    "    # 切分数据\n",
    "    mid = len(test_dataframe) // 2\n",
    "    df0 = test_dataframe.iloc[:mid].reset_index(drop=True)\n",
    "    df1 = test_dataframe.iloc[mid:].reset_index(drop=True)\n",
    "\n",
    "    manager = mp.Manager()\n",
    "    return_dict = manager.dict()\n",
    "\n",
    "    # 两个进程并行\n",
    "    p0 = mp.Process(target=worker, args=(0, df0, return_dict))\n",
    "    p1 = mp.Process(target=worker, args=(1, df1, return_dict))\n",
    "    p0.start()\n",
    "    p1.start()\n",
    "    p0.join()\n",
    "    p1.join()\n",
    "\n",
    "    # 合并结果\n",
    "    predictions = pd.concat([return_dict[0], return_dict[1]], ignore_index=True)\n",
    "\n",
    "    # 构建 submission\n",
    "    submission = predictions[[\"row_id\", POSITIVE_ANSWER]].rename(columns={POSITIVE_ANSWER: \"rule_violation\"})\n",
    "    rq = submission['rule_violation'].rank(method='average') / (len(submission) + 1)\n",
    "    submission['rule_violation'] = rq\n",
    "\n",
    "    submission.to_csv(\"submission_qwen.csv\", index=False)\n",
    "    print(\"✅ Saved submission_qwen.csv\")\n",
    "\n",
    "\n",
    "if __name__ == \"__main__\":\n",
    "    main()\n",
    "\n"
   ]
  },
  {
   "cell_type": "code",
   "execution_count": 6,
   "id": "07b2a58c",
   "metadata": {
    "execution": {
     "iopub.execute_input": "2025-10-07T16:20:04.682305Z",
     "iopub.status.busy": "2025-10-07T16:20:04.681956Z",
     "iopub.status.idle": "2025-10-07T16:20:04.686793Z",
     "shell.execute_reply": "2025-10-07T16:20:04.686211Z"
    },
    "papermill": {
     "duration": 0.011422,
     "end_time": "2025-10-07T16:20:04.687888",
     "exception": false,
     "start_time": "2025-10-07T16:20:04.676466",
     "status": "completed"
    },
    "tags": []
   },
   "outputs": [
    {
     "name": "stdout",
     "output_type": "stream",
     "text": [
      "Writing accelerate_config.yaml\n"
     ]
    }
   ],
   "source": [
    "%%writefile accelerate_config.yaml\n",
    "compute_environment: LOCAL_MACHINE\n",
    "debug: false\n",
    "deepspeed_config:\n",
    "  gradient_accumulation_steps: 4\n",
    "  gradient_clipping: 1.0\n",
    "  train_batch_size: 64\n",
    "  train_micro_batch_size_per_gpu: 4\n",
    "  \n",
    "  zero_stage: 2\n",
    "  offload_optimizer_device: none\n",
    "  offload_param_device: none\n",
    "  zero3_init_flag: false\n",
    "  \n",
    "  stage3_gather_16bit_weights_on_model_save: false\n",
    "  stage3_max_live_parameters: 1e8\n",
    "  stage3_max_reuse_distance: 1e8\n",
    "  stage3_prefetch_bucket_size: 5e7\n",
    "  stage3_param_persistence_threshold: 1e5\n",
    "  \n",
    "  zero_allow_untested_optimizer: true\n",
    "  zero_force_ds_cpu_optimizer: false\n",
    "  \n",
    "  fp16:\n",
    "    enabled: true\n",
    "    loss_scale: 0\n",
    "    initial_scale_power: 16\n",
    "    loss_scale_window: 1000\n",
    "    hysteresis: 2\n",
    "    min_loss_scale: 1\n",
    "  \n",
    "distributed_type: DEEPSPEED\n",
    "downcast_bf16: 'no'\n",
    "dynamo_config:\n",
    "  dynamo_backend: INDUCTOR\n",
    "  dynamo_use_fullgraph: false\n",
    "  dynamo_use_dynamic: false\n",
    "enable_cpu_affinity: false\n",
    "machine_rank: 0\n",
    "main_training_function: main\n",
    "mixed_precision: fp16\n",
    "num_machines: 1\n",
    "num_processes: 2\n",
    "rdzv_backend: static\n",
    "same_network: true\n",
    "tpu_env: []\n",
    "tpu_use_cluster: false\n",
    "tpu_use_sudo: false\n",
    "use_cpu: false"
   ]
  },
  {
   "cell_type": "code",
   "execution_count": 7,
   "id": "db90ecf0",
   "metadata": {
    "execution": {
     "iopub.execute_input": "2025-10-07T16:20:04.699839Z",
     "iopub.status.busy": "2025-10-07T16:20:04.699160Z",
     "iopub.status.idle": "2025-10-07T16:30:15.091427Z",
     "shell.execute_reply": "2025-10-07T16:30:15.090611Z"
    },
    "papermill": {
     "duration": 610.399747,
     "end_time": "2025-10-07T16:30:15.092998",
     "exception": false,
     "start_time": "2025-10-07T16:20:04.693251",
     "status": "completed"
    },
    "tags": []
   },
   "outputs": [
    {
     "name": "stdout",
     "output_type": "stream",
     "text": [
      "[2025-10-07 16:20:15,626] [INFO] [real_accelerator.py:254:get_accelerator] Setting ds_accelerator to cuda (auto detect)\r\n",
      "[2025-10-07 16:20:18,772] [INFO] [logging.py:107:log_dist] [Rank -1] [TorchCheckpointEngine] Initialized with serialization = False\r\n",
      "2025-10-07 16:20:20.514018: E external/local_xla/xla/stream_executor/cuda/cuda_fft.cc:477] Unable to register cuFFT factory: Attempting to register factory for plugin cuFFT when one has already been registered\r\n",
      "WARNING: All log messages before absl::InitializeLog() is called are written to STDERR\r\n",
      "E0000 00:00:1759854020.749573     191 cuda_dnn.cc:8310] Unable to register cuDNN factory: Attempting to register factory for plugin cuDNN when one has already been registered\r\n",
      "E0000 00:00:1759854020.820933     191 cuda_blas.cc:1418] Unable to register cuBLAS factory: Attempting to register factory for plugin cuBLAS when one has already been registered\r\n",
      "W1007 16:20:33.861000 191 torch/distributed/run.py:766] \r\n",
      "W1007 16:20:33.861000 191 torch/distributed/run.py:766] *****************************************\r\n",
      "W1007 16:20:33.861000 191 torch/distributed/run.py:766] Setting OMP_NUM_THREADS environment variable for each process to be 1 in default, to avoid your system being overloaded, please further tune the variable for optimal performance in your application as needed. \r\n",
      "W1007 16:20:33.861000 191 torch/distributed/run.py:766] *****************************************\r\n",
      "[W1007 16:20:41.785909246 socket.cpp:200] [c10d] The hostname of the client socket cannot be retrieved. err=-3\r\n",
      "[W1007 16:20:49.788768665 socket.cpp:200] [c10d] The hostname of the client socket cannot be retrieved. err=-3\r\n",
      "2025-10-07 16:20:56.579492: E external/local_xla/xla/stream_executor/cuda/cuda_fft.cc:477] Unable to register cuFFT factory: Attempting to register factory for plugin cuFFT when one has already been registered\r\n",
      "2025-10-07 16:20:56.592565: E external/local_xla/xla/stream_executor/cuda/cuda_fft.cc:477] Unable to register cuFFT factory: Attempting to register factory for plugin cuFFT when one has already been registered\r\n",
      "WARNING: All log messages before absl::InitializeLog() is called are written to STDERR\r\n",
      "E0000 00:00:1759854056.602336     249 cuda_dnn.cc:8310] Unable to register cuDNN factory: Attempting to register factory for plugin cuDNN when one has already been registered\r\n",
      "E0000 00:00:1759854056.609583     249 cuda_blas.cc:1418] Unable to register cuBLAS factory: Attempting to register factory for plugin cuBLAS when one has already been registered\r\n",
      "WARNING: All log messages before absl::InitializeLog() is called are written to STDERR\r\n",
      "E0000 00:00:1759854056.614618     248 cuda_dnn.cc:8310] Unable to register cuDNN factory: Attempting to register factory for plugin cuDNN when one has already been registered\r\n",
      "E0000 00:00:1759854056.621979     248 cuda_blas.cc:1418] Unable to register cuBLAS factory: Attempting to register factory for plugin cuBLAS when one has already been registered\r\n",
      "[2025-10-07 16:21:03,496] [INFO] [real_accelerator.py:254:get_accelerator] Setting ds_accelerator to cuda (auto detect)\r\n",
      "[2025-10-07 16:21:03,496] [INFO] [real_accelerator.py:254:get_accelerator] Setting ds_accelerator to cuda (auto detect)\r\n",
      "[2025-10-07 16:21:04,986] [INFO] [logging.py:107:log_dist] [Rank -1] [TorchCheckpointEngine] Initialized with serialization = False\r\n",
      "[2025-10-07 16:21:04,993] [INFO] [logging.py:107:log_dist] [Rank -1] [TorchCheckpointEngine] Initialized with serialization = False\r\n",
      "[2025-10-07 16:21:05,010] [INFO] [comm.py:821:init_distributed] cdb=None\r\n",
      "[2025-10-07 16:21:05,010] [INFO] [comm.py:852:init_distributed] Initializing TorchBackend in DeepSpeed with backend nccl\r\n",
      "[2025-10-07 16:21:05,018] [INFO] [comm.py:821:init_distributed] cdb=None\r\n",
      "[W1007 16:21:13.934159638 socket.cpp:200] [c10d] The hostname of the client socket cannot be retrieved. err=-3\r\n",
      "[W1007 16:21:13.942042700 socket.cpp:200] [c10d] The hostname of the client socket cannot be retrieved. err=-3\r\n",
      "[W1007 16:21:21.936410192 socket.cpp:200] [c10d] The hostname of the client socket cannot be retrieved. err=-3\r\n",
      "[W1007 16:21:29.938946065 socket.cpp:200] [c10d] The hostname of the client socket cannot be retrieved. err=-3\r\n",
      "/usr/local/lib/python3.11/dist-packages/auto_gptq/nn_modules/triton_utils/kernels.py:410: FutureWarning: `torch.cuda.amp.custom_fwd(args...)` is deprecated. Please use `torch.amp.custom_fwd(args..., device_type='cuda')` instead.\r\n",
      "  @custom_fwd\r\n",
      "/usr/local/lib/python3.11/dist-packages/auto_gptq/nn_modules/triton_utils/kernels.py:418: FutureWarning: `torch.cuda.amp.custom_bwd(args...)` is deprecated. Please use `torch.amp.custom_bwd(args..., device_type='cuda')` instead.\r\n",
      "  @custom_bwd\r\n",
      "/usr/local/lib/python3.11/dist-packages/auto_gptq/nn_modules/triton_utils/kernels.py:461: FutureWarning: `torch.cuda.amp.custom_fwd(args...)` is deprecated. Please use `torch.amp.custom_fwd(args..., device_type='cuda')` instead.\r\n",
      "  @custom_fwd(cast_inputs=torch.float16)\r\n",
      "/usr/local/lib/python3.11/dist-packages/auto_gptq/nn_modules/triton_utils/kernels.py:410: FutureWarning: `torch.cuda.amp.custom_fwd(args...)` is deprecated. Please use `torch.amp.custom_fwd(args..., device_type='cuda')` instead.\r\n",
      "  @custom_fwd\r\n",
      "/usr/local/lib/python3.11/dist-packages/auto_gptq/nn_modules/triton_utils/kernels.py:418: FutureWarning: `torch.cuda.amp.custom_bwd(args...)` is deprecated. Please use `torch.amp.custom_bwd(args..., device_type='cuda')` instead.\r\n",
      "  @custom_bwd\r\n",
      "/usr/local/lib/python3.11/dist-packages/auto_gptq/nn_modules/triton_utils/kernels.py:461: FutureWarning: `torch.cuda.amp.custom_fwd(args...)` is deprecated. Please use `torch.amp.custom_fwd(args..., device_type='cuda')` instead.\r\n",
      "  @custom_fwd(cast_inputs=torch.float16)\r\n",
      "`loss_type=None` was set in the config but it is unrecognized. Using the default loss: `ForCausalLMLoss`.\r\n",
      "`loss_type=None` was set in the config but it is unrecognized. Using the default loss: `ForCausalLMLoss`.\r\n",
      "Adding EOS to train dataset: 100%|█| 2049/2049 [00:00<00:00, 12440.28 examples/s\r\n",
      "Tokenizing train dataset: 100%|█████| 2049/2049 [00:03<00:00, 543.20 examples/s]\r\n",
      "Truncating train dataset: 100%|██| 2049/2049 [00:00<00:00, 135219.23 examples/s]\r\n",
      "Adding EOS to train dataset:   0%|              | 0/2049 [00:00<?, ? examples/s]The tokenizer has new PAD/BOS/EOS tokens that differ from the model config and generation config. The model config and generation config were aligned accordingly, being updated with the tokenizer's values. Updated tokens: {'bos_token_id': None, 'pad_token_id': 151643}.\r\n",
      "Adding EOS to train dataset: 100%|█| 2049/2049 [00:00<00:00, 26129.12 examples/s\r\n",
      "Tokenizing train dataset: 100%|█████| 2049/2049 [00:02<00:00, 715.76 examples/s]\r\n",
      "Truncating train dataset: 100%|██| 2049/2049 [00:00<00:00, 204919.74 examples/s]\r\n",
      "The tokenizer has new PAD/BOS/EOS tokens that differ from the model config and generation config. The model config and generation config were aligned accordingly, being updated with the tokenizer's values. Updated tokens: {'bos_token_id': None, 'pad_token_id': 151643}.\r\n",
      "[2025-10-07 16:21:43,905] [WARNING] [engine.py:1373:_do_optimizer_sanity_check] **** You are using ZeRO with an untested optimizer, proceed with caution *****\r\n",
      "`use_cache=True` is incompatible with gradient checkpointing. Setting `use_cache=False`.\r\n",
      "  0%|                                                    | 0/65 [00:00<?, ?it/s]`use_cache=True` is incompatible with gradient checkpointing. Setting `use_cache=False`.\r\n",
      "{'loss': 4.5904, 'grad_norm': 4.82636833190918, 'learning_rate': 0.00019396926207859084, 'num_tokens': 68410.0, 'mean_token_accuracy': 0.4765625, 'epoch': 0.16}\r\n",
      "{'loss': 0.3699, 'grad_norm': 2.659176826477051, 'learning_rate': 0.00016616858375968595, 'num_tokens': 136025.0, 'mean_token_accuracy': 0.7765625, 'epoch': 0.31}\r\n",
      "{'loss': 0.343, 'grad_norm': 1.3483083248138428, 'learning_rate': 0.00012225209339563145, 'num_tokens': 204188.0, 'mean_token_accuracy': 0.78125, 'epoch': 0.47}\r\n",
      "{'loss': 0.2933, 'grad_norm': 3.216460943222046, 'learning_rate': 7.291595318569951e-05, 'num_tokens': 271365.0, 'mean_token_accuracy': 0.8390625, 'epoch': 0.62}\r\n",
      "{'loss': 0.3013, 'grad_norm': 1.8508412837982178, 'learning_rate': 3.0176318191392726e-05, 'num_tokens': 338855.0, 'mean_token_accuracy': 0.8375, 'epoch': 0.78}\r\n",
      "{'loss': 0.2617, 'grad_norm': 2.1045081615448, 'learning_rate': 4.442719421385922e-06, 'num_tokens': 407756.0, 'mean_token_accuracy': 0.865625, 'epoch': 0.93}\r\n",
      "{'train_runtime': 499.602, 'train_samples_per_second': 4.101, 'train_steps_per_second': 0.13, 'train_loss': 0.969457063308129, 'num_tokens': 434309.0, 'mean_token_accuracy': 0.8419117647058824, 'epoch': 1.0}\r\n",
      "100%|███████████████████████████████████████████| 65/65 [08:19<00:00,  7.69s/it]\r\n",
      "[rank0]:[W1007 16:30:08.805138630 ProcessGroupNCCL.cpp:1479] Warning: WARNING: destroy_process_group() was not called before program exit, which can leak resources. For more info, please see https://pytorch.org/docs/stable/distributed.html#shutdown (function operator())\r\n"
     ]
    }
   ],
   "source": [
    "!accelerate launch --config_file accelerate_config.yaml train.py"
   ]
  },
  {
   "cell_type": "code",
   "execution_count": 8,
   "id": "2542eb02",
   "metadata": {
    "execution": {
     "iopub.execute_input": "2025-10-07T16:30:15.116467Z",
     "iopub.status.busy": "2025-10-07T16:30:15.115797Z",
     "iopub.status.idle": "2025-10-07T16:31:34.890624Z",
     "shell.execute_reply": "2025-10-07T16:31:34.889349Z"
    },
    "papermill": {
     "duration": 79.788064,
     "end_time": "2025-10-07T16:31:34.892268",
     "exception": false,
     "start_time": "2025-10-07T16:30:15.104204",
     "status": "completed"
    },
    "tags": []
   },
   "outputs": [
    {
     "name": "stdout",
     "output_type": "stream",
     "text": [
      "[Worker 0] Running on GPU 0, data size=5\r\n",
      "[Worker 1] Running on GPU 1, data size=5\r\n",
      "2025-10-07 16:30:22.112696: E external/local_xla/xla/stream_executor/cuda/cuda_fft.cc:477] Unable to register cuFFT factory: Attempting to register factory for plugin cuFFT when one has already been registered\r\n",
      "2025-10-07 16:30:22.112695: E external/local_xla/xla/stream_executor/cuda/cuda_fft.cc:477] Unable to register cuFFT factory: Attempting to register factory for plugin cuFFT when one has already been registered\r\n",
      "WARNING: All log messages before absl::InitializeLog() is called are written to STDERR\r\n",
      "WARNING: All log messages before absl::InitializeLog() is called are written to STDERR\r\n",
      "E0000 00:00:1759854622.142361     428 cuda_dnn.cc:8310] Unable to register cuDNN factory: Attempting to register factory for plugin cuDNN when one has already been registered\r\n",
      "E0000 00:00:1759854622.142359     426 cuda_dnn.cc:8310] Unable to register cuDNN factory: Attempting to register factory for plugin cuDNN when one has already been registered\r\n",
      "E0000 00:00:1759854622.150549     426 cuda_blas.cc:1418] Unable to register cuBLAS factory: Attempting to register factory for plugin cuBLAS when one has already been registered\r\n",
      "E0000 00:00:1759854622.150545     428 cuda_blas.cc:1418] Unable to register cuBLAS factory: Attempting to register factory for plugin cuBLAS when one has already been registered\r\n",
      "INFO 10-07 16:30:26 [__init__.py:235] Automatically detected platform cuda.\r\n",
      "INFO 10-07 16:30:26 [__init__.py:235] Automatically detected platform cuda.\r\n",
      "`torch_dtype` is deprecated! Use `dtype` instead!\r\n",
      "`torch_dtype` is deprecated! Use `dtype` instead!\r\n",
      "INFO 10-07 16:30:44 [config.py:1604] Using max model len 2136\r\n",
      "INFO 10-07 16:30:44 [config.py:1604] Using max model len 2136\r\n",
      "WARNING 10-07 16:30:45 [config.py:1084] gptq quantization is not fully optimized yet. The speed can be slower than non-quantized models.\r\n",
      "WARNING 10-07 16:30:45 [config.py:1084] gptq quantization is not fully optimized yet. The speed can be slower than non-quantized models.\r\n",
      "WARNING 10-07 16:30:46 [cuda.py:103] To see benefits of async output processing, enable CUDA graph. Since, enforce-eager is enabled, async output processor cannot be used\r\n",
      "WARNING 10-07 16:30:46 [cuda.py:103] To see benefits of async output processing, enable CUDA graph. Since, enforce-eager is enabled, async output processor cannot be used\r\n",
      "INFO 10-07 16:30:46 [llm_engine.py:228] Initializing a V0 LLM engine (v0.10.0) with config: model='/kaggle/input/qwen2.5/transformers/0.5b-instruct-gptq-int4/1', speculative_config=None, tokenizer='/kaggle/input/qwen2.5/transformers/0.5b-instruct-gptq-int4/1', skip_tokenizer_init=False, tokenizer_mode=auto, revision=None, override_neuron_config={}, tokenizer_revision=None, trust_remote_code=True, dtype=torch.float16, max_seq_len=2136, download_dir=None, load_format=LoadFormat.AUTO, tensor_parallel_size=1, pipeline_parallel_size=1, disable_custom_all_reduce=False, quantization=gptq, enforce_eager=True, kv_cache_dtype=auto,  device_config=cuda, decoding_config=DecodingConfig(backend='xgrammar', disable_fallback=False, disable_any_whitespace=False, disable_additional_properties=False, reasoning_backend=''), observability_config=ObservabilityConfig(show_hidden_metrics_for_version=None, otlp_traces_endpoint=None, collect_detailed_traces=None), seed=None, served_model_name=/kaggle/input/qwen2.5/transformers/0.5b-instruct-gptq-int4/1, num_scheduler_steps=1, multi_step_stream_outputs=True, enable_prefix_caching=True, chunked_prefill_enabled=False, use_async_output_proc=False, pooler_config=None, compilation_config={\"level\":0,\"debug_dump_path\":\"\",\"cache_dir\":\"\",\"backend\":\"\",\"custom_ops\":[],\"splitting_ops\":[],\"use_inductor\":true,\"compile_sizes\":[],\"inductor_compile_config\":{\"enable_auto_functionalized_v2\":false},\"inductor_passes\":{},\"use_cudagraph\":false,\"cudagraph_num_of_warmups\":0,\"cudagraph_capture_sizes\":[],\"cudagraph_copy_inputs\":false,\"full_cuda_graph\":false,\"max_capture_size\":0,\"local_cache_dir\":null}, use_cached_outputs=False, \r\n",
      "INFO 10-07 16:30:46 [llm_engine.py:228] Initializing a V0 LLM engine (v0.10.0) with config: model='/kaggle/input/qwen2.5/transformers/0.5b-instruct-gptq-int4/1', speculative_config=None, tokenizer='/kaggle/input/qwen2.5/transformers/0.5b-instruct-gptq-int4/1', skip_tokenizer_init=False, tokenizer_mode=auto, revision=None, override_neuron_config={}, tokenizer_revision=None, trust_remote_code=True, dtype=torch.float16, max_seq_len=2136, download_dir=None, load_format=LoadFormat.AUTO, tensor_parallel_size=1, pipeline_parallel_size=1, disable_custom_all_reduce=False, quantization=gptq, enforce_eager=True, kv_cache_dtype=auto,  device_config=cuda, decoding_config=DecodingConfig(backend='xgrammar', disable_fallback=False, disable_any_whitespace=False, disable_additional_properties=False, reasoning_backend=''), observability_config=ObservabilityConfig(show_hidden_metrics_for_version=None, otlp_traces_endpoint=None, collect_detailed_traces=None), seed=None, served_model_name=/kaggle/input/qwen2.5/transformers/0.5b-instruct-gptq-int4/1, num_scheduler_steps=1, multi_step_stream_outputs=True, enable_prefix_caching=True, chunked_prefill_enabled=False, use_async_output_proc=False, pooler_config=None, compilation_config={\"level\":0,\"debug_dump_path\":\"\",\"cache_dir\":\"\",\"backend\":\"\",\"custom_ops\":[],\"splitting_ops\":[],\"use_inductor\":true,\"compile_sizes\":[],\"inductor_compile_config\":{\"enable_auto_functionalized_v2\":false},\"inductor_passes\":{},\"use_cudagraph\":false,\"cudagraph_num_of_warmups\":0,\"cudagraph_capture_sizes\":[],\"cudagraph_copy_inputs\":false,\"full_cuda_graph\":false,\"max_capture_size\":0,\"local_cache_dir\":null}, use_cached_outputs=False, \r\n",
      "INFO 10-07 16:30:47 [cuda.py:346] Cannot use FlashAttention-2 backend for Volta and Turing GPUs.\r\n",
      "INFO 10-07 16:30:47 [cuda.py:395] Using XFormers backend.\r\n",
      "INFO 10-07 16:30:47 [cuda.py:346] Cannot use FlashAttention-2 backend for Volta and Turing GPUs.\r\n",
      "INFO 10-07 16:30:47 [cuda.py:395] Using XFormers backend.\r\n",
      "[W1007 16:30:58.938249854 socket.cpp:200] [c10d] The hostname of the client socket cannot be retrieved. err=-3\r\n",
      "[W1007 16:30:58.939070870 socket.cpp:200] [c10d] The hostname of the client socket cannot be retrieved. err=-3\r\n",
      "[W1007 16:31:08.949067161 socket.cpp:200] [c10d] The hostname of the client socket cannot be retrieved. err=-3\r\n",
      "[W1007 16:31:08.949067164 socket.cpp:200] [c10d] The hostname of the client socket cannot be retrieved. err=-3\r\n",
      "INFO 10-07 16:31:08 [parallel_state.py:1102] rank 0 in world size 1 is assigned as DP rank 0, PP rank 0, TP rank 0, EP rank 0\r\n",
      "INFO 10-07 16:31:08 [model_runner.py:1083] Starting to load model /kaggle/input/qwen2.5/transformers/0.5b-instruct-gptq-int4/1...\r\n",
      "INFO 10-07 16:31:08 [parallel_state.py:1102] rank 0 in world size 1 is assigned as DP rank 0, PP rank 0, TP rank 0, EP rank 0\r\n",
      "INFO 10-07 16:31:08 [model_runner.py:1083] Starting to load model /kaggle/input/qwen2.5/transformers/0.5b-instruct-gptq-int4/1...\r\n",
      "Loading safetensors checkpoint shards:   0% Completed | 0/1 [00:00<?, ?it/s]\r\n",
      "Loading safetensors checkpoint shards:   0% Completed | 0/1 [00:00<?, ?it/s]\r\n",
      "Loading safetensors checkpoint shards: 100% Completed | 1/1 [00:00<00:00,  3.65it/s]\r\n",
      "Loading safetensors checkpoint shards: 100% Completed | 1/1 [00:00<00:00,  3.65it/s]\r\n",
      "Loading safetensors checkpoint shards: 100% Completed | 1/1 [00:00<00:00,  3.65it/s]\r\n",
      "\r\n",
      "Loading safetensors checkpoint shards: 100% Completed | 1/1 [00:00<00:00,  3.65it/s]\r\n",
      "\r\n",
      "INFO 10-07 16:31:09 [default_loader.py:262] Loading weights took 0.29 seconds\r\n",
      "INFO 10-07 16:31:09 [default_loader.py:262] Loading weights took 0.30 seconds\r\n",
      "INFO 10-07 16:31:09 [logger.py:65] Using PunicaWrapperGPU.\r\n",
      "INFO 10-07 16:31:09 [logger.py:65] Using PunicaWrapperGPU.\r\n",
      "INFO 10-07 16:31:10 [model_runner.py:1115] Model loading took 0.4969 GiB and 0.569272 seconds\r\n",
      "INFO 10-07 16:31:10 [model_runner.py:1115] Model loading took 0.4969 GiB and 0.579146 seconds\r\n",
      "\r\n",
      "\r\n",
      "INFO 10-07 16:31:18 [worker.py:295] model weights take 0.50GiB; non_torch_memory takes 0.05GiB; PyTorch activation peak memory takes 1.39GiB; the rest of the memory reserved for KV Cache is 12.51GiB.\r\n",
      "\r\n",
      "\r\n",
      "INFO 10-07 16:31:18 [worker.py:295] model weights take 0.50GiB; non_torch_memory takes 0.05GiB; PyTorch activation peak memory takes 1.39GiB; the rest of the memory reserved for KV Cache is 12.51GiB.\r\n",
      "INFO 10-07 16:31:18 [executor_base.py:113] # cuda blocks: 68330, # CPU blocks: 21845\r\n",
      "INFO 10-07 16:31:18 [executor_base.py:118] Maximum concurrency for 2136 tokens per request: 511.84x\r\n",
      "INFO 10-07 16:31:18 [executor_base.py:113] # cuda blocks: 68330, # CPU blocks: 21845\r\n",
      "INFO 10-07 16:31:18 [executor_base.py:118] Maximum concurrency for 2136 tokens per request: 511.84x\r\n",
      "INFO 10-07 16:31:24 [llm_engine.py:424] init engine (profile, create kv cache, warmup model) took 14.39 seconds\r\n",
      "INFO 10-07 16:31:24 [llm_engine.py:424] init engine (profile, create kv cache, warmup model) took 14.65 seconds\r\n",
      "Adding requests: 100%|████████████████████████████| 5/5 [00:00<00:00,  6.22it/s]\r\n",
      "Processed prompts: 100%|█| 5/5 [00:00<00:00, 14.76it/s, est. speed input: 2949.0\r\n",
      "Adding requests: 100%|████████████████████████████| 5/5 [00:00<00:00,  6.32it/s]\r\n",
      "Processed prompts: 100%|█| 5/5 [00:00<00:00, 20.15it/s, est. speed input: 4700.3\r\n",
      "✅ Saved submission_qwen.csv\r\n"
     ]
    }
   ],
   "source": [
    "!python inference.py"
   ]
  },
  {
   "cell_type": "code",
   "execution_count": 9,
   "id": "bf31b464",
   "metadata": {
    "execution": {
     "iopub.execute_input": "2025-10-07T16:31:34.920245Z",
     "iopub.status.busy": "2025-10-07T16:31:34.919780Z",
     "iopub.status.idle": "2025-10-07T16:31:35.041617Z",
     "shell.execute_reply": "2025-10-07T16:31:35.040463Z"
    },
    "papermill": {
     "duration": 0.136992,
     "end_time": "2025-10-07T16:31:35.043384",
     "exception": false,
     "start_time": "2025-10-07T16:31:34.906392",
     "status": "completed"
    },
    "tags": []
   },
   "outputs": [
    {
     "name": "stdout",
     "output_type": "stream",
     "text": [
      "row_id,rule_violation\r\n",
      "2029,0.45454545454545453\r\n",
      "2030,0.2727272727272727\r\n",
      "2031,0.6363636363636364\r\n",
      "2032,0.36363636363636365\r\n",
      "2033,0.8181818181818182\r\n",
      "2034,0.5454545454545454\r\n",
      "2035,0.7272727272727273\r\n",
      "2036,0.18181818181818182\r\n",
      "2037,0.09090909090909091\r\n"
     ]
    }
   ],
   "source": [
    "!head submission_qwen.csv"
   ]
  },
  {
   "cell_type": "markdown",
   "id": "2763d851",
   "metadata": {
    "papermill": {
     "duration": 0.014191,
     "end_time": "2025-10-07T16:31:35.071962",
     "exception": false,
     "start_time": "2025-10-07T16:31:35.057771",
     "status": "completed"
    },
    "tags": []
   },
   "source": [
    "# 2. Qwen2.5 14B GPTQ Int4 Inference"
   ]
  },
  {
   "cell_type": "code",
   "execution_count": 10,
   "id": "42df2304",
   "metadata": {
    "execution": {
     "iopub.execute_input": "2025-10-07T16:31:35.099986Z",
     "iopub.status.busy": "2025-10-07T16:31:35.099656Z",
     "iopub.status.idle": "2025-10-07T16:31:35.104254Z",
     "shell.execute_reply": "2025-10-07T16:31:35.103247Z"
    },
    "papermill": {
     "duration": 0.020591,
     "end_time": "2025-10-07T16:31:35.105816",
     "exception": false,
     "start_time": "2025-10-07T16:31:35.085225",
     "status": "completed"
    },
    "tags": []
   },
   "outputs": [],
   "source": [
    "# ! mkdir -p /tmp/src"
   ]
  },
  {
   "cell_type": "code",
   "execution_count": 11,
   "id": "c19be082",
   "metadata": {
    "execution": {
     "iopub.execute_input": "2025-10-07T16:31:35.136948Z",
     "iopub.status.busy": "2025-10-07T16:31:35.136415Z",
     "iopub.status.idle": "2025-10-07T16:31:35.143615Z",
     "shell.execute_reply": "2025-10-07T16:31:35.142879Z"
    },
    "papermill": {
     "duration": 0.023782,
     "end_time": "2025-10-07T16:31:35.144853",
     "exception": false,
     "start_time": "2025-10-07T16:31:35.121071",
     "status": "completed"
    },
    "tags": []
   },
   "outputs": [
    {
     "name": "stdout",
     "output_type": "stream",
     "text": [
      "Writing infer_qwen.py\n"
     ]
    }
   ],
   "source": [
    "%%writefile infer_qwen.py\n",
    "\n",
    "import os\n",
    "import pandas as pd\n",
    "from logits_processor_zoo.vllm import MultipleChoiceLogitsProcessor\n",
    "import torch\n",
    "import vllm\n",
    "import numpy as np\n",
    "from vllm.lora.request import LoRARequest\n",
    "import argparse\n",
    "from scipy.special import softmax\n",
    "df = pd.read_csv(\"/kaggle/input/jigsaw-agile-community-rules/test.csv\")\n",
    "\n",
    "MODEL_NAME = \"/kaggle/input/qwen2.5/transformers/14b-instruct-gptq-int4/1\"\n",
    "LORA_PATH = \"/kaggle/input/lora_14b_gptq_1epoch_r32/keras/default/1\"\n",
    "if __name__=='__main__':\n",
    "    os.environ[\"VLLM_USE_V1\"] = \"0\"\n",
    "\n",
    "    llm = vllm.LLM(\n",
    "        MODEL_NAME,\n",
    "        # quantization='awq',\n",
    "        quantization='gptq',\n",
    "        tensor_parallel_size=torch.cuda.device_count(),\n",
    "        gpu_memory_utilization=0.98,\n",
    "        trust_remote_code=True,\n",
    "        dtype=\"half\",\n",
    "        enforce_eager=True,\n",
    "        max_model_len=2136,\n",
    "        disable_log_stats=True,\n",
    "        enable_prefix_caching=True,\n",
    "        enable_lora=True,\n",
    "        max_lora_rank=32\n",
    "    )\n",
    "    tokenizer = llm.get_tokenizer()\n",
    "    SYS_PROMPT = \"\"\"\n",
    "You are given a comment on reddit. Your task is to classify if it violates the given rule. Only respond Yes/No.\n",
    "\"\"\"\n",
    "    \n",
    "    prompts = []\n",
    "    for i, row in df.iterrows():\n",
    "        text = f\"\"\"\n",
    "    r/{row.subreddit}\n",
    "    Rule: {row.rule}\n",
    "    \n",
    "    1) {row.positive_example_1}\n",
    "    Violation: Yes\n",
    "    \n",
    "    2) {row.positive_example_2}\n",
    "    Violation: Yes\n",
    "    \n",
    "    3) {row.negative_example_1}\n",
    "    Violation: No\n",
    "    \n",
    "    4) {row.negative_example_2}\n",
    "    Violation: No\n",
    "    \n",
    "    5) {row.body}\n",
    "    \"\"\"\n",
    "        \n",
    "        messages = [\n",
    "            {\"role\": \"system\", \"content\": SYS_PROMPT},\n",
    "            {\"role\": \"user\", \"content\": text}\n",
    "        ]\n",
    "    \n",
    "        prompt = tokenizer.apply_chat_template(\n",
    "            messages,\n",
    "            add_generation_prompt=True,\n",
    "            tokenize=False,\n",
    "        ) + \"Answer:\"\n",
    "        prompts.append(prompt)\n",
    "    \n",
    "    df[\"prompt\"] = prompts\n",
    "    \n",
    "    mclp = MultipleChoiceLogitsProcessor(tokenizer, choices=['Yes','No'])\n",
    "    outputs = llm.generate(\n",
    "        prompts,\n",
    "        vllm.SamplingParams(\n",
    "            skip_special_tokens=True,\n",
    "            max_tokens=1,\n",
    "            logits_processors=[mclp],\n",
    "            logprobs=2,\n",
    "        ),\n",
    "        use_tqdm=True,\n",
    "        lora_request=LoRARequest(\"default\", 1, LORA_PATH)\n",
    "    )\n",
    "    logprobs = [\n",
    "        {lp.decoded_token: lp.logprob for lp in out.outputs[0].logprobs[0].values()}\n",
    "        for out in outputs\n",
    "    ]\n",
    "    logit_matrix = pd.DataFrame(logprobs)[['Yes','No']]\n",
    "    df = pd.concat([df, logit_matrix], axis=1)\n",
    "    \n",
    "    df[['Yes',\"No\"]] = df[['Yes',\"No\"]].apply(lambda x: softmax(x.values), axis=1, result_type=\"expand\")\n",
    "    df[\"pred\"] = df[\"Yes\"]\n",
    "    df['rule_violation'] = df[\"pred\"]\n",
    "    df[['row_id', 'rule_violation']].to_csv(\"submission_qwen14b.csv\",index=False)\n",
    "    pd.read_csv('submission_qwen14b.csv')"
   ]
  },
  {
   "cell_type": "code",
   "execution_count": 12,
   "id": "4e27f638",
   "metadata": {
    "execution": {
     "iopub.execute_input": "2025-10-07T16:31:35.173253Z",
     "iopub.status.busy": "2025-10-07T16:31:35.172986Z",
     "iopub.status.idle": "2025-10-07T16:35:18.699603Z",
     "shell.execute_reply": "2025-10-07T16:35:18.698768Z"
    },
    "papermill": {
     "duration": 223.542513,
     "end_time": "2025-10-07T16:35:18.701378",
     "exception": false,
     "start_time": "2025-10-07T16:31:35.158865",
     "status": "completed"
    },
    "tags": []
   },
   "outputs": [
    {
     "name": "stdout",
     "output_type": "stream",
     "text": [
      "2025-10-07 16:31:42.175113: E external/local_xla/xla/stream_executor/cuda/cuda_fft.cc:477] Unable to register cuFFT factory: Attempting to register factory for plugin cuFFT when one has already been registered\r\n",
      "WARNING: All log messages before absl::InitializeLog() is called are written to STDERR\r\n",
      "E0000 00:00:1759854702.199636     656 cuda_dnn.cc:8310] Unable to register cuDNN factory: Attempting to register factory for plugin cuDNN when one has already been registered\r\n",
      "E0000 00:00:1759854702.207683     656 cuda_blas.cc:1418] Unable to register cuBLAS factory: Attempting to register factory for plugin cuBLAS when one has already been registered\r\n",
      "INFO 10-07 16:31:46 [__init__.py:235] Automatically detected platform cuda.\r\n",
      "`torch_dtype` is deprecated! Use `dtype` instead!\r\n",
      "INFO 10-07 16:32:03 [config.py:1604] Using max model len 2136\r\n",
      "WARNING 10-07 16:32:05 [config.py:1084] gptq quantization is not fully optimized yet. The speed can be slower than non-quantized models.\r\n",
      "WARNING 10-07 16:32:05 [cuda.py:103] To see benefits of async output processing, enable CUDA graph. Since, enforce-eager is enabled, async output processor cannot be used\r\n",
      "INFO 10-07 16:32:05 [llm_engine.py:228] Initializing a V0 LLM engine (v0.10.0) with config: model='/kaggle/input/qwen2.5/transformers/14b-instruct-gptq-int4/1', speculative_config=None, tokenizer='/kaggle/input/qwen2.5/transformers/14b-instruct-gptq-int4/1', skip_tokenizer_init=False, tokenizer_mode=auto, revision=None, override_neuron_config={}, tokenizer_revision=None, trust_remote_code=True, dtype=torch.float16, max_seq_len=2136, download_dir=None, load_format=LoadFormat.AUTO, tensor_parallel_size=2, pipeline_parallel_size=1, disable_custom_all_reduce=False, quantization=gptq, enforce_eager=True, kv_cache_dtype=auto,  device_config=cuda, decoding_config=DecodingConfig(backend='xgrammar', disable_fallback=False, disable_any_whitespace=False, disable_additional_properties=False, reasoning_backend=''), observability_config=ObservabilityConfig(show_hidden_metrics_for_version=None, otlp_traces_endpoint=None, collect_detailed_traces=None), seed=None, served_model_name=/kaggle/input/qwen2.5/transformers/14b-instruct-gptq-int4/1, num_scheduler_steps=1, multi_step_stream_outputs=True, enable_prefix_caching=True, chunked_prefill_enabled=False, use_async_output_proc=False, pooler_config=None, compilation_config={\"level\":0,\"debug_dump_path\":\"\",\"cache_dir\":\"\",\"backend\":\"\",\"custom_ops\":[],\"splitting_ops\":[],\"use_inductor\":true,\"compile_sizes\":[],\"inductor_compile_config\":{\"enable_auto_functionalized_v2\":false},\"inductor_passes\":{},\"use_cudagraph\":false,\"cudagraph_num_of_warmups\":0,\"cudagraph_capture_sizes\":[],\"cudagraph_copy_inputs\":false,\"full_cuda_graph\":false,\"max_capture_size\":0,\"local_cache_dir\":null}, use_cached_outputs=False, \r\n",
      "WARNING 10-07 16:32:06 [__init__.py:2899] We must use the `spawn` multiprocessing start method. Overriding VLLM_WORKER_MULTIPROC_METHOD to 'spawn'. See https://docs.vllm.ai/en/latest/usage/troubleshooting.html#python-multiprocessing for more information. Reason: CUDA is initialized\r\n",
      "WARNING 10-07 16:32:06 [multiproc_worker_utils.py:307] Reducing Torch parallelism from 2 threads to 1 to avoid unnecessary CPU contention. Set OMP_NUM_THREADS in the external environment to tune this value as needed.\r\n",
      "INFO 10-07 16:32:06 [cuda.py:346] Cannot use FlashAttention-2 backend for Volta and Turing GPUs.\r\n",
      "INFO 10-07 16:32:06 [cuda.py:395] Using XFormers backend.\r\n",
      "2025-10-07 16:32:13.337036: E external/local_xla/xla/stream_executor/cuda/cuda_fft.cc:477] Unable to register cuFFT factory: Attempting to register factory for plugin cuFFT when one has already been registered\r\n",
      "WARNING: All log messages before absl::InitializeLog() is called are written to STDERR\r\n",
      "E0000 00:00:1759854733.362490     686 cuda_dnn.cc:8310] Unable to register cuDNN factory: Attempting to register factory for plugin cuDNN when one has already been registered\r\n",
      "E0000 00:00:1759854733.370289     686 cuda_blas.cc:1418] Unable to register cuBLAS factory: Attempting to register factory for plugin cuBLAS when one has already been registered\r\n",
      "INFO 10-07 16:32:17 [__init__.py:235] Automatically detected platform cuda.\r\n",
      "\u001b[1;36m(VllmWorkerProcess pid=686)\u001b[0;0m INFO 10-07 16:32:18 [multiproc_worker_utils.py:226] Worker ready; awaiting tasks\r\n",
      "\u001b[1;36m(VllmWorkerProcess pid=686)\u001b[0;0m INFO 10-07 16:32:18 [cuda.py:346] Cannot use FlashAttention-2 backend for Volta and Turing GPUs.\r\n",
      "\u001b[1;36m(VllmWorkerProcess pid=686)\u001b[0;0m INFO 10-07 16:32:18 [cuda.py:395] Using XFormers backend.\r\n",
      "[W1007 16:32:29.677413602 socket.cpp:200] [c10d] The hostname of the client socket cannot be retrieved. err=-3\r\n",
      "[W1007 16:32:30.066083296 socket.cpp:200] [c10d] The hostname of the client socket cannot be retrieved. err=-3\r\n",
      "[W1007 16:32:39.687185180 socket.cpp:200] [c10d] The hostname of the client socket cannot be retrieved. err=-3\r\n",
      "[W1007 16:32:49.695085311 socket.cpp:200] [c10d] The hostname of the client socket cannot be retrieved. err=-3\r\n",
      "\u001b[1;36m(VllmWorkerProcess pid=686)\u001b[0;0m INFO 10-07 16:32:49 [__init__.py:1375] Found nccl from library libnccl.so.2\r\n",
      "INFO 10-07 16:32:49 [__init__.py:1375] Found nccl from library libnccl.so.2\r\n",
      "\u001b[1;36m(VllmWorkerProcess pid=686)\u001b[0;0m INFO 10-07 16:32:49 [pynccl.py:70] vLLM is using nccl==2.26.2\r\n",
      "INFO 10-07 16:32:49 [pynccl.py:70] vLLM is using nccl==2.26.2\r\n",
      "INFO 10-07 16:32:50 [custom_all_reduce_utils.py:208] generating GPU P2P access cache in /root/.cache/vllm/gpu_p2p_access_cache_for_0,1.json\r\n",
      "INFO 10-07 16:33:17 [custom_all_reduce_utils.py:246] reading GPU P2P access cache from /root/.cache/vllm/gpu_p2p_access_cache_for_0,1.json\r\n",
      "\u001b[1;36m(VllmWorkerProcess pid=686)\u001b[0;0m INFO 10-07 16:33:17 [custom_all_reduce_utils.py:246] reading GPU P2P access cache from /root/.cache/vllm/gpu_p2p_access_cache_for_0,1.json\r\n",
      "INFO 10-07 16:33:17 [shm_broadcast.py:289] vLLM message queue communication handle: Handle(local_reader_ranks=[1], buffer_handle=(1, 4194304, 6, 'psm_84eb67f7'), local_subscribe_addr='ipc:///tmp/6c56908e-cf77-4ebb-a1db-0bc816422607', remote_subscribe_addr=None, remote_addr_ipv6=False)\r\n",
      "INFO 10-07 16:33:17 [parallel_state.py:1102] rank 0 in world size 2 is assigned as DP rank 0, PP rank 0, TP rank 0, EP rank 0\r\n",
      "\u001b[1;36m(VllmWorkerProcess pid=686)\u001b[0;0m INFO 10-07 16:33:17 [parallel_state.py:1102] rank 1 in world size 2 is assigned as DP rank 0, PP rank 0, TP rank 1, EP rank 1\r\n",
      "INFO 10-07 16:33:17 [model_runner.py:1083] Starting to load model /kaggle/input/qwen2.5/transformers/14b-instruct-gptq-int4/1...\r\n",
      "\u001b[1;36m(VllmWorkerProcess pid=686)\u001b[0;0m INFO 10-07 16:33:18 [model_runner.py:1083] Starting to load model /kaggle/input/qwen2.5/transformers/14b-instruct-gptq-int4/1...\r\n",
      "Loading safetensors checkpoint shards:   0% Completed | 0/3 [00:00<?, ?it/s]\r\n",
      "Loading safetensors checkpoint shards:  33% Completed | 1/3 [00:10<00:21, 10.73s/it]\r\n",
      "Loading safetensors checkpoint shards:  67% Completed | 2/3 [00:36<00:19, 19.80s/it]\r\n",
      "Loading safetensors checkpoint shards: 100% Completed | 3/3 [01:08<00:00, 25.07s/it]\r\n",
      "Loading safetensors checkpoint shards: 100% Completed | 3/3 [01:08<00:00, 22.74s/it]\r\n",
      "\r\n",
      "\u001b[1;36m(VllmWorkerProcess pid=686)\u001b[0;0m INFO 10-07 16:34:27 [default_loader.py:262] Loading weights took 67.83 seconds\r\n",
      "\u001b[1;36m(VllmWorkerProcess pid=686)\u001b[0;0m INFO 10-07 16:34:27 [logger.py:65] Using PunicaWrapperGPU.\r\n",
      "INFO 10-07 16:34:27 [default_loader.py:262] Loading weights took 68.58 seconds\r\n",
      "INFO 10-07 16:34:27 [logger.py:65] Using PunicaWrapperGPU.\r\n",
      "\u001b[1;36m(VllmWorkerProcess pid=686)\u001b[0;0m INFO 10-07 16:34:28 [model_runner.py:1115] Model loading took 4.8516 GiB and 68.406905 seconds\r\n",
      "INFO 10-07 16:34:28 [model_runner.py:1115] Model loading took 4.8516 GiB and 69.128579 seconds\r\n",
      "\r\n",
      "\r\n",
      "\u001b[1;36m(VllmWorkerProcess pid=686)\u001b[0;0m INFO 10-07 16:34:40 [worker.py:295] model weights take 4.85GiB; non_torch_memory takes 0.12GiB; PyTorch activation peak memory takes 0.26GiB; the rest of the memory reserved for KV Cache is 9.21GiB.\r\n",
      "\r\n",
      "\r\n",
      "INFO 10-07 16:34:40 [worker.py:295] model weights take 4.85GiB; non_torch_memory takes 0.13GiB; PyTorch activation peak memory takes 1.41GiB; the rest of the memory reserved for KV Cache is 8.06GiB.\r\n",
      "INFO 10-07 16:34:40 [executor_base.py:113] # cuda blocks: 5501, # CPU blocks: 2730\r\n",
      "INFO 10-07 16:34:40 [executor_base.py:118] Maximum concurrency for 2136 tokens per request: 41.21x\r\n",
      "INFO 10-07 16:34:46 [llm_engine.py:424] init engine (profile, create kv cache, warmup model) took 18.09 seconds\r\n",
      "Adding requests: 100%|██████████████████████████| 10/10 [00:01<00:00,  8.51it/s]\r\n",
      "Processed prompts: 100%|█| 10/10 [00:19<00:00,  1.97s/it, est. speed input: 176.\r\n",
      "INFO 10-07 16:35:11 [multiproc_worker_utils.py:125] Killing local vLLM worker processes\r\n",
      "[rank0]:[W1007 16:35:13.438161757 ProcessGroupNCCL.cpp:1479] Warning: WARNING: destroy_process_group() was not called before program exit, which can leak resources. For more info, please see https://pytorch.org/docs/stable/distributed.html#shutdown (function operator())\r\n"
     ]
    }
   ],
   "source": [
    "# %cd /tmp\n",
    "!python infer_qwen.py"
   ]
  },
  {
   "cell_type": "markdown",
   "id": "f38f312e",
   "metadata": {
    "papermill": {
     "duration": 0.014752,
     "end_time": "2025-10-07T16:35:18.730667",
     "exception": false,
     "start_time": "2025-10-07T16:35:18.715915",
     "status": "completed"
    },
    "tags": []
   },
   "source": [
    "# 3. Qwen3 0.6b Embedding"
   ]
  },
  {
   "cell_type": "code",
   "execution_count": 13,
   "id": "5f259d27",
   "metadata": {
    "execution": {
     "iopub.execute_input": "2025-10-07T16:35:18.760061Z",
     "iopub.status.busy": "2025-10-07T16:35:18.759348Z",
     "iopub.status.idle": "2025-10-07T16:35:19.170041Z",
     "shell.execute_reply": "2025-10-07T16:35:19.169088Z"
    },
    "papermill": {
     "duration": 0.427663,
     "end_time": "2025-10-07T16:35:19.171851",
     "exception": false,
     "start_time": "2025-10-07T16:35:18.744188",
     "status": "completed"
    },
    "tags": []
   },
   "outputs": [],
   "source": [
    "import os\n",
    "import pandas as pd"
   ]
  },
  {
   "cell_type": "code",
   "execution_count": 14,
   "id": "6bfb5c2a",
   "metadata": {
    "execution": {
     "iopub.execute_input": "2025-10-07T16:35:19.206396Z",
     "iopub.status.busy": "2025-10-07T16:35:19.205529Z",
     "iopub.status.idle": "2025-10-07T16:35:19.211480Z",
     "shell.execute_reply": "2025-10-07T16:35:19.210813Z"
    },
    "papermill": {
     "duration": 0.023964,
     "end_time": "2025-10-07T16:35:19.212803",
     "exception": false,
     "start_time": "2025-10-07T16:35:19.188839",
     "status": "completed"
    },
    "tags": []
   },
   "outputs": [
    {
     "name": "stdout",
     "output_type": "stream",
     "text": [
      "Overwriting constants.py\n"
     ]
    }
   ],
   "source": [
    "%%writefile constants.py\n",
    "EMBDEDDING_MODEL_PATH = \"/kaggle/input/qwen-3-embedding/transformers/0.6b/1\"\n",
    "MODEL_OUTPUT_PATH = '/kaggle/input/qwen3-8b-embedding'\n",
    "DATA_PATH = \"/kaggle/input/jigsaw-agile-community-rules\"\n",
    "\n",
    "# https://huggingface.co/Qwen/Qwen3-Embedding-0.6B/blob/main/config_sentence_transformers.json\n",
    "EMBEDDING_MODEL_QUERY = \"Instruct: Given a web search query, retrieve relevant passages that answer the query\\nQuery:\"\n",
    "\n",
    "CLEAN_TEXT = True\n",
    "TOP_K = 2000\n",
    "BATCH_SIZE = 128"
   ]
  },
  {
   "cell_type": "code",
   "execution_count": 15,
   "id": "54b91a75",
   "metadata": {
    "execution": {
     "iopub.execute_input": "2025-10-07T16:35:19.246656Z",
     "iopub.status.busy": "2025-10-07T16:35:19.246265Z",
     "iopub.status.idle": "2025-10-07T16:35:19.252162Z",
     "shell.execute_reply": "2025-10-07T16:35:19.251339Z"
    },
    "papermill": {
     "duration": 0.024873,
     "end_time": "2025-10-07T16:35:19.253478",
     "exception": false,
     "start_time": "2025-10-07T16:35:19.228605",
     "status": "completed"
    },
    "tags": []
   },
   "outputs": [
    {
     "name": "stdout",
     "output_type": "stream",
     "text": [
      "Overwriting utils.py\n"
     ]
    }
   ],
   "source": [
    "%%writefile utils.py\n",
    "import pandas as pd\n",
    "import torch.distributed as dist\n",
    "\n",
    "from datasets import Dataset\n",
    "from cleantext import clean\n",
    "from tqdm.auto import tqdm\n",
    "\n",
    "from constants import CLEAN_TEXT\n",
    "\n",
    "\n",
    "def build_prompt(row):\n",
    "    return f\"\"\"r/{row[\"subreddit\"]}\\nComment: {row[\"body\"]}\"\"\"\n",
    "\n",
    "\n",
    "def cleaner(text):\n",
    "    return clean(\n",
    "        text,\n",
    "        fix_unicode=True,\n",
    "        to_ascii=True,\n",
    "        lower=False,\n",
    "        no_line_breaks=False,\n",
    "        no_urls=True,\n",
    "        no_emails=True,\n",
    "        no_phone_numbers=True,\n",
    "        no_numbers=False,\n",
    "        no_digits=False,\n",
    "        no_currency_symbols=False,\n",
    "        no_punct=False,\n",
    "        replace_with_url=\"<URL>\",\n",
    "        replace_with_email=\"<EMAIL>\",\n",
    "        replace_with_phone_number=\"<PHONE>\",\n",
    "        lang=\"en\",\n",
    "    )\n",
    "\n",
    "\n",
    "\n",
    "def get_dataframe_to_train(data_path):\n",
    "    train_dataset = pd.read_csv(f\"{data_path}/train.csv\")\n",
    "    test_dataset = pd.read_csv(f\"{data_path}/test.csv\").sample(frac=0.6, random_state=42).reset_index(drop=True)\n",
    "\n",
    "    flatten = []\n",
    "    flatten.append(train_dataset[[\"body\", \"rule\", \"subreddit\", \"rule_violation\"]])\n",
    "    \n",
    "    for violation_type in [\"positive\", \"negative\"]:\n",
    "        for i in range(1, 3):\n",
    "            sub_dataset = test_dataset[[f\"{violation_type}_example_{i}\", \"rule\", \"subreddit\"]].copy()\n",
    "            sub_dataset = sub_dataset.rename(columns={f\"{violation_type}_example_{i}\": \"body\"})\n",
    "            sub_dataset[\"rule_violation\"] = 1 if violation_type == \"positive\" else 0\n",
    "            flatten.append(sub_dataset)\n",
    "\n",
    "    dataframe = pd.concat(flatten, axis=0)    \n",
    "    dataframe = dataframe.drop_duplicates(ignore_index=True)\n",
    "    return dataframe\n",
    "\n",
    "\n",
    "def prepare_dataframe(dataframe):\n",
    "    dataframe[\"prompt\"] = dataframe.apply(build_prompt, axis=1)\n",
    "\n",
    "    \n",
    "    if CLEAN_TEXT:\n",
    "        tqdm.pandas(desc=\"cleaner\")\n",
    "        dataframe[\"prompt\"] = dataframe[\"prompt\"].progress_apply(cleaner)\n",
    "\n",
    "    if \"rule_violation\" in dataframe.columns:\n",
    "        dataframe[\"rule_violation\"] = dataframe[\"rule_violation\"].map(\n",
    "            {\n",
    "                1: 1,\n",
    "                0: -1,\n",
    "            }\n",
    "        )\n",
    "\n",
    "    return dataframe"
   ]
  },
  {
   "cell_type": "code",
   "execution_count": 16,
   "id": "5a13cc99",
   "metadata": {
    "execution": {
     "iopub.execute_input": "2025-10-07T16:35:19.289268Z",
     "iopub.status.busy": "2025-10-07T16:35:19.288488Z",
     "iopub.status.idle": "2025-10-07T16:35:19.295449Z",
     "shell.execute_reply": "2025-10-07T16:35:19.294633Z"
    },
    "papermill": {
     "duration": 0.025609,
     "end_time": "2025-10-07T16:35:19.296794",
     "exception": false,
     "start_time": "2025-10-07T16:35:19.271185",
     "status": "completed"
    },
    "tags": []
   },
   "outputs": [
    {
     "name": "stdout",
     "output_type": "stream",
     "text": [
      "Writing semantic.py\n"
     ]
    }
   ],
   "source": [
    "%%writefile semantic.py\n",
    "import pandas as pd\n",
    "from transformers import AutoModel, AutoModelForCausalLM, AutoTokenizer\n",
    "from sentence_transformers import SentenceTransformer\n",
    "from sentence_transformers.util import semantic_search, dot_score\n",
    "from tqdm.auto import tqdm\n",
    "from peft import PeftModel, PeftConfig\n",
    "\n",
    "\n",
    "from utils import get_dataframe_to_train, prepare_dataframe\n",
    "from constants import DATA_PATH, EMBDEDDING_MODEL_PATH, EMBEDDING_MODEL_QUERY, TOP_K, BATCH_SIZE, MODEL_OUTPUT_PATH\n",
    "\n",
    "\n",
    "\n",
    "def get_scores(test_dataframe):\n",
    "    corpus_dataframe = get_dataframe_to_train(DATA_PATH)\n",
    "    corpus_dataframe = prepare_dataframe(corpus_dataframe)\n",
    "    \n",
    "    # Load base model\n",
    "    model = AutoModelForCausalLM.from_pretrained(EMBDEDDING_MODEL_PATH)\n",
    "    tokenizer = AutoTokenizer.from_pretrained(EMBDEDDING_MODEL_PATH)\n",
    "    \n",
    "    # Load adapter configuration and model\n",
    "    adapter_config = PeftConfig.from_pretrained(MODEL_OUTPUT_PATH)\n",
    "    lora_model = PeftModel.from_pretrained(model, MODEL_OUTPUT_PATH, config=adapter_config)\n",
    "    merged_model = lora_model.merge_and_unload()\n",
    "    tokenizer.save_pretrained(\"Qwen3Emb_Finetuned\")\n",
    "    merged_model.save_pretrained(\"Qwen3Emb_Finetuned\")\n",
    "\n",
    "    # 4. Tạo lại SentenceTransformer từ encoder đã merge\n",
    "    embedding_model = SentenceTransformer(model_name_or_path=\"Qwen3Emb_Finetuned\", device=\"cuda\")\n",
    "\n",
    "    print('Done loading model!')\n",
    "\n",
    "    result = []\n",
    "    for rule in tqdm(test_dataframe[\"rule\"].unique(), desc=f\"Generate scores for each rule\"):\n",
    "        test_dataframe_part = test_dataframe.query(\"rule == @rule\").reset_index(drop=True)\n",
    "        corpus_dataframe_part = corpus_dataframe.query(\"rule == @rule\").reset_index(drop=True)\n",
    "        corpus_dataframe_part = corpus_dataframe_part.reset_index(names=\"row_id\")\n",
    "        \n",
    "        query_embeddings = embedding_model.encode(\n",
    "            sentences=test_dataframe_part[\"prompt\"].tolist(),\n",
    "            prompt=EMBEDDING_MODEL_QUERY,\n",
    "            batch_size=BATCH_SIZE,\n",
    "            show_progress_bar=True,\n",
    "            convert_to_tensor=True,\n",
    "            device=\"cuda\",\n",
    "            normalize_embeddings=True,\n",
    "        )\n",
    "        document_embeddings = embedding_model.encode(\n",
    "            sentences=corpus_dataframe_part[\"prompt\"].tolist(),\n",
    "            batch_size=BATCH_SIZE,\n",
    "            show_progress_bar=True,\n",
    "            convert_to_tensor=True,\n",
    "            device=\"cuda\",\n",
    "            normalize_embeddings=True,\n",
    "        )\n",
    "        test_dataframe_part[\"semantic\"] = semantic_search(\n",
    "            query_embeddings,\n",
    "            document_embeddings,\n",
    "            top_k=TOP_K,\n",
    "            score_function=dot_score,\n",
    "        )\n",
    "        def get_score(semantic):\n",
    "            semantic = pd.DataFrame(semantic)\n",
    "            semantic = semantic.merge(\n",
    "                corpus_dataframe_part[[\"row_id\", \"rule_violation\"]],\n",
    "                how=\"left\",\n",
    "                left_on=\"corpus_id\",\n",
    "                right_on=\"row_id\",\n",
    "            )\n",
    "            semantic[\"score\"] = semantic[\"score\"]*semantic[\"rule_violation\"]\n",
    "            return semantic[\"score\"].sum()\n",
    "            \n",
    "        tqdm.pandas(desc=f\"Add label for {rule=}\")\n",
    "        test_dataframe_part[\"rule_violation\"] = test_dataframe_part[\"semantic\"].progress_apply(get_score)\n",
    "        result.append(test_dataframe_part[[\"row_id\", \"rule_violation\"]].copy())\n",
    "        \n",
    "    submission = pd.concat(result, axis=0)\n",
    "    return submission\n",
    "\n",
    "\n",
    "def generate_submission():\n",
    "    test_dataframe = pd.read_csv(f\"{DATA_PATH}/test.csv\")\n",
    "    test_dataframe = prepare_dataframe(test_dataframe)\n",
    "    \n",
    "    submission = get_scores(test_dataframe)\n",
    "    submission = test_dataframe[[\"row_id\"]].merge(submission, on=\"row_id\", how=\"left\")\n",
    "    submission.to_csv(\"submission_qwen3.csv\", index=False)\n",
    "\n",
    "\n",
    "if __name__ == \"__main__\":\n",
    "    generate_submission()\n",
    "\n"
   ]
  },
  {
   "cell_type": "code",
   "execution_count": 17,
   "id": "d3144d53",
   "metadata": {
    "execution": {
     "iopub.execute_input": "2025-10-07T16:35:19.330898Z",
     "iopub.status.busy": "2025-10-07T16:35:19.330079Z",
     "iopub.status.idle": "2025-10-07T16:40:44.299054Z",
     "shell.execute_reply": "2025-10-07T16:40:44.297806Z"
    },
    "papermill": {
     "duration": 324.987871,
     "end_time": "2025-10-07T16:40:44.301119",
     "exception": false,
     "start_time": "2025-10-07T16:35:19.313248",
     "status": "completed"
    },
    "tags": []
   },
   "outputs": [
    {
     "name": "stdout",
     "output_type": "stream",
     "text": [
      "2025-10-07 16:35:26.706623: E external/local_xla/xla/stream_executor/cuda/cuda_fft.cc:477] Unable to register cuFFT factory: Attempting to register factory for plugin cuFFT when one has already been registered\r\n",
      "WARNING: All log messages before absl::InitializeLog() is called are written to STDERR\r\n",
      "E0000 00:00:1759854926.733602     949 cuda_dnn.cc:8310] Unable to register cuDNN factory: Attempting to register factory for plugin cuDNN when one has already been registered\r\n",
      "E0000 00:00:1759854926.741723     949 cuda_blas.cc:1418] Unable to register cuBLAS factory: Attempting to register factory for plugin cuBLAS when one has already been registered\r\n",
      "cleaner: 100%|█████████████████████████████████| 10/10 [00:00<00:00, 851.79it/s]\r\n",
      "cleaner: 100%|████████████████████████████| 1969/1969 [00:00<00:00, 4206.61it/s]\r\n",
      "[2025-10-07 16:35:44,201] [INFO] [real_accelerator.py:254:get_accelerator] Setting ds_accelerator to cuda (auto detect)\r\n",
      "[2025-10-07 16:35:45,925] [INFO] [logging.py:107:log_dist] [Rank -1] [TorchCheckpointEngine] Initialized with serialization = False\r\n",
      "'(MaxRetryError('HTTPSConnectionPool(host=\\'huggingface.co\\', port=443): Max retries exceeded with url: /Qwen3Emb_Finetuned/resolve/main/modules.json (Caused by NameResolutionError(\"<urllib3.connection.HTTPSConnection object at 0x7c9cd49c63d0>: Failed to resolve \\'huggingface.co\\' ([Errno -3] Temporary failure in name resolution)\"))'), '(Request ID: ca015b03-6271-40a4-bc10-7e15309e332c)')' thrown while requesting HEAD https://huggingface.co/Qwen3Emb_Finetuned/resolve/main/modules.json\r\n",
      "Retrying in 1s [Retry 1/5].\r\n",
      "'(MaxRetryError('HTTPSConnectionPool(host=\\'huggingface.co\\', port=443): Max retries exceeded with url: /Qwen3Emb_Finetuned/resolve/main/modules.json (Caused by NameResolutionError(\"<urllib3.connection.HTTPSConnection object at 0x7c9cd48ba910>: Failed to resolve \\'huggingface.co\\' ([Errno -3] Temporary failure in name resolution)\"))'), '(Request ID: 2162da51-3c49-4579-acb4-b3b68d553537)')' thrown while requesting HEAD https://huggingface.co/Qwen3Emb_Finetuned/resolve/main/modules.json\r\n",
      "Retrying in 2s [Retry 2/5].\r\n",
      "'(MaxRetryError('HTTPSConnectionPool(host=\\'huggingface.co\\', port=443): Max retries exceeded with url: /Qwen3Emb_Finetuned/resolve/main/modules.json (Caused by NameResolutionError(\"<urllib3.connection.HTTPSConnection object at 0x7c9cd48b8710>: Failed to resolve \\'huggingface.co\\' ([Errno -3] Temporary failure in name resolution)\"))'), '(Request ID: 56effdb8-9195-491f-a728-b7ad2be7e45d)')' thrown while requesting HEAD https://huggingface.co/Qwen3Emb_Finetuned/resolve/main/modules.json\r\n",
      "Retrying in 4s [Retry 3/5].\r\n",
      "'(MaxRetryError('HTTPSConnectionPool(host=\\'huggingface.co\\', port=443): Max retries exceeded with url: /Qwen3Emb_Finetuned/resolve/main/modules.json (Caused by NameResolutionError(\"<urllib3.connection.HTTPSConnection object at 0x7c9cd49c8550>: Failed to resolve \\'huggingface.co\\' ([Errno -3] Temporary failure in name resolution)\"))'), '(Request ID: fe12e5df-d847-4327-b845-447abc5cdab2)')' thrown while requesting HEAD https://huggingface.co/Qwen3Emb_Finetuned/resolve/main/modules.json\r\n",
      "Retrying in 8s [Retry 4/5].\r\n",
      "'(MaxRetryError('HTTPSConnectionPool(host=\\'huggingface.co\\', port=443): Max retries exceeded with url: /Qwen3Emb_Finetuned/resolve/main/modules.json (Caused by NameResolutionError(\"<urllib3.connection.HTTPSConnection object at 0x7c9cd499d590>: Failed to resolve \\'huggingface.co\\' ([Errno -3] Temporary failure in name resolution)\"))'), '(Request ID: 89f8dfaa-3eec-43cd-a0fd-209ea28bd285)')' thrown while requesting HEAD https://huggingface.co/Qwen3Emb_Finetuned/resolve/main/modules.json\r\n",
      "Retrying in 8s [Retry 5/5].\r\n",
      "'(MaxRetryError('HTTPSConnectionPool(host=\\'huggingface.co\\', port=443): Max retries exceeded with url: /Qwen3Emb_Finetuned/resolve/main/modules.json (Caused by NameResolutionError(\"<urllib3.connection.HTTPSConnection object at 0x7c9cd49bb650>: Failed to resolve \\'huggingface.co\\' ([Errno -3] Temporary failure in name resolution)\"))'), '(Request ID: d430d475-d391-4ac7-a528-27636391d52b)')' thrown while requesting HEAD https://huggingface.co/Qwen3Emb_Finetuned/resolve/main/modules.json\r\n",
      "Done loading model!\r\n",
      "Generate scores for each rule:   0%|                      | 0/2 [00:00<?, ?it/s]\r\n",
      "Batches:   0%|                                            | 0/1 [00:00<?, ?it/s]\u001b[A\r\n",
      "Batches: 100%|████████████████████████████████████| 1/1 [00:00<00:00,  1.44it/s]\r\n",
      "\r\n",
      "Batches:   0%|                                            | 0/8 [00:00<?, ?it/s]\u001b[A\r\n",
      "Batches:  12%|████▌                               | 1/8 [00:02<00:16,  2.38s/it]\u001b[A\r\n",
      "Batches:  25%|█████████                           | 2/8 [00:08<00:26,  4.35s/it]\u001b[A\r\n",
      "Batches:  38%|█████████████▌                      | 3/8 [00:10<00:17,  3.56s/it]\u001b[A\r\n",
      "Batches:  50%|██████████████████                  | 4/8 [00:12<00:11,  2.88s/it]\u001b[A\r\n",
      "Batches:  62%|██████████████████████▌             | 5/8 [00:14<00:07,  2.41s/it]\u001b[A\r\n",
      "Batches:  75%|███████████████████████████         | 6/8 [00:15<00:03,  2.00s/it]\u001b[A\r\n",
      "Batches:  88%|███████████████████████████████▌    | 7/8 [00:16<00:01,  1.67s/it]\u001b[A\r\n",
      "Batches: 100%|████████████████████████████████████| 8/8 [00:17<00:00,  2.15s/it]\r\n",
      "\r\n",
      "Add label for rule='No Advertising: Spam, referral links, unsolicited advertisin\r\n",
      "Generate scores for each rule:  50%|███████       | 1/2 [00:18<00:18, 18.19s/it]\r\n",
      "Batches: 100%|████████████████████████████████████| 1/1 [00:00<00:00, 11.48it/s]\r\n",
      "\r\n",
      "Batches:   0%|                                            | 0/8 [00:00<?, ?it/s]\u001b[A\r\n",
      "Batches:  12%|████▌                               | 1/8 [00:01<00:12,  1.77s/it]\u001b[A\r\n",
      "Batches:  25%|█████████                           | 2/8 [00:06<00:22,  3.70s/it]\u001b[A\r\n",
      "Batches:  38%|█████████████▌                      | 3/8 [00:10<00:19,  3.90s/it]\u001b[A\r\n",
      "Batches:  50%|██████████████████                  | 4/8 [00:13<00:14,  3.55s/it]\u001b[A\r\n",
      "Batches:  62%|██████████████████████▌             | 5/8 [00:16<00:09,  3.19s/it]\u001b[A\r\n",
      "Batches:  75%|███████████████████████████         | 6/8 [00:18<00:05,  2.80s/it]\u001b[A\r\n",
      "Batches:  88%|███████████████████████████████▌    | 7/8 [00:20<00:02,  2.52s/it]\u001b[A\r\n",
      "Batches: 100%|████████████████████████████████████| 8/8 [00:22<00:00,  2.76s/it]\r\n",
      "\r\n",
      "Add label for rule='No legal advice: Do not offer or request legal advice.': 100\r\n",
      "Generate scores for each rule: 100%|██████████████| 2/2 [00:41<00:00, 20.62s/it]\r\n"
     ]
    }
   ],
   "source": [
    "!python semantic.py"
   ]
  },
  {
   "cell_type": "markdown",
   "id": "c343b5ba",
   "metadata": {
    "papermill": {
     "duration": 0.016966,
     "end_time": "2025-10-07T16:40:44.336388",
     "exception": false,
     "start_time": "2025-10-07T16:40:44.319422",
     "status": "completed"
    },
    "tags": []
   },
   "source": [
    "# 4. ENSEMBLE RESULT"
   ]
  },
  {
   "cell_type": "code",
   "execution_count": 18,
   "id": "98785f5c",
   "metadata": {
    "execution": {
     "iopub.execute_input": "2025-10-07T16:40:44.371079Z",
     "iopub.status.busy": "2025-10-07T16:40:44.370304Z",
     "iopub.status.idle": "2025-10-07T16:40:44.391836Z",
     "shell.execute_reply": "2025-10-07T16:40:44.390991Z"
    },
    "papermill": {
     "duration": 0.040272,
     "end_time": "2025-10-07T16:40:44.393239",
     "exception": false,
     "start_time": "2025-10-07T16:40:44.352967",
     "status": "completed"
    },
    "tags": []
   },
   "outputs": [],
   "source": [
    "import pandas as pd\n",
    "import numpy as np\n",
    "\n",
    "q = pd.read_csv('submission_qwen.csv')\n",
    "l = pd.read_csv('submission_qwen3.csv')\n",
    "m = pd.read_csv('submission_qwen14b.csv')\n",
    "\n",
    "\n",
    "rq = q['rule_violation'].rank(method='average') / (len(q)+1)\n",
    "rl = l['rule_violation'].rank(method='average') / (len(l)+1)\n",
    "rm = m['rule_violation'].rank(method='average') / (len(m)+1)\n",
    "\n",
    "\n",
    "blend = 0.5*rq + 0.3*rl + 0.2*rm   # or tune the rank-weights with a tiny grid using OOF\n",
    "q['rule_violation'] = blend\n",
    "q.to_csv('/kaggle/working/submission.csv', index=False)\n"
   ]
  },
  {
   "cell_type": "code",
   "execution_count": 19,
   "id": "966ac790",
   "metadata": {
    "execution": {
     "iopub.execute_input": "2025-10-07T16:40:44.426296Z",
     "iopub.status.busy": "2025-10-07T16:40:44.425560Z",
     "iopub.status.idle": "2025-10-07T16:40:44.445996Z",
     "shell.execute_reply": "2025-10-07T16:40:44.445022Z"
    },
    "papermill": {
     "duration": 0.03838,
     "end_time": "2025-10-07T16:40:44.447830",
     "exception": false,
     "start_time": "2025-10-07T16:40:44.409450",
     "status": "completed"
    },
    "tags": []
   },
   "outputs": [
    {
     "data": {
      "text/html": [
       "<div>\n",
       "<style scoped>\n",
       "    .dataframe tbody tr th:only-of-type {\n",
       "        vertical-align: middle;\n",
       "    }\n",
       "\n",
       "    .dataframe tbody tr th {\n",
       "        vertical-align: top;\n",
       "    }\n",
       "\n",
       "    .dataframe thead th {\n",
       "        text-align: right;\n",
       "    }\n",
       "</style>\n",
       "<table border=\"1\" class=\"dataframe\">\n",
       "  <thead>\n",
       "    <tr style=\"text-align: right;\">\n",
       "      <th></th>\n",
       "      <th>row_id</th>\n",
       "      <th>rule_violation</th>\n",
       "    </tr>\n",
       "  </thead>\n",
       "  <tbody>\n",
       "    <tr>\n",
       "      <th>0</th>\n",
       "      <td>2029</td>\n",
       "      <td>0.327273</td>\n",
       "    </tr>\n",
       "    <tr>\n",
       "      <th>1</th>\n",
       "      <td>2030</td>\n",
       "      <td>0.500000</td>\n",
       "    </tr>\n",
       "    <tr>\n",
       "      <th>2</th>\n",
       "      <td>2031</td>\n",
       "      <td>0.690909</td>\n",
       "    </tr>\n",
       "    <tr>\n",
       "      <th>3</th>\n",
       "      <td>2032</td>\n",
       "      <td>0.454545</td>\n",
       "    </tr>\n",
       "    <tr>\n",
       "      <th>4</th>\n",
       "      <td>2033</td>\n",
       "      <td>0.809091</td>\n",
       "    </tr>\n",
       "    <tr>\n",
       "      <th>5</th>\n",
       "      <td>2034</td>\n",
       "      <td>0.354545</td>\n",
       "    </tr>\n",
       "    <tr>\n",
       "      <th>6</th>\n",
       "      <td>2035</td>\n",
       "      <td>0.718182</td>\n",
       "    </tr>\n",
       "    <tr>\n",
       "      <th>7</th>\n",
       "      <td>2036</td>\n",
       "      <td>0.218182</td>\n",
       "    </tr>\n",
       "    <tr>\n",
       "      <th>8</th>\n",
       "      <td>2037</td>\n",
       "      <td>0.190909</td>\n",
       "    </tr>\n",
       "    <tr>\n",
       "      <th>9</th>\n",
       "      <td>2038</td>\n",
       "      <td>0.736364</td>\n",
       "    </tr>\n",
       "  </tbody>\n",
       "</table>\n",
       "</div>"
      ],
      "text/plain": [
       "   row_id  rule_violation\n",
       "0    2029        0.327273\n",
       "1    2030        0.500000\n",
       "2    2031        0.690909\n",
       "3    2032        0.454545\n",
       "4    2033        0.809091\n",
       "5    2034        0.354545\n",
       "6    2035        0.718182\n",
       "7    2036        0.218182\n",
       "8    2037        0.190909\n",
       "9    2038        0.736364"
      ]
     },
     "execution_count": 19,
     "metadata": {},
     "output_type": "execute_result"
    }
   ],
   "source": [
    "import pandas as pd\n",
    "pd.read_csv('/kaggle/working/submission.csv')"
   ]
  }
 ],
 "metadata": {
  "kaggle": {
   "accelerator": "nvidiaTeslaT4",
   "dataSources": [
    {
     "databundleVersionId": 13121456,
     "sourceId": 94635,
     "sourceType": "competition"
    },
    {
     "datasetId": 8044304,
     "sourceId": 12726948,
     "sourceType": "datasetVersion"
    },
    {
     "datasetId": 8067935,
     "sourceId": 12762469,
     "sourceType": "datasetVersion"
    },
    {
     "sourceId": 252850661,
     "sourceType": "kernelVersion"
    },
    {
     "sourceId": 252853424,
     "sourceType": "kernelVersion"
    },
    {
     "modelId": 164048,
     "modelInstanceId": 145960,
     "sourceId": 171496,
     "sourceType": "modelInstanceVersion"
    },
    {
     "modelId": 164048,
     "modelInstanceId": 146086,
     "sourceId": 171638,
     "sourceType": "modelInstanceVersion"
    },
    {
     "modelId": 368803,
     "modelInstanceId": 347541,
     "sourceId": 426330,
     "sourceType": "modelInstanceVersion"
    },
    {
     "modelId": 429004,
     "modelInstanceId": 411182,
     "sourceId": 523492,
     "sourceType": "modelInstanceVersion"
    }
   ],
   "dockerImageVersionId": 31041,
   "isGpuEnabled": true,
   "isInternetEnabled": false,
   "language": "python",
   "sourceType": "notebook"
  },
  "kernelspec": {
   "display_name": "Python 3",
   "language": "python",
   "name": "python3"
  },
  "language_info": {
   "codemirror_mode": {
    "name": "ipython",
    "version": 3
   },
   "file_extension": ".py",
   "mimetype": "text/x-python",
   "name": "python",
   "nbconvert_exporter": "python",
   "pygments_lexer": "ipython3",
   "version": "3.11.11"
  },
  "papermill": {
   "default_parameters": {},
   "duration": 1844.639591,
   "end_time": "2025-10-07T16:40:44.882080",
   "environment_variables": {},
   "exception": null,
   "input_path": "__notebook__.ipynb",
   "output_path": "__notebook__.ipynb",
   "parameters": {},
   "start_time": "2025-10-07T16:10:00.242489",
   "version": "2.6.0"
  }
 },
 "nbformat": 4,
 "nbformat_minor": 5
}
