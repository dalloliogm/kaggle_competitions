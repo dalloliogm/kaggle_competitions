{
 "cells": [
  {
   "cell_type": "markdown",
   "id": "6d15d4e5",
   "metadata": {
    "papermill": {
     "duration": 0.002076,
     "end_time": "2025-06-18T14:39:33.628100",
     "exception": false,
     "start_time": "2025-06-18T14:39:33.626024",
     "status": "completed"
    },
    "tags": []
   },
   "source": [
    "This notebook based on data submissions:\n",
    "\n",
    "\n",
    "- #### LB=0.36995 - v1 - [Ex11 : Org+PSS5E6 : Autogluon : 36 models - 2](https://www.kaggle.com/code/gauravduttakiit/ex11-org-pss5e6-autogluon-36-models-2) by [Gaurav Dutta](https://www.kaggle.com/gauravduttakiit)\n",
    "- #### LB=0.36964 - v3 - [Optimal Fertilizers | NN+XGB+LGBM+CAT+HGB+YDF](https://www.kaggle.com/code/mikhailnaumov/optimal-fertilizers-nn-xgb-lgbm-cat-hgb-ydf) by [Mikhail Naumov](https://www.kaggle.com/mikhailnaumov)\n",
    "- #### LB=0.37228 - v1 - [PG S5E6 - XGBx3 - [CV 0.37049 LB 0.37228]](https://www.kaggle.com/code/mahoganybuttstrings/pg-s5e6-xgbx3-cv-0-37049-lb-0-37228) by [Mahog](https://www.kaggle.com/mahoganybuttstrings)\n",
    "\n",
    "In each line are compared\n",
    "\n",
    "if &nbsp;2 coincide, this result is taken, otherwise, &nbsp;Mahog.decision\n",
    "\n",
    "&nbsp;\n",
    "\n",
    "An attempt will be made to swap the 2nd and 3rd elements\n",
    "\n",
    "first glance - in the resulting df.(LB=0.37248) - 3 attempts ( 16.06.2025 )\n",
    "- LB=0.36808 - in all rows\n",
    "- LB=0.37036 - in odd rows\n",
    "- LB=0.37021 - in even rows\n",
    "\n",
    "alternately, in each of the three df on which the solution is built\n",
    "with the launch of the resulting algorithm, which will select either two equal, or manually select one row, we will record and save each result, it may be possible to make a cut by the indices of the best of the experiments. It is clear that this is not ML, but maybe these actions and their results will show the \"correct\" path when making a decision, let's start with a first glance\n",
    "\n",
    "In terms of ML, we asked [one of our masters](https://www.kaggle.com/code/sulaniishara/smart-fertilizer-ranker-map-3-xgboost/comments) to express his opinion"
   ]
  },
  {
   "cell_type": "code",
   "execution_count": 1,
   "id": "dd1e5d72",
   "metadata": {
    "execution": {
     "iopub.execute_input": "2025-06-18T14:39:33.633135Z",
     "iopub.status.busy": "2025-06-18T14:39:33.632717Z",
     "iopub.status.idle": "2025-06-18T14:39:58.774933Z",
     "shell.execute_reply": "2025-06-18T14:39:58.773808Z"
    },
    "papermill": {
     "duration": 25.147145,
     "end_time": "2025-06-18T14:39:58.777038",
     "exception": false,
     "start_time": "2025-06-18T14:39:33.629893",
     "status": "completed"
    },
    "tags": []
   },
   "outputs": [],
   "source": [
    "import pandas as pd\n",
    "from collections import Counter\n",
    "\n",
    "# Load predictions\n",
    "path = '/kaggle/input/16-june-2025-fertilizer-18/submission__LB_'\n",
    "\n",
    "df1  = pd.read_csv(path + '0_36995__v01__Gaurav_Dutta.csv').rename(columns={'Fertilizer Name': 'Gaurav_Dutta'})\n",
    "df2  = pd.read_csv(path + '0_36964__v03__M_Naumov.csv')     .rename(columns={'Fertilizer Name': 'M_Naumov'})\n",
    "df3  = pd.read_csv(path + '0_37228__v01__Mahog.csv')        .rename(columns={'Fertilizer Name': 'Mahog'})\n",
    "df3g = pd.read_csv(path + '0_37228__v01__Mahog__GEN.csv')   .rename(columns={'Fertilizer Name': 'Mahog_GEN'})\n",
    "\n",
    "# Merge\n",
    "dfs = df1[['id', 'Gaurav_Dutta']].merge(\n",
    "    df2[['id', 'M_Naumov']], on='id').merge(\n",
    "    df3[['id', 'Mahog']], on='id').merge(\n",
    "    df3g[['id', 'Mahog_GEN']], on='id')\n",
    "\n",
    "# Utility function\n",
    "def get_top3(row, method='vote', weights=None):\n",
    "    preds = [row['Gaurav_Dutta'], row['M_Naumov'], row['Mahog'], row['Mahog_GEN']]\n",
    "    if method == 'vote':\n",
    "        return ' '.join([x for x, _ in Counter(preds).most_common(3)])\n",
    "    \n",
    "    elif method == 'weighted':\n",
    "        score_map = {\n",
    "            row['Gaurav_Dutta']: weights['Gaurav_Dutta'],\n",
    "            row['M_Naumov']: weights['M_Naumov'],\n",
    "            row['Mahog']: weights['Mahog'],\n",
    "            row['Mahog_GEN']: weights['Mahog_GEN']\n",
    "        }\n",
    "        sorted_preds = sorted(score_map.items(), key=lambda x: -x[1])\n",
    "        seen, result = set(), []\n",
    "        for label, _ in sorted_preds:\n",
    "            if label not in seen:\n",
    "                result.append(label)\n",
    "                seen.add(label)\n",
    "            if len(result) == 3:\n",
    "                break\n",
    "        return ' '.join(result)\n",
    "    \n",
    "    elif method == 'consensus_fill':\n",
    "        counts = Counter(preds)\n",
    "        common = [x for x, c in counts.items() if c > 1]\n",
    "        rest = [x for x in preds if x not in common]\n",
    "        final = common + [x for x in rest if x not in common]\n",
    "        return ' '.join(dict.fromkeys(final))[:3]  # Remove duplicates\n",
    "    \n",
    "    elif method == 'stacked':\n",
    "        # take each model's first choice in order of assumed LB rank\n",
    "        ordered = [row['Gaurav_Dutta'], row['M_Naumov'], row['Mahog'], row['Mahog_GEN']]\n",
    "        return ' '.join(dict.fromkeys(ordered))[:3]\n",
    "    \n",
    "    elif method == 'diverse':\n",
    "        return ' '.join(dict.fromkeys(preds))[:3]\n",
    "\n",
    "    else:\n",
    "        raise ValueError(\"Unknown method\")\n",
    "\n",
    "# Output different ensemble submissions\n",
    "weights = {'Gaurav_Dutta': 0.9, 'M_Naumov': 0.8, 'Mahog': 0.75, 'Mahog_GEN': 0.7}\n",
    "methods = ['vote', 'weighted', 'consensus_fill', 'stacked', 'diverse']\n",
    "\n",
    "for method in methods:\n",
    "    dfs['Fertilizer Name'] = dfs.apply(get_top3, axis=1, method=method, weights=weights)\n",
    "    sub = dfs[['id', 'Fertilizer Name']]\n",
    "    sub.to_csv(f'ensemble_{method}.csv', index=False)\n"
   ]
  }
 ],
 "metadata": {
  "kaggle": {
   "accelerator": "none",
   "dataSources": [
    {
     "databundleVersionId": 12184666,
     "sourceId": 91717,
     "sourceType": "competition"
    },
    {
     "datasetId": 7674415,
     "sourceId": 12186487,
     "sourceType": "datasetVersion"
    }
   ],
   "dockerImageVersionId": 31040,
   "isGpuEnabled": false,
   "isInternetEnabled": true,
   "language": "python",
   "sourceType": "notebook"
  },
  "kernelspec": {
   "display_name": "Python 3",
   "language": "python",
   "name": "python3"
  },
  "language_info": {
   "codemirror_mode": {
    "name": "ipython",
    "version": 3
   },
   "file_extension": ".py",
   "mimetype": "text/x-python",
   "name": "python",
   "nbconvert_exporter": "python",
   "pygments_lexer": "ipython3",
   "version": "3.11.11"
  },
  "papermill": {
   "default_parameters": {},
   "duration": 31.002198,
   "end_time": "2025-06-18T14:39:59.399149",
   "environment_variables": {},
   "exception": null,
   "input_path": "__notebook__.ipynb",
   "output_path": "__notebook__.ipynb",
   "parameters": {},
   "start_time": "2025-06-18T14:39:28.396951",
   "version": "2.6.0"
  }
 },
 "nbformat": 4,
 "nbformat_minor": 5
}
