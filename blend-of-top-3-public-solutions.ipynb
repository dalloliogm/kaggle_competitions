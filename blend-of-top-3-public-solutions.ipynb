{
 "cells": [
  {
   "cell_type": "markdown",
   "id": "9536d67a",
   "metadata": {
    "papermill": {
     "duration": 0.00296,
     "end_time": "2025-06-17T13:13:36.060662",
     "exception": false,
     "start_time": "2025-06-17T13:13:36.057702",
     "status": "completed"
    },
    "tags": []
   },
   "source": [
    "This notebook based on data submissions:\n",
    "\n",
    "\n",
    "- #### LB=0.36995 - v1 - [Ex11 : Org+PSS5E6 : Autogluon : 36 models - 2](https://www.kaggle.com/code/gauravduttakiit/ex11-org-pss5e6-autogluon-36-models-2) by [Gaurav Dutta](https://www.kaggle.com/gauravduttakiit)\n",
    "- #### LB=0.36964 - v3 - [Optimal Fertilizers | NN+XGB+LGBM+CAT+HGB+YDF](https://www.kaggle.com/code/mikhailnaumov/optimal-fertilizers-nn-xgb-lgbm-cat-hgb-ydf) by [Mikhail Naumov](https://www.kaggle.com/mikhailnaumov)\n",
    "- #### LB=0.37228 - v1 - [PG S5E6 - XGBx3 - [CV 0.37049 LB 0.37228]](https://www.kaggle.com/code/mahoganybuttstrings/pg-s5e6-xgbx3-cv-0-37049-lb-0-37228) by [Mahog](https://www.kaggle.com/mahoganybuttstrings)\n",
    "\n",
    "In each line are compared\n",
    "\n",
    "if &nbsp;2 coincide, this result is taken, otherwise, &nbsp;Mahog.decision\n",
    "\n",
    "&nbsp;\n",
    "\n",
    "An attempt will be made to swap the 2nd and 3rd elements\n",
    "\n",
    "first glance - in the resulting df.(LB=0.37248) - 3 attempts ( 16.06.2025 )\n",
    "- LB=0.36808 - in all rows\n",
    "- LB=0.37036 - in odd rows\n",
    "- LB=0.37021 - in even rows\n",
    "\n",
    "alternately, in each of the three df on which the solution is built\n",
    "with the launch of the resulting algorithm, which will select either two equal, or manually select one row, we will record and save each result, it may be possible to make a cut by the indices of the best of the experiments. It is clear that this is not ML, but maybe these actions and their results will show the \"correct\" path when making a decision, let's start with a first glance\n",
    "\n",
    "In terms of ML, we asked [one of our masters](https://www.kaggle.com/code/sulaniishara/smart-fertilizer-ranker-map-3-xgboost/comments) to express his opinion"
   ]
  },
  {
   "cell_type": "code",
   "execution_count": 1,
   "id": "71d3f8a1",
   "metadata": {
    "execution": {
     "iopub.execute_input": "2025-06-17T13:13:36.067122Z",
     "iopub.status.busy": "2025-06-17T13:13:36.066708Z",
     "iopub.status.idle": "2025-06-17T13:13:39.918090Z",
     "shell.execute_reply": "2025-06-17T13:13:39.917065Z"
    },
    "papermill": {
     "duration": 3.857076,
     "end_time": "2025-06-17T13:13:39.920247",
     "exception": false,
     "start_time": "2025-06-17T13:13:36.063171",
     "status": "completed"
    },
    "tags": []
   },
   "outputs": [],
   "source": [
    "import pandas as pd\n",
    "import seaborn as sns\n",
    "import matplotlib.pyplot as plt\n",
    "\n",
    "\n",
    "path_ds = '/kaggle/input/16-june-2025-fertilizer-18'\n",
    "\n",
    "solut_names = ['','Gaurav_Dutta','M_Naumov','Mahog']\n",
    "\n",
    "def load(path=path_ds):\n",
    "    \n",
    "    path += '/submission__LB_'\n",
    "\n",
    "    df1  = pd.read_csv(path + '0_36995__v01__Gaurav_Dutta'+ '.csv')\n",
    "    df2  = pd.read_csv(path + '0_36964__v03__M_Naumov'    + '.csv')\n",
    "    df3  = pd.read_csv(path + '0_37228__v01__Mahog'       + '.csv')\n",
    "    df3g = pd.read_csv(path + '0_37228__v01__Mahog__GEN'  + '.csv')\n",
    "\n",
    "    df1  = df1 .rename(columns={'Fertilizer Name':'Gaurav_Dutta' })\n",
    "    df2  = df2 .rename(columns={'Fertilizer Name':'M_Naumov'     })\n",
    "    df3  = df3 .rename(columns={'Fertilizer Name':'Mahog'        })\n",
    "    df3g = df3g.rename(columns={'Fertilizer Name':'Mahog' +'_GEN'})\n",
    "    \n",
    "    anyTwo = [\"\" for i in range(250_000)]\n",
    "    notEqu = [\"\" for i in range(250_000)]\n",
    "    \n",
    "    df1['anyTwo1'],df2['anyTwo2'],df3['anyTwo3'],df3g['Add'] = anyTwo,anyTwo,anyTwo,notEqu\n",
    "\n",
    "    dfs = pd.merge(df1, df2,  on=\"id\")\n",
    "    dfs = pd.merge(dfs, df3,  on=\"id\")\n",
    "    dfs = pd.merge(dfs, df3g, on=\"id\")\n",
    "    \n",
    "    return dfs"
   ]
  },
  {
   "cell_type": "code",
   "execution_count": 2,
   "id": "96417e36",
   "metadata": {
    "execution": {
     "iopub.execute_input": "2025-06-17T13:13:39.929051Z",
     "iopub.status.busy": "2025-06-17T13:13:39.928516Z",
     "iopub.status.idle": "2025-06-17T13:13:39.938903Z",
     "shell.execute_reply": "2025-06-17T13:13:39.937856Z"
    },
    "papermill": {
     "duration": 0.016695,
     "end_time": "2025-06-17T13:13:39.940754",
     "exception": false,
     "start_time": "2025-06-17T13:13:39.924059",
     "status": "completed"
    },
    "tags": []
   },
   "outputs": [],
   "source": [
    "def f_anyTwo1(x,ns=solut_names):\n",
    "    if (x[ns[1]]==x[ns[2]] or x[ns[1]]==x[ns[3]]) and x[ns[2]]!=x[ns[3]]: \n",
    "        return None\n",
    "    return \"\"\n",
    "def f_anyTwo2(x,ns=solut_names):\n",
    "    if (x[ns[2]]==x[ns[1]] or x[ns[2]]==x[ns[3]]) and x[ns[1]]!=x[ns[3]]: \n",
    "        return None\n",
    "    return \"\"\n",
    "def f_anyTwo3(x,ns=solut_names):\n",
    "    if (x[ns[3]]==x[ns[1]] or x[ns[3]]==x[ns[2]]) and x[ns[1]]!=x[ns[2]]: \n",
    "        return None\n",
    "    return \"\"\n",
    "\n",
    "def f_not_equ(x,ns=solut_names):\n",
    "    if x[ns[1]]!=x[ns[2]] and x[ns[1]]!=x[ns[3]] and x[ns[2]]!=x[ns[3]]: \n",
    "        return None\n",
    "    return ''"
   ]
  },
  {
   "cell_type": "code",
   "execution_count": 3,
   "id": "5a81bf08",
   "metadata": {
    "execution": {
     "iopub.execute_input": "2025-06-17T13:13:39.947709Z",
     "iopub.status.busy": "2025-06-17T13:13:39.947090Z",
     "iopub.status.idle": "2025-06-17T13:13:41.071578Z",
     "shell.execute_reply": "2025-06-17T13:13:41.070530Z"
    },
    "papermill": {
     "duration": 1.129921,
     "end_time": "2025-06-17T13:13:41.073140",
     "exception": false,
     "start_time": "2025-06-17T13:13:39.943219",
     "status": "completed"
    },
    "tags": []
   },
   "outputs": [
    {
     "data": {
      "text/html": [
       "<div>\n",
       "<style scoped>\n",
       "    .dataframe tbody tr th:only-of-type {\n",
       "        vertical-align: middle;\n",
       "    }\n",
       "\n",
       "    .dataframe tbody tr th {\n",
       "        vertical-align: top;\n",
       "    }\n",
       "\n",
       "    .dataframe thead th {\n",
       "        text-align: right;\n",
       "    }\n",
       "</style>\n",
       "<table border=\"1\" class=\"dataframe\">\n",
       "  <thead>\n",
       "    <tr style=\"text-align: right;\">\n",
       "      <th></th>\n",
       "      <th>id</th>\n",
       "      <th>Gaurav_Dutta</th>\n",
       "      <th>anyTwo1</th>\n",
       "      <th>M_Naumov</th>\n",
       "      <th>anyTwo2</th>\n",
       "      <th>Mahog</th>\n",
       "      <th>anyTwo3</th>\n",
       "      <th>Mahog_GEN</th>\n",
       "      <th>Add</th>\n",
       "    </tr>\n",
       "  </thead>\n",
       "  <tbody>\n",
       "    <tr>\n",
       "      <th>5850</th>\n",
       "      <td>755850</td>\n",
       "      <td>10-26-26 14-35-14 28-28</td>\n",
       "      <td></td>\n",
       "      <td>10-26-26 20-20 28-28</td>\n",
       "      <td></td>\n",
       "      <td>10-26-26 20-20 28-28</td>\n",
       "      <td></td>\n",
       "      <td>10-26-26 20-20 28-28</td>\n",
       "      <td></td>\n",
       "    </tr>\n",
       "    <tr>\n",
       "      <th>5851</th>\n",
       "      <td>755851</td>\n",
       "      <td>10-26-26 17-17-17 14-35-14</td>\n",
       "      <td></td>\n",
       "      <td>17-17-17 10-26-26 14-35-14</td>\n",
       "      <td></td>\n",
       "      <td>17-17-17 10-26-26 14-35-14</td>\n",
       "      <td></td>\n",
       "      <td>17-17-17 10-26-26 14-35-14</td>\n",
       "      <td></td>\n",
       "    </tr>\n",
       "    <tr>\n",
       "      <th>5852</th>\n",
       "      <td>755852</td>\n",
       "      <td>17-17-17 10-26-26 28-28</td>\n",
       "      <td></td>\n",
       "      <td>17-17-17 Urea 10-26-26</td>\n",
       "      <td></td>\n",
       "      <td>17-17-17 Urea 10-26-26</td>\n",
       "      <td></td>\n",
       "      <td>17-17-17 Urea 10-26-26</td>\n",
       "      <td></td>\n",
       "    </tr>\n",
       "    <tr>\n",
       "      <th>5853</th>\n",
       "      <td>755853</td>\n",
       "      <td>14-35-14 10-26-26 DAP</td>\n",
       "      <td></td>\n",
       "      <td>14-35-14 10-26-26 Urea</td>\n",
       "      <td></td>\n",
       "      <td>14-35-14 Urea DAP</td>\n",
       "      <td></td>\n",
       "      <td>14-35-14 Urea DAP</td>\n",
       "      <td></td>\n",
       "    </tr>\n",
       "    <tr>\n",
       "      <th>5854</th>\n",
       "      <td>755854</td>\n",
       "      <td>14-35-14 DAP 20-20</td>\n",
       "      <td></td>\n",
       "      <td>14-35-14 DAP 20-20</td>\n",
       "      <td></td>\n",
       "      <td>14-35-14 DAP 20-20</td>\n",
       "      <td></td>\n",
       "      <td>14-35-14 DAP 20-20</td>\n",
       "      <td></td>\n",
       "    </tr>\n",
       "  </tbody>\n",
       "</table>\n",
       "</div>"
      ],
      "text/plain": [
       "          id                Gaurav_Dutta anyTwo1                    M_Naumov  \\\n",
       "5850  755850     10-26-26 14-35-14 28-28                10-26-26 20-20 28-28   \n",
       "5851  755851  10-26-26 17-17-17 14-35-14          17-17-17 10-26-26 14-35-14   \n",
       "5852  755852     17-17-17 10-26-26 28-28              17-17-17 Urea 10-26-26   \n",
       "5853  755853       14-35-14 10-26-26 DAP              14-35-14 10-26-26 Urea   \n",
       "5854  755854          14-35-14 DAP 20-20                  14-35-14 DAP 20-20   \n",
       "\n",
       "     anyTwo2                       Mahog anyTwo3                   Mahog_GEN  \\\n",
       "5850                10-26-26 20-20 28-28                10-26-26 20-20 28-28   \n",
       "5851          17-17-17 10-26-26 14-35-14          17-17-17 10-26-26 14-35-14   \n",
       "5852              17-17-17 Urea 10-26-26              17-17-17 Urea 10-26-26   \n",
       "5853                   14-35-14 Urea DAP                   14-35-14 Urea DAP   \n",
       "5854                  14-35-14 DAP 20-20                  14-35-14 DAP 20-20   \n",
       "\n",
       "     Add  \n",
       "5850      \n",
       "5851      \n",
       "5852      \n",
       "5853      \n",
       "5854      "
      ]
     },
     "metadata": {},
     "output_type": "display_data"
    }
   ],
   "source": [
    "dfs = load()\n",
    "\n",
    "display(dfs[5_850:5_855])"
   ]
  },
  {
   "cell_type": "code",
   "execution_count": 4,
   "id": "a29b396b",
   "metadata": {
    "_kg_hide-input": true,
    "_kg_hide-output": false,
    "execution": {
     "iopub.execute_input": "2025-06-17T13:13:41.079944Z",
     "iopub.status.busy": "2025-06-17T13:13:41.079552Z",
     "iopub.status.idle": "2025-06-17T13:13:54.850957Z",
     "shell.execute_reply": "2025-06-17T13:13:54.849928Z"
    },
    "papermill": {
     "duration": 13.77686,
     "end_time": "2025-06-17T13:13:54.852667",
     "exception": false,
     "start_time": "2025-06-17T13:13:41.075807",
     "status": "completed"
    },
    "tags": []
   },
   "outputs": [
    {
     "data": {
      "image/png": "[encoded data removed]",
      "text/plain": [
       "<Figure size 1000x250 with 1 Axes>"
      ]
     },
     "metadata": {},
     "output_type": "display_data"
    }
   ],
   "source": [
    "def Visual_AnyTwo_and_Add(dfs, gen):\n",
    "    dfs['anyTwo1'] = dfs.apply(lambda x: f_anyTwo1(x), axis=1)\n",
    "    dfs['anyTwo2'] = dfs.apply(lambda x: f_anyTwo2(x), axis=1)\n",
    "    dfs['anyTwo3'] = dfs.apply(lambda x: f_anyTwo3(x), axis=1)\n",
    "    dfs['Add'    ] = dfs.apply(lambda x: f_not_equ(x), axis=1)\n",
    "    \n",
    "    plt.figure(figsize=(10, 2.5))\n",
    "    sns.heatmap(dfs.isnull(), cbar=False, cmap=\"Blues\")\n",
    "    plt.title(f\"Heatmap of  only any Two equal  prediction  and  {gen}  Add\")\n",
    "    plt.show()\n",
    "\n",
    "\n",
    "Visual_AnyTwo_and_Add(dfs, gen='Mahog')"
   ]
  },
  {
   "cell_type": "code",
   "execution_count": 5,
   "id": "f7643871",
   "metadata": {
    "execution": {
     "iopub.execute_input": "2025-06-17T13:13:54.860420Z",
     "iopub.status.busy": "2025-06-17T13:13:54.860008Z",
     "iopub.status.idle": "2025-06-17T13:13:55.741116Z",
     "shell.execute_reply": "2025-06-17T13:13:55.740068Z"
    },
    "papermill": {
     "duration": 0.887149,
     "end_time": "2025-06-17T13:13:55.743011",
     "exception": false,
     "start_time": "2025-06-17T13:13:54.855862",
     "status": "completed"
    },
    "tags": []
   },
   "outputs": [
    {
     "data": {
      "text/html": [
       "<div>\n",
       "<style scoped>\n",
       "    .dataframe tbody tr th:only-of-type {\n",
       "        vertical-align: middle;\n",
       "    }\n",
       "\n",
       "    .dataframe tbody tr th {\n",
       "        vertical-align: top;\n",
       "    }\n",
       "\n",
       "    .dataframe thead th {\n",
       "        text-align: right;\n",
       "    }\n",
       "</style>\n",
       "<table border=\"1\" class=\"dataframe\">\n",
       "  <thead>\n",
       "    <tr style=\"text-align: right;\">\n",
       "      <th></th>\n",
       "      <th>id</th>\n",
       "      <th>Fertilizer Name</th>\n",
       "    </tr>\n",
       "  </thead>\n",
       "  <tbody>\n",
       "    <tr>\n",
       "      <th>0</th>\n",
       "      <td>750000</td>\n",
       "      <td>10-26-26 20-20 DAP</td>\n",
       "    </tr>\n",
       "    <tr>\n",
       "      <th>1</th>\n",
       "      <td>750001</td>\n",
       "      <td>17-17-17 10-26-26 Urea</td>\n",
       "    </tr>\n",
       "    <tr>\n",
       "      <th>2</th>\n",
       "      <td>750002</td>\n",
       "      <td>20-20 28-28 Urea</td>\n",
       "    </tr>\n",
       "    <tr>\n",
       "      <th>3</th>\n",
       "      <td>750003</td>\n",
       "      <td>14-35-14 DAP 17-17-17</td>\n",
       "    </tr>\n",
       "    <tr>\n",
       "      <th>4</th>\n",
       "      <td>750004</td>\n",
       "      <td>Urea 10-26-26 20-20</td>\n",
       "    </tr>\n",
       "    <tr>\n",
       "      <th>...</th>\n",
       "      <td>...</td>\n",
       "      <td>...</td>\n",
       "    </tr>\n",
       "    <tr>\n",
       "      <th>249995</th>\n",
       "      <td>999995</td>\n",
       "      <td>Urea 28-28 14-35-14</td>\n",
       "    </tr>\n",
       "    <tr>\n",
       "      <th>249996</th>\n",
       "      <td>999996</td>\n",
       "      <td>28-28 17-17-17 10-26-26</td>\n",
       "    </tr>\n",
       "    <tr>\n",
       "      <th>249997</th>\n",
       "      <td>999997</td>\n",
       "      <td>DAP 10-26-26 Urea</td>\n",
       "    </tr>\n",
       "    <tr>\n",
       "      <th>249998</th>\n",
       "      <td>999998</td>\n",
       "      <td>10-26-26 17-17-17 28-28</td>\n",
       "    </tr>\n",
       "    <tr>\n",
       "      <th>249999</th>\n",
       "      <td>999999</td>\n",
       "      <td>14-35-14 20-20 10-26-26</td>\n",
       "    </tr>\n",
       "  </tbody>\n",
       "</table>\n",
       "<p>250000 rows × 2 columns</p>\n",
       "</div>"
      ],
      "text/plain": [
       "            id          Fertilizer Name\n",
       "0       750000       10-26-26 20-20 DAP\n",
       "1       750001   17-17-17 10-26-26 Urea\n",
       "2       750002         20-20 28-28 Urea\n",
       "3       750003    14-35-14 DAP 17-17-17\n",
       "4       750004      Urea 10-26-26 20-20\n",
       "...        ...                      ...\n",
       "249995  999995      Urea 28-28 14-35-14\n",
       "249996  999996  28-28 17-17-17 10-26-26\n",
       "249997  999997        DAP 10-26-26 Urea\n",
       "249998  999998  10-26-26 17-17-17 28-28\n",
       "249999  999999  14-35-14 20-20 10-26-26\n",
       "\n",
       "[250000 rows x 2 columns]"
      ]
     },
     "execution_count": 5,
     "metadata": {},
     "output_type": "execute_result"
    }
   ],
   "source": [
    "#df = pd.read_csv(path_ds + '/submission__LB_' + '0_37228__v01__Mahog__GEN.csv') # LB = 0.37248\n",
    "\n",
    "p = '/subm_16_06___base_0_37748__ exchange_2_3__in__'\n",
    "\n",
    "path = '/kaggle/input/16-june-2025-fertilizer-18' + p\n",
    "\n",
    "\n",
    "df =  pd.read_csv(path + 'all_rows__df_Mahog_GEN.csv') # LB=0.36808\n",
    "df =  pd.read_csv(path + 'odd_rows__df_Mahog_GEN.csv') # LB=0.37036\n",
    "df =  pd.read_csv(path +'even_rows__df_Mahog_GEN.csv') # LB=0.37021\n",
    "\n",
    "\n",
    "df.to_csv('submission.csv', index=False)\n",
    "\n",
    "df"
   ]
  }
 ],
 "metadata": {
  "kaggle": {
   "accelerator": "none",
   "dataSources": [
    {
     "databundleVersionId": 12184666,
     "sourceId": 91717,
     "sourceType": "competition"
    },
    {
     "datasetId": 7674415,
     "sourceId": 12186487,
     "sourceType": "datasetVersion"
    }
   ],
   "dockerImageVersionId": 31040,
   "isGpuEnabled": false,
   "isInternetEnabled": true,
   "language": "python",
   "sourceType": "notebook"
  },
  "kernelspec": {
   "display_name": "Python 3",
   "language": "python",
   "name": "python3"
  },
  "language_info": {
   "codemirror_mode": {
    "name": "ipython",
    "version": 3
   },
   "file_extension": ".py",
   "mimetype": "text/x-python",
   "name": "python",
   "nbconvert_exporter": "python",
   "pygments_lexer": "ipython3",
   "version": "3.11.11"
  },
  "papermill": {
   "default_parameters": {},
   "duration": 25.457182,
   "end_time": "2025-06-17T13:13:56.669539",
   "environment_variables": {},
   "exception": null,
   "input_path": "__notebook__.ipynb",
   "output_path": "__notebook__.ipynb",
   "parameters": {},
   "start_time": "2025-06-17T13:13:31.212357",
   "version": "2.6.0"
  }
 },
 "nbformat": 4,
 "nbformat_minor": 5
}
