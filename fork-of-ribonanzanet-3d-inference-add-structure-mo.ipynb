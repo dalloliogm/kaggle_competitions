{
 "cells": [
  {
   "cell_type": "code",
   "execution_count": 1,
   "id": "9d3829a3",
   "metadata": {
    "_cell_guid": "b1076dfc-b9ad-4769-8c92-a6c4dae69d19",
    "_uuid": "8f2839f25d086af736a60e9eeb907d3b93b6e0e5",
    "execution": {
     "iopub.execute_input": "2025-04-04T14:51:48.303242Z",
     "iopub.status.busy": "2025-04-04T14:51:48.302939Z",
     "iopub.status.idle": "2025-04-04T14:51:52.542222Z",
     "shell.execute_reply": "2025-04-04T14:51:52.541473Z"
    },
    "papermill": {
     "duration": 4.246125,
     "end_time": "2025-04-04T14:51:52.544106",
     "exception": false,
     "start_time": "2025-04-04T14:51:48.297981",
     "status": "completed"
    },
    "tags": []
   },
   "outputs": [],
   "source": [
    "import pandas as pd\n",
    "import torch\n",
    "import matplotlib.pyplot as plt\n",
    "import numpy as np\n",
    "import torch\n",
    "import random\n",
    "import pickle"
   ]
  },
  {
   "cell_type": "code",
   "execution_count": 2,
   "id": "f7c919c9",
   "metadata": {
    "execution": {
     "iopub.execute_input": "2025-04-04T14:51:52.552299Z",
     "iopub.status.busy": "2025-04-04T14:51:52.551875Z",
     "iopub.status.idle": "2025-04-04T14:51:52.556155Z",
     "shell.execute_reply": "2025-04-04T14:51:52.555461Z"
    },
    "papermill": {
     "duration": 0.009501,
     "end_time": "2025-04-04T14:51:52.557434",
     "exception": false,
     "start_time": "2025-04-04T14:51:52.547933",
     "status": "completed"
    },
    "tags": []
   },
   "outputs": [],
   "source": [
    "config = {\n",
    "    \"seed\": 0,\n",
    "    \"cutoff_date\": \"2020-01-01\",\n",
    "    \"test_cutoff_date\": \"2022-05-01\",\n",
    "    \"max_len\": 384,\n",
    "    \"batch_size\": 1,\n",
    "    \"learning_rate\": 1e-4,\n",
    "    \"weight_decay\": 0.0,\n",
    "    \"mixed_precision\": \"bf16\",\n",
    "    \"model_config_path\": \"../working/configs/pairwise.yaml\",  # Adjust path as needed\n",
    "    \"epochs\": 10,\n",
    "    \"cos_epoch\": 5,\n",
    "    \"loss_power_scale\": 1.0,\n",
    "    \"max_cycles\": 1,\n",
    "    \"grad_clip\": 0.1,\n",
    "    \"gradient_accumulation_steps\": 1,\n",
    "    \"d_clamp\": 30,\n",
    "    \"max_len_filter\": 9999999,\n",
    "    \"structural_violation_epoch\": 50,\n",
    "    \"balance_weight\": False,\n",
    "}"
   ]
  },
  {
   "cell_type": "code",
   "execution_count": 3,
   "id": "62b5ae6c",
   "metadata": {
    "execution": {
     "iopub.execute_input": "2025-04-04T14:51:52.564283Z",
     "iopub.status.busy": "2025-04-04T14:51:52.564035Z",
     "iopub.status.idle": "2025-04-04T14:51:52.578174Z",
     "shell.execute_reply": "2025-04-04T14:51:52.577425Z"
    },
    "papermill": {
     "duration": 0.019094,
     "end_time": "2025-04-04T14:51:52.579665",
     "exception": false,
     "start_time": "2025-04-04T14:51:52.560571",
     "status": "completed"
    },
    "tags": []
   },
   "outputs": [],
   "source": [
    "test_data=pd.read_csv(\"/kaggle/input/stanford-ribonanza-2-rna-folding-in-3-d/test_sequences.csv\")"
   ]
  },
  {
   "cell_type": "code",
   "execution_count": 4,
   "id": "2a9b0c1b",
   "metadata": {
    "execution": {
     "iopub.execute_input": "2025-04-04T14:51:52.586859Z",
     "iopub.status.busy": "2025-04-04T14:51:52.586620Z",
     "iopub.status.idle": "2025-04-04T14:51:52.591388Z",
     "shell.execute_reply": "2025-04-04T14:51:52.590734Z"
    },
    "papermill": {
     "duration": 0.009683,
     "end_time": "2025-04-04T14:51:52.592678",
     "exception": false,
     "start_time": "2025-04-04T14:51:52.582995",
     "status": "completed"
    },
    "tags": []
   },
   "outputs": [],
   "source": [
    "from torch.utils.data import Dataset, DataLoader\n",
    "\n",
    "class RNADataset(Dataset):\n",
    "    def __init__(self,data):\n",
    "        self.data=data\n",
    "        self.tokens={nt:i for i,nt in enumerate('ACGU')}\n",
    "\n",
    "    def __len__(self):\n",
    "        return len(self.data)\n",
    "    \n",
    "    def __getitem__(self, idx):\n",
    "        sequence=[self.tokens[nt] for nt in (self.data.loc[idx,'sequence'])]\n",
    "        sequence=np.array(sequence)\n",
    "        sequence=torch.tensor(sequence)\n",
    "\n",
    "\n",
    "\n",
    "\n",
    "        return {'sequence':sequence}"
   ]
  },
  {
   "cell_type": "code",
   "execution_count": 5,
   "id": "78d3f808",
   "metadata": {
    "execution": {
     "iopub.execute_input": "2025-04-04T14:51:52.599074Z",
     "iopub.status.busy": "2025-04-04T14:51:52.598842Z",
     "iopub.status.idle": "2025-04-04T14:51:52.650970Z",
     "shell.execute_reply": "2025-04-04T14:51:52.650073Z"
    },
    "papermill": {
     "duration": 0.056851,
     "end_time": "2025-04-04T14:51:52.652392",
     "exception": false,
     "start_time": "2025-04-04T14:51:52.595541",
     "status": "completed"
    },
    "tags": []
   },
   "outputs": [
    {
     "data": {
      "text/plain": [
       "{'sequence': tensor([2, 2, 2, 2, 2, 1, 1, 0, 1, 0, 2, 1, 0, 2, 0, 0, 2, 1, 2, 3, 3, 1, 0, 1,\n",
       "         2, 3, 1, 2, 1, 0, 2, 1, 1, 1, 1, 3, 2, 3, 1, 0, 2, 1, 1, 0, 3, 3, 2, 1,\n",
       "         0, 1, 3, 1, 1, 2, 2, 1, 3, 2, 1, 2, 0, 0, 3, 3, 1, 3, 2, 1, 3])}"
      ]
     },
     "execution_count": 5,
     "metadata": {},
     "output_type": "execute_result"
    }
   ],
   "source": [
    "test_dataset=RNADataset(test_data)\n",
    "test_dataset[0]"
   ]
  },
  {
   "cell_type": "code",
   "execution_count": 6,
   "id": "025c64af",
   "metadata": {
    "execution": {
     "iopub.execute_input": "2025-04-04T14:51:52.659689Z",
     "iopub.status.busy": "2025-04-04T14:51:52.659424Z",
     "iopub.status.idle": "2025-04-04T14:51:57.344625Z",
     "shell.execute_reply": "2025-04-04T14:51:57.343787Z"
    },
    "papermill": {
     "duration": 4.690506,
     "end_time": "2025-04-04T14:51:57.346335",
     "exception": false,
     "start_time": "2025-04-04T14:51:52.655829",
     "status": "completed"
    },
    "tags": []
   },
   "outputs": [
    {
     "name": "stdout",
     "output_type": "stream",
     "text": [
      "constructing 9 ConvTransformerEncoderLayers\n"
     ]
    }
   ],
   "source": [
    "import sys\n",
    "\n",
    "sys.path.append(\"/kaggle/input/ribonanzanet2d-final\")\n",
    "\n",
    "import torch.nn as nn\n",
    "from Network import RibonanzaNet, MultiHeadAttention\n",
    "import yaml\n",
    "\n",
    "class SimpleStructureModule(nn.Module):\n",
    "\n",
    "    def __init__(self, d_model, nhead, \n",
    "                 dim_feedforward, pairwise_dimension, dropout=0.1,\n",
    "                 ):\n",
    "        super(SimpleStructureModule, self).__init__()\n",
    "        #self.self_attn = nn.MultiheadAttention(d_model, nhead, dropout=dropout)\n",
    "        self.self_attn = MultiHeadAttention(d_model, nhead, d_model//nhead, d_model//nhead, dropout=dropout)\n",
    "\n",
    "\n",
    "        self.linear1 = nn.Linear(d_model, dim_feedforward)\n",
    "        self.dropout = nn.Dropout(dropout)\n",
    "        self.linear2 = nn.Linear(dim_feedforward, d_model)\n",
    "\n",
    "        self.norm1 = nn.LayerNorm(d_model)\n",
    "        self.norm2 = nn.LayerNorm(d_model)\n",
    "        self.norm3 = nn.LayerNorm(d_model)\n",
    "        #self.norm4 = nn.LayerNorm(d_model)\n",
    "        self.dropout1 = nn.Dropout(dropout)\n",
    "        self.dropout2 = nn.Dropout(dropout)\n",
    "        self.dropout3 = nn.Dropout(dropout)\n",
    "        #self.dropout4 = nn.Dropout(dropout)\n",
    "\n",
    "        self.pairwise2heads=nn.Linear(pairwise_dimension,nhead,bias=False)\n",
    "        self.pairwise_norm=nn.LayerNorm(pairwise_dimension)\n",
    "\n",
    "        self.distance2heads=nn.Linear(1,nhead,bias=False)\n",
    "        #self.pairwise_norm=nn.LayerNorm(pairwise_dimension)\n",
    "\n",
    "        self.activation = nn.GELU()\n",
    "\n",
    "        \n",
    "    def custom(self, module):\n",
    "        def custom_forward(*inputs):\n",
    "            inputs = module(*inputs)\n",
    "            return inputs\n",
    "        return custom_forward\n",
    "\n",
    "    def forward(self, input):\n",
    "        src , pairwise_features, pred_t, src_mask = input\n",
    "        \n",
    "        #src = src*src_mask.float().unsqueeze(-1)\n",
    "\n",
    "        pairwise_bias=self.pairwise2heads(self.pairwise_norm(pairwise_features)).permute(0,3,1,2)\n",
    "\n",
    "        \n",
    "        distance_matrix=pred_t[None,:,:]-pred_t[:,None,:]\n",
    "        distance_matrix=(distance_matrix**2).sum(-1).clip(2,37**2).sqrt()\n",
    "        distance_matrix=distance_matrix[None,:,:,None]\n",
    "        distance_bias=self.distance2heads(distance_matrix).permute(0,3,1,2)\n",
    "\n",
    "                    \n",
    "        \n",
    "        pairwise_bias=pairwise_bias+distance_bias\n",
    "\n",
    "        #print(src.shape)\n",
    "        src2,attention_weights = self.self_attn(src, src, src, mask=pairwise_bias, src_mask=src_mask)\n",
    "        \n",
    "\n",
    "        src = src + self.dropout1(src2)\n",
    "        src = self.norm1(src)\n",
    "        src2 = self.linear2(self.dropout(self.activation(self.linear1(src))))\n",
    "        src = src + self.dropout2(src2)\n",
    "        src = self.norm2(src)\n",
    "\n",
    "\n",
    "        return src\n",
    "\n",
    "\n",
    "\n",
    "class Config:\n",
    "    def __init__(self, **entries):\n",
    "        self.__dict__.update(entries)\n",
    "        self.entries=entries\n",
    "\n",
    "    def print(self):\n",
    "        print(self.entries)\n",
    "\n",
    "def load_config_from_yaml(file_path):\n",
    "    with open(file_path, 'r') as file:\n",
    "        config = yaml.safe_load(file)\n",
    "    return Config(**config)\n",
    "\n",
    "\n",
    "\n",
    "class finetuned_RibonanzaNet(RibonanzaNet):\n",
    "    def __init__(self, config, pretrained=False):\n",
    "        config.dropout=0.1\n",
    "        config.use_grad_checkpoint=True\n",
    "        super(finetuned_RibonanzaNet, self).__init__(config)\n",
    "        if pretrained:\n",
    "            self.load_state_dict(torch.load(\"/kaggle/input/ribonanzanet-weights/RibonanzaNet.pt\",map_location='cpu'))\n",
    "        # self.ct_predictor=nn.Sequential(nn.Linear(64,256),\n",
    "        #                                 nn.ReLU(),\n",
    "        #                                 nn.Linear(256,64),\n",
    "        #                                 nn.ReLU(),\n",
    "        #                                 nn.Linear(64,1)) \n",
    "        self.dropout=nn.Dropout(0.0)\n",
    "\n",
    "        self.structure_module=SimpleStructureModule(d_model=256, nhead=8, \n",
    "                 dim_feedforward=1024, pairwise_dimension=64)\n",
    "        \n",
    "        self.xyz_predictor=nn.Linear(256,3)\n",
    "\n",
    "    def custom(self, module):\n",
    "        def custom_forward(*inputs):\n",
    "            inputs = module(*inputs)\n",
    "            return inputs\n",
    "        return custom_forward\n",
    "    \n",
    "    def forward(self,src):\n",
    "        \n",
    "        #with torch.no_grad():\n",
    "        sequence_features, pairwise_features=self.get_embeddings(src, torch.ones_like(src).long().to(src.device))\n",
    "        \n",
    "        xyzs=[]\n",
    "        xyz=torch.zeros(sequence_features.shape[1],3).cuda().float()\n",
    "        #print(xyz.shape)\n",
    "        #xyz=self.xyz_predictor(sequence_features)\n",
    "\n",
    "        for i in range(18):\n",
    "            sequence_features=self.structure_module([sequence_features,pairwise_features,xyz,None])\n",
    "            xyz=xyz+self.xyz_predictor(sequence_features).squeeze(0)\n",
    "            xyzs.append(xyz)\n",
    "            \n",
    "        \n",
    "        return xyzs\n",
    "\n",
    "model=finetuned_RibonanzaNet(load_config_from_yaml(\"/kaggle/input/ribonanzanet2d-final/configs/pairwise.yaml\"),pretrained=False).cuda()"
   ]
  },
  {
   "cell_type": "code",
   "execution_count": 7,
   "id": "1fb03ba9",
   "metadata": {
    "execution": {
     "iopub.execute_input": "2025-04-04T14:51:57.354462Z",
     "iopub.status.busy": "2025-04-04T14:51:57.354006Z",
     "iopub.status.idle": "2025-04-04T14:51:57.967302Z",
     "shell.execute_reply": "2025-04-04T14:51:57.966418Z"
    },
    "papermill": {
     "duration": 0.618959,
     "end_time": "2025-04-04T14:51:57.968902",
     "exception": false,
     "start_time": "2025-04-04T14:51:57.349943",
     "status": "completed"
    },
    "tags": []
   },
   "outputs": [
    {
     "name": "stdout",
     "output_type": "stream",
     "text": [
      "constructing 9 ConvTransformerEncoderLayers\n"
     ]
    },
    {
     "name": "stderr",
     "output_type": "stream",
     "text": [
      "<ipython-input-7-dff0b37c586d>:3: FutureWarning: You are using `torch.load` with `weights_only=False` (the current default value), which uses the default pickle module implicitly. It is possible to construct malicious pickle data which will execute arbitrary code during unpickling (See https://github.com/pytorch/pytorch/blob/main/SECURITY.md#untrusted-models for more details). In a future release, the default value for `weights_only` will be flipped to `True`. This limits the functions that could be executed during unpickling. Arbitrary objects will no longer be allowed to be loaded via this mode unless they are explicitly allowlisted by the user via `torch.serialization.add_safe_globals`. We recommend you start setting `weights_only=True` for any use case where you don't have full control of the loaded file. Please open an issue on GitHub for any issues related to this experimental feature.\n",
      "  model.load_state_dict(torch.load(\"/kaggle/input/ribonanzanet-3d-finetune-add-structure-module/RibonanzaNet-3D.pt\"))\n"
     ]
    },
    {
     "data": {
      "text/plain": [
       "<All keys matched successfully>"
      ]
     },
     "execution_count": 7,
     "metadata": {},
     "output_type": "execute_result"
    }
   ],
   "source": [
    "model=finetuned_RibonanzaNet(load_config_from_yaml(\"/kaggle/input/ribonanzanet2d-final/configs/pairwise.yaml\"),pretrained=False).cuda()\n",
    "\n",
    "model.load_state_dict(torch.load(\"/kaggle/input/ribonanzanet-3d-finetune-add-structure-module/RibonanzaNet-3D.pt\"))\n"
   ]
  },
  {
   "cell_type": "code",
   "execution_count": 8,
   "id": "9a216cf7",
   "metadata": {
    "execution": {
     "iopub.execute_input": "2025-04-04T14:51:57.977446Z",
     "iopub.status.busy": "2025-04-04T14:51:57.977103Z",
     "iopub.status.idle": "2025-04-04T14:51:57.982560Z",
     "shell.execute_reply": "2025-04-04T14:51:57.981702Z"
    },
    "papermill": {
     "duration": 0.011018,
     "end_time": "2025-04-04T14:51:57.983936",
     "exception": false,
     "start_time": "2025-04-04T14:51:57.972918",
     "status": "completed"
    },
    "tags": []
   },
   "outputs": [
    {
     "data": {
      "text/plain": [
       "torch.Size([69])"
      ]
     },
     "execution_count": 8,
     "metadata": {},
     "output_type": "execute_result"
    }
   ],
   "source": [
    "test_dataset[0]['sequence'].shape"
   ]
  },
  {
   "cell_type": "code",
   "execution_count": 9,
   "id": "19f55222",
   "metadata": {
    "execution": {
     "iopub.execute_input": "2025-04-04T14:51:57.991889Z",
     "iopub.status.busy": "2025-04-04T14:51:57.991627Z",
     "iopub.status.idle": "2025-04-04T14:52:13.328456Z",
     "shell.execute_reply": "2025-04-04T14:52:13.327384Z"
    },
    "papermill": {
     "duration": 15.342644,
     "end_time": "2025-04-04T14:52:13.330267",
     "exception": false,
     "start_time": "2025-04-04T14:51:57.987623",
     "status": "completed"
    },
    "tags": []
   },
   "outputs": [
    {
     "name": "stderr",
     "output_type": "stream",
     "text": [
      "/usr/local/lib/python3.10/dist-packages/torch/_dynamo/eval_frame.py:632: UserWarning: torch.utils.checkpoint: the use_reentrant parameter should be passed explicitly. In version 2.5 we will raise an exception if use_reentrant is not passed. use_reentrant=False is recommended, but if you need to preserve the current default behavior, you can pass use_reentrant=True. Refer to docs for more details on the differences between the two variants.\n",
      "  return fn(*args, **kwargs)\n",
      "/usr/local/lib/python3.10/dist-packages/torch/utils/checkpoint.py:87: UserWarning: None of the inputs have requires_grad=True. Gradients will be None\n",
      "  warnings.warn(\n"
     ]
    }
   ],
   "source": [
    "model.eval()\n",
    "preds=[]\n",
    "for i in range(len(test_dataset)):\n",
    "    src=test_dataset[i]['sequence'].long()\n",
    "    src=src.unsqueeze(0).cuda()\n",
    "\n",
    "    model.train()\n",
    "\n",
    "    tmp=[]\n",
    "    for i in range(4):\n",
    "        with torch.no_grad():\n",
    "            xyz=model(src)[-1].squeeze()\n",
    "        tmp.append(xyz.cpu().numpy())\n",
    "\n",
    "    model.eval()\n",
    "    with torch.no_grad():\n",
    "        xyz=model(src)[-1].squeeze()\n",
    "    tmp.append(xyz.cpu().numpy())\n",
    "\n",
    "    tmp=np.stack(tmp,0)\n",
    "    #exit()\n",
    "    preds.append(tmp)\n"
   ]
  },
  {
   "cell_type": "code",
   "execution_count": 10,
   "id": "f666ab0e",
   "metadata": {
    "execution": {
     "iopub.execute_input": "2025-04-04T14:52:13.339362Z",
     "iopub.status.busy": "2025-04-04T14:52:13.339029Z",
     "iopub.status.idle": "2025-04-04T14:52:13.938794Z",
     "shell.execute_reply": "2025-04-04T14:52:13.937841Z"
    },
    "papermill": {
     "duration": 0.605698,
     "end_time": "2025-04-04T14:52:13.940277",
     "exception": false,
     "start_time": "2025-04-04T14:52:13.334579",
     "status": "completed"
    },
    "tags": []
   },
   "outputs": [
    {
     "data": {
      "text/html": [
       "<iframe\n",
       "    scrolling=\"no\"\n",
       "    width=\"100%\"\n",
       "    height=\"545px\"\n",
       "    src=\"iframe_figures/figure_10.html\"\n",
       "    frameborder=\"0\"\n",
       "    allowfullscreen\n",
       "></iframe>\n"
      ]
     },
     "metadata": {},
     "output_type": "display_data"
    }
   ],
   "source": [
    "import plotly.graph_objects as go\n",
    "import numpy as np\n",
    "\n",
    "# Example: Generate an Nx3 matrix\n",
    "\n",
    "xyz = preds[2][0]  # Replace this with your actual Nx3 data\n",
    "N = len(xyz)\n",
    "\n",
    "# Extract columns\n",
    "x, y, z = xyz[:, 0], xyz[:, 1], xyz[:, 2]\n",
    "\n",
    "# Create the 3D scatter plot\n",
    "fig = go.Figure(data=[go.Scatter3d(\n",
    "    x=x, y=y, z=z,\n",
    "    mode='markers',\n",
    "    marker=dict(\n",
    "        size=5,\n",
    "        color=z,  # Coloring based on z-value\n",
    "        colorscale='Viridis',  # Choose a colorscale\n",
    "        opacity=0.8\n",
    "    )\n",
    ")])\n",
    "\n",
    "# Customize layout\n",
    "fig.update_layout(\n",
    "    scene=dict(\n",
    "        xaxis_title=\"X\",\n",
    "        yaxis_title=\"Y\",\n",
    "        zaxis_title=\"Z\"\n",
    "    ),\n",
    "    title=\"3D Scatter Plot\"\n",
    ")\n",
    "\n",
    "# Show figure\n",
    "fig.show(renderer='iframe')\n"
   ]
  },
  {
   "cell_type": "code",
   "execution_count": 11,
   "id": "d5e41bfe",
   "metadata": {
    "execution": {
     "iopub.execute_input": "2025-04-04T14:52:13.949267Z",
     "iopub.status.busy": "2025-04-04T14:52:13.948948Z",
     "iopub.status.idle": "2025-04-04T14:52:14.086161Z",
     "shell.execute_reply": "2025-04-04T14:52:14.085080Z"
    },
    "papermill": {
     "duration": 0.143781,
     "end_time": "2025-04-04T14:52:14.088056",
     "exception": false,
     "start_time": "2025-04-04T14:52:13.944275",
     "status": "completed"
    },
    "tags": []
   },
   "outputs": [],
   "source": [
    "ID=[]\n",
    "resname=[]\n",
    "resid=[]\n",
    "x=[]\n",
    "y=[]\n",
    "z=[]\n",
    "\n",
    "data=[]\n",
    "\n",
    "for i in range(len(test_data)):\n",
    "    #print(test_data.loc[i])\n",
    "\n",
    "    \n",
    "    for j in range(len(test_data.loc[i,'sequence'])):\n",
    "        # ID.append(test_data.loc[i,'sequence_id']+f\"_{j+1}\")\n",
    "        # resname.append(test_data.loc[i,'sequence'][j])\n",
    "        # resid.append(j+1) # 1 indexed\n",
    "        row=[test_data.loc[i,'target_id']+f\"_{j+1}\",\n",
    "             test_data.loc[i,'sequence'][j],\n",
    "             j+1]\n",
    "\n",
    "        for k in range(5):\n",
    "            for kk in range(3):\n",
    "                row.append(preds[i][k][j][kk])\n",
    "        data.append(row)\n",
    "\n",
    "columns=['ID','resname','resid']\n",
    "for i in range(1,6):\n",
    "    columns+=[f\"x_{i}\"]\n",
    "    columns+=[f\"y_{i}\"]\n",
    "    columns+=[f\"z_{i}\"]\n",
    "\n",
    "\n",
    "submission=pd.DataFrame(data,columns=columns)\n",
    "\n",
    "\n",
    "submission\n",
    "submission.to_csv('submission.csv',index=False)"
   ]
  },
  {
   "cell_type": "code",
   "execution_count": 12,
   "id": "103281d6",
   "metadata": {
    "execution": {
     "iopub.execute_input": "2025-04-04T14:52:14.096893Z",
     "iopub.status.busy": "2025-04-04T14:52:14.096583Z",
     "iopub.status.idle": "2025-04-04T14:52:14.131506Z",
     "shell.execute_reply": "2025-04-04T14:52:14.130544Z"
    },
    "papermill": {
     "duration": 0.040785,
     "end_time": "2025-04-04T14:52:14.132966",
     "exception": false,
     "start_time": "2025-04-04T14:52:14.092181",
     "status": "completed"
    },
    "tags": []
   },
   "outputs": [
    {
     "data": {
      "text/html": [
       "<div>\n",
       "<style scoped>\n",
       "    .dataframe tbody tr th:only-of-type {\n",
       "        vertical-align: middle;\n",
       "    }\n",
       "\n",
       "    .dataframe tbody tr th {\n",
       "        vertical-align: top;\n",
       "    }\n",
       "\n",
       "    .dataframe thead th {\n",
       "        text-align: right;\n",
       "    }\n",
       "</style>\n",
       "<table border=\"1\" class=\"dataframe\">\n",
       "  <thead>\n",
       "    <tr style=\"text-align: right;\">\n",
       "      <th></th>\n",
       "      <th>ID</th>\n",
       "      <th>resname</th>\n",
       "      <th>resid</th>\n",
       "      <th>x_1</th>\n",
       "      <th>y_1</th>\n",
       "      <th>z_1</th>\n",
       "      <th>x_2</th>\n",
       "      <th>y_2</th>\n",
       "      <th>z_2</th>\n",
       "      <th>x_3</th>\n",
       "      <th>y_3</th>\n",
       "      <th>z_3</th>\n",
       "      <th>x_4</th>\n",
       "      <th>y_4</th>\n",
       "      <th>z_4</th>\n",
       "      <th>x_5</th>\n",
       "      <th>y_5</th>\n",
       "      <th>z_5</th>\n",
       "    </tr>\n",
       "  </thead>\n",
       "  <tbody>\n",
       "    <tr>\n",
       "      <th>0</th>\n",
       "      <td>R1107_1</td>\n",
       "      <td>G</td>\n",
       "      <td>1</td>\n",
       "      <td>53.635681</td>\n",
       "      <td>66.559456</td>\n",
       "      <td>-34.423420</td>\n",
       "      <td>60.315742</td>\n",
       "      <td>57.900398</td>\n",
       "      <td>-43.905415</td>\n",
       "      <td>58.696072</td>\n",
       "      <td>59.156673</td>\n",
       "      <td>-40.072990</td>\n",
       "      <td>51.108139</td>\n",
       "      <td>66.942062</td>\n",
       "      <td>-38.840584</td>\n",
       "      <td>54.489334</td>\n",
       "      <td>70.626205</td>\n",
       "      <td>-38.725803</td>\n",
       "    </tr>\n",
       "    <tr>\n",
       "      <th>1</th>\n",
       "      <td>R1107_2</td>\n",
       "      <td>G</td>\n",
       "      <td>2</td>\n",
       "      <td>58.287857</td>\n",
       "      <td>65.983574</td>\n",
       "      <td>-34.299332</td>\n",
       "      <td>62.720192</td>\n",
       "      <td>52.816162</td>\n",
       "      <td>-42.148582</td>\n",
       "      <td>64.150169</td>\n",
       "      <td>56.134544</td>\n",
       "      <td>-41.512463</td>\n",
       "      <td>50.994209</td>\n",
       "      <td>63.339298</td>\n",
       "      <td>-41.907356</td>\n",
       "      <td>60.309254</td>\n",
       "      <td>65.389793</td>\n",
       "      <td>-38.050655</td>\n",
       "    </tr>\n",
       "    <tr>\n",
       "      <th>2</th>\n",
       "      <td>R1107_3</td>\n",
       "      <td>G</td>\n",
       "      <td>3</td>\n",
       "      <td>67.154060</td>\n",
       "      <td>65.099113</td>\n",
       "      <td>-39.039246</td>\n",
       "      <td>71.705643</td>\n",
       "      <td>52.917595</td>\n",
       "      <td>-44.311378</td>\n",
       "      <td>69.447968</td>\n",
       "      <td>56.764637</td>\n",
       "      <td>-43.238857</td>\n",
       "      <td>52.671638</td>\n",
       "      <td>61.361855</td>\n",
       "      <td>-41.751301</td>\n",
       "      <td>64.993057</td>\n",
       "      <td>61.934792</td>\n",
       "      <td>-42.161385</td>\n",
       "    </tr>\n",
       "    <tr>\n",
       "      <th>3</th>\n",
       "      <td>R1107_4</td>\n",
       "      <td>G</td>\n",
       "      <td>4</td>\n",
       "      <td>67.961090</td>\n",
       "      <td>67.289848</td>\n",
       "      <td>-40.953884</td>\n",
       "      <td>76.633507</td>\n",
       "      <td>55.426220</td>\n",
       "      <td>-47.218822</td>\n",
       "      <td>71.402245</td>\n",
       "      <td>60.206440</td>\n",
       "      <td>-43.195770</td>\n",
       "      <td>60.014065</td>\n",
       "      <td>62.185390</td>\n",
       "      <td>-42.888321</td>\n",
       "      <td>66.224281</td>\n",
       "      <td>65.724808</td>\n",
       "      <td>-46.224049</td>\n",
       "    </tr>\n",
       "    <tr>\n",
       "      <th>4</th>\n",
       "      <td>R1107_5</td>\n",
       "      <td>G</td>\n",
       "      <td>5</td>\n",
       "      <td>72.410324</td>\n",
       "      <td>70.802437</td>\n",
       "      <td>-45.156467</td>\n",
       "      <td>81.649597</td>\n",
       "      <td>64.363968</td>\n",
       "      <td>-49.616634</td>\n",
       "      <td>76.380188</td>\n",
       "      <td>68.123901</td>\n",
       "      <td>-51.666573</td>\n",
       "      <td>69.972137</td>\n",
       "      <td>66.061195</td>\n",
       "      <td>-47.296932</td>\n",
       "      <td>75.696434</td>\n",
       "      <td>70.249863</td>\n",
       "      <td>-52.228168</td>\n",
       "    </tr>\n",
       "    <tr>\n",
       "      <th>...</th>\n",
       "      <td>...</td>\n",
       "      <td>...</td>\n",
       "      <td>...</td>\n",
       "      <td>...</td>\n",
       "      <td>...</td>\n",
       "      <td>...</td>\n",
       "      <td>...</td>\n",
       "      <td>...</td>\n",
       "      <td>...</td>\n",
       "      <td>...</td>\n",
       "      <td>...</td>\n",
       "      <td>...</td>\n",
       "      <td>...</td>\n",
       "      <td>...</td>\n",
       "      <td>...</td>\n",
       "      <td>...</td>\n",
       "      <td>...</td>\n",
       "      <td>...</td>\n",
       "    </tr>\n",
       "    <tr>\n",
       "      <th>2510</th>\n",
       "      <td>R1190_114</td>\n",
       "      <td>U</td>\n",
       "      <td>114</td>\n",
       "      <td>64.374596</td>\n",
       "      <td>69.868614</td>\n",
       "      <td>-69.597183</td>\n",
       "      <td>73.568245</td>\n",
       "      <td>68.301170</td>\n",
       "      <td>-64.523270</td>\n",
       "      <td>75.348236</td>\n",
       "      <td>66.783424</td>\n",
       "      <td>-77.719467</td>\n",
       "      <td>65.816902</td>\n",
       "      <td>57.605919</td>\n",
       "      <td>-69.379074</td>\n",
       "      <td>77.874931</td>\n",
       "      <td>68.187141</td>\n",
       "      <td>-76.415245</td>\n",
       "    </tr>\n",
       "    <tr>\n",
       "      <th>2511</th>\n",
       "      <td>R1190_115</td>\n",
       "      <td>U</td>\n",
       "      <td>115</td>\n",
       "      <td>64.549583</td>\n",
       "      <td>69.228973</td>\n",
       "      <td>-60.463833</td>\n",
       "      <td>76.659203</td>\n",
       "      <td>67.750916</td>\n",
       "      <td>-66.109856</td>\n",
       "      <td>76.949394</td>\n",
       "      <td>66.176109</td>\n",
       "      <td>-73.489342</td>\n",
       "      <td>72.351685</td>\n",
       "      <td>64.128082</td>\n",
       "      <td>-63.564926</td>\n",
       "      <td>79.920288</td>\n",
       "      <td>68.238556</td>\n",
       "      <td>-72.603264</td>\n",
       "    </tr>\n",
       "    <tr>\n",
       "      <th>2512</th>\n",
       "      <td>R1190_116</td>\n",
       "      <td>U</td>\n",
       "      <td>116</td>\n",
       "      <td>67.683144</td>\n",
       "      <td>64.909668</td>\n",
       "      <td>-61.671478</td>\n",
       "      <td>80.672112</td>\n",
       "      <td>70.127380</td>\n",
       "      <td>-66.373795</td>\n",
       "      <td>79.745140</td>\n",
       "      <td>64.077118</td>\n",
       "      <td>-73.035843</td>\n",
       "      <td>73.161530</td>\n",
       "      <td>58.984955</td>\n",
       "      <td>-64.417458</td>\n",
       "      <td>83.858116</td>\n",
       "      <td>67.360306</td>\n",
       "      <td>-71.030251</td>\n",
       "    </tr>\n",
       "    <tr>\n",
       "      <th>2513</th>\n",
       "      <td>R1190_117</td>\n",
       "      <td>U</td>\n",
       "      <td>117</td>\n",
       "      <td>70.679314</td>\n",
       "      <td>62.761627</td>\n",
       "      <td>-58.306507</td>\n",
       "      <td>87.106422</td>\n",
       "      <td>66.824257</td>\n",
       "      <td>-64.542381</td>\n",
       "      <td>80.278770</td>\n",
       "      <td>59.363712</td>\n",
       "      <td>-70.952736</td>\n",
       "      <td>79.552368</td>\n",
       "      <td>62.909046</td>\n",
       "      <td>-64.199837</td>\n",
       "      <td>87.099052</td>\n",
       "      <td>67.558113</td>\n",
       "      <td>-68.660759</td>\n",
       "    </tr>\n",
       "    <tr>\n",
       "      <th>2514</th>\n",
       "      <td>R1190_118</td>\n",
       "      <td>U</td>\n",
       "      <td>118</td>\n",
       "      <td>73.835411</td>\n",
       "      <td>60.465393</td>\n",
       "      <td>-58.019367</td>\n",
       "      <td>91.610092</td>\n",
       "      <td>65.431839</td>\n",
       "      <td>-61.808228</td>\n",
       "      <td>83.222099</td>\n",
       "      <td>58.100742</td>\n",
       "      <td>-68.997917</td>\n",
       "      <td>80.486557</td>\n",
       "      <td>58.222240</td>\n",
       "      <td>-61.152763</td>\n",
       "      <td>88.728508</td>\n",
       "      <td>65.395905</td>\n",
       "      <td>-69.575180</td>\n",
       "    </tr>\n",
       "  </tbody>\n",
       "</table>\n",
       "<p>2515 rows × 18 columns</p>\n",
       "</div>"
      ],
      "text/plain": [
       "             ID resname  resid        x_1        y_1        z_1        x_2  \\\n",
       "0       R1107_1       G      1  53.635681  66.559456 -34.423420  60.315742   \n",
       "1       R1107_2       G      2  58.287857  65.983574 -34.299332  62.720192   \n",
       "2       R1107_3       G      3  67.154060  65.099113 -39.039246  71.705643   \n",
       "3       R1107_4       G      4  67.961090  67.289848 -40.953884  76.633507   \n",
       "4       R1107_5       G      5  72.410324  70.802437 -45.156467  81.649597   \n",
       "...         ...     ...    ...        ...        ...        ...        ...   \n",
       "2510  R1190_114       U    114  64.374596  69.868614 -69.597183  73.568245   \n",
       "2511  R1190_115       U    115  64.549583  69.228973 -60.463833  76.659203   \n",
       "2512  R1190_116       U    116  67.683144  64.909668 -61.671478  80.672112   \n",
       "2513  R1190_117       U    117  70.679314  62.761627 -58.306507  87.106422   \n",
       "2514  R1190_118       U    118  73.835411  60.465393 -58.019367  91.610092   \n",
       "\n",
       "            y_2        z_2        x_3        y_3        z_3        x_4  \\\n",
       "0     57.900398 -43.905415  58.696072  59.156673 -40.072990  51.108139   \n",
       "1     52.816162 -42.148582  64.150169  56.134544 -41.512463  50.994209   \n",
       "2     52.917595 -44.311378  69.447968  56.764637 -43.238857  52.671638   \n",
       "3     55.426220 -47.218822  71.402245  60.206440 -43.195770  60.014065   \n",
       "4     64.363968 -49.616634  76.380188  68.123901 -51.666573  69.972137   \n",
       "...         ...        ...        ...        ...        ...        ...   \n",
       "2510  68.301170 -64.523270  75.348236  66.783424 -77.719467  65.816902   \n",
       "2511  67.750916 -66.109856  76.949394  66.176109 -73.489342  72.351685   \n",
       "2512  70.127380 -66.373795  79.745140  64.077118 -73.035843  73.161530   \n",
       "2513  66.824257 -64.542381  80.278770  59.363712 -70.952736  79.552368   \n",
       "2514  65.431839 -61.808228  83.222099  58.100742 -68.997917  80.486557   \n",
       "\n",
       "            y_4        z_4        x_5        y_5        z_5  \n",
       "0     66.942062 -38.840584  54.489334  70.626205 -38.725803  \n",
       "1     63.339298 -41.907356  60.309254  65.389793 -38.050655  \n",
       "2     61.361855 -41.751301  64.993057  61.934792 -42.161385  \n",
       "3     62.185390 -42.888321  66.224281  65.724808 -46.224049  \n",
       "4     66.061195 -47.296932  75.696434  70.249863 -52.228168  \n",
       "...         ...        ...        ...        ...        ...  \n",
       "2510  57.605919 -69.379074  77.874931  68.187141 -76.415245  \n",
       "2511  64.128082 -63.564926  79.920288  68.238556 -72.603264  \n",
       "2512  58.984955 -64.417458  83.858116  67.360306 -71.030251  \n",
       "2513  62.909046 -64.199837  87.099052  67.558113 -68.660759  \n",
       "2514  58.222240 -61.152763  88.728508  65.395905 -69.575180  \n",
       "\n",
       "[2515 rows x 18 columns]"
      ]
     },
     "execution_count": 12,
     "metadata": {},
     "output_type": "execute_result"
    }
   ],
   "source": [
    "submission"
   ]
  }
 ],
 "metadata": {
  "kaggle": {
   "accelerator": "gpu",
   "dataSources": [
    {
     "databundleVersionId": 11553390,
     "sourceId": 87793,
     "sourceType": "competition"
    },
    {
     "datasetId": 4299455,
     "sourceId": 7395079,
     "sourceType": "datasetVersion"
    },
    {
     "datasetId": 4299272,
     "sourceId": 7639698,
     "sourceType": "datasetVersion"
    },
    {
     "sourceId": 224703571,
     "sourceType": "kernelVersion"
    },
    {
     "sourceId": 228399841,
     "sourceType": "kernelVersion"
    }
   ],
   "isGpuEnabled": true,
   "isInternetEnabled": false,
   "language": "python",
   "sourceType": "notebook"
  },
  "kernelspec": {
   "display_name": "Python 3",
   "language": "python",
   "name": "python3"
  },
  "language_info": {
   "codemirror_mode": {
    "name": "ipython",
    "version": 3
   },
   "file_extension": ".py",
   "mimetype": "text/x-python",
   "name": "python",
   "nbconvert_exporter": "python",
   "pygments_lexer": "ipython3",
   "version": "3.10.12"
  },
  "papermill": {
   "default_parameters": {},
   "duration": 30.562052,
   "end_time": "2025-04-04T14:52:15.960045",
   "environment_variables": {},
   "exception": null,
   "input_path": "__notebook__.ipynb",
   "output_path": "__notebook__.ipynb",
   "parameters": {},
   "start_time": "2025-04-04T14:51:45.397993",
   "version": "2.6.0"
  }
 },
 "nbformat": 4,
 "nbformat_minor": 5
}
