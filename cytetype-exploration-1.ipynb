{
 "cells": [
  {
   "cell_type": "markdown",
   "id": "03af6098",
   "metadata": {
    "id": "8b3a36c3",
    "papermill": {
     "duration": 0.007628,
     "end_time": "2025-07-17T13:49:44.894543",
     "exception": false,
     "start_time": "2025-07-17T13:49:44.886915",
     "status": "completed"
    },
    "tags": []
   },
   "source": [
    "# Evaluation of CyteType\n",
    "\n",
    "CyteType is a tool for automatic curation of cell types in single cell, using an LLM Annotator Agent.\n",
    "\n",
    "In this notebook, we try the tool on a few datasets and compare it with other annotation tools."
   ]
  },
  {
   "cell_type": "markdown",
   "id": "f632db18",
   "metadata": {
    "id": "7aeb740b",
    "papermill": {
     "duration": 0.005978,
     "end_time": "2025-07-17T13:49:44.907332",
     "exception": false,
     "start_time": "2025-07-17T13:49:44.901354",
     "status": "completed"
    },
    "tags": []
   },
   "source": [
    "### Install Libraries"
   ]
  },
  {
   "cell_type": "code",
   "execution_count": 1,
   "id": "a857ef34",
   "metadata": {
    "execution": {
     "iopub.execute_input": "2025-07-17T13:49:44.921212Z",
     "iopub.status.busy": "2025-07-17T13:49:44.920873Z",
     "iopub.status.idle": "2025-07-17T13:50:17.245660Z",
     "shell.execute_reply": "2025-07-17T13:50:17.244370Z"
    },
    "id": "3743c932",
    "outputId": "f965e9aa-cf17-4aaa-990e-5a5cfce1681b",
    "papermill": {
     "duration": 32.33425,
     "end_time": "2025-07-17T13:50:17.247833",
     "exception": false,
     "start_time": "2025-07-17T13:49:44.913583",
     "status": "completed"
    },
    "tags": []
   },
   "outputs": [
    {
     "name": "stdout",
     "output_type": "stream",
     "text": [
      "\u001b[2K   \u001b[90m━━━━━━━━━━━━━━━━━━━━━━━━━━━━━━━━━━━━━━━━\u001b[0m \u001b[32m2.1/2.1 MB\u001b[0m \u001b[31m41.3 MB/s\u001b[0m eta \u001b[36m0:00:00\u001b[0m\r\n",
      "\u001b[2K   \u001b[90m━━━━━━━━━━━━━━━━━━━━━━━━━━━━━━━━━━━━━━━━\u001b[0m \u001b[32m2.0/2.0 MB\u001b[0m \u001b[31m46.8 MB/s\u001b[0m eta \u001b[36m0:00:00\u001b[0m\r\n",
      "\u001b[2K   \u001b[90m━━━━━━━━━━━━━━━━━━━━━━━━━━━━━━━━━━━━━━━━\u001b[0m \u001b[32m144.5/144.5 kB\u001b[0m \u001b[31m6.0 MB/s\u001b[0m eta \u001b[36m0:00:00\u001b[0m\r\n",
      "\u001b[2K   \u001b[90m━━━━━━━━━━━━━━━━━━━━━━━━━━━━━━━━━━━━━━━━\u001b[0m \u001b[32m61.6/61.6 kB\u001b[0m \u001b[31m3.1 MB/s\u001b[0m eta \u001b[36m0:00:00\u001b[0m\r\n",
      "\u001b[2K   \u001b[90m━━━━━━━━━━━━━━━━━━━━━━━━━━━━━━━━━━━━━━━━\u001b[0m \u001b[32m8.6/8.6 MB\u001b[0m \u001b[31m80.5 MB/s\u001b[0m eta \u001b[36m0:00:00\u001b[0m\r\n",
      "\u001b[2K   \u001b[90m━━━━━━━━━━━━━━━━━━━━━━━━━━━━━━━━━━━━━━━━\u001b[0m \u001b[32m294.9/294.9 kB\u001b[0m \u001b[31m13.7 MB/s\u001b[0m eta \u001b[36m0:00:00\u001b[0m\r\n",
      "\u001b[2K   \u001b[90m━━━━━━━━━━━━━━━━━━━━━━━━━━━━━━━━━━━━━━━━\u001b[0m \u001b[32m58.2/58.2 kB\u001b[0m \u001b[31m2.7 MB/s\u001b[0m eta \u001b[36m0:00:00\u001b[0m\r\n",
      "\u001b[2K   \u001b[90m━━━━━━━━━━━━━━━━━━━━━━━━━━━━━━━━━━━━━━━━\u001b[0m \u001b[32m83.6/83.6 kB\u001b[0m \u001b[31m4.5 MB/s\u001b[0m eta \u001b[36m0:00:00\u001b[0m\r\n",
      "\u001b[?25h\u001b[31mERROR: pip's dependency resolver does not currently take into account all the packages that are installed. This behaviour is the source of the following dependency conflicts.\r\n",
      "bigframes 2.8.0 requires google-cloud-bigquery-storage<3.0.0,>=2.30.0, which is not installed.\r\n",
      "ydata-profiling 4.16.1 requires matplotlib<=3.10,>=3.5, but you have matplotlib 3.10.3 which is incompatible.\r\n",
      "bigframes 2.8.0 requires google-cloud-bigquery[bqstorage,pandas]>=3.31.0, but you have google-cloud-bigquery 3.25.0 which is incompatible.\r\n",
      "bigframes 2.8.0 requires rich<14,>=12.4.4, but you have rich 14.0.0 which is incompatible.\r\n",
      "mlxtend 0.23.4 requires scikit-learn>=1.3.1, but you have scikit-learn 1.2.2 which is incompatible.\u001b[0m\u001b[31m\r\n",
      "\u001b[0m"
     ]
    }
   ],
   "source": [
    "!python -m pip install -q cytetype scanpy igraph leidenalg"
   ]
  },
  {
   "cell_type": "code",
   "execution_count": 2,
   "id": "729637ba",
   "metadata": {
    "execution": {
     "iopub.execute_input": "2025-07-17T13:50:17.267936Z",
     "iopub.status.busy": "2025-07-17T13:50:17.267085Z",
     "iopub.status.idle": "2025-07-17T13:50:32.361308Z",
     "shell.execute_reply": "2025-07-17T13:50:32.360122Z"
    },
    "id": "f52ea36a",
    "papermill": {
     "duration": 15.10762,
     "end_time": "2025-07-17T13:50:32.363079",
     "exception": false,
     "start_time": "2025-07-17T13:50:17.255459",
     "status": "completed"
    },
    "tags": []
   },
   "outputs": [],
   "source": [
    "import anndata\n",
    "import scanpy as sc\n",
    "import cytetype\n",
    "import pandas as pd\n",
    "import seaborn as sns\n",
    "import matplotlib.pyplot as plt"
   ]
  },
  {
   "cell_type": "markdown",
   "id": "db26ae18",
   "metadata": {
    "id": "c1e74b79",
    "papermill": {
     "duration": 0.00709,
     "end_time": "2025-07-17T13:50:32.378380",
     "exception": false,
     "start_time": "2025-07-17T13:50:32.371290",
     "status": "completed"
    },
    "tags": []
   },
   "source": [
    "## Initialize Paul15 dataset\n",
    "\n",
    "The Paul et al 2015 dataset is a small single-cell dataset of myeloid cells, available from scanpy. The Cell types have been manually annotated, meaning we can compare cytetype's predictions against the true values."
   ]
  },
  {
   "cell_type": "code",
   "execution_count": 3,
   "id": "ca429633",
   "metadata": {
    "execution": {
     "iopub.execute_input": "2025-07-17T13:50:32.394907Z",
     "iopub.status.busy": "2025-07-17T13:50:32.394182Z",
     "iopub.status.idle": "2025-07-17T13:50:32.399858Z",
     "shell.execute_reply": "2025-07-17T13:50:32.398655Z"
    },
    "id": "93535096",
    "papermill": {
     "duration": 0.015274,
     "end_time": "2025-07-17T13:50:32.401520",
     "exception": false,
     "start_time": "2025-07-17T13:50:32.386246",
     "status": "completed"
    },
    "tags": []
   },
   "outputs": [],
   "source": [
    "#adata = sc.datasets.paul15()\n"
   ]
  },
  {
   "cell_type": "code",
   "execution_count": 4,
   "id": "d7ed9ae7",
   "metadata": {
    "execution": {
     "iopub.execute_input": "2025-07-17T13:50:32.418071Z",
     "iopub.status.busy": "2025-07-17T13:50:32.417716Z",
     "iopub.status.idle": "2025-07-17T13:50:33.891324Z",
     "shell.execute_reply": "2025-07-17T13:50:33.890229Z"
    },
    "id": "b3db6bcc",
    "papermill": {
     "duration": 1.4843,
     "end_time": "2025-07-17T13:50:33.893309",
     "exception": false,
     "start_time": "2025-07-17T13:50:32.409009",
     "status": "completed"
    },
    "tags": []
   },
   "outputs": [
    {
     "data": {
      "application/vnd.jupyter.widget-view+json": {
       "model_id": "7ea55190881844cd9a18967d77c236ba",
       "version_major": 2,
       "version_minor": 0
      },
      "text/plain": [
       "  0%|          | 0.00/9.82M [00:00<?, ?B/s]"
      ]
     },
     "metadata": {},
     "output_type": "display_data"
    },
    {
     "name": "stderr",
     "output_type": "stream",
     "text": [
      "... storing 'paul15_clusters' as categorical\n"
     ]
    }
   ],
   "source": [
    "import os\n",
    "import scanpy as sc\n",
    "\n",
    "if not os.path.exists(\"paul15_small.h5ad\"):\n",
    "    adata = sc.datasets.paul15()\n",
    "    adata.write(\"paul15_small.h5ad\")\n",
    "else:\n",
    "    adata = sc.read(\"paul15_small.h5ad\")\n"
   ]
  },
  {
   "cell_type": "markdown",
   "id": "ca92bfe8",
   "metadata": {
    "id": "c9d2828e",
    "papermill": {
     "duration": 0.007029,
     "end_time": "2025-07-17T13:50:33.908398",
     "exception": false,
     "start_time": "2025-07-17T13:50:33.901369",
     "status": "completed"
    },
    "tags": []
   },
   "source": [
    "### Process the data - compute clusters, etc"
   ]
  },
  {
   "cell_type": "code",
   "execution_count": 5,
   "id": "ef43f3c0",
   "metadata": {
    "execution": {
     "iopub.execute_input": "2025-07-17T13:50:33.925049Z",
     "iopub.status.busy": "2025-07-17T13:50:33.924700Z",
     "iopub.status.idle": "2025-07-17T13:50:33.935555Z",
     "shell.execute_reply": "2025-07-17T13:50:33.934538Z"
    },
    "id": "0c5233da",
    "papermill": {
     "duration": 0.021715,
     "end_time": "2025-07-17T13:50:33.937125",
     "exception": false,
     "start_time": "2025-07-17T13:50:33.915410",
     "status": "completed"
    },
    "tags": []
   },
   "outputs": [
    {
     "data": {
      "text/plain": [
       "W31105      7MEP\n",
       "W31106      15Mo\n",
       "W31107      3Ery\n",
       "W31108      15Mo\n",
       "W31109      3Ery\n",
       "           ...  \n",
       "W39164      2Ery\n",
       "W39165    13Baso\n",
       "W39166      7MEP\n",
       "W39167      15Mo\n",
       "W39168      3Ery\n",
       "Name: paul15_clusters, Length: 2730, dtype: category\n",
       "Categories (19, object): ['1Ery', '2Ery', '3Ery', '4Ery', ..., '16Neu', '17Neu', '18Eos', '19Lymph']"
      ]
     },
     "execution_count": 5,
     "metadata": {},
     "output_type": "execute_result"
    }
   ],
   "source": [
    "adata.obs[\"paul15_clusters\"]"
   ]
  },
  {
   "cell_type": "code",
   "execution_count": 6,
   "id": "09890958",
   "metadata": {
    "execution": {
     "iopub.execute_input": "2025-07-17T13:50:33.953060Z",
     "iopub.status.busy": "2025-07-17T13:50:33.952748Z",
     "iopub.status.idle": "2025-07-17T13:51:23.381093Z",
     "shell.execute_reply": "2025-07-17T13:51:23.380081Z"
    },
    "id": "77748c7c",
    "papermill": {
     "duration": 49.438212,
     "end_time": "2025-07-17T13:51:23.382783",
     "exception": false,
     "start_time": "2025-07-17T13:50:33.944571",
     "status": "completed"
    },
    "tags": []
   },
   "outputs": [
    {
     "name": "stderr",
     "output_type": "stream",
     "text": [
      "2025-07-17 13:50:54.250361: E external/local_xla/xla/stream_executor/cuda/cuda_fft.cc:477] Unable to register cuFFT factory: Attempting to register factory for plugin cuFFT when one has already been registered\n",
      "WARNING: All log messages before absl::InitializeLog() is called are written to STDERR\n",
      "E0000 00:00:1752760254.576169      13 cuda_dnn.cc:8310] Unable to register cuDNN factory: Attempting to register factory for plugin cuDNN when one has already been registered\n",
      "E0000 00:00:1752760254.662181      13 cuda_blas.cc:1418] Unable to register cuBLAS factory: Attempting to register factory for plugin cuBLAS when one has already been registered\n",
      "/tmp/ipykernel_13/798197818.py:11: FutureWarning: In the future, the default backend for leiden will be igraph instead of leidenalg.\n",
      "\n",
      " To achieve the future defaults please pass: flavor=\"igraph\" and n_iterations=2.  directed must also be False to work with igraph's implementation.\n",
      "  sc.tl.leiden(adata)\n"
     ]
    },
    {
     "name": "stdout",
     "output_type": "stream",
     "text": [
      "Using coordinates from 'X_pca' for visualization.\n",
      "Calculating expression percentages.\n",
      "Extracting marker genes.\n",
      "Preparing visualization data with sampling.\n",
      "Using first 2 dimensions of 'X_pca' for visualization.\n",
      "Extracted 2730 coordinate points (sampled from 2730 total cells)\n",
      "Data preparation completed. Ready for submitting jobs.\n"
     ]
    }
   ],
   "source": [
    "\n",
    "# Load and preprocess your data\n",
    "adata.var[\"gene_symbols\"] = adata.var_names\n",
    "\n",
    "# We compute the clusters as suggested by the tutorial\n",
    "# However, this produces 10 clusters. We are going to use the 19\n",
    "# clusters from the original paper, which are stored in the `paul15_clusters` column.\n",
    "sc.pp.normalize_total(adata, target_sum=1e4)\n",
    "sc.pp.log1p(adata)\n",
    "sc.pp.pca(adata)\n",
    "sc.pp.neighbors(adata)\n",
    "sc.tl.leiden(adata)\n",
    "sc.tl.rank_genes_groups(adata, groupby='paul15_clusters', method='t-test')\n",
    "\n",
    "# Initialize CyteType (performs data preparation)\n",
    "annotator = cytetype.CyteType(\n",
    "    adata,\n",
    "    group_key='paul15_clusters',           # Required: cluster column name\n",
    "    rank_key='rank_genes_groups',          # DE results key (default)\n",
    "    gene_symbols_column='gene_symbols',    # Gene symbols column (default)\n",
    "    n_top_genes=50,                        # Top marker genes per cluster\n",
    "    #results_prefix='cytetype'              # Prefix for result columns\n",
    ")"
   ]
  },
  {
   "cell_type": "code",
   "execution_count": 7,
   "id": "21cd89f0",
   "metadata": {
    "execution": {
     "iopub.execute_input": "2025-07-17T13:51:23.400462Z",
     "iopub.status.busy": "2025-07-17T13:51:23.399050Z",
     "iopub.status.idle": "2025-07-17T13:51:23.422367Z",
     "shell.execute_reply": "2025-07-17T13:51:23.421435Z"
    },
    "id": "3e638c78",
    "papermill": {
     "duration": 0.033605,
     "end_time": "2025-07-17T13:51:23.424135",
     "exception": false,
     "start_time": "2025-07-17T13:51:23.390530",
     "status": "completed"
    },
    "tags": []
   },
   "outputs": [
    {
     "data": {
      "text/html": [
       "<div>\n",
       "<style scoped>\n",
       "    .dataframe tbody tr th:only-of-type {\n",
       "        vertical-align: middle;\n",
       "    }\n",
       "\n",
       "    .dataframe tbody tr th {\n",
       "        vertical-align: top;\n",
       "    }\n",
       "\n",
       "    .dataframe thead th {\n",
       "        text-align: right;\n",
       "    }\n",
       "</style>\n",
       "<table border=\"1\" class=\"dataframe\">\n",
       "  <thead>\n",
       "    <tr style=\"text-align: right;\">\n",
       "      <th></th>\n",
       "      <th>paul15_clusters</th>\n",
       "      <th>leiden</th>\n",
       "    </tr>\n",
       "  </thead>\n",
       "  <tbody>\n",
       "    <tr>\n",
       "      <th>W31105</th>\n",
       "      <td>7MEP</td>\n",
       "      <td>6</td>\n",
       "    </tr>\n",
       "    <tr>\n",
       "      <th>W31106</th>\n",
       "      <td>15Mo</td>\n",
       "      <td>7</td>\n",
       "    </tr>\n",
       "    <tr>\n",
       "      <th>W31107</th>\n",
       "      <td>3Ery</td>\n",
       "      <td>1</td>\n",
       "    </tr>\n",
       "    <tr>\n",
       "      <th>W31108</th>\n",
       "      <td>15Mo</td>\n",
       "      <td>3</td>\n",
       "    </tr>\n",
       "    <tr>\n",
       "      <th>W31109</th>\n",
       "      <td>3Ery</td>\n",
       "      <td>1</td>\n",
       "    </tr>\n",
       "    <tr>\n",
       "      <th>...</th>\n",
       "      <td>...</td>\n",
       "      <td>...</td>\n",
       "    </tr>\n",
       "    <tr>\n",
       "      <th>W39164</th>\n",
       "      <td>2Ery</td>\n",
       "      <td>0</td>\n",
       "    </tr>\n",
       "    <tr>\n",
       "      <th>W39165</th>\n",
       "      <td>13Baso</td>\n",
       "      <td>4</td>\n",
       "    </tr>\n",
       "    <tr>\n",
       "      <th>W39166</th>\n",
       "      <td>7MEP</td>\n",
       "      <td>6</td>\n",
       "    </tr>\n",
       "    <tr>\n",
       "      <th>W39167</th>\n",
       "      <td>15Mo</td>\n",
       "      <td>3</td>\n",
       "    </tr>\n",
       "    <tr>\n",
       "      <th>W39168</th>\n",
       "      <td>3Ery</td>\n",
       "      <td>1</td>\n",
       "    </tr>\n",
       "  </tbody>\n",
       "</table>\n",
       "<p>2730 rows × 2 columns</p>\n",
       "</div>"
      ],
      "text/plain": [
       "       paul15_clusters leiden\n",
       "W31105            7MEP      6\n",
       "W31106            15Mo      7\n",
       "W31107            3Ery      1\n",
       "W31108            15Mo      3\n",
       "W31109            3Ery      1\n",
       "...                ...    ...\n",
       "W39164            2Ery      0\n",
       "W39165          13Baso      4\n",
       "W39166            7MEP      6\n",
       "W39167            15Mo      3\n",
       "W39168            3Ery      1\n",
       "\n",
       "[2730 rows x 2 columns]"
      ]
     },
     "execution_count": 7,
     "metadata": {},
     "output_type": "execute_result"
    }
   ],
   "source": [
    "adata.obs"
   ]
  },
  {
   "cell_type": "code",
   "execution_count": 8,
   "id": "c226a951",
   "metadata": {
    "execution": {
     "iopub.execute_input": "2025-07-17T13:51:23.444431Z",
     "iopub.status.busy": "2025-07-17T13:51:23.443955Z",
     "iopub.status.idle": "2025-07-17T13:51:23.455457Z",
     "shell.execute_reply": "2025-07-17T13:51:23.454394Z"
    },
    "id": "3b3092a0",
    "papermill": {
     "duration": 0.024539,
     "end_time": "2025-07-17T13:51:23.456979",
     "exception": false,
     "start_time": "2025-07-17T13:51:23.432440",
     "status": "completed"
    },
    "tags": []
   },
   "outputs": [
    {
     "name": "stdout",
     "output_type": "stream",
     "text": [
      "Number of clusters: 19\n"
     ]
    },
    {
     "data": {
      "text/plain": [
       "paul15_clusters\n",
       "1Ery        43\n",
       "2Ery       329\n",
       "3Ery       246\n",
       "4Ery       124\n",
       "5Ery       180\n",
       "6Ery       173\n",
       "7MEP       167\n",
       "8Mk         68\n",
       "9GMP        63\n",
       "10GMP      153\n",
       "11DC        30\n",
       "12Baso      69\n",
       "13Baso     300\n",
       "14Mo       373\n",
       "15Mo       186\n",
       "16Neu      164\n",
       "17Neu       22\n",
       "18Eos        9\n",
       "19Lymph     31\n",
       "Name: count, dtype: int64"
      ]
     },
     "execution_count": 8,
     "metadata": {},
     "output_type": "execute_result"
    }
   ],
   "source": [
    "# How many clusters are there?\n",
    "print(f\"Number of clusters: {len(adata.obs['paul15_clusters'].unique())}\")\n",
    "adata.obs['paul15_clusters'].value_counts().sort_index()\n"
   ]
  },
  {
   "cell_type": "code",
   "execution_count": 9,
   "id": "19fb88bf",
   "metadata": {
    "execution": {
     "iopub.execute_input": "2025-07-17T13:51:23.475638Z",
     "iopub.status.busy": "2025-07-17T13:51:23.474831Z",
     "iopub.status.idle": "2025-07-17T13:51:23.487673Z",
     "shell.execute_reply": "2025-07-17T13:51:23.486561Z"
    },
    "id": "1f0f146a",
    "papermill": {
     "duration": 0.024286,
     "end_time": "2025-07-17T13:51:23.489376",
     "exception": false,
     "start_time": "2025-07-17T13:51:23.465090",
     "status": "completed"
    },
    "tags": []
   },
   "outputs": [
    {
     "data": {
      "text/html": [
       "<div>\n",
       "<style scoped>\n",
       "    .dataframe tbody tr th:only-of-type {\n",
       "        vertical-align: middle;\n",
       "    }\n",
       "\n",
       "    .dataframe tbody tr th {\n",
       "        vertical-align: top;\n",
       "    }\n",
       "\n",
       "    .dataframe thead th {\n",
       "        text-align: right;\n",
       "    }\n",
       "</style>\n",
       "<table border=\"1\" class=\"dataframe\">\n",
       "  <thead>\n",
       "    <tr style=\"text-align: right;\">\n",
       "      <th></th>\n",
       "      <th>paul15_clusters</th>\n",
       "      <th>leiden</th>\n",
       "    </tr>\n",
       "  </thead>\n",
       "  <tbody>\n",
       "    <tr>\n",
       "      <th>W31105</th>\n",
       "      <td>7MEP</td>\n",
       "      <td>6</td>\n",
       "    </tr>\n",
       "    <tr>\n",
       "      <th>W31106</th>\n",
       "      <td>15Mo</td>\n",
       "      <td>7</td>\n",
       "    </tr>\n",
       "    <tr>\n",
       "      <th>W31107</th>\n",
       "      <td>3Ery</td>\n",
       "      <td>1</td>\n",
       "    </tr>\n",
       "    <tr>\n",
       "      <th>W31108</th>\n",
       "      <td>15Mo</td>\n",
       "      <td>3</td>\n",
       "    </tr>\n",
       "    <tr>\n",
       "      <th>W31109</th>\n",
       "      <td>3Ery</td>\n",
       "      <td>1</td>\n",
       "    </tr>\n",
       "    <tr>\n",
       "      <th>...</th>\n",
       "      <td>...</td>\n",
       "      <td>...</td>\n",
       "    </tr>\n",
       "    <tr>\n",
       "      <th>W39164</th>\n",
       "      <td>2Ery</td>\n",
       "      <td>0</td>\n",
       "    </tr>\n",
       "    <tr>\n",
       "      <th>W39165</th>\n",
       "      <td>13Baso</td>\n",
       "      <td>4</td>\n",
       "    </tr>\n",
       "    <tr>\n",
       "      <th>W39166</th>\n",
       "      <td>7MEP</td>\n",
       "      <td>6</td>\n",
       "    </tr>\n",
       "    <tr>\n",
       "      <th>W39167</th>\n",
       "      <td>15Mo</td>\n",
       "      <td>3</td>\n",
       "    </tr>\n",
       "    <tr>\n",
       "      <th>W39168</th>\n",
       "      <td>3Ery</td>\n",
       "      <td>1</td>\n",
       "    </tr>\n",
       "  </tbody>\n",
       "</table>\n",
       "<p>2730 rows × 2 columns</p>\n",
       "</div>"
      ],
      "text/plain": [
       "       paul15_clusters leiden\n",
       "W31105            7MEP      6\n",
       "W31106            15Mo      7\n",
       "W31107            3Ery      1\n",
       "W31108            15Mo      3\n",
       "W31109            3Ery      1\n",
       "...                ...    ...\n",
       "W39164            2Ery      0\n",
       "W39165          13Baso      4\n",
       "W39166            7MEP      6\n",
       "W39167            15Mo      3\n",
       "W39168            3Ery      1\n",
       "\n",
       "[2730 rows x 2 columns]"
      ]
     },
     "execution_count": 9,
     "metadata": {},
     "output_type": "execute_result"
    }
   ],
   "source": [
    "# Cluster annotation from original paper\n",
    "adata.obs\n"
   ]
  },
  {
   "cell_type": "markdown",
   "id": "2f6a7633",
   "metadata": {
    "id": "e410f355",
    "papermill": {
     "duration": 0.008504,
     "end_time": "2025-07-17T13:51:23.506360",
     "exception": false,
     "start_time": "2025-07-17T13:51:23.497856",
     "status": "completed"
    },
    "tags": []
   },
   "source": [
    "### Call the Agent! Run the annotation"
   ]
  },
  {
   "cell_type": "code",
   "execution_count": 10,
   "id": "60902c1f",
   "metadata": {
    "execution": {
     "iopub.execute_input": "2025-07-17T13:51:23.525282Z",
     "iopub.status.busy": "2025-07-17T13:51:23.524899Z",
     "iopub.status.idle": "2025-07-17T13:57:38.792914Z",
     "shell.execute_reply": "2025-07-17T13:57:38.791898Z"
    },
    "id": "edabe29a",
    "papermill": {
     "duration": 375.282541,
     "end_time": "2025-07-17T13:57:38.797124",
     "exception": false,
     "start_time": "2025-07-17T13:51:23.514583",
     "status": "completed"
    },
    "tags": []
   },
   "outputs": [
    {
     "name": "stdout",
     "output_type": "stream",
     "text": [
      "CyteType job (id: e1c92fec-6b04-4fa0-8e28-d865712d7754) submitted. Polling for results...\n",
      "Report (updates automatically) available at: https://nygen-labs-prod--cytetype-api.modal.run/report/e1c92fec-6b04-4fa0-8e28-d865712d7754\n",
      "If network disconnects, the results can be fetched like this:\n",
      "`results = annotator.get_results()`\n",
      "250717:1351:31 |INFO| [STARTING WORKFLOWS]: Job ID: e1c92fec-6b04-4fa0-8e28-d865712d7754\n",
      "250717:1351:31 |INFO| [WORKFLOW STEP 1/3]: Generating context summary\n",
      "250717:1351:44 |INFO| [WORKFLOW STEP 2/3]: Running annotation pipeline for each cluster\n",
      "250717:1352:51 |SUCCESS| [Cluster: 2] Annotation completed in 58.55s after 1 attempt(s) and 63348 tokens used\n",
      "250717:1352:54 |SUCCESS| [Cluster: 3] Annotation completed in 60.11s after 1 attempt(s) and 68443 tokens used\n",
      "250717:1353:01 |SUCCESS| [Cluster: 4] Annotation completed in 58.65s after 1 attempt(s) and 60660 tokens used\n",
      "250717:1353:31 |SUCCESS| [Cluster: 1] Annotation completed in 77.77s after 2 attempt(s) and 104898 tokens used\n",
      "250717:1353:46 |SUCCESS| [Cluster: 5] Annotation completed in 106.96s after 2 attempt(s) and 109678 tokens used\n",
      "250717:1354:06 |SUCCESS| [Cluster: 7] Annotation completed in 63.31s after 1 attempt(s) and 63405 tokens used\n",
      "250717:1354:09 |SUCCESS| [Cluster: 6] Annotation completed in 64.13s after 1 attempt(s) and 62504 tokens used\n",
      "250717:1354:30 |SUCCESS| [Cluster: 8] Annotation completed in 59.59s after 1 attempt(s) and 68836 tokens used\n",
      "250717:1355:06 |SUCCESS| [Cluster: 11] Annotation completed in 52.10s after 1 attempt(s) and 62060 tokens used\n",
      "250717:1355:16 |SUCCESS| [Cluster: 9] Annotation completed in 97.36s after 2 attempt(s) and 113965 tokens used\n",
      "250717:1355:31 |SUCCESS| [Cluster: 10] Annotation completed in 95.95s after 2 attempt(s) and 107314 tokens used\n",
      "250717:1355:42 |SUCCESS| [Cluster: 13] Annotation completed in 62.15s after 1 attempt(s) and 65384 tokens used\n",
      "250717:1355:58 |SUCCESS| [Cluster: 12] Annotation completed in 99.51s after 2 attempt(s) and 113766 tokens used\n",
      "250717:1356:15 |SUCCESS| [Cluster: 14] Annotation completed in 62.81s after 1 attempt(s) and 66185 tokens used\n",
      "250717:1356:31 |SUCCESS| [Cluster: 16] Annotation completed in 49.58s after 1 attempt(s) and 68553 tokens used\n",
      "250717:1356:33 |SUCCESS| [Cluster: 15] Annotation completed in 66.87s after 1 attempt(s) and 69453 tokens used\n",
      "250717:1356:46 |SUCCESS| [Cluster: 18] Annotation completed in 41.34s after 1 attempt(s) and 71706 tokens used\n",
      "250717:1356:55 |SUCCESS| [Cluster: 17] Annotation completed in 61.24s after 2 attempt(s) and 100471 tokens used\n",
      "Job e1c92fec-6b04-4fa0-8e28-d865712d7754 completed successfully.\n",
      "Annotations successfully added to `adata.obs['cytetype_annotation_paul15_clusters']` , ontology term added to `adata.obs['cytetype_cellOntologyTerm_paul15_clusters']` and, full results added to `adata.uns['cytetype_results']`.\n"
     ]
    }
   ],
   "source": [
    "# Run annotation\n",
    "adata = annotator.run(\n",
    "    study_context=\"\"\"\n",
    "    Mouse bone marrow cells undergoing myeloid differentiation. This includes several subtypes of immune cell progenitors.\n",
    "\n",
    "    \"\"\"\n",
    ")\n",
    "\n",
    "# View results\n",
    "#print(adata.obs.cytetype_leiden)"
   ]
  },
  {
   "cell_type": "markdown",
   "id": "200b2457",
   "metadata": {
    "id": "83befa5b",
    "papermill": {
     "duration": 0.009283,
     "end_time": "2025-07-17T13:57:38.818215",
     "exception": false,
     "start_time": "2025-07-17T13:57:38.808932",
     "status": "completed"
    },
    "tags": []
   },
   "source": [
    "### Compare annotation with existing one\n",
    "\n",
    "The original annotation are more granular than the ones from Cytetype, so we manually create a dictionary to make a comparison."
   ]
  },
  {
   "cell_type": "code",
   "execution_count": 11,
   "id": "e177824c",
   "metadata": {
    "execution": {
     "iopub.execute_input": "2025-07-17T13:57:38.840213Z",
     "iopub.status.busy": "2025-07-17T13:57:38.839803Z",
     "iopub.status.idle": "2025-07-17T13:57:38.852635Z",
     "shell.execute_reply": "2025-07-17T13:57:38.850482Z"
    },
    "id": "GQ-8gO1zZRoe",
    "papermill": {
     "duration": 0.026312,
     "end_time": "2025-07-17T13:57:38.854739",
     "exception": false,
     "start_time": "2025-07-17T13:57:38.828427",
     "status": "completed"
    },
    "tags": []
   },
   "outputs": [
    {
     "name": "stdout",
     "output_type": "stream",
     "text": [
      "       paul15_clusters leiden    cytetype_annotation_paul15_clusters  \\\n",
      "W31105            7MEP      6       Myeloid Progenitor Cell (GATA2+)   \n",
      "W31106            15Mo      7         Neutrophil Progenitor (Elane+)   \n",
      "W31107            3Ery      1  Erythroid Progenitor (heme synthesis)   \n",
      "W31108            15Mo      3         Neutrophil Progenitor (Elane+)   \n",
      "W31109            3Ery      1  Erythroid Progenitor (heme synthesis)   \n",
      "...                ...    ...                                    ...   \n",
      "W39164            2Ery      0          Erythroid Progenitor (Ermap+)   \n",
      "W39165          13Baso      4       Myeloid Progenitor Cell (Prtn3+)   \n",
      "W39166            7MEP      6       Myeloid Progenitor Cell (GATA2+)   \n",
      "W39167            15Mo      3         Neutrophil Progenitor (Elane+)   \n",
      "W39168            3Ery      1  Erythroid Progenitor (heme synthesis)   \n",
      "\n",
      "       cytetype_cellOntologyTerm_paul15_clusters  \n",
      "W31105                                CL_0000839  \n",
      "W31106                                CL_0000834  \n",
      "W31107                                CL_0000038  \n",
      "W31108                                CL_0000834  \n",
      "W31109                                CL_0000038  \n",
      "...                                          ...  \n",
      "W39164                                CL_0000038  \n",
      "W39165                                CL_0000839  \n",
      "W39166                                CL_0000839  \n",
      "W39167                                CL_0000834  \n",
      "W39168                                CL_0000038  \n",
      "\n",
      "[2730 rows x 4 columns]\n"
     ]
    }
   ],
   "source": [
    "print(adata.obs)"
   ]
  },
  {
   "cell_type": "code",
   "execution_count": 12,
   "id": "c266682d",
   "metadata": {
    "execution": {
     "iopub.execute_input": "2025-07-17T13:57:38.875526Z",
     "iopub.status.busy": "2025-07-17T13:57:38.875113Z",
     "iopub.status.idle": "2025-07-17T13:57:38.881277Z",
     "shell.execute_reply": "2025-07-17T13:57:38.880316Z"
    },
    "id": "1a089031",
    "papermill": {
     "duration": 0.018338,
     "end_time": "2025-07-17T13:57:38.882921",
     "exception": false,
     "start_time": "2025-07-17T13:57:38.864583",
     "status": "completed"
    },
    "tags": []
   },
   "outputs": [
    {
     "name": "stdout",
     "output_type": "stream",
     "text": [
      "['Myeloid Progenitor Cell (GATA2+)', 'Neutrophil Progenitor (Elane+)', 'Erythroid Progenitor (heme synthesis)', 'Erythroid Progenitor (Car2+)', 'Erythroid Progenitor (Ermap+)', 'Granulocyte-Monocyte Progenitor (stress-activated)', 'Neutrophil Progenitor (Prtn3+)', 'Myeloid Progenitor Cell (Prtn3+)', 'Megakaryocyte Progenitor', 'Myeloid Progenitor Cell (GPR56+)', 'Early Myeloid Progenitor', 'Neutrophil Progenitor (early)', 'Early Erythroid Progenitor with Megakaryocytic Potential', 'Erythroid Progenitor (Hba-a2+)', 'Erythroid Progenitor (ribosomal)', 'Stress-responsive Hematopoietic Progenitor', 'Transitioning Myeloid Progenitor', 'Granulocyte Progenitor (Cebpe+)', 'Myeloid Progenitor Cell (Cd74+)']\n"
     ]
    },
    {
     "name": "stderr",
     "output_type": "stream",
     "text": [
      "/tmp/ipykernel_13/2255399537.py:1: FutureWarning: Categorical.to_list is deprecated and will be removed in a future version. Use obj.tolist() instead\n",
      "  print(adata.obs.cytetype_annotation_paul15_clusters.unique().to_list())\n"
     ]
    }
   ],
   "source": [
    "print(adata.obs.cytetype_annotation_paul15_clusters.unique().to_list())"
   ]
  },
  {
   "cell_type": "code",
   "execution_count": 13,
   "id": "cd5f2f7b",
   "metadata": {
    "execution": {
     "iopub.execute_input": "2025-07-17T13:57:38.907211Z",
     "iopub.status.busy": "2025-07-17T13:57:38.906610Z",
     "iopub.status.idle": "2025-07-17T13:57:38.915156Z",
     "shell.execute_reply": "2025-07-17T13:57:38.913933Z"
    },
    "id": "2df79c08",
    "papermill": {
     "duration": 0.022006,
     "end_time": "2025-07-17T13:57:38.917029",
     "exception": false,
     "start_time": "2025-07-17T13:57:38.895023",
     "status": "completed"
    },
    "tags": []
   },
   "outputs": [],
   "source": [
    "label_map = {\n",
    "    '1Ery': 'Erythroblast',\n",
    "    '2Ery': 'Erythroid precursor',\n",
    "    '3Ery': 'Erythroblast',\n",
    "    '4Ery': 'Erythroid precursor',\n",
    "    '5Ery': 'Erythroid cell',\n",
    "    '6Ery': 'Erythroid progenitor',\n",
    "\n",
    "    '7MEP': 'Myeloid progenitor cell',\n",
    "    '8Mk': 'Megakaryocyte',\n",
    "    '9GMP': 'Hematopoietic progenitor cell',\n",
    "    '10GMP': 'Hematopoietic progenitor cell',\n",
    "\n",
    "    '11DC': 'Antigen-presenting myeloid cell',\n",
    "    '12Baso': 'Mast cell',\n",
    "    '13Baso': 'Mast cell',\n",
    "\n",
    "    '14Mo': 'Neutrophil promyelocyte',\n",
    "    '15Mo': 'Neutrophil promyelocyte',\n",
    "\n",
    "    '16Neu': 'Neutrophil',\n",
    "    '17Neu': 'Neutrophil',\n",
    "\n",
    "    '18Eos': 'Eosinophil',\n",
    "    '19Lymph': 'Natural Killer (NK) cell'\n",
    "}\n"
   ]
  },
  {
   "cell_type": "code",
   "execution_count": 14,
   "id": "6bca3742",
   "metadata": {
    "execution": {
     "iopub.execute_input": "2025-07-17T13:57:38.943483Z",
     "iopub.status.busy": "2025-07-17T13:57:38.942924Z",
     "iopub.status.idle": "2025-07-17T13:57:38.977058Z",
     "shell.execute_reply": "2025-07-17T13:57:38.975799Z"
    },
    "id": "fb65c71c",
    "papermill": {
     "duration": 0.048047,
     "end_time": "2025-07-17T13:57:38.979285",
     "exception": false,
     "start_time": "2025-07-17T13:57:38.931238",
     "status": "completed"
    },
    "tags": []
   },
   "outputs": [
    {
     "data": {
      "text/html": [
       "<div>\n",
       "<style scoped>\n",
       "    .dataframe tbody tr th:only-of-type {\n",
       "        vertical-align: middle;\n",
       "    }\n",
       "\n",
       "    .dataframe tbody tr th {\n",
       "        vertical-align: top;\n",
       "    }\n",
       "\n",
       "    .dataframe thead th {\n",
       "        text-align: right;\n",
       "    }\n",
       "</style>\n",
       "<table border=\"1\" class=\"dataframe\">\n",
       "  <thead>\n",
       "    <tr style=\"text-align: right;\">\n",
       "      <th>cytetype_annotation_paul15_clusters</th>\n",
       "    </tr>\n",
       "    <tr>\n",
       "      <th>true_broad</th>\n",
       "    </tr>\n",
       "  </thead>\n",
       "  <tbody>\n",
       "  </tbody>\n",
       "</table>\n",
       "</div>"
      ],
      "text/plain": [
       "Empty DataFrame\n",
       "Columns: []\n",
       "Index: []"
      ]
     },
     "execution_count": 14,
     "metadata": {},
     "output_type": "execute_result"
    }
   ],
   "source": [
    "adata.obs[\"true_broad\"] = adata.obs[\"cytetype_annotation_paul15_clusters\"].map(label_map)\n",
    "\n",
    "conf_mat = pd.crosstab(adata.obs[\"true_broad\"], adata.obs[\"cytetype_annotation_paul15_clusters\"], normalize='index')\n",
    "conf_mat"
   ]
  },
  {
   "cell_type": "code",
   "execution_count": null,
   "id": "f96b07a4",
   "metadata": {
    "id": "NLx4uxijZfps",
    "papermill": {
     "duration": 0.010503,
     "end_time": "2025-07-17T13:57:39.001582",
     "exception": false,
     "start_time": "2025-07-17T13:57:38.991079",
     "status": "completed"
    },
    "tags": []
   },
   "outputs": [],
   "source": []
  },
  {
   "cell_type": "code",
   "execution_count": 15,
   "id": "8b364ef2",
   "metadata": {
    "execution": {
     "iopub.execute_input": "2025-07-17T13:57:39.032375Z",
     "iopub.status.busy": "2025-07-17T13:57:39.031412Z",
     "iopub.status.idle": "2025-07-17T13:57:39.041504Z",
     "shell.execute_reply": "2025-07-17T13:57:39.040162Z"
    },
    "id": "DKWfPdexZg8m",
    "papermill": {
     "duration": 0.027287,
     "end_time": "2025-07-17T13:57:39.043810",
     "exception": false,
     "start_time": "2025-07-17T13:57:39.016523",
     "status": "completed"
    },
    "tags": []
   },
   "outputs": [
    {
     "data": {
      "text/html": [
       "<div>\n",
       "<style scoped>\n",
       "    .dataframe tbody tr th:only-of-type {\n",
       "        vertical-align: middle;\n",
       "    }\n",
       "\n",
       "    .dataframe tbody tr th {\n",
       "        vertical-align: top;\n",
       "    }\n",
       "\n",
       "    .dataframe thead th {\n",
       "        text-align: right;\n",
       "    }\n",
       "</style>\n",
       "<table border=\"1\" class=\"dataframe\">\n",
       "  <thead>\n",
       "    <tr style=\"text-align: right;\">\n",
       "      <th>cytetype_annotation_paul15_clusters</th>\n",
       "    </tr>\n",
       "    <tr>\n",
       "      <th>true_broad</th>\n",
       "    </tr>\n",
       "  </thead>\n",
       "  <tbody>\n",
       "  </tbody>\n",
       "</table>\n",
       "</div>"
      ],
      "text/plain": [
       "Empty DataFrame\n",
       "Columns: []\n",
       "Index: []"
      ]
     },
     "execution_count": 15,
     "metadata": {},
     "output_type": "execute_result"
    }
   ],
   "source": [
    "conf_mat"
   ]
  },
  {
   "cell_type": "code",
   "execution_count": 16,
   "id": "f22989b7",
   "metadata": {
    "execution": {
     "iopub.execute_input": "2025-07-17T13:57:39.075058Z",
     "iopub.status.busy": "2025-07-17T13:57:39.074688Z",
     "iopub.status.idle": "2025-07-17T13:57:39.081368Z",
     "shell.execute_reply": "2025-07-17T13:57:39.079687Z"
    },
    "id": "41b84c36",
    "papermill": {
     "duration": 0.026026,
     "end_time": "2025-07-17T13:57:39.084006",
     "exception": false,
     "start_time": "2025-07-17T13:57:39.057980",
     "status": "completed"
    },
    "tags": []
   },
   "outputs": [],
   "source": [
    "# # Plot Confusion matrix\n",
    "# plt.figure(figsize=(10, 6))\n",
    "# sns.heatmap(conf_mat, annot=True, cmap=\"Blues\", fmt=\".2f\", cbar=True)\n",
    "# plt.title(\"CyteType vs Paul15 Broad Cell Type Mapping\")\n",
    "# plt.ylabel(\"True Label (Paul15 Broad)\")\n",
    "# plt.xlabel(\"Predicted Label (CyteType)\")\n",
    "# plt.tight_layout()\n",
    "# plt.show()"
   ]
  },
  {
   "cell_type": "markdown",
   "id": "cb9e49d8",
   "metadata": {
    "id": "44bbf14e",
    "papermill": {
     "duration": 0.018324,
     "end_time": "2025-07-17T13:57:39.114077",
     "exception": false,
     "start_time": "2025-07-17T13:57:39.095753",
     "status": "completed"
    },
    "tags": []
   },
   "source": [
    "## Repeating the confusion matrix, using the original labels\n",
    "\n",
    "\n",
    "In the code above we had to manually match the Paul 15 labels with the ones generated by cytetype. Here we use the original lables, although we expand them to make it more readable, and we keep the original values.\n"
   ]
  },
  {
   "cell_type": "code",
   "execution_count": 17,
   "id": "0dcc2446",
   "metadata": {
    "execution": {
     "iopub.execute_input": "2025-07-17T13:57:39.146209Z",
     "iopub.status.busy": "2025-07-17T13:57:39.145869Z",
     "iopub.status.idle": "2025-07-17T13:57:39.172080Z",
     "shell.execute_reply": "2025-07-17T13:57:39.170477Z"
    },
    "id": "73a1e879",
    "papermill": {
     "duration": 0.04608,
     "end_time": "2025-07-17T13:57:39.175031",
     "exception": false,
     "start_time": "2025-07-17T13:57:39.128951",
     "status": "completed"
    },
    "tags": []
   },
   "outputs": [
    {
     "name": "stderr",
     "output_type": "stream",
     "text": [
      "/usr/local/lib/python3.11/dist-packages/pandas/io/formats/format.py:1458: RuntimeWarning: invalid value encountered in greater\n",
      "  has_large_values = (abs_vals > 1e6).any()\n",
      "/usr/local/lib/python3.11/dist-packages/pandas/io/formats/format.py:1459: RuntimeWarning: invalid value encountered in less\n",
      "  has_small_values = ((abs_vals < 10 ** (-self.digits)) & (abs_vals > 0)).any()\n",
      "/usr/local/lib/python3.11/dist-packages/pandas/io/formats/format.py:1459: RuntimeWarning: invalid value encountered in greater\n",
      "  has_small_values = ((abs_vals < 10 ** (-self.digits)) & (abs_vals > 0)).any()\n"
     ]
    },
    {
     "data": {
      "text/html": [
       "<div>\n",
       "<style scoped>\n",
       "    .dataframe tbody tr th:only-of-type {\n",
       "        vertical-align: middle;\n",
       "    }\n",
       "\n",
       "    .dataframe tbody tr th {\n",
       "        vertical-align: top;\n",
       "    }\n",
       "\n",
       "    .dataframe thead th {\n",
       "        text-align: right;\n",
       "    }\n",
       "</style>\n",
       "<table border=\"1\" class=\"dataframe\">\n",
       "  <thead>\n",
       "    <tr style=\"text-align: right;\">\n",
       "      <th></th>\n",
       "      <th>paul15_clusters</th>\n",
       "      <th>leiden</th>\n",
       "      <th>cytetype_annotation_paul15_clusters</th>\n",
       "      <th>cytetype_cellOntologyTerm_paul15_clusters</th>\n",
       "      <th>true_broad</th>\n",
       "      <th>paul15_fullname</th>\n",
       "    </tr>\n",
       "  </thead>\n",
       "  <tbody>\n",
       "    <tr>\n",
       "      <th>W31105</th>\n",
       "      <td>7MEP</td>\n",
       "      <td>6</td>\n",
       "      <td>Myeloid Progenitor Cell (GATA2+)</td>\n",
       "      <td>CL_0000839</td>\n",
       "      <td>NaN</td>\n",
       "      <td>7MEP - Megakaryocyte-Erythroid Progenitor (lat...</td>\n",
       "    </tr>\n",
       "    <tr>\n",
       "      <th>W31106</th>\n",
       "      <td>15Mo</td>\n",
       "      <td>7</td>\n",
       "      <td>Neutrophil Progenitor (Elane+)</td>\n",
       "      <td>CL_0000834</td>\n",
       "      <td>NaN</td>\n",
       "      <td>15Mo - Mature monocytes</td>\n",
       "    </tr>\n",
       "    <tr>\n",
       "      <th>W31107</th>\n",
       "      <td>3Ery</td>\n",
       "      <td>1</td>\n",
       "      <td>Erythroid Progenitor (heme synthesis)</td>\n",
       "      <td>CL_0000038</td>\n",
       "      <td>NaN</td>\n",
       "      <td>3Ery - Late erythroid / erythroblast</td>\n",
       "    </tr>\n",
       "    <tr>\n",
       "      <th>W31108</th>\n",
       "      <td>15Mo</td>\n",
       "      <td>3</td>\n",
       "      <td>Neutrophil Progenitor (Elane+)</td>\n",
       "      <td>CL_0000834</td>\n",
       "      <td>NaN</td>\n",
       "      <td>15Mo - Mature monocytes</td>\n",
       "    </tr>\n",
       "    <tr>\n",
       "      <th>W31109</th>\n",
       "      <td>3Ery</td>\n",
       "      <td>1</td>\n",
       "      <td>Erythroid Progenitor (heme synthesis)</td>\n",
       "      <td>CL_0000038</td>\n",
       "      <td>NaN</td>\n",
       "      <td>3Ery - Late erythroid / erythroblast</td>\n",
       "    </tr>\n",
       "  </tbody>\n",
       "</table>\n",
       "</div>"
      ],
      "text/plain": [
       "       paul15_clusters leiden    cytetype_annotation_paul15_clusters  \\\n",
       "W31105            7MEP      6       Myeloid Progenitor Cell (GATA2+)   \n",
       "W31106            15Mo      7         Neutrophil Progenitor (Elane+)   \n",
       "W31107            3Ery      1  Erythroid Progenitor (heme synthesis)   \n",
       "W31108            15Mo      3         Neutrophil Progenitor (Elane+)   \n",
       "W31109            3Ery      1  Erythroid Progenitor (heme synthesis)   \n",
       "\n",
       "       cytetype_cellOntologyTerm_paul15_clusters  true_broad  \\\n",
       "W31105                                CL_0000839         NaN   \n",
       "W31106                                CL_0000834         NaN   \n",
       "W31107                                CL_0000038         NaN   \n",
       "W31108                                CL_0000834         NaN   \n",
       "W31109                                CL_0000038         NaN   \n",
       "\n",
       "                                          paul15_fullname  \n",
       "W31105  7MEP - Megakaryocyte-Erythroid Progenitor (lat...  \n",
       "W31106                            15Mo - Mature monocytes  \n",
       "W31107               3Ery - Late erythroid / erythroblast  \n",
       "W31108                            15Mo - Mature monocytes  \n",
       "W31109               3Ery - Late erythroid / erythroblast  "
      ]
     },
     "execution_count": 17,
     "metadata": {},
     "output_type": "execute_result"
    }
   ],
   "source": [
    "import pandas as pd\n",
    "\n",
    "# Step 1: Mapping from cluster ID to full name\n",
    "paul15_label_fullname = {\n",
    "    '1Ery': '1Ery - Early erythroid progenitors',\n",
    "    '2Ery': '2Ery - Intermediate erythroid stage',\n",
    "    '3Ery': '3Ery - Late erythroid / erythroblast',\n",
    "    '4Ery': '4Ery - Terminally differentiating erythrocytes',\n",
    "    '5MEP': '5MEP - Megakaryocyte-Erythroid Progenitor',\n",
    "    '6MEP': '6MEP - Megakaryocyte-Erythroid Progenitor (more mature)',\n",
    "    '7MEP': '7MEP - Megakaryocyte-Erythroid Progenitor (late stage)',\n",
    "    '8GMP': '8GMP Granulocyte–monocyte progenitor',\n",
    "    '9DC':  '9DC - Dendritic cell progenitors',\n",
    "    '10Baso': '10Baso - Basophil progenitors',\n",
    "    '11Mo': '11Mo - Monocyte progenitors',\n",
    "    '12Mo': '12Mo - Differentiated monocyte progenitors',\n",
    "    '13Baso': '13Baso - Mature basophil progenitors',\n",
    "    '14Mo': '14Mo - Late-stage monocytes',\n",
    "    '15Mo': '15Mo - Mature monocytes',\n",
    "    '16Neu': '16Neu - Neutrophil progenitors',\n",
    "    '17Neu': '17Neu - Late-stage neutrophils',\n",
    "    '18Eos': '18Eos - Eosinophil progenitors',\n",
    "    '19Lymph': '19Lymph - Lymphoid-like cells (NK/T precursors or contaminants)',\n",
    "}\n",
    "\n",
    "# Step 2: Map full names into obs\n",
    "adata.obs[\"paul15_fullname\"] = adata.obs[\"paul15_clusters\"].map(paul15_label_fullname)\n",
    "adata.obs.head()\n"
   ]
  },
  {
   "cell_type": "code",
   "execution_count": 18,
   "id": "dc7a214c",
   "metadata": {
    "execution": {
     "iopub.execute_input": "2025-07-17T13:57:39.209575Z",
     "iopub.status.busy": "2025-07-17T13:57:39.208923Z",
     "iopub.status.idle": "2025-07-17T13:57:39.220354Z",
     "shell.execute_reply": "2025-07-17T13:57:39.219216Z"
    },
    "id": "bfb3926e",
    "papermill": {
     "duration": 0.035475,
     "end_time": "2025-07-17T13:57:39.224460",
     "exception": false,
     "start_time": "2025-07-17T13:57:39.188985",
     "status": "completed"
    },
    "tags": []
   },
   "outputs": [
    {
     "data": {
      "text/plain": [
       "cytetype_annotation_paul15_clusters\n",
       "Neutrophil Progenitor (Prtn3+)                              373\n",
       "Erythroid Progenitor (Ermap+)                               329\n",
       "Myeloid Progenitor Cell (Prtn3+)                            300\n",
       "Erythroid Progenitor (heme synthesis)                       246\n",
       "Neutrophil Progenitor (Elane+)                              186\n",
       "Early Erythroid Progenitor with Megakaryocytic Potential    180\n",
       "Erythroid Progenitor (ribosomal)                            173\n",
       "Myeloid Progenitor Cell (GATA2+)                            167\n",
       "Neutrophil Progenitor (early)                               164\n",
       "Early Myeloid Progenitor                                    153\n",
       "Erythroid Progenitor (Car2+)                                124\n",
       "Transitioning Myeloid Progenitor                             69\n",
       "Megakaryocyte Progenitor                                     68\n",
       "Myeloid Progenitor Cell (GPR56+)                             63\n",
       "Erythroid Progenitor (Hba-a2+)                               43\n",
       "Stress-responsive Hematopoietic Progenitor                   31\n",
       "Myeloid Progenitor Cell (Cd74+)                              30\n",
       "Granulocyte-Monocyte Progenitor (stress-activated)           22\n",
       "Granulocyte Progenitor (Cebpe+)                               9\n",
       "Name: count, dtype: int64"
      ]
     },
     "execution_count": 18,
     "metadata": {},
     "output_type": "execute_result"
    }
   ],
   "source": [
    "adata.obs.cytetype_annotation_paul15_clusters.value_counts()"
   ]
  },
  {
   "cell_type": "code",
   "execution_count": 19,
   "id": "f7159423",
   "metadata": {
    "execution": {
     "iopub.execute_input": "2025-07-17T13:57:39.257413Z",
     "iopub.status.busy": "2025-07-17T13:57:39.257072Z",
     "iopub.status.idle": "2025-07-17T13:57:39.282661Z",
     "shell.execute_reply": "2025-07-17T13:57:39.280939Z"
    },
    "id": "32386375",
    "papermill": {
     "duration": 0.045304,
     "end_time": "2025-07-17T13:57:39.285624",
     "exception": false,
     "start_time": "2025-07-17T13:57:39.240320",
     "status": "completed"
    },
    "tags": []
   },
   "outputs": [],
   "source": [
    "\n",
    "# Step 3: Define full-name order\n",
    "manual_order_full = list(paul15_label_fullname.values())\n",
    "\n",
    "\n",
    "# Step 4: Create and reorder confusion matrix\n",
    "conf_mat_full = pd.crosstab(\n",
    "    adata.obs[\"paul15_fullname\"],\n",
    "    adata.obs[\"cytetype_annotation_paul15_clusters\"],\n",
    "    normalize='index'\n",
    ")\n",
    "# Only keep labels that exist in the confusion matrix\n",
    "existing_labels = [label for label in manual_order_full if label in conf_mat_full.index]\n",
    "\n",
    "# Reorder based on existing labels only\n",
    "conf_mat_ordered = conf_mat_full.loc[existing_labels]\n",
    "\n",
    "# Optional: reorder columns if matching set\n",
    "if all(label in conf_mat_ordered.columns for label in manual_order_full):\n",
    "    conf_mat_ordered = conf_mat_ordered[manual_order_full]"
   ]
  },
  {
   "cell_type": "code",
   "execution_count": 20,
   "id": "b046cc67",
   "metadata": {
    "execution": {
     "iopub.execute_input": "2025-07-17T13:57:39.316495Z",
     "iopub.status.busy": "2025-07-17T13:57:39.315875Z",
     "iopub.status.idle": "2025-07-17T13:57:40.210309Z",
     "shell.execute_reply": "2025-07-17T13:57:40.209072Z"
    },
    "id": "b1553429",
    "papermill": {
     "duration": 0.913494,
     "end_time": "2025-07-17T13:57:40.213810",
     "exception": false,
     "start_time": "2025-07-17T13:57:39.300316",
     "status": "completed"
    },
    "tags": []
   },
   "outputs": [
    {
     "data": {
      "image/png": "[encoded data removed]",
      "text/plain": [
       "<Figure size 1200x1000 with 2 Axes>"
      ]
     },
     "metadata": {},
     "output_type": "display_data"
    }
   ],
   "source": [
    "import seaborn as sns\n",
    "import matplotlib.pyplot as plt\n",
    "\n",
    "plt.figure(figsize=(12, 10))\n",
    "sns.heatmap(conf_mat_ordered, annot=True, fmt=\".2f\", cmap=\"Blues\", cbar=True)\n",
    "\n",
    "plt.title(\"Confusion Matrix (Original Cluster Names, Ordered by Manual Mapping)\")\n",
    "plt.xlabel(\"Predicted Label\")\n",
    "plt.ylabel(\"Original Cluster\")\n",
    "plt.xticks(rotation=90)\n",
    "plt.yticks(rotation=0)\n",
    "plt.tight_layout()\n",
    "plt.show()\n"
   ]
  },
  {
   "cell_type": "code",
   "execution_count": 21,
   "id": "f9fffed9",
   "metadata": {
    "execution": {
     "iopub.execute_input": "2025-07-17T13:57:40.246485Z",
     "iopub.status.busy": "2025-07-17T13:57:40.246087Z",
     "iopub.status.idle": "2025-07-17T13:57:40.348573Z",
     "shell.execute_reply": "2025-07-17T13:57:40.347358Z"
    },
    "papermill": {
     "duration": 0.121545,
     "end_time": "2025-07-17T13:57:40.350107",
     "exception": false,
     "start_time": "2025-07-17T13:57:40.228562",
     "status": "completed"
    },
    "tags": []
   },
   "outputs": [
    {
     "name": "stderr",
     "output_type": "stream",
     "text": [
      "/tmp/ipykernel_13/3959061399.py:1: FutureWarning: The default of observed=False is deprecated and will be changed to True in a future version of pandas. Pass observed=False to retain current behavior or observed=True to adopt the future default and silence this warning.\n",
      "  adata.obs.groupby([\"cytetype_annotation_paul15_clusters\", \"paul15_clusters\"]).size().reset_index().rename(columns={0:'cell_count'}).\\\n"
     ]
    },
    {
     "data": {
      "text/html": [
       "<style type=\"text/css\">\n",
       "</style>\n",
       "<table id=\"T_e5c5a\">\n",
       "  <thead>\n",
       "    <tr>\n",
       "      <th class=\"blank level0\" >&nbsp;</th>\n",
       "      <th id=\"T_e5c5a_level0_col0\" class=\"col_heading level0 col0\" >cytetype_annotation_paul15_clusters</th>\n",
       "      <th id=\"T_e5c5a_level0_col1\" class=\"col_heading level0 col1\" >paul15_clusters</th>\n",
       "    </tr>\n",
       "  </thead>\n",
       "  <tbody>\n",
       "    <tr>\n",
       "      <th id=\"T_e5c5a_level0_row0\" class=\"row_heading level0 row0\" >76</th>\n",
       "      <td id=\"T_e5c5a_row0_col0\" class=\"data row0 col0\" >Erythroid Progenitor (Hba-a2+)</td>\n",
       "      <td id=\"T_e5c5a_row0_col1\" class=\"data row0 col1\" >1Ery</td>\n",
       "    </tr>\n",
       "    <tr>\n",
       "      <th id=\"T_e5c5a_level0_row1\" class=\"row_heading level0 row1\" >58</th>\n",
       "      <td id=\"T_e5c5a_row1_col0\" class=\"data row1 col0\" >Erythroid Progenitor (Ermap+)</td>\n",
       "      <td id=\"T_e5c5a_row1_col1\" class=\"data row1 col1\" >2Ery</td>\n",
       "    </tr>\n",
       "    <tr>\n",
       "      <th id=\"T_e5c5a_level0_row2\" class=\"row_heading level0 row2\" >97</th>\n",
       "      <td id=\"T_e5c5a_row2_col0\" class=\"data row2 col0\" >Erythroid Progenitor (heme synthesis)</td>\n",
       "      <td id=\"T_e5c5a_row2_col1\" class=\"data row2 col1\" >3Ery</td>\n",
       "    </tr>\n",
       "    <tr>\n",
       "      <th id=\"T_e5c5a_level0_row3\" class=\"row_heading level0 row3\" >41</th>\n",
       "      <td id=\"T_e5c5a_row3_col0\" class=\"data row3 col0\" >Erythroid Progenitor (Car2+)</td>\n",
       "      <td id=\"T_e5c5a_row3_col1\" class=\"data row3 col1\" >4Ery</td>\n",
       "    </tr>\n",
       "    <tr>\n",
       "      <th id=\"T_e5c5a_level0_row4\" class=\"row_heading level0 row4\" >4</th>\n",
       "      <td id=\"T_e5c5a_row4_col0\" class=\"data row4 col0\" >Early Erythroid Progenitor with Megakaryocytic Potential</td>\n",
       "      <td id=\"T_e5c5a_row4_col1\" class=\"data row4 col1\" >5Ery</td>\n",
       "    </tr>\n",
       "    <tr>\n",
       "      <th id=\"T_e5c5a_level0_row5\" class=\"row_heading level0 row5\" >119</th>\n",
       "      <td id=\"T_e5c5a_row5_col0\" class=\"data row5 col0\" >Erythroid Progenitor (ribosomal)</td>\n",
       "      <td id=\"T_e5c5a_row5_col1\" class=\"data row5 col1\" >6Ery</td>\n",
       "    </tr>\n",
       "    <tr>\n",
       "      <th id=\"T_e5c5a_level0_row6\" class=\"row_heading level0 row6\" >215</th>\n",
       "      <td id=\"T_e5c5a_row6_col0\" class=\"data row6 col0\" >Myeloid Progenitor Cell (GATA2+)</td>\n",
       "      <td id=\"T_e5c5a_row6_col1\" class=\"data row6 col1\" >7MEP</td>\n",
       "    </tr>\n",
       "    <tr>\n",
       "      <th id=\"T_e5c5a_level0_row7\" class=\"row_heading level0 row7\" >178</th>\n",
       "      <td id=\"T_e5c5a_row7_col0\" class=\"data row7 col0\" >Megakaryocyte Progenitor</td>\n",
       "      <td id=\"T_e5c5a_row7_col1\" class=\"data row7 col1\" >8Mk</td>\n",
       "    </tr>\n",
       "    <tr>\n",
       "      <th id=\"T_e5c5a_level0_row8\" class=\"row_heading level0 row8\" >236</th>\n",
       "      <td id=\"T_e5c5a_row8_col0\" class=\"data row8 col0\" >Myeloid Progenitor Cell (GPR56+)</td>\n",
       "      <td id=\"T_e5c5a_row8_col1\" class=\"data row8 col1\" >9GMP</td>\n",
       "    </tr>\n",
       "    <tr>\n",
       "      <th id=\"T_e5c5a_level0_row9\" class=\"row_heading level0 row9\" >28</th>\n",
       "      <td id=\"T_e5c5a_row9_col0\" class=\"data row9 col0\" >Early Myeloid Progenitor</td>\n",
       "      <td id=\"T_e5c5a_row9_col1\" class=\"data row9 col1\" >10GMP</td>\n",
       "    </tr>\n",
       "    <tr>\n",
       "      <th id=\"T_e5c5a_level0_row10\" class=\"row_heading level0 row10\" >200</th>\n",
       "      <td id=\"T_e5c5a_row10_col0\" class=\"data row10 col0\" >Myeloid Progenitor Cell (Cd74+)</td>\n",
       "      <td id=\"T_e5c5a_row10_col1\" class=\"data row10 col1\" >11DC</td>\n",
       "    </tr>\n",
       "    <tr>\n",
       "      <th id=\"T_e5c5a_level0_row11\" class=\"row_heading level0 row11\" >353</th>\n",
       "      <td id=\"T_e5c5a_row11_col0\" class=\"data row11 col0\" >Transitioning Myeloid Progenitor</td>\n",
       "      <td id=\"T_e5c5a_row11_col1\" class=\"data row11 col1\" >12Baso</td>\n",
       "    </tr>\n",
       "    <tr>\n",
       "      <th id=\"T_e5c5a_level0_row12\" class=\"row_heading level0 row12\" >259</th>\n",
       "      <td id=\"T_e5c5a_row12_col0\" class=\"data row12 col0\" >Myeloid Progenitor Cell (Prtn3+)</td>\n",
       "      <td id=\"T_e5c5a_row12_col1\" class=\"data row12 col1\" >13Baso</td>\n",
       "    </tr>\n",
       "    <tr>\n",
       "      <th id=\"T_e5c5a_level0_row13\" class=\"row_heading level0 row13\" >298</th>\n",
       "      <td id=\"T_e5c5a_row13_col0\" class=\"data row13 col0\" >Neutrophil Progenitor (Prtn3+)</td>\n",
       "      <td id=\"T_e5c5a_row13_col1\" class=\"data row13 col1\" >14Mo</td>\n",
       "    </tr>\n",
       "    <tr>\n",
       "      <th id=\"T_e5c5a_level0_row14\" class=\"row_heading level0 row14\" >280</th>\n",
       "      <td id=\"T_e5c5a_row14_col0\" class=\"data row14 col0\" >Neutrophil Progenitor (Elane+)</td>\n",
       "      <td id=\"T_e5c5a_row14_col1\" class=\"data row14 col1\" >15Mo</td>\n",
       "    </tr>\n",
       "    <tr>\n",
       "      <th id=\"T_e5c5a_level0_row15\" class=\"row_heading level0 row15\" >319</th>\n",
       "      <td id=\"T_e5c5a_row15_col0\" class=\"data row15 col0\" >Neutrophil Progenitor (early)</td>\n",
       "      <td id=\"T_e5c5a_row15_col1\" class=\"data row15 col1\" >16Neu</td>\n",
       "    </tr>\n",
       "    <tr>\n",
       "      <th id=\"T_e5c5a_level0_row16\" class=\"row_heading level0 row16\" >168</th>\n",
       "      <td id=\"T_e5c5a_row16_col0\" class=\"data row16 col0\" >Granulocyte-Monocyte Progenitor (stress-activated)</td>\n",
       "      <td id=\"T_e5c5a_row16_col1\" class=\"data row16 col1\" >17Neu</td>\n",
       "    </tr>\n",
       "    <tr>\n",
       "      <th id=\"T_e5c5a_level0_row17\" class=\"row_heading level0 row17\" >150</th>\n",
       "      <td id=\"T_e5c5a_row17_col0\" class=\"data row17 col0\" >Granulocyte Progenitor (Cebpe+)</td>\n",
       "      <td id=\"T_e5c5a_row17_col1\" class=\"data row17 col1\" >18Eos</td>\n",
       "    </tr>\n",
       "    <tr>\n",
       "      <th id=\"T_e5c5a_level0_row18\" class=\"row_heading level0 row18\" >341</th>\n",
       "      <td id=\"T_e5c5a_row18_col0\" class=\"data row18 col0\" >Stress-responsive Hematopoietic Progenitor</td>\n",
       "      <td id=\"T_e5c5a_row18_col1\" class=\"data row18 col1\" >19Lymph</td>\n",
       "    </tr>\n",
       "  </tbody>\n",
       "</table>\n"
      ],
      "text/plain": [
       "<pandas.io.formats.style.Styler at 0x79a564e98410>"
      ]
     },
     "execution_count": 21,
     "metadata": {},
     "output_type": "execute_result"
    }
   ],
   "source": [
    "adata.obs.groupby([\"cytetype_annotation_paul15_clusters\", \"paul15_clusters\"]).size().reset_index().rename(columns={0:'cell_count'}).\\\n",
    "    query(\"cell_count>0\").sort_values(\"paul15_clusters\").drop(columns=\"cell_count\").style.background_gradient(axis=None)               "
   ]
  },
  {
   "cell_type": "code",
   "execution_count": 22,
   "id": "97dace3b",
   "metadata": {
    "execution": {
     "iopub.execute_input": "2025-07-17T13:57:40.382636Z",
     "iopub.status.busy": "2025-07-17T13:57:40.382163Z",
     "iopub.status.idle": "2025-07-17T13:57:40.394487Z",
     "shell.execute_reply": "2025-07-17T13:57:40.393528Z"
    },
    "papermill": {
     "duration": 0.031205,
     "end_time": "2025-07-17T13:57:40.396489",
     "exception": false,
     "start_time": "2025-07-17T13:57:40.365284",
     "status": "completed"
    },
    "tags": []
   },
   "outputs": [
    {
     "data": {
      "text/plain": [
       "paul15_fullname                                                \n",
       "14Mo - Late-stage monocytes                                        373\n",
       "2Ery - Intermediate erythroid stage                                329\n",
       "13Baso - Mature basophil progenitors                               300\n",
       "3Ery - Late erythroid / erythroblast                               246\n",
       "15Mo - Mature monocytes                                            186\n",
       "7MEP - Megakaryocyte-Erythroid Progenitor (late stage)             167\n",
       "16Neu - Neutrophil progenitors                                     164\n",
       "4Ery - Terminally differentiating erythrocytes                     124\n",
       "1Ery - Early erythroid progenitors                                  43\n",
       "19Lymph - Lymphoid-like cells (NK/T precursors or contaminants)     31\n",
       "17Neu - Late-stage neutrophils                                      22\n",
       "18Eos - Eosinophil progenitors                                       9\n",
       "Name: count, dtype: int64"
      ]
     },
     "execution_count": 22,
     "metadata": {},
     "output_type": "execute_result"
    }
   ],
   "source": [
    "adata.obs[[\"paul15_fullname\"]].value_counts()"
   ]
  },
  {
   "cell_type": "code",
   "execution_count": 23,
   "id": "e7748311",
   "metadata": {
    "execution": {
     "iopub.execute_input": "2025-07-17T13:57:40.433028Z",
     "iopub.status.busy": "2025-07-17T13:57:40.432416Z",
     "iopub.status.idle": "2025-07-17T13:57:40.448573Z",
     "shell.execute_reply": "2025-07-17T13:57:40.447169Z"
    },
    "papermill": {
     "duration": 0.037736,
     "end_time": "2025-07-17T13:57:40.450648",
     "exception": false,
     "start_time": "2025-07-17T13:57:40.412912",
     "status": "completed"
    },
    "tags": []
   },
   "outputs": [
    {
     "data": {
      "text/plain": [
       "cytetype_annotation_paul15_clusters                 paul15_fullname                                                \n",
       "Neutrophil Progenitor (Prtn3+)                      14Mo - Late-stage monocytes                                        373\n",
       "Erythroid Progenitor (Ermap+)                       2Ery - Intermediate erythroid stage                                329\n",
       "Myeloid Progenitor Cell (Prtn3+)                    13Baso - Mature basophil progenitors                               300\n",
       "Erythroid Progenitor (heme synthesis)               3Ery - Late erythroid / erythroblast                               246\n",
       "Neutrophil Progenitor (Elane+)                      15Mo - Mature monocytes                                            186\n",
       "Myeloid Progenitor Cell (GATA2+)                    7MEP - Megakaryocyte-Erythroid Progenitor (late stage)             167\n",
       "Neutrophil Progenitor (early)                       16Neu - Neutrophil progenitors                                     164\n",
       "Erythroid Progenitor (Car2+)                        4Ery - Terminally differentiating erythrocytes                     124\n",
       "Erythroid Progenitor (Hba-a2+)                      1Ery - Early erythroid progenitors                                  43\n",
       "Stress-responsive Hematopoietic Progenitor          19Lymph - Lymphoid-like cells (NK/T precursors or contaminants)     31\n",
       "Granulocyte-Monocyte Progenitor (stress-activated)  17Neu - Late-stage neutrophils                                      22\n",
       "Granulocyte Progenitor (Cebpe+)                     18Eos - Eosinophil progenitors                                       9\n",
       "Name: count, dtype: int64"
      ]
     },
     "execution_count": 23,
     "metadata": {},
     "output_type": "execute_result"
    }
   ],
   "source": [
    "adata.obs[[\"cytetype_annotation_paul15_clusters\", \"paul15_fullname\"]].value_counts()"
   ]
  },
  {
   "cell_type": "code",
   "execution_count": null,
   "id": "396b5995",
   "metadata": {
    "papermill": {
     "duration": 0.014319,
     "end_time": "2025-07-17T13:57:40.480538",
     "exception": false,
     "start_time": "2025-07-17T13:57:40.466219",
     "status": "completed"
    },
    "tags": []
   },
   "outputs": [],
   "source": []
  },
  {
   "cell_type": "code",
   "execution_count": null,
   "id": "4da293c5",
   "metadata": {
    "papermill": {
     "duration": 0.014874,
     "end_time": "2025-07-17T13:57:40.510607",
     "exception": false,
     "start_time": "2025-07-17T13:57:40.495733",
     "status": "completed"
    },
    "tags": []
   },
   "outputs": [],
   "source": []
  },
  {
   "cell_type": "markdown",
   "id": "6890bdb2",
   "metadata": {
    "papermill": {
     "duration": 0.014203,
     "end_time": "2025-07-17T13:57:40.541215",
     "exception": false,
     "start_time": "2025-07-17T13:57:40.527012",
     "status": "completed"
    },
    "tags": []
   },
   "source": []
  },
  {
   "cell_type": "code",
   "execution_count": 24,
   "id": "03dd7daf",
   "metadata": {
    "execution": {
     "iopub.execute_input": "2025-07-17T13:57:40.572439Z",
     "iopub.status.busy": "2025-07-17T13:57:40.571816Z",
     "iopub.status.idle": "2025-07-17T13:57:40.588516Z",
     "shell.execute_reply": "2025-07-17T13:57:40.587530Z"
    },
    "id": "JRCdxlH_JSll",
    "papermill": {
     "duration": 0.034725,
     "end_time": "2025-07-17T13:57:40.590030",
     "exception": false,
     "start_time": "2025-07-17T13:57:40.555305",
     "status": "completed"
    },
    "tags": []
   },
   "outputs": [
    {
     "name": "stderr",
     "output_type": "stream",
     "text": [
      "/usr/local/lib/python3.11/dist-packages/pandas/io/formats/format.py:1458: RuntimeWarning: invalid value encountered in greater\n",
      "  has_large_values = (abs_vals > 1e6).any()\n",
      "/usr/local/lib/python3.11/dist-packages/pandas/io/formats/format.py:1459: RuntimeWarning: invalid value encountered in less\n",
      "  has_small_values = ((abs_vals < 10 ** (-self.digits)) & (abs_vals > 0)).any()\n",
      "/usr/local/lib/python3.11/dist-packages/pandas/io/formats/format.py:1459: RuntimeWarning: invalid value encountered in greater\n",
      "  has_small_values = ((abs_vals < 10 ** (-self.digits)) & (abs_vals > 0)).any()\n"
     ]
    },
    {
     "data": {
      "text/html": [
       "<div>\n",
       "<style scoped>\n",
       "    .dataframe tbody tr th:only-of-type {\n",
       "        vertical-align: middle;\n",
       "    }\n",
       "\n",
       "    .dataframe tbody tr th {\n",
       "        vertical-align: top;\n",
       "    }\n",
       "\n",
       "    .dataframe thead th {\n",
       "        text-align: right;\n",
       "    }\n",
       "</style>\n",
       "<table border=\"1\" class=\"dataframe\">\n",
       "  <thead>\n",
       "    <tr style=\"text-align: right;\">\n",
       "      <th></th>\n",
       "      <th>paul15_clusters</th>\n",
       "      <th>leiden</th>\n",
       "      <th>cytetype_annotation_paul15_clusters</th>\n",
       "      <th>cytetype_cellOntologyTerm_paul15_clusters</th>\n",
       "      <th>true_broad</th>\n",
       "      <th>paul15_fullname</th>\n",
       "    </tr>\n",
       "  </thead>\n",
       "  <tbody>\n",
       "    <tr>\n",
       "      <th>W31105</th>\n",
       "      <td>7MEP</td>\n",
       "      <td>6</td>\n",
       "      <td>Myeloid Progenitor Cell (GATA2+)</td>\n",
       "      <td>CL_0000839</td>\n",
       "      <td>NaN</td>\n",
       "      <td>7MEP - Megakaryocyte-Erythroid Progenitor (lat...</td>\n",
       "    </tr>\n",
       "    <tr>\n",
       "      <th>W31106</th>\n",
       "      <td>15Mo</td>\n",
       "      <td>7</td>\n",
       "      <td>Neutrophil Progenitor (Elane+)</td>\n",
       "      <td>CL_0000834</td>\n",
       "      <td>NaN</td>\n",
       "      <td>15Mo - Mature monocytes</td>\n",
       "    </tr>\n",
       "    <tr>\n",
       "      <th>W31107</th>\n",
       "      <td>3Ery</td>\n",
       "      <td>1</td>\n",
       "      <td>Erythroid Progenitor (heme synthesis)</td>\n",
       "      <td>CL_0000038</td>\n",
       "      <td>NaN</td>\n",
       "      <td>3Ery - Late erythroid / erythroblast</td>\n",
       "    </tr>\n",
       "    <tr>\n",
       "      <th>W31108</th>\n",
       "      <td>15Mo</td>\n",
       "      <td>3</td>\n",
       "      <td>Neutrophil Progenitor (Elane+)</td>\n",
       "      <td>CL_0000834</td>\n",
       "      <td>NaN</td>\n",
       "      <td>15Mo - Mature monocytes</td>\n",
       "    </tr>\n",
       "    <tr>\n",
       "      <th>W31109</th>\n",
       "      <td>3Ery</td>\n",
       "      <td>1</td>\n",
       "      <td>Erythroid Progenitor (heme synthesis)</td>\n",
       "      <td>CL_0000038</td>\n",
       "      <td>NaN</td>\n",
       "      <td>3Ery - Late erythroid / erythroblast</td>\n",
       "    </tr>\n",
       "    <tr>\n",
       "      <th>...</th>\n",
       "      <td>...</td>\n",
       "      <td>...</td>\n",
       "      <td>...</td>\n",
       "      <td>...</td>\n",
       "      <td>...</td>\n",
       "      <td>...</td>\n",
       "    </tr>\n",
       "    <tr>\n",
       "      <th>W39164</th>\n",
       "      <td>2Ery</td>\n",
       "      <td>0</td>\n",
       "      <td>Erythroid Progenitor (Ermap+)</td>\n",
       "      <td>CL_0000038</td>\n",
       "      <td>NaN</td>\n",
       "      <td>2Ery - Intermediate erythroid stage</td>\n",
       "    </tr>\n",
       "    <tr>\n",
       "      <th>W39165</th>\n",
       "      <td>13Baso</td>\n",
       "      <td>4</td>\n",
       "      <td>Myeloid Progenitor Cell (Prtn3+)</td>\n",
       "      <td>CL_0000839</td>\n",
       "      <td>NaN</td>\n",
       "      <td>13Baso - Mature basophil progenitors</td>\n",
       "    </tr>\n",
       "    <tr>\n",
       "      <th>W39166</th>\n",
       "      <td>7MEP</td>\n",
       "      <td>6</td>\n",
       "      <td>Myeloid Progenitor Cell (GATA2+)</td>\n",
       "      <td>CL_0000839</td>\n",
       "      <td>NaN</td>\n",
       "      <td>7MEP - Megakaryocyte-Erythroid Progenitor (lat...</td>\n",
       "    </tr>\n",
       "    <tr>\n",
       "      <th>W39167</th>\n",
       "      <td>15Mo</td>\n",
       "      <td>3</td>\n",
       "      <td>Neutrophil Progenitor (Elane+)</td>\n",
       "      <td>CL_0000834</td>\n",
       "      <td>NaN</td>\n",
       "      <td>15Mo - Mature monocytes</td>\n",
       "    </tr>\n",
       "    <tr>\n",
       "      <th>W39168</th>\n",
       "      <td>3Ery</td>\n",
       "      <td>1</td>\n",
       "      <td>Erythroid Progenitor (heme synthesis)</td>\n",
       "      <td>CL_0000038</td>\n",
       "      <td>NaN</td>\n",
       "      <td>3Ery - Late erythroid / erythroblast</td>\n",
       "    </tr>\n",
       "  </tbody>\n",
       "</table>\n",
       "<p>2730 rows × 6 columns</p>\n",
       "</div>"
      ],
      "text/plain": [
       "       paul15_clusters leiden    cytetype_annotation_paul15_clusters  \\\n",
       "W31105            7MEP      6       Myeloid Progenitor Cell (GATA2+)   \n",
       "W31106            15Mo      7         Neutrophil Progenitor (Elane+)   \n",
       "W31107            3Ery      1  Erythroid Progenitor (heme synthesis)   \n",
       "W31108            15Mo      3         Neutrophil Progenitor (Elane+)   \n",
       "W31109            3Ery      1  Erythroid Progenitor (heme synthesis)   \n",
       "...                ...    ...                                    ...   \n",
       "W39164            2Ery      0          Erythroid Progenitor (Ermap+)   \n",
       "W39165          13Baso      4       Myeloid Progenitor Cell (Prtn3+)   \n",
       "W39166            7MEP      6       Myeloid Progenitor Cell (GATA2+)   \n",
       "W39167            15Mo      3         Neutrophil Progenitor (Elane+)   \n",
       "W39168            3Ery      1  Erythroid Progenitor (heme synthesis)   \n",
       "\n",
       "       cytetype_cellOntologyTerm_paul15_clusters  true_broad  \\\n",
       "W31105                                CL_0000839         NaN   \n",
       "W31106                                CL_0000834         NaN   \n",
       "W31107                                CL_0000038         NaN   \n",
       "W31108                                CL_0000834         NaN   \n",
       "W31109                                CL_0000038         NaN   \n",
       "...                                          ...         ...   \n",
       "W39164                                CL_0000038         NaN   \n",
       "W39165                                CL_0000839         NaN   \n",
       "W39166                                CL_0000839         NaN   \n",
       "W39167                                CL_0000834         NaN   \n",
       "W39168                                CL_0000038         NaN   \n",
       "\n",
       "                                          paul15_fullname  \n",
       "W31105  7MEP - Megakaryocyte-Erythroid Progenitor (lat...  \n",
       "W31106                            15Mo - Mature monocytes  \n",
       "W31107               3Ery - Late erythroid / erythroblast  \n",
       "W31108                            15Mo - Mature monocytes  \n",
       "W31109               3Ery - Late erythroid / erythroblast  \n",
       "...                                                   ...  \n",
       "W39164                2Ery - Intermediate erythroid stage  \n",
       "W39165               13Baso - Mature basophil progenitors  \n",
       "W39166  7MEP - Megakaryocyte-Erythroid Progenitor (lat...  \n",
       "W39167                            15Mo - Mature monocytes  \n",
       "W39168               3Ery - Late erythroid / erythroblast  \n",
       "\n",
       "[2730 rows x 6 columns]"
      ]
     },
     "execution_count": 24,
     "metadata": {},
     "output_type": "execute_result"
    }
   ],
   "source": [
    "adata.obs"
   ]
  },
  {
   "cell_type": "code",
   "execution_count": 25,
   "id": "e64d35e1",
   "metadata": {
    "execution": {
     "iopub.execute_input": "2025-07-17T13:57:40.620928Z",
     "iopub.status.busy": "2025-07-17T13:57:40.620558Z",
     "iopub.status.idle": "2025-07-17T13:57:40.625975Z",
     "shell.execute_reply": "2025-07-17T13:57:40.624913Z"
    },
    "id": "T3ek2k08693s",
    "papermill": {
     "duration": 0.023134,
     "end_time": "2025-07-17T13:57:40.627638",
     "exception": false,
     "start_time": "2025-07-17T13:57:40.604504",
     "status": "completed"
    },
    "tags": []
   },
   "outputs": [],
   "source": [
    "#sc.pl.embedding(adata, basis='umap', color='cytetype_annotation_cell_type')"
   ]
  },
  {
   "cell_type": "code",
   "execution_count": null,
   "id": "c4f5abe6",
   "metadata": {
    "id": "974e4433",
    "papermill": {
     "duration": 0.015857,
     "end_time": "2025-07-17T13:57:40.661382",
     "exception": false,
     "start_time": "2025-07-17T13:57:40.645525",
     "status": "completed"
    },
    "tags": []
   },
   "outputs": [],
   "source": []
  },
  {
   "cell_type": "markdown",
   "id": "1ff2e922",
   "metadata": {
    "id": "a797a3f0",
    "papermill": {
     "duration": 0.013993,
     "end_time": "2025-07-17T13:57:40.689970",
     "exception": false,
     "start_time": "2025-07-17T13:57:40.675977",
     "status": "completed"
    },
    "tags": []
   },
   "source": [
    "## What if we give the wrong description?\n",
    "\n",
    "Let's give a wrong instruction to CyteType, for example by saying that this is a retina dataset in Zebrafish, to see if it still returns good results"
   ]
  },
  {
   "cell_type": "markdown",
   "id": "b6023de2",
   "metadata": {
    "id": "3dbf2caf",
    "papermill": {
     "duration": 0.01529,
     "end_time": "2025-07-17T13:57:40.720747",
     "exception": false,
     "start_time": "2025-07-17T13:57:40.705457",
     "status": "completed"
    },
    "tags": []
   },
   "source": []
  },
  {
   "cell_type": "code",
   "execution_count": 26,
   "id": "edd253be",
   "metadata": {
    "execution": {
     "iopub.execute_input": "2025-07-17T13:57:40.750769Z",
     "iopub.status.busy": "2025-07-17T13:57:40.750423Z",
     "iopub.status.idle": "2025-07-17T13:57:41.167054Z",
     "shell.execute_reply": "2025-07-17T13:57:41.165670Z"
    },
    "id": "97b86b95",
    "papermill": {
     "duration": 0.433706,
     "end_time": "2025-07-17T13:57:41.168797",
     "exception": false,
     "start_time": "2025-07-17T13:57:40.735091",
     "status": "completed"
    },
    "tags": []
   },
   "outputs": [
    {
     "name": "stdout",
     "output_type": "stream",
     "text": [
      "Using coordinates from 'X_pca' for visualization.\n",
      "Calculating expression percentages.\n",
      "Extracting marker genes.\n",
      "Preparing visualization data with sampling.\n",
      "Using first 2 dimensions of 'X_pca' for visualization.\n",
      "Extracted 2730 coordinate points (sampled from 2730 total cells)\n",
      "Data preparation completed. Ready for submitting jobs.\n"
     ]
    }
   ],
   "source": [
    "adata2 = adata.copy()\n",
    "# Initialize CyteType (performs data preparation)\n",
    "annotator = cytetype.CyteType(\n",
    "    adata2,\n",
    "    group_key='paul15_clusters',\n",
    "    rank_key='rank_genes_groups',\n",
    "    gene_symbols_column='gene_symbols',\n",
    "    n_top_genes=50,\n",
    ")"
   ]
  },
  {
   "cell_type": "code",
   "execution_count": 27,
   "id": "3ece8ef7",
   "metadata": {
    "execution": {
     "iopub.execute_input": "2025-07-17T13:57:41.202926Z",
     "iopub.status.busy": "2025-07-17T13:57:41.202606Z",
     "iopub.status.idle": "2025-07-17T14:08:06.628772Z",
     "shell.execute_reply": "2025-07-17T14:08:06.627765Z"
    },
    "id": "b788d07e",
    "papermill": {
     "duration": 625.455235,
     "end_time": "2025-07-17T14:08:06.640328",
     "exception": false,
     "start_time": "2025-07-17T13:57:41.185093",
     "status": "completed"
    },
    "tags": []
   },
   "outputs": [
    {
     "name": "stdout",
     "output_type": "stream",
     "text": [
      "CyteType job (id: e24e9f07-29e2-484c-8b7f-038e95de8b72) submitted. Polling for results...\n",
      "Report (updates automatically) available at: https://nygen-labs-prod--cytetype-api.modal.run/report/e24e9f07-29e2-484c-8b7f-038e95de8b72\n",
      "If network disconnects, the results can be fetched like this:\n",
      "`results = annotator.get_results()`\n",
      "250717:1357:46 |INFO| [STARTING WORKFLOWS]: Job ID: e24e9f07-29e2-484c-8b7f-038e95de8b72\n",
      "250717:1357:46 |INFO| [WORKFLOW STEP 1/3]: Generating context summary\n",
      "250717:1358:00 |INFO| [WORKFLOW STEP 2/3]: Running annotation pipeline for each cluster\n",
      "250717:1359:07 |SUCCESS| [Cluster: 1] Annotation completed in 43.60s after 1 attempt(s) and 59942 tokens used\n",
      "250717:1359:17 |SUCCESS| [Cluster: 4] Annotation completed in 51.78s after 1 attempt(s) and 66244 tokens used\n",
      "250717:1359:29 |SUCCESS| [Cluster: 2] Annotation completed in 66.62s after 1 attempt(s) and 59356 tokens used\n",
      "250717:1400:23 |SUCCESS| [Cluster: 5] Annotation completed in 117.41s after 2 attempt(s) and 111197 tokens used\n",
      "250717:1400:37 |SUCCESS| [Cluster: 3] Annotation completed in 126.79s after 2 attempt(s) and 118338 tokens used\n",
      "250717:1400:55 |SUCCESS| [Cluster: 7] Annotation completed in 71.62s after 1 attempt(s) and 66833 tokens used\n",
      "250717:1401:36 |SUCCESS| [Cluster: 8] Annotation completed in 108.49s after 2 attempt(s) and 107652 tokens used\n",
      "250717:1401:49 |SUCCESS| [Cluster: 6] Annotation completed in 122.19s after 2 attempt(s) and 118945 tokens used\n",
      "250717:1402:28 |SUCCESS| [Cluster: 11] Annotation completed in 69.11s after 1 attempt(s) and 67945 tokens used\n",
      "250717:1402:45 |SUCCESS| [Cluster: 9] Annotation completed in 113.23s after 2 attempt(s) and 108968 tokens used\n",
      "250717:1403:07 |SUCCESS| [Cluster: 10] Annotation completed in 133.99s after 2 attempt(s) and 111723 tokens used\n",
      "250717:1403:47 |SUCCESS| [Cluster: 12] Annotation completed in 104.42s after 2 attempt(s) and 118817 tokens used\n",
      "250717:1404:00 |SUCCESS| [Cluster: 13] Annotation completed in 115.32s after 2 attempt(s) and 113863 tokens used\n",
      "250717:1404:08 |SUCCESS| [Cluster: 14] Annotation completed in 83.40s after 1 attempt(s) and 69431 tokens used\n",
      "250717:1404:39 |SUCCESS| [Cluster: 16] Annotation completed in 75.42s after 1 attempt(s) and 67052 tokens used\n",
      "250717:1404:55 |SUCCESS| [Cluster: 15] Annotation completed in 112.42s after 2 attempt(s) and 107242 tokens used\n",
      "250717:1405:36 |SUCCESS| [Cluster: 18] Annotation completed in 65.16s after 2 attempt(s) and 110756 tokens used\n",
      "250717:1405:46 |SUCCESS| [Cluster: 19] Annotation completed in 75.62s after 2 attempt(s) and 113387 tokens used\n",
      "250717:1407:02 |SUCCESS| [Cluster: 17] Annotation completed in 151.35s after 2 attempt(s) and 118751 tokens used\n",
      "250717:1407:10 |INFO| [WORKFLOW STEP 3/3]: Generating summary\n",
      "250717:1407:27 |SUCCESS| [WORKFLOW COMPLETION]: Workflow completed successfully\n",
      "Job e24e9f07-29e2-484c-8b7f-038e95de8b72 completed successfully.\n",
      "Annotations successfully added to `adata.obs['cytetype_annotation_paul15_clusters']` , ontology term added to `adata.obs['cytetype_cellOntologyTerm_paul15_clusters']` and, full results added to `adata.uns['cytetype_results']`.\n"
     ]
    }
   ],
   "source": [
    "adata2 = annotator.run(\n",
    "    study_context=\"Zebrafish retina development during embryogenesis\"\n",
    ")\n"
   ]
  },
  {
   "cell_type": "code",
   "execution_count": 28,
   "id": "f86584b0",
   "metadata": {
    "execution": {
     "iopub.execute_input": "2025-07-17T14:08:06.673795Z",
     "iopub.status.busy": "2025-07-17T14:08:06.673444Z",
     "iopub.status.idle": "2025-07-17T14:08:06.677627Z",
     "shell.execute_reply": "2025-07-17T14:08:06.676612Z"
    },
    "id": "9b2df583",
    "papermill": {
     "duration": 0.022808,
     "end_time": "2025-07-17T14:08:06.679086",
     "exception": false,
     "start_time": "2025-07-17T14:08:06.656278",
     "status": "completed"
    },
    "tags": []
   },
   "outputs": [],
   "source": [
    "# adata2.obs[\"true_broad\"] = adata2.obs[\"paul15_clusters\"].map(label_map)\n",
    "\n",
    "# pd.crosstab(adata2.obs[\"true_broad\"], adata2.obs[\"cytetype_paul15_clusters\"], normalize='index')\n"
   ]
  },
  {
   "cell_type": "code",
   "execution_count": 29,
   "id": "55a68587",
   "metadata": {
    "execution": {
     "iopub.execute_input": "2025-07-17T14:08:06.713319Z",
     "iopub.status.busy": "2025-07-17T14:08:06.712965Z",
     "iopub.status.idle": "2025-07-17T14:08:06.717177Z",
     "shell.execute_reply": "2025-07-17T14:08:06.716214Z"
    },
    "id": "0a7e3aa2",
    "papermill": {
     "duration": 0.023547,
     "end_time": "2025-07-17T14:08:06.718846",
     "exception": false,
     "start_time": "2025-07-17T14:08:06.695299",
     "status": "completed"
    },
    "tags": []
   },
   "outputs": [],
   "source": [
    "# adata2.obs[\"paul15_fullname\"] = adata2.obs[\"paul15_clusters\"].map(paul15_label_fullname)\n"
   ]
  },
  {
   "cell_type": "code",
   "execution_count": 30,
   "id": "442b9910",
   "metadata": {
    "execution": {
     "iopub.execute_input": "2025-07-17T14:08:06.752849Z",
     "iopub.status.busy": "2025-07-17T14:08:06.752547Z",
     "iopub.status.idle": "2025-07-17T14:08:06.757210Z",
     "shell.execute_reply": "2025-07-17T14:08:06.756046Z"
    },
    "id": "29e6f65b",
    "papermill": {
     "duration": 0.023849,
     "end_time": "2025-07-17T14:08:06.758883",
     "exception": false,
     "start_time": "2025-07-17T14:08:06.735034",
     "status": "completed"
    },
    "tags": []
   },
   "outputs": [],
   "source": [
    "# # Create normalized confusion matrix\n",
    "# conf_mat = pd.crosstab(\n",
    "#     adata2.obs[\"true_broad\"],\n",
    "#     adata2.obs[\"cytetype_paul15_clusters\"],\n",
    "#     normalize='index'\n",
    "# )\n",
    "\n",
    "# # Plot with seaborn\n",
    "# plt.figure(figsize=(10, 6))\n",
    "# sns.heatmap(conf_mat, annot=True, cmap=\"Blues\", fmt=\".2f\", cbar=True)\n",
    "# plt.title(\"CyteType vs Paul15 Broad Cell Type Mapping\")\n",
    "# plt.ylabel(\"True Label (Paul15 Broad)\")\n",
    "# plt.xlabel(\"Predicted Label (CyteType)\")\n",
    "# plt.tight_layout()\n",
    "# plt.show()"
   ]
  },
  {
   "cell_type": "code",
   "execution_count": 31,
   "id": "a993153e",
   "metadata": {
    "execution": {
     "iopub.execute_input": "2025-07-17T14:08:06.792891Z",
     "iopub.status.busy": "2025-07-17T14:08:06.792575Z",
     "iopub.status.idle": "2025-07-17T14:08:06.797029Z",
     "shell.execute_reply": "2025-07-17T14:08:06.796237Z"
    },
    "id": "d27dd87a",
    "papermill": {
     "duration": 0.023295,
     "end_time": "2025-07-17T14:08:06.798424",
     "exception": false,
     "start_time": "2025-07-17T14:08:06.775129",
     "status": "completed"
    },
    "tags": []
   },
   "outputs": [],
   "source": [
    "# # Let's also look at the Confusion matrix with the original cluster names\n",
    "# conf_mat_original = pd.crosstab(adata2.obs[\"paul15_clusters\"], adata2.obs[\"cytetype_paul15_clusters\"], normalize='index')\n",
    "# conf_mat_original\n",
    "\n",
    "\n",
    "\n",
    "# # Step 3: Define full-name order\n",
    "# manual_order_full = list(paul15_label_fullname.values())\n",
    "\n",
    "\n",
    "# # Step 4: Create and reorder confusion matrix\n",
    "# conf_mat_full = pd.crosstab(\n",
    "#     adata2.obs[\"paul15_fullname\"],\n",
    "#     adata2.obs[\"cytetype_paul15_clusters\"],\n",
    "#     normalize='index'\n",
    "# )\n",
    "# # Only keep labels that exist in the confusion matrix\n",
    "# existing_labels = [label for label in manual_order_full if label in conf_mat_full.index]\n",
    "\n",
    "# # Reorder based on existing labels only\n",
    "# conf_mat_ordered = conf_mat_full.loc[existing_labels]\n",
    "\n",
    "# # Optional: reorder columns if matching set\n",
    "# if all(label in conf_mat_ordered.columns for label in manual_order_full):\n",
    "#     conf_mat_ordered = conf_mat_ordered[manual_order_full]"
   ]
  },
  {
   "cell_type": "code",
   "execution_count": 32,
   "id": "37d317bd",
   "metadata": {
    "execution": {
     "iopub.execute_input": "2025-07-17T14:08:06.832687Z",
     "iopub.status.busy": "2025-07-17T14:08:06.832376Z",
     "iopub.status.idle": "2025-07-17T14:08:06.836931Z",
     "shell.execute_reply": "2025-07-17T14:08:06.835925Z"
    },
    "id": "5ed7bcc5",
    "papermill": {
     "duration": 0.023377,
     "end_time": "2025-07-17T14:08:06.838595",
     "exception": false,
     "start_time": "2025-07-17T14:08:06.815218",
     "status": "completed"
    },
    "tags": []
   },
   "outputs": [],
   "source": [
    "# import seaborn as sns\n",
    "# import matplotlib.pyplot as plt\n",
    "\n",
    "# plt.figure(figsize=(12, 10))\n",
    "# sns.heatmap(conf_mat_ordered, annot=True, fmt=\".2f\", cmap=\"Blues\", cbar=True)\n",
    "\n",
    "# plt.title(\"Confusion Matrix (Original Cluster Names, Ordered by Manual Mapping) - using a wrong study context\")\n",
    "# plt.xlabel(\"Predicted Label\")\n",
    "# plt.ylabel(\"Original Cluster\")\n",
    "# plt.xticks(rotation=90)\n",
    "# plt.yticks(rotation=0)\n",
    "# plt.tight_layout()\n",
    "# plt.show()\n"
   ]
  }
 ],
 "metadata": {
  "colab": {
   "provenance": []
  },
  "kaggle": {
   "accelerator": "none",
   "dataSources": [],
   "dockerImageVersionId": 31089,
   "isGpuEnabled": false,
   "isInternetEnabled": true,
   "language": "python",
   "sourceType": "notebook"
  },
  "kernelspec": {
   "display_name": "Python 3",
   "language": "python",
   "name": "python3"
  },
  "language_info": {
   "codemirror_mode": {
    "name": "ipython",
    "version": 3
   },
   "file_extension": ".py",
   "mimetype": "text/x-python",
   "name": "python",
   "nbconvert_exporter": "python",
   "pygments_lexer": "ipython3",
   "version": "3.11.13"
  },
  "papermill": {
   "default_parameters": {},
   "duration": 1110.891841,
   "end_time": "2025-07-17T14:08:10.487686",
   "environment_variables": {},
   "exception": null,
   "input_path": "__notebook__.ipynb",
   "output_path": "__notebook__.ipynb",
   "parameters": {},
   "start_time": "2025-07-17T13:49:39.595845",
   "version": "2.6.0"
  },
  "widgets": {
   "application/vnd.jupyter.widget-state+json": {
    "state": {
     "20e833c28aa24108a92d12cab4efded6": {
      "model_module": "@jupyter-widgets/controls",
      "model_module_version": "2.0.0",
      "model_name": "HTMLModel",
      "state": {
       "_dom_classes": [],
       "_model_module": "@jupyter-widgets/controls",
       "_model_module_version": "2.0.0",
       "_model_name": "HTMLModel",
       "_view_count": null,
       "_view_module": "@jupyter-widgets/controls",
       "_view_module_version": "2.0.0",
       "_view_name": "HTMLView",
       "description": "",
       "description_allow_html": false,
       "layout": "IPY_MODEL_30df9f089040494e9e53406de1ec700a",
       "placeholder": "​",
       "style": "IPY_MODEL_c5f13024e4e048a5b3b76deb141359d2",
       "tabbable": null,
       "tooltip": null,
       "value": "100%"
      }
     },
     "30df9f089040494e9e53406de1ec700a": {
      "model_module": "@jupyter-widgets/base",
      "model_module_version": "2.0.0",
      "model_name": "LayoutModel",
      "state": {
       "_model_module": "@jupyter-widgets/base",
       "_model_module_version": "2.0.0",
       "_model_name": "LayoutModel",
       "_view_count": null,
       "_view_module": "@jupyter-widgets/base",
       "_view_module_version": "2.0.0",
       "_view_name": "LayoutView",
       "align_content": null,
       "align_items": null,
       "align_self": null,
       "border_bottom": null,
       "border_left": null,
       "border_right": null,
       "border_top": null,
       "bottom": null,
       "display": null,
       "flex": null,
       "flex_flow": null,
       "grid_area": null,
       "grid_auto_columns": null,
       "grid_auto_flow": null,
       "grid_auto_rows": null,
       "grid_column": null,
       "grid_gap": null,
       "grid_row": null,
       "grid_template_areas": null,
       "grid_template_columns": null,
       "grid_template_rows": null,
       "height": null,
       "justify_content": null,
       "justify_items": null,
       "left": null,
       "margin": null,
       "max_height": null,
       "max_width": null,
       "min_height": null,
       "min_width": null,
       "object_fit": null,
       "object_position": null,
       "order": null,
       "overflow": null,
       "padding": null,
       "right": null,
       "top": null,
       "visibility": null,
       "width": null
      }
     },
     "52e32b6ce0e74c24be8d49b29c4a1f46": {
      "model_module": "@jupyter-widgets/base",
      "model_module_version": "2.0.0",
      "model_name": "LayoutModel",
      "state": {
       "_model_module": "@jupyter-widgets/base",
       "_model_module_version": "2.0.0",
       "_model_name": "LayoutModel",
       "_view_count": null,
       "_view_module": "@jupyter-widgets/base",
       "_view_module_version": "2.0.0",
       "_view_name": "LayoutView",
       "align_content": null,
       "align_items": null,
       "align_self": null,
       "border_bottom": null,
       "border_left": null,
       "border_right": null,
       "border_top": null,
       "bottom": null,
       "display": null,
       "flex": null,
       "flex_flow": null,
       "grid_area": null,
       "grid_auto_columns": null,
       "grid_auto_flow": null,
       "grid_auto_rows": null,
       "grid_column": null,
       "grid_gap": null,
       "grid_row": null,
       "grid_template_areas": null,
       "grid_template_columns": null,
       "grid_template_rows": null,
       "height": null,
       "justify_content": null,
       "justify_items": null,
       "left": null,
       "margin": null,
       "max_height": null,
       "max_width": null,
       "min_height": null,
       "min_width": null,
       "object_fit": null,
       "object_position": null,
       "order": null,
       "overflow": null,
       "padding": null,
       "right": null,
       "top": null,
       "visibility": null,
       "width": null
      }
     },
     "7ea55190881844cd9a18967d77c236ba": {
      "model_module": "@jupyter-widgets/controls",
      "model_module_version": "2.0.0",
      "model_name": "HBoxModel",
      "state": {
       "_dom_classes": [],
       "_model_module": "@jupyter-widgets/controls",
       "_model_module_version": "2.0.0",
       "_model_name": "HBoxModel",
       "_view_count": null,
       "_view_module": "@jupyter-widgets/controls",
       "_view_module_version": "2.0.0",
       "_view_name": "HBoxView",
       "box_style": "",
       "children": [
        "IPY_MODEL_20e833c28aa24108a92d12cab4efded6",
        "IPY_MODEL_bbfc44e1e200449295e0e3252b9237d7",
        "IPY_MODEL_f900fefe8e454a33919761ba0b3f368d"
       ],
       "layout": "IPY_MODEL_52e32b6ce0e74c24be8d49b29c4a1f46",
       "tabbable": null,
       "tooltip": null
      }
     },
     "91d89ce83d8241109729714f18a864d9": {
      "model_module": "@jupyter-widgets/controls",
      "model_module_version": "2.0.0",
      "model_name": "ProgressStyleModel",
      "state": {
       "_model_module": "@jupyter-widgets/controls",
       "_model_module_version": "2.0.0",
       "_model_name": "ProgressStyleModel",
       "_view_count": null,
       "_view_module": "@jupyter-widgets/base",
       "_view_module_version": "2.0.0",
       "_view_name": "StyleView",
       "bar_color": null,
       "description_width": ""
      }
     },
     "9a4bec16486543088ba142f94a13f1fb": {
      "model_module": "@jupyter-widgets/controls",
      "model_module_version": "2.0.0",
      "model_name": "HTMLStyleModel",
      "state": {
       "_model_module": "@jupyter-widgets/controls",
       "_model_module_version": "2.0.0",
       "_model_name": "HTMLStyleModel",
       "_view_count": null,
       "_view_module": "@jupyter-widgets/base",
       "_view_module_version": "2.0.0",
       "_view_name": "StyleView",
       "background": null,
       "description_width": "",
       "font_size": null,
       "text_color": null
      }
     },
     "9a5235056dc04f97bdc38de170177d44": {
      "model_module": "@jupyter-widgets/base",
      "model_module_version": "2.0.0",
      "model_name": "LayoutModel",
      "state": {
       "_model_module": "@jupyter-widgets/base",
       "_model_module_version": "2.0.0",
       "_model_name": "LayoutModel",
       "_view_count": null,
       "_view_module": "@jupyter-widgets/base",
       "_view_module_version": "2.0.0",
       "_view_name": "LayoutView",
       "align_content": null,
       "align_items": null,
       "align_self": null,
       "border_bottom": null,
       "border_left": null,
       "border_right": null,
       "border_top": null,
       "bottom": null,
       "display": null,
       "flex": null,
       "flex_flow": null,
       "grid_area": null,
       "grid_auto_columns": null,
       "grid_auto_flow": null,
       "grid_auto_rows": null,
       "grid_column": null,
       "grid_gap": null,
       "grid_row": null,
       "grid_template_areas": null,
       "grid_template_columns": null,
       "grid_template_rows": null,
       "height": null,
       "justify_content": null,
       "justify_items": null,
       "left": null,
       "margin": null,
       "max_height": null,
       "max_width": null,
       "min_height": null,
       "min_width": null,
       "object_fit": null,
       "object_position": null,
       "order": null,
       "overflow": null,
       "padding": null,
       "right": null,
       "top": null,
       "visibility": null,
       "width": null
      }
     },
     "a3749631043b4169840890dc40f0cf1b": {
      "model_module": "@jupyter-widgets/base",
      "model_module_version": "2.0.0",
      "model_name": "LayoutModel",
      "state": {
       "_model_module": "@jupyter-widgets/base",
       "_model_module_version": "2.0.0",
       "_model_name": "LayoutModel",
       "_view_count": null,
       "_view_module": "@jupyter-widgets/base",
       "_view_module_version": "2.0.0",
       "_view_name": "LayoutView",
       "align_content": null,
       "align_items": null,
       "align_self": null,
       "border_bottom": null,
       "border_left": null,
       "border_right": null,
       "border_top": null,
       "bottom": null,
       "display": null,
       "flex": null,
       "flex_flow": null,
       "grid_area": null,
       "grid_auto_columns": null,
       "grid_auto_flow": null,
       "grid_auto_rows": null,
       "grid_column": null,
       "grid_gap": null,
       "grid_row": null,
       "grid_template_areas": null,
       "grid_template_columns": null,
       "grid_template_rows": null,
       "height": null,
       "justify_content": null,
       "justify_items": null,
       "left": null,
       "margin": null,
       "max_height": null,
       "max_width": null,
       "min_height": null,
       "min_width": null,
       "object_fit": null,
       "object_position": null,
       "order": null,
       "overflow": null,
       "padding": null,
       "right": null,
       "top": null,
       "visibility": null,
       "width": null
      }
     },
     "bbfc44e1e200449295e0e3252b9237d7": {
      "model_module": "@jupyter-widgets/controls",
      "model_module_version": "2.0.0",
      "model_name": "FloatProgressModel",
      "state": {
       "_dom_classes": [],
       "_model_module": "@jupyter-widgets/controls",
       "_model_module_version": "2.0.0",
       "_model_name": "FloatProgressModel",
       "_view_count": null,
       "_view_module": "@jupyter-widgets/controls",
       "_view_module_version": "2.0.0",
       "_view_name": "ProgressView",
       "bar_style": "success",
       "description": "",
       "description_allow_html": false,
       "layout": "IPY_MODEL_a3749631043b4169840890dc40f0cf1b",
       "max": 10297693.0,
       "min": 0.0,
       "orientation": "horizontal",
       "style": "IPY_MODEL_91d89ce83d8241109729714f18a864d9",
       "tabbable": null,
       "tooltip": null,
       "value": 10297693.0
      }
     },
     "c5f13024e4e048a5b3b76deb141359d2": {
      "model_module": "@jupyter-widgets/controls",
      "model_module_version": "2.0.0",
      "model_name": "HTMLStyleModel",
      "state": {
       "_model_module": "@jupyter-widgets/controls",
       "_model_module_version": "2.0.0",
       "_model_name": "HTMLStyleModel",
       "_view_count": null,
       "_view_module": "@jupyter-widgets/base",
       "_view_module_version": "2.0.0",
       "_view_name": "StyleView",
       "background": null,
       "description_width": "",
       "font_size": null,
       "text_color": null
      }
     },
     "f900fefe8e454a33919761ba0b3f368d": {
      "model_module": "@jupyter-widgets/controls",
      "model_module_version": "2.0.0",
      "model_name": "HTMLModel",
      "state": {
       "_dom_classes": [],
       "_model_module": "@jupyter-widgets/controls",
       "_model_module_version": "2.0.0",
       "_model_name": "HTMLModel",
       "_view_count": null,
       "_view_module": "@jupyter-widgets/controls",
       "_view_module_version": "2.0.0",
       "_view_name": "HTMLView",
       "description": "",
       "description_allow_html": false,
       "layout": "IPY_MODEL_9a5235056dc04f97bdc38de170177d44",
       "placeholder": "​",
       "style": "IPY_MODEL_9a4bec16486543088ba142f94a13f1fb",
       "tabbable": null,
       "tooltip": null,
       "value": " 9.82M/9.82M [00:00&lt;00:00, 32.0MB/s]"
      }
     }
    },
    "version_major": 2,
    "version_minor": 0
   }
  }
 },
 "nbformat": 4,
 "nbformat_minor": 5
}
