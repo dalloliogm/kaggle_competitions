{
 "cells": [
  {
   "cell_type": "markdown",
   "id": "a235acbb",
   "metadata": {
    "papermill": {
     "duration": 0.002471,
     "end_time": "2025-09-19T09:59:40.626325",
     "exception": false,
     "start_time": "2025-09-19T09:59:40.623854",
     "status": "completed"
    },
    "tags": []
   },
   "source": []
  },
  {
   "cell_type": "markdown",
   "id": "96abcc97",
   "metadata": {
    "papermill": {
     "duration": 0.00183,
     "end_time": "2025-09-19T09:59:40.630344",
     "exception": false,
     "start_time": "2025-09-19T09:59:40.628514",
     "status": "completed"
    },
    "tags": []
   },
   "source": [
    "# **MITSUI: RandomForestRegressor**"
   ]
  },
  {
   "cell_type": "markdown",
   "id": "07f60c49",
   "metadata": {
    "papermill": {
     "duration": 0.001613,
     "end_time": "2025-09-19T09:59:40.633829",
     "exception": false,
     "start_time": "2025-09-19T09:59:40.632216",
     "status": "completed"
    },
    "tags": []
   },
   "source": [
    "\n",
    "---\n",
    "\n",
    "### 🌳 RandomForestRegressor and Multi-Output Regression\n",
    "\n",
    "`RandomForestRegressor` (from `sklearn.ensemble`) natively supports **multi-output regression**.\n",
    "This means you can pass a **2D target array** `y` with shape `(n_samples, n_outputs)` directly to `.fit()`.\n",
    "Each output column is treated as a separate regression problem, but the model shares the same set of trees, making training efficient.\n",
    "\n",
    "\n",
    "#### Key points:\n",
    "\n",
    "* Unlike LightGBM/XGBoost, **no wrapper is required** (`MultiOutputRegressor` is not needed).\n",
    "* Predictions preserve the same dimensionality: if `y` has 3 target variables, the output will have 3 columns.\n",
    "* It is especially useful when the targets are related (e.g., predicting multiple sensor readings at once).\n",
    "\n",
    "---\n"
   ]
  },
  {
   "cell_type": "code",
   "execution_count": 1,
   "id": "a36ce503",
   "metadata": {
    "execution": {
     "iopub.execute_input": "2025-09-19T09:59:40.639123Z",
     "iopub.status.busy": "2025-09-19T09:59:40.638723Z",
     "iopub.status.idle": "2025-09-19T09:59:45.441802Z",
     "shell.execute_reply": "2025-09-19T09:59:45.440823Z"
    },
    "papermill": {
     "duration": 4.80752,
     "end_time": "2025-09-19T09:59:45.443205",
     "exception": false,
     "start_time": "2025-09-19T09:59:40.635685",
     "status": "completed"
    },
    "tags": []
   },
   "outputs": [
    {
     "name": "stdout",
     "output_type": "stream",
     "text": [
      "Train shape: (1961, 558), Train labels shape: (1961, 425)\n"
     ]
    }
   ],
   "source": [
    "import pandas as pd\n",
    "import polars as pl\n",
    "import numpy as np\n",
    "import random\n",
    "import time\n",
    "import os, gc\n",
    "import warnings\n",
    "warnings.simplefilter('ignore')\n",
    "\n",
    "from sklearn.preprocessing import StandardScaler\n",
    "\n",
    "class CFG:\n",
    "    path = \"/kaggle/input/mitsui-commodity-prediction-challenge/\"\n",
    "    seed = 42\n",
    "    targets = [f\"target_{i}\" for i in range(424)]\n",
    "    solution_null_filler = 0.0\n",
    "\n",
    "train = pd.read_csv(CFG.path + \"train.csv\").sort_values(\"date_id\")\n",
    "train_labels = pd.read_csv(CFG.path + \"train_labels.csv\")\n",
    "CFG.features = [c for c in train.columns if c not in [\"date_id\"]]\n",
    "\n",
    "print(f\"Train shape: {train.shape}, Train labels shape: {train_labels.shape}\")\n",
    "\n",
    "def preprocess_columns(df: pd.DataFrame) -> pd.DataFrame:\n",
    "    df = df.copy()\n",
    "    columns = [\n",
    "        \"US_Stock_GOLD_adj_open\", \"US_Stock_GOLD_adj_high\",\n",
    "        \"US_Stock_GOLD_adj_low\", \"US_Stock_GOLD_adj_close\",\n",
    "        \"US_Stock_GOLD_adj_volume\"\n",
    "    ]\n",
    "    \n",
    "    for col in columns:\n",
    "        if col in df.columns and df[col].dtype == \"object\":\n",
    "            df[col] = pd.to_numeric(df[col], errors='coerce')\n",
    "    \n",
    "    return df\n",
    "\n",
    "X_train = (\n",
    "    preprocess_columns(\n",
    "        train[CFG.features]\n",
    "        .fillna(-1)\n",
    "    ).reindex(\n",
    "        columns=CFG.features,\n",
    "        fill_value=0.0\n",
    "    )\n",
    ").copy()\n",
    "\n",
    "y_train = (\n",
    "    train_labels[CFG.targets]\n",
    "    .fillna(CFG.solution_null_filler)\n",
    "    .copy()\n",
    ")\n",
    "\n",
    "scaler = StandardScaler()\n",
    "X_train[CFG.features] = scaler.fit_transform(X_train)"
   ]
  },
  {
   "cell_type": "code",
   "execution_count": 2,
   "id": "054fcddf",
   "metadata": {
    "execution": {
     "iopub.execute_input": "2025-09-19T09:59:45.448689Z",
     "iopub.status.busy": "2025-09-19T09:59:45.448366Z",
     "iopub.status.idle": "2025-09-19T09:59:45.993938Z",
     "shell.execute_reply": "2025-09-19T09:59:45.992858Z"
    },
    "papermill": {
     "duration": 0.550303,
     "end_time": "2025-09-19T09:59:45.995681",
     "exception": false,
     "start_time": "2025-09-19T09:59:45.445378",
     "status": "completed"
    },
    "tags": []
   },
   "outputs": [],
   "source": [
    "from sklearn.ensemble import RandomForestRegressor\n",
    "\n",
    "model = RandomForestRegressor(\n",
    "    random_state=CFG.seed,\n",
    "    n_jobs=-1\n",
    ")"
   ]
  },
  {
   "cell_type": "code",
   "execution_count": 3,
   "id": "090070f5",
   "metadata": {
    "execution": {
     "iopub.execute_input": "2025-09-19T09:59:46.001760Z",
     "iopub.status.busy": "2025-09-19T09:59:46.001401Z",
     "iopub.status.idle": "2025-09-19T10:13:10.492209Z",
     "shell.execute_reply": "2025-09-19T10:13:10.491250Z"
    },
    "papermill": {
     "duration": 804.495747,
     "end_time": "2025-09-19T10:13:10.494039",
     "exception": false,
     "start_time": "2025-09-19T09:59:45.998292",
     "status": "completed"
    },
    "tags": []
   },
   "outputs": [],
   "source": [
    "model.fit(X_train, y_train)\n",
    "\n",
    "del train, train_labels, X_train, y_train\n",
    "gc.collect()\n",
    "\n",
    "def predict(\n",
    "    test: pl.DataFrame,\n",
    "    label_lags_1_batch: pl.DataFrame,\n",
    "    label_lags_2_batch: pl.DataFrame,\n",
    "    label_lags_3_batch: pl.DataFrame,\n",
    "    label_lags_4_batch: pl.DataFrame,\n",
    ") -> pd.DataFrame:\n",
    "    \n",
    "    X_test = (\n",
    "        preprocess_columns(\n",
    "            test\n",
    "            .select(pl.col(CFG.features))\n",
    "            .to_pandas()\n",
    "            .fillna(-1)\n",
    "        ).reindex(\n",
    "            columns=CFG.features,\n",
    "            fill_value=0.0\n",
    "        )\n",
    "    ).copy()\n",
    "\n",
    "    pred = model.predict(scaler.transform(X_test))\n",
    "    predictions = pd.DataFrame(pred, columns=CFG.targets)\n",
    "    return predictions\n",
    "\n",
    "import kaggle_evaluation.mitsui_inference_server\n",
    "\n",
    "inference_server = kaggle_evaluation.mitsui_inference_server.MitsuiInferenceServer(predict)\n",
    "\n",
    "if os.getenv('KAGGLE_IS_COMPETITION_RERUN'):\n",
    "    inference_server.serve()\n",
    "else:\n",
    "    inference_server.run_local_gateway((CFG.path,))"
   ]
  },
  {
   "cell_type": "code",
   "execution_count": null,
   "id": "cfd60e50",
   "metadata": {
    "papermill": {
     "duration": 0.001817,
     "end_time": "2025-09-19T10:13:10.498621",
     "exception": false,
     "start_time": "2025-09-19T10:13:10.496804",
     "status": "completed"
    },
    "tags": []
   },
   "outputs": [],
   "source": []
  }
 ],
 "metadata": {
  "kaggle": {
   "accelerator": "none",
   "dataSources": [
    {
     "databundleVersionId": 13613251,
     "sourceId": 94771,
     "sourceType": "competition"
    }
   ],
   "dockerImageVersionId": 31089,
   "isGpuEnabled": false,
   "isInternetEnabled": false,
   "language": "python",
   "sourceType": "notebook"
  },
  "kernelspec": {
   "display_name": "Python 3",
   "language": "python",
   "name": "python3"
  },
  "language_info": {
   "codemirror_mode": {
    "name": "ipython",
    "version": 3
   },
   "file_extension": ".py",
   "mimetype": "text/x-python",
   "name": "python",
   "nbconvert_exporter": "python",
   "pygments_lexer": "ipython3",
   "version": "3.11.13"
  },
  "papermill": {
   "default_parameters": {},
   "duration": 816.27787,
   "end_time": "2025-09-19T10:13:11.422999",
   "environment_variables": {},
   "exception": null,
   "input_path": "__notebook__.ipynb",
   "output_path": "__notebook__.ipynb",
   "parameters": {},
   "start_time": "2025-09-19T09:59:35.145129",
   "version": "2.6.0"
  }
 },
 "nbformat": 4,
 "nbformat_minor": 5
}
