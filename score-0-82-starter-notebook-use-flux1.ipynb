{
 "cells": [
  {
   "cell_type": "code",
   "execution_count": 1,
   "id": "91762e5c",
   "metadata": {
    "_kg_hide-input": true,
    "_kg_hide-output": true,
    "collapsed": true,
    "execution": {
     "iopub.execute_input": "2025-05-21T14:12:38.231798Z",
     "iopub.status.busy": "2025-05-21T14:12:38.231460Z",
     "iopub.status.idle": "2025-05-21T14:12:48.370025Z",
     "shell.execute_reply": "2025-05-21T14:12:48.369169Z"
    },
    "jupyter": {
     "outputs_hidden": true
    },
    "papermill": {
     "duration": 10.144017,
     "end_time": "2025-05-21T14:12:48.371559",
     "exception": false,
     "start_time": "2025-05-21T14:12:38.227542",
     "status": "completed"
    },
    "tags": []
   },
   "outputs": [
    {
     "name": "stdout",
     "output_type": "stream",
     "text": [
      "/kaggle/input/kcomfyui/KComfyUI/custom_nodes/GGUF\n",
      "Collecting gguf>=0.13.0 (from -r requirements.txt (line 1))\r\n",
      "  Downloading gguf-0.16.3-py3-none-any.whl.metadata (4.4 kB)\r\n",
      "Requirement already satisfied: numpy>=1.17 in /usr/local/lib/python3.10/dist-packages (from gguf>=0.13.0->-r requirements.txt (line 1)) (1.26.4)\r\n",
      "Requirement already satisfied: pyyaml>=5.1 in /usr/local/lib/python3.10/dist-packages (from gguf>=0.13.0->-r requirements.txt (line 1)) (6.0.2)\r\n",
      "Requirement already satisfied: sentencepiece<=0.2.0,>=0.1.98 in /usr/local/lib/python3.10/dist-packages (from gguf>=0.13.0->-r requirements.txt (line 1)) (0.2.0)\r\n",
      "Requirement already satisfied: tqdm>=4.27 in /usr/local/lib/python3.10/dist-packages (from gguf>=0.13.0->-r requirements.txt (line 1)) (4.67.1)\r\n",
      "Requirement already satisfied: mkl_fft in /usr/local/lib/python3.10/dist-packages (from numpy>=1.17->gguf>=0.13.0->-r requirements.txt (line 1)) (1.3.8)\r\n",
      "Requirement already satisfied: mkl_random in /usr/local/lib/python3.10/dist-packages (from numpy>=1.17->gguf>=0.13.0->-r requirements.txt (line 1)) (1.2.4)\r\n",
      "Requirement already satisfied: mkl_umath in /usr/local/lib/python3.10/dist-packages (from numpy>=1.17->gguf>=0.13.0->-r requirements.txt (line 1)) (0.1.1)\r\n",
      "Requirement already satisfied: mkl in /usr/local/lib/python3.10/dist-packages (from numpy>=1.17->gguf>=0.13.0->-r requirements.txt (line 1)) (2025.0.1)\r\n",
      "Requirement already satisfied: tbb4py in /usr/local/lib/python3.10/dist-packages (from numpy>=1.17->gguf>=0.13.0->-r requirements.txt (line 1)) (2022.0.0)\r\n",
      "Requirement already satisfied: mkl-service in /usr/local/lib/python3.10/dist-packages (from numpy>=1.17->gguf>=0.13.0->-r requirements.txt (line 1)) (2.4.1)\r\n",
      "Requirement already satisfied: intel-openmp>=2024 in /usr/local/lib/python3.10/dist-packages (from mkl->numpy>=1.17->gguf>=0.13.0->-r requirements.txt (line 1)) (2024.2.0)\r\n",
      "Requirement already satisfied: tbb==2022.* in /usr/local/lib/python3.10/dist-packages (from mkl->numpy>=1.17->gguf>=0.13.0->-r requirements.txt (line 1)) (2022.0.0)\r\n",
      "Requirement already satisfied: tcmlib==1.* in /usr/local/lib/python3.10/dist-packages (from tbb==2022.*->mkl->numpy>=1.17->gguf>=0.13.0->-r requirements.txt (line 1)) (1.2.0)\r\n",
      "Requirement already satisfied: intel-cmplr-lib-rt in /usr/local/lib/python3.10/dist-packages (from mkl_umath->numpy>=1.17->gguf>=0.13.0->-r requirements.txt (line 1)) (2024.2.0)\r\n",
      "Requirement already satisfied: intel-cmplr-lib-ur==2024.2.0 in /usr/local/lib/python3.10/dist-packages (from intel-openmp>=2024->mkl->numpy>=1.17->gguf>=0.13.0->-r requirements.txt (line 1)) (2024.2.0)\r\n",
      "Downloading gguf-0.16.3-py3-none-any.whl (94 kB)\r\n",
      "\u001b[2K   \u001b[90m━━━━━━━━━━━━━━━━━━━━━━━━━━━━━━━━━━━━━━━━\u001b[0m \u001b[32m94.4/94.4 kB\u001b[0m \u001b[31m2.9 MB/s\u001b[0m eta \u001b[36m0:00:00\u001b[0m\r\n",
      "\u001b[?25hInstalling collected packages: gguf\r\n",
      "Successfully installed gguf-0.16.3\r\n",
      "/kaggle/input/kcomfyui/KComfyUI/custom_nodes/ToSVG\n",
      "Requirement already satisfied: numpy in /usr/local/lib/python3.10/dist-packages (from -r requirements.txt (line 1)) (1.26.4)\r\n",
      "Requirement already satisfied: Pillow in /usr/local/lib/python3.10/dist-packages (from -r requirements.txt (line 2)) (11.0.0)\r\n",
      "Requirement already satisfied: torch in /usr/local/lib/python3.10/dist-packages (from -r requirements.txt (line 3)) (2.5.1+cu121)\r\n",
      "Collecting vtracer (from -r requirements.txt (line 4))\r\n",
      "  Downloading vtracer-0.6.11-cp310-cp310-manylinux_2_17_x86_64.manylinux2014_x86_64.whl.metadata (4.5 kB)\r\n",
      "Collecting PyMuPDF (from -r requirements.txt (line 5))\r\n",
      "  Downloading pymupdf-1.25.5-cp39-abi3-manylinux2014_x86_64.manylinux_2_17_x86_64.whl.metadata (3.4 kB)\r\n",
      "Requirement already satisfied: mkl_fft in /usr/local/lib/python3.10/dist-packages (from numpy->-r requirements.txt (line 1)) (1.3.8)\r\n",
      "Requirement already satisfied: mkl_random in /usr/local/lib/python3.10/dist-packages (from numpy->-r requirements.txt (line 1)) (1.2.4)\r\n",
      "Requirement already satisfied: mkl_umath in /usr/local/lib/python3.10/dist-packages (from numpy->-r requirements.txt (line 1)) (0.1.1)\r\n",
      "Requirement already satisfied: mkl in /usr/local/lib/python3.10/dist-packages (from numpy->-r requirements.txt (line 1)) (2025.0.1)\r\n",
      "Requirement already satisfied: tbb4py in /usr/local/lib/python3.10/dist-packages (from numpy->-r requirements.txt (line 1)) (2022.0.0)\r\n",
      "Requirement already satisfied: mkl-service in /usr/local/lib/python3.10/dist-packages (from numpy->-r requirements.txt (line 1)) (2.4.1)\r\n",
      "Requirement already satisfied: filelock in /usr/local/lib/python3.10/dist-packages (from torch->-r requirements.txt (line 3)) (3.17.0)\r\n",
      "Requirement already satisfied: typing-extensions>=4.8.0 in /usr/local/lib/python3.10/dist-packages (from torch->-r requirements.txt (line 3)) (4.12.2)\r\n",
      "Requirement already satisfied: networkx in /usr/local/lib/python3.10/dist-packages (from torch->-r requirements.txt (line 3)) (3.4.2)\r\n",
      "Requirement already satisfied: jinja2 in /usr/local/lib/python3.10/dist-packages (from torch->-r requirements.txt (line 3)) (3.1.4)\r\n",
      "Requirement already satisfied: fsspec in /usr/local/lib/python3.10/dist-packages (from torch->-r requirements.txt (line 3)) (2024.12.0)\r\n",
      "Requirement already satisfied: sympy==1.13.1 in /usr/local/lib/python3.10/dist-packages (from torch->-r requirements.txt (line 3)) (1.13.1)\r\n",
      "Requirement already satisfied: mpmath<1.4,>=1.1.0 in /usr/local/lib/python3.10/dist-packages (from sympy==1.13.1->torch->-r requirements.txt (line 3)) (1.3.0)\r\n",
      "Requirement already satisfied: MarkupSafe>=2.0 in /usr/local/lib/python3.10/dist-packages (from jinja2->torch->-r requirements.txt (line 3)) (3.0.2)\r\n",
      "Requirement already satisfied: intel-openmp>=2024 in /usr/local/lib/python3.10/dist-packages (from mkl->numpy->-r requirements.txt (line 1)) (2024.2.0)\r\n",
      "Requirement already satisfied: tbb==2022.* in /usr/local/lib/python3.10/dist-packages (from mkl->numpy->-r requirements.txt (line 1)) (2022.0.0)\r\n",
      "Requirement already satisfied: tcmlib==1.* in /usr/local/lib/python3.10/dist-packages (from tbb==2022.*->mkl->numpy->-r requirements.txt (line 1)) (1.2.0)\r\n",
      "Requirement already satisfied: intel-cmplr-lib-rt in /usr/local/lib/python3.10/dist-packages (from mkl_umath->numpy->-r requirements.txt (line 1)) (2024.2.0)\r\n",
      "Requirement already satisfied: intel-cmplr-lib-ur==2024.2.0 in /usr/local/lib/python3.10/dist-packages (from intel-openmp>=2024->mkl->numpy->-r requirements.txt (line 1)) (2024.2.0)\r\n",
      "Downloading vtracer-0.6.11-cp310-cp310-manylinux_2_17_x86_64.manylinux2014_x86_64.whl (1.8 MB)\r\n",
      "\u001b[2K   \u001b[90m━━━━━━━━━━━━━━━━━━━━━━━━━━━━━━━━━━━━━━━━\u001b[0m \u001b[32m1.8/1.8 MB\u001b[0m \u001b[31m19.4 MB/s\u001b[0m eta \u001b[36m0:00:00\u001b[0m\r\n",
      "\u001b[?25hDownloading pymupdf-1.25.5-cp39-abi3-manylinux2014_x86_64.manylinux_2_17_x86_64.whl (20.0 MB)\r\n",
      "\u001b[2K   \u001b[90m━━━━━━━━━━━━━━━━━━━━━━━━━━━━━━━━━━━━━━━━\u001b[0m \u001b[32m20.0/20.0 MB\u001b[0m \u001b[31m87.3 MB/s\u001b[0m eta \u001b[36m0:00:00\u001b[0m\r\n",
      "\u001b[?25hInstalling collected packages: vtracer, PyMuPDF\r\n",
      "Successfully installed PyMuPDF-1.25.5 vtracer-0.6.11\r\n"
     ]
    }
   ],
   "source": [
    "%cd /kaggle/input/kcomfyui/KComfyUI/custom_nodes/GGUF\n",
    "!pip install -r requirements.txt\n",
    "%cd /kaggle/input/kcomfyui/KComfyUI/custom_nodes/ToSVG\n",
    "!pip install -r requirements.txt"
   ]
  },
  {
   "cell_type": "code",
   "execution_count": 2,
   "id": "53dc1121",
   "metadata": {
    "_kg_hide-input": true,
    "collapsed": true,
    "execution": {
     "iopub.execute_input": "2025-05-21T14:12:48.380402Z",
     "iopub.status.busy": "2025-05-21T14:12:48.380171Z",
     "iopub.status.idle": "2025-05-21T14:12:57.834798Z",
     "shell.execute_reply": "2025-05-21T14:12:57.833736Z"
    },
    "jupyter": {
     "outputs_hidden": true
    },
    "papermill": {
     "duration": 9.460777,
     "end_time": "2025-05-21T14:12:57.836525",
     "exception": false,
     "start_time": "2025-05-21T14:12:48.375748",
     "status": "completed"
    },
    "tags": []
   },
   "outputs": [
    {
     "name": "stdout",
     "output_type": "stream",
     "text": [
      "/kaggle/input/kcomfyui/KComfyUI\n",
      "Requirement already satisfied: torch in /usr/local/lib/python3.10/dist-packages (from -r requirements.txt (line 1)) (2.5.1+cu121)\r\n",
      "Collecting torchsde (from -r requirements.txt (line 2))\r\n",
      "  Downloading torchsde-0.2.6-py3-none-any.whl.metadata (5.3 kB)\r\n",
      "Requirement already satisfied: torchvision in /usr/local/lib/python3.10/dist-packages (from -r requirements.txt (line 3)) (0.20.1+cu121)\r\n",
      "Requirement already satisfied: torchaudio in /usr/local/lib/python3.10/dist-packages (from -r requirements.txt (line 4)) (2.5.1+cu121)\r\n",
      "Requirement already satisfied: numpy>=1.25.0 in /usr/local/lib/python3.10/dist-packages (from -r requirements.txt (line 5)) (1.26.4)\r\n",
      "Requirement already satisfied: einops in /usr/local/lib/python3.10/dist-packages (from -r requirements.txt (line 6)) (0.8.0)\r\n",
      "Requirement already satisfied: transformers>=4.28.1 in /usr/local/lib/python3.10/dist-packages (from -r requirements.txt (line 7)) (4.47.0)\r\n",
      "Requirement already satisfied: tokenizers>=0.13.3 in /usr/local/lib/python3.10/dist-packages (from -r requirements.txt (line 8)) (0.21.0)\r\n",
      "Requirement already satisfied: sentencepiece in /usr/local/lib/python3.10/dist-packages (from -r requirements.txt (line 9)) (0.2.0)\r\n",
      "Requirement already satisfied: safetensors>=0.4.2 in /usr/local/lib/python3.10/dist-packages (from -r requirements.txt (line 10)) (0.4.5)\r\n",
      "Requirement already satisfied: aiohttp>=3.11.8 in /usr/local/lib/python3.10/dist-packages (from -r requirements.txt (line 11)) (3.11.12)\r\n",
      "Requirement already satisfied: yarl>=1.18.0 in /usr/local/lib/python3.10/dist-packages (from -r requirements.txt (line 12)) (1.18.3)\r\n",
      "Requirement already satisfied: pyyaml in /usr/local/lib/python3.10/dist-packages (from -r requirements.txt (line 13)) (6.0.2)\r\n",
      "Requirement already satisfied: Pillow in /usr/local/lib/python3.10/dist-packages (from -r requirements.txt (line 14)) (11.0.0)\r\n",
      "Requirement already satisfied: scipy in /usr/local/lib/python3.10/dist-packages (from -r requirements.txt (line 15)) (1.13.1)\r\n",
      "Requirement already satisfied: tqdm in /usr/local/lib/python3.10/dist-packages (from -r requirements.txt (line 16)) (4.67.1)\r\n",
      "Requirement already satisfied: psutil in /usr/local/lib/python3.10/dist-packages (from -r requirements.txt (line 17)) (5.9.5)\r\n",
      "Requirement already satisfied: kornia>=0.7.1 in /usr/local/lib/python3.10/dist-packages (from -r requirements.txt (line 20)) (0.8.0)\r\n",
      "Collecting spandrel (from -r requirements.txt (line 21))\r\n",
      "  Downloading spandrel-0.4.1-py3-none-any.whl.metadata (15 kB)\r\n",
      "Requirement already satisfied: soundfile in /usr/local/lib/python3.10/dist-packages (from -r requirements.txt (line 22)) (0.12.1)\r\n",
      "Collecting av (from -r requirements.txt (line 23))\r\n",
      "  Downloading av-14.4.0-cp310-cp310-manylinux_2_17_x86_64.manylinux2014_x86_64.whl.metadata (4.6 kB)\r\n",
      "Requirement already satisfied: filelock in /usr/local/lib/python3.10/dist-packages (from torch->-r requirements.txt (line 1)) (3.17.0)\r\n",
      "Requirement already satisfied: typing-extensions>=4.8.0 in /usr/local/lib/python3.10/dist-packages (from torch->-r requirements.txt (line 1)) (4.12.2)\r\n",
      "Requirement already satisfied: networkx in /usr/local/lib/python3.10/dist-packages (from torch->-r requirements.txt (line 1)) (3.4.2)\r\n",
      "Requirement already satisfied: jinja2 in /usr/local/lib/python3.10/dist-packages (from torch->-r requirements.txt (line 1)) (3.1.4)\r\n",
      "Requirement already satisfied: fsspec in /usr/local/lib/python3.10/dist-packages (from torch->-r requirements.txt (line 1)) (2024.12.0)\r\n",
      "Requirement already satisfied: sympy==1.13.1 in /usr/local/lib/python3.10/dist-packages (from torch->-r requirements.txt (line 1)) (1.13.1)\r\n",
      "Requirement already satisfied: mpmath<1.4,>=1.1.0 in /usr/local/lib/python3.10/dist-packages (from sympy==1.13.1->torch->-r requirements.txt (line 1)) (1.3.0)\r\n",
      "Collecting trampoline>=0.1.2 (from torchsde->-r requirements.txt (line 2))\r\n",
      "  Downloading trampoline-0.1.2-py3-none-any.whl.metadata (10 kB)\r\n",
      "Requirement already satisfied: mkl_fft in /usr/local/lib/python3.10/dist-packages (from numpy>=1.25.0->-r requirements.txt (line 5)) (1.3.8)\r\n",
      "Requirement already satisfied: mkl_random in /usr/local/lib/python3.10/dist-packages (from numpy>=1.25.0->-r requirements.txt (line 5)) (1.2.4)\r\n",
      "Requirement already satisfied: mkl_umath in /usr/local/lib/python3.10/dist-packages (from numpy>=1.25.0->-r requirements.txt (line 5)) (0.1.1)\r\n",
      "Requirement already satisfied: mkl in /usr/local/lib/python3.10/dist-packages (from numpy>=1.25.0->-r requirements.txt (line 5)) (2025.0.1)\r\n",
      "Requirement already satisfied: tbb4py in /usr/local/lib/python3.10/dist-packages (from numpy>=1.25.0->-r requirements.txt (line 5)) (2022.0.0)\r\n",
      "Requirement already satisfied: mkl-service in /usr/local/lib/python3.10/dist-packages (from numpy>=1.25.0->-r requirements.txt (line 5)) (2.4.1)\r\n",
      "Requirement already satisfied: huggingface-hub<1.0,>=0.24.0 in /usr/local/lib/python3.10/dist-packages (from transformers>=4.28.1->-r requirements.txt (line 7)) (0.29.0)\r\n",
      "Requirement already satisfied: packaging>=20.0 in /usr/local/lib/python3.10/dist-packages (from transformers>=4.28.1->-r requirements.txt (line 7)) (24.2)\r\n",
      "Requirement already satisfied: regex!=2019.12.17 in /usr/local/lib/python3.10/dist-packages (from transformers>=4.28.1->-r requirements.txt (line 7)) (2024.11.6)\r\n",
      "Requirement already satisfied: requests in /usr/local/lib/python3.10/dist-packages (from transformers>=4.28.1->-r requirements.txt (line 7)) (2.32.3)\r\n",
      "Requirement already satisfied: aiohappyeyeballs>=2.3.0 in /usr/local/lib/python3.10/dist-packages (from aiohttp>=3.11.8->-r requirements.txt (line 11)) (2.4.6)\r\n",
      "Requirement already satisfied: aiosignal>=1.1.2 in /usr/local/lib/python3.10/dist-packages (from aiohttp>=3.11.8->-r requirements.txt (line 11)) (1.3.2)\r\n",
      "Requirement already satisfied: async-timeout<6.0,>=4.0 in /usr/local/lib/python3.10/dist-packages (from aiohttp>=3.11.8->-r requirements.txt (line 11)) (5.0.1)\r\n",
      "Requirement already satisfied: attrs>=17.3.0 in /usr/local/lib/python3.10/dist-packages (from aiohttp>=3.11.8->-r requirements.txt (line 11)) (25.1.0)\r\n",
      "Requirement already satisfied: frozenlist>=1.1.1 in /usr/local/lib/python3.10/dist-packages (from aiohttp>=3.11.8->-r requirements.txt (line 11)) (1.5.0)\r\n",
      "Requirement already satisfied: multidict<7.0,>=4.5 in /usr/local/lib/python3.10/dist-packages (from aiohttp>=3.11.8->-r requirements.txt (line 11)) (6.1.0)\r\n",
      "Requirement already satisfied: propcache>=0.2.0 in /usr/local/lib/python3.10/dist-packages (from aiohttp>=3.11.8->-r requirements.txt (line 11)) (0.2.1)\r\n",
      "Requirement already satisfied: idna>=2.0 in /usr/local/lib/python3.10/dist-packages (from yarl>=1.18.0->-r requirements.txt (line 12)) (3.10)\r\n",
      "Requirement already satisfied: kornia_rs>=0.1.0 in /usr/local/lib/python3.10/dist-packages (from kornia>=0.7.1->-r requirements.txt (line 20)) (0.1.8)\r\n",
      "Requirement already satisfied: cffi>=1.0 in /usr/local/lib/python3.10/dist-packages (from soundfile->-r requirements.txt (line 22)) (1.17.1)\r\n",
      "Requirement already satisfied: pycparser in /usr/local/lib/python3.10/dist-packages (from cffi>=1.0->soundfile->-r requirements.txt (line 22)) (2.22)\r\n",
      "Requirement already satisfied: MarkupSafe>=2.0 in /usr/local/lib/python3.10/dist-packages (from jinja2->torch->-r requirements.txt (line 1)) (3.0.2)\r\n",
      "Requirement already satisfied: intel-openmp>=2024 in /usr/local/lib/python3.10/dist-packages (from mkl->numpy>=1.25.0->-r requirements.txt (line 5)) (2024.2.0)\r\n",
      "Requirement already satisfied: tbb==2022.* in /usr/local/lib/python3.10/dist-packages (from mkl->numpy>=1.25.0->-r requirements.txt (line 5)) (2022.0.0)\r\n",
      "Requirement already satisfied: tcmlib==1.* in /usr/local/lib/python3.10/dist-packages (from tbb==2022.*->mkl->numpy>=1.25.0->-r requirements.txt (line 5)) (1.2.0)\r\n",
      "Requirement already satisfied: intel-cmplr-lib-rt in /usr/local/lib/python3.10/dist-packages (from mkl_umath->numpy>=1.25.0->-r requirements.txt (line 5)) (2024.2.0)\r\n",
      "Requirement already satisfied: charset-normalizer<4,>=2 in /usr/local/lib/python3.10/dist-packages (from requests->transformers>=4.28.1->-r requirements.txt (line 7)) (3.4.1)\r\n",
      "Requirement already satisfied: urllib3<3,>=1.21.1 in /usr/local/lib/python3.10/dist-packages (from requests->transformers>=4.28.1->-r requirements.txt (line 7)) (2.3.0)\r\n",
      "Requirement already satisfied: certifi>=2017.4.17 in /usr/local/lib/python3.10/dist-packages (from requests->transformers>=4.28.1->-r requirements.txt (line 7)) (2025.1.31)\r\n",
      "Requirement already satisfied: intel-cmplr-lib-ur==2024.2.0 in /usr/local/lib/python3.10/dist-packages (from intel-openmp>=2024->mkl->numpy>=1.25.0->-r requirements.txt (line 5)) (2024.2.0)\r\n",
      "Downloading torchsde-0.2.6-py3-none-any.whl (61 kB)\r\n",
      "\u001b[2K   \u001b[90m━━━━━━━━━━━━━━━━━━━━━━━━━━━━━━━━━━━━━━━━\u001b[0m \u001b[32m61.2/61.2 kB\u001b[0m \u001b[31m2.0 MB/s\u001b[0m eta \u001b[36m0:00:00\u001b[0m\r\n",
      "\u001b[?25hDownloading spandrel-0.4.1-py3-none-any.whl (305 kB)\r\n",
      "\u001b[2K   \u001b[90m━━━━━━━━━━━━━━━━━━━━━━━━━━━━━━━━━━━━━━━━\u001b[0m \u001b[32m305.2/305.2 kB\u001b[0m \u001b[31m8.0 MB/s\u001b[0m eta \u001b[36m0:00:00\u001b[0m\r\n",
      "\u001b[?25hDownloading av-14.4.0-cp310-cp310-manylinux_2_17_x86_64.manylinux2014_x86_64.whl (34.8 MB)\r\n",
      "\u001b[2K   \u001b[90m━━━━━━━━━━━━━━━━━━━━━━━━━━━━━━━━━━━━━━━━\u001b[0m \u001b[32m34.8/34.8 MB\u001b[0m \u001b[31m53.0 MB/s\u001b[0m eta \u001b[36m0:00:00\u001b[0m\r\n",
      "\u001b[?25hDownloading trampoline-0.1.2-py3-none-any.whl (5.2 kB)\r\n",
      "Installing collected packages: trampoline, av, torchsde, spandrel\r\n",
      "Successfully installed av-14.4.0 spandrel-0.4.1 torchsde-0.2.6 trampoline-0.1.2\r\n",
      "Collecting cairosvg\r\n",
      "  Downloading cairosvg-2.8.2-py3-none-any.whl.metadata (2.7 kB)\r\n",
      "Collecting cairocffi (from cairosvg)\r\n",
      "  Downloading cairocffi-1.7.1-py3-none-any.whl.metadata (3.3 kB)\r\n",
      "Collecting cssselect2 (from cairosvg)\r\n",
      "  Downloading cssselect2-0.8.0-py3-none-any.whl.metadata (2.9 kB)\r\n",
      "Requirement already satisfied: defusedxml in /usr/local/lib/python3.10/dist-packages (from cairosvg) (0.7.1)\r\n",
      "Requirement already satisfied: pillow in /usr/local/lib/python3.10/dist-packages (from cairosvg) (11.0.0)\r\n",
      "Requirement already satisfied: tinycss2 in /usr/local/lib/python3.10/dist-packages (from cairosvg) (1.4.0)\r\n",
      "Requirement already satisfied: cffi>=1.1.0 in /usr/local/lib/python3.10/dist-packages (from cairocffi->cairosvg) (1.17.1)\r\n",
      "Requirement already satisfied: webencodings in /usr/local/lib/python3.10/dist-packages (from cssselect2->cairosvg) (0.5.1)\r\n",
      "Requirement already satisfied: pycparser in /usr/local/lib/python3.10/dist-packages (from cffi>=1.1.0->cairocffi->cairosvg) (2.22)\r\n",
      "Downloading cairosvg-2.8.2-py3-none-any.whl (45 kB)\r\n",
      "\u001b[2K   \u001b[90m━━━━━━━━━━━━━━━━━━━━━━━━━━━━━━━━━━━━━━━━\u001b[0m \u001b[32m45.8/45.8 kB\u001b[0m \u001b[31m1.4 MB/s\u001b[0m eta \u001b[36m0:00:00\u001b[0m\r\n",
      "\u001b[?25hDownloading cairocffi-1.7.1-py3-none-any.whl (75 kB)\r\n",
      "\u001b[2K   \u001b[90m━━━━━━━━━━━━━━━━━━━━━━━━━━━━━━━━━━━━━━━━\u001b[0m \u001b[32m75.6/75.6 kB\u001b[0m \u001b[31m4.5 MB/s\u001b[0m eta \u001b[36m0:00:00\u001b[0m\r\n",
      "\u001b[?25hDownloading cssselect2-0.8.0-py3-none-any.whl (15 kB)\r\n",
      "Installing collected packages: cssselect2, cairocffi, cairosvg\r\n",
      "Successfully installed cairocffi-1.7.1 cairosvg-2.8.2 cssselect2-0.8.0\r\n"
     ]
    }
   ],
   "source": [
    "%cd /kaggle/input/kcomfyui/KComfyUI\n",
    "!pip install -r requirements.txt\n",
    "!pip install cairosvg"
   ]
  },
  {
   "cell_type": "code",
   "execution_count": 3,
   "id": "0fdd4fb4",
   "metadata": {
    "execution": {
     "iopub.execute_input": "2025-05-21T14:12:57.848232Z",
     "iopub.status.busy": "2025-05-21T14:12:57.847995Z",
     "iopub.status.idle": "2025-05-21T14:13:09.239862Z",
     "shell.execute_reply": "2025-05-21T14:13:09.239117Z"
    },
    "papermill": {
     "duration": 11.399055,
     "end_time": "2025-05-21T14:13:09.241339",
     "exception": false,
     "start_time": "2025-05-21T14:12:57.842284",
     "status": "completed"
    },
    "tags": []
   },
   "outputs": [],
   "source": [
    "import torch\n",
    "from nodes import CheckpointLoaderSimple, CLIPTextEncode, KSampler, VAEDecode, SaveImage, EmptyLatentImage, DualCLIPLoader, VAELoader\n",
    "from custom_nodes.GGUF.nodes import UnetLoaderGGUF\n",
    "from custom_nodes.ToSVG.svgnode import ConvertRasterToVectorColor\n",
    "\n",
    "import cairosvg\n",
    "from IPython.display import Image "
   ]
  },
  {
   "cell_type": "code",
   "execution_count": 4,
   "id": "68170e2f",
   "metadata": {
    "_kg_hide-output": true,
    "execution": {
     "iopub.execute_input": "2025-05-21T14:13:09.253132Z",
     "iopub.status.busy": "2025-05-21T14:13:09.252796Z",
     "iopub.status.idle": "2025-05-21T14:13:44.220381Z",
     "shell.execute_reply": "2025-05-21T14:13:44.219640Z"
    },
    "papermill": {
     "duration": 34.975011,
     "end_time": "2025-05-21T14:13:44.222025",
     "exception": false,
     "start_time": "2025-05-21T14:13:09.247014",
     "status": "completed"
    },
    "tags": []
   },
   "outputs": [
    {
     "name": "stderr",
     "output_type": "stream",
     "text": [
      "/kaggle/input/kcomfyui/KComfyUI/custom_nodes/GGUF/loader.py:65: UserWarning: The given NumPy array is not writable, and PyTorch does not support non-writable tensors. This means writing to this tensor will result in undefined behavior. You may want to copy the array to protect its data or make it writable before converting it to a tensor. This type of warning will be suppressed for the rest of this program. (Triggered internally at ../torch/csrc/utils/tensor_numpy.cpp:206.)\n",
      "  torch_tensor = torch.from_numpy(tensor.data) # mmap\n"
     ]
    },
    {
     "name": "stdout",
     "output_type": "stream",
     "text": [
      "\n",
      "ggml_sd_loader:\n",
      " GGMLQuantizationType.F32      471\n",
      " GGMLQuantizationType.Q2_K     304\n",
      " GGMLQuantizationType.F16        5\n"
     ]
    }
   ],
   "source": [
    "checkpoint_loader = UnetLoaderGGUF()\n",
    "model = checkpoint_loader.load_unet(unet_name='/kaggle/input/flux1-dev-q2_k/pytorch/default/2/flux1-dev-Q2_K.gguf')\n",
    "\n",
    "clip_loader = DualCLIPLoader()\n",
    "clip = clip_loader.load_clip(clip_name1='/kaggle/input/flux1-dev-q2_k/pytorch/default/2/t5xxl_fp8_e4m3fn.safetensors', clip_name2='/kaggle/input/flux1-dev-q2_k/pytorch/default/2/clip_l.safetensors', type='flux')\n",
    "\n",
    "vae_loader =VAELoader()\n",
    "vae = vae_loader.load_vae(vae_name='/kaggle/input/flux1-dev-q2_k/pytorch/default/2/ae.safetensors')"
   ]
  },
  {
   "cell_type": "code",
   "execution_count": 5,
   "id": "c88d6f30",
   "metadata": {
    "execution": {
     "iopub.execute_input": "2025-05-21T14:13:44.234094Z",
     "iopub.status.busy": "2025-05-21T14:13:44.233848Z",
     "iopub.status.idle": "2025-05-21T14:13:44.937134Z",
     "shell.execute_reply": "2025-05-21T14:13:44.936422Z"
    },
    "papermill": {
     "duration": 0.710767,
     "end_time": "2025-05-21T14:13:44.938709",
     "exception": false,
     "start_time": "2025-05-21T14:13:44.227942",
     "status": "completed"
    },
    "tags": []
   },
   "outputs": [],
   "source": [
    "import pandas as pd\n",
    "train = pd.read_csv('/kaggle/input/drawing-with-llms/train.csv')"
   ]
  },
  {
   "cell_type": "code",
   "execution_count": 6,
   "id": "c1829cde",
   "metadata": {
    "execution": {
     "iopub.execute_input": "2025-05-21T14:13:44.950365Z",
     "iopub.status.busy": "2025-05-21T14:13:44.950108Z",
     "iopub.status.idle": "2025-05-21T14:15:59.585135Z",
     "shell.execute_reply": "2025-05-21T14:15:59.584414Z"
    },
    "papermill": {
     "duration": 134.642488,
     "end_time": "2025-05-21T14:15:59.586712",
     "exception": false,
     "start_time": "2025-05-21T14:13:44.944224",
     "status": "completed"
    },
    "tags": []
   },
   "outputs": [
    {
     "name": "stdout",
     "output_type": "stream",
     "text": [
      "a starlit night over snow-covered peaks\n"
     ]
    },
    {
     "data": {
      "application/vnd.jupyter.widget-view+json": {
       "model_id": "cfae4aaea3c74d619c79dff6f3fc1f61",
       "version_major": 2,
       "version_minor": 0
      },
      "text/plain": [
       "  0%|          | 0/6 [00:00<?, ?it/s]"
      ]
     },
     "metadata": {},
     "output_type": "display_data"
    }
   ],
   "source": [
    "# prompt = 'A cute unicorn'\n",
    "prompt = train.iloc[12]['description']\n",
    "print(prompt)\n",
    "\n",
    "# テキストのエンコード\n",
    "clip_text_encode = CLIPTextEncode()\n",
    "positive_conditioning = clip_text_encode.encode(\n",
    "    text=f\"flat vector logo icon of {prompt}. Sandra Boynton style\",\n",
    "    clip=clip[0],\n",
    ")\n",
    "negative_conditioning = clip_text_encode.encode(\n",
    "    text=\"lurry image, thin line, shadows, blurry edges, messy background, text, letters\",\n",
    "    clip=clip[0],\n",
    ")\n",
    "\n",
    "# 潜在画像の生成\n",
    "latent_encode = EmptyLatentImage()\n",
    "latent_image = latent_encode.generate(width=256, height=256, batch_size=1)\n",
    "\n",
    "# サンプリング\n",
    "k_sampler = KSampler()\n",
    "sampled_image = k_sampler.sample(\n",
    "    model=model[0],\n",
    "    seed=143091209577701,\n",
    "    positive=positive_conditioning[0],\n",
    "    negative=negative_conditioning[0],\n",
    "    latent_image=latent_image[0],\n",
    "    steps=6,\n",
    "    cfg=1.0,\n",
    "    sampler_name=\"euler\",\n",
    "    scheduler=\"simple\",\n",
    "    denoise=1.0,\n",
    ")\n",
    "\n",
    "# 画像のデコード\n",
    "vae_decode = VAEDecode()\n",
    "decoded_image = vae_decode.decode(samples=sampled_image[0], vae=vae[0])\n",
    "\n",
    "# SVGコンバーター\n",
    "svg_conv = ConvertRasterToVectorColor()\n",
    "svg_output = svg_conv.convert_to_svg(\n",
    "    image=decoded_image[0].detach(),\n",
    "    hierarchical=\"cutout\",\n",
    "    mode=\"polygon\",\n",
    "    filter_speckle=4,\n",
    "    color_precision=6,\n",
    "    layer_difference=16,\n",
    "    corner_threshold=60,\n",
    "    length_threshold=4,\n",
    "    max_iterations=10,\n",
    "    splice_threshold=45,\n",
    "    path_precision=3,\n",
    ")"
   ]
  },
  {
   "cell_type": "code",
   "execution_count": 7,
   "id": "9d6648bd",
   "metadata": {
    "execution": {
     "iopub.execute_input": "2025-05-21T14:15:59.598931Z",
     "iopub.status.busy": "2025-05-21T14:15:59.598699Z",
     "iopub.status.idle": "2025-05-21T14:15:59.663708Z",
     "shell.execute_reply": "2025-05-21T14:15:59.662974Z"
    },
    "papermill": {
     "duration": 0.07231,
     "end_time": "2025-05-21T14:15:59.664897",
     "exception": false,
     "start_time": "2025-05-21T14:15:59.592587",
     "status": "completed"
    },
    "tags": []
   },
   "outputs": [
    {
     "name": "stdout",
     "output_type": "stream",
     "text": [
      "14954\n",
      "[NG] SVG is too large!\n"
     ]
    },
    {
     "data": {
      "image/png": "[encoded data removed]",
      "text/plain": [
       "<IPython.core.display.Image object>"
      ]
     },
     "execution_count": 7,
     "metadata": {},
     "output_type": "execute_result"
    }
   ],
   "source": [
    "svg_start = svg_output[0][0].find('<svg')\n",
    "svg = svg_output[0][0][svg_start:]\n",
    "\n",
    "png_fromstring = cairosvg.svg2png(bytestring=svg)\n",
    "\n",
    "\n",
    "max_svg_size: int = 10000\n",
    "print(len(svg.encode('utf-8')))\n",
    "\n",
    "if len(svg.encode('utf-8')) > max_svg_size:\n",
    "    print(\"[NG] SVG is too large!\")\n",
    "else:\n",
    "    print(\"[OK] SVG is within the limit.\")\n",
    "\n",
    "Image(png_fromstring)"
   ]
  },
  {
   "cell_type": "code",
   "execution_count": 8,
   "id": "bdb76e5b",
   "metadata": {
    "execution": {
     "iopub.execute_input": "2025-05-21T14:15:59.677273Z",
     "iopub.status.busy": "2025-05-21T14:15:59.677054Z",
     "iopub.status.idle": "2025-05-21T14:16:00.131099Z",
     "shell.execute_reply": "2025-05-21T14:16:00.130381Z"
    },
    "papermill": {
     "duration": 0.461845,
     "end_time": "2025-05-21T14:16:00.132710",
     "exception": false,
     "start_time": "2025-05-21T14:15:59.670865",
     "status": "completed"
    },
    "tags": []
   },
   "outputs": [],
   "source": [
    "del model,clip, vae"
   ]
  },
  {
   "cell_type": "code",
   "execution_count": 9,
   "id": "8795d6f7",
   "metadata": {
    "execution": {
     "iopub.execute_input": "2025-05-21T14:16:00.146901Z",
     "iopub.status.busy": "2025-05-21T14:16:00.146651Z",
     "iopub.status.idle": "2025-05-21T14:16:14.221736Z",
     "shell.execute_reply": "2025-05-21T14:16:14.221016Z"
    },
    "papermill": {
     "duration": 14.084221,
     "end_time": "2025-05-21T14:16:14.223266",
     "exception": false,
     "start_time": "2025-05-21T14:16:00.139045",
     "status": "completed"
    },
    "tags": []
   },
   "outputs": [],
   "source": [
    "from transformers import AutoProcessor, AutoModel\n",
    "model = AutoModel.from_pretrained(\"/kaggle/input/google-siglip-so400m-patch14-384/transformers/default/1\")\n",
    "processor = AutoProcessor.from_pretrained(\"/kaggle/input/google-siglip-so400m-patch14-384/transformers/default/1\")"
   ]
  },
  {
   "cell_type": "code",
   "execution_count": 10,
   "id": "eec0bd04",
   "metadata": {
    "execution": {
     "iopub.execute_input": "2025-05-21T14:16:14.236273Z",
     "iopub.status.busy": "2025-05-21T14:16:14.235791Z",
     "iopub.status.idle": "2025-05-21T14:16:44.622506Z",
     "shell.execute_reply": "2025-05-21T14:16:44.621575Z"
    },
    "papermill": {
     "duration": 30.400498,
     "end_time": "2025-05-21T14:16:44.629932",
     "exception": false,
     "start_time": "2025-05-21T14:16:14.229434",
     "status": "completed"
    },
    "tags": []
   },
   "outputs": [
    {
     "name": "stdout",
     "output_type": "stream",
     "text": [
      "a starlit night over snow-covered peaks\n",
      "SCORE: 0.5782\n"
     ]
    }
   ],
   "source": [
    "from PIL import Image\n",
    "\n",
    "def svgMetric(prompt, svg):\n",
    "    cairosvg.svg2png(svg, write_to=\"/kaggle/working/temp.png\")\n",
    "    image = Image.open('/kaggle/working/temp.png').convert(\"RGB\")\n",
    "    texts = [\"SVG illustration of \" + prompt]\n",
    "    inputs = processor(text=texts, images=image, padding=\"max_length\", return_tensors=\"pt\")\n",
    "    with torch.no_grad():\n",
    "        outputs = model(**inputs)\n",
    "    logits_per_image = outputs.logits_per_image\n",
    "    probs = torch.sigmoid(logits_per_image)\n",
    "    return probs[0][0].item()\n",
    "\n",
    "\n",
    "print(prompt)\n",
    "print(\"SCORE: {:.4f}\".format(svgMetric(prompt, svg)))"
   ]
  }
 ],
 "metadata": {
  "kaggle": {
   "accelerator": "gpu",
   "dataSources": [
    {
     "databundleVersionId": 11735795,
     "sourceId": 89659,
     "sourceType": "competition"
    },
    {
     "datasetId": 6749698,
     "sourceId": 10864822,
     "sourceType": "datasetVersion"
    },
    {
     "modelId": 251887,
     "modelInstanceId": 230141,
     "sourceId": 268942,
     "sourceType": "modelInstanceVersion"
    },
    {
     "modelId": 251879,
     "modelInstanceId": 230133,
     "sourceId": 269504,
     "sourceType": "modelInstanceVersion"
    }
   ],
   "dockerImageVersionId": 30919,
   "isGpuEnabled": true,
   "isInternetEnabled": true,
   "language": "python",
   "sourceType": "notebook"
  },
  "kernelspec": {
   "display_name": "Python 3",
   "language": "python",
   "name": "python3"
  },
  "language_info": {
   "codemirror_mode": {
    "name": "ipython",
    "version": 3
   },
   "file_extension": ".py",
   "mimetype": "text/x-python",
   "name": "python",
   "nbconvert_exporter": "python",
   "pygments_lexer": "ipython3",
   "version": "3.10.12"
  },
  "papermill": {
   "default_parameters": {},
   "duration": 252.866452,
   "end_time": "2025-05-21T14:16:48.498179",
   "environment_variables": {},
   "exception": null,
   "input_path": "__notebook__.ipynb",
   "output_path": "__notebook__.ipynb",
   "parameters": {},
   "start_time": "2025-05-21T14:12:35.631727",
   "version": "2.6.0"
  },
  "widgets": {
   "application/vnd.jupyter.widget-state+json": {
    "state": {
     "3d1907bab2b146c1b2c9adc09a8e9e53": {
      "model_module": "@jupyter-widgets/controls",
      "model_module_version": "2.0.0",
      "model_name": "ProgressStyleModel",
      "state": {
       "_model_module": "@jupyter-widgets/controls",
       "_model_module_version": "2.0.0",
       "_model_name": "ProgressStyleModel",
       "_view_count": null,
       "_view_module": "@jupyter-widgets/base",
       "_view_module_version": "2.0.0",
       "_view_name": "StyleView",
       "bar_color": null,
       "description_width": ""
      }
     },
     "5b21d637113d4c52ace9db3751136374": {
      "model_module": "@jupyter-widgets/controls",
      "model_module_version": "2.0.0",
      "model_name": "HTMLModel",
      "state": {
       "_dom_classes": [],
       "_model_module": "@jupyter-widgets/controls",
       "_model_module_version": "2.0.0",
       "_model_name": "HTMLModel",
       "_view_count": null,
       "_view_module": "@jupyter-widgets/controls",
       "_view_module_version": "2.0.0",
       "_view_name": "HTMLView",
       "description": "",
       "description_allow_html": false,
       "layout": "IPY_MODEL_75752f1053774da9b601f24e5b574bc2",
       "placeholder": "​",
       "style": "IPY_MODEL_99098635143c46939cc862fa920c68c4",
       "tabbable": null,
       "tooltip": null,
       "value": "100%"
      }
     },
     "5bd766b4f1d140f69f3804035b411ac2": {
      "model_module": "@jupyter-widgets/base",
      "model_module_version": "2.0.0",
      "model_name": "LayoutModel",
      "state": {
       "_model_module": "@jupyter-widgets/base",
       "_model_module_version": "2.0.0",
       "_model_name": "LayoutModel",
       "_view_count": null,
       "_view_module": "@jupyter-widgets/base",
       "_view_module_version": "2.0.0",
       "_view_name": "LayoutView",
       "align_content": null,
       "align_items": null,
       "align_self": null,
       "border_bottom": null,
       "border_left": null,
       "border_right": null,
       "border_top": null,
       "bottom": null,
       "display": null,
       "flex": null,
       "flex_flow": null,
       "grid_area": null,
       "grid_auto_columns": null,
       "grid_auto_flow": null,
       "grid_auto_rows": null,
       "grid_column": null,
       "grid_gap": null,
       "grid_row": null,
       "grid_template_areas": null,
       "grid_template_columns": null,
       "grid_template_rows": null,
       "height": null,
       "justify_content": null,
       "justify_items": null,
       "left": null,
       "margin": null,
       "max_height": null,
       "max_width": null,
       "min_height": null,
       "min_width": null,
       "object_fit": null,
       "object_position": null,
       "order": null,
       "overflow": null,
       "padding": null,
       "right": null,
       "top": null,
       "visibility": null,
       "width": null
      }
     },
     "75752f1053774da9b601f24e5b574bc2": {
      "model_module": "@jupyter-widgets/base",
      "model_module_version": "2.0.0",
      "model_name": "LayoutModel",
      "state": {
       "_model_module": "@jupyter-widgets/base",
       "_model_module_version": "2.0.0",
       "_model_name": "LayoutModel",
       "_view_count": null,
       "_view_module": "@jupyter-widgets/base",
       "_view_module_version": "2.0.0",
       "_view_name": "LayoutView",
       "align_content": null,
       "align_items": null,
       "align_self": null,
       "border_bottom": null,
       "border_left": null,
       "border_right": null,
       "border_top": null,
       "bottom": null,
       "display": null,
       "flex": null,
       "flex_flow": null,
       "grid_area": null,
       "grid_auto_columns": null,
       "grid_auto_flow": null,
       "grid_auto_rows": null,
       "grid_column": null,
       "grid_gap": null,
       "grid_row": null,
       "grid_template_areas": null,
       "grid_template_columns": null,
       "grid_template_rows": null,
       "height": null,
       "justify_content": null,
       "justify_items": null,
       "left": null,
       "margin": null,
       "max_height": null,
       "max_width": null,
       "min_height": null,
       "min_width": null,
       "object_fit": null,
       "object_position": null,
       "order": null,
       "overflow": null,
       "padding": null,
       "right": null,
       "top": null,
       "visibility": null,
       "width": null
      }
     },
     "8831f8bfa38a4c8a9c3188ca94f6c848": {
      "model_module": "@jupyter-widgets/controls",
      "model_module_version": "2.0.0",
      "model_name": "HTMLStyleModel",
      "state": {
       "_model_module": "@jupyter-widgets/controls",
       "_model_module_version": "2.0.0",
       "_model_name": "HTMLStyleModel",
       "_view_count": null,
       "_view_module": "@jupyter-widgets/base",
       "_view_module_version": "2.0.0",
       "_view_name": "StyleView",
       "background": null,
       "description_width": "",
       "font_size": null,
       "text_color": null
      }
     },
     "99098635143c46939cc862fa920c68c4": {
      "model_module": "@jupyter-widgets/controls",
      "model_module_version": "2.0.0",
      "model_name": "HTMLStyleModel",
      "state": {
       "_model_module": "@jupyter-widgets/controls",
       "_model_module_version": "2.0.0",
       "_model_name": "HTMLStyleModel",
       "_view_count": null,
       "_view_module": "@jupyter-widgets/base",
       "_view_module_version": "2.0.0",
       "_view_name": "StyleView",
       "background": null,
       "description_width": "",
       "font_size": null,
       "text_color": null
      }
     },
     "b3181fcca6904c0d9aaed592535800aa": {
      "model_module": "@jupyter-widgets/controls",
      "model_module_version": "2.0.0",
      "model_name": "HTMLModel",
      "state": {
       "_dom_classes": [],
       "_model_module": "@jupyter-widgets/controls",
       "_model_module_version": "2.0.0",
       "_model_name": "HTMLModel",
       "_view_count": null,
       "_view_module": "@jupyter-widgets/controls",
       "_view_module_version": "2.0.0",
       "_view_name": "HTMLView",
       "description": "",
       "description_allow_html": false,
       "layout": "IPY_MODEL_5bd766b4f1d140f69f3804035b411ac2",
       "placeholder": "​",
       "style": "IPY_MODEL_8831f8bfa38a4c8a9c3188ca94f6c848",
       "tabbable": null,
       "tooltip": null,
       "value": " 6/6 [00:14&lt;00:00,  2.38s/it]"
      }
     },
     "cfae4aaea3c74d619c79dff6f3fc1f61": {
      "model_module": "@jupyter-widgets/controls",
      "model_module_version": "2.0.0",
      "model_name": "HBoxModel",
      "state": {
       "_dom_classes": [],
       "_model_module": "@jupyter-widgets/controls",
       "_model_module_version": "2.0.0",
       "_model_name": "HBoxModel",
       "_view_count": null,
       "_view_module": "@jupyter-widgets/controls",
       "_view_module_version": "2.0.0",
       "_view_name": "HBoxView",
       "box_style": "",
       "children": [
        "IPY_MODEL_5b21d637113d4c52ace9db3751136374",
        "IPY_MODEL_f4cf82af285d4af28b8a081678608d16",
        "IPY_MODEL_b3181fcca6904c0d9aaed592535800aa"
       ],
       "layout": "IPY_MODEL_f15882984fa64e19a7bd8c7d2edbd883",
       "tabbable": null,
       "tooltip": null
      }
     },
     "f15882984fa64e19a7bd8c7d2edbd883": {
      "model_module": "@jupyter-widgets/base",
      "model_module_version": "2.0.0",
      "model_name": "LayoutModel",
      "state": {
       "_model_module": "@jupyter-widgets/base",
       "_model_module_version": "2.0.0",
       "_model_name": "LayoutModel",
       "_view_count": null,
       "_view_module": "@jupyter-widgets/base",
       "_view_module_version": "2.0.0",
       "_view_name": "LayoutView",
       "align_content": null,
       "align_items": null,
       "align_self": null,
       "border_bottom": null,
       "border_left": null,
       "border_right": null,
       "border_top": null,
       "bottom": null,
       "display": null,
       "flex": null,
       "flex_flow": null,
       "grid_area": null,
       "grid_auto_columns": null,
       "grid_auto_flow": null,
       "grid_auto_rows": null,
       "grid_column": null,
       "grid_gap": null,
       "grid_row": null,
       "grid_template_areas": null,
       "grid_template_columns": null,
       "grid_template_rows": null,
       "height": null,
       "justify_content": null,
       "justify_items": null,
       "left": null,
       "margin": null,
       "max_height": null,
       "max_width": null,
       "min_height": null,
       "min_width": null,
       "object_fit": null,
       "object_position": null,
       "order": null,
       "overflow": null,
       "padding": null,
       "right": null,
       "top": null,
       "visibility": null,
       "width": null
      }
     },
     "f4cf82af285d4af28b8a081678608d16": {
      "model_module": "@jupyter-widgets/controls",
      "model_module_version": "2.0.0",
      "model_name": "FloatProgressModel",
      "state": {
       "_dom_classes": [],
       "_model_module": "@jupyter-widgets/controls",
       "_model_module_version": "2.0.0",
       "_model_name": "FloatProgressModel",
       "_view_count": null,
       "_view_module": "@jupyter-widgets/controls",
       "_view_module_version": "2.0.0",
       "_view_name": "ProgressView",
       "bar_style": "success",
       "description": "",
       "description_allow_html": false,
       "layout": "IPY_MODEL_f6e53bbc4f4148c5a211d2958ae5b0fa",
       "max": 6.0,
       "min": 0.0,
       "orientation": "horizontal",
       "style": "IPY_MODEL_3d1907bab2b146c1b2c9adc09a8e9e53",
       "tabbable": null,
       "tooltip": null,
       "value": 6.0
      }
     },
     "f6e53bbc4f4148c5a211d2958ae5b0fa": {
      "model_module": "@jupyter-widgets/base",
      "model_module_version": "2.0.0",
      "model_name": "LayoutModel",
      "state": {
       "_model_module": "@jupyter-widgets/base",
       "_model_module_version": "2.0.0",
       "_model_name": "LayoutModel",
       "_view_count": null,
       "_view_module": "@jupyter-widgets/base",
       "_view_module_version": "2.0.0",
       "_view_name": "LayoutView",
       "align_content": null,
       "align_items": null,
       "align_self": null,
       "border_bottom": null,
       "border_left": null,
       "border_right": null,
       "border_top": null,
       "bottom": null,
       "display": null,
       "flex": null,
       "flex_flow": null,
       "grid_area": null,
       "grid_auto_columns": null,
       "grid_auto_flow": null,
       "grid_auto_rows": null,
       "grid_column": null,
       "grid_gap": null,
       "grid_row": null,
       "grid_template_areas": null,
       "grid_template_columns": null,
       "grid_template_rows": null,
       "height": null,
       "justify_content": null,
       "justify_items": null,
       "left": null,
       "margin": null,
       "max_height": null,
       "max_width": null,
       "min_height": null,
       "min_width": null,
       "object_fit": null,
       "object_position": null,
       "order": null,
       "overflow": null,
       "padding": null,
       "right": null,
       "top": null,
       "visibility": null,
       "width": null
      }
     }
    },
    "version_major": 2,
    "version_minor": 0
   }
  }
 },
 "nbformat": 4,
 "nbformat_minor": 5
}
