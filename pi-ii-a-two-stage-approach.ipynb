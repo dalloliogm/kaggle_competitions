{
 "cells": [
  {
   "cell_type": "code",
   "execution_count": 1,
   "id": "81b6f532",
   "metadata": {
    "_cell_guid": "b1076dfc-b9ad-4769-8c92-a6c4dae69d19",
    "_kg_hide-input": true,
    "_uuid": "8f2839f25d086af736a60e9eeb907d3b93b6e0e5",
    "execution": {
     "iopub.execute_input": "2025-06-08T11:28:35.845847Z",
     "iopub.status.busy": "2025-06-08T11:28:35.845476Z",
     "iopub.status.idle": "2025-06-08T11:28:40.679627Z",
     "shell.execute_reply": "2025-06-08T11:28:40.678661Z"
    },
    "papermill": {
     "duration": 4.840973,
     "end_time": "2025-06-08T11:28:40.681592",
     "exception": false,
     "start_time": "2025-06-08T11:28:35.840619",
     "status": "completed"
    },
    "tags": []
   },
   "outputs": [],
   "source": [
    "import pandas as pd\n",
    "import numpy as np\n",
    "\n",
    "from tqdm import tqdm\n",
    "\n",
    "import matplotlib.pyplot as plt\n",
    "import seaborn as sns\n",
    "\n",
    "from sklearn.preprocessing import StandardScaler\n",
    "from sklearn.model_selection import StratifiedKFold, KFold\n",
    "from sklearn.impute import SimpleImputer\n",
    "from sklearn.model_selection import train_test_split\n",
    "from sklearn.preprocessing import OrdinalEncoder\n",
    "from sklearn.impute import SimpleImputer\n",
    "\n",
    "from sklearn.neighbors import KNeighborsRegressor, KNeighborsClassifier\n",
    "from xgboost import XGBRegressor\n",
    "\n",
    "import warnings\n",
    "warnings.filterwarnings('ignore')"
   ]
  },
  {
   "cell_type": "code",
   "execution_count": 2,
   "id": "2e398a81",
   "metadata": {
    "_kg_hide-input": true,
    "execution": {
     "iopub.execute_input": "2025-06-08T11:28:40.692496Z",
     "iopub.status.busy": "2025-06-08T11:28:40.691989Z",
     "iopub.status.idle": "2025-06-08T11:28:40.699284Z",
     "shell.execute_reply": "2025-06-08T11:28:40.698400Z"
    },
    "papermill": {
     "duration": 0.014603,
     "end_time": "2025-06-08T11:28:40.701178",
     "exception": false,
     "start_time": "2025-06-08T11:28:40.686575",
     "status": "completed"
    },
    "tags": []
   },
   "outputs": [],
   "source": [
    "# Competition metric: driectly copied from demo-notebook: https://www.kaggle.com/code/michaelsemenoff/demo-extended\n",
    "def winkler_score(y_true, lower, upper, alpha=0.1, return_coverage=False):\n",
    "    \"\"\"Compute the Winkler Interval Score for prediction intervals.\n",
    "\n",
    "    Args:\n",
    "        y_true (array-like): True observed values.\n",
    "        lower (array-like): Lower bounds of prediction intervals.\n",
    "        upper (array-like): Upper bounds of prediction intervals.\n",
    "        alpha (float): Significance level (e.g., 0.1 for 90% intervals).\n",
    "        return_coverage (bool): If True, also return empirical coverage.\n",
    "\n",
    "    Returns:\n",
    "        score (float): Mean Winkler Score.\n",
    "        coverage (float, optional): Proportion of true values within intervals.\n",
    "    \"\"\"\n",
    "    y_true = np.asarray(y_true)\n",
    "    lower = np.asarray(lower)\n",
    "    upper = np.asarray(upper)\n",
    "\n",
    "    width = upper - lower\n",
    "    penalty_lower = 2 / alpha * (lower - y_true)\n",
    "    penalty_upper = 2 / alpha * (y_true - upper)\n",
    "\n",
    "    score = width.copy()\n",
    "    score += np.where(y_true < lower, penalty_lower, 0)\n",
    "    score += np.where(y_true > upper, penalty_upper, 0)\n",
    "\n",
    "    if return_coverage:\n",
    "        inside = (y_true >= lower) & (y_true <= upper)\n",
    "        coverage = np.mean(inside)\n",
    "        return np.mean(score), coverage\n",
    "\n",
    "    return np.mean(score)"
   ]
  },
  {
   "cell_type": "code",
   "execution_count": 3,
   "id": "c690c501",
   "metadata": {
    "_kg_hide-input": true,
    "execution": {
     "iopub.execute_input": "2025-06-08T11:28:40.711430Z",
     "iopub.status.busy": "2025-06-08T11:28:40.711086Z",
     "iopub.status.idle": "2025-06-08T11:28:40.716238Z",
     "shell.execute_reply": "2025-06-08T11:28:40.715425Z"
    },
    "papermill": {
     "duration": 0.011951,
     "end_time": "2025-06-08T11:28:40.717757",
     "exception": false,
     "start_time": "2025-06-08T11:28:40.705806",
     "status": "completed"
    },
    "tags": []
   },
   "outputs": [],
   "source": [
    "def preprocess_date(data):\n",
    "\n",
    "    df = data.copy()\n",
    "\n",
    "    df[\"sale_date\"] = pd.to_datetime(df.sale_date)\n",
    "    df[\"year\"] = df[\"sale_date\"].dt.year\n",
    "    df[\"month\"] = df[\"sale_date\"].dt.month\n",
    "\n",
    "    df.drop([\"sale_date\"], axis=1, inplace=True)\n",
    "        \n",
    "    return df"
   ]
  },
  {
   "cell_type": "code",
   "execution_count": 4,
   "id": "e8d02d84",
   "metadata": {
    "_kg_hide-input": true,
    "execution": {
     "iopub.execute_input": "2025-06-08T11:28:40.724877Z",
     "iopub.status.busy": "2025-06-08T11:28:40.724208Z",
     "iopub.status.idle": "2025-06-08T11:28:44.909586Z",
     "shell.execute_reply": "2025-06-08T11:28:44.908408Z"
    },
    "papermill": {
     "duration": 4.19093,
     "end_time": "2025-06-08T11:28:44.911443",
     "exception": false,
     "start_time": "2025-06-08T11:28:40.720513",
     "status": "completed"
    },
    "tags": []
   },
   "outputs": [],
   "source": [
    "SEED = 69\n",
    "FOLDS = 8\n",
    "ALPHA = 0.3\n",
    "\n",
    "train = pd.read_csv(\"/kaggle/input/prediction-interval-competition-ii-house-price/dataset.csv\").set_index(\"id\")\n",
    "test = pd.read_csv(\"/kaggle/input/prediction-interval-competition-ii-house-price/test.csv\").set_index(\"id\")\n",
    "\n",
    "train = preprocess_date(train)\n",
    "test = preprocess_date(test)\n",
    "\n",
    "cat_cols = ['sale_warning', 'join_status', 'city', 'zoning', 'subdivision', 'submarket']\n",
    "num_cols = list(set(test.columns) ^ set(cat_cols)) \n",
    "\n",
    "encoder = OrdinalEncoder(handle_unknown=\"use_encoded_value\", unknown_value=-1)\n",
    "train[cat_cols] = encoder.fit_transform(train[cat_cols]).astype(int)\n",
    "test[cat_cols] = encoder.transform(test[cat_cols]).astype(int)"
   ]
  },
  {
   "cell_type": "code",
   "execution_count": 5,
   "id": "0d223497",
   "metadata": {
    "_kg_hide-input": true,
    "execution": {
     "iopub.execute_input": "2025-06-08T11:28:44.918212Z",
     "iopub.status.busy": "2025-06-08T11:28:44.917878Z",
     "iopub.status.idle": "2025-06-08T11:28:44.927044Z",
     "shell.execute_reply": "2025-06-08T11:28:44.926006Z"
    },
    "papermill": {
     "duration": 0.014388,
     "end_time": "2025-06-08T11:28:44.928656",
     "exception": false,
     "start_time": "2025-06-08T11:28:44.914268",
     "status": "completed"
    },
    "tags": []
   },
   "outputs": [],
   "source": [
    "# To get square foot price of neighbourhood without leaking in train\n",
    "def retrieve_neighbours(model, X, y, k=5, exclude_0=False):\n",
    "    # For leak-free retrival of distances and prices\n",
    "    # exclude_0 = True excludes the closest neighbour (typically self when train)\n",
    "    X = np.array(X)\n",
    "    y = np.array(y)\n",
    "\n",
    "    if exclude_0:\n",
    "        distances, indices = model.kneighbors(X, n_neighbors=k+1)\n",
    "    else:\n",
    "        distances, indices = model.kneighbors(X, n_neighbors=k)\n",
    "\n",
    "    preds = []\n",
    "    dists = []\n",
    "    \n",
    "    for d, idxs in tqdm(zip(distances, indices), total=len(indices)):\n",
    "\n",
    "        if exclude_0:\n",
    "            d = d[1:]\n",
    "            idxs = idxs[1:]\n",
    "        pred = np.mean(y[idxs])\n",
    "        dist = np.mean(d)\n",
    "    \n",
    "        preds.append(pred)\n",
    "        dists.append(dist)\n",
    "    \n",
    "    return np.array(preds), np.array(dists)\n",
    "\n",
    "def preprocess_knn_features(X_tr, X_va, y_tr, knn_features, knn_params):\n",
    "    # Features based on direct neighbourhood\n",
    "    scaler = StandardScaler()\n",
    "    X_tr_knn = scaler.fit_transform(X_tr[knn_features])\n",
    "    X_va_knn = scaler.transform(X_va[knn_features])\n",
    "    knn = KNeighborsRegressor(**knn_params).fit(X_tr_knn, y_tr)\n",
    "\n",
    "    k = knn_params[\"n_neighbors\"]\n",
    "    \n",
    "    price_tr, d_tr = retrieve_neighbours(knn, X_tr_knn, y_tr, k=k, exclude_0=True)\n",
    "    price_va, d_va = retrieve_neighbours(knn, X_va_knn, y_tr, k=k, exclude_0=False)\n",
    "\n",
    "    X_tr = X_tr.copy()\n",
    "    X_va = X_va.copy()\n",
    "    X_tr[\"k_dist\"], X_va[\"k_dist\"] = d_tr, d_va\n",
    "    X_tr[\"price_knn\"], X_va[\"price_knn\"] = price_tr, price_va\n",
    "\n",
    "    return X_tr, X_va"
   ]
  },
  {
   "cell_type": "code",
   "execution_count": 6,
   "id": "5ecb53a5",
   "metadata": {
    "execution": {
     "iopub.execute_input": "2025-06-08T11:28:44.935650Z",
     "iopub.status.busy": "2025-06-08T11:28:44.935313Z",
     "iopub.status.idle": "2025-06-08T11:28:44.951992Z",
     "shell.execute_reply": "2025-06-08T11:28:44.951048Z"
    },
    "papermill": {
     "duration": 0.022168,
     "end_time": "2025-06-08T11:28:44.953541",
     "exception": false,
     "start_time": "2025-06-08T11:28:44.931373",
     "status": "completed"
    },
    "tags": []
   },
   "outputs": [],
   "source": [
    "class TwoStageUncertaintyModel:\n",
    "    \"\"\"\n",
    "    A two-stage model for point predictions with uncertainty intervals.\n",
    "    \n",
    "    Stage 1 fits the main target.  \n",
    "    Stage 2 models the absolute residuals using out-of-fold predictions.  \n",
    "    Intervals are built around the point prediction, scaled by gamma0 and gamma1.\n",
    "    \"\"\"\n",
    "\n",
    "    def __init__(\n",
    "        self, \n",
    "        model0, \n",
    "        model1, \n",
    "        n_splits=5, \n",
    "        method=\"abs_error\", \n",
    "        seed=None, \n",
    "        lower_bound=0, \n",
    "        alpha=0.1, \n",
    "        gamma0=1.0, \n",
    "        gamma1=1.0, \n",
    "        features1=None\n",
    "    ):\n",
    "        self.model0 = model0\n",
    "        self.model1 = model1\n",
    "        self.n_splits = n_splits\n",
    "        self.method = method\n",
    "        self.seed = seed\n",
    "        self.gamma0 = gamma0\n",
    "        self.gamma1 = gamma1\n",
    "        self.lower_bound = lower_bound\n",
    "        self.alpha = alpha \n",
    "        self.features1 = features1\n",
    "        self.feature_importances0 = None\n",
    "        self.feature_importances1 = None\n",
    "        self.fitted_ = False\n",
    "\n",
    "    def _prepare_features_for_model1(self, X, y_pred):\n",
    "        if self.features1 == \"same\":\n",
    "            if isinstance(X, pd.DataFrame):\n",
    "                X_tmp = X.copy()\n",
    "                X_tmp[\"y_pred\"] = y_pred\n",
    "            elif isinstance(X, np.ndarray):\n",
    "                y_pred = y_pred.reshape(-1, 1)\n",
    "                X_tmp = np.hstack([X, y_pred])\n",
    "            else:\n",
    "                raise ValueError(\"Unsupported data type for X with features1='same'\")\n",
    "        \n",
    "        else:\n",
    "            if not isinstance(X, pd.DataFrame):\n",
    "                raise ValueError(f\"features1 is specified as {self.features1}, which requires X to be a pandas DataFrame.\")\n",
    "            missing = set(self.features1) - set(X.columns)\n",
    "            if missing:\n",
    "                raise ValueError(f\"Missing columns in X for features1: {missing}\")\n",
    "            \n",
    "            X_tmp = X[self.features1].copy()\n",
    "            X_tmp[\"y_pred\"] = y_pred\n",
    "        \n",
    "        return X_tmp\n",
    "\n",
    "    def _get_target(self, y, oof_preds):\n",
    "        if self.method == \"abs_error\":\n",
    "            return np.abs(y - oof_preds)\n",
    "        elif self.method == \"squared_error\":\n",
    "            return (y - oof_preds) ** 2 + 1e-6\n",
    "        raise ValueError(\"method should be `abs_error`, `squared_error`\")\n",
    "\n",
    "    def _get_feature_importances(self, model):\n",
    "        if hasattr(model, 'feature_importances_'):\n",
    "            return model.feature_importances_\n",
    "        elif hasattr(model, 'coef_'):\n",
    "            return model.coef_\n",
    "        return None\n",
    "\n",
    "    def fit(self, X, y):\n",
    "        y = np.asarray(y)\n",
    "        oof_preds = np.zeros_like(y, dtype=float)\n",
    "        \n",
    "        kf = KFold(n_splits=self.n_splits, shuffle=True, random_state=self.seed)\n",
    "        \n",
    "        for train_idx, val_idx in kf.split(X):\n",
    "            X_tr, X_val = X.iloc[train_idx], X.iloc[val_idx]\n",
    "            y_tr = y[train_idx]\n",
    "            \n",
    "            self.model0.fit(X_tr, y_tr)\n",
    "            oof_preds[val_idx] = self.model0.predict(X_val)\n",
    "    \n",
    "        # Get target for Stage 2\n",
    "        target = self._get_target(y, oof_preds)\n",
    "    \n",
    "        if self.lower_bound == \"min\":\n",
    "            self.lower_bound = np.min(target)\n",
    "\n",
    "        # Construct features for stage two\n",
    "        if self.features1:\n",
    "            X_resid_feat = self._prepare_features_for_model1(X, oof_preds)\n",
    "        else:\n",
    "            X_resid_feat = oof_preds.reshape(-1, 1)\n",
    "\n",
    "        # Fit model1 (Stage2) \n",
    "        self.model1.fit(X_resid_feat, target)\n",
    "        self.feature_importances1 = self._get_feature_importances(self.model1)\n",
    "    \n",
    "        # Refit on full dataset\n",
    "        self.model0.fit(X, y)\n",
    "        self.feature_importances0 = self._get_feature_importances(self.model0)\n",
    "        self.fitted_ = True\n",
    "        return self\n",
    "\n",
    "    def build_interval(self, y_hat, err_hat):\n",
    "        if self.method in {\"squared_error\"}:\n",
    "            err_hat = np.sqrt(err_hat)\n",
    "    \n",
    "        if self.method in {\"abs_error\", \"squared_error\"}:\n",
    "            lower = y_hat - self.gamma0 * err_hat\n",
    "            upper = y_hat + self.gamma1 * err_hat\n",
    "        else:\n",
    "            raise ValueError(f\"Unknown method: {self.method}\")\n",
    "            \n",
    "        return lower, upper\n",
    "\n",
    "    def predict(self, X, return_errors=False):\n",
    "        if not self.fitted_:\n",
    "            raise ValueError(\"Call fit() before predict()\")\n",
    "        # point prediction\n",
    "        y_hat = self.model0.predict(X)\n",
    "\n",
    "        # predict absolute error\n",
    "        if self.features1:\n",
    "            X_resid_feat = self._prepare_features_for_model1(X, y_hat)\n",
    "        else:\n",
    "            X_resid_feat = y_hat.reshape(-1, 1)\n",
    "\n",
    "        err_hat = self.model1.predict(X_resid_feat)\n",
    "\n",
    "        if self.lower_bound is not None:\n",
    "            err_hat = np.maximum(err_hat, self.lower_bound)\n",
    "\n",
    "        # Build interval based on method\n",
    "        lower, upper = self.build_interval(y_hat, err_hat)\n",
    "\n",
    "        if return_errors:\n",
    "            return y_hat, lower, upper, err_hat\n",
    "        return y_hat, lower, upper"
   ]
  },
  {
   "cell_type": "code",
   "execution_count": 7,
   "id": "2e1c4137",
   "metadata": {
    "execution": {
     "iopub.execute_input": "2025-06-08T11:28:44.960044Z",
     "iopub.status.busy": "2025-06-08T11:28:44.959722Z",
     "iopub.status.idle": "2025-06-08T12:08:03.854555Z",
     "shell.execute_reply": "2025-06-08T12:08:03.853620Z"
    },
    "papermill": {
     "duration": 2358.914143,
     "end_time": "2025-06-08T12:08:03.870344",
     "exception": false,
     "start_time": "2025-06-08T11:28:44.956201",
     "status": "completed"
    },
    "tags": []
   },
   "outputs": [
    {
     "name": "stdout",
     "output_type": "stream",
     "text": [
      "\n",
      "=== Fold: 1 ===\n"
     ]
    },
    {
     "name": "stderr",
     "output_type": "stream",
     "text": [
      "100%|██████████| 175000/175000 [00:02<00:00, 78335.56it/s]\n",
      "100%|██████████| 25000/25000 [00:00<00:00, 80702.22it/s]\n"
     ]
    },
    {
     "name": "stdout",
     "output_type": "stream",
     "text": [
      "Winkler score: 259726.2245 Coverage: 0.9069\n",
      "\n",
      "=== Fold: 2 ===\n"
     ]
    },
    {
     "name": "stderr",
     "output_type": "stream",
     "text": [
      "100%|██████████| 175000/175000 [00:02<00:00, 78612.22it/s]\n",
      "100%|██████████| 25000/25000 [00:00<00:00, 81923.26it/s]\n"
     ]
    },
    {
     "name": "stdout",
     "output_type": "stream",
     "text": [
      "Winkler score: 263178.3063 Coverage: 0.9078\n",
      "\n",
      "=== Fold: 3 ===\n"
     ]
    },
    {
     "name": "stderr",
     "output_type": "stream",
     "text": [
      "100%|██████████| 175000/175000 [00:02<00:00, 76841.05it/s]\n",
      "100%|██████████| 25000/25000 [00:00<00:00, 80161.95it/s]\n"
     ]
    },
    {
     "name": "stdout",
     "output_type": "stream",
     "text": [
      "Winkler score: 264623.0899 Coverage: 0.9074\n",
      "\n",
      "=== Fold: 4 ===\n"
     ]
    },
    {
     "name": "stderr",
     "output_type": "stream",
     "text": [
      "100%|██████████| 175000/175000 [00:02<00:00, 77787.83it/s]\n",
      "100%|██████████| 25000/25000 [00:00<00:00, 79727.25it/s]\n"
     ]
    },
    {
     "name": "stdout",
     "output_type": "stream",
     "text": [
      "Winkler score: 262293.2178 Coverage: 0.9032\n",
      "\n",
      "=== Fold: 5 ===\n"
     ]
    },
    {
     "name": "stderr",
     "output_type": "stream",
     "text": [
      "100%|██████████| 175000/175000 [00:02<00:00, 77035.32it/s]\n",
      "100%|██████████| 25000/25000 [00:00<00:00, 80927.69it/s]\n"
     ]
    },
    {
     "name": "stdout",
     "output_type": "stream",
     "text": [
      "Winkler score: 263239.2202 Coverage: 0.9049\n",
      "\n",
      "=== Fold: 6 ===\n"
     ]
    },
    {
     "name": "stderr",
     "output_type": "stream",
     "text": [
      "100%|██████████| 175000/175000 [00:02<00:00, 77865.36it/s]\n",
      "100%|██████████| 25000/25000 [00:00<00:00, 81138.85it/s]\n"
     ]
    },
    {
     "name": "stdout",
     "output_type": "stream",
     "text": [
      "Winkler score: 260846.1945 Coverage: 0.9036\n",
      "\n",
      "=== Fold: 7 ===\n"
     ]
    },
    {
     "name": "stderr",
     "output_type": "stream",
     "text": [
      "100%|██████████| 175000/175000 [00:02<00:00, 76275.11it/s]\n",
      "100%|██████████| 25000/25000 [00:00<00:00, 79289.15it/s]\n"
     ]
    },
    {
     "name": "stdout",
     "output_type": "stream",
     "text": [
      "Winkler score: 260864.3432 Coverage: 0.9073\n",
      "\n",
      "=== Fold: 8 ===\n"
     ]
    },
    {
     "name": "stderr",
     "output_type": "stream",
     "text": [
      "100%|██████████| 175000/175000 [00:02<00:00, 78293.90it/s]\n",
      "100%|██████████| 25000/25000 [00:00<00:00, 80241.57it/s]\n"
     ]
    },
    {
     "name": "stdout",
     "output_type": "stream",
     "text": [
      "Winkler score: 262596.9811 Coverage: 0.9070\n",
      "\n",
      "Average Winkler: 262170.9472010482\n",
      "Average Coverage: 0.906015\n"
     ]
    }
   ],
   "source": [
    "# Number of neighbours for price/other features\n",
    "knn_params = {\n",
    "    'n_neighbors': 10\n",
    "} \n",
    "\n",
    "# XGB params\n",
    "xgb_params = {\n",
    "    'n_estimators': 1500,\n",
    "    'max_depth': 6,\n",
    "    'learning_rate': 0.05,\n",
    "    'random_state': SEED\n",
    "}\n",
    "\n",
    "# XGB params 1\n",
    "xgb_params1 = {\n",
    "    'objective': \"reg:gamma\", # <- important for squared error target\n",
    "    'n_estimators': 1000,\n",
    "    'max_depth': 4,\n",
    "    'learning_rate': 0.1,\n",
    "    'random_state': SEED\n",
    "}\n",
    "\n",
    "model0 = XGBRegressor(**xgb_params)\n",
    "model1 = XGBRegressor(**xgb_params1) \n",
    "\n",
    "uncert_model = TwoStageUncertaintyModel(\n",
    "    model0=model0,\n",
    "    model1=model1,\n",
    "    seed=SEED,\n",
    "    method=\"squared_error\",\n",
    "    lower_bound=1000,\n",
    "    n_splits=10,\n",
    "    features1=\"same\",\n",
    "    gamma0=1.65,\n",
    "    gamma1=1.75\n",
    ")\n",
    "\n",
    "features = cat_cols + num_cols + [\"price_knn\", \"k_dist\"]\n",
    "knn_features = [\"latitude\", \"longitude\", \"year\"]\n",
    "y = train[\"sale_price\"]\n",
    "\n",
    "scores = []\n",
    "coverages = []\n",
    "cv = KFold(shuffle=True, random_state=SEED, n_splits=FOLDS)\n",
    "\n",
    "for i, (train_idx, val_idx) in enumerate(cv.split(train, y), 1):\n",
    "    print(f\"\\n=== Fold: {i} ===\")\n",
    "\n",
    "    # split\n",
    "    X_tr, X_vl = train.iloc[train_idx], train.iloc[val_idx]\n",
    "    y_tr, y_vl = y.iloc[train_idx], y.iloc[val_idx]\n",
    "\n",
    "    # Add KNN features\n",
    "    X_tr, X_vl = preprocess_knn_features(X_tr, X_vl, y_tr, knn_features, knn_params)\n",
    "\n",
    "    # Fit model\n",
    "    model = uncert_model.fit(X_tr[features], y_tr)\n",
    "\n",
    "    # Predict\n",
    "    _, pi_lower, pi_upper = model.predict(X_vl[features])\n",
    "    # Clip Min&Max\n",
    "    y_min, y_max = y_tr.min(), y_tr.max()\n",
    "    pi_lower = np.clip(pi_lower, y_min, y_max)\n",
    "    pi_upper = np.clip(pi_upper, y_min, y_max)\n",
    "\n",
    "    # Calculate Winkler Score\n",
    "    score, coverage = winkler_score(y_vl.values, pi_lower, pi_upper, alpha=ALPHA, return_coverage=True)\n",
    "    print(f\"Winkler score: {score:.4f} Coverage: {coverage:.4f}\")\n",
    "    scores.append(score)\n",
    "    coverages.append(coverage)\n",
    "\n",
    "print(\"\\nAverage Winkler:\", np.mean(scores))\n",
    "print(\"Average Coverage:\", np.mean(coverages))"
   ]
  },
  {
   "cell_type": "code",
   "execution_count": 8,
   "id": "2d9e2a86",
   "metadata": {
    "execution": {
     "iopub.execute_input": "2025-06-08T12:08:03.901150Z",
     "iopub.status.busy": "2025-06-08T12:08:03.900301Z",
     "iopub.status.idle": "2025-06-08T12:13:37.595646Z",
     "shell.execute_reply": "2025-06-08T12:13:37.594261Z"
    },
    "papermill": {
     "duration": 333.712995,
     "end_time": "2025-06-08T12:13:37.597994",
     "exception": false,
     "start_time": "2025-06-08T12:08:03.884999",
     "status": "completed"
    },
    "tags": []
   },
   "outputs": [
    {
     "name": "stderr",
     "output_type": "stream",
     "text": [
      "100%|██████████| 200000/200000 [00:02<00:00, 75580.99it/s]\n",
      "100%|██████████| 200000/200000 [00:02<00:00, 79962.82it/s]\n"
     ]
    },
    {
     "data": {
      "text/plain": [
       "count    2.000000e+05\n",
       "mean     2.382539e+05\n",
       "std      2.223826e+05\n",
       "min      0.000000e+00\n",
       "25%      1.036418e+05\n",
       "50%      1.645328e+05\n",
       "75%      2.807956e+05\n",
       "max      2.949657e+06\n",
       "dtype: float64"
      ]
     },
     "metadata": {},
     "output_type": "display_data"
    },
    {
     "data": {
      "text/html": [
       "<div>\n",
       "<style scoped>\n",
       "    .dataframe tbody tr th:only-of-type {\n",
       "        vertical-align: middle;\n",
       "    }\n",
       "\n",
       "    .dataframe tbody tr th {\n",
       "        vertical-align: top;\n",
       "    }\n",
       "\n",
       "    .dataframe thead th {\n",
       "        text-align: right;\n",
       "    }\n",
       "</style>\n",
       "<table border=\"1\" class=\"dataframe\">\n",
       "  <thead>\n",
       "    <tr style=\"text-align: right;\">\n",
       "      <th></th>\n",
       "      <th>id</th>\n",
       "      <th>pi_lower</th>\n",
       "      <th>pi_upper</th>\n",
       "    </tr>\n",
       "  </thead>\n",
       "  <tbody>\n",
       "    <tr>\n",
       "      <th>0</th>\n",
       "      <td>200000</td>\n",
       "      <td>797736.562500</td>\n",
       "      <td>1.049887e+06</td>\n",
       "    </tr>\n",
       "    <tr>\n",
       "      <th>1</th>\n",
       "      <td>200001</td>\n",
       "      <td>499176.656250</td>\n",
       "      <td>7.930855e+05</td>\n",
       "    </tr>\n",
       "    <tr>\n",
       "      <th>2</th>\n",
       "      <td>200002</td>\n",
       "      <td>439287.250000</td>\n",
       "      <td>6.718078e+05</td>\n",
       "    </tr>\n",
       "    <tr>\n",
       "      <th>3</th>\n",
       "      <td>200003</td>\n",
       "      <td>293318.625000</td>\n",
       "      <td>4.356205e+05</td>\n",
       "    </tr>\n",
       "    <tr>\n",
       "      <th>4</th>\n",
       "      <td>200004</td>\n",
       "      <td>411227.937500</td>\n",
       "      <td>7.380202e+05</td>\n",
       "    </tr>\n",
       "    <tr>\n",
       "      <th>...</th>\n",
       "      <td>...</td>\n",
       "      <td>...</td>\n",
       "      <td>...</td>\n",
       "    </tr>\n",
       "    <tr>\n",
       "      <th>199995</th>\n",
       "      <td>399995</td>\n",
       "      <td>235752.359375</td>\n",
       "      <td>3.753726e+05</td>\n",
       "    </tr>\n",
       "    <tr>\n",
       "      <th>199996</th>\n",
       "      <td>399996</td>\n",
       "      <td>229584.859375</td>\n",
       "      <td>3.305295e+05</td>\n",
       "    </tr>\n",
       "    <tr>\n",
       "      <th>199997</th>\n",
       "      <td>399997</td>\n",
       "      <td>406899.125000</td>\n",
       "      <td>5.153604e+05</td>\n",
       "    </tr>\n",
       "    <tr>\n",
       "      <th>199998</th>\n",
       "      <td>399998</td>\n",
       "      <td>447185.468750</td>\n",
       "      <td>5.535367e+05</td>\n",
       "    </tr>\n",
       "    <tr>\n",
       "      <th>199999</th>\n",
       "      <td>399999</td>\n",
       "      <td>486982.843750</td>\n",
       "      <td>6.069873e+05</td>\n",
       "    </tr>\n",
       "  </tbody>\n",
       "</table>\n",
       "<p>200000 rows × 3 columns</p>\n",
       "</div>"
      ],
      "text/plain": [
       "            id       pi_lower      pi_upper\n",
       "0       200000  797736.562500  1.049887e+06\n",
       "1       200001  499176.656250  7.930855e+05\n",
       "2       200002  439287.250000  6.718078e+05\n",
       "3       200003  293318.625000  4.356205e+05\n",
       "4       200004  411227.937500  7.380202e+05\n",
       "...        ...            ...           ...\n",
       "199995  399995  235752.359375  3.753726e+05\n",
       "199996  399996  229584.859375  3.305295e+05\n",
       "199997  399997  406899.125000  5.153604e+05\n",
       "199998  399998  447185.468750  5.535367e+05\n",
       "199999  399999  486982.843750  6.069873e+05\n",
       "\n",
       "[200000 rows x 3 columns]"
      ]
     },
     "metadata": {},
     "output_type": "display_data"
    }
   ],
   "source": [
    "# Add KNN features to train and test\n",
    "X_train, X_test = preprocess_knn_features(train, test, y, knn_features, knn_params)\n",
    "\n",
    "final_model = uncert_model.fit(X_train[features], y)\n",
    "# Predict\n",
    "_, pi_lower, pi_upper = final_model.predict(X_test[features])\n",
    "# Clip Min&Max\n",
    "y_min, y_max = y.min(), y.max()\n",
    "pi_lower = np.clip(pi_lower, y_min, y_max)\n",
    "pi_upper = np.clip(pi_upper, y_min, y_max)\n",
    "\n",
    "# Prepare submission\n",
    "submission = pd.read_csv(\"/kaggle/input/prediction-interval-competition-ii-house-price/sample_submission.csv\")\n",
    "submission[\"pi_lower\"] = pi_lower\n",
    "submission[\"pi_upper\"] = pi_upper\n",
    "intervals = submission[\"pi_upper\"] - submission[\"pi_lower\"]\n",
    "display(pd.Series(intervals).describe())\n",
    "display(submission)\n",
    "\n",
    "submission.to_csv(\"submission.csv\", index=False)"
   ]
  },
  {
   "cell_type": "code",
   "execution_count": null,
   "id": "9e7d67d2",
   "metadata": {
    "papermill": {
     "duration": 0.017414,
     "end_time": "2025-06-08T12:13:37.635263",
     "exception": false,
     "start_time": "2025-06-08T12:13:37.617849",
     "status": "completed"
    },
    "tags": []
   },
   "outputs": [],
   "source": []
  }
 ],
 "metadata": {
  "kaggle": {
   "accelerator": "none",
   "dataSources": [
    {
     "databundleVersionId": 11917221,
     "sourceId": 99650,
     "sourceType": "competition"
    }
   ],
   "dockerImageVersionId": 31012,
   "isGpuEnabled": false,
   "isInternetEnabled": true,
   "language": "python",
   "sourceType": "notebook"
  },
  "kernelspec": {
   "display_name": "Python 3",
   "language": "python",
   "name": "python3"
  },
  "language_info": {
   "codemirror_mode": {
    "name": "ipython",
    "version": 3
   },
   "file_extension": ".py",
   "mimetype": "text/x-python",
   "name": "python",
   "nbconvert_exporter": "python",
   "pygments_lexer": "ipython3",
   "version": "3.11.11"
  },
  "papermill": {
   "default_parameters": {},
   "duration": 2707.856703,
   "end_time": "2025-06-08T12:13:38.376489",
   "environment_variables": {},
   "exception": null,
   "input_path": "__notebook__.ipynb",
   "output_path": "__notebook__.ipynb",
   "parameters": {},
   "start_time": "2025-06-08T11:28:30.519786",
   "version": "2.6.0"
  }
 },
 "nbformat": 4,
 "nbformat_minor": 5
}
