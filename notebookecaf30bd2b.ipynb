{
 "cells": [
  {
   "cell_type": "code",
   "execution_count": 1,
   "id": "93460ec4",
   "metadata": {
    "_cell_guid": "b1076dfc-b9ad-4769-8c92-a6c4dae69d19",
    "_uuid": "8f2839f25d086af736a60e9eeb907d3b93b6e0e5",
    "execution": {
     "iopub.execute_input": "2025-05-18T20:24:19.813195Z",
     "iopub.status.busy": "2025-05-18T20:24:19.812542Z",
     "iopub.status.idle": "2025-05-18T20:24:23.887035Z",
     "shell.execute_reply": "2025-05-18T20:24:23.886456Z"
    },
    "papermill": {
     "duration": 4.079739,
     "end_time": "2025-05-18T20:24:23.888394",
     "exception": false,
     "start_time": "2025-05-18T20:24:19.808655",
     "status": "completed"
    },
    "tags": []
   },
   "outputs": [],
   "source": [
    "from torch.utils.data import Dataset\n",
    "import numpy as np\n",
    "import os\n",
    "from glob import glob\n",
    "import torch\n",
    "\n",
    "class HyperspectralDataset(Dataset):\n",
    "    def __init__(self, root_dir, transform=None):\n",
    "        self.samples = glob(os.path.join(root_dir, \"*\", \"*.npy\"))\n",
    "        self.transform = transform\n",
    "\n",
    "    def __len__(self):\n",
    "        return len(self.samples)\n",
    "\n",
    "    def __getitem__(self, idx):\n",
    "        file_path = self.samples[idx]\n",
    "        image = np.load(file_path).astype(np.float32)  # shape (H, W, C)\n",
    "        label_str = os.path.basename(os.path.dirname(file_path))\n",
    "        label = int(label_str)\n",
    "        image = np.transpose(image, (2, 0, 1))  # (C, H, W)\n",
    "\n",
    "        image = torch.from_numpy(image)\n",
    "        if self.transform:\n",
    "            image = self.transform(image)\n",
    "\n",
    "        return image, torch.tensor(label, dtype=torch.long)\n"
   ]
  },
  {
   "cell_type": "markdown",
   "id": "54ed6efe",
   "metadata": {
    "papermill": {
     "duration": 0.001874,
     "end_time": "2025-05-18T20:24:23.892975",
     "exception": false,
     "start_time": "2025-05-18T20:24:23.891101",
     "status": "completed"
    },
    "tags": []
   },
   "source": [
    "## CVAE model"
   ]
  },
  {
   "cell_type": "code",
   "execution_count": 2,
   "id": "b2b3b39e",
   "metadata": {
    "execution": {
     "iopub.execute_input": "2025-05-18T20:24:23.897999Z",
     "iopub.status.busy": "2025-05-18T20:24:23.897671Z",
     "iopub.status.idle": "2025-05-18T20:24:23.908610Z",
     "shell.execute_reply": "2025-05-18T20:24:23.908084Z"
    },
    "papermill": {
     "duration": 0.014625,
     "end_time": "2025-05-18T20:24:23.909610",
     "exception": false,
     "start_time": "2025-05-18T20:24:23.894985",
     "status": "completed"
    },
    "tags": []
   },
   "outputs": [],
   "source": [
    "import torch\n",
    "import torch.nn as nn\n",
    "import torch.nn.functional as F\n",
    "\n",
    "class CVAE(nn.Module):\n",
    "    def __init__(self, img_channels=250, condition_dim=10, latent_dim=128, hidden_dims=None):\n",
    "        super(CVAE, self).__init__()\n",
    "        self.img_channels = img_channels\n",
    "        self.latent_dim = latent_dim\n",
    "        self.condition_dim = condition_dim\n",
    "\n",
    "        if hidden_dims is None:\n",
    "            hidden_dims = [32, 64, 128, 256]\n",
    "\n",
    "        self.condition_embed = nn.Linear(condition_dim, 64)\n",
    "\n",
    "        # Encoder\n",
    "        encoder_layers = []\n",
    "        in_channels = img_channels + 1  # 1 for condition broadcast\n",
    "        for h_dim in hidden_dims:\n",
    "            encoder_layers.append(nn.Conv2d(in_channels, h_dim, kernel_size=3, stride=2, padding=1))\n",
    "            encoder_layers.append(nn.ReLU())\n",
    "            in_channels = h_dim\n",
    "        self.encoder = nn.Sequential(*encoder_layers)\n",
    "\n",
    "        self.flatten = nn.Flatten()\n",
    "        self.fc_mu = nn.Linear(hidden_dims[-1]*8*8, latent_dim)\n",
    "        self.fc_logvar = nn.Linear(hidden_dims[-1]*8*8, latent_dim)\n",
    "\n",
    "\n",
    "        # Decoder\n",
    "        self.decoder_input = nn.Linear(latent_dim + 64, hidden_dims[-1] * 4 * 4)\n",
    "\n",
    "        hidden_dims.reverse()\n",
    "        decoder_layers = []\n",
    "        \n",
    "        for i in range(len(hidden_dims) - 1):\n",
    "            decoder_layers.append(nn.ConvTranspose2d(hidden_dims[i], hidden_dims[i + 1],\n",
    "                                                     kernel_size=4, stride=2, padding=1))\n",
    "            decoder_layers.append(nn.ReLU())\n",
    "        \n",
    "        # 32 → 16 → 125\n",
    "        decoder_layers.append(nn.ConvTranspose2d(hidden_dims[-1], 64, kernel_size=4, stride=2, padding=1))\n",
    "        decoder_layers.append(nn.ReLU())\n",
    "        \n",
    "        decoder_layers.append(nn.ConvTranspose2d(64, img_channels, kernel_size=4, stride=2, padding=1))\n",
    "        decoder_layers.append(nn.Sigmoid())\n",
    "        self.decoder = nn.Sequential(*decoder_layers)\n",
    "\n",
    "#\n",
    "    def encode(self, x, c):\n",
    "        B, _, H, W = x.shape\n",
    "        c_broadcast = c.argmax(dim=1).view(B, 1, 1, 1).float().expand(-1, 1, H, W)\n",
    "        x_cond = torch.cat([x, c_broadcast], dim=1)\n",
    "        x_enc = self.encoder(x_cond)\n",
    "        x_flat = self.flatten(x_enc)\n",
    "        mu = self.fc_mu(x_flat)\n",
    "        logvar = self.fc_logvar(x_flat)\n",
    "        return mu, logvar\n",
    "\n",
    "    def reparameterize(self, mu, logvar):\n",
    "        std = torch.exp(0.5 * logvar)\n",
    "        eps = torch.randn_like(std)\n",
    "        return mu + eps * std\n",
    "\n",
    "    def decode(self, z, c):\n",
    "        c_embed = self.condition_embed(c)\n",
    "        zc = torch.cat([z, c_embed], dim=1)\n",
    "        x = self.decoder_input(zc)\n",
    "        x = x.view(x.size(0), -1, 4, 4)\n",
    "        x = self.decoder(x)\n",
    "        return x\n",
    "\n",
    "    def forward(self, x, c):\n",
    "        mu, logvar = self.encode(x, c)\n",
    "        z = self.reparameterize(mu, logvar)\n",
    "        recon = self.decode(z, c)\n",
    "        return recon, mu, logvar\n"
   ]
  },
  {
   "cell_type": "markdown",
   "id": "1fdf210c",
   "metadata": {
    "papermill": {
     "duration": 0.001878,
     "end_time": "2025-05-18T20:24:23.913418",
     "exception": false,
     "start_time": "2025-05-18T20:24:23.911540",
     "status": "completed"
    },
    "tags": []
   },
   "source": [
    "## Loss Function"
   ]
  },
  {
   "cell_type": "code",
   "execution_count": 3,
   "id": "d2abe9e4",
   "metadata": {
    "execution": {
     "iopub.execute_input": "2025-05-18T20:24:23.917889Z",
     "iopub.status.busy": "2025-05-18T20:24:23.917688Z",
     "iopub.status.idle": "2025-05-18T20:24:23.921161Z",
     "shell.execute_reply": "2025-05-18T20:24:23.920666Z"
    },
    "papermill": {
     "duration": 0.00697,
     "end_time": "2025-05-18T20:24:23.922230",
     "exception": false,
     "start_time": "2025-05-18T20:24:23.915260",
     "status": "completed"
    },
    "tags": []
   },
   "outputs": [],
   "source": [
    "def vae_loss(recon_x, x, mu, logvar):\n",
    "    recon_loss = F.mse_loss(recon_x, x, reduction='mean')\n",
    "    kld_loss = -0.5 * torch.sum(1 + logvar - mu.pow(2) - logvar.exp()) / x.size(0)\n",
    "    return recon_loss + kld_loss\n"
   ]
  },
  {
   "cell_type": "markdown",
   "id": "58378ee9",
   "metadata": {
    "papermill": {
     "duration": 0.001798,
     "end_time": "2025-05-18T20:24:23.925982",
     "exception": false,
     "start_time": "2025-05-18T20:24:23.924184",
     "status": "completed"
    },
    "tags": []
   },
   "source": [
    "## Training Loop"
   ]
  },
  {
   "cell_type": "code",
   "execution_count": 4,
   "id": "fe33be9f",
   "metadata": {
    "execution": {
     "iopub.execute_input": "2025-05-18T20:24:23.930690Z",
     "iopub.status.busy": "2025-05-18T20:24:23.930497Z",
     "iopub.status.idle": "2025-05-18T20:24:23.935461Z",
     "shell.execute_reply": "2025-05-18T20:24:23.934981Z"
    },
    "papermill": {
     "duration": 0.008471,
     "end_time": "2025-05-18T20:24:23.936463",
     "exception": false,
     "start_time": "2025-05-18T20:24:23.927992",
     "status": "completed"
    },
    "tags": []
   },
   "outputs": [],
   "source": [
    "from torch.utils.data import DataLoader\n",
    "import torch.optim as optim\n",
    "from tqdm import tqdm\n",
    "\n",
    "def train_cvae(model, dataloader, device, num_epochs=20, lr=1e-3):\n",
    "    optimizer = optim.Adam(model.parameters(), lr=lr)\n",
    "    model.to(device)\n",
    "\n",
    "    for epoch in range(num_epochs):\n",
    "        model.train()\n",
    "        running_loss = 0.0\n",
    "        for x, labels in tqdm(dataloader, desc=f\"Epoch {epoch+1}/{num_epochs}\"):\n",
    "            x = x.to(device)\n",
    "            c = F.one_hot(labels, num_classes=10).float().to(device)\n",
    "\n",
    "            recon, mu, logvar = model(x, c)\n",
    "            loss = vae_loss(recon, x, mu, logvar)\n",
    "\n",
    "            optimizer.zero_grad()\n",
    "            loss.backward()\n",
    "            optimizer.step()\n",
    "            running_loss += loss.item()\n",
    "\n",
    "        avg_loss = running_loss / len(dataloader)\n",
    "        print(f\"Epoch [{epoch+1}/{num_epochs}] - Loss: {avg_loss:.4f}\")\n",
    "     "
   ]
  },
  {
   "cell_type": "markdown",
   "id": "bea2fa07",
   "metadata": {
    "papermill": {
     "duration": 0.001711,
     "end_time": "2025-05-18T20:24:23.940030",
     "exception": false,
     "start_time": "2025-05-18T20:24:23.938319",
     "status": "completed"
    },
    "tags": []
   },
   "source": [
    "## Usage"
   ]
  },
  {
   "cell_type": "code",
   "execution_count": 5,
   "id": "848a8c7a",
   "metadata": {
    "execution": {
     "iopub.execute_input": "2025-05-18T20:24:23.944844Z",
     "iopub.status.busy": "2025-05-18T20:24:23.944419Z",
     "iopub.status.idle": "2025-05-18T20:29:06.608789Z",
     "shell.execute_reply": "2025-05-18T20:29:06.607607Z"
    },
    "papermill": {
     "duration": 282.668304,
     "end_time": "2025-05-18T20:29:06.610368",
     "exception": false,
     "start_time": "2025-05-18T20:24:23.942064",
     "status": "completed"
    },
    "tags": []
   },
   "outputs": [
    {
     "name": "stderr",
     "output_type": "stream",
     "text": [
      "Epoch 1/10: 100%|██████████| 131/131 [00:51<00:00,  2.56it/s]\n"
     ]
    },
    {
     "name": "stdout",
     "output_type": "stream",
     "text": [
      "Epoch [1/10] - Loss: nan\n"
     ]
    },
    {
     "name": "stderr",
     "output_type": "stream",
     "text": [
      "Epoch 2/10: 100%|██████████| 131/131 [00:24<00:00,  5.28it/s]\n"
     ]
    },
    {
     "name": "stdout",
     "output_type": "stream",
     "text": [
      "Epoch [2/10] - Loss: nan\n"
     ]
    },
    {
     "name": "stderr",
     "output_type": "stream",
     "text": [
      "Epoch 3/10: 100%|██████████| 131/131 [00:25<00:00,  5.18it/s]\n"
     ]
    },
    {
     "name": "stdout",
     "output_type": "stream",
     "text": [
      "Epoch [3/10] - Loss: nan\n"
     ]
    },
    {
     "name": "stderr",
     "output_type": "stream",
     "text": [
      "Epoch 4/10: 100%|██████████| 131/131 [00:25<00:00,  5.09it/s]\n"
     ]
    },
    {
     "name": "stdout",
     "output_type": "stream",
     "text": [
      "Epoch [4/10] - Loss: nan\n"
     ]
    },
    {
     "name": "stderr",
     "output_type": "stream",
     "text": [
      "Epoch 5/10: 100%|██████████| 131/131 [00:25<00:00,  5.22it/s]\n"
     ]
    },
    {
     "name": "stdout",
     "output_type": "stream",
     "text": [
      "Epoch [5/10] - Loss: nan\n"
     ]
    },
    {
     "name": "stderr",
     "output_type": "stream",
     "text": [
      "Epoch 6/10: 100%|██████████| 131/131 [00:25<00:00,  5.20it/s]\n"
     ]
    },
    {
     "name": "stdout",
     "output_type": "stream",
     "text": [
      "Epoch [6/10] - Loss: nan\n"
     ]
    },
    {
     "name": "stderr",
     "output_type": "stream",
     "text": [
      "Epoch 7/10: 100%|██████████| 131/131 [00:24<00:00,  5.25it/s]\n"
     ]
    },
    {
     "name": "stdout",
     "output_type": "stream",
     "text": [
      "Epoch [7/10] - Loss: nan\n"
     ]
    },
    {
     "name": "stderr",
     "output_type": "stream",
     "text": [
      "Epoch 8/10: 100%|██████████| 131/131 [00:25<00:00,  5.18it/s]\n"
     ]
    },
    {
     "name": "stdout",
     "output_type": "stream",
     "text": [
      "Epoch [8/10] - Loss: nan\n"
     ]
    },
    {
     "name": "stderr",
     "output_type": "stream",
     "text": [
      "Epoch 9/10: 100%|██████████| 131/131 [00:25<00:00,  5.22it/s]\n"
     ]
    },
    {
     "name": "stdout",
     "output_type": "stream",
     "text": [
      "Epoch [9/10] - Loss: nan\n"
     ]
    },
    {
     "name": "stderr",
     "output_type": "stream",
     "text": [
      "Epoch 10/10: 100%|██████████| 131/131 [00:24<00:00,  5.25it/s]"
     ]
    },
    {
     "name": "stdout",
     "output_type": "stream",
     "text": [
      "Epoch [10/10] - Loss: nan\n"
     ]
    },
    {
     "name": "stderr",
     "output_type": "stream",
     "text": [
      "\n"
     ]
    }
   ],
   "source": [
    "# Setup\n",
    "device = torch.device('cuda' if torch.cuda.is_available() else 'cpu')\n",
    "dataset = HyperspectralDataset(root_dir=\"/kaggle/input/beyond-visible-spectrum-ai-for-agriculture-2025p2/Train\")\n",
    "dataloader = DataLoader(dataset, batch_size=16, shuffle=True, num_workers=2)\n",
    "\n",
    "model = CVAE(img_channels=125)\n",
    "train_cvae(model, dataloader, device, num_epochs=10)\n"
   ]
  },
  {
   "cell_type": "markdown",
   "id": "8ff74120",
   "metadata": {
    "papermill": {
     "duration": 0.051919,
     "end_time": "2025-05-18T20:29:06.715442",
     "exception": false,
     "start_time": "2025-05-18T20:29:06.663523",
     "status": "completed"
    },
    "tags": []
   },
   "source": [
    "## Generation"
   ]
  },
  {
   "cell_type": "code",
   "execution_count": 6,
   "id": "ba922cc3",
   "metadata": {
    "execution": {
     "iopub.execute_input": "2025-05-18T20:29:06.824781Z",
     "iopub.status.busy": "2025-05-18T20:29:06.824201Z",
     "iopub.status.idle": "2025-05-18T20:29:06.830044Z",
     "shell.execute_reply": "2025-05-18T20:29:06.829319Z"
    },
    "papermill": {
     "duration": 0.061865,
     "end_time": "2025-05-18T20:29:06.831350",
     "exception": false,
     "start_time": "2025-05-18T20:29:06.769485",
     "status": "completed"
    },
    "tags": []
   },
   "outputs": [],
   "source": [
    "def generate_samples(model, disease_level, num_samples=50, latent_dim=128, device='cpu'):\n",
    "    model.eval()\n",
    "    with torch.no_grad():\n",
    "        z = torch.randn(num_samples, latent_dim).to(device)\n",
    "        labels = torch.full((num_samples,), disease_level, dtype=torch.long).to(device)\n",
    "        c = F.one_hot(labels, num_classes=10).float()\n",
    "        samples = model.decode(z, c)\n",
    "        return samples.cpu().numpy()  # (B, C, H, W)\n"
   ]
  },
  {
   "cell_type": "markdown",
   "id": "ae89e53b",
   "metadata": {
    "papermill": {
     "duration": 0.05218,
     "end_time": "2025-05-18T20:29:06.937027",
     "exception": false,
     "start_time": "2025-05-18T20:29:06.884847",
     "status": "completed"
    },
    "tags": []
   },
   "source": []
  }
 ],
 "metadata": {
  "kaggle": {
   "accelerator": "none",
   "dataSources": [
    {
     "databundleVersionId": 12076007,
     "sourceId": 100385,
     "sourceType": "competition"
    }
   ],
   "dockerImageVersionId": 31040,
   "isGpuEnabled": false,
   "isInternetEnabled": true,
   "language": "python",
   "sourceType": "notebook"
  },
  "kernelspec": {
   "display_name": "Python 3",
   "language": "python",
   "name": "python3"
  },
  "language_info": {
   "codemirror_mode": {
    "name": "ipython",
    "version": 3
   },
   "file_extension": ".py",
   "mimetype": "text/x-python",
   "name": "python",
   "nbconvert_exporter": "python",
   "pygments_lexer": "ipython3",
   "version": "3.11.11"
  },
  "papermill": {
   "default_parameters": {},
   "duration": 294.456409,
   "end_time": "2025-05-18T20:29:10.049299",
   "environment_variables": {},
   "exception": null,
   "input_path": "__notebook__.ipynb",
   "output_path": "__notebook__.ipynb",
   "parameters": {},
   "start_time": "2025-05-18T20:24:15.592890",
   "version": "2.6.0"
  }
 },
 "nbformat": 4,
 "nbformat_minor": 5
}
