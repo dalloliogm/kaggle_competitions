{
 "cells": [
  {
   "cell_type": "code",
   "execution_count": 1,
   "id": "bf1d4ee3",
   "metadata": {
    "_cell_guid": "b1076dfc-b9ad-4769-8c92-a6c4dae69d19",
    "_uuid": "8f2839f25d086af736a60e9eeb907d3b93b6e0e5",
    "execution": {
     "iopub.execute_input": "2025-04-16T13:14:21.349413Z",
     "iopub.status.busy": "2025-04-16T13:14:21.349034Z",
     "iopub.status.idle": "2025-04-16T13:14:31.889965Z",
     "shell.execute_reply": "2025-04-16T13:14:31.888354Z"
    },
    "papermill": {
     "duration": 10.547109,
     "end_time": "2025-04-16T13:14:31.892009",
     "exception": false,
     "start_time": "2025-04-16T13:14:21.344900",
     "status": "completed"
    },
    "tags": []
   },
   "outputs": [
    {
     "name": "stdout",
     "output_type": "stream",
     "text": [
      "\u001b[2K   \u001b[90m━━━━━━━━━━━━━━━━━━━━━━━━━━━━━━━━━━━━━━━━\u001b[0m \u001b[32m13.5/13.5 MB\u001b[0m \u001b[31m79.6 MB/s\u001b[0m eta \u001b[36m0:00:00\u001b[0m\r\n",
      "\u001b[?25h\u001b[31mERROR: pip's dependency resolver does not currently take into account all the packages that are installed. This behaviour is the source of the following dependency conflicts.\r\n",
      "category-encoders 2.7.0 requires scikit-learn<1.6.0,>=1.0.0, but you have scikit-learn 1.6.1 which is incompatible.\u001b[0m\u001b[31m\r\n",
      "\u001b[0m"
     ]
    }
   ],
   "source": [
    "!pip install -qq scikit-learn==1.6.1"
   ]
  },
  {
   "cell_type": "code",
   "execution_count": 2,
   "id": "ba31f7dc",
   "metadata": {
    "execution": {
     "iopub.execute_input": "2025-04-16T13:14:31.899913Z",
     "iopub.status.busy": "2025-04-16T13:14:31.899570Z",
     "iopub.status.idle": "2025-04-16T13:14:38.489403Z",
     "shell.execute_reply": "2025-04-16T13:14:38.488325Z"
    },
    "papermill": {
     "duration": 6.595853,
     "end_time": "2025-04-16T13:14:38.491359",
     "exception": false,
     "start_time": "2025-04-16T13:14:31.895506",
     "status": "completed"
    },
    "tags": []
   },
   "outputs": [],
   "source": [
    "from tqdm import tqdm\n",
    "from itertools import combinations\n",
    "\n",
    "import numpy as np\n",
    "import pandas as pd\n",
    "import polars as pl\n",
    "\n",
    "import matplotlib.pyplot as plt\n",
    "import seaborn as sns\n",
    "\n",
    "from sklearn.model_selection import KFold\n",
    "from sklearn.preprocessing import TargetEncoder\n",
    "\n",
    "import lightgbm as lgb\n",
    "\n",
    "import warnings\n",
    "warnings.simplefilter('ignore')\n",
    "\n",
    "# I forgot to set a seed for the LightGBM, so the results may vary slightly\n",
    "# CV: 12.25\n",
    "# LB: 12.15\n",
    "# Run Time: 1h47m"
   ]
  },
  {
   "cell_type": "code",
   "execution_count": 3,
   "id": "0da5251d",
   "metadata": {
    "execution": {
     "iopub.execute_input": "2025-04-16T13:14:38.499847Z",
     "iopub.status.busy": "2025-04-16T13:14:38.499182Z",
     "iopub.status.idle": "2025-04-16T13:14:38.509659Z",
     "shell.execute_reply": "2025-04-16T13:14:38.508548Z"
    },
    "papermill": {
     "duration": 0.016755,
     "end_time": "2025-04-16T13:14:38.511555",
     "exception": false,
     "start_time": "2025-04-16T13:14:38.494800",
     "status": "completed"
    },
    "tags": []
   },
   "outputs": [],
   "source": [
    "def feature_eng(df):\n",
    "    podc_dict = {'Mystery Matters': 0, 'Joke Junction': 1, 'Study Sessions': 2, 'Digital Digest': 3, 'Mind & Body': 4, 'Fitness First': 5, 'Criminal Minds': 6, 'News Roundup': 7, 'Daily Digest': 8, 'Music Matters': 9, 'Sports Central': 10, 'Melody Mix': 11, 'Game Day': 12, 'Gadget Geek': 13, 'Global News': 14, 'Tech Talks': 15, 'Sport Spot': 16, 'Funny Folks': 17, 'Sports Weekly': 18, 'Business Briefs': 19, 'Tech Trends': 20, 'Innovators': 21, 'Health Hour': 22, 'Comedy Corner': 23, 'Sound Waves': 24, 'Brain Boost': 25, \"Athlete's Arena\": 26, 'Wellness Wave': 27, 'Style Guide': 28, 'World Watch': 29, 'Humor Hub': 30, 'Money Matters': 31, 'Healthy Living': 32, 'Home & Living': 33, 'Educational Nuggets': 34, 'Market Masters': 35, 'Learning Lab': 36, 'Lifestyle Lounge': 37, 'Crime Chronicles': 38, 'Detective Diaries': 39, 'Life Lessons': 40, 'Current Affairs': 41, 'Finance Focus': 42, 'Laugh Line': 43, 'True Crime Stories': 44, 'Business Insights': 45, 'Fashion Forward': 46, 'Tune Time': 47}\n",
    "    genr_dict = {'True Crime': 0, 'Comedy': 1, 'Education': 2, 'Technology': 3, 'Health': 4, 'News': 5, 'Music': 6, 'Sports': 7, 'Business': 8, 'Lifestyle': 9}\n",
    "    week_dict = {'Monday': 0, 'Tuesday': 1, 'Wednesday': 2, 'Thursday': 3, 'Friday': 4, 'Saturday': 5, 'Sunday': 6}\n",
    "    time_dict = {'Morning': 0, 'Afternoon': 1, 'Evening': 2, 'Night': 3}\n",
    "    sent_dict = {'Negative': 0, 'Neutral': 1, 'Positive': 2}\n",
    "    \n",
    "    df['Episode_Num'] = df['Episode_Title'].str[8:].astype('category')\n",
    "    \n",
    "    df['Genre'] = df['Genre'].replace(genr_dict)\n",
    "    df['Podcast_Name'] = df['Podcast_Name'].replace(podc_dict)\n",
    "    df['Publication_Day'] = df['Publication_Day'].replace(week_dict)\n",
    "    df['Publication_Time'] = df['Publication_Time'].replace(time_dict)\n",
    "    df['Episode_Sentiment'] = df['Episode_Sentiment'].replace(sent_dict)\n",
    "    \n",
    "    df['Genre'] = df['Genre'].astype('category')\n",
    "    df['Podcast_Name'] = df['Podcast_Name'].astype('category')\n",
    "    df['Publication_Day'] = df['Publication_Day'].astype('category')\n",
    "    df['Publication_Time'] = df['Publication_Time'].astype('category')\n",
    "    df['Episode_Sentiment'] = df['Episode_Sentiment'].astype('category')\n",
    "    \n",
    "    df = df.drop(columns=['Episode_Title'])\n",
    "    return df"
   ]
  },
  {
   "cell_type": "code",
   "execution_count": 4,
   "id": "053652ba",
   "metadata": {
    "execution": {
     "iopub.execute_input": "2025-04-16T13:14:38.519171Z",
     "iopub.status.busy": "2025-04-16T13:14:38.518825Z",
     "iopub.status.idle": "2025-04-16T13:14:45.573917Z",
     "shell.execute_reply": "2025-04-16T13:14:45.572906Z"
    },
    "papermill": {
     "duration": 7.060947,
     "end_time": "2025-04-16T13:14:45.575872",
     "exception": false,
     "start_time": "2025-04-16T13:14:38.514925",
     "status": "completed"
    },
    "tags": []
   },
   "outputs": [],
   "source": [
    "df_train = pd.read_csv('/kaggle/input/playground-series-s5e4/train.csv', index_col='id')\n",
    "df_train = feature_eng(df_train)\n",
    "\n",
    "df_test = pd.read_csv('/kaggle/input/playground-series-s5e4/test.csv', index_col='id')\n",
    "df_test = feature_eng(df_test)\n",
    "\n",
    "df_subm = pd.read_csv('/kaggle/input/playground-series-s5e4/sample_submission.csv', index_col='id')"
   ]
  },
  {
   "cell_type": "code",
   "execution_count": 5,
   "id": "508f9a73",
   "metadata": {
    "execution": {
     "iopub.execute_input": "2025-04-16T13:14:45.583481Z",
     "iopub.status.busy": "2025-04-16T13:14:45.583106Z",
     "iopub.status.idle": "2025-04-16T13:28:17.326815Z",
     "shell.execute_reply": "2025-04-16T13:28:17.325495Z"
    },
    "papermill": {
     "duration": 811.749215,
     "end_time": "2025-04-16T13:28:17.328490",
     "exception": false,
     "start_time": "2025-04-16T13:14:45.579275",
     "status": "completed"
    },
    "tags": []
   },
   "outputs": [
    {
     "name": "stderr",
     "output_type": "stream",
     "text": [
      "100%|██████████| 21/21 [02:33<00:00,  7.32s/it]\n",
      "100%|██████████| 35/35 [05:04<00:00,  8.71s/it]\n",
      "100%|██████████| 35/35 [05:53<00:00, 10.09s/it]\n"
     ]
    }
   ],
   "source": [
    "encode_columns = ['Episode_Length_minutes', 'Episode_Num', 'Host_Popularity_percentage', 'Number_of_Ads', 'Episode_Sentiment', 'Publication_Day', 'Publication_Time']\n",
    "pair_size = [2, 3, 4]\n",
    "\n",
    "for r in pair_size:\n",
    "    for cols in tqdm(list(combinations(encode_columns, r))):\n",
    "        new_col_name = '_'.join(cols)\n",
    "        \n",
    "        df_train[new_col_name] = df_train[list(cols)].astype(str).agg('_'.join, axis=1)\n",
    "        df_train[new_col_name] = df_train[new_col_name].astype('category')\n",
    "        \n",
    "        df_test[new_col_name] = df_test[list(cols)].astype(str).agg('_'.join, axis=1)\n",
    "        df_test[new_col_name] = df_test[new_col_name].astype('category')"
   ]
  },
  {
   "cell_type": "code",
   "execution_count": 6,
   "id": "5cf400f8",
   "metadata": {
    "execution": {
     "iopub.execute_input": "2025-04-16T13:28:17.348362Z",
     "iopub.status.busy": "2025-04-16T13:28:17.347998Z",
     "iopub.status.idle": "2025-04-16T13:28:17.575081Z",
     "shell.execute_reply": "2025-04-16T13:28:17.574008Z"
    },
    "papermill": {
     "duration": 0.239323,
     "end_time": "2025-04-16T13:28:17.577120",
     "exception": false,
     "start_time": "2025-04-16T13:28:17.337797",
     "status": "completed"
    },
    "tags": []
   },
   "outputs": [],
   "source": [
    "X = df_train.drop(columns=['Listening_Time_minutes'])\n",
    "y = df_train['Listening_Time_minutes']"
   ]
  },
  {
   "cell_type": "code",
   "execution_count": 7,
   "id": "b16591b6",
   "metadata": {
    "execution": {
     "iopub.execute_input": "2025-04-16T13:28:17.597354Z",
     "iopub.status.busy": "2025-04-16T13:28:17.596987Z",
     "iopub.status.idle": "2025-04-16T14:52:34.268863Z",
     "shell.execute_reply": "2025-04-16T14:52:34.265700Z"
    },
    "papermill": {
     "duration": 5056.684909,
     "end_time": "2025-04-16T14:52:34.271584",
     "exception": false,
     "start_time": "2025-04-16T13:28:17.586675",
     "status": "completed"
    },
    "tags": []
   },
   "outputs": [
    {
     "name": "stdout",
     "output_type": "stream",
     "text": [
      "[100]\tvalid_0's rmse: 12.3248\n",
      "[200]\tvalid_0's rmse: 12.2214\n",
      "[300]\tvalid_0's rmse: 12.2177\n",
      "[400]\tvalid_0's rmse: 12.2184\n",
      "[500]\tvalid_0's rmse: 12.22\n",
      "[600]\tvalid_0's rmse: 12.2222\n",
      "[700]\tvalid_0's rmse: 12.2222\n",
      "[800]\tvalid_0's rmse: 12.2238\n",
      "[900]\tvalid_0's rmse: 12.2245\n",
      "[1000]\tvalid_0's rmse: 12.2269\n",
      "[100]\tvalid_0's rmse: 12.3654\n",
      "[200]\tvalid_0's rmse: 12.2599\n",
      "[300]\tvalid_0's rmse: 12.2544\n",
      "[400]\tvalid_0's rmse: 12.255\n",
      "[500]\tvalid_0's rmse: 12.2556\n",
      "[600]\tvalid_0's rmse: 12.2555\n",
      "[700]\tvalid_0's rmse: 12.2568\n",
      "[800]\tvalid_0's rmse: 12.2578\n",
      "[900]\tvalid_0's rmse: 12.2601\n",
      "[1000]\tvalid_0's rmse: 12.2607\n",
      "[100]\tvalid_0's rmse: 12.3798\n",
      "[200]\tvalid_0's rmse: 12.2757\n",
      "[300]\tvalid_0's rmse: 12.2795\n",
      "[400]\tvalid_0's rmse: 12.28\n",
      "[500]\tvalid_0's rmse: 12.2821\n",
      "[600]\tvalid_0's rmse: 12.2838\n",
      "[700]\tvalid_0's rmse: 12.286\n",
      "[800]\tvalid_0's rmse: 12.2874\n",
      "[900]\tvalid_0's rmse: 12.2891\n",
      "[1000]\tvalid_0's rmse: 12.2915\n",
      "[100]\tvalid_0's rmse: 12.3539\n",
      "[200]\tvalid_0's rmse: 12.2495\n",
      "[300]\tvalid_0's rmse: 12.2462\n",
      "[400]\tvalid_0's rmse: 12.2457\n",
      "[500]\tvalid_0's rmse: 12.2493\n",
      "[600]\tvalid_0's rmse: 12.2514\n",
      "[700]\tvalid_0's rmse: 12.2541\n",
      "[800]\tvalid_0's rmse: 12.2541\n",
      "[900]\tvalid_0's rmse: 12.2558\n",
      "[1000]\tvalid_0's rmse: 12.2567\n",
      "[100]\tvalid_0's rmse: 12.3161\n",
      "[200]\tvalid_0's rmse: 12.2125\n",
      "[300]\tvalid_0's rmse: 12.2086\n",
      "[400]\tvalid_0's rmse: 12.2106\n",
      "[500]\tvalid_0's rmse: 12.2117\n",
      "[600]\tvalid_0's rmse: 12.213\n",
      "[700]\tvalid_0's rmse: 12.2154\n",
      "[800]\tvalid_0's rmse: 12.2178\n",
      "[900]\tvalid_0's rmse: 12.2189\n",
      "[1000]\tvalid_0's rmse: 12.2196\n"
     ]
    }
   ],
   "source": [
    "cv = KFold(5, random_state=42, shuffle=True)\n",
    "y_pred = np.zeros(len(df_subm))\n",
    "\n",
    "for idx_train, idx_valid in cv.split(X, y):\n",
    "    X_train, y_train = X.iloc[idx_train], y.iloc[idx_train]\n",
    "    X_valid, y_valid = X.iloc[idx_valid], y.iloc[idx_valid]\n",
    "    X_test = df_test[X.columns].copy()\n",
    "    \n",
    "    encoded_columns = df_train.columns[11:]\n",
    "    encoder = TargetEncoder(random_state=42)\n",
    "    \n",
    "    X_train[encoded_columns] = encoder.fit_transform(X_train[encoded_columns], y_train)\n",
    "    X_valid[encoded_columns] = encoder.transform(X_valid[encoded_columns])\n",
    "    X_test[encoded_columns] = encoder.transform(X_test[encoded_columns])\n",
    "\n",
    "    model = lgb.LGBMRegressor(\n",
    "        n_iter=1000,\n",
    "        max_depth=-1,\n",
    "        num_leaves=1024,\n",
    "        colsample_bytree=0.7,\n",
    "        learning_rate=0.03,\n",
    "        objective='l2',\n",
    "        metric='rmse', \n",
    "        verbosity=-1,\n",
    "        max_bin=1024,\n",
    "    )\n",
    "\n",
    "    model.fit(\n",
    "        X_train, y_train,\n",
    "        eval_set=[(X_valid, y_valid)],\n",
    "        callbacks=[lgb.log_evaluation(100)],\n",
    "    )\n",
    "    \n",
    "    y_pred += model.predict(X_test)"
   ]
  },
  {
   "cell_type": "code",
   "execution_count": 8,
   "id": "0d055a68",
   "metadata": {
    "execution": {
     "iopub.execute_input": "2025-04-16T14:52:34.300790Z",
     "iopub.status.busy": "2025-04-16T14:52:34.300177Z",
     "iopub.status.idle": "2025-04-16T14:52:34.835332Z",
     "shell.execute_reply": "2025-04-16T14:52:34.834043Z"
    },
    "papermill": {
     "duration": 0.552208,
     "end_time": "2025-04-16T14:52:34.837430",
     "exception": false,
     "start_time": "2025-04-16T14:52:34.285222",
     "status": "completed"
    },
    "tags": []
   },
   "outputs": [
    {
     "data": {
      "text/html": [
       "<div>\n",
       "<style scoped>\n",
       "    .dataframe tbody tr th:only-of-type {\n",
       "        vertical-align: middle;\n",
       "    }\n",
       "\n",
       "    .dataframe tbody tr th {\n",
       "        vertical-align: top;\n",
       "    }\n",
       "\n",
       "    .dataframe thead th {\n",
       "        text-align: right;\n",
       "    }\n",
       "</style>\n",
       "<table border=\"1\" class=\"dataframe\">\n",
       "  <thead>\n",
       "    <tr style=\"text-align: right;\">\n",
       "      <th></th>\n",
       "      <th>Listening_Time_minutes</th>\n",
       "    </tr>\n",
       "    <tr>\n",
       "      <th>id</th>\n",
       "      <th></th>\n",
       "    </tr>\n",
       "  </thead>\n",
       "  <tbody>\n",
       "    <tr>\n",
       "      <th>750000</th>\n",
       "      <td>53.652669</td>\n",
       "    </tr>\n",
       "    <tr>\n",
       "      <th>750001</th>\n",
       "      <td>23.661658</td>\n",
       "    </tr>\n",
       "    <tr>\n",
       "      <th>750002</th>\n",
       "      <td>48.053122</td>\n",
       "    </tr>\n",
       "    <tr>\n",
       "      <th>750003</th>\n",
       "      <td>80.324293</td>\n",
       "    </tr>\n",
       "    <tr>\n",
       "      <th>750004</th>\n",
       "      <td>49.207982</td>\n",
       "    </tr>\n",
       "  </tbody>\n",
       "</table>\n",
       "</div>"
      ],
      "text/plain": [
       "        Listening_Time_minutes\n",
       "id                            \n",
       "750000               53.652669\n",
       "750001               23.661658\n",
       "750002               48.053122\n",
       "750003               80.324293\n",
       "750004               49.207982"
      ]
     },
     "execution_count": 8,
     "metadata": {},
     "output_type": "execute_result"
    }
   ],
   "source": [
    "df_subm['Listening_Time_minutes'] = y_pred / 5\n",
    "df_subm.to_csv('submission.csv')\n",
    "df_subm.head()"
   ]
  },
  {
   "cell_type": "code",
   "execution_count": null,
   "id": "ce929474",
   "metadata": {
    "papermill": {
     "duration": 0.012251,
     "end_time": "2025-04-16T14:52:34.862700",
     "exception": false,
     "start_time": "2025-04-16T14:52:34.850449",
     "status": "completed"
    },
    "tags": []
   },
   "outputs": [],
   "source": []
  }
 ],
 "metadata": {
  "kaggle": {
   "accelerator": "none",
   "dataSources": [
    {
     "databundleVersionId": 11351736,
     "sourceId": 91715,
     "sourceType": "competition"
    }
   ],
   "dockerImageVersionId": 30918,
   "isGpuEnabled": false,
   "isInternetEnabled": true,
   "language": "python",
   "sourceType": "notebook"
  },
  "kernelspec": {
   "display_name": "Python 3",
   "language": "python",
   "name": "python3"
  },
  "language_info": {
   "codemirror_mode": {
    "name": "ipython",
    "version": 3
   },
   "file_extension": ".py",
   "mimetype": "text/x-python",
   "name": "python",
   "nbconvert_exporter": "python",
   "pygments_lexer": "ipython3",
   "version": "3.10.12"
  },
  "papermill": {
   "default_parameters": {},
   "duration": 5900.129058,
   "end_time": "2025-04-16T14:52:37.908166",
   "environment_variables": {},
   "exception": null,
   "input_path": "__notebook__.ipynb",
   "output_path": "__notebook__.ipynb",
   "parameters": {},
   "start_time": "2025-04-16T13:14:17.779108",
   "version": "2.6.0"
  }
 },
 "nbformat": 4,
 "nbformat_minor": 5
}
