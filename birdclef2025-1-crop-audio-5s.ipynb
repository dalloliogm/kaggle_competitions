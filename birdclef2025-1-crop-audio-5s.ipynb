{
 "cells": [
  {
   "cell_type": "markdown",
   "id": "8e1ebf82",
   "metadata": {
    "papermill": {
     "duration": 0.002794,
     "end_time": "2025-06-05T05:29:23.669583",
     "exception": false,
     "start_time": "2025-06-05T05:29:23.666789",
     "status": "completed"
    },
    "tags": []
   },
   "source": [
    "* Training Notebook [here.](https://www.kaggle.com/code/myso1987/birdclef2025-2-train-baseline-5s)\n",
    "* Inference Notebook [here.](https://www.kaggle.com/code/myso1987/birdclef2025-3-submit-baseline-5s)"
   ]
  },
  {
   "cell_type": "code",
   "execution_count": 1,
   "id": "63458780",
   "metadata": {
    "execution": {
     "iopub.execute_input": "2025-06-05T05:29:23.676063Z",
     "iopub.status.busy": "2025-06-05T05:29:23.675579Z",
     "iopub.status.idle": "2025-06-05T05:29:31.383649Z",
     "shell.execute_reply": "2025-06-05T05:29:31.382245Z"
    },
    "papermill": {
     "duration": 7.713498,
     "end_time": "2025-06-05T05:29:31.385700",
     "exception": false,
     "start_time": "2025-06-05T05:29:23.672202",
     "status": "completed"
    },
    "tags": []
   },
   "outputs": [],
   "source": [
    "import os\n",
    "import pandas as pd\n",
    "import numpy as np\n",
    "import torch\n",
    "import torchaudio"
   ]
  },
  {
   "cell_type": "code",
   "execution_count": 2,
   "id": "7b574d7e",
   "metadata": {
    "execution": {
     "iopub.execute_input": "2025-06-05T05:29:31.392179Z",
     "iopub.status.busy": "2025-06-05T05:29:31.391527Z",
     "iopub.status.idle": "2025-06-05T05:29:31.396670Z",
     "shell.execute_reply": "2025-06-05T05:29:31.395508Z"
    },
    "papermill": {
     "duration": 0.010419,
     "end_time": "2025-06-05T05:29:31.398657",
     "exception": false,
     "start_time": "2025-06-05T05:29:31.388238",
     "status": "completed"
    },
    "tags": []
   },
   "outputs": [],
   "source": [
    "wav_sec = 5\n",
    "sample_rate = 32000\n",
    "min_segment = sample_rate*wav_sec"
   ]
  },
  {
   "cell_type": "code",
   "execution_count": 3,
   "id": "7440d3c6",
   "metadata": {
    "execution": {
     "iopub.execute_input": "2025-06-05T05:29:31.404712Z",
     "iopub.status.busy": "2025-06-05T05:29:31.404339Z",
     "iopub.status.idle": "2025-06-05T05:29:31.634600Z",
     "shell.execute_reply": "2025-06-05T05:29:31.633055Z"
    },
    "papermill": {
     "duration": 0.235794,
     "end_time": "2025-06-05T05:29:31.636938",
     "exception": false,
     "start_time": "2025-06-05T05:29:31.401144",
     "status": "completed"
    },
    "tags": []
   },
   "outputs": [],
   "source": [
    "root_path = \"../input/birdclef-2025/\"\n",
    "input_path = root_path + '/train_audio/'\n",
    "out_path = \"./train_raw\" + str(wav_sec) +\"/\"\n",
    "backend='soundfile'\n",
    "\n",
    "try:\n",
    "    os.mkdir(out_path)\n",
    "except FileExistsError:\n",
    "    pass\n",
    "\n",
    "train_meta = pd.read_csv(root_path + 'train.csv')"
   ]
  },
  {
   "cell_type": "code",
   "execution_count": 4,
   "id": "256dae4d",
   "metadata": {
    "execution": {
     "iopub.execute_input": "2025-06-05T05:29:31.643818Z",
     "iopub.status.busy": "2025-06-05T05:29:31.643458Z",
     "iopub.status.idle": "2025-06-05T05:29:31.649955Z",
     "shell.execute_reply": "2025-06-05T05:29:31.648553Z"
    },
    "papermill": {
     "duration": 0.012801,
     "end_time": "2025-06-05T05:29:31.652314",
     "exception": false,
     "start_time": "2025-06-05T05:29:31.639513",
     "status": "completed"
    },
    "tags": []
   },
   "outputs": [],
   "source": [
    "def crop_and_save(index):\n",
    "    sig, _ = torchaudio.load(input_path+train_meta.iloc[index].filename, backend=backend)\n",
    "    \n",
    "    if sig.shape[1]<=min_segment:\n",
    "        sig = torch.concat([sig, torch.zeros(1,min_segment-sig.shape[1])], dim=1)\n",
    "\n",
    "    dir_path = out_path + train_meta.iloc[index].filename.split('/')[0] + '/'\n",
    "    if not os.path.exists(dir_path):\n",
    "        os.mkdir(dir_path)\n",
    "    \n",
    "    tmp_savename = out_path + train_meta.iloc[index].filename\n",
    "    torchaudio.save(uri=tmp_savename, src=sig[:,:min_segment], sample_rate=sample_rate, backend=backend)"
   ]
  },
  {
   "cell_type": "code",
   "execution_count": 5,
   "id": "3542c6fd",
   "metadata": {
    "execution": {
     "iopub.execute_input": "2025-06-05T05:29:31.659700Z",
     "iopub.status.busy": "2025-06-05T05:29:31.659264Z",
     "iopub.status.idle": "2025-06-05T06:14:45.166506Z",
     "shell.execute_reply": "2025-06-05T06:14:45.162425Z"
    },
    "papermill": {
     "duration": 2713.516264,
     "end_time": "2025-06-05T06:14:45.171567",
     "exception": false,
     "start_time": "2025-06-05T05:29:31.655303",
     "status": "completed"
    },
    "tags": []
   },
   "outputs": [],
   "source": [
    "for index in range(len(train_meta)):\n",
    "    crop_and_save(index)"
   ]
  }
 ],
 "metadata": {
  "kaggle": {
   "accelerator": "none",
   "dataSources": [
    {
     "databundleVersionId": 11361821,
     "sourceId": 91844,
     "sourceType": "competition"
    }
   ],
   "dockerImageVersionId": 30918,
   "isGpuEnabled": false,
   "isInternetEnabled": true,
   "language": "python",
   "sourceType": "notebook"
  },
  "kernelspec": {
   "display_name": "Python 3",
   "language": "python",
   "name": "python3"
  },
  "language_info": {
   "codemirror_mode": {
    "name": "ipython",
    "version": 3
   },
   "file_extension": ".py",
   "mimetype": "text/x-python",
   "name": "python",
   "nbconvert_exporter": "python",
   "pygments_lexer": "ipython3",
   "version": "3.10.12"
  },
  "papermill": {
   "default_parameters": {},
   "duration": 2728.808201,
   "end_time": "2025-06-05T06:14:48.287685",
   "environment_variables": {},
   "exception": null,
   "input_path": "__notebook__.ipynb",
   "output_path": "__notebook__.ipynb",
   "parameters": {},
   "start_time": "2025-06-05T05:29:19.479484",
   "version": "2.6.0"
  }
 },
 "nbformat": 4,
 "nbformat_minor": 5
}
