{
 "cells": [
  {
   "cell_type": "code",
   "execution_count": 1,
   "id": "2c6087af",
   "metadata": {
    "execution": {
     "iopub.execute_input": "2025-05-07T19:31:35.295630Z",
     "iopub.status.busy": "2025-05-07T19:31:35.295290Z",
     "iopub.status.idle": "2025-05-07T19:33:06.569556Z",
     "shell.execute_reply": "2025-05-07T19:33:06.567702Z"
    },
    "papermill": {
     "duration": 91.281979,
     "end_time": "2025-05-07T19:33:06.572631",
     "exception": false,
     "start_time": "2025-05-07T19:31:35.290652",
     "status": "completed"
    },
    "tags": []
   },
   "outputs": [
    {
     "name": "stdout",
     "output_type": "stream",
     "text": [
      "Requirement already satisfied: kornia in /usr/local/lib/python3.11/dist-packages (0.8.0)\r\n",
      "Requirement already satisfied: kornia_rs>=0.1.0 in /usr/local/lib/python3.11/dist-packages (from kornia) (0.1.8)\r\n",
      "Requirement already satisfied: packaging in /usr/local/lib/python3.11/dist-packages (from kornia) (24.2)\r\n",
      "Requirement already satisfied: torch>=1.9.1 in /usr/local/lib/python3.11/dist-packages (from kornia) (2.5.1+cu124)\r\n",
      "Requirement already satisfied: filelock in /usr/local/lib/python3.11/dist-packages (from torch>=1.9.1->kornia) (3.18.0)\r\n",
      "Requirement already satisfied: typing-extensions>=4.8.0 in /usr/local/lib/python3.11/dist-packages (from torch>=1.9.1->kornia) (4.13.1)\r\n",
      "Requirement already satisfied: networkx in /usr/local/lib/python3.11/dist-packages (from torch>=1.9.1->kornia) (3.4.2)\r\n",
      "Requirement already satisfied: jinja2 in /usr/local/lib/python3.11/dist-packages (from torch>=1.9.1->kornia) (3.1.6)\r\n",
      "Requirement already satisfied: fsspec in /usr/local/lib/python3.11/dist-packages (from torch>=1.9.1->kornia) (2025.3.2)\r\n",
      "Requirement already satisfied: nvidia-cuda-nvrtc-cu12==12.4.127 in /usr/local/lib/python3.11/dist-packages (from torch>=1.9.1->kornia) (12.4.127)\r\n",
      "Requirement already satisfied: nvidia-cuda-runtime-cu12==12.4.127 in /usr/local/lib/python3.11/dist-packages (from torch>=1.9.1->kornia) (12.4.127)\r\n",
      "Requirement already satisfied: nvidia-cuda-cupti-cu12==12.4.127 in /usr/local/lib/python3.11/dist-packages (from torch>=1.9.1->kornia) (12.4.127)\r\n",
      "Collecting nvidia-cudnn-cu12==9.1.0.70 (from torch>=1.9.1->kornia)\r\n",
      "  Downloading nvidia_cudnn_cu12-9.1.0.70-py3-none-manylinux2014_x86_64.whl.metadata (1.6 kB)\r\n",
      "Collecting nvidia-cublas-cu12==12.4.5.8 (from torch>=1.9.1->kornia)\r\n",
      "  Downloading nvidia_cublas_cu12-12.4.5.8-py3-none-manylinux2014_x86_64.whl.metadata (1.5 kB)\r\n",
      "Collecting nvidia-cufft-cu12==11.2.1.3 (from torch>=1.9.1->kornia)\r\n",
      "  Downloading nvidia_cufft_cu12-11.2.1.3-py3-none-manylinux2014_x86_64.whl.metadata (1.5 kB)\r\n",
      "Collecting nvidia-curand-cu12==10.3.5.147 (from torch>=1.9.1->kornia)\r\n",
      "  Downloading nvidia_curand_cu12-10.3.5.147-py3-none-manylinux2014_x86_64.whl.metadata (1.5 kB)\r\n",
      "Collecting nvidia-cusolver-cu12==11.6.1.9 (from torch>=1.9.1->kornia)\r\n",
      "  Downloading nvidia_cusolver_cu12-11.6.1.9-py3-none-manylinux2014_x86_64.whl.metadata (1.6 kB)\r\n",
      "Collecting nvidia-cusparse-cu12==12.3.1.170 (from torch>=1.9.1->kornia)\r\n",
      "  Downloading nvidia_cusparse_cu12-12.3.1.170-py3-none-manylinux2014_x86_64.whl.metadata (1.6 kB)\r\n",
      "Requirement already satisfied: nvidia-nccl-cu12==2.21.5 in /usr/local/lib/python3.11/dist-packages (from torch>=1.9.1->kornia) (2.21.5)\r\n",
      "Requirement already satisfied: nvidia-nvtx-cu12==12.4.127 in /usr/local/lib/python3.11/dist-packages (from torch>=1.9.1->kornia) (12.4.127)\r\n",
      "Collecting nvidia-nvjitlink-cu12==12.4.127 (from torch>=1.9.1->kornia)\r\n",
      "  Downloading nvidia_nvjitlink_cu12-12.4.127-py3-none-manylinux2014_x86_64.whl.metadata (1.5 kB)\r\n",
      "Requirement already satisfied: triton==3.1.0 in /usr/local/lib/python3.11/dist-packages (from torch>=1.9.1->kornia) (3.1.0)\r\n",
      "Requirement already satisfied: sympy==1.13.1 in /usr/local/lib/python3.11/dist-packages (from torch>=1.9.1->kornia) (1.13.1)\r\n",
      "Requirement already satisfied: mpmath<1.4,>=1.1.0 in /usr/local/lib/python3.11/dist-packages (from sympy==1.13.1->torch>=1.9.1->kornia) (1.3.0)\r\n",
      "Requirement already satisfied: MarkupSafe>=2.0 in /usr/local/lib/python3.11/dist-packages (from jinja2->torch>=1.9.1->kornia) (3.0.2)\r\n",
      "Downloading nvidia_cublas_cu12-12.4.5.8-py3-none-manylinux2014_x86_64.whl (363.4 MB)\r\n",
      "\u001b[2K   \u001b[90m━━━━━━━━━━━━━━━━━━━━━━━━━━━━━━━━━━━━━━━━\u001b[0m \u001b[32m363.4/363.4 MB\u001b[0m \u001b[31m3.8 MB/s\u001b[0m eta \u001b[36m0:00:00\u001b[0m\r\n",
      "\u001b[?25hDownloading nvidia_cudnn_cu12-9.1.0.70-py3-none-manylinux2014_x86_64.whl (664.8 MB)\r\n",
      "\u001b[2K   \u001b[90m━━━━━━━━━━━━━━━━━━━━━━━━━━━━━━━━━━━━━━━━\u001b[0m \u001b[32m664.8/664.8 MB\u001b[0m \u001b[31m2.3 MB/s\u001b[0m eta \u001b[36m0:00:00\u001b[0m\r\n",
      "\u001b[?25hDownloading nvidia_cufft_cu12-11.2.1.3-py3-none-manylinux2014_x86_64.whl (211.5 MB)\r\n",
      "\u001b[2K   \u001b[90m━━━━━━━━━━━━━━━━━━━━━━━━━━━━━━━━━━━━━━━━\u001b[0m \u001b[32m211.5/211.5 MB\u001b[0m \u001b[31m7.8 MB/s\u001b[0m eta \u001b[36m0:00:00\u001b[0m\r\n",
      "\u001b[?25hDownloading nvidia_curand_cu12-10.3.5.147-py3-none-manylinux2014_x86_64.whl (56.3 MB)\r\n",
      "\u001b[2K   \u001b[90m━━━━━━━━━━━━━━━━━━━━━━━━━━━━━━━━━━━━━━━━\u001b[0m \u001b[32m56.3/56.3 MB\u001b[0m \u001b[31m29.0 MB/s\u001b[0m eta \u001b[36m0:00:00\u001b[0m\r\n",
      "\u001b[?25hDownloading nvidia_cusolver_cu12-11.6.1.9-py3-none-manylinux2014_x86_64.whl (127.9 MB)\r\n",
      "\u001b[2K   \u001b[90m━━━━━━━━━━━━━━━━━━━━━━━━━━━━━━━━━━━━━━━━\u001b[0m \u001b[32m127.9/127.9 MB\u001b[0m \u001b[31m12.5 MB/s\u001b[0m eta \u001b[36m0:00:00\u001b[0m\r\n",
      "\u001b[?25hDownloading nvidia_cusparse_cu12-12.3.1.170-py3-none-manylinux2014_x86_64.whl (207.5 MB)\r\n",
      "\u001b[2K   \u001b[90m━━━━━━━━━━━━━━━━━━━━━━━━━━━━━━━━━━━━━━━━\u001b[0m \u001b[32m207.5/207.5 MB\u001b[0m \u001b[31m7.7 MB/s\u001b[0m eta \u001b[36m0:00:00\u001b[0m\r\n",
      "\u001b[?25hDownloading nvidia_nvjitlink_cu12-12.4.127-py3-none-manylinux2014_x86_64.whl (21.1 MB)\r\n",
      "\u001b[2K   \u001b[90m━━━━━━━━━━━━━━━━━━━━━━━━━━━━━━━━━━━━━━━━\u001b[0m \u001b[32m21.1/21.1 MB\u001b[0m \u001b[31m67.4 MB/s\u001b[0m eta \u001b[36m0:00:00\u001b[0m\r\n",
      "\u001b[?25hInstalling collected packages: nvidia-nvjitlink-cu12, nvidia-curand-cu12, nvidia-cufft-cu12, nvidia-cublas-cu12, nvidia-cusparse-cu12, nvidia-cudnn-cu12, nvidia-cusolver-cu12\r\n",
      "  Attempting uninstall: nvidia-nvjitlink-cu12\r\n",
      "    Found existing installation: nvidia-nvjitlink-cu12 12.8.93\r\n",
      "    Uninstalling nvidia-nvjitlink-cu12-12.8.93:\r\n",
      "      Successfully uninstalled nvidia-nvjitlink-cu12-12.8.93\r\n",
      "  Attempting uninstall: nvidia-curand-cu12\r\n",
      "    Found existing installation: nvidia-curand-cu12 10.3.9.90\r\n",
      "    Uninstalling nvidia-curand-cu12-10.3.9.90:\r\n",
      "      Successfully uninstalled nvidia-curand-cu12-10.3.9.90\r\n",
      "  Attempting uninstall: nvidia-cufft-cu12\r\n",
      "    Found existing installation: nvidia-cufft-cu12 11.3.3.83\r\n",
      "    Uninstalling nvidia-cufft-cu12-11.3.3.83:\r\n",
      "      Successfully uninstalled nvidia-cufft-cu12-11.3.3.83\r\n",
      "  Attempting uninstall: nvidia-cublas-cu12\r\n",
      "    Found existing installation: nvidia-cublas-cu12 12.8.4.1\r\n",
      "    Uninstalling nvidia-cublas-cu12-12.8.4.1:\r\n",
      "      Successfully uninstalled nvidia-cublas-cu12-12.8.4.1\r\n",
      "  Attempting uninstall: nvidia-cusparse-cu12\r\n",
      "    Found existing installation: nvidia-cusparse-cu12 12.5.8.93\r\n",
      "    Uninstalling nvidia-cusparse-cu12-12.5.8.93:\r\n",
      "      Successfully uninstalled nvidia-cusparse-cu12-12.5.8.93\r\n",
      "  Attempting uninstall: nvidia-cudnn-cu12\r\n",
      "    Found existing installation: nvidia-cudnn-cu12 9.3.0.75\r\n",
      "    Uninstalling nvidia-cudnn-cu12-9.3.0.75:\r\n",
      "      Successfully uninstalled nvidia-cudnn-cu12-9.3.0.75\r\n",
      "  Attempting uninstall: nvidia-cusolver-cu12\r\n",
      "    Found existing installation: nvidia-cusolver-cu12 11.7.3.90\r\n",
      "    Uninstalling nvidia-cusolver-cu12-11.7.3.90:\r\n",
      "      Successfully uninstalled nvidia-cusolver-cu12-11.7.3.90\r\n",
      "\u001b[31mERROR: pip's dependency resolver does not currently take into account all the packages that are installed. This behaviour is the source of the following dependency conflicts.\r\n",
      "pylibcugraph-cu12 24.12.0 requires pylibraft-cu12==24.12.*, but you have pylibraft-cu12 25.2.0 which is incompatible.\r\n",
      "pylibcugraph-cu12 24.12.0 requires rmm-cu12==24.12.*, but you have rmm-cu12 25.2.0 which is incompatible.\u001b[0m\u001b[31m\r\n",
      "\u001b[0mSuccessfully installed nvidia-cublas-cu12-12.4.5.8 nvidia-cudnn-cu12-9.1.0.70 nvidia-cufft-cu12-11.2.1.3 nvidia-curand-cu12-10.3.5.147 nvidia-cusolver-cu12-11.6.1.9 nvidia-cusparse-cu12-12.3.1.170 nvidia-nvjitlink-cu12-12.4.127\r\n"
     ]
    }
   ],
   "source": [
    "!pip install kornia"
   ]
  },
  {
   "cell_type": "code",
   "execution_count": 2,
   "id": "87ac2e90",
   "metadata": {
    "_cell_guid": "b1076dfc-b9ad-4769-8c92-a6c4dae69d19",
    "_uuid": "8f2839f25d086af736a60e9eeb907d3b93b6e0e5",
    "execution": {
     "iopub.execute_input": "2025-05-07T19:33:06.628717Z",
     "iopub.status.busy": "2025-05-07T19:33:06.628321Z",
     "iopub.status.idle": "2025-05-07T19:33:26.851616Z",
     "shell.execute_reply": "2025-05-07T19:33:26.850428Z"
    },
    "papermill": {
     "duration": 20.254598,
     "end_time": "2025-05-07T19:33:26.853968",
     "exception": false,
     "start_time": "2025-05-07T19:33:06.599370",
     "status": "completed"
    },
    "tags": []
   },
   "outputs": [],
   "source": [
    "import os\n",
    "import torch\n",
    "import torch.nn as nn\n",
    "import torch.nn.functional as F\n",
    "import torch.optim as optim\n",
    "import torchvision.transforms as T\n",
    "from torch.utils.data import Dataset, DataLoader\n",
    "import kornia.augmentation as K\n",
    "import numpy as np\n",
    "import pandas as pd\n",
    "from sklearn.model_selection import train_test_split\n",
    "import matplotlib.pyplot as plt\n",
    "import seaborn as sns\n",
    "from tqdm import tqdm\n"
   ]
  },
  {
   "cell_type": "code",
   "execution_count": 3,
   "id": "647fdee8",
   "metadata": {
    "execution": {
     "iopub.execute_input": "2025-05-07T19:33:26.906900Z",
     "iopub.status.busy": "2025-05-07T19:33:26.906376Z",
     "iopub.status.idle": "2025-05-07T19:33:26.935701Z",
     "shell.execute_reply": "2025-05-07T19:33:26.934688Z"
    },
    "papermill": {
     "duration": 0.057917,
     "end_time": "2025-05-07T19:33:26.937465",
     "exception": false,
     "start_time": "2025-05-07T19:33:26.879548",
     "status": "completed"
    },
    "tags": []
   },
   "outputs": [],
   "source": [
    "BANDS = 100\n",
    "BATCH_SIZE = 32\n",
    "EPOCHS = 50\n",
    "LEARNING_RATE = 0.001\n",
    "NUM_BANDS = 100\n",
    "DEVICE = torch.device('cuda' if torch.cuda.is_available() else 'cpu')\n",
    "\n",
    "\n",
    "class HyperspectralDataset(Dataset):\n",
    "    def __init__(self, df, base_path, patch_size=64, augment=False, num_bands=100):\n",
    "        self.df = df\n",
    "        self.base_path = base_path\n",
    "        self.patch_size = patch_size\n",
    "        self.augment = augment\n",
    "        self.num_bands = num_bands\n",
    "        self.transform = nn.Sequential(\n",
    "            K.RandomHorizontalFlip(p=0.3),     \n",
    "            K.RandomVerticalFlip(p=0.3),\n",
    "            K.RandomAffine(degrees=5, translate=(0.05, 0.05), scale=(0.95, 1.05), p=0.5),\n",
    "            K.RandomCrop((patch_size, patch_size), padding=4, p=0.5)\n",
    "        )\n",
    "        \n",
    "    def __len__(self):\n",
    "        return len(self.df)\n",
    "\n",
    "    def __getitem__(self, idx):\n",
    "        row = self.df.iloc[idx]\n",
    "        img_path = f\"{self.base_path}/{row['id']}\"\n",
    "\n",
    "        try:\n",
    "            img = np.load(img_path)\n",
    "\n",
    "            if len(img.shape) == 2:\n",
    "                img = np.repeat(img[:, :, np.newaxis], self.num_bands, axis=2)\n",
    "            elif len(img.shape) == 3:\n",
    "                if img.shape[2] > self.num_bands:\n",
    "                    img = img[:, :, :self.num_bands]\n",
    "                elif img.shape[2] < self.num_bands:\n",
    "                    pad_width = ((0, 0), (0, 0), (0, self.num_bands - img.shape[2]))\n",
    "                    img = np.pad(img, pad_width, mode='constant')\n",
    "\n",
    "            img = img.astype(np.float32) / 65535.0  # Normalize image\n",
    "\n",
    "            img = torch.tensor(img, dtype=torch.float32).permute(2, 0, 1)  # Convert to [C, H, W]\n",
    "\n",
    "            if self.augment:\n",
    "                img = self.transform(img.unsqueeze(0)).squeeze(0)\n",
    "\n",
    "            if img.shape[1] != self.patch_size or img.shape[2] != self.patch_size:\n",
    "                img = F.interpolate(img.unsqueeze(0), size=(self.patch_size, self.patch_size), mode='bilinear').squeeze(0)\n",
    "\n",
    "            label = torch.tensor(row['label'], dtype=torch.long)  \n",
    "\n",
    "            if label > 0:\n",
    "                label = label - 1\n",
    "\n",
    "            return img, label\n",
    "\n",
    "        except Exception as e:\n",
    "            print(f\"Error loading {img_path}: {str(e)}\")\n",
    "            dummy_img = torch.zeros(self.num_bands, self.patch_size, self.patch_size)\n",
    "            dummy_label = torch.tensor(0, dtype=torch.long)  \n",
    "            return dummy_img, dummy_label\n",
    "\n",
    "\n",
    "\n",
    "class SpatialAttention(nn.Module):\n",
    "    def __init__(self, kernel_size=7):\n",
    "        super(SpatialAttention, self).__init__()\n",
    "        self.conv = nn.Sequential(\n",
    "            nn.Conv2d(2, 8, kernel_size, padding=kernel_size//2),\n",
    "            nn.ReLU(),\n",
    "            nn.Conv2d(8, 1, kernel_size=1)\n",
    "        )\n",
    "        self.sigmoid = nn.Sigmoid()\n",
    "    \n",
    "    def forward(self, x):\n",
    "        avg_out = torch.mean(x, dim=1, keepdim=True)\n",
    "        max_out, _ = torch.max(x, dim=1, keepdim=True)\n",
    "        concat = torch.cat([avg_out, max_out], dim=1)\n",
    "        attention = self.sigmoid(self.conv(concat))\n",
    "        return x * attention\n",
    "\n",
    "\n",
    "class ChannelAttention(nn.Module):\n",
    "    def __init__(self, in_channels, reduction_ratio=16):\n",
    "        super(ChannelAttention, self).__init__()\n",
    "        self.avg_pool = nn.AdaptiveAvgPool2d(1)\n",
    "        self.max_pool = nn.AdaptiveMaxPool2d(1)\n",
    "        \n",
    "        self.fc = nn.Sequential(\n",
    "            nn.Linear(in_channels, in_channels // reduction_ratio),\n",
    "            nn.ReLU(inplace=True),\n",
    "            nn.Linear(in_channels // reduction_ratio, in_channels),\n",
    "            nn.Sigmoid()\n",
    "        )\n",
    "\n",
    "    def forward(self, x):\n",
    "        b, c, _, _ = x.size()\n",
    "        avg_out = self.fc(self.avg_pool(x).view(b, c))\n",
    "        max_out = self.fc(self.max_pool(x).view(b, c))\n",
    "        out = avg_out + max_out\n",
    "        return out.view(b, c, 1, 1)\n",
    "\n",
    "\n",
    "class HyperspectralCNN(nn.Module):\n",
    "    def __init__(self, in_channels=NUM_BANDS, num_classes=100):\n",
    "        super().__init__()\n",
    "        \n",
    "        self.conv1 = nn.Sequential(\n",
    "            nn.Conv2d(in_channels, 64, kernel_size=3, padding=1),\n",
    "            nn.BatchNorm2d(64),\n",
    "            nn.LeakyReLU(0.1, inplace=True),\n",
    "            nn.MaxPool2d(2)\n",
    "        )\n",
    "        \n",
    "        self.ca1 = ChannelAttention(64)\n",
    "        self.sa1 = SpatialAttention()\n",
    "        \n",
    "        self.conv2 = nn.Sequential(\n",
    "            nn.Conv2d(64, 128, kernel_size=3, padding=1),\n",
    "            nn.BatchNorm2d(128),\n",
    "            nn.LeakyReLU(0.1, inplace=True),\n",
    "            nn.MaxPool2d(2)\n",
    "        )\n",
    "        \n",
    "        self.ca2 = ChannelAttention(128)\n",
    "        self.sa2 = SpatialAttention()\n",
    "        \n",
    "        self.conv3 = nn.Sequential(\n",
    "            nn.Conv2d(128, 256, kernel_size=3, padding=1),\n",
    "            nn.BatchNorm2d(256),\n",
    "            nn.LeakyReLU(0.1, inplace=True),\n",
    "            nn.AdaptiveAvgPool2d(1)\n",
    "        )\n",
    "        \n",
    "        self.classifier = nn.Sequential(\n",
    "            nn.Linear(256, 128),\n",
    "            nn.SiLU(),\n",
    "            nn.Dropout(0.5),\n",
    "            nn.Linear(128, 64),\n",
    "            nn.SiLU(),\n",
    "            nn.Linear(64, num_classes) \n",
    "        )\n",
    "        \n",
    "    def forward(self, x):\n",
    "        x = self.conv1(x)\n",
    "        x = self.ca1(x) * x\n",
    "        x = self.sa1(x) * x\n",
    "        \n",
    "        x = self.conv2(x)\n",
    "        x = self.ca2(x) * x\n",
    "        x = self.sa2(x) * x\n",
    "        \n",
    "        x = self.conv3(x)\n",
    "        x = x.view(x.size(0), -1)\n",
    "        return self.classifier(x)\n"
   ]
  },
  {
   "cell_type": "code",
   "execution_count": 4,
   "id": "2b011a0c",
   "metadata": {
    "execution": {
     "iopub.execute_input": "2025-05-07T19:33:26.989057Z",
     "iopub.status.busy": "2025-05-07T19:33:26.988084Z",
     "iopub.status.idle": "2025-05-07T19:33:27.587461Z",
     "shell.execute_reply": "2025-05-07T19:33:27.586277Z"
    },
    "papermill": {
     "duration": 0.628995,
     "end_time": "2025-05-07T19:33:27.591647",
     "exception": false,
     "start_time": "2025-05-07T19:33:26.962652",
     "status": "completed"
    },
    "tags": []
   },
   "outputs": [
    {
     "data": {
      "image/png": "[encoded data removed]",
      "text/plain": [
       "<Figure size 640x480 with 2 Axes>"
      ]
     },
     "metadata": {},
     "output_type": "display_data"
    }
   ],
   "source": [
    "sample = np.load('/kaggle/input/beyond-visible-spectrum-ai-for-agriculture-2025/ot/ot/sample1024.npy')  # (128, 128, 125)\n",
    "plt.imshow(sample[:, :, 0])\n",
    "plt.title('First channel')\n",
    "plt.colorbar()\n",
    "plt.show()"
   ]
  },
  {
   "cell_type": "code",
   "execution_count": 5,
   "id": "954dbb3f",
   "metadata": {
    "execution": {
     "iopub.execute_input": "2025-05-07T19:33:27.673341Z",
     "iopub.status.busy": "2025-05-07T19:33:27.672951Z",
     "iopub.status.idle": "2025-05-07T19:33:27.691693Z",
     "shell.execute_reply": "2025-05-07T19:33:27.690504Z"
    },
    "papermill": {
     "duration": 0.057335,
     "end_time": "2025-05-07T19:33:27.693559",
     "exception": false,
     "start_time": "2025-05-07T19:33:27.636224",
     "status": "completed"
    },
    "tags": []
   },
   "outputs": [],
   "source": [
    "def evaluate_model(model, loader, criterion, device = DEVICE):\n",
    "    model.eval()\n",
    "    total_loss = 0.0\n",
    "    all_preds = []\n",
    "    all_labels = []\n",
    "    \n",
    "    with torch.no_grad():\n",
    "        for inputs, labels in loader:\n",
    "            inputs, labels = inputs.to(device), labels.to(device)\n",
    "            outputs = model(inputs)\n",
    "            \n",
    "            probabilities = torch.softmax(outputs, dim=1)\n",
    "            preds = torch.argmax(probabilities, dim=1)\n",
    "            \n",
    "            loss = criterion(outputs.squeeze(), labels)\n",
    "            total_loss += loss.item() * inputs.size(0)\n",
    "            \n",
    "            all_preds.extend(preds.cpu().numpy())\n",
    "            all_labels.extend(labels.cpu().numpy())\n",
    "    \n",
    "    return total_loss / len(loader.dataset), np.array(all_preds), np.array(all_labels)\n",
    "\n",
    "\n",
    "def train_model(model, train_loader, val_loader, epochs, criterion, optimizer):\n",
    "    best_loss = float('inf')\n",
    "    train_losses = []\n",
    "    val_losses = []\n",
    "    \n",
    "    for epoch in range(epochs):\n",
    "        model.train()\n",
    "        train_loss = 0.0\n",
    "        valid_samples = 0\n",
    "        \n",
    "        for inputs, labels in tqdm(train_loader, desc=f\"Epoch {epoch+1}/{epochs}\"):\n",
    "            inputs, labels = inputs.to(DEVICE), labels.to(DEVICE)\n",
    "            \n",
    "            if torch.isnan(inputs).any() or torch.isnan(labels).any():\n",
    "                continue\n",
    "                \n",
    "            optimizer.zero_grad()\n",
    "            outputs = model(inputs)\n",
    "            \n",
    "            if torch.isnan(outputs).any():\n",
    "                continue\n",
    "                \n",
    "            loss = criterion(outputs.squeeze(), labels) \n",
    "            \n",
    "            if not torch.isnan(loss):\n",
    "                loss.backward()\n",
    "                optimizer.step()\n",
    "                train_loss += loss.item() * inputs.size(0)\n",
    "                valid_samples += inputs.size(0)\n",
    "        \n",
    "        if valid_samples > 0:\n",
    "            train_loss /= valid_samples\n",
    "            val_loss, val_preds, val_labels = evaluate_model(model, val_loader, criterion)\n",
    "            train_losses.append(train_loss)\n",
    "            val_losses.append(val_loss)\n",
    "            \n",
    "            if len(val_preds.shape) == 2: \n",
    "                val_preds = np.argmax(val_preds, axis=1)\n",
    "            \n",
    "            print(f\"Epoch {epoch+1}: Train Loss: {train_loss:.4f}, Val Loss: {val_loss:.4f}\")\n",
    "            print(f\"Sample predictions: {val_preds[:5]}, True labels: {val_labels[:5]}\")\n",
    "            \n",
    "            \n",
    "            if val_loss < best_loss:\n",
    "                best_loss = val_loss\n",
    "                torch.save(model.state_dict(), 'Spectrum_CNN.pth')\n",
    "        else:\n",
    "            print(f\"Epoch {epoch+1}: No valid training samples\")\n",
    "    \n",
    "    plt.figure(figsize=(8, 5))\n",
    "    plt.plot(train_losses, label='Train Loss', marker='o')\n",
    "    plt.plot(val_losses, label='Validation Loss', marker='o')\n",
    "    plt.xlabel('Epoch')\n",
    "    plt.ylabel('Loss')\n",
    "    plt.title('Training and Validation Loss')\n",
    "    plt.legend()\n",
    "    plt.grid(True)\n",
    "    plt.tight_layout()\n",
    "    plt.show()\n",
    "    \n",
    "    return model\n"
   ]
  },
  {
   "cell_type": "code",
   "execution_count": 6,
   "id": "0efc566c",
   "metadata": {
    "execution": {
     "iopub.execute_input": "2025-05-07T19:33:27.874765Z",
     "iopub.status.busy": "2025-05-07T19:33:27.874458Z",
     "iopub.status.idle": "2025-05-07T20:37:30.666891Z",
     "shell.execute_reply": "2025-05-07T20:37:30.664782Z"
    },
    "papermill": {
     "duration": 3842.948287,
     "end_time": "2025-05-07T20:37:30.670240",
     "exception": false,
     "start_time": "2025-05-07T19:33:27.721953",
     "status": "completed"
    },
    "tags": []
   },
   "outputs": [
    {
     "name": "stderr",
     "output_type": "stream",
     "text": [
      "Epoch 1/50: 100%|██████████| 55/55 [01:21<00:00,  1.48s/it]\n"
     ]
    },
    {
     "name": "stdout",
     "output_type": "stream",
     "text": [
      "Error loading /kaggle/input/beyond-visible-spectrum-ai-for-agriculture-2025/ot/ot/sample2451.npy: cannot reshape array of size 1785856 into shape (128,128,125)\n",
      "Epoch 1: Train Loss: 4.6107, Val Loss: 4.6124\n",
      "Sample predictions: [18 18 18 18 18], True labels: [78 66 91 91 11]\n"
     ]
    },
    {
     "name": "stderr",
     "output_type": "stream",
     "text": [
      "Epoch 2/50: 100%|██████████| 55/55 [01:04<00:00,  1.18s/it]\n"
     ]
    },
    {
     "name": "stdout",
     "output_type": "stream",
     "text": [
      "Error loading /kaggle/input/beyond-visible-spectrum-ai-for-agriculture-2025/ot/ot/sample2451.npy: cannot reshape array of size 1785856 into shape (128,128,125)\n",
      "Epoch 2: Train Loss: 4.5939, Val Loss: 4.6284\n",
      "Sample predictions: [15 15 15 15 15], True labels: [78 66 91 91 11]\n"
     ]
    },
    {
     "name": "stderr",
     "output_type": "stream",
     "text": [
      "Epoch 3/50: 100%|██████████| 55/55 [01:05<00:00,  1.19s/it]\n"
     ]
    },
    {
     "name": "stdout",
     "output_type": "stream",
     "text": [
      "Error loading /kaggle/input/beyond-visible-spectrum-ai-for-agriculture-2025/ot/ot/sample2451.npy: cannot reshape array of size 1785856 into shape (128,128,125)\n",
      "Epoch 3: Train Loss: 4.5914, Val Loss: 4.6089\n",
      "Sample predictions: [15 15 15 15 15], True labels: [78 66 91 91 11]\n"
     ]
    },
    {
     "name": "stderr",
     "output_type": "stream",
     "text": [
      "Epoch 4/50: 100%|██████████| 55/55 [01:04<00:00,  1.18s/it]\n"
     ]
    },
    {
     "name": "stdout",
     "output_type": "stream",
     "text": [
      "Error loading /kaggle/input/beyond-visible-spectrum-ai-for-agriculture-2025/ot/ot/sample2451.npy: cannot reshape array of size 1785856 into shape (128,128,125)\n",
      "Epoch 4: Train Loss: 4.5791, Val Loss: 4.6132\n",
      "Sample predictions: [15 15 15 15 15], True labels: [78 66 91 91 11]\n"
     ]
    },
    {
     "name": "stderr",
     "output_type": "stream",
     "text": [
      "Epoch 5/50: 100%|██████████| 55/55 [01:03<00:00,  1.16s/it]\n"
     ]
    },
    {
     "name": "stdout",
     "output_type": "stream",
     "text": [
      "Error loading /kaggle/input/beyond-visible-spectrum-ai-for-agriculture-2025/ot/ot/sample2451.npy: cannot reshape array of size 1785856 into shape (128,128,125)\n",
      "Epoch 5: Train Loss: 4.5673, Val Loss: 4.6418\n",
      "Sample predictions: [82 82 82 82 82], True labels: [78 66 91 91 11]\n"
     ]
    },
    {
     "name": "stderr",
     "output_type": "stream",
     "text": [
      "Epoch 6/50: 100%|██████████| 55/55 [01:06<00:00,  1.21s/it]\n"
     ]
    },
    {
     "name": "stdout",
     "output_type": "stream",
     "text": [
      "Error loading /kaggle/input/beyond-visible-spectrum-ai-for-agriculture-2025/ot/ot/sample2451.npy: cannot reshape array of size 1785856 into shape (128,128,125)\n",
      "Epoch 6: Train Loss: 4.5635, Val Loss: 4.6228\n",
      "Sample predictions: [15 21 21 15 15], True labels: [78 66 91 91 11]\n"
     ]
    },
    {
     "name": "stderr",
     "output_type": "stream",
     "text": [
      "Epoch 7/50: 100%|██████████| 55/55 [01:04<00:00,  1.17s/it]\n"
     ]
    },
    {
     "name": "stdout",
     "output_type": "stream",
     "text": [
      "Error loading /kaggle/input/beyond-visible-spectrum-ai-for-agriculture-2025/ot/ot/sample2451.npy: cannot reshape array of size 1785856 into shape (128,128,125)\n",
      "Epoch 7: Train Loss: 4.5575, Val Loss: 4.6600\n",
      "Sample predictions: [82 82 82 82 82], True labels: [78 66 91 91 11]\n"
     ]
    },
    {
     "name": "stderr",
     "output_type": "stream",
     "text": [
      "Epoch 8/50: 100%|██████████| 55/55 [01:12<00:00,  1.32s/it]\n"
     ]
    },
    {
     "name": "stdout",
     "output_type": "stream",
     "text": [
      "Error loading /kaggle/input/beyond-visible-spectrum-ai-for-agriculture-2025/ot/ot/sample2451.npy: cannot reshape array of size 1785856 into shape (128,128,125)\n",
      "Epoch 8: Train Loss: 4.5539, Val Loss: 4.6508\n",
      "Sample predictions: [82 82 82 82 82], True labels: [78 66 91 91 11]\n"
     ]
    },
    {
     "name": "stderr",
     "output_type": "stream",
     "text": [
      "Epoch 9/50: 100%|██████████| 55/55 [01:10<00:00,  1.29s/it]\n"
     ]
    },
    {
     "name": "stdout",
     "output_type": "stream",
     "text": [
      "Error loading /kaggle/input/beyond-visible-spectrum-ai-for-agriculture-2025/ot/ot/sample2451.npy: cannot reshape array of size 1785856 into shape (128,128,125)\n",
      "Epoch 9: Train Loss: 4.5554, Val Loss: 4.6498\n",
      "Sample predictions: [82 82 82 82 82], True labels: [78 66 91 91 11]\n"
     ]
    },
    {
     "name": "stderr",
     "output_type": "stream",
     "text": [
      "Epoch 10/50: 100%|██████████| 55/55 [01:09<00:00,  1.26s/it]\n"
     ]
    },
    {
     "name": "stdout",
     "output_type": "stream",
     "text": [
      "Error loading /kaggle/input/beyond-visible-spectrum-ai-for-agriculture-2025/ot/ot/sample2451.npy: cannot reshape array of size 1785856 into shape (128,128,125)\n",
      "Epoch 10: Train Loss: 4.5482, Val Loss: 4.6537\n",
      "Sample predictions: [82 82 82 82 82], True labels: [78 66 91 91 11]\n"
     ]
    },
    {
     "name": "stderr",
     "output_type": "stream",
     "text": [
      "Epoch 11/50: 100%|██████████| 55/55 [01:07<00:00,  1.23s/it]\n"
     ]
    },
    {
     "name": "stdout",
     "output_type": "stream",
     "text": [
      "Error loading /kaggle/input/beyond-visible-spectrum-ai-for-agriculture-2025/ot/ot/sample2451.npy: cannot reshape array of size 1785856 into shape (128,128,125)\n",
      "Epoch 11: Train Loss: 4.5455, Val Loss: 4.6424\n",
      "Sample predictions: [82 82 82 82 82], True labels: [78 66 91 91 11]\n"
     ]
    },
    {
     "name": "stderr",
     "output_type": "stream",
     "text": [
      "Epoch 12/50: 100%|██████████| 55/55 [01:05<00:00,  1.19s/it]\n"
     ]
    },
    {
     "name": "stdout",
     "output_type": "stream",
     "text": [
      "Error loading /kaggle/input/beyond-visible-spectrum-ai-for-agriculture-2025/ot/ot/sample2451.npy: cannot reshape array of size 1785856 into shape (128,128,125)\n",
      "Epoch 12: Train Loss: 4.5452, Val Loss: 4.6583\n",
      "Sample predictions: [82 82 82 82 82], True labels: [78 66 91 91 11]\n"
     ]
    },
    {
     "name": "stderr",
     "output_type": "stream",
     "text": [
      "Epoch 13/50: 100%|██████████| 55/55 [01:06<00:00,  1.21s/it]\n"
     ]
    },
    {
     "name": "stdout",
     "output_type": "stream",
     "text": [
      "Error loading /kaggle/input/beyond-visible-spectrum-ai-for-agriculture-2025/ot/ot/sample2451.npy: cannot reshape array of size 1785856 into shape (128,128,125)\n",
      "Epoch 13: Train Loss: 4.5400, Val Loss: 4.6617\n",
      "Sample predictions: [82  4  4 82 82], True labels: [78 66 91 91 11]\n"
     ]
    },
    {
     "name": "stderr",
     "output_type": "stream",
     "text": [
      "Epoch 14/50: 100%|██████████| 55/55 [01:06<00:00,  1.21s/it]\n"
     ]
    },
    {
     "name": "stdout",
     "output_type": "stream",
     "text": [
      "Error loading /kaggle/input/beyond-visible-spectrum-ai-for-agriculture-2025/ot/ot/sample2451.npy: cannot reshape array of size 1785856 into shape (128,128,125)\n",
      "Epoch 14: Train Loss: 4.5369, Val Loss: 4.6347\n",
      "Sample predictions: [82 82 82 65 82], True labels: [78 66 91 91 11]\n"
     ]
    },
    {
     "name": "stderr",
     "output_type": "stream",
     "text": [
      "Epoch 15/50: 100%|██████████| 55/55 [01:09<00:00,  1.27s/it]\n"
     ]
    },
    {
     "name": "stdout",
     "output_type": "stream",
     "text": [
      "Error loading /kaggle/input/beyond-visible-spectrum-ai-for-agriculture-2025/ot/ot/sample2451.npy: cannot reshape array of size 1785856 into shape (128,128,125)\n",
      "Epoch 15: Train Loss: 4.5337, Val Loss: 4.6801\n",
      "Sample predictions: [4 4 4 4 4], True labels: [78 66 91 91 11]\n"
     ]
    },
    {
     "name": "stderr",
     "output_type": "stream",
     "text": [
      "Epoch 16/50: 100%|██████████| 55/55 [01:21<00:00,  1.48s/it]\n"
     ]
    },
    {
     "name": "stdout",
     "output_type": "stream",
     "text": [
      "Error loading /kaggle/input/beyond-visible-spectrum-ai-for-agriculture-2025/ot/ot/sample2451.npy: cannot reshape array of size 1785856 into shape (128,128,125)\n",
      "Epoch 16: Train Loss: 4.5292, Val Loss: 4.6775\n",
      "Sample predictions: [82 82 82 82 82], True labels: [78 66 91 91 11]\n"
     ]
    },
    {
     "name": "stderr",
     "output_type": "stream",
     "text": [
      "Epoch 17/50: 100%|██████████| 55/55 [01:06<00:00,  1.20s/it]\n"
     ]
    },
    {
     "name": "stdout",
     "output_type": "stream",
     "text": [
      "Error loading /kaggle/input/beyond-visible-spectrum-ai-for-agriculture-2025/ot/ot/sample2451.npy: cannot reshape array of size 1785856 into shape (128,128,125)\n",
      "Epoch 17: Train Loss: 4.5333, Val Loss: 4.6702\n",
      "Sample predictions: [82 82 82 82 82], True labels: [78 66 91 91 11]\n"
     ]
    },
    {
     "name": "stderr",
     "output_type": "stream",
     "text": [
      "Epoch 18/50: 100%|██████████| 55/55 [01:05<00:00,  1.18s/it]\n"
     ]
    },
    {
     "name": "stdout",
     "output_type": "stream",
     "text": [
      "Error loading /kaggle/input/beyond-visible-spectrum-ai-for-agriculture-2025/ot/ot/sample2451.npy: cannot reshape array of size 1785856 into shape (128,128,125)\n",
      "Epoch 18: Train Loss: 4.5267, Val Loss: 4.6781\n",
      "Sample predictions: [82 82  4 82 82], True labels: [78 66 91 91 11]\n"
     ]
    },
    {
     "name": "stderr",
     "output_type": "stream",
     "text": [
      "Epoch 19/50: 100%|██████████| 55/55 [01:06<00:00,  1.20s/it]\n"
     ]
    },
    {
     "name": "stdout",
     "output_type": "stream",
     "text": [
      "Error loading /kaggle/input/beyond-visible-spectrum-ai-for-agriculture-2025/ot/ot/sample2451.npy: cannot reshape array of size 1785856 into shape (128,128,125)\n",
      "Epoch 19: Train Loss: 4.5157, Val Loss: 4.7116\n",
      "Sample predictions: [82 82  4 82 82], True labels: [78 66 91 91 11]\n"
     ]
    },
    {
     "name": "stderr",
     "output_type": "stream",
     "text": [
      "Epoch 20/50: 100%|██████████| 55/55 [01:05<00:00,  1.20s/it]\n"
     ]
    },
    {
     "name": "stdout",
     "output_type": "stream",
     "text": [
      "Error loading /kaggle/input/beyond-visible-spectrum-ai-for-agriculture-2025/ot/ot/sample2451.npy: cannot reshape array of size 1785856 into shape (128,128,125)\n",
      "Epoch 20: Train Loss: 4.5199, Val Loss: 4.6859\n",
      "Sample predictions: [65 82 82 65 65], True labels: [78 66 91 91 11]\n"
     ]
    },
    {
     "name": "stderr",
     "output_type": "stream",
     "text": [
      "Epoch 21/50: 100%|██████████| 55/55 [01:08<00:00,  1.25s/it]\n"
     ]
    },
    {
     "name": "stdout",
     "output_type": "stream",
     "text": [
      "Error loading /kaggle/input/beyond-visible-spectrum-ai-for-agriculture-2025/ot/ot/sample2451.npy: cannot reshape array of size 1785856 into shape (128,128,125)\n",
      "Epoch 21: Train Loss: 4.5146, Val Loss: 4.6624\n",
      "Sample predictions: [65  4  4 65 65], True labels: [78 66 91 91 11]\n"
     ]
    },
    {
     "name": "stderr",
     "output_type": "stream",
     "text": [
      "Epoch 22/50: 100%|██████████| 55/55 [01:10<00:00,  1.28s/it]\n"
     ]
    },
    {
     "name": "stdout",
     "output_type": "stream",
     "text": [
      "Error loading /kaggle/input/beyond-visible-spectrum-ai-for-agriculture-2025/ot/ot/sample2451.npy: cannot reshape array of size 1785856 into shape (128,128,125)\n",
      "Epoch 22: Train Loss: 4.5125, Val Loss: 4.6873\n",
      "Sample predictions: [65  4  4 65 65], True labels: [78 66 91 91 11]\n"
     ]
    },
    {
     "name": "stderr",
     "output_type": "stream",
     "text": [
      "Epoch 23/50: 100%|██████████| 55/55 [01:08<00:00,  1.25s/it]\n"
     ]
    },
    {
     "name": "stdout",
     "output_type": "stream",
     "text": [
      "Error loading /kaggle/input/beyond-visible-spectrum-ai-for-agriculture-2025/ot/ot/sample2451.npy: cannot reshape array of size 1785856 into shape (128,128,125)\n",
      "Epoch 23: Train Loss: 4.5030, Val Loss: 4.6826\n",
      "Sample predictions: [11  4  4 11 11], True labels: [78 66 91 91 11]\n"
     ]
    },
    {
     "name": "stderr",
     "output_type": "stream",
     "text": [
      "Epoch 24/50: 100%|██████████| 55/55 [01:06<00:00,  1.22s/it]\n"
     ]
    },
    {
     "name": "stdout",
     "output_type": "stream",
     "text": [
      "Error loading /kaggle/input/beyond-visible-spectrum-ai-for-agriculture-2025/ot/ot/sample2451.npy: cannot reshape array of size 1785856 into shape (128,128,125)\n",
      "Epoch 24: Train Loss: 4.4967, Val Loss: 4.6806\n",
      "Sample predictions: [65 11 22 65 65], True labels: [78 66 91 91 11]\n"
     ]
    },
    {
     "name": "stderr",
     "output_type": "stream",
     "text": [
      "Epoch 25/50: 100%|██████████| 55/55 [01:27<00:00,  1.59s/it]\n"
     ]
    },
    {
     "name": "stdout",
     "output_type": "stream",
     "text": [
      "Error loading /kaggle/input/beyond-visible-spectrum-ai-for-agriculture-2025/ot/ot/sample2451.npy: cannot reshape array of size 1785856 into shape (128,128,125)\n",
      "Epoch 25: Train Loss: 4.5062, Val Loss: 4.6978\n",
      "Sample predictions: [65  4  4 65 65], True labels: [78 66 91 91 11]\n"
     ]
    },
    {
     "name": "stderr",
     "output_type": "stream",
     "text": [
      "Epoch 26/50: 100%|██████████| 55/55 [01:06<00:00,  1.20s/it]\n"
     ]
    },
    {
     "name": "stdout",
     "output_type": "stream",
     "text": [
      "Error loading /kaggle/input/beyond-visible-spectrum-ai-for-agriculture-2025/ot/ot/sample2451.npy: cannot reshape array of size 1785856 into shape (128,128,125)\n",
      "Epoch 26: Train Loss: 4.4952, Val Loss: 4.6941\n",
      "Sample predictions: [65 82 21 65 65], True labels: [78 66 91 91 11]\n"
     ]
    },
    {
     "name": "stderr",
     "output_type": "stream",
     "text": [
      "Epoch 27/50: 100%|██████████| 55/55 [01:06<00:00,  1.21s/it]\n"
     ]
    },
    {
     "name": "stdout",
     "output_type": "stream",
     "text": [
      "Error loading /kaggle/input/beyond-visible-spectrum-ai-for-agriculture-2025/ot/ot/sample2451.npy: cannot reshape array of size 1785856 into shape (128,128,125)\n",
      "Epoch 27: Train Loss: 4.4868, Val Loss: 4.6803\n",
      "Sample predictions: [65 82 21 65 65], True labels: [78 66 91 91 11]\n"
     ]
    },
    {
     "name": "stderr",
     "output_type": "stream",
     "text": [
      "Epoch 28/50: 100%|██████████| 55/55 [01:11<00:00,  1.29s/it]\n"
     ]
    },
    {
     "name": "stdout",
     "output_type": "stream",
     "text": [
      "Error loading /kaggle/input/beyond-visible-spectrum-ai-for-agriculture-2025/ot/ot/sample2451.npy: cannot reshape array of size 1785856 into shape (128,128,125)\n",
      "Epoch 28: Train Loss: 4.4832, Val Loss: 4.7265\n",
      "Sample predictions: [65  6  6 65 65], True labels: [78 66 91 91 11]\n"
     ]
    },
    {
     "name": "stderr",
     "output_type": "stream",
     "text": [
      "Epoch 29/50: 100%|██████████| 55/55 [01:07<00:00,  1.22s/it]\n"
     ]
    },
    {
     "name": "stdout",
     "output_type": "stream",
     "text": [
      "Error loading /kaggle/input/beyond-visible-spectrum-ai-for-agriculture-2025/ot/ot/sample2451.npy: cannot reshape array of size 1785856 into shape (128,128,125)\n",
      "Epoch 29: Train Loss: 4.4862, Val Loss: 4.7774\n",
      "Sample predictions: [65 82 21 65 65], True labels: [78 66 91 91 11]\n"
     ]
    },
    {
     "name": "stderr",
     "output_type": "stream",
     "text": [
      "Epoch 30/50: 100%|██████████| 55/55 [01:07<00:00,  1.22s/it]\n"
     ]
    },
    {
     "name": "stdout",
     "output_type": "stream",
     "text": [
      "Error loading /kaggle/input/beyond-visible-spectrum-ai-for-agriculture-2025/ot/ot/sample2451.npy: cannot reshape array of size 1785856 into shape (128,128,125)\n",
      "Epoch 30: Train Loss: 4.4855, Val Loss: 4.7113\n",
      "Sample predictions: [65 21  6 65 65], True labels: [78 66 91 91 11]\n"
     ]
    },
    {
     "name": "stderr",
     "output_type": "stream",
     "text": [
      "Epoch 31/50: 100%|██████████| 55/55 [01:07<00:00,  1.23s/it]\n"
     ]
    },
    {
     "name": "stdout",
     "output_type": "stream",
     "text": [
      "Error loading /kaggle/input/beyond-visible-spectrum-ai-for-agriculture-2025/ot/ot/sample2451.npy: cannot reshape array of size 1785856 into shape (128,128,125)\n",
      "Epoch 31: Train Loss: 4.4758, Val Loss: 4.7140\n",
      "Sample predictions: [65 82 21 65 65], True labels: [78 66 91 91 11]\n"
     ]
    },
    {
     "name": "stderr",
     "output_type": "stream",
     "text": [
      "Epoch 32/50: 100%|██████████| 55/55 [01:08<00:00,  1.25s/it]\n"
     ]
    },
    {
     "name": "stdout",
     "output_type": "stream",
     "text": [
      "Error loading /kaggle/input/beyond-visible-spectrum-ai-for-agriculture-2025/ot/ot/sample2451.npy: cannot reshape array of size 1785856 into shape (128,128,125)\n",
      "Epoch 32: Train Loss: 4.4752, Val Loss: 4.7430\n",
      "Sample predictions: [65 21 21 65 65], True labels: [78 66 91 91 11]\n"
     ]
    },
    {
     "name": "stderr",
     "output_type": "stream",
     "text": [
      "Epoch 33/50: 100%|██████████| 55/55 [01:21<00:00,  1.49s/it]\n"
     ]
    },
    {
     "name": "stdout",
     "output_type": "stream",
     "text": [
      "Error loading /kaggle/input/beyond-visible-spectrum-ai-for-agriculture-2025/ot/ot/sample2451.npy: cannot reshape array of size 1785856 into shape (128,128,125)\n",
      "Epoch 33: Train Loss: 4.4684, Val Loss: 4.7700\n",
      "Sample predictions: [65  6  6 65 65], True labels: [78 66 91 91 11]\n"
     ]
    },
    {
     "name": "stderr",
     "output_type": "stream",
     "text": [
      "Epoch 34/50: 100%|██████████| 55/55 [01:06<00:00,  1.22s/it]\n"
     ]
    },
    {
     "name": "stdout",
     "output_type": "stream",
     "text": [
      "Error loading /kaggle/input/beyond-visible-spectrum-ai-for-agriculture-2025/ot/ot/sample2451.npy: cannot reshape array of size 1785856 into shape (128,128,125)\n",
      "Epoch 34: Train Loss: 4.4484, Val Loss: 4.7303\n",
      "Sample predictions: [65 21 21 65 65], True labels: [78 66 91 91 11]\n"
     ]
    },
    {
     "name": "stderr",
     "output_type": "stream",
     "text": [
      "Epoch 35/50: 100%|██████████| 55/55 [01:07<00:00,  1.23s/it]\n"
     ]
    },
    {
     "name": "stdout",
     "output_type": "stream",
     "text": [
      "Error loading /kaggle/input/beyond-visible-spectrum-ai-for-agriculture-2025/ot/ot/sample2451.npy: cannot reshape array of size 1785856 into shape (128,128,125)\n",
      "Epoch 35: Train Loss: 4.4586, Val Loss: 4.7595\n",
      "Sample predictions: [65 21 21 65 65], True labels: [78 66 91 91 11]\n"
     ]
    },
    {
     "name": "stderr",
     "output_type": "stream",
     "text": [
      "Epoch 36/50: 100%|██████████| 55/55 [01:16<00:00,  1.38s/it]\n"
     ]
    },
    {
     "name": "stdout",
     "output_type": "stream",
     "text": [
      "Error loading /kaggle/input/beyond-visible-spectrum-ai-for-agriculture-2025/ot/ot/sample2451.npy: cannot reshape array of size 1785856 into shape (128,128,125)\n",
      "Epoch 36: Train Loss: 4.4627, Val Loss: 4.8091\n",
      "Sample predictions: [65 62 21 60 65], True labels: [78 66 91 91 11]\n"
     ]
    },
    {
     "name": "stderr",
     "output_type": "stream",
     "text": [
      "Epoch 37/50: 100%|██████████| 55/55 [01:14<00:00,  1.36s/it]\n"
     ]
    },
    {
     "name": "stdout",
     "output_type": "stream",
     "text": [
      "Error loading /kaggle/input/beyond-visible-spectrum-ai-for-agriculture-2025/ot/ot/sample2451.npy: cannot reshape array of size 1785856 into shape (128,128,125)\n",
      "Epoch 37: Train Loss: 4.4625, Val Loss: 4.7479\n",
      "Sample predictions: [65 21 21 65 65], True labels: [78 66 91 91 11]\n"
     ]
    },
    {
     "name": "stderr",
     "output_type": "stream",
     "text": [
      "Epoch 38/50: 100%|██████████| 55/55 [01:13<00:00,  1.33s/it]\n"
     ]
    },
    {
     "name": "stdout",
     "output_type": "stream",
     "text": [
      "Error loading /kaggle/input/beyond-visible-spectrum-ai-for-agriculture-2025/ot/ot/sample2451.npy: cannot reshape array of size 1785856 into shape (128,128,125)\n",
      "Epoch 38: Train Loss: 4.4588, Val Loss: 4.7664\n",
      "Sample predictions: [12 18  6 12 12], True labels: [78 66 91 91 11]\n"
     ]
    },
    {
     "name": "stderr",
     "output_type": "stream",
     "text": [
      "Epoch 39/50: 100%|██████████| 55/55 [01:12<00:00,  1.31s/it]\n"
     ]
    },
    {
     "name": "stdout",
     "output_type": "stream",
     "text": [
      "Error loading /kaggle/input/beyond-visible-spectrum-ai-for-agriculture-2025/ot/ot/sample2451.npy: cannot reshape array of size 1785856 into shape (128,128,125)\n",
      "Epoch 39: Train Loss: 4.4545, Val Loss: 4.7633\n",
      "Sample predictions: [65  6  6 65 99], True labels: [78 66 91 91 11]\n"
     ]
    },
    {
     "name": "stderr",
     "output_type": "stream",
     "text": [
      "Epoch 40/50: 100%|██████████| 55/55 [01:08<00:00,  1.25s/it]\n"
     ]
    },
    {
     "name": "stdout",
     "output_type": "stream",
     "text": [
      "Error loading /kaggle/input/beyond-visible-spectrum-ai-for-agriculture-2025/ot/ot/sample2451.npy: cannot reshape array of size 1785856 into shape (128,128,125)\n",
      "Epoch 40: Train Loss: 4.4426, Val Loss: 4.7531\n",
      "Sample predictions: [65 21 21 60 65], True labels: [78 66 91 91 11]\n"
     ]
    },
    {
     "name": "stderr",
     "output_type": "stream",
     "text": [
      "Epoch 41/50: 100%|██████████| 55/55 [01:21<00:00,  1.48s/it]\n"
     ]
    },
    {
     "name": "stdout",
     "output_type": "stream",
     "text": [
      "Error loading /kaggle/input/beyond-visible-spectrum-ai-for-agriculture-2025/ot/ot/sample2451.npy: cannot reshape array of size 1785856 into shape (128,128,125)\n",
      "Epoch 41: Train Loss: 4.4328, Val Loss: 4.7679\n",
      "Sample predictions: [65  6  6 65 65], True labels: [78 66 91 91 11]\n"
     ]
    },
    {
     "name": "stderr",
     "output_type": "stream",
     "text": [
      "Epoch 42/50: 100%|██████████| 55/55 [01:07<00:00,  1.22s/it]\n"
     ]
    },
    {
     "name": "stdout",
     "output_type": "stream",
     "text": [
      "Error loading /kaggle/input/beyond-visible-spectrum-ai-for-agriculture-2025/ot/ot/sample2451.npy: cannot reshape array of size 1785856 into shape (128,128,125)\n",
      "Epoch 42: Train Loss: 4.4368, Val Loss: 4.8008\n",
      "Sample predictions: [65 18  6 65 65], True labels: [78 66 91 91 11]\n"
     ]
    },
    {
     "name": "stderr",
     "output_type": "stream",
     "text": [
      "Epoch 43/50: 100%|██████████| 55/55 [01:05<00:00,  1.19s/it]\n"
     ]
    },
    {
     "name": "stdout",
     "output_type": "stream",
     "text": [
      "Error loading /kaggle/input/beyond-visible-spectrum-ai-for-agriculture-2025/ot/ot/sample2451.npy: cannot reshape array of size 1785856 into shape (128,128,125)\n",
      "Epoch 43: Train Loss: 4.4396, Val Loss: 4.7317\n",
      "Sample predictions: [60 21 21 60 60], True labels: [78 66 91 91 11]\n"
     ]
    },
    {
     "name": "stderr",
     "output_type": "stream",
     "text": [
      "Epoch 44/50: 100%|██████████| 55/55 [01:06<00:00,  1.21s/it]\n"
     ]
    },
    {
     "name": "stdout",
     "output_type": "stream",
     "text": [
      "Error loading /kaggle/input/beyond-visible-spectrum-ai-for-agriculture-2025/ot/ot/sample2451.npy: cannot reshape array of size 1785856 into shape (128,128,125)\n",
      "Epoch 44: Train Loss: 4.4328, Val Loss: 4.7719\n",
      "Sample predictions: [65 18  6 65 65], True labels: [78 66 91 91 11]\n"
     ]
    },
    {
     "name": "stderr",
     "output_type": "stream",
     "text": [
      "Epoch 45/50: 100%|██████████| 55/55 [01:06<00:00,  1.22s/it]\n"
     ]
    },
    {
     "name": "stdout",
     "output_type": "stream",
     "text": [
      "Error loading /kaggle/input/beyond-visible-spectrum-ai-for-agriculture-2025/ot/ot/sample2451.npy: cannot reshape array of size 1785856 into shape (128,128,125)\n",
      "Epoch 45: Train Loss: 4.4277, Val Loss: 4.7647\n",
      "Sample predictions: [65 18 18 65 65], True labels: [78 66 91 91 11]\n"
     ]
    },
    {
     "name": "stderr",
     "output_type": "stream",
     "text": [
      "Epoch 46/50: 100%|██████████| 55/55 [01:02<00:00,  1.14s/it]\n"
     ]
    },
    {
     "name": "stdout",
     "output_type": "stream",
     "text": [
      "Error loading /kaggle/input/beyond-visible-spectrum-ai-for-agriculture-2025/ot/ot/sample2451.npy: cannot reshape array of size 1785856 into shape (128,128,125)\n",
      "Epoch 46: Train Loss: 4.4326, Val Loss: 4.7863\n",
      "Sample predictions: [65  6  6 65 65], True labels: [78 66 91 91 11]\n"
     ]
    },
    {
     "name": "stderr",
     "output_type": "stream",
     "text": [
      "Epoch 47/50: 100%|██████████| 55/55 [01:04<00:00,  1.17s/it]\n"
     ]
    },
    {
     "name": "stdout",
     "output_type": "stream",
     "text": [
      "Error loading /kaggle/input/beyond-visible-spectrum-ai-for-agriculture-2025/ot/ot/sample2451.npy: cannot reshape array of size 1785856 into shape (128,128,125)\n",
      "Epoch 47: Train Loss: 4.4268, Val Loss: 4.7807\n",
      "Sample predictions: [60 18  6 60 65], True labels: [78 66 91 91 11]\n"
     ]
    },
    {
     "name": "stderr",
     "output_type": "stream",
     "text": [
      "Epoch 48/50: 100%|██████████| 55/55 [01:03<00:00,  1.15s/it]\n"
     ]
    },
    {
     "name": "stdout",
     "output_type": "stream",
     "text": [
      "Error loading /kaggle/input/beyond-visible-spectrum-ai-for-agriculture-2025/ot/ot/sample2451.npy: cannot reshape array of size 1785856 into shape (128,128,125)\n",
      "Epoch 48: Train Loss: 4.4259, Val Loss: 4.7767\n",
      "Sample predictions: [65 18  6 60 65], True labels: [78 66 91 91 11]\n"
     ]
    },
    {
     "name": "stderr",
     "output_type": "stream",
     "text": [
      "Epoch 49/50: 100%|██████████| 55/55 [01:21<00:00,  1.49s/it]\n"
     ]
    },
    {
     "name": "stdout",
     "output_type": "stream",
     "text": [
      "Error loading /kaggle/input/beyond-visible-spectrum-ai-for-agriculture-2025/ot/ot/sample2451.npy: cannot reshape array of size 1785856 into shape (128,128,125)\n",
      "Epoch 49: Train Loss: 4.4143, Val Loss: 4.8426\n",
      "Sample predictions: [62  6  6 60 62], True labels: [78 66 91 91 11]\n"
     ]
    },
    {
     "name": "stderr",
     "output_type": "stream",
     "text": [
      "Epoch 50/50: 100%|██████████| 55/55 [01:11<00:00,  1.30s/it]\n"
     ]
    },
    {
     "name": "stdout",
     "output_type": "stream",
     "text": [
      "Error loading /kaggle/input/beyond-visible-spectrum-ai-for-agriculture-2025/ot/ot/sample2451.npy: cannot reshape array of size 1785856 into shape (128,128,125)\n",
      "Epoch 50: Train Loss: 4.4213, Val Loss: 4.8320\n",
      "Sample predictions: [99  6  6 65 99], True labels: [78 66 91 91 11]\n"
     ]
    },
    {
     "data": {
      "image/png": "[encoded data removed]",
      "text/plain": [
       "<Figure size 800x500 with 1 Axes>"
      ]
     },
     "metadata": {},
     "output_type": "display_data"
    },
    {
     "name": "stderr",
     "output_type": "stream",
     "text": [
      "/tmp/ipykernel_13/2502131370.py:19: FutureWarning: You are using `torch.load` with `weights_only=False` (the current default value), which uses the default pickle module implicitly. It is possible to construct malicious pickle data which will execute arbitrary code during unpickling (See https://github.com/pytorch/pytorch/blob/main/SECURITY.md#untrusted-models for more details). In a future release, the default value for `weights_only` will be flipped to `True`. This limits the functions that could be executed during unpickling. Arbitrary objects will no longer be allowed to be loaded via this mode unless they are explicitly allowlisted by the user via `torch.serialization.add_safe_globals`. We recommend you start setting `weights_only=True` for any use case where you don't have full control of the loaded file. Please open an issue on GitHub for any issues related to this experimental feature.\n",
      "  model.load_state_dict(torch.load('Spectrum_CNN.pth'))\n"
     ]
    }
   ],
   "source": [
    "def main():\n",
    "    train_df = pd.read_csv('/kaggle/input/beyond-visible-spectrum-ai-for-agriculture-2025/train.csv')\n",
    "    base_path = '/kaggle/input/beyond-visible-spectrum-ai-for-agriculture-2025/ot/ot'\n",
    "    \n",
    "    train_df, val_df = train_test_split(train_df, test_size=0.2, random_state=42)\n",
    "    \n",
    "    train_dataset = HyperspectralDataset(train_df, base_path, augment=True)\n",
    "    val_dataset = HyperspectralDataset(val_df, base_path, augment=False)\n",
    "    \n",
    "    train_loader = DataLoader(train_dataset, batch_size=BATCH_SIZE, shuffle=True, num_workers=4)\n",
    "    val_loader = DataLoader(val_dataset, batch_size=BATCH_SIZE, shuffle=False, num_workers=4)\n",
    "    \n",
    "    model = HyperspectralCNN().to(DEVICE)\n",
    "    criterion = nn.CrossEntropyLoss()\n",
    "    optimizer = optim.Adam(model.parameters(), lr=LEARNING_RATE, weight_decay=1e-5)\n",
    "    \n",
    "    model = train_model(model, train_loader, val_loader, EPOCHS, criterion, optimizer)\n",
    "    \n",
    "    model.load_state_dict(torch.load('Spectrum_CNN.pth'))\n",
    "    \n",
    "    return model\n",
    "\n",
    "if __name__ == '__main__':\n",
    "    model = main()"
   ]
  },
  {
   "cell_type": "code",
   "execution_count": 7,
   "id": "677d6d3b",
   "metadata": {
    "execution": {
     "iopub.execute_input": "2025-05-07T20:37:31.140416Z",
     "iopub.status.busy": "2025-05-07T20:37:31.139917Z",
     "iopub.status.idle": "2025-05-07T20:38:04.915448Z",
     "shell.execute_reply": "2025-05-07T20:38:04.913305Z"
    },
    "papermill": {
     "duration": 33.966609,
     "end_time": "2025-05-07T20:38:04.917676",
     "exception": false,
     "start_time": "2025-05-07T20:37:30.951067",
     "status": "completed"
    },
    "tags": []
   },
   "outputs": [
    {
     "name": "stdout",
     "output_type": "stream",
     "text": [
      "Model weights: tensor([[ 0.0258,  0.0135, -0.0184],\n",
      "        [ 0.0159,  0.0020, -0.0334],\n",
      "        [-0.0155,  0.0136,  0.0113]], grad_fn=<SliceBackward0>)\n"
     ]
    },
    {
     "name": "stderr",
     "output_type": "stream",
     "text": [
      "/tmp/ipykernel_13/4053426474.py:2: FutureWarning: You are using `torch.load` with `weights_only=False` (the current default value), which uses the default pickle module implicitly. It is possible to construct malicious pickle data which will execute arbitrary code during unpickling (See https://github.com/pytorch/pytorch/blob/main/SECURITY.md#untrusted-models for more details). In a future release, the default value for `weights_only` will be flipped to `True`. This limits the functions that could be executed during unpickling. Arbitrary objects will no longer be allowed to be loaded via this mode unless they are explicitly allowlisted by the user via `torch.serialization.add_safe_globals`. We recommend you start setting `weights_only=True` for any use case where you don't have full control of the loaded file. Please open an issue on GitHub for any issues related to this experimental feature.\n",
      "  model.load_state_dict(torch.load('Spectrum_CNN.pth'))\n"
     ]
    },
    {
     "name": "stdout",
     "output_type": "stream",
     "text": [
      "[[ 0.03869649  0.08446439 -0.0102202  ...  0.25569844 -0.08244653\n",
      "   0.16647996]\n",
      " [ 0.0375048   0.08331688 -0.01001849 ...  0.25429457 -0.08043471\n",
      "   0.16577892]\n",
      " [ 0.0366631   0.08320734 -0.01133287 ...  0.2520104  -0.08001389\n",
      "   0.16450123]\n",
      " ...\n",
      " [ 0.03910296  0.0846407  -0.00987826 ...  0.25700235 -0.08320782\n",
      "   0.16686204]\n",
      " [ 0.03973525  0.08454682 -0.00836484 ...  0.2588343  -0.08284917\n",
      "   0.1681545 ]\n",
      " [ 0.03925423  0.08459082 -0.00965141 ...  0.25787008 -0.08353693\n",
      "   0.16709651]]\n",
      "[[1 1 1 ... 1 1 1]\n",
      " [1 1 1 ... 1 1 1]\n",
      " [1 1 1 ... 1 1 1]\n",
      " ...\n",
      " [1 1 1 ... 1 1 1]\n",
      " [1 1 1 ... 1 1 1]\n",
      " [1 1 1 ... 1 1 1]]\n",
      "[[ 0.03963105  0.08419405 -0.00817414 ...  0.25842696 -0.08225895\n",
      "   0.16824593]\n",
      " [ 0.03944343  0.08434072 -0.00857709 ...  0.2589426  -0.08294795\n",
      "   0.16779424]\n",
      " [ 0.03846453  0.08415709 -0.01012509 ...  0.25634322 -0.0825928\n",
      "   0.16630961]\n",
      " ...\n",
      " [ 0.03883203  0.08400334 -0.00899334 ...  0.25698823 -0.08180501\n",
      "   0.16722228]\n",
      " [ 0.04197558  0.08530982 -0.00632614 ...  0.26334503 -0.08472231\n",
      "   0.17083651]\n",
      " [ 0.03963105  0.08419408 -0.00817411 ...  0.25842696 -0.08225896\n",
      "   0.16824593]]\n",
      "[[1 1 1 ... 1 1 1]\n",
      " [1 1 1 ... 1 1 1]\n",
      " [1 1 1 ... 1 1 1]\n",
      " ...\n",
      " [1 1 1 ... 1 1 1]\n",
      " [1 1 1 ... 1 1 1]\n",
      " [1 1 1 ... 1 1 1]]\n",
      "[[ 0.03783793  0.0836357  -0.01009458 ...  0.25510457 -0.08123861\n",
      "   0.16594754]\n",
      " [ 0.03863325  0.08434743 -0.00985108 ...  0.25569528 -0.08190671\n",
      "   0.16665715]\n",
      " [ 0.0396058   0.08425143 -0.00813853 ...  0.25932914 -0.08270177\n",
      "   0.16818036]\n",
      " ...\n",
      " [ 0.04049647  0.08476987 -0.00759097 ...  0.26026726 -0.08332543\n",
      "   0.16912578]\n",
      " [ 0.03949285  0.08422332 -0.00827836 ...  0.25834626 -0.08225219\n",
      "   0.1680759 ]\n",
      " [ 0.03963105  0.08419408 -0.00817411 ...  0.25842696 -0.08225896\n",
      "   0.16824593]]\n",
      "[[1 1 1 ... 1 1 1]\n",
      " [1 1 1 ... 1 1 1]\n",
      " [1 1 1 ... 1 1 1]\n",
      " ...\n",
      " [1 1 1 ... 1 1 1]\n",
      " [1 1 1 ... 1 1 1]\n",
      " [1 1 1 ... 1 1 1]]\n",
      "[[ 0.04090854  0.08496684 -0.00721851 ...  0.26153225 -0.08395675\n",
      "   0.16955611]\n",
      " [ 0.03848347  0.08377741 -0.00921053 ...  0.25647134 -0.08151682\n",
      "   0.16684182]\n",
      " [ 0.03976151  0.08434524 -0.00810428 ...  0.25878856 -0.08250165\n",
      "   0.16836031]\n",
      " ...\n",
      " [ 0.04133678  0.08513623 -0.00688165 ...  0.26249555 -0.08443842\n",
      "   0.17005076]\n",
      " [ 0.03946225  0.08475573 -0.00955158 ...  0.25801712 -0.08369048\n",
      "   0.16726522]\n",
      " [ 0.04052723  0.08474177 -0.00751799 ...  0.26043007 -0.08335711\n",
      "   0.16915925]]\n",
      "[[1 1 1 ... 1 1 1]\n",
      " [1 1 1 ... 1 1 1]\n",
      " [1 1 1 ... 1 1 1]\n",
      " ...\n",
      " [1 1 1 ... 1 1 1]\n",
      " [1 1 1 ... 1 1 1]\n",
      " [1 1 1 ... 1 1 1]]\n",
      "[[ 0.03583709  0.08263676 -0.01176304 ...  0.25095445 -0.07932917\n",
      "   0.16369294]\n",
      " [ 0.03748824  0.08338423 -0.01026037 ...  0.25455302 -0.08084239\n",
      "   0.16562013]\n",
      " [ 0.03869687  0.0842822  -0.00996689 ...  0.25683713 -0.0828867\n",
      "   0.16654436]\n",
      " ...\n",
      " [ 0.03846709  0.08360268 -0.00900292 ...  0.25734863 -0.081893\n",
      "   0.1670054 ]\n",
      " [ 0.03882565  0.08440804 -0.00970736 ...  0.25699505 -0.08294008\n",
      "   0.16672902]\n",
      " [ 0.03901579  0.08413319 -0.00888816 ...  0.25793535 -0.08239153\n",
      "   0.16734958]]\n",
      "[[1 1 1 ... 1 1 1]\n",
      " [1 1 1 ... 1 1 1]\n",
      " [1 1 1 ... 1 1 1]\n",
      " ...\n",
      " [1 1 1 ... 1 1 1]\n",
      " [1 1 1 ... 1 1 1]\n",
      " [1 1 1 ... 1 1 1]]\n",
      "[[ 0.04104822  0.08496724 -0.00707521 ...  0.2617315  -0.08399805\n",
      "   0.16972159]\n",
      " [ 0.03895898  0.08388853 -0.00846781 ...  0.2583711  -0.08212328\n",
      "   0.1674637 ]\n",
      " [ 0.03405709  0.08217093 -0.01375891 ...  0.24567567 -0.07758284\n",
      "   0.16144578]\n",
      " ...\n",
      " [ 0.03963105  0.08419405 -0.00817414 ...  0.25842696 -0.08225895\n",
      "   0.16824593]\n",
      " [ 0.04120447  0.08514957 -0.00737886 ...  0.26260775 -0.0849928\n",
      "   0.16960375]\n",
      " [ 0.0366101   0.08311394 -0.01105704 ...  0.2526976  -0.08018363\n",
      "   0.16451517]]\n",
      "[[1 1 1 ... 1 1 1]\n",
      " [1 1 1 ... 1 1 1]\n",
      " [1 1 1 ... 1 1 1]\n",
      " ...\n",
      " [1 1 1 ... 1 1 1]\n",
      " [1 1 1 ... 1 1 1]\n",
      " [1 1 1 ... 1 1 1]]\n",
      "[[ 0.04443584  0.08866389 -0.00824679 ...  0.2738937  -0.09711632\n",
      "   0.16994016]\n",
      " [ 0.03882826  0.08417818 -0.0092897  ...  0.2572376  -0.08233024\n",
      "   0.16704145]\n",
      " [ 0.04086266  0.08490585 -0.00733922 ...  0.2608763  -0.08364606\n",
      "   0.16952321]\n",
      " ...\n",
      " [ 0.04110072  0.08501107 -0.00715174 ...  0.26137418 -0.08389839\n",
      "   0.1697814 ]\n",
      " [ 0.03914209  0.08460663 -0.00979419 ...  0.25722563 -0.08323488\n",
      "   0.16694486]\n",
      " [ 0.04251509  0.08573408 -0.00610475 ...  0.2642848  -0.08543134\n",
      "   0.17131473]]\n",
      "[[1 1 1 ... 1 1 1]\n",
      " [1 1 1 ... 1 1 1]\n",
      " [1 1 1 ... 1 1 1]\n",
      " ...\n",
      " [1 1 1 ... 1 1 1]\n",
      " [1 1 1 ... 1 1 1]\n",
      " [1 1 1 ... 1 1 1]]\n",
      "[[ 0.04084568  0.08477749 -0.00735772 ...  0.26159626 -0.08405016\n",
      "   0.16942312]\n",
      " [ 0.03993221  0.08448808 -0.00799233 ...  0.25910807 -0.08269022\n",
      "   0.16852754]\n",
      " [ 0.03963105  0.08419405 -0.00817414 ...  0.25842696 -0.08225895\n",
      "   0.16824593]\n",
      " ...\n",
      " [ 0.03917097  0.08457686 -0.00966151 ...  0.25761765 -0.08338767\n",
      "   0.16702425]\n",
      " [ 0.03961217  0.08445904 -0.00853994 ...  0.25928354 -0.08327281\n",
      "   0.1679114 ]\n",
      " [ 0.04623493  0.08698545 -0.00309584 ...  0.2744118  -0.0911032\n",
      "   0.17506239]]\n",
      "[[1 1 1 ... 1 1 1]\n",
      " [1 1 1 ... 1 1 1]\n",
      " [1 1 1 ... 1 1 1]\n",
      " ...\n",
      " [1 1 1 ... 1 1 1]\n",
      " [1 1 1 ... 1 1 1]\n",
      " [1 1 1 ... 1 1 1]]\n",
      "[[ 0.03720444  0.08341531 -0.01070249 ...  0.253487   -0.08055774\n",
      "   0.16523807]\n",
      " [ 0.04069979  0.0850544  -0.00771316 ...  0.2605161  -0.08375524\n",
      "   0.1692304 ]\n",
      " [ 0.03922705  0.08456174 -0.00956874 ...  0.25762978 -0.08328741\n",
      "   0.16712588]\n",
      " ...\n",
      " [ 0.04160377  0.08508614 -0.00639345 ...  0.2632054  -0.0844577\n",
      "   0.17044826]\n",
      " [ 0.04313957  0.08580108 -0.005318   ...  0.26667812 -0.08637843\n",
      "   0.1721471 ]\n",
      " [ 0.04142029  0.08507065 -0.00675467 ...  0.26289043 -0.08450963\n",
      "   0.17018577]]\n",
      "[[1 1 1 ... 1 1 1]\n",
      " [1 1 1 ... 1 1 1]\n",
      " [1 1 1 ... 1 1 1]\n",
      " ...\n",
      " [1 1 1 ... 1 1 1]\n",
      " [1 1 1 ... 1 1 1]\n",
      " [1 1 1 ... 1 1 1]]\n",
      "[[ 0.03958506  0.08456923 -0.00864762 ...  0.25878003 -0.08307615\n",
      "   0.16782096]\n",
      " [ 0.0354567   0.08244382 -0.01199338 ...  0.25001404 -0.07880378\n",
      "   0.16332403]\n",
      " [ 0.04311087  0.08572635 -0.00536865 ...  0.26610255 -0.08607515\n",
      "   0.17204444]\n",
      " ...\n",
      " [ 0.03994989  0.08450814 -0.00800278 ...  0.2612221  -0.08427587\n",
      "   0.16839261]\n",
      " [ 0.04129661  0.08513772 -0.00695752 ...  0.2621083  -0.0842517\n",
      "   0.16999616]\n",
      " [ 0.0423167   0.08538945 -0.0059537  ...  0.26449534 -0.08523983\n",
      "   0.17128834]]\n",
      "[[1 1 1 ... 1 1 1]\n",
      " [1 1 1 ... 1 1 1]\n",
      " [1 1 1 ... 1 1 1]\n",
      " ...\n",
      " [1 1 1 ... 1 1 1]\n",
      " [1 1 1 ... 1 1 1]\n",
      " [1 1 1 ... 1 1 1]]\n",
      "[[ 0.04005546  0.08448787 -0.00789676 ...  0.25932348 -0.08279517\n",
      "   0.16866267]\n",
      " [ 0.03963105  0.08419405 -0.00817414 ...  0.25842696 -0.08225895\n",
      "   0.16824593]\n",
      " [ 0.03873032  0.08414638 -0.00946891 ...  0.25694072 -0.08229785\n",
      "   0.16688812]\n",
      " ...\n",
      " [ 0.04182119  0.08531271 -0.00658372 ...  0.26294658 -0.0847258\n",
      "   0.17054637]\n",
      " [ 0.0416477   0.08529535 -0.00672427 ...  0.26269916 -0.08460422\n",
      "   0.17035551]\n",
      " [ 0.0395891   0.08438124 -0.00839615 ...  0.25907376 -0.08290622\n",
      "   0.1680044 ]]\n",
      "[[1 1 1 ... 1 1 1]\n",
      " [1 1 1 ... 1 1 1]\n",
      " [1 1 1 ... 1 1 1]\n",
      " ...\n",
      " [1 1 1 ... 1 1 1]\n",
      " [1 1 1 ... 1 1 1]\n",
      " [1 1 1 ... 1 1 1]]\n",
      "[[ 0.04112627  0.08508869 -0.00716358 ...  0.26149973 -0.08401625\n",
      "   0.16978435]\n",
      " [ 0.04011345  0.08452812 -0.00782506 ...  0.25962752 -0.08292141\n",
      "   0.16873205]\n",
      " [ 0.03963105  0.08419405 -0.00817414 ...  0.25842696 -0.08225895\n",
      "   0.16824593]\n",
      " ...\n",
      " [ 0.03797085  0.08358815 -0.00959208 ...  0.2558327  -0.08122831\n",
      "   0.16625556]\n",
      " [ 0.03724141  0.08309023 -0.01012556 ...  0.2544996  -0.08045918\n",
      "   0.16549437]\n",
      " [ 0.03892723  0.08411847 -0.00898981 ...  0.25763315 -0.08230957\n",
      "   0.16722268]]\n",
      "[[1 1 1 ... 1 1 1]\n",
      " [1 1 1 ... 1 1 1]\n",
      " [1 1 1 ... 1 1 1]\n",
      " ...\n",
      " [1 1 1 ... 1 1 1]\n",
      " [1 1 1 ... 1 1 1]\n",
      " [1 1 1 ... 1 1 1]]\n",
      "[[ 0.04130185  0.08499111 -0.00700916 ...  0.26235816 -0.08440417\n",
      "   0.16999368]\n",
      " [ 0.03963105  0.08419405 -0.00817414 ...  0.25842696 -0.08225895\n",
      "   0.16824593]\n",
      " [ 0.03943419  0.08472092 -0.00953311 ...  0.25806195 -0.08369892\n",
      "   0.1672838 ]\n",
      " ...\n",
      " [ 0.03827021  0.08375998 -0.00940123 ...  0.25642082 -0.08157744\n",
      "   0.16660884]\n",
      " [ 0.03794444  0.08346681 -0.00971906 ...  0.2557695  -0.08127057\n",
      "   0.16616686]\n",
      " [ 0.03708064  0.083067   -0.01017138 ...  0.25366527 -0.07995723\n",
      "   0.16538197]]\n",
      "[[1 1 1 ... 1 1 1]\n",
      " [1 1 1 ... 1 1 1]\n",
      " [1 1 1 ... 1 1 1]\n",
      " ...\n",
      " [1 1 1 ... 1 1 1]\n",
      " [1 1 1 ... 1 1 1]\n",
      " [1 1 1 ... 1 1 1]]\n",
      "[[ 0.03605693  0.08279425 -0.01164946 ...  0.2511096  -0.07944913\n",
      "   0.16392194]\n",
      " [ 0.03732203  0.08321956 -0.01029079 ...  0.25441986 -0.08064209\n",
      "   0.1655937 ]\n",
      " [ 0.04119577  0.08502124 -0.00696389 ...  0.26197806 -0.0841222\n",
      "   0.16991664]\n",
      " ...\n",
      " [ 0.03963666  0.08435149 -0.00830646 ...  0.25860953 -0.082559\n",
      "   0.16813809]\n",
      " [ 0.04310208  0.08591174 -0.00556307 ...  0.2660093  -0.08624431\n",
      "   0.1719432 ]\n",
      " [ 0.03668133  0.08299708 -0.01087702 ...  0.25280046 -0.07996863\n",
      "   0.16472615]]\n",
      "[[1 1 1 ... 1 1 1]\n",
      " [1 1 1 ... 1 1 1]\n",
      " [1 1 1 ... 1 1 1]\n",
      " ...\n",
      " [1 1 1 ... 1 1 1]\n",
      " [1 1 1 ... 1 1 1]\n",
      " [1 1 1 ... 1 1 1]]\n",
      "[[ 0.03949318  0.08440042 -0.00844753 ...  0.25798303 -0.08223319\n",
      "   0.16797568]\n",
      " [ 0.04716713  0.08827539 -0.0040805  ...  0.27871922 -0.09635679\n",
      "   0.17457768]\n",
      " [ 0.04144215  0.08511187 -0.00668288 ...  0.26254246 -0.08427677\n",
      "   0.17025773]\n",
      " ...\n",
      " [ 0.04041363  0.08470586 -0.00758388 ...  0.26039076 -0.08334038\n",
      "   0.16905162]\n",
      " [ 0.04234751  0.08545192 -0.00621884 ...  0.26405993 -0.08529856\n",
      "   0.17113028]\n",
      " [ 0.03716402  0.08328339 -0.01046768 ...  0.25346166 -0.08021937\n",
      "   0.16531728]]\n",
      "[[1 1 1 ... 1 1 1]\n",
      " [1 1 1 ... 1 1 1]\n",
      " [1 1 1 ... 1 1 1]\n",
      " ...\n",
      " [1 1 1 ... 1 1 1]\n",
      " [1 1 1 ... 1 1 1]\n",
      " [1 1 1 ... 1 1 1]]\n",
      "[[ 0.03920453  0.08452864 -0.00949077 ...  0.25771502 -0.0832966\n",
      "   0.16712125]\n",
      " [ 0.0403906   0.08470669 -0.00776608 ...  0.25998947 -0.08325247\n",
      "   0.16897774]\n",
      " [ 0.03748632  0.08319737 -0.0096956  ...  0.25479    -0.08039348\n",
      "   0.1658602 ]\n",
      " ...\n",
      " [ 0.03819632  0.08380111 -0.00934456 ...  0.25717393 -0.08215892\n",
      "   0.16648704]\n",
      " [ 0.03723196  0.08337425 -0.01071998 ...  0.25375348 -0.08076417\n",
      "   0.16518979]\n",
      " [ 0.03804488  0.08426073 -0.01089311 ...  0.25393075 -0.08170403\n",
      "   0.165704  ]]\n",
      "[[1 1 1 ... 1 1 1]\n",
      " [1 1 1 ... 1 1 1]\n",
      " [1 1 1 ... 1 1 1]\n",
      " ...\n",
      " [1 1 1 ... 1 1 1]\n",
      " [1 1 1 ... 1 1 1]\n",
      " [1 1 1 ... 1 1 1]]\n",
      "[[ 0.03925291  0.08463147 -0.00972369 ...  0.257405   -0.08329654\n",
      "   0.1670757 ]\n",
      " [ 0.03640493  0.08288056 -0.01095393 ...  0.2520847  -0.07944795\n",
      "   0.1644824 ]\n",
      " [ 0.04270124  0.08568886 -0.00585815 ...  0.26486117 -0.08564385\n",
      "   0.17156625]\n",
      " ...\n",
      " [ 0.03940921  0.08472466 -0.00956523 ...  0.2579598  -0.0836439\n",
      "   0.16724847]\n",
      " [ 0.03468484  0.08201173 -0.01254676 ...  0.24847482 -0.07797951\n",
      "   0.1624776 ]\n",
      " [ 0.03935079  0.0846712  -0.00955622 ...  0.25796777 -0.08362719\n",
      "   0.16717121]]\n",
      "[[1 1 1 ... 1 1 1]\n",
      " [1 1 1 ... 1 1 1]\n",
      " [1 1 1 ... 1 1 1]\n",
      " ...\n",
      " [1 1 1 ... 1 1 1]\n",
      " [1 1 1 ... 1 1 1]\n",
      " [1 1 1 ... 1 1 1]]\n",
      "[ 0.04067333  0.08479969 -0.00744593 -0.0123219   0.1596802  -0.01840644\n",
      " -0.18595052 -0.00261126 -0.21949947 -0.4943773   0.01573405  0.03134822\n",
      " -0.05778233  0.01087132  0.03693343  0.30218393 -0.11827655 -0.08247793\n",
      "  0.09225814 -0.15259402  0.33682108 -0.01691008  0.03967705 -0.26671156\n",
      "  0.0151704  -0.2653238   0.05642243 -0.04207757  0.04230107  0.12904567\n",
      " -0.32894647 -0.32767144  0.22428282 -0.41110778 -0.03967112  0.03398946\n",
      " -0.25905824  0.01439718  0.14106707 -0.17300692  0.06358594  0.01625652\n",
      "  0.17541125  0.18046108 -0.07794298 -0.34653062 -0.2011094  -0.24679552\n",
      " -0.08506969 -0.25113058  0.12741365 -0.07341424 -0.2275818   0.03646751\n",
      " -0.12295374 -0.03102346 -0.23967025 -0.28628895 -0.17006248 -0.17480041\n",
      " -0.08235066 -0.34472275 -0.07852279 -0.15741536 -0.24329695 -0.04140551\n",
      " -0.15142043 -0.17556578 -0.23953277 -0.2524056   0.01388577 -0.19900095\n",
      " -0.04700504 -0.12717119 -0.00104636 -0.14810307  0.04188008 -0.05290437\n",
      " -0.08741064 -0.01291786  0.0792599  -0.10898413  0.14511925 -0.06325638\n",
      " -0.07988326 -0.22561797 -0.1492736  -0.0023281  -0.32749027  0.11766432\n",
      " -0.23201409  0.23281643 -0.0008992  -0.08478141  0.02387652 -0.08124292\n",
      "  0.15019281  0.26058033 -0.08346125  0.16934176]\n",
      "[1 1 1 1 1 1 1 1 1 1 1 1 1 1 1 1 1 1 1 1 1 1 1 1 1 1 1 1 1 1 1 1 1 1 1 1 1\n",
      " 1 1 1 1 1 1 1 1 1 1 1 1 1 1 1 1 1 1 1 1 1 1 1 1 1 1 1 1 1 1 1 1 1 1 1 1 1\n",
      " 1 1 1 1 1 1 1 1 1 1 1 1 1 1 1 1 1 1 1 1 1 1 1 1 1 1]\n",
      "Submission created successfully\n",
      "\n",
      "Submission preview:\n",
      "               ID  TARGET\n",
      "0  sample1957.npy       1\n",
      "1  sample1369.npy       1\n",
      "2   sample782.npy       1\n",
      "3  sample2255.npy       1\n",
      "4  sample2160.npy       1\n"
     ]
    }
   ],
   "source": [
    "model = HyperspectralCNN(in_channels=100).to(DEVICE)\n",
    "model.load_state_dict(torch.load('Spectrum_CNN.pth'))\n",
    "model.eval()\n",
    "print(\"Model weights:\", list(model.parameters())[0][0, 0, :5])\n",
    "test_input = torch.randn(1, 100, 64, 64).to(DEVICE)\n",
    "\n",
    "class TestHyperspectralDataset(Dataset):\n",
    "    def __init__(self, test_csv, base_path, patch_size=64, num_bands=100):\n",
    "        self.df = pd.read_csv(test_csv)\n",
    "        self.base_path = base_path\n",
    "        self.patch_size = patch_size\n",
    "        self.num_bands = num_bands\n",
    "        \n",
    "    def __len__(self):\n",
    "        return len(self.df)\n",
    "    \n",
    "    def __getitem__(self, idx):\n",
    "        row = self.df.iloc[idx]\n",
    "        img_path = os.path.join(self.base_path, row['id'])\n",
    "        \n",
    "        try:\n",
    "            img = np.load(img_path)\n",
    "            \n",
    "            if len(img.shape) == 2:\n",
    "                img = np.repeat(img[:, :, np.newaxis], self.num_bands, axis=2)\n",
    "            elif len(img.shape) == 3:\n",
    "                if img.shape[2] > self.num_bands:\n",
    "                    img = img[:, :, :self.num_bands] \n",
    "                elif img.shape[2] < self.num_bands:\n",
    "                    pad_width = ((0, 0), (0, 0), (0, self.num_bands - img.shape[2]))\n",
    "                    img = np.pad(img, pad_width, mode='constant')\n",
    "            \n",
    "            normalized_img = np.zeros_like(img)\n",
    "            for band in range(img.shape[2]):\n",
    "                band_data = img[:, :, band]\n",
    "                if np.max(band_data) > 0:  \n",
    "                    normalized_img[:, :, band] = (band_data - np.min(band_data)) / (np.max(band_data) - np.min(band_data))\n",
    "            \n",
    "            img_tensor = torch.tensor(normalized_img, dtype=torch.float32).permute(2, 0, 1)\n",
    "            \n",
    "            if img_tensor.shape[1] != self.patch_size or img_tensor.shape[2] != self.patch_size:\n",
    "                img_tensor = F.interpolate(img_tensor.unsqueeze(0), \n",
    "                                         size=(self.patch_size, self.patch_size),\n",
    "                                         mode='bilinear').squeeze(0)\n",
    "            \n",
    "            return img_tensor, row['id']\n",
    "        \n",
    "        except Exception as e:\n",
    "            print(f\"Error loading {img_path}: {str(e)}\")\n",
    "            dummy_img = torch.zeros(self.num_bands, self.patch_size, self.patch_size)\n",
    "            return dummy_img, row['id']\n",
    "\n",
    "\n",
    "test_csv_path = '/kaggle/input/beyond-visible-spectrum-ai-for-agriculture-2025/test.csv'\n",
    "base_path = '/kaggle/input/beyond-visible-spectrum-ai-for-agriculture-2025/ot/ot'\n",
    "\n",
    "test_dataset = TestHyperspectralDataset(test_csv_path, base_path, num_bands=100)\n",
    "test_loader = DataLoader(test_dataset, batch_size=BATCH_SIZE, shuffle=False, num_workers=4)\n",
    "\n",
    "predictions = []\n",
    "ids = []\n",
    "\n",
    "with torch.no_grad():\n",
    "    for inputs, img_ids in test_loader:\n",
    "        inputs = inputs.to(DEVICE)\n",
    "        \n",
    "        if torch.isnan(inputs).any():\n",
    "            print(f\"Skipping batch with NaN values\")\n",
    "            predictions.extend([50] * len(img_ids))  \n",
    "            ids.extend(img_ids)\n",
    "            continue\n",
    "            \n",
    "        outputs = model(inputs)\n",
    "        preds = outputs.squeeze().cpu().numpy()\n",
    "        print(preds)\n",
    "        preds = np.clip(preds, 1, 100).round().astype(int)\n",
    "        print(preds)\n",
    "        if isinstance(preds, np.ndarray) and preds.ndim > 1:\n",
    "            preds = np.max(preds, axis=1)  \n",
    "\n",
    "        if len(preds) != len(img_ids):\n",
    "            preds = preds[:len(img_ids)]  \n",
    "\n",
    "        predictions.extend(preds.tolist())  \n",
    "        ids.extend(img_ids)\n",
    "\n",
    "\n",
    "\n",
    "submission_df = pd.DataFrame({'ID': ids, 'TARGET': predictions})\n",
    "submission_df.to_csv('submission.csv', index=False)\n",
    "print(\"Submission created successfully\")\n",
    "print(\"\\nSubmission preview:\")\n",
    "print(submission_df.head())"
   ]
  }
 ],
 "metadata": {
  "kaggle": {
   "accelerator": "none",
   "dataSources": [
    {
     "databundleVersionId": 11749951,
     "sourceId": 98450,
     "sourceType": "competition"
    }
   ],
   "dockerImageVersionId": 31012,
   "isGpuEnabled": false,
   "isInternetEnabled": true,
   "language": "python",
   "sourceType": "notebook"
  },
  "kernelspec": {
   "display_name": "Python 3",
   "language": "python",
   "name": "python3"
  },
  "language_info": {
   "codemirror_mode": {
    "name": "ipython",
    "version": 3
   },
   "file_extension": ".py",
   "mimetype": "text/x-python",
   "name": "python",
   "nbconvert_exporter": "python",
   "pygments_lexer": "ipython3",
   "version": "3.11.11"
  },
  "papermill": {
   "default_parameters": {},
   "duration": 3997.910526,
   "end_time": "2025-05-07T20:38:07.741087",
   "environment_variables": {},
   "exception": null,
   "input_path": "__notebook__.ipynb",
   "output_path": "__notebook__.ipynb",
   "parameters": {},
   "start_time": "2025-05-07T19:31:29.830561",
   "version": "2.6.0"
  }
 },
 "nbformat": 4,
 "nbformat_minor": 5
}
