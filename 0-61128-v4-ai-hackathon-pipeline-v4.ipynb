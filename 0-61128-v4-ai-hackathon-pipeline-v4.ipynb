{
 "cells": [
  {
   "cell_type": "markdown",
   "id": "83b76738",
   "metadata": {
    "papermill": {
     "duration": 0.002241,
     "end_time": "2025-03-30T15:47:46.780533",
     "exception": false,
     "start_time": "2025-03-30T15:47:46.778292",
     "status": "completed"
    },
    "tags": []
   },
   "source": [
    "Credit goes to this notebook and author --> https://www.kaggle.com/code/muhammadqasimshabbir/kaggle-starter-notebook"
   ]
  },
  {
   "cell_type": "code",
   "execution_count": 1,
   "id": "44a76c0d",
   "metadata": {
    "_cell_guid": "b1076dfc-b9ad-4769-8c92-a6c4dae69d19",
    "_uuid": "8f2839f25d086af736a60e9eeb907d3b93b6e0e5",
    "execution": {
     "iopub.execute_input": "2025-03-30T15:47:46.785680Z",
     "iopub.status.busy": "2025-03-30T15:47:46.785289Z",
     "iopub.status.idle": "2025-03-30T15:47:51.912946Z",
     "shell.execute_reply": "2025-03-30T15:47:51.911757Z"
    },
    "papermill": {
     "duration": 5.132199,
     "end_time": "2025-03-30T15:47:51.914680",
     "exception": false,
     "start_time": "2025-03-30T15:47:46.782481",
     "status": "completed"
    },
    "tags": []
   },
   "outputs": [
    {
     "name": "stdout",
     "output_type": "stream",
     "text": [
      "Loading training data...\n",
      "Training data loaded. Shape: (8349, 37)\n",
      "Preparing training data...\n",
      "Data split into training and validation sets.\n",
      "Defining models...\n",
      "Models defined: ['RANSACRegressor']\n",
      "Training models...\n",
      "Training RANSACRegressor...\n",
      "Model training complete.\n",
      "Validating models on the validation set...\n",
      "Predicting with RANSACRegressor on validation data...\n",
      "Loading test data...\n",
      "Test data loaded. Shape: (2088, 3)\n",
      "Predicting on test data...\n",
      "Predicting with RANSACRegressor...\n",
      "Test predictions complete.\n",
      "Creating submission file...\n",
      "Submission file 'submission.csv' created!\n"
     ]
    }
   ],
   "source": [
    "import h5py\n",
    "import numpy as np\n",
    "import pandas as pd\n",
    "from sklearn.model_selection import train_test_split\n",
    "from sklearn.linear_model import RANSACRegressor\n",
    "\n",
    "class ElucidataPipeline:\n",
    "    def __init__(self, h5_file_path, test_slide='S_7', submission_path='submission.csv', test_size=0.02, random_state=2024):\n",
    "        self.h5_file_path = h5_file_path\n",
    "        self.test_slide = test_slide\n",
    "        self.submission_path = submission_path\n",
    "        self.test_size = test_size\n",
    "        self.random_state = random_state\n",
    "        self.train_df = None\n",
    "        self.X = None\n",
    "        self.y = None\n",
    "        self.X_train = None\n",
    "        self.X_valid = None\n",
    "        self.y_train = None\n",
    "        self.y_valid = None\n",
    "        self.models = {}\n",
    "        self.test_df = None\n",
    "        self.predictions = None\n",
    "\n",
    "    def load_train_data(self):\n",
    "        print(\"Loading training data...\")\n",
    "        with h5py.File(self.h5_file_path, \"r\") as f:\n",
    "            train_spots = f[\"spots/Train\"]\n",
    "            train_spot_tables = {\n",
    "                slide_name: pd.DataFrame(np.array(train_spots[slide_name]))\n",
    "                for slide_name in train_spots.keys()\n",
    "            }\n",
    "        self.train_df = pd.concat(train_spot_tables.values(), ignore_index=True)\n",
    "        print(f\"Training data loaded. Shape: {self.train_df.shape}\")\n",
    "\n",
    "    def prepare_data(self):\n",
    "        print(\"Preparing training data...\")\n",
    "        # Use spatial coordinates as features and the remaining columns as target labels.\n",
    "        self.X = self.train_df[['x', 'y']]\n",
    "        self.y = self.train_df.iloc[:, 2:]\n",
    "        self.X_train, self.X_valid, self.y_train, self.y_valid = train_test_split(\n",
    "            self.X, self.y, test_size=self.test_size, random_state=self.random_state\n",
    "        )\n",
    "        print(\"Data split into training and validation sets.\")\n",
    "\n",
    "    def define_models(self):\n",
    "        print(\"Defining models...\")\n",
    "        self.models = {\n",
    "            \"RANSACRegressor\": RANSACRegressor()\n",
    "        }\n",
    "        print(\"Models defined:\", list(self.models.keys()))\n",
    "\n",
    "    def train_models(self):\n",
    "        print(\"Training models...\")\n",
    "        for name, model in self.models.items():\n",
    "            print(f\"Training {name}...\")\n",
    "            model.fit(self.X_train, self.y_train)\n",
    "        print(\"Model training complete.\")\n",
    "\n",
    "    def validate_models(self):\n",
    "        print(\"Validating models on the validation set...\")\n",
    "        preds_valid = {}\n",
    "        for name, model in self.models.items():\n",
    "            print(f\"Predicting with {name} on validation data...\")\n",
    "            preds_valid[name] = model.predict(self.X_valid)\n",
    "        return preds_valid\n",
    "\n",
    "    def load_test_data(self):\n",
    "        print(\"Loading test data...\")\n",
    "        with h5py.File(self.h5_file_path, \"r\") as f:\n",
    "            test_spots = f[\"spots/Test\"]\n",
    "            self.test_df = pd.DataFrame(np.array(test_spots[self.test_slide]))\n",
    "        print(f\"Test data loaded. Shape: {self.test_df.shape}\")\n",
    "\n",
    "    def predict_test(self):\n",
    "        print(\"Predicting on test data...\")\n",
    "        X_test = self.test_df[['x', 'y']]\n",
    "        test_preds = np.zeros((X_test.shape[0], self.y.shape[1]))\n",
    "        for name, model in self.models.items():\n",
    "            print(f\"Predicting with {name}...\")\n",
    "            test_preds += model.predict(X_test)\n",
    "        test_preds /= len(self.models)\n",
    "        self.predictions = test_preds\n",
    "        print(\"Test predictions complete.\")\n",
    "\n",
    "    def create_submission(self):\n",
    "        print(\"Creating submission file...\")\n",
    "        submission_df = pd.DataFrame(self.predictions, columns=self.y.columns)\n",
    "        submission_df.insert(0, 'ID', self.test_df.index)\n",
    "        submission_df.to_csv(self.submission_path, index=False)\n",
    "        print(f\"Submission file '{self.submission_path}' created!\")\n",
    "\n",
    "    def run_pipeline(self):\n",
    "        self.load_train_data()\n",
    "        self.prepare_data()\n",
    "        self.define_models()\n",
    "        self.train_models()\n",
    "        _ = self.validate_models()  # Optionally use validation predictions\n",
    "        self.load_test_data()\n",
    "        self.predict_test()\n",
    "        self.create_submission()\n",
    "# Example usage:\n",
    "if __name__ == \"__main__\":\n",
    "    h5_file_path = \"/kaggle/input/el-hackathon-2025/elucidata_ai_challenge_data.h5\"\n",
    "    pipeline = ElucidataPipeline(h5_file_path)\n",
    "    pipeline.run_pipeline()"
   ]
  },
  {
   "cell_type": "code",
   "execution_count": 2,
   "id": "320ffe01",
   "metadata": {
    "execution": {
     "iopub.execute_input": "2025-03-30T15:47:51.919677Z",
     "iopub.status.busy": "2025-03-30T15:47:51.919343Z",
     "iopub.status.idle": "2025-03-30T15:47:52.695167Z",
     "shell.execute_reply": "2025-03-30T15:47:52.693833Z"
    },
    "papermill": {
     "duration": 0.780136,
     "end_time": "2025-03-30T15:47:52.696905",
     "exception": false,
     "start_time": "2025-03-30T15:47:51.916769",
     "status": "completed"
    },
    "tags": []
   },
   "outputs": [
    {
     "name": "stdout",
     "output_type": "stream",
     "text": [
      "Loading training data...\n",
      "Training data loaded. Shape: (8349, 37)\n",
      "Preparing training data...\n",
      "Data split into training and validation sets.\n",
      "Defining models...\n",
      "Models defined: ['RANSACRegressor']\n",
      "Training models...\n",
      "Training RANSACRegressor...\n",
      "Model training complete.\n",
      "Validating models on the validation set...\n",
      "Predicting with RANSACRegressor on validation data...\n",
      "Loading test data...\n",
      "Test data loaded. Shape: (2088, 3)\n",
      "Predicting on test data...\n",
      "Predicting with RANSACRegressor...\n",
      "Test predictions complete.\n",
      "Creating submission file...\n",
      "Submission file 'submission.csv' created!\n"
     ]
    }
   ],
   "source": [
    "\n",
    "# Example usage:\n",
    "if __name__ == \"__main__\":\n",
    "    h5_file_path = \"/kaggle/input/el-hackathon-2025/elucidata_ai_challenge_data.h5\"\n",
    "    pipeline = ElucidataPipeline(h5_file_path)\n",
    "    pipeline.run_pipeline()\n"
   ]
  }
 ],
 "metadata": {
  "kaggle": {
   "accelerator": "none",
   "dataSources": [
    {
     "databundleVersionId": 11390004,
     "sourceId": 94147,
     "sourceType": "competition"
    }
   ],
   "dockerImageVersionId": 30918,
   "isGpuEnabled": false,
   "isInternetEnabled": true,
   "language": "python",
   "sourceType": "notebook"
  },
  "kernelspec": {
   "display_name": "Python 3",
   "language": "python",
   "name": "python3"
  },
  "language_info": {
   "codemirror_mode": {
    "name": "ipython",
    "version": 3
   },
   "file_extension": ".py",
   "mimetype": "text/x-python",
   "name": "python",
   "nbconvert_exporter": "python",
   "pygments_lexer": "ipython3",
   "version": "3.10.12"
  },
  "papermill": {
   "default_parameters": {},
   "duration": 9.740401,
   "end_time": "2025-03-30T15:47:53.522899",
   "environment_variables": {},
   "exception": null,
   "input_path": "__notebook__.ipynb",
   "output_path": "__notebook__.ipynb",
   "parameters": {},
   "start_time": "2025-03-30T15:47:43.782498",
   "version": "2.6.0"
  }
 },
 "nbformat": 4,
 "nbformat_minor": 5
}
