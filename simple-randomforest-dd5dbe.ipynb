{
 "cells": [
  {
   "cell_type": "code",
   "execution_count": 1,
   "id": "7570fede",
   "metadata": {
    "_cell_guid": "b1076dfc-b9ad-4769-8c92-a6c4dae69d19",
    "_uuid": "8f2839f25d086af736a60e9eeb907d3b93b6e0e5",
    "execution": {
     "iopub.execute_input": "2025-07-15T11:04:55.979363Z",
     "iopub.status.busy": "2025-07-15T11:04:55.979054Z",
     "iopub.status.idle": "2025-07-15T11:04:57.989479Z",
     "shell.execute_reply": "2025-07-15T11:04:57.988245Z"
    },
    "papermill": {
     "duration": 2.018191,
     "end_time": "2025-07-15T11:04:57.991119",
     "exception": false,
     "start_time": "2025-07-15T11:04:55.972928",
     "status": "completed"
    },
    "tags": []
   },
   "outputs": [
    {
     "name": "stdout",
     "output_type": "stream",
     "text": [
      "/kaggle/input/clear-data/train.csv\n",
      "/kaggle/input/clear-data/test.csv\n",
      "/kaggle/input/playground-series-s5e7/sample_submission.csv\n",
      "/kaggle/input/playground-series-s5e7/train.csv\n",
      "/kaggle/input/playground-series-s5e7/test.csv\n"
     ]
    }
   ],
   "source": [
    "# This Python 3 environment comes with many helpful analytics libraries installed\n",
    "# It is defined by the kaggle/python Docker image: https://github.com/kaggle/docker-python\n",
    "# For example, here's several helpful packages to load\n",
    "\n",
    "import numpy as np # linear algebra\n",
    "import pandas as pd # data processing, CSV file I/O (e.g. pd.read_csv)\n",
    "\n",
    "# Input data files are available in the read-only \"../input/\" directory\n",
    "# For example, running this (by clicking run or pressing Shift+Enter) will list all files under the input directory\n",
    "\n",
    "import os\n",
    "for dirname, _, filenames in os.walk('/kaggle/input'):\n",
    "    for filename in filenames:\n",
    "        print(os.path.join(dirname, filename))\n",
    "\n",
    "# You can write up to 20GB to the current directory (/kaggle/working/) that gets preserved as output when you create a version using \"Save & Run All\" \n",
    "# You can also write temporary files to /kaggle/temp/, but they won't be saved outside of the current session"
   ]
  },
  {
   "cell_type": "code",
   "execution_count": 2,
   "id": "3c48b22c",
   "metadata": {
    "execution": {
     "iopub.execute_input": "2025-07-15T11:04:58.001526Z",
     "iopub.status.busy": "2025-07-15T11:04:58.001054Z",
     "iopub.status.idle": "2025-07-15T11:04:58.006133Z",
     "shell.execute_reply": "2025-07-15T11:04:58.005191Z"
    },
    "papermill": {
     "duration": 0.011733,
     "end_time": "2025-07-15T11:04:58.007577",
     "exception": false,
     "start_time": "2025-07-15T11:04:57.995844",
     "status": "completed"
    },
    "tags": []
   },
   "outputs": [],
   "source": [
    "import warnings\n",
    "warnings.filterwarnings(\"ignore\", category=FutureWarning)\n",
    "warnings.simplefilter(\"ignore\", UserWarning)"
   ]
  },
  {
   "cell_type": "code",
   "execution_count": 3,
   "id": "67f73578",
   "metadata": {
    "execution": {
     "iopub.execute_input": "2025-07-15T11:04:58.017113Z",
     "iopub.status.busy": "2025-07-15T11:04:58.016815Z",
     "iopub.status.idle": "2025-07-15T11:05:00.993235Z",
     "shell.execute_reply": "2025-07-15T11:05:00.992290Z"
    },
    "papermill": {
     "duration": 2.983218,
     "end_time": "2025-07-15T11:05:00.995029",
     "exception": false,
     "start_time": "2025-07-15T11:04:58.011811",
     "status": "completed"
    },
    "tags": []
   },
   "outputs": [],
   "source": [
    "import matplotlib.pyplot as plt\n",
    "import seaborn as sns\n",
    "from sklearn.preprocessing import StandardScaler\n",
    "from sklearn.model_selection import train_test_split\n",
    "from sklearn.preprocessing import LabelEncoder\n",
    "le = LabelEncoder()\n",
    "from sklearn.model_selection import StratifiedKFold\n",
    "from sklearn.metrics import accuracy_score, classification_report\n",
    "import optuna\n",
    "from sklearn.ensemble import RandomForestClassifier\n",
    "from sklearn.model_selection import cross_val_score"
   ]
  },
  {
   "cell_type": "code",
   "execution_count": 4,
   "id": "4815abb2",
   "metadata": {
    "execution": {
     "iopub.execute_input": "2025-07-15T11:05:01.005357Z",
     "iopub.status.busy": "2025-07-15T11:05:01.004906Z",
     "iopub.status.idle": "2025-07-15T11:05:01.071061Z",
     "shell.execute_reply": "2025-07-15T11:05:01.069730Z"
    },
    "papermill": {
     "duration": 0.073363,
     "end_time": "2025-07-15T11:05:01.072947",
     "exception": false,
     "start_time": "2025-07-15T11:05:00.999584",
     "status": "completed"
    },
    "tags": []
   },
   "outputs": [],
   "source": [
    "train=pd.read_csv(\"/kaggle/input/clear-data/train.csv\")\n",
    "test=pd.read_csv(\"/kaggle/input/clear-data/test.csv\")"
   ]
  },
  {
   "cell_type": "code",
   "execution_count": 5,
   "id": "2c66bea4",
   "metadata": {
    "execution": {
     "iopub.execute_input": "2025-07-15T11:05:01.082860Z",
     "iopub.status.busy": "2025-07-15T11:05:01.082545Z",
     "iopub.status.idle": "2025-07-15T11:05:01.114658Z",
     "shell.execute_reply": "2025-07-15T11:05:01.113689Z"
    },
    "papermill": {
     "duration": 0.038985,
     "end_time": "2025-07-15T11:05:01.116365",
     "exception": false,
     "start_time": "2025-07-15T11:05:01.077380",
     "status": "completed"
    },
    "tags": []
   },
   "outputs": [],
   "source": [
    "numerical_features = train.select_dtypes(include=['number']).columns\n",
    "categorical_cols = train.select_dtypes(exclude=['number']).columns\n",
    "\n",
    "train[numerical_features] = train[numerical_features].fillna(train[numerical_features].mean())\n",
    "\n",
    "for col in categorical_cols:\n",
    "    if train[col].isnull().any():\n",
    "        train[col] = train[col].fillna(train[col].mode()[0])"
   ]
  },
  {
   "cell_type": "code",
   "execution_count": 6,
   "id": "41a1e816",
   "metadata": {
    "execution": {
     "iopub.execute_input": "2025-07-15T11:05:01.126521Z",
     "iopub.status.busy": "2025-07-15T11:05:01.126146Z",
     "iopub.status.idle": "2025-07-15T11:05:01.138816Z",
     "shell.execute_reply": "2025-07-15T11:05:01.137893Z"
    },
    "papermill": {
     "duration": 0.020014,
     "end_time": "2025-07-15T11:05:01.140653",
     "exception": false,
     "start_time": "2025-07-15T11:05:01.120639",
     "status": "completed"
    },
    "tags": []
   },
   "outputs": [],
   "source": [
    "numerical_features = test.select_dtypes(include=['number']).columns\n",
    "categorical_cols = test.select_dtypes(exclude=['number']).columns\n",
    "\n",
    "test[numerical_features] = test[numerical_features].fillna(test[numerical_features].mean())\n",
    "\n",
    "for col in categorical_cols:\n",
    "    if test[col].isnull().any():\n",
    "        test[col] = test[col].fillna(test[col].mode()[0])"
   ]
  },
  {
   "cell_type": "code",
   "execution_count": 7,
   "id": "d04188bb",
   "metadata": {
    "execution": {
     "iopub.execute_input": "2025-07-15T11:05:01.152049Z",
     "iopub.status.busy": "2025-07-15T11:05:01.151728Z",
     "iopub.status.idle": "2025-07-15T11:05:01.160096Z",
     "shell.execute_reply": "2025-07-15T11:05:01.159316Z"
    },
    "papermill": {
     "duration": 0.016818,
     "end_time": "2025-07-15T11:05:01.161746",
     "exception": false,
     "start_time": "2025-07-15T11:05:01.144928",
     "status": "completed"
    },
    "tags": []
   },
   "outputs": [],
   "source": [
    "for feature in ['Stage_fear','Drained_after_socializing']:\n",
    "    train[feature]=le.fit_transform(train[feature])\n",
    "    test[feature]=le.fit_transform(test[feature])"
   ]
  },
  {
   "cell_type": "code",
   "execution_count": 8,
   "id": "11fbf525",
   "metadata": {
    "execution": {
     "iopub.execute_input": "2025-07-15T11:05:01.172514Z",
     "iopub.status.busy": "2025-07-15T11:05:01.172148Z",
     "iopub.status.idle": "2025-07-15T11:05:01.197556Z",
     "shell.execute_reply": "2025-07-15T11:05:01.196692Z"
    },
    "papermill": {
     "duration": 0.032937,
     "end_time": "2025-07-15T11:05:01.199065",
     "exception": false,
     "start_time": "2025-07-15T11:05:01.166128",
     "status": "completed"
    },
    "tags": []
   },
   "outputs": [
    {
     "data": {
      "text/html": [
       "<div>\n",
       "<style scoped>\n",
       "    .dataframe tbody tr th:only-of-type {\n",
       "        vertical-align: middle;\n",
       "    }\n",
       "\n",
       "    .dataframe tbody tr th {\n",
       "        vertical-align: top;\n",
       "    }\n",
       "\n",
       "    .dataframe thead th {\n",
       "        text-align: right;\n",
       "    }\n",
       "</style>\n",
       "<table border=\"1\" class=\"dataframe\">\n",
       "  <thead>\n",
       "    <tr style=\"text-align: right;\">\n",
       "      <th></th>\n",
       "      <th>id</th>\n",
       "      <th>Time_spent_Alone</th>\n",
       "      <th>Stage_fear</th>\n",
       "      <th>Social_event_attendance</th>\n",
       "      <th>Going_outside</th>\n",
       "      <th>Drained_after_socializing</th>\n",
       "      <th>Friends_circle_size</th>\n",
       "      <th>Post_frequency</th>\n",
       "      <th>Personality</th>\n",
       "    </tr>\n",
       "  </thead>\n",
       "  <tbody>\n",
       "    <tr>\n",
       "      <th>0</th>\n",
       "      <td>0</td>\n",
       "      <td>0.0</td>\n",
       "      <td>0</td>\n",
       "      <td>6.0</td>\n",
       "      <td>4.0</td>\n",
       "      <td>0</td>\n",
       "      <td>15.0</td>\n",
       "      <td>5.0</td>\n",
       "      <td>Extrovert</td>\n",
       "    </tr>\n",
       "    <tr>\n",
       "      <th>1</th>\n",
       "      <td>1</td>\n",
       "      <td>1.0</td>\n",
       "      <td>0</td>\n",
       "      <td>7.0</td>\n",
       "      <td>3.0</td>\n",
       "      <td>0</td>\n",
       "      <td>10.0</td>\n",
       "      <td>8.0</td>\n",
       "      <td>Extrovert</td>\n",
       "    </tr>\n",
       "    <tr>\n",
       "      <th>2</th>\n",
       "      <td>2</td>\n",
       "      <td>6.0</td>\n",
       "      <td>1</td>\n",
       "      <td>1.0</td>\n",
       "      <td>0.0</td>\n",
       "      <td>1</td>\n",
       "      <td>3.0</td>\n",
       "      <td>0.0</td>\n",
       "      <td>Introvert</td>\n",
       "    </tr>\n",
       "    <tr>\n",
       "      <th>3</th>\n",
       "      <td>3</td>\n",
       "      <td>3.0</td>\n",
       "      <td>0</td>\n",
       "      <td>7.0</td>\n",
       "      <td>3.0</td>\n",
       "      <td>0</td>\n",
       "      <td>11.0</td>\n",
       "      <td>5.0</td>\n",
       "      <td>Extrovert</td>\n",
       "    </tr>\n",
       "    <tr>\n",
       "      <th>4</th>\n",
       "      <td>4</td>\n",
       "      <td>1.0</td>\n",
       "      <td>0</td>\n",
       "      <td>4.0</td>\n",
       "      <td>4.0</td>\n",
       "      <td>0</td>\n",
       "      <td>13.0</td>\n",
       "      <td>7.0</td>\n",
       "      <td>Extrovert</td>\n",
       "    </tr>\n",
       "  </tbody>\n",
       "</table>\n",
       "</div>"
      ],
      "text/plain": [
       "   id  Time_spent_Alone  Stage_fear  Social_event_attendance  Going_outside  \\\n",
       "0   0               0.0           0                      6.0            4.0   \n",
       "1   1               1.0           0                      7.0            3.0   \n",
       "2   2               6.0           1                      1.0            0.0   \n",
       "3   3               3.0           0                      7.0            3.0   \n",
       "4   4               1.0           0                      4.0            4.0   \n",
       "\n",
       "   Drained_after_socializing  Friends_circle_size  Post_frequency Personality  \n",
       "0                          0                 15.0             5.0   Extrovert  \n",
       "1                          0                 10.0             8.0   Extrovert  \n",
       "2                          1                  3.0             0.0   Introvert  \n",
       "3                          0                 11.0             5.0   Extrovert  \n",
       "4                          0                 13.0             7.0   Extrovert  "
      ]
     },
     "execution_count": 8,
     "metadata": {},
     "output_type": "execute_result"
    }
   ],
   "source": [
    "train.head()"
   ]
  },
  {
   "cell_type": "code",
   "execution_count": 9,
   "id": "0de3f29b",
   "metadata": {
    "execution": {
     "iopub.execute_input": "2025-07-15T11:05:01.209258Z",
     "iopub.status.busy": "2025-07-15T11:05:01.208949Z",
     "iopub.status.idle": "2025-07-15T11:05:01.215162Z",
     "shell.execute_reply": "2025-07-15T11:05:01.214266Z"
    },
    "papermill": {
     "duration": 0.013148,
     "end_time": "2025-07-15T11:05:01.216865",
     "exception": false,
     "start_time": "2025-07-15T11:05:01.203717",
     "status": "completed"
    },
    "tags": []
   },
   "outputs": [],
   "source": [
    "train['Time_spent_Alone']=train['Time_spent_Alone'].astype(int)\n",
    "test['Time_spent_Alone']=test['Time_spent_Alone'].astype(int)"
   ]
  },
  {
   "cell_type": "code",
   "execution_count": 10,
   "id": "75b41c2e",
   "metadata": {
    "execution": {
     "iopub.execute_input": "2025-07-15T11:05:01.226984Z",
     "iopub.status.busy": "2025-07-15T11:05:01.226665Z",
     "iopub.status.idle": "2025-07-15T11:05:01.241903Z",
     "shell.execute_reply": "2025-07-15T11:05:01.240925Z"
    },
    "papermill": {
     "duration": 0.02229,
     "end_time": "2025-07-15T11:05:01.243609",
     "exception": false,
     "start_time": "2025-07-15T11:05:01.221319",
     "status": "completed"
    },
    "tags": []
   },
   "outputs": [],
   "source": [
    "# Social Engagement Score (interaction term)\n",
    "train['Social_score'] = (train['Social_event_attendance'] + train['Going_outside'] + train['Friends_circle_size'])\n",
    "# Introvert-Tendency Proxy\n",
    "train['Introvert_score'] = (train['Time_spent_Alone'] - train['Social_score'])\n",
    "train['Inp']=train['Introvert_score']-train['Post_frequency']\n",
    "train['set']=train['Social_event_attendance']-train['Time_spent_Alone']\n",
    "train['In_ex']=train['Stage_fear']+train['Drained_after_socializing']\n",
    "\n",
    "# Social Engagement Score (interaction term)\n",
    "test['Social_score'] = (test['Social_event_attendance'] + test['Going_outside'] + test['Friends_circle_size'])\n",
    "# Introvert-Tendency Proxy\n",
    "test['Introvert_score'] = (test['Time_spent_Alone'] - test['Social_score'])\n",
    "test['Inp']=test['Introvert_score']-test['Post_frequency']\n",
    "test['set']=test['Social_event_attendance']-test['Time_spent_Alone']\n",
    "test['In_ex']=test['Stage_fear']+test['Drained_after_socializing']"
   ]
  },
  {
   "cell_type": "code",
   "execution_count": 11,
   "id": "f8643d1c",
   "metadata": {
    "execution": {
     "iopub.execute_input": "2025-07-15T11:05:01.253965Z",
     "iopub.status.busy": "2025-07-15T11:05:01.253645Z",
     "iopub.status.idle": "2025-07-15T11:05:01.269830Z",
     "shell.execute_reply": "2025-07-15T11:05:01.268979Z"
    },
    "papermill": {
     "duration": 0.023078,
     "end_time": "2025-07-15T11:05:01.271424",
     "exception": false,
     "start_time": "2025-07-15T11:05:01.248346",
     "status": "completed"
    },
    "tags": []
   },
   "outputs": [
    {
     "data": {
      "text/html": [
       "<div>\n",
       "<style scoped>\n",
       "    .dataframe tbody tr th:only-of-type {\n",
       "        vertical-align: middle;\n",
       "    }\n",
       "\n",
       "    .dataframe tbody tr th {\n",
       "        vertical-align: top;\n",
       "    }\n",
       "\n",
       "    .dataframe thead th {\n",
       "        text-align: right;\n",
       "    }\n",
       "</style>\n",
       "<table border=\"1\" class=\"dataframe\">\n",
       "  <thead>\n",
       "    <tr style=\"text-align: right;\">\n",
       "      <th></th>\n",
       "      <th>id</th>\n",
       "      <th>Time_spent_Alone</th>\n",
       "      <th>Stage_fear</th>\n",
       "      <th>Social_event_attendance</th>\n",
       "      <th>Going_outside</th>\n",
       "      <th>Drained_after_socializing</th>\n",
       "      <th>Friends_circle_size</th>\n",
       "      <th>Post_frequency</th>\n",
       "      <th>Personality</th>\n",
       "      <th>Social_score</th>\n",
       "      <th>Introvert_score</th>\n",
       "      <th>Inp</th>\n",
       "      <th>set</th>\n",
       "      <th>In_ex</th>\n",
       "    </tr>\n",
       "  </thead>\n",
       "  <tbody>\n",
       "    <tr>\n",
       "      <th>0</th>\n",
       "      <td>0</td>\n",
       "      <td>0</td>\n",
       "      <td>0</td>\n",
       "      <td>6.0</td>\n",
       "      <td>4.0</td>\n",
       "      <td>0</td>\n",
       "      <td>15.0</td>\n",
       "      <td>5.0</td>\n",
       "      <td>Extrovert</td>\n",
       "      <td>25.0</td>\n",
       "      <td>-25.0</td>\n",
       "      <td>-30.0</td>\n",
       "      <td>6.0</td>\n",
       "      <td>0</td>\n",
       "    </tr>\n",
       "    <tr>\n",
       "      <th>1</th>\n",
       "      <td>1</td>\n",
       "      <td>1</td>\n",
       "      <td>0</td>\n",
       "      <td>7.0</td>\n",
       "      <td>3.0</td>\n",
       "      <td>0</td>\n",
       "      <td>10.0</td>\n",
       "      <td>8.0</td>\n",
       "      <td>Extrovert</td>\n",
       "      <td>20.0</td>\n",
       "      <td>-19.0</td>\n",
       "      <td>-27.0</td>\n",
       "      <td>6.0</td>\n",
       "      <td>0</td>\n",
       "    </tr>\n",
       "    <tr>\n",
       "      <th>2</th>\n",
       "      <td>2</td>\n",
       "      <td>6</td>\n",
       "      <td>1</td>\n",
       "      <td>1.0</td>\n",
       "      <td>0.0</td>\n",
       "      <td>1</td>\n",
       "      <td>3.0</td>\n",
       "      <td>0.0</td>\n",
       "      <td>Introvert</td>\n",
       "      <td>4.0</td>\n",
       "      <td>2.0</td>\n",
       "      <td>2.0</td>\n",
       "      <td>-5.0</td>\n",
       "      <td>2</td>\n",
       "    </tr>\n",
       "    <tr>\n",
       "      <th>3</th>\n",
       "      <td>3</td>\n",
       "      <td>3</td>\n",
       "      <td>0</td>\n",
       "      <td>7.0</td>\n",
       "      <td>3.0</td>\n",
       "      <td>0</td>\n",
       "      <td>11.0</td>\n",
       "      <td>5.0</td>\n",
       "      <td>Extrovert</td>\n",
       "      <td>21.0</td>\n",
       "      <td>-18.0</td>\n",
       "      <td>-23.0</td>\n",
       "      <td>4.0</td>\n",
       "      <td>0</td>\n",
       "    </tr>\n",
       "    <tr>\n",
       "      <th>4</th>\n",
       "      <td>4</td>\n",
       "      <td>1</td>\n",
       "      <td>0</td>\n",
       "      <td>4.0</td>\n",
       "      <td>4.0</td>\n",
       "      <td>0</td>\n",
       "      <td>13.0</td>\n",
       "      <td>7.0</td>\n",
       "      <td>Extrovert</td>\n",
       "      <td>21.0</td>\n",
       "      <td>-20.0</td>\n",
       "      <td>-27.0</td>\n",
       "      <td>3.0</td>\n",
       "      <td>0</td>\n",
       "    </tr>\n",
       "  </tbody>\n",
       "</table>\n",
       "</div>"
      ],
      "text/plain": [
       "   id  Time_spent_Alone  Stage_fear  Social_event_attendance  Going_outside  \\\n",
       "0   0                 0           0                      6.0            4.0   \n",
       "1   1                 1           0                      7.0            3.0   \n",
       "2   2                 6           1                      1.0            0.0   \n",
       "3   3                 3           0                      7.0            3.0   \n",
       "4   4                 1           0                      4.0            4.0   \n",
       "\n",
       "   Drained_after_socializing  Friends_circle_size  Post_frequency Personality  \\\n",
       "0                          0                 15.0             5.0   Extrovert   \n",
       "1                          0                 10.0             8.0   Extrovert   \n",
       "2                          1                  3.0             0.0   Introvert   \n",
       "3                          0                 11.0             5.0   Extrovert   \n",
       "4                          0                 13.0             7.0   Extrovert   \n",
       "\n",
       "   Social_score  Introvert_score   Inp  set  In_ex  \n",
       "0          25.0            -25.0 -30.0  6.0      0  \n",
       "1          20.0            -19.0 -27.0  6.0      0  \n",
       "2           4.0              2.0   2.0 -5.0      2  \n",
       "3          21.0            -18.0 -23.0  4.0      0  \n",
       "4          21.0            -20.0 -27.0  3.0      0  "
      ]
     },
     "execution_count": 11,
     "metadata": {},
     "output_type": "execute_result"
    }
   ],
   "source": [
    "train.head()"
   ]
  },
  {
   "cell_type": "code",
   "execution_count": 12,
   "id": "411a1cdc",
   "metadata": {
    "execution": {
     "iopub.execute_input": "2025-07-15T11:05:01.281880Z",
     "iopub.status.busy": "2025-07-15T11:05:01.281554Z",
     "iopub.status.idle": "2025-07-15T11:05:01.299408Z",
     "shell.execute_reply": "2025-07-15T11:05:01.298461Z"
    },
    "papermill": {
     "duration": 0.025458,
     "end_time": "2025-07-15T11:05:01.301581",
     "exception": false,
     "start_time": "2025-07-15T11:05:01.276123",
     "status": "completed"
    },
    "tags": []
   },
   "outputs": [],
   "source": [
    "def team(a):\n",
    "    if a<-1:\n",
    "        return 0\n",
    "    else:\n",
    "        return 1\n",
    "train['team']=train['set'].apply(team)\n",
    "test['team']=test['set'].apply(team)\n",
    "        "
   ]
  },
  {
   "cell_type": "code",
   "execution_count": 13,
   "id": "70d59c8e",
   "metadata": {
    "execution": {
     "iopub.execute_input": "2025-07-15T11:05:01.312418Z",
     "iopub.status.busy": "2025-07-15T11:05:01.312067Z",
     "iopub.status.idle": "2025-07-15T11:05:01.320648Z",
     "shell.execute_reply": "2025-07-15T11:05:01.319565Z"
    },
    "papermill": {
     "duration": 0.01623,
     "end_time": "2025-07-15T11:05:01.322758",
     "exception": false,
     "start_time": "2025-07-15T11:05:01.306528",
     "status": "completed"
    },
    "tags": []
   },
   "outputs": [],
   "source": [
    "X=train.drop(['Personality'],axis=1)\n",
    "\n",
    "y_t=train['Personality']"
   ]
  },
  {
   "cell_type": "code",
   "execution_count": 14,
   "id": "1189ed15",
   "metadata": {
    "execution": {
     "iopub.execute_input": "2025-07-15T11:05:01.333843Z",
     "iopub.status.busy": "2025-07-15T11:05:01.333517Z",
     "iopub.status.idle": "2025-07-15T11:05:01.344123Z",
     "shell.execute_reply": "2025-07-15T11:05:01.343276Z"
    },
    "papermill": {
     "duration": 0.017967,
     "end_time": "2025-07-15T11:05:01.345654",
     "exception": false,
     "start_time": "2025-07-15T11:05:01.327687",
     "status": "completed"
    },
    "tags": []
   },
   "outputs": [
    {
     "data": {
      "text/plain": [
       "array([0, 0, 1, ..., 1, 1, 0])"
      ]
     },
     "execution_count": 14,
     "metadata": {},
     "output_type": "execute_result"
    }
   ],
   "source": [
    "y=le.fit_transform(y_t)\n",
    "y"
   ]
  },
  {
   "cell_type": "code",
   "execution_count": 15,
   "id": "168f3547",
   "metadata": {
    "execution": {
     "iopub.execute_input": "2025-07-15T11:05:01.356320Z",
     "iopub.status.busy": "2025-07-15T11:05:01.356012Z",
     "iopub.status.idle": "2025-07-15T11:05:01.408491Z",
     "shell.execute_reply": "2025-07-15T11:05:01.407488Z"
    },
    "papermill": {
     "duration": 0.059796,
     "end_time": "2025-07-15T11:05:01.410272",
     "exception": false,
     "start_time": "2025-07-15T11:05:01.350476",
     "status": "completed"
    },
    "tags": []
   },
   "outputs": [],
   "source": [
    "scaler = StandardScaler()\n",
    "X_scale = scaler.fit_transform(X)\n",
    "\n",
    "x_scale = scaler.transform(test)"
   ]
  },
  {
   "cell_type": "code",
   "execution_count": 16,
   "id": "7a2c49ef",
   "metadata": {
    "execution": {
     "iopub.execute_input": "2025-07-15T11:05:01.423927Z",
     "iopub.status.busy": "2025-07-15T11:05:01.422918Z",
     "iopub.status.idle": "2025-07-15T11:40:42.954418Z",
     "shell.execute_reply": "2025-07-15T11:40:42.953490Z"
    },
    "papermill": {
     "duration": 2141.548555,
     "end_time": "2025-07-15T11:40:42.964875",
     "exception": false,
     "start_time": "2025-07-15T11:05:01.416320",
     "status": "completed"
    },
    "tags": []
   },
   "outputs": [
    {
     "name": "stderr",
     "output_type": "stream",
     "text": [
      "[I 2025-07-15 11:05:01,428] A new study created in memory with name: no-name-90ffb76c-8ff6-4596-a0f9-559e457af623\n",
      "[I 2025-07-15 11:05:03,782] Trial 0 finished with value: 0.9690134748734271 and parameters: {'n_estimators': 65, 'max_depth': 4, 'min_samples_split': 15, 'min_samples_leaf': 13, 'max_features': 'log2'}. Best is trial 0 with value: 0.9690134748734271.\n",
      "[I 2025-07-15 11:05:46,302] Trial 1 finished with value: 0.968905483512736 and parameters: {'n_estimators': 557, 'max_depth': 38, 'min_samples_split': 11, 'min_samples_leaf': 7, 'max_features': 'sqrt'}. Best is trial 0 with value: 0.9690134748734271.\n",
      "[I 2025-07-15 11:06:29,330] Trial 2 finished with value: 0.9690134894471599 and parameters: {'n_estimators': 512, 'max_depth': 57, 'min_samples_split': 15, 'min_samples_leaf': 1, 'max_features': 'auto'}. Best is trial 2 with value: 0.9690134894471599.\n",
      "[I 2025-07-15 11:06:47,360] Trial 3 finished with value: 0.968905483512736 and parameters: {'n_estimators': 516, 'max_depth': 4, 'min_samples_split': 16, 'min_samples_leaf': 8, 'max_features': 'log2'}. Best is trial 2 with value: 0.9690134894471599.\n",
      "[I 2025-07-15 11:06:53,383] Trial 4 finished with value: 0.9685275428977829 and parameters: {'n_estimators': 68, 'max_depth': 40, 'min_samples_split': 4, 'min_samples_leaf': 1, 'max_features': 'log2'}. Best is trial 2 with value: 0.9690134894471599.\n",
      "[I 2025-07-15 11:06:57,930] Trial 5 finished with value: 0.9689595083405473 and parameters: {'n_estimators': 88, 'max_depth': 8, 'min_samples_split': 5, 'min_samples_leaf': 18, 'max_features': 'auto'}. Best is trial 2 with value: 0.9690134894471599.\n",
      "[I 2025-07-15 11:07:10,491] Trial 6 finished with value: 0.969067426832574 and parameters: {'n_estimators': 168, 'max_depth': 42, 'min_samples_split': 12, 'min_samples_leaf': 9, 'max_features': 'auto'}. Best is trial 6 with value: 0.969067426832574.\n",
      "[I 2025-07-15 11:07:44,738] Trial 7 finished with value: 0.9689054980864688 and parameters: {'n_estimators': 485, 'max_depth': 45, 'min_samples_split': 20, 'min_samples_leaf': 14, 'max_features': 'log2'}. Best is trial 6 with value: 0.969067426832574.\n",
      "[I 2025-07-15 11:08:11,364] Trial 8 finished with value: 0.969067426832574 and parameters: {'n_estimators': 348, 'max_depth': 21, 'min_samples_split': 4, 'min_samples_leaf': 7, 'max_features': 'auto'}. Best is trial 6 with value: 0.969067426832574.\n",
      "[I 2025-07-15 11:08:45,065] Trial 9 finished with value: 0.9689594791930816 and parameters: {'n_estimators': 480, 'max_depth': 41, 'min_samples_split': 2, 'min_samples_leaf': 15, 'max_features': 'sqrt'}. Best is trial 6 with value: 0.969067426832574.\n",
      "[I 2025-07-15 11:09:00,895] Trial 10 finished with value: 0.9689594646193488 and parameters: {'n_estimators': 214, 'max_depth': 59, 'min_samples_split': 9, 'min_samples_leaf': 11, 'max_features': 'auto'}. Best is trial 6 with value: 0.969067426832574.\n",
      "[I 2025-07-15 11:09:26,489] Trial 11 finished with value: 0.969067426832574 and parameters: {'n_estimators': 332, 'max_depth': 23, 'min_samples_split': 8, 'min_samples_leaf': 6, 'max_features': 'auto'}. Best is trial 6 with value: 0.969067426832574.\n",
      "[I 2025-07-15 11:09:51,694] Trial 12 finished with value: 0.9691214225129198 and parameters: {'n_estimators': 317, 'max_depth': 24, 'min_samples_split': 7, 'min_samples_leaf': 5, 'max_features': 'auto'}. Best is trial 12 with value: 0.9691214225129198.\n",
      "[I 2025-07-15 11:10:07,528] Trial 13 finished with value: 0.968905498086469 and parameters: {'n_estimators': 194, 'max_depth': 25, 'min_samples_split': 8, 'min_samples_leaf': 4, 'max_features': 'auto'}. Best is trial 12 with value: 0.9691214225129198.\n",
      "[I 2025-07-15 11:10:22,722] Trial 14 finished with value: 0.9690674268325742 and parameters: {'n_estimators': 204, 'max_depth': 50, 'min_samples_split': 12, 'min_samples_leaf': 10, 'max_features': 'auto'}. Best is trial 12 with value: 0.9691214225129198.\n",
      "[I 2025-07-15 11:10:53,970] Trial 15 finished with value: 0.969067441406307 and parameters: {'n_estimators': 395, 'max_depth': 50, 'min_samples_split': 12, 'min_samples_leaf': 4, 'max_features': 'auto'}. Best is trial 12 with value: 0.9691214225129198.\n",
      "[I 2025-07-15 11:11:22,326] Trial 16 finished with value: 0.969067441406307 and parameters: {'n_estimators': 381, 'max_depth': 15, 'min_samples_split': 6, 'min_samples_leaf': 4, 'max_features': 'sqrt'}. Best is trial 12 with value: 0.9691214225129198.\n",
      "[I 2025-07-15 11:11:55,383] Trial 17 finished with value: 0.969067441406307 and parameters: {'n_estimators': 413, 'max_depth': 32, 'min_samples_split': 10, 'min_samples_leaf': 4, 'max_features': 'auto'}. Best is trial 12 with value: 0.9691214225129198.\n",
      "[I 2025-07-15 11:12:29,783] Trial 18 finished with value: 0.969067441406307 and parameters: {'n_estimators': 427, 'max_depth': 31, 'min_samples_split': 18, 'min_samples_leaf': 3, 'max_features': 'auto'}. Best is trial 12 with value: 0.9691214225129198.\n",
      "[I 2025-07-15 11:12:48,776] Trial 19 finished with value: 0.9691754327669981 and parameters: {'n_estimators': 280, 'max_depth': 50, 'min_samples_split': 13, 'min_samples_leaf': 20, 'max_features': 'sqrt'}. Best is trial 19 with value: 0.9691754327669981.\n",
      "[I 2025-07-15 11:13:09,166] Trial 20 finished with value: 0.969067441406307 and parameters: {'n_estimators': 296, 'max_depth': 18, 'min_samples_split': 14, 'min_samples_leaf': 18, 'max_features': 'sqrt'}. Best is trial 19 with value: 0.9691754327669981.\n",
      "[I 2025-07-15 11:13:27,444] Trial 21 finished with value: 0.9689594791930816 and parameters: {'n_estimators': 261, 'max_depth': 52, 'min_samples_split': 13, 'min_samples_leaf': 16, 'max_features': 'sqrt'}. Best is trial 19 with value: 0.9691754327669981.\n",
      "[I 2025-07-15 11:13:47,480] Trial 22 finished with value: 0.9688515024061232 and parameters: {'n_estimators': 276, 'max_depth': 50, 'min_samples_split': 17, 'min_samples_leaf': 12, 'max_features': 'sqrt'}. Best is trial 19 with value: 0.9691754327669981.\n",
      "[I 2025-07-15 11:14:17,115] Trial 23 finished with value: 0.9690134457259614 and parameters: {'n_estimators': 383, 'max_depth': 28, 'min_samples_split': 7, 'min_samples_leaf': 6, 'max_features': 'sqrt'}. Best is trial 19 with value: 0.9691754327669981.\n",
      "[I 2025-07-15 11:14:33,774] Trial 24 finished with value: 0.9690134602996942 and parameters: {'n_estimators': 243, 'max_depth': 55, 'min_samples_split': 10, 'min_samples_leaf': 19, 'max_features': 'auto'}. Best is trial 19 with value: 0.9691754327669981.\n",
      "[I 2025-07-15 11:14:59,708] Trial 25 finished with value: 0.9691214225129198 and parameters: {'n_estimators': 316, 'max_depth': 35, 'min_samples_split': 13, 'min_samples_leaf': 2, 'max_features': 'sqrt'}. Best is trial 19 with value: 0.9691754327669981.\n",
      "[I 2025-07-15 11:15:11,608] Trial 26 finished with value: 0.9690134602996944 and parameters: {'n_estimators': 144, 'max_depth': 35, 'min_samples_split': 14, 'min_samples_leaf': 2, 'max_features': 'sqrt'}. Best is trial 19 with value: 0.9691754327669981.\n",
      "[I 2025-07-15 11:15:32,237] Trial 27 finished with value: 0.9691754036195324 and parameters: {'n_estimators': 311, 'max_depth': 12, 'min_samples_split': 2, 'min_samples_leaf': 6, 'max_features': 'sqrt'}. Best is trial 19 with value: 0.9691754327669981.\n",
      "[I 2025-07-15 11:15:54,493] Trial 28 finished with value: 0.968905483512736 and parameters: {'n_estimators': 355, 'max_depth': 11, 'min_samples_split': 2, 'min_samples_leaf': 9, 'max_features': 'sqrt'}. Best is trial 19 with value: 0.9691754327669981.\n",
      "[I 2025-07-15 11:16:02,650] Trial 29 finished with value: 0.9689055126602018 and parameters: {'n_estimators': 122, 'max_depth': 13, 'min_samples_split': 4, 'min_samples_leaf': 13, 'max_features': 'log2'}. Best is trial 19 with value: 0.9691754327669981.\n",
      "[I 2025-07-15 11:16:08,694] Trial 30 finished with value: 0.9687975067257778 and parameters: {'n_estimators': 231, 'max_depth': 2, 'min_samples_split': 2, 'min_samples_leaf': 20, 'max_features': 'sqrt'}. Best is trial 19 with value: 0.9691754327669981.\n",
      "[I 2025-07-15 11:16:32,315] Trial 31 finished with value: 0.9690134457259614 and parameters: {'n_estimators': 306, 'max_depth': 62, 'min_samples_split': 14, 'min_samples_leaf': 6, 'max_features': 'sqrt'}. Best is trial 19 with value: 0.9691754327669981.\n",
      "[I 2025-07-15 11:16:56,050] Trial 32 finished with value: 0.9691214225129196 and parameters: {'n_estimators': 296, 'max_depth': 18, 'min_samples_split': 10, 'min_samples_leaf': 2, 'max_features': 'sqrt'}. Best is trial 19 with value: 0.9691754327669981.\n",
      "[I 2025-07-15 11:17:21,600] Trial 33 finished with value: 0.9691214225129196 and parameters: {'n_estimators': 325, 'max_depth': 36, 'min_samples_split': 11, 'min_samples_leaf': 5, 'max_features': 'sqrt'}. Best is trial 19 with value: 0.9691754327669981.\n",
      "[I 2025-07-15 11:17:58,259] Trial 34 finished with value: 0.9687975212995106 and parameters: {'n_estimators': 439, 'max_depth': 45, 'min_samples_split': 16, 'min_samples_leaf': 1, 'max_features': 'sqrt'}. Best is trial 19 with value: 0.9691754327669981.\n",
      "[I 2025-07-15 11:18:18,012] Trial 35 finished with value: 0.9690674268325742 and parameters: {'n_estimators': 264, 'max_depth': 27, 'min_samples_split': 6, 'min_samples_leaf': 8, 'max_features': 'sqrt'}. Best is trial 19 with value: 0.9691754327669981.\n",
      "[I 2025-07-15 11:18:35,082] Trial 36 finished with value: 0.9691214225129196 and parameters: {'n_estimators': 355, 'max_depth': 7, 'min_samples_split': 15, 'min_samples_leaf': 3, 'max_features': 'log2'}. Best is trial 19 with value: 0.9691754327669981.\n",
      "[I 2025-07-15 11:18:58,211] Trial 37 finished with value: 0.969067426832574 and parameters: {'n_estimators': 306, 'max_depth': 20, 'min_samples_split': 13, 'min_samples_leaf': 7, 'max_features': 'sqrt'}. Best is trial 19 with value: 0.9691754327669981.\n",
      "[I 2025-07-15 11:19:46,125] Trial 38 finished with value: 0.9688515024061234 and parameters: {'n_estimators': 573, 'max_depth': 31, 'min_samples_split': 3, 'min_samples_leaf': 2, 'max_features': 'log2'}. Best is trial 19 with value: 0.9691754327669981.\n",
      "[I 2025-07-15 11:20:00,930] Trial 39 finished with value: 0.9691754036195324 and parameters: {'n_estimators': 185, 'max_depth': 45, 'min_samples_split': 5, 'min_samples_leaf': 5, 'max_features': 'sqrt'}. Best is trial 19 with value: 0.9691754327669981.\n",
      "[I 2025-07-15 11:20:10,668] Trial 40 finished with value: 0.9689594646193488 and parameters: {'n_estimators': 171, 'max_depth': 9, 'min_samples_split': 5, 'min_samples_leaf': 8, 'max_features': 'sqrt'}. Best is trial 19 with value: 0.9691754327669981.\n",
      "[I 2025-07-15 11:20:32,638] Trial 41 finished with value: 0.9691214225129196 and parameters: {'n_estimators': 278, 'max_depth': 46, 'min_samples_split': 5, 'min_samples_leaf': 5, 'max_features': 'sqrt'}. Best is trial 19 with value: 0.9691754327669981.\n",
      "[I 2025-07-15 11:20:51,606] Trial 42 finished with value: 0.969067426832574 and parameters: {'n_estimators': 241, 'max_depth': 38, 'min_samples_split': 3, 'min_samples_leaf': 5, 'max_features': 'sqrt'}. Best is trial 19 with value: 0.9691754327669981.\n",
      "[I 2025-07-15 11:20:55,516] Trial 43 finished with value: 0.9690674705537727 and parameters: {'n_estimators': 55, 'max_depth': 43, 'min_samples_split': 7, 'min_samples_leaf': 16, 'max_features': 'sqrt'}. Best is trial 19 with value: 0.9691754327669981.\n",
      "[I 2025-07-15 11:21:09,868] Trial 44 finished with value: 0.9691214079391868 and parameters: {'n_estimators': 174, 'max_depth': 47, 'min_samples_split': 3, 'min_samples_leaf': 3, 'max_features': 'sqrt'}. Best is trial 19 with value: 0.9691754327669981.\n",
      "[I 2025-07-15 11:21:17,929] Trial 45 finished with value: 0.9690674268325742 and parameters: {'n_estimators': 109, 'max_depth': 55, 'min_samples_split': 9, 'min_samples_leaf': 10, 'max_features': 'sqrt'}. Best is trial 19 with value: 0.9691754327669981.\n",
      "[I 2025-07-15 11:21:44,071] Trial 46 finished with value: 0.9689594646193486 and parameters: {'n_estimators': 342, 'max_depth': 38, 'min_samples_split': 11, 'min_samples_leaf': 7, 'max_features': 'log2'}. Best is trial 19 with value: 0.9691754327669981.\n",
      "[I 2025-07-15 11:22:08,453] Trial 47 finished with value: 0.9688515024061232 and parameters: {'n_estimators': 322, 'max_depth': 27, 'min_samples_split': 4, 'min_samples_leaf': 8, 'max_features': 'auto'}. Best is trial 19 with value: 0.9691754327669981.\n",
      "[I 2025-07-15 11:22:27,579] Trial 48 finished with value: 0.9688515024061234 and parameters: {'n_estimators': 225, 'max_depth': 35, 'min_samples_split': 6, 'min_samples_leaf': 1, 'max_features': 'sqrt'}. Best is trial 19 with value: 0.9691754327669981.\n",
      "[I 2025-07-15 11:23:04,841] Trial 49 finished with value: 0.969067426832574 and parameters: {'n_estimators': 477, 'max_depth': 41, 'min_samples_split': 13, 'min_samples_leaf': 5, 'max_features': 'auto'}. Best is trial 19 with value: 0.9691754327669981.\n",
      "[I 2025-07-15 11:23:31,165] Trial 50 finished with value: 0.968905483512736 and parameters: {'n_estimators': 359, 'max_depth': 24, 'min_samples_split': 8, 'min_samples_leaf': 11, 'max_features': 'sqrt'}. Best is trial 19 with value: 0.9691754327669981.\n",
      "[I 2025-07-15 11:23:53,775] Trial 51 finished with value: 0.969067441406307 and parameters: {'n_estimators': 291, 'max_depth': 16, 'min_samples_split': 9, 'min_samples_leaf': 2, 'max_features': 'sqrt'}. Best is trial 19 with value: 0.9691754327669981.\n",
      "[I 2025-07-15 11:24:19,643] Trial 52 finished with value: 0.969067441406307 and parameters: {'n_estimators': 320, 'max_depth': 21, 'min_samples_split': 10, 'min_samples_leaf': 3, 'max_features': 'sqrt'}. Best is trial 19 with value: 0.9691754327669981.\n",
      "[I 2025-07-15 11:24:35,011] Trial 53 finished with value: 0.968905483512736 and parameters: {'n_estimators': 196, 'max_depth': 17, 'min_samples_split': 12, 'min_samples_leaf': 2, 'max_features': 'sqrt'}. Best is trial 19 with value: 0.9691754327669981.\n",
      "[I 2025-07-15 11:25:01,106] Trial 54 finished with value: 0.969067441406307 and parameters: {'n_estimators': 375, 'max_depth': 13, 'min_samples_split': 11, 'min_samples_leaf': 4, 'max_features': 'sqrt'}. Best is trial 19 with value: 0.9691754327669981.\n",
      "[I 2025-07-15 11:25:20,741] Trial 55 finished with value: 0.969067426832574 and parameters: {'n_estimators': 254, 'max_depth': 19, 'min_samples_split': 7, 'min_samples_leaf': 6, 'max_features': 'auto'}. Best is trial 19 with value: 0.9691754327669981.\n",
      "[I 2025-07-15 11:25:43,619] Trial 56 finished with value: 0.968905498086469 and parameters: {'n_estimators': 275, 'max_depth': 22, 'min_samples_split': 16, 'min_samples_leaf': 1, 'max_features': 'sqrt'}. Best is trial 19 with value: 0.9691754327669981.\n",
      "[I 2025-07-15 11:26:16,332] Trial 57 finished with value: 0.969067426832574 and parameters: {'n_estimators': 410, 'max_depth': 53, 'min_samples_split': 20, 'min_samples_leaf': 3, 'max_features': 'sqrt'}. Best is trial 19 with value: 0.9691754327669981.\n",
      "[I 2025-07-15 11:26:39,849] Trial 58 finished with value: 0.9691214225129196 and parameters: {'n_estimators': 293, 'max_depth': 25, 'min_samples_split': 9, 'min_samples_leaf': 4, 'max_features': 'auto'}. Best is trial 19 with value: 0.9691754327669981.\n",
      "[I 2025-07-15 11:26:50,756] Trial 59 finished with value: 0.969067426832574 and parameters: {'n_estimators': 145, 'max_depth': 29, 'min_samples_split': 15, 'min_samples_leaf': 9, 'max_features': 'log2'}. Best is trial 19 with value: 0.9691754327669981.\n",
      "[I 2025-07-15 11:27:00,446] Trial 60 finished with value: 0.9690134457259614 and parameters: {'n_estimators': 219, 'max_depth': 6, 'min_samples_split': 5, 'min_samples_leaf': 7, 'max_features': 'sqrt'}. Best is trial 19 with value: 0.9691754327669981.\n",
      "[I 2025-07-15 11:27:26,320] Trial 61 finished with value: 0.9691754036195324 and parameters: {'n_estimators': 328, 'max_depth': 37, 'min_samples_split': 12, 'min_samples_leaf': 5, 'max_features': 'sqrt'}. Best is trial 19 with value: 0.9691754327669981.\n",
      "[I 2025-07-15 11:27:52,230] Trial 62 finished with value: 0.969067426832574 and parameters: {'n_estimators': 331, 'max_depth': 33, 'min_samples_split': 13, 'min_samples_leaf': 5, 'max_features': 'sqrt'}. Best is trial 19 with value: 0.9691754327669981.\n",
      "[I 2025-07-15 11:28:17,131] Trial 63 finished with value: 0.9691214225129196 and parameters: {'n_estimators': 313, 'max_depth': 48, 'min_samples_split': 12, 'min_samples_leaf': 4, 'max_features': 'sqrt'}. Best is trial 19 with value: 0.9691754327669981.\n",
      "[I 2025-07-15 11:28:43,583] Trial 64 finished with value: 0.969067426832574 and parameters: {'n_estimators': 340, 'max_depth': 44, 'min_samples_split': 14, 'min_samples_leaf': 6, 'max_features': 'sqrt'}. Best is trial 19 with value: 0.9691754327669981.\n",
      "[I 2025-07-15 11:29:07,513] Trial 65 finished with value: 0.96906745598004 and parameters: {'n_estimators': 288, 'max_depth': 37, 'min_samples_split': 12, 'min_samples_leaf': 2, 'max_features': 'sqrt'}. Best is trial 19 with value: 0.9691754327669981.\n",
      "[I 2025-07-15 11:29:33,588] Trial 66 finished with value: 0.9689054980864688 and parameters: {'n_estimators': 363, 'max_depth': 40, 'min_samples_split': 10, 'min_samples_leaf': 13, 'max_features': 'auto'}. Best is trial 19 with value: 0.9691754327669981.\n",
      "[I 2025-07-15 11:30:00,067] Trial 67 finished with value: 0.9690134602996942 and parameters: {'n_estimators': 396, 'max_depth': 14, 'min_samples_split': 11, 'min_samples_leaf': 17, 'max_features': 'sqrt'}. Best is trial 19 with value: 0.9691754327669981.\n",
      "[I 2025-07-15 11:30:20,513] Trial 68 finished with value: 0.9690134602996944 and parameters: {'n_estimators': 254, 'max_depth': 33, 'min_samples_split': 14, 'min_samples_leaf': 3, 'max_features': 'sqrt'}. Best is trial 19 with value: 0.9691754327669981.\n",
      "[I 2025-07-15 11:30:38,842] Trial 69 finished with value: 0.969067441406307 and parameters: {'n_estimators': 305, 'max_depth': 10, 'min_samples_split': 7, 'min_samples_leaf': 4, 'max_features': 'sqrt'}. Best is trial 19 with value: 0.9691754327669981.\n",
      "[I 2025-07-15 11:31:05,316] Trial 70 finished with value: 0.9689054980864688 and parameters: {'n_estimators': 373, 'max_depth': 49, 'min_samples_split': 8, 'min_samples_leaf': 14, 'max_features': 'auto'}. Best is trial 19 with value: 0.9691754327669981.\n",
      "[I 2025-07-15 11:31:31,344] Trial 71 finished with value: 0.969067426832574 and parameters: {'n_estimators': 331, 'max_depth': 40, 'min_samples_split': 13, 'min_samples_leaf': 5, 'max_features': 'sqrt'}. Best is trial 19 with value: 0.9691754327669981.\n",
      "[I 2025-07-15 11:31:52,718] Trial 72 finished with value: 0.9689594646193486 and parameters: {'n_estimators': 276, 'max_depth': 36, 'min_samples_split': 11, 'min_samples_leaf': 6, 'max_features': 'sqrt'}. Best is trial 19 with value: 0.9691754327669981.\n",
      "[I 2025-07-15 11:32:17,618] Trial 73 finished with value: 0.9691214225129196 and parameters: {'n_estimators': 317, 'max_depth': 29, 'min_samples_split': 11, 'min_samples_leaf': 5, 'max_features': 'sqrt'}. Best is trial 19 with value: 0.9691754327669981.\n",
      "[I 2025-07-15 11:32:46,747] Trial 74 finished with value: 0.9690134602996944 and parameters: {'n_estimators': 352, 'max_depth': 42, 'min_samples_split': 12, 'min_samples_leaf': 2, 'max_features': 'sqrt'}. Best is trial 19 with value: 0.9691754327669981.\n",
      "[I 2025-07-15 11:33:07,386] Trial 75 finished with value: 0.9689594646193486 and parameters: {'n_estimators': 265, 'max_depth': 31, 'min_samples_split': 10, 'min_samples_leaf': 6, 'max_features': 'sqrt'}. Best is trial 19 with value: 0.9691754327669981.\n",
      "[I 2025-07-15 11:33:36,512] Trial 76 finished with value: 0.9689594646193488 and parameters: {'n_estimators': 440, 'max_depth': 12, 'min_samples_split': 2, 'min_samples_leaf': 7, 'max_features': 'log2'}. Best is trial 19 with value: 0.9691754327669981.\n",
      "[I 2025-07-15 11:34:02,588] Trial 77 finished with value: 0.9688515024061234 and parameters: {'n_estimators': 304, 'max_depth': 52, 'min_samples_split': 6, 'min_samples_leaf': 1, 'max_features': 'sqrt'}. Best is trial 19 with value: 0.9691754327669981.\n",
      "[I 2025-07-15 11:34:19,383] Trial 78 finished with value: 0.9690134602996944 and parameters: {'n_estimators': 244, 'max_depth': 34, 'min_samples_split': 13, 'min_samples_leaf': 20, 'max_features': 'sqrt'}. Best is trial 19 with value: 0.9691754327669981.\n",
      "[I 2025-07-15 11:34:25,914] Trial 79 finished with value: 0.9689594646193488 and parameters: {'n_estimators': 87, 'max_depth': 38, 'min_samples_split': 3, 'min_samples_leaf': 9, 'max_features': 'sqrt'}. Best is trial 19 with value: 0.9691754327669981.\n",
      "[I 2025-07-15 11:34:52,917] Trial 80 finished with value: 0.9689594791930816 and parameters: {'n_estimators': 334, 'max_depth': 57, 'min_samples_split': 12, 'min_samples_leaf': 3, 'max_features': 'auto'}. Best is trial 19 with value: 0.9691754327669981.\n",
      "[I 2025-07-15 11:35:08,459] Trial 81 finished with value: 0.9689594791930816 and parameters: {'n_estimators': 354, 'max_depth': 6, 'min_samples_split': 15, 'min_samples_leaf': 3, 'max_features': 'log2'}. Best is trial 19 with value: 0.9691754327669981.\n",
      "[I 2025-07-15 11:35:18,512] Trial 82 finished with value: 0.9689594791930816 and parameters: {'n_estimators': 386, 'max_depth': 2, 'min_samples_split': 15, 'min_samples_leaf': 4, 'max_features': 'log2'}. Best is trial 19 with value: 0.9691754327669981.\n",
      "[I 2025-07-15 11:35:32,252] Trial 83 finished with value: 0.9690674268325742 and parameters: {'n_estimators': 285, 'max_depth': 7, 'min_samples_split': 17, 'min_samples_leaf': 5, 'max_features': 'log2'}. Best is trial 19 with value: 0.9691754327669981.\n",
      "[I 2025-07-15 11:35:52,968] Trial 84 finished with value: 0.9690134602996944 and parameters: {'n_estimators': 365, 'max_depth': 9, 'min_samples_split': 19, 'min_samples_leaf': 2, 'max_features': 'log2'}. Best is trial 19 with value: 0.9691754327669981.\n",
      "[I 2025-07-15 11:36:05,154] Trial 85 finished with value: 0.9691214225129198 and parameters: {'n_estimators': 346, 'max_depth': 4, 'min_samples_split': 4, 'min_samples_leaf': 3, 'max_features': 'log2'}. Best is trial 19 with value: 0.9691754327669981.\n",
      "[I 2025-07-15 11:36:16,540] Trial 86 finished with value: 0.969067441406307 and parameters: {'n_estimators': 322, 'max_depth': 4, 'min_samples_split': 4, 'min_samples_leaf': 4, 'max_features': 'sqrt'}. Best is trial 19 with value: 0.9691754327669981.\n",
      "[I 2025-07-15 11:36:41,407] Trial 87 finished with value: 0.9688515024061232 and parameters: {'n_estimators': 347, 'max_depth': 18, 'min_samples_split': 4, 'min_samples_leaf': 12, 'max_features': 'sqrt'}. Best is trial 19 with value: 0.9691754327669981.\n",
      "[I 2025-07-15 11:37:03,059] Trial 88 finished with value: 0.969067426832574 and parameters: {'n_estimators': 300, 'max_depth': 15, 'min_samples_split': 5, 'min_samples_leaf': 7, 'max_features': 'log2'}. Best is trial 19 with value: 0.9691754327669981.\n",
      "[I 2025-07-15 11:37:21,227] Trial 89 finished with value: 0.9671779569375341 and parameters: {'n_estimators': 207, 'max_depth': 46, 'min_samples_split': 2, 'min_samples_leaf': 1, 'max_features': 'sqrt'}. Best is trial 19 with value: 0.9691754327669981.\n",
      "[I 2025-07-15 11:37:42,488] Trial 90 finished with value: 0.9691754036195324 and parameters: {'n_estimators': 268, 'max_depth': 36, 'min_samples_split': 3, 'min_samples_leaf': 5, 'max_features': 'auto'}. Best is trial 19 with value: 0.9691754327669981.\n",
      "[I 2025-07-15 11:38:04,029] Trial 91 finished with value: 0.9691754036195324 and parameters: {'n_estimators': 271, 'max_depth': 36, 'min_samples_split': 3, 'min_samples_leaf': 5, 'max_features': 'auto'}. Best is trial 19 with value: 0.9691754327669981.\n",
      "[I 2025-07-15 11:38:24,628] Trial 92 finished with value: 0.9689594646193486 and parameters: {'n_estimators': 266, 'max_depth': 36, 'min_samples_split': 3, 'min_samples_leaf': 6, 'max_features': 'auto'}. Best is trial 19 with value: 0.9691754327669981.\n",
      "[I 2025-07-15 11:38:47,222] Trial 93 finished with value: 0.9691214225129196 and parameters: {'n_estimators': 286, 'max_depth': 39, 'min_samples_split': 3, 'min_samples_leaf': 5, 'max_features': 'auto'}. Best is trial 19 with value: 0.9691754327669981.\n",
      "[I 2025-07-15 11:39:11,075] Trial 94 finished with value: 0.9688515024061232 and parameters: {'n_estimators': 313, 'max_depth': 34, 'min_samples_split': 4, 'min_samples_leaf': 8, 'max_features': 'auto'}. Best is trial 19 with value: 0.9691754327669981.\n",
      "[I 2025-07-15 11:39:30,710] Trial 95 finished with value: 0.9690134602996944 and parameters: {'n_estimators': 244, 'max_depth': 26, 'min_samples_split': 2, 'min_samples_leaf': 4, 'max_features': 'auto'}. Best is trial 19 with value: 0.9691754327669981.\n",
      "[I 2025-07-15 11:39:48,084] Trial 96 finished with value: 0.9690674268325742 and parameters: {'n_estimators': 226, 'max_depth': 23, 'min_samples_split': 3, 'min_samples_leaf': 6, 'max_features': 'auto'}. Best is trial 19 with value: 0.9691754327669981.\n",
      "[I 2025-07-15 11:40:10,321] Trial 97 finished with value: 0.9690674268325742 and parameters: {'n_estimators': 270, 'max_depth': 43, 'min_samples_split': 5, 'min_samples_leaf': 3, 'max_features': 'auto'}. Best is trial 19 with value: 0.9691754327669981.\n",
      "[I 2025-07-15 11:40:30,642] Trial 98 finished with value: 0.9690134602996942 and parameters: {'n_estimators': 255, 'max_depth': 20, 'min_samples_split': 4, 'min_samples_leaf': 4, 'max_features': 'auto'}. Best is trial 19 with value: 0.9691754327669981.\n",
      "[I 2025-07-15 11:40:42,949] Trial 99 finished with value: 0.969067441406307 and parameters: {'n_estimators': 155, 'max_depth': 30, 'min_samples_split': 6, 'min_samples_leaf': 5, 'max_features': 'auto'}. Best is trial 19 with value: 0.9691754327669981.\n"
     ]
    },
    {
     "name": "stdout",
     "output_type": "stream",
     "text": [
      "Best trial:\n",
      "  Accuracy: 0.9691754327669981\n",
      "  Best hyperparameters: \n",
      "    n_estimators: 280\n",
      "    max_depth: 50\n",
      "    min_samples_split: 13\n",
      "    min_samples_leaf: 20\n",
      "    max_features: sqrt\n"
     ]
    }
   ],
   "source": [
    "\n",
    "\n",
    "\n",
    "\n",
    "# Define objective function for Optuna\n",
    "def objective(trial):\n",
    "    # Hyperparameters to tune\n",
    "    n_estimators = trial.suggest_int('n_estimators', 50, 600)\n",
    "    max_depth = trial.suggest_int('max_depth', 2, 62)\n",
    "    min_samples_split = trial.suggest_int('min_samples_split', 2, 20)\n",
    "    min_samples_leaf = trial.suggest_int('min_samples_leaf', 1, 20)\n",
    "    max_features = trial.suggest_categorical('max_features', ['auto', 'sqrt', 'log2'])\n",
    "\n",
    "    # Create model\n",
    "    clf = RandomForestClassifier(\n",
    "        n_estimators=n_estimators,\n",
    "        max_depth=max_depth,\n",
    "        min_samples_split=min_samples_split,\n",
    "        min_samples_leaf=min_samples_leaf,\n",
    "        max_features=max_features,\n",
    "        random_state=42\n",
    "    )\n",
    "\n",
    "    # Cross-validation\n",
    "    score = cross_val_score(clf, X_scale, y, cv=5, scoring='accuracy').mean()\n",
    "    return score\n",
    "\n",
    "# Create Optuna study\n",
    "study = optuna.create_study(direction='maximize')\n",
    "study.optimize(objective, n_trials=100)\n",
    "\n",
    "# Show best result\n",
    "print(\"Best trial:\")\n",
    "trial = study.best_trial\n",
    "\n",
    "print(f\"  Accuracy: {trial.value}\")\n",
    "print(\"  Best hyperparameters: \")\n",
    "for key, value in trial.params.items():\n",
    "    print(f\"    {key}: {value}\")\n"
   ]
  },
  {
   "cell_type": "code",
   "execution_count": 17,
   "id": "9fbd5f95",
   "metadata": {
    "execution": {
     "iopub.execute_input": "2025-07-15T11:40:42.984911Z",
     "iopub.status.busy": "2025-07-15T11:40:42.984584Z",
     "iopub.status.idle": "2025-07-15T11:40:42.989171Z",
     "shell.execute_reply": "2025-07-15T11:40:42.988243Z"
    },
    "papermill": {
     "duration": 0.016768,
     "end_time": "2025-07-15T11:40:42.990909",
     "exception": false,
     "start_time": "2025-07-15T11:40:42.974141",
     "status": "completed"
    },
    "tags": []
   },
   "outputs": [],
   "source": [
    "model=RandomForestClassifier(n_estimators=126,\n",
    "    max_depth=11,\n",
    "    min_samples_split=15,\n",
    "    min_samples_leaf=16,\n",
    "    max_features='log2')"
   ]
  },
  {
   "cell_type": "code",
   "execution_count": 18,
   "id": "c04d72e4",
   "metadata": {
    "execution": {
     "iopub.execute_input": "2025-07-15T11:40:43.011827Z",
     "iopub.status.busy": "2025-07-15T11:40:43.011505Z",
     "iopub.status.idle": "2025-07-15T11:40:44.881024Z",
     "shell.execute_reply": "2025-07-15T11:40:44.880130Z"
    },
    "papermill": {
     "duration": 1.881805,
     "end_time": "2025-07-15T11:40:44.882765",
     "exception": false,
     "start_time": "2025-07-15T11:40:43.000960",
     "status": "completed"
    },
    "tags": []
   },
   "outputs": [
    {
     "data": {
      "text/html": [
       "<style>#sk-container-id-1 {color: black;background-color: white;}#sk-container-id-1 pre{padding: 0;}#sk-container-id-1 div.sk-toggleable {background-color: white;}#sk-container-id-1 label.sk-toggleable__label {cursor: pointer;display: block;width: 100%;margin-bottom: 0;padding: 0.3em;box-sizing: border-box;text-align: center;}#sk-container-id-1 label.sk-toggleable__label-arrow:before {content: \"▸\";float: left;margin-right: 0.25em;color: #696969;}#sk-container-id-1 label.sk-toggleable__label-arrow:hover:before {color: black;}#sk-container-id-1 div.sk-estimator:hover label.sk-toggleable__label-arrow:before {color: black;}#sk-container-id-1 div.sk-toggleable__content {max-height: 0;max-width: 0;overflow: hidden;text-align: left;background-color: #f0f8ff;}#sk-container-id-1 div.sk-toggleable__content pre {margin: 0.2em;color: black;border-radius: 0.25em;background-color: #f0f8ff;}#sk-container-id-1 input.sk-toggleable__control:checked~div.sk-toggleable__content {max-height: 200px;max-width: 100%;overflow: auto;}#sk-container-id-1 input.sk-toggleable__control:checked~label.sk-toggleable__label-arrow:before {content: \"▾\";}#sk-container-id-1 div.sk-estimator input.sk-toggleable__control:checked~label.sk-toggleable__label {background-color: #d4ebff;}#sk-container-id-1 div.sk-label input.sk-toggleable__control:checked~label.sk-toggleable__label {background-color: #d4ebff;}#sk-container-id-1 input.sk-hidden--visually {border: 0;clip: rect(1px 1px 1px 1px);clip: rect(1px, 1px, 1px, 1px);height: 1px;margin: -1px;overflow: hidden;padding: 0;position: absolute;width: 1px;}#sk-container-id-1 div.sk-estimator {font-family: monospace;background-color: #f0f8ff;border: 1px dotted black;border-radius: 0.25em;box-sizing: border-box;margin-bottom: 0.5em;}#sk-container-id-1 div.sk-estimator:hover {background-color: #d4ebff;}#sk-container-id-1 div.sk-parallel-item::after {content: \"\";width: 100%;border-bottom: 1px solid gray;flex-grow: 1;}#sk-container-id-1 div.sk-label:hover label.sk-toggleable__label {background-color: #d4ebff;}#sk-container-id-1 div.sk-serial::before {content: \"\";position: absolute;border-left: 1px solid gray;box-sizing: border-box;top: 0;bottom: 0;left: 50%;z-index: 0;}#sk-container-id-1 div.sk-serial {display: flex;flex-direction: column;align-items: center;background-color: white;padding-right: 0.2em;padding-left: 0.2em;position: relative;}#sk-container-id-1 div.sk-item {position: relative;z-index: 1;}#sk-container-id-1 div.sk-parallel {display: flex;align-items: stretch;justify-content: center;background-color: white;position: relative;}#sk-container-id-1 div.sk-item::before, #sk-container-id-1 div.sk-parallel-item::before {content: \"\";position: absolute;border-left: 1px solid gray;box-sizing: border-box;top: 0;bottom: 0;left: 50%;z-index: -1;}#sk-container-id-1 div.sk-parallel-item {display: flex;flex-direction: column;z-index: 1;position: relative;background-color: white;}#sk-container-id-1 div.sk-parallel-item:first-child::after {align-self: flex-end;width: 50%;}#sk-container-id-1 div.sk-parallel-item:last-child::after {align-self: flex-start;width: 50%;}#sk-container-id-1 div.sk-parallel-item:only-child::after {width: 0;}#sk-container-id-1 div.sk-dashed-wrapped {border: 1px dashed gray;margin: 0 0.4em 0.5em 0.4em;box-sizing: border-box;padding-bottom: 0.4em;background-color: white;}#sk-container-id-1 div.sk-label label {font-family: monospace;font-weight: bold;display: inline-block;line-height: 1.2em;}#sk-container-id-1 div.sk-label-container {text-align: center;}#sk-container-id-1 div.sk-container {/* jupyter's `normalize.less` sets `[hidden] { display: none; }` but bootstrap.min.css set `[hidden] { display: none !important; }` so we also need the `!important` here to be able to override the default hidden behavior on the sphinx rendered scikit-learn.org. See: https://github.com/scikit-learn/scikit-learn/issues/21755 */display: inline-block !important;position: relative;}#sk-container-id-1 div.sk-text-repr-fallback {display: none;}</style><div id=\"sk-container-id-1\" class=\"sk-top-container\"><div class=\"sk-text-repr-fallback\"><pre>RandomForestClassifier(max_depth=11, max_features=&#x27;log2&#x27;, min_samples_leaf=16,\n",
       "                       min_samples_split=15, n_estimators=126)</pre><b>In a Jupyter environment, please rerun this cell to show the HTML representation or trust the notebook. <br />On GitHub, the HTML representation is unable to render, please try loading this page with nbviewer.org.</b></div><div class=\"sk-container\" hidden><div class=\"sk-item\"><div class=\"sk-estimator sk-toggleable\"><input class=\"sk-toggleable__control sk-hidden--visually\" id=\"sk-estimator-id-1\" type=\"checkbox\" checked><label for=\"sk-estimator-id-1\" class=\"sk-toggleable__label sk-toggleable__label-arrow\">RandomForestClassifier</label><div class=\"sk-toggleable__content\"><pre>RandomForestClassifier(max_depth=11, max_features=&#x27;log2&#x27;, min_samples_leaf=16,\n",
       "                       min_samples_split=15, n_estimators=126)</pre></div></div></div></div></div>"
      ],
      "text/plain": [
       "RandomForestClassifier(max_depth=11, max_features='log2', min_samples_leaf=16,\n",
       "                       min_samples_split=15, n_estimators=126)"
      ]
     },
     "execution_count": 18,
     "metadata": {},
     "output_type": "execute_result"
    }
   ],
   "source": [
    "model.fit(X_scale,y)"
   ]
  },
  {
   "cell_type": "code",
   "execution_count": 19,
   "id": "44cc99e8",
   "metadata": {
    "execution": {
     "iopub.execute_input": "2025-07-15T11:40:44.904846Z",
     "iopub.status.busy": "2025-07-15T11:40:44.904564Z",
     "iopub.status.idle": "2025-07-15T11:40:44.988532Z",
     "shell.execute_reply": "2025-07-15T11:40:44.987457Z"
    },
    "papermill": {
     "duration": 0.096708,
     "end_time": "2025-07-15T11:40:44.990213",
     "exception": false,
     "start_time": "2025-07-15T11:40:44.893505",
     "status": "completed"
    },
    "tags": []
   },
   "outputs": [],
   "source": [
    "pred=model.predict(x_scale)"
   ]
  },
  {
   "cell_type": "code",
   "execution_count": 20,
   "id": "70c5bcad",
   "metadata": {
    "execution": {
     "iopub.execute_input": "2025-07-15T11:40:45.010840Z",
     "iopub.status.busy": "2025-07-15T11:40:45.010474Z",
     "iopub.status.idle": "2025-07-15T11:40:45.015771Z",
     "shell.execute_reply": "2025-07-15T11:40:45.014886Z"
    },
    "papermill": {
     "duration": 0.017348,
     "end_time": "2025-07-15T11:40:45.017337",
     "exception": false,
     "start_time": "2025-07-15T11:40:44.999989",
     "status": "completed"
    },
    "tags": []
   },
   "outputs": [],
   "source": [
    "predictions=le.inverse_transform(pred)"
   ]
  },
  {
   "cell_type": "code",
   "execution_count": 21,
   "id": "01224535",
   "metadata": {
    "execution": {
     "iopub.execute_input": "2025-07-15T11:40:45.038893Z",
     "iopub.status.busy": "2025-07-15T11:40:45.038575Z",
     "iopub.status.idle": "2025-07-15T11:40:45.057142Z",
     "shell.execute_reply": "2025-07-15T11:40:45.056184Z"
    },
    "papermill": {
     "duration": 0.031096,
     "end_time": "2025-07-15T11:40:45.058684",
     "exception": false,
     "start_time": "2025-07-15T11:40:45.027588",
     "status": "completed"
    },
    "tags": []
   },
   "outputs": [
    {
     "name": "stdout",
     "output_type": "stream",
     "text": [
      "Your submission was successfully saved!\n"
     ]
    }
   ],
   "source": [
    "output = pd.DataFrame({'id': test.id, 'Personalities': predictions})\n",
    "output.to_csv('submission.csv', index=False)\n",
    "print(\"Your submission was successfully saved!\")"
   ]
  },
  {
   "cell_type": "code",
   "execution_count": 22,
   "id": "d0ce3417",
   "metadata": {
    "execution": {
     "iopub.execute_input": "2025-07-15T11:40:45.079348Z",
     "iopub.status.busy": "2025-07-15T11:40:45.079038Z",
     "iopub.status.idle": "2025-07-15T11:40:45.092804Z",
     "shell.execute_reply": "2025-07-15T11:40:45.091522Z"
    },
    "papermill": {
     "duration": 0.025741,
     "end_time": "2025-07-15T11:40:45.094294",
     "exception": false,
     "start_time": "2025-07-15T11:40:45.068553",
     "status": "completed"
    },
    "tags": []
   },
   "outputs": [
    {
     "data": {
      "text/html": [
       "<div>\n",
       "<style scoped>\n",
       "    .dataframe tbody tr th:only-of-type {\n",
       "        vertical-align: middle;\n",
       "    }\n",
       "\n",
       "    .dataframe tbody tr th {\n",
       "        vertical-align: top;\n",
       "    }\n",
       "\n",
       "    .dataframe thead th {\n",
       "        text-align: right;\n",
       "    }\n",
       "</style>\n",
       "<table border=\"1\" class=\"dataframe\">\n",
       "  <thead>\n",
       "    <tr style=\"text-align: right;\">\n",
       "      <th></th>\n",
       "      <th>id</th>\n",
       "      <th>Personalities</th>\n",
       "    </tr>\n",
       "  </thead>\n",
       "  <tbody>\n",
       "    <tr>\n",
       "      <th>0</th>\n",
       "      <td>18524</td>\n",
       "      <td>Extrovert</td>\n",
       "    </tr>\n",
       "    <tr>\n",
       "      <th>1</th>\n",
       "      <td>18525</td>\n",
       "      <td>Introvert</td>\n",
       "    </tr>\n",
       "    <tr>\n",
       "      <th>2</th>\n",
       "      <td>18526</td>\n",
       "      <td>Extrovert</td>\n",
       "    </tr>\n",
       "    <tr>\n",
       "      <th>3</th>\n",
       "      <td>18527</td>\n",
       "      <td>Extrovert</td>\n",
       "    </tr>\n",
       "    <tr>\n",
       "      <th>4</th>\n",
       "      <td>18528</td>\n",
       "      <td>Introvert</td>\n",
       "    </tr>\n",
       "    <tr>\n",
       "      <th>...</th>\n",
       "      <td>...</td>\n",
       "      <td>...</td>\n",
       "    </tr>\n",
       "    <tr>\n",
       "      <th>6170</th>\n",
       "      <td>24694</td>\n",
       "      <td>Extrovert</td>\n",
       "    </tr>\n",
       "    <tr>\n",
       "      <th>6171</th>\n",
       "      <td>24695</td>\n",
       "      <td>Introvert</td>\n",
       "    </tr>\n",
       "    <tr>\n",
       "      <th>6172</th>\n",
       "      <td>24696</td>\n",
       "      <td>Extrovert</td>\n",
       "    </tr>\n",
       "    <tr>\n",
       "      <th>6173</th>\n",
       "      <td>24697</td>\n",
       "      <td>Extrovert</td>\n",
       "    </tr>\n",
       "    <tr>\n",
       "      <th>6174</th>\n",
       "      <td>24698</td>\n",
       "      <td>Introvert</td>\n",
       "    </tr>\n",
       "  </tbody>\n",
       "</table>\n",
       "<p>6175 rows × 2 columns</p>\n",
       "</div>"
      ],
      "text/plain": [
       "         id Personalities\n",
       "0     18524     Extrovert\n",
       "1     18525     Introvert\n",
       "2     18526     Extrovert\n",
       "3     18527     Extrovert\n",
       "4     18528     Introvert\n",
       "...     ...           ...\n",
       "6170  24694     Extrovert\n",
       "6171  24695     Introvert\n",
       "6172  24696     Extrovert\n",
       "6173  24697     Extrovert\n",
       "6174  24698     Introvert\n",
       "\n",
       "[6175 rows x 2 columns]"
      ]
     },
     "execution_count": 22,
     "metadata": {},
     "output_type": "execute_result"
    }
   ],
   "source": [
    "sub=pd.read_csv(\"submission.csv\")\n",
    "sub"
   ]
  }
 ],
 "metadata": {
  "kaggle": {
   "accelerator": "none",
   "dataSources": [
    {
     "databundleVersionId": 12738969,
     "sourceId": 91718,
     "sourceType": "competition"
    },
    {
     "datasetId": 7786002,
     "sourceId": 12428088,
     "sourceType": "datasetVersion"
    }
   ],
   "dockerImageVersionId": 31089,
   "isGpuEnabled": false,
   "isInternetEnabled": true,
   "language": "python",
   "sourceType": "notebook"
  },
  "kernelspec": {
   "display_name": "Python 3",
   "language": "python",
   "name": "python3"
  },
  "language_info": {
   "codemirror_mode": {
    "name": "ipython",
    "version": 3
   },
   "file_extension": ".py",
   "mimetype": "text/x-python",
   "name": "python",
   "nbconvert_exporter": "python",
   "pygments_lexer": "ipython3",
   "version": "3.11.13"
  },
  "papermill": {
   "default_parameters": {},
   "duration": 2154.801499,
   "end_time": "2025-07-15T11:40:45.928820",
   "environment_variables": {},
   "exception": null,
   "input_path": "__notebook__.ipynb",
   "output_path": "__notebook__.ipynb",
   "parameters": {},
   "start_time": "2025-07-15T11:04:51.127321",
   "version": "2.6.0"
  }
 },
 "nbformat": 4,
 "nbformat_minor": 5
}
