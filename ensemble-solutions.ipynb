{
 "cells": [
  {
   "cell_type": "code",
   "execution_count": 1,
   "id": "3a25e506",
   "metadata": {
    "_cell_guid": "b1076dfc-b9ad-4769-8c92-a6c4dae69d19",
    "_uuid": "8f2839f25d086af736a60e9eeb907d3b93b6e0e5",
    "execution": {
     "iopub.execute_input": "2025-05-25T09:42:12.657063Z",
     "iopub.status.busy": "2025-05-25T09:42:12.656533Z",
     "iopub.status.idle": "2025-05-25T09:42:16.780212Z",
     "shell.execute_reply": "2025-05-25T09:42:16.779025Z"
    },
    "papermill": {
     "duration": 4.130043,
     "end_time": "2025-05-25T09:42:16.782280",
     "exception": false,
     "start_time": "2025-05-25T09:42:12.652237",
     "status": "completed"
    },
    "tags": []
   },
   "outputs": [
    {
     "name": "stdout",
     "output_type": "stream",
     "text": [
      "✅ submission_best5_diverse.csv created.\n"
     ]
    }
   ],
   "source": [
    "import os\n",
    "import pandas as pd\n",
    "import numpy as np\n",
    "from sklearn.metrics import pairwise_distances\n",
    "\n",
    "\n",
    "def load_submissions_and_scores(folder_path):\n",
    "    submissions = []\n",
    "    scores = []\n",
    "    filenames = []\n",
    "    \n",
    "    for fname in os.listdir(folder_path):\n",
    "        if fname.endswith(\".csv\"):\n",
    "            try:\n",
    "                score = float(fname.rstrip(\".csv\").split(\"_\")[-1])\n",
    "                df = pd.read_csv(os.path.join(folder_path, fname))\n",
    "                submissions.append(df)\n",
    "                scores.append(score)\n",
    "                filenames.append(fname)\n",
    "            except Exception as e:\n",
    "                print(f\"Skipping {fname}: {e}\")\n",
    "    return submissions, scores, filenames\n",
    "\n",
    "\n",
    "def ensemble_best5_diverse(submissions, scores):\n",
    "    meta_cols = ['ID', 'resname', 'resid']\n",
    "    all_structures = []\n",
    "    structure_sources = []  # Keep track of where each structure came from (submission index)\n",
    "\n",
    "    # Collect all structures from all submissions\n",
    "    for s_idx, df in enumerate(submissions):\n",
    "        for i in range(5):\n",
    "            coords = df[[f\"x_{i+1}\", f\"y_{i+1}\", f\"z_{i+1}\"]].values  # shape: (residues, 3)\n",
    "            all_structures.append(coords)\n",
    "            structure_sources.append((s_idx, i))\n",
    "    \n",
    "    # Flatten each structure to a 1D vector (residues * 3) for distance comparison\n",
    "    flat_structures = [s.reshape(-1) for s in all_structures]\n",
    "    \n",
    "    # Compute pairwise Euclidean distances\n",
    "    D = pairwise_distances(flat_structures, metric='euclidean')\n",
    "\n",
    "    # Start from the best-scoring submission (highest score)\n",
    "    best_submission_idx = np.argmax(scores)\n",
    "    first_structure_idx = structure_sources.index((best_submission_idx, 0))  # first structure of best model\n",
    "    selected_idx = [first_structure_idx]\n",
    "\n",
    "    # Greedily pick most dissimilar structures\n",
    "    while len(selected_idx) < 5:\n",
    "        remaining = list(set(range(len(all_structures))) - set(selected_idx))\n",
    "        next_idx = max(remaining, key=lambda i: min(D[i, j] for j in selected_idx))\n",
    "        selected_idx.append(next_idx)\n",
    "\n",
    "    # Rebuild submission\n",
    "    selected = [all_structures[i] for i in selected_idx]\n",
    "    output = submissions[0][meta_cols].copy()\n",
    "    for i in range(5):\n",
    "        output[f\"x_{i+1}\"] = selected[i][:, 0]\n",
    "        output[f\"y_{i+1}\"] = selected[i][:, 1]\n",
    "        output[f\"z_{i+1}\"] = selected[i][:, 2]\n",
    "\n",
    "    return output\n",
    "\n",
    "\n",
    "# === Run the ensembling ===\n",
    "folder = \"/kaggle/input/stanford-rna-folding-best-submissions\"\n",
    "submissions, scores, filenames = load_submissions_and_scores(folder)\n",
    "\n",
    "ensemble = ensemble_best5_diverse(submissions, scores)\n",
    "ensemble.to_csv(\"submission_best5_diverse.csv\", index=False)\n",
    "print(\"✅ submission_best5_diverse.csv created.\")\n"
   ]
  }
 ],
 "metadata": {
  "kaggle": {
   "accelerator": "none",
   "dataSources": [
    {
     "databundleVersionId": 12276181,
     "sourceId": 87793,
     "sourceType": "competition"
    },
    {
     "datasetId": 7508527,
     "sourceId": 11943860,
     "sourceType": "datasetVersion"
    }
   ],
   "dockerImageVersionId": 31040,
   "isGpuEnabled": false,
   "isInternetEnabled": true,
   "language": "python",
   "sourceType": "notebook"
  },
  "kernelspec": {
   "display_name": "Python 3",
   "language": "python",
   "name": "python3"
  },
  "language_info": {
   "codemirror_mode": {
    "name": "ipython",
    "version": 3
   },
   "file_extension": ".py",
   "mimetype": "text/x-python",
   "name": "python",
   "nbconvert_exporter": "python",
   "pygments_lexer": "ipython3",
   "version": "3.11.11"
  },
  "papermill": {
   "default_parameters": {},
   "duration": 10.385132,
   "end_time": "2025-05-25T09:42:17.807735",
   "environment_variables": {},
   "exception": null,
   "input_path": "__notebook__.ipynb",
   "output_path": "__notebook__.ipynb",
   "parameters": {},
   "start_time": "2025-05-25T09:42:07.422603",
   "version": "2.6.0"
  }
 },
 "nbformat": 4,
 "nbformat_minor": 5
}
