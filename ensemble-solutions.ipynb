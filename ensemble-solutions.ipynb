{
 "cells": [
  {
   "cell_type": "code",
   "execution_count": 1,
   "id": "79958529",
   "metadata": {
    "_cell_guid": "b1076dfc-b9ad-4769-8c92-a6c4dae69d19",
    "_uuid": "8f2839f25d086af736a60e9eeb907d3b93b6e0e5",
    "execution": {
     "iopub.execute_input": "2025-05-25T09:37:34.265591Z",
     "iopub.status.busy": "2025-05-25T09:37:34.265170Z",
     "iopub.status.idle": "2025-05-25T09:37:36.928592Z",
     "shell.execute_reply": "2025-05-25T09:37:36.927642Z"
    },
    "papermill": {
     "duration": 2.669539,
     "end_time": "2025-05-25T09:37:36.930416",
     "exception": false,
     "start_time": "2025-05-25T09:37:34.260877",
     "status": "completed"
    },
    "tags": []
   },
   "outputs": [],
   "source": [
    "import os\n",
    "import pandas as pd\n",
    "import numpy as np\n",
    "\n",
    "def load_submissions_and_scores(folder_path):\n",
    "    submissions = []\n",
    "    scores = []\n",
    "    filenames = []\n",
    "    \n",
    "    for fname in os.listdir(folder_path):\n",
    "        if fname.endswith(\".csv\"):\n",
    "            try:\n",
    "                score = float(fname.rstrip(\".csv\").split(\"_\")[-1])\n",
    "                df = pd.read_csv(os.path.join(folder_path, fname))\n",
    "                submissions.append(df)\n",
    "                scores.append(score)\n",
    "                filenames.append(fname)\n",
    "            except Exception as e:\n",
    "                print(f\"Skipping {fname}: {e}\")\n",
    "    return submissions, scores, filenames\n",
    "\n",
    "\n",
    "def ensemble_weighted_average(submissions, scores):\n",
    "    meta_cols = ['ID', 'resname', 'resid']\n",
    "    num_structures = 5\n",
    "    \n",
    "    # Normalize scores to weights\n",
    "    weights = np.array(scores) / np.sum(scores)\n",
    "    \n",
    "    # Stack predictions\n",
    "    pred_stack = []\n",
    "    for df in submissions:\n",
    "        pred_coords = []\n",
    "        for i in range(num_structures):\n",
    "            pred_coords.append(df[[f\"x_{i+1}\", f\"y_{i+1}\", f\"z_{i+1}\"]].values)\n",
    "        pred_coords = np.stack(pred_coords, axis=1)  # (num_residues, 5, 3)\n",
    "        pred_stack.append(pred_coords)\n",
    "    pred_stack = np.stack(pred_stack, axis=0)  # (num_submissions, num_residues, 5, 3)\n",
    "\n",
    "    # Weighted average across submissions\n",
    "    weighted_avg = np.tensordot(weights, pred_stack, axes=([0], [0]))  # (num_residues, 5, 3)\n",
    "\n",
    "    # Build submission DataFrame\n",
    "    output = submissions[0][meta_cols].copy()\n",
    "    for i in range(num_structures):\n",
    "        output[f\"x_{i+1}\"] = weighted_avg[:, i, 0]\n",
    "        output[f\"y_{i+1}\"] = weighted_avg[:, i, 1]\n",
    "        output[f\"z_{i+1}\"] = weighted_avg[:, i, 2]\n",
    "    \n",
    "    return output\n",
    "\n",
    "\n",
    "def ensemble_best_5_structures(submissions, scores):\n",
    "    meta_cols = ['ID', 'resname', 'resid']\n",
    "    all_structures = []\n",
    "    \n",
    "    for df in submissions:\n",
    "        for i in range(5):\n",
    "            coords = df[[f\"x_{i+1}\", f\"y_{i+1}\", f\"z_{i+1}\"]].values\n",
    "            all_structures.append(coords)\n",
    "    \n",
    "    # Dummy selection: just pick the 5 most confident ones (from highest-scoring submissions)\n",
    "    selected = np.array(all_structures[:5])  # TODO: Replace with actual selection logic\n",
    "    \n",
    "    # Build output\n",
    "    output = submissions[0][meta_cols].copy()\n",
    "    for i in range(5):\n",
    "        output[f\"x_{i+1}\"] = selected[i][:, 0]\n",
    "        output[f\"y_{i+1}\"] = selected[i][:, 1]\n",
    "        output[f\"z_{i+1}\"] = selected[i][:, 2]\n",
    "    \n",
    "    return output\n",
    "\n",
    "\n",
    "# Usage example\n",
    "folder = \"/kaggle/input/stanford-rna-folding-best-submissions\"\n",
    "submissions, scores, filenames = load_submissions_and_scores(folder)\n",
    "\n",
    "# Strategy 1: Weighted average\n",
    "avg_ensemble = ensemble_weighted_average(submissions, scores)\n",
    "avg_ensemble.to_csv(\"submission_weighted_average.csv\", index=False)\n",
    "\n",
    "# Strategy 2: Best-5 (basic)\n",
    "best5_ensemble = ensemble_best_5_structures(submissions, scores)\n",
    "best5_ensemble.to_csv(\"submission_best5_concat.csv\", index=False)\n"
   ]
  }
 ],
 "metadata": {
  "kaggle": {
   "accelerator": "none",
   "dataSources": [
    {
     "databundleVersionId": 12276181,
     "sourceId": 87793,
     "sourceType": "competition"
    },
    {
     "datasetId": 7508527,
     "sourceId": 11943860,
     "sourceType": "datasetVersion"
    }
   ],
   "dockerImageVersionId": 31040,
   "isGpuEnabled": false,
   "isInternetEnabled": true,
   "language": "python",
   "sourceType": "notebook"
  },
  "kernelspec": {
   "display_name": "Python 3",
   "language": "python",
   "name": "python3"
  },
  "language_info": {
   "codemirror_mode": {
    "name": "ipython",
    "version": 3
   },
   "file_extension": ".py",
   "mimetype": "text/x-python",
   "name": "python",
   "nbconvert_exporter": "python",
   "pygments_lexer": "ipython3",
   "version": "3.11.11"
  },
  "papermill": {
   "default_parameters": {},
   "duration": 8.924656,
   "end_time": "2025-05-25T09:37:37.553197",
   "environment_variables": {},
   "exception": null,
   "input_path": "__notebook__.ipynb",
   "output_path": "__notebook__.ipynb",
   "parameters": {},
   "start_time": "2025-05-25T09:37:28.628541",
   "version": "2.6.0"
  }
 },
 "nbformat": 4,
 "nbformat_minor": 5
}
