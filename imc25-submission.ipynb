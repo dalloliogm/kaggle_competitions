{
 "cells": [
  {
   "cell_type": "markdown",
   "id": "c8a8c546",
   "metadata": {
    "_cell_guid": "b1076dfc-b9ad-4769-8c92-a6c4dae69d19",
    "_uuid": "8f2839f25d086af736a60e9eeb907d3b93b6e0e5",
    "papermill": {
     "duration": 0.004515,
     "end_time": "2025-05-13T14:17:16.308787",
     "exception": false,
     "start_time": "2025-05-13T14:17:16.304272",
     "status": "completed"
    },
    "tags": []
   },
   "source": [
    "## Example submission\n",
    "\n",
    "Image Matching Challenge 2025: https://www.kaggle.com/competitions/image-matching-challenge-2025\n",
    "\n",
    "This notebook creates a simple submission using ALIKED and LightGlue, plus DINO for shortlisting, on GPU. Adapted from [last year](https://www.kaggle.com/code/oldufo/imc-2024-submission-example).\n",
    "\n",
    "Remember to select an accelerator on the sidebar to the right, and to disable internet access when submitting a notebook to the competition."
   ]
  },
  {
   "cell_type": "code",
   "execution_count": 1,
   "id": "4c4cb849",
   "metadata": {
    "execution": {
     "iopub.execute_input": "2025-05-13T14:17:16.318187Z",
     "iopub.status.busy": "2025-05-13T14:17:16.317877Z",
     "iopub.status.idle": "2025-05-13T14:17:21.899790Z",
     "shell.execute_reply": "2025-05-13T14:17:21.898809Z"
    },
    "papermill": {
     "duration": 5.588568,
     "end_time": "2025-05-13T14:17:21.901601",
     "exception": false,
     "start_time": "2025-05-13T14:17:16.313033",
     "status": "completed"
    },
    "tags": []
   },
   "outputs": [
    {
     "name": "stdout",
     "output_type": "stream",
     "text": [
      "Processing /kaggle/input/imc2024-packages-lightglue-rerun-kornia/kornia-0.7.2-py2.py3-none-any.whl\r\n",
      "Processing /kaggle/input/imc2024-packages-lightglue-rerun-kornia/kornia_moons-0.2.9-py3-none-any.whl\r\n",
      "Processing /kaggle/input/imc2024-packages-lightglue-rerun-kornia/kornia_rs-0.1.2-cp310-cp310-manylinux_2_17_x86_64.manylinux2014_x86_64.whl\r\n",
      "Processing /kaggle/input/imc2024-packages-lightglue-rerun-kornia/lightglue-0.0-py3-none-any.whl\r\n",
      "Processing /kaggle/input/imc2024-packages-lightglue-rerun-kornia/pycolmap-0.6.1-cp310-cp310-manylinux_2_17_x86_64.manylinux2014_x86_64.whl\r\n",
      "Processing /kaggle/input/imc2024-packages-lightglue-rerun-kornia/rerun_sdk-0.15.0a2-cp38-abi3-manylinux_2_31_x86_64.whl\r\n",
      "Installing collected packages: rerun-sdk, pycolmap, lightglue, kornia-rs, kornia-moons, kornia\r\n",
      "  Attempting uninstall: kornia-rs\r\n",
      "    Found existing installation: kornia_rs 0.1.8\r\n",
      "    Uninstalling kornia_rs-0.1.8:\r\n",
      "      Successfully uninstalled kornia_rs-0.1.8\r\n",
      "  Attempting uninstall: kornia\r\n",
      "    Found existing installation: kornia 0.8.0\r\n",
      "    Uninstalling kornia-0.8.0:\r\n",
      "      Successfully uninstalled kornia-0.8.0\r\n",
      "Successfully installed kornia-0.7.2 kornia-moons-0.2.9 kornia-rs-0.1.2 lightglue-0.0 pycolmap-0.6.1 rerun-sdk-0.15.0a2\r\n"
     ]
    }
   ],
   "source": [
    "# Install dependencies and copy model weights to run the notebook without internet access when submitting to the competition.\n",
    "!pip install --no-index /kaggle/input/imc2024-packages-lightglue-rerun-kornia/* --no-deps\n",
    "!mkdir -p /root/.cache/torch/hub/checkpoints\n",
    "!cp /kaggle/input/aliked/pytorch/aliked-n16/1/aliked-n16.pth /root/.cache/torch/hub/checkpoints/\n",
    "!cp /kaggle/input/lightglue/pytorch/aliked/1/aliked_lightglue.pth /root/.cache/torch/hub/checkpoints/\n",
    "!cp /kaggle/input/lightglue/pytorch/aliked/1/aliked_lightglue.pth /root/.cache/torch/hub/checkpoints/aliked_lightglue_v0-1_arxiv-pth"
   ]
  },
  {
   "cell_type": "code",
   "execution_count": 2,
   "id": "f7d979f5",
   "metadata": {
    "execution": {
     "iopub.execute_input": "2025-05-13T14:17:21.911708Z",
     "iopub.status.busy": "2025-05-13T14:17:21.911367Z",
     "iopub.status.idle": "2025-05-13T14:17:22.143809Z",
     "shell.execute_reply": "2025-05-13T14:17:22.142940Z"
    },
    "papermill": {
     "duration": 0.239205,
     "end_time": "2025-05-13T14:17:22.145486",
     "exception": false,
     "start_time": "2025-05-13T14:17:21.906281",
     "status": "completed"
    },
    "tags": []
   },
   "outputs": [
    {
     "name": "stdout",
     "output_type": "stream",
     "text": [
      "cp: cannot stat '/kaggle/input/glomap/glomap_package/bin/glomap': No such file or directory\r\n",
      "chmod: cannot access '/kaggle/working/glomap': No such file or directory\r\n"
     ]
    }
   ],
   "source": [
    "# GLOMAP\n",
    "# you should first add glomap to your notebook\n",
    "# to do so, go to Input -> Add Input -> search for \"https://www.kaggle.com/datasets/bulkobubulko/glomap\"\n",
    "# it should appear in Datasets. \n",
    "\n",
    "# add required libs for glomap\n",
    "import os\n",
    "os.environ['LD_LIBRARY_PATH'] = os.path.join('/kaggle/input/glomap/', 'glomap_package', 'lib') + ':' + os.environ.get('LD_LIBRARY_PATH', '')\n",
    "\n",
    "!cp /kaggle/input/glomap/glomap_package/bin/glomap /kaggle/working/\n",
    "!chmod +x /kaggle/working/glomap"
   ]
  },
  {
   "cell_type": "code",
   "execution_count": 3,
   "id": "ec1010e3",
   "metadata": {
    "execution": {
     "iopub.execute_input": "2025-05-13T14:17:22.156195Z",
     "iopub.status.busy": "2025-05-13T14:17:22.155852Z",
     "iopub.status.idle": "2025-05-13T14:17:22.272394Z",
     "shell.execute_reply": "2025-05-13T14:17:22.271245Z"
    },
    "papermill": {
     "duration": 0.123672,
     "end_time": "2025-05-13T14:17:22.274019",
     "exception": false,
     "start_time": "2025-05-13T14:17:22.150347",
     "status": "completed"
    },
    "tags": []
   },
   "outputs": [
    {
     "name": "stdout",
     "output_type": "stream",
     "text": [
      "/bin/bash: line 1: ./glomap: No such file or directory\r\n"
     ]
    }
   ],
   "source": [
    "# glomap works!!\n",
    "!cd /kaggle/working && ./glomap -h"
   ]
  },
  {
   "cell_type": "code",
   "execution_count": 4,
   "id": "7876b911",
   "metadata": {
    "execution": {
     "iopub.execute_input": "2025-05-13T14:17:22.284071Z",
     "iopub.status.busy": "2025-05-13T14:17:22.283797Z",
     "iopub.status.idle": "2025-05-13T14:17:23.159030Z",
     "shell.execute_reply": "2025-05-13T14:17:23.158034Z"
    },
    "papermill": {
     "duration": 0.881903,
     "end_time": "2025-05-13T14:17:23.160564",
     "exception": false,
     "start_time": "2025-05-13T14:17:22.278661",
     "status": "completed"
    },
    "tags": []
   },
   "outputs": [
    {
     "name": "stdout",
     "output_type": "stream",
     "text": [
      "find: ‘/kaggle/input/fastmap-dependencies/kaggle/working/fastmap-wheels/*’: No such file or directory\r\n",
      "\u001b[31mERROR: You must give at least one requirement to install (see \"pip help install\")\u001b[0m\u001b[31m\r\n",
      "\u001b[0m"
     ]
    }
   ],
   "source": [
    "# FastMap\n",
    "# !pip install --no-index /kaggle/input/fastmap-dependencies/kaggle/working/fastmap-wheels/* --no-deps\n",
    "!find /kaggle/input/fastmap-dependencies/kaggle/working/fastmap-wheels/* -name \"*.whl\" | grep -v -E \"numpy|PyYAML\" | xargs pip install --no-deps"
   ]
  },
  {
   "cell_type": "code",
   "execution_count": 5,
   "id": "62c13690",
   "metadata": {
    "execution": {
     "iopub.execute_input": "2025-05-13T14:17:23.171335Z",
     "iopub.status.busy": "2025-05-13T14:17:23.171076Z",
     "iopub.status.idle": "2025-05-13T14:17:23.375938Z",
     "shell.execute_reply": "2025-05-13T14:17:23.375016Z"
    },
    "papermill": {
     "duration": 0.211817,
     "end_time": "2025-05-13T14:17:23.377651",
     "exception": false,
     "start_time": "2025-05-13T14:17:23.165834",
     "status": "completed"
    },
    "tags": []
   },
   "outputs": [
    {
     "name": "stdout",
     "output_type": "stream",
     "text": [
      "python3: can't open file '/kaggle/input/fastmap/run.py': [Errno 2] No such file or directory\r\n"
     ]
    }
   ],
   "source": [
    "# and fastmap works toooo\n",
    "!python /kaggle/input/fastmap/run.py"
   ]
  },
  {
   "cell_type": "code",
   "execution_count": 6,
   "id": "faf3a4e7",
   "metadata": {
    "execution": {
     "iopub.execute_input": "2025-05-13T14:17:23.388353Z",
     "iopub.status.busy": "2025-05-13T14:17:23.388052Z",
     "iopub.status.idle": "2025-05-13T14:17:23.391425Z",
     "shell.execute_reply": "2025-05-13T14:17:23.390797Z"
    },
    "papermill": {
     "duration": 0.010057,
     "end_time": "2025-05-13T14:17:23.392728",
     "exception": false,
     "start_time": "2025-05-13T14:17:23.382671",
     "status": "completed"
    },
    "tags": []
   },
   "outputs": [],
   "source": [
    "# !rm -rf /kaggle/working/result/featureout/imc2023_heritage/fastmap_rec_aliked "
   ]
  },
  {
   "cell_type": "code",
   "execution_count": 7,
   "id": "0bed7755",
   "metadata": {
    "execution": {
     "iopub.execute_input": "2025-05-13T14:17:23.403069Z",
     "iopub.status.busy": "2025-05-13T14:17:23.402839Z",
     "iopub.status.idle": "2025-05-13T14:17:23.407136Z",
     "shell.execute_reply": "2025-05-13T14:17:23.406561Z"
    },
    "papermill": {
     "duration": 0.010742,
     "end_time": "2025-05-13T14:17:23.408294",
     "exception": false,
     "start_time": "2025-05-13T14:17:23.397552",
     "status": "completed"
    },
    "tags": []
   },
   "outputs": [],
   "source": [
    "# with default params fastmap does not converge \n",
    "\n",
    "fastmap_config = \"\"\"\n",
    "distortion:\n",
    "  num_levels: 2\n",
    "  num_samples: 6\n",
    "  alpha_min: -0.3\n",
    "  alpha_max: 0.2\n",
    "focal:\n",
    "  min_fov: 30.0\n",
    "  max_fov: 140.0\n",
    "  num_samples: 40\n",
    "  std: 0.03\n",
    "fundamental:\n",
    "  num_iters: 6\n",
    "homography:\n",
    "  num_iters: 6\n",
    "pose_decomposition:\n",
    "  error_thr: 0.03\n",
    "rotation:\n",
    "  max_inlier_thr: 24\n",
    "  min_inlier_thr: 8\n",
    "  min_inlier_increment_frac: 0.25\n",
    "  max_angle_thr: 15.0\n",
    "  min_angle_thr: 5.0\n",
    "  angle_step: 2.0\n",
    "  lr: 0.01\n",
    "  log_interval: 100\n",
    "track:\n",
    "  min_track_size: 2\n",
    "relative_translation:\n",
    "  num_candidates: 128\n",
    "  epipolar_error_thr: 0.1\n",
    "  ray_angle_thr: 1.0\n",
    "  min_num_inliers: 3\n",
    "  min_degree: 1\n",
    "global_translation:\n",
    "  num_init: 2\n",
    "  log_interval: 50\n",
    "epipolar_adjustment:\n",
    "  num_irls_steps: 1\n",
    "  num_prune_steps: 1\n",
    "  max_thr: 0.05\n",
    "  min_thr: 0.02\n",
    "  lr: 0.005\n",
    "  lr_decay: 0.8\n",
    "  log_interval: 50\n",
    "sparse_reconstruction:\n",
    "  reproj_err_thr: 25.0\n",
    "  min_ray_angle: 0.5\n",
    "  batch_size: 1024\n",
    "\"\"\"\n",
    " \n",
    "config_path = \"/kaggle/working/config.yaml\"\n",
    "with open(config_path, \"w\") as f:\n",
    "    f.write(fastmap_config)"
   ]
  },
  {
   "cell_type": "code",
   "execution_count": 8,
   "id": "82ab3d2e",
   "metadata": {
    "execution": {
     "iopub.execute_input": "2025-05-13T14:17:23.418435Z",
     "iopub.status.busy": "2025-05-13T14:17:23.418190Z",
     "iopub.status.idle": "2025-05-13T14:17:23.421051Z",
     "shell.execute_reply": "2025-05-13T14:17:23.420422Z"
    },
    "papermill": {
     "duration": 0.009256,
     "end_time": "2025-05-13T14:17:23.422273",
     "exception": false,
     "start_time": "2025-05-13T14:17:23.413017",
     "status": "completed"
    },
    "tags": []
   },
   "outputs": [],
   "source": [
    "# to test fastmap\n",
    "# !python /kaggle/input/fastmap/run.py --headless --database /kaggle/working/result/featureout/imc2023_heritage/colmap.db --image_dir /kaggle/input/image-matching-challenge-2025/train/imc2023_heritage/ --output_dir /kaggle/working/result/featureout/imc2023_heritage/fastmap_rec_aliked --config /kaggle/working/config.yaml"
   ]
  },
  {
   "cell_type": "code",
   "execution_count": 9,
   "id": "762a8f64",
   "metadata": {
    "execution": {
     "iopub.execute_input": "2025-05-13T14:17:23.432596Z",
     "iopub.status.busy": "2025-05-13T14:17:23.432303Z",
     "iopub.status.idle": "2025-05-13T14:17:46.809861Z",
     "shell.execute_reply": "2025-05-13T14:17:46.809145Z"
    },
    "papermill": {
     "duration": 23.384132,
     "end_time": "2025-05-13T14:17:46.811387",
     "exception": false,
     "start_time": "2025-05-13T14:17:23.427255",
     "status": "completed"
    },
    "tags": []
   },
   "outputs": [
    {
     "name": "stderr",
     "output_type": "stream",
     "text": [
      "/usr/local/lib/python3.10/dist-packages/kornia/feature/lightglue.py:44: FutureWarning: `torch.cuda.amp.custom_fwd(args...)` is deprecated. Please use `torch.amp.custom_fwd(args..., device_type='cuda')` instead.\n",
      "  @torch.cuda.amp.custom_fwd(cast_inputs=torch.float32)\n",
      "/usr/local/lib/python3.10/dist-packages/lightglue/lightglue.py:24: FutureWarning: `torch.cuda.amp.custom_fwd(args...)` is deprecated. Please use `torch.amp.custom_fwd(args..., device_type='cuda')` instead.\n",
      "  @torch.cuda.amp.custom_fwd(cast_inputs=torch.float32)\n"
     ]
    }
   ],
   "source": [
    "import sys\n",
    "import os\n",
    "from tqdm import tqdm\n",
    "from time import time, sleep\n",
    "import gc\n",
    "import numpy as np\n",
    "import h5py\n",
    "import dataclasses\n",
    "import pandas as pd\n",
    "from IPython.display import clear_output\n",
    "from collections import defaultdict\n",
    "from copy import deepcopy\n",
    "from PIL import Image\n",
    "\n",
    "import cv2\n",
    "import torch\n",
    "import torch.nn.functional as F\n",
    "import kornia as K\n",
    "import kornia.feature as KF\n",
    "\n",
    "import torch\n",
    "from lightglue import match_pair\n",
    "from lightglue import ALIKED, LightGlue\n",
    "from lightglue.utils import load_image, rbd\n",
    "from transformers import AutoImageProcessor, AutoModel\n",
    "\n",
    "# Utilities: importing data into colmap and competition metric\n",
    "import pycolmap\n",
    "sys.path.append('/kaggle/input/imc25-utils')\n",
    "from database import *\n",
    "from h5_to_db import *\n",
    "import metric\n",
    "\n",
    "import subprocess"
   ]
  },
  {
   "cell_type": "code",
   "execution_count": 10,
   "id": "6b624007",
   "metadata": {
    "execution": {
     "iopub.execute_input": "2025-05-13T14:17:46.822388Z",
     "iopub.status.busy": "2025-05-13T14:17:46.821883Z",
     "iopub.status.idle": "2025-05-13T14:17:46.886313Z",
     "shell.execute_reply": "2025-05-13T14:17:46.885527Z"
    },
    "papermill": {
     "duration": 0.0712,
     "end_time": "2025-05-13T14:17:46.887691",
     "exception": false,
     "start_time": "2025-05-13T14:17:46.816491",
     "status": "completed"
    },
    "tags": []
   },
   "outputs": [
    {
     "name": "stdout",
     "output_type": "stream",
     "text": [
      "device=device(type='cuda', index=0)\n"
     ]
    }
   ],
   "source": [
    "# Don't forget to select an accelerator on the sidebar to the right.\n",
    "device = K.utils.get_cuda_device_if_available(0)\n",
    "print(f'{device=}')"
   ]
  },
  {
   "cell_type": "code",
   "execution_count": 11,
   "id": "c2413ab9",
   "metadata": {
    "execution": {
     "iopub.execute_input": "2025-05-13T14:17:46.898543Z",
     "iopub.status.busy": "2025-05-13T14:17:46.898281Z",
     "iopub.status.idle": "2025-05-13T14:17:46.915749Z",
     "shell.execute_reply": "2025-05-13T14:17:46.914909Z"
    },
    "papermill": {
     "duration": 0.024446,
     "end_time": "2025-05-13T14:17:46.917085",
     "exception": false,
     "start_time": "2025-05-13T14:17:46.892639",
     "status": "completed"
    },
    "tags": []
   },
   "outputs": [],
   "source": [
    "def load_torch_image(fname, device=torch.device('cpu')):\n",
    "    img = K.io.load_image(fname, K.io.ImageLoadType.RGB32, device=device)[None, ...]\n",
    "    return img\n",
    "\n",
    "\n",
    "# Use efficientnet global descriptor to get matching shortlists.\n",
    "def get_global_desc(fnames, device = torch.device('cpu')):\n",
    "    processor = AutoImageProcessor.from_pretrained('/kaggle/input/dinov2/pytorch/base/1')\n",
    "    model = AutoModel.from_pretrained('/kaggle/input/dinov2/pytorch/base/1')\n",
    "    model = model.eval()\n",
    "    model = model.to(device)\n",
    "    global_descs_dinov2 = []\n",
    "    for i, img_fname_full in tqdm(enumerate(fnames),total= len(fnames)):\n",
    "        key = os.path.splitext(os.path.basename(img_fname_full))[0]\n",
    "        timg = load_torch_image(img_fname_full)\n",
    "        with torch.inference_mode():\n",
    "            inputs = processor(images=timg, return_tensors=\"pt\", do_rescale=False).to(device)\n",
    "            outputs = model(**inputs)\n",
    "            dino_mac = F.normalize(outputs.last_hidden_state[:,1:].max(dim=1)[0], dim=1, p=2)\n",
    "        global_descs_dinov2.append(dino_mac.detach().cpu())\n",
    "    global_descs_dinov2 = torch.cat(global_descs_dinov2, dim=0)\n",
    "    return global_descs_dinov2\n",
    "\n",
    "\n",
    "def get_img_pairs_exhaustive(img_fnames):\n",
    "    index_pairs = []\n",
    "    for i in range(len(img_fnames)):\n",
    "        for j in range(i+1, len(img_fnames)):\n",
    "            index_pairs.append((i,j))\n",
    "    return index_pairs\n",
    "\n",
    "\n",
    "def get_image_pairs_shortlist(fnames,\n",
    "                              sim_th = 0.6, # should be strict\n",
    "                              min_pairs = 20,\n",
    "                              exhaustive_if_less = 20,\n",
    "                              device=torch.device('cpu')):\n",
    "    num_imgs = len(fnames)\n",
    "    if num_imgs <= exhaustive_if_less:\n",
    "        return get_img_pairs_exhaustive(fnames)\n",
    "    descs = get_global_desc(fnames, device=device)\n",
    "    dm = torch.cdist(descs, descs, p=2).detach().cpu().numpy()\n",
    "    # removing half\n",
    "    mask = dm <= sim_th\n",
    "    total = 0\n",
    "    matching_list = []\n",
    "    ar = np.arange(num_imgs)\n",
    "    already_there_set = []\n",
    "    for st_idx in range(num_imgs-1):\n",
    "        mask_idx = mask[st_idx]\n",
    "        to_match = ar[mask_idx]\n",
    "        if len(to_match) < min_pairs:\n",
    "            to_match = np.argsort(dm[st_idx])[:min_pairs]  \n",
    "        for idx in to_match:\n",
    "            if st_idx == idx:\n",
    "                continue\n",
    "            if dm[st_idx, idx] < 1000:\n",
    "                matching_list.append(tuple(sorted((st_idx, idx.item()))))\n",
    "                total+=1\n",
    "    matching_list = sorted(list(set(matching_list)))\n",
    "    return matching_list\n",
    "\n",
    "def detect_aliked(img_fnames,\n",
    "                  feature_dir = '.featureout',\n",
    "                  num_features = 4096,\n",
    "                  resize_to = 1024,\n",
    "                  device=torch.device('cpu')):\n",
    "    dtype = torch.float32 # ALIKED has issues with float16\n",
    "    extractor = ALIKED(max_num_keypoints=num_features, detection_threshold=0.01, resize=resize_to).eval().to(device, dtype)\n",
    "    if not os.path.isdir(feature_dir):\n",
    "        os.makedirs(feature_dir)\n",
    "    with h5py.File(f'{feature_dir}/keypoints.h5', mode='w') as f_kp, \\\n",
    "         h5py.File(f'{feature_dir}/descriptors.h5', mode='w') as f_desc:\n",
    "        for img_path in tqdm(img_fnames):\n",
    "            img_fname = img_path.split('/')[-1]\n",
    "            key = img_fname\n",
    "            with torch.inference_mode():\n",
    "                image0 = load_torch_image(img_path, device=device).to(dtype)\n",
    "                feats0 = extractor.extract(image0)  # auto-resize the image, disable with resize=None\n",
    "                kpts = feats0['keypoints'].reshape(-1, 2).detach().cpu().numpy()\n",
    "                descs = feats0['descriptors'].reshape(len(kpts), -1).detach().cpu().numpy()\n",
    "                f_kp[key] = kpts\n",
    "                f_desc[key] = descs\n",
    "    return\n",
    "\n",
    "def match_with_lightglue(img_fnames,\n",
    "                   index_pairs,\n",
    "                   feature_dir = '.featureout',\n",
    "                   device=torch.device('cpu'),\n",
    "                   min_matches=15,verbose=True):\n",
    "    lg_matcher = KF.LightGlueMatcher(\"aliked\", {\"width_confidence\": -1,\n",
    "                                                \"depth_confidence\": -1,\n",
    "                                                 \"mp\": True if 'cuda' in str(device) else False}).eval().to(device)\n",
    "    with h5py.File(f'{feature_dir}/keypoints.h5', mode='r') as f_kp, \\\n",
    "        h5py.File(f'{feature_dir}/descriptors.h5', mode='r') as f_desc, \\\n",
    "        h5py.File(f'{feature_dir}/matches.h5', mode='w') as f_match:\n",
    "        for pair_idx in tqdm(index_pairs):\n",
    "            idx1, idx2 = pair_idx\n",
    "            fname1, fname2 = img_fnames[idx1], img_fnames[idx2]\n",
    "            key1, key2 = fname1.split('/')[-1], fname2.split('/')[-1]\n",
    "            kp1 = torch.from_numpy(f_kp[key1][...]).to(device)\n",
    "            kp2 = torch.from_numpy(f_kp[key2][...]).to(device)\n",
    "            desc1 = torch.from_numpy(f_desc[key1][...]).to(device)\n",
    "            desc2 = torch.from_numpy(f_desc[key2][...]).to(device)\n",
    "            with torch.inference_mode():\n",
    "                dists, idxs = lg_matcher(desc1,\n",
    "                                         desc2,\n",
    "                                         KF.laf_from_center_scale_ori(kp1[None]),\n",
    "                                         KF.laf_from_center_scale_ori(kp2[None]))\n",
    "            if len(idxs)  == 0:\n",
    "                continue\n",
    "            n_matches = len(idxs)\n",
    "            if verbose:\n",
    "                print (f'{key1}-{key2}: {n_matches} matches')\n",
    "            group  = f_match.require_group(key1)\n",
    "            if n_matches >= min_matches:\n",
    "                 group.create_dataset(key2, data=idxs.detach().cpu().numpy().reshape(-1, 2))\n",
    "    return\n",
    "\n",
    "def import_into_colmap(img_dir, feature_dir ='.featureout', database_path = 'colmap.db'):\n",
    "    db = COLMAPDatabase.connect(database_path)\n",
    "    db.create_tables()\n",
    "    single_camera = False\n",
    "    fname_to_id = add_keypoints(db, feature_dir, img_dir, '', 'simple-pinhole', single_camera)\n",
    "    add_matches(\n",
    "        db,\n",
    "        feature_dir,\n",
    "        fname_to_id,\n",
    "    )\n",
    "    db.commit()\n",
    "    return\n",
    "\n",
    "def run_glomap(subcommand: str, flags: dict):\n",
    "    cmd = [\"./glomap\", subcommand]\n",
    "    for flag_name, value in flags.items():\n",
    "        cmd += [f\"--{flag_name}\", str(value)]\n",
    "    print(\"Running:\", \" \".join(cmd))\n",
    "    subprocess.run(cmd, check=True)"
   ]
  },
  {
   "cell_type": "code",
   "execution_count": 12,
   "id": "e6c9efce",
   "metadata": {
    "execution": {
     "iopub.execute_input": "2025-05-13T14:17:46.927382Z",
     "iopub.status.busy": "2025-05-13T14:17:46.927148Z",
     "iopub.status.idle": "2025-05-13T14:17:47.090588Z",
     "shell.execute_reply": "2025-05-13T14:17:47.089734Z"
    },
    "papermill": {
     "duration": 0.170006,
     "end_time": "2025-05-13T14:17:47.091871",
     "exception": false,
     "start_time": "2025-05-13T14:17:46.921865",
     "status": "completed"
    },
    "tags": []
   },
   "outputs": [
    {
     "name": "stdout",
     "output_type": "stream",
     "text": [
      "Dataset \"ETs\" -> num_images=22\n",
      "Dataset \"amy_gardens\" -> num_images=200\n",
      "Dataset \"fbk_vineyard\" -> num_images=163\n",
      "Dataset \"imc2023_haiper\" -> num_images=54\n",
      "Dataset \"imc2023_heritage\" -> num_images=209\n",
      "Dataset \"imc2023_theather_imc2024_church\" -> num_images=76\n",
      "Dataset \"imc2024_dioscuri_baalshamin\" -> num_images=138\n",
      "Dataset \"imc2024_lizard_pond\" -> num_images=214\n",
      "Dataset \"pt_brandenburg_british_buckingham\" -> num_images=225\n",
      "Dataset \"pt_piazzasanmarco_grandplace\" -> num_images=168\n",
      "Dataset \"pt_sacrecoeur_trevi_tajmahal\" -> num_images=225\n",
      "Dataset \"pt_stpeters_stpauls\" -> num_images=200\n",
      "Dataset \"stairs\" -> num_images=51\n"
     ]
    }
   ],
   "source": [
    "# Collect info from the dataset\n",
    "\n",
    "@dataclasses.dataclass\n",
    "class Prediction:\n",
    "    image_id: str | None  # A unique identifier for the row -- unused otherwise. Used only on the hidden test set.\n",
    "    dataset: str\n",
    "    filename: str\n",
    "    cluster_index: int | None = None\n",
    "    rotation: np.ndarray | None = None\n",
    "    translation: np.ndarray | None = None\n",
    "\n",
    "# Set is_train=True to run the notebook on the training data.\n",
    "# Set is_train=False if submitting an entry to the competition (test data is hidden, and different from what you see on the \"test\" folder).\n",
    "is_train = False\n",
    "data_dir = '/kaggle/input/image-matching-challenge-2025'\n",
    "workdir = '/kaggle/working/result/'\n",
    "os.makedirs(workdir, exist_ok=True)\n",
    "\n",
    "if is_train:\n",
    "    sample_submission_csv = os.path.join(data_dir, 'train_labels.csv')\n",
    "else:\n",
    "    sample_submission_csv = os.path.join(data_dir, 'sample_submission.csv')\n",
    "\n",
    "samples = {}\n",
    "competition_data = pd.read_csv(sample_submission_csv)\n",
    "for _, row in competition_data.iterrows():\n",
    "    # Note: For the test data, the \"scene\" column has no meaning, and the rotation_matrix and translation_vector columns are random.\n",
    "    if row.dataset not in samples:\n",
    "        samples[row.dataset] = []\n",
    "    samples[row.dataset].append(\n",
    "        Prediction(\n",
    "            image_id=None if is_train else row.image_id,\n",
    "            dataset=row.dataset,\n",
    "            filename=row.image\n",
    "        )\n",
    "    )\n",
    "\n",
    "for dataset in samples:\n",
    "    print(f'Dataset \"{dataset}\" -> num_images={len(samples[dataset])}')"
   ]
  },
  {
   "cell_type": "code",
   "execution_count": 13,
   "id": "d2e2a715",
   "metadata": {
    "execution": {
     "iopub.execute_input": "2025-05-13T14:17:47.103098Z",
     "iopub.status.busy": "2025-05-13T14:17:47.102836Z",
     "iopub.status.idle": "2025-05-13T14:22:37.179465Z",
     "shell.execute_reply": "2025-05-13T14:22:37.178635Z"
    },
    "papermill": {
     "duration": 290.083827,
     "end_time": "2025-05-13T14:22:37.181064",
     "exception": false,
     "start_time": "2025-05-13T14:17:47.097237",
     "status": "completed"
    },
    "tags": []
   },
   "outputs": [
    {
     "name": "stdout",
     "output_type": "stream",
     "text": [
      "Extracting on device cuda:0\n",
      "\n",
      "Processing dataset \"ETs\": 22 images\n"
     ]
    },
    {
     "name": "stderr",
     "output_type": "stream",
     "text": [
      "100%|██████████| 22/22 [00:02<00:00, 10.17it/s]\n"
     ]
    },
    {
     "name": "stdout",
     "output_type": "stream",
     "text": [
      "Shortlisting. Number of pairs to match: 213. Done in 6.2498 sec\n"
     ]
    },
    {
     "name": "stderr",
     "output_type": "stream",
     "text": [
      "100%|██████████| 22/22 [00:01<00:00, 15.83it/s]\n"
     ]
    },
    {
     "name": "stdout",
     "output_type": "stream",
     "text": [
      "Features detected in 1.7508 sec\n",
      "Loaded LightGlue model\n"
     ]
    },
    {
     "name": "stderr",
     "output_type": "stream",
     "text": [
      "100%|██████████| 213/213 [00:48<00:00,  4.36it/s]\n"
     ]
    },
    {
     "name": "stdout",
     "output_type": "stream",
     "text": [
      "Features matched in 49.0244 sec\n"
     ]
    },
    {
     "name": "stderr",
     "output_type": "stream",
     "text": [
      "100%|██████████| 22/22 [00:00<00:00, 79.41it/s]\n",
      " 70%|██████▉   | 146/210 [00:00<00:00, 4979.66it/s]\n"
     ]
    },
    {
     "name": "stdout",
     "output_type": "stream",
     "text": [
      "Ran RANSAC in 2.1598 sec\n",
      "Running FastMap\n",
      "Command 'python /kaggle/input/fastmap/run.py --headless --database /kaggle/working/result/featureout/ETs/colmap.db --image_dir /kaggle/input/image-matching-challenge-2025/test/ETs/ --output_dir /kaggle/working/result/featureout/ETs/fastmap_rec_aliked --config /kaggle/working/config.yaml' returned non-zero exit status 2.\n",
      "Dataset \"ETs\" -> Failed!\n",
      "\n",
      "Processing dataset \"amy_gardens\": 200 images\n"
     ]
    },
    {
     "name": "stderr",
     "output_type": "stream",
     "text": [
      "  0%|          | 0/200 [00:00<?, ?it/s]\n"
     ]
    },
    {
     "name": "stdout",
     "output_type": "stream",
     "text": [
      "File does not exist: /kaggle/input/image-matching-challenge-2025/test/amy_gardens/peach_0000.png\n",
      "Dataset \"amy_gardens\" -> Failed!\n",
      "\n",
      "Processing dataset \"fbk_vineyard\": 163 images\n"
     ]
    },
    {
     "name": "stderr",
     "output_type": "stream",
     "text": [
      "  0%|          | 0/163 [00:00<?, ?it/s]\n"
     ]
    },
    {
     "name": "stdout",
     "output_type": "stream",
     "text": [
      "File does not exist: /kaggle/input/image-matching-challenge-2025/test/fbk_vineyard/vineyard_split_1_frame_0900.png\n",
      "Dataset \"fbk_vineyard\" -> Failed!\n",
      "\n",
      "Processing dataset \"imc2023_haiper\": 54 images\n"
     ]
    },
    {
     "name": "stderr",
     "output_type": "stream",
     "text": [
      "  0%|          | 0/54 [00:00<?, ?it/s]\n"
     ]
    },
    {
     "name": "stdout",
     "output_type": "stream",
     "text": [
      "File does not exist: /kaggle/input/image-matching-challenge-2025/test/imc2023_haiper/bike_image_004.png\n",
      "Dataset \"imc2023_haiper\" -> Failed!\n",
      "\n",
      "Processing dataset \"imc2023_heritage\": 209 images\n"
     ]
    },
    {
     "name": "stderr",
     "output_type": "stream",
     "text": [
      "  0%|          | 0/209 [00:00<?, ?it/s]\n"
     ]
    },
    {
     "name": "stdout",
     "output_type": "stream",
     "text": [
      "File does not exist: /kaggle/input/image-matching-challenge-2025/test/imc2023_heritage/cyprus_dsc_6480.png\n",
      "Dataset \"imc2023_heritage\" -> Failed!\n",
      "\n",
      "Processing dataset \"imc2023_theather_imc2024_church\": 76 images\n"
     ]
    },
    {
     "name": "stderr",
     "output_type": "stream",
     "text": [
      "  0%|          | 0/76 [00:00<?, ?it/s]\n"
     ]
    },
    {
     "name": "stdout",
     "output_type": "stream",
     "text": [
      "File does not exist: /kaggle/input/image-matching-challenge-2025/test/imc2023_theather_imc2024_church/church_00004.png\n",
      "Dataset \"imc2023_theather_imc2024_church\" -> Failed!\n",
      "\n",
      "Processing dataset \"imc2024_dioscuri_baalshamin\": 138 images\n"
     ]
    },
    {
     "name": "stderr",
     "output_type": "stream",
     "text": [
      "  0%|          | 0/138 [00:00<?, ?it/s]\n"
     ]
    },
    {
     "name": "stdout",
     "output_type": "stream",
     "text": [
      "File does not exist: /kaggle/input/image-matching-challenge-2025/test/imc2024_dioscuri_baalshamin/baalshamin_182z.png\n",
      "Dataset \"imc2024_dioscuri_baalshamin\" -> Failed!\n",
      "\n",
      "Processing dataset \"imc2024_lizard_pond\": 214 images\n"
     ]
    },
    {
     "name": "stderr",
     "output_type": "stream",
     "text": [
      "  0%|          | 0/214 [00:00<?, ?it/s]\n"
     ]
    },
    {
     "name": "stdout",
     "output_type": "stream",
     "text": [
      "File does not exist: /kaggle/input/image-matching-challenge-2025/test/imc2024_lizard_pond/lizard_00003.png\n",
      "Dataset \"imc2024_lizard_pond\" -> Failed!\n",
      "\n",
      "Processing dataset \"pt_brandenburg_british_buckingham\": 225 images\n"
     ]
    },
    {
     "name": "stderr",
     "output_type": "stream",
     "text": [
      "  0%|          | 0/225 [00:00<?, ?it/s]\n"
     ]
    },
    {
     "name": "stdout",
     "output_type": "stream",
     "text": [
      "File does not exist: /kaggle/input/image-matching-challenge-2025/test/pt_brandenburg_british_buckingham/brandenburg_gate_01069771_8567470929.png\n",
      "Dataset \"pt_brandenburg_british_buckingham\" -> Failed!\n",
      "\n",
      "Processing dataset \"pt_piazzasanmarco_grandplace\": 168 images\n"
     ]
    },
    {
     "name": "stderr",
     "output_type": "stream",
     "text": [
      "  0%|          | 0/168 [00:00<?, ?it/s]\n"
     ]
    },
    {
     "name": "stdout",
     "output_type": "stream",
     "text": [
      "File does not exist: /kaggle/input/image-matching-challenge-2025/test/pt_piazzasanmarco_grandplace/grand_place_brussels_00460368_4162644685.png\n",
      "Dataset \"pt_piazzasanmarco_grandplace\" -> Failed!\n",
      "\n",
      "Processing dataset \"pt_sacrecoeur_trevi_tajmahal\": 225 images\n"
     ]
    },
    {
     "name": "stderr",
     "output_type": "stream",
     "text": [
      "  0%|          | 0/225 [00:00<?, ?it/s]\n"
     ]
    },
    {
     "name": "stdout",
     "output_type": "stream",
     "text": [
      "File does not exist: /kaggle/input/image-matching-challenge-2025/test/pt_sacrecoeur_trevi_tajmahal/sacre_coeur_02928139_3448003521.png\n",
      "Dataset \"pt_sacrecoeur_trevi_tajmahal\" -> Failed!\n",
      "\n",
      "Processing dataset \"pt_stpeters_stpauls\": 200 images\n"
     ]
    },
    {
     "name": "stderr",
     "output_type": "stream",
     "text": [
      "  0%|          | 0/200 [00:00<?, ?it/s]\n"
     ]
    },
    {
     "name": "stdout",
     "output_type": "stream",
     "text": [
      "File does not exist: /kaggle/input/image-matching-challenge-2025/test/pt_stpeters_stpauls/st_pauls_cathedral_00162897_2573777698.png\n",
      "Dataset \"pt_stpeters_stpauls\" -> Failed!\n",
      "\n",
      "Processing dataset \"stairs\": 51 images\n"
     ]
    },
    {
     "name": "stderr",
     "output_type": "stream",
     "text": [
      "100%|██████████| 51/51 [00:09<00:00,  5.63it/s]\n"
     ]
    },
    {
     "name": "stdout",
     "output_type": "stream",
     "text": [
      "Shortlisting. Number of pairs to match: 883. Done in 9.3208 sec\n"
     ]
    },
    {
     "name": "stderr",
     "output_type": "stream",
     "text": [
      "100%|██████████| 51/51 [00:03<00:00, 15.04it/s]\n"
     ]
    },
    {
     "name": "stdout",
     "output_type": "stream",
     "text": [
      "Features detected in 3.7297 sec\n",
      "Loaded LightGlue model\n"
     ]
    },
    {
     "name": "stderr",
     "output_type": "stream",
     "text": [
      "100%|██████████| 883/883 [03:22<00:00,  4.36it/s]\n"
     ]
    },
    {
     "name": "stdout",
     "output_type": "stream",
     "text": [
      "Features matched in 202.6253 sec\n"
     ]
    },
    {
     "name": "stderr",
     "output_type": "stream",
     "text": [
      "100%|██████████| 51/51 [00:02<00:00, 21.60it/s]\n",
      " 32%|███▏      | 392/1225 [00:00<00:00, 4834.72it/s]\n"
     ]
    },
    {
     "name": "stdout",
     "output_type": "stream",
     "text": [
      "Ran RANSAC in 5.7145 sec\n",
      "Running FastMap\n",
      "Command 'python /kaggle/input/fastmap/run.py --headless --database /kaggle/working/result/featureout/stairs/colmap.db --image_dir /kaggle/input/image-matching-challenge-2025/test/stairs/ --output_dir /kaggle/working/result/featureout/stairs/fastmap_rec_aliked --config /kaggle/working/config.yaml' returned non-zero exit status 2.\n",
      "Dataset \"stairs\" -> Failed!\n",
      "\n",
      "Results\n",
      "Dataset \"ETs\" -> Failed!\n",
      "Dataset \"amy_gardens\" -> Failed!\n",
      "Dataset \"fbk_vineyard\" -> Failed!\n",
      "Dataset \"imc2023_haiper\" -> Failed!\n",
      "Dataset \"imc2023_heritage\" -> Failed!\n",
      "Dataset \"imc2023_theather_imc2024_church\" -> Failed!\n",
      "Dataset \"imc2024_dioscuri_baalshamin\" -> Failed!\n",
      "Dataset \"imc2024_lizard_pond\" -> Failed!\n",
      "Dataset \"pt_brandenburg_british_buckingham\" -> Failed!\n",
      "Dataset \"pt_piazzasanmarco_grandplace\" -> Failed!\n",
      "Dataset \"pt_sacrecoeur_trevi_tajmahal\" -> Failed!\n",
      "Dataset \"pt_stpeters_stpauls\" -> Failed!\n",
      "Dataset \"stairs\" -> Failed!\n",
      "\n",
      "Timings\n",
      "shortlisting -> total=15.57 sec.\n",
      "feature_detection -> total=5.48 sec.\n",
      "feature_matching -> total=251.65 sec.\n",
      "RANSAC -> total=7.87 sec.\n",
      "Reconstruction -> total=0.00 sec.\n"
     ]
    }
   ],
   "source": [
    "# !rm -rf result\n",
    "gc.collect()\n",
    "\n",
    "max_images = None  # For debugging only. Set to None to disable.\n",
    "datasets_to_process = None  # Not the best convention, but None means all datasets.\n",
    "is_colmap = False # choose either this\n",
    "is_glomap = False # or this \n",
    "is_fastmap = True \n",
    "\n",
    "if is_train:\n",
    "    max_images = 50\n",
    "\n",
    "    # Note: When running on the training dataset, the notebook will hit the time limit and die. Use this filter to run on a few specific datasets.\n",
    "    datasets_to_process = [\n",
    "    \t# New data.\n",
    "    \t'amy_gardens',\n",
    "    \t'ETs',\n",
    "    \t'fbk_vineyard',\n",
    "    \t'stairs',\n",
    "    \t# Data from IMC 2023 and 2024.\n",
    "    \t# 'imc2024_dioscuri_baalshamin',\n",
    "    \t# 'imc2023_theather_imc2024_church',\n",
    "    \t'imc2023_heritage', # cyprus\n",
    "    \t# 'imc2023_haiper',\n",
    "    \t# 'imc2024_lizard_pond',\n",
    "    \t# Crowdsourced PhotoTourism data.\n",
    "    \t# 'pt_stpeters_stpauls',\n",
    "    \t# 'pt_brandenburg_british_buckingham',\n",
    "    \t# 'pt_piazzasanmarco_grandplace',\n",
    "    \t# 'pt_sacrecoeur_trevi_tajmahal',\n",
    "    ]\n",
    "\n",
    "timings = {\n",
    "    \"shortlisting\":[],\n",
    "    \"feature_detection\": [],\n",
    "    \"feature_matching\":[],\n",
    "    \"RANSAC\": [],\n",
    "    \"Reconstruction\": [],\n",
    "}\n",
    "mapping_result_strs = []\n",
    "\n",
    "\n",
    "print (f\"Extracting on device {device}\")\n",
    "for dataset, predictions in samples.items():\n",
    "    if datasets_to_process and dataset not in datasets_to_process:\n",
    "        print(f'Skipping \"{dataset}\"')\n",
    "        continue\n",
    "    \n",
    "    images_dir = os.path.join(data_dir, 'train' if is_train else 'test', dataset)\n",
    "    images = [os.path.join(images_dir, p.filename) for p in predictions]\n",
    "    if max_images is not None:\n",
    "        images = images[:max_images]\n",
    "\n",
    "    print(f'\\nProcessing dataset \"{dataset}\": {len(images)} images')\n",
    "\n",
    "    filename_to_index = {p.filename: idx for idx, p in enumerate(predictions)}\n",
    "\n",
    "    feature_dir = os.path.join(workdir, 'featureout', dataset)\n",
    "    os.makedirs(feature_dir, exist_ok=True)\n",
    "\n",
    "    # Wrap algos in try-except blocks so we can populate a submission even if one scene crashes.\n",
    "    try:\n",
    "        t = time()\n",
    "        index_pairs = get_image_pairs_shortlist(\n",
    "            images,\n",
    "            sim_th = 0.3, # should be strict\n",
    "            min_pairs = 20, # we select at least min_pairs PER IMAGE with biggest similarity\n",
    "            exhaustive_if_less = 20,\n",
    "            device=device\n",
    "        )\n",
    "        timings['shortlisting'].append(time() - t)\n",
    "        print (f'Shortlisting. Number of pairs to match: {len(index_pairs)}. Done in {time() - t:.4f} sec')\n",
    "        gc.collect()\n",
    "    \n",
    "        t = time()\n",
    "\n",
    "        detect_aliked(images, feature_dir, 4096, device=device)\n",
    "        gc.collect()\n",
    "        timings['feature_detection'].append(time() - t)\n",
    "        print(f'Features detected in {time() - t:.4f} sec')\n",
    "        \n",
    "        t = time()\n",
    "        match_with_lightglue(images, index_pairs, feature_dir=feature_dir, device=device, verbose=False)\n",
    "        timings['feature_matching'].append(time() - t)\n",
    "        print(f'Features matched in {time() - t:.4f} sec')\n",
    "\n",
    "        database_path = os.path.join(feature_dir, 'colmap.db')\n",
    "        if os.path.isfile(database_path):\n",
    "            os.remove(database_path)\n",
    "        gc.collect()\n",
    "        sleep(1)\n",
    "        import_into_colmap(images_dir, feature_dir=feature_dir, database_path=database_path)\n",
    "                \n",
    "        t = time()\n",
    "        pycolmap.match_exhaustive(database_path)\n",
    "        timings['RANSAC'].append(time() - t)\n",
    "        print(f'Ran RANSAC in {time() - t:.4f} sec')\n",
    "        \n",
    "        t = time()\n",
    "\n",
    "        if is_colmap:\n",
    "            output_path = f'{feature_dir}/colmap_rec_aliked'\n",
    "            os.makedirs(output_path, exist_ok=True)\n",
    "            \n",
    "            # By default colmap does not generate a reconstruction if less than 10 images are registered.\n",
    "            # Lower it to 3.\n",
    "            mapper_options = pycolmap.IncrementalPipelineOptions()\n",
    "            mapper_options.min_model_size = 3\n",
    "            mapper_options.max_num_models = 25\n",
    "            \n",
    "            maps = pycolmap.incremental_mapping(\n",
    "                database_path=database_path, \n",
    "                image_path=images_dir,\n",
    "                output_path=output_path,\n",
    "                options=mapper_options)\n",
    "\n",
    "        if is_glomap:\n",
    "            output_path = f'{feature_dir}/glomap_rec_aliked'\n",
    "            os.makedirs(output_path, exist_ok=True)\n",
    "            \n",
    "            run_glomap(\"mapper\", {\n",
    "            \"database_path\": database_path,\n",
    "            \"image_path\":    images_dir,\n",
    "            \"output_path\":   output_path,\n",
    "            \"TrackEstablishment.min_num_view_per_track\": 3, # min num of view per point, default 3\n",
    "            \"Thresholds.min_inlier_num\": 150, # default 30, lowering perfoms worse \n",
    "            # \"Thresholds.min_inlier_ratio\": 0.05,\n",
    "            # \"RelPoseEstimation.max_epipolar_error\": 4, # 4, 10; default 1\n",
    "            # \"Triangulation.complete_max_reproj_error\":10,\n",
    "            # \"Triangulation.merge_max_reproj_error\": 10,\n",
    "            \"GlobalPositioning.optimize_positions\": 1, # default 1\n",
    "            })\n",
    "            \n",
    "            maps = {}\n",
    "            model_idx = 0\n",
    "            while os.path.exists(f\"{output_path}/{model_idx}\"):\n",
    "                try:\n",
    "                    recon = pycolmap.Reconstruction(f\"{output_path}/{model_idx}\")\n",
    "                    maps[model_idx] = recon\n",
    "                    model_idx += 1\n",
    "                except:\n",
    "                    break\n",
    "\n",
    "        if is_fastmap:\n",
    "            output_path = f'{feature_dir}/fastmap_rec_aliked'\n",
    "            # os.makedirs(output_path, exist_ok=True) # fastmap creates this dir on its own\n",
    "            \n",
    "            fastmap_cmd = f\"python /kaggle/input/fastmap/run.py --headless --database {database_path} --image_dir {images_dir}/ --output_dir {output_path} --config /kaggle/working/config.yaml\"\n",
    "            # fastmap_cmd = f\"python /kaggle/input/fastmap/run.py --headless --database {database_path} --image_dir {images_dir}/ --output_dir {output_path}\"\n",
    "            \n",
    "            \n",
    "            print(\"Running FastMap\")\n",
    "            subprocess.run(fastmap_cmd, shell=True, check=True)\n",
    "            \n",
    "            maps = {}\n",
    "            model_idx = 0\n",
    "            while os.path.exists(f\"{output_path}/sparse/{model_idx}\"):\n",
    "                try:\n",
    "                    recon = pycolmap.Reconstruction(f\"{output_path}/sparse/{model_idx}\")\n",
    "                    maps[model_idx] = recon\n",
    "                    model_idx += 1\n",
    "                except:\n",
    "                    break\n",
    "\n",
    "        sleep(1)\n",
    "        timings['Reconstruction'].append(time() - t)\n",
    "        print(f'Reconstruction done in  {time() - t:.4f} sec')\n",
    "        print(maps)\n",
    "\n",
    "        clear_output(wait=False)\n",
    "    \n",
    "        registered = 0\n",
    "        for map_index, cur_map in maps.items():\n",
    "            for index, image in cur_map.images.items():\n",
    "                prediction_index = filename_to_index[image.name]\n",
    "                predictions[prediction_index].cluster_index = map_index\n",
    "                predictions[prediction_index].rotation = deepcopy(image.cam_from_world.rotation.matrix())\n",
    "                predictions[prediction_index].translation = deepcopy(image.cam_from_world.translation)\n",
    "                registered += 1\n",
    "        mapping_result_str = f'Dataset \"{dataset}\" -> Registered {registered} / {len(images)} images with {len(maps)} clusters'\n",
    "        mapping_result_strs.append(mapping_result_str)\n",
    "        print(mapping_result_str)\n",
    "        gc.collect()\n",
    "    except Exception as e:\n",
    "        print(e)\n",
    "        # raise e\n",
    "        mapping_result_str = f'Dataset \"{dataset}\" -> Failed!'\n",
    "        mapping_result_strs.append(mapping_result_str)\n",
    "        print(mapping_result_str)\n",
    "\n",
    "print('\\nResults')\n",
    "for s in mapping_result_strs:\n",
    "    print(s)\n",
    "\n",
    "print('\\nTimings')\n",
    "for k, v in timings.items():\n",
    "    print(f'{k} -> total={sum(v):.02f} sec.')"
   ]
  },
  {
   "cell_type": "code",
   "execution_count": 14,
   "id": "22bb1ded",
   "metadata": {
    "execution": {
     "iopub.execute_input": "2025-05-13T14:22:37.303605Z",
     "iopub.status.busy": "2025-05-13T14:22:37.303256Z",
     "iopub.status.idle": "2025-05-13T14:22:37.522823Z",
     "shell.execute_reply": "2025-05-13T14:22:37.521859Z"
    },
    "papermill": {
     "duration": 0.281387,
     "end_time": "2025-05-13T14:22:37.524329",
     "exception": false,
     "start_time": "2025-05-13T14:22:37.242942",
     "status": "completed"
    },
    "tags": []
   },
   "outputs": [
    {
     "name": "stdout",
     "output_type": "stream",
     "text": [
      "image_id,dataset,scene,image,rotation_matrix,translation_vector\r\n",
      "ETs_another_et_another_et001.png_public,ETs,outliers,another_et_another_et001.png,nan;nan;nan;nan;nan;nan;nan;nan;nan,nan;nan;nan\r\n",
      "ETs_another_et_another_et002.png_public,ETs,outliers,another_et_another_et002.png,nan;nan;nan;nan;nan;nan;nan;nan;nan,nan;nan;nan\r\n",
      "ETs_another_et_another_et003.png_public,ETs,outliers,another_et_another_et003.png,nan;nan;nan;nan;nan;nan;nan;nan;nan,nan;nan;nan\r\n",
      "ETs_another_et_another_et004.png_public,ETs,outliers,another_et_another_et004.png,nan;nan;nan;nan;nan;nan;nan;nan;nan,nan;nan;nan\r\n",
      "ETs_another_et_another_et005.png_public,ETs,outliers,another_et_another_et005.png,nan;nan;nan;nan;nan;nan;nan;nan;nan,nan;nan;nan\r\n",
      "ETs_another_et_another_et006.png_public,ETs,outliers,another_et_another_et006.png,nan;nan;nan;nan;nan;nan;nan;nan;nan,nan;nan;nan\r\n",
      "ETs_another_et_another_et007.png_public,ETs,outliers,another_et_another_et007.png,nan;nan;nan;nan;nan;nan;nan;nan;nan,nan;nan;nan\r\n",
      "ETs_another_et_another_et008.png_public,ETs,outliers,another_et_another_et008.png,nan;nan;nan;nan;nan;nan;nan;nan;nan,nan;nan;nan\r\n",
      "ETs_another_et_another_et009.png_public,ETs,outliers,another_et_another_et009.png,nan;nan;nan;nan;nan;nan;nan;nan;nan,nan;nan;nan\r\n"
     ]
    }
   ],
   "source": [
    "# Create a submission file.\n",
    "\n",
    "array_to_str = lambda array: ';'.join([f\"{x:.09f}\" for x in array])\n",
    "none_to_str = lambda n: ';'.join(['nan'] * n)\n",
    "\n",
    "submission_file = '/kaggle/working/submission.csv'\n",
    "with open(submission_file, 'w') as f:\n",
    "    if is_train:\n",
    "        f.write('dataset,scene,image,rotation_matrix,translation_vector\\n')\n",
    "        for dataset in samples:\n",
    "            for prediction in samples[dataset]:\n",
    "                cluster_name = 'outliers' if prediction.cluster_index is None else f'cluster{prediction.cluster_index}'\n",
    "                rotation = none_to_str(9) if prediction.rotation is None else array_to_str(prediction.rotation.flatten())\n",
    "                translation = none_to_str(3) if prediction.translation is None else array_to_str(prediction.translation)\n",
    "                f.write(f'{prediction.dataset},{cluster_name},{prediction.filename},{rotation},{translation}\\n')\n",
    "    else:\n",
    "        f.write('image_id,dataset,scene,image,rotation_matrix,translation_vector\\n')\n",
    "        for dataset in samples:\n",
    "            for prediction in samples[dataset]:\n",
    "                cluster_name = 'outliers' if prediction.cluster_index is None else f'cluster{prediction.cluster_index}'\n",
    "                rotation = none_to_str(9) if prediction.rotation is None else array_to_str(prediction.rotation.flatten())\n",
    "                translation = none_to_str(3) if prediction.translation is None else array_to_str(prediction.translation)\n",
    "                f.write(f'{prediction.image_id},{prediction.dataset},{cluster_name},{prediction.filename},{rotation},{translation}\\n')\n",
    "\n",
    "!head {submission_file}"
   ]
  },
  {
   "cell_type": "code",
   "execution_count": 15,
   "id": "b9e31b21",
   "metadata": {
    "execution": {
     "iopub.execute_input": "2025-05-13T14:22:37.694812Z",
     "iopub.status.busy": "2025-05-13T14:22:37.694450Z",
     "iopub.status.idle": "2025-05-13T14:22:37.699213Z",
     "shell.execute_reply": "2025-05-13T14:22:37.698361Z"
    },
    "papermill": {
     "duration": 0.115956,
     "end_time": "2025-05-13T14:22:37.700674",
     "exception": false,
     "start_time": "2025-05-13T14:22:37.584718",
     "status": "completed"
    },
    "tags": []
   },
   "outputs": [],
   "source": [
    "# Compute results if running on the training set.\n",
    "# Don't do this when submitting a notebook for scoring. All you have to do is save your submission to /kaggle/working/submission.csv.\n",
    "\n",
    "if is_train:\n",
    "    t = time()\n",
    "    final_score, dataset_scores = metric.score(\n",
    "        gt_csv='/kaggle/input/image-matching-challenge-2025/train_labels.csv',\n",
    "        user_csv=submission_file,\n",
    "        thresholds_csv='/kaggle/input/image-matching-challenge-2025/train_thresholds.csv',\n",
    "        mask_csv=None if is_train else os.path.join(data_dir, 'mask.csv'),\n",
    "        inl_cf=0,\n",
    "        strict_cf=-1,\n",
    "        verbose=True,\n",
    "    )\n",
    "    print(f'Computed metric in: {time() - t:.02f} sec.')"
   ]
  },
  {
   "cell_type": "code",
   "execution_count": null,
   "id": "17851d06",
   "metadata": {
    "papermill": {
     "duration": 0.060479,
     "end_time": "2025-05-13T14:22:37.821088",
     "exception": false,
     "start_time": "2025-05-13T14:22:37.760609",
     "status": "completed"
    },
    "tags": []
   },
   "outputs": [],
   "source": []
  },
  {
   "cell_type": "code",
   "execution_count": null,
   "id": "492c4913",
   "metadata": {
    "papermill": {
     "duration": 0.061537,
     "end_time": "2025-05-13T14:22:37.942620",
     "exception": false,
     "start_time": "2025-05-13T14:22:37.881083",
     "status": "completed"
    },
    "tags": []
   },
   "outputs": [],
   "source": []
  }
 ],
 "metadata": {
  "kaggle": {
   "accelerator": "gpu",
   "dataSources": [
    {
     "databundleVersionId": 11655853,
     "sourceId": 91498,
     "sourceType": "competition"
    },
    {
     "datasetId": 4628051,
     "sourceId": 7884485,
     "sourceType": "datasetVersion"
    },
    {
     "datasetId": 6988459,
     "sourceId": 11217117,
     "sourceType": "datasetVersion"
    },
    {
     "datasetId": 7383518,
     "sourceId": 11761257,
     "sourceType": "datasetVersion"
    },
    {
     "datasetId": 7387144,
     "sourceId": 11766865,
     "sourceType": "datasetVersion"
    },
    {
     "datasetId": 7387245,
     "sourceId": 11767027,
     "sourceType": "datasetVersion"
    },
    {
     "modelId": 986,
     "modelInstanceId": 3326,
     "sourceId": 4534,
     "sourceType": "modelInstanceVersion"
    },
    {
     "modelId": 21716,
     "modelInstanceId": 14317,
     "sourceId": 17191,
     "sourceType": "modelInstanceVersion"
    },
    {
     "modelId": 22086,
     "modelInstanceId": 14611,
     "sourceId": 17555,
     "sourceType": "modelInstanceVersion"
    }
   ],
   "dockerImageVersionId": 30919,
   "isGpuEnabled": true,
   "isInternetEnabled": false,
   "language": "python",
   "sourceType": "notebook"
  },
  "kernelspec": {
   "display_name": "Python 3",
   "language": "python",
   "name": "python3"
  },
  "language_info": {
   "codemirror_mode": {
    "name": "ipython",
    "version": 3
   },
   "file_extension": ".py",
   "mimetype": "text/x-python",
   "name": "python",
   "nbconvert_exporter": "python",
   "pygments_lexer": "ipython3",
   "version": "3.10.12"
  },
  "papermill": {
   "default_parameters": {},
   "duration": 327.953676,
   "end_time": "2025-05-13T14:22:41.582006",
   "environment_variables": {},
   "exception": null,
   "input_path": "__notebook__.ipynb",
   "output_path": "__notebook__.ipynb",
   "parameters": {},
   "start_time": "2025-05-13T14:17:13.628330",
   "version": "2.6.0"
  }
 },
 "nbformat": 4,
 "nbformat_minor": 5
}
