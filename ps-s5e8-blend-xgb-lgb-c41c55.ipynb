{
 "cells": [
  {
   "cell_type": "code",
   "execution_count": 1,
   "id": "3000c855",
   "metadata": {
    "_cell_guid": "b1076dfc-b9ad-4769-8c92-a6c4dae69d19",
    "_uuid": "8f2839f25d086af736a60e9eeb907d3b93b6e0e5",
    "execution": {
     "iopub.execute_input": "2025-08-23T06:32:02.925904Z",
     "iopub.status.busy": "2025-08-23T06:32:02.925620Z",
     "iopub.status.idle": "2025-08-23T06:32:03.001710Z",
     "shell.execute_reply": "2025-08-23T06:32:03.000935Z"
    },
    "papermill": {
     "duration": 0.08126,
     "end_time": "2025-08-23T06:32:03.003447",
     "exception": false,
     "start_time": "2025-08-23T06:32:02.922187",
     "status": "completed"
    },
    "tags": []
   },
   "outputs": [
    {
     "name": "stdout",
     "output_type": "stream",
     "text": [
      "/kaggle/input/playground-series-s5e8/sample_submission.csv\n",
      "/kaggle/input/playground-series-s5e8/train.csv\n",
      "/kaggle/input/playground-series-s5e8/test.csv\n",
      "/kaggle/input/ps-s5e8-lightgb-model-add-original-dataset/__results__.html\n",
      "/kaggle/input/ps-s5e8-lightgb-model-add-original-dataset/submission.csv\n",
      "/kaggle/input/ps-s5e8-lightgb-model-add-original-dataset/__notebook__.ipynb\n",
      "/kaggle/input/ps-s5e8-lightgb-model-add-original-dataset/__output__.json\n",
      "/kaggle/input/ps-s5e8-lightgb-model-add-original-dataset/custom.css\n",
      "/kaggle/input/ps-s5e8-lightgb-model-add-original-dataset/__results___files/__results___16_0.png\n",
      "/kaggle/input/ps-s5e8-xgboost-fe/__results__.html\n",
      "/kaggle/input/ps-s5e8-xgboost-fe/submission.csv\n",
      "/kaggle/input/ps-s5e8-xgboost-fe/__notebook__.ipynb\n",
      "/kaggle/input/ps-s5e8-xgboost-fe/__output__.json\n",
      "/kaggle/input/ps-s5e8-xgboost-fe/custom.css\n"
     ]
    }
   ],
   "source": [
    "import os\n",
    "\n",
    "for dirname, _, filenames in os.walk('/kaggle/input'):\n",
    "    for filename in filenames:\n",
    "        print(os.path.join(dirname, filename))"
   ]
  },
  {
   "cell_type": "code",
   "execution_count": 2,
   "id": "1b0da4a2",
   "metadata": {
    "execution": {
     "iopub.execute_input": "2025-08-23T06:32:03.009005Z",
     "iopub.status.busy": "2025-08-23T06:32:03.008688Z",
     "iopub.status.idle": "2025-08-23T06:32:05.776547Z",
     "shell.execute_reply": "2025-08-23T06:32:05.775547Z"
    },
    "papermill": {
     "duration": 2.772355,
     "end_time": "2025-08-23T06:32:05.778225",
     "exception": false,
     "start_time": "2025-08-23T06:32:03.005870",
     "status": "completed"
    },
    "tags": []
   },
   "outputs": [],
   "source": [
    "import numpy as np\n",
    "import pandas as pd\n",
    "\n",
    "test_df = pd.read_csv(\"/kaggle/input/playground-series-s5e8/test.csv\")\n",
    "sub1 = pd.read_csv(\"/kaggle/input/ps-s5e8-lightgb-model-add-original-dataset/submission.csv\")  # 0.97541\n",
    "sub2 = pd.read_csv(\"/kaggle/input/ps-s5e8-xgboost-fe/submission.csv\") # 0.97703"
   ]
  },
  {
   "cell_type": "code",
   "execution_count": 3,
   "id": "733102dd",
   "metadata": {
    "execution": {
     "iopub.execute_input": "2025-08-23T06:32:05.784404Z",
     "iopub.status.busy": "2025-08-23T06:32:05.784139Z",
     "iopub.status.idle": "2025-08-23T06:32:05.805856Z",
     "shell.execute_reply": "2025-08-23T06:32:05.804890Z"
    },
    "papermill": {
     "duration": 0.026103,
     "end_time": "2025-08-23T06:32:05.807184",
     "exception": false,
     "start_time": "2025-08-23T06:32:05.781081",
     "status": "completed"
    },
    "tags": []
   },
   "outputs": [
    {
     "data": {
      "text/html": [
       "<div>\n",
       "<style scoped>\n",
       "    .dataframe tbody tr th:only-of-type {\n",
       "        vertical-align: middle;\n",
       "    }\n",
       "\n",
       "    .dataframe tbody tr th {\n",
       "        vertical-align: top;\n",
       "    }\n",
       "\n",
       "    .dataframe thead th {\n",
       "        text-align: right;\n",
       "    }\n",
       "</style>\n",
       "<table border=\"1\" class=\"dataframe\">\n",
       "  <thead>\n",
       "    <tr style=\"text-align: right;\">\n",
       "      <th></th>\n",
       "      <th>id</th>\n",
       "      <th>y</th>\n",
       "    </tr>\n",
       "  </thead>\n",
       "  <tbody>\n",
       "    <tr>\n",
       "      <th>0</th>\n",
       "      <td>750000</td>\n",
       "      <td>0.004356</td>\n",
       "    </tr>\n",
       "    <tr>\n",
       "      <th>1</th>\n",
       "      <td>750001</td>\n",
       "      <td>0.099214</td>\n",
       "    </tr>\n",
       "    <tr>\n",
       "      <th>2</th>\n",
       "      <td>750002</td>\n",
       "      <td>0.000187</td>\n",
       "    </tr>\n",
       "    <tr>\n",
       "      <th>3</th>\n",
       "      <td>750003</td>\n",
       "      <td>0.000029</td>\n",
       "    </tr>\n",
       "    <tr>\n",
       "      <th>4</th>\n",
       "      <td>750004</td>\n",
       "      <td>0.007611</td>\n",
       "    </tr>\n",
       "  </tbody>\n",
       "</table>\n",
       "</div>"
      ],
      "text/plain": [
       "       id         y\n",
       "0  750000  0.004356\n",
       "1  750001  0.099214\n",
       "2  750002  0.000187\n",
       "3  750003  0.000029\n",
       "4  750004  0.007611"
      ]
     },
     "execution_count": 3,
     "metadata": {},
     "output_type": "execute_result"
    }
   ],
   "source": [
    "sub1.head()"
   ]
  },
  {
   "cell_type": "code",
   "execution_count": 4,
   "id": "aac9d787",
   "metadata": {
    "execution": {
     "iopub.execute_input": "2025-08-23T06:32:05.812564Z",
     "iopub.status.busy": "2025-08-23T06:32:05.812294Z",
     "iopub.status.idle": "2025-08-23T06:32:05.820413Z",
     "shell.execute_reply": "2025-08-23T06:32:05.819663Z"
    },
    "papermill": {
     "duration": 0.012372,
     "end_time": "2025-08-23T06:32:05.821768",
     "exception": false,
     "start_time": "2025-08-23T06:32:05.809396",
     "status": "completed"
    },
    "tags": []
   },
   "outputs": [
    {
     "data": {
      "text/html": [
       "<div>\n",
       "<style scoped>\n",
       "    .dataframe tbody tr th:only-of-type {\n",
       "        vertical-align: middle;\n",
       "    }\n",
       "\n",
       "    .dataframe tbody tr th {\n",
       "        vertical-align: top;\n",
       "    }\n",
       "\n",
       "    .dataframe thead th {\n",
       "        text-align: right;\n",
       "    }\n",
       "</style>\n",
       "<table border=\"1\" class=\"dataframe\">\n",
       "  <thead>\n",
       "    <tr style=\"text-align: right;\">\n",
       "      <th></th>\n",
       "      <th>id</th>\n",
       "      <th>y</th>\n",
       "    </tr>\n",
       "  </thead>\n",
       "  <tbody>\n",
       "    <tr>\n",
       "      <th>0</th>\n",
       "      <td>750000</td>\n",
       "      <td>0.001480</td>\n",
       "    </tr>\n",
       "    <tr>\n",
       "      <th>1</th>\n",
       "      <td>750001</td>\n",
       "      <td>0.173583</td>\n",
       "    </tr>\n",
       "    <tr>\n",
       "      <th>2</th>\n",
       "      <td>750002</td>\n",
       "      <td>0.000322</td>\n",
       "    </tr>\n",
       "    <tr>\n",
       "      <th>3</th>\n",
       "      <td>750003</td>\n",
       "      <td>0.000191</td>\n",
       "    </tr>\n",
       "    <tr>\n",
       "      <th>4</th>\n",
       "      <td>750004</td>\n",
       "      <td>0.014359</td>\n",
       "    </tr>\n",
       "  </tbody>\n",
       "</table>\n",
       "</div>"
      ],
      "text/plain": [
       "       id         y\n",
       "0  750000  0.001480\n",
       "1  750001  0.173583\n",
       "2  750002  0.000322\n",
       "3  750003  0.000191\n",
       "4  750004  0.014359"
      ]
     },
     "execution_count": 4,
     "metadata": {},
     "output_type": "execute_result"
    }
   ],
   "source": [
    "sub2.head()"
   ]
  },
  {
   "cell_type": "code",
   "execution_count": 5,
   "id": "cf8e6f37",
   "metadata": {
    "execution": {
     "iopub.execute_input": "2025-08-23T06:32:05.827298Z",
     "iopub.status.busy": "2025-08-23T06:32:05.827034Z",
     "iopub.status.idle": "2025-08-23T06:32:05.876093Z",
     "shell.execute_reply": "2025-08-23T06:32:05.875159Z"
    },
    "papermill": {
     "duration": 0.053424,
     "end_time": "2025-08-23T06:32:05.877573",
     "exception": false,
     "start_time": "2025-08-23T06:32:05.824149",
     "status": "completed"
    },
    "tags": []
   },
   "outputs": [],
   "source": [
    "r1 = sub1['y']\n",
    "r2 = sub2['y']\n",
    "\n",
    "r = 0.45\n",
    "sub = r * r1 + (1 - r) * r2"
   ]
  },
  {
   "cell_type": "code",
   "execution_count": 6,
   "id": "6d059113",
   "metadata": {
    "execution": {
     "iopub.execute_input": "2025-08-23T06:32:05.883628Z",
     "iopub.status.busy": "2025-08-23T06:32:05.883361Z",
     "iopub.status.idle": "2025-08-23T06:32:05.887440Z",
     "shell.execute_reply": "2025-08-23T06:32:05.886678Z"
    },
    "papermill": {
     "duration": 0.009226,
     "end_time": "2025-08-23T06:32:05.889112",
     "exception": false,
     "start_time": "2025-08-23T06:32:05.879886",
     "status": "completed"
    },
    "tags": []
   },
   "outputs": [],
   "source": [
    "# r1 = sub1['y'].rank(method='average') / (len(sub1)+1)\n",
    "# r2 = sub2['y'].rank(method='average') / (len(sub2)+1)\n",
    "\n",
    "# r = 0.3\n",
    "# sub = r * r1 + (1 - r) * r2"
   ]
  },
  {
   "cell_type": "code",
   "execution_count": 7,
   "id": "24aa9886",
   "metadata": {
    "execution": {
     "iopub.execute_input": "2025-08-23T06:32:05.894764Z",
     "iopub.status.busy": "2025-08-23T06:32:05.894488Z",
     "iopub.status.idle": "2025-08-23T06:32:06.365643Z",
     "shell.execute_reply": "2025-08-23T06:32:06.364815Z"
    },
    "papermill": {
     "duration": 0.475647,
     "end_time": "2025-08-23T06:32:06.367093",
     "exception": false,
     "start_time": "2025-08-23T06:32:05.891446",
     "status": "completed"
    },
    "tags": []
   },
   "outputs": [
    {
     "data": {
      "text/html": [
       "<div>\n",
       "<style scoped>\n",
       "    .dataframe tbody tr th:only-of-type {\n",
       "        vertical-align: middle;\n",
       "    }\n",
       "\n",
       "    .dataframe tbody tr th {\n",
       "        vertical-align: top;\n",
       "    }\n",
       "\n",
       "    .dataframe thead th {\n",
       "        text-align: right;\n",
       "    }\n",
       "</style>\n",
       "<table border=\"1\" class=\"dataframe\">\n",
       "  <thead>\n",
       "    <tr style=\"text-align: right;\">\n",
       "      <th></th>\n",
       "      <th>id</th>\n",
       "      <th>y</th>\n",
       "    </tr>\n",
       "  </thead>\n",
       "  <tbody>\n",
       "    <tr>\n",
       "      <th>0</th>\n",
       "      <td>750000</td>\n",
       "      <td>0.002774</td>\n",
       "    </tr>\n",
       "    <tr>\n",
       "      <th>1</th>\n",
       "      <td>750001</td>\n",
       "      <td>0.140117</td>\n",
       "    </tr>\n",
       "    <tr>\n",
       "      <th>2</th>\n",
       "      <td>750002</td>\n",
       "      <td>0.000262</td>\n",
       "    </tr>\n",
       "    <tr>\n",
       "      <th>3</th>\n",
       "      <td>750003</td>\n",
       "      <td>0.000118</td>\n",
       "    </tr>\n",
       "    <tr>\n",
       "      <th>4</th>\n",
       "      <td>750004</td>\n",
       "      <td>0.011322</td>\n",
       "    </tr>\n",
       "  </tbody>\n",
       "</table>\n",
       "</div>"
      ],
      "text/plain": [
       "       id         y\n",
       "0  750000  0.002774\n",
       "1  750001  0.140117\n",
       "2  750002  0.000262\n",
       "3  750003  0.000118\n",
       "4  750004  0.011322"
      ]
     },
     "execution_count": 7,
     "metadata": {},
     "output_type": "execute_result"
    }
   ],
   "source": [
    "submission = pd.DataFrame({\"id\": test_df[\"id\"], \"y\": sub})\n",
    "submission.to_csv(\"submission.csv\", index=False)\n",
    "submission.head()"
   ]
  }
 ],
 "metadata": {
  "kaggle": {
   "accelerator": "none",
   "dataSources": [
    {
     "databundleVersionId": 12937777,
     "sourceId": 91719,
     "sourceType": "competition"
    },
    {
     "sourceId": 256787443,
     "sourceType": "kernelVersion"
    },
    {
     "sourceId": 257248545,
     "sourceType": "kernelVersion"
    }
   ],
   "dockerImageVersionId": 31089,
   "isGpuEnabled": false,
   "isInternetEnabled": false,
   "language": "python",
   "sourceType": "notebook"
  },
  "kernelspec": {
   "display_name": "Python 3",
   "language": "python",
   "name": "python3"
  },
  "language_info": {
   "codemirror_mode": {
    "name": "ipython",
    "version": 3
   },
   "file_extension": ".py",
   "mimetype": "text/x-python",
   "name": "python",
   "nbconvert_exporter": "python",
   "pygments_lexer": "ipython3",
   "version": "3.11.13"
  },
  "papermill": {
   "default_parameters": {},
   "duration": 9.271418,
   "end_time": "2025-08-23T06:32:06.787215",
   "environment_variables": {},
   "exception": null,
   "input_path": "__notebook__.ipynb",
   "output_path": "__notebook__.ipynb",
   "parameters": {},
   "start_time": "2025-08-23T06:31:57.515797",
   "version": "2.6.0"
  }
 },
 "nbformat": 4,
 "nbformat_minor": 5
}
