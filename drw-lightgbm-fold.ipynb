{
 "cells": [
  {
   "cell_type": "code",
   "execution_count": 1,
   "id": "bdc28965",
   "metadata": {
    "execution": {
     "iopub.execute_input": "2025-06-07T16:48:36.040046Z",
     "iopub.status.busy": "2025-06-07T16:48:36.039648Z",
     "iopub.status.idle": "2025-06-07T16:48:57.766854Z",
     "shell.execute_reply": "2025-06-07T16:48:57.766066Z"
    },
    "papermill": {
     "duration": 21.733376,
     "end_time": "2025-06-07T16:48:57.768398",
     "exception": false,
     "start_time": "2025-06-07T16:48:36.035022",
     "status": "completed"
    },
    "tags": []
   },
   "outputs": [],
   "source": [
    "import os\n",
    "import pickle\n",
    "import polars as pl\n",
    "import numpy as np\n",
    "import pandas as pd\n",
    "import gc\n",
    "import warnings\n",
    "import torch\n",
    "import torch.nn as nn\n",
    "import torch.nn.functional as F\n",
    "from pytorch_lightning import (LightningDataModule, LightningModule, Trainer)\n",
    "from pytorch_lightning.callbacks import EarlyStopping, ModelCheckpoint, Timer\n",
    "from pytorch_lightning.loggers import WandbLogger\n",
    "import lightgbm as lgb\n",
    "from pandas import read_parquet\n",
    "\n",
    "from datetime import datetime\n",
    "from sklearn.metrics import r2_score\n",
    "from sklearn.model_selection import train_test_split\n",
    "from sklearn.base import BaseEstimator, RegressorMixin\n",
    "from torch.utils.data import Dataset, DataLoader\n",
    "import warnings\n",
    "warnings.filterwarnings('ignore')\n",
    "from scipy.stats import pearsonr"
   ]
  },
  {
   "cell_type": "code",
   "execution_count": 2,
   "id": "b9129325",
   "metadata": {
    "execution": {
     "iopub.execute_input": "2025-06-07T16:48:57.776121Z",
     "iopub.status.busy": "2025-06-07T16:48:57.775595Z",
     "iopub.status.idle": "2025-06-07T16:48:57.786274Z",
     "shell.execute_reply": "2025-06-07T16:48:57.785722Z"
    },
    "papermill": {
     "duration": 0.015459,
     "end_time": "2025-06-07T16:48:57.787266",
     "exception": false,
     "start_time": "2025-06-07T16:48:57.771807",
     "status": "completed"
    },
    "tags": []
   },
   "outputs": [],
   "source": [
    "def save_model(model, path):\n",
    "    with open(path, \"wb\") as f:\n",
    "        pickle.dump(model, f)\n",
    "\n",
    "\n",
    "def load_model(path):\n",
    "    with open(path, \"rb\") as f:\n",
    "        model = pickle.load(f)\n",
    "    return model\n",
    "\n",
    "def _pearsonr(y_true, y_pred):\n",
    "    return pearsonr(y_true, y_pred)[0]\n",
    "\n",
    "class VotingModel(BaseEstimator, RegressorMixin):\n",
    "    \"\"\"\n",
    "    A voting ensemble model that averages predictions from multiple estimators.\n",
    "\n",
    "    Parameters:\n",
    "    - estimators: List of estimators to include in the voting ensemble\n",
    "\n",
    "    Methods:\n",
    "    - fit(X, y=None): No training is performed as it's just an aggregator.\n",
    "    - predict(X): Returns the average prediction from all included estimators.\n",
    "    - predict_proba(X): Returns the average class probabilities from all included estimators.\n",
    "    \"\"\"\n",
    "\n",
    "    def __init__(self, estimators):\n",
    "        \"\"\"\n",
    "        Initializes the VotingModel with a list of estimators.\n",
    "\n",
    "        Parameters:\n",
    "        - estimators: List of estimators to include in the voting ensemble\n",
    "        \"\"\"\n",
    "        super().__init__()\n",
    "        self.estimators = estimators\n",
    "\n",
    "    def fit(self, X, y=None):\n",
    "        \"\"\"Fits the voting model (no operation).\"\"\"\n",
    "        return self\n",
    "\n",
    "    def predict(self, X):\n",
    "        \"\"\"Returns the average prediction from all included estimators.\"\"\"\n",
    "        y_preds = [estimator.predict(X) for estimator in self.estimators]\n",
    "        return np.mean(y_preds, axis=0)\n",
    "\n",
    "    def predict_proba(self, X):\n",
    "        \"\"\"Returns the average class probabilities from all included estimators.\"\"\"\n",
    "        y_preds = [estimator.predict_proba(X) for estimator in self.estimators]\n",
    "        return np.mean(y_preds, axis=0)\n",
    "    \n",
    "def reduce_mem_usage(df):\n",
    "    \"\"\"\n",
    "    Optimizes the memory usage of a DataFrame by downcasting numeric columns to smaller data types.\n",
    "\n",
    "    Parameters:\n",
    "    - df: DataFrame to be optimized\n",
    "\n",
    "    Returns:\n",
    "    - df: Optimized DataFrame\n",
    "    \"\"\"\n",
    "\n",
    "    start_mem = df.memory_usage().sum() / 1024**2\n",
    "    print(\"Memory usage of dataframe is {:.2f} MB\".format(start_mem))\n",
    "\n",
    "    for col in df.columns:\n",
    "        col_type = df[col].dtype\n",
    "        if str(col_type) == \"category\":\n",
    "            continue\n",
    "\n",
    "        if col_type != object:\n",
    "            c_min = df[col].min()\n",
    "            c_max = df[col].max()\n",
    "            if str(col_type)[:3] == \"int\":\n",
    "                if c_min > np.iinfo(np.int8).min and c_max < np.iinfo(np.int8).max:\n",
    "                    df[col] = df[col].astype(np.int8)\n",
    "                elif c_min > np.iinfo(np.int16).min and c_max < np.iinfo(np.int16).max:\n",
    "                    df[col] = df[col].astype(np.int16)\n",
    "                elif c_min > np.iinfo(np.int32).min and c_max < np.iinfo(np.int32).max:\n",
    "                    df[col] = df[col].astype(np.int32)\n",
    "                elif c_min > np.iinfo(np.int64).min and c_max < np.iinfo(np.int64).max:\n",
    "                    df[col] = df[col].astype(np.int64)\n",
    "            else:\n",
    "                if (\n",
    "                    c_min > np.finfo(np.float16).min\n",
    "                    and c_max < np.finfo(np.float16).max\n",
    "                ):\n",
    "                    df[col] = df[col].astype(np.float16)\n",
    "                elif (\n",
    "                    c_min > np.finfo(np.float32).min\n",
    "                    and c_max < np.finfo(np.float32).max\n",
    "                ):\n",
    "                    df[col] = df[col].astype(np.float32)\n",
    "                else:\n",
    "                    df[col] = df[col].astype(np.float64)\n",
    "        else:\n",
    "            continue\n",
    "    end_mem = df.memory_usage().sum() / 1024**2\n",
    "    print(\"Memory usage after optimization is: {:.2f} MB\".format(end_mem))\n",
    "    print(\"Decreased by {:.1f}%\".format(100 * (start_mem - end_mem) / start_mem))\n",
    "\n",
    "    return df"
   ]
  },
  {
   "cell_type": "code",
   "execution_count": 3,
   "id": "7068cec9",
   "metadata": {
    "execution": {
     "iopub.execute_input": "2025-06-07T16:48:57.793676Z",
     "iopub.status.busy": "2025-06-07T16:48:57.793492Z",
     "iopub.status.idle": "2025-06-07T16:48:57.801845Z",
     "shell.execute_reply": "2025-06-07T16:48:57.801336Z"
    },
    "papermill": {
     "duration": 0.012666,
     "end_time": "2025-06-07T16:48:57.802747",
     "exception": false,
     "start_time": "2025-06-07T16:48:57.790081",
     "status": "completed"
    },
    "tags": []
   },
   "outputs": [],
   "source": [
    "def feature_engineering(df):\n",
    "    # Create interaction features for df\n",
    "    df['bid_ask_interaction'] = df['bid_qty'] * df['ask_qty']\n",
    "    df['bid_buy_interaction'] = df['bid_qty'] * df['buy_qty']\n",
    "    df['bid_sell_interaction'] = df['bid_qty'] * df['sell_qty']\n",
    "    df['ask_buy_interaction'] = df['ask_qty'] * df['buy_qty']\n",
    "    df['ask_sell_interaction'] = df['ask_qty'] * df['sell_qty']\n",
    "    df['buy_sell_interaction'] = df['buy_qty'] * df['sell_qty']\n",
    "\n",
    "    # Calculate spread indicators for df\n",
    "    df['spread_indicator'] = (df['ask_qty'] - df['bid_qty']) / (df['ask_qty'] + df['bid_qty'] + 1e-8)\n",
    "\n",
    "    # Volume-weighted features for df\n",
    "    df['volume_weighted_buy'] = df['buy_qty'] * df['volume']\n",
    "    df['volume_weighted_sell'] = df['sell_qty'] * df['volume']\n",
    "    df['volume_weighted_bid'] = df['bid_qty'] * df['volume']\n",
    "    df['volume_weighted_ask'] = df['ask_qty'] * df['volume']\n",
    "\n",
    "    # NEW FEATURES - Add ratio features\n",
    "    df['buy_sell_ratio'] = df['buy_qty'] / (df['sell_qty'] + 1e-8)\n",
    "    df['bid_ask_ratio'] = df['bid_qty'] / (df['ask_qty'] + 1e-8)\n",
    "\n",
    "    # NEW FEATURES - Add order flow imbalance\n",
    "    df['order_flow_imbalance'] = (df['buy_qty'] - df['sell_qty']) / (df['volume'] + 1e-8)\n",
    "\n",
    "    # NEW FEATURES - Add market pressure indicators\n",
    "    df['buying_pressure'] = df['buy_qty'] / (df['volume'] + 1e-8)\n",
    "    df['selling_pressure'] = df['sell_qty'] / (df['volume'] + 1e-8)\n",
    "\n",
    "    # ADDITIONAL NEW MARKET FEATURES - Liquidity measures\n",
    "    df['total_liquidity'] = df['bid_qty'] + df['ask_qty']\n",
    "    df['liquidity_imbalance'] = (df['bid_qty'] - df['ask_qty']) / (df['total_liquidity'] + 1e-8)\n",
    "    df['relative_spread'] = (df['ask_qty'] - df['bid_qty']) / (df['volume'] + 1e-8)\n",
    "\n",
    "    # ADDITIONAL NEW MARKET FEATURES - Trade intensity\n",
    "    df['trade_intensity'] = (df['buy_qty'] + df['sell_qty']) / (df['volume'] + 1e-8)\n",
    "    df['avg_trade_size'] = df['volume'] / (df['buy_qty'] + df['sell_qty'] + 1e-8)\n",
    "    df['net_trade_flow'] = (df['buy_qty'] - df['sell_qty']) / (df['buy_qty'] + df['sell_qty'] + 1e-8)\n",
    "\n",
    "    # ADDITIONAL NEW MARKET FEATURES - Market depth and activity\n",
    "    df['depth_ratio'] = df['total_liquidity'] / (df['volume'] + 1e-8)\n",
    "    df['volume_participation'] = (df['buy_qty'] + df['sell_qty']) / (df['total_liquidity'] + 1e-8)\n",
    "    df['market_activity'] = df['volume'] * df['total_liquidity']\n",
    "\n",
    "    # ADDITIONAL NEW MARKET FEATURES - Execution quality indicators\n",
    "    df['effective_spread_proxy'] = np.abs(df['buy_qty'] - df['sell_qty']) / (df['volume'] + 1e-8)\n",
    "    df['realized_volatility_proxy'] = np.abs(df['order_flow_imbalance']) * df['volume']\n",
    "\n",
    "    # ADDITIONAL NEW MARKET FEATURES - Normalized volumes\n",
    "    df['normalized_buy_volume'] = df['buy_qty'] / (df['bid_qty'] + 1e-8)\n",
    "    df['normalized_sell_volume'] = df['sell_qty'] / (df['ask_qty'] + 1e-8)\n",
    "\n",
    "    # ADDITIONAL NEW MARKET FEATURES - Complex interactions\n",
    "    df['liquidity_adjusted_imbalance'] = df['order_flow_imbalance'] * df['depth_ratio']\n",
    "    df['pressure_spread_interaction'] = df['buying_pressure'] * df['spread_indicator']\n",
    "\n",
    "    # Replace any inf or -inf values with NaN, then fill NaN with 0\n",
    "    df = df.replace([np.inf, -np.inf], np.nan)\n",
    "    df = df.fillna(0)\n",
    "    return df "
   ]
  },
  {
   "cell_type": "code",
   "execution_count": 4,
   "id": "f7128b42",
   "metadata": {
    "execution": {
     "iopub.execute_input": "2025-06-07T16:48:57.809132Z",
     "iopub.status.busy": "2025-06-07T16:48:57.808750Z",
     "iopub.status.idle": "2025-06-07T16:49:52.107445Z",
     "shell.execute_reply": "2025-06-07T16:49:52.106627Z"
    },
    "papermill": {
     "duration": 54.303225,
     "end_time": "2025-06-07T16:49:52.108755",
     "exception": false,
     "start_time": "2025-06-07T16:48:57.805530",
     "status": "completed"
    },
    "tags": []
   },
   "outputs": [
    {
     "name": "stdout",
     "output_type": "stream",
     "text": [
      "Memory usage of dataframe is 3598.94 MB\n",
      "Memory usage after optimization is: 965.94 MB\n",
      "Decreased by 73.2%\n",
      "Memory usage of dataframe is 3678.76 MB\n",
      "Memory usage after optimization is: 984.36 MB\n",
      "Decreased by 73.2%\n",
      "CPU times: user 24.4 s, sys: 19 s, total: 43.4 s\n",
      "Wall time: 54.3 s\n"
     ]
    }
   ],
   "source": [
    "%%time\n",
    "path = r'/kaggle/input/drw-crypto-market-prediction/'\n",
    "train = reduce_mem_usage(read_parquet(path+r'train.parquet'))\n",
    "test = reduce_mem_usage(read_parquet(path+r'test.parquet'))"
   ]
  },
  {
   "cell_type": "code",
   "execution_count": 5,
   "id": "1729474a",
   "metadata": {
    "execution": {
     "iopub.execute_input": "2025-06-07T16:49:52.116228Z",
     "iopub.status.busy": "2025-06-07T16:49:52.116006Z",
     "iopub.status.idle": "2025-06-07T16:50:08.545052Z",
     "shell.execute_reply": "2025-06-07T16:50:08.544215Z"
    },
    "papermill": {
     "duration": 16.434055,
     "end_time": "2025-06-07T16:50:08.546262",
     "exception": false,
     "start_time": "2025-06-07T16:49:52.112207",
     "status": "completed"
    },
    "tags": []
   },
   "outputs": [
    {
     "name": "stdout",
     "output_type": "stream",
     "text": [
      "CPU times: user 13.9 s, sys: 2.52 s, total: 16.4 s\n",
      "Wall time: 16.4 s\n"
     ]
    }
   ],
   "source": [
    "%%time\n",
    "train = feature_engineering(train)\n",
    "test = feature_engineering(test)"
   ]
  },
  {
   "cell_type": "code",
   "execution_count": 6,
   "id": "094a6c98",
   "metadata": {
    "execution": {
     "iopub.execute_input": "2025-06-07T16:50:08.553803Z",
     "iopub.status.busy": "2025-06-07T16:50:08.553230Z",
     "iopub.status.idle": "2025-06-07T16:50:08.557026Z",
     "shell.execute_reply": "2025-06-07T16:50:08.556291Z"
    },
    "papermill": {
     "duration": 0.008659,
     "end_time": "2025-06-07T16:50:08.558174",
     "exception": false,
     "start_time": "2025-06-07T16:50:08.549515",
     "status": "completed"
    },
    "tags": []
   },
   "outputs": [],
   "source": [
    "x_feaures = [f\"X{num}\" for num in range(1,890)]"
   ]
  },
  {
   "cell_type": "code",
   "execution_count": 7,
   "id": "488fc3f4",
   "metadata": {
    "execution": {
     "iopub.execute_input": "2025-06-07T16:50:08.565455Z",
     "iopub.status.busy": "2025-06-07T16:50:08.564833Z",
     "iopub.status.idle": "2025-06-07T16:50:08.568640Z",
     "shell.execute_reply": "2025-06-07T16:50:08.568139Z"
    },
    "papermill": {
     "duration": 0.008366,
     "end_time": "2025-06-07T16:50:08.569591",
     "exception": false,
     "start_time": "2025-06-07T16:50:08.561225",
     "status": "completed"
    },
    "tags": []
   },
   "outputs": [],
   "source": [
    "import random\n",
    "random.seed(42)\n",
    "x_feaures = random.sample(train.columns[:-2].tolist(),100)"
   ]
  },
  {
   "cell_type": "code",
   "execution_count": 8,
   "id": "445a5d72",
   "metadata": {
    "execution": {
     "iopub.execute_input": "2025-06-07T16:50:08.576707Z",
     "iopub.status.busy": "2025-06-07T16:50:08.576201Z",
     "iopub.status.idle": "2025-06-07T16:50:08.580099Z",
     "shell.execute_reply": "2025-06-07T16:50:08.579531Z"
    },
    "papermill": {
     "duration": 0.008431,
     "end_time": "2025-06-07T16:50:08.581057",
     "exception": false,
     "start_time": "2025-06-07T16:50:08.572626",
     "status": "completed"
    },
    "tags": []
   },
   "outputs": [],
   "source": [
    "feature_names = [\n",
    "                 'X863',\n",
    "                 'X856',\n",
    "                 'X344',\n",
    "                 'X598',\n",
    "                 'X862',\n",
    "                 'X385',\n",
    "                 'X852',\n",
    "                 'X603',\n",
    "                 'X860',\n",
    "                 'X674',\n",
    "                 'X415',\n",
    "                 'X345',\n",
    "                 'X137',\n",
    "                 'X855',\n",
    "                 'X174',\n",
    "                 'X302',\n",
    "                 'X178',\n",
    "                 'X532',\n",
    "                 'X168',\n",
    "                 'X612',\n",
    "                 'bid_qty',\n",
    "                 'ask_qty',\n",
    "                 'buy_qty',\n",
    "                 'sell_qty',\n",
    "                 'volume',\n",
    "                 'bid_ask_interaction',\n",
    "                 'bid_buy_interaction',\n",
    "                 'bid_sell_interaction',\n",
    "                 'ask_buy_interaction',\n",
    "                 'ask_sell_interaction'\n",
    "                        ]\n",
    "# feature_names = x_feaures\n",
    "# feature_names = feature_names + new_features\n",
    "label_name = 'label'"
   ]
  },
  {
   "cell_type": "code",
   "execution_count": 9,
   "id": "7e9dd465",
   "metadata": {
    "execution": {
     "iopub.execute_input": "2025-06-07T16:50:08.588014Z",
     "iopub.status.busy": "2025-06-07T16:50:08.587606Z",
     "iopub.status.idle": "2025-06-07T16:50:08.641827Z",
     "shell.execute_reply": "2025-06-07T16:50:08.641278Z"
    },
    "papermill": {
     "duration": 0.059073,
     "end_time": "2025-06-07T16:50:08.643174",
     "exception": false,
     "start_time": "2025-06-07T16:50:08.584101",
     "status": "completed"
    },
    "tags": []
   },
   "outputs": [],
   "source": [
    "train.loc['2023-03-01 00:00:00':'2023-05-01 00:00:00','Fold'] =  1\n",
    "train.loc['2023-05-01 00:00:00':'2023-07-01 00:00:00','Fold'] =  2\n",
    "train.loc['2023-07-01 00:00:00':'2023-09-01 00:00:00','Fold'] =  3\n",
    "train.loc['2023-09-01 00:00:00':'2023-11-01 00:00:00','Fold'] =  4\n",
    "train.loc['2023-11-01 00:00:00':'2024-01-01 00:00:00','Fold'] =  5\n",
    "train.loc['2024-01-01 00:00:00':'2024-03-01 00:00:00','Fold'] =  6"
   ]
  },
  {
   "cell_type": "code",
   "execution_count": 10,
   "id": "5bc48cdd",
   "metadata": {
    "execution": {
     "iopub.execute_input": "2025-06-07T16:50:08.650503Z",
     "iopub.status.busy": "2025-06-07T16:50:08.649985Z",
     "iopub.status.idle": "2025-06-07T16:50:08.653762Z",
     "shell.execute_reply": "2025-06-07T16:50:08.653246Z"
    },
    "papermill": {
     "duration": 0.008358,
     "end_time": "2025-06-07T16:50:08.654726",
     "exception": false,
     "start_time": "2025-06-07T16:50:08.646368",
     "status": "completed"
    },
    "tags": []
   },
   "outputs": [],
   "source": [
    "def create_time_weights(n_samples, decay_factor=0.95):\n",
    "    \"\"\"\n",
    "    Create exponentially decaying weights based on sample position.\n",
    "    More recent samples (higher indices) get higher weights.\n",
    "    decay_factor controls the rate of decay (0.95 = 5% decay per time unit)\n",
    "    \"\"\"\n",
    "    positions = np.arange(n_samples)\n",
    "    # Normalize positions to [0, 1] range\n",
    "    normalized_positions = positions / (n_samples - 1)\n",
    "    # Apply exponential weighting\n",
    "    weights = decay_factor ** (1 - normalized_positions)\n",
    "    # Normalize weights to sum to n_samples (maintains scale)\n",
    "    weights = weights * n_samples / weights.sum()\n",
    "    return weights"
   ]
  },
  {
   "cell_type": "code",
   "execution_count": 11,
   "id": "a96fd2cc",
   "metadata": {
    "execution": {
     "iopub.execute_input": "2025-06-07T16:50:08.661199Z",
     "iopub.status.busy": "2025-06-07T16:50:08.661017Z",
     "iopub.status.idle": "2025-06-07T16:50:08.719084Z",
     "shell.execute_reply": "2025-06-07T16:50:08.718362Z"
    },
    "papermill": {
     "duration": 0.062703,
     "end_time": "2025-06-07T16:50:08.720337",
     "exception": false,
     "start_time": "2025-06-07T16:50:08.657634",
     "status": "completed"
    },
    "tags": []
   },
   "outputs": [],
   "source": [
    "train['weight'] = create_time_weights(len(train), decay_factor=0.95)"
   ]
  },
  {
   "cell_type": "code",
   "execution_count": 12,
   "id": "7ec80de6",
   "metadata": {
    "execution": {
     "iopub.execute_input": "2025-06-07T16:50:08.728699Z",
     "iopub.status.busy": "2025-06-07T16:50:08.728410Z",
     "iopub.status.idle": "2025-06-07T16:50:08.731562Z",
     "shell.execute_reply": "2025-06-07T16:50:08.731088Z"
    },
    "papermill": {
     "duration": 0.008441,
     "end_time": "2025-06-07T16:50:08.732593",
     "exception": false,
     "start_time": "2025-06-07T16:50:08.724152",
     "status": "completed"
    },
    "tags": []
   },
   "outputs": [],
   "source": [
    "def pearsonr_coeff(preds, data):\n",
    "    y_true = data.get_label()\n",
    "    # weights = data.get_weight()\n",
    "    valid_score = _pearsonr(y_true, preds)\n",
    "    return 'pearsonr_coeff_score',valid_score,True"
   ]
  },
  {
   "cell_type": "code",
   "execution_count": 13,
   "id": "fae3b347",
   "metadata": {
    "execution": {
     "iopub.execute_input": "2025-06-07T16:50:08.739500Z",
     "iopub.status.busy": "2025-06-07T16:50:08.739304Z",
     "iopub.status.idle": "2025-06-07T16:50:08.743329Z",
     "shell.execute_reply": "2025-06-07T16:50:08.742817Z"
    },
    "papermill": {
     "duration": 0.008459,
     "end_time": "2025-06-07T16:50:08.744329",
     "exception": false,
     "start_time": "2025-06-07T16:50:08.735870",
     "status": "completed"
    },
    "tags": []
   },
   "outputs": [],
   "source": [
    " # 训练模型\n",
    "def TrainModel(train_data, valid_data, lgb_params):\n",
    "    print(\"Training Model...\")\n",
    "    model = lgb.train(lgb_params,\n",
    "                        train_data,\n",
    "                        num_boost_round=150,\n",
    "                        valid_sets=[valid_data],\n",
    "                        feval=pearsonr_coeff,\n",
    "                        callbacks=[\n",
    "                        # lgb.callback.early_stopping(stopping_rounds=300),\n",
    "                        lgb.callback.log_evaluation(period=50)]\n",
    "                        )\n",
    "\n",
    "    valid_pred = model.predict(valid_data.get_data())\n",
    "    valid_score = _pearsonr(valid_data.get_label(),valid_pred)\n",
    "    print(\"Valid Score:\", valid_score)\n",
    "    return model,valid_score"
   ]
  },
  {
   "cell_type": "code",
   "execution_count": 14,
   "id": "5396f569",
   "metadata": {
    "execution": {
     "iopub.execute_input": "2025-06-07T16:50:08.750957Z",
     "iopub.status.busy": "2025-06-07T16:50:08.750706Z",
     "iopub.status.idle": "2025-06-07T16:51:10.886114Z",
     "shell.execute_reply": "2025-06-07T16:51:10.885262Z"
    },
    "papermill": {
     "duration": 62.140058,
     "end_time": "2025-06-07T16:51:10.887381",
     "exception": false,
     "start_time": "2025-06-07T16:50:08.747323",
     "status": "completed"
    },
    "tags": []
   },
   "outputs": [
    {
     "name": "stdout",
     "output_type": "stream",
     "text": [
      "train time 2023-05-01 00:00:00,2024-02-29 23:59:00\n",
      "valid time 2024-01-01 00:00:00,2024-02-29 23:59:00\n",
      "Training Model...\n",
      "[LightGBM] [Info] This is the GPU trainer!!\n",
      "[LightGBM] [Info] Total Bins 7650\n",
      "[LightGBM] [Info] Number of data points in the train set: 438197, number of used features: 30\n",
      "[LightGBM] [Info] Using GPU Device: Tesla P100-PCIE-16GB, Vendor: NVIDIA Corporation\n",
      "[LightGBM] [Info] Compiling OpenCL Kernel with 256 bins...\n"
     ]
    },
    {
     "name": "stderr",
     "output_type": "stream",
     "text": [
      "1 warning generated.\n",
      "1 warning generated.\n",
      "1 warning generated.\n",
      "1 warning generated.\n",
      "1 warning generated.\n",
      "1 warning generated.\n",
      "1 warning generated.\n",
      "1 warning generated.\n",
      "1 warning generated.\n",
      "1 warning generated.\n",
      "1 warning generated.\n",
      "1 warning generated.\n",
      "1 warning generated.\n",
      "1 warning generated.\n",
      "1 warning generated.\n",
      "1 warning generated.\n",
      "1 warning generated.\n",
      "1 warning generated.\n",
      "1 warning generated.\n",
      "1 warning generated.\n",
      "1 warning generated.\n",
      "1 warning generated.\n",
      "1 warning generated.\n",
      "1 warning generated.\n",
      "1 warning generated.\n",
      "1 warning generated.\n",
      "1 warning generated.\n",
      "1 warning generated.\n",
      "1 warning generated.\n",
      "1 warning generated.\n",
      "1 warning generated.\n",
      "1 warning generated.\n",
      "1 warning generated.\n"
     ]
    },
    {
     "name": "stdout",
     "output_type": "stream",
     "text": [
      "[LightGBM] [Info] GPU programs have been built\n",
      "[LightGBM] [Info] Size of histogram bin entry: 8\n",
      "[LightGBM] [Info] 30 dense feature groups (13.37 MB) transferred to GPU in 0.015176 secs. 0 sparse feature groups\n",
      "[LightGBM] [Info] Start training from score 0.038103\n",
      "[50]\tvalid_0's l1: 0.653924\tvalid_0's pearsonr_coeff_score: 0.654242\n",
      "[100]\tvalid_0's l1: 0.617143\tvalid_0's pearsonr_coeff_score: 0.704325\n",
      "[150]\tvalid_0's l1: 0.586554\tvalid_0's pearsonr_coeff_score: 0.740333\n",
      "Valid Score: 0.740332778128879\n",
      "train time 2023-03-01 00:00:00,2024-02-29 23:59:00\n",
      "valid time 2024-01-01 00:00:00,2024-02-29 23:59:00\n",
      "Training Model...\n",
      "[LightGBM] [Info] This is the GPU trainer!!\n",
      "[LightGBM] [Info] Total Bins 7650\n",
      "[LightGBM] [Info] Number of data points in the train set: 438049, number of used features: 30\n",
      "[LightGBM] [Info] Using GPU Device: Tesla P100-PCIE-16GB, Vendor: NVIDIA Corporation\n",
      "[LightGBM] [Info] Compiling OpenCL Kernel with 256 bins...\n",
      "[LightGBM] [Info] GPU programs have been built\n",
      "[LightGBM] [Info] Size of histogram bin entry: 8\n",
      "[LightGBM] [Info] 30 dense feature groups (13.37 MB) transferred to GPU in 0.014873 secs. 0 sparse feature groups\n",
      "[LightGBM] [Info] Start training from score 0.041243\n",
      "[50]\tvalid_0's l1: 0.658821\tvalid_0's pearsonr_coeff_score: 0.630119\n",
      "[100]\tvalid_0's l1: 0.622895\tvalid_0's pearsonr_coeff_score: 0.685328\n",
      "[150]\tvalid_0's l1: 0.59205\tvalid_0's pearsonr_coeff_score: 0.730274\n",
      "Valid Score: 0.730274002345719\n",
      "train time 2023-03-01 00:00:00,2024-02-29 23:59:00\n",
      "valid time 2024-01-01 00:00:00,2024-02-29 23:59:00\n",
      "Training Model...\n",
      "[LightGBM] [Info] This is the GPU trainer!!\n",
      "[LightGBM] [Info] Total Bins 7650\n",
      "[LightGBM] [Info] Number of data points in the train set: 436956, number of used features: 30\n",
      "[LightGBM] [Info] Using GPU Device: Tesla P100-PCIE-16GB, Vendor: NVIDIA Corporation\n",
      "[LightGBM] [Info] Compiling OpenCL Kernel with 256 bins...\n",
      "[LightGBM] [Info] GPU programs have been built\n",
      "[LightGBM] [Info] Size of histogram bin entry: 8\n",
      "[LightGBM] [Info] 30 dense feature groups (13.33 MB) transferred to GPU in 0.014815 secs. 0 sparse feature groups\n",
      "[LightGBM] [Info] Start training from score 0.053090\n",
      "[50]\tvalid_0's l1: 0.6575\tvalid_0's pearsonr_coeff_score: 0.629024\n",
      "[100]\tvalid_0's l1: 0.622745\tvalid_0's pearsonr_coeff_score: 0.685446\n",
      "[150]\tvalid_0's l1: 0.592503\tvalid_0's pearsonr_coeff_score: 0.728332\n",
      "Valid Score: 0.7283324109091782\n",
      "train time 2023-03-01 00:00:00,2024-02-29 23:59:00\n",
      "valid time 2024-01-01 00:00:00,2024-02-29 23:59:00\n",
      "Training Model...\n",
      "[LightGBM] [Info] This is the GPU trainer!!\n",
      "[LightGBM] [Info] Total Bins 7650\n",
      "[LightGBM] [Info] Number of data points in the train set: 438396, number of used features: 30\n",
      "[LightGBM] [Info] Using GPU Device: Tesla P100-PCIE-16GB, Vendor: NVIDIA Corporation\n",
      "[LightGBM] [Info] Compiling OpenCL Kernel with 256 bins...\n",
      "[LightGBM] [Info] GPU programs have been built\n",
      "[LightGBM] [Info] Size of histogram bin entry: 8\n",
      "[LightGBM] [Info] 30 dense feature groups (13.38 MB) transferred to GPU in 0.014684 secs. 0 sparse feature groups\n",
      "[LightGBM] [Info] Start training from score 0.028469\n",
      "[50]\tvalid_0's l1: 0.658167\tvalid_0's pearsonr_coeff_score: 0.632997\n",
      "[100]\tvalid_0's l1: 0.621616\tvalid_0's pearsonr_coeff_score: 0.69241\n",
      "[150]\tvalid_0's l1: 0.590896\tvalid_0's pearsonr_coeff_score: 0.732335\n",
      "Valid Score: 0.7323353821185612\n",
      "train time 2023-03-01 00:00:00,2024-02-29 23:59:00\n",
      "valid time 2024-01-01 00:00:00,2024-02-29 23:59:00\n",
      "Training Model...\n",
      "[LightGBM] [Info] This is the GPU trainer!!\n",
      "[LightGBM] [Info] Total Bins 7650\n",
      "[LightGBM] [Info] Number of data points in the train set: 438169, number of used features: 30\n",
      "[LightGBM] [Info] Using GPU Device: Tesla P100-PCIE-16GB, Vendor: NVIDIA Corporation\n",
      "[LightGBM] [Info] Compiling OpenCL Kernel with 256 bins...\n",
      "[LightGBM] [Info] GPU programs have been built\n",
      "[LightGBM] [Info] Size of histogram bin entry: 8\n",
      "[LightGBM] [Info] 30 dense feature groups (13.37 MB) transferred to GPU in 0.015529 secs. 0 sparse feature groups\n",
      "[LightGBM] [Info] Start training from score 0.033408\n",
      "[50]\tvalid_0's l1: 0.65481\tvalid_0's pearsonr_coeff_score: 0.63136\n",
      "[100]\tvalid_0's l1: 0.619339\tvalid_0's pearsonr_coeff_score: 0.684396\n",
      "[150]\tvalid_0's l1: 0.589033\tvalid_0's pearsonr_coeff_score: 0.728355\n",
      "Valid Score: 0.728355217312711\n",
      "Average score is 0.7319259581630096\n"
     ]
    }
   ],
   "source": [
    "import xgboost as xgb\n",
    "models = []\n",
    "valid_scores = []\n",
    "for fold in range(1,6):\n",
    "    X_train = train[(train['Fold']!=fold)][ feature_names ]\n",
    "    w_train = train[(train['Fold']!=fold)][ 'weight' ]\n",
    "    X_valid = train[train['Fold']==6][ feature_names ]\n",
    "    w_valid = train[train['Fold']==6][ 'weight' ]\n",
    "    y_train = train[(train['Fold']!=fold)][ label_name ]\n",
    "    y_valid = train[train['Fold']==6][ label_name ]\n",
    "\n",
    "\n",
    "    train_data = lgb.Dataset(X_train, label=y_train, weight=w_train,free_raw_data=False).construct()\n",
    "    valid_data = lgb.Dataset(X_valid, label=y_valid, weight=w_valid,reference=train_data, free_raw_data=False).construct()\n",
    "    print(f'train time {X_train.index.min()},{X_train.index.max()}')\n",
    "    print(f'valid time {X_valid.index.min()},{X_valid.index.max()}')\n",
    "\n",
    "    lgb_params = {\n",
    "            \"boosting_type\": \"gbdt\",\n",
    "            \"objective\": \"regression\",       # 回归任务\n",
    "            \"metric\": \"mae\",                 # 使用 MAE 作为评估指标\n",
    "            \"colsample_bytree\": 0.55,\n",
    "            \"learning_rate\": 0.021,\n",
    "            \"min_child_samples\": 32,\n",
    "            \"min_child_weight\": 0.15,\n",
    "            'max_depth':-1,\n",
    "            \"n_jobs\": -1,\n",
    "            \"num_leaves\":64,\n",
    "            \"random_state\": 42,\n",
    "            \"reg_alpha\": 80,\n",
    "            \"reg_lambda\": 100,\n",
    "            \"subsample\": 0.85,\n",
    "            \"verbosity\": 1,  \n",
    "            \"device\": \"gpu\",                 # 使用 GPU 加速\n",
    "            # \"max_bin\":1024\n",
    "            }\n",
    "\n",
    "    model,valid_score = TrainModel(train_data,valid_data,lgb_params)\n",
    "\n",
    "    models.append(model)\n",
    "    valid_scores.append(valid_score)\n",
    "print(f'Average score is {np.mean(valid_scores)}')"
   ]
  },
  {
   "cell_type": "code",
   "execution_count": 15,
   "id": "81a973c9",
   "metadata": {
    "execution": {
     "iopub.execute_input": "2025-06-07T16:51:10.899609Z",
     "iopub.status.busy": "2025-06-07T16:51:10.899389Z",
     "iopub.status.idle": "2025-06-07T16:51:32.321632Z",
     "shell.execute_reply": "2025-06-07T16:51:32.320863Z"
    },
    "papermill": {
     "duration": 21.429365,
     "end_time": "2025-06-07T16:51:32.323038",
     "exception": false,
     "start_time": "2025-06-07T16:51:10.893673",
     "status": "completed"
    },
    "tags": []
   },
   "outputs": [],
   "source": [
    "lgbm = VotingModel(models)\n",
    "submission = pd.read_csv(path+r'sample_submission.csv')\n",
    "submission['prediction'] = lgbm.predict(test[feature_names])\n",
    "submission.to_csv(r'submission.csv',index=False)"
   ]
  },
  {
   "cell_type": "code",
   "execution_count": null,
   "id": "01b62f1d",
   "metadata": {
    "papermill": {
     "duration": 0.004638,
     "end_time": "2025-06-07T16:51:32.332783",
     "exception": false,
     "start_time": "2025-06-07T16:51:32.328145",
     "status": "completed"
    },
    "tags": []
   },
   "outputs": [],
   "source": []
  },
  {
   "cell_type": "code",
   "execution_count": null,
   "id": "8a611a68",
   "metadata": {
    "papermill": {
     "duration": 0.004435,
     "end_time": "2025-06-07T16:51:32.342054",
     "exception": false,
     "start_time": "2025-06-07T16:51:32.337619",
     "status": "completed"
    },
    "tags": []
   },
   "outputs": [],
   "source": []
  },
  {
   "cell_type": "code",
   "execution_count": null,
   "id": "956c9fde",
   "metadata": {
    "papermill": {
     "duration": 0.0044,
     "end_time": "2025-06-07T16:51:32.350932",
     "exception": false,
     "start_time": "2025-06-07T16:51:32.346532",
     "status": "completed"
    },
    "tags": []
   },
   "outputs": [],
   "source": []
  },
  {
   "cell_type": "code",
   "execution_count": null,
   "id": "25b17c2e",
   "metadata": {
    "papermill": {
     "duration": 0.004436,
     "end_time": "2025-06-07T16:51:32.359869",
     "exception": false,
     "start_time": "2025-06-07T16:51:32.355433",
     "status": "completed"
    },
    "tags": []
   },
   "outputs": [],
   "source": []
  }
 ],
 "metadata": {
  "kaggle": {
   "accelerator": "gpu",
   "dataSources": [
    {
     "databundleVersionId": 11418275,
     "sourceId": 96164,
     "sourceType": "competition"
    }
   ],
   "dockerImageVersionId": 31041,
   "isGpuEnabled": true,
   "isInternetEnabled": true,
   "language": "python",
   "sourceType": "notebook"
  },
  "kernelspec": {
   "display_name": "Python 3",
   "language": "python",
   "name": "python3"
  },
  "language_info": {
   "codemirror_mode": {
    "name": "ipython",
    "version": 3
   },
   "file_extension": ".py",
   "mimetype": "text/x-python",
   "name": "python",
   "nbconvert_exporter": "python",
   "pygments_lexer": "ipython3",
   "version": "3.11.11"
  },
  "papermill": {
   "default_parameters": {},
   "duration": 184.319901,
   "end_time": "2025-06-07T16:51:36.277526",
   "environment_variables": {},
   "exception": null,
   "input_path": "__notebook__.ipynb",
   "output_path": "__notebook__.ipynb",
   "parameters": {},
   "start_time": "2025-06-07T16:48:31.957625",
   "version": "2.6.0"
  }
 },
 "nbformat": 4,
 "nbformat_minor": 5
}
