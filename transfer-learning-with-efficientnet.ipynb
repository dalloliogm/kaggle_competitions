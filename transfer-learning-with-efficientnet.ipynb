{
 "cells": [
  {
   "cell_type": "code",
   "execution_count": 1,
   "id": "a4762c82",
   "metadata": {
    "_cell_guid": "3ebf222f-8281-4aa9-9740-00854c049624",
    "_uuid": "f39a580a-613e-464d-bd30-100ad9f4c555",
    "collapsed": false,
    "execution": {
     "iopub.execute_input": "2025-05-08T08:15:56.648674Z",
     "iopub.status.busy": "2025-05-08T08:15:56.648389Z",
     "iopub.status.idle": "2025-05-08T08:16:06.983426Z",
     "shell.execute_reply": "2025-05-08T08:16:06.982513Z"
    },
    "jupyter": {
     "outputs_hidden": false
    },
    "papermill": {
     "duration": 10.341499,
     "end_time": "2025-05-08T08:16:06.985049",
     "exception": false,
     "start_time": "2025-05-08T08:15:56.643550",
     "status": "completed"
    },
    "tags": []
   },
   "outputs": [],
   "source": [
    "import h5py\n",
    "import numpy as np\n",
    "from scipy.stats import spearmanr\n",
    "import matplotlib.pyplot as plt\n",
    "import random\n",
    "from tqdm import tqdm\n",
    "import torch\n",
    "import torch.nn as nn\n",
    "import torch.nn.functional as F\n",
    "import torchvision.models as models\n",
    "import os\n",
    "from torchvision import transforms\n",
    "from torchsummary import summary\n",
    "from torch.utils.data import Dataset, DataLoader, random_split\n",
    "from torch.optim import lr_scheduler, SGD\n",
    "import time\n",
    "from tempfile import TemporaryDirectory\n",
    "import pandas as pd"
   ]
  },
  {
   "cell_type": "code",
   "execution_count": 2,
   "id": "5322ceb5",
   "metadata": {
    "_cell_guid": "feb5296f-c586-4aca-8eff-12186bc56445",
    "_uuid": "1eff164c-8d6b-41fe-a894-0f7dd4509021",
    "collapsed": false,
    "execution": {
     "iopub.execute_input": "2025-05-08T08:16:06.992771Z",
     "iopub.status.busy": "2025-05-08T08:16:06.992346Z",
     "iopub.status.idle": "2025-05-08T08:16:07.092424Z",
     "shell.execute_reply": "2025-05-08T08:16:07.091604Z"
    },
    "jupyter": {
     "outputs_hidden": false
    },
    "papermill": {
     "duration": 0.105052,
     "end_time": "2025-05-08T08:16:07.093726",
     "exception": false,
     "start_time": "2025-05-08T08:16:06.988674",
     "status": "completed"
    },
    "tags": []
   },
   "outputs": [
    {
     "data": {
      "text/html": [
       "<div>\n",
       "<style scoped>\n",
       "    .dataframe tbody tr th:only-of-type {\n",
       "        vertical-align: middle;\n",
       "    }\n",
       "\n",
       "    .dataframe tbody tr th {\n",
       "        vertical-align: top;\n",
       "    }\n",
       "\n",
       "    .dataframe thead th {\n",
       "        text-align: right;\n",
       "    }\n",
       "</style>\n",
       "<table border=\"1\" class=\"dataframe\">\n",
       "  <thead>\n",
       "    <tr style=\"text-align: right;\">\n",
       "      <th></th>\n",
       "      <th>x</th>\n",
       "      <th>y</th>\n",
       "      <th>C1</th>\n",
       "      <th>C2</th>\n",
       "      <th>C3</th>\n",
       "      <th>C4</th>\n",
       "      <th>C5</th>\n",
       "      <th>C6</th>\n",
       "      <th>C7</th>\n",
       "      <th>C8</th>\n",
       "      <th>...</th>\n",
       "      <th>C26</th>\n",
       "      <th>C27</th>\n",
       "      <th>C28</th>\n",
       "      <th>C29</th>\n",
       "      <th>C30</th>\n",
       "      <th>C31</th>\n",
       "      <th>C32</th>\n",
       "      <th>C33</th>\n",
       "      <th>C34</th>\n",
       "      <th>C35</th>\n",
       "    </tr>\n",
       "  </thead>\n",
       "  <tbody>\n",
       "    <tr>\n",
       "      <th>0</th>\n",
       "      <td>1554</td>\n",
       "      <td>1297</td>\n",
       "      <td>0.014401</td>\n",
       "      <td>0.057499</td>\n",
       "      <td>0.022033</td>\n",
       "      <td>0.001704</td>\n",
       "      <td>0.533992</td>\n",
       "      <td>1.511707</td>\n",
       "      <td>0.015313</td>\n",
       "      <td>0.020029</td>\n",
       "      <td>...</td>\n",
       "      <td>1.009572e-03</td>\n",
       "      <td>2.068237</td>\n",
       "      <td>0.121361</td>\n",
       "      <td>0.007344</td>\n",
       "      <td>0.000017</td>\n",
       "      <td>0.036891</td>\n",
       "      <td>0.035934</td>\n",
       "      <td>0.118937</td>\n",
       "      <td>0.001472</td>\n",
       "      <td>0.050057</td>\n",
       "    </tr>\n",
       "    <tr>\n",
       "      <th>1</th>\n",
       "      <td>462</td>\n",
       "      <td>1502</td>\n",
       "      <td>0.116196</td>\n",
       "      <td>0.197176</td>\n",
       "      <td>0.110600</td>\n",
       "      <td>0.042614</td>\n",
       "      <td>5.587681</td>\n",
       "      <td>0.006885</td>\n",
       "      <td>0.096346</td>\n",
       "      <td>0.001711</td>\n",
       "      <td>...</td>\n",
       "      <td>6.918171e-04</td>\n",
       "      <td>0.014442</td>\n",
       "      <td>0.000238</td>\n",
       "      <td>0.024071</td>\n",
       "      <td>0.000023</td>\n",
       "      <td>0.217589</td>\n",
       "      <td>0.100662</td>\n",
       "      <td>0.004027</td>\n",
       "      <td>0.004122</td>\n",
       "      <td>0.049491</td>\n",
       "    </tr>\n",
       "    <tr>\n",
       "      <th>2</th>\n",
       "      <td>1488</td>\n",
       "      <td>1548</td>\n",
       "      <td>0.133284</td>\n",
       "      <td>0.035880</td>\n",
       "      <td>0.061352</td>\n",
       "      <td>0.003073</td>\n",
       "      <td>1.104479</td>\n",
       "      <td>0.009174</td>\n",
       "      <td>0.009175</td>\n",
       "      <td>0.000114</td>\n",
       "      <td>...</td>\n",
       "      <td>9.577447e-05</td>\n",
       "      <td>0.149792</td>\n",
       "      <td>0.001401</td>\n",
       "      <td>0.000699</td>\n",
       "      <td>0.000009</td>\n",
       "      <td>0.024491</td>\n",
       "      <td>0.018810</td>\n",
       "      <td>0.004171</td>\n",
       "      <td>0.000425</td>\n",
       "      <td>0.015348</td>\n",
       "    </tr>\n",
       "    <tr>\n",
       "      <th>3</th>\n",
       "      <td>1725</td>\n",
       "      <td>1182</td>\n",
       "      <td>0.087715</td>\n",
       "      <td>0.235223</td>\n",
       "      <td>0.090382</td>\n",
       "      <td>0.013902</td>\n",
       "      <td>8.760482</td>\n",
       "      <td>0.140912</td>\n",
       "      <td>0.188859</td>\n",
       "      <td>0.010154</td>\n",
       "      <td>...</td>\n",
       "      <td>1.964150e-03</td>\n",
       "      <td>0.142549</td>\n",
       "      <td>0.002036</td>\n",
       "      <td>0.047165</td>\n",
       "      <td>0.000022</td>\n",
       "      <td>0.180372</td>\n",
       "      <td>0.202981</td>\n",
       "      <td>0.003709</td>\n",
       "      <td>0.001845</td>\n",
       "      <td>0.116022</td>\n",
       "    </tr>\n",
       "    <tr>\n",
       "      <th>4</th>\n",
       "      <td>581</td>\n",
       "      <td>1113</td>\n",
       "      <td>0.128468</td>\n",
       "      <td>0.066399</td>\n",
       "      <td>0.098982</td>\n",
       "      <td>0.047022</td>\n",
       "      <td>3.425771</td>\n",
       "      <td>0.001009</td>\n",
       "      <td>0.026881</td>\n",
       "      <td>0.000468</td>\n",
       "      <td>...</td>\n",
       "      <td>7.189078e-05</td>\n",
       "      <td>0.005920</td>\n",
       "      <td>0.000048</td>\n",
       "      <td>0.006359</td>\n",
       "      <td>0.000585</td>\n",
       "      <td>0.052661</td>\n",
       "      <td>0.032168</td>\n",
       "      <td>0.000107</td>\n",
       "      <td>0.000107</td>\n",
       "      <td>0.013103</td>\n",
       "    </tr>\n",
       "    <tr>\n",
       "      <th>...</th>\n",
       "      <td>...</td>\n",
       "      <td>...</td>\n",
       "      <td>...</td>\n",
       "      <td>...</td>\n",
       "      <td>...</td>\n",
       "      <td>...</td>\n",
       "      <td>...</td>\n",
       "      <td>...</td>\n",
       "      <td>...</td>\n",
       "      <td>...</td>\n",
       "      <td>...</td>\n",
       "      <td>...</td>\n",
       "      <td>...</td>\n",
       "      <td>...</td>\n",
       "      <td>...</td>\n",
       "      <td>...</td>\n",
       "      <td>...</td>\n",
       "      <td>...</td>\n",
       "      <td>...</td>\n",
       "      <td>...</td>\n",
       "      <td>...</td>\n",
       "    </tr>\n",
       "    <tr>\n",
       "      <th>2192</th>\n",
       "      <td>1055</td>\n",
       "      <td>701</td>\n",
       "      <td>0.047236</td>\n",
       "      <td>0.112721</td>\n",
       "      <td>0.052490</td>\n",
       "      <td>0.002092</td>\n",
       "      <td>0.000913</td>\n",
       "      <td>0.393805</td>\n",
       "      <td>0.045220</td>\n",
       "      <td>0.013414</td>\n",
       "      <td>...</td>\n",
       "      <td>7.530558e-03</td>\n",
       "      <td>0.559967</td>\n",
       "      <td>0.154793</td>\n",
       "      <td>0.133587</td>\n",
       "      <td>0.000013</td>\n",
       "      <td>0.051041</td>\n",
       "      <td>0.113100</td>\n",
       "      <td>0.003147</td>\n",
       "      <td>0.004971</td>\n",
       "      <td>0.128265</td>\n",
       "    </tr>\n",
       "    <tr>\n",
       "      <th>2193</th>\n",
       "      <td>1225</td>\n",
       "      <td>862</td>\n",
       "      <td>0.070764</td>\n",
       "      <td>0.119310</td>\n",
       "      <td>0.193938</td>\n",
       "      <td>0.001239</td>\n",
       "      <td>0.003851</td>\n",
       "      <td>0.588956</td>\n",
       "      <td>0.037731</td>\n",
       "      <td>0.004072</td>\n",
       "      <td>...</td>\n",
       "      <td>3.219223e-02</td>\n",
       "      <td>0.667076</td>\n",
       "      <td>0.094247</td>\n",
       "      <td>0.136623</td>\n",
       "      <td>0.000009</td>\n",
       "      <td>0.050518</td>\n",
       "      <td>0.119685</td>\n",
       "      <td>0.027743</td>\n",
       "      <td>0.016413</td>\n",
       "      <td>0.287171</td>\n",
       "    </tr>\n",
       "    <tr>\n",
       "      <th>2194</th>\n",
       "      <td>765</td>\n",
       "      <td>1479</td>\n",
       "      <td>0.194491</td>\n",
       "      <td>0.048068</td>\n",
       "      <td>0.150061</td>\n",
       "      <td>0.002978</td>\n",
       "      <td>0.119206</td>\n",
       "      <td>0.000213</td>\n",
       "      <td>0.005332</td>\n",
       "      <td>0.000078</td>\n",
       "      <td>...</td>\n",
       "      <td>2.628421e-04</td>\n",
       "      <td>0.000273</td>\n",
       "      <td>0.000022</td>\n",
       "      <td>0.000027</td>\n",
       "      <td>0.000042</td>\n",
       "      <td>0.029386</td>\n",
       "      <td>0.019977</td>\n",
       "      <td>0.000039</td>\n",
       "      <td>0.000119</td>\n",
       "      <td>0.006778</td>\n",
       "    </tr>\n",
       "    <tr>\n",
       "      <th>2195</th>\n",
       "      <td>607</td>\n",
       "      <td>1525</td>\n",
       "      <td>0.002968</td>\n",
       "      <td>0.151899</td>\n",
       "      <td>0.015931</td>\n",
       "      <td>0.000071</td>\n",
       "      <td>1.354983</td>\n",
       "      <td>0.000152</td>\n",
       "      <td>0.019254</td>\n",
       "      <td>0.001267</td>\n",
       "      <td>...</td>\n",
       "      <td>1.377452e-03</td>\n",
       "      <td>0.003754</td>\n",
       "      <td>0.001420</td>\n",
       "      <td>0.088000</td>\n",
       "      <td>0.000536</td>\n",
       "      <td>0.073240</td>\n",
       "      <td>0.113631</td>\n",
       "      <td>0.009040</td>\n",
       "      <td>0.000090</td>\n",
       "      <td>0.025716</td>\n",
       "    </tr>\n",
       "    <tr>\n",
       "      <th>2196</th>\n",
       "      <td>568</td>\n",
       "      <td>1181</td>\n",
       "      <td>0.000232</td>\n",
       "      <td>0.004759</td>\n",
       "      <td>0.001376</td>\n",
       "      <td>0.003225</td>\n",
       "      <td>0.874639</td>\n",
       "      <td>0.000026</td>\n",
       "      <td>0.003913</td>\n",
       "      <td>0.000003</td>\n",
       "      <td>...</td>\n",
       "      <td>8.989834e-07</td>\n",
       "      <td>0.001573</td>\n",
       "      <td>0.000002</td>\n",
       "      <td>0.000239</td>\n",
       "      <td>0.003375</td>\n",
       "      <td>0.002501</td>\n",
       "      <td>0.001325</td>\n",
       "      <td>0.000003</td>\n",
       "      <td>0.000001</td>\n",
       "      <td>0.000468</td>\n",
       "    </tr>\n",
       "  </tbody>\n",
       "</table>\n",
       "<p>2197 rows × 37 columns</p>\n",
       "</div>"
      ],
      "text/plain": [
       "         x     y        C1        C2        C3        C4        C5        C6  \\\n",
       "0     1554  1297  0.014401  0.057499  0.022033  0.001704  0.533992  1.511707   \n",
       "1      462  1502  0.116196  0.197176  0.110600  0.042614  5.587681  0.006885   \n",
       "2     1488  1548  0.133284  0.035880  0.061352  0.003073  1.104479  0.009174   \n",
       "3     1725  1182  0.087715  0.235223  0.090382  0.013902  8.760482  0.140912   \n",
       "4      581  1113  0.128468  0.066399  0.098982  0.047022  3.425771  0.001009   \n",
       "...    ...   ...       ...       ...       ...       ...       ...       ...   \n",
       "2192  1055   701  0.047236  0.112721  0.052490  0.002092  0.000913  0.393805   \n",
       "2193  1225   862  0.070764  0.119310  0.193938  0.001239  0.003851  0.588956   \n",
       "2194   765  1479  0.194491  0.048068  0.150061  0.002978  0.119206  0.000213   \n",
       "2195   607  1525  0.002968  0.151899  0.015931  0.000071  1.354983  0.000152   \n",
       "2196   568  1181  0.000232  0.004759  0.001376  0.003225  0.874639  0.000026   \n",
       "\n",
       "            C7        C8  ...           C26       C27       C28       C29  \\\n",
       "0     0.015313  0.020029  ...  1.009572e-03  2.068237  0.121361  0.007344   \n",
       "1     0.096346  0.001711  ...  6.918171e-04  0.014442  0.000238  0.024071   \n",
       "2     0.009175  0.000114  ...  9.577447e-05  0.149792  0.001401  0.000699   \n",
       "3     0.188859  0.010154  ...  1.964150e-03  0.142549  0.002036  0.047165   \n",
       "4     0.026881  0.000468  ...  7.189078e-05  0.005920  0.000048  0.006359   \n",
       "...        ...       ...  ...           ...       ...       ...       ...   \n",
       "2192  0.045220  0.013414  ...  7.530558e-03  0.559967  0.154793  0.133587   \n",
       "2193  0.037731  0.004072  ...  3.219223e-02  0.667076  0.094247  0.136623   \n",
       "2194  0.005332  0.000078  ...  2.628421e-04  0.000273  0.000022  0.000027   \n",
       "2195  0.019254  0.001267  ...  1.377452e-03  0.003754  0.001420  0.088000   \n",
       "2196  0.003913  0.000003  ...  8.989834e-07  0.001573  0.000002  0.000239   \n",
       "\n",
       "           C30       C31       C32       C33       C34       C35  \n",
       "0     0.000017  0.036891  0.035934  0.118937  0.001472  0.050057  \n",
       "1     0.000023  0.217589  0.100662  0.004027  0.004122  0.049491  \n",
       "2     0.000009  0.024491  0.018810  0.004171  0.000425  0.015348  \n",
       "3     0.000022  0.180372  0.202981  0.003709  0.001845  0.116022  \n",
       "4     0.000585  0.052661  0.032168  0.000107  0.000107  0.013103  \n",
       "...        ...       ...       ...       ...       ...       ...  \n",
       "2192  0.000013  0.051041  0.113100  0.003147  0.004971  0.128265  \n",
       "2193  0.000009  0.050518  0.119685  0.027743  0.016413  0.287171  \n",
       "2194  0.000042  0.029386  0.019977  0.000039  0.000119  0.006778  \n",
       "2195  0.000536  0.073240  0.113631  0.009040  0.000090  0.025716  \n",
       "2196  0.003375  0.002501  0.001325  0.000003  0.000001  0.000468  \n",
       "\n",
       "[2197 rows x 37 columns]"
      ]
     },
     "execution_count": 2,
     "metadata": {},
     "output_type": "execute_result"
    }
   ],
   "source": [
    "# Load and display (x,y) spot locations and cell type annotation table for Train slides\n",
    "with h5py.File(\"/kaggle/input/el-hackathon-2025/elucidata_ai_challenge_data.h5\", \"r\") as f:\n",
    "    train_spots = f[\"spots/Train\"]\n",
    "    \n",
    "    # Dictionary to store DataFrames for each slide\n",
    "    train_spot_tables = {}\n",
    "    \n",
    "    for slide_name in train_spots.keys():\n",
    "        # Load dataset as NumPy structured array\n",
    "        spot_array = np.array(train_spots[slide_name])\n",
    "        \n",
    "        # Convert to DataFrame\n",
    "        df = pd.DataFrame(spot_array)\n",
    "        \n",
    "        # Store in dictionary\n",
    "        train_spot_tables[slide_name] = df\n",
    "\n",
    "# Example: Display the spots table for slide 'S_1'\n",
    "train_spot_tables['S_1']"
   ]
  },
  {
   "cell_type": "code",
   "execution_count": 3,
   "id": "cc110aa7",
   "metadata": {
    "_cell_guid": "5676dbf8-9e94-4e54-b67a-c687354578dd",
    "_uuid": "082d26d1-7c8e-4fea-87ae-21f9b87b89a7",
    "collapsed": false,
    "execution": {
     "iopub.execute_input": "2025-05-08T08:16:07.101532Z",
     "iopub.status.busy": "2025-05-08T08:16:07.101242Z",
     "iopub.status.idle": "2025-05-08T08:16:07.116969Z",
     "shell.execute_reply": "2025-05-08T08:16:07.116094Z"
    },
    "jupyter": {
     "outputs_hidden": false
    },
    "papermill": {
     "duration": 0.020777,
     "end_time": "2025-05-08T08:16:07.118209",
     "exception": false,
     "start_time": "2025-05-08T08:16:07.097432",
     "status": "completed"
    },
    "tags": []
   },
   "outputs": [
    {
     "data": {
      "text/html": [
       "<div>\n",
       "<style scoped>\n",
       "    .dataframe tbody tr th:only-of-type {\n",
       "        vertical-align: middle;\n",
       "    }\n",
       "\n",
       "    .dataframe tbody tr th {\n",
       "        vertical-align: top;\n",
       "    }\n",
       "\n",
       "    .dataframe thead th {\n",
       "        text-align: right;\n",
       "    }\n",
       "</style>\n",
       "<table border=\"1\" class=\"dataframe\">\n",
       "  <thead>\n",
       "    <tr style=\"text-align: right;\">\n",
       "      <th></th>\n",
       "      <th>x</th>\n",
       "      <th>y</th>\n",
       "      <th>Test_Set</th>\n",
       "    </tr>\n",
       "  </thead>\n",
       "  <tbody>\n",
       "    <tr>\n",
       "      <th>0</th>\n",
       "      <td>1499</td>\n",
       "      <td>1260</td>\n",
       "      <td>2</td>\n",
       "    </tr>\n",
       "    <tr>\n",
       "      <th>1</th>\n",
       "      <td>1435</td>\n",
       "      <td>1503</td>\n",
       "      <td>2</td>\n",
       "    </tr>\n",
       "    <tr>\n",
       "      <th>2</th>\n",
       "      <td>558</td>\n",
       "      <td>1082</td>\n",
       "      <td>2</td>\n",
       "    </tr>\n",
       "    <tr>\n",
       "      <th>3</th>\n",
       "      <td>736</td>\n",
       "      <td>1304</td>\n",
       "      <td>1</td>\n",
       "    </tr>\n",
       "    <tr>\n",
       "      <th>4</th>\n",
       "      <td>1257</td>\n",
       "      <td>1592</td>\n",
       "      <td>1</td>\n",
       "    </tr>\n",
       "    <tr>\n",
       "      <th>...</th>\n",
       "      <td>...</td>\n",
       "      <td>...</td>\n",
       "      <td>...</td>\n",
       "    </tr>\n",
       "    <tr>\n",
       "      <th>2083</th>\n",
       "      <td>736</td>\n",
       "      <td>639</td>\n",
       "      <td>2</td>\n",
       "    </tr>\n",
       "    <tr>\n",
       "      <th>2084</th>\n",
       "      <td>1016</td>\n",
       "      <td>684</td>\n",
       "      <td>2</td>\n",
       "    </tr>\n",
       "    <tr>\n",
       "      <th>2085</th>\n",
       "      <td>1181</td>\n",
       "      <td>839</td>\n",
       "      <td>2</td>\n",
       "    </tr>\n",
       "    <tr>\n",
       "      <th>2086</th>\n",
       "      <td>735</td>\n",
       "      <td>1436</td>\n",
       "      <td>1</td>\n",
       "    </tr>\n",
       "    <tr>\n",
       "      <th>2087</th>\n",
       "      <td>545</td>\n",
       "      <td>1148</td>\n",
       "      <td>2</td>\n",
       "    </tr>\n",
       "  </tbody>\n",
       "</table>\n",
       "<p>2088 rows × 3 columns</p>\n",
       "</div>"
      ],
      "text/plain": [
       "         x     y  Test_Set\n",
       "0     1499  1260         2\n",
       "1     1435  1503         2\n",
       "2      558  1082         2\n",
       "3      736  1304         1\n",
       "4     1257  1592         1\n",
       "...    ...   ...       ...\n",
       "2083   736   639         2\n",
       "2084  1016   684         2\n",
       "2085  1181   839         2\n",
       "2086   735  1436         1\n",
       "2087   545  1148         2\n",
       "\n",
       "[2088 rows x 3 columns]"
      ]
     },
     "execution_count": 3,
     "metadata": {},
     "output_type": "execute_result"
    }
   ],
   "source": [
    "# Display spot table for Test slide (only the spot coordinates on 2D array)\n",
    "with h5py.File(\"/kaggle/input/el-hackathon-2025/elucidata_ai_challenge_data.h5\", \"r\") as f:\n",
    "    test_spots = f[\"spots/Test\"]\n",
    "    spot_array = np.array(test_spots['S_7'])\n",
    "    test_spot_table = pd.DataFrame(spot_array)\n",
    "    \n",
    "# Show the test spots coordinates for slide 'S_7'\n",
    "test_spot_table"
   ]
  },
  {
   "cell_type": "code",
   "execution_count": 4,
   "id": "0ea718bd",
   "metadata": {
    "_cell_guid": "f7093a9d-6d89-439b-9237-01ffa71bea20",
    "_uuid": "82ba56b3-880e-4984-97b1-a20010a2c02e",
    "collapsed": false,
    "execution": {
     "iopub.execute_input": "2025-05-08T08:16:07.125869Z",
     "iopub.status.busy": "2025-05-08T08:16:07.125648Z",
     "iopub.status.idle": "2025-05-08T08:16:07.128938Z",
     "shell.execute_reply": "2025-05-08T08:16:07.128149Z"
    },
    "jupyter": {
     "outputs_hidden": false
    },
    "papermill": {
     "duration": 0.008366,
     "end_time": "2025-05-08T08:16:07.130114",
     "exception": false,
     "start_time": "2025-05-08T08:16:07.121748",
     "status": "completed"
    },
    "tags": []
   },
   "outputs": [],
   "source": [
    "hyper_params = {\n",
    "    \"patch_size\": 224,\n",
    "    \"batch_size\": 32,\n",
    "    \"lr\": 0.001,\n",
    "    \"gamma\": 0.1,\n",
    "    \"epochs\": 12,\n",
    "    \"step\": 7,\n",
    "}"
   ]
  },
  {
   "cell_type": "code",
   "execution_count": 5,
   "id": "c7088d18",
   "metadata": {
    "_cell_guid": "340515aa-aa7f-4623-bd4c-f505d03a25ec",
    "_uuid": "d28b6cd6-8d7d-4f10-bc05-f6d7f826a206",
    "collapsed": false,
    "execution": {
     "iopub.execute_input": "2025-05-08T08:16:07.137978Z",
     "iopub.status.busy": "2025-05-08T08:16:07.137757Z",
     "iopub.status.idle": "2025-05-08T08:16:10.074105Z",
     "shell.execute_reply": "2025-05-08T08:16:10.072975Z"
    },
    "jupyter": {
     "outputs_hidden": false
    },
    "papermill": {
     "duration": 2.941907,
     "end_time": "2025-05-08T08:16:10.075643",
     "exception": false,
     "start_time": "2025-05-08T08:16:07.133736",
     "status": "completed"
    },
    "tags": []
   },
   "outputs": [
    {
     "name": "stdout",
     "output_type": "stream",
     "text": [
      "Using cuda device\n"
     ]
    }
   ],
   "source": [
    "# Define image transformations for training, validation, and test sets\n",
    "transform = {\n",
    "    'train': transforms.Compose([\n",
    "        transforms.ToTensor(),\n",
    "        transforms.RandomHorizontalFlip(),\n",
    "        transforms.ColorJitter(brightness=0.2, contrast=0.2, saturation=0.2, hue=0.1),\n",
    "        transforms.GaussianBlur(kernel_size=5, sigma=(0.1, 2.0)),\n",
    "        transforms.Normalize([0.485, 0.456, 0.406], [0.229, 0.224, 0.225])\n",
    "    ]),\n",
    "    'val': transforms.Compose([\n",
    "        transforms.ToTensor(),\n",
    "        transforms.Normalize([0.485, 0.456, 0.406], [0.229, 0.224, 0.225]),\n",
    "    ]),\n",
    "    'test': transforms.Compose([\n",
    "        transforms.ToTensor(),\n",
    "        transforms.Normalize([0.485, 0.456, 0.406], [0.229, 0.224, 0.225]),\n",
    "    ])\n",
    "}\n",
    "\n",
    "# Custom dataset class to extract and process patches from HDF5 slides\n",
    "class CustomDataset(Dataset):\n",
    "    def __init__(self, data_path, slide_names, transform=None, is_train=True):\n",
    "        self.transform = transform\n",
    "        self.data = []\n",
    "        self.targets = []\n",
    "        self.patch_size = hyper_params[\"patch_size\"]\n",
    "        self.slide_names = slide_names\n",
    "        self.is_train = is_train\n",
    "\n",
    "        with h5py.File(data_path, \"r\") as f:\n",
    "            images = f[\"images/Train\"] if self.is_train else f[\"images/Test\"]\n",
    "            coords = f[\"spots/Train\"] if self.is_train else f[\"spots/Test\"]\n",
    "            for slide_name in self.slide_names:\n",
    "                slide = np.array(images[slide_name])\n",
    "                spots = np.array(coords[slide_name])\n",
    "                df = pd.DataFrame(spots)\n",
    "\n",
    "                # Apply specific x/y shifts for alignment if needed\n",
    "                x_shift, y_shift = 0, 0\n",
    "                if slide_name == 'S_1':\n",
    "                    x_shift, y_shift = 50, 60\n",
    "                elif slide_name == 'S_2':\n",
    "                    x_shift, y_shift = 95, 55\n",
    "                df['x'] -= x_shift\n",
    "                df['y'] -= y_shift\n",
    "\n",
    "                # Extract patches and corresponding targets\n",
    "                for _, row in df.iterrows():\n",
    "                    x_center, y_center = int(row['x']), int(row['y'])\n",
    "                    x0 = x_center - self.patch_size // 2\n",
    "                    y0 = y_center - self.patch_size // 2\n",
    "                    patch = slide[y0:y0 + self.patch_size, x0:x0 + self.patch_size, :]\n",
    "                    self.data.append(patch)\n",
    "                    self.targets.append(row[2:].values)\n",
    "\n",
    "    def __len__(self):\n",
    "        return len(self.data)\n",
    "\n",
    "    def __getitem__(self, index):\n",
    "        target = self.targets[index]\n",
    "        data = self.data[index]\n",
    "        if self.transform:\n",
    "            return (self.transform(data), target) if self.is_train else self.transform(data)\n",
    "        else:\n",
    "            return (data, target) if self.is_train else data\n",
    "\n",
    "# Wrapper to apply transforms to dataset subsets (e.g., train/val split)\n",
    "class TransformedSubset(Dataset):\n",
    "    def __init__(self, subset, transform):\n",
    "        self.subset = subset\n",
    "        self.transform = transform\n",
    "\n",
    "    def __getitem__(self, index):\n",
    "        data, target = self.subset[index]\n",
    "        if self.transform:\n",
    "            data = self.transform(data)\n",
    "        return data, target\n",
    "\n",
    "    def __len__(self):\n",
    "        return len(self.subset)\n",
    "\n",
    "# Dataset paths and slide setup\n",
    "data_path = \"/kaggle/input/el-hackathon-2025/elucidata_ai_challenge_data.h5\"\n",
    "batch_size = hyper_params[\"batch_size\"]\n",
    "train_slides = ['S_1', 'S_2', 'S_3', 'S_4', 'S_5']\n",
    "val_slide = ['S_6']\n",
    "test_slide = ['S_7']\n",
    "\n",
    "# Load full dataset and split into train/val subsets\n",
    "dataset = CustomDataset(data_path, slide_names=train_slides + val_slide, transform=None)\n",
    "train_size = int(0.8 * len(dataset))\n",
    "val_size = len(dataset) - train_size\n",
    "train_subset, val_subset = random_split(dataset, [train_size, val_size])\n",
    "\n",
    "# Wrap subsets with respective transforms\n",
    "train_dataset = TransformedSubset(train_subset, transform['train'])\n",
    "val_dataset = TransformedSubset(val_subset, transform['val'])\n",
    "test_dataset = CustomDataset(data_path, slide_names=test_slide, is_train=False, transform=transform['test'])\n",
    "\n",
    "# Create final dataset and dataloaders\n",
    "dataset = {\n",
    "    \"train\": train_dataset,\n",
    "    \"val\": val_dataset,\n",
    "    \"test\": test_dataset\n",
    "}\n",
    "dataloaders = {\n",
    "    x: DataLoader(dataset[x], batch_size=batch_size, shuffle=True)\n",
    "    for x in ['train', 'val']\n",
    "}\n",
    "test_loader = DataLoader(dataset['test'], batch_size=batch_size, shuffle=False)\n",
    "dataset_sizes = {x: len(dataset[x]) for x in ['train', 'val', 'test']}\n",
    "\n",
    "# Set device (GPU if available)\n",
    "device = torch.device(\"cuda\" if torch.cuda.is_available() else \"cpu\")\n",
    "print(f\"Using {device} device\")\n"
   ]
  },
  {
   "cell_type": "code",
   "execution_count": 6,
   "id": "705ea596",
   "metadata": {
    "execution": {
     "iopub.execute_input": "2025-05-08T08:16:10.084005Z",
     "iopub.status.busy": "2025-05-08T08:16:10.083761Z",
     "iopub.status.idle": "2025-05-08T08:16:10.087188Z",
     "shell.execute_reply": "2025-05-08T08:16:10.086522Z"
    },
    "papermill": {
     "duration": 0.009066,
     "end_time": "2025-05-08T08:16:10.088528",
     "exception": false,
     "start_time": "2025-05-08T08:16:10.079462",
     "status": "completed"
    },
    "tags": []
   },
   "outputs": [],
   "source": [
    "# Computes the average Spearman correlation coefficient row-wise\n",
    "# between the true and predicted values\n",
    "def rowwise_spearman(y_true, y_pred):\n",
    "    scores = []\n",
    "    for yt, yp in zip(y_true, y_pred):\n",
    "        coef, _ = spearmanr(yt, yp)  # Compute Spearman correlation for each row\n",
    "        scores.append(coef)\n",
    "    return np.mean(scores)  # Return average correlation across all rows"
   ]
  },
  {
   "cell_type": "code",
   "execution_count": 7,
   "id": "e2c20f5c",
   "metadata": {
    "_cell_guid": "87d02c23-e8ce-4ec1-9cbe-4cf5085b2672",
    "_uuid": "8d122fd0-2a2f-42d8-b7f8-6b8a199e1fe8",
    "collapsed": false,
    "execution": {
     "iopub.execute_input": "2025-05-08T08:16:10.096727Z",
     "iopub.status.busy": "2025-05-08T08:16:10.096481Z",
     "iopub.status.idle": "2025-05-08T08:16:10.103793Z",
     "shell.execute_reply": "2025-05-08T08:16:10.103174Z"
    },
    "jupyter": {
     "outputs_hidden": false
    },
    "papermill": {
     "duration": 0.01279,
     "end_time": "2025-05-08T08:16:10.104982",
     "exception": false,
     "start_time": "2025-05-08T08:16:10.092192",
     "status": "completed"
    },
    "tags": []
   },
   "outputs": [],
   "source": [
    "def train_model(model, criterion, optimizer, scheduler, num_epochs=25):\n",
    "    since = time.time()\n",
    "\n",
    "    # Create a temporary directory to save training checkpoints\n",
    "    with TemporaryDirectory() as tempdir:\n",
    "        best_model_params_path = os.path.join(tempdir, 'best_model_params.pt')\n",
    "\n",
    "        torch.save(model.state_dict(), best_model_params_path)\n",
    "        best_score = 0\n",
    "\n",
    "        for epoch in range(num_epochs):\n",
    "            print(f'Epoch {epoch}/{num_epochs - 1}')\n",
    "            print('-' * 10)\n",
    "\n",
    "            # Each epoch has a training and validation phase\n",
    "            for phase in ['train', 'val']:\n",
    "                if phase == 'train':\n",
    "                    model.train()  # Set model to training mode\n",
    "                else:\n",
    "                    model.eval()   # Set model to evaluate mode\n",
    "\n",
    "                running_loss = 0.0\n",
    "                running_score = 0.0\n",
    "                # Iterate over data.\n",
    "                for inputs, targets in tqdm(dataloaders[phase]):\n",
    "                    inputs = inputs.to(device).float()\n",
    "                    targets = targets.to(device).float()\n",
    "                    # zero the parameter gradients\n",
    "                    optimizer.zero_grad()\n",
    "\n",
    "                    # forward\n",
    "                    # track history if only in train\n",
    "                    with torch.set_grad_enabled(phase == 'train'):\n",
    "                        outputs = model(inputs)\n",
    "                        loss = criterion(outputs, targets)\n",
    "                        score = rowwise_spearman(outputs.cpu().detach().numpy(), targets.cpu().detach().numpy())\n",
    "                        # backward + optimize only if in training phase\n",
    "                        if phase == 'train':\n",
    "                            loss.backward()\n",
    "                            optimizer.step()\n",
    "\n",
    "                    # statistics\n",
    "                    running_loss += loss.item() * inputs.size(0)\n",
    "                    running_score += score * inputs.size(0)\n",
    "                if phase == 'train':\n",
    "                    scheduler.step()\n",
    "\n",
    "                epoch_loss = running_loss / dataset_sizes[phase]\n",
    "                epoch_score = running_score / dataset_sizes[phase]\n",
    "                print(f'{phase} Loss: {epoch_loss:.4f} Score: {epoch_score:.4f}')\n",
    "                \n",
    "                # deep copy the model\n",
    "                if phase == 'val' and epoch_score > best_score:\n",
    "                    best_score = epoch_score\n",
    "                    torch.save(model.state_dict(), best_model_params_path)\n",
    "\n",
    "            print()\n",
    "            \n",
    "        time_elapsed = time.time() - since\n",
    "        print(f'Training complete in {time_elapsed // 60:.0f}m {time_elapsed % 60:.0f}s')\n",
    "        print(f'Best val Score: {best_score:4f}')\n",
    "        # load best model weights\n",
    "        model.load_state_dict(torch.load(best_model_params_path, weights_only=True))\n",
    "    return model"
   ]
  },
  {
   "cell_type": "code",
   "execution_count": 8,
   "id": "3ee0abed",
   "metadata": {
    "execution": {
     "iopub.execute_input": "2025-05-08T08:16:10.112766Z",
     "iopub.status.busy": "2025-05-08T08:16:10.112559Z",
     "iopub.status.idle": "2025-05-08T08:16:10.117252Z",
     "shell.execute_reply": "2025-05-08T08:16:10.116691Z"
    },
    "papermill": {
     "duration": 0.009884,
     "end_time": "2025-05-08T08:16:10.118444",
     "exception": false,
     "start_time": "2025-05-08T08:16:10.108560",
     "status": "completed"
    },
    "tags": []
   },
   "outputs": [],
   "source": [
    "# Custom transfer learning model using a pretrained CNN as a frozen feature extractor\n",
    "class TransferModel(nn.Module):\n",
    "    def __init__(self, pretrained):\n",
    "        super(TransferModel, self).__init__()\n",
    "        \n",
    "        # Extract all layers except the classification head from the pretrained model\n",
    "        self.feature_extractor = nn.Sequential(*list(pretrained.children())[:-1])\n",
    "        \n",
    "        # Custom head: reduces channels, flattens, then maps to 35 output features\n",
    "        self.custom_layers = nn.Sequential(\n",
    "            nn.Conv2d(1792, 512, kernel_size=1),\n",
    "            nn.ReLU(),\n",
    "            nn.Conv2d(512, 256, kernel_size=1),\n",
    "            nn.ReLU(),\n",
    "            nn.Dropout(0.5),\n",
    "            nn.Flatten(),\n",
    "            nn.Linear(256, 35)\n",
    "        )\n",
    "\n",
    "        # Freeze pretrained model parameters\n",
    "        for param in self.feature_extractor.parameters():\n",
    "            param.requires_grad = False\n",
    "\n",
    "        # Enable training only on the custom head\n",
    "        for param in self.custom_layers.parameters():\n",
    "            param.requires_grad = True\n",
    "\n",
    "    def forward(self, x):\n",
    "        x = self.feature_extractor(x)\n",
    "        x = self.custom_layers(x)\n",
    "        return x\n"
   ]
  },
  {
   "cell_type": "code",
   "execution_count": 9,
   "id": "eb346210",
   "metadata": {
    "_cell_guid": "3318bf44-04b7-4e6b-8186-3f7dee64277a",
    "_uuid": "0a104e93-a10c-497d-a30c-030d00ab8fd3",
    "collapsed": false,
    "execution": {
     "iopub.execute_input": "2025-05-08T08:16:10.126222Z",
     "iopub.status.busy": "2025-05-08T08:16:10.126021Z",
     "iopub.status.idle": "2025-05-08T08:16:10.135231Z",
     "shell.execute_reply": "2025-05-08T08:16:10.134471Z"
    },
    "jupyter": {
     "outputs_hidden": false
    },
    "papermill": {
     "duration": 0.014497,
     "end_time": "2025-05-08T08:16:10.136537",
     "exception": false,
     "start_time": "2025-05-08T08:16:10.122040",
     "status": "completed"
    },
    "tags": []
   },
   "outputs": [],
   "source": [
    "# Set random seed for reproducibility\n",
    "def seed_everything(seed):\n",
    "    random.seed(seed)\n",
    "    np.random.seed(seed)\n",
    "    torch.manual_seed(seed)\n",
    "    torch.cuda.manual_seed(seed)\n",
    "    torch.cuda.manual_seed_all(seed)\n",
    "\n",
    "seed = 123\n",
    "seed_everything(seed)\n",
    "\n",
    "# Ensure deterministic behavior in cuDNN\n",
    "torch.backends.cudnn.deterministic = True\n",
    "torch.backends.cudnn.benchmark = False\n"
   ]
  },
  {
   "cell_type": "code",
   "execution_count": 10,
   "id": "0ebabd90",
   "metadata": {
    "_cell_guid": "074947ab-142a-4b9d-ad41-d391b2a80b9b",
    "_uuid": "2212ae05-1e79-465a-b210-4dc0a53aaff5",
    "execution": {
     "iopub.execute_input": "2025-05-08T08:16:10.144313Z",
     "iopub.status.busy": "2025-05-08T08:16:10.144084Z",
     "iopub.status.idle": "2025-05-08T08:34:25.966582Z",
     "shell.execute_reply": "2025-05-08T08:34:25.965861Z"
    },
    "papermill": {
     "duration": 1095.828088,
     "end_time": "2025-05-08T08:34:25.968166",
     "exception": false,
     "start_time": "2025-05-08T08:16:10.140078",
     "status": "completed"
    },
    "tags": []
   },
   "outputs": [
    {
     "name": "stderr",
     "output_type": "stream",
     "text": [
      "/usr/local/lib/python3.10/dist-packages/torchvision/models/_utils.py:208: UserWarning: The parameter 'pretrained' is deprecated since 0.13 and may be removed in the future, please use 'weights' instead.\n",
      "  warnings.warn(\n",
      "/usr/local/lib/python3.10/dist-packages/torchvision/models/_utils.py:223: UserWarning: Arguments other than a weight enum or `None` for 'weights' are deprecated since 0.13 and may be removed in the future. The current behavior is equivalent to passing `weights=EfficientNet_B4_Weights.IMAGENET1K_V1`. You can also use `weights=EfficientNet_B4_Weights.DEFAULT` to get the most up-to-date weights.\n",
      "  warnings.warn(msg)\n",
      "Downloading: \"https://download.pytorch.org/models/efficientnet_b4_rwightman-23ab8bcd.pth\" to /root/.cache/torch/hub/checkpoints/efficientnet_b4_rwightman-23ab8bcd.pth\n",
      "100%|██████████| 74.5M/74.5M [00:00<00:00, 202MB/s]\n"
     ]
    },
    {
     "name": "stdout",
     "output_type": "stream",
     "text": [
      "Epoch 0/11\n",
      "----------\n"
     ]
    },
    {
     "name": "stderr",
     "output_type": "stream",
     "text": [
      "100%|██████████| 209/209 [01:20<00:00,  2.59it/s]\n"
     ]
    },
    {
     "name": "stdout",
     "output_type": "stream",
     "text": [
      "train Loss: 0.2230 Score: 0.5676\n"
     ]
    },
    {
     "name": "stderr",
     "output_type": "stream",
     "text": [
      "100%|██████████| 53/53 [00:08<00:00,  6.34it/s]\n"
     ]
    },
    {
     "name": "stdout",
     "output_type": "stream",
     "text": [
      "val Loss: 0.2016 Score: 0.7342\n",
      "\n",
      "Epoch 1/11\n",
      "----------\n"
     ]
    },
    {
     "name": "stderr",
     "output_type": "stream",
     "text": [
      "100%|██████████| 209/209 [01:20<00:00,  2.59it/s]\n"
     ]
    },
    {
     "name": "stdout",
     "output_type": "stream",
     "text": [
      "train Loss: 0.1871 Score: 0.6719\n"
     ]
    },
    {
     "name": "stderr",
     "output_type": "stream",
     "text": [
      "100%|██████████| 53/53 [00:08<00:00,  6.08it/s]\n"
     ]
    },
    {
     "name": "stdout",
     "output_type": "stream",
     "text": [
      "val Loss: 0.1830 Score: 0.7186\n",
      "\n",
      "Epoch 2/11\n",
      "----------\n"
     ]
    },
    {
     "name": "stderr",
     "output_type": "stream",
     "text": [
      "100%|██████████| 209/209 [01:21<00:00,  2.56it/s]\n"
     ]
    },
    {
     "name": "stdout",
     "output_type": "stream",
     "text": [
      "train Loss: 0.1787 Score: 0.6931\n"
     ]
    },
    {
     "name": "stderr",
     "output_type": "stream",
     "text": [
      "100%|██████████| 53/53 [00:08<00:00,  5.98it/s]\n"
     ]
    },
    {
     "name": "stdout",
     "output_type": "stream",
     "text": [
      "val Loss: 0.1776 Score: 0.7381\n",
      "\n",
      "Epoch 3/11\n",
      "----------\n"
     ]
    },
    {
     "name": "stderr",
     "output_type": "stream",
     "text": [
      "100%|██████████| 209/209 [01:22<00:00,  2.54it/s]\n"
     ]
    },
    {
     "name": "stdout",
     "output_type": "stream",
     "text": [
      "train Loss: 0.1752 Score: 0.7015\n"
     ]
    },
    {
     "name": "stderr",
     "output_type": "stream",
     "text": [
      "100%|██████████| 53/53 [00:08<00:00,  5.96it/s]\n"
     ]
    },
    {
     "name": "stdout",
     "output_type": "stream",
     "text": [
      "val Loss: 0.1741 Score: 0.7536\n",
      "\n",
      "Epoch 4/11\n",
      "----------\n"
     ]
    },
    {
     "name": "stderr",
     "output_type": "stream",
     "text": [
      "100%|██████████| 209/209 [01:22<00:00,  2.55it/s]\n"
     ]
    },
    {
     "name": "stdout",
     "output_type": "stream",
     "text": [
      "train Loss: 0.1716 Score: 0.7058\n"
     ]
    },
    {
     "name": "stderr",
     "output_type": "stream",
     "text": [
      "100%|██████████| 53/53 [00:08<00:00,  5.95it/s]\n"
     ]
    },
    {
     "name": "stdout",
     "output_type": "stream",
     "text": [
      "val Loss: 0.1705 Score: 0.7728\n",
      "\n",
      "Epoch 5/11\n",
      "----------\n"
     ]
    },
    {
     "name": "stderr",
     "output_type": "stream",
     "text": [
      "100%|██████████| 209/209 [01:22<00:00,  2.54it/s]\n"
     ]
    },
    {
     "name": "stdout",
     "output_type": "stream",
     "text": [
      "train Loss: 0.1676 Score: 0.7114\n"
     ]
    },
    {
     "name": "stderr",
     "output_type": "stream",
     "text": [
      "100%|██████████| 53/53 [00:08<00:00,  6.03it/s]\n"
     ]
    },
    {
     "name": "stdout",
     "output_type": "stream",
     "text": [
      "val Loss: 0.1725 Score: 0.7457\n",
      "\n",
      "Epoch 6/11\n",
      "----------\n"
     ]
    },
    {
     "name": "stderr",
     "output_type": "stream",
     "text": [
      "100%|██████████| 209/209 [01:22<00:00,  2.53it/s]\n"
     ]
    },
    {
     "name": "stdout",
     "output_type": "stream",
     "text": [
      "train Loss: 0.1678 Score: 0.7105\n"
     ]
    },
    {
     "name": "stderr",
     "output_type": "stream",
     "text": [
      "100%|██████████| 53/53 [00:08<00:00,  5.97it/s]\n"
     ]
    },
    {
     "name": "stdout",
     "output_type": "stream",
     "text": [
      "val Loss: 0.1638 Score: 0.7632\n",
      "\n",
      "Epoch 7/11\n",
      "----------\n"
     ]
    },
    {
     "name": "stderr",
     "output_type": "stream",
     "text": [
      "100%|██████████| 209/209 [01:22<00:00,  2.52it/s]\n"
     ]
    },
    {
     "name": "stdout",
     "output_type": "stream",
     "text": [
      "train Loss: 0.1603 Score: 0.7457\n"
     ]
    },
    {
     "name": "stderr",
     "output_type": "stream",
     "text": [
      "100%|██████████| 53/53 [00:08<00:00,  5.95it/s]\n"
     ]
    },
    {
     "name": "stdout",
     "output_type": "stream",
     "text": [
      "val Loss: 0.1602 Score: 0.7852\n",
      "\n",
      "Epoch 8/11\n",
      "----------\n"
     ]
    },
    {
     "name": "stderr",
     "output_type": "stream",
     "text": [
      "100%|██████████| 209/209 [01:22<00:00,  2.52it/s]\n"
     ]
    },
    {
     "name": "stdout",
     "output_type": "stream",
     "text": [
      "train Loss: 0.1618 Score: 0.7605\n"
     ]
    },
    {
     "name": "stderr",
     "output_type": "stream",
     "text": [
      "100%|██████████| 53/53 [00:09<00:00,  5.88it/s]\n"
     ]
    },
    {
     "name": "stdout",
     "output_type": "stream",
     "text": [
      "val Loss: 0.1634 Score: 0.7836\n",
      "\n",
      "Epoch 9/11\n",
      "----------\n"
     ]
    },
    {
     "name": "stderr",
     "output_type": "stream",
     "text": [
      "100%|██████████| 209/209 [01:22<00:00,  2.52it/s]\n"
     ]
    },
    {
     "name": "stdout",
     "output_type": "stream",
     "text": [
      "train Loss: 0.1584 Score: 0.7659\n"
     ]
    },
    {
     "name": "stderr",
     "output_type": "stream",
     "text": [
      "100%|██████████| 53/53 [00:08<00:00,  5.94it/s]\n"
     ]
    },
    {
     "name": "stdout",
     "output_type": "stream",
     "text": [
      "val Loss: 0.1641 Score: 0.7793\n",
      "\n",
      "Epoch 10/11\n",
      "----------\n"
     ]
    },
    {
     "name": "stderr",
     "output_type": "stream",
     "text": [
      "100%|██████████| 209/209 [01:22<00:00,  2.53it/s]\n"
     ]
    },
    {
     "name": "stdout",
     "output_type": "stream",
     "text": [
      "train Loss: 0.1582 Score: 0.7654\n"
     ]
    },
    {
     "name": "stderr",
     "output_type": "stream",
     "text": [
      "100%|██████████| 53/53 [00:08<00:00,  5.97it/s]\n"
     ]
    },
    {
     "name": "stdout",
     "output_type": "stream",
     "text": [
      "val Loss: 0.1543 Score: 0.7893\n",
      "\n",
      "Epoch 11/11\n",
      "----------\n"
     ]
    },
    {
     "name": "stderr",
     "output_type": "stream",
     "text": [
      "100%|██████████| 209/209 [01:22<00:00,  2.52it/s]\n"
     ]
    },
    {
     "name": "stdout",
     "output_type": "stream",
     "text": [
      "train Loss: 0.1583 Score: 0.7669\n"
     ]
    },
    {
     "name": "stderr",
     "output_type": "stream",
     "text": [
      "100%|██████████| 53/53 [00:08<00:00,  5.99it/s]\n"
     ]
    },
    {
     "name": "stdout",
     "output_type": "stream",
     "text": [
      "val Loss: 0.1568 Score: 0.7875\n",
      "\n",
      "Training complete in 18m 14s\n",
      "Best val Score: 0.789335\n"
     ]
    }
   ],
   "source": [
    "# Set up training parameters and model\n",
    "epochs = hyper_params[\"epochs\"]\n",
    "lr = hyper_params[\"lr\"]\n",
    "gamma = hyper_params[\"gamma\"]\n",
    "step = hyper_params[\"step\"]\n",
    "\n",
    "# Load EfficientNet-B4 pretrained weights and initialize custom model\n",
    "pretrained = models.efficientnet_b4(pretrained=True)\n",
    "model = TransferModel(pretrained)\n",
    "model.to(device)\n",
    "\n",
    "# Define loss function, optimizer, and learning rate scheduler\n",
    "criterion = nn.L1Loss()\n",
    "optimizer = torch.optim.Adam(model.parameters(), lr=lr)\n",
    "exp_lr_scheduler = lr_scheduler.StepLR(optimizer, step_size=step, gamma=gamma)\n",
    "\n",
    "# Train the model\n",
    "model = train_model(model, criterion, optimizer, exp_lr_scheduler, num_epochs=epochs)"
   ]
  },
  {
   "cell_type": "code",
   "execution_count": 11,
   "id": "af338ac1",
   "metadata": {
    "execution": {
     "iopub.execute_input": "2025-05-08T08:34:26.257711Z",
     "iopub.status.busy": "2025-05-08T08:34:26.257361Z",
     "iopub.status.idle": "2025-05-08T08:34:34.559261Z",
     "shell.execute_reply": "2025-05-08T08:34:34.558567Z"
    },
    "papermill": {
     "duration": 8.446284,
     "end_time": "2025-05-08T08:34:34.560911",
     "exception": false,
     "start_time": "2025-05-08T08:34:26.114627",
     "status": "completed"
    },
    "tags": []
   },
   "outputs": [],
   "source": [
    "# Run model in evaluation mode on test set and collect predictions\n",
    "was_training = model.training  # Save current training state\n",
    "model.eval()  # Switch to evaluation mode (disables dropout, etc.)\n",
    "\n",
    "preds = []\n",
    "with torch.no_grad():  # Disable gradient computation for inference\n",
    "    for i, inputs in enumerate(test_loader):\n",
    "        inputs = inputs.to(device)\n",
    "        outputs = model(inputs)\n",
    "        preds.append(outputs.cpu().numpy())  # Move predictions to CPU\n",
    "\n",
    "model.train(mode=was_training)  # Restore original training state\n",
    "\n",
    "# Concatenate predictions from all batches\n",
    "preds = np.concatenate(preds)"
   ]
  },
  {
   "cell_type": "code",
   "execution_count": 12,
   "id": "1c02456f",
   "metadata": {
    "_cell_guid": "d77a0e0b-1fd5-4208-8496-d2ba04a1e698",
    "_uuid": "64d87a0f-1d22-4d48-970f-9e3834f92891",
    "collapsed": false,
    "execution": {
     "iopub.execute_input": "2025-05-08T08:34:34.844816Z",
     "iopub.status.busy": "2025-05-08T08:34:34.844542Z",
     "iopub.status.idle": "2025-05-08T08:34:34.863561Z",
     "shell.execute_reply": "2025-05-08T08:34:34.862761Z"
    },
    "jupyter": {
     "outputs_hidden": false
    },
    "papermill": {
     "duration": 0.160411,
     "end_time": "2025-05-08T08:34:34.864986",
     "exception": false,
     "start_time": "2025-05-08T08:34:34.704575",
     "status": "completed"
    },
    "tags": []
   },
   "outputs": [
    {
     "data": {
      "text/html": [
       "<div>\n",
       "<style scoped>\n",
       "    .dataframe tbody tr th:only-of-type {\n",
       "        vertical-align: middle;\n",
       "    }\n",
       "\n",
       "    .dataframe tbody tr th {\n",
       "        vertical-align: top;\n",
       "    }\n",
       "\n",
       "    .dataframe thead th {\n",
       "        text-align: right;\n",
       "    }\n",
       "</style>\n",
       "<table border=\"1\" class=\"dataframe\">\n",
       "  <thead>\n",
       "    <tr style=\"text-align: right;\">\n",
       "      <th></th>\n",
       "      <th>C1</th>\n",
       "      <th>C2</th>\n",
       "      <th>C3</th>\n",
       "      <th>C4</th>\n",
       "      <th>C5</th>\n",
       "      <th>C6</th>\n",
       "      <th>C7</th>\n",
       "      <th>C8</th>\n",
       "      <th>C9</th>\n",
       "      <th>C10</th>\n",
       "      <th>...</th>\n",
       "      <th>C26</th>\n",
       "      <th>C27</th>\n",
       "      <th>C28</th>\n",
       "      <th>C29</th>\n",
       "      <th>C30</th>\n",
       "      <th>C31</th>\n",
       "      <th>C32</th>\n",
       "      <th>C33</th>\n",
       "      <th>C34</th>\n",
       "      <th>C35</th>\n",
       "    </tr>\n",
       "  </thead>\n",
       "  <tbody>\n",
       "    <tr>\n",
       "      <th>0</th>\n",
       "      <td>0.032836</td>\n",
       "      <td>0.039854</td>\n",
       "      <td>0.025462</td>\n",
       "      <td>0.000133</td>\n",
       "      <td>0.018642</td>\n",
       "      <td>0.000938</td>\n",
       "      <td>0.005183</td>\n",
       "      <td>0.000397</td>\n",
       "      <td>0.002795</td>\n",
       "      <td>-0.000126</td>\n",
       "      <td>...</td>\n",
       "      <td>0.000862</td>\n",
       "      <td>0.000598</td>\n",
       "      <td>0.000448</td>\n",
       "      <td>-0.000002</td>\n",
       "      <td>0.000690</td>\n",
       "      <td>0.024209</td>\n",
       "      <td>0.017196</td>\n",
       "      <td>0.000879</td>\n",
       "      <td>0.000366</td>\n",
       "      <td>0.007307</td>\n",
       "    </tr>\n",
       "    <tr>\n",
       "      <th>1</th>\n",
       "      <td>0.035431</td>\n",
       "      <td>0.065090</td>\n",
       "      <td>0.029693</td>\n",
       "      <td>0.000100</td>\n",
       "      <td>0.095727</td>\n",
       "      <td>0.000786</td>\n",
       "      <td>0.010287</td>\n",
       "      <td>0.003091</td>\n",
       "      <td>0.002515</td>\n",
       "      <td>0.000261</td>\n",
       "      <td>...</td>\n",
       "      <td>0.010768</td>\n",
       "      <td>0.000474</td>\n",
       "      <td>0.001566</td>\n",
       "      <td>0.000865</td>\n",
       "      <td>0.041818</td>\n",
       "      <td>0.038171</td>\n",
       "      <td>0.027283</td>\n",
       "      <td>0.004539</td>\n",
       "      <td>0.001431</td>\n",
       "      <td>0.012592</td>\n",
       "    </tr>\n",
       "    <tr>\n",
       "      <th>2</th>\n",
       "      <td>0.042189</td>\n",
       "      <td>0.081278</td>\n",
       "      <td>0.041745</td>\n",
       "      <td>0.008947</td>\n",
       "      <td>1.765370</td>\n",
       "      <td>0.000954</td>\n",
       "      <td>0.033754</td>\n",
       "      <td>0.002177</td>\n",
       "      <td>0.001763</td>\n",
       "      <td>-0.000435</td>\n",
       "      <td>...</td>\n",
       "      <td>0.001030</td>\n",
       "      <td>0.000843</td>\n",
       "      <td>0.000871</td>\n",
       "      <td>0.036692</td>\n",
       "      <td>0.000764</td>\n",
       "      <td>0.060153</td>\n",
       "      <td>0.037954</td>\n",
       "      <td>0.002204</td>\n",
       "      <td>0.000492</td>\n",
       "      <td>0.019852</td>\n",
       "    </tr>\n",
       "    <tr>\n",
       "      <th>3</th>\n",
       "      <td>0.175396</td>\n",
       "      <td>0.064320</td>\n",
       "      <td>0.127633</td>\n",
       "      <td>0.059151</td>\n",
       "      <td>0.641923</td>\n",
       "      <td>0.000618</td>\n",
       "      <td>0.018592</td>\n",
       "      <td>0.001472</td>\n",
       "      <td>0.002209</td>\n",
       "      <td>-0.000177</td>\n",
       "      <td>...</td>\n",
       "      <td>0.001222</td>\n",
       "      <td>0.000479</td>\n",
       "      <td>0.000555</td>\n",
       "      <td>0.023381</td>\n",
       "      <td>0.001633</td>\n",
       "      <td>0.046020</td>\n",
       "      <td>0.032016</td>\n",
       "      <td>0.002823</td>\n",
       "      <td>0.001817</td>\n",
       "      <td>0.015404</td>\n",
       "    </tr>\n",
       "    <tr>\n",
       "      <th>4</th>\n",
       "      <td>0.449737</td>\n",
       "      <td>0.041152</td>\n",
       "      <td>0.320100</td>\n",
       "      <td>0.223742</td>\n",
       "      <td>0.265361</td>\n",
       "      <td>0.000702</td>\n",
       "      <td>0.010742</td>\n",
       "      <td>0.000465</td>\n",
       "      <td>0.001706</td>\n",
       "      <td>-0.000375</td>\n",
       "      <td>...</td>\n",
       "      <td>0.000510</td>\n",
       "      <td>0.005040</td>\n",
       "      <td>0.000256</td>\n",
       "      <td>0.000240</td>\n",
       "      <td>0.000446</td>\n",
       "      <td>0.033830</td>\n",
       "      <td>0.023943</td>\n",
       "      <td>-0.000069</td>\n",
       "      <td>0.002304</td>\n",
       "      <td>0.013969</td>\n",
       "    </tr>\n",
       "  </tbody>\n",
       "</table>\n",
       "<p>5 rows × 35 columns</p>\n",
       "</div>"
      ],
      "text/plain": [
       "         C1        C2        C3        C4        C5        C6        C7  \\\n",
       "0  0.032836  0.039854  0.025462  0.000133  0.018642  0.000938  0.005183   \n",
       "1  0.035431  0.065090  0.029693  0.000100  0.095727  0.000786  0.010287   \n",
       "2  0.042189  0.081278  0.041745  0.008947  1.765370  0.000954  0.033754   \n",
       "3  0.175396  0.064320  0.127633  0.059151  0.641923  0.000618  0.018592   \n",
       "4  0.449737  0.041152  0.320100  0.223742  0.265361  0.000702  0.010742   \n",
       "\n",
       "         C8        C9       C10  ...       C26       C27       C28       C29  \\\n",
       "0  0.000397  0.002795 -0.000126  ...  0.000862  0.000598  0.000448 -0.000002   \n",
       "1  0.003091  0.002515  0.000261  ...  0.010768  0.000474  0.001566  0.000865   \n",
       "2  0.002177  0.001763 -0.000435  ...  0.001030  0.000843  0.000871  0.036692   \n",
       "3  0.001472  0.002209 -0.000177  ...  0.001222  0.000479  0.000555  0.023381   \n",
       "4  0.000465  0.001706 -0.000375  ...  0.000510  0.005040  0.000256  0.000240   \n",
       "\n",
       "        C30       C31       C32       C33       C34       C35  \n",
       "0  0.000690  0.024209  0.017196  0.000879  0.000366  0.007307  \n",
       "1  0.041818  0.038171  0.027283  0.004539  0.001431  0.012592  \n",
       "2  0.000764  0.060153  0.037954  0.002204  0.000492  0.019852  \n",
       "3  0.001633  0.046020  0.032016  0.002823  0.001817  0.015404  \n",
       "4  0.000446  0.033830  0.023943 -0.000069  0.002304  0.013969  \n",
       "\n",
       "[5 rows x 35 columns]"
      ]
     },
     "execution_count": 12,
     "metadata": {},
     "output_type": "execute_result"
    }
   ],
   "source": [
    "# Create a random submission\n",
    "# (predictions of cell type abundances for 35 classes across the Test slide spots;\n",
    "# spot order should be same as in the 'Test' spots table)\n",
    "\n",
    "# Use the cell type columns from the train spots table; assuming first two columns are (x, y)\n",
    "cell_type_columns = train_spot_tables['S_1'].columns[2:].values  # Expecting 35 cell types here\n",
    "indices = test_spot_table.index.values  # All spots on the Test slide\n",
    "\n",
    "# Create a 2D array of random floats between 0 and 2 for each spot and cell type\n",
    "#prediction_matrix = 2 * np.random.rand(len(indices), len(cell_type_columns))\n",
    "predicted_labels = pd.DataFrame(preds, columns=cell_type_columns, index=indices)\n",
    "\n",
    "predicted_labels.head()"
   ]
  },
  {
   "cell_type": "code",
   "execution_count": 13,
   "id": "e86b9c5b",
   "metadata": {
    "_cell_guid": "36117472-e287-4f9e-855d-f51dd9d3df81",
    "_uuid": "ac0502fd-756e-490f-ad58-3ec341e24189",
    "collapsed": false,
    "execution": {
     "iopub.execute_input": "2025-05-08T08:34:35.192315Z",
     "iopub.status.busy": "2025-05-08T08:34:35.192007Z",
     "iopub.status.idle": "2025-05-08T08:34:35.304990Z",
     "shell.execute_reply": "2025-05-08T08:34:35.304164Z"
    },
    "jupyter": {
     "outputs_hidden": false
    },
    "papermill": {
     "duration": 0.297698,
     "end_time": "2025-05-08T08:34:35.306330",
     "exception": false,
     "start_time": "2025-05-08T08:34:35.008632",
     "status": "completed"
    },
    "tags": []
   },
   "outputs": [
    {
     "name": "stdout",
     "output_type": "stream",
     "text": [
      "Submission file 'submission.csv' created!\n"
     ]
    }
   ],
   "source": [
    "# Prepare submission DataFrame: spot_id column and then predictions for each cell type\n",
    "submission_df = predicted_labels.copy()\n",
    "submission_df.insert(0, 'ID', submission_df.index)\n",
    "\n",
    "# Save the submission file as submission.csv\n",
    "submission_df.to_csv(\"./submission.csv\", index=False)\n",
    "print(\"Submission file 'submission.csv' created!\")"
   ]
  }
 ],
 "metadata": {
  "kaggle": {
   "accelerator": "nvidiaTeslaT4",
   "dataSources": [
    {
     "databundleVersionId": 11390004,
     "sourceId": 94147,
     "sourceType": "competition"
    }
   ],
   "dockerImageVersionId": 30919,
   "isGpuEnabled": true,
   "isInternetEnabled": true,
   "language": "python",
   "sourceType": "notebook"
  },
  "kernelspec": {
   "display_name": "Python 3",
   "language": "python",
   "name": "python3"
  },
  "language_info": {
   "codemirror_mode": {
    "name": "ipython",
    "version": 3
   },
   "file_extension": ".py",
   "mimetype": "text/x-python",
   "name": "python",
   "nbconvert_exporter": "python",
   "pygments_lexer": "ipython3",
   "version": "3.10.12"
  },
  "papermill": {
   "default_parameters": {},
   "duration": 1124.396412,
   "end_time": "2025-05-08T08:34:38.231192",
   "environment_variables": {},
   "exception": null,
   "input_path": "__notebook__.ipynb",
   "output_path": "__notebook__.ipynb",
   "parameters": {},
   "start_time": "2025-05-08T08:15:53.834780",
   "version": "2.6.0"
  }
 },
 "nbformat": 4,
 "nbformat_minor": 5
}
