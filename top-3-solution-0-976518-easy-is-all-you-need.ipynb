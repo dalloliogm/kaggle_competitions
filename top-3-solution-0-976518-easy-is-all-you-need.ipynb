{
 "cells": [
  {
   "cell_type": "markdown",
   "id": "1677dc47",
   "metadata": {
    "papermill": {
     "duration": 0.008394,
     "end_time": "2025-07-17T12:35:48.665994",
     "exception": false,
     "start_time": "2025-07-17T12:35:48.657600",
     "status": "completed"
    },
    "tags": []
   },
   "source": [
    "# 🏆 Predict the Introverts from the Extroverts\n",
    "\n",
    "> Author: H-Z-Ning  \n",
    "> Date: 2025-07-03  \n",
    "> Competition Link: [Kaggle Competition Page](https://www.kaggle.com/competitions/playground-series-s5e7)\n",
    "\n",
    "---\n",
    "\n",
    "## 📚 Table of Contents\n",
    "\n",
    "1. [Project Overview](#project-overview)\n",
    "2. [Environment Setup and Data Loading](#environment-setup-and-data-loading)\n",
    "3. [Exploratory Data Analysis (EDA)](#exploratory-data-analysis-eda)\n",
    "4. [Feature Engineering](#feature-engineering)\n",
    "5. [Model Training](#model-training)\n",
    "6. [Model Evaluation](#model-evaluation)\n",
    "7. [Submission and Conclusion](#submission-and-conclusion)\n",
    "8. [Future Work](#future-work)\n",
    "\n",
    "---\n",
    "\n",
    "## 🧾 Project Overview\n",
    "\n",
    "This project aims to solve the \"Predict the Introverts from the Extroverts\" challenge from a Kaggle competition. The approach is divided into two main parts: data analysis and machine learning model development. Below is a breakdown of the tasks involved in each part.\n",
    "\n",
    "### Data Processing\n",
    "\n",
    "1. **Data Loading and Inspection:** Load the training and test datasets and visually inspect their distributions.\n",
    "2. **Correlation Analysis:** Use visualizations to examine the correlation between features and the target, as well as among the features themselves.\n",
    "3. **Missing Value Analysis and Imputation:** Visually examine the distribution of feature values and analyze their statistical descriptions. For features with a high percentage of missing values, decide whether to impute the missing data.\n",
    "4. **Feature Engineering:** Remove irrelevant features and create new useful features.\n",
    "5. **Outlier Removal:** Visually detect and remove outliers from the feature set using plots.\n",
    "\n",
    "### Machine Learning Model Development\n",
    "\n",
    "1. **Decision Tree Algorithm**\n",
    "2. **Random Forest Algorithm**\n",
    "3. **Ensemble Learning Algorithms**\n",
    "\n",
    "---\n"
   ]
  },
  {
   "cell_type": "markdown",
   "id": "6baa8ef9",
   "metadata": {
    "papermill": {
     "duration": 0.007174,
     "end_time": "2025-07-17T12:35:48.680679",
     "exception": false,
     "start_time": "2025-07-17T12:35:48.673505",
     "status": "completed"
    },
    "tags": []
   },
   "source": [
    "## 💻 Environment Setup and Data Loading"
   ]
  },
  {
   "cell_type": "code",
   "execution_count": 1,
   "id": "ad1c4df1",
   "metadata": {
    "execution": {
     "iopub.execute_input": "2025-07-17T12:35:48.696465Z",
     "iopub.status.busy": "2025-07-17T12:35:48.696055Z",
     "iopub.status.idle": "2025-07-17T12:35:52.727035Z",
     "shell.execute_reply": "2025-07-17T12:35:52.726216Z"
    },
    "papermill": {
     "duration": 4.041176,
     "end_time": "2025-07-17T12:35:52.729125",
     "exception": false,
     "start_time": "2025-07-17T12:35:48.687949",
     "status": "completed"
    },
    "tags": []
   },
   "outputs": [],
   "source": [
    "import numpy as np\n",
    "import pandas as pd\n",
    "import matplotlib.pyplot as plt\n",
    "import seaborn as sns\n",
    "import warnings\n",
    "\n",
    "plt.style.use(\"seaborn-v0_8-darkgrid\")\n",
    "warnings.filterwarnings(\"ignore\")\n",
    "plt.rc(\"font\",family=\"SimHei\",size=\"15\")  \n",
    "# import csv\n",
    "train_df = pd.read_csv(\"/kaggle/input/playground-series-s5e7/train.csv\")\n",
    "datasert_df = pd.read_csv(\"/kaggle/input/extrovert-vs-introvert-behavior-data-backup/personality_datasert.csv\")\n",
    "test_df = pd.read_csv(\"/kaggle/input/playground-series-s5e7/test.csv\")\n"
   ]
  },
  {
   "cell_type": "markdown",
   "id": "76896842",
   "metadata": {
    "papermill": {
     "duration": 0.007338,
     "end_time": "2025-07-17T12:35:52.744450",
     "exception": false,
     "start_time": "2025-07-17T12:35:52.737112",
     "status": "completed"
    },
    "tags": []
   },
   "source": [
    "## Data Acquisition and Merging\n",
    "\n",
    "This section describes how to acquire the datasets and merge them into a single DataFrame for further analysis and modeling.\n"
   ]
  },
  {
   "cell_type": "code",
   "execution_count": 2,
   "id": "7f5224d7",
   "metadata": {
    "execution": {
     "iopub.execute_input": "2025-07-17T12:35:52.763830Z",
     "iopub.status.busy": "2025-07-17T12:35:52.763508Z",
     "iopub.status.idle": "2025-07-17T12:35:52.824733Z",
     "shell.execute_reply": "2025-07-17T12:35:52.823595Z"
    },
    "papermill": {
     "duration": 0.074335,
     "end_time": "2025-07-17T12:35:52.826501",
     "exception": false,
     "start_time": "2025-07-17T12:35:52.752166",
     "status": "completed"
    },
    "tags": []
   },
   "outputs": [
    {
     "name": "stdout",
     "output_type": "stream",
     "text": [
      "<class 'pandas.core.frame.DataFrame'>\n",
      "RangeIndex: 18524 entries, 0 to 18523\n",
      "Data columns (total 10 columns):\n",
      " #   Column                     Non-Null Count  Dtype  \n",
      "---  ------                     --------------  -----  \n",
      " 0   id                         18524 non-null  int64  \n",
      " 1   Time_spent_Alone           17334 non-null  float64\n",
      " 2   Stage_fear                 16631 non-null  object \n",
      " 3   Social_event_attendance    17344 non-null  float64\n",
      " 4   Going_outside              17058 non-null  float64\n",
      " 5   Drained_after_socializing  17375 non-null  object \n",
      " 6   Friends_circle_size        17470 non-null  float64\n",
      " 7   Post_frequency             17260 non-null  float64\n",
      " 8   Personality                18524 non-null  object \n",
      " 9   match_p                    178 non-null    object \n",
      "dtypes: float64(5), int64(1), object(4)\n",
      "memory usage: 1.4+ MB\n"
     ]
    }
   ],
   "source": [
    "\n",
    "datasert_df = (\n",
    "    datasert_df\n",
    "    .rename(columns={'Personality': 'match_p'})\n",
    "    .drop_duplicates(['Time_spent_Alone', 'Stage_fear', 'Social_event_attendance',\n",
    "                      'Going_outside', 'Drained_after_socializing', \n",
    "                      'Friends_circle_size', 'Post_frequency'])\n",
    ")\n",
    "\n",
    "merge_cols = ['Time_spent_Alone', 'Stage_fear', 'Social_event_attendance',\n",
    "              'Going_outside', 'Drained_after_socializing', \n",
    "              'Friends_circle_size', 'Post_frequency']\n",
    "\n",
    "train_df = train_df.merge(datasert_df, how='left', on=merge_cols)\n",
    "test_df = test_df.merge(datasert_df, how='left', on=merge_cols)\n",
    "\n",
    "train_df.info()"
   ]
  },
  {
   "cell_type": "markdown",
   "id": "2eb9f384",
   "metadata": {
    "papermill": {
     "duration": 0.007919,
     "end_time": "2025-07-17T12:35:52.842047",
     "exception": false,
     "start_time": "2025-07-17T12:35:52.834128",
     "status": "completed"
    },
    "tags": []
   },
   "source": [
    "## Exploratory Data Analysis (EDA)\n",
    "\n",
    "### Visual Inspection of Training and Test Data\n",
    "\n",
    "First, take a look at the training data."
   ]
  },
  {
   "cell_type": "code",
   "execution_count": 3,
   "id": "b668214a",
   "metadata": {
    "execution": {
     "iopub.execute_input": "2025-07-17T12:35:52.858927Z",
     "iopub.status.busy": "2025-07-17T12:35:52.858588Z",
     "iopub.status.idle": "2025-07-17T12:35:52.911664Z",
     "shell.execute_reply": "2025-07-17T12:35:52.910683Z"
    },
    "papermill": {
     "duration": 0.063549,
     "end_time": "2025-07-17T12:35:52.913126",
     "exception": false,
     "start_time": "2025-07-17T12:35:52.849577",
     "status": "completed"
    },
    "tags": []
   },
   "outputs": [
    {
     "name": "stdout",
     "output_type": "stream",
     "text": [
      "<class 'pandas.core.frame.DataFrame'>\n",
      "RangeIndex: 18524 entries, 0 to 18523\n",
      "Data columns (total 10 columns):\n",
      " #   Column                     Non-Null Count  Dtype  \n",
      "---  ------                     --------------  -----  \n",
      " 0   id                         18524 non-null  int64  \n",
      " 1   Time_spent_Alone           17334 non-null  float64\n",
      " 2   Stage_fear                 16631 non-null  object \n",
      " 3   Social_event_attendance    17344 non-null  float64\n",
      " 4   Going_outside              17058 non-null  float64\n",
      " 5   Drained_after_socializing  17375 non-null  object \n",
      " 6   Friends_circle_size        17470 non-null  float64\n",
      " 7   Post_frequency             17260 non-null  float64\n",
      " 8   Personality                18524 non-null  object \n",
      " 9   match_p                    178 non-null    object \n",
      "dtypes: float64(5), int64(1), object(4)\n",
      "memory usage: 1.4+ MB\n"
     ]
    },
    {
     "data": {
      "text/html": [
       "<div>\n",
       "<style scoped>\n",
       "    .dataframe tbody tr th:only-of-type {\n",
       "        vertical-align: middle;\n",
       "    }\n",
       "\n",
       "    .dataframe tbody tr th {\n",
       "        vertical-align: top;\n",
       "    }\n",
       "\n",
       "    .dataframe thead th {\n",
       "        text-align: right;\n",
       "    }\n",
       "</style>\n",
       "<table border=\"1\" class=\"dataframe\">\n",
       "  <thead>\n",
       "    <tr style=\"text-align: right;\">\n",
       "      <th></th>\n",
       "      <th>id</th>\n",
       "      <th>Time_spent_Alone</th>\n",
       "      <th>Social_event_attendance</th>\n",
       "      <th>Going_outside</th>\n",
       "      <th>Friends_circle_size</th>\n",
       "      <th>Post_frequency</th>\n",
       "    </tr>\n",
       "  </thead>\n",
       "  <tbody>\n",
       "    <tr>\n",
       "      <th>count</th>\n",
       "      <td>18524.000000</td>\n",
       "      <td>17334.000000</td>\n",
       "      <td>17344.000000</td>\n",
       "      <td>17058.000000</td>\n",
       "      <td>17470.000000</td>\n",
       "      <td>17260.000000</td>\n",
       "    </tr>\n",
       "    <tr>\n",
       "      <th>mean</th>\n",
       "      <td>9261.500000</td>\n",
       "      <td>3.137764</td>\n",
       "      <td>5.265106</td>\n",
       "      <td>4.044319</td>\n",
       "      <td>7.996737</td>\n",
       "      <td>4.982097</td>\n",
       "    </tr>\n",
       "    <tr>\n",
       "      <th>std</th>\n",
       "      <td>5347.562529</td>\n",
       "      <td>3.003786</td>\n",
       "      <td>2.753359</td>\n",
       "      <td>2.062580</td>\n",
       "      <td>4.223484</td>\n",
       "      <td>2.879139</td>\n",
       "    </tr>\n",
       "    <tr>\n",
       "      <th>min</th>\n",
       "      <td>0.000000</td>\n",
       "      <td>0.000000</td>\n",
       "      <td>0.000000</td>\n",
       "      <td>0.000000</td>\n",
       "      <td>0.000000</td>\n",
       "      <td>0.000000</td>\n",
       "    </tr>\n",
       "    <tr>\n",
       "      <th>25%</th>\n",
       "      <td>4630.750000</td>\n",
       "      <td>1.000000</td>\n",
       "      <td>3.000000</td>\n",
       "      <td>3.000000</td>\n",
       "      <td>5.000000</td>\n",
       "      <td>3.000000</td>\n",
       "    </tr>\n",
       "    <tr>\n",
       "      <th>50%</th>\n",
       "      <td>9261.500000</td>\n",
       "      <td>2.000000</td>\n",
       "      <td>5.000000</td>\n",
       "      <td>4.000000</td>\n",
       "      <td>8.000000</td>\n",
       "      <td>5.000000</td>\n",
       "    </tr>\n",
       "    <tr>\n",
       "      <th>75%</th>\n",
       "      <td>13892.250000</td>\n",
       "      <td>4.000000</td>\n",
       "      <td>8.000000</td>\n",
       "      <td>6.000000</td>\n",
       "      <td>12.000000</td>\n",
       "      <td>7.000000</td>\n",
       "    </tr>\n",
       "    <tr>\n",
       "      <th>max</th>\n",
       "      <td>18523.000000</td>\n",
       "      <td>11.000000</td>\n",
       "      <td>10.000000</td>\n",
       "      <td>7.000000</td>\n",
       "      <td>15.000000</td>\n",
       "      <td>10.000000</td>\n",
       "    </tr>\n",
       "  </tbody>\n",
       "</table>\n",
       "</div>"
      ],
      "text/plain": [
       "                 id  Time_spent_Alone  Social_event_attendance  Going_outside  \\\n",
       "count  18524.000000      17334.000000             17344.000000   17058.000000   \n",
       "mean    9261.500000          3.137764                 5.265106       4.044319   \n",
       "std     5347.562529          3.003786                 2.753359       2.062580   \n",
       "min        0.000000          0.000000                 0.000000       0.000000   \n",
       "25%     4630.750000          1.000000                 3.000000       3.000000   \n",
       "50%     9261.500000          2.000000                 5.000000       4.000000   \n",
       "75%    13892.250000          4.000000                 8.000000       6.000000   \n",
       "max    18523.000000         11.000000                10.000000       7.000000   \n",
       "\n",
       "       Friends_circle_size  Post_frequency  \n",
       "count         17470.000000    17260.000000  \n",
       "mean              7.996737        4.982097  \n",
       "std               4.223484        2.879139  \n",
       "min               0.000000        0.000000  \n",
       "25%               5.000000        3.000000  \n",
       "50%               8.000000        5.000000  \n",
       "75%              12.000000        7.000000  \n",
       "max              15.000000       10.000000  "
      ]
     },
     "execution_count": 3,
     "metadata": {},
     "output_type": "execute_result"
    }
   ],
   "source": [
    "train_df.info()\n",
    "train_df.describe()"
   ]
  },
  {
   "cell_type": "markdown",
   "id": "744c17c4",
   "metadata": {
    "papermill": {
     "duration": 0.007984,
     "end_time": "2025-07-17T12:35:52.929023",
     "exception": false,
     "start_time": "2025-07-17T12:35:52.921039",
     "status": "completed"
    },
    "tags": []
   },
   "source": [
    "It can be observed that all features have some missing values, but the amount of missing data is relatively small.\n",
    "\n",
    "Next, use `train_df.head()` to view the values of the first five records."
   ]
  },
  {
   "cell_type": "code",
   "execution_count": 4,
   "id": "77365347",
   "metadata": {
    "execution": {
     "iopub.execute_input": "2025-07-17T12:35:52.946641Z",
     "iopub.status.busy": "2025-07-17T12:35:52.945935Z",
     "iopub.status.idle": "2025-07-17T12:35:52.961076Z",
     "shell.execute_reply": "2025-07-17T12:35:52.960068Z"
    },
    "papermill": {
     "duration": 0.025721,
     "end_time": "2025-07-17T12:35:52.962623",
     "exception": false,
     "start_time": "2025-07-17T12:35:52.936902",
     "status": "completed"
    },
    "tags": []
   },
   "outputs": [
    {
     "data": {
      "text/html": [
       "<div>\n",
       "<style scoped>\n",
       "    .dataframe tbody tr th:only-of-type {\n",
       "        vertical-align: middle;\n",
       "    }\n",
       "\n",
       "    .dataframe tbody tr th {\n",
       "        vertical-align: top;\n",
       "    }\n",
       "\n",
       "    .dataframe thead th {\n",
       "        text-align: right;\n",
       "    }\n",
       "</style>\n",
       "<table border=\"1\" class=\"dataframe\">\n",
       "  <thead>\n",
       "    <tr style=\"text-align: right;\">\n",
       "      <th></th>\n",
       "      <th>id</th>\n",
       "      <th>Time_spent_Alone</th>\n",
       "      <th>Stage_fear</th>\n",
       "      <th>Social_event_attendance</th>\n",
       "      <th>Going_outside</th>\n",
       "      <th>Drained_after_socializing</th>\n",
       "      <th>Friends_circle_size</th>\n",
       "      <th>Post_frequency</th>\n",
       "      <th>Personality</th>\n",
       "      <th>match_p</th>\n",
       "    </tr>\n",
       "  </thead>\n",
       "  <tbody>\n",
       "    <tr>\n",
       "      <th>0</th>\n",
       "      <td>0</td>\n",
       "      <td>0.0</td>\n",
       "      <td>No</td>\n",
       "      <td>6.0</td>\n",
       "      <td>4.0</td>\n",
       "      <td>No</td>\n",
       "      <td>15.0</td>\n",
       "      <td>5.0</td>\n",
       "      <td>Extrovert</td>\n",
       "      <td>NaN</td>\n",
       "    </tr>\n",
       "    <tr>\n",
       "      <th>1</th>\n",
       "      <td>1</td>\n",
       "      <td>1.0</td>\n",
       "      <td>No</td>\n",
       "      <td>7.0</td>\n",
       "      <td>3.0</td>\n",
       "      <td>No</td>\n",
       "      <td>10.0</td>\n",
       "      <td>8.0</td>\n",
       "      <td>Extrovert</td>\n",
       "      <td>NaN</td>\n",
       "    </tr>\n",
       "    <tr>\n",
       "      <th>2</th>\n",
       "      <td>2</td>\n",
       "      <td>6.0</td>\n",
       "      <td>Yes</td>\n",
       "      <td>1.0</td>\n",
       "      <td>0.0</td>\n",
       "      <td>NaN</td>\n",
       "      <td>3.0</td>\n",
       "      <td>0.0</td>\n",
       "      <td>Introvert</td>\n",
       "      <td>NaN</td>\n",
       "    </tr>\n",
       "    <tr>\n",
       "      <th>3</th>\n",
       "      <td>3</td>\n",
       "      <td>3.0</td>\n",
       "      <td>No</td>\n",
       "      <td>7.0</td>\n",
       "      <td>3.0</td>\n",
       "      <td>No</td>\n",
       "      <td>11.0</td>\n",
       "      <td>5.0</td>\n",
       "      <td>Extrovert</td>\n",
       "      <td>NaN</td>\n",
       "    </tr>\n",
       "    <tr>\n",
       "      <th>4</th>\n",
       "      <td>4</td>\n",
       "      <td>1.0</td>\n",
       "      <td>No</td>\n",
       "      <td>4.0</td>\n",
       "      <td>4.0</td>\n",
       "      <td>No</td>\n",
       "      <td>13.0</td>\n",
       "      <td>NaN</td>\n",
       "      <td>Extrovert</td>\n",
       "      <td>NaN</td>\n",
       "    </tr>\n",
       "  </tbody>\n",
       "</table>\n",
       "</div>"
      ],
      "text/plain": [
       "   id  Time_spent_Alone Stage_fear  Social_event_attendance  Going_outside  \\\n",
       "0   0               0.0         No                      6.0            4.0   \n",
       "1   1               1.0         No                      7.0            3.0   \n",
       "2   2               6.0        Yes                      1.0            0.0   \n",
       "3   3               3.0         No                      7.0            3.0   \n",
       "4   4               1.0         No                      4.0            4.0   \n",
       "\n",
       "  Drained_after_socializing  Friends_circle_size  Post_frequency Personality  \\\n",
       "0                        No                 15.0             5.0   Extrovert   \n",
       "1                        No                 10.0             8.0   Extrovert   \n",
       "2                       NaN                  3.0             0.0   Introvert   \n",
       "3                        No                 11.0             5.0   Extrovert   \n",
       "4                        No                 13.0             NaN   Extrovert   \n",
       "\n",
       "  match_p  \n",
       "0     NaN  \n",
       "1     NaN  \n",
       "2     NaN  \n",
       "3     NaN  \n",
       "4     NaN  "
      ]
     },
     "execution_count": 4,
     "metadata": {},
     "output_type": "execute_result"
    }
   ],
   "source": [
    "train_df.head()"
   ]
  },
  {
   "cell_type": "markdown",
   "id": "1ac36086",
   "metadata": {
    "papermill": {
     "duration": 0.008066,
     "end_time": "2025-07-17T12:35:52.978827",
     "exception": false,
     "start_time": "2025-07-17T12:35:52.970761",
     "status": "completed"
    },
    "tags": []
   },
   "source": [
    "### Correlation Analysis\n",
    "\n",
    "Correlation analysis will be conducted using visualizations to observe the relationships between each feature and the target, as well as among the features themselves.\n",
    "\n",
    "Correlation measures the strength and direction of the relationship between two or more variables. Based on the correlation values, we can assess how strongly variables are related. The algorithm used for this analysis is the **Pearson Correlation Coefficient**.\n",
    "\n",
    "**Pearson Correlation Coefficient:**  \n",
    "Measures the linear relationship between variables and is suitable for numerical variables.  \n",
    "- **Positive Correlation:** When one variable increases, the other also increases. For example, there may be a positive correlation between height and weight.  \n",
    "- **Negative Correlation:** When one variable increases, the other decreases. For example, there may be a negative correlation between temperature and heating usage.  \n",
    "- **No Correlation:** No clear relationship between the variables.  \n",
    "\n",
    "Correlation values typically range from -1 to 1:  \n",
    "- **1:** Perfect positive correlation  \n",
    "- **-1:** Perfect negative correlation  \n",
    "- **0:** No linear correlation  \n",
    "- **Close to 1 or -1:** Strong correlation  \n",
    "- **Close to 0:** Weak correlation  \n",
    "\n",
    "Correlation analysis is conducted using pandas.  \n",
    "**Note:** Correlation analysis can only be performed on numerical features."
   ]
  },
  {
   "cell_type": "code",
   "execution_count": 5,
   "id": "d1f4c4cf",
   "metadata": {
    "execution": {
     "iopub.execute_input": "2025-07-17T12:35:52.996453Z",
     "iopub.status.busy": "2025-07-17T12:35:52.996034Z",
     "iopub.status.idle": "2025-07-17T12:35:53.012623Z",
     "shell.execute_reply": "2025-07-17T12:35:53.011361Z"
    },
    "papermill": {
     "duration": 0.027173,
     "end_time": "2025-07-17T12:35:53.014246",
     "exception": false,
     "start_time": "2025-07-17T12:35:52.987073",
     "status": "completed"
    },
    "tags": []
   },
   "outputs": [
    {
     "data": {
      "text/html": [
       "<div>\n",
       "<style scoped>\n",
       "    .dataframe tbody tr th:only-of-type {\n",
       "        vertical-align: middle;\n",
       "    }\n",
       "\n",
       "    .dataframe tbody tr th {\n",
       "        vertical-align: top;\n",
       "    }\n",
       "\n",
       "    .dataframe thead th {\n",
       "        text-align: right;\n",
       "    }\n",
       "</style>\n",
       "<table border=\"1\" class=\"dataframe\">\n",
       "  <thead>\n",
       "    <tr style=\"text-align: right;\">\n",
       "      <th></th>\n",
       "      <th>Time_spent_Alone</th>\n",
       "      <th>Social_event_attendance</th>\n",
       "      <th>Going_outside</th>\n",
       "      <th>Friends_circle_size</th>\n",
       "      <th>Post_frequency</th>\n",
       "    </tr>\n",
       "  </thead>\n",
       "  <tbody>\n",
       "    <tr>\n",
       "      <th>Time_spent_Alone</th>\n",
       "      <td>1.000000</td>\n",
       "      <td>-0.628806</td>\n",
       "      <td>-0.640884</td>\n",
       "      <td>-0.598014</td>\n",
       "      <td>-0.611544</td>\n",
       "    </tr>\n",
       "    <tr>\n",
       "      <th>Social_event_attendance</th>\n",
       "      <td>-0.628806</td>\n",
       "      <td>1.000000</td>\n",
       "      <td>0.585224</td>\n",
       "      <td>0.566675</td>\n",
       "      <td>0.566679</td>\n",
       "    </tr>\n",
       "    <tr>\n",
       "      <th>Going_outside</th>\n",
       "      <td>-0.640884</td>\n",
       "      <td>0.585224</td>\n",
       "      <td>1.000000</td>\n",
       "      <td>0.549864</td>\n",
       "      <td>0.579305</td>\n",
       "    </tr>\n",
       "    <tr>\n",
       "      <th>Friends_circle_size</th>\n",
       "      <td>-0.598014</td>\n",
       "      <td>0.566675</td>\n",
       "      <td>0.549864</td>\n",
       "      <td>1.000000</td>\n",
       "      <td>0.522272</td>\n",
       "    </tr>\n",
       "    <tr>\n",
       "      <th>Post_frequency</th>\n",
       "      <td>-0.611544</td>\n",
       "      <td>0.566679</td>\n",
       "      <td>0.579305</td>\n",
       "      <td>0.522272</td>\n",
       "      <td>1.000000</td>\n",
       "    </tr>\n",
       "  </tbody>\n",
       "</table>\n",
       "</div>"
      ],
      "text/plain": [
       "                         Time_spent_Alone  Social_event_attendance  \\\n",
       "Time_spent_Alone                 1.000000                -0.628806   \n",
       "Social_event_attendance         -0.628806                 1.000000   \n",
       "Going_outside                   -0.640884                 0.585224   \n",
       "Friends_circle_size             -0.598014                 0.566675   \n",
       "Post_frequency                  -0.611544                 0.566679   \n",
       "\n",
       "                         Going_outside  Friends_circle_size  Post_frequency  \n",
       "Time_spent_Alone             -0.640884            -0.598014       -0.611544  \n",
       "Social_event_attendance       0.585224             0.566675        0.566679  \n",
       "Going_outside                 1.000000             0.549864        0.579305  \n",
       "Friends_circle_size           0.549864             1.000000        0.522272  \n",
       "Post_frequency                0.579305             0.522272        1.000000  "
      ]
     },
     "execution_count": 5,
     "metadata": {},
     "output_type": "execute_result"
    }
   ],
   "source": [
    "numeric_df = train_df.select_dtypes(include='number').drop(columns=['id'])\n",
    "numeric_df.corr()"
   ]
  },
  {
   "cell_type": "markdown",
   "id": "04d29487",
   "metadata": {
    "papermill": {
     "duration": 0.007837,
     "end_time": "2025-07-17T12:35:53.030178",
     "exception": false,
     "start_time": "2025-07-17T12:35:53.022341",
     "status": "completed"
    },
    "tags": []
   },
   "source": [
    "Use Seaborn to display a heatmap for a more intuitive visualization of the correlations between feature values.\n"
   ]
  },
  {
   "cell_type": "code",
   "execution_count": 6,
   "id": "3da64c90",
   "metadata": {
    "execution": {
     "iopub.execute_input": "2025-07-17T12:35:53.048026Z",
     "iopub.status.busy": "2025-07-17T12:35:53.046996Z",
     "iopub.status.idle": "2025-07-17T12:35:53.462764Z",
     "shell.execute_reply": "2025-07-17T12:35:53.461619Z"
    },
    "papermill": {
     "duration": 0.427336,
     "end_time": "2025-07-17T12:35:53.465411",
     "exception": false,
     "start_time": "2025-07-17T12:35:53.038075",
     "status": "completed"
    },
    "tags": []
   },
   "outputs": [
    {
     "data": {
      "image/png": "[encoded data removed]",
      "text/plain": [
       "<Figure size 800x600 with 2 Axes>"
      ]
     },
     "metadata": {},
     "output_type": "display_data"
    }
   ],
   "source": [
    "plt.figure(figsize=(8, 6))\n",
    "sns.heatmap(numeric_df.corr(),annot=True,cmap='coolwarm',fmt='.2f', vmin=-1, vmax=1)\n",
    "plt.title('Heatmap')\n",
    "plt.show()"
   ]
  },
  {
   "cell_type": "markdown",
   "id": "0a454599",
   "metadata": {
    "papermill": {
     "duration": 0.010938,
     "end_time": "2025-07-17T12:35:53.488525",
     "exception": false,
     "start_time": "2025-07-17T12:35:53.477587",
     "status": "completed"
    },
    "tags": []
   },
   "source": [
    "From the heatmap above, we can observe that **Time_spent_Alone** is negatively correlated with the other features, while the other features are positively correlated with each other. Moreover, the correlation values among the features do not differ significantly.\n",
    "\n",
    "**In the missing value imputation section below, features will be grouped based on their correlations. Then, the missing values within each group will be filled using the group's median or mode.**\n"
   ]
  },
  {
   "cell_type": "markdown",
   "id": "7b28ef89",
   "metadata": {
    "papermill": {
     "duration": 0.011407,
     "end_time": "2025-07-17T12:35:53.511303",
     "exception": false,
     "start_time": "2025-07-17T12:35:53.499896",
     "status": "completed"
    },
    "tags": []
   },
   "source": [
    "### Missing Value Imputation\n",
    "\n",
    "**In the following missing value imputation process, features are grouped based on the correlation analysis above. Then, missing values within each group are filled using the group's median or mode.**\n",
    "\n",
    "When filling missing values, the training and test datasets are first combined and imputed together. This ensures that the imputed values reflect the shared characteristics of both datasets, minimizing discrepancies between training and testing phases.\n",
    "\n",
    "First, we examine the missing value status of each feature."
   ]
  },
  {
   "cell_type": "code",
   "execution_count": 7,
   "id": "b04bde4c",
   "metadata": {
    "execution": {
     "iopub.execute_input": "2025-07-17T12:35:53.534468Z",
     "iopub.status.busy": "2025-07-17T12:35:53.534116Z",
     "iopub.status.idle": "2025-07-17T12:35:53.549874Z",
     "shell.execute_reply": "2025-07-17T12:35:53.548344Z"
    },
    "papermill": {
     "duration": 0.029456,
     "end_time": "2025-07-17T12:35:53.551569",
     "exception": false,
     "start_time": "2025-07-17T12:35:53.522113",
     "status": "completed"
    },
    "tags": []
   },
   "outputs": [
    {
     "name": "stdout",
     "output_type": "stream",
     "text": [
      "<class 'pandas.core.frame.DataFrame'>\n",
      "RangeIndex: 18524 entries, 0 to 18523\n",
      "Data columns (total 10 columns):\n",
      " #   Column                     Non-Null Count  Dtype  \n",
      "---  ------                     --------------  -----  \n",
      " 0   id                         18524 non-null  int64  \n",
      " 1   Time_spent_Alone           17334 non-null  float64\n",
      " 2   Stage_fear                 16631 non-null  object \n",
      " 3   Social_event_attendance    17344 non-null  float64\n",
      " 4   Going_outside              17058 non-null  float64\n",
      " 5   Drained_after_socializing  17375 non-null  object \n",
      " 6   Friends_circle_size        17470 non-null  float64\n",
      " 7   Post_frequency             17260 non-null  float64\n",
      " 8   Personality                18524 non-null  object \n",
      " 9   match_p                    178 non-null    object \n",
      "dtypes: float64(5), int64(1), object(4)\n",
      "memory usage: 1.4+ MB\n"
     ]
    }
   ],
   "source": [
    "train_df.info()"
   ]
  },
  {
   "cell_type": "code",
   "execution_count": 8,
   "id": "f5764a6f",
   "metadata": {
    "execution": {
     "iopub.execute_input": "2025-07-17T12:35:53.575909Z",
     "iopub.status.busy": "2025-07-17T12:35:53.575615Z",
     "iopub.status.idle": "2025-07-17T12:35:53.601698Z",
     "shell.execute_reply": "2025-07-17T12:35:53.600284Z"
    },
    "papermill": {
     "duration": 0.040889,
     "end_time": "2025-07-17T12:35:53.603796",
     "exception": false,
     "start_time": "2025-07-17T12:35:53.562907",
     "status": "completed"
    },
    "tags": []
   },
   "outputs": [],
   "source": [
    "train_ID = train_df['id']\n",
    "test_ID = test_df['id']\n",
    "\n",
    "#Now drop the  'id' colum since it's unnecessary for  the prediction process.\n",
    "train_df.drop(\"id\", axis = 1, inplace = True)\n",
    "test_df.drop(\"id\", axis = 1, inplace = True)\n",
    "\n",
    "ntrain = train_df.shape[0] \n",
    "ntest = test_df.shape[0] \n",
    "y_train = train_df['Personality'].map({'Extrovert': 1, 'Introvert': 0}).values \n",
    "\n",
    "all_data = pd.concat((train_df, test_df)).reset_index(drop=True)\n",
    "all_data.drop(['Personality'], axis=1, inplace=True)"
   ]
  },
  {
   "cell_type": "code",
   "execution_count": 9,
   "id": "2c6f3589",
   "metadata": {
    "execution": {
     "iopub.execute_input": "2025-07-17T12:35:53.698220Z",
     "iopub.status.busy": "2025-07-17T12:35:53.697867Z",
     "iopub.status.idle": "2025-07-17T12:35:53.712983Z",
     "shell.execute_reply": "2025-07-17T12:35:53.711933Z"
    },
    "papermill": {
     "duration": 0.098955,
     "end_time": "2025-07-17T12:35:53.714305",
     "exception": false,
     "start_time": "2025-07-17T12:35:53.615350",
     "status": "completed"
    },
    "tags": []
   },
   "outputs": [
    {
     "name": "stdout",
     "output_type": "stream",
     "text": [
      "<class 'pandas.core.frame.DataFrame'>\n",
      "RangeIndex: 24699 entries, 0 to 24698\n",
      "Data columns (total 8 columns):\n",
      " #   Column                     Non-Null Count  Dtype  \n",
      "---  ------                     --------------  -----  \n",
      " 0   Time_spent_Alone           23084 non-null  float64\n",
      " 1   Stage_fear                 22208 non-null  object \n",
      " 2   Social_event_attendance    23122 non-null  float64\n",
      " 3   Going_outside              22767 non-null  float64\n",
      " 4   Drained_after_socializing  23118 non-null  object \n",
      " 5   Friends_circle_size        23295 non-null  float64\n",
      " 6   Post_frequency             23027 non-null  float64\n",
      " 7   match_p                    236 non-null    object \n",
      "dtypes: float64(5), object(3)\n",
      "memory usage: 1.5+ MB\n"
     ]
    }
   ],
   "source": [
    "all_data.info()"
   ]
  },
  {
   "cell_type": "markdown",
   "id": "238d6ee0",
   "metadata": {
    "papermill": {
     "duration": 0.010277,
     "end_time": "2025-07-17T12:35:53.735599",
     "exception": false,
     "start_time": "2025-07-17T12:35:53.725322",
     "status": "completed"
    },
    "tags": []
   },
   "source": [
    "**1. Imputing Missing Values for Time_spent_Alone**\n",
    "\n",
    "Based on the correlation analysis, we know that **Time_spent_Alone** is inversely related to **Social_event_attendance**.  \n",
    "Therefore, we divide **Social_event_attendance** into four groups using its 1/4, 1/2 (median), and 3/4 quantiles.  \n",
    "Then, we fill the missing values of **Time_spent_Alone** within each group accordingly.\n"
   ]
  },
  {
   "cell_type": "code",
   "execution_count": 10,
   "id": "b8be8b43",
   "metadata": {
    "execution": {
     "iopub.execute_input": "2025-07-17T12:35:53.758494Z",
     "iopub.status.busy": "2025-07-17T12:35:53.757618Z",
     "iopub.status.idle": "2025-07-17T12:35:53.783482Z",
     "shell.execute_reply": "2025-07-17T12:35:53.782245Z"
    },
    "papermill": {
     "duration": 0.03897,
     "end_time": "2025-07-17T12:35:53.785094",
     "exception": false,
     "start_time": "2025-07-17T12:35:53.746124",
     "status": "completed"
    },
    "tags": []
   },
   "outputs": [
    {
     "name": "stdout",
     "output_type": "stream",
     "text": [
      "<class 'pandas.core.frame.DataFrame'>\n",
      "RangeIndex: 24699 entries, 0 to 24698\n",
      "Data columns (total 8 columns):\n",
      " #   Column                     Non-Null Count  Dtype  \n",
      "---  ------                     --------------  -----  \n",
      " 0   Time_spent_Alone           24648 non-null  float64\n",
      " 1   Stage_fear                 22208 non-null  object \n",
      " 2   Social_event_attendance    23122 non-null  float64\n",
      " 3   Going_outside              22767 non-null  float64\n",
      " 4   Drained_after_socializing  23118 non-null  object \n",
      " 5   Friends_circle_size        23295 non-null  float64\n",
      " 6   Post_frequency             23027 non-null  float64\n",
      " 7   match_p                    236 non-null    object \n",
      "dtypes: float64(5), object(3)\n",
      "memory usage: 1.5+ MB\n"
     ]
    }
   ],
   "source": [
    "# 1. Create a new grouping column based on the quartiles of Social_event_attendance\n",
    "all_data['social_attend_bin'] = pd.qcut(\n",
    "    all_data['Social_event_attendance'], \n",
    "    q=[0, 0.25, 0.5, 0.75, 1.0], \n",
    "    labels=['Q1', 'Q2', 'Q3', 'Q4']\n",
    ")\n",
    "\n",
    "\n",
    "# 2. Define a function to fill missing values in Time\\_spent\\_Alone with the median within each group\n",
    "def fill_by_group_median(df, group_col, target_col):\n",
    "    return df[target_col].fillna(df.groupby(group_col)[target_col].transform('median'))\n",
    "\n",
    "# 3.Perform group-wise filling of missing values\n",
    "all_data['Time_spent_Alone'] = fill_by_group_median(\n",
    "    all_data, group_col='social_attend_bin', target_col='Time_spent_Alone'\n",
    ")\n",
    "\n",
    "\n",
    "all_data.drop(columns=['social_attend_bin'], inplace=True)\n",
    "\n",
    "all_data.info()"
   ]
  },
  {
   "cell_type": "markdown",
   "id": "ae8f3a9c",
   "metadata": {
    "papermill": {
     "duration": 0.010695,
     "end_time": "2025-07-17T12:35:53.806842",
     "exception": false,
     "start_time": "2025-07-17T12:35:53.796147",
     "status": "completed"
    },
    "tags": []
   },
   "source": [
    "It can be observed that **Time_spent_Alone** still has missing values because the rows with these missing values have both **Time_spent_Alone** and **Social_event_attendance** missing. Therefore, these missing values cannot be imputed based on **Social_event_attendance**.\n",
    "\n",
    "Fortunately, **Going_outside** is also correlated with **Time_spent_Alone**, so the same method is applied to fill the missing values of **Time_spent_Alone** using **Going_outside**.\n"
   ]
  },
  {
   "cell_type": "code",
   "execution_count": 11,
   "id": "a3ca5756",
   "metadata": {
    "execution": {
     "iopub.execute_input": "2025-07-17T12:35:53.829659Z",
     "iopub.status.busy": "2025-07-17T12:35:53.829379Z",
     "iopub.status.idle": "2025-07-17T12:35:53.852608Z",
     "shell.execute_reply": "2025-07-17T12:35:53.851688Z"
    },
    "papermill": {
     "duration": 0.036658,
     "end_time": "2025-07-17T12:35:53.854277",
     "exception": false,
     "start_time": "2025-07-17T12:35:53.817619",
     "status": "completed"
    },
    "tags": []
   },
   "outputs": [
    {
     "name": "stdout",
     "output_type": "stream",
     "text": [
      "<class 'pandas.core.frame.DataFrame'>\n",
      "RangeIndex: 24699 entries, 0 to 24698\n",
      "Data columns (total 8 columns):\n",
      " #   Column                     Non-Null Count  Dtype  \n",
      "---  ------                     --------------  -----  \n",
      " 0   Time_spent_Alone           24699 non-null  float64\n",
      " 1   Stage_fear                 22208 non-null  object \n",
      " 2   Social_event_attendance    23122 non-null  float64\n",
      " 3   Going_outside              22767 non-null  float64\n",
      " 4   Drained_after_socializing  23118 non-null  object \n",
      " 5   Friends_circle_size        23295 non-null  float64\n",
      " 6   Post_frequency             23027 non-null  float64\n",
      " 7   match_p                    236 non-null    object \n",
      "dtypes: float64(5), object(3)\n",
      "memory usage: 1.5+ MB\n"
     ]
    }
   ],
   "source": [
    "# 1. Create a new grouping column based on the quartiles of Social_event_attendance\n",
    "all_data['Going_outside_bin'] = pd.qcut(\n",
    "    all_data['Going_outside'], \n",
    "    q=[0, 0.25, 0.5, 0.75, 1.0], \n",
    "    labels=['Q1', 'Q2', 'Q3', 'Q4']\n",
    ")\n",
    "\n",
    "\n",
    "# 2. Define a function to fill missing values in Time\\_spent\\_Alone with the median within each group\n",
    "def fill_by_group_median(df, group_col, target_col):\n",
    "    return df[target_col].fillna(df.groupby(group_col)[target_col].transform('median'))\n",
    "\n",
    "# 3. Perform group-wise filling of missing values\n",
    "all_data['Time_spent_Alone'] = fill_by_group_median(\n",
    "    all_data, group_col='Going_outside_bin', target_col='Time_spent_Alone'\n",
    ")\n",
    "\n",
    "\n",
    "all_data.drop(columns=['Going_outside_bin'], inplace=True)\n",
    "\n",
    "all_data.info()"
   ]
  },
  {
   "cell_type": "markdown",
   "id": "a13a2ba1",
   "metadata": {
    "papermill": {
     "duration": 0.010732,
     "end_time": "2025-07-17T12:35:53.876430",
     "exception": false,
     "start_time": "2025-07-17T12:35:53.865698",
     "status": "completed"
    },
    "tags": []
   },
   "source": [
    "At this point, the missing values in **Time_spent_Alone** have been fully imputed."
   ]
  },
  {
   "cell_type": "markdown",
   "id": "c7bce3d6",
   "metadata": {
    "papermill": {
     "duration": 0.010487,
     "end_time": "2025-07-17T12:35:53.898370",
     "exception": false,
     "start_time": "2025-07-17T12:35:53.887883",
     "status": "completed"
    },
    "tags": []
   },
   "source": [
    "1. **2. Imputing Missing Values for Social_event_attendance**\n",
    "\n",
    "Based on the correlation analysis, **Social_event_attendance** has a strong positive correlation with **Going_outside**.  \n",
    "Therefore, we divide **Going_outside** into four groups according to its 1/4 quantile, median (1/2 quantile), and 3/4 quantile.  \n",
    "Then, we fill the missing values of **Social_event_attendance** within each group accordingly."
   ]
  },
  {
   "cell_type": "code",
   "execution_count": 12,
   "id": "a96b9c01",
   "metadata": {
    "execution": {
     "iopub.execute_input": "2025-07-17T12:35:53.922866Z",
     "iopub.status.busy": "2025-07-17T12:35:53.922593Z",
     "iopub.status.idle": "2025-07-17T12:35:53.946099Z",
     "shell.execute_reply": "2025-07-17T12:35:53.944986Z"
    },
    "papermill": {
     "duration": 0.037834,
     "end_time": "2025-07-17T12:35:53.947656",
     "exception": false,
     "start_time": "2025-07-17T12:35:53.909822",
     "status": "completed"
    },
    "tags": []
   },
   "outputs": [
    {
     "name": "stdout",
     "output_type": "stream",
     "text": [
      "<class 'pandas.core.frame.DataFrame'>\n",
      "RangeIndex: 24699 entries, 0 to 24698\n",
      "Data columns (total 8 columns):\n",
      " #   Column                     Non-Null Count  Dtype  \n",
      "---  ------                     --------------  -----  \n",
      " 0   Time_spent_Alone           24699 non-null  float64\n",
      " 1   Stage_fear                 22208 non-null  object \n",
      " 2   Social_event_attendance    24637 non-null  float64\n",
      " 3   Going_outside              22767 non-null  float64\n",
      " 4   Drained_after_socializing  23118 non-null  object \n",
      " 5   Friends_circle_size        23295 non-null  float64\n",
      " 6   Post_frequency             23027 non-null  float64\n",
      " 7   match_p                    236 non-null    object \n",
      "dtypes: float64(5), object(3)\n",
      "memory usage: 1.5+ MB\n"
     ]
    }
   ],
   "source": [
    "# 1. Create a new grouping column based on the quartiles of Social_event_attendance\n",
    "all_data['Going_outside_bin'] = pd.qcut(\n",
    "    all_data['Going_outside'], \n",
    "    q=[0, 0.25, 0.5, 0.75, 1.0], \n",
    "    labels=['Q1', 'Q2', 'Q3', 'Q4']\n",
    ")\n",
    "\n",
    "\n",
    "# 2. Define a function to fill missing values in Time\\_spent\\_Alone with the median within each group\n",
    "def fill_by_group_median(df, group_col, target_col):\n",
    "    return df[target_col].fillna(df.groupby(group_col)[target_col].transform('median'))\n",
    "\n",
    "# 3. Perform group-wise filling of missing values\n",
    "all_data['Social_event_attendance'] = fill_by_group_median(\n",
    "    all_data, group_col='Going_outside_bin', target_col='Social_event_attendance'\n",
    ")\n",
    "\n",
    "\n",
    "all_data.drop(columns=['Going_outside_bin'], inplace=True)\n",
    "\n",
    "all_data.info()"
   ]
  },
  {
   "cell_type": "markdown",
   "id": "62db740a",
   "metadata": {
    "papermill": {
     "duration": 0.010787,
     "end_time": "2025-07-17T12:35:53.969860",
     "exception": false,
     "start_time": "2025-07-17T12:35:53.959073",
     "status": "completed"
    },
    "tags": []
   },
   "source": [
    "Based on the correlation analysis, **Social_event_attendance** has a strong positive correlation with **Friends_circle_size**.  \n",
    "Therefore, we divide **Friends_circle_size** into four groups using its 1/4 quantile, median (1/2 quantile), and 3/4 quantile.  \n",
    "Then, we fill the missing values of **Social_event_attendance** within each group accordingly."
   ]
  },
  {
   "cell_type": "code",
   "execution_count": 13,
   "id": "26c3dd9e",
   "metadata": {
    "execution": {
     "iopub.execute_input": "2025-07-17T12:35:53.993056Z",
     "iopub.status.busy": "2025-07-17T12:35:53.992723Z",
     "iopub.status.idle": "2025-07-17T12:35:54.017608Z",
     "shell.execute_reply": "2025-07-17T12:35:54.016485Z"
    },
    "papermill": {
     "duration": 0.038419,
     "end_time": "2025-07-17T12:35:54.019186",
     "exception": false,
     "start_time": "2025-07-17T12:35:53.980767",
     "status": "completed"
    },
    "tags": []
   },
   "outputs": [
    {
     "name": "stdout",
     "output_type": "stream",
     "text": [
      "<class 'pandas.core.frame.DataFrame'>\n",
      "RangeIndex: 24699 entries, 0 to 24698\n",
      "Data columns (total 8 columns):\n",
      " #   Column                     Non-Null Count  Dtype  \n",
      "---  ------                     --------------  -----  \n",
      " 0   Time_spent_Alone           24699 non-null  float64\n",
      " 1   Stage_fear                 22208 non-null  object \n",
      " 2   Social_event_attendance    24696 non-null  float64\n",
      " 3   Going_outside              22767 non-null  float64\n",
      " 4   Drained_after_socializing  23118 non-null  object \n",
      " 5   Friends_circle_size        23295 non-null  float64\n",
      " 6   Post_frequency             23027 non-null  float64\n",
      " 7   match_p                    236 non-null    object \n",
      "dtypes: float64(5), object(3)\n",
      "memory usage: 1.5+ MB\n"
     ]
    }
   ],
   "source": [
    "# 1. Create a new grouping column based on the quartiles of Social_event_attendance\n",
    "all_data['Friends_circle_bin'] = pd.qcut(\n",
    "    all_data['Friends_circle_size'], \n",
    "    q=[0, 0.25, 0.5, 0.75, 1.0], \n",
    "    labels=['Q1', 'Q2', 'Q3', 'Q4']\n",
    ")\n",
    "\n",
    "\n",
    "# 2. Define a function to fill missing values in Time\\_spent\\_Alone with the median within each group\n",
    "def fill_by_group_median(df, group_col, target_col):\n",
    "    return df[target_col].fillna(df.groupby(group_col)[target_col].transform('median'))\n",
    "\n",
    "# 3. Perform group-wise filling of missing values\n",
    "all_data['Social_event_attendance'] = fill_by_group_median(\n",
    "    all_data, group_col='Friends_circle_bin', target_col='Social_event_attendance'\n",
    ")\n",
    "\n",
    "\n",
    "all_data.drop(columns=['Friends_circle_bin'], inplace=True)\n",
    "\n",
    "all_data.info()"
   ]
  },
  {
   "cell_type": "markdown",
   "id": "589c1765",
   "metadata": {
    "papermill": {
     "duration": 0.010548,
     "end_time": "2025-07-17T12:35:54.041256",
     "exception": false,
     "start_time": "2025-07-17T12:35:54.030708",
     "status": "completed"
    },
    "tags": []
   },
   "source": [
    "Based on the correlation analysis, **Social_event_attendance** has a strong positive correlation with **Post_frequency**.  \n",
    "Therefore, we divide **Post_frequency** into four groups using its 1/4 quantile, median (1/2 quantile), and 3/4 quantile.  \n",
    "Then, we fill the missing values of **Social_event_attendance** within each group accordingly."
   ]
  },
  {
   "cell_type": "code",
   "execution_count": 14,
   "id": "4fb14bbc",
   "metadata": {
    "execution": {
     "iopub.execute_input": "2025-07-17T12:35:54.065385Z",
     "iopub.status.busy": "2025-07-17T12:35:54.065024Z",
     "iopub.status.idle": "2025-07-17T12:35:54.088674Z",
     "shell.execute_reply": "2025-07-17T12:35:54.087491Z"
    },
    "papermill": {
     "duration": 0.037872,
     "end_time": "2025-07-17T12:35:54.090272",
     "exception": false,
     "start_time": "2025-07-17T12:35:54.052400",
     "status": "completed"
    },
    "tags": []
   },
   "outputs": [
    {
     "name": "stdout",
     "output_type": "stream",
     "text": [
      "<class 'pandas.core.frame.DataFrame'>\n",
      "RangeIndex: 24699 entries, 0 to 24698\n",
      "Data columns (total 8 columns):\n",
      " #   Column                     Non-Null Count  Dtype  \n",
      "---  ------                     --------------  -----  \n",
      " 0   Time_spent_Alone           24699 non-null  float64\n",
      " 1   Stage_fear                 22208 non-null  object \n",
      " 2   Social_event_attendance    24699 non-null  float64\n",
      " 3   Going_outside              22767 non-null  float64\n",
      " 4   Drained_after_socializing  23118 non-null  object \n",
      " 5   Friends_circle_size        23295 non-null  float64\n",
      " 6   Post_frequency             23027 non-null  float64\n",
      " 7   match_p                    236 non-null    object \n",
      "dtypes: float64(5), object(3)\n",
      "memory usage: 1.5+ MB\n"
     ]
    }
   ],
   "source": [
    "# 1. Create a new grouping column based on the quartiles of Social_event_attendance\n",
    "all_data['Post_frequency_bin'] = pd.qcut(\n",
    "    all_data['Post_frequency'], \n",
    "    q=[0, 0.25, 0.5, 0.75, 1.0], \n",
    "    labels=['Q1', 'Q2', 'Q3', 'Q4']\n",
    ")\n",
    "\n",
    "\n",
    "# 2. Define a function to fill missing values in Time\\_spent\\_Alone with the median within each group\n",
    "\n",
    "def fill_by_group_median(df, group_col, target_col):\n",
    "    return df[target_col].fillna(df.groupby(group_col)[target_col].transform('median'))\n",
    "\n",
    "# 3. Perform group-wise filling of missing values\n",
    "all_data['Social_event_attendance'] = fill_by_group_median(\n",
    "    all_data, group_col='Post_frequency_bin', target_col='Social_event_attendance'\n",
    ")\n",
    "\n",
    "all_data.drop(columns=['Post_frequency_bin'], inplace=True)\n",
    "\n",
    "all_data.info()"
   ]
  },
  {
   "cell_type": "markdown",
   "id": "e0dd63c6",
   "metadata": {
    "papermill": {
     "duration": 0.0108,
     "end_time": "2025-07-17T12:35:54.112387",
     "exception": false,
     "start_time": "2025-07-17T12:35:54.101587",
     "status": "completed"
    },
    "tags": []
   },
   "source": [
    "**3. Imputing Missing Values for Going_outside, Friends_circle_size, and Post_frequency**\n",
    "\n",
    "The missing values of **Going_outside**, **Friends_circle_size**, and **Post_frequency** are filled using the same method as above."
   ]
  },
  {
   "cell_type": "code",
   "execution_count": 15,
   "id": "c9114079",
   "metadata": {
    "execution": {
     "iopub.execute_input": "2025-07-17T12:35:54.135731Z",
     "iopub.status.busy": "2025-07-17T12:35:54.135413Z",
     "iopub.status.idle": "2025-07-17T12:35:54.184291Z",
     "shell.execute_reply": "2025-07-17T12:35:54.183245Z"
    },
    "papermill": {
     "duration": 0.06276,
     "end_time": "2025-07-17T12:35:54.185964",
     "exception": false,
     "start_time": "2025-07-17T12:35:54.123204",
     "status": "completed"
    },
    "tags": []
   },
   "outputs": [
    {
     "name": "stdout",
     "output_type": "stream",
     "text": [
      "<class 'pandas.core.frame.DataFrame'>\n",
      "RangeIndex: 24699 entries, 0 to 24698\n",
      "Data columns (total 8 columns):\n",
      " #   Column                     Non-Null Count  Dtype  \n",
      "---  ------                     --------------  -----  \n",
      " 0   Time_spent_Alone           24699 non-null  float64\n",
      " 1   Stage_fear                 22208 non-null  object \n",
      " 2   Social_event_attendance    24699 non-null  float64\n",
      " 3   Going_outside              24699 non-null  float64\n",
      " 4   Drained_after_socializing  23118 non-null  object \n",
      " 5   Friends_circle_size        24699 non-null  float64\n",
      " 6   Post_frequency             24699 non-null  float64\n",
      " 7   match_p                    236 non-null    object \n",
      "dtypes: float64(5), object(3)\n",
      "memory usage: 1.5+ MB\n"
     ]
    }
   ],
   "source": [
    "def fill_missing_by_quantile_group(df, group_source_col, target_col, quantiles=[0, 0.25, 0.5, 0.75, 1.0], labels=None):\n",
    "    \"\"\"\n",
    "        Fill missing values in `target_col` by grouping based on the quantiles of `group_source_col`, and using the median of each group to impute missing values.\n",
    "        \n",
    "        **Parameters:**\n",
    "        - `df` (`pd.DataFrame`): The original dataset\n",
    "        - `group_source_col` (`str`): The numeric column used for grouping\n",
    "        - `target_col` (`str`): The target column with missing values to be filled\n",
    "        - `quantiles` (`list`): Quantile breakpoints for grouping (default is quartiles)\n",
    "        - `labels` (`list`): Labels for each group (default is auto-generated as Q1/Q2/...)\n",
    "        \n",
    "        **Returns:**\n",
    "        - `pd.DataFrame`: The DataFrame with missing values filled (modifies in place)\n",
    "\n",
    "    \"\"\"\n",
    "    # Automatically Generate Group Labels\n",
    "    if labels is None:\n",
    "        labels = [f'Q{i+1}' for i in range(len(quantiles)-1)]\n",
    "\n",
    "    temp_bin_col = f'{group_source_col}_bin'\n",
    "\n",
    "    # Step 1: Create Grouping Column\n",
    "    df[temp_bin_col] = pd.qcut(df[group_source_col], q=quantiles, labels=labels)\n",
    "\n",
    "    # Step 2: Fill Missing Values Within Groups Using the Median\n",
    "    df[target_col] = df[target_col].fillna(df.groupby(temp_bin_col)[target_col].transform('median'))\n",
    "\n",
    "    # Step 3: Delete Temporary Columns\n",
    "    df.drop(columns=[temp_bin_col], inplace=True)\n",
    "\n",
    "    return df\n",
    "\n",
    "all_data = fill_missing_by_quantile_group(\n",
    "    df=all_data,\n",
    "    group_source_col='Social_event_attendance',\n",
    "    target_col='Going_outside'\n",
    ")\n",
    "\n",
    "all_data = fill_missing_by_quantile_group(\n",
    "    df=all_data,\n",
    "    group_source_col='Post_frequency',\n",
    "    target_col='Friends_circle_size'\n",
    ")\n",
    "all_data = fill_missing_by_quantile_group(\n",
    "    df=all_data,\n",
    "    group_source_col='Going_outside',\n",
    "    target_col='Friends_circle_size'\n",
    ")\n",
    "all_data = fill_missing_by_quantile_group(\n",
    "    df=all_data,\n",
    "    group_source_col='Friends_circle_size',\n",
    "    target_col='Post_frequency'\n",
    ")\n",
    "all_data.info()"
   ]
  },
  {
   "cell_type": "markdown",
   "id": "9ddacf7d",
   "metadata": {
    "papermill": {
     "duration": 0.011464,
     "end_time": "2025-07-17T12:35:54.208944",
     "exception": false,
     "start_time": "2025-07-17T12:35:54.197480",
     "status": "completed"
    },
    "tags": []
   },
   "source": [
    "**4. Imputing Missing Values for Stage_fear and Drained_after_socializing**\n",
    "\n",
    "According to the feature analysis, **Stage_fear** and **Drained_after_socializing** have a significant impact on the target variable **Personality**.  \n",
    "If we fill their missing values using group-based methods as before, it may lead to incorrect imputations.  \n",
    "Therefore, we assign the value **\"Unknown\"** to the missing entries in these two features.  \n",
    "This way, when **Stage_fear** or **Drained_after_socializing** is \"Unknown\", the final prediction will rely more on the other features.\n"
   ]
  },
  {
   "cell_type": "code",
   "execution_count": 16,
   "id": "370eeec3",
   "metadata": {
    "execution": {
     "iopub.execute_input": "2025-07-17T12:35:54.233830Z",
     "iopub.status.busy": "2025-07-17T12:35:54.233545Z",
     "iopub.status.idle": "2025-07-17T12:35:54.255619Z",
     "shell.execute_reply": "2025-07-17T12:35:54.254430Z"
    },
    "papermill": {
     "duration": 0.0365,
     "end_time": "2025-07-17T12:35:54.257236",
     "exception": false,
     "start_time": "2025-07-17T12:35:54.220736",
     "status": "completed"
    },
    "tags": []
   },
   "outputs": [
    {
     "name": "stdout",
     "output_type": "stream",
     "text": [
      "<class 'pandas.core.frame.DataFrame'>\n",
      "RangeIndex: 24699 entries, 0 to 24698\n",
      "Data columns (total 8 columns):\n",
      " #   Column                     Non-Null Count  Dtype  \n",
      "---  ------                     --------------  -----  \n",
      " 0   Time_spent_Alone           24699 non-null  float64\n",
      " 1   Stage_fear                 24699 non-null  object \n",
      " 2   Social_event_attendance    24699 non-null  float64\n",
      " 3   Going_outside              24699 non-null  float64\n",
      " 4   Drained_after_socializing  24699 non-null  object \n",
      " 5   Friends_circle_size        24699 non-null  float64\n",
      " 6   Post_frequency             24699 non-null  float64\n",
      " 7   match_p                    236 non-null    object \n",
      "dtypes: float64(5), object(3)\n",
      "memory usage: 1.5+ MB\n"
     ]
    }
   ],
   "source": [
    "all_data.fillna({\n",
    "    'Stage_fear': 'UnKnow',\n",
    "    'Drained_after_socializing': 'UnKnow'\n",
    "}, inplace=True)\n",
    "all_data.info()"
   ]
  },
  {
   "cell_type": "markdown",
   "id": "386e8bd9",
   "metadata": {
    "papermill": {
     "duration": 0.012576,
     "end_time": "2025-07-17T12:35:54.281694",
     "exception": false,
     "start_time": "2025-07-17T12:35:54.269118",
     "status": "completed"
    },
    "tags": []
   },
   "source": [
    "### Feature Engineering\n",
    "\n",
    "Outlier removal is performed to prevent abnormal values from negatively impacting model training.\n"
   ]
  },
  {
   "cell_type": "markdown",
   "id": "9d4699f1",
   "metadata": {
    "papermill": {
     "duration": 0.01181,
     "end_time": "2025-07-17T12:35:54.305422",
     "exception": false,
     "start_time": "2025-07-17T12:35:54.293612",
     "status": "completed"
    },
    "tags": []
   },
   "source": [
    "**1. Boxplot**\n",
    "\n",
    "Use boxplots to visually inspect the distribution of each feature and identify potential outliers.\n"
   ]
  },
  {
   "cell_type": "code",
   "execution_count": 17,
   "id": "884a1616",
   "metadata": {
    "execution": {
     "iopub.execute_input": "2025-07-17T12:35:54.330438Z",
     "iopub.status.busy": "2025-07-17T12:35:54.329703Z",
     "iopub.status.idle": "2025-07-17T12:35:54.639720Z",
     "shell.execute_reply": "2025-07-17T12:35:54.638757Z"
    },
    "papermill": {
     "duration": 0.324347,
     "end_time": "2025-07-17T12:35:54.641591",
     "exception": false,
     "start_time": "2025-07-17T12:35:54.317244",
     "status": "completed"
    },
    "tags": []
   },
   "outputs": [
    {
     "data": {
      "text/plain": [
       "<Axes: title={'center': 'Boxplot'}>"
      ]
     },
     "execution_count": 17,
     "metadata": {},
     "output_type": "execute_result"
    },
    {
     "data": {
      "image/png": "[encoded data removed]",
      "text/plain": [
       "<Figure size 1200x500 with 1 Axes>"
      ]
     },
     "metadata": {},
     "output_type": "display_data"
    }
   ],
   "source": [
    "numeric_all_data = all_data.select_dtypes(include='number')\n",
    "numeric_all_data.plot(kind='box', title='Boxplot', figsize=(12, 5))"
   ]
  },
  {
   "cell_type": "code",
   "execution_count": 18,
   "id": "58b1bc82",
   "metadata": {
    "execution": {
     "iopub.execute_input": "2025-07-17T12:35:54.668008Z",
     "iopub.status.busy": "2025-07-17T12:35:54.667435Z",
     "iopub.status.idle": "2025-07-17T12:35:55.042809Z",
     "shell.execute_reply": "2025-07-17T12:35:55.042019Z"
    },
    "papermill": {
     "duration": 0.390529,
     "end_time": "2025-07-17T12:35:55.044572",
     "exception": false,
     "start_time": "2025-07-17T12:35:54.654043",
     "status": "completed"
    },
    "tags": []
   },
   "outputs": [
    {
     "data": {
      "image/png": "[encoded data removed]",
      "text/plain": [
       "<Figure size 800x500 with 1 Axes>"
      ]
     },
     "metadata": {},
     "output_type": "display_data"
    }
   ],
   "source": [
    "plt.figure(figsize=(8, 5))\n",
    "sns.histplot(train_df['Time_spent_Alone'], bins=30, kde=True)\n",
    "plt.title(\"Time_spent_Alone\")\n",
    "plt.xlabel(\"Time_spent_Alone\")\n",
    "plt.show()"
   ]
  },
  {
   "cell_type": "markdown",
   "id": "976e7d4f",
   "metadata": {
    "papermill": {
     "duration": 0.013315,
     "end_time": "2025-07-17T12:35:55.071406",
     "exception": false,
     "start_time": "2025-07-17T12:35:55.058091",
     "status": "completed"
    },
    "tags": []
   },
   "source": [
    "### Handling Categorical Features\n",
    "\n",
    "Convert categorical features to one-hot encoding(experiments have shown that one-hot encoding yields better results)."
   ]
  },
  {
   "cell_type": "code",
   "execution_count": 19,
   "id": "c8a453d5",
   "metadata": {
    "execution": {
     "iopub.execute_input": "2025-07-17T12:35:55.100838Z",
     "iopub.status.busy": "2025-07-17T12:35:55.100253Z",
     "iopub.status.idle": "2025-07-17T12:35:55.124196Z",
     "shell.execute_reply": "2025-07-17T12:35:55.123192Z"
    },
    "papermill": {
     "duration": 0.040877,
     "end_time": "2025-07-17T12:35:55.125802",
     "exception": false,
     "start_time": "2025-07-17T12:35:55.084925",
     "status": "completed"
    },
    "tags": []
   },
   "outputs": [
    {
     "name": "stdout",
     "output_type": "stream",
     "text": [
      "<class 'pandas.core.frame.DataFrame'>\n",
      "RangeIndex: 24699 entries, 0 to 24698\n",
      "Data columns (total 13 columns):\n",
      " #   Column                   Non-Null Count  Dtype  \n",
      "---  ------                   --------------  -----  \n",
      " 0   Time_spent_Alone         24699 non-null  float64\n",
      " 1   Social_event_attendance  24699 non-null  float64\n",
      " 2   Going_outside            24699 non-null  float64\n",
      " 3   Friends_circle_size      24699 non-null  float64\n",
      " 4   Post_frequency           24699 non-null  float64\n",
      " 5   Stage_No                 24699 non-null  bool   \n",
      " 6   Stage_UnKnow             24699 non-null  bool   \n",
      " 7   Stage_Yes                24699 non-null  bool   \n",
      " 8   Drained_No               24699 non-null  bool   \n",
      " 9   Drained_UnKnow           24699 non-null  bool   \n",
      " 10  Drained_Yes              24699 non-null  bool   \n",
      " 11  match_Extrovert          24699 non-null  bool   \n",
      " 12  match_Introvert          24699 non-null  bool   \n",
      "dtypes: bool(8), float64(5)\n",
      "memory usage: 1.1 MB\n"
     ]
    }
   ],
   "source": [
    "all_data = pd.get_dummies(all_data, columns=['Stage_fear', 'Drained_after_socializing','match_p'], prefix=['Stage', 'Drained','match'])\n",
    "all_data.info()"
   ]
  },
  {
   "cell_type": "code",
   "execution_count": 20,
   "id": "df0e7997",
   "metadata": {
    "execution": {
     "iopub.execute_input": "2025-07-17T12:35:55.154648Z",
     "iopub.status.busy": "2025-07-17T12:35:55.154000Z",
     "iopub.status.idle": "2025-07-17T12:35:55.169652Z",
     "shell.execute_reply": "2025-07-17T12:35:55.168709Z"
    },
    "papermill": {
     "duration": 0.031338,
     "end_time": "2025-07-17T12:35:55.171045",
     "exception": false,
     "start_time": "2025-07-17T12:35:55.139707",
     "status": "completed"
    },
    "tags": []
   },
   "outputs": [
    {
     "data": {
      "text/html": [
       "<div>\n",
       "<style scoped>\n",
       "    .dataframe tbody tr th:only-of-type {\n",
       "        vertical-align: middle;\n",
       "    }\n",
       "\n",
       "    .dataframe tbody tr th {\n",
       "        vertical-align: top;\n",
       "    }\n",
       "\n",
       "    .dataframe thead th {\n",
       "        text-align: right;\n",
       "    }\n",
       "</style>\n",
       "<table border=\"1\" class=\"dataframe\">\n",
       "  <thead>\n",
       "    <tr style=\"text-align: right;\">\n",
       "      <th></th>\n",
       "      <th>Time_spent_Alone</th>\n",
       "      <th>Social_event_attendance</th>\n",
       "      <th>Going_outside</th>\n",
       "      <th>Friends_circle_size</th>\n",
       "      <th>Post_frequency</th>\n",
       "      <th>Stage_No</th>\n",
       "      <th>Stage_UnKnow</th>\n",
       "      <th>Stage_Yes</th>\n",
       "      <th>Drained_No</th>\n",
       "      <th>Drained_UnKnow</th>\n",
       "      <th>Drained_Yes</th>\n",
       "      <th>match_Extrovert</th>\n",
       "      <th>match_Introvert</th>\n",
       "    </tr>\n",
       "  </thead>\n",
       "  <tbody>\n",
       "    <tr>\n",
       "      <th>0</th>\n",
       "      <td>0.0</td>\n",
       "      <td>6.0</td>\n",
       "      <td>4.0</td>\n",
       "      <td>15.0</td>\n",
       "      <td>5.0</td>\n",
       "      <td>True</td>\n",
       "      <td>False</td>\n",
       "      <td>False</td>\n",
       "      <td>True</td>\n",
       "      <td>False</td>\n",
       "      <td>False</td>\n",
       "      <td>False</td>\n",
       "      <td>False</td>\n",
       "    </tr>\n",
       "    <tr>\n",
       "      <th>1</th>\n",
       "      <td>1.0</td>\n",
       "      <td>7.0</td>\n",
       "      <td>3.0</td>\n",
       "      <td>10.0</td>\n",
       "      <td>8.0</td>\n",
       "      <td>True</td>\n",
       "      <td>False</td>\n",
       "      <td>False</td>\n",
       "      <td>True</td>\n",
       "      <td>False</td>\n",
       "      <td>False</td>\n",
       "      <td>False</td>\n",
       "      <td>False</td>\n",
       "    </tr>\n",
       "    <tr>\n",
       "      <th>2</th>\n",
       "      <td>6.0</td>\n",
       "      <td>1.0</td>\n",
       "      <td>0.0</td>\n",
       "      <td>3.0</td>\n",
       "      <td>0.0</td>\n",
       "      <td>False</td>\n",
       "      <td>False</td>\n",
       "      <td>True</td>\n",
       "      <td>False</td>\n",
       "      <td>True</td>\n",
       "      <td>False</td>\n",
       "      <td>False</td>\n",
       "      <td>False</td>\n",
       "    </tr>\n",
       "    <tr>\n",
       "      <th>3</th>\n",
       "      <td>3.0</td>\n",
       "      <td>7.0</td>\n",
       "      <td>3.0</td>\n",
       "      <td>11.0</td>\n",
       "      <td>5.0</td>\n",
       "      <td>True</td>\n",
       "      <td>False</td>\n",
       "      <td>False</td>\n",
       "      <td>True</td>\n",
       "      <td>False</td>\n",
       "      <td>False</td>\n",
       "      <td>False</td>\n",
       "      <td>False</td>\n",
       "    </tr>\n",
       "    <tr>\n",
       "      <th>4</th>\n",
       "      <td>1.0</td>\n",
       "      <td>4.0</td>\n",
       "      <td>4.0</td>\n",
       "      <td>13.0</td>\n",
       "      <td>6.0</td>\n",
       "      <td>True</td>\n",
       "      <td>False</td>\n",
       "      <td>False</td>\n",
       "      <td>True</td>\n",
       "      <td>False</td>\n",
       "      <td>False</td>\n",
       "      <td>False</td>\n",
       "      <td>False</td>\n",
       "    </tr>\n",
       "  </tbody>\n",
       "</table>\n",
       "</div>"
      ],
      "text/plain": [
       "   Time_spent_Alone  Social_event_attendance  Going_outside  \\\n",
       "0               0.0                      6.0            4.0   \n",
       "1               1.0                      7.0            3.0   \n",
       "2               6.0                      1.0            0.0   \n",
       "3               3.0                      7.0            3.0   \n",
       "4               1.0                      4.0            4.0   \n",
       "\n",
       "   Friends_circle_size  Post_frequency  Stage_No  Stage_UnKnow  Stage_Yes  \\\n",
       "0                 15.0             5.0      True         False      False   \n",
       "1                 10.0             8.0      True         False      False   \n",
       "2                  3.0             0.0     False         False       True   \n",
       "3                 11.0             5.0      True         False      False   \n",
       "4                 13.0             6.0      True         False      False   \n",
       "\n",
       "   Drained_No  Drained_UnKnow  Drained_Yes  match_Extrovert  match_Introvert  \n",
       "0        True           False        False            False            False  \n",
       "1        True           False        False            False            False  \n",
       "2       False            True        False            False            False  \n",
       "3        True           False        False            False            False  \n",
       "4        True           False        False            False            False  "
      ]
     },
     "execution_count": 20,
     "metadata": {},
     "output_type": "execute_result"
    }
   ],
   "source": [
    "all_data.head()"
   ]
  },
  {
   "cell_type": "markdown",
   "id": "daf6fba3",
   "metadata": {
    "papermill": {
     "duration": 0.013837,
     "end_time": "2025-07-17T12:35:55.199231",
     "exception": false,
     "start_time": "2025-07-17T12:35:55.185394",
     "status": "completed"
    },
    "tags": []
   },
   "source": [
    "# Model Training\n",
    "\n",
    "Here, we choose six commonly used models for **classification problems**:\n",
    "\n",
    "- **L1-regularized Logistic Regression**  \n",
    "  This model applies L1 regularization to logistic regression, which can perform feature selection and is useful when dealing with high-dimensional data. We use `RobustScaler` for normalization to reduce the impact of outliers.\n",
    "\n",
    "- **Elastic Net Logistic Regression**  \n",
    "  A regularized classification method that combines both L1 and L2 penalties, offering a balance between sparsity and stability.\n",
    "\n",
    "- **Support Vector Machine (SVM) with kernel**  \n",
    "  A powerful classification algorithm that can model non-linear decision boundaries by using kernel functions, making it effective for complex datasets.\n",
    "\n",
    "- **Gradient Boosting Classifier**  \n",
    "  A tree-based ensemble classifier trained using gradient boosting. We use the log-loss (cross-entropy) function, which is suitable for binary or multi-class classification and more robust to outliers.\n",
    "\n",
    "- **XGBoost Classifier**  \n",
    "  An efficient and scalable gradient boosting framework optimized for classification tasks. It supports regularization and handles missing values well.\n",
    "\n",
    "- **LightGBM Classifier**  \n",
    "  A fast and high-performance gradient boosting framework for classification. It is based on decision trees and optimized for speed and memory usage, suitable for large-scale datasets\n"
   ]
  },
  {
   "cell_type": "markdown",
   "id": "d8e068ff",
   "metadata": {
    "papermill": {
     "duration": 0.013543,
     "end_time": "2025-07-17T12:35:55.226478",
     "exception": false,
     "start_time": "2025-07-17T12:35:55.212935",
     "status": "completed"
    },
    "tags": []
   },
   "source": [
    "### Model Selection and Ensemble Prediction\n",
    "\n",
    "In this section, we select different machine learning models and perform ensemble prediction to improve overall performance. By combining the strengths of various models, the ensemble approach aims to achieve more robust and accurate predictions.\n"
   ]
  },
  {
   "cell_type": "code",
   "execution_count": 21,
   "id": "cd676ff5",
   "metadata": {
    "execution": {
     "iopub.execute_input": "2025-07-17T12:35:55.256127Z",
     "iopub.status.busy": "2025-07-17T12:35:55.255821Z",
     "iopub.status.idle": "2025-07-17T12:36:02.188142Z",
     "shell.execute_reply": "2025-07-17T12:36:02.187024Z"
    },
    "papermill": {
     "duration": 6.949255,
     "end_time": "2025-07-17T12:36:02.189987",
     "exception": false,
     "start_time": "2025-07-17T12:35:55.240732",
     "status": "completed"
    },
    "tags": []
   },
   "outputs": [],
   "source": [
    "import pandas as pd\n",
    "from xgboost import XGBClassifier\n",
    "from sklearn.model_selection import GridSearchCV\n",
    "import pandas as pd\n",
    "import numpy as np\n",
    "from sklearn.model_selection import train_test_split\n",
    "from sklearn.preprocessing import LabelEncoder, OrdinalEncoder\n",
    "from xgboost import XGBClassifier\n",
    "from catboost import CatBoostClassifier\n",
    "from lightgbm import LGBMClassifier\n",
    "from sklearn.ensemble import VotingClassifier\n",
    "import warnings\n",
    "warnings.filterwarnings('ignore')\n",
    "\n",
    "\n",
    "\n",
    "X_train = all_data[:ntrain]\n",
    "X_test = all_data[ntrain:]\n",
    "X=X_train\n",
    "y=y_train"
   ]
  },
  {
   "cell_type": "code",
   "execution_count": 22,
   "id": "f9c72e5e",
   "metadata": {
    "execution": {
     "iopub.execute_input": "2025-07-17T12:36:02.219528Z",
     "iopub.status.busy": "2025-07-17T12:36:02.218786Z",
     "iopub.status.idle": "2025-07-17T12:36:02.224532Z",
     "shell.execute_reply": "2025-07-17T12:36:02.223582Z"
    },
    "papermill": {
     "duration": 0.022133,
     "end_time": "2025-07-17T12:36:02.226201",
     "exception": false,
     "start_time": "2025-07-17T12:36:02.204068",
     "status": "completed"
    },
    "tags": []
   },
   "outputs": [],
   "source": [
    "class_0 = y_train.sum()\n",
    "class_1 = len(y_train) - class_0\n",
    "scale_pos_weight = class_1 / class_0"
   ]
  },
  {
   "cell_type": "code",
   "execution_count": 23,
   "id": "8fa3debe",
   "metadata": {
    "execution": {
     "iopub.execute_input": "2025-07-17T12:36:02.254689Z",
     "iopub.status.busy": "2025-07-17T12:36:02.254391Z",
     "iopub.status.idle": "2025-07-17T12:36:02.261877Z",
     "shell.execute_reply": "2025-07-17T12:36:02.260995Z"
    },
    "papermill": {
     "duration": 0.023632,
     "end_time": "2025-07-17T12:36:02.263563",
     "exception": false,
     "start_time": "2025-07-17T12:36:02.239931",
     "status": "completed"
    },
    "tags": []
   },
   "outputs": [],
   "source": [
    "xgb = XGBClassifier(\n",
    "    max_depth=4,         \n",
    "    learning_rate=0.01,   \n",
    "    n_estimators=1000,    \n",
    "    subsample=0.8,\n",
    "    colsample_bytree=0.8,\n",
    "    random_state=42\n",
    ")\n",
    "\n",
    "cat = CatBoostClassifier(\n",
    "    iterations=300,\n",
    "    depth=6,\n",
    "    learning_rate=0.1,\n",
    "    class_weights=[scale_pos_weight, 1],\n",
    "    random_seed=42,\n",
    "    verbose=0\n",
    ")\n",
    "\n",
    "lgbm = LGBMClassifier(\n",
    "    num_leaves=31,\n",
    "    learning_rate=0.1,\n",
    "    n_estimators=300,\n",
    "    subsample=0.8,\n",
    "    colsample_bytree=0.8,\n",
    "    class_weight={0: scale_pos_weight, 1: 1},\n",
    "    random_state=42\n",
    ")"
   ]
  },
  {
   "cell_type": "code",
   "execution_count": 24,
   "id": "a38a0155",
   "metadata": {
    "execution": {
     "iopub.execute_input": "2025-07-17T12:36:02.292637Z",
     "iopub.status.busy": "2025-07-17T12:36:02.292289Z",
     "iopub.status.idle": "2025-07-17T12:36:02.296899Z",
     "shell.execute_reply": "2025-07-17T12:36:02.296000Z"
    },
    "papermill": {
     "duration": 0.021159,
     "end_time": "2025-07-17T12:36:02.298576",
     "exception": false,
     "start_time": "2025-07-17T12:36:02.277417",
     "status": "completed"
    },
    "tags": []
   },
   "outputs": [],
   "source": [
    "# Create ensemble\n",
    "ensemble = VotingClassifier(\n",
    "    estimators=[\n",
    "        ('xgb', xgb),\n",
    "        ('cat', cat),\n",
    "        ('lgbm', lgbm)\n",
    "    ],\n",
    "    voting='soft'\n",
    ")"
   ]
  },
  {
   "cell_type": "code",
   "execution_count": 25,
   "id": "8fae54ad",
   "metadata": {
    "execution": {
     "iopub.execute_input": "2025-07-17T12:36:02.330089Z",
     "iopub.status.busy": "2025-07-17T12:36:02.329782Z",
     "iopub.status.idle": "2025-07-17T12:36:05.760127Z",
     "shell.execute_reply": "2025-07-17T12:36:05.759126Z"
    },
    "papermill": {
     "duration": 3.447351,
     "end_time": "2025-07-17T12:36:05.761684",
     "exception": false,
     "start_time": "2025-07-17T12:36:02.314333",
     "status": "completed"
    },
    "tags": []
   },
   "outputs": [
    {
     "name": "stdout",
     "output_type": "stream",
     "text": [
      "[LightGBM] [Info] Number of positive: 10959, number of negative: 3860\n",
      "[LightGBM] [Info] Auto-choosing row-wise multi-threading, the overhead of testing was 0.003924 seconds.\n",
      "You can set `force_row_wise=true` to remove the overhead.\n",
      "And if memory is not enough, you can set `force_col_wise=true`.\n",
      "[LightGBM] [Info] Total Bins 74\n",
      "[LightGBM] [Info] Number of data points in the train set: 14819, number of used features: 13\n",
      "[LightGBM] [Info] [binary:BoostFromScore]: pavg=0.889634 -> initscore=2.087006\n",
      "[LightGBM] [Info] Start training from score 2.087006\n"
     ]
    },
    {
     "data": {
      "text/html": [
       "<style>#sk-container-id-1 {color: black;background-color: white;}#sk-container-id-1 pre{padding: 0;}#sk-container-id-1 div.sk-toggleable {background-color: white;}#sk-container-id-1 label.sk-toggleable__label {cursor: pointer;display: block;width: 100%;margin-bottom: 0;padding: 0.3em;box-sizing: border-box;text-align: center;}#sk-container-id-1 label.sk-toggleable__label-arrow:before {content: \"▸\";float: left;margin-right: 0.25em;color: #696969;}#sk-container-id-1 label.sk-toggleable__label-arrow:hover:before {color: black;}#sk-container-id-1 div.sk-estimator:hover label.sk-toggleable__label-arrow:before {color: black;}#sk-container-id-1 div.sk-toggleable__content {max-height: 0;max-width: 0;overflow: hidden;text-align: left;background-color: #f0f8ff;}#sk-container-id-1 div.sk-toggleable__content pre {margin: 0.2em;color: black;border-radius: 0.25em;background-color: #f0f8ff;}#sk-container-id-1 input.sk-toggleable__control:checked~div.sk-toggleable__content {max-height: 200px;max-width: 100%;overflow: auto;}#sk-container-id-1 input.sk-toggleable__control:checked~label.sk-toggleable__label-arrow:before {content: \"▾\";}#sk-container-id-1 div.sk-estimator input.sk-toggleable__control:checked~label.sk-toggleable__label {background-color: #d4ebff;}#sk-container-id-1 div.sk-label input.sk-toggleable__control:checked~label.sk-toggleable__label {background-color: #d4ebff;}#sk-container-id-1 input.sk-hidden--visually {border: 0;clip: rect(1px 1px 1px 1px);clip: rect(1px, 1px, 1px, 1px);height: 1px;margin: -1px;overflow: hidden;padding: 0;position: absolute;width: 1px;}#sk-container-id-1 div.sk-estimator {font-family: monospace;background-color: #f0f8ff;border: 1px dotted black;border-radius: 0.25em;box-sizing: border-box;margin-bottom: 0.5em;}#sk-container-id-1 div.sk-estimator:hover {background-color: #d4ebff;}#sk-container-id-1 div.sk-parallel-item::after {content: \"\";width: 100%;border-bottom: 1px solid gray;flex-grow: 1;}#sk-container-id-1 div.sk-label:hover label.sk-toggleable__label {background-color: #d4ebff;}#sk-container-id-1 div.sk-serial::before {content: \"\";position: absolute;border-left: 1px solid gray;box-sizing: border-box;top: 0;bottom: 0;left: 50%;z-index: 0;}#sk-container-id-1 div.sk-serial {display: flex;flex-direction: column;align-items: center;background-color: white;padding-right: 0.2em;padding-left: 0.2em;position: relative;}#sk-container-id-1 div.sk-item {position: relative;z-index: 1;}#sk-container-id-1 div.sk-parallel {display: flex;align-items: stretch;justify-content: center;background-color: white;position: relative;}#sk-container-id-1 div.sk-item::before, #sk-container-id-1 div.sk-parallel-item::before {content: \"\";position: absolute;border-left: 1px solid gray;box-sizing: border-box;top: 0;bottom: 0;left: 50%;z-index: -1;}#sk-container-id-1 div.sk-parallel-item {display: flex;flex-direction: column;z-index: 1;position: relative;background-color: white;}#sk-container-id-1 div.sk-parallel-item:first-child::after {align-self: flex-end;width: 50%;}#sk-container-id-1 div.sk-parallel-item:last-child::after {align-self: flex-start;width: 50%;}#sk-container-id-1 div.sk-parallel-item:only-child::after {width: 0;}#sk-container-id-1 div.sk-dashed-wrapped {border: 1px dashed gray;margin: 0 0.4em 0.5em 0.4em;box-sizing: border-box;padding-bottom: 0.4em;background-color: white;}#sk-container-id-1 div.sk-label label {font-family: monospace;font-weight: bold;display: inline-block;line-height: 1.2em;}#sk-container-id-1 div.sk-label-container {text-align: center;}#sk-container-id-1 div.sk-container {/* jupyter's `normalize.less` sets `[hidden] { display: none; }` but bootstrap.min.css set `[hidden] { display: none !important; }` so we also need the `!important` here to be able to override the default hidden behavior on the sphinx rendered scikit-learn.org. See: https://github.com/scikit-learn/scikit-learn/issues/21755 */display: inline-block !important;position: relative;}#sk-container-id-1 div.sk-text-repr-fallback {display: none;}</style><div id=\"sk-container-id-1\" class=\"sk-top-container\"><div class=\"sk-text-repr-fallback\"><pre>VotingClassifier(estimators=[(&#x27;xgb&#x27;,\n",
       "                              XGBClassifier(base_score=None, booster=None,\n",
       "                                            callbacks=None,\n",
       "                                            colsample_bylevel=None,\n",
       "                                            colsample_bynode=None,\n",
       "                                            colsample_bytree=0.8, device=None,\n",
       "                                            early_stopping_rounds=None,\n",
       "                                            enable_categorical=False,\n",
       "                                            eval_metric=None,\n",
       "                                            feature_types=None, gamma=None,\n",
       "                                            grow_policy=None,\n",
       "                                            importance_type=None,\n",
       "                                            interaction_constraints=None,\n",
       "                                            learning_rat...\n",
       "                                            min_child_weight=None, missing=nan,\n",
       "                                            monotone_constraints=None,\n",
       "                                            multi_strategy=None,\n",
       "                                            n_estimators=1000, n_jobs=None,\n",
       "                                            num_parallel_tree=None,\n",
       "                                            random_state=42, ...)),\n",
       "                             (&#x27;cat&#x27;,\n",
       "                              &lt;catboost.core.CatBoostClassifier object at 0x7e2f36975350&gt;),\n",
       "                             (&#x27;lgbm&#x27;,\n",
       "                              LGBMClassifier(class_weight={0: 0.35221549018176507,\n",
       "                                                           1: 1},\n",
       "                                             colsample_bytree=0.8,\n",
       "                                             n_estimators=300, random_state=42,\n",
       "                                             subsample=0.8))],\n",
       "                 voting=&#x27;soft&#x27;)</pre><b>In a Jupyter environment, please rerun this cell to show the HTML representation or trust the notebook. <br />On GitHub, the HTML representation is unable to render, please try loading this page with nbviewer.org.</b></div><div class=\"sk-container\" hidden><div class=\"sk-item sk-dashed-wrapped\"><div class=\"sk-label-container\"><div class=\"sk-label sk-toggleable\"><input class=\"sk-toggleable__control sk-hidden--visually\" id=\"sk-estimator-id-1\" type=\"checkbox\" ><label for=\"sk-estimator-id-1\" class=\"sk-toggleable__label sk-toggleable__label-arrow\">VotingClassifier</label><div class=\"sk-toggleable__content\"><pre>VotingClassifier(estimators=[(&#x27;xgb&#x27;,\n",
       "                              XGBClassifier(base_score=None, booster=None,\n",
       "                                            callbacks=None,\n",
       "                                            colsample_bylevel=None,\n",
       "                                            colsample_bynode=None,\n",
       "                                            colsample_bytree=0.8, device=None,\n",
       "                                            early_stopping_rounds=None,\n",
       "                                            enable_categorical=False,\n",
       "                                            eval_metric=None,\n",
       "                                            feature_types=None, gamma=None,\n",
       "                                            grow_policy=None,\n",
       "                                            importance_type=None,\n",
       "                                            interaction_constraints=None,\n",
       "                                            learning_rat...\n",
       "                                            min_child_weight=None, missing=nan,\n",
       "                                            monotone_constraints=None,\n",
       "                                            multi_strategy=None,\n",
       "                                            n_estimators=1000, n_jobs=None,\n",
       "                                            num_parallel_tree=None,\n",
       "                                            random_state=42, ...)),\n",
       "                             (&#x27;cat&#x27;,\n",
       "                              &lt;catboost.core.CatBoostClassifier object at 0x7e2f36975350&gt;),\n",
       "                             (&#x27;lgbm&#x27;,\n",
       "                              LGBMClassifier(class_weight={0: 0.35221549018176507,\n",
       "                                                           1: 1},\n",
       "                                             colsample_bytree=0.8,\n",
       "                                             n_estimators=300, random_state=42,\n",
       "                                             subsample=0.8))],\n",
       "                 voting=&#x27;soft&#x27;)</pre></div></div></div><div class=\"sk-parallel\"><div class=\"sk-parallel-item\"><div class=\"sk-item\"><div class=\"sk-label-container\"><div class=\"sk-label sk-toggleable\"><label>xgb</label></div></div><div class=\"sk-serial\"><div class=\"sk-item\"><div class=\"sk-estimator sk-toggleable\"><input class=\"sk-toggleable__control sk-hidden--visually\" id=\"sk-estimator-id-2\" type=\"checkbox\" ><label for=\"sk-estimator-id-2\" class=\"sk-toggleable__label sk-toggleable__label-arrow\">XGBClassifier</label><div class=\"sk-toggleable__content\"><pre>XGBClassifier(base_score=None, booster=None, callbacks=None,\n",
       "              colsample_bylevel=None, colsample_bynode=None,\n",
       "              colsample_bytree=0.8, device=None, early_stopping_rounds=None,\n",
       "              enable_categorical=False, eval_metric=None, feature_types=None,\n",
       "              gamma=None, grow_policy=None, importance_type=None,\n",
       "              interaction_constraints=None, learning_rate=0.01, max_bin=None,\n",
       "              max_cat_threshold=None, max_cat_to_onehot=None,\n",
       "              max_delta_step=None, max_depth=4, max_leaves=None,\n",
       "              min_child_weight=None, missing=nan, monotone_constraints=None,\n",
       "              multi_strategy=None, n_estimators=1000, n_jobs=None,\n",
       "              num_parallel_tree=None, random_state=42, ...)</pre></div></div></div></div></div></div><div class=\"sk-parallel-item\"><div class=\"sk-item\"><div class=\"sk-label-container\"><div class=\"sk-label sk-toggleable\"><label>cat</label></div></div><div class=\"sk-serial\"><div class=\"sk-item\"><div class=\"sk-estimator sk-toggleable\"><input class=\"sk-toggleable__control sk-hidden--visually\" id=\"sk-estimator-id-3\" type=\"checkbox\" ><label for=\"sk-estimator-id-3\" class=\"sk-toggleable__label sk-toggleable__label-arrow\">CatBoostClassifier</label><div class=\"sk-toggleable__content\"><pre>&lt;catboost.core.CatBoostClassifier object at 0x7e2f36975350&gt;</pre></div></div></div></div></div></div><div class=\"sk-parallel-item\"><div class=\"sk-item\"><div class=\"sk-label-container\"><div class=\"sk-label sk-toggleable\"><label>lgbm</label></div></div><div class=\"sk-serial\"><div class=\"sk-item\"><div class=\"sk-estimator sk-toggleable\"><input class=\"sk-toggleable__control sk-hidden--visually\" id=\"sk-estimator-id-4\" type=\"checkbox\" ><label for=\"sk-estimator-id-4\" class=\"sk-toggleable__label sk-toggleable__label-arrow\">LGBMClassifier</label><div class=\"sk-toggleable__content\"><pre>LGBMClassifier(class_weight={0: 0.35221549018176507, 1: 1},\n",
       "               colsample_bytree=0.8, n_estimators=300, random_state=42,\n",
       "               subsample=0.8)</pre></div></div></div></div></div></div></div></div></div></div>"
      ],
      "text/plain": [
       "VotingClassifier(estimators=[('xgb',\n",
       "                              XGBClassifier(base_score=None, booster=None,\n",
       "                                            callbacks=None,\n",
       "                                            colsample_bylevel=None,\n",
       "                                            colsample_bynode=None,\n",
       "                                            colsample_bytree=0.8, device=None,\n",
       "                                            early_stopping_rounds=None,\n",
       "                                            enable_categorical=False,\n",
       "                                            eval_metric=None,\n",
       "                                            feature_types=None, gamma=None,\n",
       "                                            grow_policy=None,\n",
       "                                            importance_type=None,\n",
       "                                            interaction_constraints=None,\n",
       "                                            learning_rat...\n",
       "                                            min_child_weight=None, missing=nan,\n",
       "                                            monotone_constraints=None,\n",
       "                                            multi_strategy=None,\n",
       "                                            n_estimators=1000, n_jobs=None,\n",
       "                                            num_parallel_tree=None,\n",
       "                                            random_state=42, ...)),\n",
       "                             ('cat',\n",
       "                              <catboost.core.CatBoostClassifier object at 0x7e2f36975350>),\n",
       "                             ('lgbm',\n",
       "                              LGBMClassifier(class_weight={0: 0.35221549018176507,\n",
       "                                                           1: 1},\n",
       "                                             colsample_bytree=0.8,\n",
       "                                             n_estimators=300, random_state=42,\n",
       "                                             subsample=0.8))],\n",
       "                 voting='soft')"
      ]
     },
     "execution_count": 25,
     "metadata": {},
     "output_type": "execute_result"
    }
   ],
   "source": [
    "# Train with validation split\n",
    "X_train, X_val, y_train, y_val = train_test_split(\n",
    "    X, y, test_size=0.2, stratify=y, random_state=42\n",
    ")\n",
    "ensemble.fit(X_train, y_train)"
   ]
  },
  {
   "cell_type": "code",
   "execution_count": 26,
   "id": "5a63a3ed",
   "metadata": {
    "execution": {
     "iopub.execute_input": "2025-07-17T12:36:05.791777Z",
     "iopub.status.busy": "2025-07-17T12:36:05.791001Z",
     "iopub.status.idle": "2025-07-17T12:36:05.907651Z",
     "shell.execute_reply": "2025-07-17T12:36:05.906684Z"
    },
    "papermill": {
     "duration": 0.133917,
     "end_time": "2025-07-17T12:36:05.909835",
     "exception": false,
     "start_time": "2025-07-17T12:36:05.775918",
     "status": "completed"
    },
    "tags": []
   },
   "outputs": [],
   "source": [
    "# Optimize threshold\n",
    "val_probs = ensemble.predict_proba(X_val)[:, 1]\n",
    "best_threshold = 0.5\n",
    "best_acc = 0\n",
    "\n",
    "for threshold in np.arange(0.4, 0.6, 0.01):\n",
    "    preds = (val_probs >= threshold).astype(int)\n"
   ]
  },
  {
   "cell_type": "code",
   "execution_count": 27,
   "id": "e63cb43a",
   "metadata": {
    "execution": {
     "iopub.execute_input": "2025-07-17T12:36:05.952978Z",
     "iopub.status.busy": "2025-07-17T12:36:05.952583Z",
     "iopub.status.idle": "2025-07-17T12:36:06.098211Z",
     "shell.execute_reply": "2025-07-17T12:36:06.096966Z"
    },
    "papermill": {
     "duration": 0.16455,
     "end_time": "2025-07-17T12:36:06.099798",
     "exception": false,
     "start_time": "2025-07-17T12:36:05.935248",
     "status": "completed"
    },
    "tags": []
   },
   "outputs": [
    {
     "name": "stdout",
     "output_type": "stream",
     "text": [
      "      id  Personality\n",
      "0  18524            1\n",
      "1  18525            0\n",
      "2  18526            1\n",
      "3  18527            1\n",
      "4  18528            0\n",
      "Submitted successfully with XGBoost\n"
     ]
    }
   ],
   "source": [
    "test_probs = ensemble.predict_proba(X_test)[:, 1]\n",
    "test_preds = (test_probs >= best_threshold).astype(int)\n",
    "\n",
    "# Create submission\n",
    "submission = pd.DataFrame({\n",
    "    'id': test_ID,\n",
    "    'Personality': test_preds\n",
    "})\n",
    "print(submission.head())\n",
    "submission['Personality'] = submission['Personality'].map({1: 'Extrovert', 0: 'Introvert'})\n",
    "submission.to_csv('submission.csv', index=False)\n",
    "print(\"Submitted successfully with XGBoost\")"
   ]
  },
  {
   "cell_type": "code",
   "execution_count": 28,
   "id": "0750e065",
   "metadata": {
    "execution": {
     "iopub.execute_input": "2025-07-17T12:36:06.130199Z",
     "iopub.status.busy": "2025-07-17T12:36:06.129850Z",
     "iopub.status.idle": "2025-07-17T12:36:06.134082Z",
     "shell.execute_reply": "2025-07-17T12:36:06.133329Z"
    },
    "papermill": {
     "duration": 0.02123,
     "end_time": "2025-07-17T12:36:06.135676",
     "exception": false,
     "start_time": "2025-07-17T12:36:06.114446",
     "status": "completed"
    },
    "tags": []
   },
   "outputs": [],
   "source": [
    "# import pandas as pd\n",
    "# from xgboost import XGBClassifier\n",
    "# from sklearn.model_selection import GridSearchCV\n",
    "\n",
    "# X_train = all_data[:ntrain]\n",
    "# X_test = all_data[ntrain:]\n",
    "\n",
    "# xgb_params = {\n",
    "#     'max_depth': [4],\n",
    "#     'learning_rate': [0.01],\n",
    "#     'n_estimators': [1000],\n",
    "#     'subsample': [0.8],\n",
    "#     'colsample_bytree': [0.8]\n",
    "# }\n",
    "\n",
    "\n",
    "# xgb_model = XGBClassifier(use_label_encoder=False, eval_metric='logloss', random_state=42)\n",
    "\n",
    "\n",
    "# xgb_cv = GridSearchCV(xgb_model, xgb_params, cv=5, n_jobs=-1, verbose=1)\n",
    "# xgb_cv.fit(X_train, y_train)\n",
    "\n",
    "\n",
    "# xgb_pred = xgb_cv.predict(X_test)\n",
    "\n",
    "\n",
    "# kaggle = pd.DataFrame({'id': test_ID, 'Personality': xgb_pred})\n",
    "# kaggle['Personality'] = kaggle['Personality'].map({1: 'Extrovert', 0: 'Introvert'})\n",
    "\n",
    "\n",
    "# kaggle.to_csv('submission.csv', index=False)\n",
    "# print(\"Submitted successfully with XGBoost\")\n"
   ]
  }
 ],
 "metadata": {
  "kaggle": {
   "accelerator": "none",
   "dataSources": [
    {
     "databundleVersionId": 12738969,
     "sourceId": 91718,
     "sourceType": "competition"
    },
    {
     "datasetId": 7777099,
     "sourceId": 12336995,
     "sourceType": "datasetVersion"
    }
   ],
   "dockerImageVersionId": 31040,
   "isGpuEnabled": false,
   "isInternetEnabled": true,
   "language": "python",
   "sourceType": "notebook"
  },
  "kernelspec": {
   "display_name": "Python 3",
   "language": "python",
   "name": "python3"
  },
  "language_info": {
   "codemirror_mode": {
    "name": "ipython",
    "version": 3
   },
   "file_extension": ".py",
   "mimetype": "text/x-python",
   "name": "python",
   "nbconvert_exporter": "python",
   "pygments_lexer": "ipython3",
   "version": "3.11.11"
  },
  "papermill": {
   "default_parameters": {},
   "duration": 24.205449,
   "end_time": "2025-07-17T12:36:07.272214",
   "environment_variables": {},
   "exception": null,
   "input_path": "__notebook__.ipynb",
   "output_path": "__notebook__.ipynb",
   "parameters": {},
   "start_time": "2025-07-17T12:35:43.066765",
   "version": "2.6.0"
  }
 },
 "nbformat": 4,
 "nbformat_minor": 5
}
