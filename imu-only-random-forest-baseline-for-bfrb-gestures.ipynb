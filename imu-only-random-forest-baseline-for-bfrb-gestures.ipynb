{
 "cells": [
  {
   "cell_type": "code",
   "execution_count": 1,
   "id": "965bd306",
   "metadata": {
    "_cell_guid": "b1076dfc-b9ad-4769-8c92-a6c4dae69d19",
    "_uuid": "8f2839f25d086af736a60e9eeb907d3b93b6e0e5",
    "execution": {
     "iopub.execute_input": "2025-05-30T09:39:05.343786Z",
     "iopub.status.busy": "2025-05-30T09:39:05.342869Z",
     "iopub.status.idle": "2025-05-30T09:39:10.944765Z",
     "shell.execute_reply": "2025-05-30T09:39:10.943651Z"
    },
    "papermill": {
     "duration": 5.608161,
     "end_time": "2025-05-30T09:39:10.946697",
     "exception": false,
     "start_time": "2025-05-30T09:39:05.338536",
     "status": "completed"
    },
    "tags": []
   },
   "outputs": [],
   "source": [
    "import numpy as np\n",
    "import pandas as pd\n",
    "import polars as pl\n",
    "from sklearn.preprocessing import LabelEncoder\n",
    "from sklearn.ensemble import RandomForestClassifier\n",
    "from sklearn.model_selection import StratifiedShuffleSplit\n",
    "from sklearn.metrics import f1_score\n",
    "from collections import Counter\n",
    "import os\n",
    "\n",
    "import kaggle_evaluation.cmi_inference_server"
   ]
  },
  {
   "cell_type": "code",
   "execution_count": 2,
   "id": "53eae0ff",
   "metadata": {
    "execution": {
     "iopub.execute_input": "2025-05-30T09:39:10.953648Z",
     "iopub.status.busy": "2025-05-30T09:39:10.953195Z",
     "iopub.status.idle": "2025-05-30T09:39:48.997177Z",
     "shell.execute_reply": "2025-05-30T09:39:48.996074Z"
    },
    "papermill": {
     "duration": 38.049463,
     "end_time": "2025-05-30T09:39:48.999136",
     "exception": false,
     "start_time": "2025-05-30T09:39:10.949673",
     "status": "completed"
    },
    "tags": []
   },
   "outputs": [],
   "source": [
    "train_df = pd.read_csv(\"/kaggle/input/cmi-detect-behavior-with-sensor-data/train.csv\")\n",
    "test_df = pd.read_csv(\"/kaggle/input/cmi-detect-behavior-with-sensor-data/test.csv\")\n",
    "test_demographics_df = pd.read_csv(\"/kaggle/input/cmi-detect-behavior-with-sensor-data/test_demographics.csv\")\n",
    "\n",
    "train_df = train_df.loc[train_df['sequence_type'] == 'Target'].reset_index(drop = True)\n",
    "\n",
    "sensor_cols = ['acc_x', 'acc_y', 'acc_z', 'rot_w', 'rot_x', 'rot_y', 'rot_z']\n",
    "\n",
    "all_sensor_cols = [col for col in train_df.columns if any(s in col for s in ['acc_', 'rot_', 'thm_', 'tof_'])]\n",
    "\n",
    "train_df[all_sensor_cols] = train_df[all_sensor_cols].fillna(-1)\n"
   ]
  },
  {
   "cell_type": "code",
   "execution_count": 3,
   "id": "154c4546",
   "metadata": {
    "execution": {
     "iopub.execute_input": "2025-05-30T09:39:49.005777Z",
     "iopub.status.busy": "2025-05-30T09:39:49.005398Z",
     "iopub.status.idle": "2025-05-30T09:39:49.081539Z",
     "shell.execute_reply": "2025-05-30T09:39:49.080471Z"
    },
    "papermill": {
     "duration": 0.081571,
     "end_time": "2025-05-30T09:39:49.083500",
     "exception": false,
     "start_time": "2025-05-30T09:39:49.001929",
     "status": "completed"
    },
    "tags": []
   },
   "outputs": [
    {
     "name": "stderr",
     "output_type": "stream",
     "text": [
      "/tmp/ipykernel_13/540178768.py:2: PerformanceWarning: DataFrame is highly fragmented.  This is usually the result of calling `frame.insert` many times, which has poor performance.  Consider joining all columns at once using pd.concat(axis=1) instead. To get a de-fragmented frame, use `newframe = frame.copy()`\n",
      "  train_df['encoded_gesture'] = le.fit_transform(train_df['gesture'])\n"
     ]
    }
   ],
   "source": [
    "le = LabelEncoder()\n",
    "train_df['encoded_gesture'] = le.fit_transform(train_df['gesture'])\n"
   ]
  },
  {
   "cell_type": "code",
   "execution_count": 4,
   "id": "3f073212",
   "metadata": {
    "execution": {
     "iopub.execute_input": "2025-05-30T09:39:49.090770Z",
     "iopub.status.busy": "2025-05-30T09:39:49.090459Z",
     "iopub.status.idle": "2025-05-30T09:39:49.137791Z",
     "shell.execute_reply": "2025-05-30T09:39:49.136593Z"
    },
    "papermill": {
     "duration": 0.053131,
     "end_time": "2025-05-30T09:39:49.139625",
     "exception": false,
     "start_time": "2025-05-30T09:39:49.086494",
     "status": "completed"
    },
    "tags": []
   },
   "outputs": [],
   "source": [
    "def competition_metric(y_true, y_pred, le_instance, all_original_gestures):\n",
    "    bfrb_gestures = [g for g in all_original_gestures if g in le_instance.classes_]\n",
    "    \n",
    "    # Binary F1: assuming 'Target' is 1, 'Non-Target' is 0\n",
    "    # Since we only trained on 'Target', our model will always predict a BFRB gesture.\n",
    "    # Therefore, y_pred_binary will effectively always be 1 for a model trained this way.\n",
    "    # This metric part might be misleading on a validation set that only contains 'Target' gestures.\n",
    "    # For a proper binary F1, the true labels would need to include non-BFRB types.\n",
    "    y_true_binary = np.ones_like(y_true, dtype=int) # All are 'Target' in this filtered dataset\n",
    "    y_pred_binary = np.ones_like(y_pred, dtype=int) # Model predicts only BFRB if trained on 'Target'\n",
    "    binary_f1 = f1_score(y_true_binary, y_pred_binary, average='binary', pos_label=1, zero_division=0)\n",
    "\n",
    "    # Macro F1: specific gesture classification\n",
    "    # This is calculated only over the BFRB gestures.\n",
    "    macro_f1 = f1_score(y_true, y_pred, average='macro', zero_division=0)\n",
    "\n",
    "    final_score = (binary_f1 + macro_f1) / 2\n",
    "    return final_score\n",
    "\n",
    "unique_sequences = train_df[['sequence_id', 'encoded_gesture']].drop_duplicates()\n",
    "unique_sequence_ids = unique_sequences['sequence_id']\n",
    "unique_sequence_targets = unique_sequences['encoded_gesture']\n"
   ]
  },
  {
   "cell_type": "code",
   "execution_count": 5,
   "id": "6d536327",
   "metadata": {
    "execution": {
     "iopub.execute_input": "2025-05-30T09:39:49.146071Z",
     "iopub.status.busy": "2025-05-30T09:39:49.145703Z",
     "iopub.status.idle": "2025-05-30T09:39:50.096871Z",
     "shell.execute_reply": "2025-05-30T09:39:50.095976Z"
    },
    "papermill": {
     "duration": 0.956469,
     "end_time": "2025-05-30T09:39:50.098743",
     "exception": false,
     "start_time": "2025-05-30T09:39:49.142274",
     "status": "completed"
    },
    "tags": []
   },
   "outputs": [],
   "source": [
    "splitter = StratifiedShuffleSplit(n_splits=1, test_size=0.2, random_state=42)\n",
    "for train_idx, val_idx in splitter.split(unique_sequence_ids, unique_sequence_targets):\n",
    "    train_seq_ids = unique_sequence_ids.iloc[train_idx]\n",
    "    val_seq_ids = unique_sequence_ids.iloc[val_idx]\n",
    "\n",
    "X_train_df = train_df[train_df['sequence_id'].isin(train_seq_ids)]\n",
    "X_val_df = train_df[train_df['sequence_id'].isin(val_seq_ids)]\n",
    "\n",
    "y_train = X_train_df['encoded_gesture']\n",
    "y_val = X_val_df['encoded_gesture']\n",
    "\n",
    "X_train = X_train_df[sensor_cols]\n",
    "X_val = X_val_df[sensor_cols]\n"
   ]
  },
  {
   "cell_type": "code",
   "execution_count": 6,
   "id": "7760a804",
   "metadata": {
    "execution": {
     "iopub.execute_input": "2025-05-30T09:39:50.104916Z",
     "iopub.status.busy": "2025-05-30T09:39:50.104626Z",
     "iopub.status.idle": "2025-05-30T09:40:09.568285Z",
     "shell.execute_reply": "2025-05-30T09:40:09.566880Z"
    },
    "papermill": {
     "duration": 19.468678,
     "end_time": "2025-05-30T09:40:09.570041",
     "exception": false,
     "start_time": "2025-05-30T09:39:50.101363",
     "status": "completed"
    },
    "tags": []
   },
   "outputs": [
    {
     "name": "stdout",
     "output_type": "stream",
     "text": [
      "Validation Score: 0.6241\n"
     ]
    }
   ],
   "source": [
    "rf_model = RandomForestClassifier(n_estimators=100, max_depth=10, random_state=42, n_jobs=-1)\n",
    "rf_model.fit(X_train, y_train)\n",
    "\n",
    "y_val_pred = rf_model.predict(X_val)\n",
    "\n",
    "all_original_gestures_in_train = train_df['gesture'].unique()\n",
    "validation_score = competition_metric(y_val, y_val_pred, le, all_original_gestures_in_train)\n",
    "print(f\"Validation Score: {validation_score:.4f}\")\n"
   ]
  },
  {
   "cell_type": "code",
   "execution_count": 7,
   "id": "bc8d3bda",
   "metadata": {
    "execution": {
     "iopub.execute_input": "2025-05-30T09:40:09.576446Z",
     "iopub.status.busy": "2025-05-30T09:40:09.576128Z",
     "iopub.status.idle": "2025-05-30T09:40:09.582383Z",
     "shell.execute_reply": "2025-05-30T09:40:09.581323Z"
    },
    "papermill": {
     "duration": 0.011484,
     "end_time": "2025-05-30T09:40:09.584263",
     "exception": false,
     "start_time": "2025-05-30T09:40:09.572779",
     "status": "completed"
    },
    "tags": []
   },
   "outputs": [],
   "source": [
    "def predict(sequence: pl.DataFrame, demographics: pl.DataFrame) -> str:\n",
    "    sequence_pd = sequence.to_pandas()\n",
    "    sequence_pd[all_sensor_cols] = sequence_pd[all_sensor_cols].fillna(-1)\n",
    "    X_inference = sequence_pd[sensor_cols]\n",
    "    \n",
    "    # Get predictions for all rows in the sequence\n",
    "    all_predicted_label_ids = rf_model.predict(X_inference)\n",
    "    \n",
    "    # Find the most common predicted label ID\n",
    "    # Counter returns a list of (element, count) tuples, sorted by count.\n",
    "    # We want the element of the first tuple.\n",
    "    most_common_label_id = Counter(all_predicted_label_ids).most_common(1)[0][0]\n",
    "    \n",
    "    # Convert the most common numerical label back to the original gesture string\n",
    "    predicted_gesture_str = le.inverse_transform([most_common_label_id])[0]\n",
    "    \n",
    "    return predicted_gesture_str"
   ]
  },
  {
   "cell_type": "code",
   "execution_count": 8,
   "id": "60f49b4f",
   "metadata": {
    "execution": {
     "iopub.execute_input": "2025-05-30T09:40:09.590673Z",
     "iopub.status.busy": "2025-05-30T09:40:09.590368Z",
     "iopub.status.idle": "2025-05-30T09:40:11.202779Z",
     "shell.execute_reply": "2025-05-30T09:40:11.201698Z"
    },
    "papermill": {
     "duration": 1.617956,
     "end_time": "2025-05-30T09:40:11.204824",
     "exception": false,
     "start_time": "2025-05-30T09:40:09.586868",
     "status": "completed"
    },
    "tags": []
   },
   "outputs": [],
   "source": [
    "inference_server = kaggle_evaluation.cmi_inference_server.CMIInferenceServer(predict)\n",
    "\n",
    "if os.getenv('KAGGLE_IS_COMPETITION_RERUN'):\n",
    "    inference_server.serve()\n",
    "else:\n",
    "    inference_server.run_local_gateway(\n",
    "        data_paths=(\n",
    "            '/kaggle/input/cmi-detect-behavior-with-sensor-data/test.csv',\n",
    "            '/kaggle/input/cmi-detect-behavior-with-sensor-data/test_demographics.csv',\n",
    "        )\n",
    "    )\n",
    "\n",
    "\n"
   ]
  },
  {
   "cell_type": "code",
   "execution_count": null,
   "id": "c7947443",
   "metadata": {
    "papermill": {
     "duration": 0.002384,
     "end_time": "2025-05-30T09:40:11.209998",
     "exception": false,
     "start_time": "2025-05-30T09:40:11.207614",
     "status": "completed"
    },
    "tags": []
   },
   "outputs": [],
   "source": []
  }
 ],
 "metadata": {
  "kaggle": {
   "accelerator": "none",
   "dataSources": [
    {
     "databundleVersionId": 12518947,
     "sourceId": 102335,
     "sourceType": "competition"
    }
   ],
   "dockerImageVersionId": 31040,
   "isGpuEnabled": false,
   "isInternetEnabled": false,
   "language": "python",
   "sourceType": "notebook"
  },
  "kernelspec": {
   "display_name": "Python 3",
   "language": "python",
   "name": "python3"
  },
  "language_info": {
   "codemirror_mode": {
    "name": "ipython",
    "version": 3
   },
   "file_extension": ".py",
   "mimetype": "text/x-python",
   "name": "python",
   "nbconvert_exporter": "python",
   "pygments_lexer": "ipython3",
   "version": "3.11.11"
  },
  "papermill": {
   "default_parameters": {},
   "duration": 71.806064,
   "end_time": "2025-05-30T09:40:12.134059",
   "environment_variables": {},
   "exception": null,
   "input_path": "__notebook__.ipynb",
   "output_path": "__notebook__.ipynb",
   "parameters": {},
   "start_time": "2025-05-30T09:39:00.327995",
   "version": "2.6.0"
  }
 },
 "nbformat": 4,
 "nbformat_minor": 5
}
