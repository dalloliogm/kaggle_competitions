{
 "cells": [
  {
   "cell_type": "markdown",
   "id": "db0fcac4",
   "metadata": {
    "papermill": {
     "duration": 0.004474,
     "end_time": "2025-06-05T11:36:51.452891",
     "exception": false,
     "start_time": "2025-06-05T11:36:51.448417",
     "status": "completed"
    },
    "tags": []
   },
   "source": [
    "# Imports and configs"
   ]
  },
  {
   "cell_type": "code",
   "execution_count": 1,
   "id": "152c32c7",
   "metadata": {
    "_kg_hide-output": true,
    "execution": {
     "iopub.execute_input": "2025-06-05T11:36:51.461011Z",
     "iopub.status.busy": "2025-06-05T11:36:51.460756Z",
     "iopub.status.idle": "2025-06-05T11:37:00.089038Z",
     "shell.execute_reply": "2025-06-05T11:37:00.087471Z"
    },
    "papermill": {
     "duration": 8.63465,
     "end_time": "2025-06-05T11:37:00.091011",
     "exception": false,
     "start_time": "2025-06-05T11:36:51.456361",
     "status": "completed"
    },
    "tags": []
   },
   "outputs": [
    {
     "name": "stdout",
     "output_type": "stream",
     "text": [
      "\u001b[2K   \u001b[90m━━━━━━━━━━━━━━━━━━━━━━━━━━━━━━━━━━━━━━━━\u001b[0m \u001b[32m13.3/13.3 MB\u001b[0m \u001b[31m73.0 MB/s\u001b[0m eta \u001b[36m0:00:00\u001b[0m\r\n",
      "\u001b[?25h\u001b[31mERROR: pip's dependency resolver does not currently take into account all the packages that are installed. This behaviour is the source of the following dependency conflicts.\r\n",
      "cesium 0.12.4 requires numpy<3.0,>=2.0, but you have numpy 1.26.4 which is incompatible.\u001b[0m\u001b[31m\r\n",
      "\u001b[0m"
     ]
    }
   ],
   "source": [
    "!pip install -q scikit-learn==1.5.2"
   ]
  },
  {
   "cell_type": "code",
   "execution_count": 2,
   "id": "38affebf",
   "metadata": {
    "execution": {
     "iopub.execute_input": "2025-06-05T11:37:00.100242Z",
     "iopub.status.busy": "2025-06-05T11:37:00.099939Z",
     "iopub.status.idle": "2025-06-05T11:37:08.919684Z",
     "shell.execute_reply": "2025-06-05T11:37:08.918714Z"
    },
    "papermill": {
     "duration": 8.826317,
     "end_time": "2025-06-05T11:37:08.921406",
     "exception": false,
     "start_time": "2025-06-05T11:37:00.095089",
     "status": "completed"
    },
    "tags": []
   },
   "outputs": [],
   "source": [
    "from lightgbm import LGBMClassifier, log_evaluation, early_stopping\n",
    "from sklearn.feature_selection import mutual_info_classif\n",
    "from sklearn.linear_model import LogisticRegression\n",
    "from sklearn.model_selection import StratifiedKFold\n",
    "from sklearn.preprocessing import LabelEncoder\n",
    "from sklearn.base import clone\n",
    "from xgboost import XGBClassifier\n",
    "import matplotlib.pyplot as plt\n",
    "import seaborn as sns\n",
    "import pandas as pd\n",
    "import numpy as np\n",
    "import warnings\n",
    "import joblib\n",
    "import optuna\n",
    "import shutil\n",
    "import glob\n",
    "import json\n",
    "import gc\n",
    "\n",
    "warnings.filterwarnings(\"ignore\")"
   ]
  },
  {
   "cell_type": "code",
   "execution_count": 3,
   "id": "2155a031",
   "metadata": {
    "execution": {
     "iopub.execute_input": "2025-06-05T11:37:08.930503Z",
     "iopub.status.busy": "2025-06-05T11:37:08.929950Z",
     "iopub.status.idle": "2025-06-05T11:37:08.935211Z",
     "shell.execute_reply": "2025-06-05T11:37:08.934090Z"
    },
    "papermill": {
     "duration": 0.011334,
     "end_time": "2025-06-05T11:37:08.936815",
     "exception": false,
     "start_time": "2025-06-05T11:37:08.925481",
     "status": "completed"
    },
    "tags": []
   },
   "outputs": [],
   "source": [
    "class CFG:\n",
    "    train_path = \"/kaggle/input/playground-series-s5e6/train.csv\"\n",
    "    test_path = \"/kaggle/input/playground-series-s5e6/test.csv\"\n",
    "    sample_sub_path = \"/kaggle/input/playground-series-s5e6/sample_submission.csv\"\n",
    "\n",
    "    original_path = \"/kaggle/input/fertilizer-prediction/Fertilizer Prediction.csv\"\n",
    "    \n",
    "    target = \"Fertilizer Name\"\n",
    "    n_folds = 5\n",
    "    seed = 42\n",
    "    \n",
    "    run_optuna = False\n",
    "    n_optuna_trials = 250"
   ]
  },
  {
   "cell_type": "markdown",
   "id": "09db02a8",
   "metadata": {
    "papermill": {
     "duration": 0.003456,
     "end_time": "2025-06-05T11:37:08.944321",
     "exception": false,
     "start_time": "2025-06-05T11:37:08.940865",
     "status": "completed"
    },
    "tags": []
   },
   "source": [
    "# Data loading and preprocessing"
   ]
  },
  {
   "cell_type": "code",
   "execution_count": 4,
   "id": "adc01c8a",
   "metadata": {
    "execution": {
     "iopub.execute_input": "2025-06-05T11:37:08.952913Z",
     "iopub.status.busy": "2025-06-05T11:37:08.952646Z",
     "iopub.status.idle": "2025-06-05T11:37:10.292664Z",
     "shell.execute_reply": "2025-06-05T11:37:10.291629Z"
    },
    "papermill": {
     "duration": 1.346185,
     "end_time": "2025-06-05T11:37:10.294031",
     "exception": false,
     "start_time": "2025-06-05T11:37:08.947846",
     "status": "completed"
    },
    "tags": []
   },
   "outputs": [],
   "source": [
    "train = pd.read_csv(CFG.train_path, index_col=\"id\")\n",
    "test = pd.read_csv(CFG.test_path, index_col=\"id\")\n",
    "original = pd.read_csv(CFG.original_path)\n",
    "\n",
    "cat_cols = train.select_dtypes(include=\"object\").columns.tolist()\n",
    "cat_cols = [c for c in cat_cols if c != CFG.target]\n",
    "train[cat_cols] = train[cat_cols].astype(str).astype(\"category\")\n",
    "test[cat_cols] = test[cat_cols].astype(str).astype(\"category\")\n",
    "original[cat_cols] = original[cat_cols].astype(str).astype(\"category\")\n",
    "\n",
    "label_encoder = LabelEncoder()\n",
    "train[CFG.target] = label_encoder.fit_transform(train[CFG.target])\n",
    "original[CFG.target] = label_encoder.transform(original[CFG.target])\n",
    "\n",
    "X = train.drop(CFG.target, axis=1)\n",
    "y = train[CFG.target]\n",
    "X_test = test\n",
    "\n",
    "X_original = original.drop(CFG.target, axis=1)\n",
    "y_original = original[CFG.target]"
   ]
  },
  {
   "cell_type": "code",
   "execution_count": 5,
   "id": "43c32844",
   "metadata": {
    "execution": {
     "iopub.execute_input": "2025-06-05T11:37:10.302995Z",
     "iopub.status.busy": "2025-06-05T11:37:10.302739Z",
     "iopub.status.idle": "2025-06-05T11:37:15.052878Z",
     "shell.execute_reply": "2025-06-05T11:37:15.051856Z"
    },
    "papermill": {
     "duration": 4.756194,
     "end_time": "2025-06-05T11:37:15.054402",
     "exception": false,
     "start_time": "2025-06-05T11:37:10.298208",
     "status": "completed"
    },
    "tags": []
   },
   "outputs": [
    {
     "data": {
      "text/html": [
       "<style type=\"text/css\">\n",
       "#T_926ea_row0_col0 {\n",
       "  width: 10em;\n",
       "  background: linear-gradient(90deg, #006837 100.0%, transparent 100.0%);\n",
       "}\n",
       "#T_926ea_row1_col0 {\n",
       "  width: 10em;\n",
       "  background: linear-gradient(90deg, #199750 90.2%, transparent 90.2%);\n",
       "}\n",
       "#T_926ea_row2_col0 {\n",
       "  width: 10em;\n",
       "  background: linear-gradient(90deg, #9bd469 71.7%, transparent 71.7%);\n",
       "}\n",
       "#T_926ea_row3_col0 {\n",
       "  width: 10em;\n",
       "  background: linear-gradient(90deg, #c9e881 63.1%, transparent 63.1%);\n",
       "}\n",
       "#T_926ea_row4_col0 {\n",
       "  width: 10em;\n",
       "  background: linear-gradient(90deg, #fee491 41.3%, transparent 41.3%);\n",
       "}\n",
       "#T_926ea_row5_col0 {\n",
       "  width: 10em;\n",
       "  background: linear-gradient(90deg, #fdb163 30.7%, transparent 30.7%);\n",
       "}\n",
       "#T_926ea_row6_col0 {\n",
       "  width: 10em;\n",
       "  background: linear-gradient(90deg, #fca85e 29.2%, transparent 29.2%);\n",
       "}\n",
       "#T_926ea_row7_col0 {\n",
       "  width: 10em;\n",
       "  background: linear-gradient(90deg, #ef633f 18.6%, transparent 18.6%);\n",
       "}\n",
       "</style>\n",
       "<table id=\"T_926ea\">\n",
       "  <thead>\n",
       "    <tr>\n",
       "      <th class=\"blank level0\" >&nbsp;</th>\n",
       "      <th id=\"T_926ea_level0_col0\" class=\"col_heading level0 col0\" >Mutual Information</th>\n",
       "    </tr>\n",
       "  </thead>\n",
       "  <tbody>\n",
       "    <tr>\n",
       "      <th id=\"T_926ea_level0_row0\" class=\"row_heading level0 row0\" >Moisture</th>\n",
       "      <td id=\"T_926ea_row0_col0\" class=\"data row0 col0\" >0.003308</td>\n",
       "    </tr>\n",
       "    <tr>\n",
       "      <th id=\"T_926ea_level0_row1\" class=\"row_heading level0 row1\" >Phosphorous</th>\n",
       "      <td id=\"T_926ea_row1_col0\" class=\"data row1 col0\" >0.002984</td>\n",
       "    </tr>\n",
       "    <tr>\n",
       "      <th id=\"T_926ea_level0_row2\" class=\"row_heading level0 row2\" >Nitrogen</th>\n",
       "      <td id=\"T_926ea_row2_col0\" class=\"data row2 col0\" >0.002373</td>\n",
       "    </tr>\n",
       "    <tr>\n",
       "      <th id=\"T_926ea_level0_row3\" class=\"row_heading level0 row3\" >Crop Type</th>\n",
       "      <td id=\"T_926ea_row3_col0\" class=\"data row3 col0\" >0.002088</td>\n",
       "    </tr>\n",
       "    <tr>\n",
       "      <th id=\"T_926ea_level0_row4\" class=\"row_heading level0 row4\" >Potassium</th>\n",
       "      <td id=\"T_926ea_row4_col0\" class=\"data row4 col0\" >0.001367</td>\n",
       "    </tr>\n",
       "    <tr>\n",
       "      <th id=\"T_926ea_level0_row5\" class=\"row_heading level0 row5\" >Humidity</th>\n",
       "      <td id=\"T_926ea_row5_col0\" class=\"data row5 col0\" >0.001015</td>\n",
       "    </tr>\n",
       "    <tr>\n",
       "      <th id=\"T_926ea_level0_row6\" class=\"row_heading level0 row6\" >Temparature</th>\n",
       "      <td id=\"T_926ea_row6_col0\" class=\"data row6 col0\" >0.000966</td>\n",
       "    </tr>\n",
       "    <tr>\n",
       "      <th id=\"T_926ea_level0_row7\" class=\"row_heading level0 row7\" >Soil Type</th>\n",
       "      <td id=\"T_926ea_row7_col0\" class=\"data row7 col0\" >0.000617</td>\n",
       "    </tr>\n",
       "  </tbody>\n",
       "</table>\n"
      ],
      "text/plain": [
       "<pandas.io.formats.style.Styler at 0x7cbc7fd582d0>"
      ]
     },
     "execution_count": 5,
     "metadata": {},
     "output_type": "execute_result"
    }
   ],
   "source": [
    "mutual_info = mutual_info_classif(X, y, random_state=CFG.seed, discrete_features=True)\n",
    "\n",
    "mutual_info = pd.Series(mutual_info)\n",
    "mutual_info.index = X.columns\n",
    "mutual_info = pd.DataFrame(mutual_info.sort_values(ascending=False), columns=['Mutual Information'])\n",
    "mutual_info.style.bar(subset=['Mutual Information'], cmap='RdYlGn')"
   ]
  },
  {
   "cell_type": "code",
   "execution_count": 6,
   "id": "475b5c0a",
   "metadata": {
    "execution": {
     "iopub.execute_input": "2025-06-05T11:37:15.064398Z",
     "iopub.status.busy": "2025-06-05T11:37:15.064086Z",
     "iopub.status.idle": "2025-06-05T11:37:15.511677Z",
     "shell.execute_reply": "2025-06-05T11:37:15.510681Z"
    },
    "papermill": {
     "duration": 0.454285,
     "end_time": "2025-06-05T11:37:15.512936",
     "exception": false,
     "start_time": "2025-06-05T11:37:15.058651",
     "status": "completed"
    },
    "tags": []
   },
   "outputs": [
    {
     "data": {
      "text/html": [
       "<style type=\"text/css\">\n",
       "#T_81252_row0_col0 {\n",
       "  width: 10em;\n",
       "  background: linear-gradient(90deg, #006837 100.0%, transparent 100.0%);\n",
       "}\n",
       "#T_81252_row1_col0 {\n",
       "  width: 10em;\n",
       "  background: linear-gradient(90deg, #016a38 99.5%, transparent 99.5%);\n",
       "}\n",
       "#T_81252_row2_col0 {\n",
       "  width: 10em;\n",
       "  background: linear-gradient(90deg, #70c164 78.4%, transparent 78.4%);\n",
       "}\n",
       "#T_81252_row3_col0 {\n",
       "  width: 10em;\n",
       "  background: linear-gradient(90deg, #fff2aa 45.9%, transparent 45.9%);\n",
       "}\n",
       "#T_81252_row4_col0 {\n",
       "  width: 10em;\n",
       "  background: linear-gradient(90deg, #fecc7b 36.3%, transparent 36.3%);\n",
       "}\n",
       "#T_81252_row5_col0 {\n",
       "  width: 10em;\n",
       "  background: linear-gradient(90deg, #fdb768 31.7%, transparent 31.7%);\n",
       "}\n",
       "#T_81252_row6_col0 {\n",
       "  width: 10em;\n",
       "  background: linear-gradient(90deg, #f7844e 23.5%, transparent 23.5%);\n",
       "}\n",
       "#T_81252_row7_col0 {\n",
       "  width: 10em;\n",
       "  background: linear-gradient(90deg, #cc2627 7.9%, transparent 7.9%);\n",
       "}\n",
       "</style>\n",
       "<table id=\"T_81252\">\n",
       "  <thead>\n",
       "    <tr>\n",
       "      <th class=\"blank level0\" >&nbsp;</th>\n",
       "      <th id=\"T_81252_level0_col0\" class=\"col_heading level0 col0\" >Mutual Information</th>\n",
       "    </tr>\n",
       "  </thead>\n",
       "  <tbody>\n",
       "    <tr>\n",
       "      <th id=\"T_81252_level0_row0\" class=\"row_heading level0 row0\" >Phosphorous</th>\n",
       "      <td id=\"T_81252_row0_col0\" class=\"data row0 col0\" >0.001362</td>\n",
       "    </tr>\n",
       "    <tr>\n",
       "      <th id=\"T_81252_level0_row1\" class=\"row_heading level0 row1\" >Moisture</th>\n",
       "      <td id=\"T_81252_row1_col0\" class=\"data row1 col0\" >0.001355</td>\n",
       "    </tr>\n",
       "    <tr>\n",
       "      <th id=\"T_81252_level0_row2\" class=\"row_heading level0 row2\" >Nitrogen</th>\n",
       "      <td id=\"T_81252_row2_col0\" class=\"data row2 col0\" >0.001068</td>\n",
       "    </tr>\n",
       "    <tr>\n",
       "      <th id=\"T_81252_level0_row3\" class=\"row_heading level0 row3\" >Potassium</th>\n",
       "      <td id=\"T_81252_row3_col0\" class=\"data row3 col0\" >0.000626</td>\n",
       "    </tr>\n",
       "    <tr>\n",
       "      <th id=\"T_81252_level0_row4\" class=\"row_heading level0 row4\" >Humidity</th>\n",
       "      <td id=\"T_81252_row4_col0\" class=\"data row4 col0\" >0.000494</td>\n",
       "    </tr>\n",
       "    <tr>\n",
       "      <th id=\"T_81252_level0_row5\" class=\"row_heading level0 row5\" >Temparature</th>\n",
       "      <td id=\"T_81252_row5_col0\" class=\"data row5 col0\" >0.000432</td>\n",
       "    </tr>\n",
       "    <tr>\n",
       "      <th id=\"T_81252_level0_row6\" class=\"row_heading level0 row6\" >Crop Type</th>\n",
       "      <td id=\"T_81252_row6_col0\" class=\"data row6 col0\" >0.000320</td>\n",
       "    </tr>\n",
       "    <tr>\n",
       "      <th id=\"T_81252_level0_row7\" class=\"row_heading level0 row7\" >Soil Type</th>\n",
       "      <td id=\"T_81252_row7_col0\" class=\"data row7 col0\" >0.000107</td>\n",
       "    </tr>\n",
       "  </tbody>\n",
       "</table>\n"
      ],
      "text/plain": [
       "<pandas.io.formats.style.Styler at 0x7cbcb2ef9710>"
      ]
     },
     "execution_count": 6,
     "metadata": {},
     "output_type": "execute_result"
    }
   ],
   "source": [
    "mutual_info = mutual_info_classif(X_original, y_original, random_state=CFG.seed, discrete_features=True)\n",
    "\n",
    "mutual_info = pd.Series(mutual_info)\n",
    "mutual_info.index = X_original.columns\n",
    "mutual_info = pd.DataFrame(mutual_info.sort_values(ascending=False), columns=['Mutual Information'])\n",
    "mutual_info.style.bar(subset=['Mutual Information'], cmap='RdYlGn')"
   ]
  },
  {
   "cell_type": "markdown",
   "id": "72355beb",
   "metadata": {
    "papermill": {
     "duration": 0.004176,
     "end_time": "2025-06-05T11:37:15.522151",
     "exception": false,
     "start_time": "2025-06-05T11:37:15.517975",
     "status": "completed"
    },
    "tags": []
   },
   "source": [
    "# Training base models"
   ]
  },
  {
   "cell_type": "code",
   "execution_count": 7,
   "id": "e8402155",
   "metadata": {
    "execution": {
     "iopub.execute_input": "2025-06-05T11:37:15.530853Z",
     "iopub.status.busy": "2025-06-05T11:37:15.530605Z",
     "iopub.status.idle": "2025-06-05T11:37:15.538106Z",
     "shell.execute_reply": "2025-06-05T11:37:15.537054Z"
    },
    "papermill": {
     "duration": 0.013808,
     "end_time": "2025-06-05T11:37:15.539705",
     "exception": false,
     "start_time": "2025-06-05T11:37:15.525897",
     "status": "completed"
    },
    "tags": []
   },
   "outputs": [],
   "source": [
    "def map3(y_true, y_pred_probs):\n",
    "    y_true = [[x] for x in y_true]\n",
    "    y_pred_probs = np.argsort(y_pred_probs, axis=1)[:, -3:][:, ::-1].tolist()\n",
    "    \n",
    "    def ap3(y_true, y_pred_probs):\n",
    "        y_pred_probs = y_pred_probs[:3]\n",
    "\n",
    "        score = 0.0\n",
    "        num_hits = 0.0\n",
    "\n",
    "        for i,p in enumerate(y_pred_probs):\n",
    "            if p in y_true and p not in y_pred_probs[:i]:\n",
    "                num_hits += 1.0\n",
    "                score += num_hits / (i+1.0)\n",
    "\n",
    "        if not y_true:\n",
    "            return 0.0\n",
    "\n",
    "        return score\n",
    "    \n",
    "    return np.mean([ap3(a,p) for a,p in zip(y_true, y_pred_probs)])"
   ]
  },
  {
   "cell_type": "code",
   "execution_count": 8,
   "id": "fbb111ab",
   "metadata": {
    "execution": {
     "iopub.execute_input": "2025-06-05T11:37:15.550226Z",
     "iopub.status.busy": "2025-06-05T11:37:15.549957Z",
     "iopub.status.idle": "2025-06-05T11:37:15.560524Z",
     "shell.execute_reply": "2025-06-05T11:37:15.559358Z"
    },
    "papermill": {
     "duration": 0.017483,
     "end_time": "2025-06-05T11:37:15.562314",
     "exception": false,
     "start_time": "2025-06-05T11:37:15.544831",
     "status": "completed"
    },
    "tags": []
   },
   "outputs": [],
   "source": [
    "class Trainer:\n",
    "    def __init__(self, model, config=CFG):\n",
    "        self.model = model\n",
    "        self.config = config\n",
    "\n",
    "    def fit_predict(self, X, y, X_test, X_original=None, y_original=None, fit_args={}):\n",
    "        print(f\"Training {self.model.__class__.__name__}\\n\")\n",
    "        \n",
    "        scores = []        \n",
    "        oof_pred_probs = np.zeros((X.shape[0], y.nunique()))\n",
    "        test_pred_probs = np.zeros((X_test.shape[0], y.nunique()))\n",
    "        \n",
    "        skf = StratifiedKFold(n_splits=self.config.n_folds, random_state=self.config.seed, shuffle=True)\n",
    "        for fold_idx, (train_idx, val_idx) in enumerate(skf.split(X, y)):\n",
    "            X_train, X_val = X.iloc[train_idx], X.iloc[val_idx]\n",
    "            y_train, y_val = y[train_idx], y[val_idx]\n",
    "\n",
    "            if X_original is not None and y_original is not None:\n",
    "                X_train = pd.concat([X_train, X_original])\n",
    "                y_train = pd.concat([y_train, y_original])\n",
    "            \n",
    "            model = clone(self.model)\n",
    "            \n",
    "            if fit_args:\n",
    "                model.fit(X_train, y_train, **fit_args, eval_set=[(X_val, y_val)])\n",
    "            else:\n",
    "                model.fit(X_train, y_train)\n",
    "            \n",
    "            y_pred_probs = model.predict_proba(X_val)\n",
    "            oof_pred_probs[val_idx] = y_pred_probs\n",
    "            \n",
    "            temp_test_pred_probs = model.predict_proba(X_test)\n",
    "            test_pred_probs += temp_test_pred_probs / self.config.n_folds\n",
    "            \n",
    "            score = map3(y_val, y_pred_probs)\n",
    "            scores.append(score)\n",
    "            \n",
    "            del model, X_train, y_train, X_val, y_val, y_pred_probs\n",
    "            gc.collect()\n",
    "            \n",
    "            if fit_args:\n",
    "                print(f\"\\n--- Fold {fold_idx + 1} - MAP@3: {score:.6f}\\n\\n\")\n",
    "            else:\n",
    "                print(f\"--- Fold {fold_idx + 1} - MAP@3: {score:.6f}\")\n",
    "                            \n",
    "        overall_score = map3(y, oof_pred_probs)\n",
    "            \n",
    "        print(f\"\\n------ Overall MAP@3: {overall_score:.6f} | Average MAP@3: {np.mean(scores):.6f} ± {np.std(scores):.6f}\")\n",
    "        \n",
    "        return oof_pred_probs, test_pred_probs, scores\n",
    "\n",
    "    def tune(self, X, y):        \n",
    "        scores = []        \n",
    "        \n",
    "        skf = StratifiedKFold(n_splits=self.config.n_folds, random_state=self.config.seed, shuffle=True)\n",
    "        for fold_idx, (train_idx, val_idx) in enumerate(skf.split(X, y)):\n",
    "            X_train, X_val = X.iloc[train_idx], X.iloc[val_idx]\n",
    "            y_train, y_val = y[train_idx], y[val_idx]\n",
    "            \n",
    "            model = clone(self.model)\n",
    "            model.fit(X_train, y_train)\n",
    "            \n",
    "            y_pred_probs = model.predict_proba(X_val)            \n",
    "            score = map3(y_val, y_pred_probs)\n",
    "            scores.append(score)\n",
    "            \n",
    "            del model, X_train, y_train, X_val, y_val, y_pred_probs\n",
    "            gc.collect()\n",
    "            \n",
    "        return np.mean(scores)"
   ]
  },
  {
   "cell_type": "code",
   "execution_count": 9,
   "id": "4ed7d596",
   "metadata": {
    "_kg_hide-input": true,
    "execution": {
     "iopub.execute_input": "2025-06-05T11:37:15.572417Z",
     "iopub.status.busy": "2025-06-05T11:37:15.572100Z",
     "iopub.status.idle": "2025-06-05T11:37:15.579319Z",
     "shell.execute_reply": "2025-06-05T11:37:15.578224Z"
    },
    "papermill": {
     "duration": 0.013789,
     "end_time": "2025-06-05T11:37:15.580847",
     "exception": false,
     "start_time": "2025-06-05T11:37:15.567058",
     "status": "completed"
    },
    "tags": []
   },
   "outputs": [],
   "source": [
    "lgbm_params = {\n",
    "    # https://www.kaggle.com/code/patrykszcz/single-lgb-5-folds?scriptVersionId=243298529\n",
    "    \"boosting_type\": \"gbdt\",\n",
    "    \"n_estimators\": 10000,\n",
    "    \"learning_rate\": 0.06408094783107429,\n",
    "    \"num_leaves\": 169,\n",
    "    \"max_depth\": 10,\n",
    "    \"min_child_samples\": 19,\n",
    "    \"subsample\": 0.6420340301820501,\n",
    "    \"colsample_bytree\": 0.43403799235854973,\n",
    "    \"reg_alpha\": 6.294093849568123,\n",
    "    \"reg_lambda\": 5.5559072866866455,\n",
    "    \"random_state\": 42,\n",
    "    \"verbosity\": -1\n",
    "}\n",
    "\n",
    "lgbm_goss_params = {\n",
    "    \"boosting_type\": \"goss\",\n",
    "    \"colsample_bytree\": 0.39736332491996407,\n",
    "    \"learning_rate\": 0.008033740989500222,\n",
    "    \"min_child_samples\": 29,\n",
    "    \"min_child_weight\": 0.6732469853333759,\n",
    "    \"n_estimators\": 10000,\n",
    "    \"n_jobs\": -1,\n",
    "    \"num_leaves\": 89,\n",
    "    \"random_state\": 42,\n",
    "    \"reg_alpha\": 15.595856670965969,\n",
    "    \"reg_lambda\": 51.43625034648377,\n",
    "    \"subsample\": 0.07846482736630467,\n",
    "    \"verbose\": -1\n",
    "}\n",
    "\n",
    "xgb_params = {\n",
    "    # https://www.kaggle.com/code/patrykszcz/simple-xgb-model-5-fold\n",
    "    \"max_depth\": 12,\n",
    "    \"colsample_bytree\": 0.467,\n",
    "    \"subsample\": 0.86,\n",
    "    \"n_estimators\": 10000,\n",
    "    \"learning_rate\": 0.03,\n",
    "    \"gamma\": 0.26,\n",
    "    \"max_delta_step\": 4,\n",
    "    \"reg_alpha\": 2.7,\n",
    "    \"reg_lambda\": 1.4,\n",
    "    \"early_stopping_rounds\": 100,\n",
    "    \"objective\": 'multi:softprob',\n",
    "    \"random_state\": 13,\n",
    "    \"enable_categorical\": True,\n",
    "}"
   ]
  },
  {
   "cell_type": "code",
   "execution_count": 10,
   "id": "7c329ab2",
   "metadata": {
    "execution": {
     "iopub.execute_input": "2025-06-05T11:37:15.591035Z",
     "iopub.status.busy": "2025-06-05T11:37:15.590731Z",
     "iopub.status.idle": "2025-06-05T11:37:15.595589Z",
     "shell.execute_reply": "2025-06-05T11:37:15.594538Z"
    },
    "papermill": {
     "duration": 0.012211,
     "end_time": "2025-06-05T11:37:15.597718",
     "exception": false,
     "start_time": "2025-06-05T11:37:15.585507",
     "status": "completed"
    },
    "tags": []
   },
   "outputs": [],
   "source": [
    "scores = {}\n",
    "oof_pred_probs = {}\n",
    "test_pred_probs = {}"
   ]
  },
  {
   "cell_type": "markdown",
   "id": "bfec76de",
   "metadata": {
    "papermill": {
     "duration": 0.003862,
     "end_time": "2025-06-05T11:37:15.606370",
     "exception": false,
     "start_time": "2025-06-05T11:37:15.602508",
     "status": "completed"
    },
    "tags": []
   },
   "source": [
    "## LightGBM (gbdt)"
   ]
  },
  {
   "cell_type": "code",
   "execution_count": 11,
   "id": "e5e01679",
   "metadata": {
    "execution": {
     "iopub.execute_input": "2025-06-05T11:37:15.615315Z",
     "iopub.status.busy": "2025-06-05T11:37:15.615035Z",
     "iopub.status.idle": "2025-06-05T13:13:44.024350Z",
     "shell.execute_reply": "2025-06-05T13:13:44.023348Z"
    },
    "papermill": {
     "duration": 5788.415371,
     "end_time": "2025-06-05T13:13:44.025679",
     "exception": false,
     "start_time": "2025-06-05T11:37:15.610308",
     "status": "completed"
    },
    "scrolled": true,
    "tags": []
   },
   "outputs": [
    {
     "name": "stdout",
     "output_type": "stream",
     "text": [
      "Training LGBMClassifier\n",
      "\n",
      "Training until validation scores don't improve for 100 rounds\n",
      "[500]\tvalid_0's multi_logloss: 1.8979\n",
      "[1000]\tvalid_0's multi_logloss: 1.8964\n",
      "Early stopping, best iteration is:\n",
      "[916]\tvalid_0's multi_logloss: 1.89617\n",
      "\n",
      "--- Fold 1 - MAP@3: 0.360647\n",
      "\n",
      "\n",
      "Training until validation scores don't improve for 100 rounds\n",
      "[500]\tvalid_0's multi_logloss: 1.89711\n",
      "Early stopping, best iteration is:\n",
      "[878]\tvalid_0's multi_logloss: 1.89455\n",
      "\n",
      "--- Fold 2 - MAP@3: 0.360561\n",
      "\n",
      "\n",
      "Training until validation scores don't improve for 100 rounds\n",
      "[500]\tvalid_0's multi_logloss: 1.89629\n",
      "[1000]\tvalid_0's multi_logloss: 1.89353\n",
      "Early stopping, best iteration is:\n",
      "[924]\tvalid_0's multi_logloss: 1.89343\n",
      "\n",
      "--- Fold 3 - MAP@3: 0.363106\n",
      "\n",
      "\n",
      "Training until validation scores don't improve for 100 rounds\n",
      "[500]\tvalid_0's multi_logloss: 1.89793\n",
      "[1000]\tvalid_0's multi_logloss: 1.89598\n",
      "Early stopping, best iteration is:\n",
      "[921]\tvalid_0's multi_logloss: 1.89581\n",
      "\n",
      "--- Fold 4 - MAP@3: 0.360882\n",
      "\n",
      "\n",
      "Training until validation scores don't improve for 100 rounds\n",
      "[500]\tvalid_0's multi_logloss: 1.89721\n",
      "Early stopping, best iteration is:\n",
      "[858]\tvalid_0's multi_logloss: 1.89508\n",
      "\n",
      "--- Fold 5 - MAP@3: 0.361749\n",
      "\n",
      "\n",
      "\n",
      "------ Overall MAP@3: 0.361389 | Average MAP@3: 0.361389 ± 0.000956\n"
     ]
    }
   ],
   "source": [
    "lgbm_model = LGBMClassifier(**lgbm_params)\n",
    "lgbm_trainer = Trainer(lgbm_model)\n",
    "\n",
    "fit_args = {\n",
    "    \"callbacks\": [\n",
    "        log_evaluation(period=500), \n",
    "        early_stopping(stopping_rounds=100)\n",
    "    ]\n",
    "}\n",
    "\n",
    "oof_pred_probs[\"LightGBM (gbdt)\"], test_pred_probs[\"LightGBM (gbdt)\"], scores[\"LightGBM (gbdt)\"] = lgbm_trainer.fit_predict(X, y, X_test, X_original, y_original, fit_args)"
   ]
  },
  {
   "cell_type": "markdown",
   "id": "3bd0d533",
   "metadata": {
    "papermill": {
     "duration": 0.004604,
     "end_time": "2025-06-05T13:13:44.035627",
     "exception": false,
     "start_time": "2025-06-05T13:13:44.031023",
     "status": "completed"
    },
    "tags": []
   },
   "source": [
    "## LightGBM (goss)"
   ]
  },
  {
   "cell_type": "code",
   "execution_count": 12,
   "id": "348b9d19",
   "metadata": {
    "execution": {
     "iopub.execute_input": "2025-06-05T13:13:44.046715Z",
     "iopub.status.busy": "2025-06-05T13:13:44.046408Z",
     "iopub.status.idle": "2025-06-05T19:32:45.586461Z",
     "shell.execute_reply": "2025-06-05T19:32:45.585321Z"
    },
    "papermill": {
     "duration": 22741.547323,
     "end_time": "2025-06-05T19:32:45.587778",
     "exception": false,
     "start_time": "2025-06-05T13:13:44.040455",
     "status": "completed"
    },
    "tags": []
   },
   "outputs": [
    {
     "name": "stdout",
     "output_type": "stream",
     "text": [
      "Training LGBMClassifier\n",
      "\n",
      "Training until validation scores don't improve for 100 rounds\n",
      "[500]\tvalid_0's multi_logloss: 1.92475\n",
      "[1000]\tvalid_0's multi_logloss: 1.91713\n",
      "[1500]\tvalid_0's multi_logloss: 1.91241\n",
      "[2000]\tvalid_0's multi_logloss: 1.90907\n",
      "[2500]\tvalid_0's multi_logloss: 1.90653\n",
      "[3000]\tvalid_0's multi_logloss: 1.90468\n",
      "[3500]\tvalid_0's multi_logloss: 1.90322\n",
      "[4000]\tvalid_0's multi_logloss: 1.90198\n",
      "[4500]\tvalid_0's multi_logloss: 1.90105\n",
      "[5000]\tvalid_0's multi_logloss: 1.90044\n",
      "[5500]\tvalid_0's multi_logloss: 1.89978\n",
      "[6000]\tvalid_0's multi_logloss: 1.89934\n",
      "[6500]\tvalid_0's multi_logloss: 1.89905\n",
      "[7000]\tvalid_0's multi_logloss: 1.89883\n",
      "Early stopping, best iteration is:\n",
      "[6946]\tvalid_0's multi_logloss: 1.89881\n",
      "\n",
      "--- Fold 1 - MAP@3: 0.356821\n",
      "\n",
      "\n",
      "Training until validation scores don't improve for 100 rounds\n",
      "[500]\tvalid_0's multi_logloss: 1.92469\n",
      "[1000]\tvalid_0's multi_logloss: 1.91708\n",
      "[1500]\tvalid_0's multi_logloss: 1.91222\n",
      "[2000]\tvalid_0's multi_logloss: 1.90886\n",
      "[2500]\tvalid_0's multi_logloss: 1.9063\n",
      "[3000]\tvalid_0's multi_logloss: 1.90432\n",
      "[3500]\tvalid_0's multi_logloss: 1.90268\n",
      "[4000]\tvalid_0's multi_logloss: 1.9014\n",
      "[4500]\tvalid_0's multi_logloss: 1.90042\n",
      "[5000]\tvalid_0's multi_logloss: 1.89957\n",
      "[5500]\tvalid_0's multi_logloss: 1.89892\n",
      "[6000]\tvalid_0's multi_logloss: 1.8984\n",
      "[6500]\tvalid_0's multi_logloss: 1.8979\n",
      "[7000]\tvalid_0's multi_logloss: 1.89752\n",
      "[7500]\tvalid_0's multi_logloss: 1.89725\n",
      "[8000]\tvalid_0's multi_logloss: 1.89707\n",
      "Early stopping, best iteration is:\n",
      "[7990]\tvalid_0's multi_logloss: 1.89706\n",
      "\n",
      "--- Fold 2 - MAP@3: 0.357967\n",
      "\n",
      "\n",
      "Training until validation scores don't improve for 100 rounds\n",
      "[500]\tvalid_0's multi_logloss: 1.92442\n",
      "[1000]\tvalid_0's multi_logloss: 1.91651\n",
      "[1500]\tvalid_0's multi_logloss: 1.91165\n",
      "[2000]\tvalid_0's multi_logloss: 1.90812\n",
      "[2500]\tvalid_0's multi_logloss: 1.90549\n",
      "[3000]\tvalid_0's multi_logloss: 1.90349\n",
      "[3500]\tvalid_0's multi_logloss: 1.90182\n",
      "[4000]\tvalid_0's multi_logloss: 1.90052\n",
      "[4500]\tvalid_0's multi_logloss: 1.89945\n",
      "[5000]\tvalid_0's multi_logloss: 1.89861\n",
      "[5500]\tvalid_0's multi_logloss: 1.89793\n",
      "[6000]\tvalid_0's multi_logloss: 1.89737\n",
      "[6500]\tvalid_0's multi_logloss: 1.8969\n",
      "[7000]\tvalid_0's multi_logloss: 1.89659\n",
      "[7500]\tvalid_0's multi_logloss: 1.89631\n",
      "Early stopping, best iteration is:\n",
      "[7532]\tvalid_0's multi_logloss: 1.8963\n",
      "\n",
      "--- Fold 3 - MAP@3: 0.358197\n",
      "\n",
      "\n",
      "Training until validation scores don't improve for 100 rounds\n",
      "[500]\tvalid_0's multi_logloss: 1.92469\n",
      "[1000]\tvalid_0's multi_logloss: 1.91721\n",
      "[1500]\tvalid_0's multi_logloss: 1.91252\n",
      "[2000]\tvalid_0's multi_logloss: 1.90914\n",
      "[2500]\tvalid_0's multi_logloss: 1.90669\n",
      "[3000]\tvalid_0's multi_logloss: 1.90475\n",
      "[3500]\tvalid_0's multi_logloss: 1.90326\n",
      "[4000]\tvalid_0's multi_logloss: 1.90208\n",
      "[4500]\tvalid_0's multi_logloss: 1.9011\n",
      "[5000]\tvalid_0's multi_logloss: 1.90028\n",
      "[5500]\tvalid_0's multi_logloss: 1.89967\n",
      "[6000]\tvalid_0's multi_logloss: 1.89922\n",
      "[6500]\tvalid_0's multi_logloss: 1.89886\n",
      "[7000]\tvalid_0's multi_logloss: 1.89862\n",
      "Early stopping, best iteration is:\n",
      "[7071]\tvalid_0's multi_logloss: 1.89859\n",
      "\n",
      "--- Fold 4 - MAP@3: 0.356966\n",
      "\n",
      "\n",
      "Training until validation scores don't improve for 100 rounds\n",
      "[500]\tvalid_0's multi_logloss: 1.92457\n",
      "[1000]\tvalid_0's multi_logloss: 1.91679\n",
      "[1500]\tvalid_0's multi_logloss: 1.91198\n",
      "[2000]\tvalid_0's multi_logloss: 1.90859\n",
      "[2500]\tvalid_0's multi_logloss: 1.90603\n",
      "[3000]\tvalid_0's multi_logloss: 1.90407\n",
      "[3500]\tvalid_0's multi_logloss: 1.90253\n",
      "[4000]\tvalid_0's multi_logloss: 1.9013\n",
      "[4500]\tvalid_0's multi_logloss: 1.90035\n",
      "[5000]\tvalid_0's multi_logloss: 1.89953\n",
      "[5500]\tvalid_0's multi_logloss: 1.8989\n",
      "[6000]\tvalid_0's multi_logloss: 1.89846\n",
      "[6500]\tvalid_0's multi_logloss: 1.8981\n",
      "[7000]\tvalid_0's multi_logloss: 1.89784\n",
      "[7500]\tvalid_0's multi_logloss: 1.89763\n",
      "[8000]\tvalid_0's multi_logloss: 1.89755\n",
      "Early stopping, best iteration is:\n",
      "[8053]\tvalid_0's multi_logloss: 1.89753\n",
      "\n",
      "--- Fold 5 - MAP@3: 0.358352\n",
      "\n",
      "\n",
      "\n",
      "------ Overall MAP@3: 0.357660 | Average MAP@3: 0.357660 ± 0.000640\n"
     ]
    }
   ],
   "source": [
    "lgb_goss_model = LGBMClassifier(**lgbm_goss_params)\n",
    "lgb_goss_trainer = Trainer(lgb_goss_model)\n",
    "\n",
    "fit_args = {\n",
    "    \"callbacks\": [\n",
    "        log_evaluation(period=500), \n",
    "        early_stopping(stopping_rounds=100)\n",
    "    ]\n",
    "}\n",
    "\n",
    "oof_pred_probs[\"LightGBM (goss)\"], test_pred_probs[\"LightGBM (goss)\"], scores[\"LightGBM (goss)\"] = lgb_goss_trainer.fit_predict(X, y, X_test, X_original, y_original, fit_args)"
   ]
  },
  {
   "cell_type": "markdown",
   "id": "1862e50d",
   "metadata": {
    "papermill": {
     "duration": 0.007421,
     "end_time": "2025-06-05T19:32:45.603549",
     "exception": false,
     "start_time": "2025-06-05T19:32:45.596128",
     "status": "completed"
    },
    "tags": []
   },
   "source": [
    "## XGBoost"
   ]
  },
  {
   "cell_type": "code",
   "execution_count": 13,
   "id": "0bdcd805",
   "metadata": {
    "execution": {
     "iopub.execute_input": "2025-06-05T19:32:45.619761Z",
     "iopub.status.busy": "2025-06-05T19:32:45.619500Z",
     "iopub.status.idle": "2025-06-05T20:47:32.754662Z",
     "shell.execute_reply": "2025-06-05T20:47:32.753769Z"
    },
    "papermill": {
     "duration": 4487.145403,
     "end_time": "2025-06-05T20:47:32.756368",
     "exception": false,
     "start_time": "2025-06-05T19:32:45.610965",
     "status": "completed"
    },
    "tags": []
   },
   "outputs": [
    {
     "name": "stdout",
     "output_type": "stream",
     "text": [
      "Training XGBClassifier\n",
      "\n",
      "[0]\tvalidation_0-mlogloss:1.94561\n",
      "[500]\tvalidation_0-mlogloss:1.89899\n",
      "[1000]\tvalidation_0-mlogloss:1.89224\n",
      "[1424]\tvalidation_0-mlogloss:1.89159\n",
      "\n",
      "--- Fold 1 - MAP@3: 0.364604\n",
      "\n",
      "\n",
      "[0]\tvalidation_0-mlogloss:1.94562\n",
      "[500]\tvalidation_0-mlogloss:1.89831\n",
      "[1000]\tvalidation_0-mlogloss:1.89087\n",
      "[1500]\tvalidation_0-mlogloss:1.88976\n",
      "[1657]\tvalidation_0-mlogloss:1.88979\n",
      "\n",
      "--- Fold 2 - MAP@3: 0.365861\n",
      "\n",
      "\n",
      "[0]\tvalidation_0-mlogloss:1.94558\n",
      "[500]\tvalidation_0-mlogloss:1.89746\n",
      "[1000]\tvalidation_0-mlogloss:1.88999\n",
      "[1500]\tvalidation_0-mlogloss:1.88871\n",
      "[1605]\tvalidation_0-mlogloss:1.88875\n",
      "\n",
      "--- Fold 3 - MAP@3: 0.367676\n",
      "\n",
      "\n",
      "[0]\tvalidation_0-mlogloss:1.94561\n",
      "[500]\tvalidation_0-mlogloss:1.89874\n",
      "[1000]\tvalidation_0-mlogloss:1.89181\n",
      "[1500]\tvalidation_0-mlogloss:1.89092\n",
      "[1569]\tvalidation_0-mlogloss:1.89095\n",
      "\n",
      "--- Fold 4 - MAP@3: 0.365803\n",
      "\n",
      "\n",
      "[0]\tvalidation_0-mlogloss:1.94559\n",
      "[500]\tvalidation_0-mlogloss:1.89813\n",
      "[1000]\tvalidation_0-mlogloss:1.89111\n",
      "[1500]\tvalidation_0-mlogloss:1.89010\n",
      "[1592]\tvalidation_0-mlogloss:1.89018\n",
      "\n",
      "--- Fold 5 - MAP@3: 0.365958\n",
      "\n",
      "\n",
      "\n",
      "------ Overall MAP@3: 0.365980 | Average MAP@3: 0.365980 ± 0.000981\n"
     ]
    }
   ],
   "source": [
    "xgb_model = XGBClassifier(**xgb_params)\n",
    "xgb_trainer = Trainer(xgb_model)\n",
    "\n",
    "fit_args = {\n",
    "    \"verbose\": 500\n",
    "}\n",
    "\n",
    "oof_pred_probs[\"XGBoost\"], test_pred_probs[\"XGBoost\"], scores[\"XGBoost\"] = xgb_trainer.fit_predict(X, y, X_test, X_original, y_original, fit_args)"
   ]
  },
  {
   "cell_type": "markdown",
   "id": "7372a499",
   "metadata": {
    "papermill": {
     "duration": 0.008269,
     "end_time": "2025-06-05T20:47:32.773640",
     "exception": false,
     "start_time": "2025-06-05T20:47:32.765371",
     "status": "completed"
    },
    "tags": []
   },
   "source": [
    "## AutoGluon"
   ]
  },
  {
   "cell_type": "code",
   "execution_count": 14,
   "id": "ca29d9b1",
   "metadata": {
    "execution": {
     "iopub.execute_input": "2025-06-05T20:47:32.791800Z",
     "iopub.status.busy": "2025-06-05T20:47:32.791515Z",
     "iopub.status.idle": "2025-06-05T20:47:35.814059Z",
     "shell.execute_reply": "2025-06-05T20:47:35.813135Z"
    },
    "papermill": {
     "duration": 3.033494,
     "end_time": "2025-06-05T20:47:35.815636",
     "exception": false,
     "start_time": "2025-06-05T20:47:32.782142",
     "status": "completed"
    },
    "tags": []
   },
   "outputs": [],
   "source": [
    "oof_preds_files = glob.glob(f'/kaggle/input/s05e06-fertilizer-optimization-autogluon/*_oof_pred_probs_*.pkl')\n",
    "test_preds_files = glob.glob(f'/kaggle/input/s05e06-fertilizer-optimization-autogluon/*_test_pred_probs_*.pkl')\n",
    "\n",
    "ag_oof_preds = joblib.load(oof_preds_files[0])\n",
    "ag_test_preds = joblib.load(test_preds_files[0])\n",
    "\n",
    "ag_scores = []\n",
    "split = StratifiedKFold(n_splits=CFG.n_folds, random_state=CFG.seed, shuffle=True).split(X, y)\n",
    "for _, val_idx in split:\n",
    "    y_val = y[val_idx]\n",
    "    y_preds = ag_oof_preds[val_idx]\n",
    "    score = map3(y_val, y_preds)\n",
    "    ag_scores.append(score)\n",
    "    \n",
    "oof_pred_probs[\"AutoGluon\"], test_pred_probs[\"AutoGluon\"], scores[\"AutoGluon\"] = ag_oof_preds, ag_test_preds, ag_scores"
   ]
  },
  {
   "cell_type": "markdown",
   "id": "60dcc4c9",
   "metadata": {
    "papermill": {
     "duration": 0.012131,
     "end_time": "2025-06-05T20:47:35.838910",
     "exception": false,
     "start_time": "2025-06-05T20:47:35.826779",
     "status": "completed"
    },
    "tags": []
   },
   "source": [
    "# Ensembling with LogisticRegression"
   ]
  },
  {
   "cell_type": "code",
   "execution_count": 15,
   "id": "c6253bce",
   "metadata": {
    "execution": {
     "iopub.execute_input": "2025-06-05T20:47:35.862855Z",
     "iopub.status.busy": "2025-06-05T20:47:35.862621Z",
     "iopub.status.idle": "2025-06-05T20:47:35.962877Z",
     "shell.execute_reply": "2025-06-05T20:47:35.962022Z"
    },
    "papermill": {
     "duration": 0.113282,
     "end_time": "2025-06-05T20:47:35.964501",
     "exception": false,
     "start_time": "2025-06-05T20:47:35.851219",
     "status": "completed"
    },
    "tags": []
   },
   "outputs": [],
   "source": [
    "X = pd.DataFrame(np.concatenate(list(oof_pred_probs.values()), axis=1))\n",
    "X_test = pd.DataFrame(np.concatenate(list(test_pred_probs.values()), axis=1))"
   ]
  },
  {
   "cell_type": "code",
   "execution_count": 16,
   "id": "bb03fb59",
   "metadata": {
    "execution": {
     "iopub.execute_input": "2025-06-05T20:47:35.983407Z",
     "iopub.status.busy": "2025-06-05T20:47:35.983078Z",
     "iopub.status.idle": "2025-06-05T20:47:36.234850Z",
     "shell.execute_reply": "2025-06-05T20:47:36.234050Z"
    },
    "papermill": {
     "duration": 0.2622,
     "end_time": "2025-06-05T20:47:36.235915",
     "exception": false,
     "start_time": "2025-06-05T20:47:35.973715",
     "status": "completed"
    },
    "tags": []
   },
   "outputs": [
    {
     "data": {
      "text/plain": [
       "['test_pred_probs.pkl']"
      ]
     },
     "execution_count": 16,
     "metadata": {},
     "output_type": "execute_result"
    }
   ],
   "source": [
    "joblib.dump(X, \"oof_pred_probs.pkl\")\n",
    "joblib.dump(X_test, \"test_pred_probs.pkl\")"
   ]
  },
  {
   "cell_type": "code",
   "execution_count": 17,
   "id": "e3a00b86",
   "metadata": {
    "_kg_hide-output": true,
    "execution": {
     "iopub.execute_input": "2025-06-05T20:47:36.255174Z",
     "iopub.status.busy": "2025-06-05T20:47:36.254902Z",
     "iopub.status.idle": "2025-06-05T20:47:36.262356Z",
     "shell.execute_reply": "2025-06-05T20:47:36.261632Z"
    },
    "papermill": {
     "duration": 0.018128,
     "end_time": "2025-06-05T20:47:36.263471",
     "exception": false,
     "start_time": "2025-06-05T20:47:36.245343",
     "status": "completed"
    },
    "scrolled": true,
    "tags": []
   },
   "outputs": [],
   "source": [
    "def objective(trial):\n",
    "    solver_penalty_options = [\n",
    "        ('liblinear', 'l1'),\n",
    "        ('liblinear', 'l2'),\n",
    "        ('lbfgs', 'l2'),\n",
    "        ('lbfgs', None)\n",
    "    ]\n",
    "    solver, penalty = trial.suggest_categorical('solver_penalty', solver_penalty_options)\n",
    "    \n",
    "    params = {\n",
    "        'random_state': CFG.seed,\n",
    "        'max_iter': 500,\n",
    "        'C': trial.suggest_float('C', 0, 10),\n",
    "        'tol': trial.suggest_float('tol', 1e-7, 1e-2),\n",
    "        'fit_intercept': trial.suggest_categorical('fit_intercept', [True, False]),\n",
    "        'class_weight': trial.suggest_categorical('class_weight', ['balanced', None]),\n",
    "        'solver': solver,\n",
    "        'penalty': penalty\n",
    "    }\n",
    "    \n",
    "    model = LogisticRegression(**params)\n",
    "    trainer = Trainer(model)\n",
    "    return trainer.tune(X, y)\n",
    "\n",
    "\n",
    "if CFG.run_optuna:\n",
    "    sampler = optuna.samplers.TPESampler(seed=CFG.seed, multivariate=True)\n",
    "    study = optuna.create_study(direction='maximize', sampler=sampler)\n",
    "    study.optimize(objective, n_trials=250, n_jobs=-1)\n",
    "    best_params = study.best_params\n",
    "    \n",
    "    solver, penalty = best_params['solver_penalty']\n",
    "    lr_params = {\n",
    "        'random_state': CFG.seed,\n",
    "        'max_iter': 500,\n",
    "        'solver': solver,\n",
    "        'penalty': penalty,\n",
    "        'fit_intercept': best_params['fit_intercept'],\n",
    "        'class_weight': best_params['class_weight'],\n",
    "        'C': best_params['C'],\n",
    "        'tol': best_params['tol']\n",
    "    }\n",
    "else:\n",
    "    lr_params = {\n",
    "        'random_state': CFG.seed,\n",
    "        'max_iter': 500\n",
    "    }"
   ]
  },
  {
   "cell_type": "code",
   "execution_count": 18,
   "id": "377d6e20",
   "metadata": {
    "execution": {
     "iopub.execute_input": "2025-06-05T20:47:36.283297Z",
     "iopub.status.busy": "2025-06-05T20:47:36.283044Z",
     "iopub.status.idle": "2025-06-05T20:47:36.287246Z",
     "shell.execute_reply": "2025-06-05T20:47:36.286507Z"
    },
    "papermill": {
     "duration": 0.014932,
     "end_time": "2025-06-05T20:47:36.288215",
     "exception": false,
     "start_time": "2025-06-05T20:47:36.273283",
     "status": "completed"
    },
    "tags": []
   },
   "outputs": [
    {
     "name": "stdout",
     "output_type": "stream",
     "text": [
      "{\n",
      "  \"random_state\": 42,\n",
      "  \"max_iter\": 500\n",
      "}\n"
     ]
    }
   ],
   "source": [
    "print(json.dumps(lr_params, indent=2))"
   ]
  },
  {
   "cell_type": "code",
   "execution_count": 19,
   "id": "b464ac62",
   "metadata": {
    "execution": {
     "iopub.execute_input": "2025-06-05T20:47:36.307683Z",
     "iopub.status.busy": "2025-06-05T20:47:36.307406Z",
     "iopub.status.idle": "2025-06-05T20:48:33.340649Z",
     "shell.execute_reply": "2025-06-05T20:48:33.339679Z"
    },
    "papermill": {
     "duration": 57.043952,
     "end_time": "2025-06-05T20:48:33.341731",
     "exception": false,
     "start_time": "2025-06-05T20:47:36.297779",
     "status": "completed"
    },
    "tags": []
   },
   "outputs": [
    {
     "name": "stdout",
     "output_type": "stream",
     "text": [
      "Training LogisticRegression\n",
      "\n",
      "--- Fold 1 - MAP@3: 0.364459\n",
      "--- Fold 2 - MAP@3: 0.366214\n",
      "--- Fold 3 - MAP@3: 0.367982\n",
      "--- Fold 4 - MAP@3: 0.365933\n",
      "--- Fold 5 - MAP@3: 0.365986\n",
      "\n",
      "------ Overall MAP@3: 0.366115 | Average MAP@3: 0.366115 ± 0.001122\n"
     ]
    }
   ],
   "source": [
    "lr_model = LogisticRegression(**lr_params)\n",
    "lr_trainer = Trainer(lr_model)\n",
    "\n",
    "_, lr_test_pred_probs, scores[\"LogisticRegression\"] = lr_trainer.fit_predict(X, y, X_test)"
   ]
  },
  {
   "cell_type": "code",
   "execution_count": 20,
   "id": "02cbe123",
   "metadata": {
    "execution": {
     "iopub.execute_input": "2025-06-05T20:48:33.362129Z",
     "iopub.status.busy": "2025-06-05T20:48:33.361889Z",
     "iopub.status.idle": "2025-06-05T20:48:51.846582Z",
     "shell.execute_reply": "2025-06-05T20:48:51.845876Z"
    },
    "papermill": {
     "duration": 18.496142,
     "end_time": "2025-06-05T20:48:51.847883",
     "exception": false,
     "start_time": "2025-06-05T20:48:33.351741",
     "status": "completed"
    },
    "tags": []
   },
   "outputs": [],
   "source": [
    "final_predictions = []\n",
    "for i in np.argsort(lr_test_pred_probs)[:, -3:][:, ::-1]:\n",
    "    prediction = label_encoder.inverse_transform(i)\n",
    "    final_predictions.append(\" \".join(prediction))"
   ]
  },
  {
   "cell_type": "code",
   "execution_count": 21,
   "id": "f1180c54",
   "metadata": {
    "execution": {
     "iopub.execute_input": "2025-06-05T20:48:51.867219Z",
     "iopub.status.busy": "2025-06-05T20:48:51.867006Z",
     "iopub.status.idle": "2025-06-05T20:48:52.199038Z",
     "shell.execute_reply": "2025-06-05T20:48:52.198292Z"
    },
    "papermill": {
     "duration": 0.342848,
     "end_time": "2025-06-05T20:48:52.200344",
     "exception": false,
     "start_time": "2025-06-05T20:48:51.857496",
     "status": "completed"
    },
    "tags": []
   },
   "outputs": [
    {
     "data": {
      "text/html": [
       "<div>\n",
       "<style scoped>\n",
       "    .dataframe tbody tr th:only-of-type {\n",
       "        vertical-align: middle;\n",
       "    }\n",
       "\n",
       "    .dataframe tbody tr th {\n",
       "        vertical-align: top;\n",
       "    }\n",
       "\n",
       "    .dataframe thead th {\n",
       "        text-align: right;\n",
       "    }\n",
       "</style>\n",
       "<table border=\"1\" class=\"dataframe\">\n",
       "  <thead>\n",
       "    <tr style=\"text-align: right;\">\n",
       "      <th></th>\n",
       "      <th>id</th>\n",
       "      <th>Fertilizer Name</th>\n",
       "    </tr>\n",
       "  </thead>\n",
       "  <tbody>\n",
       "    <tr>\n",
       "      <th>0</th>\n",
       "      <td>750000</td>\n",
       "      <td>10-26-26 20-20 DAP</td>\n",
       "    </tr>\n",
       "    <tr>\n",
       "      <th>1</th>\n",
       "      <td>750001</td>\n",
       "      <td>17-17-17 10-26-26 20-20</td>\n",
       "    </tr>\n",
       "    <tr>\n",
       "      <th>2</th>\n",
       "      <td>750002</td>\n",
       "      <td>20-20 28-28 Urea</td>\n",
       "    </tr>\n",
       "    <tr>\n",
       "      <th>3</th>\n",
       "      <td>750003</td>\n",
       "      <td>14-35-14 DAP 17-17-17</td>\n",
       "    </tr>\n",
       "    <tr>\n",
       "      <th>4</th>\n",
       "      <td>750004</td>\n",
       "      <td>20-20 Urea 10-26-26</td>\n",
       "    </tr>\n",
       "  </tbody>\n",
       "</table>\n",
       "</div>"
      ],
      "text/plain": [
       "       id          Fertilizer Name\n",
       "0  750000       10-26-26 20-20 DAP\n",
       "1  750001  17-17-17 10-26-26 20-20\n",
       "2  750002         20-20 28-28 Urea\n",
       "3  750003    14-35-14 DAP 17-17-17\n",
       "4  750004      20-20 Urea 10-26-26"
      ]
     },
     "execution_count": 21,
     "metadata": {},
     "output_type": "execute_result"
    }
   ],
   "source": [
    "sub = pd.read_csv(CFG.sample_sub_path)\n",
    "sub[CFG.target] = final_predictions\n",
    "sub.to_csv(f\"sub_logistic-regression_{np.mean(scores['LogisticRegression']):.6f}.csv\", index=False)\n",
    "sub.head()"
   ]
  },
  {
   "cell_type": "markdown",
   "id": "5489a236",
   "metadata": {
    "papermill": {
     "duration": 0.009211,
     "end_time": "2025-06-05T20:48:52.219687",
     "exception": false,
     "start_time": "2025-06-05T20:48:52.210476",
     "status": "completed"
    },
    "tags": []
   },
   "source": [
    "# Results"
   ]
  },
  {
   "cell_type": "code",
   "execution_count": 22,
   "id": "3ea05492",
   "metadata": {
    "execution": {
     "iopub.execute_input": "2025-06-05T20:48:52.240763Z",
     "iopub.status.busy": "2025-06-05T20:48:52.240497Z",
     "iopub.status.idle": "2025-06-05T20:48:52.544505Z",
     "shell.execute_reply": "2025-06-05T20:48:52.543915Z"
    },
    "papermill": {
     "duration": 0.316613,
     "end_time": "2025-06-05T20:48:52.545528",
     "exception": false,
     "start_time": "2025-06-05T20:48:52.228915",
     "status": "completed"
    },
    "tags": []
   },
   "outputs": [
    {
     "data": {
      "image/png": "[encoded data removed]",
      "text/plain": [
       "<Figure size 1500x200 with 2 Axes>"
      ]
     },
     "metadata": {},
     "output_type": "display_data"
    }
   ],
   "source": [
    "scores = pd.DataFrame(scores)\n",
    "mean_scores = scores.mean().sort_values(ascending=False)\n",
    "order = scores.mean().sort_values(ascending=False).index.tolist()\n",
    "\n",
    "min_score = mean_scores.min()\n",
    "max_score = mean_scores.max()\n",
    "padding = (max_score - min_score) * 0.5\n",
    "lower_limit = min_score - padding\n",
    "upper_limit = max_score + padding\n",
    "\n",
    "fig, axs = plt.subplots(1, 2, figsize=(15, scores.shape[1] * 0.4))\n",
    "\n",
    "boxplot = sns.boxplot(data=scores, order=order, ax=axs[0], orient=\"h\", color=\"grey\")\n",
    "axs[0].set_title(f\"Fold MAP@3\")\n",
    "axs[0].set_xlabel(\"\")\n",
    "axs[0].set_ylabel(\"\")\n",
    "\n",
    "barplot = sns.barplot(x=mean_scores.values, y=mean_scores.index, ax=axs[1], color=\"grey\")\n",
    "axs[1].set_title(f\"Mean MAP@3\")\n",
    "axs[1].set_xlabel(\"\")\n",
    "axs[1].set_xlim(left=lower_limit, right=upper_limit)\n",
    "axs[1].set_ylabel(\"\")\n",
    "\n",
    "for i, (score, model) in enumerate(zip(mean_scores.values, mean_scores.index)):\n",
    "    color = \"cyan\" if \"logistic\" in model.lower() else \"grey\"\n",
    "    barplot.patches[i].set_facecolor(color)\n",
    "    boxplot.patches[i].set_facecolor(color)\n",
    "    barplot.text(score, i, round(score, 6), va=\"center\")\n",
    "\n",
    "plt.tight_layout()\n",
    "plt.show()"
   ]
  },
  {
   "cell_type": "code",
   "execution_count": 23,
   "id": "5be3c034",
   "metadata": {
    "execution": {
     "iopub.execute_input": "2025-06-05T20:48:52.567968Z",
     "iopub.status.busy": "2025-06-05T20:48:52.567738Z",
     "iopub.status.idle": "2025-06-05T20:48:52.571775Z",
     "shell.execute_reply": "2025-06-05T20:48:52.571056Z"
    },
    "papermill": {
     "duration": 0.015534,
     "end_time": "2025-06-05T20:48:52.572875",
     "exception": false,
     "start_time": "2025-06-05T20:48:52.557341",
     "status": "completed"
    },
    "tags": []
   },
   "outputs": [],
   "source": [
    "shutil.rmtree(\"catboost_info\", ignore_errors=True)"
   ]
  }
 ],
 "metadata": {
  "kaggle": {
   "accelerator": "none",
   "dataSources": [
    {
     "databundleVersionId": 12184666,
     "sourceId": 91717,
     "sourceType": "competition"
    },
    {
     "datasetId": 7269189,
     "sourceId": 11592231,
     "sourceType": "datasetVersion"
    },
    {
     "sourceId": 243651382,
     "sourceType": "kernelVersion"
    }
   ],
   "dockerImageVersionId": 31040,
   "isGpuEnabled": false,
   "isInternetEnabled": true,
   "language": "python",
   "sourceType": "notebook"
  },
  "kernelspec": {
   "display_name": "Python 3",
   "language": "python",
   "name": "python3"
  },
  "language_info": {
   "codemirror_mode": {
    "name": "ipython",
    "version": 3
   },
   "file_extension": ".py",
   "mimetype": "text/x-python",
   "name": "python",
   "nbconvert_exporter": "python",
   "pygments_lexer": "ipython3",
   "version": "3.11.11"
  },
  "papermill": {
   "default_parameters": {},
   "duration": 33126.866005,
   "end_time": "2025-06-05T20:48:53.858143",
   "environment_variables": {},
   "exception": null,
   "input_path": "__notebook__.ipynb",
   "output_path": "__notebook__.ipynb",
   "parameters": {},
   "start_time": "2025-06-05T11:36:46.992138",
   "version": "2.6.0"
  }
 },
 "nbformat": 4,
 "nbformat_minor": 5
}
