{
 "cells": [
  {
   "cell_type": "markdown",
   "id": "236a929b",
   "metadata": {
    "papermill": {
     "duration": 0.006723,
     "end_time": "2025-03-11T15:54:26.849619",
     "exception": false,
     "start_time": "2025-03-11T15:54:26.842896",
     "status": "completed"
    },
    "tags": []
   },
   "source": [
    "# Rain prediction using Logistic Regression\n",
    "\n",
    "This notebook predicts rainfall using a simple Logistic Regression model."
   ]
  },
  {
   "cell_type": "markdown",
   "id": "48d3c3d5",
   "metadata": {
    "papermill": {
     "duration": 0.004793,
     "end_time": "2025-03-11T15:54:26.859858",
     "exception": false,
     "start_time": "2025-03-11T15:54:26.855065",
     "status": "completed"
    },
    "tags": []
   },
   "source": [
    "## Importing libraries and reading files"
   ]
  },
  {
   "cell_type": "code",
   "execution_count": 1,
   "id": "0852a23b",
   "metadata": {
    "_cell_guid": "b1076dfc-b9ad-4769-8c92-a6c4dae69d19",
    "_uuid": "8f2839f25d086af736a60e9eeb907d3b93b6e0e5",
    "execution": {
     "iopub.execute_input": "2025-03-11T15:54:26.870957Z",
     "iopub.status.busy": "2025-03-11T15:54:26.870591Z",
     "iopub.status.idle": "2025-03-11T15:54:27.884173Z",
     "shell.execute_reply": "2025-03-11T15:54:27.882696Z"
    },
    "papermill": {
     "duration": 1.021358,
     "end_time": "2025-03-11T15:54:27.886140",
     "exception": false,
     "start_time": "2025-03-11T15:54:26.864782",
     "status": "completed"
    },
    "tags": []
   },
   "outputs": [
    {
     "name": "stdout",
     "output_type": "stream",
     "text": [
      "/kaggle/input/playground-series-s5e3/sample_submission.csv\n",
      "/kaggle/input/playground-series-s5e3/train.csv\n",
      "/kaggle/input/playground-series-s5e3/test.csv\n"
     ]
    }
   ],
   "source": [
    "import numpy as np # linear algebra\n",
    "import pandas as pd # data processing, CSV file I/O (e.g. pd.read_csv)\n",
    "\n",
    "import os\n",
    "for dirname, _, filenames in os.walk('/kaggle/input'):\n",
    "    for filename in filenames:\n",
    "        print(os.path.join(dirname, filename))\n"
   ]
  },
  {
   "cell_type": "code",
   "execution_count": 2,
   "id": "a632b73b",
   "metadata": {
    "execution": {
     "iopub.execute_input": "2025-03-11T15:54:27.898309Z",
     "iopub.status.busy": "2025-03-11T15:54:27.897683Z",
     "iopub.status.idle": "2025-03-11T15:54:28.283520Z",
     "shell.execute_reply": "2025-03-11T15:54:28.281959Z"
    },
    "papermill": {
     "duration": 0.394524,
     "end_time": "2025-03-11T15:54:28.285924",
     "exception": false,
     "start_time": "2025-03-11T15:54:27.891400",
     "status": "completed"
    },
    "tags": []
   },
   "outputs": [
    {
     "name": "stdout",
     "output_type": "stream",
     "text": [
      "id,rainfall\r\n",
      "2190,0\r\n",
      "2191,0\r\n",
      "2192,0\r\n",
      "2193,0\r\n",
      "2194,0\r\n",
      "2195,0\r\n",
      "2196,0\r\n",
      "2197,0\r\n",
      "2198,0\r\n",
      "id,day,pressure,maxtemp,temparature,mintemp,dewpoint,humidity,cloud,sunshine,winddirection,windspeed,rainfall\r\n",
      "0,1,1017.4,21.2,20.6,19.9,19.4,87.0,88.0,1.1,60.0,17.2,1\r\n",
      "1,2,1019.5,16.2,16.9,15.8,15.4,95.0,91.0,0.0,50.0,21.9,1\r\n",
      "2,3,1024.1,19.4,16.1,14.6,9.3,75.0,47.0,8.3,70.0,18.1,1\r\n",
      "3,4,1013.4,18.1,17.8,16.9,16.8,95.0,95.0,0.0,60.0,35.6,1\r\n",
      "4,5,1021.8,21.3,18.4,15.2,9.6,52.0,45.0,3.6,40.0,24.8,0\r\n",
      "5,6,1022.7,20.6,18.6,16.5,12.5,79.0,81.0,0.0,20.0,15.7,1\r\n",
      "6,7,1022.8,19.5,18.4,15.3,11.3,56.0,46.0,7.6,20.0,28.4,0\r\n",
      "7,8,1019.7,15.8,13.6,12.7,11.8,96.0,100.0,0.0,50.0,52.8,1\r\n",
      "8,9,1017.4,17.6,16.5,15.6,12.5,86.0,100.0,0.0,50.0,37.5,1\r\n",
      "id,day,pressure,maxtemp,temparature,mintemp,dewpoint,humidity,cloud,sunshine,winddirection,windspeed\r\n",
      "2190,1,1019.5,17.5,15.8,12.7,14.9,96.0,99.0,0.0,50.0,24.3\r\n",
      "2191,2,1016.5,17.5,16.5,15.8,15.1,97.0,99.0,0.0,50.0,35.3\r\n",
      "2192,3,1023.9,11.2,10.4,9.4,8.9,86.0,96.0,0.0,40.0,16.9\r\n",
      "2193,4,1022.9,20.6,17.3,15.2,9.5,75.0,45.0,7.1,20.0,50.6\r\n",
      "2194,5,1022.2,16.1,13.8,6.4,4.3,68.0,49.0,9.2,20.0,19.4\r\n",
      "2195,6,1027.1,15.6,12.6,11.5,9.0,76.0,94.0,0.0,20.0,41.4\r\n",
      "2196,7,1022.6,15.5,13.7,10.7,11.8,79.0,95.0,0.0,20.0,43.1\r\n",
      "2197,8,1013.5,20.5,16.2,15.2,13.1,94.0,93.0,0.2,70.0,41.3\r\n",
      "2198,9,1021.3,16.3,13.2,11.3,10.8,85.0,99.0,0.1,20.0,34.0\r\n"
     ]
    }
   ],
   "source": [
    "!head /kaggle/input/playground-series-s5e3/sample_submission.csv\n",
    "!head /kaggle/input/playground-series-s5e3/train.csv\n",
    "!head /kaggle/input/playground-series-s5e3/test.csv"
   ]
  },
  {
   "cell_type": "code",
   "execution_count": 3,
   "id": "9e0d3ee1",
   "metadata": {
    "execution": {
     "iopub.execute_input": "2025-03-11T15:54:28.297999Z",
     "iopub.status.busy": "2025-03-11T15:54:28.297498Z",
     "iopub.status.idle": "2025-03-11T15:54:28.362025Z",
     "shell.execute_reply": "2025-03-11T15:54:28.360706Z"
    },
    "papermill": {
     "duration": 0.072876,
     "end_time": "2025-03-11T15:54:28.363967",
     "exception": false,
     "start_time": "2025-03-11T15:54:28.291091",
     "status": "completed"
    },
    "tags": []
   },
   "outputs": [
    {
     "data": {
      "text/html": [
       "<div>\n",
       "<style scoped>\n",
       "    .dataframe tbody tr th:only-of-type {\n",
       "        vertical-align: middle;\n",
       "    }\n",
       "\n",
       "    .dataframe tbody tr th {\n",
       "        vertical-align: top;\n",
       "    }\n",
       "\n",
       "    .dataframe thead th {\n",
       "        text-align: right;\n",
       "    }\n",
       "</style>\n",
       "<table border=\"1\" class=\"dataframe\">\n",
       "  <thead>\n",
       "    <tr style=\"text-align: right;\">\n",
       "      <th></th>\n",
       "      <th>id</th>\n",
       "      <th>day</th>\n",
       "      <th>pressure</th>\n",
       "      <th>maxtemp</th>\n",
       "      <th>temparature</th>\n",
       "      <th>mintemp</th>\n",
       "      <th>dewpoint</th>\n",
       "      <th>humidity</th>\n",
       "      <th>cloud</th>\n",
       "      <th>sunshine</th>\n",
       "      <th>winddirection</th>\n",
       "      <th>windspeed</th>\n",
       "      <th>rainfall</th>\n",
       "    </tr>\n",
       "  </thead>\n",
       "  <tbody>\n",
       "    <tr>\n",
       "      <th>0</th>\n",
       "      <td>0</td>\n",
       "      <td>1</td>\n",
       "      <td>1017.4</td>\n",
       "      <td>21.2</td>\n",
       "      <td>20.6</td>\n",
       "      <td>19.9</td>\n",
       "      <td>19.4</td>\n",
       "      <td>87.0</td>\n",
       "      <td>88.0</td>\n",
       "      <td>1.1</td>\n",
       "      <td>60.0</td>\n",
       "      <td>17.2</td>\n",
       "      <td>1</td>\n",
       "    </tr>\n",
       "    <tr>\n",
       "      <th>1</th>\n",
       "      <td>1</td>\n",
       "      <td>2</td>\n",
       "      <td>1019.5</td>\n",
       "      <td>16.2</td>\n",
       "      <td>16.9</td>\n",
       "      <td>15.8</td>\n",
       "      <td>15.4</td>\n",
       "      <td>95.0</td>\n",
       "      <td>91.0</td>\n",
       "      <td>0.0</td>\n",
       "      <td>50.0</td>\n",
       "      <td>21.9</td>\n",
       "      <td>1</td>\n",
       "    </tr>\n",
       "    <tr>\n",
       "      <th>2</th>\n",
       "      <td>2</td>\n",
       "      <td>3</td>\n",
       "      <td>1024.1</td>\n",
       "      <td>19.4</td>\n",
       "      <td>16.1</td>\n",
       "      <td>14.6</td>\n",
       "      <td>9.3</td>\n",
       "      <td>75.0</td>\n",
       "      <td>47.0</td>\n",
       "      <td>8.3</td>\n",
       "      <td>70.0</td>\n",
       "      <td>18.1</td>\n",
       "      <td>1</td>\n",
       "    </tr>\n",
       "    <tr>\n",
       "      <th>3</th>\n",
       "      <td>3</td>\n",
       "      <td>4</td>\n",
       "      <td>1013.4</td>\n",
       "      <td>18.1</td>\n",
       "      <td>17.8</td>\n",
       "      <td>16.9</td>\n",
       "      <td>16.8</td>\n",
       "      <td>95.0</td>\n",
       "      <td>95.0</td>\n",
       "      <td>0.0</td>\n",
       "      <td>60.0</td>\n",
       "      <td>35.6</td>\n",
       "      <td>1</td>\n",
       "    </tr>\n",
       "    <tr>\n",
       "      <th>4</th>\n",
       "      <td>4</td>\n",
       "      <td>5</td>\n",
       "      <td>1021.8</td>\n",
       "      <td>21.3</td>\n",
       "      <td>18.4</td>\n",
       "      <td>15.2</td>\n",
       "      <td>9.6</td>\n",
       "      <td>52.0</td>\n",
       "      <td>45.0</td>\n",
       "      <td>3.6</td>\n",
       "      <td>40.0</td>\n",
       "      <td>24.8</td>\n",
       "      <td>0</td>\n",
       "    </tr>\n",
       "  </tbody>\n",
       "</table>\n",
       "</div>"
      ],
      "text/plain": [
       "   id  day  pressure  maxtemp  temparature  mintemp  dewpoint  humidity  \\\n",
       "0   0    1    1017.4     21.2         20.6     19.9      19.4      87.0   \n",
       "1   1    2    1019.5     16.2         16.9     15.8      15.4      95.0   \n",
       "2   2    3    1024.1     19.4         16.1     14.6       9.3      75.0   \n",
       "3   3    4    1013.4     18.1         17.8     16.9      16.8      95.0   \n",
       "4   4    5    1021.8     21.3         18.4     15.2       9.6      52.0   \n",
       "\n",
       "   cloud  sunshine  winddirection  windspeed  rainfall  \n",
       "0   88.0       1.1           60.0       17.2         1  \n",
       "1   91.0       0.0           50.0       21.9         1  \n",
       "2   47.0       8.3           70.0       18.1         1  \n",
       "3   95.0       0.0           60.0       35.6         1  \n",
       "4   45.0       3.6           40.0       24.8         0  "
      ]
     },
     "execution_count": 3,
     "metadata": {},
     "output_type": "execute_result"
    }
   ],
   "source": [
    "train = pd.read_csv(\"/kaggle/input/playground-series-s5e3/train.csv\")#.set_index(\"id\")\n",
    "train.head()"
   ]
  },
  {
   "cell_type": "code",
   "execution_count": 4,
   "id": "29c2a246",
   "metadata": {
    "execution": {
     "iopub.execute_input": "2025-03-11T15:54:28.376214Z",
     "iopub.status.busy": "2025-03-11T15:54:28.375787Z",
     "iopub.status.idle": "2025-03-11T15:54:28.546779Z",
     "shell.execute_reply": "2025-03-11T15:54:28.545680Z"
    },
    "papermill": {
     "duration": 0.179084,
     "end_time": "2025-03-11T15:54:28.548455",
     "exception": false,
     "start_time": "2025-03-11T15:54:28.369371",
     "status": "completed"
    },
    "tags": []
   },
   "outputs": [
    {
     "data": {
      "text/html": [
       "<style type=\"text/css\">\n",
       "#T_9e003_row0_col0, #T_9e003_row0_col1, #T_9e003_row0_col2, #T_9e003_row0_col3, #T_9e003_row0_col4, #T_9e003_row0_col5, #T_9e003_row0_col6, #T_9e003_row0_col7, #T_9e003_row0_col8, #T_9e003_row0_col9, #T_9e003_row0_col10, #T_9e003_row0_col11, #T_9e003_row0_col12, #T_9e003_row7_col0 {\n",
       "  background-color: #ffff66;\n",
       "  color: #000000;\n",
       "}\n",
       "#T_9e003_row1_col0, #T_9e003_row5_col0 {\n",
       "  background-color: #7fbf66;\n",
       "  color: #000000;\n",
       "}\n",
       "#T_9e003_row1_col1, #T_9e003_row5_col1 {\n",
       "  background-color: #148a66;\n",
       "  color: #f1f1f1;\n",
       "}\n",
       "#T_9e003_row1_col2, #T_9e003_row5_col2, #T_9e003_row6_col2 {\n",
       "  background-color: #76bb66;\n",
       "  color: #f1f1f1;\n",
       "}\n",
       "#T_9e003_row1_col3, #T_9e003_row1_col4, #T_9e003_row1_col5, #T_9e003_row1_col6, #T_9e003_row1_col11, #T_9e003_row5_col3, #T_9e003_row5_col4, #T_9e003_row5_col5, #T_9e003_row5_col6, #T_9e003_row6_col3, #T_9e003_row6_col4, #T_9e003_row6_col5, #T_9e003_row6_col6, #T_9e003_row6_col11 {\n",
       "  background-color: #028066;\n",
       "  color: #f1f1f1;\n",
       "}\n",
       "#T_9e003_row1_col7, #T_9e003_row1_col8, #T_9e003_row2_col10, #T_9e003_row4_col7, #T_9e003_row5_col7 {\n",
       "  background-color: #088466;\n",
       "  color: #f1f1f1;\n",
       "}\n",
       "#T_9e003_row1_col9, #T_9e003_row1_col12, #T_9e003_row2_col2, #T_9e003_row2_col3, #T_9e003_row2_col4, #T_9e003_row2_col5, #T_9e003_row2_col6, #T_9e003_row2_col7, #T_9e003_row2_col9, #T_9e003_row2_col11, #T_9e003_row2_col12, #T_9e003_row3_col0, #T_9e003_row3_col1, #T_9e003_row3_col3, #T_9e003_row3_col4, #T_9e003_row3_col5, #T_9e003_row3_col6, #T_9e003_row3_col8, #T_9e003_row3_col9, #T_9e003_row3_col10, #T_9e003_row3_col11, #T_9e003_row3_col12, #T_9e003_row4_col9, #T_9e003_row4_col12, #T_9e003_row5_col9, #T_9e003_row5_col12, #T_9e003_row6_col9, #T_9e003_row6_col12, #T_9e003_row7_col12 {\n",
       "  background-color: #008066;\n",
       "  color: #f1f1f1;\n",
       "}\n",
       "#T_9e003_row1_col10, #T_9e003_row7_col8 {\n",
       "  background-color: #0b8566;\n",
       "  color: #f1f1f1;\n",
       "}\n",
       "#T_9e003_row2_col0 {\n",
       "  background-color: #49a466;\n",
       "  color: #f1f1f1;\n",
       "}\n",
       "#T_9e003_row2_col1 {\n",
       "  background-color: #0c8666;\n",
       "  color: #f1f1f1;\n",
       "}\n",
       "#T_9e003_row2_col8, #T_9e003_row4_col3, #T_9e003_row4_col4, #T_9e003_row4_col5, #T_9e003_row4_col6, #T_9e003_row4_col11, #T_9e003_row5_col11, #T_9e003_row7_col9 {\n",
       "  background-color: #018066;\n",
       "  color: #f1f1f1;\n",
       "}\n",
       "#T_9e003_row3_col2 {\n",
       "  background-color: #74ba66;\n",
       "  color: #f1f1f1;\n",
       "}\n",
       "#T_9e003_row3_col7, #T_9e003_row4_col10, #T_9e003_row7_col3, #T_9e003_row7_col4, #T_9e003_row7_col5, #T_9e003_row7_col6 {\n",
       "  background-color: #038166;\n",
       "  color: #f1f1f1;\n",
       "}\n",
       "#T_9e003_row4_col0 {\n",
       "  background-color: #3f9f66;\n",
       "  color: #f1f1f1;\n",
       "}\n",
       "#T_9e003_row4_col1, #T_9e003_row6_col8, #T_9e003_row7_col7 {\n",
       "  background-color: #0a8466;\n",
       "  color: #f1f1f1;\n",
       "}\n",
       "#T_9e003_row4_col2 {\n",
       "  background-color: #75ba66;\n",
       "  color: #f1f1f1;\n",
       "}\n",
       "#T_9e003_row4_col8, #T_9e003_row5_col10 {\n",
       "  background-color: #078366;\n",
       "  color: #f1f1f1;\n",
       "}\n",
       "#T_9e003_row5_col8, #T_9e003_row6_col7 {\n",
       "  background-color: #098466;\n",
       "  color: #f1f1f1;\n",
       "}\n",
       "#T_9e003_row6_col0 {\n",
       "  background-color: #bfdf66;\n",
       "  color: #000000;\n",
       "}\n",
       "#T_9e003_row6_col1 {\n",
       "  background-color: #1f8f66;\n",
       "  color: #f1f1f1;\n",
       "}\n",
       "#T_9e003_row6_col10 {\n",
       "  background-color: #168a66;\n",
       "  color: #f1f1f1;\n",
       "}\n",
       "#T_9e003_row7_col1 {\n",
       "  background-color: #2a9466;\n",
       "  color: #f1f1f1;\n",
       "}\n",
       "#T_9e003_row7_col2 {\n",
       "  background-color: #78bc66;\n",
       "  color: #f1f1f1;\n",
       "}\n",
       "#T_9e003_row7_col10 {\n",
       "  background-color: #229066;\n",
       "  color: #f1f1f1;\n",
       "}\n",
       "#T_9e003_row7_col11 {\n",
       "  background-color: #068266;\n",
       "  color: #f1f1f1;\n",
       "}\n",
       "</style>\n",
       "<table id=\"T_9e003\">\n",
       "  <thead>\n",
       "    <tr>\n",
       "      <th class=\"blank level0\" >&nbsp;</th>\n",
       "      <th id=\"T_9e003_level0_col0\" class=\"col_heading level0 col0\" >id</th>\n",
       "      <th id=\"T_9e003_level0_col1\" class=\"col_heading level0 col1\" >day</th>\n",
       "      <th id=\"T_9e003_level0_col2\" class=\"col_heading level0 col2\" >pressure</th>\n",
       "      <th id=\"T_9e003_level0_col3\" class=\"col_heading level0 col3\" >maxtemp</th>\n",
       "      <th id=\"T_9e003_level0_col4\" class=\"col_heading level0 col4\" >temparature</th>\n",
       "      <th id=\"T_9e003_level0_col5\" class=\"col_heading level0 col5\" >mintemp</th>\n",
       "      <th id=\"T_9e003_level0_col6\" class=\"col_heading level0 col6\" >dewpoint</th>\n",
       "      <th id=\"T_9e003_level0_col7\" class=\"col_heading level0 col7\" >humidity</th>\n",
       "      <th id=\"T_9e003_level0_col8\" class=\"col_heading level0 col8\" >cloud</th>\n",
       "      <th id=\"T_9e003_level0_col9\" class=\"col_heading level0 col9\" >sunshine</th>\n",
       "      <th id=\"T_9e003_level0_col10\" class=\"col_heading level0 col10\" >winddirection</th>\n",
       "      <th id=\"T_9e003_level0_col11\" class=\"col_heading level0 col11\" >windspeed</th>\n",
       "      <th id=\"T_9e003_level0_col12\" class=\"col_heading level0 col12\" >rainfall</th>\n",
       "    </tr>\n",
       "  </thead>\n",
       "  <tbody>\n",
       "    <tr>\n",
       "      <th id=\"T_9e003_level0_row0\" class=\"row_heading level0 row0\" >count</th>\n",
       "      <td id=\"T_9e003_row0_col0\" class=\"data row0 col0\" >2190.000000</td>\n",
       "      <td id=\"T_9e003_row0_col1\" class=\"data row0 col1\" >2190.000000</td>\n",
       "      <td id=\"T_9e003_row0_col2\" class=\"data row0 col2\" >2190.000000</td>\n",
       "      <td id=\"T_9e003_row0_col3\" class=\"data row0 col3\" >2190.000000</td>\n",
       "      <td id=\"T_9e003_row0_col4\" class=\"data row0 col4\" >2190.000000</td>\n",
       "      <td id=\"T_9e003_row0_col5\" class=\"data row0 col5\" >2190.000000</td>\n",
       "      <td id=\"T_9e003_row0_col6\" class=\"data row0 col6\" >2190.000000</td>\n",
       "      <td id=\"T_9e003_row0_col7\" class=\"data row0 col7\" >2190.000000</td>\n",
       "      <td id=\"T_9e003_row0_col8\" class=\"data row0 col8\" >2190.000000</td>\n",
       "      <td id=\"T_9e003_row0_col9\" class=\"data row0 col9\" >2190.000000</td>\n",
       "      <td id=\"T_9e003_row0_col10\" class=\"data row0 col10\" >2190.000000</td>\n",
       "      <td id=\"T_9e003_row0_col11\" class=\"data row0 col11\" >2190.000000</td>\n",
       "      <td id=\"T_9e003_row0_col12\" class=\"data row0 col12\" >2190.000000</td>\n",
       "    </tr>\n",
       "    <tr>\n",
       "      <th id=\"T_9e003_level0_row1\" class=\"row_heading level0 row1\" >mean</th>\n",
       "      <td id=\"T_9e003_row1_col0\" class=\"data row1 col0\" >1094.500000</td>\n",
       "      <td id=\"T_9e003_row1_col1\" class=\"data row1 col1\" >179.948402</td>\n",
       "      <td id=\"T_9e003_row1_col2\" class=\"data row1 col2\" >1013.602146</td>\n",
       "      <td id=\"T_9e003_row1_col3\" class=\"data row1 col3\" >26.365799</td>\n",
       "      <td id=\"T_9e003_row1_col4\" class=\"data row1 col4\" >23.953059</td>\n",
       "      <td id=\"T_9e003_row1_col5\" class=\"data row1 col5\" >22.170091</td>\n",
       "      <td id=\"T_9e003_row1_col6\" class=\"data row1 col6\" >20.454566</td>\n",
       "      <td id=\"T_9e003_row1_col7\" class=\"data row1 col7\" >82.036530</td>\n",
       "      <td id=\"T_9e003_row1_col8\" class=\"data row1 col8\" >75.721918</td>\n",
       "      <td id=\"T_9e003_row1_col9\" class=\"data row1 col9\" >3.744429</td>\n",
       "      <td id=\"T_9e003_row1_col10\" class=\"data row1 col10\" >104.863151</td>\n",
       "      <td id=\"T_9e003_row1_col11\" class=\"data row1 col11\" >21.804703</td>\n",
       "      <td id=\"T_9e003_row1_col12\" class=\"data row1 col12\" >0.753425</td>\n",
       "    </tr>\n",
       "    <tr>\n",
       "      <th id=\"T_9e003_level0_row2\" class=\"row_heading level0 row2\" >std</th>\n",
       "      <td id=\"T_9e003_row2_col0\" class=\"data row2 col0\" >632.342866</td>\n",
       "      <td id=\"T_9e003_row2_col1\" class=\"data row2 col1\" >105.203592</td>\n",
       "      <td id=\"T_9e003_row2_col2\" class=\"data row2 col2\" >5.655366</td>\n",
       "      <td id=\"T_9e003_row2_col3\" class=\"data row2 col3\" >5.654330</td>\n",
       "      <td id=\"T_9e003_row2_col4\" class=\"data row2 col4\" >5.222410</td>\n",
       "      <td id=\"T_9e003_row2_col5\" class=\"data row2 col5\" >5.059120</td>\n",
       "      <td id=\"T_9e003_row2_col6\" class=\"data row2 col6\" >5.288406</td>\n",
       "      <td id=\"T_9e003_row2_col7\" class=\"data row2 col7\" >7.800654</td>\n",
       "      <td id=\"T_9e003_row2_col8\" class=\"data row2 col8\" >18.026498</td>\n",
       "      <td id=\"T_9e003_row2_col9\" class=\"data row2 col9\" >3.626327</td>\n",
       "      <td id=\"T_9e003_row2_col10\" class=\"data row2 col10\" >80.002416</td>\n",
       "      <td id=\"T_9e003_row2_col11\" class=\"data row2 col11\" >9.898659</td>\n",
       "      <td id=\"T_9e003_row2_col12\" class=\"data row2 col12\" >0.431116</td>\n",
       "    </tr>\n",
       "    <tr>\n",
       "      <th id=\"T_9e003_level0_row3\" class=\"row_heading level0 row3\" >min</th>\n",
       "      <td id=\"T_9e003_row3_col0\" class=\"data row3 col0\" >0.000000</td>\n",
       "      <td id=\"T_9e003_row3_col1\" class=\"data row3 col1\" >1.000000</td>\n",
       "      <td id=\"T_9e003_row3_col2\" class=\"data row3 col2\" >999.000000</td>\n",
       "      <td id=\"T_9e003_row3_col3\" class=\"data row3 col3\" >10.400000</td>\n",
       "      <td id=\"T_9e003_row3_col4\" class=\"data row3 col4\" >7.400000</td>\n",
       "      <td id=\"T_9e003_row3_col5\" class=\"data row3 col5\" >4.000000</td>\n",
       "      <td id=\"T_9e003_row3_col6\" class=\"data row3 col6\" >-0.300000</td>\n",
       "      <td id=\"T_9e003_row3_col7\" class=\"data row3 col7\" >39.000000</td>\n",
       "      <td id=\"T_9e003_row3_col8\" class=\"data row3 col8\" >2.000000</td>\n",
       "      <td id=\"T_9e003_row3_col9\" class=\"data row3 col9\" >0.000000</td>\n",
       "      <td id=\"T_9e003_row3_col10\" class=\"data row3 col10\" >10.000000</td>\n",
       "      <td id=\"T_9e003_row3_col11\" class=\"data row3 col11\" >4.400000</td>\n",
       "      <td id=\"T_9e003_row3_col12\" class=\"data row3 col12\" >0.000000</td>\n",
       "    </tr>\n",
       "    <tr>\n",
       "      <th id=\"T_9e003_level0_row4\" class=\"row_heading level0 row4\" >25%</th>\n",
       "      <td id=\"T_9e003_row4_col0\" class=\"data row4 col0\" >547.250000</td>\n",
       "      <td id=\"T_9e003_row4_col1\" class=\"data row4 col1\" >89.000000</td>\n",
       "      <td id=\"T_9e003_row4_col2\" class=\"data row4 col2\" >1008.600000</td>\n",
       "      <td id=\"T_9e003_row4_col3\" class=\"data row4 col3\" >21.300000</td>\n",
       "      <td id=\"T_9e003_row4_col4\" class=\"data row4 col4\" >19.300000</td>\n",
       "      <td id=\"T_9e003_row4_col5\" class=\"data row4 col5\" >17.700000</td>\n",
       "      <td id=\"T_9e003_row4_col6\" class=\"data row4 col6\" >16.800000</td>\n",
       "      <td id=\"T_9e003_row4_col7\" class=\"data row4 col7\" >77.000000</td>\n",
       "      <td id=\"T_9e003_row4_col8\" class=\"data row4 col8\" >69.000000</td>\n",
       "      <td id=\"T_9e003_row4_col9\" class=\"data row4 col9\" >0.400000</td>\n",
       "      <td id=\"T_9e003_row4_col10\" class=\"data row4 col10\" >40.000000</td>\n",
       "      <td id=\"T_9e003_row4_col11\" class=\"data row4 col11\" >14.125000</td>\n",
       "      <td id=\"T_9e003_row4_col12\" class=\"data row4 col12\" >1.000000</td>\n",
       "    </tr>\n",
       "    <tr>\n",
       "      <th id=\"T_9e003_level0_row5\" class=\"row_heading level0 row5\" >50%</th>\n",
       "      <td id=\"T_9e003_row5_col0\" class=\"data row5 col0\" >1094.500000</td>\n",
       "      <td id=\"T_9e003_row5_col1\" class=\"data row5 col1\" >178.500000</td>\n",
       "      <td id=\"T_9e003_row5_col2\" class=\"data row5 col2\" >1013.000000</td>\n",
       "      <td id=\"T_9e003_row5_col3\" class=\"data row5 col3\" >27.800000</td>\n",
       "      <td id=\"T_9e003_row5_col4\" class=\"data row5 col4\" >25.500000</td>\n",
       "      <td id=\"T_9e003_row5_col5\" class=\"data row5 col5\" >23.850000</td>\n",
       "      <td id=\"T_9e003_row5_col6\" class=\"data row5 col6\" >22.150000</td>\n",
       "      <td id=\"T_9e003_row5_col7\" class=\"data row5 col7\" >82.000000</td>\n",
       "      <td id=\"T_9e003_row5_col8\" class=\"data row5 col8\" >83.000000</td>\n",
       "      <td id=\"T_9e003_row5_col9\" class=\"data row5 col9\" >2.400000</td>\n",
       "      <td id=\"T_9e003_row5_col10\" class=\"data row5 col10\" >70.000000</td>\n",
       "      <td id=\"T_9e003_row5_col11\" class=\"data row5 col11\" >20.500000</td>\n",
       "      <td id=\"T_9e003_row5_col12\" class=\"data row5 col12\" >1.000000</td>\n",
       "    </tr>\n",
       "    <tr>\n",
       "      <th id=\"T_9e003_level0_row6\" class=\"row_heading level0 row6\" >75%</th>\n",
       "      <td id=\"T_9e003_row6_col0\" class=\"data row6 col0\" >1641.750000</td>\n",
       "      <td id=\"T_9e003_row6_col1\" class=\"data row6 col1\" >270.000000</td>\n",
       "      <td id=\"T_9e003_row6_col2\" class=\"data row6 col2\" >1017.775000</td>\n",
       "      <td id=\"T_9e003_row6_col3\" class=\"data row6 col3\" >31.200000</td>\n",
       "      <td id=\"T_9e003_row6_col4\" class=\"data row6 col4\" >28.400000</td>\n",
       "      <td id=\"T_9e003_row6_col5\" class=\"data row6 col5\" >26.400000</td>\n",
       "      <td id=\"T_9e003_row6_col6\" class=\"data row6 col6\" >25.000000</td>\n",
       "      <td id=\"T_9e003_row6_col7\" class=\"data row6 col7\" >88.000000</td>\n",
       "      <td id=\"T_9e003_row6_col8\" class=\"data row6 col8\" >88.000000</td>\n",
       "      <td id=\"T_9e003_row6_col9\" class=\"data row6 col9\" >6.800000</td>\n",
       "      <td id=\"T_9e003_row6_col10\" class=\"data row6 col10\" >200.000000</td>\n",
       "      <td id=\"T_9e003_row6_col11\" class=\"data row6 col11\" >27.900000</td>\n",
       "      <td id=\"T_9e003_row6_col12\" class=\"data row6 col12\" >1.000000</td>\n",
       "    </tr>\n",
       "    <tr>\n",
       "      <th id=\"T_9e003_level0_row7\" class=\"row_heading level0 row7\" >max</th>\n",
       "      <td id=\"T_9e003_row7_col0\" class=\"data row7 col0\" >2189.000000</td>\n",
       "      <td id=\"T_9e003_row7_col1\" class=\"data row7 col1\" >365.000000</td>\n",
       "      <td id=\"T_9e003_row7_col2\" class=\"data row7 col2\" >1034.600000</td>\n",
       "      <td id=\"T_9e003_row7_col3\" class=\"data row7 col3\" >36.000000</td>\n",
       "      <td id=\"T_9e003_row7_col4\" class=\"data row7 col4\" >31.500000</td>\n",
       "      <td id=\"T_9e003_row7_col5\" class=\"data row7 col5\" >29.800000</td>\n",
       "      <td id=\"T_9e003_row7_col6\" class=\"data row7 col6\" >26.700000</td>\n",
       "      <td id=\"T_9e003_row7_col7\" class=\"data row7 col7\" >98.000000</td>\n",
       "      <td id=\"T_9e003_row7_col8\" class=\"data row7 col8\" >100.000000</td>\n",
       "      <td id=\"T_9e003_row7_col9\" class=\"data row7 col9\" >12.100000</td>\n",
       "      <td id=\"T_9e003_row7_col10\" class=\"data row7 col10\" >300.000000</td>\n",
       "      <td id=\"T_9e003_row7_col11\" class=\"data row7 col11\" >59.500000</td>\n",
       "      <td id=\"T_9e003_row7_col12\" class=\"data row7 col12\" >1.000000</td>\n",
       "    </tr>\n",
       "  </tbody>\n",
       "</table>\n"
      ],
      "text/plain": [
       "<pandas.io.formats.style.Styler at 0x793ff231a740>"
      ]
     },
     "execution_count": 4,
     "metadata": {},
     "output_type": "execute_result"
    }
   ],
   "source": [
    "train.describe().style.background_gradient(cmap='summer')"
   ]
  },
  {
   "cell_type": "code",
   "execution_count": 5,
   "id": "408be0f1",
   "metadata": {
    "execution": {
     "iopub.execute_input": "2025-03-11T15:54:28.562066Z",
     "iopub.status.busy": "2025-03-11T15:54:28.561478Z",
     "iopub.status.idle": "2025-03-11T15:54:28.568332Z",
     "shell.execute_reply": "2025-03-11T15:54:28.567358Z"
    },
    "papermill": {
     "duration": 0.015566,
     "end_time": "2025-03-11T15:54:28.570263",
     "exception": false,
     "start_time": "2025-03-11T15:54:28.554697",
     "status": "completed"
    },
    "tags": []
   },
   "outputs": [
    {
     "data": {
      "text/plain": [
       "365"
      ]
     },
     "execution_count": 5,
     "metadata": {},
     "output_type": "execute_result"
    }
   ],
   "source": [
    "train.day.max()"
   ]
  },
  {
   "cell_type": "code",
   "execution_count": 6,
   "id": "c28ac36a",
   "metadata": {
    "execution": {
     "iopub.execute_input": "2025-03-11T15:54:28.584747Z",
     "iopub.status.busy": "2025-03-11T15:54:28.584364Z",
     "iopub.status.idle": "2025-03-11T15:54:28.608016Z",
     "shell.execute_reply": "2025-03-11T15:54:28.606847Z"
    },
    "papermill": {
     "duration": 0.032894,
     "end_time": "2025-03-11T15:54:28.609784",
     "exception": false,
     "start_time": "2025-03-11T15:54:28.576890",
     "status": "completed"
    },
    "tags": []
   },
   "outputs": [
    {
     "data": {
      "text/html": [
       "<div>\n",
       "<style scoped>\n",
       "    .dataframe tbody tr th:only-of-type {\n",
       "        vertical-align: middle;\n",
       "    }\n",
       "\n",
       "    .dataframe tbody tr th {\n",
       "        vertical-align: top;\n",
       "    }\n",
       "\n",
       "    .dataframe thead th {\n",
       "        text-align: right;\n",
       "    }\n",
       "</style>\n",
       "<table border=\"1\" class=\"dataframe\">\n",
       "  <thead>\n",
       "    <tr style=\"text-align: right;\">\n",
       "      <th></th>\n",
       "      <th>id</th>\n",
       "      <th>day</th>\n",
       "      <th>pressure</th>\n",
       "      <th>maxtemp</th>\n",
       "      <th>temparature</th>\n",
       "      <th>mintemp</th>\n",
       "      <th>dewpoint</th>\n",
       "      <th>humidity</th>\n",
       "      <th>cloud</th>\n",
       "      <th>sunshine</th>\n",
       "      <th>winddirection</th>\n",
       "      <th>windspeed</th>\n",
       "    </tr>\n",
       "  </thead>\n",
       "  <tbody>\n",
       "    <tr>\n",
       "      <th>0</th>\n",
       "      <td>2190</td>\n",
       "      <td>1</td>\n",
       "      <td>1019.5</td>\n",
       "      <td>17.5</td>\n",
       "      <td>15.8</td>\n",
       "      <td>12.7</td>\n",
       "      <td>14.9</td>\n",
       "      <td>96.0</td>\n",
       "      <td>99.0</td>\n",
       "      <td>0.0</td>\n",
       "      <td>50.0</td>\n",
       "      <td>24.3</td>\n",
       "    </tr>\n",
       "    <tr>\n",
       "      <th>1</th>\n",
       "      <td>2191</td>\n",
       "      <td>2</td>\n",
       "      <td>1016.5</td>\n",
       "      <td>17.5</td>\n",
       "      <td>16.5</td>\n",
       "      <td>15.8</td>\n",
       "      <td>15.1</td>\n",
       "      <td>97.0</td>\n",
       "      <td>99.0</td>\n",
       "      <td>0.0</td>\n",
       "      <td>50.0</td>\n",
       "      <td>35.3</td>\n",
       "    </tr>\n",
       "    <tr>\n",
       "      <th>2</th>\n",
       "      <td>2192</td>\n",
       "      <td>3</td>\n",
       "      <td>1023.9</td>\n",
       "      <td>11.2</td>\n",
       "      <td>10.4</td>\n",
       "      <td>9.4</td>\n",
       "      <td>8.9</td>\n",
       "      <td>86.0</td>\n",
       "      <td>96.0</td>\n",
       "      <td>0.0</td>\n",
       "      <td>40.0</td>\n",
       "      <td>16.9</td>\n",
       "    </tr>\n",
       "    <tr>\n",
       "      <th>3</th>\n",
       "      <td>2193</td>\n",
       "      <td>4</td>\n",
       "      <td>1022.9</td>\n",
       "      <td>20.6</td>\n",
       "      <td>17.3</td>\n",
       "      <td>15.2</td>\n",
       "      <td>9.5</td>\n",
       "      <td>75.0</td>\n",
       "      <td>45.0</td>\n",
       "      <td>7.1</td>\n",
       "      <td>20.0</td>\n",
       "      <td>50.6</td>\n",
       "    </tr>\n",
       "    <tr>\n",
       "      <th>4</th>\n",
       "      <td>2194</td>\n",
       "      <td>5</td>\n",
       "      <td>1022.2</td>\n",
       "      <td>16.1</td>\n",
       "      <td>13.8</td>\n",
       "      <td>6.4</td>\n",
       "      <td>4.3</td>\n",
       "      <td>68.0</td>\n",
       "      <td>49.0</td>\n",
       "      <td>9.2</td>\n",
       "      <td>20.0</td>\n",
       "      <td>19.4</td>\n",
       "    </tr>\n",
       "  </tbody>\n",
       "</table>\n",
       "</div>"
      ],
      "text/plain": [
       "     id  day  pressure  maxtemp  temparature  mintemp  dewpoint  humidity  \\\n",
       "0  2190    1    1019.5     17.5         15.8     12.7      14.9      96.0   \n",
       "1  2191    2    1016.5     17.5         16.5     15.8      15.1      97.0   \n",
       "2  2192    3    1023.9     11.2         10.4      9.4       8.9      86.0   \n",
       "3  2193    4    1022.9     20.6         17.3     15.2       9.5      75.0   \n",
       "4  2194    5    1022.2     16.1         13.8      6.4       4.3      68.0   \n",
       "\n",
       "   cloud  sunshine  winddirection  windspeed  \n",
       "0   99.0       0.0           50.0       24.3  \n",
       "1   99.0       0.0           50.0       35.3  \n",
       "2   96.0       0.0           40.0       16.9  \n",
       "3   45.0       7.1           20.0       50.6  \n",
       "4   49.0       9.2           20.0       19.4  "
      ]
     },
     "execution_count": 6,
     "metadata": {},
     "output_type": "execute_result"
    }
   ],
   "source": [
    "test = pd.read_csv(\"/kaggle/input/playground-series-s5e3/test.csv\")#.set_index(\"id\")\n",
    "test.head()"
   ]
  },
  {
   "cell_type": "markdown",
   "id": "a51d9024",
   "metadata": {
    "papermill": {
     "duration": 0.005921,
     "end_time": "2025-03-11T15:54:28.622150",
     "exception": false,
     "start_time": "2025-03-11T15:54:28.616229",
     "status": "completed"
    },
    "tags": []
   },
   "source": [
    "## Quick EDA"
   ]
  },
  {
   "cell_type": "code",
   "execution_count": 7,
   "id": "0f2f0a30",
   "metadata": {
    "execution": {
     "iopub.execute_input": "2025-03-11T15:54:28.636188Z",
     "iopub.status.busy": "2025-03-11T15:54:28.635847Z",
     "iopub.status.idle": "2025-03-11T15:54:30.424107Z",
     "shell.execute_reply": "2025-03-11T15:54:30.422874Z"
    },
    "papermill": {
     "duration": 1.79754,
     "end_time": "2025-03-11T15:54:30.426161",
     "exception": false,
     "start_time": "2025-03-11T15:54:28.628621",
     "status": "completed"
    },
    "tags": []
   },
   "outputs": [],
   "source": [
    "import seaborn as sns"
   ]
  },
  {
   "cell_type": "code",
   "execution_count": 8,
   "id": "c6f9adba",
   "metadata": {
    "execution": {
     "iopub.execute_input": "2025-03-11T15:54:30.441208Z",
     "iopub.status.busy": "2025-03-11T15:54:30.440668Z",
     "iopub.status.idle": "2025-03-11T15:54:30.445516Z",
     "shell.execute_reply": "2025-03-11T15:54:30.444497Z"
    },
    "papermill": {
     "duration": 0.014183,
     "end_time": "2025-03-11T15:54:30.447232",
     "exception": false,
     "start_time": "2025-03-11T15:54:30.433049",
     "status": "completed"
    },
    "tags": []
   },
   "outputs": [],
   "source": [
    "import warnings\n",
    "warnings.filterwarnings(\"ignore\", category=FutureWarning)\n",
    "\n",
    "#sns.pairplot(train, kind=\"kde\")"
   ]
  },
  {
   "cell_type": "markdown",
   "id": "fdb8b269",
   "metadata": {
    "papermill": {
     "duration": 0.005839,
     "end_time": "2025-03-11T15:54:30.459673",
     "exception": false,
     "start_time": "2025-03-11T15:54:30.453834",
     "status": "completed"
    },
    "tags": []
   },
   "source": [
    "## Handling Missing values\n",
    "\n",
    "It seems there is just one missing value, in the test dataset"
   ]
  },
  {
   "cell_type": "code",
   "execution_count": 9,
   "id": "139568a1",
   "metadata": {
    "execution": {
     "iopub.execute_input": "2025-03-11T15:54:30.473314Z",
     "iopub.status.busy": "2025-03-11T15:54:30.472969Z",
     "iopub.status.idle": "2025-03-11T15:54:30.481973Z",
     "shell.execute_reply": "2025-03-11T15:54:30.480881Z"
    },
    "papermill": {
     "duration": 0.018017,
     "end_time": "2025-03-11T15:54:30.483893",
     "exception": false,
     "start_time": "2025-03-11T15:54:30.465876",
     "status": "completed"
    },
    "tags": []
   },
   "outputs": [
    {
     "data": {
      "text/plain": [
       "id               0\n",
       "day              0\n",
       "pressure         0\n",
       "maxtemp          0\n",
       "temparature      0\n",
       "mintemp          0\n",
       "dewpoint         0\n",
       "humidity         0\n",
       "cloud            0\n",
       "sunshine         0\n",
       "winddirection    0\n",
       "windspeed        0\n",
       "rainfall         0\n",
       "dtype: int64"
      ]
     },
     "execution_count": 9,
     "metadata": {},
     "output_type": "execute_result"
    }
   ],
   "source": [
    "train.isnull().sum()\n"
   ]
  },
  {
   "cell_type": "code",
   "execution_count": 10,
   "id": "d680e4ff",
   "metadata": {
    "execution": {
     "iopub.execute_input": "2025-03-11T15:54:30.499022Z",
     "iopub.status.busy": "2025-03-11T15:54:30.498585Z",
     "iopub.status.idle": "2025-03-11T15:54:30.507256Z",
     "shell.execute_reply": "2025-03-11T15:54:30.505915Z"
    },
    "papermill": {
     "duration": 0.018217,
     "end_time": "2025-03-11T15:54:30.509051",
     "exception": false,
     "start_time": "2025-03-11T15:54:30.490834",
     "status": "completed"
    },
    "tags": []
   },
   "outputs": [
    {
     "data": {
      "text/plain": [
       "id               0\n",
       "day              0\n",
       "pressure         0\n",
       "maxtemp          0\n",
       "temparature      0\n",
       "mintemp          0\n",
       "dewpoint         0\n",
       "humidity         0\n",
       "cloud            0\n",
       "sunshine         0\n",
       "winddirection    1\n",
       "windspeed        0\n",
       "dtype: int64"
      ]
     },
     "execution_count": 10,
     "metadata": {},
     "output_type": "execute_result"
    }
   ],
   "source": [
    "test.isnull().sum()"
   ]
  },
  {
   "cell_type": "markdown",
   "id": "5af241b2",
   "metadata": {
    "papermill": {
     "duration": 0.006092,
     "end_time": "2025-03-11T15:54:30.521767",
     "exception": false,
     "start_time": "2025-03-11T15:54:30.515675",
     "status": "completed"
    },
    "tags": []
   },
   "source": []
  },
  {
   "cell_type": "code",
   "execution_count": 11,
   "id": "ee091b7e",
   "metadata": {
    "execution": {
     "iopub.execute_input": "2025-03-11T15:54:30.536044Z",
     "iopub.status.busy": "2025-03-11T15:54:30.535658Z",
     "iopub.status.idle": "2025-03-11T15:54:30.555662Z",
     "shell.execute_reply": "2025-03-11T15:54:30.554332Z"
    },
    "papermill": {
     "duration": 0.030595,
     "end_time": "2025-03-11T15:54:30.558878",
     "exception": false,
     "start_time": "2025-03-11T15:54:30.528283",
     "status": "completed"
    },
    "tags": []
   },
   "outputs": [
    {
     "name": "stderr",
     "output_type": "stream",
     "text": [
      "/usr/local/lib/python3.10/dist-packages/pandas/io/formats/format.py:1458: RuntimeWarning: invalid value encountered in greater\n",
      "  has_large_values = (abs_vals > 1e6).any()\n",
      "/usr/local/lib/python3.10/dist-packages/pandas/io/formats/format.py:1459: RuntimeWarning: invalid value encountered in less\n",
      "  has_small_values = ((abs_vals < 10 ** (-self.digits)) & (abs_vals > 0)).any()\n",
      "/usr/local/lib/python3.10/dist-packages/pandas/io/formats/format.py:1459: RuntimeWarning: invalid value encountered in greater\n",
      "  has_small_values = ((abs_vals < 10 ** (-self.digits)) & (abs_vals > 0)).any()\n"
     ]
    },
    {
     "data": {
      "text/html": [
       "<div>\n",
       "<style scoped>\n",
       "    .dataframe tbody tr th:only-of-type {\n",
       "        vertical-align: middle;\n",
       "    }\n",
       "\n",
       "    .dataframe tbody tr th {\n",
       "        vertical-align: top;\n",
       "    }\n",
       "\n",
       "    .dataframe thead th {\n",
       "        text-align: right;\n",
       "    }\n",
       "</style>\n",
       "<table border=\"1\" class=\"dataframe\">\n",
       "  <thead>\n",
       "    <tr style=\"text-align: right;\">\n",
       "      <th></th>\n",
       "      <th>id</th>\n",
       "      <th>day</th>\n",
       "      <th>pressure</th>\n",
       "      <th>maxtemp</th>\n",
       "      <th>temparature</th>\n",
       "      <th>mintemp</th>\n",
       "      <th>dewpoint</th>\n",
       "      <th>humidity</th>\n",
       "      <th>cloud</th>\n",
       "      <th>sunshine</th>\n",
       "      <th>winddirection</th>\n",
       "      <th>windspeed</th>\n",
       "    </tr>\n",
       "  </thead>\n",
       "  <tbody>\n",
       "    <tr>\n",
       "      <th>517</th>\n",
       "      <td>2707</td>\n",
       "      <td>153</td>\n",
       "      <td>1007.8</td>\n",
       "      <td>32.9</td>\n",
       "      <td>30.6</td>\n",
       "      <td>28.9</td>\n",
       "      <td>22.0</td>\n",
       "      <td>65.0</td>\n",
       "      <td>75.0</td>\n",
       "      <td>8.2</td>\n",
       "      <td>NaN</td>\n",
       "      <td>17.2</td>\n",
       "    </tr>\n",
       "  </tbody>\n",
       "</table>\n",
       "</div>"
      ],
      "text/plain": [
       "       id  day  pressure  maxtemp  temparature  mintemp  dewpoint  humidity  \\\n",
       "517  2707  153    1007.8     32.9         30.6     28.9      22.0      65.0   \n",
       "\n",
       "     cloud  sunshine  winddirection  windspeed  \n",
       "517   75.0       8.2            NaN       17.2  "
      ]
     },
     "execution_count": 11,
     "metadata": {},
     "output_type": "execute_result"
    }
   ],
   "source": [
    "\n",
    "test[test.isnull().any(axis=1)]\n"
   ]
  },
  {
   "cell_type": "markdown",
   "id": "59347056",
   "metadata": {
    "papermill": {
     "duration": 0.007212,
     "end_time": "2025-03-11T15:54:30.576259",
     "exception": false,
     "start_time": "2025-03-11T15:54:30.569047",
     "status": "completed"
    },
    "tags": []
   },
   "source": [
    "## Feature Engineering"
   ]
  },
  {
   "cell_type": "markdown",
   "id": "540d5df5",
   "metadata": {
    "papermill": {
     "duration": 0.006198,
     "end_time": "2025-03-11T15:54:30.589808",
     "exception": false,
     "start_time": "2025-03-11T15:54:30.583610",
     "status": "completed"
    },
    "tags": []
   },
   "source": [
    "### Adding season (spring, summer, fall, winter) and cyclical features\n",
    "\n",
    "The day variables goes from 1 to 365, so we only have data from one year.\n",
    "\n",
    "To tell our model that day 1 is close to day 365 (as they are both in winter) we add a cyclical feature"
   ]
  },
  {
   "cell_type": "code",
   "execution_count": 12,
   "id": "2068edd7",
   "metadata": {
    "execution": {
     "iopub.execute_input": "2025-03-11T15:54:30.603924Z",
     "iopub.status.busy": "2025-03-11T15:54:30.603501Z",
     "iopub.status.idle": "2025-03-11T15:54:30.750036Z",
     "shell.execute_reply": "2025-03-11T15:54:30.748898Z"
    },
    "papermill": {
     "duration": 0.156307,
     "end_time": "2025-03-11T15:54:30.752393",
     "exception": false,
     "start_time": "2025-03-11T15:54:30.596086",
     "status": "completed"
    },
    "tags": []
   },
   "outputs": [],
   "source": [
    "from sklearn.base import BaseEstimator, TransformerMixin\n",
    "\n",
    "class SeasonMonthTransformer(BaseEstimator, TransformerMixin):\n",
    "    def __init__(self):\n",
    "        pass\n",
    "    \n",
    "    def fit(self, X, y=None):\n",
    "        # Nothing to fit for this transformer\n",
    "        return self\n",
    "    \n",
    "    def transform(self, X):\n",
    "        # Make a copy to avoid modifying the original\n",
    "        X_trans = X.copy()\n",
    "        \n",
    "        # Convert day -> month\n",
    "        def day_to_month(day):\n",
    "            if day <= 31: return 1\n",
    "            elif day <= 59: return 2\n",
    "            elif day <= 90: return 3\n",
    "            elif day <= 120: return 4\n",
    "            elif day <= 151: return 5\n",
    "            elif day <= 181: return 6\n",
    "            elif day <= 212: return 7\n",
    "            elif day <= 243: return 8\n",
    "            elif day <= 273: return 9\n",
    "            elif day <= 304: return 10\n",
    "            elif day <= 334: return 11\n",
    "            else: return 12\n",
    "        \n",
    "        X_trans['month'] = X_trans['day'].apply(day_to_month)\n",
    "        \n",
    "        # Convert day -> season\n",
    "        def day_to_season(day):\n",
    "            if 80 <= day < 172:\n",
    "                return 'spring'\n",
    "            elif 172 <= day < 264:\n",
    "                return 'summer'\n",
    "            elif 264 <= day < 356:\n",
    "                return 'autumn'\n",
    "            else:\n",
    "                return 'winter'\n",
    "        \n",
    "        X_trans['season'] = X_trans['day'].apply(day_to_season)\n",
    "\n",
    "        \n",
    "        X_trans['day_sin'] = np.sin(2 * np.pi * X_trans['day'] / 365)\n",
    "        X_trans['day_cos'] = np.cos(2 * np.pi * X_trans['day'] / 365)\n",
    "        \n",
    "        # One-hot encode season\n",
    "        X_trans = pd.get_dummies(X_trans, columns=['season'], drop_first=True)\n",
    "        \n",
    "        return X_trans\n",
    "\n"
   ]
  },
  {
   "cell_type": "markdown",
   "id": "3c63743e",
   "metadata": {
    "papermill": {
     "duration": 0.006533,
     "end_time": "2025-03-11T15:54:30.766308",
     "exception": false,
     "start_time": "2025-03-11T15:54:30.759775",
     "status": "completed"
    },
    "tags": []
   },
   "source": [
    "## Prediction using Logistic Regression"
   ]
  },
  {
   "cell_type": "code",
   "execution_count": 13,
   "id": "5ef6c5ec",
   "metadata": {
    "execution": {
     "iopub.execute_input": "2025-03-11T15:54:30.780946Z",
     "iopub.status.busy": "2025-03-11T15:54:30.780478Z",
     "iopub.status.idle": "2025-03-11T15:54:31.541374Z",
     "shell.execute_reply": "2025-03-11T15:54:31.539871Z"
    },
    "papermill": {
     "duration": 0.770791,
     "end_time": "2025-03-11T15:54:31.543705",
     "exception": false,
     "start_time": "2025-03-11T15:54:30.772914",
     "status": "completed"
    },
    "tags": []
   },
   "outputs": [
    {
     "name": "stdout",
     "output_type": "stream",
     "text": [
      "Training AUC: 0.8984219977553309\n"
     ]
    }
   ],
   "source": [
    "from sklearn.model_selection import cross_val_score\n",
    "from sklearn.linear_model import LogisticRegression\n",
    "from sklearn.metrics import roc_auc_score\n",
    "from sklearn.pipeline import Pipeline\n",
    "from sklearn.impute import SimpleImputer\n",
    "\n",
    "# Define feature columns\n",
    "features = ['day', 'pressure', 'maxtemp', 'temparature', 'mintemp', \n",
    "            'dewpoint', 'humidity', 'cloud', 'sunshine', 'winddirection', 'windspeed']\n",
    "\n",
    "X = train[features]\n",
    "y = train['rainfall']\n",
    "\n",
    "pipeline = Pipeline(steps=[\n",
    "    ('feature_eng', SeasonMonthTransformer()),\n",
    "    ('imputer', SimpleImputer(strategy='mean')),\n",
    "    ('clf', LogisticRegression(\n",
    "        penalty='l1',         # L1 (Lasso) regularization\n",
    "        C=1.0,                # adjust for stronger/weaker regularization\n",
    "        max_iter=1000,\n",
    "        solver='liblinear'    # supports L1 penalty\n",
    "    ))\n",
    "])\n",
    "\n",
    "pipeline.fit(X, y)\n",
    "\n",
    "# Predict probabilities on the training set\n",
    "train_preds = pipeline.predict_proba(X)[:, 1]\n",
    "print(\"Training AUC:\", roc_auc_score(y, train_preds))\n"
   ]
  },
  {
   "cell_type": "code",
   "execution_count": 14,
   "id": "274c38ef",
   "metadata": {
    "execution": {
     "iopub.execute_input": "2025-03-11T15:54:31.560351Z",
     "iopub.status.busy": "2025-03-11T15:54:31.559971Z",
     "iopub.status.idle": "2025-03-11T15:54:31.566897Z",
     "shell.execute_reply": "2025-03-11T15:54:31.565731Z"
    },
    "papermill": {
     "duration": 0.016487,
     "end_time": "2025-03-11T15:54:31.568649",
     "exception": false,
     "start_time": "2025-03-11T15:54:31.552162",
     "status": "completed"
    },
    "tags": []
   },
   "outputs": [
    {
     "data": {
      "text/plain": [
       "array([0.94808343, 0.96710418, 0.08128728, ..., 0.71856503, 0.96109164,\n",
       "       0.96220869])"
      ]
     },
     "execution_count": 14,
     "metadata": {},
     "output_type": "execute_result"
    }
   ],
   "source": [
    "train_preds"
   ]
  },
  {
   "cell_type": "markdown",
   "id": "5d62273f",
   "metadata": {
    "papermill": {
     "duration": 0.006426,
     "end_time": "2025-03-11T15:54:31.582100",
     "exception": false,
     "start_time": "2025-03-11T15:54:31.575674",
     "status": "completed"
    },
    "tags": []
   },
   "source": [
    "## Creating Submission file"
   ]
  },
  {
   "cell_type": "code",
   "execution_count": 15,
   "id": "88b0cdad",
   "metadata": {
    "execution": {
     "iopub.execute_input": "2025-03-11T15:54:31.596929Z",
     "iopub.status.busy": "2025-03-11T15:54:31.596485Z",
     "iopub.status.idle": "2025-03-11T15:54:31.619872Z",
     "shell.execute_reply": "2025-03-11T15:54:31.618460Z"
    },
    "papermill": {
     "duration": 0.033135,
     "end_time": "2025-03-11T15:54:31.622030",
     "exception": false,
     "start_time": "2025-03-11T15:54:31.588895",
     "status": "completed"
    },
    "tags": []
   },
   "outputs": [
    {
     "data": {
      "text/html": [
       "<div>\n",
       "<style scoped>\n",
       "    .dataframe tbody tr th:only-of-type {\n",
       "        vertical-align: middle;\n",
       "    }\n",
       "\n",
       "    .dataframe tbody tr th {\n",
       "        vertical-align: top;\n",
       "    }\n",
       "\n",
       "    .dataframe thead th {\n",
       "        text-align: right;\n",
       "    }\n",
       "</style>\n",
       "<table border=\"1\" class=\"dataframe\">\n",
       "  <thead>\n",
       "    <tr style=\"text-align: right;\">\n",
       "      <th></th>\n",
       "      <th>day</th>\n",
       "      <th>pressure</th>\n",
       "      <th>maxtemp</th>\n",
       "      <th>temparature</th>\n",
       "      <th>mintemp</th>\n",
       "      <th>dewpoint</th>\n",
       "      <th>humidity</th>\n",
       "      <th>cloud</th>\n",
       "      <th>sunshine</th>\n",
       "      <th>winddirection</th>\n",
       "      <th>windspeed</th>\n",
       "    </tr>\n",
       "  </thead>\n",
       "  <tbody>\n",
       "    <tr>\n",
       "      <th>0</th>\n",
       "      <td>1</td>\n",
       "      <td>1019.5</td>\n",
       "      <td>17.5</td>\n",
       "      <td>15.8</td>\n",
       "      <td>12.7</td>\n",
       "      <td>14.9</td>\n",
       "      <td>96.0</td>\n",
       "      <td>99.0</td>\n",
       "      <td>0.0</td>\n",
       "      <td>50.0</td>\n",
       "      <td>24.3</td>\n",
       "    </tr>\n",
       "    <tr>\n",
       "      <th>1</th>\n",
       "      <td>2</td>\n",
       "      <td>1016.5</td>\n",
       "      <td>17.5</td>\n",
       "      <td>16.5</td>\n",
       "      <td>15.8</td>\n",
       "      <td>15.1</td>\n",
       "      <td>97.0</td>\n",
       "      <td>99.0</td>\n",
       "      <td>0.0</td>\n",
       "      <td>50.0</td>\n",
       "      <td>35.3</td>\n",
       "    </tr>\n",
       "    <tr>\n",
       "      <th>2</th>\n",
       "      <td>3</td>\n",
       "      <td>1023.9</td>\n",
       "      <td>11.2</td>\n",
       "      <td>10.4</td>\n",
       "      <td>9.4</td>\n",
       "      <td>8.9</td>\n",
       "      <td>86.0</td>\n",
       "      <td>96.0</td>\n",
       "      <td>0.0</td>\n",
       "      <td>40.0</td>\n",
       "      <td>16.9</td>\n",
       "    </tr>\n",
       "    <tr>\n",
       "      <th>3</th>\n",
       "      <td>4</td>\n",
       "      <td>1022.9</td>\n",
       "      <td>20.6</td>\n",
       "      <td>17.3</td>\n",
       "      <td>15.2</td>\n",
       "      <td>9.5</td>\n",
       "      <td>75.0</td>\n",
       "      <td>45.0</td>\n",
       "      <td>7.1</td>\n",
       "      <td>20.0</td>\n",
       "      <td>50.6</td>\n",
       "    </tr>\n",
       "    <tr>\n",
       "      <th>4</th>\n",
       "      <td>5</td>\n",
       "      <td>1022.2</td>\n",
       "      <td>16.1</td>\n",
       "      <td>13.8</td>\n",
       "      <td>6.4</td>\n",
       "      <td>4.3</td>\n",
       "      <td>68.0</td>\n",
       "      <td>49.0</td>\n",
       "      <td>9.2</td>\n",
       "      <td>20.0</td>\n",
       "      <td>19.4</td>\n",
       "    </tr>\n",
       "    <tr>\n",
       "      <th>...</th>\n",
       "      <td>...</td>\n",
       "      <td>...</td>\n",
       "      <td>...</td>\n",
       "      <td>...</td>\n",
       "      <td>...</td>\n",
       "      <td>...</td>\n",
       "      <td>...</td>\n",
       "      <td>...</td>\n",
       "      <td>...</td>\n",
       "      <td>...</td>\n",
       "      <td>...</td>\n",
       "    </tr>\n",
       "    <tr>\n",
       "      <th>725</th>\n",
       "      <td>361</td>\n",
       "      <td>1020.8</td>\n",
       "      <td>18.2</td>\n",
       "      <td>17.6</td>\n",
       "      <td>16.1</td>\n",
       "      <td>13.7</td>\n",
       "      <td>96.0</td>\n",
       "      <td>95.0</td>\n",
       "      <td>0.0</td>\n",
       "      <td>20.0</td>\n",
       "      <td>34.3</td>\n",
       "    </tr>\n",
       "    <tr>\n",
       "      <th>726</th>\n",
       "      <td>362</td>\n",
       "      <td>1011.7</td>\n",
       "      <td>23.2</td>\n",
       "      <td>18.1</td>\n",
       "      <td>16.0</td>\n",
       "      <td>16.0</td>\n",
       "      <td>78.0</td>\n",
       "      <td>80.0</td>\n",
       "      <td>1.6</td>\n",
       "      <td>40.0</td>\n",
       "      <td>25.2</td>\n",
       "    </tr>\n",
       "    <tr>\n",
       "      <th>727</th>\n",
       "      <td>363</td>\n",
       "      <td>1022.7</td>\n",
       "      <td>21.0</td>\n",
       "      <td>18.5</td>\n",
       "      <td>17.0</td>\n",
       "      <td>15.5</td>\n",
       "      <td>92.0</td>\n",
       "      <td>96.0</td>\n",
       "      <td>0.0</td>\n",
       "      <td>50.0</td>\n",
       "      <td>21.9</td>\n",
       "    </tr>\n",
       "    <tr>\n",
       "      <th>728</th>\n",
       "      <td>364</td>\n",
       "      <td>1014.4</td>\n",
       "      <td>21.0</td>\n",
       "      <td>20.0</td>\n",
       "      <td>19.7</td>\n",
       "      <td>19.8</td>\n",
       "      <td>94.0</td>\n",
       "      <td>93.0</td>\n",
       "      <td>0.0</td>\n",
       "      <td>50.0</td>\n",
       "      <td>39.5</td>\n",
       "    </tr>\n",
       "    <tr>\n",
       "      <th>729</th>\n",
       "      <td>365</td>\n",
       "      <td>1020.9</td>\n",
       "      <td>22.2</td>\n",
       "      <td>18.8</td>\n",
       "      <td>17.0</td>\n",
       "      <td>13.3</td>\n",
       "      <td>79.0</td>\n",
       "      <td>89.0</td>\n",
       "      <td>0.2</td>\n",
       "      <td>60.0</td>\n",
       "      <td>50.6</td>\n",
       "    </tr>\n",
       "  </tbody>\n",
       "</table>\n",
       "<p>730 rows × 11 columns</p>\n",
       "</div>"
      ],
      "text/plain": [
       "     day  pressure  maxtemp  temparature  mintemp  dewpoint  humidity  cloud  \\\n",
       "0      1    1019.5     17.5         15.8     12.7      14.9      96.0   99.0   \n",
       "1      2    1016.5     17.5         16.5     15.8      15.1      97.0   99.0   \n",
       "2      3    1023.9     11.2         10.4      9.4       8.9      86.0   96.0   \n",
       "3      4    1022.9     20.6         17.3     15.2       9.5      75.0   45.0   \n",
       "4      5    1022.2     16.1         13.8      6.4       4.3      68.0   49.0   \n",
       "..   ...       ...      ...          ...      ...       ...       ...    ...   \n",
       "725  361    1020.8     18.2         17.6     16.1      13.7      96.0   95.0   \n",
       "726  362    1011.7     23.2         18.1     16.0      16.0      78.0   80.0   \n",
       "727  363    1022.7     21.0         18.5     17.0      15.5      92.0   96.0   \n",
       "728  364    1014.4     21.0         20.0     19.7      19.8      94.0   93.0   \n",
       "729  365    1020.9     22.2         18.8     17.0      13.3      79.0   89.0   \n",
       "\n",
       "     sunshine  winddirection  windspeed  \n",
       "0         0.0           50.0       24.3  \n",
       "1         0.0           50.0       35.3  \n",
       "2         0.0           40.0       16.9  \n",
       "3         7.1           20.0       50.6  \n",
       "4         9.2           20.0       19.4  \n",
       "..        ...            ...        ...  \n",
       "725       0.0           20.0       34.3  \n",
       "726       1.6           40.0       25.2  \n",
       "727       0.0           50.0       21.9  \n",
       "728       0.0           50.0       39.5  \n",
       "729       0.2           60.0       50.6  \n",
       "\n",
       "[730 rows x 11 columns]"
      ]
     },
     "execution_count": 15,
     "metadata": {},
     "output_type": "execute_result"
    }
   ],
   "source": [
    "X_test = test[features]\n",
    "X_test"
   ]
  },
  {
   "cell_type": "code",
   "execution_count": 16,
   "id": "54c04392",
   "metadata": {
    "execution": {
     "iopub.execute_input": "2025-03-11T15:54:31.637484Z",
     "iopub.status.busy": "2025-03-11T15:54:31.637058Z",
     "iopub.status.idle": "2025-03-11T15:54:31.661871Z",
     "shell.execute_reply": "2025-03-11T15:54:31.660649Z"
    },
    "papermill": {
     "duration": 0.034459,
     "end_time": "2025-03-11T15:54:31.663708",
     "exception": false,
     "start_time": "2025-03-11T15:54:31.629249",
     "status": "completed"
    },
    "tags": []
   },
   "outputs": [],
   "source": [
    "# Predict probabilities on the test set\n",
    "test_preds = pipeline.predict_proba(X_test)[:, 1]\n",
    "\n",
    "# Create the submission DataFrame\n",
    "submission = pd.DataFrame({\n",
    "    'id': test['id'],\n",
    "    'rainfall': test_preds\n",
    "})\n",
    "\n",
    "# Save the submission file\n",
    "submission.to_csv('submission.csv', index=False)\n"
   ]
  }
 ],
 "metadata": {
  "kaggle": {
   "accelerator": "none",
   "dataSources": [
    {
     "databundleVersionId": 11251744,
     "sourceId": 91714,
     "sourceType": "competition"
    }
   ],
   "dockerImageVersionId": 30918,
   "isGpuEnabled": false,
   "isInternetEnabled": true,
   "language": "python",
   "sourceType": "notebook"
  },
  "kernelspec": {
   "display_name": "Python 3",
   "language": "python",
   "name": "python3"
  },
  "language_info": {
   "codemirror_mode": {
    "name": "ipython",
    "version": 3
   },
   "file_extension": ".py",
   "mimetype": "text/x-python",
   "name": "python",
   "nbconvert_exporter": "python",
   "pygments_lexer": "ipython3",
   "version": "3.10.12"
  },
  "papermill": {
   "default_parameters": {},
   "duration": 8.861648,
   "end_time": "2025-03-11T15:54:32.693473",
   "environment_variables": {},
   "exception": null,
   "input_path": "__notebook__.ipynb",
   "output_path": "__notebook__.ipynb",
   "parameters": {},
   "start_time": "2025-03-11T15:54:23.831825",
   "version": "2.6.0"
  }
 },
 "nbformat": 4,
 "nbformat_minor": 5
}
