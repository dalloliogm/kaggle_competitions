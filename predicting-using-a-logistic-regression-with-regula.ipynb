{
 "cells": [
  {
   "cell_type": "markdown",
   "id": "11a0ad16",
   "metadata": {
    "papermill": {
     "duration": 0.008296,
     "end_time": "2025-03-12T15:05:13.915832",
     "exception": false,
     "start_time": "2025-03-12T15:05:13.907536",
     "status": "completed"
    },
    "tags": []
   },
   "source": [
    "# Rain prediction using Logistic Regression\n",
    "\n",
    "This notebook predicts rainfall using a simple Logistic Regression model."
   ]
  },
  {
   "cell_type": "markdown",
   "id": "3286e644",
   "metadata": {
    "papermill": {
     "duration": 0.007293,
     "end_time": "2025-03-12T15:05:13.931372",
     "exception": false,
     "start_time": "2025-03-12T15:05:13.924079",
     "status": "completed"
    },
    "tags": []
   },
   "source": [
    "## Importing libraries and reading files"
   ]
  },
  {
   "cell_type": "code",
   "execution_count": 1,
   "id": "b9510949",
   "metadata": {
    "_cell_guid": "b1076dfc-b9ad-4769-8c92-a6c4dae69d19",
    "_uuid": "8f2839f25d086af736a60e9eeb907d3b93b6e0e5",
    "execution": {
     "iopub.execute_input": "2025-03-12T15:05:13.948188Z",
     "iopub.status.busy": "2025-03-12T15:05:13.947820Z",
     "iopub.status.idle": "2025-03-12T15:05:14.977564Z",
     "shell.execute_reply": "2025-03-12T15:05:14.976265Z"
    },
    "papermill": {
     "duration": 1.040151,
     "end_time": "2025-03-12T15:05:14.979334",
     "exception": false,
     "start_time": "2025-03-12T15:05:13.939183",
     "status": "completed"
    },
    "tags": []
   },
   "outputs": [
    {
     "name": "stdout",
     "output_type": "stream",
     "text": [
      "/kaggle/input/playground-series-s5e3/sample_submission.csv\n",
      "/kaggle/input/playground-series-s5e3/train.csv\n",
      "/kaggle/input/playground-series-s5e3/test.csv\n"
     ]
    }
   ],
   "source": [
    "import numpy as np # linear algebra\n",
    "import pandas as pd # data processing, CSV file I/O (e.g. pd.read_csv)\n",
    "\n",
    "import os\n",
    "for dirname, _, filenames in os.walk('/kaggle/input'):\n",
    "    for filename in filenames:\n",
    "        print(os.path.join(dirname, filename))\n"
   ]
  },
  {
   "cell_type": "code",
   "execution_count": 2,
   "id": "362a6036",
   "metadata": {
    "execution": {
     "iopub.execute_input": "2025-03-12T15:05:14.998757Z",
     "iopub.status.busy": "2025-03-12T15:05:14.998202Z",
     "iopub.status.idle": "2025-03-12T15:05:15.366623Z",
     "shell.execute_reply": "2025-03-12T15:05:15.365287Z"
    },
    "papermill": {
     "duration": 0.380711,
     "end_time": "2025-03-12T15:05:15.368752",
     "exception": false,
     "start_time": "2025-03-12T15:05:14.988041",
     "status": "completed"
    },
    "tags": []
   },
   "outputs": [
    {
     "name": "stdout",
     "output_type": "stream",
     "text": [
      "id,rainfall\r\n",
      "2190,0\r\n",
      "2191,0\r\n",
      "2192,0\r\n",
      "2193,0\r\n",
      "2194,0\r\n",
      "2195,0\r\n",
      "2196,0\r\n",
      "2197,0\r\n",
      "2198,0\r\n",
      "id,day,pressure,maxtemp,temparature,mintemp,dewpoint,humidity,cloud,sunshine,winddirection,windspeed,rainfall\r\n",
      "0,1,1017.4,21.2,20.6,19.9,19.4,87.0,88.0,1.1,60.0,17.2,1\r\n",
      "1,2,1019.5,16.2,16.9,15.8,15.4,95.0,91.0,0.0,50.0,21.9,1\r\n",
      "2,3,1024.1,19.4,16.1,14.6,9.3,75.0,47.0,8.3,70.0,18.1,1\r\n",
      "3,4,1013.4,18.1,17.8,16.9,16.8,95.0,95.0,0.0,60.0,35.6,1\r\n",
      "4,5,1021.8,21.3,18.4,15.2,9.6,52.0,45.0,3.6,40.0,24.8,0\r\n",
      "5,6,1022.7,20.6,18.6,16.5,12.5,79.0,81.0,0.0,20.0,15.7,1\r\n",
      "6,7,1022.8,19.5,18.4,15.3,11.3,56.0,46.0,7.6,20.0,28.4,0\r\n",
      "7,8,1019.7,15.8,13.6,12.7,11.8,96.0,100.0,0.0,50.0,52.8,1\r\n",
      "8,9,1017.4,17.6,16.5,15.6,12.5,86.0,100.0,0.0,50.0,37.5,1\r\n",
      "id,day,pressure,maxtemp,temparature,mintemp,dewpoint,humidity,cloud,sunshine,winddirection,windspeed\r\n",
      "2190,1,1019.5,17.5,15.8,12.7,14.9,96.0,99.0,0.0,50.0,24.3\r\n",
      "2191,2,1016.5,17.5,16.5,15.8,15.1,97.0,99.0,0.0,50.0,35.3\r\n",
      "2192,3,1023.9,11.2,10.4,9.4,8.9,86.0,96.0,0.0,40.0,16.9\r\n",
      "2193,4,1022.9,20.6,17.3,15.2,9.5,75.0,45.0,7.1,20.0,50.6\r\n",
      "2194,5,1022.2,16.1,13.8,6.4,4.3,68.0,49.0,9.2,20.0,19.4\r\n",
      "2195,6,1027.1,15.6,12.6,11.5,9.0,76.0,94.0,0.0,20.0,41.4\r\n",
      "2196,7,1022.6,15.5,13.7,10.7,11.8,79.0,95.0,0.0,20.0,43.1\r\n",
      "2197,8,1013.5,20.5,16.2,15.2,13.1,94.0,93.0,0.2,70.0,41.3\r\n",
      "2198,9,1021.3,16.3,13.2,11.3,10.8,85.0,99.0,0.1,20.0,34.0\r\n"
     ]
    }
   ],
   "source": [
    "!head /kaggle/input/playground-series-s5e3/sample_submission.csv\n",
    "!head /kaggle/input/playground-series-s5e3/train.csv\n",
    "!head /kaggle/input/playground-series-s5e3/test.csv"
   ]
  },
  {
   "cell_type": "code",
   "execution_count": 3,
   "id": "dc17dedc",
   "metadata": {
    "execution": {
     "iopub.execute_input": "2025-03-12T15:05:15.387074Z",
     "iopub.status.busy": "2025-03-12T15:05:15.386718Z",
     "iopub.status.idle": "2025-03-12T15:05:15.443947Z",
     "shell.execute_reply": "2025-03-12T15:05:15.442728Z"
    },
    "papermill": {
     "duration": 0.068123,
     "end_time": "2025-03-12T15:05:15.445783",
     "exception": false,
     "start_time": "2025-03-12T15:05:15.377660",
     "status": "completed"
    },
    "tags": []
   },
   "outputs": [
    {
     "data": {
      "text/html": [
       "<div>\n",
       "<style scoped>\n",
       "    .dataframe tbody tr th:only-of-type {\n",
       "        vertical-align: middle;\n",
       "    }\n",
       "\n",
       "    .dataframe tbody tr th {\n",
       "        vertical-align: top;\n",
       "    }\n",
       "\n",
       "    .dataframe thead th {\n",
       "        text-align: right;\n",
       "    }\n",
       "</style>\n",
       "<table border=\"1\" class=\"dataframe\">\n",
       "  <thead>\n",
       "    <tr style=\"text-align: right;\">\n",
       "      <th></th>\n",
       "      <th>id</th>\n",
       "      <th>day</th>\n",
       "      <th>pressure</th>\n",
       "      <th>maxtemp</th>\n",
       "      <th>temparature</th>\n",
       "      <th>mintemp</th>\n",
       "      <th>dewpoint</th>\n",
       "      <th>humidity</th>\n",
       "      <th>cloud</th>\n",
       "      <th>sunshine</th>\n",
       "      <th>winddirection</th>\n",
       "      <th>windspeed</th>\n",
       "      <th>rainfall</th>\n",
       "    </tr>\n",
       "  </thead>\n",
       "  <tbody>\n",
       "    <tr>\n",
       "      <th>0</th>\n",
       "      <td>0</td>\n",
       "      <td>1</td>\n",
       "      <td>1017.4</td>\n",
       "      <td>21.2</td>\n",
       "      <td>20.6</td>\n",
       "      <td>19.9</td>\n",
       "      <td>19.4</td>\n",
       "      <td>87.0</td>\n",
       "      <td>88.0</td>\n",
       "      <td>1.1</td>\n",
       "      <td>60.0</td>\n",
       "      <td>17.2</td>\n",
       "      <td>1</td>\n",
       "    </tr>\n",
       "    <tr>\n",
       "      <th>1</th>\n",
       "      <td>1</td>\n",
       "      <td>2</td>\n",
       "      <td>1019.5</td>\n",
       "      <td>16.2</td>\n",
       "      <td>16.9</td>\n",
       "      <td>15.8</td>\n",
       "      <td>15.4</td>\n",
       "      <td>95.0</td>\n",
       "      <td>91.0</td>\n",
       "      <td>0.0</td>\n",
       "      <td>50.0</td>\n",
       "      <td>21.9</td>\n",
       "      <td>1</td>\n",
       "    </tr>\n",
       "    <tr>\n",
       "      <th>2</th>\n",
       "      <td>2</td>\n",
       "      <td>3</td>\n",
       "      <td>1024.1</td>\n",
       "      <td>19.4</td>\n",
       "      <td>16.1</td>\n",
       "      <td>14.6</td>\n",
       "      <td>9.3</td>\n",
       "      <td>75.0</td>\n",
       "      <td>47.0</td>\n",
       "      <td>8.3</td>\n",
       "      <td>70.0</td>\n",
       "      <td>18.1</td>\n",
       "      <td>1</td>\n",
       "    </tr>\n",
       "    <tr>\n",
       "      <th>3</th>\n",
       "      <td>3</td>\n",
       "      <td>4</td>\n",
       "      <td>1013.4</td>\n",
       "      <td>18.1</td>\n",
       "      <td>17.8</td>\n",
       "      <td>16.9</td>\n",
       "      <td>16.8</td>\n",
       "      <td>95.0</td>\n",
       "      <td>95.0</td>\n",
       "      <td>0.0</td>\n",
       "      <td>60.0</td>\n",
       "      <td>35.6</td>\n",
       "      <td>1</td>\n",
       "    </tr>\n",
       "    <tr>\n",
       "      <th>4</th>\n",
       "      <td>4</td>\n",
       "      <td>5</td>\n",
       "      <td>1021.8</td>\n",
       "      <td>21.3</td>\n",
       "      <td>18.4</td>\n",
       "      <td>15.2</td>\n",
       "      <td>9.6</td>\n",
       "      <td>52.0</td>\n",
       "      <td>45.0</td>\n",
       "      <td>3.6</td>\n",
       "      <td>40.0</td>\n",
       "      <td>24.8</td>\n",
       "      <td>0</td>\n",
       "    </tr>\n",
       "  </tbody>\n",
       "</table>\n",
       "</div>"
      ],
      "text/plain": [
       "   id  day  pressure  maxtemp  temparature  mintemp  dewpoint  humidity  \\\n",
       "0   0    1    1017.4     21.2         20.6     19.9      19.4      87.0   \n",
       "1   1    2    1019.5     16.2         16.9     15.8      15.4      95.0   \n",
       "2   2    3    1024.1     19.4         16.1     14.6       9.3      75.0   \n",
       "3   3    4    1013.4     18.1         17.8     16.9      16.8      95.0   \n",
       "4   4    5    1021.8     21.3         18.4     15.2       9.6      52.0   \n",
       "\n",
       "   cloud  sunshine  winddirection  windspeed  rainfall  \n",
       "0   88.0       1.1           60.0       17.2         1  \n",
       "1   91.0       0.0           50.0       21.9         1  \n",
       "2   47.0       8.3           70.0       18.1         1  \n",
       "3   95.0       0.0           60.0       35.6         1  \n",
       "4   45.0       3.6           40.0       24.8         0  "
      ]
     },
     "execution_count": 3,
     "metadata": {},
     "output_type": "execute_result"
    }
   ],
   "source": [
    "train = pd.read_csv(\"/kaggle/input/playground-series-s5e3/train.csv\")#.set_index(\"id\")\n",
    "train.head()"
   ]
  },
  {
   "cell_type": "code",
   "execution_count": 4,
   "id": "c13a752c",
   "metadata": {
    "execution": {
     "iopub.execute_input": "2025-03-12T15:05:15.463676Z",
     "iopub.status.busy": "2025-03-12T15:05:15.463337Z",
     "iopub.status.idle": "2025-03-12T15:05:15.630706Z",
     "shell.execute_reply": "2025-03-12T15:05:15.629613Z"
    },
    "papermill": {
     "duration": 0.178198,
     "end_time": "2025-03-12T15:05:15.632334",
     "exception": false,
     "start_time": "2025-03-12T15:05:15.454136",
     "status": "completed"
    },
    "tags": []
   },
   "outputs": [
    {
     "data": {
      "text/html": [
       "<style type=\"text/css\">\n",
       "#T_4b67e_row0_col0, #T_4b67e_row0_col1, #T_4b67e_row0_col2, #T_4b67e_row0_col3, #T_4b67e_row0_col4, #T_4b67e_row0_col5, #T_4b67e_row0_col6, #T_4b67e_row0_col7, #T_4b67e_row0_col8, #T_4b67e_row0_col9, #T_4b67e_row0_col10, #T_4b67e_row0_col11, #T_4b67e_row0_col12, #T_4b67e_row7_col0 {\n",
       "  background-color: #ffff66;\n",
       "  color: #000000;\n",
       "}\n",
       "#T_4b67e_row1_col0, #T_4b67e_row5_col0 {\n",
       "  background-color: #7fbf66;\n",
       "  color: #000000;\n",
       "}\n",
       "#T_4b67e_row1_col1, #T_4b67e_row5_col1 {\n",
       "  background-color: #148a66;\n",
       "  color: #f1f1f1;\n",
       "}\n",
       "#T_4b67e_row1_col2, #T_4b67e_row5_col2, #T_4b67e_row6_col2 {\n",
       "  background-color: #76bb66;\n",
       "  color: #f1f1f1;\n",
       "}\n",
       "#T_4b67e_row1_col3, #T_4b67e_row1_col4, #T_4b67e_row1_col5, #T_4b67e_row1_col6, #T_4b67e_row1_col11, #T_4b67e_row5_col3, #T_4b67e_row5_col4, #T_4b67e_row5_col5, #T_4b67e_row5_col6, #T_4b67e_row6_col3, #T_4b67e_row6_col4, #T_4b67e_row6_col5, #T_4b67e_row6_col6, #T_4b67e_row6_col11 {\n",
       "  background-color: #028066;\n",
       "  color: #f1f1f1;\n",
       "}\n",
       "#T_4b67e_row1_col7, #T_4b67e_row1_col8, #T_4b67e_row2_col10, #T_4b67e_row4_col7, #T_4b67e_row5_col7 {\n",
       "  background-color: #088466;\n",
       "  color: #f1f1f1;\n",
       "}\n",
       "#T_4b67e_row1_col9, #T_4b67e_row1_col12, #T_4b67e_row2_col2, #T_4b67e_row2_col3, #T_4b67e_row2_col4, #T_4b67e_row2_col5, #T_4b67e_row2_col6, #T_4b67e_row2_col7, #T_4b67e_row2_col9, #T_4b67e_row2_col11, #T_4b67e_row2_col12, #T_4b67e_row3_col0, #T_4b67e_row3_col1, #T_4b67e_row3_col3, #T_4b67e_row3_col4, #T_4b67e_row3_col5, #T_4b67e_row3_col6, #T_4b67e_row3_col8, #T_4b67e_row3_col9, #T_4b67e_row3_col10, #T_4b67e_row3_col11, #T_4b67e_row3_col12, #T_4b67e_row4_col9, #T_4b67e_row4_col12, #T_4b67e_row5_col9, #T_4b67e_row5_col12, #T_4b67e_row6_col9, #T_4b67e_row6_col12, #T_4b67e_row7_col12 {\n",
       "  background-color: #008066;\n",
       "  color: #f1f1f1;\n",
       "}\n",
       "#T_4b67e_row1_col10, #T_4b67e_row7_col8 {\n",
       "  background-color: #0b8566;\n",
       "  color: #f1f1f1;\n",
       "}\n",
       "#T_4b67e_row2_col0 {\n",
       "  background-color: #49a466;\n",
       "  color: #f1f1f1;\n",
       "}\n",
       "#T_4b67e_row2_col1 {\n",
       "  background-color: #0c8666;\n",
       "  color: #f1f1f1;\n",
       "}\n",
       "#T_4b67e_row2_col8, #T_4b67e_row4_col3, #T_4b67e_row4_col4, #T_4b67e_row4_col5, #T_4b67e_row4_col6, #T_4b67e_row4_col11, #T_4b67e_row5_col11, #T_4b67e_row7_col9 {\n",
       "  background-color: #018066;\n",
       "  color: #f1f1f1;\n",
       "}\n",
       "#T_4b67e_row3_col2 {\n",
       "  background-color: #74ba66;\n",
       "  color: #f1f1f1;\n",
       "}\n",
       "#T_4b67e_row3_col7, #T_4b67e_row4_col10, #T_4b67e_row7_col3, #T_4b67e_row7_col4, #T_4b67e_row7_col5, #T_4b67e_row7_col6 {\n",
       "  background-color: #038166;\n",
       "  color: #f1f1f1;\n",
       "}\n",
       "#T_4b67e_row4_col0 {\n",
       "  background-color: #3f9f66;\n",
       "  color: #f1f1f1;\n",
       "}\n",
       "#T_4b67e_row4_col1, #T_4b67e_row6_col8, #T_4b67e_row7_col7 {\n",
       "  background-color: #0a8466;\n",
       "  color: #f1f1f1;\n",
       "}\n",
       "#T_4b67e_row4_col2 {\n",
       "  background-color: #75ba66;\n",
       "  color: #f1f1f1;\n",
       "}\n",
       "#T_4b67e_row4_col8, #T_4b67e_row5_col10 {\n",
       "  background-color: #078366;\n",
       "  color: #f1f1f1;\n",
       "}\n",
       "#T_4b67e_row5_col8, #T_4b67e_row6_col7 {\n",
       "  background-color: #098466;\n",
       "  color: #f1f1f1;\n",
       "}\n",
       "#T_4b67e_row6_col0 {\n",
       "  background-color: #bfdf66;\n",
       "  color: #000000;\n",
       "}\n",
       "#T_4b67e_row6_col1 {\n",
       "  background-color: #1f8f66;\n",
       "  color: #f1f1f1;\n",
       "}\n",
       "#T_4b67e_row6_col10 {\n",
       "  background-color: #168a66;\n",
       "  color: #f1f1f1;\n",
       "}\n",
       "#T_4b67e_row7_col1 {\n",
       "  background-color: #2a9466;\n",
       "  color: #f1f1f1;\n",
       "}\n",
       "#T_4b67e_row7_col2 {\n",
       "  background-color: #78bc66;\n",
       "  color: #f1f1f1;\n",
       "}\n",
       "#T_4b67e_row7_col10 {\n",
       "  background-color: #229066;\n",
       "  color: #f1f1f1;\n",
       "}\n",
       "#T_4b67e_row7_col11 {\n",
       "  background-color: #068266;\n",
       "  color: #f1f1f1;\n",
       "}\n",
       "</style>\n",
       "<table id=\"T_4b67e\">\n",
       "  <thead>\n",
       "    <tr>\n",
       "      <th class=\"blank level0\" >&nbsp;</th>\n",
       "      <th id=\"T_4b67e_level0_col0\" class=\"col_heading level0 col0\" >id</th>\n",
       "      <th id=\"T_4b67e_level0_col1\" class=\"col_heading level0 col1\" >day</th>\n",
       "      <th id=\"T_4b67e_level0_col2\" class=\"col_heading level0 col2\" >pressure</th>\n",
       "      <th id=\"T_4b67e_level0_col3\" class=\"col_heading level0 col3\" >maxtemp</th>\n",
       "      <th id=\"T_4b67e_level0_col4\" class=\"col_heading level0 col4\" >temparature</th>\n",
       "      <th id=\"T_4b67e_level0_col5\" class=\"col_heading level0 col5\" >mintemp</th>\n",
       "      <th id=\"T_4b67e_level0_col6\" class=\"col_heading level0 col6\" >dewpoint</th>\n",
       "      <th id=\"T_4b67e_level0_col7\" class=\"col_heading level0 col7\" >humidity</th>\n",
       "      <th id=\"T_4b67e_level0_col8\" class=\"col_heading level0 col8\" >cloud</th>\n",
       "      <th id=\"T_4b67e_level0_col9\" class=\"col_heading level0 col9\" >sunshine</th>\n",
       "      <th id=\"T_4b67e_level0_col10\" class=\"col_heading level0 col10\" >winddirection</th>\n",
       "      <th id=\"T_4b67e_level0_col11\" class=\"col_heading level0 col11\" >windspeed</th>\n",
       "      <th id=\"T_4b67e_level0_col12\" class=\"col_heading level0 col12\" >rainfall</th>\n",
       "    </tr>\n",
       "  </thead>\n",
       "  <tbody>\n",
       "    <tr>\n",
       "      <th id=\"T_4b67e_level0_row0\" class=\"row_heading level0 row0\" >count</th>\n",
       "      <td id=\"T_4b67e_row0_col0\" class=\"data row0 col0\" >2190.000000</td>\n",
       "      <td id=\"T_4b67e_row0_col1\" class=\"data row0 col1\" >2190.000000</td>\n",
       "      <td id=\"T_4b67e_row0_col2\" class=\"data row0 col2\" >2190.000000</td>\n",
       "      <td id=\"T_4b67e_row0_col3\" class=\"data row0 col3\" >2190.000000</td>\n",
       "      <td id=\"T_4b67e_row0_col4\" class=\"data row0 col4\" >2190.000000</td>\n",
       "      <td id=\"T_4b67e_row0_col5\" class=\"data row0 col5\" >2190.000000</td>\n",
       "      <td id=\"T_4b67e_row0_col6\" class=\"data row0 col6\" >2190.000000</td>\n",
       "      <td id=\"T_4b67e_row0_col7\" class=\"data row0 col7\" >2190.000000</td>\n",
       "      <td id=\"T_4b67e_row0_col8\" class=\"data row0 col8\" >2190.000000</td>\n",
       "      <td id=\"T_4b67e_row0_col9\" class=\"data row0 col9\" >2190.000000</td>\n",
       "      <td id=\"T_4b67e_row0_col10\" class=\"data row0 col10\" >2190.000000</td>\n",
       "      <td id=\"T_4b67e_row0_col11\" class=\"data row0 col11\" >2190.000000</td>\n",
       "      <td id=\"T_4b67e_row0_col12\" class=\"data row0 col12\" >2190.000000</td>\n",
       "    </tr>\n",
       "    <tr>\n",
       "      <th id=\"T_4b67e_level0_row1\" class=\"row_heading level0 row1\" >mean</th>\n",
       "      <td id=\"T_4b67e_row1_col0\" class=\"data row1 col0\" >1094.500000</td>\n",
       "      <td id=\"T_4b67e_row1_col1\" class=\"data row1 col1\" >179.948402</td>\n",
       "      <td id=\"T_4b67e_row1_col2\" class=\"data row1 col2\" >1013.602146</td>\n",
       "      <td id=\"T_4b67e_row1_col3\" class=\"data row1 col3\" >26.365799</td>\n",
       "      <td id=\"T_4b67e_row1_col4\" class=\"data row1 col4\" >23.953059</td>\n",
       "      <td id=\"T_4b67e_row1_col5\" class=\"data row1 col5\" >22.170091</td>\n",
       "      <td id=\"T_4b67e_row1_col6\" class=\"data row1 col6\" >20.454566</td>\n",
       "      <td id=\"T_4b67e_row1_col7\" class=\"data row1 col7\" >82.036530</td>\n",
       "      <td id=\"T_4b67e_row1_col8\" class=\"data row1 col8\" >75.721918</td>\n",
       "      <td id=\"T_4b67e_row1_col9\" class=\"data row1 col9\" >3.744429</td>\n",
       "      <td id=\"T_4b67e_row1_col10\" class=\"data row1 col10\" >104.863151</td>\n",
       "      <td id=\"T_4b67e_row1_col11\" class=\"data row1 col11\" >21.804703</td>\n",
       "      <td id=\"T_4b67e_row1_col12\" class=\"data row1 col12\" >0.753425</td>\n",
       "    </tr>\n",
       "    <tr>\n",
       "      <th id=\"T_4b67e_level0_row2\" class=\"row_heading level0 row2\" >std</th>\n",
       "      <td id=\"T_4b67e_row2_col0\" class=\"data row2 col0\" >632.342866</td>\n",
       "      <td id=\"T_4b67e_row2_col1\" class=\"data row2 col1\" >105.203592</td>\n",
       "      <td id=\"T_4b67e_row2_col2\" class=\"data row2 col2\" >5.655366</td>\n",
       "      <td id=\"T_4b67e_row2_col3\" class=\"data row2 col3\" >5.654330</td>\n",
       "      <td id=\"T_4b67e_row2_col4\" class=\"data row2 col4\" >5.222410</td>\n",
       "      <td id=\"T_4b67e_row2_col5\" class=\"data row2 col5\" >5.059120</td>\n",
       "      <td id=\"T_4b67e_row2_col6\" class=\"data row2 col6\" >5.288406</td>\n",
       "      <td id=\"T_4b67e_row2_col7\" class=\"data row2 col7\" >7.800654</td>\n",
       "      <td id=\"T_4b67e_row2_col8\" class=\"data row2 col8\" >18.026498</td>\n",
       "      <td id=\"T_4b67e_row2_col9\" class=\"data row2 col9\" >3.626327</td>\n",
       "      <td id=\"T_4b67e_row2_col10\" class=\"data row2 col10\" >80.002416</td>\n",
       "      <td id=\"T_4b67e_row2_col11\" class=\"data row2 col11\" >9.898659</td>\n",
       "      <td id=\"T_4b67e_row2_col12\" class=\"data row2 col12\" >0.431116</td>\n",
       "    </tr>\n",
       "    <tr>\n",
       "      <th id=\"T_4b67e_level0_row3\" class=\"row_heading level0 row3\" >min</th>\n",
       "      <td id=\"T_4b67e_row3_col0\" class=\"data row3 col0\" >0.000000</td>\n",
       "      <td id=\"T_4b67e_row3_col1\" class=\"data row3 col1\" >1.000000</td>\n",
       "      <td id=\"T_4b67e_row3_col2\" class=\"data row3 col2\" >999.000000</td>\n",
       "      <td id=\"T_4b67e_row3_col3\" class=\"data row3 col3\" >10.400000</td>\n",
       "      <td id=\"T_4b67e_row3_col4\" class=\"data row3 col4\" >7.400000</td>\n",
       "      <td id=\"T_4b67e_row3_col5\" class=\"data row3 col5\" >4.000000</td>\n",
       "      <td id=\"T_4b67e_row3_col6\" class=\"data row3 col6\" >-0.300000</td>\n",
       "      <td id=\"T_4b67e_row3_col7\" class=\"data row3 col7\" >39.000000</td>\n",
       "      <td id=\"T_4b67e_row3_col8\" class=\"data row3 col8\" >2.000000</td>\n",
       "      <td id=\"T_4b67e_row3_col9\" class=\"data row3 col9\" >0.000000</td>\n",
       "      <td id=\"T_4b67e_row3_col10\" class=\"data row3 col10\" >10.000000</td>\n",
       "      <td id=\"T_4b67e_row3_col11\" class=\"data row3 col11\" >4.400000</td>\n",
       "      <td id=\"T_4b67e_row3_col12\" class=\"data row3 col12\" >0.000000</td>\n",
       "    </tr>\n",
       "    <tr>\n",
       "      <th id=\"T_4b67e_level0_row4\" class=\"row_heading level0 row4\" >25%</th>\n",
       "      <td id=\"T_4b67e_row4_col0\" class=\"data row4 col0\" >547.250000</td>\n",
       "      <td id=\"T_4b67e_row4_col1\" class=\"data row4 col1\" >89.000000</td>\n",
       "      <td id=\"T_4b67e_row4_col2\" class=\"data row4 col2\" >1008.600000</td>\n",
       "      <td id=\"T_4b67e_row4_col3\" class=\"data row4 col3\" >21.300000</td>\n",
       "      <td id=\"T_4b67e_row4_col4\" class=\"data row4 col4\" >19.300000</td>\n",
       "      <td id=\"T_4b67e_row4_col5\" class=\"data row4 col5\" >17.700000</td>\n",
       "      <td id=\"T_4b67e_row4_col6\" class=\"data row4 col6\" >16.800000</td>\n",
       "      <td id=\"T_4b67e_row4_col7\" class=\"data row4 col7\" >77.000000</td>\n",
       "      <td id=\"T_4b67e_row4_col8\" class=\"data row4 col8\" >69.000000</td>\n",
       "      <td id=\"T_4b67e_row4_col9\" class=\"data row4 col9\" >0.400000</td>\n",
       "      <td id=\"T_4b67e_row4_col10\" class=\"data row4 col10\" >40.000000</td>\n",
       "      <td id=\"T_4b67e_row4_col11\" class=\"data row4 col11\" >14.125000</td>\n",
       "      <td id=\"T_4b67e_row4_col12\" class=\"data row4 col12\" >1.000000</td>\n",
       "    </tr>\n",
       "    <tr>\n",
       "      <th id=\"T_4b67e_level0_row5\" class=\"row_heading level0 row5\" >50%</th>\n",
       "      <td id=\"T_4b67e_row5_col0\" class=\"data row5 col0\" >1094.500000</td>\n",
       "      <td id=\"T_4b67e_row5_col1\" class=\"data row5 col1\" >178.500000</td>\n",
       "      <td id=\"T_4b67e_row5_col2\" class=\"data row5 col2\" >1013.000000</td>\n",
       "      <td id=\"T_4b67e_row5_col3\" class=\"data row5 col3\" >27.800000</td>\n",
       "      <td id=\"T_4b67e_row5_col4\" class=\"data row5 col4\" >25.500000</td>\n",
       "      <td id=\"T_4b67e_row5_col5\" class=\"data row5 col5\" >23.850000</td>\n",
       "      <td id=\"T_4b67e_row5_col6\" class=\"data row5 col6\" >22.150000</td>\n",
       "      <td id=\"T_4b67e_row5_col7\" class=\"data row5 col7\" >82.000000</td>\n",
       "      <td id=\"T_4b67e_row5_col8\" class=\"data row5 col8\" >83.000000</td>\n",
       "      <td id=\"T_4b67e_row5_col9\" class=\"data row5 col9\" >2.400000</td>\n",
       "      <td id=\"T_4b67e_row5_col10\" class=\"data row5 col10\" >70.000000</td>\n",
       "      <td id=\"T_4b67e_row5_col11\" class=\"data row5 col11\" >20.500000</td>\n",
       "      <td id=\"T_4b67e_row5_col12\" class=\"data row5 col12\" >1.000000</td>\n",
       "    </tr>\n",
       "    <tr>\n",
       "      <th id=\"T_4b67e_level0_row6\" class=\"row_heading level0 row6\" >75%</th>\n",
       "      <td id=\"T_4b67e_row6_col0\" class=\"data row6 col0\" >1641.750000</td>\n",
       "      <td id=\"T_4b67e_row6_col1\" class=\"data row6 col1\" >270.000000</td>\n",
       "      <td id=\"T_4b67e_row6_col2\" class=\"data row6 col2\" >1017.775000</td>\n",
       "      <td id=\"T_4b67e_row6_col3\" class=\"data row6 col3\" >31.200000</td>\n",
       "      <td id=\"T_4b67e_row6_col4\" class=\"data row6 col4\" >28.400000</td>\n",
       "      <td id=\"T_4b67e_row6_col5\" class=\"data row6 col5\" >26.400000</td>\n",
       "      <td id=\"T_4b67e_row6_col6\" class=\"data row6 col6\" >25.000000</td>\n",
       "      <td id=\"T_4b67e_row6_col7\" class=\"data row6 col7\" >88.000000</td>\n",
       "      <td id=\"T_4b67e_row6_col8\" class=\"data row6 col8\" >88.000000</td>\n",
       "      <td id=\"T_4b67e_row6_col9\" class=\"data row6 col9\" >6.800000</td>\n",
       "      <td id=\"T_4b67e_row6_col10\" class=\"data row6 col10\" >200.000000</td>\n",
       "      <td id=\"T_4b67e_row6_col11\" class=\"data row6 col11\" >27.900000</td>\n",
       "      <td id=\"T_4b67e_row6_col12\" class=\"data row6 col12\" >1.000000</td>\n",
       "    </tr>\n",
       "    <tr>\n",
       "      <th id=\"T_4b67e_level0_row7\" class=\"row_heading level0 row7\" >max</th>\n",
       "      <td id=\"T_4b67e_row7_col0\" class=\"data row7 col0\" >2189.000000</td>\n",
       "      <td id=\"T_4b67e_row7_col1\" class=\"data row7 col1\" >365.000000</td>\n",
       "      <td id=\"T_4b67e_row7_col2\" class=\"data row7 col2\" >1034.600000</td>\n",
       "      <td id=\"T_4b67e_row7_col3\" class=\"data row7 col3\" >36.000000</td>\n",
       "      <td id=\"T_4b67e_row7_col4\" class=\"data row7 col4\" >31.500000</td>\n",
       "      <td id=\"T_4b67e_row7_col5\" class=\"data row7 col5\" >29.800000</td>\n",
       "      <td id=\"T_4b67e_row7_col6\" class=\"data row7 col6\" >26.700000</td>\n",
       "      <td id=\"T_4b67e_row7_col7\" class=\"data row7 col7\" >98.000000</td>\n",
       "      <td id=\"T_4b67e_row7_col8\" class=\"data row7 col8\" >100.000000</td>\n",
       "      <td id=\"T_4b67e_row7_col9\" class=\"data row7 col9\" >12.100000</td>\n",
       "      <td id=\"T_4b67e_row7_col10\" class=\"data row7 col10\" >300.000000</td>\n",
       "      <td id=\"T_4b67e_row7_col11\" class=\"data row7 col11\" >59.500000</td>\n",
       "      <td id=\"T_4b67e_row7_col12\" class=\"data row7 col12\" >1.000000</td>\n",
       "    </tr>\n",
       "  </tbody>\n",
       "</table>\n"
      ],
      "text/plain": [
       "<pandas.io.formats.style.Styler at 0x7f5c98079c60>"
      ]
     },
     "execution_count": 4,
     "metadata": {},
     "output_type": "execute_result"
    }
   ],
   "source": [
    "train.describe().style.background_gradient(cmap='summer')"
   ]
  },
  {
   "cell_type": "code",
   "execution_count": 5,
   "id": "c88cbcac",
   "metadata": {
    "execution": {
     "iopub.execute_input": "2025-03-12T15:05:15.651541Z",
     "iopub.status.busy": "2025-03-12T15:05:15.651000Z",
     "iopub.status.idle": "2025-03-12T15:05:15.657627Z",
     "shell.execute_reply": "2025-03-12T15:05:15.656635Z"
    },
    "papermill": {
     "duration": 0.018334,
     "end_time": "2025-03-12T15:05:15.659435",
     "exception": false,
     "start_time": "2025-03-12T15:05:15.641101",
     "status": "completed"
    },
    "tags": []
   },
   "outputs": [
    {
     "data": {
      "text/plain": [
       "365"
      ]
     },
     "execution_count": 5,
     "metadata": {},
     "output_type": "execute_result"
    }
   ],
   "source": [
    "train.day.max()"
   ]
  },
  {
   "cell_type": "code",
   "execution_count": 6,
   "id": "ff462d2f",
   "metadata": {
    "execution": {
     "iopub.execute_input": "2025-03-12T15:05:15.678845Z",
     "iopub.status.busy": "2025-03-12T15:05:15.678498Z",
     "iopub.status.idle": "2025-03-12T15:05:15.689813Z",
     "shell.execute_reply": "2025-03-12T15:05:15.688563Z"
    },
    "papermill": {
     "duration": 0.023516,
     "end_time": "2025-03-12T15:05:15.691793",
     "exception": false,
     "start_time": "2025-03-12T15:05:15.668277",
     "status": "completed"
    },
    "tags": []
   },
   "outputs": [
    {
     "data": {
      "text/plain": [
       "day\n",
       "91     7\n",
       "144    7\n",
       "267    7\n",
       "140    7\n",
       "111    7\n",
       "      ..\n",
       "157    5\n",
       "286    5\n",
       "38     5\n",
       "336    5\n",
       "365    5\n",
       "Name: count, Length: 365, dtype: int64"
      ]
     },
     "execution_count": 6,
     "metadata": {},
     "output_type": "execute_result"
    }
   ],
   "source": [
    "train.day.value_counts()"
   ]
  },
  {
   "cell_type": "code",
   "execution_count": 7,
   "id": "21f6ef2a",
   "metadata": {
    "execution": {
     "iopub.execute_input": "2025-03-12T15:05:15.711716Z",
     "iopub.status.busy": "2025-03-12T15:05:15.711080Z",
     "iopub.status.idle": "2025-03-12T15:05:15.737852Z",
     "shell.execute_reply": "2025-03-12T15:05:15.736543Z"
    },
    "papermill": {
     "duration": 0.038777,
     "end_time": "2025-03-12T15:05:15.739954",
     "exception": false,
     "start_time": "2025-03-12T15:05:15.701177",
     "status": "completed"
    },
    "tags": []
   },
   "outputs": [
    {
     "data": {
      "text/html": [
       "<div>\n",
       "<style scoped>\n",
       "    .dataframe tbody tr th:only-of-type {\n",
       "        vertical-align: middle;\n",
       "    }\n",
       "\n",
       "    .dataframe tbody tr th {\n",
       "        vertical-align: top;\n",
       "    }\n",
       "\n",
       "    .dataframe thead th {\n",
       "        text-align: right;\n",
       "    }\n",
       "</style>\n",
       "<table border=\"1\" class=\"dataframe\">\n",
       "  <thead>\n",
       "    <tr style=\"text-align: right;\">\n",
       "      <th></th>\n",
       "      <th>id</th>\n",
       "      <th>day</th>\n",
       "      <th>pressure</th>\n",
       "      <th>maxtemp</th>\n",
       "      <th>temparature</th>\n",
       "      <th>mintemp</th>\n",
       "      <th>dewpoint</th>\n",
       "      <th>humidity</th>\n",
       "      <th>cloud</th>\n",
       "      <th>sunshine</th>\n",
       "      <th>winddirection</th>\n",
       "      <th>windspeed</th>\n",
       "    </tr>\n",
       "  </thead>\n",
       "  <tbody>\n",
       "    <tr>\n",
       "      <th>0</th>\n",
       "      <td>2190</td>\n",
       "      <td>1</td>\n",
       "      <td>1019.5</td>\n",
       "      <td>17.5</td>\n",
       "      <td>15.8</td>\n",
       "      <td>12.7</td>\n",
       "      <td>14.9</td>\n",
       "      <td>96.0</td>\n",
       "      <td>99.0</td>\n",
       "      <td>0.0</td>\n",
       "      <td>50.0</td>\n",
       "      <td>24.3</td>\n",
       "    </tr>\n",
       "    <tr>\n",
       "      <th>1</th>\n",
       "      <td>2191</td>\n",
       "      <td>2</td>\n",
       "      <td>1016.5</td>\n",
       "      <td>17.5</td>\n",
       "      <td>16.5</td>\n",
       "      <td>15.8</td>\n",
       "      <td>15.1</td>\n",
       "      <td>97.0</td>\n",
       "      <td>99.0</td>\n",
       "      <td>0.0</td>\n",
       "      <td>50.0</td>\n",
       "      <td>35.3</td>\n",
       "    </tr>\n",
       "    <tr>\n",
       "      <th>2</th>\n",
       "      <td>2192</td>\n",
       "      <td>3</td>\n",
       "      <td>1023.9</td>\n",
       "      <td>11.2</td>\n",
       "      <td>10.4</td>\n",
       "      <td>9.4</td>\n",
       "      <td>8.9</td>\n",
       "      <td>86.0</td>\n",
       "      <td>96.0</td>\n",
       "      <td>0.0</td>\n",
       "      <td>40.0</td>\n",
       "      <td>16.9</td>\n",
       "    </tr>\n",
       "    <tr>\n",
       "      <th>3</th>\n",
       "      <td>2193</td>\n",
       "      <td>4</td>\n",
       "      <td>1022.9</td>\n",
       "      <td>20.6</td>\n",
       "      <td>17.3</td>\n",
       "      <td>15.2</td>\n",
       "      <td>9.5</td>\n",
       "      <td>75.0</td>\n",
       "      <td>45.0</td>\n",
       "      <td>7.1</td>\n",
       "      <td>20.0</td>\n",
       "      <td>50.6</td>\n",
       "    </tr>\n",
       "    <tr>\n",
       "      <th>4</th>\n",
       "      <td>2194</td>\n",
       "      <td>5</td>\n",
       "      <td>1022.2</td>\n",
       "      <td>16.1</td>\n",
       "      <td>13.8</td>\n",
       "      <td>6.4</td>\n",
       "      <td>4.3</td>\n",
       "      <td>68.0</td>\n",
       "      <td>49.0</td>\n",
       "      <td>9.2</td>\n",
       "      <td>20.0</td>\n",
       "      <td>19.4</td>\n",
       "    </tr>\n",
       "  </tbody>\n",
       "</table>\n",
       "</div>"
      ],
      "text/plain": [
       "     id  day  pressure  maxtemp  temparature  mintemp  dewpoint  humidity  \\\n",
       "0  2190    1    1019.5     17.5         15.8     12.7      14.9      96.0   \n",
       "1  2191    2    1016.5     17.5         16.5     15.8      15.1      97.0   \n",
       "2  2192    3    1023.9     11.2         10.4      9.4       8.9      86.0   \n",
       "3  2193    4    1022.9     20.6         17.3     15.2       9.5      75.0   \n",
       "4  2194    5    1022.2     16.1         13.8      6.4       4.3      68.0   \n",
       "\n",
       "   cloud  sunshine  winddirection  windspeed  \n",
       "0   99.0       0.0           50.0       24.3  \n",
       "1   99.0       0.0           50.0       35.3  \n",
       "2   96.0       0.0           40.0       16.9  \n",
       "3   45.0       7.1           20.0       50.6  \n",
       "4   49.0       9.2           20.0       19.4  "
      ]
     },
     "execution_count": 7,
     "metadata": {},
     "output_type": "execute_result"
    }
   ],
   "source": [
    "test = pd.read_csv(\"/kaggle/input/playground-series-s5e3/test.csv\")#.set_index(\"id\")\n",
    "test.head()"
   ]
  },
  {
   "cell_type": "markdown",
   "id": "7e554e8e",
   "metadata": {
    "papermill": {
     "duration": 0.008633,
     "end_time": "2025-03-12T15:05:15.757712",
     "exception": false,
     "start_time": "2025-03-12T15:05:15.749079",
     "status": "completed"
    },
    "tags": []
   },
   "source": [
    "## Quick EDA"
   ]
  },
  {
   "cell_type": "code",
   "execution_count": 8,
   "id": "21185de2",
   "metadata": {
    "execution": {
     "iopub.execute_input": "2025-03-12T15:05:15.779318Z",
     "iopub.status.busy": "2025-03-12T15:05:15.778868Z",
     "iopub.status.idle": "2025-03-12T15:05:17.808023Z",
     "shell.execute_reply": "2025-03-12T15:05:17.805938Z"
    },
    "papermill": {
     "duration": 2.047462,
     "end_time": "2025-03-12T15:05:17.814012",
     "exception": false,
     "start_time": "2025-03-12T15:05:15.766550",
     "status": "completed"
    },
    "tags": []
   },
   "outputs": [],
   "source": [
    "import seaborn as sns"
   ]
  },
  {
   "cell_type": "code",
   "execution_count": 9,
   "id": "9ed9459f",
   "metadata": {
    "execution": {
     "iopub.execute_input": "2025-03-12T15:05:17.838064Z",
     "iopub.status.busy": "2025-03-12T15:05:17.837554Z",
     "iopub.status.idle": "2025-03-12T15:05:17.842405Z",
     "shell.execute_reply": "2025-03-12T15:05:17.841122Z"
    },
    "papermill": {
     "duration": 0.020751,
     "end_time": "2025-03-12T15:05:17.844632",
     "exception": false,
     "start_time": "2025-03-12T15:05:17.823881",
     "status": "completed"
    },
    "tags": []
   },
   "outputs": [],
   "source": [
    "import warnings\n",
    "warnings.filterwarnings(\"ignore\", category=FutureWarning)\n",
    "\n",
    "#sns.pairplot(train, kind=\"kde\")"
   ]
  },
  {
   "cell_type": "markdown",
   "id": "9f4da6a3",
   "metadata": {
    "papermill": {
     "duration": 0.009273,
     "end_time": "2025-03-12T15:05:17.863855",
     "exception": false,
     "start_time": "2025-03-12T15:05:17.854582",
     "status": "completed"
    },
    "tags": []
   },
   "source": [
    "## Handling Missing values\n",
    "\n",
    "It seems there is just one missing value, in the test dataset"
   ]
  },
  {
   "cell_type": "code",
   "execution_count": 10,
   "id": "0cb22f85",
   "metadata": {
    "execution": {
     "iopub.execute_input": "2025-03-12T15:05:17.883844Z",
     "iopub.status.busy": "2025-03-12T15:05:17.883502Z",
     "iopub.status.idle": "2025-03-12T15:05:17.892664Z",
     "shell.execute_reply": "2025-03-12T15:05:17.891430Z"
    },
    "papermill": {
     "duration": 0.021786,
     "end_time": "2025-03-12T15:05:17.894550",
     "exception": false,
     "start_time": "2025-03-12T15:05:17.872764",
     "status": "completed"
    },
    "tags": []
   },
   "outputs": [
    {
     "data": {
      "text/plain": [
       "id               0\n",
       "day              0\n",
       "pressure         0\n",
       "maxtemp          0\n",
       "temparature      0\n",
       "mintemp          0\n",
       "dewpoint         0\n",
       "humidity         0\n",
       "cloud            0\n",
       "sunshine         0\n",
       "winddirection    0\n",
       "windspeed        0\n",
       "rainfall         0\n",
       "dtype: int64"
      ]
     },
     "execution_count": 10,
     "metadata": {},
     "output_type": "execute_result"
    }
   ],
   "source": [
    "train.isnull().sum()\n"
   ]
  },
  {
   "cell_type": "code",
   "execution_count": 11,
   "id": "3803a751",
   "metadata": {
    "execution": {
     "iopub.execute_input": "2025-03-12T15:05:17.915424Z",
     "iopub.status.busy": "2025-03-12T15:05:17.915008Z",
     "iopub.status.idle": "2025-03-12T15:05:17.923890Z",
     "shell.execute_reply": "2025-03-12T15:05:17.922721Z"
    },
    "papermill": {
     "duration": 0.021593,
     "end_time": "2025-03-12T15:05:17.925715",
     "exception": false,
     "start_time": "2025-03-12T15:05:17.904122",
     "status": "completed"
    },
    "tags": []
   },
   "outputs": [
    {
     "data": {
      "text/plain": [
       "id               0\n",
       "day              0\n",
       "pressure         0\n",
       "maxtemp          0\n",
       "temparature      0\n",
       "mintemp          0\n",
       "dewpoint         0\n",
       "humidity         0\n",
       "cloud            0\n",
       "sunshine         0\n",
       "winddirection    1\n",
       "windspeed        0\n",
       "dtype: int64"
      ]
     },
     "execution_count": 11,
     "metadata": {},
     "output_type": "execute_result"
    }
   ],
   "source": [
    "test.isnull().sum()"
   ]
  },
  {
   "cell_type": "markdown",
   "id": "8ea9aa05",
   "metadata": {
    "papermill": {
     "duration": 0.009149,
     "end_time": "2025-03-12T15:05:17.944439",
     "exception": false,
     "start_time": "2025-03-12T15:05:17.935290",
     "status": "completed"
    },
    "tags": []
   },
   "source": []
  },
  {
   "cell_type": "code",
   "execution_count": 12,
   "id": "663a06bf",
   "metadata": {
    "execution": {
     "iopub.execute_input": "2025-03-12T15:05:17.964477Z",
     "iopub.status.busy": "2025-03-12T15:05:17.964090Z",
     "iopub.status.idle": "2025-03-12T15:05:17.984615Z",
     "shell.execute_reply": "2025-03-12T15:05:17.983561Z"
    },
    "papermill": {
     "duration": 0.032963,
     "end_time": "2025-03-12T15:05:17.986760",
     "exception": false,
     "start_time": "2025-03-12T15:05:17.953797",
     "status": "completed"
    },
    "tags": []
   },
   "outputs": [
    {
     "name": "stderr",
     "output_type": "stream",
     "text": [
      "/usr/local/lib/python3.10/dist-packages/pandas/io/formats/format.py:1458: RuntimeWarning: invalid value encountered in greater\n",
      "  has_large_values = (abs_vals > 1e6).any()\n",
      "/usr/local/lib/python3.10/dist-packages/pandas/io/formats/format.py:1459: RuntimeWarning: invalid value encountered in less\n",
      "  has_small_values = ((abs_vals < 10 ** (-self.digits)) & (abs_vals > 0)).any()\n",
      "/usr/local/lib/python3.10/dist-packages/pandas/io/formats/format.py:1459: RuntimeWarning: invalid value encountered in greater\n",
      "  has_small_values = ((abs_vals < 10 ** (-self.digits)) & (abs_vals > 0)).any()\n"
     ]
    },
    {
     "data": {
      "text/html": [
       "<div>\n",
       "<style scoped>\n",
       "    .dataframe tbody tr th:only-of-type {\n",
       "        vertical-align: middle;\n",
       "    }\n",
       "\n",
       "    .dataframe tbody tr th {\n",
       "        vertical-align: top;\n",
       "    }\n",
       "\n",
       "    .dataframe thead th {\n",
       "        text-align: right;\n",
       "    }\n",
       "</style>\n",
       "<table border=\"1\" class=\"dataframe\">\n",
       "  <thead>\n",
       "    <tr style=\"text-align: right;\">\n",
       "      <th></th>\n",
       "      <th>id</th>\n",
       "      <th>day</th>\n",
       "      <th>pressure</th>\n",
       "      <th>maxtemp</th>\n",
       "      <th>temparature</th>\n",
       "      <th>mintemp</th>\n",
       "      <th>dewpoint</th>\n",
       "      <th>humidity</th>\n",
       "      <th>cloud</th>\n",
       "      <th>sunshine</th>\n",
       "      <th>winddirection</th>\n",
       "      <th>windspeed</th>\n",
       "    </tr>\n",
       "  </thead>\n",
       "  <tbody>\n",
       "    <tr>\n",
       "      <th>517</th>\n",
       "      <td>2707</td>\n",
       "      <td>153</td>\n",
       "      <td>1007.8</td>\n",
       "      <td>32.9</td>\n",
       "      <td>30.6</td>\n",
       "      <td>28.9</td>\n",
       "      <td>22.0</td>\n",
       "      <td>65.0</td>\n",
       "      <td>75.0</td>\n",
       "      <td>8.2</td>\n",
       "      <td>NaN</td>\n",
       "      <td>17.2</td>\n",
       "    </tr>\n",
       "  </tbody>\n",
       "</table>\n",
       "</div>"
      ],
      "text/plain": [
       "       id  day  pressure  maxtemp  temparature  mintemp  dewpoint  humidity  \\\n",
       "517  2707  153    1007.8     32.9         30.6     28.9      22.0      65.0   \n",
       "\n",
       "     cloud  sunshine  winddirection  windspeed  \n",
       "517   75.0       8.2            NaN       17.2  "
      ]
     },
     "execution_count": 12,
     "metadata": {},
     "output_type": "execute_result"
    }
   ],
   "source": [
    "\n",
    "test[test.isnull().any(axis=1)]\n"
   ]
  },
  {
   "cell_type": "markdown",
   "id": "8bbe6cf0",
   "metadata": {
    "papermill": {
     "duration": 0.009586,
     "end_time": "2025-03-12T15:05:18.011374",
     "exception": false,
     "start_time": "2025-03-12T15:05:18.001788",
     "status": "completed"
    },
    "tags": []
   },
   "source": [
    "## Feature Engineering"
   ]
  },
  {
   "cell_type": "markdown",
   "id": "4947f931",
   "metadata": {
    "papermill": {
     "duration": 0.009917,
     "end_time": "2025-03-12T15:05:18.031861",
     "exception": false,
     "start_time": "2025-03-12T15:05:18.021944",
     "status": "completed"
    },
    "tags": []
   },
   "source": [
    "### Adding season (spring, summer, fall, winter) and cyclical features\n",
    "\n",
    "The day variables goes from 1 to 365, so we only have data from one year.\n",
    "\n",
    "To tell our model that day 1 is close to day 365 (as they are both in winter) we add a cyclical feature"
   ]
  },
  {
   "cell_type": "code",
   "execution_count": 13,
   "id": "4eee1c6f",
   "metadata": {
    "execution": {
     "iopub.execute_input": "2025-03-12T15:05:18.055049Z",
     "iopub.status.busy": "2025-03-12T15:05:18.054570Z",
     "iopub.status.idle": "2025-03-12T15:05:18.242472Z",
     "shell.execute_reply": "2025-03-12T15:05:18.240716Z"
    },
    "papermill": {
     "duration": 0.201784,
     "end_time": "2025-03-12T15:05:18.244542",
     "exception": false,
     "start_time": "2025-03-12T15:05:18.042758",
     "status": "completed"
    },
    "tags": []
   },
   "outputs": [],
   "source": [
    "from sklearn.base import BaseEstimator, TransformerMixin\n",
    "\n",
    "class SeasonMonthTransformer(BaseEstimator, TransformerMixin):\n",
    "    def __init__(self):\n",
    "        pass\n",
    "    \n",
    "    def fit(self, X, y=None):\n",
    "        # Nothing to fit for this transformer\n",
    "        return self\n",
    "    \n",
    "    def transform(self, X):\n",
    "        # Make a copy to avoid modifying the original\n",
    "        X_trans = X.copy()\n",
    "        \n",
    "        # Convert day -> month\n",
    "        def day_to_month(day):\n",
    "            if day <= 31: return 1\n",
    "            elif day <= 59: return 2\n",
    "            elif day <= 90: return 3\n",
    "            elif day <= 120: return 4\n",
    "            elif day <= 151: return 5\n",
    "            elif day <= 181: return 6\n",
    "            elif day <= 212: return 7\n",
    "            elif day <= 243: return 8\n",
    "            elif day <= 273: return 9\n",
    "            elif day <= 304: return 10\n",
    "            elif day <= 334: return 11\n",
    "            else: return 12\n",
    "        \n",
    "        X_trans['month'] = X_trans['day'].apply(day_to_month)\n",
    "        \n",
    "        # Convert day -> season\n",
    "        def day_to_season(day):\n",
    "            if 80 <= day < 172:\n",
    "                return 'spring'\n",
    "            elif 172 <= day < 264:\n",
    "                return 'summer'\n",
    "            elif 264 <= day < 356:\n",
    "                return 'autumn'\n",
    "            else:\n",
    "                return 'winter'\n",
    "        \n",
    "        X_trans['season'] = X_trans['day'].apply(day_to_season)\n",
    "\n",
    "        \n",
    "        X_trans['day_sin'] = np.sin(2 * np.pi * X_trans['day'] / 365)\n",
    "        X_trans['day_cos'] = np.cos(2 * np.pi * X_trans['day'] / 365)\n",
    "        \n",
    "        # One-hot encode season\n",
    "        X_trans = pd.get_dummies(X_trans, columns=['season'], drop_first=True)\n",
    "        \n",
    "        return X_trans\n",
    "\n"
   ]
  },
  {
   "cell_type": "markdown",
   "id": "966d23f2",
   "metadata": {
    "papermill": {
     "duration": 0.01151,
     "end_time": "2025-03-12T15:05:18.266707",
     "exception": false,
     "start_time": "2025-03-12T15:05:18.255197",
     "status": "completed"
    },
    "tags": []
   },
   "source": [
    "### Additional features\n",
    "\n",
    "Inspired by https://www.kaggle.com/code/josephnehrenz/87-9-logistic-s5e3-rainfall-probability-in-r"
   ]
  },
  {
   "cell_type": "code",
   "execution_count": 14,
   "id": "b505fd1d",
   "metadata": {
    "execution": {
     "iopub.execute_input": "2025-03-12T15:05:18.291398Z",
     "iopub.status.busy": "2025-03-12T15:05:18.290963Z",
     "iopub.status.idle": "2025-03-12T15:05:18.305189Z",
     "shell.execute_reply": "2025-03-12T15:05:18.303774Z"
    },
    "papermill": {
     "duration": 0.029069,
     "end_time": "2025-03-12T15:05:18.307560",
     "exception": false,
     "start_time": "2025-03-12T15:05:18.278491",
     "status": "completed"
    },
    "tags": []
   },
   "outputs": [],
   "source": [
    "from sklearn.base import BaseEstimator, TransformerMixin\n",
    "import numpy as np\n",
    "import pandas as pd\n",
    "\n",
    "class AdditionalFeatureTransformer(BaseEstimator, TransformerMixin):\n",
    "    def __init__(self):\n",
    "        pass\n",
    "\n",
    "    def fit(self, X, y=None):\n",
    "        return self\n",
    "\n",
    "    def transform(self, X):\n",
    "        X_trans = X.copy()\n",
    "        \n",
    "        # ------------------- Sunshine Metrics -------------------\n",
    "        X_trans['relative_sunshine'] = X_trans['sunshine'] / (100 - X_trans['cloud'] + 1)\n",
    "        X_trans['sunshine_ratio'] = X_trans['sunshine'] / (X_trans['cloud'] + X_trans['humidity'] + 1e-5)\n",
    "        X_trans['cloud_sun_ratio'] = X_trans['cloud'] / (X_trans['sunshine'] + 1)\n",
    "        X_trans['sunshine_pct'] = X_trans['sunshine'] / 24.0  # Assuming max sunshine is 24 hours\n",
    "        \n",
    "        # ------------------- Cloud Metrics -------------------\n",
    "        # Compute cloud gradient using shift (lag)\n",
    "        X_trans['cloud_gradient'] = X_trans['cloud'] - X_trans['cloud'].shift(1, fill_value=X_trans['cloud'].iloc[0])\n",
    "        # Categorize cloud values into bins: 0-20, 20-50, 50-80, 80-100\n",
    "        X_trans['cloud_category'] = pd.cut(X_trans['cloud'], bins=[0,20,50,80,100],\n",
    "                                           labels=[0,1,2,3], include_lowest=True).astype(float)\n",
    "        X_trans['sky_opacity'] = X_trans['cloud'] / 100.0\n",
    "        \n",
    "        # ------------------- Temperature Metrics -------------------\n",
    "        X_trans['temp_range'] = X_trans['maxtemp'] - X_trans['mintemp']\n",
    "        X_trans['temp_change'] = X_trans['temparature'] - X_trans['temparature'].shift(1, \n",
    "                                               fill_value=X_trans['temparature'].iloc[0])\n",
    "        # Exponential moving average with span 10\n",
    "        X_trans['temp_ewm'] = X_trans['temparature'].ewm(span=10, adjust=False).mean()\n",
    "        X_trans['temp_humidity_interaction'] = X_trans['temparature'] + 0.2 * X_trans['humidity']\n",
    "        \n",
    "        # ------------------- Pressure Metrics -------------------\n",
    "        # Rolling mean and std (window includes current and 6 previous values => window=7)\n",
    "        X_trans['pressure_rolling_mean'] = X_trans['pressure'].rolling(window=7, min_periods=1).mean()\n",
    "        X_trans['pressure_rolling_std'] = X_trans['pressure'].rolling(window=7, min_periods=1).std()\n",
    "        X_trans['pressure_diff'] = X_trans['pressure'] - X_trans['pressure'].shift(1, \n",
    "                                              fill_value=X_trans['pressure'].iloc[0])\n",
    "        \n",
    "        # ------------------- Humidity Metrics -------------------\n",
    "        X_trans['dewpoint_depression'] = X_trans['temparature'] - X_trans['dewpoint']\n",
    "        X_trans['rh_approx'] = 100 - (5 * X_trans['dewpoint_depression'])\n",
    "        X_trans['humidity_cloud_interaction'] = (X_trans['humidity'] * X_trans['cloud']) / 10000.0\n",
    "        X_trans['inv_humidity_cloud'] = 100 - X_trans['humidity'] - X_trans['cloud']\n",
    "        \n",
    "        # ------------------- Dewpoint Metrics -------------------\n",
    "        X_trans['svp'] = 6.1078 * np.exp((17.27 * X_trans['temparature']) / (X_trans['temparature'] + 237.3))\n",
    "        X_trans['abs_humidity'] = (6.112 * np.exp((17.67 * X_trans['temparature']) / (X_trans['temparature'] + 243.5)) * \n",
    "                                   X_trans['humidity'] * 2.1674) / (273.15 + X_trans['temparature'])\n",
    "        \n",
    "        return X_trans\n"
   ]
  },
  {
   "cell_type": "markdown",
   "id": "a86d53dc",
   "metadata": {
    "papermill": {
     "duration": 0.009335,
     "end_time": "2025-03-12T15:05:18.326514",
     "exception": false,
     "start_time": "2025-03-12T15:05:18.317179",
     "status": "completed"
    },
    "tags": []
   },
   "source": [
    "### Lagging features"
   ]
  },
  {
   "cell_type": "code",
   "execution_count": 15,
   "id": "f6317220",
   "metadata": {
    "execution": {
     "iopub.execute_input": "2025-03-12T15:05:18.350191Z",
     "iopub.status.busy": "2025-03-12T15:05:18.349791Z",
     "iopub.status.idle": "2025-03-12T15:05:18.364296Z",
     "shell.execute_reply": "2025-03-12T15:05:18.362736Z"
    },
    "papermill": {
     "duration": 0.027737,
     "end_time": "2025-03-12T15:05:18.366203",
     "exception": false,
     "start_time": "2025-03-12T15:05:18.338466",
     "status": "completed"
    },
    "tags": []
   },
   "outputs": [],
   "source": [
    "from sklearn.base import BaseEstimator, TransformerMixin\n",
    "import pandas as pd\n",
    "\n",
    "class LagFeatureTransformer(BaseEstimator, TransformerMixin):\n",
    "    def __init__(self, columns=None, n_lags=5):\n",
    "        \"\"\"\n",
    "        Parameters:\n",
    "            columns: list of column names to create lag features for.\n",
    "                     If None, defaults to ['humidity', 'temparature', 'pressure', 'sunshine'].\n",
    "            n_lags: number of previous days (lags) to include.\n",
    "        \"\"\"\n",
    "        self.columns = columns if columns is not None else ['humidity', 'temparature', 'pressure', 'sunshine']\n",
    "        self.n_lags = n_lags\n",
    "        \n",
    "    def fit(self, X, y=None):\n",
    "        return self\n",
    "    \n",
    "    def transform(self, X):\n",
    "        # Create a copy so we don't modify the original DataFrame\n",
    "        X_trans = X.copy()\n",
    "        for col in self.columns:\n",
    "            for lag in range(1, self.n_lags + 1):\n",
    "                # Create a new column for each lag value\n",
    "                X_trans[f\"{col}_lag_{lag}\"] = X_trans[col].shift(lag)\n",
    "        return X_trans\n"
   ]
  },
  {
   "cell_type": "markdown",
   "id": "54e6b9d3",
   "metadata": {
    "papermill": {
     "duration": 0.009695,
     "end_time": "2025-03-12T15:05:18.386344",
     "exception": false,
     "start_time": "2025-03-12T15:05:18.376649",
     "status": "completed"
    },
    "tags": []
   },
   "source": [
    "## Predicting Clusters\n",
    "\n",
    "Thanks to this notebook: https://www.kaggle.com/code/felixleung/looks-like-there-are-3-clusters\n"
   ]
  },
  {
   "cell_type": "code",
   "execution_count": 16,
   "id": "6a0303cb",
   "metadata": {
    "execution": {
     "iopub.execute_input": "2025-03-12T15:05:18.408435Z",
     "iopub.status.busy": "2025-03-12T15:05:18.407970Z",
     "iopub.status.idle": "2025-03-12T15:05:19.279767Z",
     "shell.execute_reply": "2025-03-12T15:05:19.278290Z"
    },
    "papermill": {
     "duration": 0.885722,
     "end_time": "2025-03-12T15:05:19.281987",
     "exception": false,
     "start_time": "2025-03-12T15:05:18.396265",
     "status": "completed"
    },
    "tags": []
   },
   "outputs": [],
   "source": [
    "from sklearn.cluster import KMeans\n",
    "import pandas as pd\n",
    "\n",
    "# Suppose you use the 'day' column (or any set of features) for clustering\n",
    "kmeans = KMeans(n_clusters=3, random_state=42)\n",
    "# Fit on training data\n",
    "train['cluster'] = kmeans.fit_predict(train[['day']])\n",
    "# Predict clusters for test data using the same model\n",
    "test['cluster'] = kmeans.predict(test[['day']])\n",
    "\n",
    "# One-hot encode the cluster labels (optional but recommended)\n",
    "train = pd.get_dummies(train, columns=['cluster'], prefix='cluster')\n",
    "test = pd.get_dummies(test, columns=['cluster'], prefix='cluster')\n"
   ]
  },
  {
   "cell_type": "code",
   "execution_count": 17,
   "id": "bd4daec0",
   "metadata": {
    "execution": {
     "iopub.execute_input": "2025-03-12T15:05:19.306205Z",
     "iopub.status.busy": "2025-03-12T15:05:19.305353Z",
     "iopub.status.idle": "2025-03-12T15:05:19.329435Z",
     "shell.execute_reply": "2025-03-12T15:05:19.328132Z"
    },
    "papermill": {
     "duration": 0.038487,
     "end_time": "2025-03-12T15:05:19.331502",
     "exception": false,
     "start_time": "2025-03-12T15:05:19.293015",
     "status": "completed"
    },
    "tags": []
   },
   "outputs": [
    {
     "data": {
      "text/html": [
       "<div>\n",
       "<style scoped>\n",
       "    .dataframe tbody tr th:only-of-type {\n",
       "        vertical-align: middle;\n",
       "    }\n",
       "\n",
       "    .dataframe tbody tr th {\n",
       "        vertical-align: top;\n",
       "    }\n",
       "\n",
       "    .dataframe thead th {\n",
       "        text-align: right;\n",
       "    }\n",
       "</style>\n",
       "<table border=\"1\" class=\"dataframe\">\n",
       "  <thead>\n",
       "    <tr style=\"text-align: right;\">\n",
       "      <th></th>\n",
       "      <th>id</th>\n",
       "      <th>day</th>\n",
       "      <th>pressure</th>\n",
       "      <th>maxtemp</th>\n",
       "      <th>temparature</th>\n",
       "      <th>mintemp</th>\n",
       "      <th>dewpoint</th>\n",
       "      <th>humidity</th>\n",
       "      <th>cloud</th>\n",
       "      <th>sunshine</th>\n",
       "      <th>winddirection</th>\n",
       "      <th>windspeed</th>\n",
       "      <th>rainfall</th>\n",
       "      <th>cluster_0</th>\n",
       "      <th>cluster_1</th>\n",
       "      <th>cluster_2</th>\n",
       "    </tr>\n",
       "  </thead>\n",
       "  <tbody>\n",
       "    <tr>\n",
       "      <th>0</th>\n",
       "      <td>0</td>\n",
       "      <td>1</td>\n",
       "      <td>1017.4</td>\n",
       "      <td>21.2</td>\n",
       "      <td>20.6</td>\n",
       "      <td>19.9</td>\n",
       "      <td>19.4</td>\n",
       "      <td>87.0</td>\n",
       "      <td>88.0</td>\n",
       "      <td>1.1</td>\n",
       "      <td>60.0</td>\n",
       "      <td>17.2</td>\n",
       "      <td>1</td>\n",
       "      <td>False</td>\n",
       "      <td>True</td>\n",
       "      <td>False</td>\n",
       "    </tr>\n",
       "    <tr>\n",
       "      <th>1</th>\n",
       "      <td>1</td>\n",
       "      <td>2</td>\n",
       "      <td>1019.5</td>\n",
       "      <td>16.2</td>\n",
       "      <td>16.9</td>\n",
       "      <td>15.8</td>\n",
       "      <td>15.4</td>\n",
       "      <td>95.0</td>\n",
       "      <td>91.0</td>\n",
       "      <td>0.0</td>\n",
       "      <td>50.0</td>\n",
       "      <td>21.9</td>\n",
       "      <td>1</td>\n",
       "      <td>False</td>\n",
       "      <td>True</td>\n",
       "      <td>False</td>\n",
       "    </tr>\n",
       "    <tr>\n",
       "      <th>2</th>\n",
       "      <td>2</td>\n",
       "      <td>3</td>\n",
       "      <td>1024.1</td>\n",
       "      <td>19.4</td>\n",
       "      <td>16.1</td>\n",
       "      <td>14.6</td>\n",
       "      <td>9.3</td>\n",
       "      <td>75.0</td>\n",
       "      <td>47.0</td>\n",
       "      <td>8.3</td>\n",
       "      <td>70.0</td>\n",
       "      <td>18.1</td>\n",
       "      <td>1</td>\n",
       "      <td>False</td>\n",
       "      <td>True</td>\n",
       "      <td>False</td>\n",
       "    </tr>\n",
       "    <tr>\n",
       "      <th>3</th>\n",
       "      <td>3</td>\n",
       "      <td>4</td>\n",
       "      <td>1013.4</td>\n",
       "      <td>18.1</td>\n",
       "      <td>17.8</td>\n",
       "      <td>16.9</td>\n",
       "      <td>16.8</td>\n",
       "      <td>95.0</td>\n",
       "      <td>95.0</td>\n",
       "      <td>0.0</td>\n",
       "      <td>60.0</td>\n",
       "      <td>35.6</td>\n",
       "      <td>1</td>\n",
       "      <td>False</td>\n",
       "      <td>True</td>\n",
       "      <td>False</td>\n",
       "    </tr>\n",
       "    <tr>\n",
       "      <th>4</th>\n",
       "      <td>4</td>\n",
       "      <td>5</td>\n",
       "      <td>1021.8</td>\n",
       "      <td>21.3</td>\n",
       "      <td>18.4</td>\n",
       "      <td>15.2</td>\n",
       "      <td>9.6</td>\n",
       "      <td>52.0</td>\n",
       "      <td>45.0</td>\n",
       "      <td>3.6</td>\n",
       "      <td>40.0</td>\n",
       "      <td>24.8</td>\n",
       "      <td>0</td>\n",
       "      <td>False</td>\n",
       "      <td>True</td>\n",
       "      <td>False</td>\n",
       "    </tr>\n",
       "  </tbody>\n",
       "</table>\n",
       "</div>"
      ],
      "text/plain": [
       "   id  day  pressure  maxtemp  temparature  mintemp  dewpoint  humidity  \\\n",
       "0   0    1    1017.4     21.2         20.6     19.9      19.4      87.0   \n",
       "1   1    2    1019.5     16.2         16.9     15.8      15.4      95.0   \n",
       "2   2    3    1024.1     19.4         16.1     14.6       9.3      75.0   \n",
       "3   3    4    1013.4     18.1         17.8     16.9      16.8      95.0   \n",
       "4   4    5    1021.8     21.3         18.4     15.2       9.6      52.0   \n",
       "\n",
       "   cloud  sunshine  winddirection  windspeed  rainfall  cluster_0  cluster_1  \\\n",
       "0   88.0       1.1           60.0       17.2         1      False       True   \n",
       "1   91.0       0.0           50.0       21.9         1      False       True   \n",
       "2   47.0       8.3           70.0       18.1         1      False       True   \n",
       "3   95.0       0.0           60.0       35.6         1      False       True   \n",
       "4   45.0       3.6           40.0       24.8         0      False       True   \n",
       "\n",
       "   cluster_2  \n",
       "0      False  \n",
       "1      False  \n",
       "2      False  \n",
       "3      False  \n",
       "4      False  "
      ]
     },
     "execution_count": 17,
     "metadata": {},
     "output_type": "execute_result"
    }
   ],
   "source": [
    "train.head()"
   ]
  },
  {
   "cell_type": "markdown",
   "id": "4e8299fe",
   "metadata": {
    "papermill": {
     "duration": 0.009876,
     "end_time": "2025-03-12T15:05:19.352181",
     "exception": false,
     "start_time": "2025-03-12T15:05:19.342305",
     "status": "completed"
    },
    "tags": []
   },
   "source": []
  },
  {
   "cell_type": "markdown",
   "id": "6b869f01",
   "metadata": {
    "papermill": {
     "duration": 0.009508,
     "end_time": "2025-03-12T15:05:19.373999",
     "exception": false,
     "start_time": "2025-03-12T15:05:19.364491",
     "status": "completed"
    },
    "tags": []
   },
   "source": [
    "## Prediction using Logistic Regression"
   ]
  },
  {
   "cell_type": "code",
   "execution_count": 18,
   "id": "35403269",
   "metadata": {
    "execution": {
     "iopub.execute_input": "2025-03-12T15:05:19.395081Z",
     "iopub.status.busy": "2025-03-12T15:05:19.394733Z",
     "iopub.status.idle": "2025-03-12T15:05:32.609384Z",
     "shell.execute_reply": "2025-03-12T15:05:32.608048Z"
    },
    "papermill": {
     "duration": 13.227478,
     "end_time": "2025-03-12T15:05:32.611099",
     "exception": false,
     "start_time": "2025-03-12T15:05:19.383621",
     "status": "completed"
    },
    "tags": []
   },
   "outputs": [
    {
     "name": "stdout",
     "output_type": "stream",
     "text": [
      "Repeated CV AUC scores: [0.92774972 0.86108305 0.86551627 0.90802469 0.89253648 0.91147587\n",
      " 0.88801908 0.90123457 0.90252525 0.8624018  0.91719978 0.87648709\n",
      " 0.91083053 0.8483165  0.88518519 0.87076319 0.89169473 0.88176207\n",
      " 0.91835017 0.89464085 0.89960718 0.86130752 0.89225589 0.91066218\n",
      " 0.89219978 0.88439955 0.91122334 0.88229517 0.86029742 0.89497755\n",
      " 0.90608866 0.88933782 0.88728956 0.85165544 0.89276094 0.86279461\n",
      " 0.89817621 0.90476992 0.89556678 0.90162738 0.87682379 0.90056117\n",
      " 0.86933221 0.88790685 0.90996072 0.87645903 0.9120651  0.87676768\n",
      " 0.90258137 0.89845679]\n",
      "Mean AUC: 0.8901200897867563\n"
     ]
    }
   ],
   "source": [
    "from sklearn.model_selection import RepeatedStratifiedKFold, cross_val_score\n",
    "from sklearn.metrics import roc_auc_score, make_scorer\n",
    "from sklearn.linear_model import LogisticRegression\n",
    "from sklearn.pipeline import Pipeline\n",
    "from sklearn.impute import SimpleImputer\n",
    "from sklearn.preprocessing import StandardScaler\n",
    "import numpy as np\n",
    "\n",
    "# Define feature columns\n",
    "features = ['day', 'pressure', 'maxtemp', 'temparature', 'mintemp', \n",
    "            'dewpoint', 'humidity', 'cloud', 'sunshine', 'winddirection', 'windspeed', 'cluster_0', 'cluster_1', 'cluster_2']\n",
    "\n",
    "X = train[features]\n",
    "y = train['rainfall']\n",
    "\n",
    "pipeline = Pipeline(steps=[\n",
    "    ('feature_eng', SeasonMonthTransformer()),\n",
    "    ('additional_fe', AdditionalFeatureTransformer()),\n",
    "    ('lag_features', LagFeatureTransformer(\n",
    "        columns=['humidity', 'temparature', 'pressure', 'sunshine'],\n",
    "        n_lags=5\n",
    "    )),\n",
    "    ('imputer', SimpleImputer(strategy='mean')),\n",
    "    ('scaler', StandardScaler()),\n",
    "    ('clf', LogisticRegression(\n",
    "        penalty='l1',         # L1 (Lasso) regularization\n",
    "        C=1.0,                # adjust for stronger/weaker regularization\n",
    "        max_iter=1000,\n",
    "        solver='liblinear'    # supports L1 penalty\n",
    "    ))\n",
    "])\n",
    "\n",
    "# For evaluation, using repeated stratified 5-fold CV:\n",
    "auc_scorer = make_scorer(roc_auc_score, needs_proba=True)\n",
    "rskf = RepeatedStratifiedKFold(n_splits=5, n_repeats=10, random_state=42)\n",
    "cv_scores = cross_val_score(pipeline, X, y, cv=rskf, scoring=auc_scorer)\n",
    "print(\"Repeated CV AUC scores:\", cv_scores)\n",
    "print(\"Mean AUC:\", np.mean(cv_scores))\n"
   ]
  },
  {
   "cell_type": "code",
   "execution_count": 19,
   "id": "3509198a",
   "metadata": {
    "execution": {
     "iopub.execute_input": "2025-03-12T15:05:32.632040Z",
     "iopub.status.busy": "2025-03-12T15:05:32.631707Z",
     "iopub.status.idle": "2025-03-12T15:05:33.017292Z",
     "shell.execute_reply": "2025-03-12T15:05:33.016122Z"
    },
    "papermill": {
     "duration": 0.398357,
     "end_time": "2025-03-12T15:05:33.019441",
     "exception": false,
     "start_time": "2025-03-12T15:05:32.621084",
     "status": "completed"
    },
    "tags": []
   },
   "outputs": [
    {
     "data": {
      "image/png": "[encoded data removed]",
      "text/plain": [
       "<Figure size 1000x600 with 1 Axes>"
      ]
     },
     "metadata": {},
     "output_type": "display_data"
    }
   ],
   "source": [
    "# Code inspired by https://www.kaggle.com/code/nikita7364777/lb-0-863-stacking-v2\n",
    "import matplotlib.pyplot as plt\n",
    "plt.figure(figsize=(10, 6))\n",
    "plt.plot(range(1, 51), cv_scores, marker='o', linestyle='--', color='b')\n",
    "plt.axhline(y=cv_scores.mean(), color='r', linestyle='-', \n",
    "            label=f'Mean: {cv_scores.mean():.4f}')\n",
    "plt.xlabel('Fold Number', fontsize=12)\n",
    "plt.ylabel('ROC AUC', fontsize=12)\n",
    "plt.title('Cross-validation fold estimates', fontsize=14)\n",
    "plt.xticks(range(1, 6))\n",
    "plt.legend()\n",
    "plt.grid(True, linestyle='--', alpha=0.7)\n",
    "plt.show()"
   ]
  },
  {
   "cell_type": "markdown",
   "id": "49806388",
   "metadata": {
    "papermill": {
     "duration": 0.01224,
     "end_time": "2025-03-12T15:05:33.044105",
     "exception": false,
     "start_time": "2025-03-12T15:05:33.031865",
     "status": "completed"
    },
    "tags": []
   },
   "source": [
    "## Fitting model"
   ]
  },
  {
   "cell_type": "code",
   "execution_count": 20,
   "id": "7aa480a0",
   "metadata": {
    "execution": {
     "iopub.execute_input": "2025-03-12T15:05:33.069820Z",
     "iopub.status.busy": "2025-03-12T15:05:33.069294Z",
     "iopub.status.idle": "2025-03-12T15:05:33.347680Z",
     "shell.execute_reply": "2025-03-12T15:05:33.346291Z"
    },
    "papermill": {
     "duration": 0.293708,
     "end_time": "2025-03-12T15:05:33.349852",
     "exception": false,
     "start_time": "2025-03-12T15:05:33.056144",
     "status": "completed"
    },
    "tags": []
   },
   "outputs": [
    {
     "data": {
      "text/html": [
       "<style>#sk-container-id-1 {color: black;background-color: white;}#sk-container-id-1 pre{padding: 0;}#sk-container-id-1 div.sk-toggleable {background-color: white;}#sk-container-id-1 label.sk-toggleable__label {cursor: pointer;display: block;width: 100%;margin-bottom: 0;padding: 0.3em;box-sizing: border-box;text-align: center;}#sk-container-id-1 label.sk-toggleable__label-arrow:before {content: \"▸\";float: left;margin-right: 0.25em;color: #696969;}#sk-container-id-1 label.sk-toggleable__label-arrow:hover:before {color: black;}#sk-container-id-1 div.sk-estimator:hover label.sk-toggleable__label-arrow:before {color: black;}#sk-container-id-1 div.sk-toggleable__content {max-height: 0;max-width: 0;overflow: hidden;text-align: left;background-color: #f0f8ff;}#sk-container-id-1 div.sk-toggleable__content pre {margin: 0.2em;color: black;border-radius: 0.25em;background-color: #f0f8ff;}#sk-container-id-1 input.sk-toggleable__control:checked~div.sk-toggleable__content {max-height: 200px;max-width: 100%;overflow: auto;}#sk-container-id-1 input.sk-toggleable__control:checked~label.sk-toggleable__label-arrow:before {content: \"▾\";}#sk-container-id-1 div.sk-estimator input.sk-toggleable__control:checked~label.sk-toggleable__label {background-color: #d4ebff;}#sk-container-id-1 div.sk-label input.sk-toggleable__control:checked~label.sk-toggleable__label {background-color: #d4ebff;}#sk-container-id-1 input.sk-hidden--visually {border: 0;clip: rect(1px 1px 1px 1px);clip: rect(1px, 1px, 1px, 1px);height: 1px;margin: -1px;overflow: hidden;padding: 0;position: absolute;width: 1px;}#sk-container-id-1 div.sk-estimator {font-family: monospace;background-color: #f0f8ff;border: 1px dotted black;border-radius: 0.25em;box-sizing: border-box;margin-bottom: 0.5em;}#sk-container-id-1 div.sk-estimator:hover {background-color: #d4ebff;}#sk-container-id-1 div.sk-parallel-item::after {content: \"\";width: 100%;border-bottom: 1px solid gray;flex-grow: 1;}#sk-container-id-1 div.sk-label:hover label.sk-toggleable__label {background-color: #d4ebff;}#sk-container-id-1 div.sk-serial::before {content: \"\";position: absolute;border-left: 1px solid gray;box-sizing: border-box;top: 0;bottom: 0;left: 50%;z-index: 0;}#sk-container-id-1 div.sk-serial {display: flex;flex-direction: column;align-items: center;background-color: white;padding-right: 0.2em;padding-left: 0.2em;position: relative;}#sk-container-id-1 div.sk-item {position: relative;z-index: 1;}#sk-container-id-1 div.sk-parallel {display: flex;align-items: stretch;justify-content: center;background-color: white;position: relative;}#sk-container-id-1 div.sk-item::before, #sk-container-id-1 div.sk-parallel-item::before {content: \"\";position: absolute;border-left: 1px solid gray;box-sizing: border-box;top: 0;bottom: 0;left: 50%;z-index: -1;}#sk-container-id-1 div.sk-parallel-item {display: flex;flex-direction: column;z-index: 1;position: relative;background-color: white;}#sk-container-id-1 div.sk-parallel-item:first-child::after {align-self: flex-end;width: 50%;}#sk-container-id-1 div.sk-parallel-item:last-child::after {align-self: flex-start;width: 50%;}#sk-container-id-1 div.sk-parallel-item:only-child::after {width: 0;}#sk-container-id-1 div.sk-dashed-wrapped {border: 1px dashed gray;margin: 0 0.4em 0.5em 0.4em;box-sizing: border-box;padding-bottom: 0.4em;background-color: white;}#sk-container-id-1 div.sk-label label {font-family: monospace;font-weight: bold;display: inline-block;line-height: 1.2em;}#sk-container-id-1 div.sk-label-container {text-align: center;}#sk-container-id-1 div.sk-container {/* jupyter's `normalize.less` sets `[hidden] { display: none; }` but bootstrap.min.css set `[hidden] { display: none !important; }` so we also need the `!important` here to be able to override the default hidden behavior on the sphinx rendered scikit-learn.org. See: https://github.com/scikit-learn/scikit-learn/issues/21755 */display: inline-block !important;position: relative;}#sk-container-id-1 div.sk-text-repr-fallback {display: none;}</style><div id=\"sk-container-id-1\" class=\"sk-top-container\"><div class=\"sk-text-repr-fallback\"><pre>Pipeline(steps=[(&#x27;feature_eng&#x27;, SeasonMonthTransformer()),\n",
       "                (&#x27;additional_fe&#x27;, AdditionalFeatureTransformer()),\n",
       "                (&#x27;lag_features&#x27;,\n",
       "                 LagFeatureTransformer(columns=[&#x27;humidity&#x27;, &#x27;temparature&#x27;,\n",
       "                                                &#x27;pressure&#x27;, &#x27;sunshine&#x27;])),\n",
       "                (&#x27;imputer&#x27;, SimpleImputer()), (&#x27;scaler&#x27;, StandardScaler()),\n",
       "                (&#x27;clf&#x27;,\n",
       "                 LogisticRegression(max_iter=1000, penalty=&#x27;l1&#x27;,\n",
       "                                    solver=&#x27;liblinear&#x27;))])</pre><b>In a Jupyter environment, please rerun this cell to show the HTML representation or trust the notebook. <br />On GitHub, the HTML representation is unable to render, please try loading this page with nbviewer.org.</b></div><div class=\"sk-container\" hidden><div class=\"sk-item sk-dashed-wrapped\"><div class=\"sk-label-container\"><div class=\"sk-label sk-toggleable\"><input class=\"sk-toggleable__control sk-hidden--visually\" id=\"sk-estimator-id-1\" type=\"checkbox\" ><label for=\"sk-estimator-id-1\" class=\"sk-toggleable__label sk-toggleable__label-arrow\">Pipeline</label><div class=\"sk-toggleable__content\"><pre>Pipeline(steps=[(&#x27;feature_eng&#x27;, SeasonMonthTransformer()),\n",
       "                (&#x27;additional_fe&#x27;, AdditionalFeatureTransformer()),\n",
       "                (&#x27;lag_features&#x27;,\n",
       "                 LagFeatureTransformer(columns=[&#x27;humidity&#x27;, &#x27;temparature&#x27;,\n",
       "                                                &#x27;pressure&#x27;, &#x27;sunshine&#x27;])),\n",
       "                (&#x27;imputer&#x27;, SimpleImputer()), (&#x27;scaler&#x27;, StandardScaler()),\n",
       "                (&#x27;clf&#x27;,\n",
       "                 LogisticRegression(max_iter=1000, penalty=&#x27;l1&#x27;,\n",
       "                                    solver=&#x27;liblinear&#x27;))])</pre></div></div></div><div class=\"sk-serial\"><div class=\"sk-item\"><div class=\"sk-estimator sk-toggleable\"><input class=\"sk-toggleable__control sk-hidden--visually\" id=\"sk-estimator-id-2\" type=\"checkbox\" ><label for=\"sk-estimator-id-2\" class=\"sk-toggleable__label sk-toggleable__label-arrow\">SeasonMonthTransformer</label><div class=\"sk-toggleable__content\"><pre>SeasonMonthTransformer()</pre></div></div></div><div class=\"sk-item\"><div class=\"sk-estimator sk-toggleable\"><input class=\"sk-toggleable__control sk-hidden--visually\" id=\"sk-estimator-id-3\" type=\"checkbox\" ><label for=\"sk-estimator-id-3\" class=\"sk-toggleable__label sk-toggleable__label-arrow\">AdditionalFeatureTransformer</label><div class=\"sk-toggleable__content\"><pre>AdditionalFeatureTransformer()</pre></div></div></div><div class=\"sk-item\"><div class=\"sk-estimator sk-toggleable\"><input class=\"sk-toggleable__control sk-hidden--visually\" id=\"sk-estimator-id-4\" type=\"checkbox\" ><label for=\"sk-estimator-id-4\" class=\"sk-toggleable__label sk-toggleable__label-arrow\">LagFeatureTransformer</label><div class=\"sk-toggleable__content\"><pre>LagFeatureTransformer(columns=[&#x27;humidity&#x27;, &#x27;temparature&#x27;, &#x27;pressure&#x27;,\n",
       "                               &#x27;sunshine&#x27;])</pre></div></div></div><div class=\"sk-item\"><div class=\"sk-estimator sk-toggleable\"><input class=\"sk-toggleable__control sk-hidden--visually\" id=\"sk-estimator-id-5\" type=\"checkbox\" ><label for=\"sk-estimator-id-5\" class=\"sk-toggleable__label sk-toggleable__label-arrow\">SimpleImputer</label><div class=\"sk-toggleable__content\"><pre>SimpleImputer()</pre></div></div></div><div class=\"sk-item\"><div class=\"sk-estimator sk-toggleable\"><input class=\"sk-toggleable__control sk-hidden--visually\" id=\"sk-estimator-id-6\" type=\"checkbox\" ><label for=\"sk-estimator-id-6\" class=\"sk-toggleable__label sk-toggleable__label-arrow\">StandardScaler</label><div class=\"sk-toggleable__content\"><pre>StandardScaler()</pre></div></div></div><div class=\"sk-item\"><div class=\"sk-estimator sk-toggleable\"><input class=\"sk-toggleable__control sk-hidden--visually\" id=\"sk-estimator-id-7\" type=\"checkbox\" ><label for=\"sk-estimator-id-7\" class=\"sk-toggleable__label sk-toggleable__label-arrow\">LogisticRegression</label><div class=\"sk-toggleable__content\"><pre>LogisticRegression(max_iter=1000, penalty=&#x27;l1&#x27;, solver=&#x27;liblinear&#x27;)</pre></div></div></div></div></div></div></div>"
      ],
      "text/plain": [
       "Pipeline(steps=[('feature_eng', SeasonMonthTransformer()),\n",
       "                ('additional_fe', AdditionalFeatureTransformer()),\n",
       "                ('lag_features',\n",
       "                 LagFeatureTransformer(columns=['humidity', 'temparature',\n",
       "                                                'pressure', 'sunshine'])),\n",
       "                ('imputer', SimpleImputer()), ('scaler', StandardScaler()),\n",
       "                ('clf',\n",
       "                 LogisticRegression(max_iter=1000, penalty='l1',\n",
       "                                    solver='liblinear'))])"
      ]
     },
     "execution_count": 20,
     "metadata": {},
     "output_type": "execute_result"
    }
   ],
   "source": [
    "# Refit on the full training set to ensure coefficients are available\n",
    "pipeline.fit(X, y)\n"
   ]
  },
  {
   "cell_type": "markdown",
   "id": "2b1b0966",
   "metadata": {
    "papermill": {
     "duration": 0.011719,
     "end_time": "2025-03-12T15:05:33.374295",
     "exception": false,
     "start_time": "2025-03-12T15:05:33.362576",
     "status": "completed"
    },
    "tags": []
   },
   "source": [
    "## Visualizing Feature Importance"
   ]
  },
  {
   "cell_type": "code",
   "execution_count": 21,
   "id": "4e74184e",
   "metadata": {
    "execution": {
     "iopub.execute_input": "2025-03-12T15:05:33.400004Z",
     "iopub.status.busy": "2025-03-12T15:05:33.399657Z",
     "iopub.status.idle": "2025-03-12T15:05:34.134792Z",
     "shell.execute_reply": "2025-03-12T15:05:34.133311Z"
    },
    "papermill": {
     "duration": 0.751545,
     "end_time": "2025-03-12T15:05:34.137910",
     "exception": false,
     "start_time": "2025-03-12T15:05:33.386365",
     "status": "completed"
    },
    "tags": []
   },
   "outputs": [
    {
     "data": {
      "image/png": "[encoded data removed]",
      "text/plain": [
       "<Figure size 1000x800 with 1 Axes>"
      ]
     },
     "metadata": {},
     "output_type": "display_data"
    }
   ],
   "source": [
    "import numpy as np\n",
    "import pandas as pd\n",
    "import matplotlib.pyplot as plt\n",
    "\n",
    "\n",
    "# Manually apply the feature engineering steps (skipping the imputer) to get the final feature names\n",
    "X_season = pipeline.named_steps['feature_eng'].transform(X)\n",
    "X_transformed = pipeline.named_steps['additional_fe'].transform(X_season)\n",
    "X_transformed = pipeline.named_steps['lag_features'].transform(X_transformed)\n",
    "\n",
    "feature_names = X_transformed.columns\n",
    "\n",
    "# Extract coefficients from the logistic regression classifier\n",
    "coefficients = pipeline.named_steps['clf'].coef_[0]\n",
    "\n",
    "# Create a DataFrame to hold feature names and coefficients\n",
    "feat_importance = pd.DataFrame({\n",
    "    'feature': feature_names,\n",
    "    'coefficient': coefficients\n",
    "})\n",
    "feat_importance['abs_coefficient'] = feat_importance['coefficient'].abs()\n",
    "feat_importance = feat_importance.sort_values('abs_coefficient', ascending=True)\n",
    "\n",
    "# Plot feature importance as a horizontal bar chart\n",
    "plt.figure(figsize=(10, 8))\n",
    "plt.barh(feat_importance['feature'], feat_importance['coefficient'])\n",
    "plt.xlabel(\"Coefficient Value\")\n",
    "plt.title(\"Feature Importance from Logistic Regression\")\n",
    "plt.show()\n"
   ]
  },
  {
   "cell_type": "markdown",
   "id": "c87b722c",
   "metadata": {
    "papermill": {
     "duration": 0.015121,
     "end_time": "2025-03-12T15:05:34.168653",
     "exception": false,
     "start_time": "2025-03-12T15:05:34.153532",
     "status": "completed"
    },
    "tags": []
   },
   "source": [
    "## Trying XGBoost and LightGBM"
   ]
  },
  {
   "cell_type": "code",
   "execution_count": 22,
   "id": "5b18397c",
   "metadata": {
    "execution": {
     "iopub.execute_input": "2025-03-12T15:05:34.201171Z",
     "iopub.status.busy": "2025-03-12T15:05:34.200777Z",
     "iopub.status.idle": "2025-03-12T15:05:34.551963Z",
     "shell.execute_reply": "2025-03-12T15:05:34.550857Z"
    },
    "papermill": {
     "duration": 0.37005,
     "end_time": "2025-03-12T15:05:34.553945",
     "exception": false,
     "start_time": "2025-03-12T15:05:34.183895",
     "status": "completed"
    },
    "tags": []
   },
   "outputs": [],
   "source": [
    "from xgboost import XGBClassifier\n",
    "from sklearn.pipeline import Pipeline\n",
    "from sklearn.impute import SimpleImputer\n",
    "from sklearn.preprocessing import StandardScaler\n",
    "\n",
    "pipeline_xgb = Pipeline(steps=[\n",
    "    ('feature_eng', SeasonMonthTransformer()),\n",
    "    ('additional_fe', AdditionalFeatureTransformer()),\n",
    "    ('lag_features', LagFeatureTransformer(columns=['humidity', 'temparature', 'pressure', 'sunshine'], n_lags=5)),\n",
    "    ('imputer', SimpleImputer(strategy='mean')),\n",
    "    ('scaler', StandardScaler()),  # You might not need scaling for tree-based models, but it's here for consistency.\n",
    "    ('clf', XGBClassifier(\n",
    "        n_estimators=100,\n",
    "        learning_rate=0.1,\n",
    "        max_depth=3,\n",
    "        random_state=42,\n",
    "        use_label_encoder=False,    # Disable label encoder to avoid warnings\n",
    "        eval_metric='auc'           # Set evaluation metric to AUC\n",
    "    ))\n",
    "])\n"
   ]
  },
  {
   "cell_type": "code",
   "execution_count": 23,
   "id": "0fdac5f3",
   "metadata": {
    "execution": {
     "iopub.execute_input": "2025-03-12T15:05:34.589092Z",
     "iopub.status.busy": "2025-03-12T15:05:34.588733Z",
     "iopub.status.idle": "2025-03-12T15:05:38.029926Z",
     "shell.execute_reply": "2025-03-12T15:05:38.028697Z"
    },
    "papermill": {
     "duration": 3.462805,
     "end_time": "2025-03-12T15:05:38.032139",
     "exception": false,
     "start_time": "2025-03-12T15:05:34.569334",
     "status": "completed"
    },
    "tags": []
   },
   "outputs": [],
   "source": [
    "from lightgbm import LGBMClassifier\n",
    "\n",
    "pipeline_lgb = Pipeline(steps=[\n",
    "    ('feature_eng', SeasonMonthTransformer()),\n",
    "    ('additional_fe', AdditionalFeatureTransformer()),\n",
    "    ('lag_features', LagFeatureTransformer(columns=['humidity', 'temparature', 'pressure', 'sunshine'], n_lags=5)),\n",
    "    ('imputer', SimpleImputer(strategy='mean')),\n",
    "    ('scaler', StandardScaler()),\n",
    "    ('clf', LGBMClassifier(\n",
    "        n_estimators=100,\n",
    "        learning_rate=0.1,\n",
    "        max_depth=3,\n",
    "        random_state=42,\n",
    "        verbose=-1  # This will suppress the warnings\n",
    "    ))\n",
    "])\n"
   ]
  },
  {
   "cell_type": "code",
   "execution_count": 24,
   "id": "042755e9",
   "metadata": {
    "execution": {
     "iopub.execute_input": "2025-03-12T15:05:38.068119Z",
     "iopub.status.busy": "2025-03-12T15:05:38.067406Z",
     "iopub.status.idle": "2025-03-12T15:06:00.569913Z",
     "shell.execute_reply": "2025-03-12T15:06:00.568168Z"
    },
    "papermill": {
     "duration": 22.523441,
     "end_time": "2025-03-12T15:06:00.572051",
     "exception": false,
     "start_time": "2025-03-12T15:05:38.048610",
     "status": "completed"
    },
    "tags": []
   },
   "outputs": [
    {
     "name": "stdout",
     "output_type": "stream",
     "text": [
      "XGBoost Repeated CV AUC: 0.8822042648709314\n",
      "LightGBM Repeated CV AUC: 0.8813625140291805\n"
     ]
    }
   ],
   "source": [
    "from sklearn.model_selection import RepeatedStratifiedKFold, cross_val_score\n",
    "from sklearn.metrics import roc_auc_score, make_scorer\n",
    "import numpy as np\n",
    "\n",
    "auc_scorer = make_scorer(roc_auc_score, needs_proba=True)\n",
    "rskf = RepeatedStratifiedKFold(n_splits=5, n_repeats=10, random_state=42)\n",
    "\n",
    "# Evaluate XGBoost pipeline\n",
    "cv_scores_xgb = cross_val_score(pipeline_xgb, X, y, cv=rskf, scoring=auc_scorer)\n",
    "print(\"XGBoost Repeated CV AUC:\", np.mean(cv_scores_xgb))\n",
    "\n",
    "# Evaluate LightGBM pipeline\n",
    "cv_scores_lgb = cross_val_score(pipeline_lgb, X, y, cv=rskf, scoring=auc_scorer)\n",
    "print(\"LightGBM Repeated CV AUC:\", np.mean(cv_scores_lgb))\n"
   ]
  },
  {
   "cell_type": "markdown",
   "id": "de57195a",
   "metadata": {
    "papermill": {
     "duration": 0.015755,
     "end_time": "2025-03-12T15:06:00.603172",
     "exception": false,
     "start_time": "2025-03-12T15:06:00.587417",
     "status": "completed"
    },
    "tags": []
   },
   "source": [
    "## Creating Submission file"
   ]
  },
  {
   "cell_type": "code",
   "execution_count": 25,
   "id": "1dd448a3",
   "metadata": {
    "execution": {
     "iopub.execute_input": "2025-03-12T15:06:00.635548Z",
     "iopub.status.busy": "2025-03-12T15:06:00.635141Z",
     "iopub.status.idle": "2025-03-12T15:06:00.661230Z",
     "shell.execute_reply": "2025-03-12T15:06:00.660040Z"
    },
    "papermill": {
     "duration": 0.044204,
     "end_time": "2025-03-12T15:06:00.663018",
     "exception": false,
     "start_time": "2025-03-12T15:06:00.618814",
     "status": "completed"
    },
    "tags": []
   },
   "outputs": [
    {
     "data": {
      "text/html": [
       "<div>\n",
       "<style scoped>\n",
       "    .dataframe tbody tr th:only-of-type {\n",
       "        vertical-align: middle;\n",
       "    }\n",
       "\n",
       "    .dataframe tbody tr th {\n",
       "        vertical-align: top;\n",
       "    }\n",
       "\n",
       "    .dataframe thead th {\n",
       "        text-align: right;\n",
       "    }\n",
       "</style>\n",
       "<table border=\"1\" class=\"dataframe\">\n",
       "  <thead>\n",
       "    <tr style=\"text-align: right;\">\n",
       "      <th></th>\n",
       "      <th>day</th>\n",
       "      <th>pressure</th>\n",
       "      <th>maxtemp</th>\n",
       "      <th>temparature</th>\n",
       "      <th>mintemp</th>\n",
       "      <th>dewpoint</th>\n",
       "      <th>humidity</th>\n",
       "      <th>cloud</th>\n",
       "      <th>sunshine</th>\n",
       "      <th>winddirection</th>\n",
       "      <th>windspeed</th>\n",
       "      <th>cluster_0</th>\n",
       "      <th>cluster_1</th>\n",
       "      <th>cluster_2</th>\n",
       "    </tr>\n",
       "  </thead>\n",
       "  <tbody>\n",
       "    <tr>\n",
       "      <th>0</th>\n",
       "      <td>1</td>\n",
       "      <td>1019.5</td>\n",
       "      <td>17.5</td>\n",
       "      <td>15.8</td>\n",
       "      <td>12.7</td>\n",
       "      <td>14.9</td>\n",
       "      <td>96.0</td>\n",
       "      <td>99.0</td>\n",
       "      <td>0.0</td>\n",
       "      <td>50.0</td>\n",
       "      <td>24.3</td>\n",
       "      <td>False</td>\n",
       "      <td>True</td>\n",
       "      <td>False</td>\n",
       "    </tr>\n",
       "    <tr>\n",
       "      <th>1</th>\n",
       "      <td>2</td>\n",
       "      <td>1016.5</td>\n",
       "      <td>17.5</td>\n",
       "      <td>16.5</td>\n",
       "      <td>15.8</td>\n",
       "      <td>15.1</td>\n",
       "      <td>97.0</td>\n",
       "      <td>99.0</td>\n",
       "      <td>0.0</td>\n",
       "      <td>50.0</td>\n",
       "      <td>35.3</td>\n",
       "      <td>False</td>\n",
       "      <td>True</td>\n",
       "      <td>False</td>\n",
       "    </tr>\n",
       "    <tr>\n",
       "      <th>2</th>\n",
       "      <td>3</td>\n",
       "      <td>1023.9</td>\n",
       "      <td>11.2</td>\n",
       "      <td>10.4</td>\n",
       "      <td>9.4</td>\n",
       "      <td>8.9</td>\n",
       "      <td>86.0</td>\n",
       "      <td>96.0</td>\n",
       "      <td>0.0</td>\n",
       "      <td>40.0</td>\n",
       "      <td>16.9</td>\n",
       "      <td>False</td>\n",
       "      <td>True</td>\n",
       "      <td>False</td>\n",
       "    </tr>\n",
       "    <tr>\n",
       "      <th>3</th>\n",
       "      <td>4</td>\n",
       "      <td>1022.9</td>\n",
       "      <td>20.6</td>\n",
       "      <td>17.3</td>\n",
       "      <td>15.2</td>\n",
       "      <td>9.5</td>\n",
       "      <td>75.0</td>\n",
       "      <td>45.0</td>\n",
       "      <td>7.1</td>\n",
       "      <td>20.0</td>\n",
       "      <td>50.6</td>\n",
       "      <td>False</td>\n",
       "      <td>True</td>\n",
       "      <td>False</td>\n",
       "    </tr>\n",
       "    <tr>\n",
       "      <th>4</th>\n",
       "      <td>5</td>\n",
       "      <td>1022.2</td>\n",
       "      <td>16.1</td>\n",
       "      <td>13.8</td>\n",
       "      <td>6.4</td>\n",
       "      <td>4.3</td>\n",
       "      <td>68.0</td>\n",
       "      <td>49.0</td>\n",
       "      <td>9.2</td>\n",
       "      <td>20.0</td>\n",
       "      <td>19.4</td>\n",
       "      <td>False</td>\n",
       "      <td>True</td>\n",
       "      <td>False</td>\n",
       "    </tr>\n",
       "    <tr>\n",
       "      <th>...</th>\n",
       "      <td>...</td>\n",
       "      <td>...</td>\n",
       "      <td>...</td>\n",
       "      <td>...</td>\n",
       "      <td>...</td>\n",
       "      <td>...</td>\n",
       "      <td>...</td>\n",
       "      <td>...</td>\n",
       "      <td>...</td>\n",
       "      <td>...</td>\n",
       "      <td>...</td>\n",
       "      <td>...</td>\n",
       "      <td>...</td>\n",
       "      <td>...</td>\n",
       "    </tr>\n",
       "    <tr>\n",
       "      <th>725</th>\n",
       "      <td>361</td>\n",
       "      <td>1020.8</td>\n",
       "      <td>18.2</td>\n",
       "      <td>17.6</td>\n",
       "      <td>16.1</td>\n",
       "      <td>13.7</td>\n",
       "      <td>96.0</td>\n",
       "      <td>95.0</td>\n",
       "      <td>0.0</td>\n",
       "      <td>20.0</td>\n",
       "      <td>34.3</td>\n",
       "      <td>True</td>\n",
       "      <td>False</td>\n",
       "      <td>False</td>\n",
       "    </tr>\n",
       "    <tr>\n",
       "      <th>726</th>\n",
       "      <td>362</td>\n",
       "      <td>1011.7</td>\n",
       "      <td>23.2</td>\n",
       "      <td>18.1</td>\n",
       "      <td>16.0</td>\n",
       "      <td>16.0</td>\n",
       "      <td>78.0</td>\n",
       "      <td>80.0</td>\n",
       "      <td>1.6</td>\n",
       "      <td>40.0</td>\n",
       "      <td>25.2</td>\n",
       "      <td>True</td>\n",
       "      <td>False</td>\n",
       "      <td>False</td>\n",
       "    </tr>\n",
       "    <tr>\n",
       "      <th>727</th>\n",
       "      <td>363</td>\n",
       "      <td>1022.7</td>\n",
       "      <td>21.0</td>\n",
       "      <td>18.5</td>\n",
       "      <td>17.0</td>\n",
       "      <td>15.5</td>\n",
       "      <td>92.0</td>\n",
       "      <td>96.0</td>\n",
       "      <td>0.0</td>\n",
       "      <td>50.0</td>\n",
       "      <td>21.9</td>\n",
       "      <td>True</td>\n",
       "      <td>False</td>\n",
       "      <td>False</td>\n",
       "    </tr>\n",
       "    <tr>\n",
       "      <th>728</th>\n",
       "      <td>364</td>\n",
       "      <td>1014.4</td>\n",
       "      <td>21.0</td>\n",
       "      <td>20.0</td>\n",
       "      <td>19.7</td>\n",
       "      <td>19.8</td>\n",
       "      <td>94.0</td>\n",
       "      <td>93.0</td>\n",
       "      <td>0.0</td>\n",
       "      <td>50.0</td>\n",
       "      <td>39.5</td>\n",
       "      <td>True</td>\n",
       "      <td>False</td>\n",
       "      <td>False</td>\n",
       "    </tr>\n",
       "    <tr>\n",
       "      <th>729</th>\n",
       "      <td>365</td>\n",
       "      <td>1020.9</td>\n",
       "      <td>22.2</td>\n",
       "      <td>18.8</td>\n",
       "      <td>17.0</td>\n",
       "      <td>13.3</td>\n",
       "      <td>79.0</td>\n",
       "      <td>89.0</td>\n",
       "      <td>0.2</td>\n",
       "      <td>60.0</td>\n",
       "      <td>50.6</td>\n",
       "      <td>True</td>\n",
       "      <td>False</td>\n",
       "      <td>False</td>\n",
       "    </tr>\n",
       "  </tbody>\n",
       "</table>\n",
       "<p>730 rows × 14 columns</p>\n",
       "</div>"
      ],
      "text/plain": [
       "     day  pressure  maxtemp  temparature  mintemp  dewpoint  humidity  cloud  \\\n",
       "0      1    1019.5     17.5         15.8     12.7      14.9      96.0   99.0   \n",
       "1      2    1016.5     17.5         16.5     15.8      15.1      97.0   99.0   \n",
       "2      3    1023.9     11.2         10.4      9.4       8.9      86.0   96.0   \n",
       "3      4    1022.9     20.6         17.3     15.2       9.5      75.0   45.0   \n",
       "4      5    1022.2     16.1         13.8      6.4       4.3      68.0   49.0   \n",
       "..   ...       ...      ...          ...      ...       ...       ...    ...   \n",
       "725  361    1020.8     18.2         17.6     16.1      13.7      96.0   95.0   \n",
       "726  362    1011.7     23.2         18.1     16.0      16.0      78.0   80.0   \n",
       "727  363    1022.7     21.0         18.5     17.0      15.5      92.0   96.0   \n",
       "728  364    1014.4     21.0         20.0     19.7      19.8      94.0   93.0   \n",
       "729  365    1020.9     22.2         18.8     17.0      13.3      79.0   89.0   \n",
       "\n",
       "     sunshine  winddirection  windspeed  cluster_0  cluster_1  cluster_2  \n",
       "0         0.0           50.0       24.3      False       True      False  \n",
       "1         0.0           50.0       35.3      False       True      False  \n",
       "2         0.0           40.0       16.9      False       True      False  \n",
       "3         7.1           20.0       50.6      False       True      False  \n",
       "4         9.2           20.0       19.4      False       True      False  \n",
       "..        ...            ...        ...        ...        ...        ...  \n",
       "725       0.0           20.0       34.3       True      False      False  \n",
       "726       1.6           40.0       25.2       True      False      False  \n",
       "727       0.0           50.0       21.9       True      False      False  \n",
       "728       0.0           50.0       39.5       True      False      False  \n",
       "729       0.2           60.0       50.6       True      False      False  \n",
       "\n",
       "[730 rows x 14 columns]"
      ]
     },
     "execution_count": 25,
     "metadata": {},
     "output_type": "execute_result"
    }
   ],
   "source": [
    "X_test = test[features]\n",
    "X_test"
   ]
  },
  {
   "cell_type": "code",
   "execution_count": 26,
   "id": "b753efbc",
   "metadata": {
    "execution": {
     "iopub.execute_input": "2025-03-12T15:06:00.695936Z",
     "iopub.status.busy": "2025-03-12T15:06:00.695591Z",
     "iopub.status.idle": "2025-03-12T15:06:00.891637Z",
     "shell.execute_reply": "2025-03-12T15:06:00.890475Z"
    },
    "papermill": {
     "duration": 0.21514,
     "end_time": "2025-03-12T15:06:00.893720",
     "exception": false,
     "start_time": "2025-03-12T15:06:00.678580",
     "status": "completed"
    },
    "tags": []
   },
   "outputs": [],
   "source": [
    "pipeline_lgb.fit(X,y)\n",
    "# Predict probabilities on the test set\n",
    "test_preds = pipeline_lgb.predict_proba(X_test)[:, 1]\n",
    "\n",
    "# Create the submission DataFrame\n",
    "submission = pd.DataFrame({\n",
    "    'id': test['id'],\n",
    "    'rainfall': test_preds\n",
    "})\n",
    "\n",
    "# Save the submission file\n",
    "submission.to_csv('submission.csv', index=False)\n"
   ]
  },
  {
   "cell_type": "code",
   "execution_count": 27,
   "id": "0db90266",
   "metadata": {
    "execution": {
     "iopub.execute_input": "2025-03-12T15:06:00.927779Z",
     "iopub.status.busy": "2025-03-12T15:06:00.927425Z",
     "iopub.status.idle": "2025-03-12T15:06:00.933845Z",
     "shell.execute_reply": "2025-03-12T15:06:00.932746Z"
    },
    "papermill": {
     "duration": 0.026277,
     "end_time": "2025-03-12T15:06:00.936043",
     "exception": false,
     "start_time": "2025-03-12T15:06:00.909766",
     "status": "completed"
    },
    "tags": []
   },
   "outputs": [
    {
     "data": {
      "text/plain": [
       "array([0.9953121 , 0.99721708, 0.98313433, 0.06787462, 0.04611564,\n",
       "       0.95523347, 0.97334409, 0.97341542, 0.98437   , 0.90466499])"
      ]
     },
     "execution_count": 27,
     "metadata": {},
     "output_type": "execute_result"
    }
   ],
   "source": [
    "test_preds[0:10]"
   ]
  },
  {
   "cell_type": "code",
   "execution_count": 28,
   "id": "4f86b730",
   "metadata": {
    "execution": {
     "iopub.execute_input": "2025-03-12T15:06:00.970520Z",
     "iopub.status.busy": "2025-03-12T15:06:00.970033Z",
     "iopub.status.idle": "2025-03-12T15:06:00.980551Z",
     "shell.execute_reply": "2025-03-12T15:06:00.979230Z"
    },
    "papermill": {
     "duration": 0.030312,
     "end_time": "2025-03-12T15:06:00.982510",
     "exception": false,
     "start_time": "2025-03-12T15:06:00.952198",
     "status": "completed"
    },
    "tags": []
   },
   "outputs": [
    {
     "data": {
      "text/html": [
       "<div>\n",
       "<style scoped>\n",
       "    .dataframe tbody tr th:only-of-type {\n",
       "        vertical-align: middle;\n",
       "    }\n",
       "\n",
       "    .dataframe tbody tr th {\n",
       "        vertical-align: top;\n",
       "    }\n",
       "\n",
       "    .dataframe thead th {\n",
       "        text-align: right;\n",
       "    }\n",
       "</style>\n",
       "<table border=\"1\" class=\"dataframe\">\n",
       "  <thead>\n",
       "    <tr style=\"text-align: right;\">\n",
       "      <th></th>\n",
       "      <th>id</th>\n",
       "      <th>rainfall</th>\n",
       "    </tr>\n",
       "  </thead>\n",
       "  <tbody>\n",
       "    <tr>\n",
       "      <th>0</th>\n",
       "      <td>2190</td>\n",
       "      <td>0.995312</td>\n",
       "    </tr>\n",
       "    <tr>\n",
       "      <th>1</th>\n",
       "      <td>2191</td>\n",
       "      <td>0.997217</td>\n",
       "    </tr>\n",
       "    <tr>\n",
       "      <th>2</th>\n",
       "      <td>2192</td>\n",
       "      <td>0.983134</td>\n",
       "    </tr>\n",
       "    <tr>\n",
       "      <th>3</th>\n",
       "      <td>2193</td>\n",
       "      <td>0.067875</td>\n",
       "    </tr>\n",
       "    <tr>\n",
       "      <th>4</th>\n",
       "      <td>2194</td>\n",
       "      <td>0.046116</td>\n",
       "    </tr>\n",
       "  </tbody>\n",
       "</table>\n",
       "</div>"
      ],
      "text/plain": [
       "     id  rainfall\n",
       "0  2190  0.995312\n",
       "1  2191  0.997217\n",
       "2  2192  0.983134\n",
       "3  2193  0.067875\n",
       "4  2194  0.046116"
      ]
     },
     "execution_count": 28,
     "metadata": {},
     "output_type": "execute_result"
    }
   ],
   "source": [
    "submission.head()"
   ]
  }
 ],
 "metadata": {
  "kaggle": {
   "accelerator": "none",
   "dataSources": [
    {
     "databundleVersionId": 11251744,
     "sourceId": 91714,
     "sourceType": "competition"
    }
   ],
   "dockerImageVersionId": 30918,
   "isGpuEnabled": false,
   "isInternetEnabled": true,
   "language": "python",
   "sourceType": "notebook"
  },
  "kernelspec": {
   "display_name": "Python 3",
   "language": "python",
   "name": "python3"
  },
  "language_info": {
   "codemirror_mode": {
    "name": "ipython",
    "version": 3
   },
   "file_extension": ".py",
   "mimetype": "text/x-python",
   "name": "python",
   "nbconvert_exporter": "python",
   "pygments_lexer": "ipython3",
   "version": "3.10.12"
  },
  "papermill": {
   "default_parameters": {},
   "duration": 51.151344,
   "end_time": "2025-03-12T15:06:02.021004",
   "environment_variables": {},
   "exception": null,
   "input_path": "__notebook__.ipynb",
   "output_path": "__notebook__.ipynb",
   "parameters": {},
   "start_time": "2025-03-12T15:05:10.869660",
   "version": "2.6.0"
  }
 },
 "nbformat": 4,
 "nbformat_minor": 5
}
