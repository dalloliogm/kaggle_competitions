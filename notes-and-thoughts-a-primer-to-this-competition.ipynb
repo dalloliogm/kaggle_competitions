{
 "cells": [
  {
   "cell_type": "markdown",
   "id": "c8bd040d",
   "metadata": {
    "papermill": {
     "duration": 0.002364,
     "end_time": "2025-03-26T22:31:21.636988",
     "exception": false,
     "start_time": "2025-03-26T22:31:21.634624",
     "status": "completed"
    },
    "tags": []
   },
   "source": [
    "# Notes and Thoughts - a primer to this competition"
   ]
  },
  {
   "cell_type": "markdown",
   "id": "6571ed2b",
   "metadata": {
    "_cell_guid": "b1076dfc-b9ad-4769-8c92-a6c4dae69d19",
    "_uuid": "8f2839f25d086af736a60e9eeb907d3b93b6e0e5",
    "papermill": {
     "duration": 0.001714,
     "end_time": "2025-03-26T22:31:21.640817",
     "exception": false,
     "start_time": "2025-03-26T22:31:21.639103",
     "status": "completed"
    },
    "tags": []
   },
   "source": [
    "This post contains my notes and comments about this competition. It can be a good starting point for anyone joining the competition. There is not going to be a lot of code - just notes. Any comment and suggestion is welcome ;-)\n",
    "\n"
   ]
  },
  {
   "cell_type": "markdown",
   "id": "f1d2526e",
   "metadata": {
    "papermill": {
     "duration": 0.001458,
     "end_time": "2025-03-26T22:31:21.644021",
     "exception": false,
     "start_time": "2025-03-26T22:31:21.642563",
     "status": "completed"
    },
    "tags": []
   },
   "source": [
    "## What do we need to predict?\n",
    "\n",
    "This image shows the slice of tissue for sample S_7. The image is divided into spots - the yellow and purple dots you see represented on top of it. The purple spots are the ones used to compute the Leaderboard scores - the one we get when doing a submission. The yellow spots will be used to compute the final score, when the challenge is ended, and it will be used to award the winners.\n",
    "\n",
    "For each of these spots, we need to predict the composition of cell types. There are 35 possible cell types, identified by the variables C1 to C35. We do not know the identity of these cell types, although we may attempt to infer them. The objective of the competition is to predict the relative abundance of each cell type. Since the score is computed using a Spearman correlation, we actually need to worry about the rank of abundance per cell type -the actual number is not important.\n",
    "\n",
    "The image is the only data made available for this competition. There is no gene expression, antibody labelling, or anything else. The training set is also very limited, as it includes only 6 slices.\n",
    "\n",
    "![https://www.kaggle.com/code/dalloliogm/eda-plotting-cell-distribution-by-slice](https://www.googleapis.com/download/storage/v1/b/kaggle-forum-message-attachments/o/inbox%2F650%2F8cf715ca7ea2e742aed67243fddabbd8%2F__results___16_1.png?generation=1743026267320565&alt=media) "
   ]
  },
  {
   "cell_type": "markdown",
   "id": "534ca5d4",
   "metadata": {
    "papermill": {
     "duration": 0.001488,
     "end_time": "2025-03-26T22:31:21.647186",
     "exception": false,
     "start_time": "2025-03-26T22:31:21.645698",
     "status": "completed"
    },
    "tags": []
   },
   "source": [
    "## How heterogeneous are the 35 cell types?\n",
    "\n",
    "My first thought, after reading this competition, was that this is impossible. There is no gene expression data available, nor anything else, apart from the image of the slice. A specialized pathologist, with years of experience, may be able to look at one of these slides and identifies the tissue, and some of the cell types. Yet, here we have to identify 35 different cell types! And we do not even know which cell types they are, or which tissue do the slides come from!\n",
    "\n",
    "However, there may be space for giving it a try. Many cell types seem to be correlated, and colocalize together very often; so we may potentially cluster some of them together, so we do not have to actually predict all the 35 cell types.\n",
    "\n",
    "See for example the plots below, taken from my [EDA notebook](https://www.kaggle.com/code/dalloliogm/eda-plotting-cell-distribution-by-slice).  It seems that cell type C1 and C3 tend to cluster together, indicating that they may be similar function. I still need to fully explore this correlation in a notebook, but it is a promising start.\n",
    "\n",
    "![](https://www.googleapis.com/download/storage/v1/b/kaggle-forum-message-attachments/o/inbox%2F650%2F0defb7f63ffa22fd1dd24cec74cb769a%2F__results___3_0.png?generation=1743027417213833&alt=media)"
   ]
  },
  {
   "cell_type": "markdown",
   "id": "205243b7",
   "metadata": {
    "papermill": {
     "duration": 0.001434,
     "end_time": "2025-03-26T22:31:21.650275",
     "exception": false,
     "start_time": "2025-03-26T22:31:21.648841",
     "status": "completed"
    },
    "tags": []
   },
   "source": [
    "## Some literature on the topic\n",
    "\n",
    "There are a few papers on predicting the cell type composition from an histology image. \n",
    "\n",
    "Training a model to predict cell type composition from a slice image would likely require a huge training set, and a few million of dollars to spend in compute cost. Here, we only have 6 images in the training set, and we are required to keep computation under 9 hours. Thus, it is evident that to perform well in this competition we would need to find a model trained on a larger dataset, and download its weights, assuming they are publicly available.\n",
    "\n",
    "- one tool is called [ALBRT](https://arxiv.org/abs/2108.08306). They trained a model to predict cell type composition from a tumour slice - which is very promising, as it is exactly what we need to do here. However, we don't know if our slices are from tumours; and they used a specific staining (Hematoxylin and Eosin) which may be different from what we have here. I've started exploring this option; the [github page](https://github.com/engrodawood/ALBRT) has a couple of notebooks, and points to some zip files containing the weights. Another difficulty using this tool is we need to specify which cell types we want to predict; but we don't even know that, we only have variables named C1 to C35.\n",
    "\n",
    "- "
   ]
  }
 ],
 "metadata": {
  "kaggle": {
   "accelerator": "none",
   "dataSources": [
    {
     "databundleVersionId": 11390004,
     "sourceId": 94147,
     "sourceType": "competition"
    }
   ],
   "dockerImageVersionId": 30918,
   "isGpuEnabled": false,
   "isInternetEnabled": true,
   "language": "python",
   "sourceType": "notebook"
  },
  "kernelspec": {
   "display_name": "Python 3",
   "language": "python",
   "name": "python3"
  },
  "language_info": {
   "codemirror_mode": {
    "name": "ipython",
    "version": 3
   },
   "file_extension": ".py",
   "mimetype": "text/x-python",
   "name": "python",
   "nbconvert_exporter": "python",
   "pygments_lexer": "ipython3",
   "version": "3.10.12"
  },
  "papermill": {
   "default_parameters": {},
   "duration": 3.503168,
   "end_time": "2025-03-26T22:31:22.072150",
   "environment_variables": {},
   "exception": null,
   "input_path": "__notebook__.ipynb",
   "output_path": "__notebook__.ipynb",
   "parameters": {},
   "start_time": "2025-03-26T22:31:18.568982",
   "version": "2.6.0"
  }
 },
 "nbformat": 4,
 "nbformat_minor": 5
}
