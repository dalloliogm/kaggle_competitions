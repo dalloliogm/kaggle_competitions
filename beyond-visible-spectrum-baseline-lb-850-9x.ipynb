{
 "cells": [
  {
   "cell_type": "code",
   "execution_count": 1,
   "id": "f3f71f18",
   "metadata": {
    "execution": {
     "iopub.execute_input": "2025-05-10T18:17:23.495646Z",
     "iopub.status.busy": "2025-05-10T18:17:23.495265Z",
     "iopub.status.idle": "2025-05-10T18:17:25.651793Z",
     "shell.execute_reply": "2025-05-10T18:17:25.650765Z"
    },
    "papermill": {
     "duration": 2.161774,
     "end_time": "2025-05-10T18:17:25.653622",
     "exception": false,
     "start_time": "2025-05-10T18:17:23.491848",
     "status": "completed"
    },
    "tags": []
   },
   "outputs": [],
   "source": [
    "import pandas as pd"
   ]
  },
  {
   "cell_type": "code",
   "execution_count": 2,
   "id": "d67bb48f",
   "metadata": {
    "execution": {
     "iopub.execute_input": "2025-05-10T18:17:25.658389Z",
     "iopub.status.busy": "2025-05-10T18:17:25.657929Z",
     "iopub.status.idle": "2025-05-10T18:17:25.689525Z",
     "shell.execute_reply": "2025-05-10T18:17:25.688505Z"
    },
    "papermill": {
     "duration": 0.035636,
     "end_time": "2025-05-10T18:17:25.691225",
     "exception": false,
     "start_time": "2025-05-10T18:17:25.655589",
     "status": "completed"
    },
    "tags": []
   },
   "outputs": [],
   "source": [
    "# Load train and test CSVs\n",
    "train_df = pd.read_csv(\"/kaggle/input/beyond-visible-spectrum-ai-for-agriculture-2025/train.csv\")\n",
    "test_df = pd.read_csv(\"/kaggle/input/beyond-visible-spectrum-ai-for-agriculture-2025/test.csv\")"
   ]
  },
  {
   "cell_type": "code",
   "execution_count": 3,
   "id": "6f821f30",
   "metadata": {
    "execution": {
     "iopub.execute_input": "2025-05-10T18:17:25.695957Z",
     "iopub.status.busy": "2025-05-10T18:17:25.695635Z",
     "iopub.status.idle": "2025-05-10T18:17:25.728492Z",
     "shell.execute_reply": "2025-05-10T18:17:25.727451Z"
    },
    "papermill": {
     "duration": 0.037225,
     "end_time": "2025-05-10T18:17:25.730196",
     "exception": false,
     "start_time": "2025-05-10T18:17:25.692971",
     "status": "completed"
    },
    "tags": []
   },
   "outputs": [
    {
     "name": "stdout",
     "output_type": "stream",
     "text": [
      "submission.csv created successfully!\n"
     ]
    }
   ],
   "source": [
    "# Compute the mean of the target column\n",
    "mean_target = train_df['label'].mean()\n",
    "\n",
    "# Create a prediction column with the mean value for all test samples\n",
    "test_df['TARGET'] = mean_target\n",
    "\n",
    "# Prepare submission with renamed ID column\n",
    "submission = test_df[['id', 'TARGET']].rename(columns={'id': 'ID'})\n",
    "submission.to_csv('submission.csv', index=False)\n",
    "\n",
    "print(\"submission.csv created successfully!\")"
   ]
  }
 ],
 "metadata": {
  "kaggle": {
   "accelerator": "none",
   "dataSources": [
    {
     "databundleVersionId": 11749951,
     "sourceId": 98450,
     "sourceType": "competition"
    }
   ],
   "dockerImageVersionId": 31012,
   "isGpuEnabled": false,
   "isInternetEnabled": true,
   "language": "python",
   "sourceType": "notebook"
  },
  "kernelspec": {
   "display_name": "Python 3",
   "language": "python",
   "name": "python3"
  },
  "language_info": {
   "codemirror_mode": {
    "name": "ipython",
    "version": 3
   },
   "file_extension": ".py",
   "mimetype": "text/x-python",
   "name": "python",
   "nbconvert_exporter": "python",
   "pygments_lexer": "ipython3",
   "version": "3.11.11"
  },
  "papermill": {
   "default_parameters": {},
   "duration": 7.753595,
   "end_time": "2025-05-10T18:17:26.252581",
   "environment_variables": {},
   "exception": null,
   "input_path": "__notebook__.ipynb",
   "output_path": "__notebook__.ipynb",
   "parameters": {},
   "start_time": "2025-05-10T18:17:18.498986",
   "version": "2.6.0"
  }
 },
 "nbformat": 4,
 "nbformat_minor": 5
}
