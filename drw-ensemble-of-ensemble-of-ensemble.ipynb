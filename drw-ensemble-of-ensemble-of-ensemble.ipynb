{
 "cells": [
  {
   "cell_type": "markdown",
   "id": "973ab248",
   "metadata": {
    "papermill": {
     "duration": 0.001985,
     "end_time": "2025-07-06T15:55:20.741329",
     "exception": false,
     "start_time": "2025-07-06T15:55:20.739344",
     "status": "completed"
    },
    "tags": []
   },
   "source": [
    "## Ensembling is clearly the good way—especially when it involves stacking top models from other notebooks that stacked other great models from other notebooks.\n",
    "\n",
    "I’m (not) entirely sure whats the purpose of posting another ensemble notebook without proposing a novel method of ensembling. Regardless, I will add my blend to the mix.\n",
    "\n",
    "*Full credit to the original notebooks, and the ones they were ensembled on, and the ones those were ensembled on… .*\n",
    "\n",
    "Here are the notebooks I ensemble from:\n",
    "- https://www.kaggle.com/code/taylorsamarel/sub-sample-vs-super-sample-noisy-rows/output\n",
    "- https://www.kaggle.com/code/taylorsamarel/ensemble-envy"
   ]
  },
  {
   "cell_type": "code",
   "execution_count": 1,
   "id": "a860fb56",
   "metadata": {
    "_cell_guid": "b1076dfc-b9ad-4769-8c92-a6c4dae69d19",
    "_uuid": "8f2839f25d086af736a60e9eeb907d3b93b6e0e5",
    "execution": {
     "iopub.execute_input": "2025-07-06T15:55:20.746057Z",
     "iopub.status.busy": "2025-07-06T15:55:20.745678Z",
     "iopub.status.idle": "2025-07-06T15:55:25.274132Z",
     "shell.execute_reply": "2025-07-06T15:55:25.273288Z"
    },
    "papermill": {
     "duration": 4.533126,
     "end_time": "2025-07-06T15:55:25.276010",
     "exception": false,
     "start_time": "2025-07-06T15:55:20.742884",
     "status": "completed"
    },
    "tags": []
   },
   "outputs": [],
   "source": [
    "import pandas as pd\n",
    "\n",
    "submission1 = pd.read_csv('/kaggle/input/drw-20250702/submission_12947.csv')\n",
    "submission2 = pd.read_csv('/kaggle/input/drw-20250702/submission_12744.csv')\n",
    "\n",
    "submission = pd.read_csv('/kaggle/input/drw-crypto-market-prediction/sample_submission.csv')\n",
    "submission['prediction'] = 0.8*submission1['prediction'] + 0.2*submission2['prediction'] \n",
    "submission.to_csv('submission.csv', index = False)"
   ]
  }
 ],
 "metadata": {
  "kaggle": {
   "accelerator": "none",
   "dataSources": [
    {
     "databundleVersionId": 11418275,
     "sourceId": 96164,
     "sourceType": "competition"
    },
    {
     "datasetId": 7788278,
     "sourceId": 12356667,
     "sourceType": "datasetVersion"
    }
   ],
   "dockerImageVersionId": 31040,
   "isGpuEnabled": false,
   "isInternetEnabled": true,
   "language": "python",
   "sourceType": "notebook"
  },
  "kernelspec": {
   "display_name": "Python 3",
   "language": "python",
   "name": "python3"
  },
  "language_info": {
   "codemirror_mode": {
    "name": "ipython",
    "version": 3
   },
   "file_extension": ".py",
   "mimetype": "text/x-python",
   "name": "python",
   "nbconvert_exporter": "python",
   "pygments_lexer": "ipython3",
   "version": "3.11.11"
  },
  "papermill": {
   "default_parameters": {},
   "duration": 10.502466,
   "end_time": "2025-07-06T15:55:25.899234",
   "environment_variables": {},
   "exception": null,
   "input_path": "__notebook__.ipynb",
   "output_path": "__notebook__.ipynb",
   "parameters": {},
   "start_time": "2025-07-06T15:55:15.396768",
   "version": "2.6.0"
  }
 },
 "nbformat": 4,
 "nbformat_minor": 5
}
