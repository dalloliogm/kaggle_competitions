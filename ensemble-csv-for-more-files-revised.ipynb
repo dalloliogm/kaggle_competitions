{
 "cells": [
  {
   "cell_type": "markdown",
   "id": "326f6b97",
   "metadata": {
    "papermill": {
     "duration": 0.002072,
     "end_time": "2025-06-22T14:20:24.435573",
     "exception": false,
     "start_time": "2025-06-22T14:20:24.433501",
     "status": "completed"
    },
    "tags": []
   },
   "source": [
    "### The notebook is created using [data](https://www.kaggle.com/datasets/lihaoweicvch/public-25-6) collected from [atom1231's notebook](https://www.kaggle.com/code/atom1231/ensemble-csv-for-more-files)"
   ]
  },
  {
   "cell_type": "code",
   "execution_count": 1,
   "id": "075aa543",
   "metadata": {
    "execution": {
     "iopub.execute_input": "2025-06-22T14:20:24.440577Z",
     "iopub.status.busy": "2025-06-22T14:20:24.439586Z",
     "iopub.status.idle": "2025-06-22T14:24:23.080037Z",
     "shell.execute_reply": "2025-06-22T14:24:23.078742Z"
    },
    "papermill": {
     "duration": 238.650923,
     "end_time": "2025-06-22T14:24:23.088223",
     "exception": false,
     "start_time": "2025-06-22T14:20:24.437300",
     "status": "completed"
    },
    "tags": []
   },
   "outputs": [
    {
     "name": "stdout",
     "output_type": "stream",
     "text": [
      "Submission (Final):\n",
      "          oid_ypos        x_1        x_3        x_5        x_7\n",
      "0  000039dca2_y_0  1605.2472  1612.1394  1613.1726  1613.6272\n",
      "1  000039dca2_y_1  1626.5697  1629.9014  1631.4011  1630.1233\n",
      "2  000039dca2_y_2  1657.1108  1656.9419  1658.2522  1657.4870\n",
      "3  000039dca2_y_3  1688.6985  1686.0154  1686.8341  1685.2370\n",
      "4  000039dca2_y_4  1720.9905  1716.8981  1716.0956  1714.6968\n"
     ]
    }
   ],
   "source": [
    "import pandas as pd\n",
    "\n",
    "sub = pd.read_csv(\"/kaggle/input/public-25-6/submission_median.csv\")\n",
    "sub.to_csv(\"submission.csv\", index=False)\n",
    "print(\"Submission (Final):\\n\", sub.iloc[:5, :5])"
   ]
  }
 ],
 "metadata": {
  "kaggle": {
   "accelerator": "none",
   "dataSources": [
    {
     "databundleVersionId": 11756775,
     "sourceId": 39763,
     "sourceType": "competition"
    },
    {
     "datasetId": 7677732,
     "sourceId": 12189344,
     "sourceType": "datasetVersion"
    }
   ],
   "dockerImageVersionId": 31040,
   "isGpuEnabled": false,
   "isInternetEnabled": true,
   "language": "python",
   "sourceType": "notebook"
  },
  "kernelspec": {
   "display_name": "Python 3",
   "language": "python",
   "name": "python3"
  },
  "language_info": {
   "codemirror_mode": {
    "name": "ipython",
    "version": 3
   },
   "file_extension": ".py",
   "mimetype": "text/x-python",
   "name": "python",
   "nbconvert_exporter": "python",
   "pygments_lexer": "ipython3",
   "version": "3.11.11"
  },
  "papermill": {
   "default_parameters": {},
   "duration": 244.155935,
   "end_time": "2025-06-22T14:24:23.814315",
   "environment_variables": {},
   "exception": null,
   "input_path": "__notebook__.ipynb",
   "output_path": "__notebook__.ipynb",
   "parameters": {},
   "start_time": "2025-06-22T14:20:19.658380",
   "version": "2.6.0"
  }
 },
 "nbformat": 4,
 "nbformat_minor": 5
}
