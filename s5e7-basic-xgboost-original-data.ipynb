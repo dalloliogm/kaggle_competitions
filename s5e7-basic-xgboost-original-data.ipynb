{
 "cells": [
  {
   "cell_type": "markdown",
   "id": "3e1ec93b",
   "metadata": {
    "papermill": {
     "duration": 0.004371,
     "end_time": "2025-07-03T09:42:28.126134",
     "exception": false,
     "start_time": "2025-07-03T09:42:28.121763",
     "status": "completed"
    },
    "tags": []
   },
   "source": [
    "# Imports"
   ]
  },
  {
   "cell_type": "code",
   "execution_count": 1,
   "id": "2ec6550c",
   "metadata": {
    "_cell_guid": "b1076dfc-b9ad-4769-8c92-a6c4dae69d19",
    "_uuid": "8f2839f25d086af736a60e9eeb907d3b93b6e0e5",
    "execution": {
     "iopub.execute_input": "2025-07-03T09:42:28.135543Z",
     "iopub.status.busy": "2025-07-03T09:42:28.134736Z",
     "iopub.status.idle": "2025-07-03T09:42:33.731699Z",
     "shell.execute_reply": "2025-07-03T09:42:33.730395Z"
    },
    "papermill": {
     "duration": 5.604156,
     "end_time": "2025-07-03T09:42:33.734372",
     "exception": false,
     "start_time": "2025-07-03T09:42:28.130216",
     "status": "completed"
    },
    "tags": []
   },
   "outputs": [],
   "source": [
    "import pandas as pd\n",
    "import numpy as np\n",
    "import matplotlib.pyplot as plt\n",
    "import seaborn as sns\n",
    "from sklearn.model_selection import StratifiedKFold, cross_val_score\n",
    "from sklearn.preprocessing import LabelEncoder, StandardScaler\n",
    "from sklearn.metrics import accuracy_score, classification_report, confusion_matrix\n",
    "import xgboost as xgb\n",
    "import warnings\n",
    "warnings.filterwarnings('ignore')\n",
    "\n",
    "np.random.seed(42)"
   ]
  },
  {
   "cell_type": "markdown",
   "id": "95732077",
   "metadata": {
    "papermill": {
     "duration": 0.003411,
     "end_time": "2025-07-03T09:42:33.741802",
     "exception": false,
     "start_time": "2025-07-03T09:42:33.738391",
     "status": "completed"
    },
    "tags": []
   },
   "source": [
    "# Data"
   ]
  },
  {
   "cell_type": "code",
   "execution_count": 2,
   "id": "679b4dc7",
   "metadata": {
    "_cell_guid": "b1076dfc-b9ad-4769-8c92-a6c4dae69d19",
    "_uuid": "8f2839f25d086af736a60e9eeb907d3b93b6e0e5",
    "execution": {
     "iopub.execute_input": "2025-07-03T09:42:33.750989Z",
     "iopub.status.busy": "2025-07-03T09:42:33.750484Z",
     "iopub.status.idle": "2025-07-03T09:42:33.849811Z",
     "shell.execute_reply": "2025-07-03T09:42:33.848663Z"
    },
    "papermill": {
     "duration": 0.106255,
     "end_time": "2025-07-03T09:42:33.851906",
     "exception": false,
     "start_time": "2025-07-03T09:42:33.745651",
     "status": "completed"
    },
    "tags": []
   },
   "outputs": [],
   "source": [
    "train = pd.read_csv('/kaggle/input/playground-series-s5e7/train.csv')\n",
    "test = pd.read_csv('/kaggle/input/playground-series-s5e7/test.csv')\n",
    "original = pd.read_csv('/kaggle/input/extrovert-vs-introvert-behavior-data/personality_datasert.csv')\n",
    "\n",
    "sample_submission = pd.read_csv('/kaggle/input/playground-series-s5e7/sample_submission.csv')"
   ]
  },
  {
   "cell_type": "code",
   "execution_count": 3,
   "id": "d8c866e4",
   "metadata": {
    "execution": {
     "iopub.execute_input": "2025-07-03T09:42:33.861361Z",
     "iopub.status.busy": "2025-07-03T09:42:33.861004Z",
     "iopub.status.idle": "2025-07-03T09:42:33.876734Z",
     "shell.execute_reply": "2025-07-03T09:42:33.875867Z"
    },
    "papermill": {
     "duration": 0.022865,
     "end_time": "2025-07-03T09:42:33.878615",
     "exception": false,
     "start_time": "2025-07-03T09:42:33.855750",
     "status": "completed"
    },
    "tags": []
   },
   "outputs": [],
   "source": [
    "original_copy = original.copy()\n",
    "for k in range(7):\n",
    "    original = pd.concat([original,original_copy],axis=0)"
   ]
  },
  {
   "cell_type": "code",
   "execution_count": 4,
   "id": "b78cebd0",
   "metadata": {
    "_cell_guid": "b1076dfc-b9ad-4769-8c92-a6c4dae69d19",
    "_uuid": "8f2839f25d086af736a60e9eeb907d3b93b6e0e5",
    "execution": {
     "iopub.execute_input": "2025-07-03T09:42:33.889014Z",
     "iopub.status.busy": "2025-07-03T09:42:33.888607Z",
     "iopub.status.idle": "2025-07-03T09:42:33.953029Z",
     "shell.execute_reply": "2025-07-03T09:42:33.951680Z"
    },
    "papermill": {
     "duration": 0.071221,
     "end_time": "2025-07-03T09:42:33.954867",
     "exception": false,
     "start_time": "2025-07-03T09:42:33.883646",
     "status": "completed"
    },
    "tags": []
   },
   "outputs": [
    {
     "name": "stdout",
     "output_type": "stream",
     "text": [
      "Features shape: (18524, 7)\n",
      "Target shape: (18524,)\n",
      "Encoded Stage_fear: ['No' 'Yes' 'nan']\n",
      "Encoded Drained_after_socializing: ['No' 'Yes' 'nan']\n",
      "Target classes: ['Extrovert' 'Introvert']\n",
      "Feature columns: ['Time_spent_Alone', 'Stage_fear', 'Social_event_attendance', 'Going_outside', 'Drained_after_socializing', 'Friends_circle_size', 'Post_frequency']\n"
     ]
    }
   ],
   "source": [
    "# Separate features and target\n",
    "X_train = train.drop(['id', 'Personality'], axis=1, errors='ignore')\n",
    "y_train = train['Personality']\n",
    "X_test = test.drop(['id'], axis=1, errors='ignore')\n",
    "\n",
    "X_original = original.drop(['id', 'Personality'], axis=1, errors='ignore')\n",
    "y_original = original['Personality']\n",
    "\n",
    "print(f\"Features shape: {X_train.shape}\")\n",
    "print(f\"Target shape: {y_train.shape if y_train is not None else 'None'}\")\n",
    "\n",
    "# Encode categorical variables\n",
    "label_encoders = {}\n",
    "categorical_columns = X_train.select_dtypes(include=['object']).columns\n",
    "\n",
    "for col in categorical_columns:\n",
    "    le = LabelEncoder()\n",
    "    X_train[col] = le.fit_transform(X_train[col].astype(str))\n",
    "    X_test[col] = le.transform(X_test[col].astype(str))\n",
    "    X_original[col] = le.transform(X_original[col].astype(str))\n",
    "    label_encoders[col] = le\n",
    "    print(f\"Encoded {col}: {le.classes_}\")\n",
    "\n",
    "# Encode target variable\n",
    "target_encoder = LabelEncoder()\n",
    "y_train_encoded = target_encoder.fit_transform(y_train)\n",
    "y_original_encoded = target_encoder.fit_transform(y_original)\n",
    "print(f\"Target classes: {target_encoder.classes_}\")\n",
    "\n",
    "# Feature scaling (optional for XGBoost, but can help)\n",
    "scaler = StandardScaler()\n",
    "feature_names = X_train.columns.tolist()\n",
    "\n",
    "print(f\"Feature columns: {feature_names}\")"
   ]
  },
  {
   "cell_type": "markdown",
   "id": "cb24370c",
   "metadata": {
    "papermill": {
     "duration": 0.003774,
     "end_time": "2025-07-03T09:42:33.962855",
     "exception": false,
     "start_time": "2025-07-03T09:42:33.959081",
     "status": "completed"
    },
    "tags": []
   },
   "source": [
    "# Training"
   ]
  },
  {
   "cell_type": "code",
   "execution_count": 5,
   "id": "b712d283",
   "metadata": {
    "_cell_guid": "b1076dfc-b9ad-4769-8c92-a6c4dae69d19",
    "_uuid": "8f2839f25d086af736a60e9eeb907d3b93b6e0e5",
    "execution": {
     "iopub.execute_input": "2025-07-03T09:42:33.972618Z",
     "iopub.status.busy": "2025-07-03T09:42:33.972288Z",
     "iopub.status.idle": "2025-07-03T09:42:33.979041Z",
     "shell.execute_reply": "2025-07-03T09:42:33.977370Z"
    },
    "papermill": {
     "duration": 0.013799,
     "end_time": "2025-07-03T09:42:33.980976",
     "exception": false,
     "start_time": "2025-07-03T09:42:33.967177",
     "status": "completed"
    },
    "tags": []
   },
   "outputs": [],
   "source": [
    "xgb_params = {\n",
    "    'objective': 'binary:logistic',\n",
    "    'eval_metric': 'logloss',\n",
    "    'max_leaves': 25,\n",
    "    'min_child_weight': np.float64(0.003440906647223279),\n",
    "    'learning_rate': np.float64(0.09470087254583547),\n",
    "    'n_estimators': 10000,\n",
    "    'subsample': np.float64(0.8025291728808135),\n",
    "    'colsample_bylevel': np.float64(0.8360122952647302),\n",
    "    'colsample_bytree': np.float64(0.87329448975438),\n",
    "    'reg_alpha': np.float64(0.002926163798802797),\n",
    "    'reg_lambda': np.float64(27.126259438996986),\n",
    "    'random_state': 42,\n",
    "    'tree_method': 'hist',\n",
    "    'device': \"cuda\"\n",
    "}"
   ]
  },
  {
   "cell_type": "code",
   "execution_count": 6,
   "id": "e4c90c82",
   "metadata": {
    "execution": {
     "iopub.execute_input": "2025-07-03T09:42:33.990376Z",
     "iopub.status.busy": "2025-07-03T09:42:33.990026Z",
     "iopub.status.idle": "2025-07-03T09:42:33.997761Z",
     "shell.execute_reply": "2025-07-03T09:42:33.996699Z"
    },
    "papermill": {
     "duration": 0.014796,
     "end_time": "2025-07-03T09:42:33.999988",
     "exception": false,
     "start_time": "2025-07-03T09:42:33.985192",
     "status": "completed"
    },
    "tags": []
   },
   "outputs": [
    {
     "data": {
      "text/plain": [
       "array([0, 0, 1, ..., 1, 1, 0])"
      ]
     },
     "execution_count": 6,
     "metadata": {},
     "output_type": "execute_result"
    }
   ],
   "source": [
    "y_train_encoded"
   ]
  },
  {
   "cell_type": "code",
   "execution_count": 7,
   "id": "228f5d8e",
   "metadata": {
    "_cell_guid": "b1076dfc-b9ad-4769-8c92-a6c4dae69d19",
    "_uuid": "8f2839f25d086af736a60e9eeb907d3b93b6e0e5",
    "execution": {
     "iopub.execute_input": "2025-07-03T09:42:34.009583Z",
     "iopub.status.busy": "2025-07-03T09:42:34.009227Z",
     "iopub.status.idle": "2025-07-03T09:42:36.502792Z",
     "shell.execute_reply": "2025-07-03T09:42:36.502011Z"
    },
    "papermill": {
     "duration": 2.500967,
     "end_time": "2025-07-03T09:42:36.505064",
     "exception": false,
     "start_time": "2025-07-03T09:42:34.004097",
     "status": "completed"
    },
    "tags": []
   },
   "outputs": [
    {
     "name": "stdout",
     "output_type": "stream",
     "text": [
      "Performing 5-fold Stratified Cross Validation with Early Stopping...\n",
      "\n",
      "Training Fold 1/5...\n",
      "Fold 1 Accuracy: 0.9695\n",
      "Best iteration: 70\n",
      "\n",
      "Training Fold 2/5...\n",
      "Fold 2 Accuracy: 0.9668\n",
      "Best iteration: 58\n",
      "\n",
      "Training Fold 3/5...\n",
      "Fold 3 Accuracy: 0.9660\n",
      "Best iteration: 69\n",
      "\n",
      "Training Fold 4/5...\n",
      "Fold 4 Accuracy: 0.9703\n",
      "Best iteration: 124\n",
      "\n",
      "Training Fold 5/5...\n",
      "Fold 5 Accuracy: 0.9717\n",
      "Best iteration: 72\n",
      "Cross-validation scores: [0.96950067 0.96680162 0.9659919  0.97031039 0.97165227]\n",
      "Mean CV Score: 0.9689 (+/- 0.0043)\n"
     ]
    }
   ],
   "source": [
    "xgb_model = xgb.XGBClassifier(**xgb_params)\n",
    "\n",
    "# Stratified K-Fold Cross Validation with Early Stopping\n",
    "n_splits = 5\n",
    "skf = StratifiedKFold(n_splits=n_splits, shuffle=True, random_state=42)\n",
    "\n",
    "print(f\"Performing {n_splits}-fold Stratified Cross Validation with Early Stopping...\")\n",
    "\n",
    "# Custom cross-validation with early stopping\n",
    "cv_scores = []\n",
    "fold_num = 1\n",
    "\n",
    "for train_idx, val_idx in skf.split(X_train, y_train_encoded):\n",
    "    print(f\"\\nTraining Fold {fold_num}/{n_splits}...\")\n",
    "    \n",
    "    # Split data\n",
    "    X_fold_train, X_fold_val = X_train.iloc[train_idx], X_train.iloc[val_idx]\n",
    "    y_fold_train, y_fold_val = y_train_encoded[train_idx], y_train_encoded[val_idx]\n",
    "\n",
    "    X_fold_train = pd.concat([X_fold_train,X_original], axis=0, ignore_index=True)\n",
    "    y_fold_train = np.concatenate((y_fold_train,y_original_encoded))\n",
    "    \n",
    "    # Create model for this fold\n",
    "    fold_model = xgb.XGBClassifier(**xgb_params)\n",
    "    \n",
    "    # Train with early stopping\n",
    "    fold_model.fit(\n",
    "        X_fold_train, y_fold_train,\n",
    "        eval_set=[(X_fold_val, y_fold_val)],\n",
    "        early_stopping_rounds=50,\n",
    "        verbose=False\n",
    "    )\n",
    "    \n",
    "    # Predict and calculate accuracy\n",
    "    fold_predictions = fold_model.predict(X_fold_val)\n",
    "    fold_accuracy = accuracy_score(y_fold_val, fold_predictions)\n",
    "    cv_scores.append(fold_accuracy)\n",
    "    \n",
    "    print(f\"Fold {fold_num} Accuracy: {fold_accuracy:.4f}\")\n",
    "    print(f\"Best iteration: {fold_model.best_iteration}\")\n",
    "    \n",
    "    fold_num += 1\n",
    "\n",
    "cv_scores = np.array(cv_scores)\n",
    "\n",
    "print(f\"Cross-validation scores: {cv_scores}\")\n",
    "print(f\"Mean CV Score: {cv_scores.mean():.4f} (+/- {cv_scores.std() * 2:.4f})\")"
   ]
  },
  {
   "cell_type": "code",
   "execution_count": 8,
   "id": "24ed4850",
   "metadata": {
    "execution": {
     "iopub.execute_input": "2025-07-03T09:42:36.514755Z",
     "iopub.status.busy": "2025-07-03T09:42:36.514441Z",
     "iopub.status.idle": "2025-07-03T09:42:38.290503Z",
     "shell.execute_reply": "2025-07-03T09:42:38.288251Z"
    },
    "papermill": {
     "duration": 1.78348,
     "end_time": "2025-07-03T09:42:38.292773",
     "exception": false,
     "start_time": "2025-07-03T09:42:36.509293",
     "status": "completed"
    },
    "tags": []
   },
   "outputs": [
    {
     "name": "stdout",
     "output_type": "stream",
     "text": [
      "Extracting best iterations from each CV fold...\n",
      "Fold 1 best iteration: 136\n",
      "Fold 2 best iteration: 54\n",
      "Fold 3 best iteration: 58\n",
      "Fold 4 best iteration: 103\n",
      "Fold 5 best iteration: 62\n",
      "\n",
      "Optimal n_estimators (average): 82\n",
      "Range: 54 - 136\n",
      "\n",
      "Training final model on full dataset with 82 estimators...\n",
      "Final model trained on 100% of training data!\n"
     ]
    }
   ],
   "source": [
    "best_iterations = []\n",
    "fold_num = 1\n",
    "\n",
    "print(\"Extracting best iterations from each CV fold...\")\n",
    "for train_idx, val_idx in skf.split(X_train, y_train_encoded):\n",
    "    X_fold_train, X_fold_val = X_train.iloc[train_idx], X_train.iloc[val_idx]\n",
    "    y_fold_train, y_fold_val = y_train_encoded[train_idx], y_train_encoded[val_idx]\n",
    "    \n",
    "    # Create temporary model to find best iteration\n",
    "    temp_model = xgb.XGBClassifier(**xgb_params)\n",
    "    temp_model.fit(\n",
    "        X_fold_train, y_fold_train,\n",
    "        eval_set=[(X_fold_val, y_fold_val)],\n",
    "        early_stopping_rounds=50,\n",
    "        verbose=False\n",
    "    )\n",
    "    \n",
    "    best_iterations.append(temp_model.best_iteration)\n",
    "    print(f\"Fold {fold_num} best iteration: {temp_model.best_iteration}\")\n",
    "    fold_num += 1\n",
    "\n",
    "# Use average best iteration for final model\n",
    "optimal_n_estimators = int(np.mean(best_iterations))\n",
    "print(f\"\\nOptimal n_estimators (average): {optimal_n_estimators}\")\n",
    "print(f\"Range: {min(best_iterations)} - {max(best_iterations)}\")\n",
    "\n",
    "# Train final model on full dataset with optimal n_estimators\n",
    "print(f\"\\nTraining final model on full dataset with {optimal_n_estimators} estimators...\")\n",
    "xgb_params_final = xgb_params.copy()\n",
    "xgb_params_final['n_estimators'] = optimal_n_estimators\n",
    "\n",
    "xgb_model_final = xgb.XGBClassifier(**xgb_params_final)\n",
    "xgb_model_final.fit(X_train, y_train_encoded)\n",
    "\n",
    "print(\"Final model trained on 100% of training data!\")"
   ]
  },
  {
   "cell_type": "markdown",
   "id": "bc67710a",
   "metadata": {
    "papermill": {
     "duration": 0.006541,
     "end_time": "2025-07-03T09:42:38.304006",
     "exception": false,
     "start_time": "2025-07-03T09:42:38.297465",
     "status": "completed"
    },
    "tags": []
   },
   "source": [
    "# Feature importance"
   ]
  },
  {
   "cell_type": "code",
   "execution_count": 9,
   "id": "9ee181ab",
   "metadata": {
    "_cell_guid": "b1076dfc-b9ad-4769-8c92-a6c4dae69d19",
    "_uuid": "8f2839f25d086af736a60e9eeb907d3b93b6e0e5",
    "execution": {
     "iopub.execute_input": "2025-07-03T09:42:38.315207Z",
     "iopub.status.busy": "2025-07-03T09:42:38.314599Z",
     "iopub.status.idle": "2025-07-03T09:42:38.329629Z",
     "shell.execute_reply": "2025-07-03T09:42:38.328225Z"
    },
    "papermill": {
     "duration": 0.022962,
     "end_time": "2025-07-03T09:42:38.331504",
     "exception": false,
     "start_time": "2025-07-03T09:42:38.308542",
     "status": "completed"
    },
    "tags": []
   },
   "outputs": [
    {
     "name": "stdout",
     "output_type": "stream",
     "text": [
      "Top 10 Most Important Features:\n",
      "                     feature  importance\n",
      "4  Drained_after_socializing    0.837219\n",
      "1                 Stage_fear    0.123142\n",
      "0           Time_spent_Alone    0.022384\n",
      "2    Social_event_attendance    0.011043\n",
      "3              Going_outside    0.003273\n",
      "5        Friends_circle_size    0.001740\n",
      "6             Post_frequency    0.001200\n"
     ]
    }
   ],
   "source": [
    "feature_importance = pd.DataFrame({\n",
    "    'feature': feature_names,\n",
    "    'importance': xgb_model_final.feature_importances_\n",
    "}).sort_values('importance', ascending=False)\n",
    "\n",
    "print(\"Top 10 Most Important Features:\")\n",
    "print(feature_importance.head(10))"
   ]
  },
  {
   "cell_type": "markdown",
   "id": "c4880c7b",
   "metadata": {
    "papermill": {
     "duration": 0.004933,
     "end_time": "2025-07-03T09:42:38.341454",
     "exception": false,
     "start_time": "2025-07-03T09:42:38.336521",
     "status": "completed"
    },
    "tags": []
   },
   "source": [
    "# Submission"
   ]
  },
  {
   "cell_type": "code",
   "execution_count": 10,
   "id": "dc4c1e44",
   "metadata": {
    "_cell_guid": "b1076dfc-b9ad-4769-8c92-a6c4dae69d19",
    "_uuid": "8f2839f25d086af736a60e9eeb907d3b93b6e0e5",
    "execution": {
     "iopub.execute_input": "2025-07-03T09:42:38.352256Z",
     "iopub.status.busy": "2025-07-03T09:42:38.351857Z",
     "iopub.status.idle": "2025-07-03T09:42:38.396031Z",
     "shell.execute_reply": "2025-07-03T09:42:38.394211Z"
    },
    "papermill": {
     "duration": 0.05166,
     "end_time": "2025-07-03T09:42:38.397824",
     "exception": false,
     "start_time": "2025-07-03T09:42:38.346164",
     "status": "completed"
    },
    "tags": []
   },
   "outputs": [
    {
     "name": "stdout",
     "output_type": "stream",
     "text": [
      "\n",
      "=== CREATING SUBMISSION FILE ===\n",
      "Submission file saved as 'submission.csv'\n"
     ]
    }
   ],
   "source": [
    "test_predictions = xgb_model_final.predict(X_test)\n",
    "test_pred_proba = xgb_model_final.predict_proba(X_test)\n",
    "\n",
    "if y_train is not None:\n",
    "    test_pred_labels = target_encoder.inverse_transform(test_predictions)\n",
    "else:\n",
    "    test_pred_labels = ['Introvert' if pred == 0 else 'Extrovert' for pred in test_predictions]\n",
    "\n",
    "# Create Submission File\n",
    "print(\"\\n=== CREATING SUBMISSION FILE ===\")\n",
    "submission_df = pd.DataFrame({\n",
    "    'id': test['id'],\n",
    "    'Personality': test_pred_labels\n",
    "})\n",
    "submission_df.to_csv('submission.csv', index=False)\n",
    "print(\"Submission file saved as 'submission.csv'\")"
   ]
  },
  {
   "cell_type": "code",
   "execution_count": null,
   "id": "ec1ca0f0",
   "metadata": {
    "_cell_guid": "b1076dfc-b9ad-4769-8c92-a6c4dae69d19",
    "_uuid": "8f2839f25d086af736a60e9eeb907d3b93b6e0e5",
    "papermill": {
     "duration": 0.004257,
     "end_time": "2025-07-03T09:42:38.406974",
     "exception": false,
     "start_time": "2025-07-03T09:42:38.402717",
     "status": "completed"
    },
    "tags": []
   },
   "outputs": [],
   "source": []
  }
 ],
 "metadata": {
  "kaggle": {
   "accelerator": "none",
   "dataSources": [
    {
     "databundleVersionId": 12738969,
     "sourceId": 91718,
     "sourceType": "competition"
    },
    {
     "datasetId": 7474089,
     "sourceId": 12156348,
     "sourceType": "datasetVersion"
    }
   ],
   "dockerImageVersionId": 31040,
   "isGpuEnabled": false,
   "isInternetEnabled": true,
   "language": "python",
   "sourceType": "notebook"
  },
  "kernelspec": {
   "display_name": "Python 3",
   "language": "python",
   "name": "python3"
  },
  "language_info": {
   "codemirror_mode": {
    "name": "ipython",
    "version": 3
   },
   "file_extension": ".py",
   "mimetype": "text/x-python",
   "name": "python",
   "nbconvert_exporter": "python",
   "pygments_lexer": "ipython3",
   "version": "3.11.11"
  },
  "papermill": {
   "default_parameters": {},
   "duration": 16.573881,
   "end_time": "2025-07-03T09:42:39.133299",
   "environment_variables": {},
   "exception": null,
   "input_path": "__notebook__.ipynb",
   "output_path": "__notebook__.ipynb",
   "parameters": {},
   "start_time": "2025-07-03T09:42:22.559418",
   "version": "2.6.0"
  }
 },
 "nbformat": 4,
 "nbformat_minor": 5
}
