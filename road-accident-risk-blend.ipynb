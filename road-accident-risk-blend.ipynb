{
 "cells": [
  {
   "cell_type": "markdown",
   "id": "dd6666ca",
   "metadata": {
    "papermill": {
     "duration": 0.003153,
     "end_time": "2025-10-07T13:09:27.757998",
     "exception": false,
     "start_time": "2025-10-07T13:09:27.754845",
     "status": "completed"
    },
    "tags": []
   },
   "source": [
    "<div style=\"padding:18px;border-radius:12px;background:linear-gradient(135deg,#f8fafc,#eef2ff);border:1px solid #e5e7eb\">\n",
    "  <h1 style=\"margin:0;font-size:34px;font-weight:800;\">🍹 Minimal Submission Blender</h1>\n",
    "  <p style=\"margin:8px 0 0 0;color:#334155;\">Loads multiple submission CSVs, performs lightweight checks, blends with a weight dict, and exports the result.</p>\n",
    "</div>"
   ]
  },
  {
   "cell_type": "markdown",
   "id": "984f78db",
   "metadata": {
    "papermill": {
     "duration": 0.002281,
     "end_time": "2025-10-07T13:09:27.763317",
     "exception": false,
     "start_time": "2025-10-07T13:09:27.761036",
     "status": "completed"
    },
    "tags": []
   },
   "source": [
    "\n",
    "## 1) Setup\n",
    "Import libraries and define the weight dictionary.\n"
   ]
  },
  {
   "cell_type": "code",
   "execution_count": 1,
   "id": "0bea2659",
   "metadata": {
    "execution": {
     "iopub.execute_input": "2025-10-07T13:09:27.769646Z",
     "iopub.status.busy": "2025-10-07T13:09:27.769324Z",
     "iopub.status.idle": "2025-10-07T13:09:29.607103Z",
     "shell.execute_reply": "2025-10-07T13:09:29.606060Z"
    },
    "papermill": {
     "duration": 1.84306,
     "end_time": "2025-10-07T13:09:29.608908",
     "exception": false,
     "start_time": "2025-10-07T13:09:27.765848",
     "status": "completed"
    },
    "tags": []
   },
   "outputs": [],
   "source": [
    "# Import libraries\n",
    "import numpy as np\n",
    "import pandas as pd"
   ]
  },
  {
   "cell_type": "code",
   "execution_count": 2,
   "id": "0fadeeb7",
   "metadata": {
    "execution": {
     "iopub.execute_input": "2025-10-07T13:09:29.616452Z",
     "iopub.status.busy": "2025-10-07T13:09:29.615520Z",
     "iopub.status.idle": "2025-10-07T13:09:29.620442Z",
     "shell.execute_reply": "2025-10-07T13:09:29.619344Z"
    },
    "papermill": {
     "duration": 0.010137,
     "end_time": "2025-10-07T13:09:29.621914",
     "exception": false,
     "start_time": "2025-10-07T13:09:29.611777",
     "status": "completed"
    },
    "tags": []
   },
   "outputs": [],
   "source": [
    "# Define the weights dictionary (path -> weight)\n",
    "weights = {\n",
    "    \"/kaggle/input/predicting-road-accident-risk-vault/submission.csv\": 1.2,\n",
    "    \"/kaggle/input/predicting-road-accident-risk-vault/test_tabm_plus_origcol_tuned.csv\": 0.1,\n",
    "}"
   ]
  },
  {
   "cell_type": "markdown",
   "id": "3f3a97be",
   "metadata": {
    "papermill": {
     "duration": 0.002382,
     "end_time": "2025-10-07T13:09:29.626989",
     "exception": false,
     "start_time": "2025-10-07T13:09:29.624607",
     "status": "completed"
    },
    "tags": []
   },
   "source": [
    "## 2) Helpers\n",
    "Tiny utilities for normalization, loading, and column inference."
   ]
  },
  {
   "cell_type": "code",
   "execution_count": 3,
   "id": "aa5c25e5",
   "metadata": {
    "execution": {
     "iopub.execute_input": "2025-10-07T13:09:29.633318Z",
     "iopub.status.busy": "2025-10-07T13:09:29.632955Z",
     "iopub.status.idle": "2025-10-07T13:09:29.641026Z",
     "shell.execute_reply": "2025-10-07T13:09:29.640070Z"
    },
    "papermill": {
     "duration": 0.012955,
     "end_time": "2025-10-07T13:09:29.642462",
     "exception": false,
     "start_time": "2025-10-07T13:09:29.629507",
     "status": "completed"
    },
    "tags": []
   },
   "outputs": [],
   "source": [
    "# Normalize a weight map to sum to 1.0\n",
    "def normalize_weights(weight_map):\n",
    "    # Compute sum of weights\n",
    "    total = sum(weight_map.values())\n",
    "    # Validate total is non-zero\n",
    "    if total == 0:\n",
    "        # Raise an error for zero-sum weights\n",
    "        raise ValueError(\"Weights sum to zero.\")\n",
    "    # Return normalized weights\n",
    "    return {k: v / total for k, v in weight_map.items()}\n",
    "\n",
    "# Infer the prediction column name\n",
    "def infer_prediction_column(df):\n",
    "    # Define candidate column names\n",
    "    candidates = [\"accident_risk\"]\n",
    "    # Return the first candidate that exists\n",
    "    for c in candidates:\n",
    "        if c in df.columns:\n",
    "            return c\n",
    "    # Fallback to first numeric column\n",
    "    numeric_cols = df.select_dtypes(include=[np.number]).columns.tolist()\n",
    "    # Validate that a numeric column exists\n",
    "    if not numeric_cols:\n",
    "        # Raise error when nothing numeric is found\n",
    "        raise ValueError(\"No numeric columns available to infer predictions.\")\n",
    "    # Return the first numeric column as a fallback\n",
    "    return numeric_cols[0]\n",
    "\n",
    "# Load a CSV and return the frame and its prediction column\n",
    "def load_csv(path):\n",
    "    # Read the CSV\n",
    "    df = pd.read_csv(path)\n",
    "    # Infer the prediction column\n",
    "    pred_col = infer_prediction_column(df)\n",
    "    # Return the frame and prediction column name\n",
    "    return df, pred_col\n",
    "\n",
    "# Minimal EDA just for submission columns\n",
    "def minimal_submission_eda(name, df, pred_col):\n",
    "    # Print file header\n",
    "    print(f\"\\n=== {name} ===\")\n",
    "    # Print shape\n",
    "    print(\"Shape:\", df.shape)\n",
    "    # Print prediction column\n",
    "    print(\"Prediction column:\", pred_col)\n",
    "    # Print missing values for prediction\n",
    "    print(\"Missing in prediction:\", df[pred_col].isna().sum())\n",
    "    # Print simple numeric stats for prediction\n",
    "    print(df[pred_col].describe())"
   ]
  },
  {
   "cell_type": "markdown",
   "id": "7fda86d5",
   "metadata": {
    "papermill": {
     "duration": 0.002408,
     "end_time": "2025-10-07T13:09:29.647869",
     "exception": false,
     "start_time": "2025-10-07T13:09:29.645461",
     "status": "completed"
    },
    "tags": []
   },
   "source": [
    "## 3) Load\n",
    "Read each CSV and identify the prediction column."
   ]
  },
  {
   "cell_type": "code",
   "execution_count": 4,
   "id": "0bdad0cd",
   "metadata": {
    "execution": {
     "iopub.execute_input": "2025-10-07T13:09:29.654230Z",
     "iopub.status.busy": "2025-10-07T13:09:29.653875Z",
     "iopub.status.idle": "2025-10-07T13:09:29.982439Z",
     "shell.execute_reply": "2025-10-07T13:09:29.981452Z"
    },
    "papermill": {
     "duration": 0.333283,
     "end_time": "2025-10-07T13:09:29.983731",
     "exception": false,
     "start_time": "2025-10-07T13:09:29.650448",
     "status": "completed"
    },
    "tags": []
   },
   "outputs": [
    {
     "data": {
      "text/html": [
       "<div>\n",
       "<style scoped>\n",
       "    .dataframe tbody tr th:only-of-type {\n",
       "        vertical-align: middle;\n",
       "    }\n",
       "\n",
       "    .dataframe tbody tr th {\n",
       "        vertical-align: top;\n",
       "    }\n",
       "\n",
       "    .dataframe thead th {\n",
       "        text-align: right;\n",
       "    }\n",
       "</style>\n",
       "<table border=\"1\" class=\"dataframe\">\n",
       "  <thead>\n",
       "    <tr style=\"text-align: right;\">\n",
       "      <th></th>\n",
       "      <th>id</th>\n",
       "      <th>accident_risk</th>\n",
       "    </tr>\n",
       "  </thead>\n",
       "  <tbody>\n",
       "    <tr>\n",
       "      <th>0</th>\n",
       "      <td>517754</td>\n",
       "      <td>0.296114</td>\n",
       "    </tr>\n",
       "    <tr>\n",
       "      <th>1</th>\n",
       "      <td>517755</td>\n",
       "      <td>0.119630</td>\n",
       "    </tr>\n",
       "    <tr>\n",
       "      <th>2</th>\n",
       "      <td>517756</td>\n",
       "      <td>0.181670</td>\n",
       "    </tr>\n",
       "  </tbody>\n",
       "</table>\n",
       "</div>"
      ],
      "text/plain": [
       "       id  accident_risk\n",
       "0  517754       0.296114\n",
       "1  517755       0.119630\n",
       "2  517756       0.181670"
      ]
     },
     "metadata": {},
     "output_type": "display_data"
    },
    {
     "data": {
      "text/html": [
       "<div>\n",
       "<style scoped>\n",
       "    .dataframe tbody tr th:only-of-type {\n",
       "        vertical-align: middle;\n",
       "    }\n",
       "\n",
       "    .dataframe tbody tr th {\n",
       "        vertical-align: top;\n",
       "    }\n",
       "\n",
       "    .dataframe thead th {\n",
       "        text-align: right;\n",
       "    }\n",
       "</style>\n",
       "<table border=\"1\" class=\"dataframe\">\n",
       "  <thead>\n",
       "    <tr style=\"text-align: right;\">\n",
       "      <th></th>\n",
       "      <th>id</th>\n",
       "      <th>accident_risk</th>\n",
       "    </tr>\n",
       "  </thead>\n",
       "  <tbody>\n",
       "    <tr>\n",
       "      <th>0</th>\n",
       "      <td>517754</td>\n",
       "      <td>0.296001</td>\n",
       "    </tr>\n",
       "    <tr>\n",
       "      <th>1</th>\n",
       "      <td>517755</td>\n",
       "      <td>0.117532</td>\n",
       "    </tr>\n",
       "    <tr>\n",
       "      <th>2</th>\n",
       "      <td>517756</td>\n",
       "      <td>0.180968</td>\n",
       "    </tr>\n",
       "  </tbody>\n",
       "</table>\n",
       "</div>"
      ],
      "text/plain": [
       "       id  accident_risk\n",
       "0  517754       0.296001\n",
       "1  517755       0.117532\n",
       "2  517756       0.180968"
      ]
     },
     "metadata": {},
     "output_type": "display_data"
    }
   ],
   "source": [
    "# Normalize weights\n",
    "norm_weights = normalize_weights(weights)\n",
    "\n",
    "# Prepare containers\n",
    "dfs = {}\n",
    "pred_cols = {}\n",
    "pred_series = {}\n",
    "\n",
    "# Iterate through the files in the weight map\n",
    "for path, w in norm_weights.items():\n",
    "    # Load the CSV and infer the prediction column\n",
    "    df, pred_col = load_csv(path)\n",
    "    # Store the DataFrame\n",
    "    dfs[path] = df\n",
    "    # Store the prediction column name\n",
    "    pred_cols[path] = pred_col\n",
    "    # Store the prediction Series\n",
    "    pred_series[path] = df[pred_col]\n",
    "\n",
    "# Display first few rows for a quick glance\n",
    "for path, df in dfs.items():\n",
    "    # Show a small preview\n",
    "    display(df.head(3))"
   ]
  },
  {
   "cell_type": "markdown",
   "id": "2ee8c340",
   "metadata": {
    "papermill": {
     "duration": 0.002802,
     "end_time": "2025-10-07T13:09:29.989504",
     "exception": false,
     "start_time": "2025-10-07T13:09:29.986702",
     "status": "completed"
    },
    "tags": []
   },
   "source": [
    "## 4) Simple Checks\n",
    "Lightweight sanity checks only for submission predictions."
   ]
  },
  {
   "cell_type": "code",
   "execution_count": 5,
   "id": "84ca2288",
   "metadata": {
    "execution": {
     "iopub.execute_input": "2025-10-07T13:09:29.996712Z",
     "iopub.status.busy": "2025-10-07T13:09:29.995947Z",
     "iopub.status.idle": "2025-10-07T13:09:30.028134Z",
     "shell.execute_reply": "2025-10-07T13:09:30.027254Z"
    },
    "papermill": {
     "duration": 0.037407,
     "end_time": "2025-10-07T13:09:30.029673",
     "exception": false,
     "start_time": "2025-10-07T13:09:29.992266",
     "status": "completed"
    },
    "tags": []
   },
   "outputs": [
    {
     "name": "stdout",
     "output_type": "stream",
     "text": [
      "\n",
      "=== /kaggle/input/predicting-road-accident-risk-vault/submission.csv ===\n",
      "Shape: (172585, 2)\n",
      "Prediction column: accident_risk\n",
      "Missing in prediction: 0\n",
      "count    172585.000000\n",
      "mean          0.351653\n",
      "std           0.157366\n",
      "min           0.014443\n",
      "25%           0.241393\n",
      "50%           0.335573\n",
      "75%           0.454288\n",
      "max           0.872705\n",
      "Name: accident_risk, dtype: float64\n",
      "\n",
      "=== /kaggle/input/predicting-road-accident-risk-vault/test_tabm_plus_origcol_tuned.csv ===\n",
      "Shape: (172585, 2)\n",
      "Prediction column: accident_risk\n",
      "Missing in prediction: 0\n",
      "count    172585.000000\n",
      "mean          0.351481\n",
      "std           0.157728\n",
      "min           0.007166\n",
      "25%           0.240518\n",
      "50%           0.335231\n",
      "75%           0.454553\n",
      "max           0.872947\n",
      "Name: accident_risk, dtype: float64\n"
     ]
    }
   ],
   "source": [
    "# Run minimal EDA for each submission\n",
    "for path, df in dfs.items():\n",
    "    # Retrieve the prediction column for this file\n",
    "    pred_col = pred_cols[path]\n",
    "    # Execute minimal EDA\n",
    "    minimal_submission_eda(path, df, pred_col)"
   ]
  },
  {
   "cell_type": "markdown",
   "id": "c457d414",
   "metadata": {
    "papermill": {
     "duration": 0.002796,
     "end_time": "2025-10-07T13:09:30.035661",
     "exception": false,
     "start_time": "2025-10-07T13:09:30.032865",
     "status": "completed"
    },
    "tags": []
   },
   "source": [
    "## 5) Blend\n",
    "Apply the normalized weights to the predictions and create a `blended_prediction`."
   ]
  },
  {
   "cell_type": "code",
   "execution_count": 6,
   "id": "13827f18",
   "metadata": {
    "execution": {
     "iopub.execute_input": "2025-10-07T13:09:30.043236Z",
     "iopub.status.busy": "2025-10-07T13:09:30.042914Z",
     "iopub.status.idle": "2025-10-07T13:09:30.069464Z",
     "shell.execute_reply": "2025-10-07T13:09:30.068571Z"
    },
    "papermill": {
     "duration": 0.031809,
     "end_time": "2025-10-07T13:09:30.070838",
     "exception": false,
     "start_time": "2025-10-07T13:09:30.039029",
     "status": "completed"
    },
    "tags": []
   },
   "outputs": [
    {
     "data": {
      "text/html": [
       "<div>\n",
       "<style scoped>\n",
       "    .dataframe tbody tr th:only-of-type {\n",
       "        vertical-align: middle;\n",
       "    }\n",
       "\n",
       "    .dataframe tbody tr th {\n",
       "        vertical-align: top;\n",
       "    }\n",
       "\n",
       "    .dataframe thead th {\n",
       "        text-align: right;\n",
       "    }\n",
       "</style>\n",
       "<table border=\"1\" class=\"dataframe\">\n",
       "  <thead>\n",
       "    <tr style=\"text-align: right;\">\n",
       "      <th></th>\n",
       "      <th>id</th>\n",
       "      <th>accident_risk</th>\n",
       "    </tr>\n",
       "  </thead>\n",
       "  <tbody>\n",
       "    <tr>\n",
       "      <th>0</th>\n",
       "      <td>517754</td>\n",
       "      <td>0.296105</td>\n",
       "    </tr>\n",
       "    <tr>\n",
       "      <th>1</th>\n",
       "      <td>517755</td>\n",
       "      <td>0.119468</td>\n",
       "    </tr>\n",
       "    <tr>\n",
       "      <th>2</th>\n",
       "      <td>517756</td>\n",
       "      <td>0.181616</td>\n",
       "    </tr>\n",
       "    <tr>\n",
       "      <th>3</th>\n",
       "      <td>517757</td>\n",
       "      <td>0.311009</td>\n",
       "    </tr>\n",
       "    <tr>\n",
       "      <th>4</th>\n",
       "      <td>517758</td>\n",
       "      <td>0.399585</td>\n",
       "    </tr>\n",
       "    <tr>\n",
       "      <th>5</th>\n",
       "      <td>517759</td>\n",
       "      <td>0.463091</td>\n",
       "    </tr>\n",
       "    <tr>\n",
       "      <th>6</th>\n",
       "      <td>517760</td>\n",
       "      <td>0.264101</td>\n",
       "    </tr>\n",
       "    <tr>\n",
       "      <th>7</th>\n",
       "      <td>517761</td>\n",
       "      <td>0.195304</td>\n",
       "    </tr>\n",
       "    <tr>\n",
       "      <th>8</th>\n",
       "      <td>517762</td>\n",
       "      <td>0.375400</td>\n",
       "    </tr>\n",
       "    <tr>\n",
       "      <th>9</th>\n",
       "      <td>517763</td>\n",
       "      <td>0.326356</td>\n",
       "    </tr>\n",
       "  </tbody>\n",
       "</table>\n",
       "</div>"
      ],
      "text/plain": [
       "       id  accident_risk\n",
       "0  517754       0.296105\n",
       "1  517755       0.119468\n",
       "2  517756       0.181616\n",
       "3  517757       0.311009\n",
       "4  517758       0.399585\n",
       "5  517759       0.463091\n",
       "6  517760       0.264101\n",
       "7  517761       0.195304\n",
       "8  517762       0.375400\n",
       "9  517763       0.326356"
      ]
     },
     "metadata": {},
     "output_type": "display_data"
    }
   ],
   "source": [
    "# Initialize blended series\n",
    "blended = None\n",
    "\n",
    "# Iterate through paths and normalized weights\n",
    "for path, w in norm_weights.items():\n",
    "    # Retrieve the current prediction series\n",
    "    s = pred_series[path].astype(float)\n",
    "    # Initialize blended or accumulate weighted sum\n",
    "    if blended is None:\n",
    "        # Start with weighted base\n",
    "        blended = s * float(w)\n",
    "    else:\n",
    "        # Add weighted component\n",
    "        blended = blended + s * float(w)\n",
    "\n",
    "# Choose a base DataFrame to attach the blended column\n",
    "base_path = list(dfs.keys())[0]\n",
    "\n",
    "# Create a copy as the output DataFrame\n",
    "out_df = dfs[base_path].copy()\n",
    "\n",
    "# Assign the blended prediction\n",
    "out_df[\"accident_risk\"] = blended\n",
    "\n",
    "# Show a small preview\n",
    "display(out_df.head(10))"
   ]
  },
  {
   "cell_type": "markdown",
   "id": "7a720b8d",
   "metadata": {
    "papermill": {
     "duration": 0.003105,
     "end_time": "2025-10-07T13:09:30.077398",
     "exception": false,
     "start_time": "2025-10-07T13:09:30.074293",
     "status": "completed"
    },
    "tags": []
   },
   "source": [
    "## 6) Export\n",
    "Write the blended submission to disk."
   ]
  },
  {
   "cell_type": "code",
   "execution_count": 7,
   "id": "5b1da3aa",
   "metadata": {
    "execution": {
     "iopub.execute_input": "2025-10-07T13:09:30.085936Z",
     "iopub.status.busy": "2025-10-07T13:09:30.085571Z",
     "iopub.status.idle": "2025-10-07T13:09:30.506076Z",
     "shell.execute_reply": "2025-10-07T13:09:30.505048Z"
    },
    "papermill": {
     "duration": 0.427074,
     "end_time": "2025-10-07T13:09:30.507630",
     "exception": false,
     "start_time": "2025-10-07T13:09:30.080556",
     "status": "completed"
    },
    "tags": []
   },
   "outputs": [
    {
     "name": "stdout",
     "output_type": "stream",
     "text": [
      "✅ Saved: /kaggle/working/submission.csv\n"
     ]
    }
   ],
   "source": [
    "# Define output path\n",
    "output_path = \"/kaggle/working/submission.csv\"\n",
    "\n",
    "# Save without index\n",
    "out_df.to_csv(output_path, index=False)\n",
    "\n",
    "# Print confirmation\n",
    "print(f\"✅ Saved: {output_path}\")"
   ]
  }
 ],
 "metadata": {
  "kaggle": {
   "accelerator": "none",
   "dataSources": [
    {
     "databundleVersionId": 13760552,
     "sourceId": 91721,
     "sourceType": "competition"
    },
    {
     "datasetId": 8395648,
     "sourceId": 13283864,
     "sourceType": "datasetVersion"
    }
   ],
   "dockerImageVersionId": 31089,
   "isGpuEnabled": false,
   "isInternetEnabled": true,
   "language": "python",
   "sourceType": "notebook"
  },
  "kernelspec": {
   "display_name": "Python 3",
   "language": "python",
   "name": "python3"
  },
  "language_info": {
   "codemirror_mode": {
    "name": "ipython",
    "version": 3
   },
   "file_extension": ".py",
   "mimetype": "text/x-python",
   "name": "python",
   "nbconvert_exporter": "python",
   "pygments_lexer": "ipython3",
   "version": "3.11.13"
  },
  "papermill": {
   "default_parameters": {},
   "duration": 8.59998,
   "end_time": "2025-10-07T13:09:31.030782",
   "environment_variables": {},
   "exception": null,
   "input_path": "__notebook__.ipynb",
   "output_path": "__notebook__.ipynb",
   "parameters": {},
   "start_time": "2025-10-07T13:09:22.430802",
   "version": "2.6.0"
  }
 },
 "nbformat": 4,
 "nbformat_minor": 5
}
