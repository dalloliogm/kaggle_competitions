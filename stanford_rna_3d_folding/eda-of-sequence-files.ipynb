{
 "cells": [
  {
   "cell_type": "markdown",
   "id": "850db490",
   "metadata": {
    "papermill": {
     "duration": 0.003746,
     "end_time": "2025-03-05T11:41:47.645052",
     "exception": false,
     "start_time": "2025-03-05T11:41:47.641306",
     "status": "completed"
    },
    "tags": []
   },
   "source": [
    "# EDA of Sequence files\n",
    "\n",
    "This notebook explores the contents of the sequecne files, starting from the the training one.\n",
    "\n",
    "The format of this file is a bit complex to understand, because the last column contains multi-lines entries, in the FASTA format.\n",
    "\n",
    "For example, in this entry, we have one sequence for Chain A of 1SCL_A:\n",
    "\n",
    "```\n",
    "1SCL_A,GGGUGCUCAGUACGAGAGGAACCGCACCC,1995-01-26,\"THE SARCIN-RICIN LOOP, A MODULAR RNA\",\">1SCL_1|Chain A|RNA SARCIN-RICIN LOOP|Rattus norvegicus (10116)\n",
    "GGGUGCUCAGUACGAGAGGAACCGCACCC\n",
    "\"\n",
    "```\n",
    "\n",
    "This is another entry, with two sequences. \n",
    "\n",
    "The first sequence is 1HMH_1, encoding Chains A, C, E of 1_HMH_E, with sequence GGCGACCCUGAUGAGGCCGAAAGGCCGAAACCGU. \n",
    "\n",
    "The second sequence is 1HMH_2, and it encodes Chains B, D, F, and it reads ACGGTCGGTCGCC.\n",
    "\n",
    "```\n",
    "\n",
    "1HMH_E,GGCGACCCUGAUGAGGCCGAAAGGCCGAAACCGU,1995-12-07,THREE-DIMENSIONAL STRUCTURE OF A HAMMERHEAD RIBOZYME,\">1HMH_1|Chains A, C, E|HAMMERHEAD RIBOZYME-RNA STRAND|\n",
    "GGCGACCCUGAUGAGGCCGAAAGGCCGAAACCGU\n",
    ">1HMH_2|Chains B, D, F|HAMMERHEAD RIBOZYME-DNA STRAND|\n",
    "ACGGTCGGTCGCC\n",
    "\"\n",
    "\n",
    "```\n",
    "\n",
    "For this second example, according to the competition home page, we only need to make a prediction for the first chain, with sequence GGCGACCCUGAUGAGGCCGAAAGGCCGAAACCGU. We can ignore the second sequence, during the prediction, although it may be useful to use it for training.\n"
   ]
  },
  {
   "cell_type": "markdown",
   "id": "c4d9b578",
   "metadata": {
    "papermill": {
     "duration": 0.002801,
     "end_time": "2025-03-05T11:41:47.651437",
     "exception": false,
     "start_time": "2025-03-05T11:41:47.648636",
     "status": "completed"
    },
    "tags": []
   },
   "source": [
    "## Original Description of the Sequence files\n",
    "\n",
    "The following is the description of the sequences files, copy&pasted from the [competition home page](https://www.kaggle.com/competitions/stanford-rna-3d-folding/data)\n",
    "\n",
    "\\[train/validation/test]_sequences.csv - the target sequences of the RNA molecules.\n",
    "\n",
    "- target_id - (string) An arbitrary identifier. In train_sequences.csv, this is formatted as pdb_id_chain_id, where pdb_id is the id of the entry in the Protein Data Bank and chain_id is the chain id of the monomer in the pdb file.\n",
    "- sequence - (string) The RNA sequence. For test_sequences.csv, this is guaranteed to be a string of A, C, G, and U. For some train_sequences.csv, other characters may appear.\n",
    "- temporal_cutoff - (string) The date in yyyy-mm-dd format that the sequence was published. See Additional Notes.\n",
    "- description - (string) Details of the origins of the sequence. For a few targets, additional information on small molecule ligands bound to the RNA is included. You don't need to make predictions for these ligand coordinates.\n",
    "- all_sequences - (string) FASTA-formatted sequences of all molecular chains present in the experimentally solved structure. In a few cases this may include multiple copies of the target RNA (look for the word \"Chains\" in the header) and/or partners like other RNAs or proteins or DNA. You don't need to make predictions for all these molecules; if you do, just submit predictions for sequence. Some entries are blank.\n"
   ]
  },
  {
   "cell_type": "markdown",
   "id": "dafa2158",
   "metadata": {
    "papermill": {
     "duration": 0.002508,
     "end_time": "2025-03-05T11:41:47.656801",
     "exception": false,
     "start_time": "2025-03-05T11:41:47.654293",
     "status": "completed"
    },
    "tags": []
   },
   "source": [
    "### Contents of train_sequences.csv\n",
    "\n",
    "These are the contents of the train_sequences.file. \n",
    "\n",
    "There are some inconsistencies:\n",
    "- The first line of the file seem to contain the column headers, separated by \",\". However, the rest of the file contains \"|\" separated entries. \n",
    "- some lines begin with `>`, others do not\n",
    "- in the second column, some entries contain the sequence, while others contain words like \"Chain\".\n",
    "-  "
   ]
  },
  {
   "cell_type": "code",
   "execution_count": 1,
   "id": "b808d45b",
   "metadata": {
    "execution": {
     "iopub.execute_input": "2025-03-05T11:41:47.664288Z",
     "iopub.status.busy": "2025-03-05T11:41:47.663774Z",
     "iopub.status.idle": "2025-03-05T11:41:47.795494Z",
     "shell.execute_reply": "2025-03-05T11:41:47.794010Z"
    },
    "papermill": {
     "duration": 0.138761,
     "end_time": "2025-03-05T11:41:47.798405",
     "exception": false,
     "start_time": "2025-03-05T11:41:47.659644",
     "status": "completed"
    },
    "tags": []
   },
   "outputs": [
    {
     "name": "stdout",
     "output_type": "stream",
     "text": [
      "target_id,sequence,temporal_cutoff,description,all_sequences\r\n",
      "1SCL_A,GGGUGCUCAGUACGAGAGGAACCGCACCC,1995-01-26,\"THE SARCIN-RICIN LOOP, A MODULAR RNA\",\">1SCL_1|Chain A|RNA SARCIN-RICIN LOOP|Rattus norvegicus (10116)\r\n",
      "GGGUGCUCAGUACGAGAGGAACCGCACCC\r\n",
      "\"\r\n",
      "1RNK_A,GGCGCAGUGGGCUAGCGCCACUCAAAAGGCCCAU,1995-02-27,THE STRUCTURE OF AN RNA PSEUDOKNOT THAT CAUSES EFFICIENT FRAMESHIFTING IN MOUSE MAMMARY TUMOR VIRUS,\">1RNK_1|Chain A|RNA PSEUDOKNOT|null\r\n",
      "GGCGCAGUGGGCUAGCGCCACUCAAAAGGCCCAU\r\n",
      "\"\r\n",
      "1RHT_A,GGGACUGACGAUCACGCAGUCUAU,1995-06-03,\"24-MER RNA HAIRPIN COAT PROTEIN BINDING SITE FOR BACTERIOPHAGE R17 (NMR, MINIMIZED AVERAGE STRUCTURE)\",\">1RHT_1|Chain A|RNA (5'-R(P*GP*GP*GP*AP*CP*UP*GP*AP*CP*GP*AP*UP*CP*AP*CP*GP*CP*AP*GP*UP*CP*UP*AP*U)-3')|null\r\n",
      "GGGACUGACGAUCACGCAGUCUAU\r\n",
      "\"\r\n",
      "1HLX_A,GGGAUAACUUCGGUUGUCCC,1995-09-15,P1 HELIX NUCLEIC ACIDS (DNA/RNA) RIBONUCLEIC ACID,\">1HLX_1|Chain A|RNA (5'-R(*GP*GP*GP*AP*UP*AP*AP*CP*UP*UP*CP*GP*GP*UP*UP*GP*UP*CP*CP*C)-3')|null\r\n",
      "GGGAUAACUUCGGUUGUCCC\r\n",
      "\"\r\n",
      "1HMH_E,GGCGACCCUGAUGAGGCCGAAAGGCCGAAACCGU,1995-12-07,THREE-DIMENSIONAL STRUCTURE OF A HAMMERHEAD RIBOZYME,\">1HMH_1|Chains A, C, E|HAMMERHEAD RIBOZYME-RNA STRAND|\r\n",
      "GGCGACCCUGAUGAGGCCGAAAGGCCGAAACCGU\r\n",
      ">1HMH_2|Chains B, D, F|HAMMERHEAD RIBOZYME-DNA STRAND|\r\n",
      "ACGGTCGGTCGCC\r\n",
      "\"\r\n",
      "1RNG_A,GGCGCUUGCGUC,1995-12-07,SOLUTION STRUCTURE OF THE CUUG HAIRPIN: A NOVEL RNA TETRALOOP MOTIF,\">1RNG_1|Chain A|RNA (5'-R(*GP*GP*CP*GP*CP*UP*UP*GP*CP*GP*UP*C)-3')|null\r\n",
      "GGCGCUUGCGUC\r\n",
      "\"\r\n",
      "1MME_D,GGCCGAAACUCGUAAGAGUCACCAC,1996-02-06,THE CRYSTAL STRUCTURE OF AN ALL-RNA HAMMERHEAD RIBOZYME: A PROPOSED MECHANISM FOR RNA CATALYTIC CLEAVAGE,\">1MME_1|Chains A, C|RNA HAMMERHEAD RIBOZYME|\r\n",
      "GUGGUCUGAUGAGGCC\r\n",
      ">1MME_2|Chains B, D|RNA HAMMERHEAD RIBOZYME|\r\n",
      "GGCCGAAACUCGUAAGAGUCACCAC\r\n"
     ]
    }
   ],
   "source": [
    "!head -n 25 /kaggle/input/stanford-rna-3d-folding/train_sequences.csv"
   ]
  },
  {
   "cell_type": "markdown",
   "id": "c5f348fd",
   "metadata": {
    "papermill": {
     "duration": 0.002975,
     "end_time": "2025-03-05T11:41:47.804920",
     "exception": false,
     "start_time": "2025-03-05T11:41:47.801945",
     "status": "completed"
    },
    "tags": []
   },
   "source": [
    "### Inconsistency 1: Some rows begin with \">\" and use | as separator\n",
    "\n",
    "Some rows begin with \">\" and use | as separator. Other rows in the file do not start with \">\", and use \",\" as separator."
   ]
  },
  {
   "cell_type": "code",
   "execution_count": 2,
   "id": "dc671151",
   "metadata": {
    "execution": {
     "iopub.execute_input": "2025-03-05T11:41:47.812879Z",
     "iopub.status.busy": "2025-03-05T11:41:47.812440Z",
     "iopub.status.idle": "2025-03-05T11:41:47.950986Z",
     "shell.execute_reply": "2025-03-05T11:41:47.949511Z"
    },
    "papermill": {
     "duration": 0.144921,
     "end_time": "2025-03-05T11:41:47.953011",
     "exception": false,
     "start_time": "2025-03-05T11:41:47.808090",
     "status": "completed"
    },
    "tags": []
   },
   "outputs": [
    {
     "name": "stdout",
     "output_type": "stream",
     "text": [
      ">1HMH_2|Chains B, D, F|HAMMERHEAD RIBOZYME-DNA STRAND|\r\n",
      "ACGGTCGGTCGCC\r\n",
      "\"\r\n",
      "--\r\n",
      ">1MME_2|Chains B, D|RNA HAMMERHEAD RIBOZYME|\r\n",
      "GGCCGAAACUCGUAAGAGUCACCAC\r\n",
      "\"\r\n",
      "--\r\n",
      ">1BIV_2|Chain B|TAT PEPTIDE|Bovine immunodeficiency virus (11657)\r\n",
      "SGPRPRGTRGKGRRIRR\r\n",
      "grep: write error: Broken pipe\r\n"
     ]
    }
   ],
   "source": [
    "# Entries that begin with \">\"\n",
    "!grep \"^>\" -A 2 /kaggle/input/stanford-rna-3d-folding/train_sequences.csv | head"
   ]
  },
  {
   "cell_type": "code",
   "execution_count": 3,
   "id": "ba9dde45",
   "metadata": {
    "execution": {
     "iopub.execute_input": "2025-03-05T11:41:47.961622Z",
     "iopub.status.busy": "2025-03-05T11:41:47.961005Z",
     "iopub.status.idle": "2025-03-05T11:41:48.133480Z",
     "shell.execute_reply": "2025-03-05T11:41:48.132031Z"
    },
    "papermill": {
     "duration": 0.179285,
     "end_time": "2025-03-05T11:41:48.135729",
     "exception": false,
     "start_time": "2025-03-05T11:41:47.956444",
     "status": "completed"
    },
    "tags": []
   },
   "outputs": [
    {
     "name": "stdout",
     "output_type": "stream",
     "text": [
      "1SCL_A,GGGUGCUCAGUACGAGAGGAACCGCACCC,1995-01-26,\"THE SARCIN-RICIN LOOP, A MODULAR RNA\",\">1SCL_1|Chain A|RNA SARCIN-RICIN LOOP|Rattus norvegicus (10116)\r\n",
      "GGGUGCUCAGUACGAGAGGAACCGCACCC\r\n",
      "\"\r\n"
     ]
    }
   ],
   "source": [
    "# Entries that do NOT begin with \">\"\n",
    "!grep \"^1SCL\" -A 2 /kaggle/input/stanford-rna-3d-folding/train_sequences.csv | head"
   ]
  },
  {
   "cell_type": "markdown",
   "id": "292992dc",
   "metadata": {
    "papermill": {
     "duration": 0.002841,
     "end_time": "2025-03-05T11:41:48.142056",
     "exception": false,
     "start_time": "2025-03-05T11:41:48.139215",
     "status": "completed"
    },
    "tags": []
   },
   "source": [
    "### Inconsistency 2: some entries have a keyword in the second column, in place of the sequence.\n",
    "\n",
    "For most of the entries, the sequence is repeated twice: once in the second column of the first row, and another time in the second row.\n",
    "\n",
    "However, some rows have a text description in the second column, such as \"Chain\"."
   ]
  },
  {
   "cell_type": "code",
   "execution_count": 4,
   "id": "3a64ef28",
   "metadata": {
    "execution": {
     "iopub.execute_input": "2025-03-05T11:41:48.149667Z",
     "iopub.status.busy": "2025-03-05T11:41:48.149213Z",
     "iopub.status.idle": "2025-03-05T11:41:48.271956Z",
     "shell.execute_reply": "2025-03-05T11:41:48.270537Z"
    },
    "papermill": {
     "duration": 0.129536,
     "end_time": "2025-03-05T11:41:48.274589",
     "exception": false,
     "start_time": "2025-03-05T11:41:48.145053",
     "status": "completed"
    },
    "tags": []
   },
   "outputs": [
    {
     "name": "stdout",
     "output_type": "stream",
     "text": [
      "target_id,sequence,temporal_cutoff,description,all_sequences\r\n",
      "1SCL_A,GGGUGCUCAGUACGAGAGGAACCGCACCC,1995-01-26,\"THE SARCIN-RICIN LOOP, A MODULAR RNA\",\">1SCL_1|Chain A|RNA SARCIN-RICIN LOOP|Rattus norvegicus (10116)\r\n",
      "GGGUGCUCAGUACGAGAGGAACCGCACCC\r\n",
      "\"\r\n",
      "1RNK_A,GGCGCAGUGGGCUAGCGCCACUCAAAAGGCCCAU,1995-02-27,THE STRUCTURE OF AN RNA PSEUDOKNOT THAT CAUSES EFFICIENT FRAMESHIFTING IN MOUSE MAMMARY TUMOR VIRUS,\">1RNK_1|Chain A|RNA PSEUDOKNOT|null\r\n",
      "GGCGCAGUGGGCUAGCGCCACUCAAAAGGCCCAU\r\n",
      "\"\r\n",
      "1RHT_A,GGGACUGACGAUCACGCAGUCUAU,1995-06-03,\"24-MER RNA HAIRPIN COAT PROTEIN BINDING SITE FOR BACTERIOPHAGE R17 (NMR, MINIMIZED AVERAGE STRUCTURE)\",\">1RHT_1|Chain A|RNA (5'-R(P*GP*GP*GP*AP*CP*UP*GP*AP*CP*GP*AP*UP*CP*AP*CP*GP*CP*AP*GP*UP*CP*UP*AP*U)-3')|null\r\n",
      "GGGACUGACGAUCACGCAGUCUAU\r\n",
      "\"\r\n"
     ]
    }
   ],
   "source": [
    "!head /kaggle/input/stanford-rna-3d-folding/train_sequences.csv"
   ]
  },
  {
   "cell_type": "code",
   "execution_count": 5,
   "id": "0d73bd04",
   "metadata": {
    "execution": {
     "iopub.execute_input": "2025-03-05T11:41:48.284746Z",
     "iopub.status.busy": "2025-03-05T11:41:48.284294Z",
     "iopub.status.idle": "2025-03-05T11:41:49.426694Z",
     "shell.execute_reply": "2025-03-05T11:41:49.425122Z"
    },
    "papermill": {
     "duration": 1.149621,
     "end_time": "2025-03-05T11:41:49.428639",
     "exception": false,
     "start_time": "2025-03-05T11:41:48.279018",
     "status": "completed"
    },
    "tags": []
   },
   "outputs": [
    {
     "name": "stdout",
     "output_type": "stream",
     "text": [
      "  target_id                            sequence temporal_cutoff  \\\n",
      "0    1SCL_A       GGGUGCUCAGUACGAGAGGAACCGCACCC      1995-01-26   \n",
      "1    1RNK_A  GGCGCAGUGGGCUAGCGCCACUCAAAAGGCCCAU      1995-02-27   \n",
      "2    1RHT_A            GGGACUGACGAUCACGCAGUCUAU      1995-06-03   \n",
      "3    1HLX_A                GGGAUAACUUCGGUUGUCCC      1995-09-15   \n",
      "4    1HMH_E  GGCGACCCUGAUGAGGCCGAAAGGCCGAAACCGU      1995-12-07   \n",
      "\n",
      "                                         description  \\\n",
      "0               THE SARCIN-RICIN LOOP, A MODULAR RNA   \n",
      "1  THE STRUCTURE OF AN RNA PSEUDOKNOT THAT CAUSES...   \n",
      "2  24-MER RNA HAIRPIN COAT PROTEIN BINDING SITE F...   \n",
      "3  P1 HELIX NUCLEIC ACIDS (DNA/RNA) RIBONUCLEIC ACID   \n",
      "4  THREE-DIMENSIONAL STRUCTURE OF A HAMMERHEAD RI...   \n",
      "\n",
      "                                       all_sequences  \n",
      "0  >1SCL_1|Chain A|RNA SARCIN-RICIN LOOP|Rattus n...  \n",
      "1  >1RNK_1|Chain A|RNA PSEUDOKNOT|null\\nGGCGCAGUG...  \n",
      "2  >1RHT_1|Chain A|RNA (5'-R(P*GP*GP*GP*AP*CP*UP*...  \n",
      "3  >1HLX_1|Chain A|RNA (5'-R(*GP*GP*GP*AP*UP*AP*A...  \n",
      "4  >1HMH_1|Chains A, C, E|HAMMERHEAD RIBOZYME-RNA...  \n"
     ]
    }
   ],
   "source": [
    "import pandas as pd\n",
    "import csv\n",
    "\n",
    "# Read only the first four columns, ignoring \"all_sequences\"\n",
    "df = pd.read_csv(\n",
    "    \"/kaggle/input/stanford-rna-3d-folding/train_sequences.csv\",\n",
    "    engine=\"python\",\n",
    "    quoting=csv.QUOTE_MINIMAL,\n",
    "    usecols=[\"target_id\", \"sequence\", \"temporal_cutoff\", \"description\", \"all_sequences\"]\n",
    ")\n",
    "\n",
    "print(df.head())"
   ]
  },
  {
   "cell_type": "code",
   "execution_count": 6,
   "id": "eb52905a",
   "metadata": {
    "execution": {
     "iopub.execute_input": "2025-03-05T11:41:49.437085Z",
     "iopub.status.busy": "2025-03-05T11:41:49.436676Z",
     "iopub.status.idle": "2025-03-05T11:41:49.456046Z",
     "shell.execute_reply": "2025-03-05T11:41:49.454988Z"
    },
    "papermill": {
     "duration": 0.025757,
     "end_time": "2025-03-05T11:41:49.457914",
     "exception": false,
     "start_time": "2025-03-05T11:41:49.432157",
     "status": "completed"
    },
    "tags": []
   },
   "outputs": [
    {
     "data": {
      "text/html": [
       "<div>\n",
       "<style scoped>\n",
       "    .dataframe tbody tr th:only-of-type {\n",
       "        vertical-align: middle;\n",
       "    }\n",
       "\n",
       "    .dataframe tbody tr th {\n",
       "        vertical-align: top;\n",
       "    }\n",
       "\n",
       "    .dataframe thead th {\n",
       "        text-align: right;\n",
       "    }\n",
       "</style>\n",
       "<table border=\"1\" class=\"dataframe\">\n",
       "  <thead>\n",
       "    <tr style=\"text-align: right;\">\n",
       "      <th></th>\n",
       "      <th>target_id</th>\n",
       "      <th>sequence</th>\n",
       "      <th>temporal_cutoff</th>\n",
       "      <th>description</th>\n",
       "      <th>all_sequences</th>\n",
       "    </tr>\n",
       "  </thead>\n",
       "  <tbody>\n",
       "  </tbody>\n",
       "</table>\n",
       "</div>"
      ],
      "text/plain": [
       "Empty DataFrame\n",
       "Columns: [target_id, sequence, temporal_cutoff, description, all_sequences]\n",
       "Index: []"
      ]
     },
     "execution_count": 6,
     "metadata": {},
     "output_type": "execute_result"
    }
   ],
   "source": [
    "df.loc[df.target_id==\">1HMH_2\"]"
   ]
  }
 ],
 "metadata": {
  "kaggle": {
   "accelerator": "none",
   "dataSources": [
    {
     "databundleVersionId": 11228175,
     "sourceId": 87793,
     "sourceType": "competition"
    }
   ],
   "dockerImageVersionId": 30918,
   "isGpuEnabled": false,
   "isInternetEnabled": true,
   "language": "python",
   "sourceType": "notebook"
  },
  "kernelspec": {
   "display_name": "Python 3",
   "language": "python",
   "name": "python3"
  },
  "language_info": {
   "codemirror_mode": {
    "name": "ipython",
    "version": 3
   },
   "file_extension": ".py",
   "mimetype": "text/x-python",
   "name": "python",
   "nbconvert_exporter": "python",
   "pygments_lexer": "ipython3",
   "version": "3.10.12"
  },
  "papermill": {
   "default_parameters": {},
   "duration": 5.437739,
   "end_time": "2025-03-05T11:41:50.082549",
   "environment_variables": {},
   "exception": null,
   "input_path": "__notebook__.ipynb",
   "output_path": "__notebook__.ipynb",
   "parameters": {},
   "start_time": "2025-03-05T11:41:44.644810",
   "version": "2.6.0"
  }
 },
 "nbformat": 4,
 "nbformat_minor": 5
}
