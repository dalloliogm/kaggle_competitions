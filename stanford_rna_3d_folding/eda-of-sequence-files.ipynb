{
 "cells": [
  {
   "cell_type": "markdown",
   "id": "87fb5793",
   "metadata": {
    "papermill": {
     "duration": 0.003286,
     "end_time": "2025-03-05T11:48:37.413286",
     "exception": false,
     "start_time": "2025-03-05T11:48:37.410000",
     "status": "completed"
    },
    "tags": []
   },
   "source": [
    "# EDA of Sequence files\n",
    "\n",
    "This notebook explores the contents of the sequecne files, starting from the the training one.\n",
    "\n",
    "The format of this file is a bit complex to understand, because the last column contains multi-lines entries, in the FASTA format.\n",
    "\n",
    "For example, in this entry, we have one sequence for Chain A of 1SCL_A:\n",
    "\n",
    "```\n",
    "1SCL_A,GGGUGCUCAGUACGAGAGGAACCGCACCC,1995-01-26,\"THE SARCIN-RICIN LOOP, A MODULAR RNA\",\">1SCL_1|Chain A|RNA SARCIN-RICIN LOOP|Rattus norvegicus (10116)\n",
    "GGGUGCUCAGUACGAGAGGAACCGCACCC\n",
    "\"\n",
    "```\n",
    "\n",
    "This is another entry, with two sequences. \n",
    "\n",
    "The first sequence is 1HMH_1, encoding Chains A, C, E of 1_HMH_E, with sequence GGCGACCCUGAUGAGGCCGAAAGGCCGAAACCGU. \n",
    "\n",
    "The second sequence is 1HMH_2, and it encodes Chains B, D, F, and it reads ACGGTCGGTCGCC.\n",
    "\n",
    "```\n",
    "\n",
    "1HMH_E,GGCGACCCUGAUGAGGCCGAAAGGCCGAAACCGU,1995-12-07,THREE-DIMENSIONAL STRUCTURE OF A HAMMERHEAD RIBOZYME,\">1HMH_1|Chains A, C, E|HAMMERHEAD RIBOZYME-RNA STRAND|\n",
    "GGCGACCCUGAUGAGGCCGAAAGGCCGAAACCGU\n",
    ">1HMH_2|Chains B, D, F|HAMMERHEAD RIBOZYME-DNA STRAND|\n",
    "ACGGTCGGTCGCC\n",
    "\"\n",
    "\n",
    "```\n",
    "\n",
    "For this second example, according to the competition home page, we only need to make a prediction for the first chain, with sequence GGCGACCCUGAUGAGGCCGAAAGGCCGAAACCGU. We can ignore the second sequence, during the prediction, although it may be useful to use it for training.\n"
   ]
  },
  {
   "cell_type": "markdown",
   "id": "34920646",
   "metadata": {
    "papermill": {
     "duration": 0.002452,
     "end_time": "2025-03-05T11:48:37.418860",
     "exception": false,
     "start_time": "2025-03-05T11:48:37.416408",
     "status": "completed"
    },
    "tags": []
   },
   "source": [
    "## Original Description of the Sequence files\n",
    "\n",
    "The following is the description of the sequences files, copy&pasted from the [competition home page](https://www.kaggle.com/competitions/stanford-rna-3d-folding/data)\n",
    "\n",
    "\\[train/validation/test]_sequences.csv - the target sequences of the RNA molecules.\n",
    "\n",
    "- target_id - (string) An arbitrary identifier. In train_sequences.csv, this is formatted as pdb_id_chain_id, where pdb_id is the id of the entry in the Protein Data Bank and chain_id is the chain id of the monomer in the pdb file.\n",
    "- sequence - (string) The RNA sequence. For test_sequences.csv, this is guaranteed to be a string of A, C, G, and U. For some train_sequences.csv, other characters may appear.\n",
    "- temporal_cutoff - (string) The date in yyyy-mm-dd format that the sequence was published. See Additional Notes.\n",
    "- description - (string) Details of the origins of the sequence. For a few targets, additional information on small molecule ligands bound to the RNA is included. You don't need to make predictions for these ligand coordinates.\n",
    "- all_sequences - (string) FASTA-formatted sequences of all molecular chains present in the experimentally solved structure. In a few cases this may include multiple copies of the target RNA (look for the word \"Chains\" in the header) and/or partners like other RNAs or proteins or DNA. You don't need to make predictions for all these molecules; if you do, just submit predictions for sequence. Some entries are blank.\n"
   ]
  },
  {
   "cell_type": "markdown",
   "id": "ebb58268",
   "metadata": {
    "papermill": {
     "duration": 0.002371,
     "end_time": "2025-03-05T11:48:37.423998",
     "exception": false,
     "start_time": "2025-03-05T11:48:37.421627",
     "status": "completed"
    },
    "tags": []
   },
   "source": [
    "### Contents of train_sequences.csv\n",
    "\n",
    "These are the first lines of the train_sequences.file. \n",
    "\n",
    "This is a CSV file, but the last column contains multi-line entries, in the FASTA format.\n",
    "\n",
    "Notice how some entries, like 1HMH_E, have multiple sequences.\n"
   ]
  },
  {
   "cell_type": "code",
   "execution_count": 1,
   "id": "93a1bcb9",
   "metadata": {
    "execution": {
     "iopub.execute_input": "2025-03-05T11:48:37.431386Z",
     "iopub.status.busy": "2025-03-05T11:48:37.430838Z",
     "iopub.status.idle": "2025-03-05T11:48:37.562198Z",
     "shell.execute_reply": "2025-03-05T11:48:37.560369Z"
    },
    "papermill": {
     "duration": 0.137346,
     "end_time": "2025-03-05T11:48:37.564219",
     "exception": false,
     "start_time": "2025-03-05T11:48:37.426873",
     "status": "completed"
    },
    "tags": []
   },
   "outputs": [
    {
     "name": "stdout",
     "output_type": "stream",
     "text": [
      "target_id,sequence,temporal_cutoff,description,all_sequences\r\n",
      "1SCL_A,GGGUGCUCAGUACGAGAGGAACCGCACCC,1995-01-26,\"THE SARCIN-RICIN LOOP, A MODULAR RNA\",\">1SCL_1|Chain A|RNA SARCIN-RICIN LOOP|Rattus norvegicus (10116)\r\n",
      "GGGUGCUCAGUACGAGAGGAACCGCACCC\r\n",
      "\"\r\n",
      "1RNK_A,GGCGCAGUGGGCUAGCGCCACUCAAAAGGCCCAU,1995-02-27,THE STRUCTURE OF AN RNA PSEUDOKNOT THAT CAUSES EFFICIENT FRAMESHIFTING IN MOUSE MAMMARY TUMOR VIRUS,\">1RNK_1|Chain A|RNA PSEUDOKNOT|null\r\n",
      "GGCGCAGUGGGCUAGCGCCACUCAAAAGGCCCAU\r\n",
      "\"\r\n",
      "1RHT_A,GGGACUGACGAUCACGCAGUCUAU,1995-06-03,\"24-MER RNA HAIRPIN COAT PROTEIN BINDING SITE FOR BACTERIOPHAGE R17 (NMR, MINIMIZED AVERAGE STRUCTURE)\",\">1RHT_1|Chain A|RNA (5'-R(P*GP*GP*GP*AP*CP*UP*GP*AP*CP*GP*AP*UP*CP*AP*CP*GP*CP*AP*GP*UP*CP*UP*AP*U)-3')|null\r\n",
      "GGGACUGACGAUCACGCAGUCUAU\r\n",
      "\"\r\n",
      "1HLX_A,GGGAUAACUUCGGUUGUCCC,1995-09-15,P1 HELIX NUCLEIC ACIDS (DNA/RNA) RIBONUCLEIC ACID,\">1HLX_1|Chain A|RNA (5'-R(*GP*GP*GP*AP*UP*AP*AP*CP*UP*UP*CP*GP*GP*UP*UP*GP*UP*CP*CP*C)-3')|null\r\n",
      "GGGAUAACUUCGGUUGUCCC\r\n",
      "\"\r\n",
      "1HMH_E,GGCGACCCUGAUGAGGCCGAAAGGCCGAAACCGU,1995-12-07,THREE-DIMENSIONAL STRUCTURE OF A HAMMERHEAD RIBOZYME,\">1HMH_1|Chains A, C, E|HAMMERHEAD RIBOZYME-RNA STRAND|\r\n",
      "GGCGACCCUGAUGAGGCCGAAAGGCCGAAACCGU\r\n",
      ">1HMH_2|Chains B, D, F|HAMMERHEAD RIBOZYME-DNA STRAND|\r\n",
      "ACGGTCGGTCGCC\r\n",
      "\"\r\n",
      "1RNG_A,GGCGCUUGCGUC,1995-12-07,SOLUTION STRUCTURE OF THE CUUG HAIRPIN: A NOVEL RNA TETRALOOP MOTIF,\">1RNG_1|Chain A|RNA (5'-R(*GP*GP*CP*GP*CP*UP*UP*GP*CP*GP*UP*C)-3')|null\r\n",
      "GGCGCUUGCGUC\r\n",
      "\"\r\n",
      "1MME_D,GGCCGAAACUCGUAAGAGUCACCAC,1996-02-06,THE CRYSTAL STRUCTURE OF AN ALL-RNA HAMMERHEAD RIBOZYME: A PROPOSED MECHANISM FOR RNA CATALYTIC CLEAVAGE,\">1MME_1|Chains A, C|RNA HAMMERHEAD RIBOZYME|\r\n",
      "GUGGUCUGAUGAGGCC\r\n",
      ">1MME_2|Chains B, D|RNA HAMMERHEAD RIBOZYME|\r\n",
      "GGCCGAAACUCGUAAGAGUCACCAC\r\n"
     ]
    }
   ],
   "source": [
    "!head -n 25 /kaggle/input/stanford-rna-3d-folding/train_sequences.csv"
   ]
  },
  {
   "cell_type": "markdown",
   "id": "268ded9c",
   "metadata": {
    "papermill": {
     "duration": 0.002642,
     "end_time": "2025-03-05T11:48:37.569928",
     "exception": false,
     "start_time": "2025-03-05T11:48:37.567286",
     "status": "completed"
    },
    "tags": []
   },
   "source": [
    "## Reading this file into a pandas dataframe\n",
    "\n",
    "We need to use a multi-line approach to read all the entries in pandas."
   ]
  },
  {
   "cell_type": "code",
   "execution_count": 2,
   "id": "5fca1c18",
   "metadata": {
    "execution": {
     "iopub.execute_input": "2025-03-05T11:48:37.577006Z",
     "iopub.status.busy": "2025-03-05T11:48:37.576662Z",
     "iopub.status.idle": "2025-03-05T11:48:38.652367Z",
     "shell.execute_reply": "2025-03-05T11:48:38.650759Z"
    },
    "papermill": {
     "duration": 1.081434,
     "end_time": "2025-03-05T11:48:38.654225",
     "exception": false,
     "start_time": "2025-03-05T11:48:37.572791",
     "status": "completed"
    },
    "tags": []
   },
   "outputs": [
    {
     "name": "stdout",
     "output_type": "stream",
     "text": [
      "  target_id                            sequence temporal_cutoff  \\\n",
      "0    1SCL_A       GGGUGCUCAGUACGAGAGGAACCGCACCC      1995-01-26   \n",
      "1    1RNK_A  GGCGCAGUGGGCUAGCGCCACUCAAAAGGCCCAU      1995-02-27   \n",
      "2    1RHT_A            GGGACUGACGAUCACGCAGUCUAU      1995-06-03   \n",
      "3    1HLX_A                GGGAUAACUUCGGUUGUCCC      1995-09-15   \n",
      "4    1HMH_E  GGCGACCCUGAUGAGGCCGAAAGGCCGAAACCGU      1995-12-07   \n",
      "5    1RNG_A                        GGCGCUUGCGUC      1995-12-07   \n",
      "6    1MME_D           GGCCGAAACUCGUAAGAGUCACCAC      1996-02-06   \n",
      "7    1KAJ_A    GGCGCAGUGGGCUAGCGCCACUCAAAAGCCCG      1996-07-11   \n",
      "8    1SLO_A                 UUACCCAAGUUUGAGGUAA      1996-12-07   \n",
      "9    1BIV_A        GGCUCGUGUAGCUCAUUAGCUCCGAGCC      1996-12-23   \n",
      "\n",
      "                                         description  \\\n",
      "0               THE SARCIN-RICIN LOOP, A MODULAR RNA   \n",
      "1  THE STRUCTURE OF AN RNA PSEUDOKNOT THAT CAUSES...   \n",
      "2  24-MER RNA HAIRPIN COAT PROTEIN BINDING SITE F...   \n",
      "3  P1 HELIX NUCLEIC ACIDS (DNA/RNA) RIBONUCLEIC ACID   \n",
      "4  THREE-DIMENSIONAL STRUCTURE OF A HAMMERHEAD RI...   \n",
      "5  SOLUTION STRUCTURE OF THE CUUG HAIRPIN: A NOVE...   \n",
      "6  THE CRYSTAL STRUCTURE OF AN ALL-RNA HAMMERHEAD...   \n",
      "7  CONFORMATION OF AN RNA PSEUDOKNOT FROM MOUSE M...   \n",
      "8  FIRST STEM LOOP OF THE SL1 RNA FROM CAENORHABD...   \n",
      "9  BOVINE IMMUNODEFICIENCY VIRUS TAT-TAR COMPLEX,...   \n",
      "\n",
      "                                       all_sequences  \n",
      "0  >1SCL_1|Chain A|RNA SARCIN-RICIN LOOP|Rattus n...  \n",
      "1  >1RNK_1|Chain A|RNA PSEUDOKNOT|null\\nGGCGCAGUG...  \n",
      "2  >1RHT_1|Chain A|RNA (5'-R(P*GP*GP*GP*AP*CP*UP*...  \n",
      "3  >1HLX_1|Chain A|RNA (5'-R(*GP*GP*GP*AP*UP*AP*A...  \n",
      "4  >1HMH_1|Chains A, C, E|HAMMERHEAD RIBOZYME-RNA...  \n",
      "5  >1RNG_1|Chain A|RNA (5'-R(*GP*GP*CP*GP*CP*UP*U...  \n",
      "6  >1MME_1|Chains A, C|RNA HAMMERHEAD RIBOZYME|\\n...  \n",
      "7  >1KAJ_1|Chain A|RNA PSEUDOKNOT APK|\\nGGCGCAGUG...  \n",
      "8  >1SLO_1|Chain A|RNA (5'-R(*UP*UP*AP*CP*CP*CP*A...  \n",
      "9  >1BIV_1|Chain A|TAR RNA|synthetic construct (3...  \n"
     ]
    }
   ],
   "source": [
    "import pandas as pd\n",
    "import csv\n",
    "\n",
    "# Read only the first four columns, ignoring \"all_sequences\"\n",
    "df = pd.read_csv(\n",
    "    \"/kaggle/input/stanford-rna-3d-folding/train_sequences.csv\",\n",
    "    engine=\"python\",\n",
    "    quoting=csv.QUOTE_MINIMAL,\n",
    "    usecols=[\"target_id\", \"sequence\", \"temporal_cutoff\", \"description\", \"all_sequences\"]\n",
    ")\n",
    "\n",
    "print(df.head(10))"
   ]
  },
  {
   "cell_type": "code",
   "execution_count": 3,
   "id": "d40793b4",
   "metadata": {
    "execution": {
     "iopub.execute_input": "2025-03-05T11:48:38.662284Z",
     "iopub.status.busy": "2025-03-05T11:48:38.661906Z",
     "iopub.status.idle": "2025-03-05T11:48:38.685402Z",
     "shell.execute_reply": "2025-03-05T11:48:38.684194Z"
    },
    "papermill": {
     "duration": 0.0297,
     "end_time": "2025-03-05T11:48:38.687285",
     "exception": false,
     "start_time": "2025-03-05T11:48:38.657585",
     "status": "completed"
    },
    "tags": []
   },
   "outputs": [
    {
     "data": {
      "text/html": [
       "<div>\n",
       "<style scoped>\n",
       "    .dataframe tbody tr th:only-of-type {\n",
       "        vertical-align: middle;\n",
       "    }\n",
       "\n",
       "    .dataframe tbody tr th {\n",
       "        vertical-align: top;\n",
       "    }\n",
       "\n",
       "    .dataframe thead th {\n",
       "        text-align: right;\n",
       "    }\n",
       "</style>\n",
       "<table border=\"1\" class=\"dataframe\">\n",
       "  <thead>\n",
       "    <tr style=\"text-align: right;\">\n",
       "      <th></th>\n",
       "      <th>target_id</th>\n",
       "      <th>sequence</th>\n",
       "      <th>temporal_cutoff</th>\n",
       "      <th>description</th>\n",
       "      <th>all_sequences</th>\n",
       "    </tr>\n",
       "  </thead>\n",
       "  <tbody>\n",
       "    <tr>\n",
       "      <th>4</th>\n",
       "      <td>1HMH_E</td>\n",
       "      <td>GGCGACCCUGAUGAGGCCGAAAGGCCGAAACCGU</td>\n",
       "      <td>1995-12-07</td>\n",
       "      <td>THREE-DIMENSIONAL STRUCTURE OF A HAMMERHEAD RI...</td>\n",
       "      <td>&gt;1HMH_1|Chains A, C, E|HAMMERHEAD RIBOZYME-RNA...</td>\n",
       "    </tr>\n",
       "  </tbody>\n",
       "</table>\n",
       "</div>"
      ],
      "text/plain": [
       "  target_id                            sequence temporal_cutoff  \\\n",
       "4    1HMH_E  GGCGACCCUGAUGAGGCCGAAAGGCCGAAACCGU      1995-12-07   \n",
       "\n",
       "                                         description  \\\n",
       "4  THREE-DIMENSIONAL STRUCTURE OF A HAMMERHEAD RI...   \n",
       "\n",
       "                                       all_sequences  \n",
       "4  >1HMH_1|Chains A, C, E|HAMMERHEAD RIBOZYME-RNA...  "
      ]
     },
     "execution_count": 3,
     "metadata": {},
     "output_type": "execute_result"
    }
   ],
   "source": [
    "df.loc[df.target_id.str.contains(\"1HMH\")]"
   ]
  },
  {
   "cell_type": "code",
   "execution_count": 4,
   "id": "b5cafcb5",
   "metadata": {
    "execution": {
     "iopub.execute_input": "2025-03-05T11:48:38.695391Z",
     "iopub.status.busy": "2025-03-05T11:48:38.694992Z",
     "iopub.status.idle": "2025-03-05T11:48:38.702648Z",
     "shell.execute_reply": "2025-03-05T11:48:38.701755Z"
    },
    "papermill": {
     "duration": 0.013513,
     "end_time": "2025-03-05T11:48:38.704172",
     "exception": false,
     "start_time": "2025-03-05T11:48:38.690659",
     "status": "completed"
    },
    "tags": []
   },
   "outputs": [
    {
     "data": {
      "text/plain": [
       "4    >1HMH_1|Chains A, C, E|HAMMERHEAD RIBOZYME-RNA...\n",
       "Name: all_sequences, dtype: object"
      ]
     },
     "execution_count": 4,
     "metadata": {},
     "output_type": "execute_result"
    }
   ],
   "source": [
    "# This should contain two entries for 1HMH_1 and 1HMH_2, but it seems the latter is lost. We do not need it for the prediction anyways.\n",
    "df.loc[df.target_id.str.contains(\"1HMH\")].all_sequences"
   ]
  },
  {
   "cell_type": "code",
   "execution_count": 5,
   "id": "e3ec074d",
   "metadata": {
    "execution": {
     "iopub.execute_input": "2025-03-05T11:48:38.712330Z",
     "iopub.status.busy": "2025-03-05T11:48:38.711898Z",
     "iopub.status.idle": "2025-03-05T11:48:38.721752Z",
     "shell.execute_reply": "2025-03-05T11:48:38.720618Z"
    },
    "papermill": {
     "duration": 0.015967,
     "end_time": "2025-03-05T11:48:38.723580",
     "exception": false,
     "start_time": "2025-03-05T11:48:38.707613",
     "status": "completed"
    },
    "tags": []
   },
   "outputs": [
    {
     "data": {
      "text/html": [
       "<div>\n",
       "<style scoped>\n",
       "    .dataframe tbody tr th:only-of-type {\n",
       "        vertical-align: middle;\n",
       "    }\n",
       "\n",
       "    .dataframe tbody tr th {\n",
       "        vertical-align: top;\n",
       "    }\n",
       "\n",
       "    .dataframe thead th {\n",
       "        text-align: right;\n",
       "    }\n",
       "</style>\n",
       "<table border=\"1\" class=\"dataframe\">\n",
       "  <thead>\n",
       "    <tr style=\"text-align: right;\">\n",
       "      <th></th>\n",
       "      <th>target_id</th>\n",
       "      <th>sequence</th>\n",
       "      <th>temporal_cutoff</th>\n",
       "      <th>description</th>\n",
       "      <th>all_sequences</th>\n",
       "    </tr>\n",
       "  </thead>\n",
       "  <tbody>\n",
       "  </tbody>\n",
       "</table>\n",
       "</div>"
      ],
      "text/plain": [
       "Empty DataFrame\n",
       "Columns: [target_id, sequence, temporal_cutoff, description, all_sequences]\n",
       "Index: []"
      ]
     },
     "execution_count": 5,
     "metadata": {},
     "output_type": "execute_result"
    }
   ],
   "source": [
    "df.loc[df.target_id.str.contains(\">\")]"
   ]
  },
  {
   "cell_type": "code",
   "execution_count": 6,
   "id": "47ba5f40",
   "metadata": {
    "execution": {
     "iopub.execute_input": "2025-03-05T11:48:38.731827Z",
     "iopub.status.busy": "2025-03-05T11:48:38.731492Z",
     "iopub.status.idle": "2025-03-05T11:48:38.742778Z",
     "shell.execute_reply": "2025-03-05T11:48:38.741634Z"
    },
    "papermill": {
     "duration": 0.017382,
     "end_time": "2025-03-05T11:48:38.744585",
     "exception": false,
     "start_time": "2025-03-05T11:48:38.727203",
     "status": "completed"
    },
    "tags": []
   },
   "outputs": [
    {
     "data": {
      "text/html": [
       "<div>\n",
       "<style scoped>\n",
       "    .dataframe tbody tr th:only-of-type {\n",
       "        vertical-align: middle;\n",
       "    }\n",
       "\n",
       "    .dataframe tbody tr th {\n",
       "        vertical-align: top;\n",
       "    }\n",
       "\n",
       "    .dataframe thead th {\n",
       "        text-align: right;\n",
       "    }\n",
       "</style>\n",
       "<table border=\"1\" class=\"dataframe\">\n",
       "  <thead>\n",
       "    <tr style=\"text-align: right;\">\n",
       "      <th></th>\n",
       "      <th>target_id</th>\n",
       "      <th>sequence</th>\n",
       "      <th>temporal_cutoff</th>\n",
       "      <th>description</th>\n",
       "      <th>all_sequences</th>\n",
       "    </tr>\n",
       "  </thead>\n",
       "  <tbody>\n",
       "    <tr>\n",
       "      <th>0</th>\n",
       "      <td>1SCL_A</td>\n",
       "      <td>GGGUGCUCAGUACGAGAGGAACCGCACCC</td>\n",
       "      <td>1995-01-26</td>\n",
       "      <td>THE SARCIN-RICIN LOOP, A MODULAR RNA</td>\n",
       "      <td>&gt;1SCL_1|Chain A|RNA SARCIN-RICIN LOOP|Rattus n...</td>\n",
       "    </tr>\n",
       "    <tr>\n",
       "      <th>1</th>\n",
       "      <td>1RNK_A</td>\n",
       "      <td>GGCGCAGUGGGCUAGCGCCACUCAAAAGGCCCAU</td>\n",
       "      <td>1995-02-27</td>\n",
       "      <td>THE STRUCTURE OF AN RNA PSEUDOKNOT THAT CAUSES...</td>\n",
       "      <td>&gt;1RNK_1|Chain A|RNA PSEUDOKNOT|null\\nGGCGCAGUG...</td>\n",
       "    </tr>\n",
       "    <tr>\n",
       "      <th>2</th>\n",
       "      <td>1RHT_A</td>\n",
       "      <td>GGGACUGACGAUCACGCAGUCUAU</td>\n",
       "      <td>1995-06-03</td>\n",
       "      <td>24-MER RNA HAIRPIN COAT PROTEIN BINDING SITE F...</td>\n",
       "      <td>&gt;1RHT_1|Chain A|RNA (5'-R(P*GP*GP*GP*AP*CP*UP*...</td>\n",
       "    </tr>\n",
       "    <tr>\n",
       "      <th>3</th>\n",
       "      <td>1HLX_A</td>\n",
       "      <td>GGGAUAACUUCGGUUGUCCC</td>\n",
       "      <td>1995-09-15</td>\n",
       "      <td>P1 HELIX NUCLEIC ACIDS (DNA/RNA) RIBONUCLEIC ACID</td>\n",
       "      <td>&gt;1HLX_1|Chain A|RNA (5'-R(*GP*GP*GP*AP*UP*AP*A...</td>\n",
       "    </tr>\n",
       "    <tr>\n",
       "      <th>4</th>\n",
       "      <td>1HMH_E</td>\n",
       "      <td>GGCGACCCUGAUGAGGCCGAAAGGCCGAAACCGU</td>\n",
       "      <td>1995-12-07</td>\n",
       "      <td>THREE-DIMENSIONAL STRUCTURE OF A HAMMERHEAD RI...</td>\n",
       "      <td>&gt;1HMH_1|Chains A, C, E|HAMMERHEAD RIBOZYME-RNA...</td>\n",
       "    </tr>\n",
       "    <tr>\n",
       "      <th>5</th>\n",
       "      <td>1RNG_A</td>\n",
       "      <td>GGCGCUUGCGUC</td>\n",
       "      <td>1995-12-07</td>\n",
       "      <td>SOLUTION STRUCTURE OF THE CUUG HAIRPIN: A NOVE...</td>\n",
       "      <td>&gt;1RNG_1|Chain A|RNA (5'-R(*GP*GP*CP*GP*CP*UP*U...</td>\n",
       "    </tr>\n",
       "    <tr>\n",
       "      <th>6</th>\n",
       "      <td>1MME_D</td>\n",
       "      <td>GGCCGAAACUCGUAAGAGUCACCAC</td>\n",
       "      <td>1996-02-06</td>\n",
       "      <td>THE CRYSTAL STRUCTURE OF AN ALL-RNA HAMMERHEAD...</td>\n",
       "      <td>&gt;1MME_1|Chains A, C|RNA HAMMERHEAD RIBOZYME|\\n...</td>\n",
       "    </tr>\n",
       "    <tr>\n",
       "      <th>7</th>\n",
       "      <td>1KAJ_A</td>\n",
       "      <td>GGCGCAGUGGGCUAGCGCCACUCAAAAGCCCG</td>\n",
       "      <td>1996-07-11</td>\n",
       "      <td>CONFORMATION OF AN RNA PSEUDOKNOT FROM MOUSE M...</td>\n",
       "      <td>&gt;1KAJ_1|Chain A|RNA PSEUDOKNOT APK|\\nGGCGCAGUG...</td>\n",
       "    </tr>\n",
       "    <tr>\n",
       "      <th>8</th>\n",
       "      <td>1SLO_A</td>\n",
       "      <td>UUACCCAAGUUUGAGGUAA</td>\n",
       "      <td>1996-12-07</td>\n",
       "      <td>FIRST STEM LOOP OF THE SL1 RNA FROM CAENORHABD...</td>\n",
       "      <td>&gt;1SLO_1|Chain A|RNA (5'-R(*UP*UP*AP*CP*CP*CP*A...</td>\n",
       "    </tr>\n",
       "    <tr>\n",
       "      <th>9</th>\n",
       "      <td>1BIV_A</td>\n",
       "      <td>GGCUCGUGUAGCUCAUUAGCUCCGAGCC</td>\n",
       "      <td>1996-12-23</td>\n",
       "      <td>BOVINE IMMUNODEFICIENCY VIRUS TAT-TAR COMPLEX,...</td>\n",
       "      <td>&gt;1BIV_1|Chain A|TAR RNA|synthetic construct (3...</td>\n",
       "    </tr>\n",
       "  </tbody>\n",
       "</table>\n",
       "</div>"
      ],
      "text/plain": [
       "  target_id                            sequence temporal_cutoff  \\\n",
       "0    1SCL_A       GGGUGCUCAGUACGAGAGGAACCGCACCC      1995-01-26   \n",
       "1    1RNK_A  GGCGCAGUGGGCUAGCGCCACUCAAAAGGCCCAU      1995-02-27   \n",
       "2    1RHT_A            GGGACUGACGAUCACGCAGUCUAU      1995-06-03   \n",
       "3    1HLX_A                GGGAUAACUUCGGUUGUCCC      1995-09-15   \n",
       "4    1HMH_E  GGCGACCCUGAUGAGGCCGAAAGGCCGAAACCGU      1995-12-07   \n",
       "5    1RNG_A                        GGCGCUUGCGUC      1995-12-07   \n",
       "6    1MME_D           GGCCGAAACUCGUAAGAGUCACCAC      1996-02-06   \n",
       "7    1KAJ_A    GGCGCAGUGGGCUAGCGCCACUCAAAAGCCCG      1996-07-11   \n",
       "8    1SLO_A                 UUACCCAAGUUUGAGGUAA      1996-12-07   \n",
       "9    1BIV_A        GGCUCGUGUAGCUCAUUAGCUCCGAGCC      1996-12-23   \n",
       "\n",
       "                                         description  \\\n",
       "0               THE SARCIN-RICIN LOOP, A MODULAR RNA   \n",
       "1  THE STRUCTURE OF AN RNA PSEUDOKNOT THAT CAUSES...   \n",
       "2  24-MER RNA HAIRPIN COAT PROTEIN BINDING SITE F...   \n",
       "3  P1 HELIX NUCLEIC ACIDS (DNA/RNA) RIBONUCLEIC ACID   \n",
       "4  THREE-DIMENSIONAL STRUCTURE OF A HAMMERHEAD RI...   \n",
       "5  SOLUTION STRUCTURE OF THE CUUG HAIRPIN: A NOVE...   \n",
       "6  THE CRYSTAL STRUCTURE OF AN ALL-RNA HAMMERHEAD...   \n",
       "7  CONFORMATION OF AN RNA PSEUDOKNOT FROM MOUSE M...   \n",
       "8  FIRST STEM LOOP OF THE SL1 RNA FROM CAENORHABD...   \n",
       "9  BOVINE IMMUNODEFICIENCY VIRUS TAT-TAR COMPLEX,...   \n",
       "\n",
       "                                       all_sequences  \n",
       "0  >1SCL_1|Chain A|RNA SARCIN-RICIN LOOP|Rattus n...  \n",
       "1  >1RNK_1|Chain A|RNA PSEUDOKNOT|null\\nGGCGCAGUG...  \n",
       "2  >1RHT_1|Chain A|RNA (5'-R(P*GP*GP*GP*AP*CP*UP*...  \n",
       "3  >1HLX_1|Chain A|RNA (5'-R(*GP*GP*GP*AP*UP*AP*A...  \n",
       "4  >1HMH_1|Chains A, C, E|HAMMERHEAD RIBOZYME-RNA...  \n",
       "5  >1RNG_1|Chain A|RNA (5'-R(*GP*GP*CP*GP*CP*UP*U...  \n",
       "6  >1MME_1|Chains A, C|RNA HAMMERHEAD RIBOZYME|\\n...  \n",
       "7  >1KAJ_1|Chain A|RNA PSEUDOKNOT APK|\\nGGCGCAGUG...  \n",
       "8  >1SLO_1|Chain A|RNA (5'-R(*UP*UP*AP*CP*CP*CP*A...  \n",
       "9  >1BIV_1|Chain A|TAR RNA|synthetic construct (3...  "
      ]
     },
     "execution_count": 6,
     "metadata": {},
     "output_type": "execute_result"
    }
   ],
   "source": [
    "df.head(10)"
   ]
  },
  {
   "cell_type": "markdown",
   "id": "48272be4",
   "metadata": {
    "papermill": {
     "duration": 0.003417,
     "end_time": "2025-03-05T11:48:38.751919",
     "exception": false,
     "start_time": "2025-03-05T11:48:38.748502",
     "status": "completed"
    },
    "tags": []
   },
   "source": []
  }
 ],
 "metadata": {
  "kaggle": {
   "accelerator": "none",
   "dataSources": [
    {
     "databundleVersionId": 11228175,
     "sourceId": 87793,
     "sourceType": "competition"
    }
   ],
   "dockerImageVersionId": 30918,
   "isGpuEnabled": false,
   "isInternetEnabled": true,
   "language": "python",
   "sourceType": "notebook"
  },
  "kernelspec": {
   "display_name": "Python 3",
   "language": "python",
   "name": "python3"
  },
  "language_info": {
   "codemirror_mode": {
    "name": "ipython",
    "version": 3
   },
   "file_extension": ".py",
   "mimetype": "text/x-python",
   "name": "python",
   "nbconvert_exporter": "python",
   "pygments_lexer": "ipython3",
   "version": "3.10.12"
  },
  "papermill": {
   "default_parameters": {},
   "duration": 4.827412,
   "end_time": "2025-03-05T11:48:39.375627",
   "environment_variables": {},
   "exception": null,
   "input_path": "__notebook__.ipynb",
   "output_path": "__notebook__.ipynb",
   "parameters": {},
   "start_time": "2025-03-05T11:48:34.548215",
   "version": "2.6.0"
  }
 },
 "nbformat": 4,
 "nbformat_minor": 5
}
