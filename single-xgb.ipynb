{
 "cells": [
  {
   "cell_type": "code",
   "execution_count": 1,
   "id": "9dbb672e",
   "metadata": {
    "execution": {
     "iopub.execute_input": "2025-06-18T21:50:13.314068Z",
     "iopub.status.busy": "2025-06-18T21:50:13.313809Z",
     "iopub.status.idle": "2025-06-18T21:50:13.317467Z",
     "shell.execute_reply": "2025-06-18T21:50:13.316941Z"
    },
    "papermill": {
     "duration": 0.007937,
     "end_time": "2025-06-18T21:50:13.318480",
     "exception": false,
     "start_time": "2025-06-18T21:50:13.310543",
     "status": "completed"
    },
    "tags": []
   },
   "outputs": [],
   "source": [
    "# inspired by:\n",
    "# https://www.kaggle.com/competitions/playground-series-s5e6/discussion/584983\n",
    "# https://www.kaggle.com/competitions/playground-series-s5e6/discussion/585000\n",
    "# https://www.kaggle.com/code/lizzylee1111111111/single-xgboost-baseline"
   ]
  },
  {
   "cell_type": "code",
   "execution_count": 2,
   "id": "93794783",
   "metadata": {
    "_cell_guid": "b1076dfc-b9ad-4769-8c92-a6c4dae69d19",
    "_uuid": "8f2839f25d086af736a60e9eeb907d3b93b6e0e5",
    "execution": {
     "iopub.execute_input": "2025-06-18T21:50:13.323484Z",
     "iopub.status.busy": "2025-06-18T21:50:13.323285Z",
     "iopub.status.idle": "2025-06-18T21:50:17.413233Z",
     "shell.execute_reply": "2025-06-18T21:50:17.412389Z"
    },
    "papermill": {
     "duration": 4.093839,
     "end_time": "2025-06-18T21:50:17.414700",
     "exception": false,
     "start_time": "2025-06-18T21:50:13.320861",
     "status": "completed"
    },
    "tags": []
   },
   "outputs": [],
   "source": [
    "from tqdm import tqdm\n",
    "from itertools import combinations\n",
    "from sklearn.model_selection import KFold\n",
    "from sklearn.preprocessing import LabelEncoder\n",
    "from sklearn.metrics import mean_squared_error\n",
    "from xgboost import XGBRegressor\n",
    "import pandas as pd\n",
    "import numpy as np\n",
    "import os\n",
    "import warnings\n",
    "\n",
    "warnings.simplefilter(action='ignore', category=FutureWarning)\n",
    "warnings.filterwarnings(\"ignore\", category=pd.errors.PerformanceWarning)\n",
    "warnings.filterwarnings(\"ignore\", category=RuntimeWarning)\n",
    "\n",
    "train = pd.read_csv(\"/kaggle/input/playground-series-s5e6/train.csv\")\n",
    "test = pd.read_csv(\"/kaggle/input/playground-series-s5e6/test.csv\")\n",
    "original = pd.read_csv(\"/kaggle/input/fertilizer-prediction/Fertilizer Prediction.csv\")\n",
    "submission = pd.read_csv(\"/kaggle/input/playground-series-s5e6/sample_submission.csv\")"
   ]
  },
  {
   "cell_type": "code",
   "execution_count": 3,
   "id": "4cf951d7",
   "metadata": {
    "execution": {
     "iopub.execute_input": "2025-06-18T21:50:17.419925Z",
     "iopub.status.busy": "2025-06-18T21:50:17.419701Z",
     "iopub.status.idle": "2025-06-18T21:50:17.505370Z",
     "shell.execute_reply": "2025-06-18T21:50:17.504737Z"
    },
    "papermill": {
     "duration": 0.0896,
     "end_time": "2025-06-18T21:50:17.506627",
     "exception": false,
     "start_time": "2025-06-18T21:50:17.417027",
     "status": "completed"
    },
    "tags": []
   },
   "outputs": [],
   "source": [
    "original_copy = original.copy()\n",
    "for k in range(6):\n",
    "    original = pd.concat([original,original_copy],axis=0)"
   ]
  },
  {
   "cell_type": "code",
   "execution_count": 4,
   "id": "d489e585",
   "metadata": {
    "execution": {
     "iopub.execute_input": "2025-06-18T21:50:17.511776Z",
     "iopub.status.busy": "2025-06-18T21:50:17.511559Z",
     "iopub.status.idle": "2025-06-18T21:50:20.246493Z",
     "shell.execute_reply": "2025-06-18T21:50:20.245906Z"
    },
    "papermill": {
     "duration": 2.738875,
     "end_time": "2025-06-18T21:50:20.247773",
     "exception": false,
     "start_time": "2025-06-18T21:50:17.508898",
     "status": "completed"
    },
    "tags": []
   },
   "outputs": [],
   "source": [
    "def feature_eng(df):\n",
    "    numerical_features = [col for col in df.select_dtypes(include=['int64', 'float64']).columns \n",
    "                      if col != 'id']\n",
    "    for col in numerical_features:\n",
    "        df[f'{col}_Binned'] = df[col].astype(str).astype('category')\n",
    "    return df\n",
    "\n",
    "train = feature_eng(train)\n",
    "test = feature_eng(test)\n",
    "original = feature_eng(original)"
   ]
  },
  {
   "cell_type": "code",
   "execution_count": 5,
   "id": "ce3f56e0",
   "metadata": {
    "execution": {
     "iopub.execute_input": "2025-06-18T21:50:20.253665Z",
     "iopub.status.busy": "2025-06-18T21:50:20.253405Z",
     "iopub.status.idle": "2025-06-18T21:50:20.399203Z",
     "shell.execute_reply": "2025-06-18T21:50:20.398359Z"
    },
    "papermill": {
     "duration": 0.149922,
     "end_time": "2025-06-18T21:50:20.400517",
     "exception": false,
     "start_time": "2025-06-18T21:50:20.250595",
     "status": "completed"
    },
    "tags": []
   },
   "outputs": [
    {
     "name": "stdout",
     "output_type": "stream",
     "text": [
      "Column name corrected from 'Temparature' to 'Temperature'\n",
      "Column name corrected from 'Temparature' to 'Temperature'\n",
      "Column name corrected from 'Temparature' to 'Temperature'\n"
     ]
    }
   ],
   "source": [
    "def rename_temperature_column(df):\n",
    "    df = df.rename(columns={'Temparature': 'Temperature'})\n",
    "    print(\"Column name corrected from 'Temparature' to 'Temperature'\")\n",
    "    return df\n",
    "    \n",
    "train = rename_temperature_column(train)\n",
    "test = rename_temperature_column(test)\n",
    "original = rename_temperature_column(original)"
   ]
  },
  {
   "cell_type": "code",
   "execution_count": 6,
   "id": "dccf3b28",
   "metadata": {
    "execution": {
     "iopub.execute_input": "2025-06-18T21:50:20.405749Z",
     "iopub.status.busy": "2025-06-18T21:50:20.405511Z",
     "iopub.status.idle": "2025-06-18T21:50:22.688857Z",
     "shell.execute_reply": "2025-06-18T21:50:22.688262Z"
    },
    "papermill": {
     "duration": 2.287414,
     "end_time": "2025-06-18T21:50:22.690213",
     "exception": false,
     "start_time": "2025-06-18T21:50:20.402799",
     "status": "completed"
    },
    "tags": []
   },
   "outputs": [],
   "source": [
    "cat_cols = [col for col in train.select_dtypes(include=['object', 'category']).columns \n",
    "            if col != \"Fertilizer Name\"]\n",
    "\n",
    "for i in cat_cols:\n",
    "    label_enc = LabelEncoder()\n",
    "    train[i] = label_enc.fit_transform(train[i])\n",
    "    original[i] = label_enc.fit_transform(original[i])\n",
    "    test[i] = label_enc.transform(test[i])\n",
    "\n",
    "fer_label_enc = LabelEncoder()\n",
    "train[\"Fertilizer Name\"] = fer_label_enc.fit_transform(train[\"Fertilizer Name\"])\n",
    "original[\"Fertilizer Name\"] = fer_label_enc.fit_transform(original[\"Fertilizer Name\"])\n",
    "for col in cat_cols:\n",
    "    train[col] = train[col].astype(\"category\")\n",
    "    test[col] = test[col].astype(\"category\")\n",
    "    original[col] = original[col].astype(\"category\")\n",
    "##############################################Dataset#########################################\n",
    "\n",
    "X = train.drop(columns=[\"id\", \"Fertilizer Name\"])\n",
    "y = train[\"Fertilizer Name\"]\n",
    "X_test = test.drop(columns=[\"id\"])\n",
    "\n",
    "X_original = original.drop(columns=[\"Fertilizer Name\"])\n",
    "y_original = original[\"Fertilizer Name\"]"
   ]
  },
  {
   "cell_type": "code",
   "execution_count": 7,
   "id": "26aab282",
   "metadata": {
    "execution": {
     "iopub.execute_input": "2025-06-18T21:50:22.696022Z",
     "iopub.status.busy": "2025-06-18T21:50:22.695771Z",
     "iopub.status.idle": "2025-06-18T21:50:22.702605Z",
     "shell.execute_reply": "2025-06-18T21:50:22.702130Z"
    },
    "papermill": {
     "duration": 0.010823,
     "end_time": "2025-06-18T21:50:22.703600",
     "exception": false,
     "start_time": "2025-06-18T21:50:22.692777",
     "status": "completed"
    },
    "tags": []
   },
   "outputs": [],
   "source": [
    "params = {\n",
    "        'objective': 'multi:softprob',  \n",
    "        'num_class': len(np.unique(y)), \n",
    "        'max_depth': 7,\n",
    "        'learning_rate': 0.03,\n",
    "        'subsample': 0.8,\n",
    "        'max_bin': 128,\n",
    "        'colsample_bytree': 0.3, \n",
    "        'colsample_bylevel': 1,  \n",
    "        'colsample_bynode': 1,  \n",
    "        'tree_method': 'hist',  \n",
    "        'random_state': 42,\n",
    "        'eval_metric': 'mlogloss',\n",
    "        'device': \"cuda\",\n",
    "        'enable_categorical':True,\n",
    "        'n_estimators':10000,\n",
    "        'early_stopping_rounds':50,\n",
    "    }"
   ]
  },
  {
   "cell_type": "code",
   "execution_count": 8,
   "id": "cd69f56c",
   "metadata": {
    "execution": {
     "iopub.execute_input": "2025-06-18T21:50:22.708411Z",
     "iopub.status.busy": "2025-06-18T21:50:22.708210Z",
     "iopub.status.idle": "2025-06-18T22:13:05.099325Z",
     "shell.execute_reply": "2025-06-18T22:13:05.098560Z"
    },
    "papermill": {
     "duration": 1362.394821,
     "end_time": "2025-06-18T22:13:05.100520",
     "exception": false,
     "start_time": "2025-06-18T21:50:22.705699",
     "status": "completed"
    },
    "tags": []
   },
   "outputs": [
    {
     "name": "stdout",
     "output_type": "stream",
     "text": [
      "############### 1 ###############\n",
      "[0]\tvalidation_0-mlogloss:1.94556\tvalidation_1-mlogloss:1.94567\n",
      "[100]\tvalidation_0-mlogloss:1.91353\tvalidation_1-mlogloss:1.92931\n",
      "[200]\tvalidation_0-mlogloss:1.88774\tvalidation_1-mlogloss:1.92052\n",
      "[300]\tvalidation_0-mlogloss:1.86416\tvalidation_1-mlogloss:1.91413\n",
      "[400]\tvalidation_0-mlogloss:1.84254\tvalidation_1-mlogloss:1.90913\n",
      "[500]\tvalidation_0-mlogloss:1.82198\tvalidation_1-mlogloss:1.90489\n",
      "[600]\tvalidation_0-mlogloss:1.80175\tvalidation_1-mlogloss:1.90113\n",
      "[700]\tvalidation_0-mlogloss:1.78214\tvalidation_1-mlogloss:1.89776\n",
      "[800]\tvalidation_0-mlogloss:1.76333\tvalidation_1-mlogloss:1.89490\n",
      "[900]\tvalidation_0-mlogloss:1.74565\tvalidation_1-mlogloss:1.89248\n",
      "[1000]\tvalidation_0-mlogloss:1.72867\tvalidation_1-mlogloss:1.89037\n",
      "[1100]\tvalidation_0-mlogloss:1.71169\tvalidation_1-mlogloss:1.88857\n",
      "[1200]\tvalidation_0-mlogloss:1.69565\tvalidation_1-mlogloss:1.88703\n",
      "[1300]\tvalidation_0-mlogloss:1.68040\tvalidation_1-mlogloss:1.88565\n",
      "[1400]\tvalidation_0-mlogloss:1.66509\tvalidation_1-mlogloss:1.88464\n",
      "[1500]\tvalidation_0-mlogloss:1.65035\tvalidation_1-mlogloss:1.88374\n",
      "[1600]\tvalidation_0-mlogloss:1.63603\tvalidation_1-mlogloss:1.88293\n",
      "[1700]\tvalidation_0-mlogloss:1.62203\tvalidation_1-mlogloss:1.88225\n",
      "[1800]\tvalidation_0-mlogloss:1.60838\tvalidation_1-mlogloss:1.88181\n",
      "[1900]\tvalidation_0-mlogloss:1.59510\tvalidation_1-mlogloss:1.88148\n",
      "[2000]\tvalidation_0-mlogloss:1.58221\tvalidation_1-mlogloss:1.88116\n",
      "[2100]\tvalidation_0-mlogloss:1.56980\tvalidation_1-mlogloss:1.88100\n",
      "[2200]\tvalidation_0-mlogloss:1.55752\tvalidation_1-mlogloss:1.88097\n",
      "[2218]\tvalidation_0-mlogloss:1.55534\tvalidation_1-mlogloss:1.88097\n"
     ]
    },
    {
     "name": "stderr",
     "output_type": "stream",
     "text": [
      "/usr/local/lib/python3.11/dist-packages/xgboost/core.py:160: UserWarning: [21:54:51] WARNING: /workspace/src/common/error_msg.cc:58: Falling back to prediction using DMatrix due to mismatched devices. This might lead to higher memory usage and slower performance. XGBoost is running on: cuda:0, while the input data is on: cpu.\n",
      "Potential solutions:\n",
      "- Use a data structure that matches the device ordinal in the booster.\n",
      "- Set the device for booster before call to inplace_predict.\n",
      "\n",
      "This warning will only be shown once.\n",
      "\n",
      "  warnings.warn(smsg, UserWarning)\n"
     ]
    },
    {
     "name": "stdout",
     "output_type": "stream",
     "text": [
      "✅ FOLD 1: MAP@3 Score: 0.37648\n",
      "############### 2 ###############\n",
      "[0]\tvalidation_0-mlogloss:1.94555\tvalidation_1-mlogloss:1.94566\n",
      "[100]\tvalidation_0-mlogloss:1.91350\tvalidation_1-mlogloss:1.92933\n",
      "[200]\tvalidation_0-mlogloss:1.88783\tvalidation_1-mlogloss:1.92055\n",
      "[300]\tvalidation_0-mlogloss:1.86420\tvalidation_1-mlogloss:1.91416\n",
      "[400]\tvalidation_0-mlogloss:1.84245\tvalidation_1-mlogloss:1.90906\n",
      "[500]\tvalidation_0-mlogloss:1.82200\tvalidation_1-mlogloss:1.90486\n",
      "[600]\tvalidation_0-mlogloss:1.80177\tvalidation_1-mlogloss:1.90101\n",
      "[700]\tvalidation_0-mlogloss:1.78219\tvalidation_1-mlogloss:1.89777\n",
      "[800]\tvalidation_0-mlogloss:1.76347\tvalidation_1-mlogloss:1.89492\n",
      "[900]\tvalidation_0-mlogloss:1.74566\tvalidation_1-mlogloss:1.89252\n",
      "[1000]\tvalidation_0-mlogloss:1.72873\tvalidation_1-mlogloss:1.89038\n",
      "[1100]\tvalidation_0-mlogloss:1.71185\tvalidation_1-mlogloss:1.88850\n",
      "[1200]\tvalidation_0-mlogloss:1.69582\tvalidation_1-mlogloss:1.88692\n",
      "[1300]\tvalidation_0-mlogloss:1.68049\tvalidation_1-mlogloss:1.88551\n",
      "[1400]\tvalidation_0-mlogloss:1.66518\tvalidation_1-mlogloss:1.88437\n",
      "[1500]\tvalidation_0-mlogloss:1.65040\tvalidation_1-mlogloss:1.88339\n",
      "[1600]\tvalidation_0-mlogloss:1.63615\tvalidation_1-mlogloss:1.88261\n",
      "[1700]\tvalidation_0-mlogloss:1.62216\tvalidation_1-mlogloss:1.88190\n",
      "[1800]\tvalidation_0-mlogloss:1.60860\tvalidation_1-mlogloss:1.88141\n",
      "[1900]\tvalidation_0-mlogloss:1.59534\tvalidation_1-mlogloss:1.88104\n",
      "[2000]\tvalidation_0-mlogloss:1.58248\tvalidation_1-mlogloss:1.88074\n",
      "[2100]\tvalidation_0-mlogloss:1.57004\tvalidation_1-mlogloss:1.88056\n",
      "[2200]\tvalidation_0-mlogloss:1.55776\tvalidation_1-mlogloss:1.88051\n",
      "[2300]\tvalidation_0-mlogloss:1.54558\tvalidation_1-mlogloss:1.88052\n",
      "[2311]\tvalidation_0-mlogloss:1.54424\tvalidation_1-mlogloss:1.88050\n",
      "✅ FOLD 2: MAP@3 Score: 0.37633\n",
      "############### 3 ###############\n",
      "[0]\tvalidation_0-mlogloss:1.94556\tvalidation_1-mlogloss:1.94565\n",
      "[100]\tvalidation_0-mlogloss:1.91357\tvalidation_1-mlogloss:1.92907\n",
      "[200]\tvalidation_0-mlogloss:1.88792\tvalidation_1-mlogloss:1.92012\n",
      "[300]\tvalidation_0-mlogloss:1.86427\tvalidation_1-mlogloss:1.91368\n",
      "[400]\tvalidation_0-mlogloss:1.84249\tvalidation_1-mlogloss:1.90854\n",
      "[500]\tvalidation_0-mlogloss:1.82200\tvalidation_1-mlogloss:1.90422\n",
      "[600]\tvalidation_0-mlogloss:1.80184\tvalidation_1-mlogloss:1.90034\n",
      "[700]\tvalidation_0-mlogloss:1.78230\tvalidation_1-mlogloss:1.89698\n",
      "[800]\tvalidation_0-mlogloss:1.76360\tvalidation_1-mlogloss:1.89413\n",
      "[900]\tvalidation_0-mlogloss:1.74594\tvalidation_1-mlogloss:1.89171\n",
      "[1000]\tvalidation_0-mlogloss:1.72898\tvalidation_1-mlogloss:1.88964\n",
      "[1100]\tvalidation_0-mlogloss:1.71208\tvalidation_1-mlogloss:1.88775\n",
      "[1200]\tvalidation_0-mlogloss:1.69605\tvalidation_1-mlogloss:1.88616\n",
      "[1300]\tvalidation_0-mlogloss:1.68079\tvalidation_1-mlogloss:1.88471\n",
      "[1400]\tvalidation_0-mlogloss:1.66544\tvalidation_1-mlogloss:1.88347\n",
      "[1500]\tvalidation_0-mlogloss:1.65069\tvalidation_1-mlogloss:1.88243\n",
      "[1600]\tvalidation_0-mlogloss:1.63648\tvalidation_1-mlogloss:1.88159\n",
      "[1700]\tvalidation_0-mlogloss:1.62245\tvalidation_1-mlogloss:1.88089\n",
      "[1800]\tvalidation_0-mlogloss:1.60882\tvalidation_1-mlogloss:1.88040\n",
      "[1900]\tvalidation_0-mlogloss:1.59559\tvalidation_1-mlogloss:1.88009\n",
      "[2000]\tvalidation_0-mlogloss:1.58264\tvalidation_1-mlogloss:1.87974\n",
      "[2100]\tvalidation_0-mlogloss:1.57023\tvalidation_1-mlogloss:1.87952\n",
      "[2152]\tvalidation_0-mlogloss:1.56382\tvalidation_1-mlogloss:1.87954\n",
      "✅ FOLD 3: MAP@3 Score: 0.37676\n",
      "############### 4 ###############\n",
      "[0]\tvalidation_0-mlogloss:1.94555\tvalidation_1-mlogloss:1.94566\n",
      "[100]\tvalidation_0-mlogloss:1.91350\tvalidation_1-mlogloss:1.92953\n",
      "[200]\tvalidation_0-mlogloss:1.88787\tvalidation_1-mlogloss:1.92093\n",
      "[300]\tvalidation_0-mlogloss:1.86423\tvalidation_1-mlogloss:1.91461\n",
      "[400]\tvalidation_0-mlogloss:1.84249\tvalidation_1-mlogloss:1.90970\n",
      "[500]\tvalidation_0-mlogloss:1.82186\tvalidation_1-mlogloss:1.90551\n",
      "[600]\tvalidation_0-mlogloss:1.80161\tvalidation_1-mlogloss:1.90173\n",
      "[700]\tvalidation_0-mlogloss:1.78203\tvalidation_1-mlogloss:1.89861\n",
      "[800]\tvalidation_0-mlogloss:1.76326\tvalidation_1-mlogloss:1.89583\n",
      "[900]\tvalidation_0-mlogloss:1.74555\tvalidation_1-mlogloss:1.89344\n",
      "[1000]\tvalidation_0-mlogloss:1.72861\tvalidation_1-mlogloss:1.89136\n",
      "[1100]\tvalidation_0-mlogloss:1.71172\tvalidation_1-mlogloss:1.88952\n",
      "[1200]\tvalidation_0-mlogloss:1.69569\tvalidation_1-mlogloss:1.88796\n",
      "[1300]\tvalidation_0-mlogloss:1.68039\tvalidation_1-mlogloss:1.88668\n",
      "[1400]\tvalidation_0-mlogloss:1.66503\tvalidation_1-mlogloss:1.88566\n",
      "[1500]\tvalidation_0-mlogloss:1.65019\tvalidation_1-mlogloss:1.88474\n",
      "[1600]\tvalidation_0-mlogloss:1.63592\tvalidation_1-mlogloss:1.88397\n",
      "[1700]\tvalidation_0-mlogloss:1.62188\tvalidation_1-mlogloss:1.88337\n",
      "[1800]\tvalidation_0-mlogloss:1.60826\tvalidation_1-mlogloss:1.88294\n",
      "[1900]\tvalidation_0-mlogloss:1.59495\tvalidation_1-mlogloss:1.88264\n",
      "[2000]\tvalidation_0-mlogloss:1.58201\tvalidation_1-mlogloss:1.88239\n",
      "[2100]\tvalidation_0-mlogloss:1.56958\tvalidation_1-mlogloss:1.88227\n",
      "[2119]\tvalidation_0-mlogloss:1.56729\tvalidation_1-mlogloss:1.88229\n",
      "✅ FOLD 4: MAP@3 Score: 0.37514\n",
      "############### 5 ###############\n",
      "[0]\tvalidation_0-mlogloss:1.94556\tvalidation_1-mlogloss:1.94566\n",
      "[100]\tvalidation_0-mlogloss:1.91356\tvalidation_1-mlogloss:1.92914\n",
      "[200]\tvalidation_0-mlogloss:1.88783\tvalidation_1-mlogloss:1.92026\n",
      "[300]\tvalidation_0-mlogloss:1.86432\tvalidation_1-mlogloss:1.91382\n",
      "[400]\tvalidation_0-mlogloss:1.84255\tvalidation_1-mlogloss:1.90870\n",
      "[500]\tvalidation_0-mlogloss:1.82200\tvalidation_1-mlogloss:1.90452\n",
      "[600]\tvalidation_0-mlogloss:1.80180\tvalidation_1-mlogloss:1.90061\n",
      "[700]\tvalidation_0-mlogloss:1.78218\tvalidation_1-mlogloss:1.89739\n",
      "[800]\tvalidation_0-mlogloss:1.76340\tvalidation_1-mlogloss:1.89446\n",
      "[900]\tvalidation_0-mlogloss:1.74559\tvalidation_1-mlogloss:1.89208\n",
      "[1000]\tvalidation_0-mlogloss:1.72867\tvalidation_1-mlogloss:1.88998\n",
      "[1100]\tvalidation_0-mlogloss:1.71172\tvalidation_1-mlogloss:1.88809\n",
      "[1200]\tvalidation_0-mlogloss:1.69570\tvalidation_1-mlogloss:1.88660\n",
      "[1300]\tvalidation_0-mlogloss:1.68042\tvalidation_1-mlogloss:1.88524\n",
      "[1400]\tvalidation_0-mlogloss:1.66512\tvalidation_1-mlogloss:1.88412\n",
      "[1500]\tvalidation_0-mlogloss:1.65029\tvalidation_1-mlogloss:1.88306\n",
      "[1600]\tvalidation_0-mlogloss:1.63601\tvalidation_1-mlogloss:1.88232\n",
      "[1700]\tvalidation_0-mlogloss:1.62200\tvalidation_1-mlogloss:1.88170\n",
      "[1800]\tvalidation_0-mlogloss:1.60841\tvalidation_1-mlogloss:1.88124\n",
      "[1900]\tvalidation_0-mlogloss:1.59514\tvalidation_1-mlogloss:1.88087\n",
      "[2000]\tvalidation_0-mlogloss:1.58226\tvalidation_1-mlogloss:1.88060\n",
      "[2100]\tvalidation_0-mlogloss:1.56991\tvalidation_1-mlogloss:1.88039\n",
      "[2200]\tvalidation_0-mlogloss:1.55759\tvalidation_1-mlogloss:1.88031\n",
      "[2216]\tvalidation_0-mlogloss:1.55570\tvalidation_1-mlogloss:1.88031\n",
      "✅ FOLD 5: MAP@3 Score: 0.37699\n",
      "\n",
      "🎯 Average MAP@3 Score across all folds: 0.37634\n"
     ]
    }
   ],
   "source": [
    "from xgboost import XGBClassifier\n",
    "from sklearn.model_selection import StratifiedKFold\n",
    "\n",
    "def mapk(actual, predicted, k=3):\n",
    "    def apk(a, p, k):\n",
    "        p = p[:k]\n",
    "        score = 0.0\n",
    "        hits = 0\n",
    "        seen = set()\n",
    "        for i, pred in enumerate(p):\n",
    "            if pred in a and pred not in seen:\n",
    "                hits += 1\n",
    "                score += hits / (i + 1.0)\n",
    "                seen.add(pred)\n",
    "        return score / min(len(a), k)\n",
    "    return np.mean([apk(a, p, k) for a, p in zip(actual, predicted)])\n",
    "\n",
    "FOLDS = 5\n",
    "skf = StratifiedKFold(n_splits=FOLDS, shuffle=True, random_state=42)\n",
    "\n",
    "oof = np.zeros(shape = (len(train) ,y.nunique()))\n",
    "pred_prob = np.zeros(shape = (len(test),y.nunique()))\n",
    "\n",
    "xgb_model = XGBClassifier(**params)\n",
    "\n",
    "map3_scores = []\n",
    "\n",
    "for i, (train_idx, valid_idx) in enumerate(skf.split(X,y)):\n",
    "    print('#' * 15, i+1, '#' *15)\n",
    "    x_train, x_valid = X.iloc[train_idx],X.iloc[valid_idx]\n",
    "    y_train, y_valid = y.iloc[train_idx],y.iloc[valid_idx]\n",
    "\n",
    "    x_train = pd.concat([x_train,X_original], axis=0, ignore_index=True)\n",
    "    y_train = pd.concat([y_train,y_original], axis=0, ignore_index=True)\n",
    "    \n",
    "    xgb_model.fit(\n",
    "        x_train, \n",
    "        y_train, \n",
    "        eval_set=[(x_train, y_train), (x_valid, y_valid)], \n",
    "        verbose=100,\n",
    "    )\n",
    "    oof[valid_idx] = xgb_model.predict_proba(x_valid)\n",
    "    pred_prob += xgb_model.predict_proba(X_test)  \n",
    "    top_3_preds = np.argsort(oof[valid_idx], axis=1)[:, -3:][:, ::-1]  \n",
    "    actual = [[label] for label in y_valid]\n",
    "    map3_score = mapk(actual, top_3_preds)\n",
    "    map3_scores.append(map3_score)  # Store the score\n",
    "    print(f\"✅ FOLD {i+1}: MAP@3 Score: {map3_score:.5f}\")\n",
    "\n",
    "avg_map3 = np.mean(map3_scores)\n",
    "print(f\"\\n🎯 Average MAP@3 Score across all folds: {avg_map3:.5f}\")"
   ]
  },
  {
   "cell_type": "code",
   "execution_count": 9,
   "id": "3db13d41",
   "metadata": {
    "execution": {
     "iopub.execute_input": "2025-06-18T22:13:05.115426Z",
     "iopub.status.busy": "2025-06-18T22:13:05.114893Z",
     "iopub.status.idle": "2025-06-18T22:13:05.781048Z",
     "shell.execute_reply": "2025-06-18T22:13:05.780203Z"
    },
    "papermill": {
     "duration": 0.674717,
     "end_time": "2025-06-18T22:13:05.782181",
     "exception": false,
     "start_time": "2025-06-18T22:13:05.107464",
     "status": "completed"
    },
    "tags": []
   },
   "outputs": [
    {
     "name": "stdout",
     "output_type": "stream",
     "text": [
      "✅ Submission file saved as 'submission.csv'\n"
     ]
    }
   ],
   "source": [
    "top_3_preds = np.argsort(pred_prob, axis=1)[:, -3:][:, ::-1]\n",
    "top_3_labels = fer_label_enc.inverse_transform(top_3_preds.ravel()).reshape(top_3_preds.shape)\n",
    "df_sub = pd.read_csv(\"/kaggle/input/playground-series-s5e6/sample_submission.csv\")\n",
    "submission = pd.DataFrame({\n",
    "    'id': df_sub['id'],\n",
    "    'Fertilizer Name': [' '.join(row) for row in top_3_labels]\n",
    "})\n",
    "submission.to_csv('submission.csv', index=False)\n",
    "print(\"✅ Submission file saved as 'submission.csv'\")"
   ]
  },
  {
   "cell_type": "code",
   "execution_count": 10,
   "id": "7d91ec37",
   "metadata": {
    "execution": {
     "iopub.execute_input": "2025-06-18T22:13:05.796984Z",
     "iopub.status.busy": "2025-06-18T22:13:05.796418Z",
     "iopub.status.idle": "2025-06-18T22:13:05.839262Z",
     "shell.execute_reply": "2025-06-18T22:13:05.838694Z"
    },
    "papermill": {
     "duration": 0.051337,
     "end_time": "2025-06-18T22:13:05.840455",
     "exception": false,
     "start_time": "2025-06-18T22:13:05.789118",
     "status": "completed"
    },
    "tags": []
   },
   "outputs": [],
   "source": [
    "np.save('xgb_repeat_train_oof.npy', oof)\n",
    "np.save('xgb_repeat_test_oof.npy', pred_prob / 5)"
   ]
  }
 ],
 "metadata": {
  "kaggle": {
   "accelerator": "gpu",
   "dataSources": [
    {
     "databundleVersionId": 12184666,
     "sourceId": 91717,
     "sourceType": "competition"
    },
    {
     "datasetId": 7269189,
     "sourceId": 11592231,
     "sourceType": "datasetVersion"
    }
   ],
   "dockerImageVersionId": 31041,
   "isGpuEnabled": true,
   "isInternetEnabled": true,
   "language": "python",
   "sourceType": "notebook"
  },
  "kernelspec": {
   "display_name": "Python 3",
   "language": "python",
   "name": "python3"
  },
  "language_info": {
   "codemirror_mode": {
    "name": "ipython",
    "version": 3
   },
   "file_extension": ".py",
   "mimetype": "text/x-python",
   "name": "python",
   "nbconvert_exporter": "python",
   "pygments_lexer": "ipython3",
   "version": "3.11.11"
  },
  "papermill": {
   "default_parameters": {},
   "duration": 1377.139431,
   "end_time": "2025-06-18T22:13:06.466580",
   "environment_variables": {},
   "exception": null,
   "input_path": "__notebook__.ipynb",
   "output_path": "__notebook__.ipynb",
   "parameters": {},
   "start_time": "2025-06-18T21:50:09.327149",
   "version": "2.6.0"
  }
 },
 "nbformat": 4,
 "nbformat_minor": 5
}
