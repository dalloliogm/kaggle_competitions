{
 "cells": [
  {
   "cell_type": "code",
   "execution_count": 1,
   "id": "e9885dcf",
   "metadata": {
    "_cell_guid": "b1076dfc-b9ad-4769-8c92-a6c4dae69d19",
    "_uuid": "8f2839f25d086af736a60e9eeb907d3b93b6e0e5",
    "execution": {
     "iopub.execute_input": "2025-09-03T07:37:38.678340Z",
     "iopub.status.busy": "2025-09-03T07:37:38.677949Z",
     "iopub.status.idle": "2025-09-03T07:37:50.710085Z",
     "shell.execute_reply": "2025-09-03T07:37:50.709175Z"
    },
    "papermill": {
     "duration": 12.038878,
     "end_time": "2025-09-03T07:37:50.712310",
     "exception": false,
     "start_time": "2025-09-03T07:37:38.673432",
     "status": "completed"
    },
    "tags": []
   },
   "outputs": [],
   "source": [
    "import xgboost as xgb\n",
    "import pandas as pd\n",
    "import numpy as np\n",
    "import warnings\n",
    "import gc\n",
    "from sklearn.model_selection import KFold, RepeatedStratifiedKFold\n",
    "from pandas.errors import PerformanceWarning\n",
    "from sklearn.metrics import mean_squared_error\n",
    "from itertools import combinations\n",
    "from xgboost import XGBRegressor\n",
    "from lightgbm import LGBMRegressor\n",
    "from tqdm import tqdm\n",
    "import optuna\n",
    "from sklearn.model_selection import train_test_split\n",
    "from sklearn.ensemble import RandomForestRegressor\n",
    "from catboost import CatBoostRegressor"
   ]
  },
  {
   "cell_type": "code",
   "execution_count": 2,
   "id": "83e74934",
   "metadata": {
    "execution": {
     "iopub.execute_input": "2025-09-03T07:37:50.721288Z",
     "iopub.status.busy": "2025-09-03T07:37:50.719964Z",
     "iopub.status.idle": "2025-09-03T07:42:21.177014Z",
     "shell.execute_reply": "2025-09-03T07:42:21.176289Z"
    },
    "papermill": {
     "duration": 270.463709,
     "end_time": "2025-09-03T07:42:21.178786",
     "exception": false,
     "start_time": "2025-09-03T07:37:50.715077",
     "status": "completed"
    },
    "tags": []
   },
   "outputs": [
    {
     "name": "stderr",
     "output_type": "stream",
     "text": [
      "/tmp/ipykernel_13/3588198596.py:31: PerformanceWarning: DataFrame is highly fragmented.  This is usually the result of calling `frame.insert` many times, which has poor performance.  Consider joining all columns at once using pd.concat(axis=1) instead. To get a de-fragmented frame, use `newframe = frame.copy()`\n",
      "  df[new_column] = pd.cut(\n",
      "/tmp/ipykernel_13/3588198596.py:31: PerformanceWarning: DataFrame is highly fragmented.  This is usually the result of calling `frame.insert` many times, which has poor performance.  Consider joining all columns at once using pd.concat(axis=1) instead. To get a de-fragmented frame, use `newframe = frame.copy()`\n",
      "  df[new_column] = pd.cut(\n"
     ]
    },
    {
     "name": "stdout",
     "output_type": "stream",
     "text": [
      "['RhythmScore', 'AudioLoudness', 'VocalContent', 'AcousticQuality', 'InstrumentalScore', 'LivePerformanceLikelihood', 'MoodScore', 'TrackDurationMs', 'Energy', 'RhythmScore_x_RhythmScore', 'RhythmScore_x_AudioLoudness', 'RhythmScore_div_AudioLoudness', 'RhythmScore_x_VocalContent', 'RhythmScore_div_VocalContent', 'RhythmScore_x_AcousticQuality', 'RhythmScore_div_AcousticQuality', 'RhythmScore_x_InstrumentalScore', 'RhythmScore_div_InstrumentalScore', 'RhythmScore_x_LivePerformanceLikelihood', 'RhythmScore_div_LivePerformanceLikelihood', 'RhythmScore_x_MoodScore', 'RhythmScore_div_MoodScore', 'RhythmScore_x_TrackDurationMs', 'RhythmScore_div_TrackDurationMs', 'RhythmScore_x_Energy', 'RhythmScore_div_Energy', 'AudioLoudness_x_AudioLoudness', 'AudioLoudness_x_VocalContent', 'AudioLoudness_div_VocalContent', 'AudioLoudness_x_AcousticQuality', 'AudioLoudness_div_AcousticQuality', 'AudioLoudness_x_InstrumentalScore', 'AudioLoudness_div_InstrumentalScore', 'AudioLoudness_x_LivePerformanceLikelihood', 'AudioLoudness_div_LivePerformanceLikelihood', 'AudioLoudness_x_MoodScore', 'AudioLoudness_div_MoodScore', 'AudioLoudness_x_TrackDurationMs', 'AudioLoudness_div_TrackDurationMs', 'AudioLoudness_x_Energy', 'AudioLoudness_div_Energy', 'VocalContent_x_VocalContent', 'VocalContent_x_AcousticQuality', 'VocalContent_div_AcousticQuality', 'VocalContent_x_InstrumentalScore', 'VocalContent_div_InstrumentalScore', 'VocalContent_x_LivePerformanceLikelihood', 'VocalContent_div_LivePerformanceLikelihood', 'VocalContent_x_MoodScore', 'VocalContent_div_MoodScore', 'VocalContent_x_TrackDurationMs', 'VocalContent_div_TrackDurationMs', 'VocalContent_x_Energy', 'VocalContent_div_Energy', 'AcousticQuality_x_AcousticQuality', 'AcousticQuality_x_InstrumentalScore', 'AcousticQuality_div_InstrumentalScore', 'AcousticQuality_x_LivePerformanceLikelihood', 'AcousticQuality_div_LivePerformanceLikelihood', 'AcousticQuality_x_MoodScore', 'AcousticQuality_div_MoodScore', 'AcousticQuality_x_TrackDurationMs', 'AcousticQuality_div_TrackDurationMs', 'AcousticQuality_x_Energy', 'AcousticQuality_div_Energy', 'InstrumentalScore_x_InstrumentalScore', 'InstrumentalScore_x_LivePerformanceLikelihood', 'InstrumentalScore_div_LivePerformanceLikelihood', 'InstrumentalScore_x_MoodScore', 'InstrumentalScore_div_MoodScore', 'InstrumentalScore_x_TrackDurationMs', 'InstrumentalScore_div_TrackDurationMs', 'InstrumentalScore_x_Energy', 'InstrumentalScore_div_Energy', 'LivePerformanceLikelihood_x_LivePerformanceLikelihood', 'LivePerformanceLikelihood_x_MoodScore', 'LivePerformanceLikelihood_div_MoodScore', 'LivePerformanceLikelihood_x_TrackDurationMs', 'LivePerformanceLikelihood_div_TrackDurationMs', 'LivePerformanceLikelihood_x_Energy', 'LivePerformanceLikelihood_div_Energy', 'MoodScore_x_MoodScore', 'MoodScore_x_TrackDurationMs', 'MoodScore_div_TrackDurationMs', 'MoodScore_x_Energy', 'MoodScore_div_Energy', 'TrackDurationMs_x_TrackDurationMs', 'TrackDurationMs_x_Energy', 'TrackDurationMs_div_Energy', 'Energy_x_Energy', 'RhythmScore_quartile', 'AudioLoudness_quartile', 'VocalContent_quartile', 'AcousticQuality_quartile', 'InstrumentalScore_quartile', 'LivePerformanceLikelihood_quartile', 'MoodScore_quartile', 'TrackDurationMs_quartile', 'Energy_quartile', 'RhythmScore_decile', 'AudioLoudness_decile', 'VocalContent_decile', 'AcousticQuality_decile', 'InstrumentalScore_decile', 'LivePerformanceLikelihood_decile', 'MoodScore_decile', 'TrackDurationMs_decile', 'Energy_decile']\n"
     ]
    },
    {
     "data": {
      "text/plain": [
       "(524164, 110)"
      ]
     },
     "metadata": {},
     "output_type": "display_data"
    },
    {
     "name": "stdout",
     "output_type": "stream",
     "text": [
      "Fold: 1\n",
      "Accuracy: 26.433417073117017\n",
      "Fold: 2\n",
      "Accuracy: 26.513381761371082\n",
      "Fold: 3\n",
      "Accuracy: 26.425568573428425\n",
      "Fold: 4\n",
      "Accuracy: 26.46788828249542\n",
      "Fold: 5\n",
      "Accuracy: 26.46163211293748\n",
      "XGB ACCURACY:  26.460377560669883\n"
     ]
    }
   ],
   "source": [
    "train = pd.read_csv('/kaggle/input/playground-series-s5e9/train.csv')\n",
    "test = pd.read_csv('/kaggle/input/playground-series-s5e9/test.csv')\n",
    "target = 'BeatsPerMinute'\n",
    "cat_cols = []\n",
    "num_cols = ['RhythmScore', 'AudioLoudness', 'VocalContent', 'AcousticQuality', 'InstrumentalScore', \n",
    "            'LivePerformanceLikelihood', 'MoodScore', 'TrackDurationMs', 'Energy']\n",
    "\n",
    "for i in range(len(num_cols)):\n",
    "    for j in range(i, len(num_cols)):\n",
    "        col1 = num_cols[i]\n",
    "        col2 = num_cols[j]\n",
    "        # Create interaction features\n",
    "        train[f'{col1}_x_{col2}'] = train[col1] * train[col2]\n",
    "        test[f'{col1}_x_{col2}'] = test[col1] * test[col2]\n",
    "        # Create ratio features, handle division by zero\n",
    "        if col1 != col2:\n",
    "            train[f'{col1}_div_{col2}'] = train[col1] / (train[col2] + 1e-6)\n",
    "            test[f'{col1}_div_{col2}'] = test[col1] / (test[col2] + 1e-6)\n",
    "\n",
    "\n",
    "\n",
    "def add_bins(df, column, labels, new_column=None):\n",
    "    if len(labels) == 4 and new_column is None:\n",
    "        new_column = f\"{column}_quartile\"\n",
    "    if len(labels) == 5 and new_column is None:\n",
    "        new_column = f\"{column}_quintile\"\n",
    "    if len(labels) == 10 and new_column is None:\n",
    "        new_column = f\"{column}_decile\"\n",
    "    \n",
    "\n",
    "    df[new_column] = pd.cut(\n",
    "        df[column],\n",
    "        bins= len(labels),\n",
    "        labels=False,\n",
    "        include_lowest=True\n",
    "    )\n",
    "    return df[new_column]\n",
    "\n",
    "for col in num_cols:\n",
    "    train[f\"{col}_quartile\"] = add_bins(train, col, [1, 2, 3, 4])\n",
    "    \n",
    "for col in num_cols:\n",
    "    train[f\"{col}_decile\"] = add_bins(train, col, [1, 2, 3, 4, 5,\n",
    "                                                   6, 7, 8, 9, 10])\n",
    "for col in num_cols:\n",
    "    test[f\"{col}_quartile\"] = add_bins(test, col,  [1, 2, 3, 4])\n",
    "    \n",
    "for col in num_cols:\n",
    "    test[f\"{col}_decile\"] = add_bins(test, col, [1, 2, 3, 4, 5,\n",
    "                                                   6, 7, 8, 9, 10])\n",
    "Features = train.columns.tolist()\n",
    "Features.remove(target)\n",
    "Features.remove('id')\n",
    "\n",
    "print(Features)\n",
    "X=train[Features]\n",
    "y=train[target]\n",
    "X_test = test[Features]\n",
    "display(train.shape)\n",
    "\n",
    "xgb_params = {\n",
    "    'n_estimators': 620,         \n",
    "    'max_leaves': 211,            \n",
    "    'min_child_weight': 1.5,     \n",
    "    'max_depth': 6,               \n",
    "    'grow_policy': 'lossguide',   \n",
    "    'learning_rate': 0.0021858703356597603,      \n",
    "    'tree_method': 'hist',        \n",
    "    'subsample': 0.85,            \n",
    "    'colsample_bylevel': 0.6787051322531533,     \n",
    "    'colsample_bytree': 0.6843905004927857,       \n",
    "    'colsample_bynode': 0.442116057736592,     \n",
    "    'sampling_method': 'uniform',  \n",
    "    'reg_alpha': 2.5,             \n",
    "    'reg_lambda': 0.8,            \n",
    "    'enable_categorical': True,    \n",
    "    'max_cat_to_onehot': 1,       \n",
    "    'device': 'cuda',            \n",
    "    'n_jobs': -1,                 \n",
    "    'random_state': 0,     \n",
    "    'verbosity': 0,               \n",
    "}\n",
    "lgbm_params = {\n",
    "    'learning_rate': 0.001502328415098844,\n",
    "    'num_leaves': 79, \n",
    "    'max_depth': 14,\n",
    "    'feature_fraction': 0.8933016300882094,\n",
    "    'bagging_fraction': 0.9754103048412501,\n",
    "    'bagging_freq': 7, \n",
    "    'min_child_samples': 40,\n",
    "    'lambda_l1': 7.10897934678165e-07,\n",
    "    'lambda_l2': 7.81564014894075e-08,\n",
    "    'random_state' : 0,\n",
    "    'n_jobs' : -1,\n",
    "    'verbosity': -1,\n",
    "    'n_estimators': 643\n",
    "}\n",
    "model = XGBRegressor(**xgb_params)\n",
    "\n",
    "xgb_models, xgb_scores=[],[]\n",
    "kf = KFold(n_splits=5, shuffle=True, random_state=0)\n",
    "for train_idx, val_idx in kf.split(X, y):\n",
    "        print('Fold:', len(xgb_models) + 1)\n",
    "        X_train, X_val = X.iloc[train_idx], X.iloc[val_idx]\n",
    "        y_train, y_val = y.iloc[train_idx], y.iloc[val_idx]\n",
    "        model.fit(X_train, y_train)\n",
    "        acc = mean_squared_error(y_val, model.predict(X_val), squared=False)\n",
    "        xgb_scores.append(acc), xgb_models.append(model)\n",
    "        print('Accuracy:', acc)\n",
    "print('XGB ACCURACY: ', np.mean(xgb_scores))\n",
    "xgb_oof_preds = sum(model.predict(X_val) for model in xgb_models) / len(xgb_models)\n",
    "\n",
    "\n",
    "def xgb_objective(trial):\n",
    "    # Suggest weights for the ensemble\n",
    "    learning_rate=trial.suggest_float(\"learning_rate\", 0.001, 0.12, log=True)\n",
    "    max_depth = trial.suggest_int(\"max_depth\", 1, 4)\n",
    "    n_estimators = trial.suggest_int(\"n_estimators\", 200, 1000)\n",
    "\n",
    "    xgb=XGBRegressor(learning_rate=learning_rate,max_depth=max_depth,n_estimators=n_estimators,random_state=0,n_jobs=-1)\n",
    "    X_train, X_val, y_train,y_val=train_test_split(X,y,test_size=0.25,random_state=0)\n",
    "    xgb.fit(X_train, y_train)\n",
    "    preds=xgb.predict(X_val)\n",
    "    score = mean_squared_error(y_val, preds, squared=False)\n",
    "    return score\n",
    "\n",
    "#xgb_study = optuna.create_study(direction=\"minimize\")\n",
    "#xgb_study.optimize(xgb_objective, n_trials=100)\n",
    "#print(\"Best score:\", xgb_study.best_value)\n",
    "#print(\"Best params:\", xgb_study.best_params)"
   ]
  },
  {
   "cell_type": "code",
   "execution_count": 3,
   "id": "2d56180c",
   "metadata": {
    "execution": {
     "iopub.execute_input": "2025-09-03T07:42:21.186328Z",
     "iopub.status.busy": "2025-09-03T07:42:21.185586Z",
     "iopub.status.idle": "2025-09-03T07:50:00.716956Z",
     "shell.execute_reply": "2025-09-03T07:50:00.716141Z"
    },
    "papermill": {
     "duration": 459.537019,
     "end_time": "2025-09-03T07:50:00.718828",
     "exception": false,
     "start_time": "2025-09-03T07:42:21.181809",
     "status": "completed"
    },
    "tags": []
   },
   "outputs": [
    {
     "name": "stdout",
     "output_type": "stream",
     "text": [
      "Fold: 1\n",
      "Accuracy: 26.432145269322692\n",
      "Fold: 2\n",
      "Accuracy: 26.514004061495577\n",
      "Fold: 3\n",
      "Accuracy: 26.425103096677724\n",
      "Fold: 4\n",
      "Accuracy: 26.467946833088693\n",
      "Fold: 5\n",
      "Accuracy: 26.46114657758192\n",
      "LGBM ACCURACY:  26.46006916763332\n"
     ]
    }
   ],
   "source": [
    "lgbm_model = LGBMRegressor(**lgbm_params)\n",
    "lgbm_models, lgbm_scores=[],[]\n",
    "kf = KFold(n_splits=5, shuffle=True, random_state=0)\n",
    "for train_idx, val_idx in kf.split(X, y):\n",
    "        print('Fold:', len(lgbm_models) + 1)\n",
    "        X_train, X_val = X.iloc[train_idx], X.iloc[val_idx]\n",
    "        y_train, y_val = y.iloc[train_idx], y.iloc[val_idx]\n",
    "        lgbm_model.fit(X_train, y_train)\n",
    "        acc = mean_squared_error(y_val, lgbm_model.predict(X_val), squared=False)\n",
    "        lgbm_scores.append(acc), lgbm_models.append(lgbm_model)\n",
    "        print('Accuracy:', acc)\n",
    "print('LGBM ACCURACY: ', np.mean(lgbm_scores))\n",
    "lgbm_oof_preds = sum(lgbm_model.predict(X_val) for lgbm_model in lgbm_models) / len(lgbm_models)\n",
    "y_val = y_val\n",
    "\n",
    "def lgbm_objective(trial):\n",
    "    # Suggest weights for the ensemble\n",
    "    learning_rate=trial.suggest_float(\"learning_rate\", 0.001, 0.1, log=True)\n",
    "    max_depth = trial.suggest_int(\"max_depth\", 1, 10)\n",
    "    n_estimators = trial.suggest_int(\"n_estimators\", 200, 1000)\n",
    "\n",
    "    lgbm=LGBMRegressor(learning_rate=learning_rate,max_depth=max_depth,n_estimators=n_estimators,random_state=0,n_jobs=-1)\n",
    "    X_train, X_val, y_train,y_val=train_test_split(X,y,test_size=0.25,random_state=0)\n",
    "    lgbm.fit(X_train, y_train)\n",
    "    preds=lgbm.predict(X_val)\n",
    "    score = mean_squared_error(y_val, preds, squared=False)\n",
    "    return score\n",
    "\n",
    "#lgbm_study = optuna.create_study(direction=\"minimize\")\n",
    "#lgbm_study.optimize(lgbm_objective, n_trials=100)\n",
    "#print(\"Best score:\", lgbm_study.best_value)\n",
    "#print(\"Best params:\", lgbm_study.best_params)"
   ]
  },
  {
   "cell_type": "code",
   "execution_count": 4,
   "id": "49fa83d2",
   "metadata": {
    "execution": {
     "iopub.execute_input": "2025-09-03T07:50:00.726094Z",
     "iopub.status.busy": "2025-09-03T07:50:00.725719Z",
     "iopub.status.idle": "2025-09-03T07:50:38.114272Z",
     "shell.execute_reply": "2025-09-03T07:50:38.113540Z"
    },
    "papermill": {
     "duration": 37.39473,
     "end_time": "2025-09-03T07:50:38.116557",
     "exception": false,
     "start_time": "2025-09-03T07:50:00.721827",
     "status": "completed"
    },
    "tags": []
   },
   "outputs": [],
   "source": [
    "X_stack = pd.DataFrame({\n",
    "    'xgb' : xgb_oof_preds,\n",
    "    'lgbm' : lgbm_oof_preds\n",
    "})\n",
    "xgb_test_preds = sum(model.predict(test[Features]) for model in xgb_models) / len(xgb_models)\n",
    "lgbm_test_preds = sum(lgbm_model.predict(test[Features]) for lgbm_model in lgbm_models) / len(lgbm_models)\n",
    "\n",
    "def objective(trial):\n",
    "    # Suggest weights for the ensemble\n",
    "    w_lgbm = trial.suggest_float(\"w_lgbm\", 0, 1)\n",
    "    w_xgb = 1 - w_lgbm   # ensures sum to 1\n",
    "\n",
    "    final_preds = (w_lgbm * X_stack['lgbm'] +w_xgb*X_stack['xgb'] )\n",
    "    score = mean_squared_error(y_val, final_preds, squared = False) \n",
    "    return score\n",
    "\n",
    "#study = optuna.create_study(direction=\"minimize\")\n",
    "#study.optimize(objective, n_trials=500)\n",
    "#print(\"Best score:\", study.best_value)\n",
    "#print(\"Best params:\", study.best_params)"
   ]
  },
  {
   "cell_type": "code",
   "execution_count": 5,
   "id": "6981288b",
   "metadata": {
    "execution": {
     "iopub.execute_input": "2025-09-03T07:50:38.124933Z",
     "iopub.status.busy": "2025-09-03T07:50:38.124570Z",
     "iopub.status.idle": "2025-09-03T07:50:38.552715Z",
     "shell.execute_reply": "2025-09-03T07:50:38.551370Z"
    },
    "papermill": {
     "duration": 0.434937,
     "end_time": "2025-09-03T07:50:38.554693",
     "exception": false,
     "start_time": "2025-09-03T07:50:38.119756",
     "status": "completed"
    },
    "tags": []
   },
   "outputs": [
    {
     "data": {
      "text/html": [
       "<div>\n",
       "<style scoped>\n",
       "    .dataframe tbody tr th:only-of-type {\n",
       "        vertical-align: middle;\n",
       "    }\n",
       "\n",
       "    .dataframe tbody tr th {\n",
       "        vertical-align: top;\n",
       "    }\n",
       "\n",
       "    .dataframe thead th {\n",
       "        text-align: right;\n",
       "    }\n",
       "</style>\n",
       "<table border=\"1\" class=\"dataframe\">\n",
       "  <thead>\n",
       "    <tr style=\"text-align: right;\">\n",
       "      <th></th>\n",
       "      <th>id</th>\n",
       "      <th>BeatsPerMinute</th>\n",
       "    </tr>\n",
       "  </thead>\n",
       "  <tbody>\n",
       "    <tr>\n",
       "      <th>0</th>\n",
       "      <td>524164</td>\n",
       "      <td>119.160340</td>\n",
       "    </tr>\n",
       "    <tr>\n",
       "      <th>1</th>\n",
       "      <td>524165</td>\n",
       "      <td>118.979788</td>\n",
       "    </tr>\n",
       "    <tr>\n",
       "      <th>2</th>\n",
       "      <td>524166</td>\n",
       "      <td>119.171792</td>\n",
       "    </tr>\n",
       "    <tr>\n",
       "      <th>3</th>\n",
       "      <td>524167</td>\n",
       "      <td>119.176289</td>\n",
       "    </tr>\n",
       "    <tr>\n",
       "      <th>4</th>\n",
       "      <td>524168</td>\n",
       "      <td>119.252642</td>\n",
       "    </tr>\n",
       "  </tbody>\n",
       "</table>\n",
       "</div>"
      ],
      "text/plain": [
       "       id  BeatsPerMinute\n",
       "0  524164      119.160340\n",
       "1  524165      118.979788\n",
       "2  524166      119.171792\n",
       "3  524167      119.176289\n",
       "4  524168      119.252642"
      ]
     },
     "metadata": {},
     "output_type": "display_data"
    }
   ],
   "source": [
    "w_lgbm = 0.5948591144361411\n",
    "w_xgb = 1-w_lgbm\n",
    "preds = w_lgbm * lgbm_test_preds + w_xgb * xgb_test_preds\n",
    "submission = pd.DataFrame({'id': test['id'], 'BeatsPerMinute': preds})\n",
    "submission.to_csv('submission.csv', index=False)\n",
    "display(submission.head())"
   ]
  }
 ],
 "metadata": {
  "kaggle": {
   "accelerator": "none",
   "dataSources": [
    {
     "databundleVersionId": 13345277,
     "sourceId": 91720,
     "sourceType": "competition"
    }
   ],
   "dockerImageVersionId": 31089,
   "isGpuEnabled": false,
   "isInternetEnabled": true,
   "language": "python",
   "sourceType": "notebook"
  },
  "kernelspec": {
   "display_name": "Python 3",
   "language": "python",
   "name": "python3"
  },
  "language_info": {
   "codemirror_mode": {
    "name": "ipython",
    "version": 3
   },
   "file_extension": ".py",
   "mimetype": "text/x-python",
   "name": "python",
   "nbconvert_exporter": "python",
   "pygments_lexer": "ipython3",
   "version": "3.11.13"
  },
  "papermill": {
   "default_parameters": {},
   "duration": 787.255814,
   "end_time": "2025-09-03T07:50:39.882276",
   "environment_variables": {},
   "exception": null,
   "input_path": "__notebook__.ipynb",
   "output_path": "__notebook__.ipynb",
   "parameters": {},
   "start_time": "2025-09-03T07:37:32.626462",
   "version": "2.6.0"
  }
 },
 "nbformat": 4,
 "nbformat_minor": 5
}
