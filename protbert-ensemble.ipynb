{
 "cells": [
  {
   "cell_type": "markdown",
   "id": "e74bf49a",
   "metadata": {
    "papermill": {
     "duration": 0.005609,
     "end_time": "2025-10-23T13:49:29.736301",
     "exception": false,
     "start_time": "2025-10-23T13:49:29.730692",
     "status": "completed"
    },
    "tags": []
   },
   "source": [
    "forked from https://www.kaggle.com/code/siddhvr/cafa5-using-protbert-embeds\n",
    "\n",
    "just to be noted:\n",
    "\n",
    "- this is the same notebook which was submitted in CAFA5 for demonstration purpose (not much changes have been made)\n",
    "- it utilizes Protbert model finetuned on CAFA5 dataset (try training the model on CAFA6)\n",
    "- submission utilizes ensemble for cafa5 notebook (scroll all the way down to check)\n",
    "\n"
   ]
  },
  {
   "cell_type": "code",
   "execution_count": 1,
   "id": "be2ba6cf",
   "metadata": {
    "execution": {
     "iopub.execute_input": "2025-10-23T13:49:29.748744Z",
     "iopub.status.busy": "2025-10-23T13:49:29.748247Z",
     "iopub.status.idle": "2025-10-23T13:49:29.818206Z",
     "shell.execute_reply": "2025-10-23T13:49:29.816732Z"
    },
    "papermill": {
     "duration": 0.079584,
     "end_time": "2025-10-23T13:49:29.820943",
     "exception": false,
     "start_time": "2025-10-23T13:49:29.741359",
     "status": "completed"
    },
    "tags": []
   },
   "outputs": [
    {
     "data": {
      "text/html": [
       "<div>\n",
       "<style scoped>\n",
       "    .dataframe tbody tr th:only-of-type {\n",
       "        vertical-align: middle;\n",
       "    }\n",
       "\n",
       "    .dataframe tbody tr th {\n",
       "        vertical-align: top;\n",
       "    }\n",
       "\n",
       "    .dataframe thead th {\n",
       "        text-align: right;\n",
       "    }\n",
       "</style>\n",
       "<table border=\"1\" class=\"dataframe\">\n",
       "  <thead>\n",
       "    <tr style=\"text-align: right;\">\n",
       "      <th></th>\n",
       "      <th>The Protein ID</th>\n",
       "      <th>The Gene Ontology term (GO) ID</th>\n",
       "      <th>Predicted link probability that GO appear in Protein</th>\n",
       "    </tr>\n",
       "  </thead>\n",
       "  <tbody>\n",
       "    <tr>\n",
       "      <th>0</th>\n",
       "      <td>A0A0C5B5G6</td>\n",
       "      <td>GO:0000001</td>\n",
       "      <td>0.123</td>\n",
       "    </tr>\n",
       "    <tr>\n",
       "      <th>1</th>\n",
       "      <td>A0A0C5B5G6</td>\n",
       "      <td>GO:0000002</td>\n",
       "      <td>0.456</td>\n",
       "    </tr>\n",
       "    <tr>\n",
       "      <th>2</th>\n",
       "      <td>A0A1B0GTW7</td>\n",
       "      <td>GO:0000001</td>\n",
       "      <td>0.123</td>\n",
       "    </tr>\n",
       "    <tr>\n",
       "      <th>3</th>\n",
       "      <td>A0A1B0GTW7</td>\n",
       "      <td>GO:0000002</td>\n",
       "      <td>0.456</td>\n",
       "    </tr>\n",
       "    <tr>\n",
       "      <th>4</th>\n",
       "      <td>A0JNW5</td>\n",
       "      <td>GO:0000001</td>\n",
       "      <td>0.123</td>\n",
       "    </tr>\n",
       "  </tbody>\n",
       "</table>\n",
       "</div>"
      ],
      "text/plain": [
       "  The Protein ID The Gene Ontology term (GO) ID  \\\n",
       "0     A0A0C5B5G6                     GO:0000001   \n",
       "1     A0A0C5B5G6                     GO:0000002   \n",
       "2     A0A1B0GTW7                     GO:0000001   \n",
       "3     A0A1B0GTW7                     GO:0000002   \n",
       "4         A0JNW5                     GO:0000001   \n",
       "\n",
       "   Predicted link probability that GO appear in Protein  \n",
       "0                                              0.123     \n",
       "1                                              0.456     \n",
       "2                                              0.123     \n",
       "3                                              0.456     \n",
       "4                                              0.123     "
      ]
     },
     "execution_count": 1,
     "metadata": {},
     "output_type": "execute_result"
    }
   ],
   "source": [
    "import pandas as pd\n",
    "sub = pd.read_csv(\"/kaggle/input/cafa-6-protein-function-prediction/sample_submission.tsv\", sep= \"\\t\", on_bad_lines='skip', header = None)\n",
    "sub.columns = [\"The Protein ID\", \"The Gene Ontology term (GO) ID\", \"Predicted link probability that GO appear in Protein\"]\n",
    "sub.head(5)"
   ]
  },
  {
   "cell_type": "code",
   "execution_count": 2,
   "id": "ade7633c",
   "metadata": {
    "_cell_guid": "b1076dfc-b9ad-4769-8c92-a6c4dae69d19",
    "_uuid": "8f2839f25d086af736a60e9eeb907d3b93b6e0e5",
    "execution": {
     "iopub.execute_input": "2025-10-23T13:49:29.833164Z",
     "iopub.status.busy": "2025-10-23T13:49:29.832742Z",
     "iopub.status.idle": "2025-10-23T13:49:51.232789Z",
     "shell.execute_reply": "2025-10-23T13:49:51.231243Z"
    },
    "papermill": {
     "duration": 21.409069,
     "end_time": "2025-10-23T13:49:51.235296",
     "exception": false,
     "start_time": "2025-10-23T13:49:29.826227",
     "status": "completed"
    },
    "tags": []
   },
   "outputs": [
    {
     "name": "stderr",
     "output_type": "stream",
     "text": [
      "/opt/conda/lib/python3.10/site-packages/scipy/__init__.py:146: UserWarning: A NumPy version >=1.16.5 and <1.23.0 is required for this version of SciPy (detected version 1.23.5\n",
      "  warnings.warn(f\"A NumPy version >={np_minversion} and <{np_maxversion}\"\n",
      "/opt/conda/lib/python3.10/site-packages/tensorflow_io/python/ops/__init__.py:98: UserWarning: unable to load libtensorflow_io_plugins.so: unable to open file: libtensorflow_io_plugins.so, from paths: ['/opt/conda/lib/python3.10/site-packages/tensorflow_io/python/ops/libtensorflow_io_plugins.so']\n",
      "caused by: ['/opt/conda/lib/python3.10/site-packages/tensorflow_io/python/ops/libtensorflow_io_plugins.so: undefined symbol: _ZN3tsl6StatusC1EN10tensorflow5error4CodeESt17basic_string_viewIcSt11char_traitsIcEENS_14SourceLocationE']\n",
      "  warnings.warn(f\"unable to load libtensorflow_io_plugins.so: {e}\")\n",
      "/opt/conda/lib/python3.10/site-packages/tensorflow_io/python/ops/__init__.py:104: UserWarning: file system plugins are not loaded: unable to open file: libtensorflow_io.so, from paths: ['/opt/conda/lib/python3.10/site-packages/tensorflow_io/python/ops/libtensorflow_io.so']\n",
      "caused by: ['/opt/conda/lib/python3.10/site-packages/tensorflow_io/python/ops/libtensorflow_io.so: undefined symbol: _ZTVN10tensorflow13GcsFileSystemE']\n",
      "  warnings.warn(f\"file system plugins are not loaded: {e}\")\n"
     ]
    },
    {
     "name": "stdout",
     "output_type": "stream",
     "text": [
      "/kaggle/input/train-targets-top500/train_targets_top500.npy\n",
      "/kaggle/input/cafa5-055923-pred/submission.tsv\n",
      "/kaggle/input/cafa-6-protein-function-prediction/sample_submission.tsv\n",
      "/kaggle/input/cafa-6-protein-function-prediction/IA.tsv\n",
      "/kaggle/input/cafa-6-protein-function-prediction/Test/testsuperset.fasta\n",
      "/kaggle/input/cafa-6-protein-function-prediction/Test/testsuperset-taxon-list.tsv\n",
      "/kaggle/input/cafa-6-protein-function-prediction/Train/train_terms.tsv\n",
      "/kaggle/input/cafa-6-protein-function-prediction/Train/train_sequences.fasta\n",
      "/kaggle/input/cafa-6-protein-function-prediction/Train/train_taxonomy.tsv\n",
      "/kaggle/input/cafa-6-protein-function-prediction/Train/go-basic.obo\n",
      "/kaggle/input/protbert-embeddings-for-cafa5/train_ids.npy\n",
      "/kaggle/input/protbert-embeddings-for-cafa5/train_embeddings.npy\n",
      "/kaggle/input/protbert-embeddings-for-cafa5/test_ids.npy\n",
      "/kaggle/input/protbert-embeddings-for-cafa5/test_embeddings.npy\n"
     ]
    }
   ],
   "source": [
    "MAIN_DIR = \"/kaggle/input/cafa-6-protein-function-prediction\"\n",
    "\n",
    "# UTILITARIES\n",
    "import numpy as np\n",
    "from tqdm import tqdm\n",
    "import time\n",
    "import matplotlib.pyplot as plt\n",
    "plt.style.use('ggplot')\n",
    "\n",
    "# TORCH MODULES FOR METRICS COMPUTATION :\n",
    "import torch\n",
    "from torch.utils.data import Dataset\n",
    "from torch import nn\n",
    "from torch.utils.data import random_split\n",
    "from torch.optim.lr_scheduler import ReduceLROnPlateau\n",
    "from torchmetrics.classification import MultilabelF1Score\n",
    "from torchmetrics.classification import MultilabelAccuracy\n",
    "\n",
    "import pytorch_lightning as pl\n",
    "from pytorch_lightning import Trainer\n",
    "from pytorch_lightning.loggers import WandbLogger\n",
    "\n",
    "# WANDB FOR LIGHTNING :\n",
    "import wandb\n",
    "\n",
    "# FILES VISUALIZATION\n",
    "import os\n",
    "for dirname, _, filenames in os.walk('/kaggle/input'):\n",
    "    for filename in filenames:\n",
    "        print(os.path.join(dirname, filename))"
   ]
  },
  {
   "cell_type": "code",
   "execution_count": 3,
   "id": "7730b8fa",
   "metadata": {
    "execution": {
     "iopub.execute_input": "2025-10-23T13:49:51.249402Z",
     "iopub.status.busy": "2025-10-23T13:49:51.248986Z",
     "iopub.status.idle": "2025-10-23T13:49:51.255157Z",
     "shell.execute_reply": "2025-10-23T13:49:51.254119Z"
    },
    "papermill": {
     "duration": 0.016631,
     "end_time": "2025-10-23T13:49:51.257439",
     "exception": false,
     "start_time": "2025-10-23T13:49:51.240808",
     "status": "completed"
    },
    "tags": []
   },
   "outputs": [],
   "source": [
    "class config:\n",
    "    train_sequences_path = MAIN_DIR  + \"/Train/train_sequences.fasta\"\n",
    "    train_labels_path = MAIN_DIR + \"/Train/train_terms.tsv\"\n",
    "    test_sequences_path = MAIN_DIR + \"/Test/testsuperset.fasta\"\n",
    "    \n",
    "    num_labels = 500\n",
    "    n_epochs = 5\n",
    "    batch_size = 128\n",
    "    lr = 0.01\n",
    "    \n",
    "    device = torch.device('cuda' if torch.cuda.is_available() else 'cpu')"
   ]
  },
  {
   "cell_type": "code",
   "execution_count": 4,
   "id": "ab6e1b27",
   "metadata": {
    "execution": {
     "iopub.execute_input": "2025-10-23T13:49:51.270042Z",
     "iopub.status.busy": "2025-10-23T13:49:51.269648Z",
     "iopub.status.idle": "2025-10-23T13:49:51.275680Z",
     "shell.execute_reply": "2025-10-23T13:49:51.274282Z"
    },
    "papermill": {
     "duration": 0.015394,
     "end_time": "2025-10-23T13:49:51.278310",
     "exception": false,
     "start_time": "2025-10-23T13:49:51.262916",
     "status": "completed"
    },
    "tags": []
   },
   "outputs": [
    {
     "name": "stdout",
     "output_type": "stream",
     "text": [
      "cpu\n"
     ]
    }
   ],
   "source": [
    "print(config.device)"
   ]
  },
  {
   "cell_type": "code",
   "execution_count": 5,
   "id": "97c27702",
   "metadata": {
    "execution": {
     "iopub.execute_input": "2025-10-23T13:49:51.291457Z",
     "iopub.status.busy": "2025-10-23T13:49:51.291007Z",
     "iopub.status.idle": "2025-10-23T13:49:51.296577Z",
     "shell.execute_reply": "2025-10-23T13:49:51.295506Z"
    },
    "papermill": {
     "duration": 0.014522,
     "end_time": "2025-10-23T13:49:51.298650",
     "exception": false,
     "start_time": "2025-10-23T13:49:51.284128",
     "status": "completed"
    },
    "tags": []
   },
   "outputs": [],
   "source": [
    "# Directories for the different embedding vectors : \n",
    "embeds_map = {\n",
    "    \"T5\" : \"t5embeds\",\n",
    "    \"ProtBERT\" : \"protbert-embeddings-for-cafa5\",\n",
    "    \"EMS2\" : \"cafa-5-ems-2-embeddings-numpy\"\n",
    "}\n",
    "\n",
    "# Length of the different embedding vectors :\n",
    "embeds_dim = {\n",
    "    \"T5\" : 1024,\n",
    "    \"ProtBERT\" : 1024,\n",
    "    \"EMS2\" : 1280\n",
    "}"
   ]
  },
  {
   "cell_type": "code",
   "execution_count": 6,
   "id": "9496877c",
   "metadata": {
    "execution": {
     "iopub.execute_input": "2025-10-23T13:49:51.311997Z",
     "iopub.status.busy": "2025-10-23T13:49:51.311571Z",
     "iopub.status.idle": "2025-10-23T13:49:51.324089Z",
     "shell.execute_reply": "2025-10-23T13:49:51.322734Z"
    },
    "papermill": {
     "duration": 0.022302,
     "end_time": "2025-10-23T13:49:51.326519",
     "exception": false,
     "start_time": "2025-10-23T13:49:51.304217",
     "status": "completed"
    },
    "tags": []
   },
   "outputs": [],
   "source": [
    "class ProteinSequenceDataset(Dataset):\n",
    "    \n",
    "    def __init__(self, datatype, embeddings_source):\n",
    "        super(ProteinSequenceDataset).__init__()\n",
    "        self.datatype = datatype\n",
    "        \n",
    "        if embeddings_source in [\"ProtBERT\", \"EMS2\"]:\n",
    "            embeds = np.load(\"/kaggle/input/\"+embeds_map[embeddings_source]+\"/\"+datatype+\"_embeddings.npy\")\n",
    "            ids = np.load(\"/kaggle/input/\"+embeds_map[embeddings_source]+\"/\"+datatype+\"_ids.npy\")\n",
    "        \n",
    "        if embeddings_source == \"T5\":\n",
    "            embeds = np.load(\"/kaggle/input/\"+embeds_map[embeddings_source]+\"/\"+datatype+\"_embeds.npy\")\n",
    "            ids = np.load(\"/kaggle/input/\"+embeds_map[embeddings_source]+\"/\"+datatype+\"_ids.npy\")\n",
    "            \n",
    "        embeds_list = []\n",
    "        for l in range(embeds.shape[0]):\n",
    "            embeds_list.append(embeds[l,:])\n",
    "        self.df = pd.DataFrame(data={\"EntryID\": ids, \"embed\" : embeds_list})\n",
    "        \n",
    "        if datatype==\"train\":\n",
    "            np_labels = np.load(\n",
    "                \"/kaggle/input/train-targets-top\"+str(config.num_labels)+ \\\n",
    "                \"/train_targets_top\"+str(config.num_labels)+\".npy\")\n",
    "            df_labels = pd.DataFrame(self.df['EntryID'])\n",
    "            df_labels['labels_vect']=[row for row in np_labels]\n",
    "            self.df = self.df.merge(df_labels, on=\"EntryID\")\n",
    "            \n",
    "    def __len__(self):\n",
    "        return len(self.df)\n",
    "    \n",
    "    def __getitem__(self, index):\n",
    "        embed = torch.tensor(self.df.iloc[index][\"embed\"] , dtype = torch.float32)\n",
    "        if self.datatype==\"train\":\n",
    "            targets = torch.tensor(self.df.iloc[index][\"labels_vect\"], dtype = torch.float32)\n",
    "            return embed, targets\n",
    "        if self.datatype==\"test\":\n",
    "            id = self.df.iloc[index][\"EntryID\"]\n",
    "            return embed, id\n",
    "        "
   ]
  },
  {
   "cell_type": "markdown",
   "id": "a30184e6",
   "metadata": {
    "papermill": {
     "duration": 0.005138,
     "end_time": "2025-10-23T13:49:51.337171",
     "exception": false,
     "start_time": "2025-10-23T13:49:51.332033",
     "status": "completed"
    },
    "tags": []
   },
   "source": [
    "## MODEL ARCHITECTURE BUILDING AND TRAINING"
   ]
  },
  {
   "cell_type": "code",
   "execution_count": 7,
   "id": "bcf838d1",
   "metadata": {
    "execution": {
     "iopub.execute_input": "2025-10-23T13:49:51.350839Z",
     "iopub.status.busy": "2025-10-23T13:49:51.350437Z",
     "iopub.status.idle": "2025-10-23T13:49:51.358081Z",
     "shell.execute_reply": "2025-10-23T13:49:51.356756Z"
    },
    "papermill": {
     "duration": 0.017007,
     "end_time": "2025-10-23T13:49:51.360391",
     "exception": false,
     "start_time": "2025-10-23T13:49:51.343384",
     "status": "completed"
    },
    "tags": []
   },
   "outputs": [],
   "source": [
    "class MultiLayerPerceptron(torch.nn.Module):\n",
    "\n",
    "    def __init__(self, input_dim, num_classes):\n",
    "        super(MultiLayerPerceptron, self).__init__()\n",
    "\n",
    "        self.linear1 = torch.nn.Linear(input_dim, 864)\n",
    "        self.activation1 = torch.nn.ReLU() \n",
    "        self.linear2 = torch.nn.Linear(864, 712)\n",
    "        self.activation2 = torch.nn.ReLU()\n",
    "        self.linear3 = torch.nn.Linear(712, num_classes)\n",
    "      \n",
    "\n",
    "    def forward(self, x):\n",
    "        x = self.linear1(x)\n",
    "        x = self.activation1(x)\n",
    "        x = self.linear2(x)\n",
    "        x = self.activation2(x)\n",
    "        x = self.linear3(x)\n",
    "        return x"
   ]
  },
  {
   "cell_type": "code",
   "execution_count": 8,
   "id": "2cf115c3",
   "metadata": {
    "execution": {
     "iopub.execute_input": "2025-10-23T13:49:51.373854Z",
     "iopub.status.busy": "2025-10-23T13:49:51.372808Z",
     "iopub.status.idle": "2025-10-23T13:49:51.381865Z",
     "shell.execute_reply": "2025-10-23T13:49:51.380711Z"
    },
    "papermill": {
     "duration": 0.018856,
     "end_time": "2025-10-23T13:49:51.384599",
     "exception": false,
     "start_time": "2025-10-23T13:49:51.365743",
     "status": "completed"
    },
    "tags": []
   },
   "outputs": [],
   "source": [
    "class CNN1D(nn.Module):\n",
    "    def __init__(self, input_dim, num_classes):\n",
    "        super(CNN1D, self).__init__()\n",
    "        # (batch_size, channels, embed_size)\n",
    "        self.conv1 = nn.Conv1d(in_channels=1, out_channels=3, kernel_size=3, dilation=1, padding=1, stride=1)\n",
    "        # (batch_size, 3, embed_size)\n",
    "        self.pool1 = nn.MaxPool1d(kernel_size=2, stride=2)\n",
    "        # (batch_size, 3, embed_size/2 = 512)\n",
    "        self.conv2 = nn.Conv1d(in_channels=3, out_channels=8, kernel_size=3, dilation=1, padding=1, stride=1)\n",
    "        # (batch_size, 8, embed_size/2 = 512)\n",
    "        self.pool2 = nn.MaxPool1d(kernel_size=2, stride=2)\n",
    "        # (batch_size, 8, embed_size/4 = 256)\n",
    "        self.fc1 = nn.Linear(in_features=int(8 * input_dim/4), out_features=864)\n",
    "        self.fc2 = nn.Linear(in_features=864, out_features=num_classes)\n",
    "\n",
    "    def forward(self, x):\n",
    "        x = x.reshape(x.shape[0], 1, x.shape[1])\n",
    "        x = self.pool1(nn.functional.tanh(self.conv1(x)))\n",
    "        x = self.pool2(nn.functional.tanh(self.conv2(x)))\n",
    "        x = torch.flatten(x, 1)\n",
    "        x = nn.functional.tanh(self.fc1(x))\n",
    "        x = self.fc2(x)\n",
    "        return x\n"
   ]
  },
  {
   "cell_type": "code",
   "execution_count": 9,
   "id": "cceb999f",
   "metadata": {
    "execution": {
     "iopub.execute_input": "2025-10-23T13:49:51.398035Z",
     "iopub.status.busy": "2025-10-23T13:49:51.397637Z",
     "iopub.status.idle": "2025-10-23T13:49:51.412232Z",
     "shell.execute_reply": "2025-10-23T13:49:51.410986Z"
    },
    "papermill": {
     "duration": 0.024936,
     "end_time": "2025-10-23T13:49:51.415054",
     "exception": false,
     "start_time": "2025-10-23T13:49:51.390118",
     "status": "completed"
    },
    "tags": []
   },
   "outputs": [],
   "source": [
    "def train_model(embeddings_source, model_type=\"linear\", train_size=0.9):\n",
    "    \n",
    "    train_dataset = ProteinSequenceDataset(datatype=\"train\", embeddings_source = embeddings_source)\n",
    "    \n",
    "    train_set, val_set = random_split(train_dataset, lengths = [int(len(train_dataset)*train_size), len(train_dataset)-int(len(train_dataset)*train_size)])\n",
    "    train_dataloader = torch.utils.data.DataLoader(train_set, batch_size=config.batch_size, shuffle=True)\n",
    "    val_dataloader = torch.utils.data.DataLoader(val_set, batch_size=config.batch_size, shuffle=True)\n",
    "\n",
    "    if model_type == \"linear\":\n",
    "        model = MultiLayerPerceptron(input_dim=embeds_dim[embeddings_source], num_classes=config.num_labels).to(config.device)\n",
    "    if model_type == \"convolutional\":\n",
    "        model = CNN1D(input_dim=embeds_dim[embeddings_source], num_classes=config.num_labels).to(config.device)\n",
    "\n",
    "    optimizer = torch.optim.Adam(model.parameters(), lr = config.lr)\n",
    "    scheduler = ReduceLROnPlateau(optimizer, factor=0.1, patience=1)\n",
    "    CrossEntropy = torch.nn.CrossEntropyLoss()\n",
    "    f1_score = MultilabelF1Score(num_labels=config.num_labels).to(config.device)\n",
    "    n_epochs = config.n_epochs\n",
    "\n",
    "    print(\"BEGIN TRAINING...\")\n",
    "    train_loss_history=[]\n",
    "    val_loss_history=[]\n",
    "    \n",
    "    train_f1score_history=[]\n",
    "    val_f1score_history=[]\n",
    "    for epoch in range(n_epochs):\n",
    "        print(\"EPOCH \", epoch+1)\n",
    "        ## TRAIN PHASE :\n",
    "        losses = []\n",
    "        scores = []\n",
    "        for embed, targets in tqdm(train_dataloader):\n",
    "            embed, targets = embed.to(config.device), targets.to(config.device)\n",
    "            optimizer.zero_grad()\n",
    "            preds = model(embed)\n",
    "            loss= CrossEntropy(preds, targets)\n",
    "            score=f1_score(preds, targets)\n",
    "            losses.append(loss.item()) \n",
    "            scores.append(score.item())\n",
    "            loss.backward()\n",
    "            optimizer.step()\n",
    "        avg_loss = np.mean(losses)\n",
    "        avg_score = np.mean(scores)\n",
    "        print(\"Running Average TRAIN Loss : \", avg_loss)\n",
    "        print(\"Running Average TRAIN F1-Score : \", avg_score)\n",
    "        train_loss_history.append(avg_loss)\n",
    "        train_f1score_history.append(avg_score)\n",
    "        \n",
    "        ## VALIDATION PHASE : \n",
    "        losses = []\n",
    "        scores = []\n",
    "        for embed, targets in val_dataloader:\n",
    "            embed, targets = embed.to(config.device), targets.to(config.device)\n",
    "            preds = model(embed)\n",
    "            loss= CrossEntropy(preds, targets)\n",
    "            score=f1_score(preds, targets)\n",
    "            losses.append(loss.item())\n",
    "            scores.append(score.item())\n",
    "        avg_loss = np.mean(losses)\n",
    "        avg_score = np.mean(scores)\n",
    "        print(\"Running Average VAL Loss : \", avg_loss)\n",
    "        print(\"Running Average VAL F1-Score : \", avg_score)\n",
    "        val_loss_history.append(avg_loss)\n",
    "        val_f1score_history.append(avg_score)\n",
    "        \n",
    "        scheduler.step(avg_loss)\n",
    "        print(\"\\n\")\n",
    "        \n",
    "    print(\"TRAINING FINISHED\")\n",
    "    print(\"FINAL TRAINING SCORE : \", train_f1score_history[-1])\n",
    "    print(\"FINAL VALIDATION SCORE : \", val_f1score_history[-1])\n",
    "    \n",
    "    losses_history = {\"train\" : train_loss_history, \"val\" : val_loss_history}\n",
    "    scores_history = {\"train\" : train_f1score_history, \"val\" : val_f1score_history}\n",
    "    \n",
    "    return model, losses_history, scores_history"
   ]
  },
  {
   "cell_type": "code",
   "execution_count": 10,
   "id": "8b6b741a",
   "metadata": {
    "execution": {
     "iopub.execute_input": "2025-10-23T13:49:51.428339Z",
     "iopub.status.busy": "2025-10-23T13:49:51.427749Z",
     "iopub.status.idle": "2025-10-23T13:49:51.433844Z",
     "shell.execute_reply": "2025-10-23T13:49:51.432485Z"
    },
    "papermill": {
     "duration": 0.015493,
     "end_time": "2025-10-23T13:49:51.436570",
     "exception": false,
     "start_time": "2025-10-23T13:49:51.421077",
     "status": "completed"
    },
    "tags": []
   },
   "outputs": [],
   "source": [
    "#ems2_model, ems2_losses, ems2_scores = train_model(embeddings_source=\"EMS2\",model_type=\"convolutional\")"
   ]
  },
  {
   "cell_type": "code",
   "execution_count": 11,
   "id": "8ca42c47",
   "metadata": {
    "execution": {
     "iopub.execute_input": "2025-10-23T13:49:51.450639Z",
     "iopub.status.busy": "2025-10-23T13:49:51.449651Z",
     "iopub.status.idle": "2025-10-23T13:49:51.455533Z",
     "shell.execute_reply": "2025-10-23T13:49:51.454281Z"
    },
    "papermill": {
     "duration": 0.015462,
     "end_time": "2025-10-23T13:49:51.458070",
     "exception": false,
     "start_time": "2025-10-23T13:49:51.442608",
     "status": "completed"
    },
    "tags": []
   },
   "outputs": [],
   "source": [
    "#t5_model, t5_losses, t5_scores = train_model(embeddings_source=\"T5\",model_type=\"linear\")"
   ]
  },
  {
   "cell_type": "code",
   "execution_count": 12,
   "id": "fce7e144",
   "metadata": {
    "execution": {
     "iopub.execute_input": "2025-10-23T13:49:51.470833Z",
     "iopub.status.busy": "2025-10-23T13:49:51.470430Z",
     "iopub.status.idle": "2025-10-23T13:54:51.594948Z",
     "shell.execute_reply": "2025-10-23T13:54:51.593677Z"
    },
    "papermill": {
     "duration": 300.133775,
     "end_time": "2025-10-23T13:54:51.597482",
     "exception": false,
     "start_time": "2025-10-23T13:49:51.463707",
     "status": "completed"
    },
    "tags": []
   },
   "outputs": [
    {
     "name": "stdout",
     "output_type": "stream",
     "text": [
      "BEGIN TRAINING...\n",
      "EPOCH  1\n"
     ]
    },
    {
     "name": "stderr",
     "output_type": "stream",
     "text": [
      "100%|██████████| 1001/1001 [00:49<00:00, 20.39it/s]\n"
     ]
    },
    {
     "name": "stdout",
     "output_type": "stream",
     "text": [
      "Running Average TRAIN Loss :  138.62471097475523\n",
      "Running Average TRAIN F1-Score :  0.09536199365834613\n",
      "Running Average VAL Loss :  137.341913155147\n",
      "Running Average VAL F1-Score :  0.11683840078434773\n",
      "\n",
      "\n",
      "EPOCH  2\n"
     ]
    },
    {
     "name": "stderr",
     "output_type": "stream",
     "text": [
      "100%|██████████| 1001/1001 [00:59<00:00, 16.93it/s]\n"
     ]
    },
    {
     "name": "stdout",
     "output_type": "stream",
     "text": [
      "Running Average TRAIN Loss :  136.62749079533748\n",
      "Running Average TRAIN F1-Score :  0.12423179498859695\n",
      "Running Average VAL Loss :  136.43229109900338\n",
      "Running Average VAL F1-Score :  0.11494010261126927\n",
      "\n",
      "\n",
      "EPOCH  3\n"
     ]
    },
    {
     "name": "stderr",
     "output_type": "stream",
     "text": [
      "100%|██████████| 1001/1001 [00:55<00:00, 17.95it/s]\n"
     ]
    },
    {
     "name": "stdout",
     "output_type": "stream",
     "text": [
      "Running Average TRAIN Loss :  136.0666376317774\n",
      "Running Average TRAIN F1-Score :  0.13203659735538148\n",
      "Running Average VAL Loss :  135.5568333353315\n",
      "Running Average VAL F1-Score :  0.13470084745702998\n",
      "\n",
      "\n",
      "EPOCH  4\n"
     ]
    },
    {
     "name": "stderr",
     "output_type": "stream",
     "text": [
      "100%|██████████| 1001/1001 [00:55<00:00, 18.02it/s]\n"
     ]
    },
    {
     "name": "stdout",
     "output_type": "stream",
     "text": [
      "Running Average TRAIN Loss :  135.7274209631311\n",
      "Running Average TRAIN F1-Score :  0.13641695189964284\n",
      "Running Average VAL Loss :  135.85046713692802\n",
      "Running Average VAL F1-Score :  0.13556445842342718\n",
      "\n",
      "\n",
      "EPOCH  5\n"
     ]
    },
    {
     "name": "stderr",
     "output_type": "stream",
     "text": [
      "100%|██████████| 1001/1001 [00:55<00:00, 18.05it/s]\n"
     ]
    },
    {
     "name": "stdout",
     "output_type": "stream",
     "text": [
      "Running Average TRAIN Loss :  135.49962346156042\n",
      "Running Average TRAIN F1-Score :  0.13932192871174018\n",
      "Running Average VAL Loss :  135.42079033170427\n",
      "Running Average VAL F1-Score :  0.13636996756706918\n",
      "\n",
      "\n",
      "TRAINING FINISHED\n",
      "FINAL TRAINING SCORE :  0.13932192871174018\n",
      "FINAL VALIDATION SCORE :  0.13636996756706918\n"
     ]
    }
   ],
   "source": [
    "protbert_model, protbert_losses, protbert_scores = train_model(embeddings_source=\"ProtBERT\",model_type=\"linear\")"
   ]
  },
  {
   "cell_type": "code",
   "execution_count": 13,
   "id": "41535590",
   "metadata": {
    "execution": {
     "iopub.execute_input": "2025-10-23T13:54:51.850791Z",
     "iopub.status.busy": "2025-10-23T13:54:51.850373Z",
     "iopub.status.idle": "2025-10-23T13:54:52.469271Z",
     "shell.execute_reply": "2025-10-23T13:54:52.467973Z"
    },
    "papermill": {
     "duration": 0.747361,
     "end_time": "2025-10-23T13:54:52.471844",
     "exception": false,
     "start_time": "2025-10-23T13:54:51.724483",
     "status": "completed"
    },
    "tags": []
   },
   "outputs": [
    {
     "data": {
      "image/png": "[encoded data removed]",
      "text/plain": [
       "<Figure size 1000x400 with 1 Axes>"
      ]
     },
     "metadata": {},
     "output_type": "display_data"
    },
    {
     "data": {
      "image/png": "[encoded data removed]",
      "text/plain": [
       "<Figure size 1000x400 with 1 Axes>"
      ]
     },
     "metadata": {},
     "output_type": "display_data"
    }
   ],
   "source": [
    "plt.figure(figsize = (10, 4))\n",
    "#plt.plot(ems2_losses[\"val\"], label = \"EMS2\")\n",
    "#plt.plot(t5_losses[\"val\"], label = \"T5\")\n",
    "plt.plot(protbert_losses[\"val\"], label = \"ProtBERT\") \n",
    "plt.title(\"Validation Losses for # Vector Embeddings\")\n",
    "plt.xlabel(\"Epochs\")\n",
    "plt.ylabel(\"Average Loss\")\n",
    "plt.legend()\n",
    "plt.show()\n",
    "\n",
    "plt.figure(figsize = (10, 4))\n",
    "#plt.plot(ems2_scores[\"val\"], label = \"EMS2\")\n",
    "#plt.plot(t5_scores[\"val\"], label = \"T5\")\n",
    "plt.plot(protbert_scores[\"val\"], label = \"ProtBERT\")\n",
    "plt.title(\"Validation F1-Scores for # Vector Embeddings\")\n",
    "plt.xlabel(\"Epochs\")\n",
    "plt.ylabel(\"Average F1-Score\")\n",
    "plt.legend()\n",
    "plt.show()"
   ]
  },
  {
   "cell_type": "markdown",
   "id": "2f234abf",
   "metadata": {
    "papermill": {
     "duration": 0.12927,
     "end_time": "2025-10-23T13:54:52.730026",
     "exception": false,
     "start_time": "2025-10-23T13:54:52.600756",
     "status": "completed"
    },
    "tags": []
   },
   "source": [
    "## PREDICTION"
   ]
  },
  {
   "cell_type": "code",
   "execution_count": 14,
   "id": "37f352f3",
   "metadata": {
    "execution": {
     "iopub.execute_input": "2025-10-23T13:54:53.075405Z",
     "iopub.status.busy": "2025-10-23T13:54:53.074780Z",
     "iopub.status.idle": "2025-10-23T13:54:53.090480Z",
     "shell.execute_reply": "2025-10-23T13:54:53.089022Z"
    },
    "papermill": {
     "duration": 0.160744,
     "end_time": "2025-10-23T13:54:53.094010",
     "exception": false,
     "start_time": "2025-10-23T13:54:52.933266",
     "status": "completed"
    },
    "tags": []
   },
   "outputs": [],
   "source": [
    "def predict(embeddings_source):\n",
    "    \n",
    "    test_dataset = ProteinSequenceDataset(datatype=\"test\", embeddings_source = embeddings_source)\n",
    "    test_dataloader = torch.utils.data.DataLoader(test_dataset, batch_size=1, shuffle=False)\n",
    "    \n",
    "    if embeddings_source == \"T5\":\n",
    "        model = t5_model\n",
    "    if embeddings_source == \"ProtBERT\":\n",
    "        model = protbert_model\n",
    "    if embeddings_source == \"EMS2\":\n",
    "        model = ems2_model\n",
    "        \n",
    "    model.eval()\n",
    "    \n",
    "    labels = pd.read_csv(config.train_labels_path, sep = \"\\t\")\n",
    "    top_terms = labels.groupby(\"term\")[\"EntryID\"].count().sort_values(ascending=False)\n",
    "    labels_names = top_terms[:config.num_labels].index.values\n",
    "    print(\"GENERATE PREDICTION FOR TEST SET...\")\n",
    "\n",
    "    ids_ = np.empty(shape=(len(test_dataloader)*config.num_labels,), dtype=object)\n",
    "    go_terms_ = np.empty(shape=(len(test_dataloader)*config.num_labels,), dtype=object)\n",
    "    confs_ = np.empty(shape=(len(test_dataloader)*config.num_labels,), dtype=np.float32)\n",
    "\n",
    "    for i, (embed, id) in tqdm(enumerate(test_dataloader)):\n",
    "        embed = embed.to(config.device)\n",
    "        confs_[i*config.num_labels:(i+1)*config.num_labels] = torch.nn.functional.sigmoid(model(embed)).squeeze().detach().cpu().numpy()\n",
    "        ids_[i*config.num_labels:(i+1)*config.num_labels] = id[0]\n",
    "        go_terms_[i*config.num_labels:(i+1)*config.num_labels] = labels_names\n",
    "\n",
    "    submission_df = pd.DataFrame(data={\"Id\" : ids_, \"GO term\" : go_terms_, \"Confidence\" : confs_})\n",
    "    print(\"PREDICTIONS DONE\")\n",
    "    return submission_df"
   ]
  },
  {
   "cell_type": "code",
   "execution_count": 15,
   "id": "b90467f2",
   "metadata": {
    "execution": {
     "iopub.execute_input": "2025-10-23T13:54:53.362491Z",
     "iopub.status.busy": "2025-10-23T13:54:53.362137Z",
     "iopub.status.idle": "2025-10-23T13:56:53.889333Z",
     "shell.execute_reply": "2025-10-23T13:56:53.887308Z"
    },
    "papermill": {
     "duration": 120.659962,
     "end_time": "2025-10-23T13:56:53.892627",
     "exception": false,
     "start_time": "2025-10-23T13:54:53.232665",
     "status": "completed"
    },
    "tags": []
   },
   "outputs": [
    {
     "name": "stdout",
     "output_type": "stream",
     "text": [
      "GENERATE PREDICTION FOR TEST SET...\n"
     ]
    },
    {
     "name": "stderr",
     "output_type": "stream",
     "text": [
      "141865it [01:50, 1279.56it/s]\n"
     ]
    },
    {
     "name": "stdout",
     "output_type": "stream",
     "text": [
      "PREDICTIONS DONE\n"
     ]
    }
   ],
   "source": [
    "submission_df = predict(\"ProtBERT\")"
   ]
  },
  {
   "cell_type": "code",
   "execution_count": 16,
   "id": "bf8c2ade",
   "metadata": {
    "execution": {
     "iopub.execute_input": "2025-10-23T13:56:54.331741Z",
     "iopub.status.busy": "2025-10-23T13:56:54.331275Z",
     "iopub.status.idle": "2025-10-23T13:56:54.339652Z",
     "shell.execute_reply": "2025-10-23T13:56:54.338485Z"
    },
    "papermill": {
     "duration": 0.225787,
     "end_time": "2025-10-23T13:56:54.342028",
     "exception": false,
     "start_time": "2025-10-23T13:56:54.116241",
     "status": "completed"
    },
    "tags": []
   },
   "outputs": [
    {
     "data": {
      "text/plain": [
       "70932500"
      ]
     },
     "execution_count": 16,
     "metadata": {},
     "output_type": "execute_result"
    }
   ],
   "source": [
    "len(submission_df)"
   ]
  },
  {
   "cell_type": "markdown",
   "id": "70468800",
   "metadata": {
    "papermill": {
     "duration": 0.210043,
     "end_time": "2025-10-23T13:56:54.838066",
     "exception": false,
     "start_time": "2025-10-23T13:56:54.628023",
     "status": "completed"
    },
    "tags": []
   },
   "source": [
    "<h4> SUBMISSION</h4>\n",
    "You may submit this file as is."
   ]
  },
  {
   "cell_type": "code",
   "execution_count": 17,
   "id": "69a55beb",
   "metadata": {
    "execution": {
     "iopub.execute_input": "2025-10-23T13:56:55.262469Z",
     "iopub.status.busy": "2025-10-23T13:56:55.262071Z",
     "iopub.status.idle": "2025-10-23T13:56:55.267563Z",
     "shell.execute_reply": "2025-10-23T13:56:55.266179Z"
    },
    "papermill": {
     "duration": 0.22328,
     "end_time": "2025-10-23T13:56:55.269966",
     "exception": false,
     "start_time": "2025-10-23T13:56:55.046686",
     "status": "completed"
    },
    "tags": []
   },
   "outputs": [],
   "source": [
    "#submission_df.to_csv('submission.tsv', sep='\\t', header=False, index=False)"
   ]
  },
  {
   "cell_type": "markdown",
   "id": "8729c7bf",
   "metadata": {
    "papermill": {
     "duration": 0.179649,
     "end_time": "2025-10-23T13:56:55.638190",
     "exception": false,
     "start_time": "2025-10-23T13:56:55.458541",
     "status": "completed"
    },
    "tags": []
   },
   "source": [
    "<h4> or ensemble with some other public submission"
   ]
  },
  {
   "cell_type": "code",
   "execution_count": 18,
   "id": "7bccdbf3",
   "metadata": {
    "execution": {
     "iopub.execute_input": "2025-10-23T13:56:56.010226Z",
     "iopub.status.busy": "2025-10-23T13:56:56.009810Z",
     "iopub.status.idle": "2025-10-23T13:57:07.770758Z",
     "shell.execute_reply": "2025-10-23T13:57:07.766884Z"
    },
    "papermill": {
     "duration": 11.951452,
     "end_time": "2025-10-23T13:57:07.777808",
     "exception": false,
     "start_time": "2025-10-23T13:56:55.826356",
     "status": "completed"
    },
    "tags": []
   },
   "outputs": [],
   "source": [
    "#this submission was obtained by training models on BlstP and Foldseek offline\n",
    "submission2 = pd.read_csv('/kaggle/input/cafa5-055923-pred/submission.tsv',\n",
    "    sep='\\t', header=None, names=['Id2', 'GO term2', 'Confidence2']) "
   ]
  },
  {
   "cell_type": "code",
   "execution_count": 19,
   "id": "553246ea",
   "metadata": {
    "execution": {
     "iopub.execute_input": "2025-10-23T13:57:08.399658Z",
     "iopub.status.busy": "2025-10-23T13:57:08.399222Z",
     "iopub.status.idle": "2025-10-23T13:58:29.432808Z",
     "shell.execute_reply": "2025-10-23T13:58:29.430957Z"
    },
    "papermill": {
     "duration": 81.225371,
     "end_time": "2025-10-23T13:58:29.437978",
     "exception": false,
     "start_time": "2025-10-23T13:57:08.212607",
     "status": "completed"
    },
    "tags": []
   },
   "outputs": [],
   "source": [
    "submissions = submission2.merge(submission_df, left_on=['Id2', 'GO term2'], \n",
    "                                                  right_on=['Id', 'GO term'], how='outer')"
   ]
  },
  {
   "cell_type": "code",
   "execution_count": 20,
   "id": "69de338c",
   "metadata": {
    "execution": {
     "iopub.execute_input": "2025-10-23T13:58:29.923314Z",
     "iopub.status.busy": "2025-10-23T13:58:29.922893Z",
     "iopub.status.idle": "2025-10-23T14:12:24.859523Z",
     "shell.execute_reply": "2025-10-23T14:12:24.856463Z"
    },
    "papermill": {
     "duration": 835.240868,
     "end_time": "2025-10-23T14:12:24.866021",
     "exception": false,
     "start_time": "2025-10-23T13:58:29.625153",
     "status": "completed"
    },
    "tags": []
   },
   "outputs": [],
   "source": [
    "submissions.drop(['Id', 'GO term'], axis=1, inplace=True)\n",
    "submissions['confidence_combined'] = submissions.apply(lambda row: row['Confidence2'] if not np.isnan(row['Confidence2']) else row['Confidence'], axis=1)"
   ]
  },
  {
   "cell_type": "code",
   "execution_count": 21,
   "id": "6c5d58f6",
   "metadata": {
    "execution": {
     "iopub.execute_input": "2025-10-23T14:12:25.252538Z",
     "iopub.status.busy": "2025-10-23T14:12:25.250601Z",
     "iopub.status.idle": "2025-10-23T14:16:08.947242Z",
     "shell.execute_reply": "2025-10-23T14:16:08.945364Z"
    },
    "papermill": {
     "duration": 223.887903,
     "end_time": "2025-10-23T14:16:08.950920",
     "exception": false,
     "start_time": "2025-10-23T14:12:25.063017",
     "status": "completed"
    },
    "tags": []
   },
   "outputs": [],
   "source": [
    "submissions[['Id2', 'GO term2', 'confidence_combined']].to_csv('submission.tsv', sep='\\t', header=False, index=False)"
   ]
  }
 ],
 "metadata": {
  "kaggle": {
   "accelerator": "none",
   "dataSources": [
    {
     "databundleVersionId": 14084779,
     "sourceId": 116062,
     "sourceType": "competition"
    },
    {
     "datasetId": 3225525,
     "sourceId": 5607816,
     "sourceType": "datasetVersion"
    },
    {
     "datasetId": 3327296,
     "sourceId": 5792099,
     "sourceType": "datasetVersion"
    },
    {
     "datasetId": 3546496,
     "sourceId": 6180004,
     "sourceType": "datasetVersion"
    }
   ],
   "dockerImageVersionId": 30527,
   "isGpuEnabled": false,
   "isInternetEnabled": false,
   "language": "python",
   "sourceType": "notebook"
  },
  "kernelspec": {
   "display_name": "Python 3",
   "language": "python",
   "name": "python3"
  },
  "language_info": {
   "codemirror_mode": {
    "name": "ipython",
    "version": 3
   },
   "file_extension": ".py",
   "mimetype": "text/x-python",
   "name": "python",
   "nbconvert_exporter": "python",
   "pygments_lexer": "ipython3",
   "version": "3.10.12"
  },
  "papermill": {
   "default_parameters": {},
   "duration": 1614.698903,
   "end_time": "2025-10-23T14:16:11.999962",
   "environment_variables": {},
   "exception": null,
   "input_path": "__notebook__.ipynb",
   "output_path": "__notebook__.ipynb",
   "parameters": {},
   "start_time": "2025-10-23T13:49:17.301059",
   "version": "2.4.0"
  }
 },
 "nbformat": 4,
 "nbformat_minor": 5
}
