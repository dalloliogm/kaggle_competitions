{
 "cells": [
  {
   "cell_type": "markdown",
   "id": "559d9809",
   "metadata": {
    "papermill": {
     "duration": 0.004612,
     "end_time": "2025-05-30T12:52:55.028764",
     "exception": false,
     "start_time": "2025-05-30T12:52:55.024152",
     "status": "completed"
    },
    "tags": []
   },
   "source": [
    "# TPU approach\n",
    "\n",
    "I'm learning to use TPUs (see https://www.kaggle.com/code/ryanholbrook/getting-started-with-tpus), so this is my attempt for this competition.\n",
    "\n",
    "**Note** TPU is not currently working, I've asked in the forums https://www.kaggle.com/discussions/questions-and-answers/582296 . The notebook will also run on CPU or GPU, without any code changes.\n",
    "\n",
    "The model itself is a simple neural network in keras - I am focusing more on using TPUs than the actual competition."
   ]
  },
  {
   "cell_type": "code",
   "execution_count": 1,
   "id": "661bd380",
   "metadata": {
    "execution": {
     "iopub.execute_input": "2025-05-30T12:52:55.037067Z",
     "iopub.status.busy": "2025-05-30T12:52:55.036874Z",
     "iopub.status.idle": "2025-05-30T12:52:59.972471Z",
     "shell.execute_reply": "2025-05-30T12:52:59.971479Z"
    },
    "papermill": {
     "duration": 4.941743,
     "end_time": "2025-05-30T12:52:59.974474",
     "exception": false,
     "start_time": "2025-05-30T12:52:55.032731",
     "status": "completed"
    },
    "tags": []
   },
   "outputs": [],
   "source": [
    "!pip install -q polars"
   ]
  },
  {
   "cell_type": "code",
   "execution_count": 2,
   "id": "253496a0",
   "metadata": {
    "execution": {
     "iopub.execute_input": "2025-05-30T12:52:59.983111Z",
     "iopub.status.busy": "2025-05-30T12:52:59.982870Z",
     "iopub.status.idle": "2025-05-30T12:53:24.369409Z",
     "shell.execute_reply": "2025-05-30T12:53:24.368619Z"
    },
    "papermill": {
     "duration": 24.392437,
     "end_time": "2025-05-30T12:53:24.370847",
     "exception": false,
     "start_time": "2025-05-30T12:52:59.978410",
     "status": "completed"
    },
    "tags": []
   },
   "outputs": [
    {
     "name": "stderr",
     "output_type": "stream",
     "text": [
      "2025-05-30 12:53:03.223556: E external/local_xla/xla/stream_executor/cuda/cuda_fft.cc:477] Unable to register cuFFT factory: Attempting to register factory for plugin cuFFT when one has already been registered\n",
      "WARNING: All log messages before absl::InitializeLog() is called are written to STDERR\n",
      "E0000 00:00:1748609583.618888      19 cuda_dnn.cc:8310] Unable to register cuDNN factory: Attempting to register factory for plugin cuDNN when one has already been registered\n",
      "E0000 00:00:1748609583.733437      19 cuda_blas.cc:1418] Unable to register cuBLAS factory: Attempting to register factory for plugin cuBLAS when one has already been registered\n"
     ]
    }
   ],
   "source": [
    "import math, re, os\n",
    "import tensorflow as tf\n",
    "import numpy as np\n",
    "import polars as pl\n",
    "from matplotlib import pyplot as plt\n",
    "#from kaggle_datasets import KaggleDatasets\n",
    "from sklearn.metrics import f1_score, precision_score, recall_score, confusion_matrix\n",
    "from sklearn.model_selection import train_test_split\n",
    "\n",
    "import pandas as pd\n",
    "from sklearn.preprocessing import LabelEncoder\n",
    "import kaggle_evaluation.cmi_inference_server\n"
   ]
  },
  {
   "cell_type": "code",
   "execution_count": 3,
   "id": "d16403e4",
   "metadata": {
    "_cell_guid": "b1076dfc-b9ad-4769-8c92-a6c4dae69d19",
    "_uuid": "8f2839f25d086af736a60e9eeb907d3b93b6e0e5",
    "execution": {
     "iopub.execute_input": "2025-05-30T12:53:24.379962Z",
     "iopub.status.busy": "2025-05-30T12:53:24.379539Z",
     "iopub.status.idle": "2025-05-30T12:53:24.385542Z",
     "shell.execute_reply": "2025-05-30T12:53:24.384746Z"
    },
    "papermill": {
     "duration": 0.011603,
     "end_time": "2025-05-30T12:53:24.386625",
     "exception": false,
     "start_time": "2025-05-30T12:53:24.375022",
     "status": "completed"
    },
    "tags": []
   },
   "outputs": [
    {
     "name": "stdout",
     "output_type": "stream",
     "text": [
      "Tensorflow version 2.18.0\n",
      "not running on TPU\n",
      "REPLICAS:  1\n"
     ]
    }
   ],
   "source": [
    "# copy&paste from https://www.kaggle.com/code/ryanholbrook/getting-started-with-tpus\n",
    "print(\"Tensorflow version \" + tf.__version__)\n",
    "AUTO = tf.data.experimental.AUTOTUNE\n",
    "\n",
    "# Detect TPU, return appropriate distribution strategy\n",
    "try:\n",
    "    tpu = tf.distribute.cluster_resolver.TPUClusterResolver() \n",
    "    print('Running on TPU ', tpu.master())\n",
    "except ValueError:\n",
    "    tpu = None\n",
    "    print(\"not running on TPU\")\n",
    "\n",
    "if tpu:\n",
    "    tf.config.experimental_connect_to_cluster(tpu)\n",
    "    tf.tpu.experimental.initialize_tpu_system(tpu)\n",
    "    strategy = tf.distribute.experimental.TPUStrategy(tpu)\n",
    "else:\n",
    "    strategy = tf.distribute.get_strategy() \n",
    "\n",
    "print(\"REPLICAS: \", strategy.num_replicas_in_sync)"
   ]
  },
  {
   "cell_type": "code",
   "execution_count": 4,
   "id": "0d4e7427",
   "metadata": {
    "execution": {
     "iopub.execute_input": "2025-05-30T12:53:24.394971Z",
     "iopub.status.busy": "2025-05-30T12:53:24.394577Z",
     "iopub.status.idle": "2025-05-30T12:53:26.504503Z",
     "shell.execute_reply": "2025-05-30T12:53:26.503683Z"
    },
    "papermill": {
     "duration": 2.115233,
     "end_time": "2025-05-30T12:53:26.505664",
     "exception": false,
     "start_time": "2025-05-30T12:53:24.390431",
     "status": "completed"
    },
    "tags": []
   },
   "outputs": [
    {
     "name": "stdout",
     "output_type": "stream",
     "text": [
      "[PhysicalDevice(name='/physical_device:GPU:0', device_type='GPU'), PhysicalDevice(name='/physical_device:GPU:1', device_type='GPU')]\n"
     ]
    }
   ],
   "source": [
    "print(tf.config.list_physical_devices('GPU'))\n"
   ]
  },
  {
   "cell_type": "markdown",
   "id": "24a38f41",
   "metadata": {
    "papermill": {
     "duration": 0.003743,
     "end_time": "2025-05-30T12:53:26.513529",
     "exception": false,
     "start_time": "2025-05-30T12:53:26.509786",
     "status": "completed"
    },
    "tags": []
   },
   "source": [
    "## Read Data"
   ]
  },
  {
   "cell_type": "code",
   "execution_count": 5,
   "id": "50464f11",
   "metadata": {
    "execution": {
     "iopub.execute_input": "2025-05-30T12:53:26.521763Z",
     "iopub.status.busy": "2025-05-30T12:53:26.521530Z",
     "iopub.status.idle": "2025-05-30T12:53:57.052467Z",
     "shell.execute_reply": "2025-05-30T12:53:57.051779Z"
    },
    "papermill": {
     "duration": 30.536642,
     "end_time": "2025-05-30T12:53:57.053898",
     "exception": false,
     "start_time": "2025-05-30T12:53:26.517256",
     "status": "completed"
    },
    "tags": []
   },
   "outputs": [],
   "source": [
    "# Load data\n",
    "train_df = pd.read_csv(\"/kaggle/input/cmi-detect-behavior-with-sensor-data/train.csv\")\n",
    "targets = train_df[['sequence_id', 'gesture']].drop_duplicates()\n"
   ]
  },
  {
   "cell_type": "code",
   "execution_count": 6,
   "id": "0996c5dd",
   "metadata": {
    "execution": {
     "iopub.execute_input": "2025-05-30T12:53:57.063201Z",
     "iopub.status.busy": "2025-05-30T12:53:57.062964Z",
     "iopub.status.idle": "2025-05-30T12:53:57.094721Z",
     "shell.execute_reply": "2025-05-30T12:53:57.094130Z"
    },
    "papermill": {
     "duration": 0.03773,
     "end_time": "2025-05-30T12:53:57.095882",
     "exception": false,
     "start_time": "2025-05-30T12:53:57.058152",
     "status": "completed"
    },
    "tags": []
   },
   "outputs": [
    {
     "data": {
      "text/html": [
       "<div>\n",
       "<style scoped>\n",
       "    .dataframe tbody tr th:only-of-type {\n",
       "        vertical-align: middle;\n",
       "    }\n",
       "\n",
       "    .dataframe tbody tr th {\n",
       "        vertical-align: top;\n",
       "    }\n",
       "\n",
       "    .dataframe thead th {\n",
       "        text-align: right;\n",
       "    }\n",
       "</style>\n",
       "<table border=\"1\" class=\"dataframe\">\n",
       "  <thead>\n",
       "    <tr style=\"text-align: right;\">\n",
       "      <th></th>\n",
       "      <th>row_id</th>\n",
       "      <th>sequence_type</th>\n",
       "      <th>sequence_id</th>\n",
       "      <th>sequence_counter</th>\n",
       "      <th>subject</th>\n",
       "      <th>orientation</th>\n",
       "      <th>behavior</th>\n",
       "      <th>phase</th>\n",
       "      <th>gesture</th>\n",
       "      <th>acc_x</th>\n",
       "      <th>...</th>\n",
       "      <th>tof_5_v54</th>\n",
       "      <th>tof_5_v55</th>\n",
       "      <th>tof_5_v56</th>\n",
       "      <th>tof_5_v57</th>\n",
       "      <th>tof_5_v58</th>\n",
       "      <th>tof_5_v59</th>\n",
       "      <th>tof_5_v60</th>\n",
       "      <th>tof_5_v61</th>\n",
       "      <th>tof_5_v62</th>\n",
       "      <th>tof_5_v63</th>\n",
       "    </tr>\n",
       "  </thead>\n",
       "  <tbody>\n",
       "    <tr>\n",
       "      <th>0</th>\n",
       "      <td>SEQ_000007_000000</td>\n",
       "      <td>Target</td>\n",
       "      <td>SEQ_000007</td>\n",
       "      <td>0</td>\n",
       "      <td>SUBJ_059520</td>\n",
       "      <td>Seated Lean Non Dom - FACE DOWN</td>\n",
       "      <td>Relaxes and moves hand to target location</td>\n",
       "      <td>Transition</td>\n",
       "      <td>Cheek - pinch skin</td>\n",
       "      <td>6.683594</td>\n",
       "      <td>...</td>\n",
       "      <td>-1.0</td>\n",
       "      <td>-1.0</td>\n",
       "      <td>-1.0</td>\n",
       "      <td>-1.0</td>\n",
       "      <td>-1.0</td>\n",
       "      <td>-1.0</td>\n",
       "      <td>-1.0</td>\n",
       "      <td>-1.0</td>\n",
       "      <td>-1.0</td>\n",
       "      <td>-1.0</td>\n",
       "    </tr>\n",
       "    <tr>\n",
       "      <th>1</th>\n",
       "      <td>SEQ_000007_000001</td>\n",
       "      <td>Target</td>\n",
       "      <td>SEQ_000007</td>\n",
       "      <td>1</td>\n",
       "      <td>SUBJ_059520</td>\n",
       "      <td>Seated Lean Non Dom - FACE DOWN</td>\n",
       "      <td>Relaxes and moves hand to target location</td>\n",
       "      <td>Transition</td>\n",
       "      <td>Cheek - pinch skin</td>\n",
       "      <td>6.949219</td>\n",
       "      <td>...</td>\n",
       "      <td>-1.0</td>\n",
       "      <td>-1.0</td>\n",
       "      <td>-1.0</td>\n",
       "      <td>-1.0</td>\n",
       "      <td>-1.0</td>\n",
       "      <td>-1.0</td>\n",
       "      <td>-1.0</td>\n",
       "      <td>-1.0</td>\n",
       "      <td>-1.0</td>\n",
       "      <td>-1.0</td>\n",
       "    </tr>\n",
       "    <tr>\n",
       "      <th>2</th>\n",
       "      <td>SEQ_000007_000002</td>\n",
       "      <td>Target</td>\n",
       "      <td>SEQ_000007</td>\n",
       "      <td>2</td>\n",
       "      <td>SUBJ_059520</td>\n",
       "      <td>Seated Lean Non Dom - FACE DOWN</td>\n",
       "      <td>Relaxes and moves hand to target location</td>\n",
       "      <td>Transition</td>\n",
       "      <td>Cheek - pinch skin</td>\n",
       "      <td>5.722656</td>\n",
       "      <td>...</td>\n",
       "      <td>-1.0</td>\n",
       "      <td>-1.0</td>\n",
       "      <td>112.0</td>\n",
       "      <td>119.0</td>\n",
       "      <td>-1.0</td>\n",
       "      <td>-1.0</td>\n",
       "      <td>-1.0</td>\n",
       "      <td>-1.0</td>\n",
       "      <td>-1.0</td>\n",
       "      <td>-1.0</td>\n",
       "    </tr>\n",
       "    <tr>\n",
       "      <th>3</th>\n",
       "      <td>SEQ_000007_000003</td>\n",
       "      <td>Target</td>\n",
       "      <td>SEQ_000007</td>\n",
       "      <td>3</td>\n",
       "      <td>SUBJ_059520</td>\n",
       "      <td>Seated Lean Non Dom - FACE DOWN</td>\n",
       "      <td>Relaxes and moves hand to target location</td>\n",
       "      <td>Transition</td>\n",
       "      <td>Cheek - pinch skin</td>\n",
       "      <td>6.601562</td>\n",
       "      <td>...</td>\n",
       "      <td>-1.0</td>\n",
       "      <td>-1.0</td>\n",
       "      <td>101.0</td>\n",
       "      <td>111.0</td>\n",
       "      <td>-1.0</td>\n",
       "      <td>-1.0</td>\n",
       "      <td>-1.0</td>\n",
       "      <td>-1.0</td>\n",
       "      <td>-1.0</td>\n",
       "      <td>-1.0</td>\n",
       "    </tr>\n",
       "    <tr>\n",
       "      <th>4</th>\n",
       "      <td>SEQ_000007_000004</td>\n",
       "      <td>Target</td>\n",
       "      <td>SEQ_000007</td>\n",
       "      <td>4</td>\n",
       "      <td>SUBJ_059520</td>\n",
       "      <td>Seated Lean Non Dom - FACE DOWN</td>\n",
       "      <td>Relaxes and moves hand to target location</td>\n",
       "      <td>Transition</td>\n",
       "      <td>Cheek - pinch skin</td>\n",
       "      <td>5.566406</td>\n",
       "      <td>...</td>\n",
       "      <td>-1.0</td>\n",
       "      <td>-1.0</td>\n",
       "      <td>101.0</td>\n",
       "      <td>109.0</td>\n",
       "      <td>125.0</td>\n",
       "      <td>-1.0</td>\n",
       "      <td>-1.0</td>\n",
       "      <td>-1.0</td>\n",
       "      <td>-1.0</td>\n",
       "      <td>-1.0</td>\n",
       "    </tr>\n",
       "  </tbody>\n",
       "</table>\n",
       "<p>5 rows × 341 columns</p>\n",
       "</div>"
      ],
      "text/plain": [
       "              row_id sequence_type sequence_id  sequence_counter      subject  \\\n",
       "0  SEQ_000007_000000        Target  SEQ_000007                 0  SUBJ_059520   \n",
       "1  SEQ_000007_000001        Target  SEQ_000007                 1  SUBJ_059520   \n",
       "2  SEQ_000007_000002        Target  SEQ_000007                 2  SUBJ_059520   \n",
       "3  SEQ_000007_000003        Target  SEQ_000007                 3  SUBJ_059520   \n",
       "4  SEQ_000007_000004        Target  SEQ_000007                 4  SUBJ_059520   \n",
       "\n",
       "                       orientation                                   behavior  \\\n",
       "0  Seated Lean Non Dom - FACE DOWN  Relaxes and moves hand to target location   \n",
       "1  Seated Lean Non Dom - FACE DOWN  Relaxes and moves hand to target location   \n",
       "2  Seated Lean Non Dom - FACE DOWN  Relaxes and moves hand to target location   \n",
       "3  Seated Lean Non Dom - FACE DOWN  Relaxes and moves hand to target location   \n",
       "4  Seated Lean Non Dom - FACE DOWN  Relaxes and moves hand to target location   \n",
       "\n",
       "        phase             gesture     acc_x  ...  tof_5_v54  tof_5_v55  \\\n",
       "0  Transition  Cheek - pinch skin  6.683594  ...       -1.0       -1.0   \n",
       "1  Transition  Cheek - pinch skin  6.949219  ...       -1.0       -1.0   \n",
       "2  Transition  Cheek - pinch skin  5.722656  ...       -1.0       -1.0   \n",
       "3  Transition  Cheek - pinch skin  6.601562  ...       -1.0       -1.0   \n",
       "4  Transition  Cheek - pinch skin  5.566406  ...       -1.0       -1.0   \n",
       "\n",
       "   tof_5_v56  tof_5_v57  tof_5_v58  tof_5_v59  tof_5_v60  tof_5_v61  \\\n",
       "0       -1.0       -1.0       -1.0       -1.0       -1.0       -1.0   \n",
       "1       -1.0       -1.0       -1.0       -1.0       -1.0       -1.0   \n",
       "2      112.0      119.0       -1.0       -1.0       -1.0       -1.0   \n",
       "3      101.0      111.0       -1.0       -1.0       -1.0       -1.0   \n",
       "4      101.0      109.0      125.0       -1.0       -1.0       -1.0   \n",
       "\n",
       "   tof_5_v62  tof_5_v63  \n",
       "0       -1.0       -1.0  \n",
       "1       -1.0       -1.0  \n",
       "2       -1.0       -1.0  \n",
       "3       -1.0       -1.0  \n",
       "4       -1.0       -1.0  \n",
       "\n",
       "[5 rows x 341 columns]"
      ]
     },
     "execution_count": 6,
     "metadata": {},
     "output_type": "execute_result"
    }
   ],
   "source": [
    "train_df.head()"
   ]
  },
  {
   "cell_type": "code",
   "execution_count": 7,
   "id": "d28548d6",
   "metadata": {
    "execution": {
     "iopub.execute_input": "2025-05-30T12:53:57.105893Z",
     "iopub.status.busy": "2025-05-30T12:53:57.105690Z",
     "iopub.status.idle": "2025-05-30T12:53:57.119921Z",
     "shell.execute_reply": "2025-05-30T12:53:57.119395Z"
    },
    "papermill": {
     "duration": 0.020316,
     "end_time": "2025-05-30T12:53:57.120977",
     "exception": false,
     "start_time": "2025-05-30T12:53:57.100661",
     "status": "completed"
    },
    "tags": []
   },
   "outputs": [
    {
     "data": {
      "text/html": [
       "<div>\n",
       "<style scoped>\n",
       "    .dataframe tbody tr th:only-of-type {\n",
       "        vertical-align: middle;\n",
       "    }\n",
       "\n",
       "    .dataframe tbody tr th {\n",
       "        vertical-align: top;\n",
       "    }\n",
       "\n",
       "    .dataframe thead th {\n",
       "        text-align: right;\n",
       "    }\n",
       "</style>\n",
       "<table border=\"1\" class=\"dataframe\">\n",
       "  <thead>\n",
       "    <tr style=\"text-align: right;\">\n",
       "      <th></th>\n",
       "      <th>subject</th>\n",
       "      <th>adult_child</th>\n",
       "      <th>age</th>\n",
       "      <th>sex</th>\n",
       "      <th>handedness</th>\n",
       "      <th>height_cm</th>\n",
       "      <th>shoulder_to_wrist_cm</th>\n",
       "      <th>elbow_to_wrist_cm</th>\n",
       "    </tr>\n",
       "  </thead>\n",
       "  <tbody>\n",
       "    <tr>\n",
       "      <th>0</th>\n",
       "      <td>SUBJ_000206</td>\n",
       "      <td>1</td>\n",
       "      <td>41</td>\n",
       "      <td>1</td>\n",
       "      <td>1</td>\n",
       "      <td>172.0</td>\n",
       "      <td>50</td>\n",
       "      <td>25.0</td>\n",
       "    </tr>\n",
       "    <tr>\n",
       "      <th>1</th>\n",
       "      <td>SUBJ_001430</td>\n",
       "      <td>0</td>\n",
       "      <td>11</td>\n",
       "      <td>0</td>\n",
       "      <td>1</td>\n",
       "      <td>167.0</td>\n",
       "      <td>51</td>\n",
       "      <td>27.0</td>\n",
       "    </tr>\n",
       "    <tr>\n",
       "      <th>2</th>\n",
       "      <td>SUBJ_002923</td>\n",
       "      <td>1</td>\n",
       "      <td>28</td>\n",
       "      <td>1</td>\n",
       "      <td>0</td>\n",
       "      <td>164.0</td>\n",
       "      <td>54</td>\n",
       "      <td>26.0</td>\n",
       "    </tr>\n",
       "    <tr>\n",
       "      <th>3</th>\n",
       "      <td>SUBJ_003328</td>\n",
       "      <td>1</td>\n",
       "      <td>33</td>\n",
       "      <td>1</td>\n",
       "      <td>1</td>\n",
       "      <td>171.0</td>\n",
       "      <td>52</td>\n",
       "      <td>25.0</td>\n",
       "    </tr>\n",
       "    <tr>\n",
       "      <th>4</th>\n",
       "      <td>SUBJ_004117</td>\n",
       "      <td>0</td>\n",
       "      <td>15</td>\n",
       "      <td>0</td>\n",
       "      <td>1</td>\n",
       "      <td>184.0</td>\n",
       "      <td>54</td>\n",
       "      <td>28.0</td>\n",
       "    </tr>\n",
       "  </tbody>\n",
       "</table>\n",
       "</div>"
      ],
      "text/plain": [
       "       subject  adult_child  age  sex  handedness  height_cm  \\\n",
       "0  SUBJ_000206            1   41    1           1      172.0   \n",
       "1  SUBJ_001430            0   11    0           1      167.0   \n",
       "2  SUBJ_002923            1   28    1           0      164.0   \n",
       "3  SUBJ_003328            1   33    1           1      171.0   \n",
       "4  SUBJ_004117            0   15    0           1      184.0   \n",
       "\n",
       "   shoulder_to_wrist_cm  elbow_to_wrist_cm  \n",
       "0                    50               25.0  \n",
       "1                    51               27.0  \n",
       "2                    54               26.0  \n",
       "3                    52               25.0  \n",
       "4                    54               28.0  "
      ]
     },
     "execution_count": 7,
     "metadata": {},
     "output_type": "execute_result"
    }
   ],
   "source": [
    "train_demographics = pd.read_csv(\"/kaggle/input/cmi-detect-behavior-with-sensor-data/train_demographics.csv\")\n",
    "train_demographics.head()"
   ]
  },
  {
   "cell_type": "markdown",
   "id": "3be6f97a",
   "metadata": {
    "execution": {
     "iopub.execute_input": "2025-05-30T09:01:03.428997Z",
     "iopub.status.busy": "2025-05-30T09:01:03.428660Z",
     "iopub.status.idle": "2025-05-30T09:01:03.441963Z",
     "shell.execute_reply": "2025-05-30T09:01:03.437703Z",
     "shell.execute_reply.started": "2025-05-30T09:01:03.428970Z"
    },
    "papermill": {
     "duration": 0.004298,
     "end_time": "2025-05-30T12:53:57.129785",
     "exception": false,
     "start_time": "2025-05-30T12:53:57.125487",
     "status": "completed"
    },
    "tags": []
   },
   "source": [
    "### Merge all in one dataset\n",
    "\n",
    "There may be smarter way to do this merge, but for now, let's put it all together."
   ]
  },
  {
   "cell_type": "code",
   "execution_count": 8,
   "id": "0d4de26c",
   "metadata": {
    "execution": {
     "iopub.execute_input": "2025-05-30T12:53:57.139812Z",
     "iopub.status.busy": "2025-05-30T12:53:57.139019Z",
     "iopub.status.idle": "2025-05-30T12:53:59.211848Z",
     "shell.execute_reply": "2025-05-30T12:53:59.211279Z"
    },
    "papermill": {
     "duration": 2.07894,
     "end_time": "2025-05-30T12:53:59.213126",
     "exception": false,
     "start_time": "2025-05-30T12:53:57.134186",
     "status": "completed"
    },
    "tags": []
   },
   "outputs": [
    {
     "name": "stderr",
     "output_type": "stream",
     "text": [
      "/tmp/ipykernel_19/234058094.py:2: FutureWarning: DataFrame.fillna with 'method' is deprecated and will raise in a future version. Use obj.ffill() or obj.bfill() instead.\n",
      "  train_df.fillna(method='ffill', inplace=True)\n"
     ]
    }
   ],
   "source": [
    "train_df = train_df.merge(train_demographics, on='subject', how='left')\n",
    "train_df.fillna(method='ffill', inplace=True)"
   ]
  },
  {
   "cell_type": "code",
   "execution_count": 9,
   "id": "89721b85",
   "metadata": {
    "execution": {
     "iopub.execute_input": "2025-05-30T12:53:59.222925Z",
     "iopub.status.busy": "2025-05-30T12:53:59.222685Z",
     "iopub.status.idle": "2025-05-30T12:53:59.238981Z",
     "shell.execute_reply": "2025-05-30T12:53:59.238403Z"
    },
    "papermill": {
     "duration": 0.022361,
     "end_time": "2025-05-30T12:53:59.240148",
     "exception": false,
     "start_time": "2025-05-30T12:53:59.217787",
     "status": "completed"
    },
    "tags": []
   },
   "outputs": [
    {
     "data": {
      "text/html": [
       "<div>\n",
       "<style scoped>\n",
       "    .dataframe tbody tr th:only-of-type {\n",
       "        vertical-align: middle;\n",
       "    }\n",
       "\n",
       "    .dataframe tbody tr th {\n",
       "        vertical-align: top;\n",
       "    }\n",
       "\n",
       "    .dataframe thead th {\n",
       "        text-align: right;\n",
       "    }\n",
       "</style>\n",
       "<table border=\"1\" class=\"dataframe\">\n",
       "  <thead>\n",
       "    <tr style=\"text-align: right;\">\n",
       "      <th></th>\n",
       "      <th>row_id</th>\n",
       "      <th>sequence_type</th>\n",
       "      <th>sequence_id</th>\n",
       "      <th>sequence_counter</th>\n",
       "      <th>subject</th>\n",
       "      <th>orientation</th>\n",
       "      <th>behavior</th>\n",
       "      <th>phase</th>\n",
       "      <th>gesture</th>\n",
       "      <th>acc_x</th>\n",
       "      <th>...</th>\n",
       "      <th>tof_5_v61</th>\n",
       "      <th>tof_5_v62</th>\n",
       "      <th>tof_5_v63</th>\n",
       "      <th>adult_child</th>\n",
       "      <th>age</th>\n",
       "      <th>sex</th>\n",
       "      <th>handedness</th>\n",
       "      <th>height_cm</th>\n",
       "      <th>shoulder_to_wrist_cm</th>\n",
       "      <th>elbow_to_wrist_cm</th>\n",
       "    </tr>\n",
       "  </thead>\n",
       "  <tbody>\n",
       "    <tr>\n",
       "      <th>0</th>\n",
       "      <td>SEQ_000007_000000</td>\n",
       "      <td>Target</td>\n",
       "      <td>SEQ_000007</td>\n",
       "      <td>0</td>\n",
       "      <td>SUBJ_059520</td>\n",
       "      <td>Seated Lean Non Dom - FACE DOWN</td>\n",
       "      <td>Relaxes and moves hand to target location</td>\n",
       "      <td>Transition</td>\n",
       "      <td>Cheek - pinch skin</td>\n",
       "      <td>6.683594</td>\n",
       "      <td>...</td>\n",
       "      <td>-1.0</td>\n",
       "      <td>-1.0</td>\n",
       "      <td>-1.0</td>\n",
       "      <td>0</td>\n",
       "      <td>12</td>\n",
       "      <td>1</td>\n",
       "      <td>1</td>\n",
       "      <td>163.0</td>\n",
       "      <td>52</td>\n",
       "      <td>24.0</td>\n",
       "    </tr>\n",
       "    <tr>\n",
       "      <th>1</th>\n",
       "      <td>SEQ_000007_000001</td>\n",
       "      <td>Target</td>\n",
       "      <td>SEQ_000007</td>\n",
       "      <td>1</td>\n",
       "      <td>SUBJ_059520</td>\n",
       "      <td>Seated Lean Non Dom - FACE DOWN</td>\n",
       "      <td>Relaxes and moves hand to target location</td>\n",
       "      <td>Transition</td>\n",
       "      <td>Cheek - pinch skin</td>\n",
       "      <td>6.949219</td>\n",
       "      <td>...</td>\n",
       "      <td>-1.0</td>\n",
       "      <td>-1.0</td>\n",
       "      <td>-1.0</td>\n",
       "      <td>0</td>\n",
       "      <td>12</td>\n",
       "      <td>1</td>\n",
       "      <td>1</td>\n",
       "      <td>163.0</td>\n",
       "      <td>52</td>\n",
       "      <td>24.0</td>\n",
       "    </tr>\n",
       "    <tr>\n",
       "      <th>2</th>\n",
       "      <td>SEQ_000007_000002</td>\n",
       "      <td>Target</td>\n",
       "      <td>SEQ_000007</td>\n",
       "      <td>2</td>\n",
       "      <td>SUBJ_059520</td>\n",
       "      <td>Seated Lean Non Dom - FACE DOWN</td>\n",
       "      <td>Relaxes and moves hand to target location</td>\n",
       "      <td>Transition</td>\n",
       "      <td>Cheek - pinch skin</td>\n",
       "      <td>5.722656</td>\n",
       "      <td>...</td>\n",
       "      <td>-1.0</td>\n",
       "      <td>-1.0</td>\n",
       "      <td>-1.0</td>\n",
       "      <td>0</td>\n",
       "      <td>12</td>\n",
       "      <td>1</td>\n",
       "      <td>1</td>\n",
       "      <td>163.0</td>\n",
       "      <td>52</td>\n",
       "      <td>24.0</td>\n",
       "    </tr>\n",
       "    <tr>\n",
       "      <th>3</th>\n",
       "      <td>SEQ_000007_000003</td>\n",
       "      <td>Target</td>\n",
       "      <td>SEQ_000007</td>\n",
       "      <td>3</td>\n",
       "      <td>SUBJ_059520</td>\n",
       "      <td>Seated Lean Non Dom - FACE DOWN</td>\n",
       "      <td>Relaxes and moves hand to target location</td>\n",
       "      <td>Transition</td>\n",
       "      <td>Cheek - pinch skin</td>\n",
       "      <td>6.601562</td>\n",
       "      <td>...</td>\n",
       "      <td>-1.0</td>\n",
       "      <td>-1.0</td>\n",
       "      <td>-1.0</td>\n",
       "      <td>0</td>\n",
       "      <td>12</td>\n",
       "      <td>1</td>\n",
       "      <td>1</td>\n",
       "      <td>163.0</td>\n",
       "      <td>52</td>\n",
       "      <td>24.0</td>\n",
       "    </tr>\n",
       "    <tr>\n",
       "      <th>4</th>\n",
       "      <td>SEQ_000007_000004</td>\n",
       "      <td>Target</td>\n",
       "      <td>SEQ_000007</td>\n",
       "      <td>4</td>\n",
       "      <td>SUBJ_059520</td>\n",
       "      <td>Seated Lean Non Dom - FACE DOWN</td>\n",
       "      <td>Relaxes and moves hand to target location</td>\n",
       "      <td>Transition</td>\n",
       "      <td>Cheek - pinch skin</td>\n",
       "      <td>5.566406</td>\n",
       "      <td>...</td>\n",
       "      <td>-1.0</td>\n",
       "      <td>-1.0</td>\n",
       "      <td>-1.0</td>\n",
       "      <td>0</td>\n",
       "      <td>12</td>\n",
       "      <td>1</td>\n",
       "      <td>1</td>\n",
       "      <td>163.0</td>\n",
       "      <td>52</td>\n",
       "      <td>24.0</td>\n",
       "    </tr>\n",
       "  </tbody>\n",
       "</table>\n",
       "<p>5 rows × 348 columns</p>\n",
       "</div>"
      ],
      "text/plain": [
       "              row_id sequence_type sequence_id  sequence_counter      subject  \\\n",
       "0  SEQ_000007_000000        Target  SEQ_000007                 0  SUBJ_059520   \n",
       "1  SEQ_000007_000001        Target  SEQ_000007                 1  SUBJ_059520   \n",
       "2  SEQ_000007_000002        Target  SEQ_000007                 2  SUBJ_059520   \n",
       "3  SEQ_000007_000003        Target  SEQ_000007                 3  SUBJ_059520   \n",
       "4  SEQ_000007_000004        Target  SEQ_000007                 4  SUBJ_059520   \n",
       "\n",
       "                       orientation                                   behavior  \\\n",
       "0  Seated Lean Non Dom - FACE DOWN  Relaxes and moves hand to target location   \n",
       "1  Seated Lean Non Dom - FACE DOWN  Relaxes and moves hand to target location   \n",
       "2  Seated Lean Non Dom - FACE DOWN  Relaxes and moves hand to target location   \n",
       "3  Seated Lean Non Dom - FACE DOWN  Relaxes and moves hand to target location   \n",
       "4  Seated Lean Non Dom - FACE DOWN  Relaxes and moves hand to target location   \n",
       "\n",
       "        phase             gesture     acc_x  ...  tof_5_v61  tof_5_v62  \\\n",
       "0  Transition  Cheek - pinch skin  6.683594  ...       -1.0       -1.0   \n",
       "1  Transition  Cheek - pinch skin  6.949219  ...       -1.0       -1.0   \n",
       "2  Transition  Cheek - pinch skin  5.722656  ...       -1.0       -1.0   \n",
       "3  Transition  Cheek - pinch skin  6.601562  ...       -1.0       -1.0   \n",
       "4  Transition  Cheek - pinch skin  5.566406  ...       -1.0       -1.0   \n",
       "\n",
       "   tof_5_v63  adult_child  age  sex  handedness  height_cm  \\\n",
       "0       -1.0            0   12    1           1      163.0   \n",
       "1       -1.0            0   12    1           1      163.0   \n",
       "2       -1.0            0   12    1           1      163.0   \n",
       "3       -1.0            0   12    1           1      163.0   \n",
       "4       -1.0            0   12    1           1      163.0   \n",
       "\n",
       "   shoulder_to_wrist_cm  elbow_to_wrist_cm  \n",
       "0                    52               24.0  \n",
       "1                    52               24.0  \n",
       "2                    52               24.0  \n",
       "3                    52               24.0  \n",
       "4                    52               24.0  \n",
       "\n",
       "[5 rows x 348 columns]"
      ]
     },
     "execution_count": 9,
     "metadata": {},
     "output_type": "execute_result"
    }
   ],
   "source": [
    "train_df.head()"
   ]
  },
  {
   "cell_type": "code",
   "execution_count": 10,
   "id": "3c1efac8",
   "metadata": {
    "execution": {
     "iopub.execute_input": "2025-05-30T12:53:59.249967Z",
     "iopub.status.busy": "2025-05-30T12:53:59.249755Z",
     "iopub.status.idle": "2025-05-30T12:54:06.572478Z",
     "shell.execute_reply": "2025-05-30T12:54:06.571698Z"
    },
    "papermill": {
     "duration": 7.328865,
     "end_time": "2025-05-30T12:54:06.573664",
     "exception": false,
     "start_time": "2025-05-30T12:53:59.244799",
     "status": "completed"
    },
    "tags": []
   },
   "outputs": [
    {
     "data": {
      "text/html": [
       "<div>\n",
       "<style scoped>\n",
       "    .dataframe tbody tr th:only-of-type {\n",
       "        vertical-align: middle;\n",
       "    }\n",
       "\n",
       "    .dataframe tbody tr th {\n",
       "        vertical-align: top;\n",
       "    }\n",
       "\n",
       "    .dataframe thead th {\n",
       "        text-align: right;\n",
       "    }\n",
       "</style>\n",
       "<table border=\"1\" class=\"dataframe\">\n",
       "  <thead>\n",
       "    <tr style=\"text-align: right;\">\n",
       "      <th></th>\n",
       "      <th>sequence_counter</th>\n",
       "      <th>acc_x</th>\n",
       "      <th>acc_y</th>\n",
       "      <th>acc_z</th>\n",
       "      <th>rot_w</th>\n",
       "      <th>rot_x</th>\n",
       "      <th>rot_y</th>\n",
       "      <th>rot_z</th>\n",
       "      <th>thm_1</th>\n",
       "      <th>thm_2</th>\n",
       "      <th>...</th>\n",
       "      <th>tof_5_v61</th>\n",
       "      <th>tof_5_v62</th>\n",
       "      <th>tof_5_v63</th>\n",
       "      <th>adult_child</th>\n",
       "      <th>age</th>\n",
       "      <th>sex</th>\n",
       "      <th>handedness</th>\n",
       "      <th>height_cm</th>\n",
       "      <th>shoulder_to_wrist_cm</th>\n",
       "      <th>elbow_to_wrist_cm</th>\n",
       "    </tr>\n",
       "  </thead>\n",
       "  <tbody>\n",
       "    <tr>\n",
       "      <th>count</th>\n",
       "      <td>574945.000000</td>\n",
       "      <td>574945.000000</td>\n",
       "      <td>574945.000000</td>\n",
       "      <td>574945.000000</td>\n",
       "      <td>574945.000000</td>\n",
       "      <td>574945.000000</td>\n",
       "      <td>574945.000000</td>\n",
       "      <td>574945.000000</td>\n",
       "      <td>574945.000000</td>\n",
       "      <td>574945.000000</td>\n",
       "      <td>...</td>\n",
       "      <td>574945.000000</td>\n",
       "      <td>574945.000000</td>\n",
       "      <td>574945.000000</td>\n",
       "      <td>574945.000000</td>\n",
       "      <td>574945.000000</td>\n",
       "      <td>574945.000000</td>\n",
       "      <td>574945.000000</td>\n",
       "      <td>574945.000000</td>\n",
       "      <td>574945.000000</td>\n",
       "      <td>574945.000000</td>\n",
       "    </tr>\n",
       "    <tr>\n",
       "      <th>mean</th>\n",
       "      <td>43.645234</td>\n",
       "      <td>1.639980</td>\n",
       "      <td>1.790704</td>\n",
       "      <td>-0.459811</td>\n",
       "      <td>0.359589</td>\n",
       "      <td>-0.119262</td>\n",
       "      <td>-0.059807</td>\n",
       "      <td>-0.187373</td>\n",
       "      <td>27.086830</td>\n",
       "      <td>27.142138</td>\n",
       "      <td>...</td>\n",
       "      <td>31.747475</td>\n",
       "      <td>28.780502</td>\n",
       "      <td>27.129085</td>\n",
       "      <td>0.504544</td>\n",
       "      <td>21.630276</td>\n",
       "      <td>0.600247</td>\n",
       "      <td>0.875898</td>\n",
       "      <td>167.647967</td>\n",
       "      <td>51.502566</td>\n",
       "      <td>25.418165</td>\n",
       "    </tr>\n",
       "    <tr>\n",
       "      <th>std</th>\n",
       "      <td>45.717673</td>\n",
       "      <td>5.781259</td>\n",
       "      <td>5.003945</td>\n",
       "      <td>6.096490</td>\n",
       "      <td>0.225530</td>\n",
       "      <td>0.466052</td>\n",
       "      <td>0.543588</td>\n",
       "      <td>0.504215</td>\n",
       "      <td>3.226488</td>\n",
       "      <td>2.943012</td>\n",
       "      <td>...</td>\n",
       "      <td>60.412848</td>\n",
       "      <td>57.104146</td>\n",
       "      <td>55.324165</td>\n",
       "      <td>0.499980</td>\n",
       "      <td>10.343351</td>\n",
       "      <td>0.489848</td>\n",
       "      <td>0.329699</td>\n",
       "      <td>10.740996</td>\n",
       "      <td>4.900248</td>\n",
       "      <td>2.964853</td>\n",
       "    </tr>\n",
       "    <tr>\n",
       "      <th>min</th>\n",
       "      <td>0.000000</td>\n",
       "      <td>-34.585938</td>\n",
       "      <td>-24.402344</td>\n",
       "      <td>-42.855469</td>\n",
       "      <td>0.000000</td>\n",
       "      <td>-0.999146</td>\n",
       "      <td>-0.999695</td>\n",
       "      <td>-0.998169</td>\n",
       "      <td>-0.370413</td>\n",
       "      <td>21.958820</td>\n",
       "      <td>...</td>\n",
       "      <td>-1.000000</td>\n",
       "      <td>-1.000000</td>\n",
       "      <td>-1.000000</td>\n",
       "      <td>0.000000</td>\n",
       "      <td>10.000000</td>\n",
       "      <td>0.000000</td>\n",
       "      <td>0.000000</td>\n",
       "      <td>135.000000</td>\n",
       "      <td>41.000000</td>\n",
       "      <td>18.000000</td>\n",
       "    </tr>\n",
       "    <tr>\n",
       "      <th>25%</th>\n",
       "      <td>17.000000</td>\n",
       "      <td>-2.964844</td>\n",
       "      <td>-2.121094</td>\n",
       "      <td>-5.417969</td>\n",
       "      <td>0.179443</td>\n",
       "      <td>-0.456421</td>\n",
       "      <td>-0.512878</td>\n",
       "      <td>-0.626587</td>\n",
       "      <td>24.764328</td>\n",
       "      <td>24.545063</td>\n",
       "      <td>...</td>\n",
       "      <td>-1.000000</td>\n",
       "      <td>-1.000000</td>\n",
       "      <td>-1.000000</td>\n",
       "      <td>0.000000</td>\n",
       "      <td>13.000000</td>\n",
       "      <td>0.000000</td>\n",
       "      <td>1.000000</td>\n",
       "      <td>163.000000</td>\n",
       "      <td>49.000000</td>\n",
       "      <td>24.000000</td>\n",
       "    </tr>\n",
       "    <tr>\n",
       "      <th>50%</th>\n",
       "      <td>35.000000</td>\n",
       "      <td>2.972656</td>\n",
       "      <td>0.695312</td>\n",
       "      <td>-1.562500</td>\n",
       "      <td>0.339417</td>\n",
       "      <td>-0.186523</td>\n",
       "      <td>-0.112671</td>\n",
       "      <td>-0.263000</td>\n",
       "      <td>26.992983</td>\n",
       "      <td>26.372349</td>\n",
       "      <td>...</td>\n",
       "      <td>-1.000000</td>\n",
       "      <td>-1.000000</td>\n",
       "      <td>-1.000000</td>\n",
       "      <td>1.000000</td>\n",
       "      <td>20.000000</td>\n",
       "      <td>1.000000</td>\n",
       "      <td>1.000000</td>\n",
       "      <td>170.000000</td>\n",
       "      <td>52.000000</td>\n",
       "      <td>25.000000</td>\n",
       "    </tr>\n",
       "    <tr>\n",
       "      <th>75%</th>\n",
       "      <td>54.000000</td>\n",
       "      <td>6.343750</td>\n",
       "      <td>6.816406</td>\n",
       "      <td>5.164062</td>\n",
       "      <td>0.502502</td>\n",
       "      <td>0.205933</td>\n",
       "      <td>0.442993</td>\n",
       "      <td>0.252930</td>\n",
       "      <td>29.431932</td>\n",
       "      <td>29.631985</td>\n",
       "      <td>...</td>\n",
       "      <td>41.000000</td>\n",
       "      <td>34.000000</td>\n",
       "      <td>29.000000</td>\n",
       "      <td>1.000000</td>\n",
       "      <td>27.000000</td>\n",
       "      <td>1.000000</td>\n",
       "      <td>1.000000</td>\n",
       "      <td>174.000000</td>\n",
       "      <td>55.000000</td>\n",
       "      <td>27.000000</td>\n",
       "    </tr>\n",
       "    <tr>\n",
       "      <th>max</th>\n",
       "      <td>699.000000</td>\n",
       "      <td>46.328125</td>\n",
       "      <td>27.183594</td>\n",
       "      <td>30.078125</td>\n",
       "      <td>0.999390</td>\n",
       "      <td>0.999817</td>\n",
       "      <td>0.999451</td>\n",
       "      <td>0.999878</td>\n",
       "      <td>38.457664</td>\n",
       "      <td>37.578339</td>\n",
       "      <td>...</td>\n",
       "      <td>249.000000</td>\n",
       "      <td>249.000000</td>\n",
       "      <td>249.000000</td>\n",
       "      <td>1.000000</td>\n",
       "      <td>53.000000</td>\n",
       "      <td>1.000000</td>\n",
       "      <td>1.000000</td>\n",
       "      <td>190.500000</td>\n",
       "      <td>71.000000</td>\n",
       "      <td>44.000000</td>\n",
       "    </tr>\n",
       "  </tbody>\n",
       "</table>\n",
       "<p>8 rows × 340 columns</p>\n",
       "</div>"
      ],
      "text/plain": [
       "       sequence_counter          acc_x          acc_y          acc_z  \\\n",
       "count     574945.000000  574945.000000  574945.000000  574945.000000   \n",
       "mean          43.645234       1.639980       1.790704      -0.459811   \n",
       "std           45.717673       5.781259       5.003945       6.096490   \n",
       "min            0.000000     -34.585938     -24.402344     -42.855469   \n",
       "25%           17.000000      -2.964844      -2.121094      -5.417969   \n",
       "50%           35.000000       2.972656       0.695312      -1.562500   \n",
       "75%           54.000000       6.343750       6.816406       5.164062   \n",
       "max          699.000000      46.328125      27.183594      30.078125   \n",
       "\n",
       "               rot_w          rot_x          rot_y          rot_z  \\\n",
       "count  574945.000000  574945.000000  574945.000000  574945.000000   \n",
       "mean        0.359589      -0.119262      -0.059807      -0.187373   \n",
       "std         0.225530       0.466052       0.543588       0.504215   \n",
       "min         0.000000      -0.999146      -0.999695      -0.998169   \n",
       "25%         0.179443      -0.456421      -0.512878      -0.626587   \n",
       "50%         0.339417      -0.186523      -0.112671      -0.263000   \n",
       "75%         0.502502       0.205933       0.442993       0.252930   \n",
       "max         0.999390       0.999817       0.999451       0.999878   \n",
       "\n",
       "               thm_1          thm_2  ...      tof_5_v61      tof_5_v62  \\\n",
       "count  574945.000000  574945.000000  ...  574945.000000  574945.000000   \n",
       "mean       27.086830      27.142138  ...      31.747475      28.780502   \n",
       "std         3.226488       2.943012  ...      60.412848      57.104146   \n",
       "min        -0.370413      21.958820  ...      -1.000000      -1.000000   \n",
       "25%        24.764328      24.545063  ...      -1.000000      -1.000000   \n",
       "50%        26.992983      26.372349  ...      -1.000000      -1.000000   \n",
       "75%        29.431932      29.631985  ...      41.000000      34.000000   \n",
       "max        38.457664      37.578339  ...     249.000000     249.000000   \n",
       "\n",
       "           tof_5_v63    adult_child            age            sex  \\\n",
       "count  574945.000000  574945.000000  574945.000000  574945.000000   \n",
       "mean       27.129085       0.504544      21.630276       0.600247   \n",
       "std        55.324165       0.499980      10.343351       0.489848   \n",
       "min        -1.000000       0.000000      10.000000       0.000000   \n",
       "25%        -1.000000       0.000000      13.000000       0.000000   \n",
       "50%        -1.000000       1.000000      20.000000       1.000000   \n",
       "75%        29.000000       1.000000      27.000000       1.000000   \n",
       "max       249.000000       1.000000      53.000000       1.000000   \n",
       "\n",
       "          handedness      height_cm  shoulder_to_wrist_cm  elbow_to_wrist_cm  \n",
       "count  574945.000000  574945.000000         574945.000000      574945.000000  \n",
       "mean        0.875898     167.647967             51.502566          25.418165  \n",
       "std         0.329699      10.740996              4.900248           2.964853  \n",
       "min         0.000000     135.000000             41.000000          18.000000  \n",
       "25%         1.000000     163.000000             49.000000          24.000000  \n",
       "50%         1.000000     170.000000             52.000000          25.000000  \n",
       "75%         1.000000     174.000000             55.000000          27.000000  \n",
       "max         1.000000     190.500000             71.000000          44.000000  \n",
       "\n",
       "[8 rows x 340 columns]"
      ]
     },
     "execution_count": 10,
     "metadata": {},
     "output_type": "execute_result"
    }
   ],
   "source": [
    "train_df.describe()\n"
   ]
  },
  {
   "cell_type": "code",
   "execution_count": 11,
   "id": "a54f1418",
   "metadata": {
    "execution": {
     "iopub.execute_input": "2025-05-30T12:54:06.585570Z",
     "iopub.status.busy": "2025-05-30T12:54:06.585329Z",
     "iopub.status.idle": "2025-05-30T12:54:06.589926Z",
     "shell.execute_reply": "2025-05-30T12:54:06.589393Z"
    },
    "papermill": {
     "duration": 0.011943,
     "end_time": "2025-05-30T12:54:06.590970",
     "exception": false,
     "start_time": "2025-05-30T12:54:06.579027",
     "status": "completed"
    },
    "tags": []
   },
   "outputs": [
    {
     "data": {
      "text/plain": [
       "'row_id, sequence_type, sequence_id, sequence_counter, subject, orientation, behavior, phase, gesture, acc_x, acc_y, acc_z, rot_w, rot_x, rot_y, rot_z, thm_1, thm_2, thm_3, thm_4, thm_5, tof_1_v0, tof_1_v1, tof_1_v2, tof_1_v3, tof_1_v4, tof_1_v5, tof_1_v6, tof_1_v7, tof_1_v8, tof_1_v9, tof_1_v10, tof_1_v11, tof_1_v12, tof_1_v13, tof_1_v14, tof_1_v15, tof_1_v16, tof_1_v17, tof_1_v18, tof_1_v19, tof_1_v20, tof_1_v21, tof_1_v22, tof_1_v23, tof_1_v24, tof_1_v25, tof_1_v26, tof_1_v27, tof_1_v28, tof_1_v29, tof_1_v30, tof_1_v31, tof_1_v32, tof_1_v33, tof_1_v34, tof_1_v35, tof_1_v36, tof_1_v37, tof_1_v38, tof_1_v39, tof_1_v40, tof_1_v41, tof_1_v42, tof_1_v43, tof_1_v44, tof_1_v45, tof_1_v46, tof_1_v47, tof_1_v48, tof_1_v49, tof_1_v50, tof_1_v51, tof_1_v52, tof_1_v53, tof_1_v54, tof_1_v55, tof_1_v56, tof_1_v57, tof_1_v58, tof_1_v59, tof_1_v60, tof_1_v61, tof_1_v62, tof_1_v63, tof_2_v0, tof_2_v1, tof_2_v2, tof_2_v3, tof_2_v4, tof_2_v5, tof_2_v6, tof_2_v7, tof_2_v8, tof_2_v9, tof_2_v10, tof_2_v11, tof_2_v12, tof_2_v13, tof_2_v14, tof_2_v15, tof_2_v16, tof_2_v17, tof_2_v18, tof_2_v19, tof_2_v20, tof_2_v21, tof_2_v22, tof_2_v23, tof_2_v24, tof_2_v25, tof_2_v26, tof_2_v27, tof_2_v28, tof_2_v29, tof_2_v30, tof_2_v31, tof_2_v32, tof_2_v33, tof_2_v34, tof_2_v35, tof_2_v36, tof_2_v37, tof_2_v38, tof_2_v39, tof_2_v40, tof_2_v41, tof_2_v42, tof_2_v43, tof_2_v44, tof_2_v45, tof_2_v46, tof_2_v47, tof_2_v48, tof_2_v49, tof_2_v50, tof_2_v51, tof_2_v52, tof_2_v53, tof_2_v54, tof_2_v55, tof_2_v56, tof_2_v57, tof_2_v58, tof_2_v59, tof_2_v60, tof_2_v61, tof_2_v62, tof_2_v63, tof_3_v0, tof_3_v1, tof_3_v2, tof_3_v3, tof_3_v4, tof_3_v5, tof_3_v6, tof_3_v7, tof_3_v8, tof_3_v9, tof_3_v10, tof_3_v11, tof_3_v12, tof_3_v13, tof_3_v14, tof_3_v15, tof_3_v16, tof_3_v17, tof_3_v18, tof_3_v19, tof_3_v20, tof_3_v21, tof_3_v22, tof_3_v23, tof_3_v24, tof_3_v25, tof_3_v26, tof_3_v27, tof_3_v28, tof_3_v29, tof_3_v30, tof_3_v31, tof_3_v32, tof_3_v33, tof_3_v34, tof_3_v35, tof_3_v36, tof_3_v37, tof_3_v38, tof_3_v39, tof_3_v40, tof_3_v41, tof_3_v42, tof_3_v43, tof_3_v44, tof_3_v45, tof_3_v46, tof_3_v47, tof_3_v48, tof_3_v49, tof_3_v50, tof_3_v51, tof_3_v52, tof_3_v53, tof_3_v54, tof_3_v55, tof_3_v56, tof_3_v57, tof_3_v58, tof_3_v59, tof_3_v60, tof_3_v61, tof_3_v62, tof_3_v63, tof_4_v0, tof_4_v1, tof_4_v2, tof_4_v3, tof_4_v4, tof_4_v5, tof_4_v6, tof_4_v7, tof_4_v8, tof_4_v9, tof_4_v10, tof_4_v11, tof_4_v12, tof_4_v13, tof_4_v14, tof_4_v15, tof_4_v16, tof_4_v17, tof_4_v18, tof_4_v19, tof_4_v20, tof_4_v21, tof_4_v22, tof_4_v23, tof_4_v24, tof_4_v25, tof_4_v26, tof_4_v27, tof_4_v28, tof_4_v29, tof_4_v30, tof_4_v31, tof_4_v32, tof_4_v33, tof_4_v34, tof_4_v35, tof_4_v36, tof_4_v37, tof_4_v38, tof_4_v39, tof_4_v40, tof_4_v41, tof_4_v42, tof_4_v43, tof_4_v44, tof_4_v45, tof_4_v46, tof_4_v47, tof_4_v48, tof_4_v49, tof_4_v50, tof_4_v51, tof_4_v52, tof_4_v53, tof_4_v54, tof_4_v55, tof_4_v56, tof_4_v57, tof_4_v58, tof_4_v59, tof_4_v60, tof_4_v61, tof_4_v62, tof_4_v63, tof_5_v0, tof_5_v1, tof_5_v2, tof_5_v3, tof_5_v4, tof_5_v5, tof_5_v6, tof_5_v7, tof_5_v8, tof_5_v9, tof_5_v10, tof_5_v11, tof_5_v12, tof_5_v13, tof_5_v14, tof_5_v15, tof_5_v16, tof_5_v17, tof_5_v18, tof_5_v19, tof_5_v20, tof_5_v21, tof_5_v22, tof_5_v23, tof_5_v24, tof_5_v25, tof_5_v26, tof_5_v27, tof_5_v28, tof_5_v29, tof_5_v30, tof_5_v31, tof_5_v32, tof_5_v33, tof_5_v34, tof_5_v35, tof_5_v36, tof_5_v37, tof_5_v38, tof_5_v39, tof_5_v40, tof_5_v41, tof_5_v42, tof_5_v43, tof_5_v44, tof_5_v45, tof_5_v46, tof_5_v47, tof_5_v48, tof_5_v49, tof_5_v50, tof_5_v51, tof_5_v52, tof_5_v53, tof_5_v54, tof_5_v55, tof_5_v56, tof_5_v57, tof_5_v58, tof_5_v59, tof_5_v60, tof_5_v61, tof_5_v62, tof_5_v63, adult_child, age, sex, handedness, height_cm, shoulder_to_wrist_cm, elbow_to_wrist_cm'"
      ]
     },
     "execution_count": 11,
     "metadata": {},
     "output_type": "execute_result"
    }
   ],
   "source": [
    "', '.join(train_df.columns.to_list())"
   ]
  },
  {
   "cell_type": "markdown",
   "id": "2144787b",
   "metadata": {
    "papermill": {
     "duration": 0.004786,
     "end_time": "2025-05-30T12:54:06.600902",
     "exception": false,
     "start_time": "2025-05-30T12:54:06.596116",
     "status": "completed"
    },
    "tags": []
   },
   "source": [
    "## Prepare Targets and Feature Selection\n",
    "\n",
    "We only use a few features for now, to simplify the model."
   ]
  },
  {
   "cell_type": "code",
   "execution_count": 12,
   "id": "44e3b42f",
   "metadata": {
    "execution": {
     "iopub.execute_input": "2025-05-30T12:54:06.611110Z",
     "iopub.status.busy": "2025-05-30T12:54:06.610891Z",
     "iopub.status.idle": "2025-05-30T12:54:06.617818Z",
     "shell.execute_reply": "2025-05-30T12:54:06.617083Z"
    },
    "papermill": {
     "duration": 0.013295,
     "end_time": "2025-05-30T12:54:06.618982",
     "exception": false,
     "start_time": "2025-05-30T12:54:06.605687",
     "status": "completed"
    },
    "tags": []
   },
   "outputs": [],
   "source": [
    "\n",
    "# Encode gesture labels\n",
    "label_encoder = LabelEncoder()\n",
    "targets['gesture_enc'] = label_encoder.fit_transform(targets['gesture'])\n",
    "gesture2id = dict(zip(label_encoder.classes_, label_encoder.transform(label_encoder.classes_)))\n",
    "\n",
    "# Features to use (IMU only)\n",
    "FEATURES = [\n",
    "    'acc_x', 'acc_y', 'acc_z',\n",
    "    'rot_w', 'rot_x', 'rot_y', 'rot_z'\n",
    "]\n",
    "\n"
   ]
  },
  {
   "cell_type": "code",
   "execution_count": 13,
   "id": "b9c09446",
   "metadata": {
    "execution": {
     "iopub.execute_input": "2025-05-30T12:54:06.629333Z",
     "iopub.status.busy": "2025-05-30T12:54:06.629119Z",
     "iopub.status.idle": "2025-05-30T12:54:06.633309Z",
     "shell.execute_reply": "2025-05-30T12:54:06.632570Z"
    },
    "papermill": {
     "duration": 0.01069,
     "end_time": "2025-05-30T12:54:06.634448",
     "exception": false,
     "start_time": "2025-05-30T12:54:06.623758",
     "status": "completed"
    },
    "tags": []
   },
   "outputs": [],
   "source": [
    "\n",
    "# Feature selection\n",
    "IMU_FEATURES = ['acc_x', 'acc_y', 'acc_z', 'rot_w', 'rot_x', 'rot_y', 'rot_z']\n",
    "THERMO_FEATURES = [f'thm_{i}' for i in range(1, 6)]\n",
    "TOF_FEATURES = [f'tof_{i}_v{j}' for i in range(1, 6) for j in range(64)]\n",
    "DEMO_FEATURES = ['adult_child', 'age', 'sex', 'handedness', 'height_cm', 'shoulder_to_wrist_cm', 'elbow_to_wrist_cm']\n",
    "\n",
    "FEATURES = IMU_FEATURES + THERMO_FEATURES + DEMO_FEATURES  # TOF excluded for now due to sparsity"
   ]
  },
  {
   "cell_type": "code",
   "execution_count": 14,
   "id": "a84b5632",
   "metadata": {
    "execution": {
     "iopub.execute_input": "2025-05-30T12:54:06.644865Z",
     "iopub.status.busy": "2025-05-30T12:54:06.644667Z",
     "iopub.status.idle": "2025-05-30T12:54:06.648933Z",
     "shell.execute_reply": "2025-05-30T12:54:06.648273Z"
    },
    "papermill": {
     "duration": 0.010371,
     "end_time": "2025-05-30T12:54:06.649941",
     "exception": false,
     "start_time": "2025-05-30T12:54:06.639570",
     "status": "completed"
    },
    "tags": []
   },
   "outputs": [
    {
     "data": {
      "text/plain": [
       "['acc_x',\n",
       " 'acc_y',\n",
       " 'acc_z',\n",
       " 'rot_w',\n",
       " 'rot_x',\n",
       " 'rot_y',\n",
       " 'rot_z',\n",
       " 'thm_1',\n",
       " 'thm_2',\n",
       " 'thm_3',\n",
       " 'thm_4',\n",
       " 'thm_5',\n",
       " 'adult_child',\n",
       " 'age',\n",
       " 'sex',\n",
       " 'handedness',\n",
       " 'height_cm',\n",
       " 'shoulder_to_wrist_cm',\n",
       " 'elbow_to_wrist_cm']"
      ]
     },
     "execution_count": 14,
     "metadata": {},
     "output_type": "execute_result"
    }
   ],
   "source": [
    "FEATURES"
   ]
  },
  {
   "cell_type": "markdown",
   "id": "f933545b",
   "metadata": {
    "papermill": {
     "duration": 0.004776,
     "end_time": "2025-05-30T12:54:06.659588",
     "exception": false,
     "start_time": "2025-05-30T12:54:06.654812",
     "status": "completed"
    },
    "tags": []
   },
   "source": [
    "## Prepare Sequences"
   ]
  },
  {
   "cell_type": "code",
   "execution_count": 15,
   "id": "aeb562a1",
   "metadata": {
    "execution": {
     "iopub.execute_input": "2025-05-30T12:54:06.669809Z",
     "iopub.status.busy": "2025-05-30T12:54:06.669626Z",
     "iopub.status.idle": "2025-05-30T12:59:44.611340Z",
     "shell.execute_reply": "2025-05-30T12:59:44.610468Z"
    },
    "papermill": {
     "duration": 337.94853,
     "end_time": "2025-05-30T12:59:44.612812",
     "exception": false,
     "start_time": "2025-05-30T12:54:06.664282",
     "status": "completed"
    },
    "tags": []
   },
   "outputs": [],
   "source": [
    "# Prepare sequences\n",
    "sequence_ids = train_df['sequence_id'].unique()\n",
    "X, y = [], []\n",
    "for seq_id in sequence_ids:\n",
    "    df = train_df[train_df['sequence_id'] == seq_id]\n",
    "    if df[FEATURES].isnull().values.any():\n",
    "        continue  # skip incomplete sequences\n",
    "    x = df[FEATURES].values.astype(np.float32)\n",
    "    if x.shape[0] < 64:\n",
    "        pad_width = 64 - x.shape[0]\n",
    "        x = np.pad(x, ((0, pad_width), (0, 0)), mode='edge')\n",
    "    else:\n",
    "        x = x[:64]\n",
    "    X.append(x)\n",
    "    y.append(targets.loc[targets['sequence_id'] == seq_id, 'gesture_enc'].values[0])\n",
    "\n",
    "X = np.stack(X)\n",
    "y = np.array(y)"
   ]
  },
  {
   "cell_type": "code",
   "execution_count": 16,
   "id": "413b674c",
   "metadata": {
    "execution": {
     "iopub.execute_input": "2025-05-30T12:59:44.624620Z",
     "iopub.status.busy": "2025-05-30T12:59:44.623994Z",
     "iopub.status.idle": "2025-05-30T12:59:44.980097Z",
     "shell.execute_reply": "2025-05-30T12:59:44.979340Z"
    },
    "papermill": {
     "duration": 0.362784,
     "end_time": "2025-05-30T12:59:44.981207",
     "exception": false,
     "start_time": "2025-05-30T12:59:44.618423",
     "status": "completed"
    },
    "tags": []
   },
   "outputs": [
    {
     "name": "stderr",
     "output_type": "stream",
     "text": [
      "I0000 00:00:1748609984.893439      19 gpu_device.cc:2022] Created device /job:localhost/replica:0/task:0/device:GPU:0 with 13942 MB memory:  -> device: 0, name: Tesla T4, pci bus id: 0000:00:04.0, compute capability: 7.5\n",
      "I0000 00:00:1748609984.894057      19 gpu_device.cc:2022] Created device /job:localhost/replica:0/task:0/device:GPU:1 with 13942 MB memory:  -> device: 1, name: Tesla T4, pci bus id: 0000:00:05.0, compute capability: 7.5\n"
     ]
    }
   ],
   "source": [
    "# Train/Val split\n",
    "X_train, X_val, y_train, y_val = train_test_split(X, y, test_size=0.1, stratify=y, random_state=42)\n",
    "BATCH_SIZE = 64 * strategy.num_replicas_in_sync\n",
    "\n",
    "train_ds = tf.data.Dataset.from_tensor_slices((X_train, y_train)).shuffle(1024).batch(BATCH_SIZE).prefetch(AUTO)\n",
    "val_ds = tf.data.Dataset.from_tensor_slices((X_val, y_val)).batch(BATCH_SIZE).prefetch(AUTO)"
   ]
  },
  {
   "cell_type": "markdown",
   "id": "da5c271d",
   "metadata": {
    "papermill": {
     "duration": 0.004716,
     "end_time": "2025-05-30T12:59:44.991246",
     "exception": false,
     "start_time": "2025-05-30T12:59:44.986530",
     "status": "completed"
    },
    "tags": []
   },
   "source": [
    "## Build TPU model\n",
    "\n",
    "Apparently Keras is easier for developing TPU models."
   ]
  },
  {
   "cell_type": "code",
   "execution_count": 17,
   "id": "5a660395",
   "metadata": {
    "execution": {
     "iopub.execute_input": "2025-05-30T12:59:45.001943Z",
     "iopub.status.busy": "2025-05-30T12:59:45.001507Z",
     "iopub.status.idle": "2025-05-30T12:59:47.718858Z",
     "shell.execute_reply": "2025-05-30T12:59:47.718265Z"
    },
    "papermill": {
     "duration": 2.723773,
     "end_time": "2025-05-30T12:59:47.719976",
     "exception": false,
     "start_time": "2025-05-30T12:59:44.996203",
     "status": "completed"
    },
    "tags": []
   },
   "outputs": [
    {
     "data": {
      "text/plain": [
       "<Sequential name=sequential, built=True>"
      ]
     },
     "execution_count": 17,
     "metadata": {},
     "output_type": "execute_result"
    }
   ],
   "source": [
    "# Build model with TPU strategy\n",
    "with strategy.scope():\n",
    "    model = tf.keras.Sequential([\n",
    "        tf.keras.layers.Input(shape=(64, len(FEATURES))),\n",
    "        tf.keras.layers.Conv1D(64, 5, padding='same', activation='relu'),\n",
    "        tf.keras.layers.Conv1D(128, 5, padding='same', activation='relu'),\n",
    "        tf.keras.layers.GlobalAveragePooling1D(),\n",
    "        tf.keras.layers.Dense(128, activation='relu'),\n",
    "        tf.keras.layers.Dense(len(label_encoder.classes_), activation='softmax')\n",
    "    ])\n",
    "    model.compile(\n",
    "        optimizer=tf.keras.optimizers.Adam(1e-3),\n",
    "        loss='sparse_categorical_crossentropy',\n",
    "        metrics=['accuracy']\n",
    "    )\n",
    "\n",
    "model"
   ]
  },
  {
   "cell_type": "markdown",
   "id": "e4c09289",
   "metadata": {
    "papermill": {
     "duration": 0.004846,
     "end_time": "2025-05-30T12:59:47.730132",
     "exception": false,
     "start_time": "2025-05-30T12:59:47.725286",
     "status": "completed"
    },
    "tags": []
   },
   "source": [
    "## Train!\n",
    "\n",
    "TODO: implement cross-validation in TPUs"
   ]
  },
  {
   "cell_type": "code",
   "execution_count": 18,
   "id": "c1011ef9",
   "metadata": {
    "execution": {
     "iopub.execute_input": "2025-05-30T12:59:47.740799Z",
     "iopub.status.busy": "2025-05-30T12:59:47.740396Z",
     "iopub.status.idle": "2025-05-30T12:59:58.989649Z",
     "shell.execute_reply": "2025-05-30T12:59:58.989070Z"
    },
    "papermill": {
     "duration": 11.255751,
     "end_time": "2025-05-30T12:59:58.990714",
     "exception": false,
     "start_time": "2025-05-30T12:59:47.734963",
     "status": "completed"
    },
    "tags": []
   },
   "outputs": [
    {
     "name": "stdout",
     "output_type": "stream",
     "text": [
      "Epoch 1/10\n"
     ]
    },
    {
     "name": "stderr",
     "output_type": "stream",
     "text": [
      "WARNING: All log messages before absl::InitializeLog() is called are written to STDERR\n",
      "I0000 00:00:1748609989.518170      66 service.cc:148] XLA service 0x7e1620004a10 initialized for platform CUDA (this does not guarantee that XLA will be used). Devices:\n",
      "I0000 00:00:1748609989.522992      66 service.cc:156]   StreamExecutor device (0): Tesla T4, Compute Capability 7.5\n",
      "I0000 00:00:1748609989.523013      66 service.cc:156]   StreamExecutor device (1): Tesla T4, Compute Capability 7.5\n",
      "I0000 00:00:1748609989.979308      66 cuda_dnn.cc:529] Loaded cuDNN version 90300\n"
     ]
    },
    {
     "name": "stdout",
     "output_type": "stream",
     "text": [
      "\u001b[1m 64/115\u001b[0m \u001b[32m━━━━━━━━━━━\u001b[0m\u001b[37m━━━━━━━━━\u001b[0m \u001b[1m0s\u001b[0m 2ms/step - accuracy: 0.0740 - loss: 6.5554"
     ]
    },
    {
     "name": "stderr",
     "output_type": "stream",
     "text": [
      "I0000 00:00:1748609993.557357      66 device_compiler.h:188] Compiled cluster using XLA!  This line is logged at most once for the lifetime of the process.\n"
     ]
    },
    {
     "name": "stdout",
     "output_type": "stream",
     "text": [
      "\u001b[1m115/115\u001b[0m \u001b[32m━━━━━━━━━━━━━━━━━━━━\u001b[0m\u001b[37m\u001b[0m \u001b[1m8s\u001b[0m 21ms/step - accuracy: 0.0764 - loss: 5.3736 - val_accuracy: 0.0993 - val_loss: 2.7688\n",
      "Epoch 2/10\n",
      "\u001b[1m115/115\u001b[0m \u001b[32m━━━━━━━━━━━━━━━━━━━━\u001b[0m\u001b[37m\u001b[0m \u001b[1m0s\u001b[0m 3ms/step - accuracy: 0.1105 - loss: 2.7443 - val_accuracy: 0.1385 - val_loss: 2.6372\n",
      "Epoch 3/10\n",
      "\u001b[1m115/115\u001b[0m \u001b[32m━━━━━━━━━━━━━━━━━━━━\u001b[0m\u001b[37m\u001b[0m \u001b[1m0s\u001b[0m 3ms/step - accuracy: 0.1460 - loss: 2.6159 - val_accuracy: 0.1336 - val_loss: 2.5299\n",
      "Epoch 4/10\n",
      "\u001b[1m115/115\u001b[0m \u001b[32m━━━━━━━━━━━━━━━━━━━━\u001b[0m\u001b[37m\u001b[0m \u001b[1m0s\u001b[0m 3ms/step - accuracy: 0.1718 - loss: 2.4824 - val_accuracy: 0.1740 - val_loss: 2.5153\n",
      "Epoch 5/10\n",
      "\u001b[1m115/115\u001b[0m \u001b[32m━━━━━━━━━━━━━━━━━━━━\u001b[0m\u001b[37m\u001b[0m \u001b[1m0s\u001b[0m 3ms/step - accuracy: 0.1929 - loss: 2.3898 - val_accuracy: 0.1998 - val_loss: 2.3846\n",
      "Epoch 6/10\n",
      "\u001b[1m115/115\u001b[0m \u001b[32m━━━━━━━━━━━━━━━━━━━━\u001b[0m\u001b[37m\u001b[0m \u001b[1m0s\u001b[0m 3ms/step - accuracy: 0.2201 - loss: 2.3114 - val_accuracy: 0.2071 - val_loss: 2.3261\n",
      "Epoch 7/10\n",
      "\u001b[1m115/115\u001b[0m \u001b[32m━━━━━━━━━━━━━━━━━━━━\u001b[0m\u001b[37m\u001b[0m \u001b[1m0s\u001b[0m 3ms/step - accuracy: 0.2284 - loss: 2.2410 - val_accuracy: 0.2108 - val_loss: 2.2692\n",
      "Epoch 8/10\n",
      "\u001b[1m115/115\u001b[0m \u001b[32m━━━━━━━━━━━━━━━━━━━━\u001b[0m\u001b[37m\u001b[0m \u001b[1m0s\u001b[0m 3ms/step - accuracy: 0.2478 - loss: 2.1829 - val_accuracy: 0.2512 - val_loss: 2.2010\n",
      "Epoch 9/10\n",
      "\u001b[1m115/115\u001b[0m \u001b[32m━━━━━━━━━━━━━━━━━━━━\u001b[0m\u001b[37m\u001b[0m \u001b[1m0s\u001b[0m 3ms/step - accuracy: 0.2589 - loss: 2.1383 - val_accuracy: 0.2267 - val_loss: 2.2048\n",
      "Epoch 10/10\n",
      "\u001b[1m115/115\u001b[0m \u001b[32m━━━━━━━━━━━━━━━━━━━━\u001b[0m\u001b[37m\u001b[0m \u001b[1m0s\u001b[0m 3ms/step - accuracy: 0.2789 - loss: 2.0567 - val_accuracy: 0.2561 - val_loss: 2.1865\n"
     ]
    }
   ],
   "source": [
    "# Train\n",
    "history = model.fit(train_ds, validation_data=val_ds, epochs=10)\n",
    "\n"
   ]
  },
  {
   "cell_type": "code",
   "execution_count": 19,
   "id": "bd0c796e",
   "metadata": {
    "execution": {
     "iopub.execute_input": "2025-05-30T12:59:59.009161Z",
     "iopub.status.busy": "2025-05-30T12:59:59.008945Z",
     "iopub.status.idle": "2025-05-30T13:00:01.584534Z",
     "shell.execute_reply": "2025-05-30T13:00:01.583858Z"
    },
    "papermill": {
     "duration": 2.587976,
     "end_time": "2025-05-30T13:00:01.588054",
     "exception": false,
     "start_time": "2025-05-30T12:59:59.000078",
     "status": "completed"
    },
    "tags": []
   },
   "outputs": [
    {
     "name": "stdout",
     "output_type": "stream",
     "text": [
      "\u001b[1m13/13\u001b[0m \u001b[32m━━━━━━━━━━━━━━━━━━━━\u001b[0m\u001b[37m\u001b[0m \u001b[1m1s\u001b[0m 24ms/step\n",
      "Validation Classification Report:\n",
      "                                            precision    recall  f1-score   support\n",
      "\n",
      "                     Above ear - pull hair       0.22      0.75      0.34        64\n",
      "                        Cheek - pinch skin       0.17      0.02      0.03        64\n",
      "                     Drink from bottle/cup       0.00      0.00      0.00        16\n",
      "                       Eyebrow - pull hair       0.00      0.00      0.00        64\n",
      "                       Eyelash - pull hair       0.22      0.08      0.11        64\n",
      "Feel around in tray and pull out an object       0.67      0.12      0.21        16\n",
      "                  Forehead - pull hairline       0.22      0.17      0.19        64\n",
      "                        Forehead - scratch       0.25      0.64      0.36        64\n",
      "                            Glasses on/off       0.00      0.00      0.00        16\n",
      "                         Neck - pinch skin       0.14      0.08      0.10        64\n",
      "                            Neck - scratch       0.14      0.23      0.18        64\n",
      "                       Pinch knee/leg skin       0.28      0.50      0.36        16\n",
      "                 Pull air toward your face       0.28      0.48      0.36        48\n",
      "                     Scratch knee/leg skin       0.00      0.00      0.00        16\n",
      "                             Text on phone       0.57      0.59      0.58        64\n",
      "                                Wave hello       1.00      0.06      0.12        48\n",
      "                         Write name in air       0.41      0.19      0.26        48\n",
      "                         Write name on leg       0.00      0.00      0.00        16\n",
      "\n",
      "                                  accuracy                           0.26       816\n",
      "                                 macro avg       0.25      0.22      0.18       816\n",
      "                              weighted avg       0.27      0.26      0.20       816\n",
      "\n"
     ]
    },
    {
     "name": "stderr",
     "output_type": "stream",
     "text": [
      "/usr/local/lib/python3.11/dist-packages/sklearn/metrics/_classification.py:1344: UndefinedMetricWarning: Precision and F-score are ill-defined and being set to 0.0 in labels with no predicted samples. Use `zero_division` parameter to control this behavior.\n",
      "  _warn_prf(average, modifier, msg_start, len(result))\n",
      "/usr/local/lib/python3.11/dist-packages/sklearn/metrics/_classification.py:1344: UndefinedMetricWarning: Precision and F-score are ill-defined and being set to 0.0 in labels with no predicted samples. Use `zero_division` parameter to control this behavior.\n",
      "  _warn_prf(average, modifier, msg_start, len(result))\n",
      "/usr/local/lib/python3.11/dist-packages/sklearn/metrics/_classification.py:1344: UndefinedMetricWarning: Precision and F-score are ill-defined and being set to 0.0 in labels with no predicted samples. Use `zero_division` parameter to control this behavior.\n",
      "  _warn_prf(average, modifier, msg_start, len(result))\n"
     ]
    },
    {
     "data": {
      "image/png": "[encoded data removed]",
      "text/plain": [
       "<Figure size 1200x1000 with 2 Axes>"
      ]
     },
     "metadata": {},
     "output_type": "display_data"
    },
    {
     "name": "stdout",
     "output_type": "stream",
     "text": [
      "Binary F1: 1.0000, Macro F1: 0.1774, Final Score: 0.5887\n",
      "Binary F1: 1.0000, Macro F1: 0.1774, Final Score: 0.5887\n"
     ]
    }
   ],
   "source": [
    "# Evaluate model\n",
    "val_preds = model.predict(val_ds)\n",
    "y_val_pred = np.argmax(val_preds, axis=1)\n",
    "\n",
    "from sklearn.metrics import classification_report, confusion_matrix, f1_score\n",
    "import matplotlib.pyplot as plt\n",
    "import seaborn as sns\n",
    "\n",
    "print(\"Validation Classification Report:\")\n",
    "print(classification_report(y_val, y_val_pred, target_names=label_encoder.classes_))\n",
    "\n",
    "cm = confusion_matrix(y_val, y_val_pred)\n",
    "plt.figure(figsize=(12, 10))\n",
    "sns.heatmap(cm, annot=True, fmt='d', cmap='Blues', xticklabels=label_encoder.classes_, yticklabels=label_encoder.classes_)\n",
    "plt.title(\"Confusion Matrix\")\n",
    "plt.ylabel(\"True Label\")\n",
    "plt.xlabel(\"Predicted Label\")\n",
    "plt.xticks(rotation=45)\n",
    "plt.yticks(rotation=0)\n",
    "plt.tight_layout()\n",
    "plt.show()\n",
    "\n",
    "binary_true = np.isin(y_val, [label_encoder.transform([g])[0] for g in label_encoder.classes_ if g != 'non_target']).astype(int)\n",
    "binary_pred = np.isin(y_val_pred, [label_encoder.transform([g])[0] for g in label_encoder.classes_ if g != 'non_target']).astype(int)\n",
    "\n",
    "binary_f1 = f1_score(binary_true, binary_pred)\n",
    "macro_f1 = f1_score(y_val, y_val_pred, average='macro')\n",
    "final_score = 0.5 * (binary_f1 + macro_f1)\n",
    "\n",
    "print(f\"Binary F1: {binary_f1:.4f}, Macro F1: {macro_f1:.4f}, Final Score: {final_score:.4f}\")\n",
    "\n",
    "print(f\"Binary F1: {binary_f1:.4f}, Macro F1: {macro_f1:.4f}, Final Score: {final_score:.4f}\")"
   ]
  },
  {
   "cell_type": "code",
   "execution_count": 20,
   "id": "57b10710",
   "metadata": {
    "execution": {
     "iopub.execute_input": "2025-05-30T13:00:01.612538Z",
     "iopub.status.busy": "2025-05-30T13:00:01.612088Z",
     "iopub.status.idle": "2025-05-30T13:00:01.615347Z",
     "shell.execute_reply": "2025-05-30T13:00:01.614764Z"
    },
    "papermill": {
     "duration": 0.016735,
     "end_time": "2025-05-30T13:00:01.616350",
     "exception": false,
     "start_time": "2025-05-30T13:00:01.599615",
     "status": "completed"
    },
    "tags": []
   },
   "outputs": [],
   "source": [
    "#model.save(\"./model\")\n",
    "#pd.Series(label_encoder.classes_).to_csv(\"gesture_labels.csv\", index=False)\n"
   ]
  },
  {
   "cell_type": "markdown",
   "id": "f81ae21f",
   "metadata": {
    "papermill": {
     "duration": 0.014174,
     "end_time": "2025-05-30T13:00:01.645110",
     "exception": false,
     "start_time": "2025-05-30T13:00:01.630936",
     "status": "completed"
    },
    "tags": []
   },
   "source": [
    "## Create Submission Interface"
   ]
  },
  {
   "cell_type": "code",
   "execution_count": 21,
   "id": "65337395",
   "metadata": {
    "execution": {
     "iopub.execute_input": "2025-05-30T13:00:01.677827Z",
     "iopub.status.busy": "2025-05-30T13:00:01.677504Z",
     "iopub.status.idle": "2025-05-30T13:00:04.250555Z",
     "shell.execute_reply": "2025-05-30T13:00:04.249661Z"
    },
    "papermill": {
     "duration": 2.590221,
     "end_time": "2025-05-30T13:00:04.251737",
     "exception": false,
     "start_time": "2025-05-30T13:00:01.661516",
     "status": "completed"
    },
    "tags": []
   },
   "outputs": [
    {
     "name": "stderr",
     "output_type": "stream",
     "text": [
      "/tmp/ipykernel_19/1800914401.py:7: FutureWarning: DataFrame.fillna with 'method' is deprecated and will raise in a future version. Use obj.ffill() or obj.bfill() instead.\n",
      "  df.fillna(method='ffill', inplace=True)\n",
      "/tmp/ipykernel_19/1800914401.py:7: FutureWarning: DataFrame.fillna with 'method' is deprecated and will raise in a future version. Use obj.ffill() or obj.bfill() instead.\n",
      "  df.fillna(method='ffill', inplace=True)\n"
     ]
    }
   ],
   "source": [
    "# Inference function for the evaluation API\n",
    "def predict(sequence, demographics) -> str:\n",
    "    sequence = sequence.to_pandas()\n",
    "    demographics = demographics.to_pandas()\n",
    "    df = pd.merge(sequence, demographics, on='subject', how='left')\n",
    "\n",
    "    df.fillna(method='ffill', inplace=True)\n",
    "    x = df[FEATURES].values.astype(np.float32)\n",
    "    if x.shape[0] < 64:\n",
    "        pad_width = 64 - x.shape[0]\n",
    "        x = np.pad(x, ((0, pad_width), (0, 0)), mode='edge')\n",
    "    else:\n",
    "        x = x[:64]\n",
    "    x = np.expand_dims(x, axis=0)\n",
    "    probs = model.predict(x, verbose=0)[0]\n",
    "    pred_idx = np.argmax(probs)\n",
    "    return label_encoder.inverse_transform([pred_idx])[0]\n",
    "\n",
    "# Launch evaluation server\n",
    "inference_server = kaggle_evaluation.cmi_inference_server.CMIInferenceServer(predict)\n",
    "\n",
    "if os.getenv('KAGGLE_IS_COMPETITION_RERUN'):\n",
    "    inference_server.serve()\n",
    "else:\n",
    "    inference_server.run_local_gateway(\n",
    "        data_paths=(\n",
    "            '/kaggle/input/cmi-detect-behavior-with-sensor-data/test.csv',\n",
    "            '/kaggle/input/cmi-detect-behavior-with-sensor-data/test_demographics.csv',\n",
    "        )\n",
    "    )"
   ]
  }
 ],
 "metadata": {
  "kaggle": {
   "accelerator": "nvidiaTeslaT4",
   "dataSources": [
    {
     "databundleVersionId": 12518947,
     "sourceId": 102335,
     "sourceType": "competition"
    }
   ],
   "dockerImageVersionId": 31041,
   "isGpuEnabled": true,
   "isInternetEnabled": false,
   "language": "python",
   "sourceType": "notebook"
  },
  "kernelspec": {
   "display_name": "Python 3",
   "language": "python",
   "name": "python3"
  },
  "language_info": {
   "codemirror_mode": {
    "name": "ipython",
    "version": 3
   },
   "file_extension": ".py",
   "mimetype": "text/x-python",
   "name": "python",
   "nbconvert_exporter": "python",
   "pygments_lexer": "ipython3",
   "version": "3.11.11"
  },
  "papermill": {
   "default_parameters": {},
   "duration": 438.164218,
   "end_time": "2025-05-30T13:00:07.397073",
   "environment_variables": {},
   "exception": null,
   "input_path": "__notebook__.ipynb",
   "output_path": "__notebook__.ipynb",
   "parameters": {},
   "start_time": "2025-05-30T12:52:49.232855",
   "version": "2.6.0"
  }
 },
 "nbformat": 4,
 "nbformat_minor": 5
}
