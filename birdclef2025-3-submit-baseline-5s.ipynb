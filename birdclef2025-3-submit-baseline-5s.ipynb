{
 "cells": [
  {
   "cell_type": "markdown",
   "id": "a3f55827",
   "metadata": {
    "papermill": {
     "duration": 0.003623,
     "end_time": "2025-06-05T05:36:46.811065",
     "exception": false,
     "start_time": "2025-06-05T05:36:46.807442",
     "status": "completed"
    },
    "tags": []
   },
   "source": [
    "* Training Notebook [here.](https://www.kaggle.com/code/myso1987/birdclef2025-2-train-baseline-5s)\n",
    "* Dataset Creation [here](https://www.kaggle.com/code/myso1987/birdclef2025-1-crop-audio-5s)"
   ]
  },
  {
   "cell_type": "code",
   "execution_count": 1,
   "id": "330731c6",
   "metadata": {
    "execution": {
     "iopub.execute_input": "2025-06-05T05:36:46.820554Z",
     "iopub.status.busy": "2025-06-05T05:36:46.820045Z",
     "iopub.status.idle": "2025-06-05T05:36:59.410106Z",
     "shell.execute_reply": "2025-06-05T05:36:59.408934Z"
    },
    "papermill": {
     "duration": 12.596832,
     "end_time": "2025-06-05T05:36:59.412403",
     "exception": false,
     "start_time": "2025-06-05T05:36:46.815571",
     "status": "completed"
    },
    "tags": []
   },
   "outputs": [],
   "source": [
    "import os\n",
    "import gc\n",
    "import time\n",
    "import pandas as pd\n",
    "import torch\n",
    "import torch.nn as nn\n",
    "from torchvision import models\n",
    "import torchaudio\n",
    "import torchaudio.transforms as AT\n",
    "from contextlib import contextmanager\n",
    "import concurrent.futures"
   ]
  },
  {
   "cell_type": "code",
   "execution_count": 2,
   "id": "fc8e87f7",
   "metadata": {
    "execution": {
     "iopub.execute_input": "2025-06-05T05:36:59.420490Z",
     "iopub.status.busy": "2025-06-05T05:36:59.419930Z",
     "iopub.status.idle": "2025-06-05T05:36:59.529905Z",
     "shell.execute_reply": "2025-06-05T05:36:59.528481Z"
    },
    "papermill": {
     "duration": 0.115494,
     "end_time": "2025-06-05T05:36:59.531815",
     "exception": false,
     "start_time": "2025-06-05T05:36:59.416321",
     "status": "completed"
    },
    "tags": []
   },
   "outputs": [
    {
     "name": "stdout",
     "output_type": "stream",
     "text": [
      "Debug mode: True\n",
      "Number of test soundscapes: 8\n"
     ]
    }
   ],
   "source": [
    "test_audio_dir = '../input/birdclef-2025/test_soundscapes/'\n",
    "file_list = [f for f in sorted(os.listdir(test_audio_dir))]\n",
    "file_list = [file.split('.')[0] for file in file_list if file.endswith('.ogg')]\n",
    "\n",
    "debug = False\n",
    "if len(file_list) == 0:\n",
    "    debug = True\n",
    "    debug_st_num = 5\n",
    "    debug_num = 8\n",
    "    test_audio_dir = '../input/birdclef-2025/train_soundscapes/'\n",
    "    file_list = [f for f in sorted(os.listdir(test_audio_dir))]\n",
    "    file_list = [file.split('.')[0] for file in file_list if file.endswith('.ogg')]\n",
    "    file_list = file_list[debug_st_num:debug_st_num+debug_num]\n",
    "\n",
    "print('Debug mode:', debug)\n",
    "print('Number of test soundscapes:', len(file_list))"
   ]
  },
  {
   "cell_type": "code",
   "execution_count": 3,
   "id": "9717038d",
   "metadata": {
    "execution": {
     "iopub.execute_input": "2025-06-05T05:36:59.538992Z",
     "iopub.status.busy": "2025-06-05T05:36:59.538605Z",
     "iopub.status.idle": "2025-06-05T05:36:59.663217Z",
     "shell.execute_reply": "2025-06-05T05:36:59.662050Z"
    },
    "papermill": {
     "duration": 0.130316,
     "end_time": "2025-06-05T05:36:59.665074",
     "exception": false,
     "start_time": "2025-06-05T05:36:59.534758",
     "status": "completed"
    },
    "tags": []
   },
   "outputs": [],
   "source": [
    "wav_sec = 5\n",
    "sample_rate = 32000\n",
    "min_segment = sample_rate*wav_sec\n",
    "\n",
    "class_labels = sorted(os.listdir('../input/birdclef-2025/train_audio/'))\n",
    "\n",
    "n_fft=1024\n",
    "win_length=1024\n",
    "hop_length=512\n",
    "f_min=20\n",
    "f_max=15000\n",
    "n_mels=128\n",
    "\n",
    "mel_spectrogram = AT.MelSpectrogram(\n",
    "    sample_rate=sample_rate,\n",
    "    n_fft=n_fft,\n",
    "    win_length=win_length,\n",
    "    hop_length=hop_length,\n",
    "    center=True,\n",
    "    f_min=f_min,\n",
    "    f_max=f_max,\n",
    "    pad_mode=\"reflect\",\n",
    "    power=2.0,\n",
    "    norm='slaney',\n",
    "    n_mels=n_mels,\n",
    "    mel_scale=\"htk\",\n",
    "    # normalized=True\n",
    ")\n",
    "\n",
    "def normalize_std(spec, eps=1e-23):\n",
    "    mean = torch.mean(spec)\n",
    "    std = torch.std(spec)\n",
    "    return torch.where(std == 0, spec-mean, (spec - mean) / (std+eps))\n",
    "\n",
    "def audio_to_mel(filepath=None):\n",
    "    waveform, sample_rate = torchaudio.load(filepath,backend=\"soundfile\")\n",
    "    len_wav = waveform.shape[1]\n",
    "    waveform = waveform[0,:].reshape(1, len_wav) # stereo->mono mono->mono\n",
    "    waveform = waveform / torch.max(torch.abs(waveform))\n",
    "    waveform = waveform + 1.5849e-05*(torch.rand(1, len_wav)-0.5) \n",
    "    PREDS = []\n",
    "    for i in range(12):\n",
    "        waveform2 = waveform[:,i*sample_rate*5:i*sample_rate*5+sample_rate*5]\n",
    "        melspec = mel_spectrogram(waveform2)\n",
    "        melspec = torch.log(melspec)\n",
    "        melspec = normalize_std(melspec)\n",
    "        melspec = torch.unsqueeze(melspec, dim=0)\n",
    "        \n",
    "        PREDS.append(melspec)\n",
    "    return torch.vstack(PREDS)"
   ]
  },
  {
   "cell_type": "code",
   "execution_count": 4,
   "id": "173587bf",
   "metadata": {
    "execution": {
     "iopub.execute_input": "2025-06-05T05:36:59.672347Z",
     "iopub.status.busy": "2025-06-05T05:36:59.671967Z",
     "iopub.status.idle": "2025-06-05T05:37:00.879319Z",
     "shell.execute_reply": "2025-06-05T05:37:00.878291Z"
    },
    "papermill": {
     "duration": 1.213293,
     "end_time": "2025-06-05T05:37:00.881392",
     "exception": false,
     "start_time": "2025-06-05T05:36:59.668099",
     "status": "completed"
    },
    "tags": []
   },
   "outputs": [
    {
     "name": "stderr",
     "output_type": "stream",
     "text": [
      "/usr/local/lib/python3.10/dist-packages/torchvision/models/_utils.py:208: UserWarning: The parameter 'pretrained' is deprecated since 0.13 and may be removed in the future, please use 'weights' instead.\n",
      "  warnings.warn(\n",
      "/usr/local/lib/python3.10/dist-packages/torchvision/models/_utils.py:223: UserWarning: Arguments other than a weight enum or `None` for 'weights' are deprecated since 0.13 and may be removed in the future. The current behavior is equivalent to passing `weights=None`.\n",
      "  warnings.warn(msg)\n"
     ]
    }
   ],
   "source": [
    "class Model_resnet34(nn.Module):\n",
    "    def __init__(self, pretrained=False):\n",
    "        super().__init__()\n",
    "\n",
    "        # Use timm\n",
    "        model = models.resnet34(pretrained=pretrained)\n",
    "\n",
    "        num_ftrs = model.fc.in_features\n",
    "        model.fc = nn.Linear(num_ftrs, len(class_labels))\n",
    "        self.model = model\n",
    "\n",
    "    def forward(self, x):\n",
    "        x = torch.cat((x,x,x),1)\n",
    "        x = self.model(x)\n",
    "        return x\n",
    "\n",
    "model = Model_resnet34(pretrained=False)\n",
    "model.load_state_dict(torch.load('/kaggle/input/birdclef-2025-models/baseline.pth', weights_only=True, map_location=torch.device('cpu')))\n",
    "model.eval();"
   ]
  },
  {
   "cell_type": "code",
   "execution_count": 5,
   "id": "c25d1d13",
   "metadata": {
    "execution": {
     "iopub.execute_input": "2025-06-05T05:37:00.888646Z",
     "iopub.status.busy": "2025-06-05T05:37:00.888228Z",
     "iopub.status.idle": "2025-06-05T05:37:00.894882Z",
     "shell.execute_reply": "2025-06-05T05:37:00.893788Z"
    },
    "papermill": {
     "duration": 0.012224,
     "end_time": "2025-06-05T05:37:00.896619",
     "exception": false,
     "start_time": "2025-06-05T05:37:00.884395",
     "status": "completed"
    },
    "tags": []
   },
   "outputs": [],
   "source": [
    "def prediction(afile):    \n",
    "    global pred\n",
    "    path = test_audio_dir + afile + '.ogg'\n",
    "    with torch.inference_mode():\n",
    "        sig = audio_to_mel(path)\n",
    "        print()\n",
    "        outputs = model(sig)\n",
    "        outputs = torch.sigmoid(outputs).detach().cpu().numpy()\n",
    "        chunks = [[] for i in range(12)]\n",
    "        for i in range(len(chunks)):        \n",
    "            chunk_end_time = (i + 1) * 5\n",
    "            row_id = afile + '_' + str(chunk_end_time)\n",
    "            pred['row_id'].append(row_id)\n",
    "            bird_no = 0\n",
    "            for bird in class_labels:         \n",
    "                pred[bird].append(outputs[i,bird_no])\n",
    "                bird_no += 1\n",
    "        gc.collect()"
   ]
  },
  {
   "cell_type": "code",
   "execution_count": 6,
   "id": "4da4ac7a",
   "metadata": {
    "execution": {
     "iopub.execute_input": "2025-06-05T05:37:00.903839Z",
     "iopub.status.busy": "2025-06-05T05:37:00.903447Z",
     "iopub.status.idle": "2025-06-05T05:37:07.347681Z",
     "shell.execute_reply": "2025-06-05T05:37:07.346103Z"
    },
    "papermill": {
     "duration": 6.450221,
     "end_time": "2025-06-05T05:37:07.349876",
     "exception": false,
     "start_time": "2025-06-05T05:37:00.899655",
     "status": "completed"
    },
    "tags": []
   },
   "outputs": [
    {
     "name": "stdout",
     "output_type": "stream",
     "text": [
      "\n",
      "\n",
      "\n",
      "\n",
      "\n",
      "\n",
      "\n",
      "\n",
      "9.387339353561401\n"
     ]
    }
   ],
   "source": [
    "pred = {'row_id': []}\n",
    "for species_code in class_labels:\n",
    "    pred[species_code] = []\n",
    "    \n",
    "start = time.time()\n",
    "with concurrent.futures.ThreadPoolExecutor(max_workers=5) as executor:\n",
    "    _ = list(executor.map(prediction, file_list))\n",
    "end_t = time.time()\n",
    "\n",
    "if debug == True:\n",
    "    print(700*(end_t - start)/60/debug_num)"
   ]
  },
  {
   "cell_type": "code",
   "execution_count": 7,
   "id": "fe33d5ff",
   "metadata": {
    "execution": {
     "iopub.execute_input": "2025-06-05T05:37:07.361185Z",
     "iopub.status.busy": "2025-06-05T05:37:07.360591Z",
     "iopub.status.idle": "2025-06-05T05:37:07.462928Z",
     "shell.execute_reply": "2025-06-05T05:37:07.461368Z"
    },
    "papermill": {
     "duration": 0.110364,
     "end_time": "2025-06-05T05:37:07.465351",
     "exception": false,
     "start_time": "2025-06-05T05:37:07.354987",
     "status": "completed"
    },
    "tags": []
   },
   "outputs": [
    {
     "data": {
      "text/html": [
       "<div>\n",
       "<style scoped>\n",
       "    .dataframe tbody tr th:only-of-type {\n",
       "        vertical-align: middle;\n",
       "    }\n",
       "\n",
       "    .dataframe tbody tr th {\n",
       "        vertical-align: top;\n",
       "    }\n",
       "\n",
       "    .dataframe thead th {\n",
       "        text-align: right;\n",
       "    }\n",
       "</style>\n",
       "<table border=\"1\" class=\"dataframe\">\n",
       "  <thead>\n",
       "    <tr style=\"text-align: right;\">\n",
       "      <th></th>\n",
       "      <th>row_id</th>\n",
       "      <th>1139490</th>\n",
       "      <th>1192948</th>\n",
       "      <th>1194042</th>\n",
       "      <th>126247</th>\n",
       "      <th>1346504</th>\n",
       "      <th>134933</th>\n",
       "      <th>135045</th>\n",
       "      <th>1462711</th>\n",
       "      <th>1462737</th>\n",
       "      <th>...</th>\n",
       "      <th>yebfly1</th>\n",
       "      <th>yebsee1</th>\n",
       "      <th>yecspi2</th>\n",
       "      <th>yectyr1</th>\n",
       "      <th>yehbla2</th>\n",
       "      <th>yehcar1</th>\n",
       "      <th>yelori1</th>\n",
       "      <th>yeofly1</th>\n",
       "      <th>yercac1</th>\n",
       "      <th>ywcpar</th>\n",
       "    </tr>\n",
       "  </thead>\n",
       "  <tbody>\n",
       "    <tr>\n",
       "      <th>0</th>\n",
       "      <td>H02_20230421_233500_5</td>\n",
       "      <td>3.105756e-11</td>\n",
       "      <td>1.088897e-11</td>\n",
       "      <td>1.176964e-06</td>\n",
       "      <td>2.283467e-07</td>\n",
       "      <td>1.767216e-07</td>\n",
       "      <td>2.362253e-06</td>\n",
       "      <td>6.065724e-08</td>\n",
       "      <td>5.171996e-12</td>\n",
       "      <td>1.204082e-09</td>\n",
       "      <td>...</td>\n",
       "      <td>0.000335</td>\n",
       "      <td>0.000105</td>\n",
       "      <td>0.000039</td>\n",
       "      <td>0.000087</td>\n",
       "      <td>8.525438e-07</td>\n",
       "      <td>0.000033</td>\n",
       "      <td>2.283970e-07</td>\n",
       "      <td>0.000022</td>\n",
       "      <td>0.010014</td>\n",
       "      <td>0.000018</td>\n",
       "    </tr>\n",
       "    <tr>\n",
       "      <th>1</th>\n",
       "      <td>H02_20230421_233500_10</td>\n",
       "      <td>4.852676e-12</td>\n",
       "      <td>1.722202e-12</td>\n",
       "      <td>4.737399e-07</td>\n",
       "      <td>3.593193e-07</td>\n",
       "      <td>9.971394e-08</td>\n",
       "      <td>2.683530e-06</td>\n",
       "      <td>5.338451e-09</td>\n",
       "      <td>3.396952e-13</td>\n",
       "      <td>1.021689e-09</td>\n",
       "      <td>...</td>\n",
       "      <td>0.000128</td>\n",
       "      <td>0.000062</td>\n",
       "      <td>0.000022</td>\n",
       "      <td>0.000090</td>\n",
       "      <td>1.062993e-07</td>\n",
       "      <td>0.000015</td>\n",
       "      <td>5.069804e-08</td>\n",
       "      <td>0.000015</td>\n",
       "      <td>0.003232</td>\n",
       "      <td>0.000009</td>\n",
       "    </tr>\n",
       "    <tr>\n",
       "      <th>2</th>\n",
       "      <td>H02_20230421_233500_15</td>\n",
       "      <td>4.227579e-11</td>\n",
       "      <td>4.231629e-11</td>\n",
       "      <td>7.181205e-06</td>\n",
       "      <td>6.200702e-06</td>\n",
       "      <td>6.757040e-07</td>\n",
       "      <td>5.610537e-06</td>\n",
       "      <td>2.173163e-08</td>\n",
       "      <td>6.148789e-12</td>\n",
       "      <td>4.499430e-10</td>\n",
       "      <td>...</td>\n",
       "      <td>0.000212</td>\n",
       "      <td>0.000070</td>\n",
       "      <td>0.000012</td>\n",
       "      <td>0.000055</td>\n",
       "      <td>2.547455e-07</td>\n",
       "      <td>0.000026</td>\n",
       "      <td>6.513980e-08</td>\n",
       "      <td>0.000021</td>\n",
       "      <td>0.008833</td>\n",
       "      <td>0.000027</td>\n",
       "    </tr>\n",
       "    <tr>\n",
       "      <th>3</th>\n",
       "      <td>H02_20230421_233500_20</td>\n",
       "      <td>1.424047e-10</td>\n",
       "      <td>4.724696e-11</td>\n",
       "      <td>7.394086e-07</td>\n",
       "      <td>1.289133e-06</td>\n",
       "      <td>1.974123e-07</td>\n",
       "      <td>4.327341e-07</td>\n",
       "      <td>1.878360e-09</td>\n",
       "      <td>4.789522e-12</td>\n",
       "      <td>9.196865e-11</td>\n",
       "      <td>...</td>\n",
       "      <td>0.000672</td>\n",
       "      <td>0.000031</td>\n",
       "      <td>0.000009</td>\n",
       "      <td>0.000158</td>\n",
       "      <td>6.490615e-08</td>\n",
       "      <td>0.000013</td>\n",
       "      <td>1.869558e-07</td>\n",
       "      <td>0.000017</td>\n",
       "      <td>0.033741</td>\n",
       "      <td>0.000010</td>\n",
       "    </tr>\n",
       "    <tr>\n",
       "      <th>4</th>\n",
       "      <td>H02_20230421_233500_25</td>\n",
       "      <td>2.135889e-10</td>\n",
       "      <td>8.097572e-11</td>\n",
       "      <td>2.627633e-06</td>\n",
       "      <td>5.422377e-07</td>\n",
       "      <td>1.189174e-07</td>\n",
       "      <td>3.383848e-06</td>\n",
       "      <td>2.291648e-08</td>\n",
       "      <td>1.182682e-10</td>\n",
       "      <td>1.674741e-09</td>\n",
       "      <td>...</td>\n",
       "      <td>0.000465</td>\n",
       "      <td>0.000098</td>\n",
       "      <td>0.000048</td>\n",
       "      <td>0.000290</td>\n",
       "      <td>6.099415e-07</td>\n",
       "      <td>0.000125</td>\n",
       "      <td>4.062196e-07</td>\n",
       "      <td>0.000050</td>\n",
       "      <td>0.011089</td>\n",
       "      <td>0.000065</td>\n",
       "    </tr>\n",
       "  </tbody>\n",
       "</table>\n",
       "<p>5 rows × 207 columns</p>\n",
       "</div>"
      ],
      "text/plain": [
       "                   row_id       1139490       1192948       1194042  \\\n",
       "0   H02_20230421_233500_5  3.105756e-11  1.088897e-11  1.176964e-06   \n",
       "1  H02_20230421_233500_10  4.852676e-12  1.722202e-12  4.737399e-07   \n",
       "2  H02_20230421_233500_15  4.227579e-11  4.231629e-11  7.181205e-06   \n",
       "3  H02_20230421_233500_20  1.424047e-10  4.724696e-11  7.394086e-07   \n",
       "4  H02_20230421_233500_25  2.135889e-10  8.097572e-11  2.627633e-06   \n",
       "\n",
       "         126247       1346504        134933        135045       1462711  \\\n",
       "0  2.283467e-07  1.767216e-07  2.362253e-06  6.065724e-08  5.171996e-12   \n",
       "1  3.593193e-07  9.971394e-08  2.683530e-06  5.338451e-09  3.396952e-13   \n",
       "2  6.200702e-06  6.757040e-07  5.610537e-06  2.173163e-08  6.148789e-12   \n",
       "3  1.289133e-06  1.974123e-07  4.327341e-07  1.878360e-09  4.789522e-12   \n",
       "4  5.422377e-07  1.189174e-07  3.383848e-06  2.291648e-08  1.182682e-10   \n",
       "\n",
       "        1462737  ...   yebfly1   yebsee1   yecspi2   yectyr1       yehbla2  \\\n",
       "0  1.204082e-09  ...  0.000335  0.000105  0.000039  0.000087  8.525438e-07   \n",
       "1  1.021689e-09  ...  0.000128  0.000062  0.000022  0.000090  1.062993e-07   \n",
       "2  4.499430e-10  ...  0.000212  0.000070  0.000012  0.000055  2.547455e-07   \n",
       "3  9.196865e-11  ...  0.000672  0.000031  0.000009  0.000158  6.490615e-08   \n",
       "4  1.674741e-09  ...  0.000465  0.000098  0.000048  0.000290  6.099415e-07   \n",
       "\n",
       "    yehcar1       yelori1   yeofly1   yercac1    ywcpar  \n",
       "0  0.000033  2.283970e-07  0.000022  0.010014  0.000018  \n",
       "1  0.000015  5.069804e-08  0.000015  0.003232  0.000009  \n",
       "2  0.000026  6.513980e-08  0.000021  0.008833  0.000027  \n",
       "3  0.000013  1.869558e-07  0.000017  0.033741  0.000010  \n",
       "4  0.000125  4.062196e-07  0.000050  0.011089  0.000065  \n",
       "\n",
       "[5 rows x 207 columns]"
      ]
     },
     "metadata": {},
     "output_type": "display_data"
    }
   ],
   "source": [
    "results = pd.DataFrame(pred, columns = ['row_id'] + class_labels) \n",
    "    \n",
    "results.to_csv(\"submission.csv\", index=False)    \n",
    "\n",
    "if debug:\n",
    "    display(results.head())"
   ]
  }
 ],
 "metadata": {
  "kaggle": {
   "accelerator": "none",
   "dataSources": [
    {
     "databundleVersionId": 11361821,
     "sourceId": 91844,
     "sourceType": "competition"
    },
    {
     "datasetId": 6852834,
     "sourceId": 11828226,
     "sourceType": "datasetVersion"
    },
    {
     "sourceId": 227215399,
     "sourceType": "kernelVersion"
    }
   ],
   "dockerImageVersionId": 30918,
   "isGpuEnabled": false,
   "isInternetEnabled": false,
   "language": "python",
   "sourceType": "notebook"
  },
  "kernelspec": {
   "display_name": "Python 3",
   "language": "python",
   "name": "python3"
  },
  "language_info": {
   "codemirror_mode": {
    "name": "ipython",
    "version": 3
   },
   "file_extension": ".py",
   "mimetype": "text/x-python",
   "name": "python",
   "nbconvert_exporter": "python",
   "pygments_lexer": "ipython3",
   "version": "3.10.12"
  },
  "papermill": {
   "default_parameters": {},
   "duration": 27.273176,
   "end_time": "2025-06-05T05:37:10.323725",
   "environment_variables": {},
   "exception": null,
   "input_path": "__notebook__.ipynb",
   "output_path": "__notebook__.ipynb",
   "parameters": {},
   "start_time": "2025-06-05T05:36:43.050549",
   "version": "2.6.0"
  }
 },
 "nbformat": 4,
 "nbformat_minor": 5
}
