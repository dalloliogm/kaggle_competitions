{
 "cells": [
  {
   "cell_type": "markdown",
   "id": "0cb38b54",
   "metadata": {
    "papermill": {
     "duration": 0.00728,
     "end_time": "2025-03-04T09:26:47.050947",
     "exception": false,
     "start_time": "2025-03-04T09:26:47.043667",
     "status": "completed"
    },
    "tags": []
   },
   "source": [
    "# Rain prediction using LightGBM\n",
    "\n",
    "This notebook predicts rainfall using LightGBM"
   ]
  },
  {
   "cell_type": "markdown",
   "id": "3dee6668",
   "metadata": {
    "papermill": {
     "duration": 0.005716,
     "end_time": "2025-03-04T09:26:47.062936",
     "exception": false,
     "start_time": "2025-03-04T09:26:47.057220",
     "status": "completed"
    },
    "tags": []
   },
   "source": [
    "## Importing libraries and reading files"
   ]
  },
  {
   "cell_type": "code",
   "execution_count": 1,
   "id": "336ed63f",
   "metadata": {
    "execution": {
     "iopub.execute_input": "2025-03-04T09:26:47.076150Z",
     "iopub.status.busy": "2025-03-04T09:26:47.075716Z",
     "iopub.status.idle": "2025-03-04T09:26:55.486246Z",
     "shell.execute_reply": "2025-03-04T09:26:55.485027Z"
    },
    "papermill": {
     "duration": 8.41937,
     "end_time": "2025-03-04T09:26:55.488206",
     "exception": false,
     "start_time": "2025-03-04T09:26:47.068836",
     "status": "completed"
    },
    "tags": []
   },
   "outputs": [],
   "source": [
    "import pandas as pd\n",
    "import numpy as np\n",
    "from sklearn.model_selection import train_test_split\n",
    "from sklearn.metrics import roc_auc_score\n",
    "from sklearn.impute import SimpleImputer\n",
    "import xgboost as xgb\n",
    "import lightgbm as lgb\n",
    "from hyperopt import hp, tpe, Trials, fmin, STATUS_OK\n",
    "import warnings\n",
    "\n",
    "warnings.filterwarnings(\"ignore\")"
   ]
  },
  {
   "cell_type": "code",
   "execution_count": 2,
   "id": "d5024d16",
   "metadata": {
    "_cell_guid": "b1076dfc-b9ad-4769-8c92-a6c4dae69d19",
    "_uuid": "8f2839f25d086af736a60e9eeb907d3b93b6e0e5",
    "execution": {
     "iopub.execute_input": "2025-03-04T09:26:55.501941Z",
     "iopub.status.busy": "2025-03-04T09:26:55.501268Z",
     "iopub.status.idle": "2025-03-04T09:26:55.509369Z",
     "shell.execute_reply": "2025-03-04T09:26:55.508274Z"
    },
    "papermill": {
     "duration": 0.016953,
     "end_time": "2025-03-04T09:26:55.511352",
     "exception": false,
     "start_time": "2025-03-04T09:26:55.494399",
     "status": "completed"
    },
    "tags": []
   },
   "outputs": [
    {
     "name": "stdout",
     "output_type": "stream",
     "text": [
      "/kaggle/input/playground-series-s5e3/sample_submission.csv\n",
      "/kaggle/input/playground-series-s5e3/train.csv\n",
      "/kaggle/input/playground-series-s5e3/test.csv\n"
     ]
    }
   ],
   "source": [
    "import numpy as np # linear algebra\n",
    "import pandas as pd # data processing, CSV file I/O (e.g. pd.read_csv)\n",
    "\n",
    "import os\n",
    "for dirname, _, filenames in os.walk('/kaggle/input'):\n",
    "    for filename in filenames:\n",
    "        print(os.path.join(dirname, filename))\n"
   ]
  },
  {
   "cell_type": "code",
   "execution_count": 3,
   "id": "aac9913a",
   "metadata": {
    "execution": {
     "iopub.execute_input": "2025-03-04T09:26:55.524808Z",
     "iopub.status.busy": "2025-03-04T09:26:55.524460Z",
     "iopub.status.idle": "2025-03-04T09:26:55.911264Z",
     "shell.execute_reply": "2025-03-04T09:26:55.909803Z"
    },
    "papermill": {
     "duration": 0.395774,
     "end_time": "2025-03-04T09:26:55.913221",
     "exception": false,
     "start_time": "2025-03-04T09:26:55.517447",
     "status": "completed"
    },
    "tags": []
   },
   "outputs": [
    {
     "name": "stdout",
     "output_type": "stream",
     "text": [
      "id,rainfall\r\n",
      "2190,0\r\n",
      "2191,0\r\n",
      "2192,0\r\n",
      "2193,0\r\n",
      "2194,0\r\n",
      "2195,0\r\n",
      "2196,0\r\n",
      "2197,0\r\n",
      "2198,0\r\n",
      "id,day,pressure,maxtemp,temparature,mintemp,dewpoint,humidity,cloud,sunshine,winddirection,windspeed,rainfall\r\n",
      "0,1,1017.4,21.2,20.6,19.9,19.4,87.0,88.0,1.1,60.0,17.2,1\r\n",
      "1,2,1019.5,16.2,16.9,15.8,15.4,95.0,91.0,0.0,50.0,21.9,1\r\n",
      "2,3,1024.1,19.4,16.1,14.6,9.3,75.0,47.0,8.3,70.0,18.1,1\r\n",
      "3,4,1013.4,18.1,17.8,16.9,16.8,95.0,95.0,0.0,60.0,35.6,1\r\n",
      "4,5,1021.8,21.3,18.4,15.2,9.6,52.0,45.0,3.6,40.0,24.8,0\r\n",
      "5,6,1022.7,20.6,18.6,16.5,12.5,79.0,81.0,0.0,20.0,15.7,1\r\n",
      "6,7,1022.8,19.5,18.4,15.3,11.3,56.0,46.0,7.6,20.0,28.4,0\r\n",
      "7,8,1019.7,15.8,13.6,12.7,11.8,96.0,100.0,0.0,50.0,52.8,1\r\n",
      "8,9,1017.4,17.6,16.5,15.6,12.5,86.0,100.0,0.0,50.0,37.5,1\r\n",
      "id,day,pressure,maxtemp,temparature,mintemp,dewpoint,humidity,cloud,sunshine,winddirection,windspeed\r\n",
      "2190,1,1019.5,17.5,15.8,12.7,14.9,96.0,99.0,0.0,50.0,24.3\r\n",
      "2191,2,1016.5,17.5,16.5,15.8,15.1,97.0,99.0,0.0,50.0,35.3\r\n",
      "2192,3,1023.9,11.2,10.4,9.4,8.9,86.0,96.0,0.0,40.0,16.9\r\n",
      "2193,4,1022.9,20.6,17.3,15.2,9.5,75.0,45.0,7.1,20.0,50.6\r\n",
      "2194,5,1022.2,16.1,13.8,6.4,4.3,68.0,49.0,9.2,20.0,19.4\r\n",
      "2195,6,1027.1,15.6,12.6,11.5,9.0,76.0,94.0,0.0,20.0,41.4\r\n",
      "2196,7,1022.6,15.5,13.7,10.7,11.8,79.0,95.0,0.0,20.0,43.1\r\n",
      "2197,8,1013.5,20.5,16.2,15.2,13.1,94.0,93.0,0.2,70.0,41.3\r\n",
      "2198,9,1021.3,16.3,13.2,11.3,10.8,85.0,99.0,0.1,20.0,34.0\r\n"
     ]
    }
   ],
   "source": [
    "!head /kaggle/input/playground-series-s5e3/sample_submission.csv\n",
    "!head /kaggle/input/playground-series-s5e3/train.csv\n",
    "!head /kaggle/input/playground-series-s5e3/test.csv"
   ]
  },
  {
   "cell_type": "code",
   "execution_count": 4,
   "id": "ec4fe083",
   "metadata": {
    "execution": {
     "iopub.execute_input": "2025-03-04T09:26:55.927363Z",
     "iopub.status.busy": "2025-03-04T09:26:55.926909Z",
     "iopub.status.idle": "2025-03-04T09:26:55.980811Z",
     "shell.execute_reply": "2025-03-04T09:26:55.979719Z"
    },
    "papermill": {
     "duration": 0.063137,
     "end_time": "2025-03-04T09:26:55.982644",
     "exception": false,
     "start_time": "2025-03-04T09:26:55.919507",
     "status": "completed"
    },
    "tags": []
   },
   "outputs": [
    {
     "data": {
      "text/html": [
       "<div>\n",
       "<style scoped>\n",
       "    .dataframe tbody tr th:only-of-type {\n",
       "        vertical-align: middle;\n",
       "    }\n",
       "\n",
       "    .dataframe tbody tr th {\n",
       "        vertical-align: top;\n",
       "    }\n",
       "\n",
       "    .dataframe thead th {\n",
       "        text-align: right;\n",
       "    }\n",
       "</style>\n",
       "<table border=\"1\" class=\"dataframe\">\n",
       "  <thead>\n",
       "    <tr style=\"text-align: right;\">\n",
       "      <th></th>\n",
       "      <th>id</th>\n",
       "      <th>day</th>\n",
       "      <th>pressure</th>\n",
       "      <th>maxtemp</th>\n",
       "      <th>temparature</th>\n",
       "      <th>mintemp</th>\n",
       "      <th>dewpoint</th>\n",
       "      <th>humidity</th>\n",
       "      <th>cloud</th>\n",
       "      <th>sunshine</th>\n",
       "      <th>winddirection</th>\n",
       "      <th>windspeed</th>\n",
       "      <th>rainfall</th>\n",
       "    </tr>\n",
       "  </thead>\n",
       "  <tbody>\n",
       "    <tr>\n",
       "      <th>0</th>\n",
       "      <td>0</td>\n",
       "      <td>1</td>\n",
       "      <td>1017.4</td>\n",
       "      <td>21.2</td>\n",
       "      <td>20.6</td>\n",
       "      <td>19.9</td>\n",
       "      <td>19.4</td>\n",
       "      <td>87.0</td>\n",
       "      <td>88.0</td>\n",
       "      <td>1.1</td>\n",
       "      <td>60.0</td>\n",
       "      <td>17.2</td>\n",
       "      <td>1</td>\n",
       "    </tr>\n",
       "    <tr>\n",
       "      <th>1</th>\n",
       "      <td>1</td>\n",
       "      <td>2</td>\n",
       "      <td>1019.5</td>\n",
       "      <td>16.2</td>\n",
       "      <td>16.9</td>\n",
       "      <td>15.8</td>\n",
       "      <td>15.4</td>\n",
       "      <td>95.0</td>\n",
       "      <td>91.0</td>\n",
       "      <td>0.0</td>\n",
       "      <td>50.0</td>\n",
       "      <td>21.9</td>\n",
       "      <td>1</td>\n",
       "    </tr>\n",
       "    <tr>\n",
       "      <th>2</th>\n",
       "      <td>2</td>\n",
       "      <td>3</td>\n",
       "      <td>1024.1</td>\n",
       "      <td>19.4</td>\n",
       "      <td>16.1</td>\n",
       "      <td>14.6</td>\n",
       "      <td>9.3</td>\n",
       "      <td>75.0</td>\n",
       "      <td>47.0</td>\n",
       "      <td>8.3</td>\n",
       "      <td>70.0</td>\n",
       "      <td>18.1</td>\n",
       "      <td>1</td>\n",
       "    </tr>\n",
       "    <tr>\n",
       "      <th>3</th>\n",
       "      <td>3</td>\n",
       "      <td>4</td>\n",
       "      <td>1013.4</td>\n",
       "      <td>18.1</td>\n",
       "      <td>17.8</td>\n",
       "      <td>16.9</td>\n",
       "      <td>16.8</td>\n",
       "      <td>95.0</td>\n",
       "      <td>95.0</td>\n",
       "      <td>0.0</td>\n",
       "      <td>60.0</td>\n",
       "      <td>35.6</td>\n",
       "      <td>1</td>\n",
       "    </tr>\n",
       "    <tr>\n",
       "      <th>4</th>\n",
       "      <td>4</td>\n",
       "      <td>5</td>\n",
       "      <td>1021.8</td>\n",
       "      <td>21.3</td>\n",
       "      <td>18.4</td>\n",
       "      <td>15.2</td>\n",
       "      <td>9.6</td>\n",
       "      <td>52.0</td>\n",
       "      <td>45.0</td>\n",
       "      <td>3.6</td>\n",
       "      <td>40.0</td>\n",
       "      <td>24.8</td>\n",
       "      <td>0</td>\n",
       "    </tr>\n",
       "  </tbody>\n",
       "</table>\n",
       "</div>"
      ],
      "text/plain": [
       "   id  day  pressure  maxtemp  temparature  mintemp  dewpoint  humidity  \\\n",
       "0   0    1    1017.4     21.2         20.6     19.9      19.4      87.0   \n",
       "1   1    2    1019.5     16.2         16.9     15.8      15.4      95.0   \n",
       "2   2    3    1024.1     19.4         16.1     14.6       9.3      75.0   \n",
       "3   3    4    1013.4     18.1         17.8     16.9      16.8      95.0   \n",
       "4   4    5    1021.8     21.3         18.4     15.2       9.6      52.0   \n",
       "\n",
       "   cloud  sunshine  winddirection  windspeed  rainfall  \n",
       "0   88.0       1.1           60.0       17.2         1  \n",
       "1   91.0       0.0           50.0       21.9         1  \n",
       "2   47.0       8.3           70.0       18.1         1  \n",
       "3   95.0       0.0           60.0       35.6         1  \n",
       "4   45.0       3.6           40.0       24.8         0  "
      ]
     },
     "execution_count": 4,
     "metadata": {},
     "output_type": "execute_result"
    }
   ],
   "source": [
    "train = pd.read_csv(\"/kaggle/input/playground-series-s5e3/train.csv\")#.set_index(\"id\")\n",
    "train.head()"
   ]
  },
  {
   "cell_type": "code",
   "execution_count": 5,
   "id": "15d950a0",
   "metadata": {
    "execution": {
     "iopub.execute_input": "2025-03-04T09:26:55.997261Z",
     "iopub.status.busy": "2025-03-04T09:26:55.996842Z",
     "iopub.status.idle": "2025-03-04T09:26:56.045320Z",
     "shell.execute_reply": "2025-03-04T09:26:56.044131Z"
    },
    "papermill": {
     "duration": 0.057678,
     "end_time": "2025-03-04T09:26:56.047189",
     "exception": false,
     "start_time": "2025-03-04T09:26:55.989511",
     "status": "completed"
    },
    "tags": []
   },
   "outputs": [
    {
     "data": {
      "text/html": [
       "<div>\n",
       "<style scoped>\n",
       "    .dataframe tbody tr th:only-of-type {\n",
       "        vertical-align: middle;\n",
       "    }\n",
       "\n",
       "    .dataframe tbody tr th {\n",
       "        vertical-align: top;\n",
       "    }\n",
       "\n",
       "    .dataframe thead th {\n",
       "        text-align: right;\n",
       "    }\n",
       "</style>\n",
       "<table border=\"1\" class=\"dataframe\">\n",
       "  <thead>\n",
       "    <tr style=\"text-align: right;\">\n",
       "      <th></th>\n",
       "      <th>id</th>\n",
       "      <th>day</th>\n",
       "      <th>pressure</th>\n",
       "      <th>maxtemp</th>\n",
       "      <th>temparature</th>\n",
       "      <th>mintemp</th>\n",
       "      <th>dewpoint</th>\n",
       "      <th>humidity</th>\n",
       "      <th>cloud</th>\n",
       "      <th>sunshine</th>\n",
       "      <th>winddirection</th>\n",
       "      <th>windspeed</th>\n",
       "      <th>rainfall</th>\n",
       "    </tr>\n",
       "  </thead>\n",
       "  <tbody>\n",
       "    <tr>\n",
       "      <th>count</th>\n",
       "      <td>2190.000000</td>\n",
       "      <td>2190.000000</td>\n",
       "      <td>2190.000000</td>\n",
       "      <td>2190.000000</td>\n",
       "      <td>2190.000000</td>\n",
       "      <td>2190.000000</td>\n",
       "      <td>2190.000000</td>\n",
       "      <td>2190.000000</td>\n",
       "      <td>2190.000000</td>\n",
       "      <td>2190.000000</td>\n",
       "      <td>2190.000000</td>\n",
       "      <td>2190.000000</td>\n",
       "      <td>2190.000000</td>\n",
       "    </tr>\n",
       "    <tr>\n",
       "      <th>mean</th>\n",
       "      <td>1094.500000</td>\n",
       "      <td>179.948402</td>\n",
       "      <td>1013.602146</td>\n",
       "      <td>26.365799</td>\n",
       "      <td>23.953059</td>\n",
       "      <td>22.170091</td>\n",
       "      <td>20.454566</td>\n",
       "      <td>82.036530</td>\n",
       "      <td>75.721918</td>\n",
       "      <td>3.744429</td>\n",
       "      <td>104.863151</td>\n",
       "      <td>21.804703</td>\n",
       "      <td>0.753425</td>\n",
       "    </tr>\n",
       "    <tr>\n",
       "      <th>std</th>\n",
       "      <td>632.342866</td>\n",
       "      <td>105.203592</td>\n",
       "      <td>5.655366</td>\n",
       "      <td>5.654330</td>\n",
       "      <td>5.222410</td>\n",
       "      <td>5.059120</td>\n",
       "      <td>5.288406</td>\n",
       "      <td>7.800654</td>\n",
       "      <td>18.026498</td>\n",
       "      <td>3.626327</td>\n",
       "      <td>80.002416</td>\n",
       "      <td>9.898659</td>\n",
       "      <td>0.431116</td>\n",
       "    </tr>\n",
       "    <tr>\n",
       "      <th>min</th>\n",
       "      <td>0.000000</td>\n",
       "      <td>1.000000</td>\n",
       "      <td>999.000000</td>\n",
       "      <td>10.400000</td>\n",
       "      <td>7.400000</td>\n",
       "      <td>4.000000</td>\n",
       "      <td>-0.300000</td>\n",
       "      <td>39.000000</td>\n",
       "      <td>2.000000</td>\n",
       "      <td>0.000000</td>\n",
       "      <td>10.000000</td>\n",
       "      <td>4.400000</td>\n",
       "      <td>0.000000</td>\n",
       "    </tr>\n",
       "    <tr>\n",
       "      <th>25%</th>\n",
       "      <td>547.250000</td>\n",
       "      <td>89.000000</td>\n",
       "      <td>1008.600000</td>\n",
       "      <td>21.300000</td>\n",
       "      <td>19.300000</td>\n",
       "      <td>17.700000</td>\n",
       "      <td>16.800000</td>\n",
       "      <td>77.000000</td>\n",
       "      <td>69.000000</td>\n",
       "      <td>0.400000</td>\n",
       "      <td>40.000000</td>\n",
       "      <td>14.125000</td>\n",
       "      <td>1.000000</td>\n",
       "    </tr>\n",
       "    <tr>\n",
       "      <th>50%</th>\n",
       "      <td>1094.500000</td>\n",
       "      <td>178.500000</td>\n",
       "      <td>1013.000000</td>\n",
       "      <td>27.800000</td>\n",
       "      <td>25.500000</td>\n",
       "      <td>23.850000</td>\n",
       "      <td>22.150000</td>\n",
       "      <td>82.000000</td>\n",
       "      <td>83.000000</td>\n",
       "      <td>2.400000</td>\n",
       "      <td>70.000000</td>\n",
       "      <td>20.500000</td>\n",
       "      <td>1.000000</td>\n",
       "    </tr>\n",
       "    <tr>\n",
       "      <th>75%</th>\n",
       "      <td>1641.750000</td>\n",
       "      <td>270.000000</td>\n",
       "      <td>1017.775000</td>\n",
       "      <td>31.200000</td>\n",
       "      <td>28.400000</td>\n",
       "      <td>26.400000</td>\n",
       "      <td>25.000000</td>\n",
       "      <td>88.000000</td>\n",
       "      <td>88.000000</td>\n",
       "      <td>6.800000</td>\n",
       "      <td>200.000000</td>\n",
       "      <td>27.900000</td>\n",
       "      <td>1.000000</td>\n",
       "    </tr>\n",
       "    <tr>\n",
       "      <th>max</th>\n",
       "      <td>2189.000000</td>\n",
       "      <td>365.000000</td>\n",
       "      <td>1034.600000</td>\n",
       "      <td>36.000000</td>\n",
       "      <td>31.500000</td>\n",
       "      <td>29.800000</td>\n",
       "      <td>26.700000</td>\n",
       "      <td>98.000000</td>\n",
       "      <td>100.000000</td>\n",
       "      <td>12.100000</td>\n",
       "      <td>300.000000</td>\n",
       "      <td>59.500000</td>\n",
       "      <td>1.000000</td>\n",
       "    </tr>\n",
       "  </tbody>\n",
       "</table>\n",
       "</div>"
      ],
      "text/plain": [
       "                id          day     pressure      maxtemp  temparature  \\\n",
       "count  2190.000000  2190.000000  2190.000000  2190.000000  2190.000000   \n",
       "mean   1094.500000   179.948402  1013.602146    26.365799    23.953059   \n",
       "std     632.342866   105.203592     5.655366     5.654330     5.222410   \n",
       "min       0.000000     1.000000   999.000000    10.400000     7.400000   \n",
       "25%     547.250000    89.000000  1008.600000    21.300000    19.300000   \n",
       "50%    1094.500000   178.500000  1013.000000    27.800000    25.500000   \n",
       "75%    1641.750000   270.000000  1017.775000    31.200000    28.400000   \n",
       "max    2189.000000   365.000000  1034.600000    36.000000    31.500000   \n",
       "\n",
       "           mintemp     dewpoint     humidity        cloud     sunshine  \\\n",
       "count  2190.000000  2190.000000  2190.000000  2190.000000  2190.000000   \n",
       "mean     22.170091    20.454566    82.036530    75.721918     3.744429   \n",
       "std       5.059120     5.288406     7.800654    18.026498     3.626327   \n",
       "min       4.000000    -0.300000    39.000000     2.000000     0.000000   \n",
       "25%      17.700000    16.800000    77.000000    69.000000     0.400000   \n",
       "50%      23.850000    22.150000    82.000000    83.000000     2.400000   \n",
       "75%      26.400000    25.000000    88.000000    88.000000     6.800000   \n",
       "max      29.800000    26.700000    98.000000   100.000000    12.100000   \n",
       "\n",
       "       winddirection    windspeed     rainfall  \n",
       "count    2190.000000  2190.000000  2190.000000  \n",
       "mean      104.863151    21.804703     0.753425  \n",
       "std        80.002416     9.898659     0.431116  \n",
       "min        10.000000     4.400000     0.000000  \n",
       "25%        40.000000    14.125000     1.000000  \n",
       "50%        70.000000    20.500000     1.000000  \n",
       "75%       200.000000    27.900000     1.000000  \n",
       "max       300.000000    59.500000     1.000000  "
      ]
     },
     "execution_count": 5,
     "metadata": {},
     "output_type": "execute_result"
    }
   ],
   "source": [
    "train.describe()"
   ]
  },
  {
   "cell_type": "code",
   "execution_count": 6,
   "id": "ff09bbfb",
   "metadata": {
    "execution": {
     "iopub.execute_input": "2025-03-04T09:26:56.062283Z",
     "iopub.status.busy": "2025-03-04T09:26:56.061841Z",
     "iopub.status.idle": "2025-03-04T09:26:56.083696Z",
     "shell.execute_reply": "2025-03-04T09:26:56.082605Z"
    },
    "papermill": {
     "duration": 0.031835,
     "end_time": "2025-03-04T09:26:56.085946",
     "exception": false,
     "start_time": "2025-03-04T09:26:56.054111",
     "status": "completed"
    },
    "tags": []
   },
   "outputs": [
    {
     "data": {
      "text/html": [
       "<div>\n",
       "<style scoped>\n",
       "    .dataframe tbody tr th:only-of-type {\n",
       "        vertical-align: middle;\n",
       "    }\n",
       "\n",
       "    .dataframe tbody tr th {\n",
       "        vertical-align: top;\n",
       "    }\n",
       "\n",
       "    .dataframe thead th {\n",
       "        text-align: right;\n",
       "    }\n",
       "</style>\n",
       "<table border=\"1\" class=\"dataframe\">\n",
       "  <thead>\n",
       "    <tr style=\"text-align: right;\">\n",
       "      <th></th>\n",
       "      <th>id</th>\n",
       "      <th>day</th>\n",
       "      <th>pressure</th>\n",
       "      <th>maxtemp</th>\n",
       "      <th>temparature</th>\n",
       "      <th>mintemp</th>\n",
       "      <th>dewpoint</th>\n",
       "      <th>humidity</th>\n",
       "      <th>cloud</th>\n",
       "      <th>sunshine</th>\n",
       "      <th>winddirection</th>\n",
       "      <th>windspeed</th>\n",
       "    </tr>\n",
       "  </thead>\n",
       "  <tbody>\n",
       "    <tr>\n",
       "      <th>0</th>\n",
       "      <td>2190</td>\n",
       "      <td>1</td>\n",
       "      <td>1019.5</td>\n",
       "      <td>17.5</td>\n",
       "      <td>15.8</td>\n",
       "      <td>12.7</td>\n",
       "      <td>14.9</td>\n",
       "      <td>96.0</td>\n",
       "      <td>99.0</td>\n",
       "      <td>0.0</td>\n",
       "      <td>50.0</td>\n",
       "      <td>24.3</td>\n",
       "    </tr>\n",
       "    <tr>\n",
       "      <th>1</th>\n",
       "      <td>2191</td>\n",
       "      <td>2</td>\n",
       "      <td>1016.5</td>\n",
       "      <td>17.5</td>\n",
       "      <td>16.5</td>\n",
       "      <td>15.8</td>\n",
       "      <td>15.1</td>\n",
       "      <td>97.0</td>\n",
       "      <td>99.0</td>\n",
       "      <td>0.0</td>\n",
       "      <td>50.0</td>\n",
       "      <td>35.3</td>\n",
       "    </tr>\n",
       "    <tr>\n",
       "      <th>2</th>\n",
       "      <td>2192</td>\n",
       "      <td>3</td>\n",
       "      <td>1023.9</td>\n",
       "      <td>11.2</td>\n",
       "      <td>10.4</td>\n",
       "      <td>9.4</td>\n",
       "      <td>8.9</td>\n",
       "      <td>86.0</td>\n",
       "      <td>96.0</td>\n",
       "      <td>0.0</td>\n",
       "      <td>40.0</td>\n",
       "      <td>16.9</td>\n",
       "    </tr>\n",
       "    <tr>\n",
       "      <th>3</th>\n",
       "      <td>2193</td>\n",
       "      <td>4</td>\n",
       "      <td>1022.9</td>\n",
       "      <td>20.6</td>\n",
       "      <td>17.3</td>\n",
       "      <td>15.2</td>\n",
       "      <td>9.5</td>\n",
       "      <td>75.0</td>\n",
       "      <td>45.0</td>\n",
       "      <td>7.1</td>\n",
       "      <td>20.0</td>\n",
       "      <td>50.6</td>\n",
       "    </tr>\n",
       "    <tr>\n",
       "      <th>4</th>\n",
       "      <td>2194</td>\n",
       "      <td>5</td>\n",
       "      <td>1022.2</td>\n",
       "      <td>16.1</td>\n",
       "      <td>13.8</td>\n",
       "      <td>6.4</td>\n",
       "      <td>4.3</td>\n",
       "      <td>68.0</td>\n",
       "      <td>49.0</td>\n",
       "      <td>9.2</td>\n",
       "      <td>20.0</td>\n",
       "      <td>19.4</td>\n",
       "    </tr>\n",
       "  </tbody>\n",
       "</table>\n",
       "</div>"
      ],
      "text/plain": [
       "     id  day  pressure  maxtemp  temparature  mintemp  dewpoint  humidity  \\\n",
       "0  2190    1    1019.5     17.5         15.8     12.7      14.9      96.0   \n",
       "1  2191    2    1016.5     17.5         16.5     15.8      15.1      97.0   \n",
       "2  2192    3    1023.9     11.2         10.4      9.4       8.9      86.0   \n",
       "3  2193    4    1022.9     20.6         17.3     15.2       9.5      75.0   \n",
       "4  2194    5    1022.2     16.1         13.8      6.4       4.3      68.0   \n",
       "\n",
       "   cloud  sunshine  winddirection  windspeed  \n",
       "0   99.0       0.0           50.0       24.3  \n",
       "1   99.0       0.0           50.0       35.3  \n",
       "2   96.0       0.0           40.0       16.9  \n",
       "3   45.0       7.1           20.0       50.6  \n",
       "4   49.0       9.2           20.0       19.4  "
      ]
     },
     "execution_count": 6,
     "metadata": {},
     "output_type": "execute_result"
    }
   ],
   "source": [
    "test = pd.read_csv(\"/kaggle/input/playground-series-s5e3/test.csv\")#.set_index(\"id\")\n",
    "test.head()"
   ]
  },
  {
   "cell_type": "code",
   "execution_count": 7,
   "id": "f7d5df07",
   "metadata": {
    "execution": {
     "iopub.execute_input": "2025-03-04T09:26:56.101424Z",
     "iopub.status.busy": "2025-03-04T09:26:56.101021Z",
     "iopub.status.idle": "2025-03-04T09:26:56.105587Z",
     "shell.execute_reply": "2025-03-04T09:26:56.104655Z"
    },
    "papermill": {
     "duration": 0.014042,
     "end_time": "2025-03-04T09:26:56.107266",
     "exception": false,
     "start_time": "2025-03-04T09:26:56.093224",
     "status": "completed"
    },
    "tags": []
   },
   "outputs": [],
   "source": [
    "\n",
    "\n",
    "# Define feature columns and target\n",
    "features = ['day', 'pressure', 'maxtemp', 'temparature', 'mintemp', \n",
    "            'dewpoint', 'humidity', 'cloud', 'sunshine', 'winddirection', 'windspeed']\n",
    "target = 'rainfall'\n"
   ]
  },
  {
   "cell_type": "markdown",
   "id": "0b685d99",
   "metadata": {
    "papermill": {
     "duration": 0.007104,
     "end_time": "2025-03-04T09:26:56.121609",
     "exception": false,
     "start_time": "2025-03-04T09:26:56.114505",
     "status": "completed"
    },
    "tags": []
   },
   "source": [
    "## Handling Missing values\n",
    "\n",
    "It seems there is just one missing value, in the test dataset"
   ]
  },
  {
   "cell_type": "code",
   "execution_count": 8,
   "id": "ad1fcc98",
   "metadata": {
    "execution": {
     "iopub.execute_input": "2025-03-04T09:26:56.136904Z",
     "iopub.status.busy": "2025-03-04T09:26:56.136559Z",
     "iopub.status.idle": "2025-03-04T09:26:56.144839Z",
     "shell.execute_reply": "2025-03-04T09:26:56.143906Z"
    },
    "papermill": {
     "duration": 0.017948,
     "end_time": "2025-03-04T09:26:56.146515",
     "exception": false,
     "start_time": "2025-03-04T09:26:56.128567",
     "status": "completed"
    },
    "tags": []
   },
   "outputs": [
    {
     "data": {
      "text/plain": [
       "id               0\n",
       "day              0\n",
       "pressure         0\n",
       "maxtemp          0\n",
       "temparature      0\n",
       "mintemp          0\n",
       "dewpoint         0\n",
       "humidity         0\n",
       "cloud            0\n",
       "sunshine         0\n",
       "winddirection    0\n",
       "windspeed        0\n",
       "rainfall         0\n",
       "dtype: int64"
      ]
     },
     "execution_count": 8,
     "metadata": {},
     "output_type": "execute_result"
    }
   ],
   "source": [
    "train.isnull().sum()\n"
   ]
  },
  {
   "cell_type": "code",
   "execution_count": 9,
   "id": "9b2c158a",
   "metadata": {
    "execution": {
     "iopub.execute_input": "2025-03-04T09:26:56.162439Z",
     "iopub.status.busy": "2025-03-04T09:26:56.162012Z",
     "iopub.status.idle": "2025-03-04T09:26:56.170456Z",
     "shell.execute_reply": "2025-03-04T09:26:56.169330Z"
    },
    "papermill": {
     "duration": 0.01852,
     "end_time": "2025-03-04T09:26:56.172302",
     "exception": false,
     "start_time": "2025-03-04T09:26:56.153782",
     "status": "completed"
    },
    "tags": []
   },
   "outputs": [
    {
     "data": {
      "text/plain": [
       "id               0\n",
       "day              0\n",
       "pressure         0\n",
       "maxtemp          0\n",
       "temparature      0\n",
       "mintemp          0\n",
       "dewpoint         0\n",
       "humidity         0\n",
       "cloud            0\n",
       "sunshine         0\n",
       "winddirection    1\n",
       "windspeed        0\n",
       "dtype: int64"
      ]
     },
     "execution_count": 9,
     "metadata": {},
     "output_type": "execute_result"
    }
   ],
   "source": [
    "test.isnull().sum()"
   ]
  },
  {
   "cell_type": "markdown",
   "id": "7db790eb",
   "metadata": {
    "papermill": {
     "duration": 0.00711,
     "end_time": "2025-03-04T09:26:56.186665",
     "exception": false,
     "start_time": "2025-03-04T09:26:56.179555",
     "status": "completed"
    },
    "tags": []
   },
   "source": []
  },
  {
   "cell_type": "code",
   "execution_count": 10,
   "id": "3d5e862e",
   "metadata": {
    "execution": {
     "iopub.execute_input": "2025-03-04T09:26:56.202671Z",
     "iopub.status.busy": "2025-03-04T09:26:56.202284Z",
     "iopub.status.idle": "2025-03-04T09:26:56.220861Z",
     "shell.execute_reply": "2025-03-04T09:26:56.219792Z"
    },
    "papermill": {
     "duration": 0.028811,
     "end_time": "2025-03-04T09:26:56.222692",
     "exception": false,
     "start_time": "2025-03-04T09:26:56.193881",
     "status": "completed"
    },
    "tags": []
   },
   "outputs": [
    {
     "data": {
      "text/html": [
       "<div>\n",
       "<style scoped>\n",
       "    .dataframe tbody tr th:only-of-type {\n",
       "        vertical-align: middle;\n",
       "    }\n",
       "\n",
       "    .dataframe tbody tr th {\n",
       "        vertical-align: top;\n",
       "    }\n",
       "\n",
       "    .dataframe thead th {\n",
       "        text-align: right;\n",
       "    }\n",
       "</style>\n",
       "<table border=\"1\" class=\"dataframe\">\n",
       "  <thead>\n",
       "    <tr style=\"text-align: right;\">\n",
       "      <th></th>\n",
       "      <th>id</th>\n",
       "      <th>day</th>\n",
       "      <th>pressure</th>\n",
       "      <th>maxtemp</th>\n",
       "      <th>temparature</th>\n",
       "      <th>mintemp</th>\n",
       "      <th>dewpoint</th>\n",
       "      <th>humidity</th>\n",
       "      <th>cloud</th>\n",
       "      <th>sunshine</th>\n",
       "      <th>winddirection</th>\n",
       "      <th>windspeed</th>\n",
       "    </tr>\n",
       "  </thead>\n",
       "  <tbody>\n",
       "    <tr>\n",
       "      <th>517</th>\n",
       "      <td>2707</td>\n",
       "      <td>153</td>\n",
       "      <td>1007.8</td>\n",
       "      <td>32.9</td>\n",
       "      <td>30.6</td>\n",
       "      <td>28.9</td>\n",
       "      <td>22.0</td>\n",
       "      <td>65.0</td>\n",
       "      <td>75.0</td>\n",
       "      <td>8.2</td>\n",
       "      <td>NaN</td>\n",
       "      <td>17.2</td>\n",
       "    </tr>\n",
       "  </tbody>\n",
       "</table>\n",
       "</div>"
      ],
      "text/plain": [
       "       id  day  pressure  maxtemp  temparature  mintemp  dewpoint  humidity  \\\n",
       "517  2707  153    1007.8     32.9         30.6     28.9      22.0      65.0   \n",
       "\n",
       "     cloud  sunshine  winddirection  windspeed  \n",
       "517   75.0       8.2            NaN       17.2  "
      ]
     },
     "execution_count": 10,
     "metadata": {},
     "output_type": "execute_result"
    }
   ],
   "source": [
    "test[test.isnull().any(axis=1)]"
   ]
  },
  {
   "cell_type": "code",
   "execution_count": 11,
   "id": "28e55859",
   "metadata": {
    "execution": {
     "iopub.execute_input": "2025-03-04T09:26:56.239367Z",
     "iopub.status.busy": "2025-03-04T09:26:56.238918Z",
     "iopub.status.idle": "2025-03-04T09:26:56.253234Z",
     "shell.execute_reply": "2025-03-04T09:26:56.252202Z"
    },
    "papermill": {
     "duration": 0.024755,
     "end_time": "2025-03-04T09:26:56.255089",
     "exception": false,
     "start_time": "2025-03-04T09:26:56.230334",
     "status": "completed"
    },
    "tags": []
   },
   "outputs": [],
   "source": [
    "# Impute missing values (using mean strategy)\n",
    "imputer = SimpleImputer(strategy='mean')\n",
    "X = pd.DataFrame(imputer.fit_transform(train[features]), columns=features)\n",
    "y = train[target]\n"
   ]
  },
  {
   "cell_type": "markdown",
   "id": "e55f4830",
   "metadata": {
    "papermill": {
     "duration": 0.006771,
     "end_time": "2025-03-04T09:26:56.269574",
     "exception": false,
     "start_time": "2025-03-04T09:26:56.262803",
     "status": "completed"
    },
    "tags": []
   },
   "source": [
    "## Prediction using XGBoost/LightGBM"
   ]
  },
  {
   "cell_type": "markdown",
   "id": "40463b67",
   "metadata": {
    "papermill": {
     "duration": 0.006749,
     "end_time": "2025-03-04T09:26:56.283261",
     "exception": false,
     "start_time": "2025-03-04T09:26:56.276512",
     "status": "completed"
    },
    "tags": []
   },
   "source": [
    "### Train/Validation split"
   ]
  },
  {
   "cell_type": "code",
   "execution_count": 12,
   "id": "5588915e",
   "metadata": {
    "execution": {
     "iopub.execute_input": "2025-03-04T09:26:56.298794Z",
     "iopub.status.busy": "2025-03-04T09:26:56.298440Z",
     "iopub.status.idle": "2025-03-04T09:26:56.307348Z",
     "shell.execute_reply": "2025-03-04T09:26:56.306177Z"
    },
    "papermill": {
     "duration": 0.018981,
     "end_time": "2025-03-04T09:26:56.309405",
     "exception": false,
     "start_time": "2025-03-04T09:26:56.290424",
     "status": "completed"
    },
    "tags": []
   },
   "outputs": [],
   "source": [
    "X_train, X_valid, y_train, y_valid = train_test_split(\n",
    "    X, y, test_size=0.2, random_state=42, stratify=y\n",
    ")"
   ]
  },
  {
   "cell_type": "markdown",
   "id": "d8c3f614",
   "metadata": {
    "papermill": {
     "duration": 0.0072,
     "end_time": "2025-03-04T09:26:56.324334",
     "exception": false,
     "start_time": "2025-03-04T09:26:56.317134",
     "status": "completed"
    },
    "tags": []
   },
   "source": [
    "### Define the Hyperopt Objective Function"
   ]
  },
  {
   "cell_type": "code",
   "execution_count": 13,
   "id": "a1f41a08",
   "metadata": {
    "execution": {
     "iopub.execute_input": "2025-03-04T09:26:56.340371Z",
     "iopub.status.busy": "2025-03-04T09:26:56.339932Z",
     "iopub.status.idle": "2025-03-04T09:26:56.348251Z",
     "shell.execute_reply": "2025-03-04T09:26:56.347139Z"
    },
    "papermill": {
     "duration": 0.018467,
     "end_time": "2025-03-04T09:26:56.350023",
     "exception": false,
     "start_time": "2025-03-04T09:26:56.331556",
     "status": "completed"
    },
    "tags": []
   },
   "outputs": [],
   "source": [
    "def objective(params):\n",
    "    model_type = params['model_type']\n",
    "    \n",
    "    if model_type == 'xgb':\n",
    "        # Prepare parameters for XGBoost\n",
    "        params['objective'] = 'binary:logistic'\n",
    "        params['eval_metric'] = 'auc'\n",
    "        params['seed'] = 42\n",
    "        params['max_depth'] = int(params['max_depth'])  \n",
    "        num_round = int(params['n_estimators'])\n",
    "        params.pop('n_estimators')\n",
    "        \n",
    "        dtrain = xgb.DMatrix(X_train, label=y_train)\n",
    "        dvalid = xgb.DMatrix(X_valid, label=y_valid)\n",
    "        model = xgb.train(params, dtrain, num_round,\n",
    "                          evals=[(dvalid, 'eval')],\n",
    "                          early_stopping_rounds=10,\n",
    "                          verbose_eval=False\n",
    "                         )\n",
    "        preds = model.predict(dvalid)\n",
    "    \n",
    "    else:\n",
    "        # Prepare parameters for LightGBM\n",
    "        params['objective'] = 'binary'\n",
    "        params['metric'] = 'auc'\n",
    "        params['verbose'] = -1\n",
    "        params['max_depth'] = int(params['max_depth'])\n",
    "        params['num_leaves'] = int(params['num_leaves'])\n",
    "        num_round = int(params['n_estimators'])\n",
    "        params.pop('n_estimators')\n",
    "        \n",
    "        lgb_train = lgb.Dataset(X_train, label=y_train)\n",
    "        lgb_valid = lgb.Dataset(X_valid, label=y_valid, reference=lgb_train)\n",
    "        \n",
    "        model = lgb.train(params, lgb_train, num_round,\n",
    "                          valid_sets=[lgb_valid],\n",
    "                          #early_stopping_rounds=10,\n",
    "                          #verbose_eval=False\n",
    "                         )\n",
    "        preds = model.predict(X_valid, num_iteration=model.best_iteration)\n",
    "    \n",
    "    auc = roc_auc_score(y_valid, preds)\n",
    "    print(f\"Model: {model_type} | AUC: {auc:.4f}\")\n",
    "    return {'loss': -auc, 'status': STATUS_OK}\n"
   ]
  },
  {
   "cell_type": "markdown",
   "id": "455909fe",
   "metadata": {
    "papermill": {
     "duration": 0.006827,
     "end_time": "2025-03-04T09:26:56.364512",
     "exception": false,
     "start_time": "2025-03-04T09:26:56.357685",
     "status": "completed"
    },
    "tags": []
   },
   "source": [
    "### Define the Hyperopt Search Space\n"
   ]
  },
  {
   "cell_type": "code",
   "execution_count": 14,
   "id": "4a58c9e1",
   "metadata": {
    "execution": {
     "iopub.execute_input": "2025-03-04T09:26:56.380159Z",
     "iopub.status.busy": "2025-03-04T09:26:56.379781Z",
     "iopub.status.idle": "2025-03-04T09:26:56.387144Z",
     "shell.execute_reply": "2025-03-04T09:26:56.386102Z"
    },
    "papermill": {
     "duration": 0.017172,
     "end_time": "2025-03-04T09:26:56.388891",
     "exception": false,
     "start_time": "2025-03-04T09:26:56.371719",
     "status": "completed"
    },
    "tags": []
   },
   "outputs": [],
   "source": [
    "space = hp.choice('classifier', [\n",
    "    {\n",
    "        'model_type': 'xgb',\n",
    "        'n_estimators': hp.quniform('xgb_n_estimators', 100, 500, 25),\n",
    "        'max_depth': hp.quniform('xgb_max_depth', 3, 10, 1),\n",
    "        'learning_rate': hp.loguniform('xgb_learning_rate', np.log(0.01), np.log(0.2)),\n",
    "        'subsample': hp.uniform('xgb_subsample', 0.7, 1.0),\n",
    "        'colsample_bytree': hp.uniform('xgb_colsample_bytree', 0.7, 1.0),\n",
    "        'gamma': hp.uniform('xgb_gamma', 0, 5)\n",
    "    },\n",
    "    {\n",
    "        'model_type': 'lgb',\n",
    "        'n_estimators': hp.quniform('lgb_n_estimators', 100, 500, 25),\n",
    "        'max_depth': hp.quniform('lgb_max_depth', 3, 10, 1),\n",
    "        'learning_rate': hp.loguniform('lgb_learning_rate', np.log(0.01), np.log(0.2)),\n",
    "        'subsample': hp.uniform('lgb_subsample', 0.7, 1.0),\n",
    "        'colsample_bytree': hp.uniform('lgb_colsample_bytree', 0.7, 1.0),\n",
    "        'num_leaves': hp.quniform('lgb_num_leaves', 20, 100, 5)\n",
    "    }\n",
    "])"
   ]
  },
  {
   "cell_type": "markdown",
   "id": "9bc004fc",
   "metadata": {
    "papermill": {
     "duration": 0.006942,
     "end_time": "2025-03-04T09:26:56.403229",
     "exception": false,
     "start_time": "2025-03-04T09:26:56.396287",
     "status": "completed"
    },
    "tags": []
   },
   "source": [
    "### Run Hyperopt optimization"
   ]
  },
  {
   "cell_type": "code",
   "execution_count": 15,
   "id": "780a007b",
   "metadata": {
    "execution": {
     "iopub.execute_input": "2025-03-04T09:26:56.418869Z",
     "iopub.status.busy": "2025-03-04T09:26:56.418478Z",
     "iopub.status.idle": "2025-03-04T09:27:02.552429Z",
     "shell.execute_reply": "2025-03-04T09:27:02.551428Z"
    },
    "papermill": {
     "duration": 6.143665,
     "end_time": "2025-03-04T09:27:02.554028",
     "exception": false,
     "start_time": "2025-03-04T09:26:56.410363",
     "status": "completed"
    },
    "tags": []
   },
   "outputs": [
    {
     "name": "stdout",
     "output_type": "stream",
     "text": [
      "Model: xgb | AUC: 0.8642\n",
      "Model: lgb | AUC: 0.8712\n",
      "Model: xgb | AUC: 0.8753\n",
      "Model: lgb | AUC: 0.8690\n",
      "Model: xgb | AUC: 0.8746\n",
      "Model: lgb | AUC: 0.8664\n",
      "Model: lgb | AUC: 0.8549\n",
      "Model: xgb | AUC: 0.8690\n",
      "Model: xgb | AUC: 0.8753\n",
      "Model: lgb | AUC: 0.8591\n",
      "Model: xgb | AUC: 0.8596\n",
      "Model: lgb | AUC: 0.8461\n",
      "Model: xgb | AUC: 0.8750\n",
      "Model: lgb | AUC: 0.8700\n",
      "Model: lgb | AUC: 0.8636\n",
      "Model: xgb | AUC: 0.8699\n",
      "Model: lgb | AUC: 0.8718\n",
      "Model: lgb | AUC: 0.8721\n",
      "Model: lgb | AUC: 0.8590\n",
      "Model: xgb | AUC: 0.8726\n",
      "Model: xgb | AUC: 0.8724\n",
      "Model: xgb | AUC: 0.8751\n",
      "Model: xgb | AUC: 0.8730\n",
      "Model: xgb | AUC: 0.8745\n",
      "Model: xgb | AUC: 0.8781\n",
      "Model: xgb | AUC: 0.8765\n",
      "Model: xgb | AUC: 0.8786\n",
      "Model: xgb | AUC: 0.8754\n",
      "Model: xgb | AUC: 0.8746\n",
      "Model: xgb | AUC: 0.8741\n",
      "Model: xgb | AUC: 0.8767\n",
      "Model: xgb | AUC: 0.8693\n",
      "Model: xgb | AUC: 0.8708\n",
      "Model: xgb | AUC: 0.8761\n",
      "Model: xgb | AUC: 0.8753\n",
      "Model: xgb | AUC: 0.8760\n",
      "Model: xgb | AUC: 0.8701\n",
      "Model: xgb | AUC: 0.8760\n",
      "Model: xgb | AUC: 0.8769\n",
      "Model: xgb | AUC: 0.8711\n",
      "Model: xgb | AUC: 0.8753\n",
      "Model: xgb | AUC: 0.8796\n",
      "Model: lgb | AUC: 0.8639\n",
      "Model: xgb | AUC: 0.8792\n",
      "Model: xgb | AUC: 0.8800\n",
      "Model: lgb | AUC: 0.8793\n",
      "Model: xgb | AUC: 0.8776\n",
      "Model: lgb | AUC: 0.8764\n",
      "Model: xgb | AUC: 0.8687\n",
      "Model: lgb | AUC: 0.8594\n",
      "100%|██████████| 50/50 [00:06<00:00,  8.17trial/s, best loss: -0.8800084175084175]\n",
      "Best hyperparameters: {'classifier': 0, 'xgb_colsample_bytree': 0.7025060834303352, 'xgb_gamma': 0.45792241722485016, 'xgb_learning_rate': 0.01969329445003414, 'xgb_max_depth': 4.0, 'xgb_n_estimators': 475.0, 'xgb_subsample': 0.9809396232631573}\n"
     ]
    }
   ],
   "source": [
    "trials = Trials()\n",
    "rng = np.random.default_rng(42)\n",
    "best = fmin(fn=objective,\n",
    "            space=space,\n",
    "            algo=tpe.suggest,\n",
    "            max_evals=50,  # Increase this number for a more thorough search\n",
    "            trials=trials,\n",
    "            rstate=rng)\n",
    "\n",
    "print(\"Best hyperparameters:\", best)\n"
   ]
  },
  {
   "cell_type": "code",
   "execution_count": 16,
   "id": "ca8f795b",
   "metadata": {
    "execution": {
     "iopub.execute_input": "2025-03-04T09:27:02.589430Z",
     "iopub.status.busy": "2025-03-04T09:27:02.589017Z",
     "iopub.status.idle": "2025-03-04T09:27:02.594582Z",
     "shell.execute_reply": "2025-03-04T09:27:02.593544Z"
    },
    "papermill": {
     "duration": 0.024851,
     "end_time": "2025-03-04T09:27:02.596207",
     "exception": false,
     "start_time": "2025-03-04T09:27:02.571356",
     "status": "completed"
    },
    "tags": []
   },
   "outputs": [
    {
     "name": "stdout",
     "output_type": "stream",
     "text": [
      "Best hyperparameters: {'colsample_bytree': 0.7025060834303352, 'gamma': 0.45792241722485016, 'learning_rate': 0.01969329445003414, 'max_depth': 4.0, 'model_type': 'xgb', 'n_estimators': 475.0, 'subsample': 0.9809396232631573}\n"
     ]
    }
   ],
   "source": [
    "from hyperopt import space_eval\n",
    "# 'best' is the raw result from fmin\n",
    "best_params = space_eval(space, best)\n",
    "print(\"Best hyperparameters:\", best_params)"
   ]
  },
  {
   "cell_type": "markdown",
   "id": "0777a514",
   "metadata": {
    "papermill": {
     "duration": 0.016595,
     "end_time": "2025-03-04T09:27:02.629466",
     "exception": false,
     "start_time": "2025-03-04T09:27:02.612871",
     "status": "completed"
    },
    "tags": []
   },
   "source": [
    "### Impute and predict\n"
   ]
  },
  {
   "cell_type": "code",
   "execution_count": 17,
   "id": "f3caca18",
   "metadata": {
    "execution": {
     "iopub.execute_input": "2025-03-04T09:27:02.664678Z",
     "iopub.status.busy": "2025-03-04T09:27:02.664348Z",
     "iopub.status.idle": "2025-03-04T09:27:02.677323Z",
     "shell.execute_reply": "2025-03-04T09:27:02.676376Z"
    },
    "papermill": {
     "duration": 0.032343,
     "end_time": "2025-03-04T09:27:02.679243",
     "exception": false,
     "start_time": "2025-03-04T09:27:02.646900",
     "status": "completed"
    },
    "tags": []
   },
   "outputs": [],
   "source": [
    "# Use the same imputer as during training\n",
    "imputer = SimpleImputer(strategy='mean')\n",
    "X = pd.DataFrame(imputer.fit_transform(train[features]), columns=features)\n",
    "y = train[target]\n",
    "\n",
    "# Preprocess test set in the same way\n",
    "X_test = pd.DataFrame(imputer.transform(test[features]), columns=features)"
   ]
  },
  {
   "cell_type": "code",
   "execution_count": 18,
   "id": "9b386f5d",
   "metadata": {
    "execution": {
     "iopub.execute_input": "2025-03-04T09:27:02.714694Z",
     "iopub.status.busy": "2025-03-04T09:27:02.714335Z",
     "iopub.status.idle": "2025-03-04T09:27:02.720707Z",
     "shell.execute_reply": "2025-03-04T09:27:02.719541Z"
    },
    "papermill": {
     "duration": 0.026606,
     "end_time": "2025-03-04T09:27:02.722627",
     "exception": false,
     "start_time": "2025-03-04T09:27:02.696021",
     "status": "completed"
    },
    "tags": []
   },
   "outputs": [
    {
     "data": {
      "text/plain": [
       "{'colsample_bytree': 0.7025060834303352,\n",
       " 'gamma': 0.45792241722485016,\n",
       " 'learning_rate': 0.01969329445003414,\n",
       " 'max_depth': 4.0,\n",
       " 'model_type': 'xgb',\n",
       " 'n_estimators': 475.0,\n",
       " 'subsample': 0.9809396232631573}"
      ]
     },
     "execution_count": 18,
     "metadata": {},
     "output_type": "execute_result"
    }
   ],
   "source": [
    "best_params"
   ]
  },
  {
   "cell_type": "code",
   "execution_count": 19,
   "id": "5c9953a5",
   "metadata": {
    "execution": {
     "iopub.execute_input": "2025-03-04T09:27:02.759018Z",
     "iopub.status.busy": "2025-03-04T09:27:02.758635Z",
     "iopub.status.idle": "2025-03-04T09:27:03.063230Z",
     "shell.execute_reply": "2025-03-04T09:27:03.062227Z"
    },
    "papermill": {
     "duration": 0.327105,
     "end_time": "2025-03-04T09:27:03.066504",
     "exception": false,
     "start_time": "2025-03-04T09:27:02.739399",
     "status": "completed"
    },
    "tags": []
   },
   "outputs": [],
   "source": [
    "if best_params['model_type'] == 'xgb':\n",
    "    # For XGBoost: cast integer parameters\n",
    "    best_params['max_depth'] = int(best_params['max_depth'])\n",
    "    n_estimators = int(best_params.pop('n_estimators'))\n",
    "    \n",
    "    # Set additional parameters\n",
    "    best_params['objective'] = 'binary:logistic'\n",
    "    best_params['eval_metric'] = 'auc'\n",
    "    best_params['seed'] = 42\n",
    "    \n",
    "    # Prepare full training data as a DMatrix\n",
    "    dtrain = xgb.DMatrix(X, label=y)\n",
    "    # Train the model on full training data\n",
    "    model = xgb.train(best_params, dtrain, num_boost_round=n_estimators)\n",
    "    \n",
    "    # Prepare test data and predict\n",
    "    dtest = xgb.DMatrix(X_test)\n",
    "    preds = model.predict(dtest)\n",
    "\n",
    "elif best_params['model_type'] == 'lgb':\n",
    "    # For LightGBM: cast integer parameters\n",
    "    best_params['max_depth'] = int(best_params['max_depth'])\n",
    "    best_params['num_leaves'] = int(best_params['num_leaves'])\n",
    "    n_estimators = int(best_params.pop('n_estimators'))\n",
    "    \n",
    "    # Set additional parameters\n",
    "    best_params['objective'] = 'binary'\n",
    "    best_params['metric'] = 'auc'\n",
    "    best_params['verbose'] = -1\n",
    "    \n",
    "    # Create a LightGBM dataset with the full training data\n",
    "    lgb_train = lgb.Dataset(X, label=y)\n",
    "    # Train the model on full training data\n",
    "    model = lgb.train(best, lgb_train, num_boost_round=n_estimators)\n",
    "    \n",
    "    # Predict on test data\n",
    "    preds = model.predict(X_test)"
   ]
  },
  {
   "cell_type": "markdown",
   "id": "7b96bc5a",
   "metadata": {
    "papermill": {
     "duration": 0.016191,
     "end_time": "2025-03-04T09:27:03.099439",
     "exception": false,
     "start_time": "2025-03-04T09:27:03.083248",
     "status": "completed"
    },
    "tags": []
   },
   "source": [
    "## Creating Submission file"
   ]
  },
  {
   "cell_type": "code",
   "execution_count": 20,
   "id": "69f1c9c0",
   "metadata": {
    "execution": {
     "iopub.execute_input": "2025-03-04T09:27:03.134152Z",
     "iopub.status.busy": "2025-03-04T09:27:03.133691Z",
     "iopub.status.idle": "2025-03-04T09:27:03.155894Z",
     "shell.execute_reply": "2025-03-04T09:27:03.154788Z"
    },
    "papermill": {
     "duration": 0.041609,
     "end_time": "2025-03-04T09:27:03.157596",
     "exception": false,
     "start_time": "2025-03-04T09:27:03.115987",
     "status": "completed"
    },
    "tags": []
   },
   "outputs": [
    {
     "data": {
      "text/html": [
       "<div>\n",
       "<style scoped>\n",
       "    .dataframe tbody tr th:only-of-type {\n",
       "        vertical-align: middle;\n",
       "    }\n",
       "\n",
       "    .dataframe tbody tr th {\n",
       "        vertical-align: top;\n",
       "    }\n",
       "\n",
       "    .dataframe thead th {\n",
       "        text-align: right;\n",
       "    }\n",
       "</style>\n",
       "<table border=\"1\" class=\"dataframe\">\n",
       "  <thead>\n",
       "    <tr style=\"text-align: right;\">\n",
       "      <th></th>\n",
       "      <th>day</th>\n",
       "      <th>pressure</th>\n",
       "      <th>maxtemp</th>\n",
       "      <th>temparature</th>\n",
       "      <th>mintemp</th>\n",
       "      <th>dewpoint</th>\n",
       "      <th>humidity</th>\n",
       "      <th>cloud</th>\n",
       "      <th>sunshine</th>\n",
       "      <th>winddirection</th>\n",
       "      <th>windspeed</th>\n",
       "    </tr>\n",
       "  </thead>\n",
       "  <tbody>\n",
       "    <tr>\n",
       "      <th>0</th>\n",
       "      <td>1</td>\n",
       "      <td>1019.5</td>\n",
       "      <td>17.5</td>\n",
       "      <td>15.8</td>\n",
       "      <td>12.7</td>\n",
       "      <td>14.9</td>\n",
       "      <td>96.0</td>\n",
       "      <td>99.0</td>\n",
       "      <td>0.0</td>\n",
       "      <td>50.0</td>\n",
       "      <td>24.3</td>\n",
       "    </tr>\n",
       "    <tr>\n",
       "      <th>1</th>\n",
       "      <td>2</td>\n",
       "      <td>1016.5</td>\n",
       "      <td>17.5</td>\n",
       "      <td>16.5</td>\n",
       "      <td>15.8</td>\n",
       "      <td>15.1</td>\n",
       "      <td>97.0</td>\n",
       "      <td>99.0</td>\n",
       "      <td>0.0</td>\n",
       "      <td>50.0</td>\n",
       "      <td>35.3</td>\n",
       "    </tr>\n",
       "    <tr>\n",
       "      <th>2</th>\n",
       "      <td>3</td>\n",
       "      <td>1023.9</td>\n",
       "      <td>11.2</td>\n",
       "      <td>10.4</td>\n",
       "      <td>9.4</td>\n",
       "      <td>8.9</td>\n",
       "      <td>86.0</td>\n",
       "      <td>96.0</td>\n",
       "      <td>0.0</td>\n",
       "      <td>40.0</td>\n",
       "      <td>16.9</td>\n",
       "    </tr>\n",
       "    <tr>\n",
       "      <th>3</th>\n",
       "      <td>4</td>\n",
       "      <td>1022.9</td>\n",
       "      <td>20.6</td>\n",
       "      <td>17.3</td>\n",
       "      <td>15.2</td>\n",
       "      <td>9.5</td>\n",
       "      <td>75.0</td>\n",
       "      <td>45.0</td>\n",
       "      <td>7.1</td>\n",
       "      <td>20.0</td>\n",
       "      <td>50.6</td>\n",
       "    </tr>\n",
       "    <tr>\n",
       "      <th>4</th>\n",
       "      <td>5</td>\n",
       "      <td>1022.2</td>\n",
       "      <td>16.1</td>\n",
       "      <td>13.8</td>\n",
       "      <td>6.4</td>\n",
       "      <td>4.3</td>\n",
       "      <td>68.0</td>\n",
       "      <td>49.0</td>\n",
       "      <td>9.2</td>\n",
       "      <td>20.0</td>\n",
       "      <td>19.4</td>\n",
       "    </tr>\n",
       "    <tr>\n",
       "      <th>...</th>\n",
       "      <td>...</td>\n",
       "      <td>...</td>\n",
       "      <td>...</td>\n",
       "      <td>...</td>\n",
       "      <td>...</td>\n",
       "      <td>...</td>\n",
       "      <td>...</td>\n",
       "      <td>...</td>\n",
       "      <td>...</td>\n",
       "      <td>...</td>\n",
       "      <td>...</td>\n",
       "    </tr>\n",
       "    <tr>\n",
       "      <th>725</th>\n",
       "      <td>361</td>\n",
       "      <td>1020.8</td>\n",
       "      <td>18.2</td>\n",
       "      <td>17.6</td>\n",
       "      <td>16.1</td>\n",
       "      <td>13.7</td>\n",
       "      <td>96.0</td>\n",
       "      <td>95.0</td>\n",
       "      <td>0.0</td>\n",
       "      <td>20.0</td>\n",
       "      <td>34.3</td>\n",
       "    </tr>\n",
       "    <tr>\n",
       "      <th>726</th>\n",
       "      <td>362</td>\n",
       "      <td>1011.7</td>\n",
       "      <td>23.2</td>\n",
       "      <td>18.1</td>\n",
       "      <td>16.0</td>\n",
       "      <td>16.0</td>\n",
       "      <td>78.0</td>\n",
       "      <td>80.0</td>\n",
       "      <td>1.6</td>\n",
       "      <td>40.0</td>\n",
       "      <td>25.2</td>\n",
       "    </tr>\n",
       "    <tr>\n",
       "      <th>727</th>\n",
       "      <td>363</td>\n",
       "      <td>1022.7</td>\n",
       "      <td>21.0</td>\n",
       "      <td>18.5</td>\n",
       "      <td>17.0</td>\n",
       "      <td>15.5</td>\n",
       "      <td>92.0</td>\n",
       "      <td>96.0</td>\n",
       "      <td>0.0</td>\n",
       "      <td>50.0</td>\n",
       "      <td>21.9</td>\n",
       "    </tr>\n",
       "    <tr>\n",
       "      <th>728</th>\n",
       "      <td>364</td>\n",
       "      <td>1014.4</td>\n",
       "      <td>21.0</td>\n",
       "      <td>20.0</td>\n",
       "      <td>19.7</td>\n",
       "      <td>19.8</td>\n",
       "      <td>94.0</td>\n",
       "      <td>93.0</td>\n",
       "      <td>0.0</td>\n",
       "      <td>50.0</td>\n",
       "      <td>39.5</td>\n",
       "    </tr>\n",
       "    <tr>\n",
       "      <th>729</th>\n",
       "      <td>365</td>\n",
       "      <td>1020.9</td>\n",
       "      <td>22.2</td>\n",
       "      <td>18.8</td>\n",
       "      <td>17.0</td>\n",
       "      <td>13.3</td>\n",
       "      <td>79.0</td>\n",
       "      <td>89.0</td>\n",
       "      <td>0.2</td>\n",
       "      <td>60.0</td>\n",
       "      <td>50.6</td>\n",
       "    </tr>\n",
       "  </tbody>\n",
       "</table>\n",
       "<p>730 rows × 11 columns</p>\n",
       "</div>"
      ],
      "text/plain": [
       "     day  pressure  maxtemp  temparature  mintemp  dewpoint  humidity  cloud  \\\n",
       "0      1    1019.5     17.5         15.8     12.7      14.9      96.0   99.0   \n",
       "1      2    1016.5     17.5         16.5     15.8      15.1      97.0   99.0   \n",
       "2      3    1023.9     11.2         10.4      9.4       8.9      86.0   96.0   \n",
       "3      4    1022.9     20.6         17.3     15.2       9.5      75.0   45.0   \n",
       "4      5    1022.2     16.1         13.8      6.4       4.3      68.0   49.0   \n",
       "..   ...       ...      ...          ...      ...       ...       ...    ...   \n",
       "725  361    1020.8     18.2         17.6     16.1      13.7      96.0   95.0   \n",
       "726  362    1011.7     23.2         18.1     16.0      16.0      78.0   80.0   \n",
       "727  363    1022.7     21.0         18.5     17.0      15.5      92.0   96.0   \n",
       "728  364    1014.4     21.0         20.0     19.7      19.8      94.0   93.0   \n",
       "729  365    1020.9     22.2         18.8     17.0      13.3      79.0   89.0   \n",
       "\n",
       "     sunshine  winddirection  windspeed  \n",
       "0         0.0           50.0       24.3  \n",
       "1         0.0           50.0       35.3  \n",
       "2         0.0           40.0       16.9  \n",
       "3         7.1           20.0       50.6  \n",
       "4         9.2           20.0       19.4  \n",
       "..        ...            ...        ...  \n",
       "725       0.0           20.0       34.3  \n",
       "726       1.6           40.0       25.2  \n",
       "727       0.0           50.0       21.9  \n",
       "728       0.0           50.0       39.5  \n",
       "729       0.2           60.0       50.6  \n",
       "\n",
       "[730 rows x 11 columns]"
      ]
     },
     "execution_count": 20,
     "metadata": {},
     "output_type": "execute_result"
    }
   ],
   "source": [
    "X_test = test[features]\n",
    "X_test"
   ]
  },
  {
   "cell_type": "code",
   "execution_count": 21,
   "id": "eea98a43",
   "metadata": {
    "execution": {
     "iopub.execute_input": "2025-03-04T09:27:03.193600Z",
     "iopub.status.busy": "2025-03-04T09:27:03.193224Z",
     "iopub.status.idle": "2025-03-04T09:27:03.206672Z",
     "shell.execute_reply": "2025-03-04T09:27:03.205567Z"
    },
    "papermill": {
     "duration": 0.033769,
     "end_time": "2025-03-04T09:27:03.208606",
     "exception": false,
     "start_time": "2025-03-04T09:27:03.174837",
     "status": "completed"
    },
    "tags": []
   },
   "outputs": [],
   "source": [
    "# Predict probabilities on the test set\n",
    "\n",
    "# Create the submission DataFrame\n",
    "submission = pd.DataFrame({\n",
    "    'id': test['id'],\n",
    "    'rainfall': preds\n",
    "})\n",
    "\n",
    "# Save the submission file\n",
    "submission.to_csv('submission.csv', index=False)\n"
   ]
  },
  {
   "cell_type": "code",
   "execution_count": 22,
   "id": "4d348470",
   "metadata": {
    "execution": {
     "iopub.execute_input": "2025-03-04T09:27:03.245754Z",
     "iopub.status.busy": "2025-03-04T09:27:03.245393Z",
     "iopub.status.idle": "2025-03-04T09:27:03.255191Z",
     "shell.execute_reply": "2025-03-04T09:27:03.254243Z"
    },
    "papermill": {
     "duration": 0.029965,
     "end_time": "2025-03-04T09:27:03.256857",
     "exception": false,
     "start_time": "2025-03-04T09:27:03.226892",
     "status": "completed"
    },
    "tags": []
   },
   "outputs": [
    {
     "data": {
      "text/html": [
       "<div>\n",
       "<style scoped>\n",
       "    .dataframe tbody tr th:only-of-type {\n",
       "        vertical-align: middle;\n",
       "    }\n",
       "\n",
       "    .dataframe tbody tr th {\n",
       "        vertical-align: top;\n",
       "    }\n",
       "\n",
       "    .dataframe thead th {\n",
       "        text-align: right;\n",
       "    }\n",
       "</style>\n",
       "<table border=\"1\" class=\"dataframe\">\n",
       "  <thead>\n",
       "    <tr style=\"text-align: right;\">\n",
       "      <th></th>\n",
       "      <th>id</th>\n",
       "      <th>rainfall</th>\n",
       "    </tr>\n",
       "  </thead>\n",
       "  <tbody>\n",
       "    <tr>\n",
       "      <th>0</th>\n",
       "      <td>2190</td>\n",
       "      <td>0.996236</td>\n",
       "    </tr>\n",
       "    <tr>\n",
       "      <th>1</th>\n",
       "      <td>2191</td>\n",
       "      <td>0.994124</td>\n",
       "    </tr>\n",
       "    <tr>\n",
       "      <th>2</th>\n",
       "      <td>2192</td>\n",
       "      <td>0.975134</td>\n",
       "    </tr>\n",
       "    <tr>\n",
       "      <th>3</th>\n",
       "      <td>2193</td>\n",
       "      <td>0.136072</td>\n",
       "    </tr>\n",
       "    <tr>\n",
       "      <th>4</th>\n",
       "      <td>2194</td>\n",
       "      <td>0.102483</td>\n",
       "    </tr>\n",
       "    <tr>\n",
       "      <th>...</th>\n",
       "      <td>...</td>\n",
       "      <td>...</td>\n",
       "    </tr>\n",
       "    <tr>\n",
       "      <th>725</th>\n",
       "      <td>2915</td>\n",
       "      <td>0.991828</td>\n",
       "    </tr>\n",
       "    <tr>\n",
       "      <th>726</th>\n",
       "      <td>2916</td>\n",
       "      <td>0.928200</td>\n",
       "    </tr>\n",
       "    <tr>\n",
       "      <th>727</th>\n",
       "      <td>2917</td>\n",
       "      <td>0.992087</td>\n",
       "    </tr>\n",
       "    <tr>\n",
       "      <th>728</th>\n",
       "      <td>2918</td>\n",
       "      <td>0.991774</td>\n",
       "    </tr>\n",
       "    <tr>\n",
       "      <th>729</th>\n",
       "      <td>2919</td>\n",
       "      <td>0.972029</td>\n",
       "    </tr>\n",
       "  </tbody>\n",
       "</table>\n",
       "<p>730 rows × 2 columns</p>\n",
       "</div>"
      ],
      "text/plain": [
       "       id  rainfall\n",
       "0    2190  0.996236\n",
       "1    2191  0.994124\n",
       "2    2192  0.975134\n",
       "3    2193  0.136072\n",
       "4    2194  0.102483\n",
       "..    ...       ...\n",
       "725  2915  0.991828\n",
       "726  2916  0.928200\n",
       "727  2917  0.992087\n",
       "728  2918  0.991774\n",
       "729  2919  0.972029\n",
       "\n",
       "[730 rows x 2 columns]"
      ]
     },
     "execution_count": 22,
     "metadata": {},
     "output_type": "execute_result"
    }
   ],
   "source": [
    "submission"
   ]
  }
 ],
 "metadata": {
  "kaggle": {
   "accelerator": "none",
   "dataSources": [
    {
     "databundleVersionId": 11251744,
     "sourceId": 91714,
     "sourceType": "competition"
    }
   ],
   "dockerImageVersionId": 30918,
   "isGpuEnabled": false,
   "isInternetEnabled": true,
   "language": "python",
   "sourceType": "notebook"
  },
  "kernelspec": {
   "display_name": "Python 3",
   "language": "python",
   "name": "python3"
  },
  "language_info": {
   "codemirror_mode": {
    "name": "ipython",
    "version": 3
   },
   "file_extension": ".py",
   "mimetype": "text/x-python",
   "name": "python",
   "nbconvert_exporter": "python",
   "pygments_lexer": "ipython3",
   "version": "3.10.12"
  },
  "papermill": {
   "default_parameters": {},
   "duration": 20.860516,
   "end_time": "2025-03-04T09:27:04.396685",
   "environment_variables": {},
   "exception": null,
   "input_path": "__notebook__.ipynb",
   "output_path": "__notebook__.ipynb",
   "parameters": {},
   "start_time": "2025-03-04T09:26:43.536169",
   "version": "2.6.0"
  }
 },
 "nbformat": 4,
 "nbformat_minor": 5
}
