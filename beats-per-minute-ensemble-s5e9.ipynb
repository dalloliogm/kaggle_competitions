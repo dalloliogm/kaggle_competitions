{
 "cells": [
  {
   "cell_type": "code",
   "execution_count": 1,
   "id": "f49e034f",
   "metadata": {
    "_cell_guid": "b1076dfc-b9ad-4769-8c92-a6c4dae69d19",
    "_uuid": "8f2839f25d086af736a60e9eeb907d3b93b6e0e5",
    "execution": {
     "iopub.execute_input": "2025-09-25T13:29:26.963380Z",
     "iopub.status.busy": "2025-09-25T13:29:26.962994Z",
     "iopub.status.idle": "2025-09-25T13:29:29.181435Z",
     "shell.execute_reply": "2025-09-25T13:29:29.180050Z"
    },
    "papermill": {
     "duration": 2.224793,
     "end_time": "2025-09-25T13:29:29.183586",
     "exception": false,
     "start_time": "2025-09-25T13:29:26.958793",
     "status": "completed"
    },
    "tags": []
   },
   "outputs": [],
   "source": [
    "# ---------------------------\n",
    "# Import standard libraries\n",
    "# ---------------------------\n",
    "import pandas as pd"
   ]
  },
  {
   "cell_type": "code",
   "execution_count": 2,
   "id": "eaf9eb7f",
   "metadata": {
    "execution": {
     "iopub.execute_input": "2025-09-25T13:29:29.190376Z",
     "iopub.status.busy": "2025-09-25T13:29:29.189806Z",
     "iopub.status.idle": "2025-09-25T13:29:29.195055Z",
     "shell.execute_reply": "2025-09-25T13:29:29.194051Z"
    },
    "papermill": {
     "duration": 0.010306,
     "end_time": "2025-09-25T13:29:29.196718",
     "exception": false,
     "start_time": "2025-09-25T13:29:29.186412",
     "status": "completed"
    },
    "tags": []
   },
   "outputs": [],
   "source": [
    "# ====================================================\n",
    "# 🎵 Kaggle PS S5E9 - Ensemble Blender\n",
    "# ====================================================\n",
    "# This script blends multiple submissions into one final\n",
    "# ensemble submission. You can assign ANY weight values,\n",
    "# and they will be automatically normalized into valid \n",
    "# percentages (so no need to manually sum to 1).\n",
    "#\n",
    "# 📂 Sources:\n",
    "# - Best submission v69\n",
    "# - S5E9 Songs RMSE (Cage)\n",
    "# - Playground S5E9 LBRACE v1\n",
    "# - From Data to Dancefloor EDA BPM\n",
    "#\n",
    "# ⚙️ How it works:\n",
    "# 1. Read all source submissions\n",
    "# 2. Merge on \"id\"\n",
    "# 3. Normalize weights\n",
    "# 4. Compute weighted average BPM\n",
    "# 5. Save final `submission.csv`\n",
    "#\n",
    "# 🏆 Output:\n",
    "# - A blended ensemble submission ready for Kaggle upload\n",
    "# ===================================================="
   ]
  },
  {
   "cell_type": "code",
   "execution_count": 3,
   "id": "2676bde1",
   "metadata": {
    "_cell_guid": "b1076dfc-b9ad-4769-8c92-a6c4dae69d19",
    "_uuid": "8f2839f25d086af736a60e9eeb907d3b93b6e0e5",
    "execution": {
     "iopub.execute_input": "2025-09-25T13:29:29.202327Z",
     "iopub.status.busy": "2025-09-25T13:29:29.201953Z",
     "iopub.status.idle": "2025-09-25T13:29:29.626735Z",
     "shell.execute_reply": "2025-09-25T13:29:29.625745Z"
    },
    "papermill": {
     "duration": 0.429744,
     "end_time": "2025-09-25T13:29:29.628716",
     "exception": false,
     "start_time": "2025-09-25T13:29:29.198972",
     "status": "completed"
    },
    "tags": []
   },
   "outputs": [],
   "source": [
    "# ---------------------------\n",
    "# Define sources and weights\n",
    "# ---------------------------\n",
    "# Format: { \"file_path\": weight }\n",
    "sources = {\n",
    "    \"/kaggle/input/predicting-the-beats-per-minute-of-songs-vault/submission (2).csv\": 0.1,\n",
    "    \"/kaggle/input/predicting-the-beats-per-minute-of-songs-vault/submission (1).csv\": 0.7,\n",
    "    \"/kaggle/input/predicting-the-beats-per-minute-of-songs-vault/submission.csv\": 2.9,\n",
    "}\n",
    "\n",
    "# ---------------------------\n",
    "# Read and merge submissions\n",
    "# ---------------------------\n",
    "dfs = []\n",
    "for i, (src, w) in enumerate(sources.items(), start=1):\n",
    "    df = pd.read_csv(src).rename(columns={\"BeatsPerMinute\": f\"BeatsPerMinute_{i}\"})\n",
    "    dfs.append(df)\n",
    "\n",
    "# Merge on 'id'\n",
    "from functools import reduce\n",
    "df = reduce(lambda left, right: left.merge(right, on=\"id\"), dfs)"
   ]
  },
  {
   "cell_type": "code",
   "execution_count": 4,
   "id": "cf05461c",
   "metadata": {
    "execution": {
     "iopub.execute_input": "2025-09-25T13:29:29.634678Z",
     "iopub.status.busy": "2025-09-25T13:29:29.634298Z",
     "iopub.status.idle": "2025-09-25T13:29:29.639127Z",
     "shell.execute_reply": "2025-09-25T13:29:29.638097Z"
    },
    "papermill": {
     "duration": 0.009853,
     "end_time": "2025-09-25T13:29:29.640804",
     "exception": false,
     "start_time": "2025-09-25T13:29:29.630951",
     "status": "completed"
    },
    "tags": []
   },
   "outputs": [],
   "source": [
    "# ==================================================\n",
    "# ⚖️ Blend Predictions (Normalized Weights)\n",
    "# --------------------------------------------------\n",
    "# • Set any weights (no need to sum to 1)\n",
    "# • Auto-normalized into valid percentages\n",
    "# • Compute weighted BPM across 4 sources\n",
    "# =================================================="
   ]
  },
  {
   "cell_type": "code",
   "execution_count": 5,
   "id": "e0ffe17d",
   "metadata": {
    "_cell_guid": "b1076dfc-b9ad-4769-8c92-a6c4dae69d19",
    "_uuid": "8f2839f25d086af736a60e9eeb907d3b93b6e0e5",
    "execution": {
     "iopub.execute_input": "2025-09-25T13:29:29.646716Z",
     "iopub.status.busy": "2025-09-25T13:29:29.646319Z",
     "iopub.status.idle": "2025-09-25T13:29:29.685344Z",
     "shell.execute_reply": "2025-09-25T13:29:29.684376Z"
    },
    "papermill": {
     "duration": 0.044054,
     "end_time": "2025-09-25T13:29:29.687089",
     "exception": false,
     "start_time": "2025-09-25T13:29:29.643035",
     "status": "completed"
    },
    "tags": []
   },
   "outputs": [],
   "source": [
    "# ---------------------------\n",
    "# Normalize weights\n",
    "# ---------------------------\n",
    "weights = list(sources.values())\n",
    "total = sum(weights)\n",
    "norm_weights = [w / total for w in weights]\n",
    "\n",
    "# ---------------------------\n",
    "# Compute blended prediction\n",
    "# ---------------------------\n",
    "df[\"BeatsPerMinute\"] = sum(\n",
    "    norm_weights[i] * df[f\"BeatsPerMinute_{i+1}\"] for i in range(len(norm_weights))\n",
    ")\n",
    "\n",
    "# ---------------------------\n",
    "# Keep only required columns\n",
    "# ---------------------------\n",
    "final = df[[\"id\", \"BeatsPerMinute\"]]"
   ]
  },
  {
   "cell_type": "code",
   "execution_count": 6,
   "id": "5876e28a",
   "metadata": {
    "execution": {
     "iopub.execute_input": "2025-09-25T13:29:29.693368Z",
     "iopub.status.busy": "2025-09-25T13:29:29.692446Z",
     "iopub.status.idle": "2025-09-25T13:29:29.697021Z",
     "shell.execute_reply": "2025-09-25T13:29:29.696055Z"
    },
    "papermill": {
     "duration": 0.00916,
     "end_time": "2025-09-25T13:29:29.698601",
     "exception": false,
     "start_time": "2025-09-25T13:29:29.689441",
     "status": "completed"
    },
    "tags": []
   },
   "outputs": [],
   "source": [
    "# ==================================================\n",
    "# 💾 Save Final Submission\n",
    "# --------------------------------------------------\n",
    "# • Export blended results to /kaggle/working\n",
    "# • Prints normalized weights used\n",
    "# • Ready for direct Kaggle upload 🚀\n",
    "# =================================================="
   ]
  },
  {
   "cell_type": "code",
   "execution_count": 7,
   "id": "6c22faa2",
   "metadata": {
    "_cell_guid": "b1076dfc-b9ad-4769-8c92-a6c4dae69d19",
    "_uuid": "8f2839f25d086af736a60e9eeb907d3b93b6e0e5",
    "execution": {
     "iopub.execute_input": "2025-09-25T13:29:29.704398Z",
     "iopub.status.busy": "2025-09-25T13:29:29.704054Z",
     "iopub.status.idle": "2025-09-25T13:29:30.124582Z",
     "shell.execute_reply": "2025-09-25T13:29:30.123220Z"
    },
    "papermill": {
     "duration": 0.425515,
     "end_time": "2025-09-25T13:29:30.126379",
     "exception": false,
     "start_time": "2025-09-25T13:29:29.700864",
     "status": "completed"
    },
    "tags": []
   },
   "outputs": [
    {
     "name": "stdout",
     "output_type": "stream",
     "text": [
      "✅ Ensemble submission saved as submission.csv\n",
      "Final normalized weights used: {'src1': '2.70%', 'src2': '18.92%', 'src3': '78.38%'}\n"
     ]
    }
   ],
   "source": [
    "# ---------------------------\n",
    "# Save submission\n",
    "# ---------------------------\n",
    "final.to_csv(\"/kaggle/working/submission.csv\", index=False)\n",
    "print(\"✅ Ensemble submission saved as submission.csv\")\n",
    "print(\"Final normalized weights used:\", \n",
    "      {f\"src{i+1}\": f\"{w:.2%}\" for i, w in enumerate(norm_weights)})"
   ]
  }
 ],
 "metadata": {
  "kaggle": {
   "accelerator": "none",
   "dataSources": [
    {
     "databundleVersionId": 13345277,
     "sourceId": 91720,
     "sourceType": "competition"
    },
    {
     "datasetId": 8310174,
     "sourceId": 13169646,
     "sourceType": "datasetVersion"
    }
   ],
   "dockerImageVersionId": 31089,
   "isGpuEnabled": false,
   "isInternetEnabled": true,
   "language": "python",
   "sourceType": "notebook"
  },
  "kernelspec": {
   "display_name": "Python 3",
   "language": "python",
   "name": "python3"
  },
  "language_info": {
   "codemirror_mode": {
    "name": "ipython",
    "version": 3
   },
   "file_extension": ".py",
   "mimetype": "text/x-python",
   "name": "python",
   "nbconvert_exporter": "python",
   "pygments_lexer": "ipython3",
   "version": "3.11.13"
  },
  "papermill": {
   "default_parameters": {},
   "duration": 10.026943,
   "end_time": "2025-09-25T13:29:30.950833",
   "environment_variables": {},
   "exception": null,
   "input_path": "__notebook__.ipynb",
   "output_path": "__notebook__.ipynb",
   "parameters": {},
   "start_time": "2025-09-25T13:29:20.923890",
   "version": "2.6.0"
  }
 },
 "nbformat": 4,
 "nbformat_minor": 5
}
